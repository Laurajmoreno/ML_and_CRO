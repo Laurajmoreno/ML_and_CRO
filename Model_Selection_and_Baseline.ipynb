{
 "cells": [
  {
   "cell_type": "markdown",
   "id": "adverse-donna",
   "metadata": {
    "toc": true
   },
   "source": [
    "<h1>Table of Contents<span class=\"tocSkip\"></span></h1>\n",
    "<div class=\"toc\"><ul class=\"toc-item\"><li><span><a href=\"#PREPARE-DATA\" data-toc-modified-id=\"PREPARE-DATA-1\"><span class=\"toc-item-num\">1&nbsp;&nbsp;</span>PREPARE DATA</a></span><ul class=\"toc-item\"><li><span><a href=\"#DATASET\" data-toc-modified-id=\"DATASET-1.1\"><span class=\"toc-item-num\">1.1&nbsp;&nbsp;</span>DATASET</a></span></li><li><span><a href=\"#TARGET\" data-toc-modified-id=\"TARGET-1.2\"><span class=\"toc-item-num\">1.2&nbsp;&nbsp;</span>TARGET</a></span></li><li><span><a href=\"#FEATURES\" data-toc-modified-id=\"FEATURES-1.3\"><span class=\"toc-item-num\">1.3&nbsp;&nbsp;</span>FEATURES</a></span></li><li><span><a href=\"#TRAIN-TEST-SPLIT\" data-toc-modified-id=\"TRAIN-TEST-SPLIT-1.4\"><span class=\"toc-item-num\">1.4&nbsp;&nbsp;</span>TRAIN TEST SPLIT</a></span></li></ul></li><li><span><a href=\"#LOGISTIC-REGRESSION\" data-toc-modified-id=\"LOGISTIC-REGRESSION-2\"><span class=\"toc-item-num\">2&nbsp;&nbsp;</span>LOGISTIC REGRESSION</a></span><ul class=\"toc-item\"><li><span><a href=\"#TRAINING\" data-toc-modified-id=\"TRAINING-2.1\"><span class=\"toc-item-num\">2.1&nbsp;&nbsp;</span>TRAINING</a></span></li><li><span><a href=\"#TEST\" data-toc-modified-id=\"TEST-2.2\"><span class=\"toc-item-num\">2.2&nbsp;&nbsp;</span>TEST</a></span></li><li><span><a href=\"#VALIDATION\" data-toc-modified-id=\"VALIDATION-2.3\"><span class=\"toc-item-num\">2.3&nbsp;&nbsp;</span>VALIDATION</a></span></li><li><span><a href=\"#PACKING-TO-EVALUATE-OTHER-ALGORITHMS\" data-toc-modified-id=\"PACKING-TO-EVALUATE-OTHER-ALGORITHMS-2.4\"><span class=\"toc-item-num\">2.4&nbsp;&nbsp;</span>PACKING TO EVALUATE OTHER ALGORITHMS</a></span></li></ul></li><li><span><a href=\"#K-NEAREST-NEIGHBORS\" data-toc-modified-id=\"K-NEAREST-NEIGHBORS-3\"><span class=\"toc-item-num\">3&nbsp;&nbsp;</span>K-NEAREST NEIGHBORS</a></span></li><li><span><a href=\"#SUPPORT-VECTOR--MACHINE\" data-toc-modified-id=\"SUPPORT-VECTOR--MACHINE-4\"><span class=\"toc-item-num\">4&nbsp;&nbsp;</span>SUPPORT VECTOR  MACHINE</a></span></li><li><span><a href=\"#DECISION-TREE\" data-toc-modified-id=\"DECISION-TREE-5\"><span class=\"toc-item-num\">5&nbsp;&nbsp;</span>DECISION TREE</a></span></li><li><span><a href=\"#RANDOM-FOREST\" data-toc-modified-id=\"RANDOM-FOREST-6\"><span class=\"toc-item-num\">6&nbsp;&nbsp;</span>RANDOM FOREST</a></span></li><li><span><a href=\"#CONCLUSIONS\" data-toc-modified-id=\"CONCLUSIONS-7\"><span class=\"toc-item-num\">7&nbsp;&nbsp;</span>CONCLUSIONS</a></span></li></ul></div>"
   ]
  },
  {
   "cell_type": "code",
   "execution_count": 1,
   "id": "fluid-split",
   "metadata": {},
   "outputs": [],
   "source": [
    "import pandas as pd\n",
    "import numpy as np\n",
    "import matplotlib.pyplot as plt\n",
    "import seaborn as sns\n",
    "from sklearn.model_selection import train_test_split\n",
    "from sklearn.metrics import f1_score, recall_score, precision_score, roc_auc_score, roc_curve, accuracy_score\n",
    "from sklearn.metrics import confusion_matrix\n",
    "from sklearn.metrics import classification_report\n",
    "from sklearn.model_selection import cross_val_score\n",
    "%matplotlib inline\n",
    "import os"
   ]
  },
  {
   "cell_type": "markdown",
   "id": "english-russia",
   "metadata": {},
   "source": [
    "## PREPARE DATA"
   ]
  },
  {
   "cell_type": "markdown",
   "id": "defensive-northeast",
   "metadata": {},
   "source": [
    "### DATASET\n",
    "\n",
    "Mientras termino de hacer las consultas a la API de Python, empiezo a trabajar en un baseline con los datos de 2020 y enero de 2021 para las dimensiones y métricas númericas disponibles."
   ]
  },
  {
   "cell_type": "code",
   "execution_count": 2,
   "id": "advanced-buying",
   "metadata": {},
   "outputs": [
    {
     "name": "stdout",
     "output_type": "stream",
     "text": [
      "df_pDepth_Scount_daysSLS_srceMed_2019.csv\r\n",
      "df_pDepth_Scount_daysSLS_srceMed_2020.csv\r\n",
      "df_pDepth_Scount_daysSLS_srceMed_apr19.csv\r\n",
      "df_pDepth_Scount_daysSLS_srceMed_apr20.csv\r\n",
      "df_pDepth_Scount_daysSLS_srceMed_aug19.csv\r\n",
      "df_pDepth_Scount_daysSLS_srceMed_aug20.csv\r\n",
      "df_pDepth_Scount_daysSLS_srceMed_dec19.csv\r\n",
      "df_pDepth_Scount_daysSLS_srceMed_dec20.csv\r\n",
      "df_pDepth_Scount_daysSLS_srceMed_feb20.csv\r\n",
      "df_pDepth_Scount_daysSLS_srceMed_jan20.csv\r\n",
      "df_pDepth_Scount_daysSLS_srceMed_jan21.csv\r\n",
      "df_pDepth_Scount_daysSLS_srceMed_jul19.csv\r\n",
      "df_pDepth_Scount_daysSLS_srceMed_jul20.csv\r\n",
      "df_pDepth_Scount_daysSLS_srceMed_jun19.csv\r\n",
      "df_pDepth_Scount_daysSLS_srceMed_jun20.csv\r\n",
      "df_pDepth_Scount_daysSLS_srceMed_mar20.csv\r\n",
      "df_pDepth_Scount_daysSLS_srceMed_may19.csv\r\n",
      "df_pDepth_Scount_daysSLS_srceMed_may20.csv\r\n",
      "df_pDepth_Scount_daysSLS_srceMed_nov19.csv\r\n",
      "df_pDepth_Scount_daysSLS_srceMed_nov20.csv\r\n",
      "df_pDepth_Scount_daysSLS_srceMed_oct19.csv\r\n",
      "df_pDepth_Scount_daysSLS_srceMed_oct20.csv\r\n",
      "df_pDepth_Scount_daysSLS_srceMed_sep19.csv\r\n",
      "df_pDepth_Scount_daysSLS_srceMed_sep20.csv\r\n",
      "first_df_january21.csv\r\n"
     ]
    }
   ],
   "source": [
    "!ls ../data/"
   ]
  },
  {
   "cell_type": "code",
   "execution_count": 2,
   "id": "pharmaceutical-heading",
   "metadata": {},
   "outputs": [
    {
     "name": "stderr",
     "output_type": "stream",
     "text": [
      "/home/dsc/TFM/kschool_masterDS_TFM/env/lib/python3.9/site-packages/IPython/core/interactiveshell.py:3165: DtypeWarning: Columns (2) have mixed types.Specify dtype option on import or set low_memory=False.\n",
      "  has_raised = await self.run_ast_nodes(code_ast.body, cell_name,\n"
     ]
    },
    {
     "name": "stdout",
     "output_type": "stream",
     "text": [
      "(2885547, 13)\n",
      "(983598, 12)\n"
     ]
    },
    {
     "name": "stderr",
     "output_type": "stream",
     "text": [
      "/home/dsc/TFM/kschool_masterDS_TFM/env/lib/python3.9/site-packages/IPython/core/interactiveshell.py:3165: DtypeWarning: Columns (1,3,4,5,6) have mixed types.Specify dtype option on import or set low_memory=False.\n",
      "  has_raised = await self.run_ast_nodes(code_ast.body, cell_name,\n"
     ]
    }
   ],
   "source": [
    "data_root=\"../data/\"\n",
    "\n",
    "datafile_2020=os.path.join(data_root,'df_pDepth_Scount_daysSLS_srceMed_2020.csv')\n",
    "datafile_jan21=os.path.join(data_root,'df_pDepth_Scount_daysSLS_srceMed_jan21.csv')\n",
    "\n",
    "df_pDepth_Scount_daysSLS_srceMed_2020=pd.read_csv(datafile_2020)\n",
    "print(df_pDepth_Scount_daysSLS_srceMed_2020.shape)\n",
    "df_pDepth_Scount_daysSLS_srceMed_jan21=pd.read_csv(datafile_jan21)\n",
    "print(df_pDepth_Scount_daysSLS_srceMed_jan21.shape)"
   ]
  },
  {
   "cell_type": "code",
   "execution_count": 3,
   "id": "historical-origin",
   "metadata": {},
   "outputs": [
    {
     "data": {
      "text/plain": [
       "Index(['Unnamed: 0', 'Unnamed: 0.1', 'ga:productSKU', 'ga:pagePath',\n",
       "       'ga:dateHourMinute', 'ga:pageDepth', 'ga:sessionCount',\n",
       "       'ga:daysSinceLastSession', 'ga:sourceMedium', 'ga:productListViews',\n",
       "       'ga:productListClicks', 'ga:productDetailViews',\n",
       "       'ga:productAddsToCart'],\n",
       "      dtype='object')"
      ]
     },
     "execution_count": 3,
     "metadata": {},
     "output_type": "execute_result"
    }
   ],
   "source": [
    "df_pDepth_Scount_daysSLS_srceMed_2020.columns"
   ]
  },
  {
   "cell_type": "code",
   "execution_count": 4,
   "id": "fossil-doctrine",
   "metadata": {},
   "outputs": [
    {
     "data": {
      "text/plain": [
       "Index(['Unnamed: 0', 'ga:productSKU', 'ga:pagePath', 'ga:dateHourMinute',\n",
       "       'ga:pageDepth', 'ga:sessionCount', 'ga:daysSinceLastSession',\n",
       "       'ga:sourceMedium', 'ga:productListViews', 'ga:productListClicks',\n",
       "       'ga:productDetailViews', 'ga:productAddsToCart'],\n",
       "      dtype='object')"
      ]
     },
     "execution_count": 4,
     "metadata": {},
     "output_type": "execute_result"
    }
   ],
   "source": [
    "df_pDepth_Scount_daysSLS_srceMed_jan21.columns"
   ]
  },
  {
   "cell_type": "code",
   "execution_count": 6,
   "id": "thirty-craps",
   "metadata": {},
   "outputs": [
    {
     "data": {
      "text/html": [
       "<div>\n",
       "<style scoped>\n",
       "    .dataframe tbody tr th:only-of-type {\n",
       "        vertical-align: middle;\n",
       "    }\n",
       "\n",
       "    .dataframe tbody tr th {\n",
       "        vertical-align: top;\n",
       "    }\n",
       "\n",
       "    .dataframe thead th {\n",
       "        text-align: right;\n",
       "    }\n",
       "</style>\n",
       "<table border=\"1\" class=\"dataframe\">\n",
       "  <thead>\n",
       "    <tr style=\"text-align: right;\">\n",
       "      <th></th>\n",
       "      <th>Unnamed: 0</th>\n",
       "      <th>Unnamed: 0.1</th>\n",
       "      <th>ga:productSKU</th>\n",
       "      <th>ga:pagePath</th>\n",
       "      <th>ga:dateHourMinute</th>\n",
       "      <th>ga:pageDepth</th>\n",
       "      <th>ga:sessionCount</th>\n",
       "      <th>ga:daysSinceLastSession</th>\n",
       "      <th>ga:sourceMedium</th>\n",
       "      <th>ga:productListViews</th>\n",
       "      <th>ga:productListClicks</th>\n",
       "      <th>ga:productDetailViews</th>\n",
       "      <th>ga:productAddsToCart</th>\n",
       "    </tr>\n",
       "  </thead>\n",
       "  <tbody>\n",
       "    <tr>\n",
       "      <th>0</th>\n",
       "      <td>0</td>\n",
       "      <td>0</td>\n",
       "      <td>1000</td>\n",
       "      <td>/parafarmacia/es/1000-heliocare-360-pediatrics...</td>\n",
       "      <td>202001141125</td>\n",
       "      <td>12</td>\n",
       "      <td>407</td>\n",
       "      <td>0</td>\n",
       "      <td>google / organic</td>\n",
       "      <td>0</td>\n",
       "      <td>1</td>\n",
       "      <td>1</td>\n",
       "      <td>0</td>\n",
       "    </tr>\n",
       "    <tr>\n",
       "      <th>1</th>\n",
       "      <td>1</td>\n",
       "      <td>1</td>\n",
       "      <td>1000</td>\n",
       "      <td>/parafarmacia/es/1000-heliocare-360-pediatrics...</td>\n",
       "      <td>202001141345</td>\n",
       "      <td>5</td>\n",
       "      <td>3</td>\n",
       "      <td>0</td>\n",
       "      <td>(direct) / (none)</td>\n",
       "      <td>0</td>\n",
       "      <td>0</td>\n",
       "      <td>1</td>\n",
       "      <td>0</td>\n",
       "    </tr>\n",
       "    <tr>\n",
       "      <th>2</th>\n",
       "      <td>2</td>\n",
       "      <td>2</td>\n",
       "      <td>1001</td>\n",
       "      <td>/parafarmacia/es/1001-heliocare-caps-60-caps.html</td>\n",
       "      <td>202001080932</td>\n",
       "      <td>6</td>\n",
       "      <td>3</td>\n",
       "      <td>19</td>\n",
       "      <td>google / organic</td>\n",
       "      <td>0</td>\n",
       "      <td>1</td>\n",
       "      <td>1</td>\n",
       "      <td>0</td>\n",
       "    </tr>\n",
       "    <tr>\n",
       "      <th>3</th>\n",
       "      <td>3</td>\n",
       "      <td>3</td>\n",
       "      <td>1002</td>\n",
       "      <td>/parafarmacia/es/147-champus</td>\n",
       "      <td>202001161511</td>\n",
       "      <td>14</td>\n",
       "      <td>1</td>\n",
       "      <td>0</td>\n",
       "      <td>google / cpc</td>\n",
       "      <td>2</td>\n",
       "      <td>0</td>\n",
       "      <td>0</td>\n",
       "      <td>0</td>\n",
       "    </tr>\n",
       "    <tr>\n",
       "      <th>4</th>\n",
       "      <td>4</td>\n",
       "      <td>4</td>\n",
       "      <td>1002</td>\n",
       "      <td>/parafarmacia/es/147-champus</td>\n",
       "      <td>202001162342</td>\n",
       "      <td>14</td>\n",
       "      <td>3</td>\n",
       "      <td>0</td>\n",
       "      <td>google / cpc</td>\n",
       "      <td>1</td>\n",
       "      <td>0</td>\n",
       "      <td>0</td>\n",
       "      <td>0</td>\n",
       "    </tr>\n",
       "  </tbody>\n",
       "</table>\n",
       "</div>"
      ],
      "text/plain": [
       "   Unnamed: 0  Unnamed: 0.1 ga:productSKU  \\\n",
       "0           0             0          1000   \n",
       "1           1             1          1000   \n",
       "2           2             2          1001   \n",
       "3           3             3          1002   \n",
       "4           4             4          1002   \n",
       "\n",
       "                                         ga:pagePath  ga:dateHourMinute  \\\n",
       "0  /parafarmacia/es/1000-heliocare-360-pediatrics...       202001141125   \n",
       "1  /parafarmacia/es/1000-heliocare-360-pediatrics...       202001141345   \n",
       "2  /parafarmacia/es/1001-heliocare-caps-60-caps.html       202001080932   \n",
       "3                       /parafarmacia/es/147-champus       202001161511   \n",
       "4                       /parafarmacia/es/147-champus       202001162342   \n",
       "\n",
       "   ga:pageDepth  ga:sessionCount  ga:daysSinceLastSession    ga:sourceMedium  \\\n",
       "0            12              407                        0   google / organic   \n",
       "1             5                3                        0  (direct) / (none)   \n",
       "2             6                3                       19   google / organic   \n",
       "3            14                1                        0       google / cpc   \n",
       "4            14                3                        0       google / cpc   \n",
       "\n",
       "   ga:productListViews  ga:productListClicks  ga:productDetailViews  \\\n",
       "0                    0                     1                      1   \n",
       "1                    0                     0                      1   \n",
       "2                    0                     1                      1   \n",
       "3                    2                     0                      0   \n",
       "4                    1                     0                      0   \n",
       "\n",
       "   ga:productAddsToCart  \n",
       "0                     0  \n",
       "1                     0  \n",
       "2                     0  \n",
       "3                     0  \n",
       "4                     0  "
      ]
     },
     "execution_count": 6,
     "metadata": {},
     "output_type": "execute_result"
    }
   ],
   "source": [
    "df_pDepth_Scount_daysSLS_srceMed_2020.head()"
   ]
  },
  {
   "cell_type": "code",
   "execution_count": 7,
   "id": "dynamic-dance",
   "metadata": {},
   "outputs": [
    {
     "data": {
      "text/plain": [
       "(2885547, 11)"
      ]
     },
     "execution_count": 7,
     "metadata": {},
     "output_type": "execute_result"
    }
   ],
   "source": [
    "df_pDepth_Scount_daysSLS_srceMed_2020.drop(['Unnamed: 0','Unnamed: 0.1'], axis=1, inplace=True)\n",
    "df_pDepth_Scount_daysSLS_srceMed_2020.shape"
   ]
  },
  {
   "cell_type": "code",
   "execution_count": 8,
   "id": "supported-diagram",
   "metadata": {},
   "outputs": [
    {
     "data": {
      "text/plain": [
       "(983598, 11)"
      ]
     },
     "execution_count": 8,
     "metadata": {},
     "output_type": "execute_result"
    }
   ],
   "source": [
    "df_pDepth_Scount_daysSLS_srceMed_jan21.drop('Unnamed: 0', axis=1, inplace=True)\n",
    "df_pDepth_Scount_daysSLS_srceMed_jan21.shape"
   ]
  },
  {
   "cell_type": "code",
   "execution_count": 9,
   "id": "split-match",
   "metadata": {},
   "outputs": [
    {
     "data": {
      "text/plain": [
       "(3869145, 11)"
      ]
     },
     "execution_count": 9,
     "metadata": {},
     "output_type": "execute_result"
    }
   ],
   "source": [
    "df_mvp = pd.concat([df_pDepth_Scount_daysSLS_srceMed_2020,df_pDepth_Scount_daysSLS_srceMed_jan21])\n",
    "df_mvp.shape"
   ]
  },
  {
   "cell_type": "code",
   "execution_count": 10,
   "id": "moral-northern",
   "metadata": {},
   "outputs": [
    {
     "name": "stdout",
     "output_type": "stream",
     "text": [
      "<class 'pandas.core.frame.DataFrame'>\n",
      "Int64Index: 3869145 entries, 0 to 983597\n",
      "Data columns (total 11 columns):\n",
      " #   Column                   Dtype \n",
      "---  ------                   ----- \n",
      " 0   ga:productSKU            object\n",
      " 1   ga:pagePath              object\n",
      " 2   ga:dateHourMinute        object\n",
      " 3   ga:pageDepth             object\n",
      " 4   ga:sessionCount          object\n",
      " 5   ga:daysSinceLastSession  object\n",
      " 6   ga:sourceMedium          object\n",
      " 7   ga:productListViews      int64 \n",
      " 8   ga:productListClicks     int64 \n",
      " 9   ga:productDetailViews    int64 \n",
      " 10  ga:productAddsToCart     int64 \n",
      "dtypes: int64(4), object(7)\n",
      "memory usage: 354.2+ MB\n"
     ]
    }
   ],
   "source": [
    "df_mvp.info()"
   ]
  },
  {
   "cell_type": "code",
   "execution_count": 11,
   "id": "asian-columbia",
   "metadata": {},
   "outputs": [
    {
     "ename": "ValueError",
     "evalue": "Unable to parse string \"(other)\" at position 2885547",
     "output_type": "error",
     "traceback": [
      "\u001b[0;31m---------------------------------------------------------------------------\u001b[0m",
      "\u001b[0;31mValueError\u001b[0m                                Traceback (most recent call last)",
      "\u001b[0;32mpandas/_libs/lib.pyx\u001b[0m in \u001b[0;36mpandas._libs.lib.maybe_convert_numeric\u001b[0;34m()\u001b[0m\n",
      "\u001b[0;31mValueError\u001b[0m: Unable to parse string \"(other)\"",
      "\nDuring handling of the above exception, another exception occurred:\n",
      "\u001b[0;31mValueError\u001b[0m                                Traceback (most recent call last)",
      "\u001b[0;32m<ipython-input-11-0a4516cb7e03>\u001b[0m in \u001b[0;36m<module>\u001b[0;34m\u001b[0m\n\u001b[0;32m----> 1\u001b[0;31m \u001b[0mdf_mvp\u001b[0m\u001b[0;34m[\u001b[0m\u001b[0;34m\"ga:pageDepth\"\u001b[0m\u001b[0;34m]\u001b[0m\u001b[0;34m=\u001b[0m\u001b[0mpd\u001b[0m\u001b[0;34m.\u001b[0m\u001b[0mto_numeric\u001b[0m\u001b[0;34m(\u001b[0m\u001b[0mdf_mvp\u001b[0m\u001b[0;34m[\u001b[0m\u001b[0;34m\"ga:pageDepth\"\u001b[0m\u001b[0;34m]\u001b[0m\u001b[0;34m)\u001b[0m\u001b[0;34m\u001b[0m\u001b[0;34m\u001b[0m\u001b[0m\n\u001b[0m\u001b[1;32m      2\u001b[0m \u001b[0mdf_mvp\u001b[0m\u001b[0;34m[\u001b[0m\u001b[0;34m\"ga:sessionCount\"\u001b[0m\u001b[0;34m]\u001b[0m\u001b[0;34m=\u001b[0m\u001b[0mpd\u001b[0m\u001b[0;34m.\u001b[0m\u001b[0mto_numeric\u001b[0m\u001b[0;34m(\u001b[0m\u001b[0mdf_mvp\u001b[0m\u001b[0;34m[\u001b[0m\u001b[0;34m\"ga:sessionCount\"\u001b[0m\u001b[0;34m]\u001b[0m\u001b[0;34m)\u001b[0m\u001b[0;34m\u001b[0m\u001b[0;34m\u001b[0m\u001b[0m\n\u001b[1;32m      3\u001b[0m \u001b[0mdf_mvp\u001b[0m\u001b[0;34m[\u001b[0m\u001b[0;34m\"ga:daysSinceLastSession\"\u001b[0m\u001b[0;34m]\u001b[0m\u001b[0;34m=\u001b[0m\u001b[0mpd\u001b[0m\u001b[0;34m.\u001b[0m\u001b[0mto_numeric\u001b[0m\u001b[0;34m(\u001b[0m\u001b[0mdf_mvp\u001b[0m\u001b[0;34m[\u001b[0m\u001b[0;34m\"ga:daysSinceLastSession\"\u001b[0m\u001b[0;34m]\u001b[0m\u001b[0;34m)\u001b[0m\u001b[0;34m\u001b[0m\u001b[0;34m\u001b[0m\u001b[0m\n",
      "\u001b[0;32m~/TFM/kschool_masterDS_TFM/env/lib/python3.9/site-packages/pandas/core/tools/numeric.py\u001b[0m in \u001b[0;36mto_numeric\u001b[0;34m(arg, errors, downcast)\u001b[0m\n\u001b[1;32m    152\u001b[0m         \u001b[0mcoerce_numeric\u001b[0m \u001b[0;34m=\u001b[0m \u001b[0merrors\u001b[0m \u001b[0;32mnot\u001b[0m \u001b[0;32min\u001b[0m \u001b[0;34m(\u001b[0m\u001b[0;34m\"ignore\"\u001b[0m\u001b[0;34m,\u001b[0m \u001b[0;34m\"raise\"\u001b[0m\u001b[0;34m)\u001b[0m\u001b[0;34m\u001b[0m\u001b[0;34m\u001b[0m\u001b[0m\n\u001b[1;32m    153\u001b[0m         \u001b[0;32mtry\u001b[0m\u001b[0;34m:\u001b[0m\u001b[0;34m\u001b[0m\u001b[0;34m\u001b[0m\u001b[0m\n\u001b[0;32m--> 154\u001b[0;31m             values = lib.maybe_convert_numeric(\n\u001b[0m\u001b[1;32m    155\u001b[0m                 \u001b[0mvalues\u001b[0m\u001b[0;34m,\u001b[0m \u001b[0mset\u001b[0m\u001b[0;34m(\u001b[0m\u001b[0;34m)\u001b[0m\u001b[0;34m,\u001b[0m \u001b[0mcoerce_numeric\u001b[0m\u001b[0;34m=\u001b[0m\u001b[0mcoerce_numeric\u001b[0m\u001b[0;34m\u001b[0m\u001b[0;34m\u001b[0m\u001b[0m\n\u001b[1;32m    156\u001b[0m             )\n",
      "\u001b[0;32mpandas/_libs/lib.pyx\u001b[0m in \u001b[0;36mpandas._libs.lib.maybe_convert_numeric\u001b[0;34m()\u001b[0m\n",
      "\u001b[0;31mValueError\u001b[0m: Unable to parse string \"(other)\" at position 2885547"
     ]
    }
   ],
   "source": [
    "df_mvp[\"ga:pageDepth\"]=pd.to_numeric(df_mvp[\"ga:pageDepth\"])\n",
    "df_mvp[\"ga:sessionCount\"]=pd.to_numeric(df_mvp[\"ga:sessionCount\"])\n",
    "df_mvp[\"ga:daysSinceLastSession\"]=pd.to_numeric(df_mvp[\"ga:daysSinceLastSession\"])"
   ]
  },
  {
   "cell_type": "code",
   "execution_count": 12,
   "id": "modular-collection",
   "metadata": {},
   "outputs": [
    {
     "data": {
      "text/plain": [
       "ga:productSKU              (other)\n",
       "ga:pagePath                (other)\n",
       "ga:dateHourMinute          (other)\n",
       "ga:pageDepth               (other)\n",
       "ga:sessionCount            (other)\n",
       "ga:daysSinceLastSession    (other)\n",
       "ga:sourceMedium            (other)\n",
       "ga:productListViews          53386\n",
       "ga:productListClicks           215\n",
       "ga:productDetailViews         3050\n",
       "ga:productAddsToCart           265\n",
       "Name: 0, dtype: object"
      ]
     },
     "execution_count": 12,
     "metadata": {},
     "output_type": "execute_result"
    }
   ],
   "source": [
    "df_mvp.iloc[2885547]"
   ]
  },
  {
   "cell_type": "code",
   "execution_count": 15,
   "id": "warming-portland",
   "metadata": {},
   "outputs": [],
   "source": [
    "df_mvp.drop(df_mvp.index[2885547], inplace=True)"
   ]
  },
  {
   "cell_type": "code",
   "execution_count": 16,
   "id": "declared-cincinnati",
   "metadata": {},
   "outputs": [],
   "source": [
    "df_mvp[\"ga:pageDepth\"]=pd.to_numeric(df_mvp[\"ga:pageDepth\"])\n",
    "df_mvp[\"ga:sessionCount\"]=pd.to_numeric(df_mvp[\"ga:sessionCount\"])\n",
    "df_mvp[\"ga:daysSinceLastSession\"]=pd.to_numeric(df_mvp[\"ga:daysSinceLastSession\"])"
   ]
  },
  {
   "cell_type": "code",
   "execution_count": 17,
   "id": "developed-property",
   "metadata": {},
   "outputs": [
    {
     "data": {
      "text/plain": [
       "ga:productSKU              object\n",
       "ga:pagePath                object\n",
       "ga:dateHourMinute          object\n",
       "ga:pageDepth                int64\n",
       "ga:sessionCount             int64\n",
       "ga:daysSinceLastSession     int64\n",
       "ga:sourceMedium            object\n",
       "ga:productListViews         int64\n",
       "ga:productListClicks        int64\n",
       "ga:productDetailViews       int64\n",
       "ga:productAddsToCart        int64\n",
       "dtype: object"
      ]
     },
     "execution_count": 17,
     "metadata": {},
     "output_type": "execute_result"
    }
   ],
   "source": [
    "df_mvp.dtypes"
   ]
  },
  {
   "cell_type": "code",
   "execution_count": 18,
   "id": "intensive-opinion",
   "metadata": {},
   "outputs": [
    {
     "data": {
      "text/plain": [
       "Index(['ga:pageDepth', 'ga:sessionCount', 'ga:daysSinceLastSession',\n",
       "       'ga:productListViews', 'ga:productListClicks', 'ga:productDetailViews',\n",
       "       'ga:productAddsToCart'],\n",
       "      dtype='object')"
      ]
     },
     "execution_count": 18,
     "metadata": {},
     "output_type": "execute_result"
    }
   ],
   "source": [
    "data = df_mvp.select_dtypes('number')\n",
    "data.columns"
   ]
  },
  {
   "cell_type": "markdown",
   "id": "threatened-execution",
   "metadata": {},
   "source": [
    "### TARGET"
   ]
  },
  {
   "cell_type": "code",
   "execution_count": 19,
   "id": "future-auditor",
   "metadata": {},
   "outputs": [
    {
     "data": {
      "text/plain": [
       "0     3804874\n",
       "1       63465\n",
       "2         650\n",
       "3          75\n",
       "4          29\n",
       "5          20\n",
       "6          10\n",
       "7           9\n",
       "8           2\n",
       "9           2\n",
       "11          2\n",
       "12          2\n",
       "10          1\n",
       "13          1\n",
       "24          1\n",
       "Name: ga:productAddsToCart, dtype: int64"
      ]
     },
     "execution_count": 19,
     "metadata": {},
     "output_type": "execute_result"
    }
   ],
   "source": [
    "data[\"ga:productAddsToCart\"].value_counts()"
   ]
  },
  {
   "cell_type": "code",
   "execution_count": 20,
   "id": "saved-occasion",
   "metadata": {},
   "outputs": [
    {
     "name": "stderr",
     "output_type": "stream",
     "text": [
      "<ipython-input-20-362db5b4b282>:1: SettingWithCopyWarning: \n",
      "A value is trying to be set on a copy of a slice from a DataFrame.\n",
      "Try using .loc[row_indexer,col_indexer] = value instead\n",
      "\n",
      "See the caveats in the documentation: https://pandas.pydata.org/pandas-docs/stable/user_guide/indexing.html#returning-a-view-versus-a-copy\n",
      "  data[\"ga:productAddsToCart_fast_transf\"]=data[\"ga:productAddsToCart\"].apply(lambda x: 1 if x>1 else x)\n"
     ]
    }
   ],
   "source": [
    "data[\"ga:productAddsToCart_fast_transf\"]=data[\"ga:productAddsToCart\"].apply(lambda x: 1 if x>1 else x)"
   ]
  },
  {
   "cell_type": "code",
   "execution_count": 21,
   "id": "economic-island",
   "metadata": {},
   "outputs": [
    {
     "data": {
      "text/plain": [
       "0    3804874\n",
       "1      64269\n",
       "Name: ga:productAddsToCart_fast_transf, dtype: int64"
      ]
     },
     "execution_count": 21,
     "metadata": {},
     "output_type": "execute_result"
    }
   ],
   "source": [
    "data[\"ga:productAddsToCart_fast_transf\"].value_counts()"
   ]
  },
  {
   "cell_type": "code",
   "execution_count": 22,
   "id": "contained-korean",
   "metadata": {},
   "outputs": [],
   "source": [
    "y = data['ga:productAddsToCart_fast_transf']"
   ]
  },
  {
   "cell_type": "markdown",
   "id": "included-liechtenstein",
   "metadata": {},
   "source": [
    "### FEATURES"
   ]
  },
  {
   "cell_type": "code",
   "execution_count": 23,
   "id": "fundamental-wrong",
   "metadata": {},
   "outputs": [
    {
     "data": {
      "text/plain": [
       "Index(['ga:pageDepth', 'ga:sessionCount', 'ga:daysSinceLastSession',\n",
       "       'ga:productListViews', 'ga:productListClicks', 'ga:productDetailViews'],\n",
       "      dtype='object')"
      ]
     },
     "execution_count": 23,
     "metadata": {},
     "output_type": "execute_result"
    }
   ],
   "source": [
    "X = data[data.columns[0:-2]]\n",
    "X.columns"
   ]
  },
  {
   "cell_type": "markdown",
   "id": "tight-voluntary",
   "metadata": {},
   "source": [
    "### TRAIN TEST SPLIT"
   ]
  },
  {
   "cell_type": "code",
   "execution_count": 24,
   "id": "turkish-tribune",
   "metadata": {},
   "outputs": [
    {
     "data": {
      "text/plain": [
       "((2901857, 6), (967286, 6))"
      ]
     },
     "execution_count": 24,
     "metadata": {},
     "output_type": "execute_result"
    }
   ],
   "source": [
    "X_train, X_test, y_train, y_test = train_test_split(X, y,random_state=42)\n",
    "X_train.shape, X_test.shape\n",
    "\n",
    "#I have included random_state param in order to warranty replicability"
   ]
  },
  {
   "cell_type": "markdown",
   "id": "danish-ecuador",
   "metadata": {},
   "source": [
    "## LOGISTIC REGRESSION"
   ]
  },
  {
   "cell_type": "markdown",
   "id": "veterinary-cuisine",
   "metadata": {},
   "source": [
    "### TRAINING"
   ]
  },
  {
   "cell_type": "code",
   "execution_count": 14,
   "id": "favorite-grill",
   "metadata": {},
   "outputs": [
    {
     "data": {
      "text/plain": [
       "LogisticRegression()"
      ]
     },
     "execution_count": 14,
     "metadata": {},
     "output_type": "execute_result"
    }
   ],
   "source": [
    "from sklearn.linear_model import LogisticRegression\n",
    "clfl=LogisticRegression()\n",
    "clfl.fit(X_train,y_train)"
   ]
  },
  {
   "cell_type": "code",
   "execution_count": 15,
   "id": "realistic-middle",
   "metadata": {},
   "outputs": [
    {
     "data": {
      "text/plain": [
       "0.9940669026764586"
      ]
     },
     "execution_count": 15,
     "metadata": {},
     "output_type": "execute_result"
    }
   ],
   "source": [
    "clfl.score(X_train,y_train)"
   ]
  },
  {
   "cell_type": "markdown",
   "id": "alien-command",
   "metadata": {},
   "source": [
    "### TEST"
   ]
  },
  {
   "cell_type": "code",
   "execution_count": 16,
   "id": "vietnamese-ethnic",
   "metadata": {},
   "outputs": [],
   "source": [
    "predictions = clfl.predict(X_test)\n",
    "probabilities = clfl.predict_proba(X_test)"
   ]
  },
  {
   "cell_type": "code",
   "execution_count": 17,
   "id": "ceramic-paint",
   "metadata": {},
   "outputs": [
    {
     "data": {
      "text/plain": [
       "array([[9.99997711e-01, 2.28901438e-06],\n",
       "       [9.98993057e-01, 1.00694326e-03],\n",
       "       [9.98676511e-01, 1.32348855e-03],\n",
       "       ...,\n",
       "       [9.99829768e-01, 1.70232490e-04],\n",
       "       [9.98297792e-01, 1.70220755e-03],\n",
       "       [9.99162310e-01, 8.37690269e-04]])"
      ]
     },
     "execution_count": 17,
     "metadata": {},
     "output_type": "execute_result"
    }
   ],
   "source": [
    "probabilities"
   ]
  },
  {
   "cell_type": "code",
   "execution_count": 18,
   "id": "saved-complexity",
   "metadata": {},
   "outputs": [
    {
     "name": "stdout",
     "output_type": "stream",
     "text": [
      "ACCURACY: 0.9940482959538337\n",
      "PRECISION: 0.9954404346138921\n",
      "RECALL: 0.6424769895435477\n",
      "F1 SCORE: 0.780927736976293\n",
      "AUC: 0.9264391652120458\n"
     ]
    },
    {
     "data": {
      "text/plain": [
       "Text(0, 0.5, 'tpr')"
      ]
     },
     "execution_count": 18,
     "metadata": {},
     "output_type": "execute_result"
    },
    {
     "data": {
      "image/png": "[encoded data removed]",
      "text/plain": [
       "<Figure size 432x288 with 1 Axes>"
      ]
     },
     "metadata": {
      "needs_background": "light"
     },
     "output_type": "display_data"
    }
   ],
   "source": [
    "from sklearn.metrics import f1_score, recall_score, precision_score, roc_auc_score, roc_curve, accuracy_score\n",
    "\n",
    "print(\"ACCURACY: \" + str(accuracy_score(y_test, predictions)))\n",
    "print(\"PRECISION: \" + str(precision_score(y_test, predictions)))\n",
    "print(\"RECALL: \" + str(recall_score(y_test, predictions)))\n",
    "print(\"F1 SCORE: \" + str(f1_score(y_test, predictions)))\n",
    "print(\"AUC: \" + str(roc_auc_score(y_test,probabilities[:, 1])))\n",
    "\n",
    "tpr, fpr, thresolds = roc_curve(y_test, probabilities[:, 1])\n",
    "plt.plot(tpr, fpr)\n",
    "plt.xlabel('fpr')\n",
    "plt.ylabel('tpr')"
   ]
  },
  {
   "cell_type": "code",
   "execution_count": 19,
   "id": "increased-gather",
   "metadata": {},
   "outputs": [
    {
     "data": {
      "text/plain": [
       "array([[951268,     47],\n",
       "       [  5710,  10261]])"
      ]
     },
     "execution_count": 19,
     "metadata": {},
     "output_type": "execute_result"
    }
   ],
   "source": [
    "from sklearn.metrics import confusion_matrix\n",
    "\n",
    "clfl_cm = confusion_matrix(y_test,predictions)\n",
    "clfl_cm"
   ]
  },
  {
   "cell_type": "code",
   "execution_count": 20,
   "id": "stuffed-clone",
   "metadata": {},
   "outputs": [
    {
     "data": {
      "text/plain": [
       "<AxesSubplot:>"
      ]
     },
     "execution_count": 20,
     "metadata": {},
     "output_type": "execute_result"
    },
    {
     "data": {
      "image/png": "[encoded data removed]",
      "text/plain": [
       "<Figure size 432x288 with 2 Axes>"
      ]
     },
     "metadata": {
      "needs_background": "light"
     },
     "output_type": "display_data"
    }
   ],
   "source": [
    "sns.heatmap(clfl_cm)"
   ]
  },
  {
   "cell_type": "code",
   "execution_count": 21,
   "id": "classical-crisis",
   "metadata": {},
   "outputs": [
    {
     "name": "stdout",
     "output_type": "stream",
     "text": [
      "              precision    recall  f1-score   support\n",
      "\n",
      "           0       0.99      1.00      1.00    951315\n",
      "           1       1.00      0.64      0.78     15971\n",
      "\n",
      "    accuracy                           0.99    967286\n",
      "   macro avg       0.99      0.82      0.89    967286\n",
      "weighted avg       0.99      0.99      0.99    967286\n",
      "\n"
     ]
    }
   ],
   "source": [
    "from sklearn.metrics import classification_report\n",
    "print(classification_report(y_test, clfl.predict(X_test)))"
   ]
  },
  {
   "cell_type": "markdown",
   "id": "innocent-greensboro",
   "metadata": {},
   "source": [
    "Esta primera regresión Logística está dando buenos resultados en general. Sin embargo, su principal punto débil son los Falsos Negativos tal y como nos indica la métrica Recall. De cara a la toma de decisiones, esto puede suponer costes de oportunidad muy elevados, por estar omitiendo del modelo algunos usuarios con potencial de convertir."
   ]
  },
  {
   "cell_type": "markdown",
   "id": "practical-formation",
   "metadata": {},
   "source": [
    "### VALIDATION"
   ]
  },
  {
   "cell_type": "code",
   "execution_count": 22,
   "id": "gross-elite",
   "metadata": {},
   "outputs": [
    {
     "name": "stderr",
     "output_type": "stream",
     "text": [
      "/home/dsc/TFM/kschool_masterDS_TFM/env/lib/python3.9/site-packages/sklearn/linear_model/_logistic.py:762: ConvergenceWarning: lbfgs failed to converge (status=1):\n",
      "STOP: TOTAL NO. of ITERATIONS REACHED LIMIT.\n",
      "\n",
      "Increase the number of iterations (max_iter) or scale the data as shown in:\n",
      "    https://scikit-learn.org/stable/modules/preprocessing.html\n",
      "Please also refer to the documentation for alternative solver options:\n",
      "    https://scikit-learn.org/stable/modules/linear_model.html#logistic-regression\n",
      "  n_iter_i = _check_optimize_result(\n"
     ]
    }
   ],
   "source": [
    "from sklearn.model_selection import cross_val_score\n",
    "crossval_scores=cross_val_score(clfl,X,y,scoring='recall')"
   ]
  },
  {
   "cell_type": "code",
   "execution_count": 23,
   "id": "collect-bench",
   "metadata": {},
   "outputs": [
    {
     "data": {
      "text/plain": [
       "array([0.99844406, 0.99502101, 0.6578497 , 0.26810861, 0.30597479])"
      ]
     },
     "execution_count": 23,
     "metadata": {},
     "output_type": "execute_result"
    }
   ],
   "source": [
    "crossval_scores"
   ]
  },
  {
   "cell_type": "code",
   "execution_count": 24,
   "id": "greater-bolivia",
   "metadata": {},
   "outputs": [
    {
     "data": {
      "text/plain": [
       "0.6450796344890739"
      ]
     },
     "execution_count": 24,
     "metadata": {},
     "output_type": "execute_result"
    }
   ],
   "source": [
    "crossval_scores.mean()"
   ]
  },
  {
   "cell_type": "code",
   "execution_count": 25,
   "id": "utility-corrections",
   "metadata": {},
   "outputs": [
    {
     "data": {
      "text/plain": [
       "(array([2., 0., 0., 0., 0., 1., 0., 0., 0., 2.]),\n",
       " array([0.26810861, 0.34114216, 0.4141757 , 0.48720925, 0.56024279,\n",
       "        0.63327634, 0.70630988, 0.77934343, 0.85237697, 0.92541052,\n",
       "        0.99844406]),\n",
       " <BarContainer object of 10 artists>)"
      ]
     },
     "execution_count": 25,
     "metadata": {},
     "output_type": "execute_result"
    },
    {
     "data": {
      "image/png": "[encoded data removed]",
      "text/plain": [
       "<Figure size 432x288 with 1 Axes>"
      ]
     },
     "metadata": {
      "needs_background": "light"
     },
     "output_type": "display_data"
    }
   ],
   "source": [
    "plt.hist(crossval_scores)"
   ]
  },
  {
   "cell_type": "markdown",
   "id": "accredited-second",
   "metadata": {},
   "source": [
    "El resultado medio de recall en la validación es similar aunque observamos 2 iteraciones en las que el recall es muy elevado, otras 2 donde es muy bajo y una última donde tenemos 66% de True Positives sobre el total de positivos reales. "
   ]
  },
  {
   "cell_type": "markdown",
   "id": "packed-finland",
   "metadata": {},
   "source": [
    "### PACKING TO EVALUATE OTHER ALGORITHMS"
   ]
  },
  {
   "cell_type": "code",
   "execution_count": 25,
   "id": "signal-train",
   "metadata": {},
   "outputs": [],
   "source": [
    "def evaluate(classifier,features,target):\n",
    "    X_train, X_test, y_train, y_test = train_test_split(features, target,random_state=42)\n",
    "    classifier.fit(X_train,y_train)\n",
    "    predictions = classifier.predict(X_test)\n",
    "    probabilities = classifier.predict_proba(X_test)\n",
    "    print(\"TRAINING SCORE: \" + str(classifier.score(X_train,y_train)))\n",
    "    print(\"ACCURACY: \" + str(accuracy_score(y_test, predictions)))\n",
    "    print(\"PRECISION: \" + str(precision_score(y_test, predictions)))\n",
    "    print(\"RECALL: \" + str(recall_score(y_test, predictions)))\n",
    "    print(\"F1 SCORE: \" + str(f1_score(y_test, predictions)))\n",
    "    print(\"AUC: \" + str(roc_auc_score(y_test,probabilities[:, 1])))\n",
    "\n",
    "    tpr, fpr, thresolds = roc_curve(y_test, probabilities[:, 1])\n",
    "    plt.plot(tpr, fpr)\n",
    "    plt.xlabel('fpr')\n",
    "    plt.ylabel('tpr')"
   ]
  },
  {
   "cell_type": "code",
   "execution_count": 65,
   "id": "smoking-differential",
   "metadata": {},
   "outputs": [
    {
     "name": "stdout",
     "output_type": "stream",
     "text": [
      "TRAINING SCORE0.9940669026764586\n",
      "ACCURACY: 0.9940482959538337\n",
      "PRECISION: 0.9954404346138921\n",
      "RECALL: 0.6424769895435477\n",
      "F1 SCORE: 0.780927736976293\n",
      "AUC: 0.9264391652120458\n"
     ]
    },
    {
     "data": {
      "image/png": "[encoded data removed]",
      "text/plain": [
       "<Figure size 432x288 with 1 Axes>"
      ]
     },
     "metadata": {
      "needs_background": "light"
     },
     "output_type": "display_data"
    }
   ],
   "source": [
    "evaluate(clfl,X,y)"
   ]
  },
  {
   "cell_type": "code",
   "execution_count": 26,
   "id": "anonymous-excellence",
   "metadata": {},
   "outputs": [],
   "source": [
    "def validation(classifier,features,target,metric=\"recall\",cv=5):\n",
    "    crossval_scores=cross_val_score(classifier,features,target,scoring=metric)\n",
    "    print(\"Score per iteration: \" + str(crossval_scores))\n",
    "    print(\"Mean: \" + str(crossval_scores.mean()))\n",
    "    plt.hist(crossval_scores) "
   ]
  },
  {
   "cell_type": "code",
   "execution_count": 73,
   "id": "unable-cisco",
   "metadata": {},
   "outputs": [
    {
     "name": "stderr",
     "output_type": "stream",
     "text": [
      "/home/dsc/TFM/kschool_masterDS_TFM/env/lib/python3.9/site-packages/sklearn/linear_model/_logistic.py:762: ConvergenceWarning: lbfgs failed to converge (status=1):\n",
      "STOP: TOTAL NO. of ITERATIONS REACHED LIMIT.\n",
      "\n",
      "Increase the number of iterations (max_iter) or scale the data as shown in:\n",
      "    https://scikit-learn.org/stable/modules/preprocessing.html\n",
      "Please also refer to the documentation for alternative solver options:\n",
      "    https://scikit-learn.org/stable/modules/linear_model.html#logistic-regression\n",
      "  n_iter_i = _check_optimize_result(\n"
     ]
    },
    {
     "name": "stdout",
     "output_type": "stream",
     "text": [
      "Score per iteration: [0.99844406 0.99502101 0.6578497  0.26810861 0.30597479]\n",
      "Mean: 0.6450796344890739\n"
     ]
    },
    {
     "data": {
      "image/png": "[encoded data removed]",
      "text/plain": [
       "<Figure size 432x288 with 1 Axes>"
      ]
     },
     "metadata": {
      "needs_background": "light"
     },
     "output_type": "display_data"
    }
   ],
   "source": [
    "validation(clfl,X,y,\"recall\")"
   ]
  },
  {
   "cell_type": "markdown",
   "id": "beginning-funds",
   "metadata": {},
   "source": [
    "## K-NEAREST NEIGHBORS"
   ]
  },
  {
   "cell_type": "code",
   "execution_count": 35,
   "id": "noted-album",
   "metadata": {},
   "outputs": [
    {
     "name": "stdout",
     "output_type": "stream",
     "text": [
      "TRAINING SCORE: 0.993391473115319\n",
      "ACCURACY: 0.992484125687749\n",
      "PRECISION: 0.9560750602788552\n",
      "RECALL: 0.5710350009392023\n",
      "F1 SCORE: 0.7150137201097609\n",
      "AUC: 0.8511616391987036\n"
     ]
    },
    {
     "data": {
      "image/png": "[encoded data removed]",
      "text/plain": [
       "<Figure size 432x288 with 1 Axes>"
      ]
     },
     "metadata": {
      "needs_background": "light"
     },
     "output_type": "display_data"
    }
   ],
   "source": [
    "from sklearn.neighbors import KNeighborsClassifier\n",
    "clfk=KNeighborsClassifier(n_neighbors=2)\n",
    "evaluate(clfk,X,y)"
   ]
  },
  {
   "cell_type": "code",
   "execution_count": 36,
   "id": "civilian-determination",
   "metadata": {},
   "outputs": [
    {
     "name": "stdout",
     "output_type": "stream",
     "text": [
      "              precision    recall  f1-score   support\n",
      "\n",
      "           0       0.99      1.00      1.00    951315\n",
      "           1       0.96      0.57      0.72     15971\n",
      "\n",
      "    accuracy                           0.99    967286\n",
      "   macro avg       0.97      0.79      0.86    967286\n",
      "weighted avg       0.99      0.99      0.99    967286\n",
      "\n"
     ]
    },
    {
     "data": {
      "text/plain": [
       "array([[950896,    419],\n",
       "       [  6851,   9120]])"
      ]
     },
     "execution_count": 36,
     "metadata": {},
     "output_type": "execute_result"
    }
   ],
   "source": [
    "print(classification_report(y_test,clfk.predict(X_test)))\n",
    "clfk_cm = confusion_matrix(y_test,clfk.predict(X_test))\n",
    "clfk_cm"
   ]
  },
  {
   "cell_type": "code",
   "execution_count": null,
   "id": "important-philadelphia",
   "metadata": {},
   "outputs": [],
   "source": [
    "validation(clfk,X,y,\"recall\")"
   ]
  },
  {
   "cell_type": "markdown",
   "id": "proud-mustang",
   "metadata": {},
   "source": [
    "## SUPPORT VECTOR  MACHINE"
   ]
  },
  {
   "cell_type": "code",
   "execution_count": null,
   "id": "constitutional-colleague",
   "metadata": {},
   "outputs": [],
   "source": [
    "from sklearn.svm import SVC\n",
    "clfs=SVC(kernel=\"linear\",C=10)\n",
    "evaluate(clfs,X,y)"
   ]
  },
  {
   "cell_type": "code",
   "execution_count": null,
   "id": "amended-mayor",
   "metadata": {},
   "outputs": [],
   "source": [
    "print(classification_report(y_test,clfs.predict(X_test)))\n",
    "clfs_cm = confusion_matrix(y_test,clfs.predict(X_test))\n",
    "clfs_cm"
   ]
  },
  {
   "cell_type": "code",
   "execution_count": null,
   "id": "asian-turkish",
   "metadata": {},
   "outputs": [],
   "source": [
    "validation(clfs,X,y,\"recall\")"
   ]
  },
  {
   "cell_type": "markdown",
   "id": "powerful-blame",
   "metadata": {},
   "source": [
    "## DECISION TREE"
   ]
  },
  {
   "cell_type": "code",
   "execution_count": 27,
   "id": "portuguese-hawaii",
   "metadata": {},
   "outputs": [],
   "source": [
    "from sklearn.tree import DecisionTreeClassifier"
   ]
  },
  {
   "cell_type": "code",
   "execution_count": 31,
   "id": "normal-citizen",
   "metadata": {},
   "outputs": [
    {
     "name": "stdout",
     "output_type": "stream",
     "text": [
      "TRAINING SCORE: 0.9944142664507589\n",
      "ACCURACY: 0.99391803458336\n",
      "PRECISION: 0.9685990338164251\n",
      "RECALL: 0.6528082148894871\n",
      "F1 SCORE: 0.7799513746025808\n",
      "AUC: 0.9513572045334545\n"
     ]
    },
    {
     "data": {
      "image/png": "[encoded data removed]",
      "text/plain": [
       "<Figure size 432x288 with 1 Axes>"
      ]
     },
     "metadata": {
      "needs_background": "light"
     },
     "output_type": "display_data"
    }
   ],
   "source": [
    "clfd=DecisionTreeClassifier()\n",
    "evaluate(clfd,X,y)"
   ]
  },
  {
   "cell_type": "code",
   "execution_count": 32,
   "id": "public-briefing",
   "metadata": {},
   "outputs": [
    {
     "name": "stdout",
     "output_type": "stream",
     "text": [
      "              precision    recall  f1-score   support\n",
      "\n",
      "           0       0.99      1.00      1.00    951315\n",
      "           1       0.97      0.65      0.78     15971\n",
      "\n",
      "    accuracy                           0.99    967286\n",
      "   macro avg       0.98      0.83      0.89    967286\n",
      "weighted avg       0.99      0.99      0.99    967286\n",
      "\n"
     ]
    },
    {
     "data": {
      "text/plain": [
       "array([[950977,    338],\n",
       "       [  5545,  10426]])"
      ]
     },
     "execution_count": 32,
     "metadata": {},
     "output_type": "execute_result"
    }
   ],
   "source": [
    "print(classification_report(y_test,clfd.predict(X_test)))\n",
    "clfd_cm = confusion_matrix(y_test,clfd.predict(X_test))\n",
    "clfd_cm"
   ]
  },
  {
   "cell_type": "code",
   "execution_count": null,
   "id": "weekly-sullivan",
   "metadata": {},
   "outputs": [],
   "source": [
    "validation(clfd,X,y,\"recall\")"
   ]
  },
  {
   "cell_type": "markdown",
   "id": "placed-message",
   "metadata": {},
   "source": [
    "## RANDOM FOREST"
   ]
  },
  {
   "cell_type": "code",
   "execution_count": 32,
   "id": "egyptian-portal",
   "metadata": {},
   "outputs": [
    {
     "name": "stdout",
     "output_type": "stream",
     "text": [
      "TRAINING SCORE: 0.994413577236921\n",
      "ACCURACY: 0.9939593873993834\n",
      "PRECISION: 0.9708945508647945\n",
      "RECALL: 0.6537474171936635\n",
      "F1 SCORE: 0.7813657623947615\n",
      "AUC: 0.9601637375181166\n"
     ]
    },
    {
     "data": {
      "image/png": "[encoded data removed]",
      "text/plain": [
       "<Figure size 432x288 with 1 Axes>"
      ]
     },
     "metadata": {
      "needs_background": "light"
     },
     "output_type": "display_data"
    }
   ],
   "source": [
    "from sklearn.ensemble import RandomForestClassifier\n",
    "clfr=RandomForestClassifier()\n",
    "evaluate(clfr,X,y)"
   ]
  },
  {
   "cell_type": "code",
   "execution_count": 33,
   "id": "textile-stick",
   "metadata": {},
   "outputs": [
    {
     "name": "stdout",
     "output_type": "stream",
     "text": [
      "              precision    recall  f1-score   support\n",
      "\n",
      "           0       0.99      1.00      1.00    951315\n",
      "           1       0.97      0.65      0.78     15971\n",
      "\n",
      "    accuracy                           0.99    967286\n",
      "   macro avg       0.98      0.83      0.89    967286\n",
      "weighted avg       0.99      0.99      0.99    967286\n",
      "\n"
     ]
    },
    {
     "data": {
      "text/plain": [
       "array([[951002,    313],\n",
       "       [  5530,  10441]])"
      ]
     },
     "execution_count": 33,
     "metadata": {},
     "output_type": "execute_result"
    }
   ],
   "source": [
    "print(classification_report(y_test,clfr.predict(X_test)))\n",
    "clfr_cm = confusion_matrix(y_test,clfr.predict(X_test))\n",
    "clfr_cm"
   ]
  },
  {
   "cell_type": "markdown",
   "id": "waiting-contemporary",
   "metadata": {},
   "source": [
    "## CONCLUSIONS"
   ]
  },
  {
   "cell_type": "markdown",
   "id": "still-ranking",
   "metadata": {},
   "source": [
    "A la vista de los resultados, optaré por un modelo de Regresión Logistica. En principio, no se observan diferencias significativas en términos de rendimiento con respecto al resto de modelos. En cambio, con la Regreesión Logistica ganamos en interpretabilidad. Recordemos que el propósito de este proyecto no es sólo predecir sino también entender los factores que influyen en la conversión, con el fin de establecer hipotesis e implementar AB Testing. \n",
    "\n",
    "Por otra parte, el gasto computacional frente al resto de modelos también es muy inferior por lo que ganaremos en agilidad y raṕidez en el ajuste y optimización del modelo.  "
   ]
  },
  {
   "cell_type": "code",
   "execution_count": null,
   "id": "specified-librarian",
   "metadata": {},
   "outputs": [],
   "source": []
  }
 ],
 "metadata": {
  "kernelspec": {
   "display_name": "Python 3",
   "language": "python",
   "name": "python3"
  },
  "language_info": {
   "codemirror_mode": {
    "name": "ipython",
    "version": 3
   },
   "file_extension": ".py",
   "mimetype": "text/x-python",
   "name": "python",
   "nbconvert_exporter": "python",
   "pygments_lexer": "ipython3",
   "version": "3.9.1"
  },
  "toc": {
   "base_numbering": 1,
   "nav_menu": {},
   "number_sections": true,
   "sideBar": true,
   "skip_h1_title": false,
   "title_cell": "Table of Contents",
   "title_sidebar": "Contents",
   "toc_cell": true,
   "toc_position": {},
   "toc_section_display": true,
   "toc_window_display": true
  }
 },
 "nbformat": 4,
 "nbformat_minor": 5
}
