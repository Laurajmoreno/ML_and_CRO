{
 "cells": [
  {
   "cell_type": "markdown",
   "id": "cf1d9487",
   "metadata": {
    "toc": true
   },
   "source": [
    "<h1>Table of Contents<span class=\"tocSkip\"></span></h1>\n",
    "<div class=\"toc\"><ul class=\"toc-item\"><li><span><a href=\"#REQUERIMIENTOS\" data-toc-modified-id=\"REQUERIMIENTOS-1\"><span class=\"toc-item-num\">1&nbsp;&nbsp;</span>REQUERIMIENTOS</a></span><ul class=\"toc-item\"><li><span><a href=\"#Librerías\" data-toc-modified-id=\"Librerías-1.1\"><span class=\"toc-item-num\">1.1&nbsp;&nbsp;</span>Librerías</a></span></li><li><span><a href=\"#Funciones\" data-toc-modified-id=\"Funciones-1.2\"><span class=\"toc-item-num\">1.2&nbsp;&nbsp;</span>Funciones</a></span><ul class=\"toc-item\"><li><span><a href=\"#Evaluación-del-modelo\" data-toc-modified-id=\"Evaluación-del-modelo-1.2.1\"><span class=\"toc-item-num\">1.2.1&nbsp;&nbsp;</span>Evaluación del modelo</a></span></li></ul></li></ul></li><li><span><a href=\"#DATA\" data-toc-modified-id=\"DATA-2\"><span class=\"toc-item-num\">2&nbsp;&nbsp;</span>DATA</a></span><ul class=\"toc-item\"><li><span><a href=\"#Dataset\" data-toc-modified-id=\"Dataset-2.1\"><span class=\"toc-item-num\">2.1&nbsp;&nbsp;</span>Dataset</a></span></li><li><span><a href=\"#Feature-Engineering\" data-toc-modified-id=\"Feature-Engineering-2.2\"><span class=\"toc-item-num\">2.2&nbsp;&nbsp;</span><em>Feature Engineering</em></a></span></li><li><span><a href=\"#Target\" data-toc-modified-id=\"Target-2.3\"><span class=\"toc-item-num\">2.3&nbsp;&nbsp;</span><em>Target</em></a></span></li><li><span><a href=\"#Datos-finales-para-alimentar-el-modelo\" data-toc-modified-id=\"Datos-finales-para-alimentar-el-modelo-2.4\"><span class=\"toc-item-num\">2.4&nbsp;&nbsp;</span>Datos finales para alimentar el modelo</a></span></li></ul></li><li><span><a href=\"#MODELO-BASE\" data-toc-modified-id=\"MODELO-BASE-3\"><span class=\"toc-item-num\">3&nbsp;&nbsp;</span>MODELO BASE</a></span><ul class=\"toc-item\"><li><span><a href=\"#Prueba-para-la-transformación-de-Product_price\" data-toc-modified-id=\"Prueba-para-la-transformación-de-Product_price-3.1\"><span class=\"toc-item-num\">3.1&nbsp;&nbsp;</span>Prueba para la transformación de <em>Product_price</em></a></span></li><li><span><a href=\"#Classifier\" data-toc-modified-id=\"Classifier-3.2\"><span class=\"toc-item-num\">3.2&nbsp;&nbsp;</span>Classifier</a></span></li></ul></li><li><span><a href=\"#SELECCIÓN-DE-VARIABLES\" data-toc-modified-id=\"SELECCIÓN-DE-VARIABLES-4\"><span class=\"toc-item-num\">4&nbsp;&nbsp;</span>SELECCIÓN DE VARIABLES</a></span><ul class=\"toc-item\"><li><span><a href=\"#Preprocesado\" data-toc-modified-id=\"Preprocesado-4.1\"><span class=\"toc-item-num\">4.1&nbsp;&nbsp;</span>Preprocesado</a></span></li><li><span><a href=\"#Importancia-por-permutación\" data-toc-modified-id=\"Importancia-por-permutación-4.2\"><span class=\"toc-item-num\">4.2&nbsp;&nbsp;</span>Importancia por permutación</a></span></li><li><span><a href=\"#Selección-de-variables\" data-toc-modified-id=\"Selección-de-variables-4.3\"><span class=\"toc-item-num\">4.3&nbsp;&nbsp;</span>Selección de variables</a></span><ul class=\"toc-item\"><li><span><a href=\"#Prueba-1:-Threshold=0.003-(top-29-features)\" data-toc-modified-id=\"Prueba-1:-Threshold=0.003-(top-29-features)-4.3.1\"><span class=\"toc-item-num\">4.3.1&nbsp;&nbsp;</span>Prueba 1: <em>Threshold</em>=0.003 (top 29 features)</a></span></li><li><span><a href=\"#Prueba-2:-Threshold=0.0055-(top-26-features)\" data-toc-modified-id=\"Prueba-2:-Threshold=0.0055-(top-26-features)-4.3.2\"><span class=\"toc-item-num\">4.3.2&nbsp;&nbsp;</span>Prueba 2: <em>Threshold</em>=0.0055 (top 26 features)</a></span></li><li><span><a href=\"#Prueba-3:-Threshold=0,009-(top-22-features)\" data-toc-modified-id=\"Prueba-3:-Threshold=0,009-(top-22-features)-4.3.3\"><span class=\"toc-item-num\">4.3.3&nbsp;&nbsp;</span>Prueba 3: <em>Threshold</em>=0,009 (top 22 features)</a></span></li><li><span><a href=\"#Prueba-4:-Threshold=0,007-(top-24-features)\" data-toc-modified-id=\"Prueba-4:-Threshold=0,007-(top-24-features)-4.3.4\"><span class=\"toc-item-num\">4.3.4&nbsp;&nbsp;</span>Prueba 4: <em>Threshold</em>=0,007 (top 24 features)</a></span></li><li><span><a href=\"#Prueba-5:-Threshold=0,011-(top-20-features)\" data-toc-modified-id=\"Prueba-5:-Threshold=0,011-(top-20-features)-4.3.5\"><span class=\"toc-item-num\">4.3.5&nbsp;&nbsp;</span>Prueba 5: <em>Threshold</em>=0,011 (top 20 features)</a></span></li><li><span><a href=\"#Prueba-6:-Threshold=0,018-(top-11-features)\" data-toc-modified-id=\"Prueba-6:-Threshold=0,018-(top-11-features)-4.3.6\"><span class=\"toc-item-num\">4.3.6&nbsp;&nbsp;</span>Prueba 6: <em>Threshold</em>=0,018 (top 11 features)</a></span></li><li><span><a href=\"#Prueba-7:-Threshold=0,0188-(top-9-features)\" data-toc-modified-id=\"Prueba-7:-Threshold=0,0188-(top-9-features)-4.3.7\"><span class=\"toc-item-num\">4.3.7&nbsp;&nbsp;</span>Prueba 7: <em>Threshold</em>=0,0188 (top 9 features)</a></span></li><li><span><a href=\"#Prueba-8:-Threshold=0,02-(top-8-features)\" data-toc-modified-id=\"Prueba-8:-Threshold=0,02-(top-8-features)-4.3.8\"><span class=\"toc-item-num\">4.3.8&nbsp;&nbsp;</span>Prueba 8: <em>Threshold</em>=0,02 (top 8 features)</a></span></li></ul></li><li><span><a href=\"#Clasificador-final-con-optimización-de-hiperparámetros\" data-toc-modified-id=\"Clasificador-final-con-optimización-de-hiperparámetros-4.4\"><span class=\"toc-item-num\">4.4&nbsp;&nbsp;</span>Clasificador final con optimización de hiperparámetros</a></span></li></ul></li><li><span><a href=\"#MANEJO-DE-CLASES-DESBALANCEADAS\" data-toc-modified-id=\"MANEJO-DE-CLASES-DESBALANCEADAS-5\"><span class=\"toc-item-num\">5&nbsp;&nbsp;</span>MANEJO DE CLASES DESBALANCEADAS</a></span><ul class=\"toc-item\"><li><span><a href=\"#Preprocesado\" data-toc-modified-id=\"Preprocesado-5.1\"><span class=\"toc-item-num\">5.1&nbsp;&nbsp;</span>Preprocesado</a></span></li><li><span><a href=\"#Selección-de-variables\" data-toc-modified-id=\"Selección-de-variables-5.2\"><span class=\"toc-item-num\">5.2&nbsp;&nbsp;</span>Selección de variables</a></span></li><li><span><a href=\"#Tratamiento-de-clases-desbalanceadas\" data-toc-modified-id=\"Tratamiento-de-clases-desbalanceadas-5.3\"><span class=\"toc-item-num\">5.3&nbsp;&nbsp;</span>Tratamiento de clases desbalanceadas</a></span><ul class=\"toc-item\"><li><span><a href=\"#SMOTE-Oversampling\" data-toc-modified-id=\"SMOTE-Oversampling-5.3.1\"><span class=\"toc-item-num\">5.3.1&nbsp;&nbsp;</span>SMOTE Oversampling</a></span></li><li><span><a href=\"#SMOTE-Oversampling-and-Undersampling\" data-toc-modified-id=\"SMOTE-Oversampling-and-Undersampling-5.3.2\"><span class=\"toc-item-num\">5.3.2&nbsp;&nbsp;</span>SMOTE Oversampling and Undersampling</a></span></li><li><span><a href=\"#Borderline-SMOTE\" data-toc-modified-id=\"Borderline-SMOTE-5.3.3\"><span class=\"toc-item-num\">5.3.3&nbsp;&nbsp;</span>Borderline SMOTE</a></span></li><li><span><a href=\"#ADASYN\" data-toc-modified-id=\"ADASYN-5.3.4\"><span class=\"toc-item-num\">5.3.4&nbsp;&nbsp;</span>ADASYN</a></span></li></ul></li><li><span><a href=\"#Optimización-Oversampling/Undersampling\" data-toc-modified-id=\"Optimización-Oversampling/Undersampling-5.4\"><span class=\"toc-item-num\">5.4&nbsp;&nbsp;</span>Optimización <em>Oversampling</em>/<em>Undersampling</em></a></span><ul class=\"toc-item\"><li><span><a href=\"#Sampling-strategy\" data-toc-modified-id=\"Sampling-strategy-5.4.1\"><span class=\"toc-item-num\">5.4.1&nbsp;&nbsp;</span><em>Sampling strategy</em></a></span></li><li><span><a href=\"#K-neighbors\" data-toc-modified-id=\"K-neighbors-5.4.2\"><span class=\"toc-item-num\">5.4.2&nbsp;&nbsp;</span><em>K neighbors</em></a></span></li></ul></li><li><span><a href=\"#Clasificador-final-con-optimización-de-hiperparámetros-del-modelo\" data-toc-modified-id=\"Clasificador-final-con-optimización-de-hiperparámetros-del-modelo-5.5\"><span class=\"toc-item-num\">5.5&nbsp;&nbsp;</span>Clasificador final con optimización de hiperparámetros del modelo</a></span></li></ul></li><li><span><a href=\"#CLASES-DESBALANCEADAS-vs-CLASES-BALANCEADAS\" data-toc-modified-id=\"CLASES-DESBALANCEADAS-vs-CLASES-BALANCEADAS-6\"><span class=\"toc-item-num\">6&nbsp;&nbsp;</span>CLASES DESBALANCEADAS vs CLASES BALANCEADAS</a></span><ul class=\"toc-item\"><li><span><a href=\"#Datos-de-Febrero-y-Marzo-2021\" data-toc-modified-id=\"Datos-de-Febrero-y-Marzo-2021-6.1\"><span class=\"toc-item-num\">6.1&nbsp;&nbsp;</span>Datos de Febrero y Marzo 2021</a></span><ul class=\"toc-item\"><li><span><a href=\"#Preprocesado\" data-toc-modified-id=\"Preprocesado-6.1.1\"><span class=\"toc-item-num\">6.1.1&nbsp;&nbsp;</span>Preprocesado</a></span></li><li><span><a href=\"#Selección-de-variables\" data-toc-modified-id=\"Selección-de-variables-6.1.2\"><span class=\"toc-item-num\">6.1.2&nbsp;&nbsp;</span>Selección de variables</a></span></li></ul></li><li><span><a href=\"#Clasificador-CON-clases-desbalanceadas\" data-toc-modified-id=\"Clasificador-CON-clases-desbalanceadas-6.2\"><span class=\"toc-item-num\">6.2&nbsp;&nbsp;</span>Clasificador CON clases desbalanceadas</a></span></li><li><span><a href=\"#Clasificador-SIN-clases-desbalanceadas\" data-toc-modified-id=\"Clasificador-SIN-clases-desbalanceadas-6.3\"><span class=\"toc-item-num\">6.3&nbsp;&nbsp;</span>Clasificador SIN clases desbalanceadas</a></span></li><li><span><a href=\"#Conclusiones\" data-toc-modified-id=\"Conclusiones-6.4\"><span class=\"toc-item-num\">6.4&nbsp;&nbsp;</span>Conclusiones</a></span></li></ul></li><li><span><a href=\"#CALIBRACIÓN-DEL-MODELO\" data-toc-modified-id=\"CALIBRACIÓN-DEL-MODELO-7\"><span class=\"toc-item-num\">7&nbsp;&nbsp;</span>CALIBRACIÓN DEL MODELO</a></span><ul class=\"toc-item\"><li><span><a href=\"#Preprocesado\" data-toc-modified-id=\"Preprocesado-7.1\"><span class=\"toc-item-num\">7.1&nbsp;&nbsp;</span>Preprocesado</a></span></li><li><span><a href=\"#Selección-de-variables\" data-toc-modified-id=\"Selección-de-variables-7.2\"><span class=\"toc-item-num\">7.2&nbsp;&nbsp;</span>Selección de variables</a></span></li><li><span><a href=\"#Oversampling/Undersampling\" data-toc-modified-id=\"Oversampling/Undersampling-7.3\"><span class=\"toc-item-num\">7.3&nbsp;&nbsp;</span><em>Oversampling</em>/<em>Undersampling</em></a></span></li><li><span><a href=\"#Modelo-NO-calibrado\" data-toc-modified-id=\"Modelo-NO-calibrado-7.4\"><span class=\"toc-item-num\">7.4&nbsp;&nbsp;</span>Modelo NO calibrado</a></span></li><li><span><a href=\"#Calibración-del-modelo\" data-toc-modified-id=\"Calibración-del-modelo-7.5\"><span class=\"toc-item-num\">7.5&nbsp;&nbsp;</span>Calibración del modelo</a></span><ul class=\"toc-item\"><li><span><a href=\"#Con-los-datos-de-test-y-method='sigmoid'\" data-toc-modified-id=\"Con-los-datos-de-test-y-method='sigmoid'-7.5.1\"><span class=\"toc-item-num\">7.5.1&nbsp;&nbsp;</span>Con los datos de test y <em>method='sigmoid'</em></a></span><ul class=\"toc-item\"><li><span><a href=\"#Evaluación-con-los-datos-de-Febrero-y-Marzo-2021\" data-toc-modified-id=\"Evaluación-con-los-datos-de-Febrero-y-Marzo-2021-7.5.1.1\"><span class=\"toc-item-num\">7.5.1.1&nbsp;&nbsp;</span>Evaluación con los datos de Febrero y Marzo 2021</a></span></li></ul></li><li><span><a href=\"#Con-los-datos-de-test-y-*method='isotonic'\" data-toc-modified-id=\"Con-los-datos-de-test-y-*method='isotonic'-7.5.2\"><span class=\"toc-item-num\">7.5.2&nbsp;&nbsp;</span>Con los datos de test y *method='isotonic'</a></span><ul class=\"toc-item\"><li><span><a href=\"#Evaluación-con-los-datos-de-Febrero-y-Marzo-2021\" data-toc-modified-id=\"Evaluación-con-los-datos-de-Febrero-y-Marzo-2021-7.5.2.1\"><span class=\"toc-item-num\">7.5.2.1&nbsp;&nbsp;</span>Evaluación con los datos de Febrero y Marzo 2021</a></span></li></ul></li><li><span><a href=\"#Con-los-datos-de-entrenamiento-y-validación-cruzada\" data-toc-modified-id=\"Con-los-datos-de-entrenamiento-y-validación-cruzada-7.5.3\"><span class=\"toc-item-num\">7.5.3&nbsp;&nbsp;</span>Con los datos de entrenamiento y validación cruzada</a></span><ul class=\"toc-item\"><li><span><a href=\"#Evaluación-con-X_test\" data-toc-modified-id=\"Evaluación-con-X_test-7.5.3.1\"><span class=\"toc-item-num\">7.5.3.1&nbsp;&nbsp;</span>Evaluación con X_test</a></span></li><li><span><a href=\"#Evaluación-con-los-datos-de-Febrero-y-Marzo-2021\" data-toc-modified-id=\"Evaluación-con-los-datos-de-Febrero-y-Marzo-2021-7.5.3.2\"><span class=\"toc-item-num\">7.5.3.2&nbsp;&nbsp;</span>Evaluación con los datos de Febrero y Marzo 2021</a></span></li></ul></li></ul></li><li><span><a href=\"#Conclusiones\" data-toc-modified-id=\"Conclusiones-7.6\"><span class=\"toc-item-num\">7.6&nbsp;&nbsp;</span>Conclusiones</a></span></li></ul></li><li><span><a href=\"#INTERACTIVE-FRONTEND\" data-toc-modified-id=\"INTERACTIVE-FRONTEND-8\"><span class=\"toc-item-num\">8&nbsp;&nbsp;</span>INTERACTIVE FRONTEND</a></span><ul class=\"toc-item\"><li><span><a href=\"#Preparativos\" data-toc-modified-id=\"Preparativos-8.1\"><span class=\"toc-item-num\">8.1&nbsp;&nbsp;</span>Preparativos</a></span><ul class=\"toc-item\"><li><span><a href=\"#Datos-de-ciudades\" data-toc-modified-id=\"Datos-de-ciudades-8.1.1\"><span class=\"toc-item-num\">8.1.1&nbsp;&nbsp;</span>Datos de ciudades</a></span></li><li><span><a href=\"#Datos-de-productos\" data-toc-modified-id=\"Datos-de-productos-8.1.2\"><span class=\"toc-item-num\">8.1.2&nbsp;&nbsp;</span>Datos de productos</a></span></li><li><span><a href=\"#Preprocess-with-top-features\" data-toc-modified-id=\"Preprocess-with-top-features-8.1.3\"><span class=\"toc-item-num\">8.1.3&nbsp;&nbsp;</span>Preprocess with top features</a></span></li><li><span><a href=\"#CSV-de-prueba\" data-toc-modified-id=\"CSV-de-prueba-8.1.4\"><span class=\"toc-item-num\">8.1.4&nbsp;&nbsp;</span>CSV de prueba</a></span></li></ul></li><li><span><a href=\"#Fichero.py\" data-toc-modified-id=\"Fichero.py-8.2\"><span class=\"toc-item-num\">8.2&nbsp;&nbsp;</span>Fichero.py</a></span></li></ul></li></ul></div>"
   ]
  },
  {
   "cell_type": "markdown",
   "id": "engaging-pride",
   "metadata": {},
   "source": [
    "En este notebook, se plantea un último **modelo final** que será utilizado para presentar, a través de un ***frontend*** **interactivo**, las posibilidades del uso de metodologías de Machine Learning para la optimización del ratio de conversión de un sitio web.\n",
    "\n",
    "En él, se siguen las misma pautas que en el notebook 09_ RANDOM_FOREST_MODEL_OPTIMIZATION pero con ligeras modificaciones en la confección del modelo. Concretamente, se diferencia de este en:\n",
    "- Uso del precio final como *feature* (PVP - Descuento)\n",
    "- Supresión de la variable *ga:pageDepth*\n",
    "- Menor número de predictores\n",
    "- Código fuente del *frontend*\n",
    "\n",
    "En los siguientes apartados, se explican y desarrollan todos los detalles:"
   ]
  },
  {
   "cell_type": "markdown",
   "id": "58cf4fb6",
   "metadata": {},
   "source": [
    "## REQUERIMIENTOS"
   ]
  },
  {
   "cell_type": "markdown",
   "id": "4b526694",
   "metadata": {},
   "source": [
    "### Librerías"
   ]
  },
  {
   "cell_type": "code",
   "execution_count": 15,
   "id": "1b6ff371",
   "metadata": {},
   "outputs": [],
   "source": [
    "import pandas as pd\n",
    "import numpy as np\n",
    "import matplotlib.pyplot as plt\n",
    "import seaborn as sns\n",
    "%matplotlib inline\n",
    "from sklearn.model_selection import train_test_split, GridSearchCV, ParameterGrid\n",
    "from sklearn.linear_model import LogisticRegression\n",
    "from sklearn.ensemble import RandomForestClassifier\n",
    "from sklearn.metrics import f1_score, recall_score, precision_score, roc_auc_score, roc_curve, accuracy_score\n",
    "from sklearn.metrics import confusion_matrix\n",
    "from sklearn.metrics import classification_report\n",
    "from sklearn.model_selection import cross_val_score\n",
    "from sklearn.model_selection import RepeatedStratifiedKFold\n",
    "from sklearn.pipeline import Pipeline, FeatureUnion\n",
    "from sklearn.base import BaseEstimator,TransformerMixin\n",
    "from sklearn.preprocessing import FunctionTransformer, OneHotEncoder\n",
    "from sklearn.compose import ColumnTransformer\n",
    "from sklearn.impute import SimpleImputer\n",
    "from category_encoders import TargetEncoder\n",
    "from sklearn.feature_selection import SelectFromModel\n",
    "from scipy import stats\n",
    "import statsmodels.api as sm\n",
    "import os\n",
    "from sklearn import tree\n",
    "import pickle\n",
    "import eli5\n",
    "from eli5.sklearn import PermutationImportance\n",
    "import imblearn\n",
    "from imblearn.over_sampling import SMOTE\n",
    "from imblearn.under_sampling import RandomUnderSampler\n",
    "from imblearn.over_sampling import BorderlineSMOTE\n",
    "from imblearn.over_sampling import ADASYN\n",
    "from collections import Counter\n",
    "import multiprocessing"
   ]
  },
  {
   "cell_type": "markdown",
   "id": "7b547373",
   "metadata": {},
   "source": [
    "### Funciones"
   ]
  },
  {
   "cell_type": "markdown",
   "id": "9710dcf5",
   "metadata": {},
   "source": [
    "#### Evaluación del modelo"
   ]
  },
  {
   "cell_type": "code",
   "execution_count": 3,
   "id": "fa09fb06",
   "metadata": {},
   "outputs": [],
   "source": [
    "def evaluate(classifier,X_train, X_test, y_train, y_test):\n",
    "    classifier.fit(X_train,y_train)\n",
    "    predictions = classifier.predict(X_test)\n",
    "    probabilities = classifier.predict_proba(X_test)\n",
    "    print(\"TRAINING SCORE: \" + str(classifier.score(X_train,y_train)))\n",
    "    print(\"ACCURACY: \" + str(accuracy_score(y_test, predictions)))\n",
    "    print(\"PRECISION: \" + str(precision_score(y_test, predictions)))\n",
    "    print(\"RECALL: \" + str(recall_score(y_test, predictions)))\n",
    "    print(\"F1 SCORE: \" + str(f1_score(y_test, predictions)))\n",
    "    print(\"AUC: \" + str(roc_auc_score(y_test,probabilities[:, 1])))\n",
    "\n",
    "    tpr, fpr, thresolds = roc_curve(y_test, probabilities[:, 1])\n",
    "    plt.plot(tpr, fpr)\n",
    "    plt.xlabel('fpr')\n",
    "    plt.ylabel('tpr')"
   ]
  },
  {
   "cell_type": "markdown",
   "id": "94da531e",
   "metadata": {},
   "source": [
    "## DATA"
   ]
  },
  {
   "cell_type": "markdown",
   "id": "867b8639",
   "metadata": {},
   "source": [
    "### Dataset"
   ]
  },
  {
   "cell_type": "code",
   "execution_count": 3,
   "id": "87b53cbd",
   "metadata": {},
   "outputs": [
    {
     "name": "stderr",
     "output_type": "stream",
     "text": [
      "/home/dsc/TFM/kschool_masterDS_TFM/env/lib/python3.7/site-packages/IPython/core/interactiveshell.py:3166: DtypeWarning: Columns (1) have mixed types.Specify dtype option on import or set low_memory=False.\n",
      "  interactivity=interactivity, compiler=compiler, result=result)\n"
     ]
    },
    {
     "name": "stdout",
     "output_type": "stream",
     "text": [
      "(3628293, 21)\n",
      "\n",
      "<class 'pandas.core.frame.DataFrame'>\n",
      "RangeIndex: 3628293 entries, 0 to 3628292\n",
      "Data columns (total 21 columns):\n",
      " #   Column                       Dtype  \n",
      "---  ------                       -----  \n",
      " 0   ga:productSKU                object \n",
      " 1   ga:dateHourMinute            int64  \n",
      " 2   ga:pagePath                  object \n",
      " 3   ga:pageDepth                 int64  \n",
      " 4   ga:userType                  object \n",
      " 5   ga:sessionCount              int64  \n",
      " 6   ga:daysSinceLastSession      int64  \n",
      " 7   ga:landingPagePath           object \n",
      " 8   ga:campaign                  object \n",
      " 9   ga:sourceMedium              object \n",
      " 10  ga:city                      object \n",
      " 11  ga:deviceCategory            object \n",
      " 12  ga:operatingSystem           object \n",
      " 13  ga:productListViews          int64  \n",
      " 14  ga:productListClicks         int64  \n",
      " 15  ga:productDetailViews        int64  \n",
      " 16  ga:productAddsToCart         int64  \n",
      " 17  ga:productAddsToCart_transf  int64  \n",
      " 18  pPath_clean                  object \n",
      " 19  Web_Discount                 float64\n",
      " 20  Product_price                float64\n",
      "dtypes: float64(2), int64(9), object(10)\n",
      "memory usage: 581.3+ MB\n"
     ]
    }
   ],
   "source": [
    "data_root=\"../data/\"\n",
    "datafile=os.path.join(data_root,'no_carrito_no_pedido_df_2019_2020_jan21.csv')\n",
    "df=pd.read_csv(datafile)\n",
    "df.drop('Unnamed: 0', axis=1, inplace=True)\n",
    "print(df.shape)\n",
    "print(\"\")\n",
    "df.info()"
   ]
  },
  {
   "cell_type": "markdown",
   "id": "1e3907bf",
   "metadata": {},
   "source": [
    "### *Feature Engineering*"
   ]
  },
  {
   "cell_type": "code",
   "execution_count": 4,
   "id": "c06ed5fc",
   "metadata": {},
   "outputs": [
    {
     "name": "stdout",
     "output_type": "stream",
     "text": [
      "<class 'pandas.core.frame.DataFrame'>\n",
      "RangeIndex: 3628293 entries, 0 to 3628292\n",
      "Data columns (total 31 columns):\n",
      " #   Column                       Dtype         \n",
      "---  ------                       -----         \n",
      " 0   ga:productSKU                object        \n",
      " 1   ga:dateHourMinute            datetime64[ns]\n",
      " 2   ga:pagePath                  object        \n",
      " 3   ga:pageDepth                 int64         \n",
      " 4   ga:userType                  object        \n",
      " 5   ga:sessionCount              int64         \n",
      " 6   ga:daysSinceLastSession      int64         \n",
      " 7   ga:landingPagePath           object        \n",
      " 8   ga:campaign                  object        \n",
      " 9   ga:sourceMedium              object        \n",
      " 10  ga:city                      object        \n",
      " 11  ga:deviceCategory            object        \n",
      " 12  ga:operatingSystem           object        \n",
      " 13  ga:productListViews          int64         \n",
      " 14  ga:productListClicks         int64         \n",
      " 15  ga:productDetailViews        int64         \n",
      " 16  ga:productAddsToCart         int64         \n",
      " 17  ga:productAddsToCart_transf  int64         \n",
      " 18  pPath_clean                  object        \n",
      " 19  Web_Discount                 float64       \n",
      " 20  Product_price                float64       \n",
      " 21  month_sin                    float64       \n",
      " 22  month_cos                    float64       \n",
      " 23  dayofweek_sin                float64       \n",
      " 24  dayofweek_cos                float64       \n",
      " 25  hour_sin                     float64       \n",
      " 26  hour_cos                     float64       \n",
      " 27  Source                       object        \n",
      " 28  Medium                       object        \n",
      " 29  Returning_Visitor            int64         \n",
      " 30  Detail_View                  int64         \n",
      "dtypes: datetime64[ns](1), float64(8), int64(10), object(12)\n",
      "memory usage: 858.1+ MB\n"
     ]
    }
   ],
   "source": [
    "# Product SKU as string\n",
    "df['ga:productSKU']=df['ga:productSKU'].astype('str')\n",
    "\n",
    "# dateHourMinute as SIN and COS\n",
    "df['ga:dateHourMinute']=pd.to_datetime(df['ga:dateHourMinute'],format='%Y%m%d%H%M')\n",
    "df['dateTime_month']=df['ga:dateHourMinute'].dt.month\n",
    "df['dateTime_dayofweek']=df['ga:dateHourMinute'].dt.dayofweek\n",
    "df['dateTime_hour']=df['ga:dateHourMinute'].dt.hour\n",
    "df['month_sin']=np.sin((df.dateTime_month-1)*(2.*np.pi/12)) # I substract minus 1 to 'df.dateTime_month' because its values are coded as 1 to 12 instead of 0 to 11\n",
    "df['month_cos']=np.cos((df.dateTime_month-1)*(2.*np.pi/12)) # I substract minus 1 to 'df.dateTime_month' because its values are coded as 1 to 12 instead of 0 to 11\n",
    "df['dayofweek_sin']=np.sin(df.dateTime_dayofweek*(2.*np.pi/7))\n",
    "df['dayofweek_cos']=np.cos(df.dateTime_dayofweek*(2.*np.pi/7))\n",
    "df['hour_sin']=np.sin(df.dateTime_hour*(2.*np.pi/24))\n",
    "df['hour_cos']=np.cos(df.dateTime_hour*(2.*np.pi/24))\n",
    "df.drop(['dateTime_month','dateTime_dayofweek','dateTime_hour'],axis=1, inplace=True)\n",
    "\n",
    "# Source Medium as 2 columns:\n",
    "source_medium = df['ga:sourceMedium'].str.split('/',expand=True)\n",
    "source_medium.columns=['Source','Medium']\n",
    "df= df.merge(source_medium,left_index=True,right_index=True,how='left')\n",
    "del(source_medium)\n",
    "df['Source']=df['Source'].astype('str').str.strip()\n",
    "df['Medium']=df['Medium'].astype('str').str.strip()\n",
    "\n",
    "# City\n",
    "df['ga:city']=df['ga:city'].astype('str')\n",
    "\n",
    "# Device\n",
    "df['ga:deviceCategory']=df['ga:deviceCategory'].astype('str')\n",
    "\n",
    "# Operating System\n",
    "df['ga:operatingSystem']=df['ga:operatingSystem'].astype('str')\n",
    "\n",
    "# User Type\n",
    "df['Returning_Visitor']= np.where(df['ga:userType']=='Returning Visitor',1,0)\n",
    "\n",
    "# Page Path, Detail_View and Landing Page Path as string\n",
    "df['ga:pagePath']=df['ga:pagePath'].astype('str')\n",
    "df['ga:pagePath'] = df['ga:pagePath'].apply(lambda x: x[:x.find(\"?pag\")] if \"?pag\" in x else x)\n",
    "df['Detail_View']=df['ga:pagePath'].apply(lambda url: 1 if url[-5:]=='.html' else 0)\n",
    "df['ga:landingPagePath']=df['ga:landingPagePath'].astype('str')\n",
    "df['ga:landingPagePath'] = df['ga:landingPagePath'].apply(lambda x: x[:x.find(\"?pag\")] if \"?pag\" in x else x)\n",
    "\n",
    "df.info()"
   ]
  },
  {
   "cell_type": "markdown",
   "id": "da291ff4",
   "metadata": {},
   "source": [
    "### *Target*"
   ]
  },
  {
   "cell_type": "code",
   "execution_count": 5,
   "id": "51f014cb",
   "metadata": {},
   "outputs": [
    {
     "name": "stdout",
     "output_type": "stream",
     "text": [
      "No. observations per class\n",
      "0    3586659\n",
      "1      41634\n",
      "Name: ga:productAddsToCart_transf, dtype: int64\n",
      "\n",
      "% observations per class\n",
      "0    98.852518\n",
      "1     1.147482\n",
      "Name: ga:productAddsToCart_transf, dtype: float64\n"
     ]
    }
   ],
   "source": [
    "df['ga:productAddsToCart_transf']=df[\"ga:productAddsToCart\"].apply(lambda x: 1 if x>1 else x)\n",
    "\n",
    "print(\"No. observations per class\")\n",
    "print(df['ga:productAddsToCart_transf'].value_counts())\n",
    "print(\"\")\n",
    "\n",
    "print(\"% observations per class\")\n",
    "print(100*df['ga:productAddsToCart_transf'].value_counts(normalize=True))"
   ]
  },
  {
   "cell_type": "markdown",
   "id": "20d9badd",
   "metadata": {},
   "source": [
    "### Datos finales para alimentar el modelo"
   ]
  },
  {
   "cell_type": "code",
   "execution_count": 6,
   "id": "045406b3",
   "metadata": {},
   "outputs": [],
   "source": [
    "# Data\n",
    "\n",
    "features=['ga:sessionCount','ga:daysSinceLastSession','ga:productSKU',\\\n",
    "          'month_sin','month_cos','dayofweek_sin','dayofweek_cos','hour_sin','hour_cos',\\\n",
    "          'Source','Medium','ga:city','ga:deviceCategory','ga:operatingSystem','Returning_Visitor',\\\n",
    "          'Product_price','Web_Discount','ga:pagePath','Detail_View','ga:landingPagePath']\n",
    "\n",
    "y=df['ga:productAddsToCart_transf']\n",
    "X=df[features]\n",
    "X_train, X_test, y_train, y_test = train_test_split(X, y,random_state=42)"
   ]
  },
  {
   "cell_type": "markdown",
   "id": "3048e8d6",
   "metadata": {},
   "source": [
    "## MODELO BASE"
   ]
  },
  {
   "cell_type": "markdown",
   "id": "bb54c746",
   "metadata": {},
   "source": [
    "En este modelo a diferencia del anterior, en lugar del PVP, consideraremos el **precio ajustado** una vez aplicado el descuento disponible. Conservaremos igualmente la columna ***Web_Discount*** por haber demostrado ser un atributo importante en modelos anteriores y por el efecto psicológico que puede tener en el usuario. \n",
    "\n",
    "Por otro lado, eliminaremos la variable ***ga:pageDepth***. En modelos anteriores, asumimos que era el número de páginas vistas por el usuario hasta el momento de la observación. Sin embargo, se ha visto que en realidad corresponde al número total de páginas vistas en el transcurso de la sesión. Es útil para identificar al usuario único/sesión, pero no debe ser incluida en el modelo final, por no ser una variable que esté disponible si se quiere hacer un análisis en tiempo real.\n"
   ]
  },
  {
   "cell_type": "markdown",
   "id": "f837e290",
   "metadata": {},
   "source": [
    "### Prueba para la transformación de *Product_price*"
   ]
  },
  {
   "cell_type": "markdown",
   "id": "04e3da14",
   "metadata": {},
   "source": [
    "Para calcular el precio ajustado, es necesario contar con el PVP del producto y el descuento disponible en la web en el momento de la observación. Dado que la columna *Product_price* tiene **valores** ***NaN*** deberemos realizar la transformación una vez se hayan imputado estos valores con la mediana y, por lo tanto, dentro del *Pipeline*. \n",
    "\n",
    "Este sería el procedimiento:"
   ]
  },
  {
   "cell_type": "code",
   "execution_count": 8,
   "id": "bce4083b",
   "metadata": {},
   "outputs": [],
   "source": [
    "from functools import partial\n",
    "\n",
    "def engineer_feature(columns, X):\n",
    "    df = pd.DataFrame(X, columns=columns)\n",
    "    df[\"Product_price\"] = df[\"Product_price\"]*(1-df[\"Web_Discount\"])\n",
    "    return df\n",
    "\n",
    "def numeric_transformer(columns):\n",
    "    transformer = Pipeline([\n",
    "        (\"imputer\", SimpleImputer(strategy='median')),\n",
    "        (\"engineer\", FunctionTransformer(partial(engineer_feature, columns))),\n",
    "    ])\n",
    "    return (\"numeric\", transformer, columns)\n",
    "\n",
    "preprocessor = ColumnTransformer([\n",
    "    numeric_transformer([\"Product_price\", \"Web_Discount\"])\n",
    "])\n"
   ]
  },
  {
   "cell_type": "code",
   "execution_count": 9,
   "id": "d9ef7429",
   "metadata": {},
   "outputs": [],
   "source": [
    "X_train_transf = preprocessor.fit_transform(X_train,y_train)\n",
    "X_test_transf = preprocessor.transform(X_test)"
   ]
  },
  {
   "cell_type": "markdown",
   "id": "304a3116",
   "metadata": {},
   "source": [
    "Como vemos en las siguientes celdas, la transformación se ha realizado correctamente:"
   ]
  },
  {
   "cell_type": "code",
   "execution_count": 17,
   "id": "20c5519c",
   "metadata": {},
   "outputs": [
    {
     "data": {
      "text/html": [
       "<div>\n",
       "<style scoped>\n",
       "    .dataframe tbody tr th:only-of-type {\n",
       "        vertical-align: middle;\n",
       "    }\n",
       "\n",
       "    .dataframe tbody tr th {\n",
       "        vertical-align: top;\n",
       "    }\n",
       "\n",
       "    .dataframe thead th {\n",
       "        text-align: right;\n",
       "    }\n",
       "</style>\n",
       "<table border=\"1\" class=\"dataframe\">\n",
       "  <thead>\n",
       "    <tr style=\"text-align: right;\">\n",
       "      <th></th>\n",
       "      <th>Product_price</th>\n",
       "      <th>Web_Discount</th>\n",
       "    </tr>\n",
       "  </thead>\n",
       "  <tbody>\n",
       "    <tr>\n",
       "      <th>0</th>\n",
       "      <td>3.4700</td>\n",
       "      <td>0.00</td>\n",
       "    </tr>\n",
       "    <tr>\n",
       "      <th>1</th>\n",
       "      <td>35.4000</td>\n",
       "      <td>0.25</td>\n",
       "    </tr>\n",
       "    <tr>\n",
       "      <th>2</th>\n",
       "      <td>160.0000</td>\n",
       "      <td>0.00</td>\n",
       "    </tr>\n",
       "    <tr>\n",
       "      <th>3</th>\n",
       "      <td>12.7075</td>\n",
       "      <td>0.15</td>\n",
       "    </tr>\n",
       "    <tr>\n",
       "      <th>4</th>\n",
       "      <td>10.6250</td>\n",
       "      <td>0.15</td>\n",
       "    </tr>\n",
       "    <tr>\n",
       "      <th>5</th>\n",
       "      <td>32.6250</td>\n",
       "      <td>0.25</td>\n",
       "    </tr>\n",
       "    <tr>\n",
       "      <th>6</th>\n",
       "      <td>2.9000</td>\n",
       "      <td>0.00</td>\n",
       "    </tr>\n",
       "    <tr>\n",
       "      <th>7</th>\n",
       "      <td>4.7250</td>\n",
       "      <td>0.25</td>\n",
       "    </tr>\n",
       "    <tr>\n",
       "      <th>8</th>\n",
       "      <td>31.9000</td>\n",
       "      <td>0.00</td>\n",
       "    </tr>\n",
       "    <tr>\n",
       "      <th>9</th>\n",
       "      <td>53.5000</td>\n",
       "      <td>0.00</td>\n",
       "    </tr>\n",
       "    <tr>\n",
       "      <th>10</th>\n",
       "      <td>22.5750</td>\n",
       "      <td>0.25</td>\n",
       "    </tr>\n",
       "    <tr>\n",
       "      <th>11</th>\n",
       "      <td>59.5000</td>\n",
       "      <td>0.15</td>\n",
       "    </tr>\n",
       "    <tr>\n",
       "      <th>12</th>\n",
       "      <td>80.0000</td>\n",
       "      <td>0.00</td>\n",
       "    </tr>\n",
       "    <tr>\n",
       "      <th>13</th>\n",
       "      <td>3.4700</td>\n",
       "      <td>0.00</td>\n",
       "    </tr>\n",
       "    <tr>\n",
       "      <th>14</th>\n",
       "      <td>27.5500</td>\n",
       "      <td>0.00</td>\n",
       "    </tr>\n",
       "    <tr>\n",
       "      <th>15</th>\n",
       "      <td>2.5000</td>\n",
       "      <td>0.00</td>\n",
       "    </tr>\n",
       "    <tr>\n",
       "      <th>16</th>\n",
       "      <td>40.0000</td>\n",
       "      <td>0.00</td>\n",
       "    </tr>\n",
       "    <tr>\n",
       "      <th>17</th>\n",
       "      <td>0.0000</td>\n",
       "      <td>0.15</td>\n",
       "    </tr>\n",
       "    <tr>\n",
       "      <th>18</th>\n",
       "      <td>63.0000</td>\n",
       "      <td>0.00</td>\n",
       "    </tr>\n",
       "    <tr>\n",
       "      <th>19</th>\n",
       "      <td>13.9500</td>\n",
       "      <td>0.00</td>\n",
       "    </tr>\n",
       "    <tr>\n",
       "      <th>20</th>\n",
       "      <td>11.3040</td>\n",
       "      <td>0.10</td>\n",
       "    </tr>\n",
       "    <tr>\n",
       "      <th>21</th>\n",
       "      <td>11.2500</td>\n",
       "      <td>0.10</td>\n",
       "    </tr>\n",
       "    <tr>\n",
       "      <th>22</th>\n",
       "      <td>1.5000</td>\n",
       "      <td>0.00</td>\n",
       "    </tr>\n",
       "    <tr>\n",
       "      <th>23</th>\n",
       "      <td>2.5000</td>\n",
       "      <td>0.00</td>\n",
       "    </tr>\n",
       "    <tr>\n",
       "      <th>24</th>\n",
       "      <td>63.0000</td>\n",
       "      <td>0.00</td>\n",
       "    </tr>\n",
       "    <tr>\n",
       "      <th>25</th>\n",
       "      <td>49.9000</td>\n",
       "      <td>0.00</td>\n",
       "    </tr>\n",
       "    <tr>\n",
       "      <th>26</th>\n",
       "      <td>32.1750</td>\n",
       "      <td>0.25</td>\n",
       "    </tr>\n",
       "    <tr>\n",
       "      <th>27</th>\n",
       "      <td>27.5500</td>\n",
       "      <td>0.00</td>\n",
       "    </tr>\n",
       "    <tr>\n",
       "      <th>28</th>\n",
       "      <td>12.9500</td>\n",
       "      <td>0.00</td>\n",
       "    </tr>\n",
       "    <tr>\n",
       "      <th>29</th>\n",
       "      <td>39.4500</td>\n",
       "      <td>0.00</td>\n",
       "    </tr>\n",
       "    <tr>\n",
       "      <th>30</th>\n",
       "      <td>27.5500</td>\n",
       "      <td>0.00</td>\n",
       "    </tr>\n",
       "    <tr>\n",
       "      <th>31</th>\n",
       "      <td>23.4175</td>\n",
       "      <td>0.15</td>\n",
       "    </tr>\n",
       "  </tbody>\n",
       "</table>\n",
       "</div>"
      ],
      "text/plain": [
       "    Product_price  Web_Discount\n",
       "0          3.4700          0.00\n",
       "1         35.4000          0.25\n",
       "2        160.0000          0.00\n",
       "3         12.7075          0.15\n",
       "4         10.6250          0.15\n",
       "5         32.6250          0.25\n",
       "6          2.9000          0.00\n",
       "7          4.7250          0.25\n",
       "8         31.9000          0.00\n",
       "9         53.5000          0.00\n",
       "10        22.5750          0.25\n",
       "11        59.5000          0.15\n",
       "12        80.0000          0.00\n",
       "13         3.4700          0.00\n",
       "14        27.5500          0.00\n",
       "15         2.5000          0.00\n",
       "16        40.0000          0.00\n",
       "17         0.0000          0.15\n",
       "18        63.0000          0.00\n",
       "19        13.9500          0.00\n",
       "20        11.3040          0.10\n",
       "21        11.2500          0.10\n",
       "22         1.5000          0.00\n",
       "23         2.5000          0.00\n",
       "24        63.0000          0.00\n",
       "25        49.9000          0.00\n",
       "26        32.1750          0.25\n",
       "27        27.5500          0.00\n",
       "28        12.9500          0.00\n",
       "29        39.4500          0.00\n",
       "30        27.5500          0.00\n",
       "31        23.4175          0.15"
      ]
     },
     "execution_count": 17,
     "metadata": {},
     "output_type": "execute_result"
    }
   ],
   "source": [
    "pd.DataFrame(X_train_transf, columns=['Product_price', 'Web_Discount']).head(32)"
   ]
  },
  {
   "cell_type": "code",
   "execution_count": 40,
   "id": "137ada50",
   "metadata": {},
   "outputs": [
    {
     "data": {
      "text/html": [
       "<div>\n",
       "<style scoped>\n",
       "    .dataframe tbody tr th:only-of-type {\n",
       "        vertical-align: middle;\n",
       "    }\n",
       "\n",
       "    .dataframe tbody tr th {\n",
       "        vertical-align: top;\n",
       "    }\n",
       "\n",
       "    .dataframe thead th {\n",
       "        text-align: right;\n",
       "    }\n",
       "</style>\n",
       "<table border=\"1\" class=\"dataframe\">\n",
       "  <thead>\n",
       "    <tr style=\"text-align: right;\">\n",
       "      <th></th>\n",
       "      <th>Product_price</th>\n",
       "      <th>Web_Discount</th>\n",
       "    </tr>\n",
       "  </thead>\n",
       "  <tbody>\n",
       "    <tr>\n",
       "      <th>246226</th>\n",
       "      <td>3.47</td>\n",
       "      <td>0.00</td>\n",
       "    </tr>\n",
       "    <tr>\n",
       "      <th>1843185</th>\n",
       "      <td>47.20</td>\n",
       "      <td>0.25</td>\n",
       "    </tr>\n",
       "    <tr>\n",
       "      <th>2677455</th>\n",
       "      <td>160.00</td>\n",
       "      <td>0.00</td>\n",
       "    </tr>\n",
       "    <tr>\n",
       "      <th>3221900</th>\n",
       "      <td>14.95</td>\n",
       "      <td>0.15</td>\n",
       "    </tr>\n",
       "    <tr>\n",
       "      <th>1054798</th>\n",
       "      <td>12.50</td>\n",
       "      <td>0.15</td>\n",
       "    </tr>\n",
       "    <tr>\n",
       "      <th>1509754</th>\n",
       "      <td>43.50</td>\n",
       "      <td>0.25</td>\n",
       "    </tr>\n",
       "    <tr>\n",
       "      <th>268870</th>\n",
       "      <td>2.90</td>\n",
       "      <td>0.00</td>\n",
       "    </tr>\n",
       "    <tr>\n",
       "      <th>1958197</th>\n",
       "      <td>6.30</td>\n",
       "      <td>0.25</td>\n",
       "    </tr>\n",
       "    <tr>\n",
       "      <th>2126658</th>\n",
       "      <td>31.90</td>\n",
       "      <td>0.00</td>\n",
       "    </tr>\n",
       "    <tr>\n",
       "      <th>547850</th>\n",
       "      <td>53.50</td>\n",
       "      <td>0.00</td>\n",
       "    </tr>\n",
       "    <tr>\n",
       "      <th>1681559</th>\n",
       "      <td>30.10</td>\n",
       "      <td>0.25</td>\n",
       "    </tr>\n",
       "    <tr>\n",
       "      <th>29222</th>\n",
       "      <td>70.00</td>\n",
       "      <td>0.15</td>\n",
       "    </tr>\n",
       "    <tr>\n",
       "      <th>2845332</th>\n",
       "      <td>80.00</td>\n",
       "      <td>0.00</td>\n",
       "    </tr>\n",
       "    <tr>\n",
       "      <th>938028</th>\n",
       "      <td>3.47</td>\n",
       "      <td>0.00</td>\n",
       "    </tr>\n",
       "    <tr>\n",
       "      <th>738384</th>\n",
       "      <td>NaN</td>\n",
       "      <td>0.00</td>\n",
       "    </tr>\n",
       "    <tr>\n",
       "      <th>1167017</th>\n",
       "      <td>2.50</td>\n",
       "      <td>0.00</td>\n",
       "    </tr>\n",
       "    <tr>\n",
       "      <th>1192403</th>\n",
       "      <td>40.00</td>\n",
       "      <td>0.00</td>\n",
       "    </tr>\n",
       "    <tr>\n",
       "      <th>1254610</th>\n",
       "      <td>0.00</td>\n",
       "      <td>0.15</td>\n",
       "    </tr>\n",
       "    <tr>\n",
       "      <th>1355320</th>\n",
       "      <td>63.00</td>\n",
       "      <td>0.00</td>\n",
       "    </tr>\n",
       "    <tr>\n",
       "      <th>2854168</th>\n",
       "      <td>13.95</td>\n",
       "      <td>0.00</td>\n",
       "    </tr>\n",
       "    <tr>\n",
       "      <th>2431337</th>\n",
       "      <td>12.56</td>\n",
       "      <td>0.10</td>\n",
       "    </tr>\n",
       "    <tr>\n",
       "      <th>1284327</th>\n",
       "      <td>12.50</td>\n",
       "      <td>0.10</td>\n",
       "    </tr>\n",
       "    <tr>\n",
       "      <th>1980071</th>\n",
       "      <td>1.50</td>\n",
       "      <td>0.00</td>\n",
       "    </tr>\n",
       "    <tr>\n",
       "      <th>1069838</th>\n",
       "      <td>2.50</td>\n",
       "      <td>0.00</td>\n",
       "    </tr>\n",
       "    <tr>\n",
       "      <th>3269450</th>\n",
       "      <td>63.00</td>\n",
       "      <td>0.00</td>\n",
       "    </tr>\n",
       "    <tr>\n",
       "      <th>1470856</th>\n",
       "      <td>49.90</td>\n",
       "      <td>0.00</td>\n",
       "    </tr>\n",
       "    <tr>\n",
       "      <th>2249305</th>\n",
       "      <td>42.90</td>\n",
       "      <td>0.25</td>\n",
       "    </tr>\n",
       "    <tr>\n",
       "      <th>525636</th>\n",
       "      <td>NaN</td>\n",
       "      <td>0.00</td>\n",
       "    </tr>\n",
       "    <tr>\n",
       "      <th>433667</th>\n",
       "      <td>12.95</td>\n",
       "      <td>0.00</td>\n",
       "    </tr>\n",
       "    <tr>\n",
       "      <th>1467239</th>\n",
       "      <td>39.45</td>\n",
       "      <td>0.00</td>\n",
       "    </tr>\n",
       "    <tr>\n",
       "      <th>1050362</th>\n",
       "      <td>NaN</td>\n",
       "      <td>0.00</td>\n",
       "    </tr>\n",
       "    <tr>\n",
       "      <th>1091329</th>\n",
       "      <td>NaN</td>\n",
       "      <td>0.15</td>\n",
       "    </tr>\n",
       "  </tbody>\n",
       "</table>\n",
       "</div>"
      ],
      "text/plain": [
       "         Product_price  Web_Discount\n",
       "246226            3.47          0.00\n",
       "1843185          47.20          0.25\n",
       "2677455         160.00          0.00\n",
       "3221900          14.95          0.15\n",
       "1054798          12.50          0.15\n",
       "1509754          43.50          0.25\n",
       "268870            2.90          0.00\n",
       "1958197           6.30          0.25\n",
       "2126658          31.90          0.00\n",
       "547850           53.50          0.00\n",
       "1681559          30.10          0.25\n",
       "29222            70.00          0.15\n",
       "2845332          80.00          0.00\n",
       "938028            3.47          0.00\n",
       "738384             NaN          0.00\n",
       "1167017           2.50          0.00\n",
       "1192403          40.00          0.00\n",
       "1254610           0.00          0.15\n",
       "1355320          63.00          0.00\n",
       "2854168          13.95          0.00\n",
       "2431337          12.56          0.10\n",
       "1284327          12.50          0.10\n",
       "1980071           1.50          0.00\n",
       "1069838           2.50          0.00\n",
       "3269450          63.00          0.00\n",
       "1470856          49.90          0.00\n",
       "2249305          42.90          0.25\n",
       "525636             NaN          0.00\n",
       "433667           12.95          0.00\n",
       "1467239          39.45          0.00\n",
       "1050362            NaN          0.00\n",
       "1091329            NaN          0.15"
      ]
     },
     "execution_count": 40,
     "metadata": {},
     "output_type": "execute_result"
    }
   ],
   "source": [
    "X_train[['Product_price', 'Web_Discount']].head(32)"
   ]
  },
  {
   "cell_type": "code",
   "execution_count": 16,
   "id": "0ec6dac6",
   "metadata": {},
   "outputs": [
    {
     "data": {
      "text/plain": [
       "27.55"
      ]
     },
     "execution_count": 16,
     "metadata": {},
     "output_type": "execute_result"
    }
   ],
   "source": [
    "X_train['Product_price'].median()"
   ]
  },
  {
   "cell_type": "code",
   "execution_count": 22,
   "id": "1aa0fbb5",
   "metadata": {},
   "outputs": [
    {
     "data": {
      "text/plain": [
       "Product_price    23.4175\n",
       "Web_Discount      0.1500\n",
       "Name: 31, dtype: float64"
      ]
     },
     "execution_count": 22,
     "metadata": {},
     "output_type": "execute_result"
    }
   ],
   "source": [
    "pd.DataFrame(X_train_transf,columns=['Product_price', 'Web_Discount']).iloc[31]"
   ]
  },
  {
   "cell_type": "code",
   "execution_count": 14,
   "id": "be8dce3e",
   "metadata": {},
   "outputs": [
    {
     "data": {
      "text/plain": [
       "Product_price     NaN\n",
       "Web_Discount     0.15\n",
       "Name: 1091329, dtype: float64"
      ]
     },
     "execution_count": 14,
     "metadata": {},
     "output_type": "execute_result"
    }
   ],
   "source": [
    "X_train[['Product_price', 'Web_Discount']].iloc[31]"
   ]
  },
  {
   "cell_type": "code",
   "execution_count": 18,
   "id": "c67145eb",
   "metadata": {},
   "outputs": [
    {
     "data": {
      "text/plain": [
       "23.4175"
      ]
     },
     "execution_count": 18,
     "metadata": {},
     "output_type": "execute_result"
    }
   ],
   "source": [
    "X_train['Product_price'].median()*(1-0.15)"
   ]
  },
  {
   "cell_type": "markdown",
   "id": "567bdcf2",
   "metadata": {},
   "source": [
    "En este caso, se aprecia cómo ha imputado correctamente la mediana y después le ha aplicado el descuento. \n",
    "\n",
    "Veamos ahora si la transformación también se ha aplicado correctamente en el **conjunto de test**:"
   ]
  },
  {
   "cell_type": "code",
   "execution_count": 20,
   "id": "6c51a8b9",
   "metadata": {},
   "outputs": [
    {
     "data": {
      "text/html": [
       "<div>\n",
       "<style scoped>\n",
       "    .dataframe tbody tr th:only-of-type {\n",
       "        vertical-align: middle;\n",
       "    }\n",
       "\n",
       "    .dataframe tbody tr th {\n",
       "        vertical-align: top;\n",
       "    }\n",
       "\n",
       "    .dataframe thead th {\n",
       "        text-align: right;\n",
       "    }\n",
       "</style>\n",
       "<table border=\"1\" class=\"dataframe\">\n",
       "  <thead>\n",
       "    <tr style=\"text-align: right;\">\n",
       "      <th></th>\n",
       "      <th>Product_price</th>\n",
       "      <th>Web_Discount</th>\n",
       "    </tr>\n",
       "  </thead>\n",
       "  <tbody>\n",
       "    <tr>\n",
       "      <th>0</th>\n",
       "      <td>58.5000</td>\n",
       "      <td>0.00</td>\n",
       "    </tr>\n",
       "    <tr>\n",
       "      <th>1</th>\n",
       "      <td>30.0000</td>\n",
       "      <td>0.00</td>\n",
       "    </tr>\n",
       "    <tr>\n",
       "      <th>2</th>\n",
       "      <td>37.3500</td>\n",
       "      <td>0.10</td>\n",
       "    </tr>\n",
       "    <tr>\n",
       "      <th>3</th>\n",
       "      <td>80.7930</td>\n",
       "      <td>0.10</td>\n",
       "    </tr>\n",
       "    <tr>\n",
       "      <th>4</th>\n",
       "      <td>2.5000</td>\n",
       "      <td>0.00</td>\n",
       "    </tr>\n",
       "    <tr>\n",
       "      <th>5</th>\n",
       "      <td>36.0000</td>\n",
       "      <td>0.00</td>\n",
       "    </tr>\n",
       "    <tr>\n",
       "      <th>6</th>\n",
       "      <td>2.5000</td>\n",
       "      <td>0.00</td>\n",
       "    </tr>\n",
       "    <tr>\n",
       "      <th>7</th>\n",
       "      <td>26.9250</td>\n",
       "      <td>0.25</td>\n",
       "    </tr>\n",
       "    <tr>\n",
       "      <th>8</th>\n",
       "      <td>3.9500</td>\n",
       "      <td>0.00</td>\n",
       "    </tr>\n",
       "    <tr>\n",
       "      <th>9</th>\n",
       "      <td>168.8700</td>\n",
       "      <td>0.00</td>\n",
       "    </tr>\n",
       "    <tr>\n",
       "      <th>10</th>\n",
       "      <td>27.5500</td>\n",
       "      <td>0.00</td>\n",
       "    </tr>\n",
       "    <tr>\n",
       "      <th>11</th>\n",
       "      <td>27.5500</td>\n",
       "      <td>0.00</td>\n",
       "    </tr>\n",
       "    <tr>\n",
       "      <th>12</th>\n",
       "      <td>29.0000</td>\n",
       "      <td>0.00</td>\n",
       "    </tr>\n",
       "    <tr>\n",
       "      <th>13</th>\n",
       "      <td>89.0000</td>\n",
       "      <td>0.00</td>\n",
       "    </tr>\n",
       "    <tr>\n",
       "      <th>14</th>\n",
       "      <td>25.0500</td>\n",
       "      <td>0.25</td>\n",
       "    </tr>\n",
       "    <tr>\n",
       "      <th>15</th>\n",
       "      <td>12.9500</td>\n",
       "      <td>0.00</td>\n",
       "    </tr>\n",
       "    <tr>\n",
       "      <th>16</th>\n",
       "      <td>24.0000</td>\n",
       "      <td>0.00</td>\n",
       "    </tr>\n",
       "    <tr>\n",
       "      <th>17</th>\n",
       "      <td>80.0000</td>\n",
       "      <td>0.00</td>\n",
       "    </tr>\n",
       "    <tr>\n",
       "      <th>18</th>\n",
       "      <td>4.9500</td>\n",
       "      <td>0.00</td>\n",
       "    </tr>\n",
       "    <tr>\n",
       "      <th>19</th>\n",
       "      <td>23.4175</td>\n",
       "      <td>0.15</td>\n",
       "    </tr>\n",
       "  </tbody>\n",
       "</table>\n",
       "</div>"
      ],
      "text/plain": [
       "    Product_price  Web_Discount\n",
       "0         58.5000          0.00\n",
       "1         30.0000          0.00\n",
       "2         37.3500          0.10\n",
       "3         80.7930          0.10\n",
       "4          2.5000          0.00\n",
       "5         36.0000          0.00\n",
       "6          2.5000          0.00\n",
       "7         26.9250          0.25\n",
       "8          3.9500          0.00\n",
       "9        168.8700          0.00\n",
       "10        27.5500          0.00\n",
       "11        27.5500          0.00\n",
       "12        29.0000          0.00\n",
       "13        89.0000          0.00\n",
       "14        25.0500          0.25\n",
       "15        12.9500          0.00\n",
       "16        24.0000          0.00\n",
       "17        80.0000          0.00\n",
       "18         4.9500          0.00\n",
       "19        23.4175          0.15"
      ]
     },
     "execution_count": 20,
     "metadata": {},
     "output_type": "execute_result"
    }
   ],
   "source": [
    "pd.DataFrame(X_test_transf, columns=['Product_price', 'Web_Discount']).head(20)"
   ]
  },
  {
   "cell_type": "code",
   "execution_count": 21,
   "id": "cabc2f54",
   "metadata": {},
   "outputs": [
    {
     "data": {
      "text/html": [
       "<div>\n",
       "<style scoped>\n",
       "    .dataframe tbody tr th:only-of-type {\n",
       "        vertical-align: middle;\n",
       "    }\n",
       "\n",
       "    .dataframe tbody tr th {\n",
       "        vertical-align: top;\n",
       "    }\n",
       "\n",
       "    .dataframe thead th {\n",
       "        text-align: right;\n",
       "    }\n",
       "</style>\n",
       "<table border=\"1\" class=\"dataframe\">\n",
       "  <thead>\n",
       "    <tr style=\"text-align: right;\">\n",
       "      <th></th>\n",
       "      <th>Product_price</th>\n",
       "      <th>Web_Discount</th>\n",
       "    </tr>\n",
       "  </thead>\n",
       "  <tbody>\n",
       "    <tr>\n",
       "      <th>2482349</th>\n",
       "      <td>58.50</td>\n",
       "      <td>0.00</td>\n",
       "    </tr>\n",
       "    <tr>\n",
       "      <th>3075967</th>\n",
       "      <td>30.00</td>\n",
       "      <td>0.00</td>\n",
       "    </tr>\n",
       "    <tr>\n",
       "      <th>2333535</th>\n",
       "      <td>41.50</td>\n",
       "      <td>0.10</td>\n",
       "    </tr>\n",
       "    <tr>\n",
       "      <th>2524915</th>\n",
       "      <td>89.77</td>\n",
       "      <td>0.10</td>\n",
       "    </tr>\n",
       "    <tr>\n",
       "      <th>391798</th>\n",
       "      <td>2.50</td>\n",
       "      <td>0.00</td>\n",
       "    </tr>\n",
       "    <tr>\n",
       "      <th>194596</th>\n",
       "      <td>36.00</td>\n",
       "      <td>0.00</td>\n",
       "    </tr>\n",
       "    <tr>\n",
       "      <th>389685</th>\n",
       "      <td>2.50</td>\n",
       "      <td>0.00</td>\n",
       "    </tr>\n",
       "    <tr>\n",
       "      <th>1909866</th>\n",
       "      <td>35.90</td>\n",
       "      <td>0.25</td>\n",
       "    </tr>\n",
       "    <tr>\n",
       "      <th>2721261</th>\n",
       "      <td>3.95</td>\n",
       "      <td>0.00</td>\n",
       "    </tr>\n",
       "    <tr>\n",
       "      <th>2741261</th>\n",
       "      <td>168.87</td>\n",
       "      <td>0.00</td>\n",
       "    </tr>\n",
       "    <tr>\n",
       "      <th>352852</th>\n",
       "      <td>NaN</td>\n",
       "      <td>0.00</td>\n",
       "    </tr>\n",
       "    <tr>\n",
       "      <th>530628</th>\n",
       "      <td>NaN</td>\n",
       "      <td>0.00</td>\n",
       "    </tr>\n",
       "    <tr>\n",
       "      <th>1572209</th>\n",
       "      <td>29.00</td>\n",
       "      <td>0.00</td>\n",
       "    </tr>\n",
       "    <tr>\n",
       "      <th>3346246</th>\n",
       "      <td>89.00</td>\n",
       "      <td>0.00</td>\n",
       "    </tr>\n",
       "    <tr>\n",
       "      <th>2320171</th>\n",
       "      <td>33.40</td>\n",
       "      <td>0.25</td>\n",
       "    </tr>\n",
       "    <tr>\n",
       "      <th>1473990</th>\n",
       "      <td>12.95</td>\n",
       "      <td>0.00</td>\n",
       "    </tr>\n",
       "    <tr>\n",
       "      <th>2948278</th>\n",
       "      <td>24.00</td>\n",
       "      <td>0.00</td>\n",
       "    </tr>\n",
       "    <tr>\n",
       "      <th>2853466</th>\n",
       "      <td>80.00</td>\n",
       "      <td>0.00</td>\n",
       "    </tr>\n",
       "    <tr>\n",
       "      <th>1778030</th>\n",
       "      <td>4.95</td>\n",
       "      <td>0.00</td>\n",
       "    </tr>\n",
       "    <tr>\n",
       "      <th>940605</th>\n",
       "      <td>NaN</td>\n",
       "      <td>0.15</td>\n",
       "    </tr>\n",
       "  </tbody>\n",
       "</table>\n",
       "</div>"
      ],
      "text/plain": [
       "         Product_price  Web_Discount\n",
       "2482349          58.50          0.00\n",
       "3075967          30.00          0.00\n",
       "2333535          41.50          0.10\n",
       "2524915          89.77          0.10\n",
       "391798            2.50          0.00\n",
       "194596           36.00          0.00\n",
       "389685            2.50          0.00\n",
       "1909866          35.90          0.25\n",
       "2721261           3.95          0.00\n",
       "2741261         168.87          0.00\n",
       "352852             NaN          0.00\n",
       "530628             NaN          0.00\n",
       "1572209          29.00          0.00\n",
       "3346246          89.00          0.00\n",
       "2320171          33.40          0.25\n",
       "1473990          12.95          0.00\n",
       "2948278          24.00          0.00\n",
       "2853466          80.00          0.00\n",
       "1778030           4.95          0.00\n",
       "940605             NaN          0.15"
      ]
     },
     "execution_count": 21,
     "metadata": {},
     "output_type": "execute_result"
    }
   ],
   "source": [
    "X_test[['Product_price', 'Web_Discount']].head(20)"
   ]
  },
  {
   "cell_type": "code",
   "execution_count": 23,
   "id": "cb5bff51",
   "metadata": {},
   "outputs": [
    {
     "data": {
      "text/plain": [
       "Product_price    23.4175\n",
       "Web_Discount      0.1500\n",
       "Name: 19, dtype: float64"
      ]
     },
     "execution_count": 23,
     "metadata": {},
     "output_type": "execute_result"
    }
   ],
   "source": [
    "pd.DataFrame(X_test_transf, columns=['Product_price', 'Web_Discount']).iloc[19]"
   ]
  },
  {
   "cell_type": "code",
   "execution_count": 24,
   "id": "c04f86ba",
   "metadata": {},
   "outputs": [
    {
     "data": {
      "text/plain": [
       "Product_price     NaN\n",
       "Web_Discount     0.15\n",
       "Name: 940605, dtype: float64"
      ]
     },
     "execution_count": 24,
     "metadata": {},
     "output_type": "execute_result"
    }
   ],
   "source": [
    "X_test[['Product_price', 'Web_Discount']].iloc[19]"
   ]
  },
  {
   "cell_type": "code",
   "execution_count": 25,
   "id": "16a80541",
   "metadata": {},
   "outputs": [
    {
     "data": {
      "text/plain": [
       "23.4175"
      ]
     },
     "execution_count": 25,
     "metadata": {},
     "output_type": "execute_result"
    }
   ],
   "source": [
    "X_train['Product_price'].median()*(1-0.15)"
   ]
  },
  {
   "cell_type": "markdown",
   "id": "721211ec",
   "metadata": {},
   "source": [
    "El transformador funciona correctamente. En el siguiente apartado, lo integraremos en el *Pipeline* completo para ejecutar un primer clasificador de referencia."
   ]
  },
  {
   "cell_type": "markdown",
   "id": "446d3260",
   "metadata": {},
   "source": [
    "### Classifier"
   ]
  },
  {
   "cell_type": "code",
   "execution_count": 36,
   "id": "785c2dc0",
   "metadata": {},
   "outputs": [],
   "source": [
    "## CUSTOM TRANSFORMERS\n",
    "\n",
    "# 'Operating System' Transformer\n",
    "\n",
    "important_os = ['Android','iOS','Windows','Macintosh']\n",
    "\n",
    "class OSTransfomer(BaseEstimator,TransformerMixin):\n",
    "    def fit(self,X,y=None):\n",
    "        return self\n",
    "    def transform (self,X,y=None):\n",
    "        X_=X.copy()\n",
    "        X_['ga:operatingSystem']=X_['ga:operatingSystem'].apply(lambda os: 'other OS' if os not in important_os else os)\n",
    "        return X_\n",
    "    \n",
    "    \n",
    "# Compile 'Source'\n",
    "\n",
    "def source_compiler(x):\n",
    "    \n",
    "    insta_words= ['instagram','ig','linktr.ee']\n",
    "    for seq in insta_words:\n",
    "        if seq in x.lower():\n",
    "            return 'instagram'\n",
    "    if 'facebook' in x.lower():\n",
    "        return 'facebook'\n",
    "    if 'youtube' in x.lower():\n",
    "        return 'youtube'  \n",
    "    if 'vogue' in x.lower():\n",
    "        return 'vogue'\n",
    "    if 'yahoo' in x.lower():\n",
    "        return 'yahoo'\n",
    "    else:\n",
    "        return x\n",
    "\n",
    "important_sources = ['google','(direct)','instagram','facebook','sendinblue','youtube','bing','yahoo','vogue','cantabrialabs.es']\n",
    "\n",
    "class SourceTransfomer(BaseEstimator,TransformerMixin):\n",
    "    def fit(self,X,y=None):\n",
    "        return self\n",
    "    def transform (self,X,y=None):\n",
    "        X_=X.copy()\n",
    "        X_['Source']=X_['Source'].apply(source_compiler)\n",
    "        X_['Source']=X_['Source'].apply(lambda source: 'other sources' if source not in important_sources else source)\n",
    "        return X_\n",
    "    \n",
    "# Compile 'Medium':\n",
    "\n",
    "def medium_compiler(x):\n",
    "    \n",
    "    if 'cpc' in x.lower():\n",
    "        return 'cpc'\n",
    "    if x=='Social':\n",
    "        return 'IGShopping'  \n",
    "    if x=='facebook':\n",
    "        return 'facebook ads'\n",
    "    if x=='trafico':\n",
    "        return 'facebook trafico'\n",
    "    else:\n",
    "        return x\n",
    "    \n",
    "class MediumTransfomer(BaseEstimator,TransformerMixin):\n",
    "    def fit(self,X,y=None):\n",
    "        return self\n",
    "    def transform (self,X,y=None):\n",
    "        X_=X.copy()\n",
    "        X_['Medium']=X_['Medium'].apply(medium_compiler)\n",
    "        return X_\n",
    "    \n",
    "# Select other columns with no transformations (in order to be able to apply get_feature_names)\n",
    "\n",
    "class SelectColumnTransformer(BaseEstimator,TransformerMixin):\n",
    "    def fit(self,X,y=None):\n",
    "        return self\n",
    "    def transform (self,X,y=None):\n",
    "        return X\n",
    "    \n",
    "# Product_price - Web_Discount\n",
    "\n",
    "def engineer_feature(columns, X):\n",
    "    df = pd.DataFrame(X, columns=columns)\n",
    "    df[\"Product_price\"] = df[\"Product_price\"]*(1-df[\"Web_Discount\"])\n",
    "    return df"
   ]
  },
  {
   "cell_type": "code",
   "execution_count": 37,
   "id": "8843c70d",
   "metadata": {},
   "outputs": [],
   "source": [
    "## PIPELINE:\n",
    "\n",
    "source_preprocessing = Pipeline([\n",
    "    ('source_transf',SourceTransfomer()),\n",
    "    ('ohe',OneHotEncoder()) # handle_unknown is default 'error'\n",
    "])\n",
    "\n",
    "medium_preprocessing = Pipeline([\n",
    "    ('medium_transf',MediumTransfomer()),\n",
    "    ('ohe',OneHotEncoder(drop='first')) #to drop (none) that is equal to (direct) in Source\n",
    "]) # handle_unknown is default 'error'\n",
    "\n",
    "device_preprocessing = Pipeline([\n",
    "    ('ohe',OneHotEncoder()) # handle_unknown is default 'error'\n",
    "])\n",
    "\n",
    "os_preprocessing = Pipeline([\n",
    "    ('os_transf',OSTransfomer()),\n",
    "    ('ohe',OneHotEncoder()) # handle_unknown is default 'error'\n",
    "])\n",
    "\n",
    "targetencod_preprocessing = Pipeline([('target_encoding',TargetEncoder())])\n",
    "\n",
    "no_preprocessing = Pipeline([('select_columns',SelectColumnTransformer())])\n",
    "\n",
    "# Product_price and Web_Discount Transformer\n",
    "from functools import partial\n",
    "def numeric_transformer(columns):\n",
    "    transformer = Pipeline([\n",
    "        (\"imputer\", SimpleImputer(strategy='median')),\n",
    "        (\"engineer\", FunctionTransformer(partial(engineer_feature, columns))),\n",
    "    ])\n",
    "    return (\"numeric\", transformer, columns)\n",
    "\n",
    "preprocess = ColumnTransformer([\n",
    "    ('source_preprocessing',source_preprocessing,['Source']),\n",
    "    ('medium_preprocessing',medium_preprocessing,['Medium']),\n",
    "    ('device_preprocessing',device_preprocessing,['ga:deviceCategory']),\n",
    "    ('os_preprocessing',os_preprocessing,['ga:operatingSystem']),\n",
    "    ('targetencod_preprocessing',targetencod_preprocessing,['ga:productSKU','ga:city','ga:pagePath','ga:landingPagePath']),\n",
    "    numeric_transformer([\"Product_price\", \"Web_Discount\"]),\n",
    "    ('no_preprocessing',no_preprocessing,['Detail_View','Returning_Visitor','ga:sessionCount','ga:daysSinceLastSession','month_sin','month_cos','dayofweek_sin','dayofweek_cos','hour_sin','hour_cos'])\n",
    "])\n",
    "\n",
    "# Model\n",
    "pipeline=Pipeline([\n",
    "    ('preprocess',preprocess),\n",
    "    ('clrf',RandomForestClassifier(n_estimators=100,n_jobs=-1, oob_score=True,bootstrap=True,random_state=42))\n",
    "])"
   ]
  },
  {
   "cell_type": "code",
   "execution_count": 40,
   "id": "46faa2f6",
   "metadata": {},
   "outputs": [
    {
     "name": "stderr",
     "output_type": "stream",
     "text": [
      "/home/dsc/TFM/kschool_masterDS_TFM/env/lib/python3.7/site-packages/category_encoders/utils.py:21: FutureWarning: is_categorical is deprecated and will be removed in a future version.  Use is_categorical_dtype instead\n",
      "  elif pd.api.types.is_categorical(cols):\n"
     ]
    },
    {
     "name": "stdout",
     "output_type": "stream",
     "text": [
      "TRAINING SCORE: 0.9971567889243754\n",
      "ACCURACY: 0.9875809470892122\n",
      "PRECISION: 0.402359437751004\n",
      "RECALL: 0.15285591684943264\n",
      "F1 SCORE: 0.22154654135857924\n",
      "AUC: 0.8935911881766488\n",
      "CPU times: user 1h 19min 14s, sys: 30.1 s, total: 1h 19min 44s\n",
      "Wall time: 22min 30s\n"
     ]
    },
    {
     "data": {
      "image/png": "[encoded data removed]",
      "text/plain": [
       "<Figure size 432x288 with 1 Axes>"
      ]
     },
     "metadata": {
      "needs_background": "light"
     },
     "output_type": "display_data"
    }
   ],
   "source": [
    "%%time\n",
    "\n",
    "evaluate(pipeline,X_train, X_test, y_train, y_test)"
   ]
  },
  {
   "cell_type": "code",
   "execution_count": 41,
   "id": "3721d0c7",
   "metadata": {},
   "outputs": [
    {
     "name": "stdout",
     "output_type": "stream",
     "text": [
      "              precision    recall  f1-score   support\n",
      "\n",
      "           0       0.99      1.00      0.99    896587\n",
      "           1       0.40      0.15      0.22     10487\n",
      "\n",
      "    accuracy                           0.99    907074\n",
      "   macro avg       0.70      0.58      0.61    907074\n",
      "weighted avg       0.98      0.99      0.98    907074\n",
      "\n"
     ]
    },
    {
     "data": {
      "text/plain": [
       "array([[894206,   2381],\n",
       "       [  8884,   1603]])"
      ]
     },
     "execution_count": 41,
     "metadata": {},
     "output_type": "execute_result"
    }
   ],
   "source": [
    "print(classification_report(y_test,pipeline.predict(X_test)))\n",
    "clrf_cm = confusion_matrix(y_test,pipeline.predict(X_test))\n",
    "clrf_cm"
   ]
  },
  {
   "cell_type": "code",
   "execution_count": 42,
   "id": "ab90bfdd",
   "metadata": {},
   "outputs": [
    {
     "name": "stdout",
     "output_type": "stream",
     "text": [
      "43\n"
     ]
    },
    {
     "data": {
      "text/plain": [
       "['x0_(direct)',\n",
       " 'x0_bing',\n",
       " 'x0_cantabrialabs.es',\n",
       " 'x0_facebook',\n",
       " 'x0_google',\n",
       " 'x0_instagram',\n",
       " 'x0_other sources',\n",
       " 'x0_sendinblue',\n",
       " 'x0_vogue',\n",
       " 'x0_yahoo',\n",
       " 'x0_youtube',\n",
       " 'x0_IGShopping',\n",
       " 'x0_cpc',\n",
       " 'x0_email',\n",
       " 'x0_facebook ads',\n",
       " 'x0_facebook feed',\n",
       " 'x0_facebook trafico',\n",
       " 'x0_organic',\n",
       " 'x0_referral',\n",
       " 'x0_desktop',\n",
       " 'x0_mobile',\n",
       " 'x0_tablet',\n",
       " 'x0_Android',\n",
       " 'x0_Macintosh',\n",
       " 'x0_Windows',\n",
       " 'x0_iOS',\n",
       " 'x0_other OS',\n",
       " 'ga:productSKU',\n",
       " 'ga:city',\n",
       " 'ga:pagePath',\n",
       " 'ga:landingPagePath',\n",
       " 'Product_price',\n",
       " 'Web_Discount',\n",
       " 'Detail_View',\n",
       " 'Returning_Visitor',\n",
       " 'ga:sessionCount',\n",
       " 'ga:daysSinceLastSession',\n",
       " 'month_sin',\n",
       " 'month_cos',\n",
       " 'dayofweek_sin',\n",
       " 'dayofweek_cos',\n",
       " 'hour_sin',\n",
       " 'hour_cos']"
      ]
     },
     "execution_count": 42,
     "metadata": {},
     "output_type": "execute_result"
    }
   ],
   "source": [
    "features_names=[]\n",
    "\n",
    "for feature in range(0,4):\n",
    "    features= list(pipeline.named_steps['preprocess'].transformers_[feature][1].named_steps['ohe'].get_feature_names())\n",
    "    features_names.append(features)\n",
    "\n",
    "for feature in range(4,7):\n",
    "    features = pipeline['preprocess'].transformers_[feature][2]\n",
    "    features_names.append(features)\n",
    "\n",
    "features_names = [j for i in features_names for j in i]\n",
    "print(len(features_names))\n",
    "features_names"
   ]
  },
  {
   "cell_type": "code",
   "execution_count": 45,
   "id": "08b2f700",
   "metadata": {},
   "outputs": [
    {
     "data": {
      "text/html": [
       "<div>\n",
       "<style scoped>\n",
       "    .dataframe tbody tr th:only-of-type {\n",
       "        vertical-align: middle;\n",
       "    }\n",
       "\n",
       "    .dataframe tbody tr th {\n",
       "        vertical-align: top;\n",
       "    }\n",
       "\n",
       "    .dataframe thead th {\n",
       "        text-align: right;\n",
       "    }\n",
       "</style>\n",
       "<table border=\"1\" class=\"dataframe\">\n",
       "  <thead>\n",
       "    <tr style=\"text-align: right;\">\n",
       "      <th></th>\n",
       "      <th>features</th>\n",
       "      <th>importances</th>\n",
       "    </tr>\n",
       "  </thead>\n",
       "  <tbody>\n",
       "    <tr>\n",
       "      <th>29</th>\n",
       "      <td>ga:pagePath</td>\n",
       "      <td>0.212105</td>\n",
       "    </tr>\n",
       "    <tr>\n",
       "      <th>27</th>\n",
       "      <td>ga:productSKU</td>\n",
       "      <td>0.147607</td>\n",
       "    </tr>\n",
       "    <tr>\n",
       "      <th>31</th>\n",
       "      <td>Product_price</td>\n",
       "      <td>0.111749</td>\n",
       "    </tr>\n",
       "    <tr>\n",
       "      <th>28</th>\n",
       "      <td>ga:city</td>\n",
       "      <td>0.076306</td>\n",
       "    </tr>\n",
       "    <tr>\n",
       "      <th>30</th>\n",
       "      <td>ga:landingPagePath</td>\n",
       "      <td>0.073150</td>\n",
       "    </tr>\n",
       "    <tr>\n",
       "      <th>41</th>\n",
       "      <td>hour_sin</td>\n",
       "      <td>0.059230</td>\n",
       "    </tr>\n",
       "    <tr>\n",
       "      <th>42</th>\n",
       "      <td>hour_cos</td>\n",
       "      <td>0.059176</td>\n",
       "    </tr>\n",
       "    <tr>\n",
       "      <th>39</th>\n",
       "      <td>dayofweek_sin</td>\n",
       "      <td>0.038484</td>\n",
       "    </tr>\n",
       "    <tr>\n",
       "      <th>35</th>\n",
       "      <td>ga:sessionCount</td>\n",
       "      <td>0.035643</td>\n",
       "    </tr>\n",
       "    <tr>\n",
       "      <th>40</th>\n",
       "      <td>dayofweek_cos</td>\n",
       "      <td>0.027657</td>\n",
       "    </tr>\n",
       "    <tr>\n",
       "      <th>36</th>\n",
       "      <td>ga:daysSinceLastSession</td>\n",
       "      <td>0.025378</td>\n",
       "    </tr>\n",
       "    <tr>\n",
       "      <th>38</th>\n",
       "      <td>month_cos</td>\n",
       "      <td>0.016612</td>\n",
       "    </tr>\n",
       "    <tr>\n",
       "      <th>37</th>\n",
       "      <td>month_sin</td>\n",
       "      <td>0.015775</td>\n",
       "    </tr>\n",
       "    <tr>\n",
       "      <th>33</th>\n",
       "      <td>Detail_View</td>\n",
       "      <td>0.013818</td>\n",
       "    </tr>\n",
       "    <tr>\n",
       "      <th>32</th>\n",
       "      <td>Web_Discount</td>\n",
       "      <td>0.010275</td>\n",
       "    </tr>\n",
       "    <tr>\n",
       "      <th>34</th>\n",
       "      <td>Returning_Visitor</td>\n",
       "      <td>0.009862</td>\n",
       "    </tr>\n",
       "    <tr>\n",
       "      <th>25</th>\n",
       "      <td>x0_iOS</td>\n",
       "      <td>0.006168</td>\n",
       "    </tr>\n",
       "    <tr>\n",
       "      <th>17</th>\n",
       "      <td>x0_organic</td>\n",
       "      <td>0.006106</td>\n",
       "    </tr>\n",
       "    <tr>\n",
       "      <th>22</th>\n",
       "      <td>x0_Android</td>\n",
       "      <td>0.006023</td>\n",
       "    </tr>\n",
       "    <tr>\n",
       "      <th>4</th>\n",
       "      <td>x0_google</td>\n",
       "      <td>0.004907</td>\n",
       "    </tr>\n",
       "    <tr>\n",
       "      <th>12</th>\n",
       "      <td>x0_cpc</td>\n",
       "      <td>0.004768</td>\n",
       "    </tr>\n",
       "    <tr>\n",
       "      <th>0</th>\n",
       "      <td>x0_(direct)</td>\n",
       "      <td>0.004660</td>\n",
       "    </tr>\n",
       "    <tr>\n",
       "      <th>20</th>\n",
       "      <td>x0_mobile</td>\n",
       "      <td>0.004618</td>\n",
       "    </tr>\n",
       "    <tr>\n",
       "      <th>24</th>\n",
       "      <td>x0_Windows</td>\n",
       "      <td>0.004478</td>\n",
       "    </tr>\n",
       "    <tr>\n",
       "      <th>23</th>\n",
       "      <td>x0_Macintosh</td>\n",
       "      <td>0.004032</td>\n",
       "    </tr>\n",
       "    <tr>\n",
       "      <th>19</th>\n",
       "      <td>x0_desktop</td>\n",
       "      <td>0.003316</td>\n",
       "    </tr>\n",
       "    <tr>\n",
       "      <th>21</th>\n",
       "      <td>x0_tablet</td>\n",
       "      <td>0.003110</td>\n",
       "    </tr>\n",
       "    <tr>\n",
       "      <th>18</th>\n",
       "      <td>x0_referral</td>\n",
       "      <td>0.003019</td>\n",
       "    </tr>\n",
       "    <tr>\n",
       "      <th>5</th>\n",
       "      <td>x0_instagram</td>\n",
       "      <td>0.002838</td>\n",
       "    </tr>\n",
       "    <tr>\n",
       "      <th>13</th>\n",
       "      <td>x0_email</td>\n",
       "      <td>0.001694</td>\n",
       "    </tr>\n",
       "    <tr>\n",
       "      <th>7</th>\n",
       "      <td>x0_sendinblue</td>\n",
       "      <td>0.001660</td>\n",
       "    </tr>\n",
       "    <tr>\n",
       "      <th>3</th>\n",
       "      <td>x0_facebook</td>\n",
       "      <td>0.001450</td>\n",
       "    </tr>\n",
       "    <tr>\n",
       "      <th>1</th>\n",
       "      <td>x0_bing</td>\n",
       "      <td>0.000783</td>\n",
       "    </tr>\n",
       "    <tr>\n",
       "      <th>11</th>\n",
       "      <td>x0_IGShopping</td>\n",
       "      <td>0.000724</td>\n",
       "    </tr>\n",
       "    <tr>\n",
       "      <th>10</th>\n",
       "      <td>x0_youtube</td>\n",
       "      <td>0.000631</td>\n",
       "    </tr>\n",
       "    <tr>\n",
       "      <th>6</th>\n",
       "      <td>x0_other sources</td>\n",
       "      <td>0.000630</td>\n",
       "    </tr>\n",
       "    <tr>\n",
       "      <th>26</th>\n",
       "      <td>x0_other OS</td>\n",
       "      <td>0.000478</td>\n",
       "    </tr>\n",
       "    <tr>\n",
       "      <th>8</th>\n",
       "      <td>x0_vogue</td>\n",
       "      <td>0.000428</td>\n",
       "    </tr>\n",
       "    <tr>\n",
       "      <th>9</th>\n",
       "      <td>x0_yahoo</td>\n",
       "      <td>0.000319</td>\n",
       "    </tr>\n",
       "    <tr>\n",
       "      <th>2</th>\n",
       "      <td>x0_cantabrialabs.es</td>\n",
       "      <td>0.000214</td>\n",
       "    </tr>\n",
       "    <tr>\n",
       "      <th>14</th>\n",
       "      <td>x0_facebook ads</td>\n",
       "      <td>0.000092</td>\n",
       "    </tr>\n",
       "    <tr>\n",
       "      <th>15</th>\n",
       "      <td>x0_facebook feed</td>\n",
       "      <td>0.000027</td>\n",
       "    </tr>\n",
       "    <tr>\n",
       "      <th>16</th>\n",
       "      <td>x0_facebook trafico</td>\n",
       "      <td>0.000001</td>\n",
       "    </tr>\n",
       "  </tbody>\n",
       "</table>\n",
       "</div>"
      ],
      "text/plain": [
       "                   features  importances\n",
       "29              ga:pagePath     0.212105\n",
       "27            ga:productSKU     0.147607\n",
       "31            Product_price     0.111749\n",
       "28                  ga:city     0.076306\n",
       "30       ga:landingPagePath     0.073150\n",
       "41                 hour_sin     0.059230\n",
       "42                 hour_cos     0.059176\n",
       "39            dayofweek_sin     0.038484\n",
       "35          ga:sessionCount     0.035643\n",
       "40            dayofweek_cos     0.027657\n",
       "36  ga:daysSinceLastSession     0.025378\n",
       "38                month_cos     0.016612\n",
       "37                month_sin     0.015775\n",
       "33              Detail_View     0.013818\n",
       "32             Web_Discount     0.010275\n",
       "34        Returning_Visitor     0.009862\n",
       "25                   x0_iOS     0.006168\n",
       "17               x0_organic     0.006106\n",
       "22               x0_Android     0.006023\n",
       "4                 x0_google     0.004907\n",
       "12                   x0_cpc     0.004768\n",
       "0               x0_(direct)     0.004660\n",
       "20                x0_mobile     0.004618\n",
       "24               x0_Windows     0.004478\n",
       "23             x0_Macintosh     0.004032\n",
       "19               x0_desktop     0.003316\n",
       "21                x0_tablet     0.003110\n",
       "18              x0_referral     0.003019\n",
       "5              x0_instagram     0.002838\n",
       "13                 x0_email     0.001694\n",
       "7             x0_sendinblue     0.001660\n",
       "3               x0_facebook     0.001450\n",
       "1                   x0_bing     0.000783\n",
       "11            x0_IGShopping     0.000724\n",
       "10               x0_youtube     0.000631\n",
       "6          x0_other sources     0.000630\n",
       "26              x0_other OS     0.000478\n",
       "8                  x0_vogue     0.000428\n",
       "9                  x0_yahoo     0.000319\n",
       "2       x0_cantabrialabs.es     0.000214\n",
       "14          x0_facebook ads     0.000092\n",
       "15         x0_facebook feed     0.000027\n",
       "16      x0_facebook trafico     0.000001"
      ]
     },
     "execution_count": 45,
     "metadata": {},
     "output_type": "execute_result"
    }
   ],
   "source": [
    "importances = pipeline.steps[1][1].feature_importances_\n",
    "df_feat_import = pd.DataFrame({'features': features_names, 'importances': importances}).sort_values(by='importances')\n",
    "df_feat_import.sort_values(by='importances', ascending=False)"
   ]
  },
  {
   "cell_type": "code",
   "execution_count": 46,
   "id": "8f64b90b",
   "metadata": {},
   "outputs": [
    {
     "data": {
      "image/png": "[encoded data removed]",
      "text/plain": [
       "<Figure size 1080x720 with 1 Axes>"
      ]
     },
     "metadata": {
      "needs_background": "light"
     },
     "output_type": "display_data"
    }
   ],
   "source": [
    "plt.figure(figsize=(15,10))\n",
    "plt.barh(df_feat_import['features'],df_feat_import['importances'] )\n",
    "plt.yticks(range(43));"
   ]
  },
  {
   "cell_type": "markdown",
   "id": "251cde51",
   "metadata": {},
   "source": [
    "## SELECCIÓN DE VARIABLES"
   ]
  },
  {
   "cell_type": "markdown",
   "id": "4081590e",
   "metadata": {},
   "source": [
    "Como ya hicimos en el notebook 09_ RANDOM_FOREST_MODEL_OPTIMIZATION y con el fin de optimizar el rendimiento del modelo, nos quedaremos únicamente con aquellas variables que tengan un efecto significativo en *recall*. \n",
    "\n",
    "Como ya se vio entonces, no era posible ejecutar en un mismo *Pipeline* el preprocesado, la selección de variables y el clasificador. Lo haremos por lo tanto paso a paso.\n",
    "\n",
    "__\n",
    "\n",
    "**NOTA**: Si desea ejecutar las siguientes celdas, asegurese que ha cargado los campos y ejecutado todas las celdas del apartado 'DATA'."
   ]
  },
  {
   "cell_type": "markdown",
   "id": "2d5620c5",
   "metadata": {},
   "source": [
    "### Preprocesado"
   ]
  },
  {
   "cell_type": "markdown",
   "id": "dc91c3e7",
   "metadata": {},
   "source": [
    "Empezamos por realizar el preprocesado de las variables *input*, tal y como ya hicimos en el apartado anterior:"
   ]
  },
  {
   "cell_type": "code",
   "execution_count": 12,
   "id": "7810b605",
   "metadata": {},
   "outputs": [],
   "source": [
    "## CUSTOM TRANSFORMERS\n",
    "\n",
    "# 'Operating System' Transformer\n",
    "\n",
    "important_os = ['Android','iOS','Windows','Macintosh']\n",
    "\n",
    "class OSTransfomer(BaseEstimator,TransformerMixin):\n",
    "    def fit(self,X,y=None):\n",
    "        return self\n",
    "    def transform (self,X,y=None):\n",
    "        X_=X.copy()\n",
    "        X_['ga:operatingSystem']=X_['ga:operatingSystem'].apply(lambda os: 'other OS' if os not in important_os else os)\n",
    "        return X_\n",
    "    \n",
    "    \n",
    "# Compile 'Source'\n",
    "\n",
    "def source_compiler(x):\n",
    "    \n",
    "    insta_words= ['instagram','ig','linktr.ee']\n",
    "    for seq in insta_words:\n",
    "        if seq in x.lower():\n",
    "            return 'instagram'\n",
    "    if 'facebook' in x.lower():\n",
    "        return 'facebook'\n",
    "    if 'youtube' in x.lower():\n",
    "        return 'youtube'  \n",
    "    if 'vogue' in x.lower():\n",
    "        return 'vogue'\n",
    "    if 'yahoo' in x.lower():\n",
    "        return 'yahoo'\n",
    "    else:\n",
    "        return x\n",
    "\n",
    "important_sources = ['google','(direct)','instagram','facebook','sendinblue','youtube','bing','yahoo','vogue','cantabrialabs.es']\n",
    "\n",
    "class SourceTransfomer(BaseEstimator,TransformerMixin):\n",
    "    def fit(self,X,y=None):\n",
    "        return self\n",
    "    def transform (self,X,y=None):\n",
    "        X_=X.copy()\n",
    "        X_['Source']=X_['Source'].apply(source_compiler)\n",
    "        X_['Source']=X_['Source'].apply(lambda source: 'other sources' if source not in important_sources else source)\n",
    "        return X_\n",
    "    \n",
    "# Compile 'Medium':\n",
    "\n",
    "def medium_compiler(x):\n",
    "    \n",
    "    if 'cpc' in x.lower():\n",
    "        return 'cpc'\n",
    "    if x=='Social':\n",
    "        return 'IGShopping'  \n",
    "    if x=='facebook':\n",
    "        return 'facebook ads'\n",
    "    if x=='trafico':\n",
    "        return 'facebook trafico'\n",
    "    else:\n",
    "        return x\n",
    "    \n",
    "class MediumTransfomer(BaseEstimator,TransformerMixin):\n",
    "    def fit(self,X,y=None):\n",
    "        return self\n",
    "    def transform (self,X,y=None):\n",
    "        X_=X.copy()\n",
    "        X_['Medium']=X_['Medium'].apply(medium_compiler)\n",
    "        return X_\n",
    "    \n",
    "# Select other columns with no transformations (in order to be able to apply get_feature_names)\n",
    "\n",
    "class SelectColumnTransformer(BaseEstimator,TransformerMixin):\n",
    "    def fit(self,X,y=None):\n",
    "        return self\n",
    "    def transform (self,X,y=None):\n",
    "        return X\n",
    "    \n",
    "# Product_price - Web_Discount\n",
    "\n",
    "def engineer_feature(columns, X):\n",
    "    df = pd.DataFrame(X, columns=columns)\n",
    "    df[\"Product_price\"] = df[\"Product_price\"]*(1-df[\"Web_Discount\"])\n",
    "    return df"
   ]
  },
  {
   "cell_type": "code",
   "execution_count": 13,
   "id": "3bea4d50",
   "metadata": {},
   "outputs": [],
   "source": [
    "## PREPROCESS PIPELINE:\n",
    "\n",
    "source_preprocessing = Pipeline([\n",
    "    ('source_transf',SourceTransfomer()),\n",
    "    ('ohe',OneHotEncoder()) # handle_unknown is default 'error'\n",
    "])\n",
    "\n",
    "medium_preprocessing = Pipeline([\n",
    "    ('medium_transf',MediumTransfomer()),\n",
    "    ('ohe',OneHotEncoder(drop='first')) #to drop (none) that is equal to (direct) in Source\n",
    "]) # handle_unknown is default 'error'\n",
    "\n",
    "device_preprocessing = Pipeline([\n",
    "    ('ohe',OneHotEncoder()) # handle_unknown is default 'error'\n",
    "])\n",
    "\n",
    "os_preprocessing = Pipeline([\n",
    "    ('os_transf',OSTransfomer()),\n",
    "    ('ohe',OneHotEncoder()) # handle_unknown is default 'error'\n",
    "])\n",
    "\n",
    "targetencod_preprocessing = Pipeline([('target_encoding',TargetEncoder())])\n",
    "\n",
    "no_preprocessing = Pipeline([('select_columns',SelectColumnTransformer())])\n",
    "\n",
    "# Product_price and Web_Discount Transformer\n",
    "from functools import partial\n",
    "def numeric_transformer(columns):\n",
    "    transformer = Pipeline([\n",
    "        (\"imputer\", SimpleImputer(strategy='median')),\n",
    "        (\"engineer\", FunctionTransformer(partial(engineer_feature, columns))),\n",
    "    ])\n",
    "    return (\"numeric\", transformer, columns)\n",
    "\n",
    "preprocess = ColumnTransformer([\n",
    "    ('source_preprocessing',source_preprocessing,['Source']),\n",
    "    ('medium_preprocessing',medium_preprocessing,['Medium']),\n",
    "    ('device_preprocessing',device_preprocessing,['ga:deviceCategory']),\n",
    "    ('os_preprocessing',os_preprocessing,['ga:operatingSystem']),\n",
    "    ('targetencod_preprocessing',targetencod_preprocessing,['ga:productSKU','ga:city','ga:pagePath','ga:landingPagePath']),\n",
    "    numeric_transformer([\"Product_price\", \"Web_Discount\"]),\n",
    "    ('no_preprocessing',no_preprocessing,['Detail_View','Returning_Visitor','ga:sessionCount','ga:daysSinceLastSession','month_sin','month_cos','dayofweek_sin','dayofweek_cos','hour_sin','hour_cos'])\n",
    "])\n",
    "\n",
    "# Model\n",
    "pipeline=Pipeline([\n",
    "    ('preprocess',preprocess),\n",
    "])"
   ]
  },
  {
   "cell_type": "code",
   "execution_count": 14,
   "id": "824c6b00",
   "metadata": {},
   "outputs": [
    {
     "name": "stderr",
     "output_type": "stream",
     "text": [
      "/opt/conda/lib/python3.7/site-packages/category_encoders/utils.py:21: FutureWarning: is_categorical is deprecated and will be removed in a future version.  Use is_categorical_dtype instead\n",
      "  elif pd.api.types.is_categorical(cols):\n"
     ]
    },
    {
     "name": "stdout",
     "output_type": "stream",
     "text": [
      "CPU times: user 34.6 s, sys: 2.32 s, total: 36.9 s\n",
      "Wall time: 36.9 s\n"
     ]
    }
   ],
   "source": [
    "%%time\n",
    "\n",
    "X_train_transf = pipeline.fit_transform(X_train,y_train)\n",
    "X_test_transf = pipeline.transform(X_test)"
   ]
  },
  {
   "cell_type": "code",
   "execution_count": 51,
   "id": "239c4e6a",
   "metadata": {},
   "outputs": [],
   "source": [
    "pickle.dump(pipeline,open(\"FINALMODEL_preprocess.pickle\",\"wb\"))"
   ]
  },
  {
   "cell_type": "markdown",
   "id": "12737846",
   "metadata": {},
   "source": [
    "### Importancia por permutación"
   ]
  },
  {
   "cell_type": "markdown",
   "id": "0c1c07b7",
   "metadata": {},
   "source": [
    "Seleccionaremos las variables independientes por su importancia, siguiendo el método de permutación de la librería *eli5*, como ya hicimos en el notebook 09_ RANDOM_FOREST_MODEL_OPTIMIZATION.\n",
    "\n",
    "Para ello, empezaremos por calcular la **importancia de cada uno de los** ***features*** de acuerdo a su influencia en la métrica *recall*:"
   ]
  },
  {
   "cell_type": "code",
   "execution_count": 15,
   "id": "87357e4d",
   "metadata": {},
   "outputs": [
    {
     "name": "stdout",
     "output_type": "stream",
     "text": [
      "43\n"
     ]
    },
    {
     "data": {
      "text/plain": [
       "['x0_(direct)',\n",
       " 'x0_bing',\n",
       " 'x0_cantabrialabs.es',\n",
       " 'x0_facebook',\n",
       " 'x0_google',\n",
       " 'x0_instagram',\n",
       " 'x0_other sources',\n",
       " 'x0_sendinblue',\n",
       " 'x0_vogue',\n",
       " 'x0_yahoo',\n",
       " 'x0_youtube',\n",
       " 'x0_IGShopping',\n",
       " 'x0_cpc',\n",
       " 'x0_email',\n",
       " 'x0_facebook ads',\n",
       " 'x0_facebook feed',\n",
       " 'x0_facebook trafico',\n",
       " 'x0_organic',\n",
       " 'x0_referral',\n",
       " 'x0_desktop',\n",
       " 'x0_mobile',\n",
       " 'x0_tablet',\n",
       " 'x0_Android',\n",
       " 'x0_Macintosh',\n",
       " 'x0_Windows',\n",
       " 'x0_iOS',\n",
       " 'x0_other OS',\n",
       " 'ga:productSKU',\n",
       " 'ga:city',\n",
       " 'ga:pagePath',\n",
       " 'ga:landingPagePath',\n",
       " 'Product_price',\n",
       " 'Web_Discount',\n",
       " 'Detail_View',\n",
       " 'Returning_Visitor',\n",
       " 'ga:sessionCount',\n",
       " 'ga:daysSinceLastSession',\n",
       " 'month_sin',\n",
       " 'month_cos',\n",
       " 'dayofweek_sin',\n",
       " 'dayofweek_cos',\n",
       " 'hour_sin',\n",
       " 'hour_cos']"
      ]
     },
     "execution_count": 15,
     "metadata": {},
     "output_type": "execute_result"
    }
   ],
   "source": [
    "features_names=[]\n",
    "\n",
    "for feature in range(0,4):\n",
    "    features= list(pipeline.named_steps['preprocess'].transformers_[feature][1].named_steps['ohe'].get_feature_names())\n",
    "    features_names.append(features)\n",
    "\n",
    "for feature in range(4,7):\n",
    "    features = pipeline['preprocess'].transformers_[feature][2]\n",
    "    features_names.append(features)\n",
    "\n",
    "features_names = [j for i in features_names for j in i]\n",
    "print(len(features_names))\n",
    "features_names"
   ]
  },
  {
   "cell_type": "code",
   "execution_count": 11,
   "id": "77d01066",
   "metadata": {},
   "outputs": [
    {
     "name": "stdout",
     "output_type": "stream",
     "text": [
      "CPU times: user 2h 56min 19s, sys: 15.8 s, total: 2h 56min 34s\n",
      "Wall time: 2h 56min 42s\n"
     ]
    },
    {
     "data": {
      "text/html": [
       "\n",
       "    <style>\n",
       "    table.eli5-weights tr:hover {\n",
       "        filter: brightness(85%);\n",
       "    }\n",
       "</style>\n",
       "\n",
       "\n",
       "\n",
       "    \n",
       "\n",
       "    \n",
       "\n",
       "    \n",
       "\n",
       "    \n",
       "\n",
       "    \n",
       "\n",
       "    \n",
       "\n",
       "\n",
       "    \n",
       "\n",
       "    \n",
       "\n",
       "    \n",
       "\n",
       "    \n",
       "\n",
       "    \n",
       "\n",
       "    \n",
       "\n",
       "\n",
       "    \n",
       "\n",
       "    \n",
       "\n",
       "    \n",
       "\n",
       "    \n",
       "\n",
       "    \n",
       "        <table class=\"eli5-weights eli5-feature-importances\" style=\"border-collapse: collapse; border: none; margin-top: 0em; table-layout: auto;\">\n",
       "    <thead>\n",
       "    <tr style=\"border: none;\">\n",
       "        <th style=\"padding: 0 1em 0 0.5em; text-align: right; border: none;\">Weight</th>\n",
       "        <th style=\"padding: 0 0.5em 0 0.5em; text-align: left; border: none;\">Feature</th>\n",
       "    </tr>\n",
       "    </thead>\n",
       "    <tbody>\n",
       "    \n",
       "        <tr style=\"background-color: hsl(120, 100.00%, 80.00%); border: none;\">\n",
       "            <td style=\"padding: 0 1em 0 0.5em; text-align: right; border: none;\">\n",
       "                0.1195\n",
       "                \n",
       "                    &plusmn; 0.0026\n",
       "                \n",
       "            </td>\n",
       "            <td style=\"padding: 0 0.5em 0 0.5em; text-align: left; border: none;\">\n",
       "                ga:pagePath\n",
       "            </td>\n",
       "        </tr>\n",
       "    \n",
       "        <tr style=\"background-color: hsl(120, 100.00%, 84.97%); border: none;\">\n",
       "            <td style=\"padding: 0 1em 0 0.5em; text-align: right; border: none;\">\n",
       "                0.0795\n",
       "                \n",
       "                    &plusmn; 0.0019\n",
       "                \n",
       "            </td>\n",
       "            <td style=\"padding: 0 0.5em 0 0.5em; text-align: left; border: none;\">\n",
       "                ga:productSKU\n",
       "            </td>\n",
       "        </tr>\n",
       "    \n",
       "        <tr style=\"background-color: hsl(120, 100.00%, 87.76%); border: none;\">\n",
       "            <td style=\"padding: 0 1em 0 0.5em; text-align: right; border: none;\">\n",
       "                0.0593\n",
       "                \n",
       "                    &plusmn; 0.0015\n",
       "                \n",
       "            </td>\n",
       "            <td style=\"padding: 0 0.5em 0 0.5em; text-align: left; border: none;\">\n",
       "                ga:landingPagePath\n",
       "            </td>\n",
       "        </tr>\n",
       "    \n",
       "        <tr style=\"background-color: hsl(120, 100.00%, 90.08%); border: none;\">\n",
       "            <td style=\"padding: 0 1em 0 0.5em; text-align: right; border: none;\">\n",
       "                0.0439\n",
       "                \n",
       "                    &plusmn; 0.0027\n",
       "                \n",
       "            </td>\n",
       "            <td style=\"padding: 0 0.5em 0 0.5em; text-align: left; border: none;\">\n",
       "                Product_price\n",
       "            </td>\n",
       "        </tr>\n",
       "    \n",
       "        <tr style=\"background-color: hsl(120, 100.00%, 90.43%); border: none;\">\n",
       "            <td style=\"padding: 0 1em 0 0.5em; text-align: right; border: none;\">\n",
       "                0.0417\n",
       "                \n",
       "                    &plusmn; 0.0027\n",
       "                \n",
       "            </td>\n",
       "            <td style=\"padding: 0 0.5em 0 0.5em; text-align: left; border: none;\">\n",
       "                Detail_View\n",
       "            </td>\n",
       "        </tr>\n",
       "    \n",
       "        <tr style=\"background-color: hsl(120, 100.00%, 91.65%); border: none;\">\n",
       "            <td style=\"padding: 0 1em 0 0.5em; text-align: right; border: none;\">\n",
       "                0.0343\n",
       "                \n",
       "                    &plusmn; 0.0018\n",
       "                \n",
       "            </td>\n",
       "            <td style=\"padding: 0 0.5em 0 0.5em; text-align: left; border: none;\">\n",
       "                month_sin\n",
       "            </td>\n",
       "        </tr>\n",
       "    \n",
       "        <tr style=\"background-color: hsl(120, 100.00%, 91.74%); border: none;\">\n",
       "            <td style=\"padding: 0 1em 0 0.5em; text-align: right; border: none;\">\n",
       "                0.0338\n",
       "                \n",
       "                    &plusmn; 0.0026\n",
       "                \n",
       "            </td>\n",
       "            <td style=\"padding: 0 0.5em 0 0.5em; text-align: left; border: none;\">\n",
       "                Web_Discount\n",
       "            </td>\n",
       "        </tr>\n",
       "    \n",
       "        <tr style=\"background-color: hsl(120, 100.00%, 93.15%); border: none;\">\n",
       "            <td style=\"padding: 0 1em 0 0.5em; text-align: right; border: none;\">\n",
       "                0.0259\n",
       "                \n",
       "                    &plusmn; 0.0006\n",
       "                \n",
       "            </td>\n",
       "            <td style=\"padding: 0 0.5em 0 0.5em; text-align: left; border: none;\">\n",
       "                month_cos\n",
       "            </td>\n",
       "        </tr>\n",
       "    \n",
       "        <tr style=\"background-color: hsl(120, 100.00%, 94.53%); border: none;\">\n",
       "            <td style=\"padding: 0 1em 0 0.5em; text-align: right; border: none;\">\n",
       "                0.0188\n",
       "                \n",
       "                    &plusmn; 0.0019\n",
       "                \n",
       "            </td>\n",
       "            <td style=\"padding: 0 0.5em 0 0.5em; text-align: left; border: none;\">\n",
       "                ga:city\n",
       "            </td>\n",
       "        </tr>\n",
       "    \n",
       "        <tr style=\"background-color: hsl(120, 100.00%, 94.53%); border: none;\">\n",
       "            <td style=\"padding: 0 1em 0 0.5em; text-align: right; border: none;\">\n",
       "                0.0187\n",
       "                \n",
       "                    &plusmn; 0.0028\n",
       "                \n",
       "            </td>\n",
       "            <td style=\"padding: 0 0.5em 0 0.5em; text-align: left; border: none;\">\n",
       "                x0_google\n",
       "            </td>\n",
       "        </tr>\n",
       "    \n",
       "        <tr style=\"background-color: hsl(120, 100.00%, 94.55%); border: none;\">\n",
       "            <td style=\"padding: 0 1em 0 0.5em; text-align: right; border: none;\">\n",
       "                0.0187\n",
       "                \n",
       "                    &plusmn; 0.0008\n",
       "                \n",
       "            </td>\n",
       "            <td style=\"padding: 0 0.5em 0 0.5em; text-align: left; border: none;\">\n",
       "                ga:sessionCount\n",
       "            </td>\n",
       "        </tr>\n",
       "    \n",
       "        <tr style=\"background-color: hsl(120, 100.00%, 94.73%); border: none;\">\n",
       "            <td style=\"padding: 0 1em 0 0.5em; text-align: right; border: none;\">\n",
       "                0.0178\n",
       "                \n",
       "                    &plusmn; 0.0009\n",
       "                \n",
       "            </td>\n",
       "            <td style=\"padding: 0 0.5em 0 0.5em; text-align: left; border: none;\">\n",
       "                hour_cos\n",
       "            </td>\n",
       "        </tr>\n",
       "    \n",
       "        <tr style=\"background-color: hsl(120, 100.00%, 94.92%); border: none;\">\n",
       "            <td style=\"padding: 0 1em 0 0.5em; text-align: right; border: none;\">\n",
       "                0.0169\n",
       "                \n",
       "                    &plusmn; 0.0013\n",
       "                \n",
       "            </td>\n",
       "            <td style=\"padding: 0 0.5em 0 0.5em; text-align: left; border: none;\">\n",
       "                dayofweek_sin\n",
       "            </td>\n",
       "        </tr>\n",
       "    \n",
       "        <tr style=\"background-color: hsl(120, 100.00%, 94.95%); border: none;\">\n",
       "            <td style=\"padding: 0 1em 0 0.5em; text-align: right; border: none;\">\n",
       "                0.0167\n",
       "                \n",
       "                    &plusmn; 0.0017\n",
       "                \n",
       "            </td>\n",
       "            <td style=\"padding: 0 0.5em 0 0.5em; text-align: left; border: none;\">\n",
       "                hour_sin\n",
       "            </td>\n",
       "        </tr>\n",
       "    \n",
       "        <tr style=\"background-color: hsl(120, 100.00%, 94.98%); border: none;\">\n",
       "            <td style=\"padding: 0 1em 0 0.5em; text-align: right; border: none;\">\n",
       "                0.0166\n",
       "                \n",
       "                    &plusmn; 0.0020\n",
       "                \n",
       "            </td>\n",
       "            <td style=\"padding: 0 0.5em 0 0.5em; text-align: left; border: none;\">\n",
       "                dayofweek_cos\n",
       "            </td>\n",
       "        </tr>\n",
       "    \n",
       "        <tr style=\"background-color: hsl(120, 100.00%, 95.14%); border: none;\">\n",
       "            <td style=\"padding: 0 1em 0 0.5em; text-align: right; border: none;\">\n",
       "                0.0158\n",
       "                \n",
       "                    &plusmn; 0.0015\n",
       "                \n",
       "            </td>\n",
       "            <td style=\"padding: 0 0.5em 0 0.5em; text-align: left; border: none;\">\n",
       "                x0_Android\n",
       "            </td>\n",
       "        </tr>\n",
       "    \n",
       "        <tr style=\"background-color: hsl(120, 100.00%, 95.21%); border: none;\">\n",
       "            <td style=\"padding: 0 1em 0 0.5em; text-align: right; border: none;\">\n",
       "                0.0155\n",
       "                \n",
       "                    &plusmn; 0.0010\n",
       "                \n",
       "            </td>\n",
       "            <td style=\"padding: 0 0.5em 0 0.5em; text-align: left; border: none;\">\n",
       "                x0_cpc\n",
       "            </td>\n",
       "        </tr>\n",
       "    \n",
       "        <tr style=\"background-color: hsl(120, 100.00%, 95.77%); border: none;\">\n",
       "            <td style=\"padding: 0 1em 0 0.5em; text-align: right; border: none;\">\n",
       "                0.0130\n",
       "                \n",
       "                    &plusmn; 0.0019\n",
       "                \n",
       "            </td>\n",
       "            <td style=\"padding: 0 0.5em 0 0.5em; text-align: left; border: none;\">\n",
       "                x0_organic\n",
       "            </td>\n",
       "        </tr>\n",
       "    \n",
       "        <tr style=\"background-color: hsl(120, 100.00%, 95.84%); border: none;\">\n",
       "            <td style=\"padding: 0 1em 0 0.5em; text-align: right; border: none;\">\n",
       "                0.0127\n",
       "                \n",
       "                    &plusmn; 0.0016\n",
       "                \n",
       "            </td>\n",
       "            <td style=\"padding: 0 0.5em 0 0.5em; text-align: left; border: none;\">\n",
       "                x0_desktop\n",
       "            </td>\n",
       "        </tr>\n",
       "    \n",
       "        <tr style=\"background-color: hsl(120, 100.00%, 96.02%); border: none;\">\n",
       "            <td style=\"padding: 0 1em 0 0.5em; text-align: right; border: none;\">\n",
       "                0.0119\n",
       "                \n",
       "                    &plusmn; 0.0017\n",
       "                \n",
       "            </td>\n",
       "            <td style=\"padding: 0 0.5em 0 0.5em; text-align: left; border: none;\">\n",
       "                Returning_Visitor\n",
       "            </td>\n",
       "        </tr>\n",
       "    \n",
       "    \n",
       "        \n",
       "            <tr style=\"background-color: hsl(120, 100.00%, 96.02%); border: none;\">\n",
       "                <td colspan=\"2\" style=\"padding: 0 0.5em 0 0.5em; text-align: center; border: none; white-space: nowrap;\">\n",
       "                    <i>&hellip; 23 more &hellip;</i>\n",
       "                </td>\n",
       "            </tr>\n",
       "        \n",
       "    \n",
       "    </tbody>\n",
       "</table>\n",
       "    \n",
       "\n",
       "    \n",
       "\n",
       "\n",
       "    \n",
       "\n",
       "    \n",
       "\n",
       "    \n",
       "\n",
       "    \n",
       "\n",
       "    \n",
       "\n",
       "    \n",
       "\n",
       "\n",
       "\n"
      ],
      "text/plain": [
       "<IPython.core.display.HTML object>"
      ]
     },
     "execution_count": 11,
     "metadata": {},
     "output_type": "execute_result"
    }
   ],
   "source": [
    "%%time\n",
    "\n",
    "clf = RandomForestClassifier()\n",
    "clf.fit(X_train_transf,y_train)\n",
    "per = PermutationImportance(clf, scoring=\"recall\",random_state=43).fit(X_test_transf, y_test)\n",
    "eli5.show_weights(per, feature_names=features_names)"
   ]
  },
  {
   "cell_type": "code",
   "execution_count": 12,
   "id": "612bae66",
   "metadata": {},
   "outputs": [
    {
     "data": {
      "text/html": [
       "\n",
       "    <style>\n",
       "    table.eli5-weights tr:hover {\n",
       "        filter: brightness(85%);\n",
       "    }\n",
       "</style>\n",
       "\n",
       "\n",
       "\n",
       "    \n",
       "\n",
       "    \n",
       "\n",
       "    \n",
       "\n",
       "    \n",
       "\n",
       "    \n",
       "\n",
       "    \n",
       "\n",
       "\n",
       "    \n",
       "\n",
       "    \n",
       "\n",
       "    \n",
       "\n",
       "    \n",
       "\n",
       "    \n",
       "\n",
       "    \n",
       "\n",
       "\n",
       "    \n",
       "\n",
       "    \n",
       "\n",
       "    \n",
       "\n",
       "    \n",
       "\n",
       "    \n",
       "        <table class=\"eli5-weights eli5-feature-importances\" style=\"border-collapse: collapse; border: none; margin-top: 0em; table-layout: auto;\">\n",
       "    <thead>\n",
       "    <tr style=\"border: none;\">\n",
       "        <th style=\"padding: 0 1em 0 0.5em; text-align: right; border: none;\">Weight</th>\n",
       "        <th style=\"padding: 0 0.5em 0 0.5em; text-align: left; border: none;\">Feature</th>\n",
       "    </tr>\n",
       "    </thead>\n",
       "    <tbody>\n",
       "    \n",
       "        <tr style=\"background-color: hsl(120, 100.00%, 80.00%); border: none;\">\n",
       "            <td style=\"padding: 0 1em 0 0.5em; text-align: right; border: none;\">\n",
       "                0.1195\n",
       "                \n",
       "                    &plusmn; 0.0026\n",
       "                \n",
       "            </td>\n",
       "            <td style=\"padding: 0 0.5em 0 0.5em; text-align: left; border: none;\">\n",
       "                ga:pagePath\n",
       "            </td>\n",
       "        </tr>\n",
       "    \n",
       "        <tr style=\"background-color: hsl(120, 100.00%, 84.97%); border: none;\">\n",
       "            <td style=\"padding: 0 1em 0 0.5em; text-align: right; border: none;\">\n",
       "                0.0795\n",
       "                \n",
       "                    &plusmn; 0.0019\n",
       "                \n",
       "            </td>\n",
       "            <td style=\"padding: 0 0.5em 0 0.5em; text-align: left; border: none;\">\n",
       "                ga:productSKU\n",
       "            </td>\n",
       "        </tr>\n",
       "    \n",
       "        <tr style=\"background-color: hsl(120, 100.00%, 87.76%); border: none;\">\n",
       "            <td style=\"padding: 0 1em 0 0.5em; text-align: right; border: none;\">\n",
       "                0.0593\n",
       "                \n",
       "                    &plusmn; 0.0015\n",
       "                \n",
       "            </td>\n",
       "            <td style=\"padding: 0 0.5em 0 0.5em; text-align: left; border: none;\">\n",
       "                ga:landingPagePath\n",
       "            </td>\n",
       "        </tr>\n",
       "    \n",
       "        <tr style=\"background-color: hsl(120, 100.00%, 90.08%); border: none;\">\n",
       "            <td style=\"padding: 0 1em 0 0.5em; text-align: right; border: none;\">\n",
       "                0.0439\n",
       "                \n",
       "                    &plusmn; 0.0027\n",
       "                \n",
       "            </td>\n",
       "            <td style=\"padding: 0 0.5em 0 0.5em; text-align: left; border: none;\">\n",
       "                Product_price\n",
       "            </td>\n",
       "        </tr>\n",
       "    \n",
       "        <tr style=\"background-color: hsl(120, 100.00%, 90.43%); border: none;\">\n",
       "            <td style=\"padding: 0 1em 0 0.5em; text-align: right; border: none;\">\n",
       "                0.0417\n",
       "                \n",
       "                    &plusmn; 0.0027\n",
       "                \n",
       "            </td>\n",
       "            <td style=\"padding: 0 0.5em 0 0.5em; text-align: left; border: none;\">\n",
       "                Detail_View\n",
       "            </td>\n",
       "        </tr>\n",
       "    \n",
       "        <tr style=\"background-color: hsl(120, 100.00%, 91.65%); border: none;\">\n",
       "            <td style=\"padding: 0 1em 0 0.5em; text-align: right; border: none;\">\n",
       "                0.0343\n",
       "                \n",
       "                    &plusmn; 0.0018\n",
       "                \n",
       "            </td>\n",
       "            <td style=\"padding: 0 0.5em 0 0.5em; text-align: left; border: none;\">\n",
       "                month_sin\n",
       "            </td>\n",
       "        </tr>\n",
       "    \n",
       "        <tr style=\"background-color: hsl(120, 100.00%, 91.74%); border: none;\">\n",
       "            <td style=\"padding: 0 1em 0 0.5em; text-align: right; border: none;\">\n",
       "                0.0338\n",
       "                \n",
       "                    &plusmn; 0.0026\n",
       "                \n",
       "            </td>\n",
       "            <td style=\"padding: 0 0.5em 0 0.5em; text-align: left; border: none;\">\n",
       "                Web_Discount\n",
       "            </td>\n",
       "        </tr>\n",
       "    \n",
       "        <tr style=\"background-color: hsl(120, 100.00%, 93.15%); border: none;\">\n",
       "            <td style=\"padding: 0 1em 0 0.5em; text-align: right; border: none;\">\n",
       "                0.0259\n",
       "                \n",
       "                    &plusmn; 0.0006\n",
       "                \n",
       "            </td>\n",
       "            <td style=\"padding: 0 0.5em 0 0.5em; text-align: left; border: none;\">\n",
       "                month_cos\n",
       "            </td>\n",
       "        </tr>\n",
       "    \n",
       "        <tr style=\"background-color: hsl(120, 100.00%, 94.53%); border: none;\">\n",
       "            <td style=\"padding: 0 1em 0 0.5em; text-align: right; border: none;\">\n",
       "                0.0188\n",
       "                \n",
       "                    &plusmn; 0.0019\n",
       "                \n",
       "            </td>\n",
       "            <td style=\"padding: 0 0.5em 0 0.5em; text-align: left; border: none;\">\n",
       "                ga:city\n",
       "            </td>\n",
       "        </tr>\n",
       "    \n",
       "        <tr style=\"background-color: hsl(120, 100.00%, 94.53%); border: none;\">\n",
       "            <td style=\"padding: 0 1em 0 0.5em; text-align: right; border: none;\">\n",
       "                0.0187\n",
       "                \n",
       "                    &plusmn; 0.0028\n",
       "                \n",
       "            </td>\n",
       "            <td style=\"padding: 0 0.5em 0 0.5em; text-align: left; border: none;\">\n",
       "                x0_google\n",
       "            </td>\n",
       "        </tr>\n",
       "    \n",
       "        <tr style=\"background-color: hsl(120, 100.00%, 94.55%); border: none;\">\n",
       "            <td style=\"padding: 0 1em 0 0.5em; text-align: right; border: none;\">\n",
       "                0.0187\n",
       "                \n",
       "                    &plusmn; 0.0008\n",
       "                \n",
       "            </td>\n",
       "            <td style=\"padding: 0 0.5em 0 0.5em; text-align: left; border: none;\">\n",
       "                ga:sessionCount\n",
       "            </td>\n",
       "        </tr>\n",
       "    \n",
       "        <tr style=\"background-color: hsl(120, 100.00%, 94.73%); border: none;\">\n",
       "            <td style=\"padding: 0 1em 0 0.5em; text-align: right; border: none;\">\n",
       "                0.0178\n",
       "                \n",
       "                    &plusmn; 0.0009\n",
       "                \n",
       "            </td>\n",
       "            <td style=\"padding: 0 0.5em 0 0.5em; text-align: left; border: none;\">\n",
       "                hour_cos\n",
       "            </td>\n",
       "        </tr>\n",
       "    \n",
       "        <tr style=\"background-color: hsl(120, 100.00%, 94.92%); border: none;\">\n",
       "            <td style=\"padding: 0 1em 0 0.5em; text-align: right; border: none;\">\n",
       "                0.0169\n",
       "                \n",
       "                    &plusmn; 0.0013\n",
       "                \n",
       "            </td>\n",
       "            <td style=\"padding: 0 0.5em 0 0.5em; text-align: left; border: none;\">\n",
       "                dayofweek_sin\n",
       "            </td>\n",
       "        </tr>\n",
       "    \n",
       "        <tr style=\"background-color: hsl(120, 100.00%, 94.95%); border: none;\">\n",
       "            <td style=\"padding: 0 1em 0 0.5em; text-align: right; border: none;\">\n",
       "                0.0167\n",
       "                \n",
       "                    &plusmn; 0.0017\n",
       "                \n",
       "            </td>\n",
       "            <td style=\"padding: 0 0.5em 0 0.5em; text-align: left; border: none;\">\n",
       "                hour_sin\n",
       "            </td>\n",
       "        </tr>\n",
       "    \n",
       "        <tr style=\"background-color: hsl(120, 100.00%, 94.98%); border: none;\">\n",
       "            <td style=\"padding: 0 1em 0 0.5em; text-align: right; border: none;\">\n",
       "                0.0166\n",
       "                \n",
       "                    &plusmn; 0.0020\n",
       "                \n",
       "            </td>\n",
       "            <td style=\"padding: 0 0.5em 0 0.5em; text-align: left; border: none;\">\n",
       "                dayofweek_cos\n",
       "            </td>\n",
       "        </tr>\n",
       "    \n",
       "        <tr style=\"background-color: hsl(120, 100.00%, 95.14%); border: none;\">\n",
       "            <td style=\"padding: 0 1em 0 0.5em; text-align: right; border: none;\">\n",
       "                0.0158\n",
       "                \n",
       "                    &plusmn; 0.0015\n",
       "                \n",
       "            </td>\n",
       "            <td style=\"padding: 0 0.5em 0 0.5em; text-align: left; border: none;\">\n",
       "                x0_Android\n",
       "            </td>\n",
       "        </tr>\n",
       "    \n",
       "        <tr style=\"background-color: hsl(120, 100.00%, 95.21%); border: none;\">\n",
       "            <td style=\"padding: 0 1em 0 0.5em; text-align: right; border: none;\">\n",
       "                0.0155\n",
       "                \n",
       "                    &plusmn; 0.0010\n",
       "                \n",
       "            </td>\n",
       "            <td style=\"padding: 0 0.5em 0 0.5em; text-align: left; border: none;\">\n",
       "                x0_cpc\n",
       "            </td>\n",
       "        </tr>\n",
       "    \n",
       "        <tr style=\"background-color: hsl(120, 100.00%, 95.77%); border: none;\">\n",
       "            <td style=\"padding: 0 1em 0 0.5em; text-align: right; border: none;\">\n",
       "                0.0130\n",
       "                \n",
       "                    &plusmn; 0.0019\n",
       "                \n",
       "            </td>\n",
       "            <td style=\"padding: 0 0.5em 0 0.5em; text-align: left; border: none;\">\n",
       "                x0_organic\n",
       "            </td>\n",
       "        </tr>\n",
       "    \n",
       "        <tr style=\"background-color: hsl(120, 100.00%, 95.84%); border: none;\">\n",
       "            <td style=\"padding: 0 1em 0 0.5em; text-align: right; border: none;\">\n",
       "                0.0127\n",
       "                \n",
       "                    &plusmn; 0.0016\n",
       "                \n",
       "            </td>\n",
       "            <td style=\"padding: 0 0.5em 0 0.5em; text-align: left; border: none;\">\n",
       "                x0_desktop\n",
       "            </td>\n",
       "        </tr>\n",
       "    \n",
       "        <tr style=\"background-color: hsl(120, 100.00%, 96.02%); border: none;\">\n",
       "            <td style=\"padding: 0 1em 0 0.5em; text-align: right; border: none;\">\n",
       "                0.0119\n",
       "                \n",
       "                    &plusmn; 0.0017\n",
       "                \n",
       "            </td>\n",
       "            <td style=\"padding: 0 0.5em 0 0.5em; text-align: left; border: none;\">\n",
       "                Returning_Visitor\n",
       "            </td>\n",
       "        </tr>\n",
       "    \n",
       "        <tr style=\"background-color: hsl(120, 100.00%, 96.27%); border: none;\">\n",
       "            <td style=\"padding: 0 1em 0 0.5em; text-align: right; border: none;\">\n",
       "                0.0109\n",
       "                \n",
       "                    &plusmn; 0.0035\n",
       "                \n",
       "            </td>\n",
       "            <td style=\"padding: 0 0.5em 0 0.5em; text-align: left; border: none;\">\n",
       "                x0_mobile\n",
       "            </td>\n",
       "        </tr>\n",
       "    \n",
       "        <tr style=\"background-color: hsl(120, 100.00%, 96.51%); border: none;\">\n",
       "            <td style=\"padding: 0 1em 0 0.5em; text-align: right; border: none;\">\n",
       "                0.0099\n",
       "                \n",
       "                    &plusmn; 0.0011\n",
       "                \n",
       "            </td>\n",
       "            <td style=\"padding: 0 0.5em 0 0.5em; text-align: left; border: none;\">\n",
       "                x0_(direct)\n",
       "            </td>\n",
       "        </tr>\n",
       "    \n",
       "        <tr style=\"background-color: hsl(120, 100.00%, 97.08%); border: none;\">\n",
       "            <td style=\"padding: 0 1em 0 0.5em; text-align: right; border: none;\">\n",
       "                0.0076\n",
       "                \n",
       "                    &plusmn; 0.0016\n",
       "                \n",
       "            </td>\n",
       "            <td style=\"padding: 0 0.5em 0 0.5em; text-align: left; border: none;\">\n",
       "                ga:daysSinceLastSession\n",
       "            </td>\n",
       "        </tr>\n",
       "    \n",
       "        <tr style=\"background-color: hsl(120, 100.00%, 97.09%); border: none;\">\n",
       "            <td style=\"padding: 0 1em 0 0.5em; text-align: right; border: none;\">\n",
       "                0.0076\n",
       "                \n",
       "                    &plusmn; 0.0018\n",
       "                \n",
       "            </td>\n",
       "            <td style=\"padding: 0 0.5em 0 0.5em; text-align: left; border: none;\">\n",
       "                x0_iOS\n",
       "            </td>\n",
       "        </tr>\n",
       "    \n",
       "        <tr style=\"background-color: hsl(120, 100.00%, 97.31%); border: none;\">\n",
       "            <td style=\"padding: 0 1em 0 0.5em; text-align: right; border: none;\">\n",
       "                0.0068\n",
       "                \n",
       "                    &plusmn; 0.0012\n",
       "                \n",
       "            </td>\n",
       "            <td style=\"padding: 0 0.5em 0 0.5em; text-align: left; border: none;\">\n",
       "                x0_Windows\n",
       "            </td>\n",
       "        </tr>\n",
       "    \n",
       "        <tr style=\"background-color: hsl(120, 100.00%, 97.57%); border: none;\">\n",
       "            <td style=\"padding: 0 1em 0 0.5em; text-align: right; border: none;\">\n",
       "                0.0059\n",
       "                \n",
       "                    &plusmn; 0.0007\n",
       "                \n",
       "            </td>\n",
       "            <td style=\"padding: 0 0.5em 0 0.5em; text-align: left; border: none;\">\n",
       "                x0_email\n",
       "            </td>\n",
       "        </tr>\n",
       "    \n",
       "        <tr style=\"background-color: hsl(120, 100.00%, 97.72%); border: none;\">\n",
       "            <td style=\"padding: 0 1em 0 0.5em; text-align: right; border: none;\">\n",
       "                0.0054\n",
       "                \n",
       "                    &plusmn; 0.0006\n",
       "                \n",
       "            </td>\n",
       "            <td style=\"padding: 0 0.5em 0 0.5em; text-align: left; border: none;\">\n",
       "                x0_sendinblue\n",
       "            </td>\n",
       "        </tr>\n",
       "    \n",
       "        <tr style=\"background-color: hsl(120, 100.00%, 98.05%); border: none;\">\n",
       "            <td style=\"padding: 0 1em 0 0.5em; text-align: right; border: none;\">\n",
       "                0.0043\n",
       "                \n",
       "                    &plusmn; 0.0005\n",
       "                \n",
       "            </td>\n",
       "            <td style=\"padding: 0 0.5em 0 0.5em; text-align: left; border: none;\">\n",
       "                x0_referral\n",
       "            </td>\n",
       "        </tr>\n",
       "    \n",
       "        <tr style=\"background-color: hsl(120, 100.00%, 98.28%); border: none;\">\n",
       "            <td style=\"padding: 0 1em 0 0.5em; text-align: right; border: none;\">\n",
       "                0.0036\n",
       "                \n",
       "                    &plusmn; 0.0008\n",
       "                \n",
       "            </td>\n",
       "            <td style=\"padding: 0 0.5em 0 0.5em; text-align: left; border: none;\">\n",
       "                x0_instagram\n",
       "            </td>\n",
       "        </tr>\n",
       "    \n",
       "        <tr style=\"background-color: hsl(120, 100.00%, 98.78%); border: none;\">\n",
       "            <td style=\"padding: 0 1em 0 0.5em; text-align: right; border: none;\">\n",
       "                0.0022\n",
       "                \n",
       "                    &plusmn; 0.0006\n",
       "                \n",
       "            </td>\n",
       "            <td style=\"padding: 0 0.5em 0 0.5em; text-align: left; border: none;\">\n",
       "                x0_Macintosh\n",
       "            </td>\n",
       "        </tr>\n",
       "    \n",
       "        <tr style=\"background-color: hsl(120, 100.00%, 99.29%); border: none;\">\n",
       "            <td style=\"padding: 0 1em 0 0.5em; text-align: right; border: none;\">\n",
       "                0.0010\n",
       "                \n",
       "                    &plusmn; 0.0007\n",
       "                \n",
       "            </td>\n",
       "            <td style=\"padding: 0 0.5em 0 0.5em; text-align: left; border: none;\">\n",
       "                x0_tablet\n",
       "            </td>\n",
       "        </tr>\n",
       "    \n",
       "        <tr style=\"background-color: hsl(120, 100.00%, 99.48%); border: none;\">\n",
       "            <td style=\"padding: 0 1em 0 0.5em; text-align: right; border: none;\">\n",
       "                0.0006\n",
       "                \n",
       "                    &plusmn; 0.0005\n",
       "                \n",
       "            </td>\n",
       "            <td style=\"padding: 0 0.5em 0 0.5em; text-align: left; border: none;\">\n",
       "                x0_facebook\n",
       "            </td>\n",
       "        </tr>\n",
       "    \n",
       "        <tr style=\"background-color: hsl(120, 100.00%, 99.56%); border: none;\">\n",
       "            <td style=\"padding: 0 1em 0 0.5em; text-align: right; border: none;\">\n",
       "                0.0005\n",
       "                \n",
       "                    &plusmn; 0.0004\n",
       "                \n",
       "            </td>\n",
       "            <td style=\"padding: 0 0.5em 0 0.5em; text-align: left; border: none;\">\n",
       "                x0_IGShopping\n",
       "            </td>\n",
       "        </tr>\n",
       "    \n",
       "        <tr style=\"background-color: hsl(120, 100.00%, 99.61%); border: none;\">\n",
       "            <td style=\"padding: 0 1em 0 0.5em; text-align: right; border: none;\">\n",
       "                0.0004\n",
       "                \n",
       "                    &plusmn; 0.0003\n",
       "                \n",
       "            </td>\n",
       "            <td style=\"padding: 0 0.5em 0 0.5em; text-align: left; border: none;\">\n",
       "                x0_youtube\n",
       "            </td>\n",
       "        </tr>\n",
       "    \n",
       "        <tr style=\"background-color: hsl(120, 100.00%, 99.63%); border: none;\">\n",
       "            <td style=\"padding: 0 1em 0 0.5em; text-align: right; border: none;\">\n",
       "                0.0004\n",
       "                \n",
       "                    &plusmn; 0.0001\n",
       "                \n",
       "            </td>\n",
       "            <td style=\"padding: 0 0.5em 0 0.5em; text-align: left; border: none;\">\n",
       "                x0_other sources\n",
       "            </td>\n",
       "        </tr>\n",
       "    \n",
       "        <tr style=\"background-color: hsl(120, 100.00%, 99.78%); border: none;\">\n",
       "            <td style=\"padding: 0 1em 0 0.5em; text-align: right; border: none;\">\n",
       "                0.0002\n",
       "                \n",
       "                    &plusmn; 0.0001\n",
       "                \n",
       "            </td>\n",
       "            <td style=\"padding: 0 0.5em 0 0.5em; text-align: left; border: none;\">\n",
       "                x0_vogue\n",
       "            </td>\n",
       "        </tr>\n",
       "    \n",
       "        <tr style=\"background-color: hsl(120, 100.00%, 99.86%); border: none;\">\n",
       "            <td style=\"padding: 0 1em 0 0.5em; text-align: right; border: none;\">\n",
       "                0.0001\n",
       "                \n",
       "                    &plusmn; 0.0000\n",
       "                \n",
       "            </td>\n",
       "            <td style=\"padding: 0 0.5em 0 0.5em; text-align: left; border: none;\">\n",
       "                x0_bing\n",
       "            </td>\n",
       "        </tr>\n",
       "    \n",
       "        <tr style=\"background-color: hsl(0, 100.00%, 100.00%); border: none;\">\n",
       "            <td style=\"padding: 0 1em 0 0.5em; text-align: right; border: none;\">\n",
       "                0\n",
       "                \n",
       "                    &plusmn; 0.0000\n",
       "                \n",
       "            </td>\n",
       "            <td style=\"padding: 0 0.5em 0 0.5em; text-align: left; border: none;\">\n",
       "                x0_other OS\n",
       "            </td>\n",
       "        </tr>\n",
       "    \n",
       "        <tr style=\"background-color: hsl(0, 100.00%, 100.00%); border: none;\">\n",
       "            <td style=\"padding: 0 1em 0 0.5em; text-align: right; border: none;\">\n",
       "                0\n",
       "                \n",
       "                    &plusmn; 0.0000\n",
       "                \n",
       "            </td>\n",
       "            <td style=\"padding: 0 0.5em 0 0.5em; text-align: left; border: none;\">\n",
       "                x0_yahoo\n",
       "            </td>\n",
       "        </tr>\n",
       "    \n",
       "        <tr style=\"background-color: hsl(0, 100.00%, 100.00%); border: none;\">\n",
       "            <td style=\"padding: 0 1em 0 0.5em; text-align: right; border: none;\">\n",
       "                0\n",
       "                \n",
       "                    &plusmn; 0.0000\n",
       "                \n",
       "            </td>\n",
       "            <td style=\"padding: 0 0.5em 0 0.5em; text-align: left; border: none;\">\n",
       "                x0_facebook ads\n",
       "            </td>\n",
       "        </tr>\n",
       "    \n",
       "        <tr style=\"background-color: hsl(0, 100.00%, 100.00%); border: none;\">\n",
       "            <td style=\"padding: 0 1em 0 0.5em; text-align: right; border: none;\">\n",
       "                0\n",
       "                \n",
       "                    &plusmn; 0.0000\n",
       "                \n",
       "            </td>\n",
       "            <td style=\"padding: 0 0.5em 0 0.5em; text-align: left; border: none;\">\n",
       "                x0_facebook feed\n",
       "            </td>\n",
       "        </tr>\n",
       "    \n",
       "        <tr style=\"background-color: hsl(0, 100.00%, 100.00%); border: none;\">\n",
       "            <td style=\"padding: 0 1em 0 0.5em; text-align: right; border: none;\">\n",
       "                0\n",
       "                \n",
       "                    &plusmn; 0.0000\n",
       "                \n",
       "            </td>\n",
       "            <td style=\"padding: 0 0.5em 0 0.5em; text-align: left; border: none;\">\n",
       "                x0_facebook trafico\n",
       "            </td>\n",
       "        </tr>\n",
       "    \n",
       "        <tr style=\"background-color: hsl(0, 100.00%, 100.00%); border: none;\">\n",
       "            <td style=\"padding: 0 1em 0 0.5em; text-align: right; border: none;\">\n",
       "                0\n",
       "                \n",
       "                    &plusmn; 0.0000\n",
       "                \n",
       "            </td>\n",
       "            <td style=\"padding: 0 0.5em 0 0.5em; text-align: left; border: none;\">\n",
       "                x0_cantabrialabs.es\n",
       "            </td>\n",
       "        </tr>\n",
       "    \n",
       "    \n",
       "    </tbody>\n",
       "</table>\n",
       "    \n",
       "\n",
       "    \n",
       "\n",
       "\n",
       "    \n",
       "\n",
       "    \n",
       "\n",
       "    \n",
       "\n",
       "    \n",
       "\n",
       "    \n",
       "\n",
       "    \n",
       "\n",
       "\n",
       "\n"
      ],
      "text/plain": [
       "<IPython.core.display.HTML object>"
      ]
     },
     "execution_count": 12,
     "metadata": {},
     "output_type": "execute_result"
    }
   ],
   "source": [
    "eli5.show_weights(per, feature_names=features_names, top=45)"
   ]
  },
  {
   "cell_type": "markdown",
   "id": "6d7f0a17",
   "metadata": {},
   "source": [
    "*Eli5* indica **en verde** los features que mayor influencia tienen en la recall del modelo, hasta la variable *xo_Instagram*, en orden de magnitud e importancia. "
   ]
  },
  {
   "cell_type": "markdown",
   "id": "4418a161",
   "metadata": {},
   "source": [
    "### Selección de variables"
   ]
  },
  {
   "cell_type": "markdown",
   "id": "b78ce161",
   "metadata": {},
   "source": [
    "Llegados a este punto, ya podemos seleccionar las variables más significativas. En el notebook de optimización, utilizamos la clase *SelectFromModel* de SKLEARN pero, dado el elevado tiempo de computación que requirió (casi 8 horas), su falta de flexibilidad y que ya tenemos los pesos para cada uno de los features, haremos distintas pruebas lanzando distintos modelos con distintas agrupaciones:"
   ]
  },
  {
   "cell_type": "markdown",
   "id": "7011a44f",
   "metadata": {},
   "source": [
    "#### Prueba 1: *Threshold*=0.003 (top 29 features)"
   ]
  },
  {
   "cell_type": "markdown",
   "id": "0721fa11",
   "metadata": {},
   "source": [
    "Al lanzar el modelo únicamente con las variables que eli5 señalaba en verde, todas las métricas mejoran con respecto al modelo base:"
   ]
  },
  {
   "cell_type": "code",
   "execution_count": 42,
   "id": "95e5a923",
   "metadata": {},
   "outputs": [
    {
     "name": "stdout",
     "output_type": "stream",
     "text": [
      "14\n",
      "(2721219, 29)\n",
      "(907074, 29)\n"
     ]
    },
    {
     "data": {
      "text/plain": [
       "Index(['x0_(direct)', 'x0_google', 'x0_instagram', 'x0_sendinblue', 'x0_cpc',\n",
       "       'x0_email', 'x0_organic', 'x0_referral', 'x0_desktop', 'x0_mobile',\n",
       "       'x0_Android', 'x0_Windows', 'x0_iOS', 'ga:productSKU', 'ga:city',\n",
       "       'ga:pagePath', 'ga:landingPagePath', 'Product_price', 'Web_Discount',\n",
       "       'Detail_View', 'Returning_Visitor', 'ga:sessionCount',\n",
       "       'ga:daysSinceLastSession', 'month_sin', 'month_cos', 'dayofweek_sin',\n",
       "       'dayofweek_cos', 'hour_sin', 'hour_cos'],\n",
       "      dtype='object')"
      ]
     },
     "execution_count": 42,
     "metadata": {},
     "output_type": "execute_result"
    }
   ],
   "source": [
    "X_train_=pd.DataFrame(X_train_transf, columns=features_names)\n",
    "X_test_=pd.DataFrame(X_test_transf, columns=features_names)\n",
    "drop_features = ['x0_bing','x0_cantabrialabs.es','x0_facebook','x0_other sources','x0_vogue',\\\n",
    "                 'x0_yahoo','x0_youtube','x0_IGShopping','x0_facebook ads','x0_facebook feed',\\\n",
    "                 'x0_facebook trafico','x0_tablet','x0_Macintosh','x0_other OS']\n",
    "\n",
    "X_train_.drop(drop_features, axis=1, inplace=True)\n",
    "X_test_.drop(drop_features, axis=1, inplace=True)\n",
    "print(len(drop_features))\n",
    "print(X_train_.shape)\n",
    "print(X_test_.shape)\n",
    "X_train_.columns"
   ]
  },
  {
   "cell_type": "code",
   "execution_count": 18,
   "id": "95cc0eda",
   "metadata": {},
   "outputs": [
    {
     "name": "stdout",
     "output_type": "stream",
     "text": [
      "TRAINING SCORE: 0.9971560539596409\n",
      "ACCURACY: 0.987866480573801\n",
      "PRECISION: 0.43909880309786437\n",
      "RECALL: 0.1784113664537046\n",
      "F1 SCORE: 0.253729319229726\n",
      "AUC: 0.8954096430759393\n",
      "CPU times: user 1h 19min 39s, sys: 1min 12s, total: 1h 20min 51s\n",
      "Wall time: 22min 26s\n"
     ]
    },
    {
     "data": {
      "image/png": "[encoded data removed]",
      "text/plain": [
       "<Figure size 432x288 with 1 Axes>"
      ]
     },
     "metadata": {
      "needs_background": "light"
     },
     "output_type": "display_data"
    }
   ],
   "source": [
    "%%time\n",
    "\n",
    "clf = RandomForestClassifier(n_estimators=100,n_jobs=-1, oob_score=True,bootstrap=True,random_state=42)\n",
    "evaluate(clf,X_train_, X_test_, y_train, y_test)"
   ]
  },
  {
   "cell_type": "markdown",
   "id": "12f4cef1",
   "metadata": {},
   "source": [
    "#### Prueba 2: *Threshold*=0.0055 (top 26 features)"
   ]
  },
  {
   "cell_type": "markdown",
   "id": "8de456c8",
   "metadata": {},
   "source": [
    "Elevamos el *threshold*, retiramos 3 nuevas variables y relanzamos el modelo. De nuevo, vuelven a mejorar todas las métricas:"
   ]
  },
  {
   "cell_type": "code",
   "execution_count": 43,
   "id": "a433102c",
   "metadata": {},
   "outputs": [
    {
     "name": "stdout",
     "output_type": "stream",
     "text": [
      "(2721219, 26)\n",
      "(907074, 26)\n"
     ]
    },
    {
     "data": {
      "text/plain": [
       "Index(['x0_(direct)', 'x0_google', 'x0_cpc', 'x0_email', 'x0_organic',\n",
       "       'x0_desktop', 'x0_mobile', 'x0_Android', 'x0_Windows', 'x0_iOS',\n",
       "       'ga:productSKU', 'ga:city', 'ga:pagePath', 'ga:landingPagePath',\n",
       "       'Product_price', 'Web_Discount', 'Detail_View', 'Returning_Visitor',\n",
       "       'ga:sessionCount', 'ga:daysSinceLastSession', 'month_sin', 'month_cos',\n",
       "       'dayofweek_sin', 'dayofweek_cos', 'hour_sin', 'hour_cos'],\n",
       "      dtype='object')"
      ]
     },
     "execution_count": 43,
     "metadata": {},
     "output_type": "execute_result"
    }
   ],
   "source": [
    "X_train_.drop(['x0_instagram','x0_referral','x0_sendinblue'], axis=1, inplace=True)\n",
    "X_test_.drop(['x0_instagram','x0_referral','x0_sendinblue'], axis=1, inplace=True)\n",
    "print(X_train_.shape)\n",
    "print(X_test_.shape)\n",
    "X_train_.columns"
   ]
  },
  {
   "cell_type": "code",
   "execution_count": 21,
   "id": "1e0b163e",
   "metadata": {},
   "outputs": [
    {
     "name": "stdout",
     "output_type": "stream",
     "text": [
      "TRAINING SCORE: 0.9971560539596409\n",
      "ACCURACY: 0.9879293199893283\n",
      "PRECISION: 0.44694533762057875\n",
      "RECALL: 0.18556307809669115\n",
      "F1 SCORE: 0.26224647934775286\n",
      "AUC: 0.8990664638389786\n",
      "CPU times: user 1h 23min 17s, sys: 53.3 s, total: 1h 24min 10s\n",
      "Wall time: 22min 52s\n"
     ]
    },
    {
     "data": {
      "image/png": "[encoded data removed]",
      "text/plain": [
       "<Figure size 432x288 with 1 Axes>"
      ]
     },
     "metadata": {
      "needs_background": "light"
     },
     "output_type": "display_data"
    }
   ],
   "source": [
    "%%time\n",
    "\n",
    "clf = RandomForestClassifier(n_estimators=100,n_jobs=-1, oob_score=True,bootstrap=True,random_state=42)\n",
    "evaluate(clf,X_train_, X_test_, y_train, y_test)"
   ]
  },
  {
   "cell_type": "markdown",
   "id": "a4bd5146",
   "metadata": {},
   "source": [
    "#### Prueba 3: *Threshold*=0,009 (top 22 features)"
   ]
  },
  {
   "cell_type": "markdown",
   "id": "3093e0ee",
   "metadata": {},
   "source": [
    "En este caso, probamos a retirar 4 variables más pero las métricas se reducen ligeramente con respecto a los resultados anteriores:"
   ]
  },
  {
   "cell_type": "code",
   "execution_count": 44,
   "id": "5f61613c",
   "metadata": {},
   "outputs": [
    {
     "name": "stdout",
     "output_type": "stream",
     "text": [
      "(2721219, 22)\n",
      "(907074, 22)\n"
     ]
    },
    {
     "data": {
      "text/plain": [
       "Index(['x0_(direct)', 'x0_google', 'x0_cpc', 'x0_organic', 'x0_desktop',\n",
       "       'x0_mobile', 'x0_Android', 'ga:productSKU', 'ga:city', 'ga:pagePath',\n",
       "       'ga:landingPagePath', 'Product_price', 'Web_Discount', 'Detail_View',\n",
       "       'Returning_Visitor', 'ga:sessionCount', 'month_sin', 'month_cos',\n",
       "       'dayofweek_sin', 'dayofweek_cos', 'hour_sin', 'hour_cos'],\n",
       "      dtype='object')"
      ]
     },
     "execution_count": 44,
     "metadata": {},
     "output_type": "execute_result"
    }
   ],
   "source": [
    "X_train_.drop(['x0_email','x0_Windows','x0_iOS','ga:daysSinceLastSession'], axis=1, inplace=True)\n",
    "X_test_.drop(['x0_email','x0_Windows','x0_iOS','ga:daysSinceLastSession'], axis=1, inplace=True)\n",
    "print(X_train_.shape)\n",
    "print(X_test_.shape)\n",
    "X_train_.columns"
   ]
  },
  {
   "cell_type": "code",
   "execution_count": 24,
   "id": "16b99be0",
   "metadata": {},
   "outputs": [
    {
     "name": "stdout",
     "output_type": "stream",
     "text": [
      "TRAINING SCORE: 0.9971464994180916\n",
      "ACCURACY: 0.9879105784092588\n",
      "PRECISION: 0.4439503861455652\n",
      "RECALL: 0.18089062648993992\n",
      "F1 SCORE: 0.2570460704607046\n",
      "AUC: 0.8981989633153266\n",
      "CPU times: user 1h 16min 43s, sys: 48.3 s, total: 1h 17min 31s\n",
      "Wall time: 21min 3s\n"
     ]
    },
    {
     "data": {
      "image/png": "[encoded data removed]",
      "text/plain": [
       "<Figure size 432x288 with 1 Axes>"
      ]
     },
     "metadata": {
      "needs_background": "light"
     },
     "output_type": "display_data"
    }
   ],
   "source": [
    "%%time\n",
    "\n",
    "clf = RandomForestClassifier(n_estimators=100,n_jobs=-1, oob_score=True,bootstrap=True,random_state=42)\n",
    "evaluate(clf,X_train_, X_test_, y_train, y_test)"
   ]
  },
  {
   "cell_type": "markdown",
   "id": "64e0d628",
   "metadata": {},
   "source": [
    "#### Prueba 4: *Threshold*=0,007 (top 24 features)"
   ]
  },
  {
   "cell_type": "markdown",
   "id": "bc0abad4",
   "metadata": {},
   "source": [
    "Reincorporamos *x0_iOS* y *ga:daysSinceLastSession* que siguen en orden de importancia al top 22 features pero los resultados son aún peores:"
   ]
  },
  {
   "cell_type": "code",
   "execution_count": 45,
   "id": "77538c0d",
   "metadata": {},
   "outputs": [
    {
     "name": "stdout",
     "output_type": "stream",
     "text": [
      "19\n",
      "(2721219, 24)\n",
      "(907074, 24)\n"
     ]
    },
    {
     "data": {
      "text/plain": [
       "Index(['x0_(direct)', 'x0_google', 'x0_cpc', 'x0_organic', 'x0_desktop',\n",
       "       'x0_mobile', 'x0_Android', 'x0_iOS', 'ga:productSKU', 'ga:city',\n",
       "       'ga:pagePath', 'ga:landingPagePath', 'Product_price', 'Web_Discount',\n",
       "       'Detail_View', 'Returning_Visitor', 'ga:sessionCount',\n",
       "       'ga:daysSinceLastSession', 'month_sin', 'month_cos', 'dayofweek_sin',\n",
       "       'dayofweek_cos', 'hour_sin', 'hour_cos'],\n",
       "      dtype='object')"
      ]
     },
     "execution_count": 45,
     "metadata": {},
     "output_type": "execute_result"
    }
   ],
   "source": [
    "X_train_=pd.DataFrame(X_train_transf, columns=features_names)\n",
    "X_test_=pd.DataFrame(X_test_transf, columns=features_names)\n",
    "drop_features = ['x0_bing','x0_cantabrialabs.es','x0_facebook','x0_other sources','x0_vogue',\\\n",
    "                 'x0_yahoo','x0_youtube','x0_IGShopping','x0_facebook ads','x0_facebook feed',\\\n",
    "                 'x0_facebook trafico','x0_tablet','x0_Macintosh','x0_other OS',\\\n",
    "                'x0_instagram','x0_referral','x0_sendinblue', 'x0_email','x0_Windows']\n",
    "X_train_.drop(drop_features, axis=1, inplace=True)\n",
    "X_test_.drop(drop_features, axis=1, inplace=True)\n",
    "print(len(drop_features))\n",
    "print(X_train_.shape)\n",
    "print(X_test_.shape)\n",
    "X_train_.columns"
   ]
  },
  {
   "cell_type": "code",
   "execution_count": 26,
   "id": "ad99239e",
   "metadata": {},
   "outputs": [
    {
     "name": "stdout",
     "output_type": "stream",
     "text": [
      "TRAINING SCORE: 0.9971527466183354\n",
      "ACCURACY: 0.9878168705089111\n",
      "PRECISION: 0.4319169483341381\n",
      "RECALL: 0.1705921617240393\n",
      "F1 SCORE: 0.24458267824184837\n",
      "AUC: 0.8961835309153731\n",
      "CPU times: user 1h 16min 53s, sys: 51.1 s, total: 1h 17min 44s\n",
      "Wall time: 21min 17s\n"
     ]
    },
    {
     "data": {
      "image/png": "[encoded data removed]",
      "text/plain": [
       "<Figure size 432x288 with 1 Axes>"
      ]
     },
     "metadata": {
      "needs_background": "light"
     },
     "output_type": "display_data"
    }
   ],
   "source": [
    "%%time\n",
    "\n",
    "clf = RandomForestClassifier(n_estimators=100,n_jobs=-1, oob_score=True,bootstrap=True,random_state=42)\n",
    "evaluate(clf,X_train_, X_test_, y_train, y_test)"
   ]
  },
  {
   "cell_type": "markdown",
   "id": "b9aa1573",
   "metadata": {},
   "source": [
    "#### Prueba 5: *Threshold*=0,011 (top 20 features)"
   ]
  },
  {
   "cell_type": "markdown",
   "id": "ef4ead8a",
   "metadata": {},
   "source": [
    "Probamos ahora con el top 20 features y el modelo devuelve los mejores resultados hasta el momento para todas las métricas:"
   ]
  },
  {
   "cell_type": "code",
   "execution_count": 46,
   "id": "b4473134",
   "metadata": {},
   "outputs": [
    {
     "name": "stdout",
     "output_type": "stream",
     "text": [
      "23\n",
      "(2721219, 20)\n",
      "(907074, 20)\n"
     ]
    },
    {
     "data": {
      "text/plain": [
       "Index(['x0_google', 'x0_cpc', 'x0_organic', 'x0_desktop', 'x0_Android',\n",
       "       'ga:productSKU', 'ga:city', 'ga:pagePath', 'ga:landingPagePath',\n",
       "       'Product_price', 'Web_Discount', 'Detail_View', 'Returning_Visitor',\n",
       "       'ga:sessionCount', 'month_sin', 'month_cos', 'dayofweek_sin',\n",
       "       'dayofweek_cos', 'hour_sin', 'hour_cos'],\n",
       "      dtype='object')"
      ]
     },
     "execution_count": 46,
     "metadata": {},
     "output_type": "execute_result"
    }
   ],
   "source": [
    "X_train_=pd.DataFrame(X_train_transf, columns=features_names)\n",
    "X_test_=pd.DataFrame(X_test_transf, columns=features_names)\n",
    "drop_features = ['x0_bing','x0_cantabrialabs.es','x0_facebook','x0_other sources','x0_vogue',\\\n",
    "                 'x0_yahoo','x0_youtube','x0_IGShopping','x0_facebook ads','x0_facebook feed',\\\n",
    "                 'x0_facebook trafico','x0_tablet','x0_Macintosh','x0_other OS',\\\n",
    "                'x0_instagram','x0_referral','x0_sendinblue', 'x0_email','x0_Windows',\\\n",
    "                'x0_iOS','ga:daysSinceLastSession','x0_(direct)','x0_mobile']\n",
    "X_train_.drop(drop_features, axis=1, inplace=True)\n",
    "X_test_.drop(drop_features, axis=1, inplace=True)\n",
    "print(len(drop_features))\n",
    "print(X_train_.shape)\n",
    "print(X_test_.shape)\n",
    "X_train_.columns"
   ]
  },
  {
   "cell_type": "code",
   "execution_count": 29,
   "id": "c175eb0b",
   "metadata": {},
   "outputs": [
    {
     "name": "stdout",
     "output_type": "stream",
     "text": [
      "TRAINING SCORE: 0.9971380473236443\n",
      "ACCURACY: 0.9880263352273354\n",
      "PRECISION: 0.4575\n",
      "RECALL: 0.19195194049775913\n",
      "F1 SCORE: 0.27043729428360314\n",
      "AUC: 0.8991034169056328\n",
      "CPU times: user 1h 40min 31s, sys: 1min 17s, total: 1h 41min 48s\n",
      "Wall time: 28min 13s\n"
     ]
    },
    {
     "data": {
      "image/png": "[encoded data removed]",
      "text/plain": [
       "<Figure size 432x288 with 1 Axes>"
      ]
     },
     "metadata": {
      "needs_background": "light"
     },
     "output_type": "display_data"
    }
   ],
   "source": [
    "%%time\n",
    "\n",
    "clf = RandomForestClassifier(n_estimators=100,n_jobs=-1, oob_score=True,bootstrap=True,random_state=42)\n",
    "evaluate(clf,X_train_, X_test_, y_train, y_test)"
   ]
  },
  {
   "cell_type": "markdown",
   "id": "bb8d0001",
   "metadata": {},
   "source": [
    "#### Prueba 6: *Threshold*=0,018 (top 11 features)"
   ]
  },
  {
   "cell_type": "markdown",
   "id": "80b05e70",
   "metadata": {},
   "source": [
    "Probamos ahora con el top 10. Dado que *ga:sessionCount* y *x0_google* están igualados en peso y ambos ocupan las décima posición, optamos por incluir ambos y los resultados mejoran sustancialmente en todos los casos, menos en *AUC* que baja ligeramente:"
   ]
  },
  {
   "cell_type": "code",
   "execution_count": 47,
   "id": "53d0f654",
   "metadata": {},
   "outputs": [
    {
     "name": "stdout",
     "output_type": "stream",
     "text": [
      "32\n",
      "(2721219, 11)\n",
      "(907074, 11)\n"
     ]
    },
    {
     "data": {
      "text/plain": [
       "Index(['x0_google', 'ga:productSKU', 'ga:city', 'ga:pagePath',\n",
       "       'ga:landingPagePath', 'Product_price', 'Web_Discount', 'Detail_View',\n",
       "       'ga:sessionCount', 'month_sin', 'month_cos'],\n",
       "      dtype='object')"
      ]
     },
     "execution_count": 47,
     "metadata": {},
     "output_type": "execute_result"
    }
   ],
   "source": [
    "X_train_=pd.DataFrame(X_train_transf, columns=features_names)\n",
    "X_test_=pd.DataFrame(X_test_transf, columns=features_names)\n",
    "drop_features = ['x0_bing','x0_cantabrialabs.es','x0_facebook','x0_other sources','x0_vogue',\\\n",
    "                 'x0_yahoo','x0_youtube','x0_IGShopping','x0_facebook ads','x0_facebook feed',\\\n",
    "                 'x0_facebook trafico','x0_tablet','x0_Macintosh','x0_other OS',\\\n",
    "                'x0_instagram','x0_referral','x0_sendinblue', 'x0_email','x0_Windows',\\\n",
    "                'x0_iOS','ga:daysSinceLastSession','x0_(direct)','x0_mobile',\\\n",
    "                'Returning_Visitor','x0_desktop','x0_cpc', 'x0_organic', 'x0_Android',\\\n",
    "                'dayofweek_sin','dayofweek_cos', 'hour_sin', 'hour_cos']\n",
    "X_train_.drop(drop_features, axis=1, inplace=True)\n",
    "X_test_.drop(drop_features, axis=1, inplace=True)\n",
    "print(len(drop_features))\n",
    "print(X_train_.shape)\n",
    "print(X_test_.shape)\n",
    "X_train_.columns"
   ]
  },
  {
   "cell_type": "code",
   "execution_count": 32,
   "id": "93cf91f4",
   "metadata": {},
   "outputs": [
    {
     "name": "stdout",
     "output_type": "stream",
     "text": [
      "TRAINING SCORE: 0.9959720257722734\n",
      "ACCURACY: 0.9884221133005686\n",
      "PRECISION: 0.49859943977591037\n",
      "RECALL: 0.25460093449032134\n",
      "F1 SCORE: 0.3370786516853933\n",
      "AUC: 0.891355913365628\n",
      "CPU times: user 1h 19min 28s, sys: 53.4 s, total: 1h 20min 21s\n",
      "Wall time: 22min 11s\n"
     ]
    },
    {
     "data": {
      "image/png": "[encoded data removed]",
      "text/plain": [
       "<Figure size 432x288 with 1 Axes>"
      ]
     },
     "metadata": {
      "needs_background": "light"
     },
     "output_type": "display_data"
    }
   ],
   "source": [
    "%%time\n",
    "\n",
    "clf = RandomForestClassifier(n_estimators=100,n_jobs=-1, oob_score=True,bootstrap=True,random_state=42)\n",
    "evaluate(clf,X_train_, X_test_, y_train, y_test)"
   ]
  },
  {
   "cell_type": "code",
   "execution_count": 33,
   "id": "5ea6db19",
   "metadata": {},
   "outputs": [
    {
     "name": "stdout",
     "output_type": "stream",
     "text": [
      "              precision    recall  f1-score   support\n",
      "\n",
      "           0       0.99      1.00      0.99    896587\n",
      "           1       0.50      0.25      0.34     10487\n",
      "\n",
      "    accuracy                           0.99    907074\n",
      "   macro avg       0.74      0.63      0.67    907074\n",
      "weighted avg       0.99      0.99      0.99    907074\n",
      "\n"
     ]
    },
    {
     "data": {
      "text/plain": [
       "array([[893902,   2685],\n",
       "       [  7817,   2670]])"
      ]
     },
     "execution_count": 33,
     "metadata": {},
     "output_type": "execute_result"
    }
   ],
   "source": [
    "print(classification_report(y_test,clf.predict(X_test_)))\n",
    "clrf_cm = confusion_matrix(y_test,clf.predict(X_test_))\n",
    "clrf_cm"
   ]
  },
  {
   "cell_type": "markdown",
   "id": "e8077dc6",
   "metadata": {},
   "source": [
    "#### Prueba 7: *Threshold*=0,0188 (top 9 features)"
   ]
  },
  {
   "cell_type": "markdown",
   "id": "fb7c53c0",
   "metadata": {},
   "source": [
    "Probamos a eliminar *ga:sessionCount* y *x0_google* en este caso con resultados similares. *Precision* y *Recall* suben de forma significativa y *AUC* baja muy ligeramente:"
   ]
  },
  {
   "cell_type": "code",
   "execution_count": 48,
   "id": "14f50b1d",
   "metadata": {},
   "outputs": [
    {
     "name": "stdout",
     "output_type": "stream",
     "text": [
      "34\n",
      "(2721219, 9)\n",
      "(907074, 9)\n"
     ]
    },
    {
     "data": {
      "text/plain": [
       "Index(['ga:productSKU', 'ga:city', 'ga:pagePath', 'ga:landingPagePath',\n",
       "       'Product_price', 'Web_Discount', 'Detail_View', 'month_sin',\n",
       "       'month_cos'],\n",
       "      dtype='object')"
      ]
     },
     "execution_count": 48,
     "metadata": {},
     "output_type": "execute_result"
    }
   ],
   "source": [
    "X_train_=pd.DataFrame(X_train_transf, columns=features_names)\n",
    "X_test_=pd.DataFrame(X_test_transf, columns=features_names)\n",
    "drop_features = ['x0_bing','x0_cantabrialabs.es','x0_facebook','x0_other sources','x0_vogue',\\\n",
    "                 'x0_yahoo','x0_youtube','x0_IGShopping','x0_facebook ads','x0_facebook feed',\\\n",
    "                 'x0_facebook trafico','x0_tablet','x0_Macintosh','x0_other OS',\\\n",
    "                'x0_instagram','x0_referral','x0_sendinblue', 'x0_email','x0_Windows',\\\n",
    "                'x0_iOS','ga:daysSinceLastSession','x0_(direct)','x0_mobile',\\\n",
    "                'Returning_Visitor','x0_desktop','x0_cpc', 'x0_organic', 'x0_Android',\\\n",
    "                'dayofweek_sin','dayofweek_cos', 'hour_sin', 'hour_cos',\\\n",
    "                'x0_google','ga:sessionCount']\n",
    "X_train_.drop(drop_features, axis=1, inplace=True)\n",
    "X_test_.drop(drop_features, axis=1, inplace=True)\n",
    "print(len(drop_features))\n",
    "print(X_train_.shape)\n",
    "print(X_test_.shape)\n",
    "X_train_.columns"
   ]
  },
  {
   "cell_type": "code",
   "execution_count": 36,
   "id": "e0098c12",
   "metadata": {},
   "outputs": [
    {
     "name": "stdout",
     "output_type": "stream",
     "text": [
      "TRAINING SCORE: 0.9949467499675697\n",
      "ACCURACY: 0.988708749231044\n",
      "PRECISION: 0.5224977043158862\n",
      "RECALL: 0.27128826165729\n",
      "F1 SCORE: 0.35714285714285715\n",
      "AUC: 0.8893974530530648\n",
      "CPU times: user 1h 8min 41s, sys: 40.1 s, total: 1h 9min 21s\n",
      "Wall time: 18min 57s\n"
     ]
    },
    {
     "data": {
      "image/png": "[encoded data removed]",
      "text/plain": [
       "<Figure size 432x288 with 1 Axes>"
      ]
     },
     "metadata": {
      "needs_background": "light"
     },
     "output_type": "display_data"
    }
   ],
   "source": [
    "%%time\n",
    "\n",
    "clf = RandomForestClassifier(n_estimators=100,n_jobs=-1, oob_score=True,bootstrap=True,random_state=42)\n",
    "evaluate(clf,X_train_, X_test_, y_train, y_test)"
   ]
  },
  {
   "cell_type": "code",
   "execution_count": 37,
   "id": "c70b62b0",
   "metadata": {},
   "outputs": [
    {
     "name": "stdout",
     "output_type": "stream",
     "text": [
      "              precision    recall  f1-score   support\n",
      "\n",
      "           0       0.99      1.00      0.99    896587\n",
      "           1       0.52      0.27      0.36     10487\n",
      "\n",
      "    accuracy                           0.99    907074\n",
      "   macro avg       0.76      0.63      0.68    907074\n",
      "weighted avg       0.99      0.99      0.99    907074\n",
      "\n"
     ]
    },
    {
     "data": {
      "text/plain": [
       "array([[893987,   2600],\n",
       "       [  7642,   2845]])"
      ]
     },
     "execution_count": 37,
     "metadata": {},
     "output_type": "execute_result"
    }
   ],
   "source": [
    "print(classification_report(y_test,clf.predict(X_test_)))\n",
    "clrf_cm = confusion_matrix(y_test,clf.predict(X_test_))\n",
    "clrf_cm"
   ]
  },
  {
   "cell_type": "markdown",
   "id": "f84ec7a5",
   "metadata": {},
   "source": [
    "#### Prueba 8: *Threshold*=0,02 (top 8 features)"
   ]
  },
  {
   "cell_type": "markdown",
   "id": "436e16b2",
   "metadata": {},
   "source": [
    "En esta última prueba, eliminamos *ga:city*. Aumentan *Precision* y *AUC*, pero bajan el resto de métricas con respecto al modelo anterior:"
   ]
  },
  {
   "cell_type": "code",
   "execution_count": 38,
   "id": "d2446fb4",
   "metadata": {},
   "outputs": [
    {
     "data": {
      "text/plain": [
       "Index(['ga:productSKU', 'ga:city', 'ga:pagePath', 'ga:landingPagePath',\n",
       "       'Product_price', 'Web_Discount', 'Detail_View', 'month_sin',\n",
       "       'month_cos'],\n",
       "      dtype='object')"
      ]
     },
     "execution_count": 38,
     "metadata": {},
     "output_type": "execute_result"
    }
   ],
   "source": [
    "X_train_.columns"
   ]
  },
  {
   "cell_type": "code",
   "execution_count": 39,
   "id": "e5674cf9",
   "metadata": {},
   "outputs": [
    {
     "name": "stdout",
     "output_type": "stream",
     "text": [
      "35\n",
      "(2721219, 8)\n",
      "(907074, 8)\n"
     ]
    }
   ],
   "source": [
    "X_train_=pd.DataFrame(X_train_transf, columns=features_names)\n",
    "X_test_=pd.DataFrame(X_test_transf, columns=features_names)\n",
    "drop_features = ['x0_bing','x0_cantabrialabs.es','x0_facebook','x0_other sources','x0_vogue',\\\n",
    "                 'x0_yahoo','x0_youtube','x0_IGShopping','x0_facebook ads','x0_facebook feed',\\\n",
    "                 'x0_facebook trafico','x0_tablet','x0_Macintosh','x0_other OS',\\\n",
    "                'x0_instagram','x0_referral','x0_sendinblue', 'x0_email','x0_Windows',\\\n",
    "                'x0_iOS','ga:daysSinceLastSession','x0_(direct)','x0_mobile',\\\n",
    "                'Returning_Visitor','x0_desktop','x0_cpc', 'x0_organic', 'x0_Android',\\\n",
    "                'dayofweek_sin','dayofweek_cos', 'hour_sin', 'hour_cos',\\\n",
    "                'x0_google','ga:sessionCount', 'ga:city']\n",
    "X_train_.drop(drop_features, axis=1, inplace=True)\n",
    "X_test_.drop(drop_features, axis=1, inplace=True)\n",
    "print(len(drop_features))\n",
    "print(X_train_.shape)\n",
    "print(X_test_.shape)"
   ]
  },
  {
   "cell_type": "code",
   "execution_count": 40,
   "id": "1beb5dc9",
   "metadata": {},
   "outputs": [
    {
     "name": "stdout",
     "output_type": "stream",
     "text": [
      "TRAINING SCORE: 0.9933316649633859\n",
      "ACCURACY: 0.9893889583429797\n",
      "PRECISION: 0.6017469310670444\n",
      "RECALL: 0.24306283970630305\n",
      "F1 SCORE: 0.34626095225157916\n",
      "AUC: 0.906924853539838\n",
      "CPU times: user 50min 2s, sys: 33.1 s, total: 50min 35s\n",
      "Wall time: 14min\n"
     ]
    },
    {
     "data": {
      "image/png": "[encoded data removed]",
      "text/plain": [
       "<Figure size 432x288 with 1 Axes>"
      ]
     },
     "metadata": {
      "needs_background": "light"
     },
     "output_type": "display_data"
    }
   ],
   "source": [
    "%%time\n",
    "\n",
    "clf = RandomForestClassifier(n_estimators=100,n_jobs=-1, oob_score=True,bootstrap=True,random_state=42)\n",
    "evaluate(clf,X_train_, X_test_, y_train, y_test)"
   ]
  },
  {
   "cell_type": "code",
   "execution_count": 41,
   "id": "3a908cd2",
   "metadata": {},
   "outputs": [
    {
     "name": "stdout",
     "output_type": "stream",
     "text": [
      "              precision    recall  f1-score   support\n",
      "\n",
      "           0       0.99      1.00      0.99    896587\n",
      "           1       0.60      0.24      0.35     10487\n",
      "\n",
      "    accuracy                           0.99    907074\n",
      "   macro avg       0.80      0.62      0.67    907074\n",
      "weighted avg       0.99      0.99      0.99    907074\n",
      "\n"
     ]
    },
    {
     "data": {
      "text/plain": [
       "array([[894900,   1687],\n",
       "       [  7938,   2549]])"
      ]
     },
     "execution_count": 41,
     "metadata": {},
     "output_type": "execute_result"
    }
   ],
   "source": [
    "print(classification_report(y_test,clf.predict(X_test_)))\n",
    "clrf_cm = confusion_matrix(y_test,clf.predict(X_test_))\n",
    "clrf_cm"
   ]
  },
  {
   "cell_type": "markdown",
   "id": "da64a881",
   "metadata": {},
   "source": [
    "### Clasificador final con optimización de hiperparámetros"
   ]
  },
  {
   "cell_type": "markdown",
   "id": "0d00d234",
   "metadata": {},
   "source": [
    "Dados los resultados, nos quedamos con el **top 9** de los atributos según su importancia y **optimizamos los hiperámetros** del modelo en base a ellos:"
   ]
  },
  {
   "cell_type": "code",
   "execution_count": 17,
   "id": "92d20cfc",
   "metadata": {},
   "outputs": [
    {
     "name": "stdout",
     "output_type": "stream",
     "text": [
      "34\n",
      "(2721219, 9)\n",
      "(907074, 9)\n"
     ]
    },
    {
     "data": {
      "text/plain": [
       "Index(['ga:productSKU', 'ga:city', 'ga:pagePath', 'ga:landingPagePath',\n",
       "       'Product_price', 'Web_Discount', 'Detail_View', 'month_sin',\n",
       "       'month_cos'],\n",
       "      dtype='object')"
      ]
     },
     "execution_count": 17,
     "metadata": {},
     "output_type": "execute_result"
    }
   ],
   "source": [
    "X_train_final=pd.DataFrame(X_train_transf, columns=features_names)\n",
    "X_test_final=pd.DataFrame(X_test_transf, columns=features_names)\n",
    "drop_features = ['x0_bing','x0_cantabrialabs.es','x0_facebook','x0_other sources','x0_vogue',\\\n",
    "                 'x0_yahoo','x0_youtube','x0_IGShopping','x0_facebook ads','x0_facebook feed',\\\n",
    "                 'x0_facebook trafico','x0_tablet','x0_Macintosh','x0_other OS',\\\n",
    "                'x0_instagram','x0_referral','x0_sendinblue', 'x0_email','x0_Windows',\\\n",
    "                'x0_iOS','ga:daysSinceLastSession','x0_(direct)','x0_mobile',\\\n",
    "                'Returning_Visitor','x0_desktop','x0_cpc', 'x0_organic', 'x0_Android',\\\n",
    "                'dayofweek_sin','dayofweek_cos', 'hour_sin', 'hour_cos',\\\n",
    "                'x0_google','ga:sessionCount']\n",
    "X_train_final.drop(drop_features, axis=1, inplace=True)\n",
    "X_test_final.drop(drop_features, axis=1, inplace=True)\n",
    "print(len(drop_features))\n",
    "print(X_train_final.shape)\n",
    "print(X_test_final.shape)\n",
    "X_train_final.columns"
   ]
  },
  {
   "cell_type": "code",
   "execution_count": 18,
   "id": "2aa10661",
   "metadata": {},
   "outputs": [
    {
     "name": "stdout",
     "output_type": "stream",
     "text": [
      "Fitting 5 folds for each of 24 candidates, totalling 120 fits\n",
      "CPU times: user 6min 11s, sys: 3.7 s, total: 6min 15s\n",
      "Wall time: 1h 52min 29s\n"
     ]
    },
    {
     "data": {
      "text/plain": [
       "GridSearchCV(estimator=RandomForestClassifier(random_state=42), n_jobs=15,\n",
       "             param_grid={'criterion': ['gini', 'entropy'],\n",
       "                         'max_depth': [None, 5, 10, 20],\n",
       "                         'n_estimators': [50, 100, 200]},\n",
       "             return_train_score=True, scoring='recall', verbose=2)"
      ]
     },
     "execution_count": 18,
     "metadata": {},
     "output_type": "execute_result"
    }
   ],
   "source": [
    "%%time\n",
    "\n",
    "param_grid = {'n_estimators': [50,100,200],\n",
    "              'max_depth'   : [None, 5, 10, 20],\n",
    "              'criterion'   : ['gini', 'entropy']\n",
    "             }\n",
    "\n",
    "grid=GridSearchCV(estimator=RandomForestClassifier(random_state=42),\n",
    "                 param_grid=param_grid,\n",
    "                 scoring='recall',\n",
    "                 n_jobs=multiprocessing.cpu_count()-1,\n",
    "                 refit=True,\n",
    "                 verbose=2,\n",
    "                 return_train_score=True)\n",
    "\n",
    "grid.fit(X_train_final,y_train)"
   ]
  },
  {
   "cell_type": "code",
   "execution_count": 19,
   "id": "b36b6783",
   "metadata": {},
   "outputs": [
    {
     "data": {
      "text/plain": [
       "{'criterion': 'entropy', 'max_depth': None, 'n_estimators': 50}"
      ]
     },
     "execution_count": 19,
     "metadata": {},
     "output_type": "execute_result"
    }
   ],
   "source": [
    "grid.best_params_"
   ]
  },
  {
   "cell_type": "code",
   "execution_count": 20,
   "id": "32ce46f7",
   "metadata": {},
   "outputs": [
    {
     "data": {
      "text/plain": [
       "0.28911277365463206"
      ]
     },
     "execution_count": 20,
     "metadata": {},
     "output_type": "execute_result"
    }
   ],
   "source": [
    "grid.best_score_"
   ]
  },
  {
   "cell_type": "code",
   "execution_count": 21,
   "id": "389f57e8",
   "metadata": {},
   "outputs": [
    {
     "data": {
      "text/plain": [
       "RandomForestClassifier(criterion='entropy', n_estimators=50, random_state=42)"
      ]
     },
     "execution_count": 21,
     "metadata": {},
     "output_type": "execute_result"
    }
   ],
   "source": [
    "grid.best_estimator_"
   ]
  },
  {
   "cell_type": "code",
   "execution_count": 22,
   "id": "73e8e9a8",
   "metadata": {},
   "outputs": [
    {
     "data": {
      "text/html": [
       "<div>\n",
       "<style scoped>\n",
       "    .dataframe tbody tr th:only-of-type {\n",
       "        vertical-align: middle;\n",
       "    }\n",
       "\n",
       "    .dataframe tbody tr th {\n",
       "        vertical-align: top;\n",
       "    }\n",
       "\n",
       "    .dataframe thead th {\n",
       "        text-align: right;\n",
       "    }\n",
       "</style>\n",
       "<table border=\"1\" class=\"dataframe\">\n",
       "  <thead>\n",
       "    <tr style=\"text-align: right;\">\n",
       "      <th></th>\n",
       "      <th>criterion</th>\n",
       "      <th>max_depth</th>\n",
       "      <th>n_estimators</th>\n",
       "      <th>Recall</th>\n",
       "    </tr>\n",
       "  </thead>\n",
       "  <tbody>\n",
       "    <tr>\n",
       "      <th>0</th>\n",
       "      <td>gini</td>\n",
       "      <td>NaN</td>\n",
       "      <td>50</td>\n",
       "      <td>0.288342</td>\n",
       "    </tr>\n",
       "    <tr>\n",
       "      <th>1</th>\n",
       "      <td>gini</td>\n",
       "      <td>NaN</td>\n",
       "      <td>100</td>\n",
       "      <td>0.286673</td>\n",
       "    </tr>\n",
       "    <tr>\n",
       "      <th>2</th>\n",
       "      <td>gini</td>\n",
       "      <td>NaN</td>\n",
       "      <td>200</td>\n",
       "      <td>0.287411</td>\n",
       "    </tr>\n",
       "    <tr>\n",
       "      <th>3</th>\n",
       "      <td>gini</td>\n",
       "      <td>5.0</td>\n",
       "      <td>50</td>\n",
       "      <td>0.051851</td>\n",
       "    </tr>\n",
       "    <tr>\n",
       "      <th>4</th>\n",
       "      <td>gini</td>\n",
       "      <td>5.0</td>\n",
       "      <td>100</td>\n",
       "      <td>0.051658</td>\n",
       "    </tr>\n",
       "    <tr>\n",
       "      <th>5</th>\n",
       "      <td>gini</td>\n",
       "      <td>5.0</td>\n",
       "      <td>200</td>\n",
       "      <td>0.051594</td>\n",
       "    </tr>\n",
       "    <tr>\n",
       "      <th>6</th>\n",
       "      <td>gini</td>\n",
       "      <td>10.0</td>\n",
       "      <td>50</td>\n",
       "      <td>0.073105</td>\n",
       "    </tr>\n",
       "    <tr>\n",
       "      <th>7</th>\n",
       "      <td>gini</td>\n",
       "      <td>10.0</td>\n",
       "      <td>100</td>\n",
       "      <td>0.073073</td>\n",
       "    </tr>\n",
       "    <tr>\n",
       "      <th>8</th>\n",
       "      <td>gini</td>\n",
       "      <td>10.0</td>\n",
       "      <td>200</td>\n",
       "      <td>0.074325</td>\n",
       "    </tr>\n",
       "    <tr>\n",
       "      <th>9</th>\n",
       "      <td>gini</td>\n",
       "      <td>20.0</td>\n",
       "      <td>50</td>\n",
       "      <td>0.212637</td>\n",
       "    </tr>\n",
       "    <tr>\n",
       "      <th>10</th>\n",
       "      <td>gini</td>\n",
       "      <td>20.0</td>\n",
       "      <td>100</td>\n",
       "      <td>0.209491</td>\n",
       "    </tr>\n",
       "    <tr>\n",
       "      <th>11</th>\n",
       "      <td>gini</td>\n",
       "      <td>20.0</td>\n",
       "      <td>200</td>\n",
       "      <td>0.208880</td>\n",
       "    </tr>\n",
       "    <tr>\n",
       "      <th>12</th>\n",
       "      <td>entropy</td>\n",
       "      <td>NaN</td>\n",
       "      <td>50</td>\n",
       "      <td>0.289113</td>\n",
       "    </tr>\n",
       "    <tr>\n",
       "      <th>13</th>\n",
       "      <td>entropy</td>\n",
       "      <td>NaN</td>\n",
       "      <td>100</td>\n",
       "      <td>0.287957</td>\n",
       "    </tr>\n",
       "    <tr>\n",
       "      <th>14</th>\n",
       "      <td>entropy</td>\n",
       "      <td>NaN</td>\n",
       "      <td>200</td>\n",
       "      <td>0.287796</td>\n",
       "    </tr>\n",
       "    <tr>\n",
       "      <th>15</th>\n",
       "      <td>entropy</td>\n",
       "      <td>5.0</td>\n",
       "      <td>50</td>\n",
       "      <td>0.019905</td>\n",
       "    </tr>\n",
       "    <tr>\n",
       "      <th>16</th>\n",
       "      <td>entropy</td>\n",
       "      <td>5.0</td>\n",
       "      <td>100</td>\n",
       "      <td>0.010306</td>\n",
       "    </tr>\n",
       "    <tr>\n",
       "      <th>17</th>\n",
       "      <td>entropy</td>\n",
       "      <td>5.0</td>\n",
       "      <td>200</td>\n",
       "      <td>0.008219</td>\n",
       "    </tr>\n",
       "    <tr>\n",
       "      <th>18</th>\n",
       "      <td>entropy</td>\n",
       "      <td>10.0</td>\n",
       "      <td>50</td>\n",
       "      <td>0.127717</td>\n",
       "    </tr>\n",
       "    <tr>\n",
       "      <th>19</th>\n",
       "      <td>entropy</td>\n",
       "      <td>10.0</td>\n",
       "      <td>100</td>\n",
       "      <td>0.127814</td>\n",
       "    </tr>\n",
       "    <tr>\n",
       "      <th>20</th>\n",
       "      <td>entropy</td>\n",
       "      <td>10.0</td>\n",
       "      <td>200</td>\n",
       "      <td>0.126080</td>\n",
       "    </tr>\n",
       "    <tr>\n",
       "      <th>21</th>\n",
       "      <td>entropy</td>\n",
       "      <td>20.0</td>\n",
       "      <td>50</td>\n",
       "      <td>0.210582</td>\n",
       "    </tr>\n",
       "    <tr>\n",
       "      <th>22</th>\n",
       "      <td>entropy</td>\n",
       "      <td>20.0</td>\n",
       "      <td>100</td>\n",
       "      <td>0.209137</td>\n",
       "    </tr>\n",
       "    <tr>\n",
       "      <th>23</th>\n",
       "      <td>entropy</td>\n",
       "      <td>20.0</td>\n",
       "      <td>200</td>\n",
       "      <td>0.208367</td>\n",
       "    </tr>\n",
       "  </tbody>\n",
       "</table>\n",
       "</div>"
      ],
      "text/plain": [
       "   criterion  max_depth  n_estimators    Recall\n",
       "0       gini        NaN            50  0.288342\n",
       "1       gini        NaN           100  0.286673\n",
       "2       gini        NaN           200  0.287411\n",
       "3       gini        5.0            50  0.051851\n",
       "4       gini        5.0           100  0.051658\n",
       "5       gini        5.0           200  0.051594\n",
       "6       gini       10.0            50  0.073105\n",
       "7       gini       10.0           100  0.073073\n",
       "8       gini       10.0           200  0.074325\n",
       "9       gini       20.0            50  0.212637\n",
       "10      gini       20.0           100  0.209491\n",
       "11      gini       20.0           200  0.208880\n",
       "12   entropy        NaN            50  0.289113\n",
       "13   entropy        NaN           100  0.287957\n",
       "14   entropy        NaN           200  0.287796\n",
       "15   entropy        5.0            50  0.019905\n",
       "16   entropy        5.0           100  0.010306\n",
       "17   entropy        5.0           200  0.008219\n",
       "18   entropy       10.0            50  0.127717\n",
       "19   entropy       10.0           100  0.127814\n",
       "20   entropy       10.0           200  0.126080\n",
       "21   entropy       20.0            50  0.210582\n",
       "22   entropy       20.0           100  0.209137\n",
       "23   entropy       20.0           200  0.208367"
      ]
     },
     "execution_count": 22,
     "metadata": {},
     "output_type": "execute_result"
    }
   ],
   "source": [
    "pd.concat([pd.DataFrame(grid.cv_results_[\"params\"]),pd.DataFrame(grid.cv_results_[\"mean_test_score\"], columns=[\"Recall\"])],axis=1)"
   ]
  },
  {
   "cell_type": "code",
   "execution_count": 23,
   "id": "237eb381",
   "metadata": {},
   "outputs": [],
   "source": [
    "pickle.dump(grid,open(\"FINALCLF_featsel_optimization.pickle\",\"wb\"))"
   ]
  },
  {
   "cell_type": "code",
   "execution_count": 24,
   "id": "e9b956f2",
   "metadata": {},
   "outputs": [
    {
     "name": "stdout",
     "output_type": "stream",
     "text": [
      "TRAINING SCORE: 0.626545092625293\n",
      "ACCURACY: 0.9887252859193406\n",
      "PRECISION: 0.5237312887915297\n",
      "RECALL: 0.2735768093830457\n",
      "F1 SCORE: 0.35941121202630755\n",
      "AUC: 0.8734769672012491\n"
     ]
    },
    {
     "data": {
      "text/plain": [
       "Text(0, 0.5, 'tpr')"
      ]
     },
     "execution_count": 24,
     "metadata": {},
     "output_type": "execute_result"
    },
    {
     "data": {
      "image/png": "[encoded data removed]",
      "text/plain": [
       "<Figure size 432x288 with 1 Axes>"
      ]
     },
     "metadata": {
      "needs_background": "light"
     },
     "output_type": "display_data"
    }
   ],
   "source": [
    "predictions = grid.predict(X_test_final)\n",
    "probabilities = grid.predict_proba(X_test_final)\n",
    "\n",
    "print(\"TRAINING SCORE: \" + str(grid.score(X_train_final,y_train)))\n",
    "print(\"ACCURACY: \" + str(accuracy_score(y_test, predictions)))\n",
    "print(\"PRECISION: \" + str(precision_score(y_test, predictions)))\n",
    "print(\"RECALL: \" + str(recall_score(y_test, predictions)))\n",
    "print(\"F1 SCORE: \" + str(f1_score(y_test, predictions)))\n",
    "print(\"AUC: \" + str(roc_auc_score(y_test,probabilities[:, 1])))\n",
    "\n",
    "tpr, fpr, thresolds = roc_curve(y_test, probabilities[:, 1])\n",
    "plt.plot(tpr, fpr)\n",
    "plt.xlabel('fpr')\n",
    "plt.ylabel('tpr')"
   ]
  },
  {
   "cell_type": "code",
   "execution_count": 25,
   "id": "3e0fd7ab",
   "metadata": {},
   "outputs": [
    {
     "name": "stdout",
     "output_type": "stream",
     "text": [
      "              precision    recall  f1-score   support\n",
      "\n",
      "           0       0.99      1.00      0.99    896587\n",
      "           1       0.52      0.27      0.36     10487\n",
      "\n",
      "    accuracy                           0.99    907074\n",
      "   macro avg       0.76      0.64      0.68    907074\n",
      "weighted avg       0.99      0.99      0.99    907074\n",
      "\n"
     ]
    },
    {
     "data": {
      "text/plain": [
       "array([[893978,   2609],\n",
       "       [  7618,   2869]])"
      ]
     },
     "execution_count": 25,
     "metadata": {},
     "output_type": "execute_result"
    }
   ],
   "source": [
    "print(classification_report(y_test,predictions))\n",
    "clrf_cm = confusion_matrix(y_test,predictions)\n",
    "clrf_cm"
   ]
  },
  {
   "cell_type": "code",
   "execution_count": 26,
   "id": "31dd24c5",
   "metadata": {},
   "outputs": [
    {
     "name": "stdout",
     "output_type": "stream",
     "text": [
      "f1=0.359 auc=0.385\n"
     ]
    },
    {
     "data": {
      "image/png": "[encoded data removed]",
      "text/plain": [
       "<Figure size 432x288 with 1 Axes>"
      ]
     },
     "metadata": {
      "needs_background": "light"
     },
     "output_type": "display_data"
    }
   ],
   "source": [
    "from sklearn.metrics import precision_recall_curve\n",
    "from sklearn.metrics import f1_score\n",
    "from sklearn.metrics import auc\n",
    "\n",
    "precision, recall, _ = precision_recall_curve(y_test, probabilities[:, 1])\n",
    "f1, auc = f1_score(y_test, predictions), auc(recall, precision)\n",
    "# summarize scores\n",
    "print('f1=%.3f auc=%.3f' % (f1, auc))\n",
    "# plot the precision-recall curves\n",
    "no_skill = len(y_test[y_test==1]) / len(y_test)\n",
    "plt.plot([0, 1], [no_skill, no_skill], linestyle='--', label='No Skill')\n",
    "plt.plot(recall, precision, marker='.', label='Classifier')\n",
    "# axis labels\n",
    "plt.xlabel('Recall')\n",
    "plt.ylabel('Precision')\n",
    "# show the legend\n",
    "plt.legend()\n",
    "# show the plot\n",
    "plt.show()"
   ]
  },
  {
   "cell_type": "markdown",
   "id": "d0c4cda5",
   "metadata": {},
   "source": [
    "## MANEJO DE CLASES DESBALANCEADAS"
   ]
  },
  {
   "cell_type": "markdown",
   "id": "hispanic-expense",
   "metadata": {},
   "source": [
    "Ahora, probaremos a balancear las clases. Como ya hicimos en el notebook de optimización, probaremos distintas técnicas para seleccionar aquella que mejores resultados dé en términos de *recall*."
   ]
  },
  {
   "cell_type": "markdown",
   "id": "9664785c",
   "metadata": {},
   "source": [
    "### Preprocesado"
   ]
  },
  {
   "cell_type": "code",
   "execution_count": 11,
   "id": "e625173c",
   "metadata": {},
   "outputs": [],
   "source": [
    "## CUSTOM TRANSFORMERS\n",
    "\n",
    "# 'Operating System' Transformer\n",
    "\n",
    "important_os = ['Android','iOS','Windows','Macintosh']\n",
    "\n",
    "class OSTransfomer(BaseEstimator,TransformerMixin):\n",
    "    def fit(self,X,y=None):\n",
    "        return self\n",
    "    def transform (self,X,y=None):\n",
    "        X_=X.copy()\n",
    "        X_['ga:operatingSystem']=X_['ga:operatingSystem'].apply(lambda os: 'other OS' if os not in important_os else os)\n",
    "        return X_\n",
    "    \n",
    "    \n",
    "# Compile 'Source'\n",
    "\n",
    "def source_compiler(x):\n",
    "    \n",
    "    insta_words= ['instagram','ig','linktr.ee']\n",
    "    for seq in insta_words:\n",
    "        if seq in x.lower():\n",
    "            return 'instagram'\n",
    "    if 'facebook' in x.lower():\n",
    "        return 'facebook'\n",
    "    if 'youtube' in x.lower():\n",
    "        return 'youtube'  \n",
    "    if 'vogue' in x.lower():\n",
    "        return 'vogue'\n",
    "    if 'yahoo' in x.lower():\n",
    "        return 'yahoo'\n",
    "    else:\n",
    "        return x\n",
    "\n",
    "important_sources = ['google','(direct)','instagram','facebook','sendinblue','youtube','bing','yahoo','vogue','cantabrialabs.es']\n",
    "\n",
    "class SourceTransfomer(BaseEstimator,TransformerMixin):\n",
    "    def fit(self,X,y=None):\n",
    "        return self\n",
    "    def transform (self,X,y=None):\n",
    "        X_=X.copy()\n",
    "        X_['Source']=X_['Source'].apply(source_compiler)\n",
    "        X_['Source']=X_['Source'].apply(lambda source: 'other sources' if source not in important_sources else source)\n",
    "        return X_\n",
    "    \n",
    "# Compile 'Medium':\n",
    "\n",
    "def medium_compiler(x):\n",
    "    \n",
    "    if 'cpc' in x.lower():\n",
    "        return 'cpc'\n",
    "    if x=='Social':\n",
    "        return 'IGShopping'  \n",
    "    if x=='facebook':\n",
    "        return 'facebook ads'\n",
    "    if x=='trafico':\n",
    "        return 'facebook trafico'\n",
    "    else:\n",
    "        return x\n",
    "    \n",
    "class MediumTransfomer(BaseEstimator,TransformerMixin):\n",
    "    def fit(self,X,y=None):\n",
    "        return self\n",
    "    def transform (self,X,y=None):\n",
    "        X_=X.copy()\n",
    "        X_['Medium']=X_['Medium'].apply(medium_compiler)\n",
    "        return X_\n",
    "    \n",
    "# Select other columns with no transformations (in order to be able to apply get_feature_names)\n",
    "\n",
    "class SelectColumnTransformer(BaseEstimator,TransformerMixin):\n",
    "    def fit(self,X,y=None):\n",
    "        return self\n",
    "    def transform (self,X,y=None):\n",
    "        return X\n",
    "    \n",
    "# Product_price - Web_Discount\n",
    "\n",
    "def engineer_feature(columns, X):\n",
    "    df = pd.DataFrame(X, columns=columns)\n",
    "    df[\"Product_price\"] = df[\"Product_price\"]*(1-df[\"Web_Discount\"])\n",
    "    return df"
   ]
  },
  {
   "cell_type": "code",
   "execution_count": 12,
   "id": "d93fa886",
   "metadata": {},
   "outputs": [],
   "source": [
    "## PREPROCESS PIPELINE:\n",
    "\n",
    "source_preprocessing = Pipeline([\n",
    "    ('source_transf',SourceTransfomer()),\n",
    "    ('ohe',OneHotEncoder()) # handle_unknown is default 'error'\n",
    "])\n",
    "\n",
    "medium_preprocessing = Pipeline([\n",
    "    ('medium_transf',MediumTransfomer()),\n",
    "    ('ohe',OneHotEncoder(drop='first')) #to drop (none) that is equal to (direct) in Source\n",
    "]) # handle_unknown is default 'error'\n",
    "\n",
    "device_preprocessing = Pipeline([\n",
    "    ('ohe',OneHotEncoder()) # handle_unknown is default 'error'\n",
    "])\n",
    "\n",
    "os_preprocessing = Pipeline([\n",
    "    ('os_transf',OSTransfomer()),\n",
    "    ('ohe',OneHotEncoder()) # handle_unknown is default 'error'\n",
    "])\n",
    "\n",
    "targetencod_preprocessing = Pipeline([('target_encoding',TargetEncoder())])\n",
    "\n",
    "no_preprocessing = Pipeline([('select_columns',SelectColumnTransformer())])\n",
    "\n",
    "# Product_price and Web_Discount Transformer\n",
    "from functools import partial\n",
    "def numeric_transformer(columns):\n",
    "    transformer = Pipeline([\n",
    "        (\"imputer\", SimpleImputer(strategy='median')),\n",
    "        (\"engineer\", FunctionTransformer(partial(engineer_feature, columns))),\n",
    "    ])\n",
    "    return (\"numeric\", transformer, columns)\n",
    "\n",
    "preprocess = ColumnTransformer([\n",
    "    ('source_preprocessing',source_preprocessing,['Source']),\n",
    "    ('medium_preprocessing',medium_preprocessing,['Medium']),\n",
    "    ('device_preprocessing',device_preprocessing,['ga:deviceCategory']),\n",
    "    ('os_preprocessing',os_preprocessing,['ga:operatingSystem']),\n",
    "    ('targetencod_preprocessing',targetencod_preprocessing,['ga:productSKU','ga:city','ga:pagePath','ga:landingPagePath']),\n",
    "    numeric_transformer([\"Product_price\", \"Web_Discount\"]),\n",
    "    ('no_preprocessing',no_preprocessing,['Detail_View','Returning_Visitor','ga:sessionCount','ga:daysSinceLastSession','month_sin','month_cos','dayofweek_sin','dayofweek_cos','hour_sin','hour_cos'])\n",
    "])\n",
    "\n",
    "# Model\n",
    "pipeline=Pipeline([\n",
    "    ('preprocess',preprocess),\n",
    "])"
   ]
  },
  {
   "cell_type": "code",
   "execution_count": 13,
   "id": "e28e47f2",
   "metadata": {},
   "outputs": [
    {
     "name": "stderr",
     "output_type": "stream",
     "text": [
      "/opt/conda/lib/python3.7/site-packages/category_encoders/utils.py:21: FutureWarning: is_categorical is deprecated and will be removed in a future version.  Use is_categorical_dtype instead\n",
      "  elif pd.api.types.is_categorical(cols):\n"
     ]
    },
    {
     "name": "stdout",
     "output_type": "stream",
     "text": [
      "CPU times: user 36.7 s, sys: 2.57 s, total: 39.2 s\n",
      "Wall time: 39.2 s\n"
     ]
    }
   ],
   "source": [
    "%%time\n",
    "\n",
    "X_train_transf = pipeline.fit_transform(X_train,y_train)\n",
    "X_test_transf = pipeline.transform(X_test)"
   ]
  },
  {
   "cell_type": "markdown",
   "id": "6b08f380",
   "metadata": {},
   "source": [
    "### Selección de variables"
   ]
  },
  {
   "cell_type": "code",
   "execution_count": 14,
   "id": "f9bfa911",
   "metadata": {},
   "outputs": [
    {
     "name": "stdout",
     "output_type": "stream",
     "text": [
      "43\n"
     ]
    },
    {
     "data": {
      "text/plain": [
       "['x0_(direct)',\n",
       " 'x0_bing',\n",
       " 'x0_cantabrialabs.es',\n",
       " 'x0_facebook',\n",
       " 'x0_google',\n",
       " 'x0_instagram',\n",
       " 'x0_other sources',\n",
       " 'x0_sendinblue',\n",
       " 'x0_vogue',\n",
       " 'x0_yahoo',\n",
       " 'x0_youtube',\n",
       " 'x0_IGShopping',\n",
       " 'x0_cpc',\n",
       " 'x0_email',\n",
       " 'x0_facebook ads',\n",
       " 'x0_facebook feed',\n",
       " 'x0_facebook trafico',\n",
       " 'x0_organic',\n",
       " 'x0_referral',\n",
       " 'x0_desktop',\n",
       " 'x0_mobile',\n",
       " 'x0_tablet',\n",
       " 'x0_Android',\n",
       " 'x0_Macintosh',\n",
       " 'x0_Windows',\n",
       " 'x0_iOS',\n",
       " 'x0_other OS',\n",
       " 'ga:productSKU',\n",
       " 'ga:city',\n",
       " 'ga:pagePath',\n",
       " 'ga:landingPagePath',\n",
       " 'Product_price',\n",
       " 'Web_Discount',\n",
       " 'Detail_View',\n",
       " 'Returning_Visitor',\n",
       " 'ga:sessionCount',\n",
       " 'ga:daysSinceLastSession',\n",
       " 'month_sin',\n",
       " 'month_cos',\n",
       " 'dayofweek_sin',\n",
       " 'dayofweek_cos',\n",
       " 'hour_sin',\n",
       " 'hour_cos']"
      ]
     },
     "execution_count": 14,
     "metadata": {},
     "output_type": "execute_result"
    }
   ],
   "source": [
    "features_names=[]\n",
    "\n",
    "for feature in range(0,4):\n",
    "    features= list(pipeline.named_steps['preprocess'].transformers_[feature][1].named_steps['ohe'].get_feature_names())\n",
    "    features_names.append(features)\n",
    "\n",
    "for feature in range(4,7):\n",
    "    features = pipeline['preprocess'].transformers_[feature][2]\n",
    "    features_names.append(features)\n",
    "\n",
    "features_names = [j for i in features_names for j in i]\n",
    "print(len(features_names))\n",
    "features_names"
   ]
  },
  {
   "cell_type": "code",
   "execution_count": 15,
   "id": "330578c5",
   "metadata": {},
   "outputs": [
    {
     "name": "stdout",
     "output_type": "stream",
     "text": [
      "34\n",
      "(2721219, 9)\n",
      "(907074, 9)\n"
     ]
    },
    {
     "data": {
      "text/plain": [
       "Index(['ga:productSKU', 'ga:city', 'ga:pagePath', 'ga:landingPagePath',\n",
       "       'Product_price', 'Web_Discount', 'Detail_View', 'month_sin',\n",
       "       'month_cos'],\n",
       "      dtype='object')"
      ]
     },
     "execution_count": 15,
     "metadata": {},
     "output_type": "execute_result"
    }
   ],
   "source": [
    "X_train_final=pd.DataFrame(X_train_transf, columns=features_names)\n",
    "X_test_final=pd.DataFrame(X_test_transf, columns=features_names)\n",
    "drop_features = ['x0_bing','x0_cantabrialabs.es','x0_facebook','x0_other sources','x0_vogue',\\\n",
    "                 'x0_yahoo','x0_youtube','x0_IGShopping','x0_facebook ads','x0_facebook feed',\\\n",
    "                 'x0_facebook trafico','x0_tablet','x0_Macintosh','x0_other OS',\\\n",
    "                'x0_instagram','x0_referral','x0_sendinblue', 'x0_email','x0_Windows',\\\n",
    "                'x0_iOS','ga:daysSinceLastSession','x0_(direct)','x0_mobile',\\\n",
    "                'Returning_Visitor','x0_desktop','x0_cpc', 'x0_organic', 'x0_Android',\\\n",
    "                'dayofweek_sin','dayofweek_cos', 'hour_sin', 'hour_cos',\\\n",
    "                'x0_google','ga:sessionCount']\n",
    "X_train_final.drop(drop_features, axis=1, inplace=True)\n",
    "X_test_final.drop(drop_features, axis=1, inplace=True)\n",
    "print(len(drop_features))\n",
    "print(X_train_final.shape)\n",
    "print(X_test_final.shape)\n",
    "X_train_final.columns"
   ]
  },
  {
   "cell_type": "markdown",
   "id": "a690b5b8",
   "metadata": {},
   "source": [
    "### Tratamiento de clases desbalanceadas"
   ]
  },
  {
   "cell_type": "markdown",
   "id": "8d6a841d",
   "metadata": {},
   "source": [
    "#### SMOTE Oversampling"
   ]
  },
  {
   "cell_type": "code",
   "execution_count": 14,
   "id": "ab554634",
   "metadata": {},
   "outputs": [
    {
     "name": "stdout",
     "output_type": "stream",
     "text": [
      "Counter({0: 2690072, 1: 2690072})\n",
      "CPU times: user 5.29 s, sys: 1.38 s, total: 6.67 s\n",
      "Wall time: 6.69 s\n"
     ]
    }
   ],
   "source": [
    "%%time\n",
    "\n",
    "oversample = SMOTE()\n",
    "X_train_featsel_over, y_train_over = oversample.fit_resample(X_train_final,y_train)\n",
    "counter=Counter(y_train_over)\n",
    "print(counter)"
   ]
  },
  {
   "cell_type": "code",
   "execution_count": 15,
   "id": "a4eb7539",
   "metadata": {},
   "outputs": [
    {
     "name": "stdout",
     "output_type": "stream",
     "text": [
      "TRAINING SCORE: 0.9926258479326947\n",
      "ACCURACY: 0.977231185107279\n",
      "PRECISION: 0.24970454993106164\n",
      "RECALL: 0.48355106322113095\n",
      "F1 SCORE: 0.32933917843805816\n",
      "AUC: 0.8838707488243635\n",
      "CPU times: user 39min 11s, sys: 10.7 s, total: 39min 22s\n",
      "Wall time: 39min 23s\n"
     ]
    },
    {
     "data": {
      "image/png": "[encoded data removed]",
      "text/plain": [
       "<Figure size 432x288 with 1 Axes>"
      ]
     },
     "metadata": {
      "needs_background": "light"
     },
     "output_type": "display_data"
    }
   ],
   "source": [
    "%%time\n",
    "\n",
    "clf = RandomForestClassifier(criterion='entropy', n_estimators=50, random_state=42)\n",
    "evaluate(clf,X_train_featsel_over, X_test_final, y_train_over, y_test)"
   ]
  },
  {
   "cell_type": "code",
   "execution_count": 16,
   "id": "05fa7f7b",
   "metadata": {},
   "outputs": [
    {
     "name": "stdout",
     "output_type": "stream",
     "text": [
      "              precision    recall  f1-score   support\n",
      "\n",
      "           0       0.99      0.98      0.99    896587\n",
      "           1       0.25      0.48      0.33     10487\n",
      "\n",
      "    accuracy                           0.98    907074\n",
      "   macro avg       0.62      0.73      0.66    907074\n",
      "weighted avg       0.99      0.98      0.98    907074\n",
      "\n"
     ]
    },
    {
     "data": {
      "text/plain": [
       "array([[881350,  15237],\n",
       "       [  5416,   5071]])"
      ]
     },
     "execution_count": 16,
     "metadata": {},
     "output_type": "execute_result"
    }
   ],
   "source": [
    "predictions= clf.predict(X_test_final)\n",
    "print(classification_report(y_test,predictions))\n",
    "clrf_cm = confusion_matrix(y_test,predictions)\n",
    "clrf_cm"
   ]
  },
  {
   "cell_type": "markdown",
   "id": "3028ba34",
   "metadata": {},
   "source": [
    "#### SMOTE Oversampling and Undersampling"
   ]
  },
  {
   "cell_type": "code",
   "execution_count": 17,
   "id": "64afc084",
   "metadata": {},
   "outputs": [
    {
     "name": "stdout",
     "output_type": "stream",
     "text": [
      "Counter({0: 2690072, 1: 269007})\n",
      "CPU times: user 2.52 s, sys: 204 ms, total: 2.73 s\n",
      "Wall time: 2.74 s\n"
     ]
    }
   ],
   "source": [
    "%%time\n",
    "\n",
    "oversample = SMOTE(sampling_strategy=0.1)\n",
    "X_train_featsel_over, y_train_over = oversample.fit_resample(X_train_final,y_train)\n",
    "counter=Counter(y_train_over)\n",
    "print(counter)"
   ]
  },
  {
   "cell_type": "code",
   "execution_count": 18,
   "id": "5885f276",
   "metadata": {},
   "outputs": [
    {
     "name": "stdout",
     "output_type": "stream",
     "text": [
      "Counter({0: 538014, 1: 269007})\n"
     ]
    }
   ],
   "source": [
    "undersample = RandomUnderSampler(sampling_strategy=0.5)\n",
    "X_train_featsel_over_under, y_train_over_under = undersample.fit_resample(X_train_featsel_over, y_train_over)\n",
    "counter=Counter(y_train_over_under)\n",
    "print(counter)"
   ]
  },
  {
   "cell_type": "code",
   "execution_count": 19,
   "id": "1c0fdf20",
   "metadata": {},
   "outputs": [
    {
     "name": "stdout",
     "output_type": "stream",
     "text": [
      "TRAINING SCORE: 0.9897363265639928\n",
      "ACCURACY: 0.9657403916328767\n",
      "PRECISION: 0.19294896650460822\n",
      "RECALL: 0.6168589682464003\n",
      "F1 SCORE: 0.2939519243876948\n",
      "AUC: 0.9135083753366225\n",
      "CPU times: user 3min 37s, sys: 122 ms, total: 3min 37s\n",
      "Wall time: 3min 38s\n"
     ]
    },
    {
     "data": {
      "image/png": "[encoded data removed]",
      "text/plain": [
       "<Figure size 432x288 with 1 Axes>"
      ]
     },
     "metadata": {
      "needs_background": "light"
     },
     "output_type": "display_data"
    }
   ],
   "source": [
    "%%time\n",
    "\n",
    "clf = RandomForestClassifier(criterion='entropy', n_estimators=50, random_state=42)\n",
    "evaluate(clf,X_train_featsel_over_under, X_test_final, y_train_over_under, y_test)"
   ]
  },
  {
   "cell_type": "code",
   "execution_count": 20,
   "id": "0d3157c0",
   "metadata": {},
   "outputs": [
    {
     "name": "stdout",
     "output_type": "stream",
     "text": [
      "              precision    recall  f1-score   support\n",
      "\n",
      "           0       1.00      0.97      0.98    896587\n",
      "           1       0.19      0.62      0.29     10487\n",
      "\n",
      "    accuracy                           0.97    907074\n",
      "   macro avg       0.59      0.79      0.64    907074\n",
      "weighted avg       0.99      0.97      0.97    907074\n",
      "\n"
     ]
    },
    {
     "data": {
      "text/plain": [
       "array([[869529,  27058],\n",
       "       [  4018,   6469]])"
      ]
     },
     "execution_count": 20,
     "metadata": {},
     "output_type": "execute_result"
    }
   ],
   "source": [
    "predictions= clf.predict(X_test_final)\n",
    "print(classification_report(y_test,predictions))\n",
    "clrf_cm = confusion_matrix(y_test,predictions)\n",
    "clrf_cm"
   ]
  },
  {
   "cell_type": "markdown",
   "id": "3c39838f",
   "metadata": {},
   "source": [
    "#### Borderline SMOTE"
   ]
  },
  {
   "cell_type": "code",
   "execution_count": 21,
   "id": "81d399e1",
   "metadata": {},
   "outputs": [
    {
     "name": "stdout",
     "output_type": "stream",
     "text": [
      "Counter({0: 2690072, 1: 2690072})\n",
      "CPU times: user 10min 10s, sys: 1.24 s, total: 10min 11s\n",
      "Wall time: 10min 9s\n"
     ]
    }
   ],
   "source": [
    "%%time\n",
    "\n",
    "oversample = BorderlineSMOTE()\n",
    "X_train_featsel_over, y_train_over = oversample.fit_resample(X_train_final,y_train)\n",
    "counter=Counter(y_train_over)\n",
    "print(counter)"
   ]
  },
  {
   "cell_type": "code",
   "execution_count": 22,
   "id": "ee301777",
   "metadata": {},
   "outputs": [
    {
     "name": "stdout",
     "output_type": "stream",
     "text": [
      "TRAINING SCORE: 0.9951555200009516\n",
      "ACCURACY: 0.9803841803425078\n",
      "PRECISION: 0.2835130970724191\n",
      "RECALL: 0.4561838466673024\n",
      "F1 SCORE: 0.34969482109572025\n",
      "AUC: 0.885601368753292\n",
      "CPU times: user 39min 21s, sys: 3.24 s, total: 39min 25s\n",
      "Wall time: 39min 26s\n"
     ]
    },
    {
     "data": {
      "image/png": "[encoded data removed]",
      "text/plain": [
       "<Figure size 432x288 with 1 Axes>"
      ]
     },
     "metadata": {
      "needs_background": "light"
     },
     "output_type": "display_data"
    }
   ],
   "source": [
    "%%time\n",
    "\n",
    "clf = RandomForestClassifier(criterion='entropy', n_estimators=50, random_state=42)\n",
    "evaluate(clf,X_train_featsel_over, X_test_final, y_train_over, y_test)"
   ]
  },
  {
   "cell_type": "code",
   "execution_count": 23,
   "id": "6b637cbb",
   "metadata": {},
   "outputs": [
    {
     "name": "stdout",
     "output_type": "stream",
     "text": [
      "              precision    recall  f1-score   support\n",
      "\n",
      "           0       0.99      0.99      0.99    896587\n",
      "           1       0.28      0.46      0.35     10487\n",
      "\n",
      "    accuracy                           0.98    907074\n",
      "   macro avg       0.64      0.72      0.67    907074\n",
      "weighted avg       0.99      0.98      0.98    907074\n",
      "\n"
     ]
    },
    {
     "data": {
      "text/plain": [
       "array([[884497,  12090],\n",
       "       [  5703,   4784]])"
      ]
     },
     "execution_count": 23,
     "metadata": {},
     "output_type": "execute_result"
    }
   ],
   "source": [
    "predictions= clf.predict(X_test_final)\n",
    "print(classification_report(y_test,predictions))\n",
    "clrf_cm = confusion_matrix(y_test,predictions)\n",
    "clrf_cm"
   ]
  },
  {
   "cell_type": "markdown",
   "id": "ba390982",
   "metadata": {},
   "source": [
    "#### ADASYN"
   ]
  },
  {
   "cell_type": "code",
   "execution_count": 24,
   "id": "03524b58",
   "metadata": {},
   "outputs": [
    {
     "name": "stdout",
     "output_type": "stream",
     "text": [
      "Counter({0: 2690072, 1: 2681971})\n",
      "CPU times: user 9min 15s, sys: 3.25 s, total: 9min 19s\n",
      "Wall time: 9min 18s\n"
     ]
    }
   ],
   "source": [
    "%%time\n",
    "\n",
    "oversample = ADASYN()\n",
    "X_train_featsel_over, y_train_over = oversample.fit_resample(X_train_final,y_train)\n",
    "counter=Counter(y_train_over)\n",
    "print(counter)"
   ]
  },
  {
   "cell_type": "code",
   "execution_count": 25,
   "id": "7c9ff805",
   "metadata": {},
   "outputs": [
    {
     "name": "stdout",
     "output_type": "stream",
     "text": [
      "TRAINING SCORE: 0.992135952746469\n",
      "ACCURACY: 0.9759754992426197\n",
      "PRECISION: 0.2369584438549956\n",
      "RECALL: 0.48555354248116717\n",
      "F1 SCORE: 0.3184888666499875\n",
      "AUC: 0.8836409628427825\n",
      "CPU times: user 28min 40s, sys: 2.47 s, total: 28min 42s\n",
      "Wall time: 28min 44s\n"
     ]
    },
    {
     "data": {
      "image/png": "[encoded data removed]",
      "text/plain": [
       "<Figure size 432x288 with 1 Axes>"
      ]
     },
     "metadata": {
      "needs_background": "light"
     },
     "output_type": "display_data"
    }
   ],
   "source": [
    "%%time\n",
    "\n",
    "clf = RandomForestClassifier(criterion='entropy', n_estimators=50, random_state=42)\n",
    "evaluate(clf,X_train_featsel_over, X_test_final, y_train_over, y_test)"
   ]
  },
  {
   "cell_type": "code",
   "execution_count": null,
   "id": "91b3c463",
   "metadata": {},
   "outputs": [],
   "source": [
    "predictions= clf.predict(X_test_final)\n",
    "print(classification_report(y_test,predictions))\n",
    "clrf_cm = confusion_matrix(y_test,predictions)\n",
    "clrf_cm"
   ]
  },
  {
   "cell_type": "markdown",
   "id": "e4c6b0b9",
   "metadata": {},
   "source": [
    "### Optimización *Oversampling*/*Undersampling*"
   ]
  },
  {
   "cell_type": "markdown",
   "id": "present-finland",
   "metadata": {},
   "source": [
    "Como ya sucedio en el notebook de optimización, combinar SMOTE y *undersampling* ha sido la técnica que ha devuelto los mejores resultados. Procedemos a optimizar sus parámetros:"
   ]
  },
  {
   "cell_type": "markdown",
   "id": "c021d9b1",
   "metadata": {},
   "source": [
    "#### *Sampling strategy*"
   ]
  },
  {
   "cell_type": "markdown",
   "id": "green-valuation",
   "metadata": {
    "collapsed": true,
    "jupyter": {
     "outputs_hidden": true
    }
   },
   "source": [
    "Cabe señalar que ya obtuvimos los resultados (*recall*=0.61) para *sampling_strategy*=0.1 en la prueba en la que se comparaba con el resto de técnicas. Por esta razón, probaremos ahora distintos valores:"
   ]
  },
  {
   "cell_type": "code",
   "execution_count": 26,
   "id": "2a97a45f",
   "metadata": {},
   "outputs": [
    {
     "name": "stdout",
     "output_type": "stream",
     "text": [
      "o_ratio=0.2 > RECALL=0.55688 > PRECISION=0.22766 > F1SCORE=0.32320\n",
      "o_ratio=0.3 > RECALL=0.51111 > PRECISION=0.24388 > F1SCORE=0.33020\n",
      "o_ratio=0.4 > RECALL=0.48813 > PRECISION=0.26088 > F1SCORE=0.34003\n",
      "CPU times: user 40min 45s, sys: 2.73 s, total: 40min 47s\n",
      "Wall time: 40min 51s\n"
     ]
    }
   ],
   "source": [
    "%%time\n",
    "\n",
    "from imblearn.pipeline import Pipeline\n",
    "\n",
    "o_ratios = [0.2, 0.3, 0.4]\n",
    "\n",
    "for o_ratio in o_ratios:\n",
    "        over = SMOTE(sampling_strategy=o_ratio)\n",
    "        under = RandomUnderSampler(sampling_strategy=0.5)\n",
    "        model = RandomForestClassifier(criterion='entropy', n_estimators=50, random_state=42)\n",
    "        steps = [('over', over), ('under', under), ('model', model)]\n",
    "        clf = Pipeline(steps=steps)\n",
    "        clf.fit(X_train_final,y_train)\n",
    "        predictions = clf.predict(X_test_final)\n",
    "        recall = recall_score(y_test, predictions)\n",
    "        precision = precision_score(y_test, predictions)\n",
    "        f1score = f1_score(y_test, predictions)\n",
    "        print(\"o_ratio=%.1f > RECALL=%.5f > PRECISION=%.5f > F1SCORE=%.5f\" %(o_ratio,recall,precision,f1score))"
   ]
  },
  {
   "cell_type": "markdown",
   "id": "36cfde3f",
   "metadata": {},
   "source": [
    "#### *K neighbors*"
   ]
  },
  {
   "cell_type": "markdown",
   "id": "duplicate-guidance",
   "metadata": {},
   "source": [
    "Para este valor optimizado de *sampling_strategy*, probamos ahora distintos números de vecinos que debe considerar SMOTE para crear las observaciones sintéticas:"
   ]
  },
  {
   "cell_type": "code",
   "execution_count": 27,
   "id": "add07ea3",
   "metadata": {},
   "outputs": [
    {
     "name": "stdout",
     "output_type": "stream",
     "text": [
      "K=1 > RECALL=0.60475 > PRECISION=0.20148 > F1SCORE=0.30226\n",
      "K=2 > RECALL=0.61457 > PRECISION=0.19677 > F1SCORE=0.29810\n",
      "K=3 > RECALL=0.61934 > PRECISION=0.19398 > F1SCORE=0.29543\n",
      "K=4 > RECALL=0.61848 > PRECISION=0.19076 > F1SCORE=0.29159\n",
      "K=5 > RECALL=0.61381 > PRECISION=0.18755 > F1SCORE=0.28731\n",
      "K=6 > RECALL=0.61161 > PRECISION=0.18836 > F1SCORE=0.28802\n",
      "K=7 > RECALL=0.61409 > PRECISION=0.18799 > F1SCORE=0.28785\n",
      "CPU times: user 21min 10s, sys: 997 ms, total: 21min 11s\n",
      "Wall time: 21min 13s\n"
     ]
    }
   ],
   "source": [
    "%%time\n",
    "\n",
    "from imblearn.pipeline import Pipeline\n",
    "\n",
    "k_values = [1,2,3,4,5,6,7]\n",
    "\n",
    "for k in k_values:\n",
    "    over = SMOTE(sampling_strategy=0.1, k_neighbors=k)\n",
    "    under = RandomUnderSampler(sampling_strategy=0.5)\n",
    "    model = RandomForestClassifier(criterion='entropy', n_estimators=50, random_state=42)\n",
    "    steps = [('over', over), ('under', under), ('model', model)]\n",
    "    clf = Pipeline(steps=steps)\n",
    "    clf.fit(X_train_final,y_train)\n",
    "    predictions = clf.predict(X_test_final)\n",
    "    recall = recall_score(y_test, predictions)\n",
    "    precision = precision_score(y_test, predictions)\n",
    "    f1score = f1_score(y_test, predictions)\n",
    "    print(\"K=%d > RECALL=%.5f > PRECISION=%.5f > F1SCORE=%.5f\" %(k,recall,precision,f1score))"
   ]
  },
  {
   "cell_type": "code",
   "execution_count": 28,
   "id": "11dc7edf",
   "metadata": {},
   "outputs": [
    {
     "name": "stdout",
     "output_type": "stream",
     "text": [
      "K=8 > RECALL=0.61705 > PRECISION=0.18662 > F1SCORE=0.28657\n",
      "K=9 > RECALL=0.61085 > PRECISION=0.18613 > F1SCORE=0.28533\n",
      "K=10 > RECALL=0.61800 > PRECISION=0.18718 > F1SCORE=0.28734\n",
      "CPU times: user 9min 6s, sys: 132 ms, total: 9min 6s\n",
      "Wall time: 9min 6s\n"
     ]
    }
   ],
   "source": [
    "%%time\n",
    "\n",
    "from imblearn.pipeline import Pipeline\n",
    "\n",
    "k_values = [8,9,10]\n",
    "\n",
    "for k in k_values:\n",
    "    over = SMOTE(sampling_strategy=0.1, k_neighbors=k)\n",
    "    under = RandomUnderSampler(sampling_strategy=0.5)\n",
    "    model = RandomForestClassifier(criterion='entropy', n_estimators=50, random_state=42)\n",
    "    steps = [('over', over), ('under', under), ('model', model)]\n",
    "    clf = Pipeline(steps=steps)\n",
    "    clf.fit(X_train_final,y_train)\n",
    "    predictions = clf.predict(X_test_final)\n",
    "    recall = recall_score(y_test, predictions)\n",
    "    precision = precision_score(y_test, predictions)\n",
    "    f1score = f1_score(y_test, predictions)\n",
    "    print(\"K=%d > RECALL=%.5f > PRECISION=%.5f > F1SCORE=%.5f\" %(k,recall,precision,f1score))"
   ]
  },
  {
   "cell_type": "markdown",
   "id": "usual-arkansas",
   "metadata": {},
   "source": [
    "La mejor combinación de estos parámetros de cara a *recall* es:\n",
    "- *sampling_strategy*=0.1\n",
    "- *k*=3"
   ]
  },
  {
   "cell_type": "markdown",
   "id": "a4c4da34",
   "metadata": {},
   "source": [
    "### Clasificador final con optimización de hiperparámetros del modelo"
   ]
  },
  {
   "cell_type": "markdown",
   "id": "scheduled-upset",
   "metadata": {},
   "source": [
    "Como ya hicimos en el apartado de *SELECCIÓN DE VARIABLES*, entrenaremos el modelo optimizando sus hiperparámetros:"
   ]
  },
  {
   "cell_type": "code",
   "execution_count": 16,
   "id": "04dd9268",
   "metadata": {},
   "outputs": [
    {
     "name": "stdout",
     "output_type": "stream",
     "text": [
      "Counter({0: 538014, 1: 269007})\n",
      "CPU times: user 2.03 s, sys: 184 ms, total: 2.21 s\n",
      "Wall time: 2.21 s\n"
     ]
    }
   ],
   "source": [
    "%%time\n",
    "\n",
    "from imblearn.pipeline import Pipeline\n",
    "\n",
    "over = SMOTE(sampling_strategy=0.1, k_neighbors=3)\n",
    "under = RandomUnderSampler(sampling_strategy=0.5)\n",
    "steps = [('over', over), ('under', under)]\n",
    "pipeline = Pipeline(steps=steps)\n",
    "X_train_featsel_resample, y_train_resample=pipeline.fit_resample(X_train_final,y_train)\n",
    "counter=Counter(y_train_resample)\n",
    "print(counter)"
   ]
  },
  {
   "cell_type": "code",
   "execution_count": 17,
   "id": "abfdc625",
   "metadata": {},
   "outputs": [
    {
     "name": "stdout",
     "output_type": "stream",
     "text": [
      "Fitting 5 folds for each of 24 candidates, totalling 120 fits\n",
      "[CV] END ....criterion=gini, max_depth=None, n_estimators=50; total time= 1.2min\n",
      "[CV] END ....criterion=gini, max_depth=None, n_estimators=50; total time= 1.1min\n",
      "[CV] END ....criterion=gini, max_depth=None, n_estimators=50; total time= 1.2min\n",
      "[CV] END ....criterion=gini, max_depth=None, n_estimators=50; total time= 1.2min\n",
      "[CV] END ....criterion=gini, max_depth=None, n_estimators=50; total time= 1.1min\n",
      "[CV] END ...criterion=gini, max_depth=None, n_estimators=100; total time= 2.3min\n",
      "[CV] END ...criterion=gini, max_depth=None, n_estimators=100; total time= 2.1min\n",
      "[CV] END ...criterion=gini, max_depth=None, n_estimators=100; total time= 1.9min\n",
      "[CV] END ...criterion=gini, max_depth=None, n_estimators=100; total time= 1.8min\n",
      "[CV] END ...criterion=gini, max_depth=None, n_estimators=100; total time= 1.8min\n",
      "[CV] END ...criterion=gini, max_depth=None, n_estimators=200; total time= 3.7min\n",
      "[CV] END ...criterion=gini, max_depth=None, n_estimators=200; total time= 3.6min\n",
      "[CV] END ...criterion=gini, max_depth=None, n_estimators=200; total time= 3.7min\n",
      "[CV] END ...criterion=gini, max_depth=None, n_estimators=200; total time= 3.6min\n",
      "[CV] END ...criterion=gini, max_depth=None, n_estimators=200; total time= 3.6min\n",
      "[CV] END .......criterion=gini, max_depth=5, n_estimators=50; total time=  23.3s\n",
      "[CV] END .......criterion=gini, max_depth=5, n_estimators=50; total time=  22.8s\n",
      "[CV] END .......criterion=gini, max_depth=5, n_estimators=50; total time=  22.5s\n",
      "[CV] END .......criterion=gini, max_depth=5, n_estimators=50; total time=  22.7s\n",
      "[CV] END .......criterion=gini, max_depth=5, n_estimators=50; total time=  22.9s\n",
      "[CV] END ......criterion=gini, max_depth=5, n_estimators=100; total time=  45.5s\n",
      "[CV] END ......criterion=gini, max_depth=5, n_estimators=100; total time=  44.9s\n",
      "[CV] END ......criterion=gini, max_depth=5, n_estimators=100; total time=  45.0s\n",
      "[CV] END ......criterion=gini, max_depth=5, n_estimators=100; total time=  45.8s\n",
      "[CV] END ......criterion=gini, max_depth=5, n_estimators=100; total time=  45.9s\n",
      "[CV] END ......criterion=gini, max_depth=5, n_estimators=200; total time= 1.5min\n",
      "[CV] END ......criterion=gini, max_depth=5, n_estimators=200; total time= 1.5min\n",
      "[CV] END ......criterion=gini, max_depth=5, n_estimators=200; total time= 1.5min\n",
      "[CV] END ......criterion=gini, max_depth=5, n_estimators=200; total time= 1.5min\n",
      "[CV] END ......criterion=gini, max_depth=5, n_estimators=200; total time= 1.5min\n",
      "[CV] END ......criterion=gini, max_depth=10, n_estimators=50; total time=  37.4s\n",
      "[CV] END ......criterion=gini, max_depth=10, n_estimators=50; total time=  36.2s\n",
      "[CV] END ......criterion=gini, max_depth=10, n_estimators=50; total time=  36.2s\n",
      "[CV] END ......criterion=gini, max_depth=10, n_estimators=50; total time=  36.4s\n",
      "[CV] END ......criterion=gini, max_depth=10, n_estimators=50; total time=  36.9s\n",
      "[CV] END .....criterion=gini, max_depth=10, n_estimators=100; total time= 1.3min\n",
      "[CV] END .....criterion=gini, max_depth=10, n_estimators=100; total time= 1.2min\n",
      "[CV] END .....criterion=gini, max_depth=10, n_estimators=100; total time= 1.2min\n",
      "[CV] END .....criterion=gini, max_depth=10, n_estimators=100; total time= 1.2min\n",
      "[CV] END .....criterion=gini, max_depth=10, n_estimators=100; total time= 1.2min\n",
      "[CV] END .....criterion=gini, max_depth=10, n_estimators=200; total time= 2.4min\n",
      "[CV] END .....criterion=gini, max_depth=10, n_estimators=200; total time= 2.4min\n",
      "[CV] END .....criterion=gini, max_depth=10, n_estimators=200; total time= 2.4min\n",
      "[CV] END .....criterion=gini, max_depth=10, n_estimators=200; total time= 2.5min\n",
      "[CV] END .....criterion=gini, max_depth=10, n_estimators=200; total time= 2.4min\n",
      "[CV] END ......criterion=gini, max_depth=20, n_estimators=50; total time=  52.9s\n",
      "[CV] END ......criterion=gini, max_depth=20, n_estimators=50; total time=  52.4s\n",
      "[CV] END ......criterion=gini, max_depth=20, n_estimators=50; total time=  51.9s\n",
      "[CV] END ......criterion=gini, max_depth=20, n_estimators=50; total time=  52.0s\n",
      "[CV] END ......criterion=gini, max_depth=20, n_estimators=50; total time=  52.5s\n",
      "[CV] END .....criterion=gini, max_depth=20, n_estimators=100; total time= 1.8min\n",
      "[CV] END .....criterion=gini, max_depth=20, n_estimators=100; total time= 1.8min\n",
      "[CV] END .....criterion=gini, max_depth=20, n_estimators=100; total time= 1.8min\n",
      "[CV] END .....criterion=gini, max_depth=20, n_estimators=100; total time= 1.8min\n",
      "[CV] END .....criterion=gini, max_depth=20, n_estimators=100; total time= 1.8min\n",
      "[CV] END .....criterion=gini, max_depth=20, n_estimators=200; total time= 3.6min\n",
      "[CV] END .....criterion=gini, max_depth=20, n_estimators=200; total time= 3.6min\n",
      "[CV] END .....criterion=gini, max_depth=20, n_estimators=200; total time= 3.5min\n",
      "[CV] END .....criterion=gini, max_depth=20, n_estimators=200; total time= 3.6min\n",
      "[CV] END .....criterion=gini, max_depth=20, n_estimators=200; total time= 3.5min\n",
      "[CV] END .criterion=entropy, max_depth=None, n_estimators=50; total time= 1.1min\n",
      "[CV] END .criterion=entropy, max_depth=None, n_estimators=50; total time= 1.1min\n",
      "[CV] END .criterion=entropy, max_depth=None, n_estimators=50; total time= 1.1min\n",
      "[CV] END .criterion=entropy, max_depth=None, n_estimators=50; total time= 1.1min\n",
      "[CV] END .criterion=entropy, max_depth=None, n_estimators=50; total time= 1.1min\n",
      "[CV] END criterion=entropy, max_depth=None, n_estimators=100; total time= 2.2min\n",
      "[CV] END criterion=entropy, max_depth=None, n_estimators=100; total time= 2.2min\n",
      "[CV] END criterion=entropy, max_depth=None, n_estimators=100; total time= 2.2min\n",
      "[CV] END criterion=entropy, max_depth=None, n_estimators=100; total time= 2.2min\n",
      "[CV] END criterion=entropy, max_depth=None, n_estimators=100; total time= 2.2min\n",
      "[CV] END criterion=entropy, max_depth=None, n_estimators=200; total time= 4.4min\n",
      "[CV] END criterion=entropy, max_depth=None, n_estimators=200; total time= 4.4min\n",
      "[CV] END criterion=entropy, max_depth=None, n_estimators=200; total time= 4.4min\n",
      "[CV] END criterion=entropy, max_depth=None, n_estimators=200; total time= 4.4min\n",
      "[CV] END criterion=entropy, max_depth=None, n_estimators=200; total time= 4.4min\n",
      "[CV] END ....criterion=entropy, max_depth=5, n_estimators=50; total time=  26.7s\n",
      "[CV] END ....criterion=entropy, max_depth=5, n_estimators=50; total time=  26.3s\n",
      "[CV] END ....criterion=entropy, max_depth=5, n_estimators=50; total time=  26.1s\n",
      "[CV] END ....criterion=entropy, max_depth=5, n_estimators=50; total time=  26.4s\n",
      "[CV] END ....criterion=entropy, max_depth=5, n_estimators=50; total time=  26.0s\n",
      "[CV] END ...criterion=entropy, max_depth=5, n_estimators=100; total time=  53.2s\n",
      "[CV] END ...criterion=entropy, max_depth=5, n_estimators=100; total time=  51.7s\n",
      "[CV] END ...criterion=entropy, max_depth=5, n_estimators=100; total time=  51.8s\n",
      "[CV] END ...criterion=entropy, max_depth=5, n_estimators=100; total time=  52.6s\n",
      "[CV] END ...criterion=entropy, max_depth=5, n_estimators=100; total time=  52.0s\n",
      "[CV] END ...criterion=entropy, max_depth=5, n_estimators=200; total time= 1.7min\n",
      "[CV] END ...criterion=entropy, max_depth=5, n_estimators=200; total time= 1.7min\n",
      "[CV] END ...criterion=entropy, max_depth=5, n_estimators=200; total time= 1.7min\n",
      "[CV] END ...criterion=entropy, max_depth=5, n_estimators=200; total time= 1.7min\n",
      "[CV] END ...criterion=entropy, max_depth=5, n_estimators=200; total time= 1.7min\n",
      "[CV] END ...criterion=entropy, max_depth=10, n_estimators=50; total time=  43.8s\n",
      "[CV] END ...criterion=entropy, max_depth=10, n_estimators=50; total time=  41.4s\n",
      "[CV] END ...criterion=entropy, max_depth=10, n_estimators=50; total time=  42.0s\n",
      "[CV] END ...criterion=entropy, max_depth=10, n_estimators=50; total time=  42.4s\n",
      "[CV] END ...criterion=entropy, max_depth=10, n_estimators=50; total time=  41.5s\n",
      "[CV] END ..criterion=entropy, max_depth=10, n_estimators=100; total time= 1.4min\n",
      "[CV] END ..criterion=entropy, max_depth=10, n_estimators=100; total time= 1.4min\n",
      "[CV] END ..criterion=entropy, max_depth=10, n_estimators=100; total time= 1.4min\n",
      "[CV] END ..criterion=entropy, max_depth=10, n_estimators=100; total time= 1.4min\n",
      "[CV] END ..criterion=entropy, max_depth=10, n_estimators=100; total time= 1.4min\n",
      "[CV] END ..criterion=entropy, max_depth=10, n_estimators=200; total time= 2.8min\n",
      "[CV] END ..criterion=entropy, max_depth=10, n_estimators=200; total time= 2.8min\n",
      "[CV] END ..criterion=entropy, max_depth=10, n_estimators=200; total time= 2.9min\n",
      "[CV] END ..criterion=entropy, max_depth=10, n_estimators=200; total time= 2.9min\n",
      "[CV] END ..criterion=entropy, max_depth=10, n_estimators=200; total time= 2.8min\n",
      "[CV] END ...criterion=entropy, max_depth=20, n_estimators=50; total time= 1.0min\n",
      "[CV] END ...criterion=entropy, max_depth=20, n_estimators=50; total time=  59.9s\n",
      "[CV] END ...criterion=entropy, max_depth=20, n_estimators=50; total time=  59.6s\n",
      "[CV] END ...criterion=entropy, max_depth=20, n_estimators=50; total time=  59.0s\n",
      "[CV] END ...criterion=entropy, max_depth=20, n_estimators=50; total time=  59.1s\n",
      "[CV] END ..criterion=entropy, max_depth=20, n_estimators=100; total time= 2.0min\n",
      "[CV] END ..criterion=entropy, max_depth=20, n_estimators=100; total time= 2.0min\n",
      "[CV] END ..criterion=entropy, max_depth=20, n_estimators=100; total time= 2.0min\n",
      "[CV] END ..criterion=entropy, max_depth=20, n_estimators=100; total time= 2.0min\n",
      "[CV] END ..criterion=entropy, max_depth=20, n_estimators=100; total time= 2.0min\n",
      "[CV] END ..criterion=entropy, max_depth=20, n_estimators=200; total time= 4.0min\n",
      "[CV] END ..criterion=entropy, max_depth=20, n_estimators=200; total time= 3.9min\n",
      "[CV] END ..criterion=entropy, max_depth=20, n_estimators=200; total time= 3.9min\n",
      "[CV] END ..criterion=entropy, max_depth=20, n_estimators=200; total time= 3.9min\n",
      "[CV] END ..criterion=entropy, max_depth=20, n_estimators=200; total time= 3.9min\n",
      "CPU times: user 4h 1min 59s, sys: 3.95 s, total: 4h 2min 2s\n",
      "Wall time: 4h 2min 3s\n"
     ]
    },
    {
     "data": {
      "text/plain": [
       "GridSearchCV(estimator=RandomForestClassifier(random_state=42),\n",
       "             param_grid={'criterion': ['gini', 'entropy'],\n",
       "                         'max_depth': [None, 5, 10, 20],\n",
       "                         'n_estimators': [50, 100, 200]},\n",
       "             return_train_score=True, scoring='recall', verbose=2)"
      ]
     },
     "execution_count": 17,
     "metadata": {},
     "output_type": "execute_result"
    }
   ],
   "source": [
    "%%time\n",
    "\n",
    "param_grid = {'n_estimators': [50,100,200],\n",
    "              'max_depth'   : [None, 5, 10, 20],\n",
    "              'criterion'   : ['gini', 'entropy']\n",
    "             }\n",
    "\n",
    "grid=GridSearchCV(estimator=RandomForestClassifier(random_state=42),\n",
    "                 param_grid=param_grid,\n",
    "                 scoring='recall',\n",
    "                 refit=True,\n",
    "                 verbose=2,\n",
    "                 return_train_score=True)\n",
    "\n",
    "grid.fit(X_train_featsel_resample,y_train_resample)"
   ]
  },
  {
   "cell_type": "code",
   "execution_count": 18,
   "id": "a0e0f9ae",
   "metadata": {},
   "outputs": [
    {
     "data": {
      "text/plain": [
       "{'criterion': 'gini', 'max_depth': 20, 'n_estimators': 200}"
      ]
     },
     "execution_count": 18,
     "metadata": {},
     "output_type": "execute_result"
    }
   ],
   "source": [
    "grid.best_params_"
   ]
  },
  {
   "cell_type": "code",
   "execution_count": 19,
   "id": "655c20c6",
   "metadata": {},
   "outputs": [
    {
     "data": {
      "text/plain": [
       "RandomForestClassifier(max_depth=20, n_estimators=200, random_state=42)"
      ]
     },
     "execution_count": 19,
     "metadata": {},
     "output_type": "execute_result"
    }
   ],
   "source": [
    "grid.best_estimator_"
   ]
  },
  {
   "cell_type": "code",
   "execution_count": 20,
   "id": "0b679ef1",
   "metadata": {},
   "outputs": [
    {
     "data": {
      "text/plain": [
       "0.944458857136973"
      ]
     },
     "execution_count": 20,
     "metadata": {},
     "output_type": "execute_result"
    }
   ],
   "source": [
    "grid.best_score_"
   ]
  },
  {
   "cell_type": "code",
   "execution_count": 21,
   "id": "9772f3cd",
   "metadata": {},
   "outputs": [
    {
     "data": {
      "text/html": [
       "<div>\n",
       "<style scoped>\n",
       "    .dataframe tbody tr th:only-of-type {\n",
       "        vertical-align: middle;\n",
       "    }\n",
       "\n",
       "    .dataframe tbody tr th {\n",
       "        vertical-align: top;\n",
       "    }\n",
       "\n",
       "    .dataframe thead th {\n",
       "        text-align: right;\n",
       "    }\n",
       "</style>\n",
       "<table border=\"1\" class=\"dataframe\">\n",
       "  <thead>\n",
       "    <tr style=\"text-align: right;\">\n",
       "      <th></th>\n",
       "      <th>criterion</th>\n",
       "      <th>max_depth</th>\n",
       "      <th>n_estimators</th>\n",
       "      <th>Recall</th>\n",
       "    </tr>\n",
       "  </thead>\n",
       "  <tbody>\n",
       "    <tr>\n",
       "      <th>0</th>\n",
       "      <td>gini</td>\n",
       "      <td>NaN</td>\n",
       "      <td>50</td>\n",
       "      <td>0.939087</td>\n",
       "    </tr>\n",
       "    <tr>\n",
       "      <th>1</th>\n",
       "      <td>gini</td>\n",
       "      <td>NaN</td>\n",
       "      <td>100</td>\n",
       "      <td>0.940582</td>\n",
       "    </tr>\n",
       "    <tr>\n",
       "      <th>2</th>\n",
       "      <td>gini</td>\n",
       "      <td>NaN</td>\n",
       "      <td>200</td>\n",
       "      <td>0.941485</td>\n",
       "    </tr>\n",
       "    <tr>\n",
       "      <th>3</th>\n",
       "      <td>gini</td>\n",
       "      <td>5.0</td>\n",
       "      <td>50</td>\n",
       "      <td>0.842090</td>\n",
       "    </tr>\n",
       "    <tr>\n",
       "      <th>4</th>\n",
       "      <td>gini</td>\n",
       "      <td>5.0</td>\n",
       "      <td>100</td>\n",
       "      <td>0.852030</td>\n",
       "    </tr>\n",
       "    <tr>\n",
       "      <th>5</th>\n",
       "      <td>gini</td>\n",
       "      <td>5.0</td>\n",
       "      <td>200</td>\n",
       "      <td>0.852866</td>\n",
       "    </tr>\n",
       "    <tr>\n",
       "      <th>6</th>\n",
       "      <td>gini</td>\n",
       "      <td>10.0</td>\n",
       "      <td>50</td>\n",
       "      <td>0.881011</td>\n",
       "    </tr>\n",
       "    <tr>\n",
       "      <th>7</th>\n",
       "      <td>gini</td>\n",
       "      <td>10.0</td>\n",
       "      <td>100</td>\n",
       "      <td>0.882836</td>\n",
       "    </tr>\n",
       "    <tr>\n",
       "      <th>8</th>\n",
       "      <td>gini</td>\n",
       "      <td>10.0</td>\n",
       "      <td>200</td>\n",
       "      <td>0.884312</td>\n",
       "    </tr>\n",
       "    <tr>\n",
       "      <th>9</th>\n",
       "      <td>gini</td>\n",
       "      <td>20.0</td>\n",
       "      <td>50</td>\n",
       "      <td>0.943076</td>\n",
       "    </tr>\n",
       "    <tr>\n",
       "      <th>10</th>\n",
       "      <td>gini</td>\n",
       "      <td>20.0</td>\n",
       "      <td>100</td>\n",
       "      <td>0.944210</td>\n",
       "    </tr>\n",
       "    <tr>\n",
       "      <th>11</th>\n",
       "      <td>gini</td>\n",
       "      <td>20.0</td>\n",
       "      <td>200</td>\n",
       "      <td>0.944459</td>\n",
       "    </tr>\n",
       "    <tr>\n",
       "      <th>12</th>\n",
       "      <td>entropy</td>\n",
       "      <td>NaN</td>\n",
       "      <td>50</td>\n",
       "      <td>0.940314</td>\n",
       "    </tr>\n",
       "    <tr>\n",
       "      <th>13</th>\n",
       "      <td>entropy</td>\n",
       "      <td>NaN</td>\n",
       "      <td>100</td>\n",
       "      <td>0.941682</td>\n",
       "    </tr>\n",
       "    <tr>\n",
       "      <th>14</th>\n",
       "      <td>entropy</td>\n",
       "      <td>NaN</td>\n",
       "      <td>200</td>\n",
       "      <td>0.942452</td>\n",
       "    </tr>\n",
       "    <tr>\n",
       "      <th>15</th>\n",
       "      <td>entropy</td>\n",
       "      <td>5.0</td>\n",
       "      <td>50</td>\n",
       "      <td>0.851602</td>\n",
       "    </tr>\n",
       "    <tr>\n",
       "      <th>16</th>\n",
       "      <td>entropy</td>\n",
       "      <td>5.0</td>\n",
       "      <td>100</td>\n",
       "      <td>0.855238</td>\n",
       "    </tr>\n",
       "    <tr>\n",
       "      <th>17</th>\n",
       "      <td>entropy</td>\n",
       "      <td>5.0</td>\n",
       "      <td>200</td>\n",
       "      <td>0.856491</td>\n",
       "    </tr>\n",
       "    <tr>\n",
       "      <th>18</th>\n",
       "      <td>entropy</td>\n",
       "      <td>10.0</td>\n",
       "      <td>50</td>\n",
       "      <td>0.881535</td>\n",
       "    </tr>\n",
       "    <tr>\n",
       "      <th>19</th>\n",
       "      <td>entropy</td>\n",
       "      <td>10.0</td>\n",
       "      <td>100</td>\n",
       "      <td>0.881713</td>\n",
       "    </tr>\n",
       "    <tr>\n",
       "      <th>20</th>\n",
       "      <td>entropy</td>\n",
       "      <td>10.0</td>\n",
       "      <td>200</td>\n",
       "      <td>0.882840</td>\n",
       "    </tr>\n",
       "    <tr>\n",
       "      <th>21</th>\n",
       "      <td>entropy</td>\n",
       "      <td>20.0</td>\n",
       "      <td>50</td>\n",
       "      <td>0.941864</td>\n",
       "    </tr>\n",
       "    <tr>\n",
       "      <th>22</th>\n",
       "      <td>entropy</td>\n",
       "      <td>20.0</td>\n",
       "      <td>100</td>\n",
       "      <td>0.942708</td>\n",
       "    </tr>\n",
       "    <tr>\n",
       "      <th>23</th>\n",
       "      <td>entropy</td>\n",
       "      <td>20.0</td>\n",
       "      <td>200</td>\n",
       "      <td>0.942872</td>\n",
       "    </tr>\n",
       "  </tbody>\n",
       "</table>\n",
       "</div>"
      ],
      "text/plain": [
       "   criterion  max_depth  n_estimators    Recall\n",
       "0       gini        NaN            50  0.939087\n",
       "1       gini        NaN           100  0.940582\n",
       "2       gini        NaN           200  0.941485\n",
       "3       gini        5.0            50  0.842090\n",
       "4       gini        5.0           100  0.852030\n",
       "5       gini        5.0           200  0.852866\n",
       "6       gini       10.0            50  0.881011\n",
       "7       gini       10.0           100  0.882836\n",
       "8       gini       10.0           200  0.884312\n",
       "9       gini       20.0            50  0.943076\n",
       "10      gini       20.0           100  0.944210\n",
       "11      gini       20.0           200  0.944459\n",
       "12   entropy        NaN            50  0.940314\n",
       "13   entropy        NaN           100  0.941682\n",
       "14   entropy        NaN           200  0.942452\n",
       "15   entropy        5.0            50  0.851602\n",
       "16   entropy        5.0           100  0.855238\n",
       "17   entropy        5.0           200  0.856491\n",
       "18   entropy       10.0            50  0.881535\n",
       "19   entropy       10.0           100  0.881713\n",
       "20   entropy       10.0           200  0.882840\n",
       "21   entropy       20.0            50  0.941864\n",
       "22   entropy       20.0           100  0.942708\n",
       "23   entropy       20.0           200  0.942872"
      ]
     },
     "execution_count": 21,
     "metadata": {},
     "output_type": "execute_result"
    }
   ],
   "source": [
    "pd.concat([pd.DataFrame(grid.cv_results_[\"params\"]),pd.DataFrame(grid.cv_results_[\"mean_test_score\"], columns=[\"Recall\"])],axis=1)"
   ]
  },
  {
   "cell_type": "code",
   "execution_count": 22,
   "id": "4fed5d61",
   "metadata": {},
   "outputs": [],
   "source": [
    "pickle.dump(grid,open(\"FINALCLF_featsel_optimization_unimbal.pickle\",\"wb\"))"
   ]
  },
  {
   "cell_type": "code",
   "execution_count": 23,
   "id": "b9da1857",
   "metadata": {},
   "outputs": [
    {
     "name": "stdout",
     "output_type": "stream",
     "text": [
      "TRAINING SCORE: 0.9752794536945135\n",
      "ACCURACY: 0.9511208567327473\n",
      "PRECISION: 0.1520496690103203\n",
      "RECALL: 0.7052541241537141\n",
      "F1 SCORE: 0.2501648937069797\n",
      "AUC: 0.9309970386050841\n"
     ]
    },
    {
     "data": {
      "text/plain": [
       "Text(0, 0.5, 'tpr')"
      ]
     },
     "execution_count": 23,
     "metadata": {},
     "output_type": "execute_result"
    },
    {
     "data": {
      "image/png": "[encoded data removed]",
      "text/plain": [
       "<Figure size 432x288 with 1 Axes>"
      ]
     },
     "metadata": {
      "needs_background": "light"
     },
     "output_type": "display_data"
    }
   ],
   "source": [
    "predictions = grid.predict(X_test_final)\n",
    "probabilities = grid.predict_proba(X_test_final)\n",
    "\n",
    "print(\"TRAINING SCORE: \" + str(grid.score(X_train_featsel_resample,y_train_resample)))\n",
    "print(\"ACCURACY: \" + str(accuracy_score(y_test, predictions)))\n",
    "print(\"PRECISION: \" + str(precision_score(y_test, predictions)))\n",
    "print(\"RECALL: \" + str(recall_score(y_test, predictions)))\n",
    "print(\"F1 SCORE: \" + str(f1_score(y_test, predictions)))\n",
    "print(\"AUC: \" + str(roc_auc_score(y_test,probabilities[:, 1])))\n",
    "\n",
    "tpr, fpr, thresolds = roc_curve(y_test, probabilities[:, 1])\n",
    "plt.plot(tpr, fpr)\n",
    "plt.xlabel('fpr')\n",
    "plt.ylabel('tpr')"
   ]
  },
  {
   "cell_type": "code",
   "execution_count": 24,
   "id": "6a729019",
   "metadata": {},
   "outputs": [
    {
     "name": "stdout",
     "output_type": "stream",
     "text": [
      "              precision    recall  f1-score   support\n",
      "\n",
      "           0       1.00      0.95      0.97    896587\n",
      "           1       0.15      0.71      0.25     10487\n",
      "\n",
      "    accuracy                           0.95    907074\n",
      "   macro avg       0.57      0.83      0.61    907074\n",
      "weighted avg       0.99      0.95      0.97    907074\n",
      "\n"
     ]
    },
    {
     "data": {
      "text/plain": [
       "array([[855341,  41246],\n",
       "       [  3091,   7396]])"
      ]
     },
     "execution_count": 24,
     "metadata": {},
     "output_type": "execute_result"
    }
   ],
   "source": [
    "print(classification_report(y_test,grid.predict(X_test_final)))\n",
    "clrf_cm = confusion_matrix(y_test,grid.predict(X_test_final))\n",
    "clrf_cm"
   ]
  },
  {
   "cell_type": "code",
   "execution_count": 25,
   "id": "c138e482",
   "metadata": {},
   "outputs": [
    {
     "name": "stdout",
     "output_type": "stream",
     "text": [
      "f1=0.250 auc=0.357\n"
     ]
    },
    {
     "data": {
      "image/png": "[encoded data removed]",
      "text/plain": [
       "<Figure size 432x288 with 1 Axes>"
      ]
     },
     "metadata": {
      "needs_background": "light"
     },
     "output_type": "display_data"
    }
   ],
   "source": [
    "from sklearn.metrics import precision_recall_curve\n",
    "from sklearn.metrics import f1_score\n",
    "from sklearn.metrics import auc\n",
    "\n",
    "precision, recall, _ = precision_recall_curve(y_test, probabilities[:, 1])\n",
    "f1, auc = f1_score(y_test, predictions), auc(recall, precision)\n",
    "# summarize scores\n",
    "print('f1=%.3f auc=%.3f' % (f1, auc))\n",
    "# plot the precision-recall curves\n",
    "no_skill = len(y_test[y_test==1]) / len(y_test)\n",
    "plt.plot([0, 1], [no_skill, no_skill], linestyle='--', label='No Skill')\n",
    "plt.plot(recall, precision, marker='.', label='Classifier')\n",
    "# axis labels\n",
    "plt.xlabel('Recall')\n",
    "plt.ylabel('Precision')\n",
    "# show the legend\n",
    "plt.legend()\n",
    "# show the plot\n",
    "plt.show()"
   ]
  },
  {
   "cell_type": "markdown",
   "id": "fef29bad",
   "metadata": {},
   "source": [
    "## CLASES DESBALANCEADAS vs CLASES BALANCEADAS"
   ]
  },
  {
   "cell_type": "markdown",
   "id": "vanilla-canvas",
   "metadata": {},
   "source": [
    "Ya tenemos los 2 modelos optimizados, uno con las clases desbalanceadas y otro habiendo aplicado a los datos de entrenamiento SMOTE y *undersampling*. Veamos ahora cuál resulta más conveniente, evaluándolos con los nuevos datos de febrero y marzo 2021:"
   ]
  },
  {
   "cell_type": "markdown",
   "id": "0c527040",
   "metadata": {},
   "source": [
    "### Datos de Febrero y Marzo 2021"
   ]
  },
  {
   "cell_type": "code",
   "execution_count": 4,
   "id": "d5f606b2",
   "metadata": {},
   "outputs": [
    {
     "name": "stdout",
     "output_type": "stream",
     "text": [
      "(1667054, 30)\n",
      "\n",
      "<class 'pandas.core.frame.DataFrame'>\n",
      "RangeIndex: 1667054 entries, 0 to 1667053\n",
      "Data columns (total 30 columns):\n",
      " #   Column                   Non-Null Count    Dtype         \n",
      "---  ------                   --------------    -----         \n",
      " 0   ga:productSKU            1667054 non-null  object        \n",
      " 1   ga:dateHourMinute        1667054 non-null  datetime64[ns]\n",
      " 2   ga:pagePath              1667054 non-null  object        \n",
      " 3   ga:pageDepth             1667054 non-null  int64         \n",
      " 4   ga:userType              1667054 non-null  object        \n",
      " 5   ga:sessionCount          1667054 non-null  int64         \n",
      " 6   ga:daysSinceLastSession  1667054 non-null  int64         \n",
      " 7   ga:landingPagePath       1667054 non-null  object        \n",
      " 8   ga:campaign              1667054 non-null  object        \n",
      " 9   ga:sourceMedium          1667054 non-null  object        \n",
      " 10  ga:city                  1667054 non-null  object        \n",
      " 11  ga:deviceCategory        1667054 non-null  object        \n",
      " 12  ga:operatingSystem       1667054 non-null  object        \n",
      " 13  ga:productListViews      1667054 non-null  int64         \n",
      " 14  ga:productListClicks     1667054 non-null  int64         \n",
      " 15  ga:productDetailViews    1667054 non-null  int64         \n",
      " 16  ga:productAddsToCart     1667054 non-null  int64         \n",
      " 17  Product_price            1658221 non-null  float64       \n",
      " 18  Web_Discount             1667054 non-null  float64       \n",
      " 19  pPath_clean              1667054 non-null  object        \n",
      " 20  month_sin                1667054 non-null  float64       \n",
      " 21  month_cos                1667054 non-null  float64       \n",
      " 22  dayofweek_sin            1667054 non-null  float64       \n",
      " 23  dayofweek_cos            1667054 non-null  float64       \n",
      " 24  hour_sin                 1667054 non-null  float64       \n",
      " 25  hour_cos                 1667054 non-null  float64       \n",
      " 26  Source                   1667054 non-null  object        \n",
      " 27  Medium                   1667054 non-null  object        \n",
      " 28  Returning_Visitor        1667054 non-null  int64         \n",
      " 29  Detail_View              1667054 non-null  int64         \n",
      "dtypes: datetime64[ns](1), float64(8), int64(9), object(12)\n",
      "memory usage: 381.6+ MB\n"
     ]
    }
   ],
   "source": [
    "data_root=\"../data/\"\n",
    "datafile=os.path.join(data_root,'dfjoin_usertype_Scount_daysSLS_landing_campaign_srceMed_city_device_OS_price_disc_nocarrped_feb21_mar21.csv')\n",
    "df=pd.read_csv(datafile)\n",
    "df.drop('Unnamed: 0', axis=1, inplace=True)\n",
    "\n",
    "# Product SKU as string\n",
    "df['ga:productSKU']=df['ga:productSKU'].astype('str')\n",
    "\n",
    "# dateHourMinute as SIN and COS\n",
    "df['ga:dateHourMinute']=pd.to_datetime(df['ga:dateHourMinute'],format='%Y%m%d%H%M')\n",
    "df['dateTime_month']=df['ga:dateHourMinute'].dt.month\n",
    "df['dateTime_dayofweek']=df['ga:dateHourMinute'].dt.dayofweek\n",
    "df['dateTime_hour']=df['ga:dateHourMinute'].dt.hour\n",
    "df['month_sin']=np.sin((df.dateTime_month-1)*(2.*np.pi/12)) # I substract minus 1 to 'df.dateTime_month' because its values are coded as 1 to 12 instead of 0 to 11\n",
    "df['month_cos']=np.cos((df.dateTime_month-1)*(2.*np.pi/12)) # I substract minus 1 to 'df.dateTime_month' because its values are coded as 1 to 12 instead of 0 to 11\n",
    "df['dayofweek_sin']=np.sin(df.dateTime_dayofweek*(2.*np.pi/7))\n",
    "df['dayofweek_cos']=np.cos(df.dateTime_dayofweek*(2.*np.pi/7))\n",
    "df['hour_sin']=np.sin(df.dateTime_hour*(2.*np.pi/24))\n",
    "df['hour_cos']=np.cos(df.dateTime_hour*(2.*np.pi/24))\n",
    "df.drop(['dateTime_month','dateTime_dayofweek','dateTime_hour'],axis=1, inplace=True)\n",
    "\n",
    "# Source Medium as 2 columns:\n",
    "source_medium = df['ga:sourceMedium'].str.split('/',expand=True)\n",
    "source_medium.columns=['Source','Medium']\n",
    "df= df.merge(source_medium,left_index=True,right_index=True,how='left')\n",
    "del(source_medium)\n",
    "df['Source']=df['Source'].astype('str').str.strip()\n",
    "df['Medium']=df['Medium'].astype('str').str.strip()\n",
    "\n",
    "# City\n",
    "df['ga:city']=df['ga:city'].astype('str')\n",
    "\n",
    "# Device\n",
    "df['ga:deviceCategory']=df['ga:deviceCategory'].astype('str')\n",
    "\n",
    "# Operating System\n",
    "df['ga:operatingSystem']=df['ga:operatingSystem'].astype('str')\n",
    "\n",
    "# User Type\n",
    "df['Returning_Visitor']= np.where(df['ga:userType']=='Returning Visitor',1,0)\n",
    "\n",
    "# Page Path, Detail_View and Landing Page Path as string\n",
    "df['ga:pagePath']=df['ga:pagePath'].astype('str')\n",
    "df['ga:pagePath'] = df['ga:pagePath'].apply(lambda x: x[:x.find(\"?pag\")] if \"?pag\" in x else x)\n",
    "df['Detail_View']=df['ga:pagePath'].apply(lambda url: 1 if url[-5:]=='.html' else 0)\n",
    "df['ga:landingPagePath']=df['ga:landingPagePath'].astype('str')\n",
    "df['ga:landingPagePath'] = df['ga:landingPagePath'].apply(lambda x: x[:x.find(\"?pag\")] if \"?pag\" in x else x)\n",
    "\n",
    "print(df.shape)\n",
    "print(\"\")\n",
    "df.info()"
   ]
  },
  {
   "cell_type": "code",
   "execution_count": 5,
   "id": "90448564",
   "metadata": {},
   "outputs": [
    {
     "name": "stdout",
     "output_type": "stream",
     "text": [
      "No. observations per class\n",
      "0    1650669\n",
      "1      16385\n",
      "Name: ga:productAddsToCart_transf, dtype: int64\n",
      "\n",
      "% observations per class\n",
      "0    99.017128\n",
      "1     0.982872\n",
      "Name: ga:productAddsToCart_transf, dtype: float64\n"
     ]
    }
   ],
   "source": [
    "df['ga:productAddsToCart_transf']=df[\"ga:productAddsToCart\"].apply(lambda x: 1 if x>1 else x)\n",
    "\n",
    "print(\"No. observations per class\")\n",
    "print(df['ga:productAddsToCart_transf'].value_counts())\n",
    "print(\"\")\n",
    "\n",
    "print(\"% observations per class\")\n",
    "print(100*df['ga:productAddsToCart_transf'].value_counts(normalize=True))"
   ]
  },
  {
   "cell_type": "code",
   "execution_count": 6,
   "id": "6983cb0e",
   "metadata": {},
   "outputs": [],
   "source": [
    "# Data - no definimos split\n",
    "\n",
    "features=['ga:sessionCount','ga:daysSinceLastSession','ga:productSKU',\\\n",
    "          'month_sin','month_cos','dayofweek_sin','dayofweek_cos','hour_sin','hour_cos',\\\n",
    "          'Source','Medium','ga:city','ga:deviceCategory','ga:operatingSystem','Returning_Visitor',\\\n",
    "          'Product_price','Web_Discount','ga:pagePath','Detail_View','ga:landingPagePath']\n",
    "\n",
    "y=df['ga:productAddsToCart_transf']\n",
    "X=df[features]"
   ]
  },
  {
   "cell_type": "markdown",
   "id": "dc75edd3",
   "metadata": {},
   "source": [
    "#### Preprocesado"
   ]
  },
  {
   "cell_type": "markdown",
   "id": "9cb33c7a",
   "metadata": {},
   "source": [
    "Como ya vimos en el notebook de optimización, era necesario modificar el *transformer* relativo al atributo \"Medium\" para que fuera capaz de procesar nuevos valores que aparecieran en el conjunto de datos y que, en este caso, 'referer' y 'company_profile' fueran categorizados como 'referral' y 'feed' como 'Facebook feed':"
   ]
  },
  {
   "cell_type": "code",
   "execution_count": 7,
   "id": "f8d6f2da",
   "metadata": {},
   "outputs": [],
   "source": [
    "## CUSTOM TRANSFORMERS\n",
    "\n",
    "# 'Operating System' Transformer\n",
    "\n",
    "important_os = ['Android','iOS','Windows','Macintosh']\n",
    "\n",
    "class OSTransfomer(BaseEstimator,TransformerMixin):\n",
    "    def fit(self,X,y=None):\n",
    "        return self\n",
    "    def transform (self,X,y=None):\n",
    "        X_=X.copy()\n",
    "        X_['ga:operatingSystem']=X_['ga:operatingSystem'].apply(lambda os: 'other OS' if os not in important_os else os)\n",
    "        return X_\n",
    "    \n",
    "    \n",
    "# Compile 'Source'\n",
    "\n",
    "def source_compiler(x):\n",
    "    \n",
    "    insta_words= ['instagram','ig','linktr.ee']\n",
    "    for seq in insta_words:\n",
    "        if seq in x.lower():\n",
    "            return 'instagram'\n",
    "    if 'facebook' in x.lower():\n",
    "        return 'facebook'\n",
    "    if 'youtube' in x.lower():\n",
    "        return 'youtube'  \n",
    "    if 'vogue' in x.lower():\n",
    "        return 'vogue'\n",
    "    if 'yahoo' in x.lower():\n",
    "        return 'yahoo'\n",
    "    else:\n",
    "        return x\n",
    "\n",
    "important_sources = ['google','(direct)','instagram','facebook','sendinblue','youtube','bing','yahoo','vogue','cantabrialabs.es']\n",
    "\n",
    "class SourceTransfomer(BaseEstimator,TransformerMixin):\n",
    "    def fit(self,X,y=None):\n",
    "        return self\n",
    "    def transform (self,X,y=None):\n",
    "        X_=X.copy()\n",
    "        X_['Source']=X_['Source'].apply(source_compiler)\n",
    "        X_['Source']=X_['Source'].apply(lambda source: 'other sources' if source not in important_sources else source)\n",
    "        return X_\n",
    "    \n",
    "# Compile 'Medium':\n",
    "\n",
    "def medium_compiler(x):\n",
    "    \n",
    "    if 'cpc' in x.lower():\n",
    "        return 'cpc'\n",
    "    if x=='Social':\n",
    "        return 'IGShopping'  \n",
    "    if x=='facebook':\n",
    "        return 'facebook ads'\n",
    "    if x=='trafico':\n",
    "        return 'facebook trafico'\n",
    "    if x=='feed':\n",
    "        return 'facebook feed'\n",
    "    if x=='referer' or x=='company_profile':\n",
    "        return 'referral'\n",
    "    else:\n",
    "        return x\n",
    "    \n",
    "important_mediums = ['organic', '(none)', 'cpc', 'referral','email', 'IGShopping', 'facebook ads', 'facebook feed', 'facebook trafico']\n",
    "    \n",
    "class MediumTransfomer(BaseEstimator,TransformerMixin):\n",
    "    def fit(self,X,y=None):\n",
    "        return self\n",
    "    def transform (self,X,y=None):\n",
    "        X_=X.copy()\n",
    "        X_['Medium']=X_['Medium'].apply(medium_compiler)\n",
    "        X_['Medium']=X_['Medium'].apply(lambda medium: 'other mediums' if medium not in important_mediums else medium)\n",
    "        return X_\n",
    "    \n",
    "# Select other columns with no transformations (in order to be able to apply get_feature_names)\n",
    "\n",
    "class SelectColumnTransformer(BaseEstimator,TransformerMixin):\n",
    "    def fit(self,X,y=None):\n",
    "        return self\n",
    "    def transform (self,X,y=None):\n",
    "        return X\n",
    "    \n",
    "# Product_price - Web_Discount\n",
    "\n",
    "def engineer_feature(columns, X):\n",
    "    df = pd.DataFrame(X, columns=columns)\n",
    "    df[\"Product_price\"] = df[\"Product_price\"]*(1-df[\"Web_Discount\"])\n",
    "    return df"
   ]
  },
  {
   "cell_type": "code",
   "execution_count": 8,
   "id": "d0bfcc57",
   "metadata": {},
   "outputs": [
    {
     "name": "stdout",
     "output_type": "stream",
     "text": [
      "(1667054, 43)\n",
      "CPU times: user 12.8 s, sys: 1.12 s, total: 13.9 s\n",
      "Wall time: 13.9 s\n"
     ]
    }
   ],
   "source": [
    "%%time\n",
    "preprocess = pickle.load(open(\"FINALMODEL_preprocess.pickle\",\"rb\"))\n",
    "X_transf= preprocess.transform(X)\n",
    "print(X_transf.shape)"
   ]
  },
  {
   "cell_type": "markdown",
   "id": "5f2f15fd",
   "metadata": {},
   "source": [
    "#### Selección de variables"
   ]
  },
  {
   "cell_type": "code",
   "execution_count": 9,
   "id": "76e39c22",
   "metadata": {},
   "outputs": [
    {
     "name": "stdout",
     "output_type": "stream",
     "text": [
      "43\n"
     ]
    },
    {
     "data": {
      "text/plain": [
       "['x0_(direct)',\n",
       " 'x0_bing',\n",
       " 'x0_cantabrialabs.es',\n",
       " 'x0_facebook',\n",
       " 'x0_google',\n",
       " 'x0_instagram',\n",
       " 'x0_other sources',\n",
       " 'x0_sendinblue',\n",
       " 'x0_vogue',\n",
       " 'x0_yahoo',\n",
       " 'x0_youtube',\n",
       " 'x0_IGShopping',\n",
       " 'x0_cpc',\n",
       " 'x0_email',\n",
       " 'x0_facebook ads',\n",
       " 'x0_facebook feed',\n",
       " 'x0_facebook trafico',\n",
       " 'x0_organic',\n",
       " 'x0_referral',\n",
       " 'x0_desktop',\n",
       " 'x0_mobile',\n",
       " 'x0_tablet',\n",
       " 'x0_Android',\n",
       " 'x0_Macintosh',\n",
       " 'x0_Windows',\n",
       " 'x0_iOS',\n",
       " 'x0_other OS',\n",
       " 'ga:productSKU',\n",
       " 'ga:city',\n",
       " 'ga:pagePath',\n",
       " 'ga:landingPagePath',\n",
       " 'Product_price',\n",
       " 'Web_Discount',\n",
       " 'Detail_View',\n",
       " 'Returning_Visitor',\n",
       " 'ga:sessionCount',\n",
       " 'ga:daysSinceLastSession',\n",
       " 'month_sin',\n",
       " 'month_cos',\n",
       " 'dayofweek_sin',\n",
       " 'dayofweek_cos',\n",
       " 'hour_sin',\n",
       " 'hour_cos']"
      ]
     },
     "execution_count": 9,
     "metadata": {},
     "output_type": "execute_result"
    }
   ],
   "source": [
    "features_names=[]\n",
    "\n",
    "for feature in range(0,4):\n",
    "    features= list(preprocess.named_steps['preprocess'].transformers_[feature][1].named_steps['ohe'].get_feature_names())\n",
    "    features_names.append(features)\n",
    "\n",
    "for feature in range(4,7):\n",
    "    features = preprocess['preprocess'].transformers_[feature][2]\n",
    "    features_names.append(features)\n",
    "\n",
    "features_names = [j for i in features_names for j in i]\n",
    "print(len(features_names))\n",
    "features_names"
   ]
  },
  {
   "cell_type": "code",
   "execution_count": 10,
   "id": "5a791f94",
   "metadata": {},
   "outputs": [
    {
     "name": "stdout",
     "output_type": "stream",
     "text": [
      "(1667054, 9)\n"
     ]
    },
    {
     "data": {
      "text/plain": [
       "Index(['ga:productSKU', 'ga:city', 'ga:pagePath', 'ga:landingPagePath',\n",
       "       'Product_price', 'Web_Discount', 'Detail_View', 'month_sin',\n",
       "       'month_cos'],\n",
       "      dtype='object')"
      ]
     },
     "execution_count": 10,
     "metadata": {},
     "output_type": "execute_result"
    }
   ],
   "source": [
    "selected_features=['ga:productSKU', 'ga:city', 'ga:pagePath', 'ga:landingPagePath',\n",
    "       'Product_price', 'Web_Discount', 'Detail_View', 'month_sin',\n",
    "       'month_cos']\n",
    "\n",
    "X_transf_featsel=pd.DataFrame(X_transf, columns=features_names)[selected_features]\n",
    "print(X_transf_featsel.shape)\n",
    "X_transf_featsel.columns"
   ]
  },
  {
   "cell_type": "markdown",
   "id": "e59d8d3b",
   "metadata": {},
   "source": [
    "### Clasificador CON clases desbalanceadas"
   ]
  },
  {
   "cell_type": "markdown",
   "id": "integrated-ottawa",
   "metadata": {},
   "source": [
    "Hacemos las predicciones para febrero y marzo 2021 con el clasificador que ha sido entrenado con las clases desbalanceadas:"
   ]
  },
  {
   "cell_type": "code",
   "execution_count": 28,
   "id": "66bcba30",
   "metadata": {},
   "outputs": [
    {
     "name": "stdout",
     "output_type": "stream",
     "text": [
      "ACCURACY: 0.9736175312857291\n",
      "PRECISION: 0.0244364789412008\n",
      "RECALL: 0.04327128471162649\n",
      "F1 SCORE: 0.031234168153483555\n",
      "AUC: 0.7543095310583473\n"
     ]
    },
    {
     "data": {
      "text/plain": [
       "Text(0, 0.5, 'tpr')"
      ]
     },
     "execution_count": 28,
     "metadata": {},
     "output_type": "execute_result"
    },
    {
     "data": {
      "image/png": "[encoded data removed]",
      "text/plain": [
       "<Figure size 432x288 with 1 Axes>"
      ]
     },
     "metadata": {
      "needs_background": "light"
     },
     "output_type": "display_data"
    }
   ],
   "source": [
    "gs_fulldata = pickle.load(open(\"FINALCLF_featsel_optimization.pickle\",\"rb\"))\n",
    "predictions = gs_fulldata.predict(X_transf_featsel)\n",
    "probabilities = gs_fulldata.predict_proba(X_transf_featsel)\n",
    "\n",
    "print(\"ACCURACY: \" + str(accuracy_score(y, predictions)))\n",
    "print(\"PRECISION: \" + str(precision_score(y, predictions)))\n",
    "print(\"RECALL: \" + str(recall_score(y, predictions)))\n",
    "print(\"F1 SCORE: \" + str(f1_score(y, predictions)))\n",
    "print(\"AUC: \" + str(roc_auc_score(y,probabilities[:, 1])))\n",
    "\n",
    "tpr, fpr, thresolds = roc_curve(y, probabilities[:, 1])\n",
    "plt.plot(tpr, fpr)\n",
    "plt.xlabel('fpr')\n",
    "plt.ylabel('tpr')"
   ]
  },
  {
   "cell_type": "code",
   "execution_count": 29,
   "id": "0168e6e1",
   "metadata": {},
   "outputs": [
    {
     "name": "stdout",
     "output_type": "stream",
     "text": [
      "              precision    recall  f1-score   support\n",
      "\n",
      "           0       0.99      0.98      0.99   1650669\n",
      "           1       0.02      0.04      0.03     16385\n",
      "\n",
      "    accuracy                           0.97   1667054\n",
      "   macro avg       0.51      0.51      0.51   1667054\n",
      "weighted avg       0.98      0.97      0.98   1667054\n",
      "\n"
     ]
    },
    {
     "data": {
      "text/plain": [
       "array([[1622364,   28305],\n",
       "       [  15676,     709]])"
      ]
     },
     "execution_count": 29,
     "metadata": {},
     "output_type": "execute_result"
    }
   ],
   "source": [
    "print(classification_report(y,predictions))\n",
    "clrf_cm = confusion_matrix(y,predictions)\n",
    "clrf_cm"
   ]
  },
  {
   "cell_type": "code",
   "execution_count": 30,
   "id": "17364855",
   "metadata": {},
   "outputs": [
    {
     "name": "stdout",
     "output_type": "stream",
     "text": [
      "f1=0.031 auc=0.024\n"
     ]
    },
    {
     "data": {
      "image/png": "[encoded data removed]",
      "text/plain": [
       "<Figure size 432x288 with 1 Axes>"
      ]
     },
     "metadata": {
      "needs_background": "light"
     },
     "output_type": "display_data"
    }
   ],
   "source": [
    "from sklearn.metrics import precision_recall_curve\n",
    "from sklearn.metrics import f1_score\n",
    "from sklearn.metrics import auc\n",
    "\n",
    "precision, recall, _ = precision_recall_curve(y, probabilities[:, 1])\n",
    "f1, auc = f1_score(y, predictions), auc(recall, precision)\n",
    "# summarize scores\n",
    "print('f1=%.3f auc=%.3f' % (f1, auc))\n",
    "# plot the precision-recall curves\n",
    "no_skill = len(y[y==1]) / len(y)\n",
    "plt.plot([0, 1], [no_skill, no_skill], linestyle='--', label='No Skill')\n",
    "plt.plot(recall, precision, marker='.', label='Classifier')\n",
    "# axis labels\n",
    "plt.xlabel('Recall')\n",
    "plt.ylabel('Precision')\n",
    "# show the legend\n",
    "plt.legend()\n",
    "# show the plot\n",
    "plt.show()"
   ]
  },
  {
   "cell_type": "markdown",
   "id": "791cad69",
   "metadata": {},
   "source": [
    "### Clasificador SIN clases desbalanceadas"
   ]
  },
  {
   "cell_type": "markdown",
   "id": "humanitarian-uzbekistan",
   "metadata": {},
   "source": [
    "Hacemos las predicciones para febrero y marzo 2021 con el clasificador que ha sido entrenado con las clases balanceadas con el uso de *SMOTE* (optimizado) y *Undersampling*:"
   ]
  },
  {
   "cell_type": "code",
   "execution_count": 31,
   "id": "c1cab651",
   "metadata": {},
   "outputs": [
    {
     "name": "stdout",
     "output_type": "stream",
     "text": [
      "ACCURACY: 0.8248311092502103\n",
      "PRECISION: 0.029136927844420832\n",
      "RECALL: 0.5204760451632591\n",
      "F1 SCORE: 0.055184552466739145\n",
      "AUC: 0.777935795164294\n"
     ]
    },
    {
     "data": {
      "text/plain": [
       "Text(0, 0.5, 'tpr')"
      ]
     },
     "execution_count": 31,
     "metadata": {},
     "output_type": "execute_result"
    },
    {
     "data": {
      "image/png": "[encoded data removed]",
      "text/plain": [
       "<Figure size 432x288 with 1 Axes>"
      ]
     },
     "metadata": {
      "needs_background": "light"
     },
     "output_type": "display_data"
    }
   ],
   "source": [
    "gs_unimbalanced = pickle.load(open(\"FINALCLF_featsel_optimization_unimbal.pickle\",\"rb\"))\n",
    "predictions = gs_unimbalanced.predict(X_transf_featsel)\n",
    "probabilities = gs_unimbalanced.predict_proba(X_transf_featsel)\n",
    "\n",
    "print(\"ACCURACY: \" + str(accuracy_score(y, predictions)))\n",
    "print(\"PRECISION: \" + str(precision_score(y, predictions)))\n",
    "print(\"RECALL: \" + str(recall_score(y, predictions)))\n",
    "print(\"F1 SCORE: \" + str(f1_score(y, predictions)))\n",
    "print(\"AUC: \" + str(roc_auc_score(y,probabilities[:, 1])))\n",
    "\n",
    "tpr, fpr, thresolds = roc_curve(y, probabilities[:, 1])\n",
    "plt.plot(tpr, fpr)\n",
    "plt.xlabel('fpr')\n",
    "plt.ylabel('tpr')"
   ]
  },
  {
   "cell_type": "code",
   "execution_count": 32,
   "id": "bcaf0c51",
   "metadata": {},
   "outputs": [
    {
     "name": "stdout",
     "output_type": "stream",
     "text": [
      "              precision    recall  f1-score   support\n",
      "\n",
      "           0       0.99      0.83      0.90   1650669\n",
      "           1       0.03      0.52      0.06     16385\n",
      "\n",
      "    accuracy                           0.82   1667054\n",
      "   macro avg       0.51      0.67      0.48   1667054\n",
      "weighted avg       0.98      0.82      0.90   1667054\n",
      "\n"
     ]
    },
    {
     "data": {
      "text/plain": [
       "array([[1366510,  284159],\n",
       "       [   7857,    8528]])"
      ]
     },
     "execution_count": 32,
     "metadata": {},
     "output_type": "execute_result"
    }
   ],
   "source": [
    "print(classification_report(y,predictions))\n",
    "clrf_cm = confusion_matrix(y,predictions)\n",
    "clrf_cm"
   ]
  },
  {
   "cell_type": "code",
   "execution_count": 33,
   "id": "e0cf0fa8",
   "metadata": {},
   "outputs": [
    {
     "name": "stdout",
     "output_type": "stream",
     "text": [
      "f1=0.055 auc=0.033\n"
     ]
    },
    {
     "data": {
      "image/png": "[encoded data removed]",
      "text/plain": [
       "<Figure size 432x288 with 1 Axes>"
      ]
     },
     "metadata": {
      "needs_background": "light"
     },
     "output_type": "display_data"
    }
   ],
   "source": [
    "from sklearn.metrics import precision_recall_curve\n",
    "from sklearn.metrics import f1_score\n",
    "from sklearn.metrics import auc\n",
    "\n",
    "precision, recall, _ = precision_recall_curve(y, probabilities[:, 1])\n",
    "f1, auc = f1_score(y, predictions), auc(recall, precision)\n",
    "# summarize scores\n",
    "print('f1=%.3f auc=%.3f' % (f1, auc))\n",
    "# plot the precision-recall curves\n",
    "no_skill = len(y[y==1]) / len(y)\n",
    "plt.plot([0, 1], [no_skill, no_skill], linestyle='--', label='No Skill')\n",
    "plt.plot(recall, precision, marker='.', label='Classifier')\n",
    "# axis labels\n",
    "plt.xlabel('Recall')\n",
    "plt.ylabel('Precision')\n",
    "# show the legend\n",
    "plt.legend()\n",
    "# show the plot\n",
    "plt.show()"
   ]
  },
  {
   "cell_type": "markdown",
   "id": "useful-variance",
   "metadata": {},
   "source": [
    "### Conclusiones"
   ]
  },
  {
   "cell_type": "markdown",
   "id": "nasty-amazon",
   "metadata": {},
   "source": [
    "Dados los resultados, de nuevo, nos quedaremos con el modelo que ha sido entrenado con los datos cuyas clases han sido balanceadas."
   ]
  },
  {
   "cell_type": "markdown",
   "id": "d5643e26",
   "metadata": {},
   "source": [
    "## CALIBRACIÓN DEL MODELO"
   ]
  },
  {
   "cell_type": "markdown",
   "id": "rocky-contract",
   "metadata": {},
   "source": [
    "Repetimos el mismo proceso que seguimos en el notebook de optimización para calibrar el modelo:"
   ]
  },
  {
   "cell_type": "markdown",
   "id": "14fdd8de",
   "metadata": {},
   "source": [
    "### Preprocesado"
   ]
  },
  {
   "cell_type": "code",
   "execution_count": 7,
   "id": "9e28f244",
   "metadata": {},
   "outputs": [],
   "source": [
    "## CUSTOM TRANSFORMERS\n",
    "\n",
    "# 'Operating System' Transformer\n",
    "\n",
    "important_os = ['Android','iOS','Windows','Macintosh']\n",
    "\n",
    "class OSTransfomer(BaseEstimator,TransformerMixin):\n",
    "    def fit(self,X,y=None):\n",
    "        return self\n",
    "    def transform (self,X,y=None):\n",
    "        X_=X.copy()\n",
    "        X_['ga:operatingSystem']=X_['ga:operatingSystem'].apply(lambda os: 'other OS' if os not in important_os else os)\n",
    "        return X_\n",
    "    \n",
    "    \n",
    "# Compile 'Source'\n",
    "\n",
    "def source_compiler(x):\n",
    "    \n",
    "    insta_words= ['instagram','ig','linktr.ee']\n",
    "    for seq in insta_words:\n",
    "        if seq in x.lower():\n",
    "            return 'instagram'\n",
    "    if 'facebook' in x.lower():\n",
    "        return 'facebook'\n",
    "    if 'youtube' in x.lower():\n",
    "        return 'youtube'  \n",
    "    if 'vogue' in x.lower():\n",
    "        return 'vogue'\n",
    "    if 'yahoo' in x.lower():\n",
    "        return 'yahoo'\n",
    "    else:\n",
    "        return x\n",
    "\n",
    "important_sources = ['google','(direct)','instagram','facebook','sendinblue','youtube','bing','yahoo','vogue','cantabrialabs.es']\n",
    "\n",
    "class SourceTransfomer(BaseEstimator,TransformerMixin):\n",
    "    def fit(self,X,y=None):\n",
    "        return self\n",
    "    def transform (self,X,y=None):\n",
    "        X_=X.copy()\n",
    "        X_['Source']=X_['Source'].apply(source_compiler)\n",
    "        X_['Source']=X_['Source'].apply(lambda source: 'other sources' if source not in important_sources else source)\n",
    "        return X_\n",
    "    \n",
    "# Compile 'Medium':\n",
    "\n",
    "def medium_compiler(x):\n",
    "    \n",
    "    if 'cpc' in x.lower():\n",
    "        return 'cpc'\n",
    "    if x=='Social':\n",
    "        return 'IGShopping'  \n",
    "    if x=='facebook':\n",
    "        return 'facebook ads'\n",
    "    if x=='trafico':\n",
    "        return 'facebook trafico'\n",
    "    if x=='feed':\n",
    "        return 'facebook feed'\n",
    "    if x=='referer' or x=='company_profile':\n",
    "        return 'referral'\n",
    "    else:\n",
    "        return x\n",
    "    \n",
    "important_mediums = ['organic', '(none)', 'cpc', 'referral','email', 'IGShopping', 'facebook ads', 'facebook feed', 'facebook trafico']\n",
    "    \n",
    "class MediumTransfomer(BaseEstimator,TransformerMixin):\n",
    "    def fit(self,X,y=None):\n",
    "        return self\n",
    "    def transform (self,X,y=None):\n",
    "        X_=X.copy()\n",
    "        X_['Medium']=X_['Medium'].apply(medium_compiler)\n",
    "        X_['Medium']=X_['Medium'].apply(lambda medium: 'other mediums' if medium not in important_mediums else medium)\n",
    "        return X_\n",
    "    \n",
    "# Select other columns with no transformations (in order to be able to apply get_feature_names)\n",
    "\n",
    "class SelectColumnTransformer(BaseEstimator,TransformerMixin):\n",
    "    def fit(self,X,y=None):\n",
    "        return self\n",
    "    def transform (self,X,y=None):\n",
    "        return X\n",
    "    \n",
    "# Product_price - Web_Discount\n",
    "\n",
    "def engineer_feature(columns, X):\n",
    "    df = pd.DataFrame(X, columns=columns)\n",
    "    df[\"Product_price\"] = df[\"Product_price\"]*(1-df[\"Web_Discount\"])\n",
    "    return df"
   ]
  },
  {
   "cell_type": "code",
   "execution_count": 8,
   "id": "006817c7",
   "metadata": {},
   "outputs": [],
   "source": [
    "## PREPROCESS PIPELINE:\n",
    "\n",
    "source_preprocessing = Pipeline([\n",
    "    ('source_transf',SourceTransfomer()),\n",
    "    ('ohe',OneHotEncoder()) # handle_unknown is default 'error'\n",
    "])\n",
    "\n",
    "medium_preprocessing = Pipeline([\n",
    "    ('medium_transf',MediumTransfomer()),\n",
    "    ('ohe',OneHotEncoder(drop='first')) #to drop (none) that is equal to (direct) in Source\n",
    "]) # handle_unknown is default 'error'\n",
    "\n",
    "device_preprocessing = Pipeline([\n",
    "    ('ohe',OneHotEncoder()) # handle_unknown is default 'error'\n",
    "])\n",
    "\n",
    "os_preprocessing = Pipeline([\n",
    "    ('os_transf',OSTransfomer()),\n",
    "    ('ohe',OneHotEncoder()) # handle_unknown is default 'error'\n",
    "])\n",
    "\n",
    "targetencod_preprocessing = Pipeline([('target_encoding',TargetEncoder())])\n",
    "\n",
    "no_preprocessing = Pipeline([('select_columns',SelectColumnTransformer())])\n",
    "\n",
    "# Product_price and Web_Discount Transformer\n",
    "from functools import partial\n",
    "def numeric_transformer(columns):\n",
    "    transformer = Pipeline([\n",
    "        (\"imputer\", SimpleImputer(strategy='median')),\n",
    "        (\"engineer\", FunctionTransformer(partial(engineer_feature, columns))),\n",
    "    ])\n",
    "    return (\"numeric\", transformer, columns)\n",
    "\n",
    "preprocess = ColumnTransformer([\n",
    "    ('source_preprocessing',source_preprocessing,['Source']),\n",
    "    ('medium_preprocessing',medium_preprocessing,['Medium']),\n",
    "    ('device_preprocessing',device_preprocessing,['ga:deviceCategory']),\n",
    "    ('os_preprocessing',os_preprocessing,['ga:operatingSystem']),\n",
    "    ('targetencod_preprocessing',targetencod_preprocessing,['ga:productSKU','ga:city','ga:pagePath','ga:landingPagePath']),\n",
    "    numeric_transformer([\"Product_price\", \"Web_Discount\"]),\n",
    "    ('no_preprocessing',no_preprocessing,['Detail_View','Returning_Visitor','ga:sessionCount','ga:daysSinceLastSession','month_sin','month_cos','dayofweek_sin','dayofweek_cos','hour_sin','hour_cos'])\n",
    "])\n",
    "\n",
    "# Model\n",
    "pipeline=Pipeline([\n",
    "    ('preprocess',preprocess),\n",
    "])"
   ]
  },
  {
   "cell_type": "code",
   "execution_count": 9,
   "id": "0194bbae",
   "metadata": {},
   "outputs": [
    {
     "name": "stderr",
     "output_type": "stream",
     "text": [
      "/home/dsc/TFM/kschool_masterDS_TFM/env/lib/python3.7/site-packages/category_encoders/utils.py:21: FutureWarning: is_categorical is deprecated and will be removed in a future version.  Use is_categorical_dtype instead\n",
      "  elif pd.api.types.is_categorical(cols):\n"
     ]
    },
    {
     "name": "stdout",
     "output_type": "stream",
     "text": [
      "CPU times: user 1min 3s, sys: 2.76 s, total: 1min 5s\n",
      "Wall time: 1min 6s\n"
     ]
    }
   ],
   "source": [
    "%%time\n",
    "\n",
    "X_train_transf = pipeline.fit_transform(X_train,y_train)\n",
    "X_test_transf = pipeline.transform(X_test)"
   ]
  },
  {
   "cell_type": "markdown",
   "id": "95b09199",
   "metadata": {},
   "source": [
    "### Selección de variables"
   ]
  },
  {
   "cell_type": "code",
   "execution_count": 10,
   "id": "23165747",
   "metadata": {},
   "outputs": [
    {
     "name": "stdout",
     "output_type": "stream",
     "text": [
      "43\n"
     ]
    },
    {
     "data": {
      "text/plain": [
       "['x0_(direct)',\n",
       " 'x0_bing',\n",
       " 'x0_cantabrialabs.es',\n",
       " 'x0_facebook',\n",
       " 'x0_google',\n",
       " 'x0_instagram',\n",
       " 'x0_other sources',\n",
       " 'x0_sendinblue',\n",
       " 'x0_vogue',\n",
       " 'x0_yahoo',\n",
       " 'x0_youtube',\n",
       " 'x0_IGShopping',\n",
       " 'x0_cpc',\n",
       " 'x0_email',\n",
       " 'x0_facebook ads',\n",
       " 'x0_facebook feed',\n",
       " 'x0_facebook trafico',\n",
       " 'x0_organic',\n",
       " 'x0_referral',\n",
       " 'x0_desktop',\n",
       " 'x0_mobile',\n",
       " 'x0_tablet',\n",
       " 'x0_Android',\n",
       " 'x0_Macintosh',\n",
       " 'x0_Windows',\n",
       " 'x0_iOS',\n",
       " 'x0_other OS',\n",
       " 'ga:productSKU',\n",
       " 'ga:city',\n",
       " 'ga:pagePath',\n",
       " 'ga:landingPagePath',\n",
       " 'Product_price',\n",
       " 'Web_Discount',\n",
       " 'Detail_View',\n",
       " 'Returning_Visitor',\n",
       " 'ga:sessionCount',\n",
       " 'ga:daysSinceLastSession',\n",
       " 'month_sin',\n",
       " 'month_cos',\n",
       " 'dayofweek_sin',\n",
       " 'dayofweek_cos',\n",
       " 'hour_sin',\n",
       " 'hour_cos']"
      ]
     },
     "execution_count": 10,
     "metadata": {},
     "output_type": "execute_result"
    }
   ],
   "source": [
    "features_names=[]\n",
    "\n",
    "for feature in range(0,4):\n",
    "    features= list(pipeline.named_steps['preprocess'].transformers_[feature][1].named_steps['ohe'].get_feature_names())\n",
    "    features_names.append(features)\n",
    "\n",
    "for feature in range(4,7):\n",
    "    features = pipeline['preprocess'].transformers_[feature][2]\n",
    "    features_names.append(features)\n",
    "\n",
    "features_names = [j for i in features_names for j in i]\n",
    "print(len(features_names))\n",
    "features_names"
   ]
  },
  {
   "cell_type": "code",
   "execution_count": 11,
   "id": "b2fc59f7",
   "metadata": {},
   "outputs": [
    {
     "name": "stdout",
     "output_type": "stream",
     "text": [
      "(2721219, 9)\n",
      "(907074, 9)\n"
     ]
    },
    {
     "data": {
      "text/plain": [
       "Index(['ga:productSKU', 'ga:city', 'ga:pagePath', 'ga:landingPagePath',\n",
       "       'Product_price', 'Web_Discount', 'Detail_View', 'month_sin',\n",
       "       'month_cos'],\n",
       "      dtype='object')"
      ]
     },
     "execution_count": 11,
     "metadata": {},
     "output_type": "execute_result"
    }
   ],
   "source": [
    "selected_features=['ga:productSKU', 'ga:city', 'ga:pagePath', 'ga:landingPagePath',\n",
    "       'Product_price', 'Web_Discount', 'Detail_View', 'month_sin',\n",
    "       'month_cos']\n",
    "\n",
    "X_train_final=pd.DataFrame(X_train_transf, columns=features_names)[selected_features]\n",
    "X_test_final=pd.DataFrame(X_test_transf, columns=features_names)[selected_features]\n",
    "print(X_train_final.shape)\n",
    "print(X_test_final.shape)\n",
    "X_train_final.columns"
   ]
  },
  {
   "cell_type": "markdown",
   "id": "ae64696e",
   "metadata": {},
   "source": [
    "### *Oversampling*/*Undersampling*"
   ]
  },
  {
   "cell_type": "code",
   "execution_count": 12,
   "id": "3360137d",
   "metadata": {},
   "outputs": [
    {
     "name": "stdout",
     "output_type": "stream",
     "text": [
      "Counter({0: 538014, 1: 269007})\n",
      "CPU times: user 3.81 s, sys: 134 ms, total: 3.94 s\n",
      "Wall time: 3.96 s\n"
     ]
    }
   ],
   "source": [
    "%%time\n",
    "\n",
    "from imblearn.pipeline import Pipeline\n",
    "\n",
    "over = SMOTE(sampling_strategy=0.1, k_neighbors=3)\n",
    "under = RandomUnderSampler(sampling_strategy=0.5)\n",
    "steps = [('over', over), ('under', under)]\n",
    "pipeline = Pipeline(steps=steps)\n",
    "X_train_featsel_resample, y_train_resample=pipeline.fit_resample(X_train_final,y_train)\n",
    "counter=Counter(y_train_resample)\n",
    "print(counter)"
   ]
  },
  {
   "cell_type": "markdown",
   "id": "887c9fa3",
   "metadata": {},
   "source": [
    "### Modelo NO calibrado"
   ]
  },
  {
   "cell_type": "code",
   "execution_count": 14,
   "id": "5999930c",
   "metadata": {},
   "outputs": [
    {
     "name": "stdout",
     "output_type": "stream",
     "text": [
      "CPU times: user 8min 48s, sys: 399 ms, total: 8min 49s\n",
      "Wall time: 8min 49s\n"
     ]
    },
    {
     "data": {
      "text/plain": [
       "RandomForestClassifier(max_depth=20, n_estimators=200, random_state=42)"
      ]
     },
     "execution_count": 14,
     "metadata": {},
     "output_type": "execute_result"
    }
   ],
   "source": [
    "%%time\n",
    "\n",
    "model_uncalibrated= RandomForestClassifier(max_depth=20, n_estimators=200, criterion='gini',random_state=42)\n",
    "model_uncalibrated.fit(X_train_featsel_resample,y_train_resample)"
   ]
  },
  {
   "cell_type": "code",
   "execution_count": 16,
   "id": "c786d59d",
   "metadata": {},
   "outputs": [],
   "source": [
    "pickle.dump(model_uncalibrated,open(\"FINALCLF_uncalibrated.pickle\",\"wb\"))"
   ]
  },
  {
   "cell_type": "code",
   "execution_count": 17,
   "id": "4e073cc0",
   "metadata": {},
   "outputs": [
    {
     "data": {
      "image/png": "[encoded data removed]",
      "text/plain": [
       "<Figure size 432x552.96 with 2 Axes>"
      ]
     },
     "metadata": {
      "needs_background": "light"
     },
     "output_type": "display_data"
    }
   ],
   "source": [
    "from sklearn.calibration import calibration_curve\n",
    "\n",
    "predictions = model_uncalibrated.predict(X_test_final)\n",
    "probabilities = model_uncalibrated.predict_proba(X_test_final)\n",
    "\n",
    "prob_true, prob_pred = calibration_curve(y_test, probabilities[:, 1], n_bins=20)\n",
    "\n",
    "fig, ax = plt.subplots(nrows=2,ncols=1, figsize=(6,2*3.84))\n",
    "\n",
    "ax[0].plot(prob_pred,prob_true, 's-', label='Random Forest')\n",
    "ax[0].plot([0,1],[0,1], 'k:', label='Perfect calibration')\n",
    "ax[0].set_ylabel('Correct classification proportion')\n",
    "ax[0].set_xlabel('Probabilities')\n",
    "ax[0].set_title('Calibration Curve')\n",
    "ax[0].legend()\n",
    "\n",
    "ax[1].hist(probabilities[:, 1],range=(0,1), bins=10, density=True, lw=2, alpha=0.3)\n",
    "ax[1].set_ylabel('Count')\n",
    "ax[1].set_xlabel('Probabilities')\n",
    "ax[1].set_title('Probability Distribution')\n",
    "\n",
    "plt.tight_layout()\n",
    "plt.show();"
   ]
  },
  {
   "cell_type": "code",
   "execution_count": 18,
   "id": "d7e0c7be",
   "metadata": {},
   "outputs": [
    {
     "name": "stdout",
     "output_type": "stream",
     "text": [
      "BRIER SCORE=  0.036011529802797385\n",
      "\n",
      "              precision    recall  f1-score   support\n",
      "\n",
      "           0       1.00      0.95      0.97    896587\n",
      "           1       0.15      0.71      0.25     10487\n",
      "\n",
      "    accuracy                           0.95    907074\n",
      "   macro avg       0.57      0.83      0.61    907074\n",
      "weighted avg       0.99      0.95      0.97    907074\n",
      "\n"
     ]
    }
   ],
   "source": [
    "from sklearn.metrics import brier_score_loss\n",
    "\n",
    "brier_score= brier_score_loss(y_test, probabilities[:, 1])\n",
    "print('BRIER SCORE= ', brier_score)\n",
    "print(\"\")\n",
    "print(classification_report(y_test,predictions))"
   ]
  },
  {
   "cell_type": "markdown",
   "id": "5b19505d",
   "metadata": {},
   "source": [
    "### Calibración del modelo"
   ]
  },
  {
   "cell_type": "markdown",
   "id": "e6636522",
   "metadata": {},
   "source": [
    "#### Con los datos de test y *method='sigmoid'*"
   ]
  },
  {
   "cell_type": "code",
   "execution_count": 19,
   "id": "8c339a43",
   "metadata": {},
   "outputs": [
    {
     "name": "stdout",
     "output_type": "stream",
     "text": [
      "CPU times: user 1min 5s, sys: 167 ms, total: 1min 5s\n",
      "Wall time: 1min 4s\n"
     ]
    },
    {
     "data": {
      "text/plain": [
       "CalibratedClassifierCV(base_estimator=RandomForestClassifier(max_depth=20,\n",
       "                                                             n_estimators=200,\n",
       "                                                             random_state=42),\n",
       "                       cv='prefit')"
      ]
     },
     "execution_count": 19,
     "metadata": {},
     "output_type": "execute_result"
    }
   ],
   "source": [
    "%%time\n",
    "\n",
    "from sklearn.calibration import CalibratedClassifierCV\n",
    "\n",
    "model_calibrated = CalibratedClassifierCV(model_uncalibrated, cv='prefit', method='sigmoid')\n",
    "model_calibrated.fit(X_test_final, y_test)"
   ]
  },
  {
   "cell_type": "markdown",
   "id": "e5a58214",
   "metadata": {},
   "source": [
    "##### Evaluación con los datos de Febrero y Marzo 2021"
   ]
  },
  {
   "cell_type": "markdown",
   "id": "dc0548aa",
   "metadata": {},
   "source": [
    "Previo a evaluar el modelo calibrado, es necesario cargar los datos de Febrero y Marzo 2021 en el apartado 'CLASES DESBALANCEADAS vs CLASES BALANCEADAS > Datos de Febrero y Marzo 2021'"
   ]
  },
  {
   "cell_type": "code",
   "execution_count": 27,
   "id": "5b4b9820",
   "metadata": {},
   "outputs": [
    {
     "data": {
      "image/png": "[encoded data removed]",
      "text/plain": [
       "<Figure size 432x552.96 with 2 Axes>"
      ]
     },
     "metadata": {
      "needs_background": "light"
     },
     "output_type": "display_data"
    }
   ],
   "source": [
    "from sklearn.calibration import calibration_curve\n",
    "\n",
    "predictions = model_calibrated.predict(X_transf_featsel)\n",
    "probabilities = model_calibrated.predict_proba(X_transf_featsel)\n",
    "\n",
    "prob_true, prob_pred = calibration_curve(y, probabilities[:, 1], n_bins=20)\n",
    "\n",
    "fig, ax = plt.subplots(nrows=2,ncols=1, figsize=(6,2*3.84))\n",
    "\n",
    "ax[0].plot(prob_pred,prob_true, 's-', label='Random Forest')\n",
    "ax[0].plot([0,1],[0,1], 'k:', label='Perfect calibration')\n",
    "ax[0].set_ylabel('Correct classification proportion')\n",
    "ax[0].set_xlabel('Probabilities')\n",
    "ax[0].set_title('Calibration Curve')\n",
    "ax[0].legend()\n",
    "\n",
    "ax[1].hist(probabilities[:, 1],range=(0,1), bins=10, density=True, lw=2, alpha=0.3)\n",
    "ax[1].set_ylabel('Count')\n",
    "ax[1].set_xlabel('Probabilities')\n",
    "ax[1].set_title('Probability Distribution')\n",
    "\n",
    "plt.tight_layout()\n",
    "plt.show();"
   ]
  },
  {
   "cell_type": "code",
   "execution_count": 28,
   "id": "4f6a96ea",
   "metadata": {},
   "outputs": [
    {
     "name": "stdout",
     "output_type": "stream",
     "text": [
      "BRIER SCORE=  0.011506447214798831\n",
      "\n"
     ]
    },
    {
     "name": "stderr",
     "output_type": "stream",
     "text": [
      "/home/dsc/TFM/kschool_masterDS_TFM/env/lib/python3.7/site-packages/sklearn/metrics/_classification.py:1245: UndefinedMetricWarning: Precision and F-score are ill-defined and being set to 0.0 in labels with no predicted samples. Use `zero_division` parameter to control this behavior.\n",
      "  _warn_prf(average, modifier, msg_start, len(result))\n",
      "/home/dsc/TFM/kschool_masterDS_TFM/env/lib/python3.7/site-packages/sklearn/metrics/_classification.py:1245: UndefinedMetricWarning: Precision and F-score are ill-defined and being set to 0.0 in labels with no predicted samples. Use `zero_division` parameter to control this behavior.\n",
      "  _warn_prf(average, modifier, msg_start, len(result))\n",
      "/home/dsc/TFM/kschool_masterDS_TFM/env/lib/python3.7/site-packages/sklearn/metrics/_classification.py:1245: UndefinedMetricWarning: Precision and F-score are ill-defined and being set to 0.0 in labels with no predicted samples. Use `zero_division` parameter to control this behavior.\n",
      "  _warn_prf(average, modifier, msg_start, len(result))\n"
     ]
    },
    {
     "name": "stdout",
     "output_type": "stream",
     "text": [
      "              precision    recall  f1-score   support\n",
      "\n",
      "           0       0.99      1.00      1.00   1650669\n",
      "           1       0.00      0.00      0.00     16385\n",
      "\n",
      "    accuracy                           0.99   1667054\n",
      "   macro avg       0.50      0.50      0.50   1667054\n",
      "weighted avg       0.98      0.99      0.99   1667054\n",
      "\n"
     ]
    },
    {
     "data": {
      "text/plain": [
       "array([[1650669,       0],\n",
       "       [  16385,       0]])"
      ]
     },
     "execution_count": 28,
     "metadata": {},
     "output_type": "execute_result"
    }
   ],
   "source": [
    "from sklearn.metrics import brier_score_loss\n",
    "\n",
    "brier_score= brier_score_loss(y, probabilities[:, 1])\n",
    "print('BRIER SCORE= ', brier_score)\n",
    "print(\"\")\n",
    "print(classification_report(y,predictions))\n",
    "clrf_cm = confusion_matrix(y,predictions)\n",
    "clrf_cm"
   ]
  },
  {
   "cell_type": "code",
   "execution_count": 29,
   "id": "90b39bfe",
   "metadata": {},
   "outputs": [
    {
     "name": "stdout",
     "output_type": "stream",
     "text": [
      "ACCURACY: 0.9901712841935534\n"
     ]
    },
    {
     "name": "stderr",
     "output_type": "stream",
     "text": [
      "/home/dsc/TFM/kschool_masterDS_TFM/env/lib/python3.7/site-packages/sklearn/metrics/_classification.py:1245: UndefinedMetricWarning: Precision is ill-defined and being set to 0.0 due to no predicted samples. Use `zero_division` parameter to control this behavior.\n",
      "  _warn_prf(average, modifier, msg_start, len(result))\n"
     ]
    },
    {
     "name": "stdout",
     "output_type": "stream",
     "text": [
      "PRECISION: 0.0\n",
      "RECALL: 0.0\n",
      "F1 SCORE: 0.0\n",
      "AUC: 0.7734640188414128\n"
     ]
    },
    {
     "data": {
      "text/plain": [
       "Text(0, 0.5, 'tpr')"
      ]
     },
     "execution_count": 29,
     "metadata": {},
     "output_type": "execute_result"
    },
    {
     "data": {
      "image/png": "[encoded data removed]",
      "text/plain": [
       "<Figure size 432x288 with 1 Axes>"
      ]
     },
     "metadata": {
      "needs_background": "light"
     },
     "output_type": "display_data"
    }
   ],
   "source": [
    "print(\"ACCURACY: \" + str(accuracy_score(y, predictions)))\n",
    "print(\"PRECISION: \" + str(precision_score(y, predictions)))\n",
    "print(\"RECALL: \" + str(recall_score(y, predictions)))\n",
    "print(\"F1 SCORE: \" + str(f1_score(y, predictions)))\n",
    "print(\"AUC: \" + str(roc_auc_score(y,probabilities[:, 1])))\n",
    "\n",
    "tpr, fpr, thresolds = roc_curve(y, probabilities[:, 1])\n",
    "plt.plot(tpr, fpr)\n",
    "plt.xlabel('fpr')\n",
    "plt.ylabel('tpr')"
   ]
  },
  {
   "cell_type": "markdown",
   "id": "7bfcb8b3",
   "metadata": {},
   "source": [
    "#### Con los datos de test y *method='isotonic'"
   ]
  },
  {
   "cell_type": "code",
   "execution_count": 31,
   "id": "cbec3407",
   "metadata": {},
   "outputs": [
    {
     "name": "stdout",
     "output_type": "stream",
     "text": [
      "CPU times: user 55.2 s, sys: 31.7 ms, total: 55.2 s\n",
      "Wall time: 55.3 s\n"
     ]
    },
    {
     "data": {
      "text/plain": [
       "CalibratedClassifierCV(base_estimator=RandomForestClassifier(max_depth=20,\n",
       "                                                             n_estimators=200,\n",
       "                                                             random_state=42),\n",
       "                       cv='prefit', method='isotonic')"
      ]
     },
     "execution_count": 31,
     "metadata": {},
     "output_type": "execute_result"
    }
   ],
   "source": [
    "%%time\n",
    "\n",
    "from sklearn.calibration import CalibratedClassifierCV\n",
    "\n",
    "model_calibrated = CalibratedClassifierCV(model_uncalibrated, cv='prefit', method='isotonic')\n",
    "model_calibrated.fit(X_test_final, y_test)"
   ]
  },
  {
   "cell_type": "markdown",
   "id": "c0c1cbdf",
   "metadata": {},
   "source": [
    "##### Evaluación con los datos de Febrero y Marzo 2021"
   ]
  },
  {
   "cell_type": "markdown",
   "id": "9757daff",
   "metadata": {},
   "source": [
    "Previo a evaluar el modelo calibrado, es necesario cargar los datos de Febrero y Marzo 2021 en el apartado 'CLASES DESBALANCEADAS vs CLASES BALANCEADAS > Datos de Febrero y Marzo 2021'."
   ]
  },
  {
   "cell_type": "code",
   "execution_count": 32,
   "id": "56aa7c17",
   "metadata": {},
   "outputs": [
    {
     "data": {
      "image/png": "[encoded data removed]",
      "text/plain": [
       "<Figure size 432x552.96 with 2 Axes>"
      ]
     },
     "metadata": {
      "needs_background": "light"
     },
     "output_type": "display_data"
    }
   ],
   "source": [
    "from sklearn.calibration import calibration_curve\n",
    "\n",
    "predictions = model_calibrated.predict(X_transf_featsel)\n",
    "probabilities = model_calibrated.predict_proba(X_transf_featsel)\n",
    "\n",
    "prob_true, prob_pred = calibration_curve(y, probabilities[:, 1], n_bins=20)\n",
    "\n",
    "fig, ax = plt.subplots(nrows=2,ncols=1, figsize=(6,2*3.84))\n",
    "\n",
    "ax[0].plot(prob_pred,prob_true, 's-', label='Random Forest')\n",
    "ax[0].plot([0,1],[0,1], 'k:', label='Perfect calibration')\n",
    "ax[0].set_ylabel('Correct classification proportion')\n",
    "ax[0].set_xlabel('Probabilities')\n",
    "ax[0].set_title('Calibration Curve')\n",
    "ax[0].legend()\n",
    "\n",
    "ax[1].hist(probabilities[:, 1],range=(0,1), bins=10, density=True, lw=2, alpha=0.3)\n",
    "ax[1].set_ylabel('Count')\n",
    "ax[1].set_xlabel('Probabilities')\n",
    "ax[1].set_title('Probability Distribution')\n",
    "\n",
    "plt.tight_layout()\n",
    "plt.show();"
   ]
  },
  {
   "cell_type": "code",
   "execution_count": 33,
   "id": "da10cf8f",
   "metadata": {},
   "outputs": [
    {
     "name": "stdout",
     "output_type": "stream",
     "text": [
      "BRIER SCORE=  0.010961403434008171\n",
      "\n",
      "              precision    recall  f1-score   support\n",
      "\n",
      "           0       0.99      1.00      0.99   1650669\n",
      "           1       0.06      0.00      0.00     16385\n",
      "\n",
      "    accuracy                           0.99   1667054\n",
      "   macro avg       0.52      0.50      0.50   1667054\n",
      "weighted avg       0.98      0.99      0.99   1667054\n",
      "\n"
     ]
    },
    {
     "data": {
      "text/plain": [
       "array([[1650214,     455],\n",
       "       [  16357,      28]])"
      ]
     },
     "execution_count": 33,
     "metadata": {},
     "output_type": "execute_result"
    }
   ],
   "source": [
    "from sklearn.metrics import brier_score_loss\n",
    "\n",
    "brier_score= brier_score_loss(y, probabilities[:, 1])\n",
    "print('BRIER SCORE= ', brier_score)\n",
    "print(\"\")\n",
    "print(classification_report(y,predictions))\n",
    "clrf_cm = confusion_matrix(y,predictions)\n",
    "clrf_cm"
   ]
  },
  {
   "cell_type": "code",
   "execution_count": 34,
   "id": "45e17950",
   "metadata": {},
   "outputs": [
    {
     "name": "stdout",
     "output_type": "stream",
     "text": [
      "ACCURACY: 0.9899151437205993\n",
      "PRECISION: 0.057971014492753624\n",
      "RECALL: 0.0017088800732377174\n",
      "F1 SCORE: 0.003319895660422101\n",
      "AUC: 0.7733960035485657\n"
     ]
    },
    {
     "data": {
      "text/plain": [
       "Text(0, 0.5, 'tpr')"
      ]
     },
     "execution_count": 34,
     "metadata": {},
     "output_type": "execute_result"
    },
    {
     "data": {
      "image/png": "[encoded data removed]",
      "text/plain": [
       "<Figure size 432x288 with 1 Axes>"
      ]
     },
     "metadata": {
      "needs_background": "light"
     },
     "output_type": "display_data"
    }
   ],
   "source": [
    "print(\"ACCURACY: \" + str(accuracy_score(y, predictions)))\n",
    "print(\"PRECISION: \" + str(precision_score(y, predictions)))\n",
    "print(\"RECALL: \" + str(recall_score(y, predictions)))\n",
    "print(\"F1 SCORE: \" + str(f1_score(y, predictions)))\n",
    "print(\"AUC: \" + str(roc_auc_score(y,probabilities[:, 1])))\n",
    "\n",
    "tpr, fpr, thresolds = roc_curve(y, probabilities[:, 1])\n",
    "plt.plot(tpr, fpr)\n",
    "plt.xlabel('fpr')\n",
    "plt.ylabel('tpr')"
   ]
  },
  {
   "cell_type": "markdown",
   "id": "37e39e8b",
   "metadata": {},
   "source": [
    "#### Con los datos de entrenamiento y validación cruzada"
   ]
  },
  {
   "cell_type": "code",
   "execution_count": 13,
   "id": "a2f5f401",
   "metadata": {},
   "outputs": [
    {
     "name": "stdout",
     "output_type": "stream",
     "text": [
      "Fitting 5 folds for each of 4 candidates, totalling 20 fits\n",
      "[CV] END ...............................cv=3, method=sigmoid; total time=12.6min\n",
      "[CV] END ...............................cv=3, method=sigmoid; total time=12.8min\n",
      "[CV] END ...............................cv=3, method=sigmoid; total time=12.5min\n",
      "[CV] END ...............................cv=3, method=sigmoid; total time=12.9min\n",
      "[CV] END ...............................cv=3, method=sigmoid; total time=12.4min\n",
      "[CV] END ..............................cv=3, method=isotonic; total time=14.2min\n",
      "[CV] END ..............................cv=3, method=isotonic; total time=15.2min\n",
      "[CV] END ..............................cv=3, method=isotonic; total time=16.6min\n",
      "[CV] END ..............................cv=3, method=isotonic; total time=16.3min\n",
      "[CV] END ..............................cv=3, method=isotonic; total time=17.1min\n",
      "[CV] END ...............................cv=5, method=sigmoid; total time=33.0min\n",
      "[CV] END ...............................cv=5, method=sigmoid; total time=26.0min\n",
      "[CV] END ...............................cv=5, method=sigmoid; total time=26.2min\n",
      "[CV] END ...............................cv=5, method=sigmoid; total time=25.4min\n",
      "[CV] END ...............................cv=5, method=sigmoid; total time=25.3min\n",
      "[CV] END ..............................cv=5, method=isotonic; total time=25.4min\n",
      "[CV] END ..............................cv=5, method=isotonic; total time=25.3min\n",
      "[CV] END ..............................cv=5, method=isotonic; total time=25.7min\n",
      "[CV] END ..............................cv=5, method=isotonic; total time=25.7min\n",
      "[CV] END ..............................cv=5, method=isotonic; total time=25.5min\n",
      "CPU times: user 7h 21min 59s, sys: 10.2 s, total: 7h 22min 10s\n",
      "Wall time: 7h 21min 52s\n"
     ]
    }
   ],
   "source": [
    "%%time\n",
    "\n",
    "from sklearn.calibration import CalibratedClassifierCV\n",
    "\n",
    "model_uncalibrated = RandomForestClassifier(max_depth=20, n_estimators=200, criterion='gini',random_state=42)\n",
    "calibrated = CalibratedClassifierCV(model_uncalibrated)\n",
    "\n",
    "param_grid = {'method': ['sigmoid', 'isotonic'],\n",
    "             'cv': [3,5]}\n",
    "\n",
    "grid=GridSearchCV(estimator=calibrated,\n",
    "                 param_grid=param_grid,\n",
    "                 scoring='recall',\n",
    "                 refit=True,\n",
    "                 verbose=2)\n",
    "\n",
    "grid_result= grid.fit(X_train_featsel_resample,y_train_resample)"
   ]
  },
  {
   "cell_type": "code",
   "execution_count": 14,
   "id": "c5eaf8dc",
   "metadata": {},
   "outputs": [
    {
     "data": {
      "text/plain": [
       "{'cv': 5, 'method': 'sigmoid'}"
      ]
     },
     "execution_count": 14,
     "metadata": {},
     "output_type": "execute_result"
    }
   ],
   "source": [
    "grid.best_params_"
   ]
  },
  {
   "cell_type": "code",
   "execution_count": 15,
   "id": "6b7fd3f4",
   "metadata": {},
   "outputs": [
    {
     "data": {
      "text/plain": [
       "CalibratedClassifierCV(base_estimator=RandomForestClassifier(max_depth=20,\n",
       "                                                             n_estimators=200,\n",
       "                                                             random_state=42),\n",
       "                       cv=5)"
      ]
     },
     "execution_count": 15,
     "metadata": {},
     "output_type": "execute_result"
    }
   ],
   "source": [
    "grid.best_estimator_"
   ]
  },
  {
   "cell_type": "code",
   "execution_count": 16,
   "id": "aacdabb1",
   "metadata": {},
   "outputs": [
    {
     "data": {
      "text/plain": [
       "0.9314369044860982"
      ]
     },
     "execution_count": 16,
     "metadata": {},
     "output_type": "execute_result"
    }
   ],
   "source": [
    "grid.best_score_"
   ]
  },
  {
   "cell_type": "code",
   "execution_count": 17,
   "id": "5ca5e4d4",
   "metadata": {},
   "outputs": [
    {
     "data": {
      "text/html": [
       "<div>\n",
       "<style scoped>\n",
       "    .dataframe tbody tr th:only-of-type {\n",
       "        vertical-align: middle;\n",
       "    }\n",
       "\n",
       "    .dataframe tbody tr th {\n",
       "        vertical-align: top;\n",
       "    }\n",
       "\n",
       "    .dataframe thead th {\n",
       "        text-align: right;\n",
       "    }\n",
       "</style>\n",
       "<table border=\"1\" class=\"dataframe\">\n",
       "  <thead>\n",
       "    <tr style=\"text-align: right;\">\n",
       "      <th></th>\n",
       "      <th>cv</th>\n",
       "      <th>method</th>\n",
       "      <th>Recall</th>\n",
       "    </tr>\n",
       "  </thead>\n",
       "  <tbody>\n",
       "    <tr>\n",
       "      <th>0</th>\n",
       "      <td>3</td>\n",
       "      <td>sigmoid</td>\n",
       "      <td>0.929998</td>\n",
       "    </tr>\n",
       "    <tr>\n",
       "      <th>1</th>\n",
       "      <td>3</td>\n",
       "      <td>isotonic</td>\n",
       "      <td>0.928991</td>\n",
       "    </tr>\n",
       "    <tr>\n",
       "      <th>2</th>\n",
       "      <td>5</td>\n",
       "      <td>sigmoid</td>\n",
       "      <td>0.931437</td>\n",
       "    </tr>\n",
       "    <tr>\n",
       "      <th>3</th>\n",
       "      <td>5</td>\n",
       "      <td>isotonic</td>\n",
       "      <td>0.930816</td>\n",
       "    </tr>\n",
       "  </tbody>\n",
       "</table>\n",
       "</div>"
      ],
      "text/plain": [
       "   cv    method    Recall\n",
       "0   3   sigmoid  0.929998\n",
       "1   3  isotonic  0.928991\n",
       "2   5   sigmoid  0.931437\n",
       "3   5  isotonic  0.930816"
      ]
     },
     "execution_count": 17,
     "metadata": {},
     "output_type": "execute_result"
    }
   ],
   "source": [
    "pd.concat([pd.DataFrame(grid.cv_results_[\"params\"]),pd.DataFrame(grid.cv_results_[\"mean_test_score\"], columns=[\"Recall\"])],axis=1)"
   ]
  },
  {
   "cell_type": "code",
   "execution_count": 18,
   "id": "d0ef5026",
   "metadata": {},
   "outputs": [],
   "source": [
    "pickle.dump(grid,open(\"FINALCLF_calibrated.pickle\",\"wb\"))"
   ]
  },
  {
   "cell_type": "code",
   "execution_count": 11,
   "id": "useful-polls",
   "metadata": {},
   "outputs": [],
   "source": [
    "grid = pickle.load(open(\"FINALCLF_calibrated.pickle\",\"rb\"))"
   ]
  },
  {
   "cell_type": "markdown",
   "id": "e4a2bc1c",
   "metadata": {},
   "source": [
    "##### Evaluación con X_test"
   ]
  },
  {
   "cell_type": "code",
   "execution_count": 19,
   "id": "59f73efa",
   "metadata": {},
   "outputs": [
    {
     "data": {
      "image/png": "[encoded data removed]",
      "text/plain": [
       "<Figure size 432x552.96 with 2 Axes>"
      ]
     },
     "metadata": {
      "needs_background": "light"
     },
     "output_type": "display_data"
    }
   ],
   "source": [
    "from sklearn.calibration import calibration_curve\n",
    "\n",
    "predictions = grid.predict(X_test_final)\n",
    "probabilities = grid.predict_proba(X_test_final)\n",
    "\n",
    "prob_true, prob_pred = calibration_curve(y_test, probabilities[:, 1], n_bins=20)\n",
    "\n",
    "fig, ax = plt.subplots(nrows=2,ncols=1, figsize=(6,2*3.84))\n",
    "\n",
    "ax[0].plot(prob_pred,prob_true, 's-', label='Random Forest')\n",
    "ax[0].plot([0,1],[0,1], 'k:', label='Perfect calibration')\n",
    "ax[0].set_ylabel('Correct classification proportion')\n",
    "ax[0].set_xlabel('Probabilities')\n",
    "ax[0].set_title('Calibration Curve')\n",
    "ax[0].legend()\n",
    "\n",
    "ax[1].hist(probabilities[:, 1],range=(0,1), bins=10, density=True, lw=2, alpha=0.3)\n",
    "ax[1].set_ylabel('Count')\n",
    "ax[1].set_xlabel('Probabilities')\n",
    "ax[1].set_title('Probability Distribution')\n",
    "\n",
    "plt.tight_layout()\n",
    "plt.show();"
   ]
  },
  {
   "cell_type": "code",
   "execution_count": 20,
   "id": "d6409a9c",
   "metadata": {},
   "outputs": [
    {
     "name": "stdout",
     "output_type": "stream",
     "text": [
      "BRIER SCORE=  0.03258619991898625\n",
      "\n",
      "              precision    recall  f1-score   support\n",
      "\n",
      "           0       1.00      0.96      0.98    896587\n",
      "           1       0.17      0.69      0.27     10487\n",
      "\n",
      "    accuracy                           0.96    907074\n",
      "   macro avg       0.58      0.82      0.62    907074\n",
      "weighted avg       0.99      0.96      0.97    907074\n",
      "\n"
     ]
    },
    {
     "data": {
      "text/plain": [
       "array([[860348,  36239],\n",
       "       [  3283,   7204]])"
      ]
     },
     "execution_count": 20,
     "metadata": {},
     "output_type": "execute_result"
    }
   ],
   "source": [
    "from sklearn.metrics import brier_score_loss\n",
    "\n",
    "brier_score= brier_score_loss(y_test, probabilities[:, 1])\n",
    "print('BRIER SCORE= ', brier_score)\n",
    "print(\"\")\n",
    "print(classification_report(y_test,predictions))\n",
    "clrf_cm = confusion_matrix(y_test,predictions)\n",
    "clrf_cm"
   ]
  },
  {
   "cell_type": "code",
   "execution_count": 21,
   "id": "68dd5601",
   "metadata": {},
   "outputs": [
    {
     "name": "stdout",
     "output_type": "stream",
     "text": [
      "ACCURACY: 0.9564291336759735\n",
      "PRECISION: 0.16582648527956173\n",
      "RECALL: 0.6869457423476686\n",
      "F1 SCORE: 0.2671611348043761\n",
      "AUC: 0.9322565339615351\n"
     ]
    },
    {
     "data": {
      "text/plain": [
       "Text(0, 0.5, 'tpr')"
      ]
     },
     "execution_count": 21,
     "metadata": {},
     "output_type": "execute_result"
    },
    {
     "data": {
      "image/png": "[encoded data removed]",
      "text/plain": [
       "<Figure size 432x288 with 1 Axes>"
      ]
     },
     "metadata": {
      "needs_background": "light"
     },
     "output_type": "display_data"
    }
   ],
   "source": [
    "print(\"ACCURACY: \" + str(accuracy_score(y_test, predictions)))\n",
    "print(\"PRECISION: \" + str(precision_score(y_test, predictions)))\n",
    "print(\"RECALL: \" + str(recall_score(y_test, predictions)))\n",
    "print(\"F1 SCORE: \" + str(f1_score(y_test, predictions)))\n",
    "print(\"AUC: \" + str(roc_auc_score(y_test,probabilities[:, 1])))\n",
    "\n",
    "tpr, fpr, thresolds = roc_curve(y_test, probabilities[:, 1])\n",
    "plt.plot(tpr, fpr)\n",
    "plt.xlabel('fpr')\n",
    "plt.ylabel('tpr')"
   ]
  },
  {
   "cell_type": "markdown",
   "id": "fe60a15d",
   "metadata": {},
   "source": [
    "##### Evaluación con los datos de Febrero y Marzo 2021"
   ]
  },
  {
   "cell_type": "markdown",
   "id": "7e445d3d",
   "metadata": {},
   "source": [
    "Previo a evaluar el modelo calibrado, es necesario cargar los datos de Febrero y Marzo 2021 en el apartado 'CLASES DESBALANCEADAS vs CLASES BALANCEADAS > Datos de Febrero y Marzo 2021'."
   ]
  },
  {
   "cell_type": "code",
   "execution_count": 12,
   "id": "f929000a",
   "metadata": {},
   "outputs": [
    {
     "data": {
      "image/png": "[encoded data removed]",
      "text/plain": [
       "<Figure size 432x552.96 with 2 Axes>"
      ]
     },
     "metadata": {
      "needs_background": "light"
     },
     "output_type": "display_data"
    }
   ],
   "source": [
    "from sklearn.calibration import calibration_curve\n",
    "\n",
    "predictions = grid.predict(X_transf_featsel)\n",
    "probabilities = grid.predict_proba(X_transf_featsel)\n",
    "\n",
    "prob_true, prob_pred = calibration_curve(y, probabilities[:, 1], n_bins=20)\n",
    "\n",
    "fig, ax = plt.subplots(nrows=2,ncols=1, figsize=(6,2*3.84))\n",
    "\n",
    "ax[0].plot(prob_pred,prob_true, 's-', label='Random Forest')\n",
    "ax[0].plot([0,1],[0,1], 'k:', label='Perfect calibration')\n",
    "ax[0].set_ylabel('Correct classification proportion')\n",
    "ax[0].set_xlabel('Probabilities')\n",
    "ax[0].set_title('Calibration Curve')\n",
    "ax[0].legend()\n",
    "\n",
    "ax[1].hist(probabilities[:, 1],range=(0,1), bins=10, density=True, lw=2, alpha=0.3)\n",
    "ax[1].set_ylabel('Count')\n",
    "ax[1].set_xlabel('Probabilities')\n",
    "ax[1].set_title('Probability Distribution')\n",
    "\n",
    "plt.tight_layout()\n",
    "plt.show();"
   ]
  },
  {
   "cell_type": "code",
   "execution_count": 13,
   "id": "94a4af85",
   "metadata": {},
   "outputs": [
    {
     "name": "stdout",
     "output_type": "stream",
     "text": [
      "BRIER SCORE=  0.10354865097443476\n",
      "\n",
      "              precision    recall  f1-score   support\n",
      "\n",
      "           0       0.99      0.86      0.92   1650669\n",
      "           1       0.03      0.45      0.06     16385\n",
      "\n",
      "    accuracy                           0.86   1667054\n",
      "   macro avg       0.51      0.65      0.49   1667054\n",
      "weighted avg       0.98      0.86      0.91   1667054\n",
      "\n"
     ]
    },
    {
     "data": {
      "text/plain": [
       "array([[1419411,  231258],\n",
       "       [   9038,    7347]])"
      ]
     },
     "execution_count": 13,
     "metadata": {},
     "output_type": "execute_result"
    }
   ],
   "source": [
    "from sklearn.metrics import brier_score_loss\n",
    "\n",
    "brier_score= brier_score_loss(y, probabilities[:, 1])\n",
    "print('BRIER SCORE= ', brier_score)\n",
    "print(\"\")\n",
    "print(classification_report(y,predictions))\n",
    "clrf_cm = confusion_matrix(y,predictions)\n",
    "clrf_cm"
   ]
  },
  {
   "cell_type": "code",
   "execution_count": 14,
   "id": "30d722bb",
   "metadata": {},
   "outputs": [
    {
     "name": "stdout",
     "output_type": "stream",
     "text": [
      "ACCURACY: 0.8558558990890517\n",
      "PRECISION: 0.030791475451059282\n",
      "RECALL: 0.4483979249313396\n",
      "F1 SCORE: 0.05762578924663713\n",
      "AUC: 0.7771390258478889\n"
     ]
    },
    {
     "data": {
      "text/plain": [
       "Text(0, 0.5, 'tpr')"
      ]
     },
     "execution_count": 14,
     "metadata": {},
     "output_type": "execute_result"
    },
    {
     "data": {
      "image/png": "[encoded data removed]",
      "text/plain": [
       "<Figure size 432x288 with 1 Axes>"
      ]
     },
     "metadata": {
      "needs_background": "light"
     },
     "output_type": "display_data"
    }
   ],
   "source": [
    "print(\"ACCURACY: \" + str(accuracy_score(y, predictions)))\n",
    "print(\"PRECISION: \" + str(precision_score(y, predictions)))\n",
    "print(\"RECALL: \" + str(recall_score(y, predictions)))\n",
    "print(\"F1 SCORE: \" + str(f1_score(y, predictions)))\n",
    "print(\"AUC: \" + str(roc_auc_score(y,probabilities[:, 1])))\n",
    "\n",
    "tpr, fpr, thresolds = roc_curve(y, probabilities[:, 1])\n",
    "plt.plot(tpr, fpr)\n",
    "plt.xlabel('fpr')\n",
    "plt.ylabel('tpr')"
   ]
  },
  {
   "cell_type": "markdown",
   "id": "lightweight-employee",
   "metadata": {},
   "source": [
    "### Conclusiones"
   ]
  },
  {
   "cell_type": "markdown",
   "id": "blocked-tuition",
   "metadata": {},
   "source": [
    "Como en el notebook 09_ RANDOM_FOREST_MODEL_OPTIMIZATION, nos quedaremos con este último modelo que aunque sigue devolviendo unos resultados demasiado optimistas, al menos tiene capacidad predictiva y reduce ligerarmente la métrica *brier score*. "
   ]
  },
  {
   "cell_type": "markdown",
   "id": "corrected-picture",
   "metadata": {},
   "source": [
    "## INTERACTIVE FRONTEND"
   ]
  },
  {
   "cell_type": "markdown",
   "id": "differential-breeding",
   "metadata": {},
   "source": [
    "Por último, de cara a la presentación del proyecto, desarrollaremos un *frontend* interativo que permita ilustrar la aplicación práctica de nuestro modelo y sus beneficios.\n",
    "\n",
    "La app estará compuesta de 3 páginas:\n",
    "- **Home** donde se introduce brevemente el proyecto\n",
    "- **Ejemplo de maximización de las conversiones** mediante la aplicación de un descuento específico y adicional dirigido a los indecisos (predicciones de la clase 0) en el momento y lugar adecuados. Para unas predicciones (relativamente) más realistas, se utilizará el modelo calibrado.\n",
    "- **¿Cómo funciona?** Mediante la cumplimentación de un formulario, el usuario podrá ver el detalle de las predicciones del modelo para distintos niveles de descuento. En este caso, se utilizarán tanto el modelo preentrenado sin calibrar (para mostrar los resultados de shap), como el modelo calibrado para unos resultados más ajustados y menos optimistas."
   ]
  },
  {
   "cell_type": "markdown",
   "id": "starting-christian",
   "metadata": {},
   "source": [
    "### Preparativos"
   ]
  },
  {
   "cell_type": "markdown",
   "id": "forty-modern",
   "metadata": {},
   "source": [
    "En este apartado, quedan recogidos todos los nuevos ficheros necesarios para la implementación de la aplicación: "
   ]
  },
  {
   "cell_type": "markdown",
   "id": "level-virtue",
   "metadata": {},
   "source": [
    "#### Datos de ciudades"
   ]
  },
  {
   "cell_type": "markdown",
   "id": "welsh-adams",
   "metadata": {},
   "source": [
    "Listado de ciudades para el desplegable de la página *¿Cómo funciona?*:"
   ]
  },
  {
   "cell_type": "code",
   "execution_count": 34,
   "id": "pediatric-zoning",
   "metadata": {},
   "outputs": [
    {
     "data": {
      "text/plain": [
       "[['(not set)',\n",
       "  '6th of October City',\n",
       "  'A Coruna',\n",
       "  'Aachen',\n",
       "  'Aalst',\n",
       "  'Aarhus',\n",
       "  'Aberdeen',\n",
       "  'Abha',\n",
       "  'Abidjan',\n",
       "  'Abu Dhabi',\n",
       "  'Acapulco',\n",
       "  'Accra',\n",
       "  'Acharnes',\n",
       "  'Acireale',\n",
       "  'Adana',\n",
       "  'Adeje',\n",
       "  'Adelaide',\n",
       "  'Adliswil',\n",
       "  'Admont',\n",
       "  'Adra',\n",
       "  'Adrogue',\n",
       "  'Affoltern am Albis',\n",
       "  'Agen',\n",
       "  'Agoura Hills',\n",
       "  'Agropoli',\n",
       "  'Aguachica',\n",
       "  'Aguadulce',\n",
       "  'Aguascalientes',\n",
       "  'Aguilas',\n",
       "  'Aidlingen',\n",
       "  'Aix-les-Bains',\n",
       "  'Ajax',\n",
       "  'Alajuela',\n",
       "  'Albacete',\n",
       "  'Albertville',\n",
       "  'Albufeira',\n",
       "  'Alcala de Guadaira',\n",
       "  'Alcala de Henares',\n",
       "  'Alcantarilla',\n",
       "  'Alcazar de San Juan',\n",
       "  'Alcobendas',\n",
       "  'Alcoi',\n",
       "  'Alcorcon',\n",
       "  'Aldershot',\n",
       "  'Ales',\n",
       "  'Alexandria',\n",
       "  'Alexandroupoli',\n",
       "  'Algeciras',\n",
       "  'Algete',\n",
       "  'Alghero',\n",
       "  'Alginet',\n",
       "  'Algueirao–Mem Martins',\n",
       "  'Alhama de Murcia',\n",
       "  'Alhaurin de la Torre',\n",
       "  'Alhaurin el Grande',\n",
       "  'Alicante',\n",
       "  'Alimos',\n",
       "  'Alkmaar',\n",
       "  'Allauch',\n",
       "  'Allentown',\n",
       "  'Almada',\n",
       "  'Almansa',\n",
       "  'Almaty',\n",
       "  'Almendralejo',\n",
       "  'Almere',\n",
       "  'Almeria',\n",
       "  'Almirante Tamandare',\n",
       "  'Almont',\n",
       "  'Almoradi',\n",
       "  'Alpharetta',\n",
       "  'Alsfeld',\n",
       "  'Altadena',\n",
       "  'Altamira',\n",
       "  'Altea',\n",
       "  'Alton',\n",
       "  'Altrincham',\n",
       "  'Alverca do Ribatejo',\n",
       "  'Alzira',\n",
       "  'Amadora',\n",
       "  'Ambato',\n",
       "  'Ameca',\n",
       "  'Americana',\n",
       "  'Amstelveen',\n",
       "  'Amsterdam',\n",
       "  'Anaheim',\n",
       "  'Ancud',\n",
       "  'Anderlecht',\n",
       "  'Andoain',\n",
       "  'Andujar',\n",
       "  'Angelholm',\n",
       "  'Angers',\n",
       "  'Anglet',\n",
       "  'Angra do Heroismo',\n",
       "  'Annecy',\n",
       "  'Antalya',\n",
       "  'Antofagasta',\n",
       "  'Antwerp',\n",
       "  'Apatzingan',\n",
       "  'Apizaco',\n",
       "  'Appleton',\n",
       "  'Arad',\n",
       "  'Aranda de Duero',\n",
       "  'Arandas',\n",
       "  'Aranjuez',\n",
       "  'Archena',\n",
       "  'Arcos de la Frontera',\n",
       "  'Arecibo',\n",
       "  'Arequipa',\n",
       "  'Arezzo',\n",
       "  'Arganda del Rey',\n",
       "  'Arica',\n",
       "  'Arjona',\n",
       "  'Arlington',\n",
       "  'Arlington Heights',\n",
       "  'Arlon',\n",
       "  'Armenia',\n",
       "  'Arnedo',\n",
       "  'Arona',\n",
       "  'Arrasate',\n",
       "  'Arrecife',\n",
       "  'Arundel',\n",
       "  'As Pontes de Garcia Rodriguez',\n",
       "  'Asbury Park',\n",
       "  'Ash Vale',\n",
       "  'Ashburn',\n",
       "  'Asker Municipality',\n",
       "  'Asnieres-sur-Seine',\n",
       "  'Asuncion',\n",
       "  'Ath',\n",
       "  'Athens',\n",
       "  'Atizapan de Zaragoza',\n",
       "  'Atlacomulco',\n",
       "  'Atlanta',\n",
       "  'Aubenas',\n",
       "  'Auckland',\n",
       "  'Auderghem',\n",
       "  'Augsburg',\n",
       "  'Aulnay-sous-Bois',\n",
       "  'Austin',\n",
       "  'Aveiro',\n",
       "  'Avellaneda',\n",
       "  'Aversa',\n",
       "  'Avila\\u200e',\n",
       "  'Aviles',\n",
       "  'Avon',\n",
       "  'Azul',\n",
       "  'Azuqueca de Henares',\n",
       "  'Baak',\n",
       "  'Baar',\n",
       "  'Bad Berleburg',\n",
       "  'Bad Hersfeld',\n",
       "  'Bad Neuenahr-Ahrweiler',\n",
       "  'Badajoz',\n",
       "  'Badalona',\n",
       "  'Baerum',\n",
       "  'Baghdad',\n",
       "  'Bagneux',\n",
       "  'Bahia Blanca',\n",
       "  'Bailen',\n",
       "  'Bakersfield',\n",
       "  'Baku',\n",
       "  'Balcarce',\n",
       "  'Bamble',\n",
       "  'Banfield',\n",
       "  'Bang Nam Chuet',\n",
       "  'Bangkok',\n",
       "  'Banska Bystrica',\n",
       "  'Barbastro',\n",
       "  'Barcelona',\n",
       "  'Bari',\n",
       "  'Barinas',\n",
       "  'Barlinek',\n",
       "  'Barquisimeto',\n",
       "  'Barranquilla',\n",
       "  'Barre',\n",
       "  'Barry',\n",
       "  'Basauri',\n",
       "  'Basel',\n",
       "  'Basingstoke',\n",
       "  'Battipaglia',\n",
       "  'Bay Lake',\n",
       "  'Bayamon',\n",
       "  'Bayonne',\n",
       "  'Baza',\n",
       "  'Beasain',\n",
       "  'Beaumont',\n",
       "  'Beccar',\n",
       "  'Beijing',\n",
       "  'Beirut',\n",
       "  'Beja',\n",
       "  'Bejar',\n",
       "  'Belen de Escobar',\n",
       "  'Belgrade',\n",
       "  'Bellevue',\n",
       "  'Bello',\n",
       "  'Belo Horizonte',\n",
       "  'Benavente',\n",
       "  'Bengaluru',\n",
       "  'Benghazi',\n",
       "  'Benicarlo',\n",
       "  'Benidorm',\n",
       "  'Benin City',\n",
       "  'Berazategui',\n",
       "  'Berga',\n",
       "  'Bergara',\n",
       "  'Berkel en Rodenrijs',\n",
       "  'Berlin',\n",
       "  'Bermeo',\n",
       "  'Bern',\n",
       "  'Bessemer',\n",
       "  'Bethesda',\n",
       "  'Bettembourg',\n",
       "  'Beziers',\n",
       "  'Bialystok',\n",
       "  'Biarritz',\n",
       "  'Bietigheim-Bissingen',\n",
       "  'Bilbao',\n",
       "  'Birmingham',\n",
       "  'Blacksburg',\n",
       "  'Bletchley',\n",
       "  'Blois',\n",
       "  'Bloomfield',\n",
       "  'Blue Ash',\n",
       "  'Boardman',\n",
       "  'Boblingen',\n",
       "  'Bodo Municipality',\n",
       "  'Boekel',\n",
       "  'Bogota',\n",
       "  'Boise',\n",
       "  'Bollullos Par del Condado',\n",
       "  'Bologna',\n",
       "  'Bolzano',\n",
       "  'Bombinhas',\n",
       "  'Bonn',\n",
       "  'Bordeaux',\n",
       "  'Borriana',\n",
       "  'Boston',\n",
       "  'Boulogne',\n",
       "  'Boulogne-Billancourt',\n",
       "  'Boulogne-sur-Mer',\n",
       "  'Bountiful',\n",
       "  'Bourg-Saint-Maurice',\n",
       "  'Bournemouth',\n",
       "  'Boyarka',\n",
       "  'Boydton',\n",
       "  'Boynton Beach',\n",
       "  'Bradford',\n",
       "  'Braga',\n",
       "  'Braganca Paulista',\n",
       "  'Braine-le-Comte',\n",
       "  'Brande',\n",
       "  'Brandon',\n",
       "  'Brasilia',\n",
       "  'Brasov',\n",
       "  'Bratislava',\n",
       "  'Bray',\n",
       "  'Breda',\n",
       "  'Bregenz',\n",
       "  'Brenes',\n",
       "  'Brescia',\n",
       "  'Bridgwater',\n",
       "  'Brighton',\n",
       "  'Brisbane',\n",
       "  'Bristol',\n",
       "  'Brno',\n",
       "  'Brockton',\n",
       "  'Brossard',\n",
       "  'Bruges',\n",
       "  'Brugg',\n",
       "  'Brunswick',\n",
       "  'Brussels',\n",
       "  'Bucaramanga',\n",
       "  'Bucerias',\n",
       "  'Bucharest',\n",
       "  'Budapest',\n",
       "  'Buenaventura',\n",
       "  'Buenavista',\n",
       "  'Buenos Aires',\n",
       "  'Buffalo',\n",
       "  'Burgos',\n",
       "  'Bursa',\n",
       "  'Burton upon Trent',\n",
       "  'Bury',\n",
       "  'Burzaco',\n",
       "  'Busan',\n",
       "  'Cabo Frio',\n",
       "  'Cabo San Lucas',\n",
       "  'Caceres\\u200e',\n",
       "  'Cadiz',\n",
       "  'Cagliari',\n",
       "  'Cairns',\n",
       "  'Cairo',\n",
       "  'Cajamarca',\n",
       "  'Cakovec',\n",
       "  'Calahorra',\n",
       "  'Calama',\n",
       "  'Calarasi',\n",
       "  'Calgary',\n",
       "  'Cali',\n",
       "  'Callao',\n",
       "  'Callosa de Segura',\n",
       "  'Camargo',\n",
       "  'Camas',\n",
       "  'Cambridge',\n",
       "  'Campana',\n",
       "  'Campeche',\n",
       "  'Campinas',\n",
       "  'Cancun',\n",
       "  'Canton',\n",
       "  'Cao Lanh',\n",
       "  'Cape Town',\n",
       "  'Capelle aan den IJssel',\n",
       "  'Caracas',\n",
       "  'Carcaixent',\n",
       "  'Cardedeu',\n",
       "  'Cardiff',\n",
       "  'Carlow',\n",
       "  'Carlsbad',\n",
       "  'Carmona',\n",
       "  'Carolina',\n",
       "  'Carora',\n",
       "  'Carpi',\n",
       "  'Carregado',\n",
       "  'Cartagena',\n",
       "  'Cartago',\n",
       "  'Carupano',\n",
       "  'Casablanca',\n",
       "  'Cascais',\n",
       "  'Caseros',\n",
       "  'Castelar',\n",
       "  'Castellbisbal',\n",
       "  'Castellon de la Plana',\n",
       "  'Castelo Branco',\n",
       "  'Castro',\n",
       "  'Castro Urdiales',\n",
       "  'Catamarca',\n",
       "  'Catania',\n",
       "  'Catemaco',\n",
       "  \"Cava de' Tirreni\",\n",
       "  'Cebu City',\n",
       "  'Cehegin',\n",
       "  'Celaya',\n",
       "  'Centenario',\n",
       "  'Cernusco sul Naviglio',\n",
       "  'Cerro de Pasco',\n",
       "  'Cesano Maderno',\n",
       "  'Ceuta',\n",
       "  'Ceuti',\n",
       "  'Chacabuco',\n",
       "  'Chamonix',\n",
       "  'Charleroi',\n",
       "  'Charleston',\n",
       "  'Charlotte',\n",
       "  'Charlottesville',\n",
       "  'Chatou',\n",
       "  'Checy',\n",
       "  'Chelles',\n",
       "  'Chennai',\n",
       "  'Cherbourg-Octeville',\n",
       "  'Chernihiv',\n",
       "  'Chernivtsi',\n",
       "  'Chester',\n",
       "  'Chetumal',\n",
       "  'Cheyenne',\n",
       "  'Chia',\n",
       "  'Chiapa de Corzo',\n",
       "  'Chiautempan',\n",
       "  'Chicago',\n",
       "  'Chiclana de la Frontera',\n",
       "  'Chicoloapan de Juarez',\n",
       "  'Chignahuapan',\n",
       "  'Chihuahua',\n",
       "  'Chillan',\n",
       "  'Chilpancingo',\n",
       "  'Chimalhuacan',\n",
       "  'Chipiona',\n",
       "  'Chisinau',\n",
       "  'Chivilcoy',\n",
       "  'Chlef',\n",
       "  'Cholula',\n",
       "  'Chula Vista',\n",
       "  'Chur',\n",
       "  'Cienaga de Oro',\n",
       "  'Cigales DO',\n",
       "  'Cincinnati',\n",
       "  'Cinisello Balsamo',\n",
       "  'Cipolletti',\n",
       "  'Ciudad Apodaca',\n",
       "  'Ciudad Cuauhtemoc',\n",
       "  'Ciudad Guzman',\n",
       "  'Ciudad Hidalgo',\n",
       "  'Ciudad Juarez',\n",
       "  'Ciudad Lopez Mateos',\n",
       "  'Ciudad Nezahualcoyotl',\n",
       "  'Ciudad Obregon',\n",
       "  'Ciudad Real',\n",
       "  'Ciudad Rodrigo',\n",
       "  'Ciudad Victoria',\n",
       "  'Ciudad de Allende',\n",
       "  'Ciudad del Carmen',\n",
       "  'Ciudadela',\n",
       "  'Cle Elum',\n",
       "  'Clearwater',\n",
       "  'Clermont',\n",
       "  'Clermont-Ferrand',\n",
       "  'Cleveland',\n",
       "  'Clichy',\n",
       "  'Clifton',\n",
       "  'Coacalco',\n",
       "  'Coachella',\n",
       "  'Coatepec',\n",
       "  'Coatzacoalcos',\n",
       "  'Cochabamba',\n",
       "  'Codazzi',\n",
       "  'Coffeyville',\n",
       "  'Coimbra',\n",
       "  'Colmenar Viejo',\n",
       "  'Cologne',\n",
       "  'Columbia',\n",
       "  'Columbus',\n",
       "  'Como',\n",
       "  'Comodoro Rivadavia',\n",
       "  'Comonfort',\n",
       "  'Compiegne',\n",
       "  'Conakry',\n",
       "  'Concepcion',\n",
       "  'Concepcion del Uruguay',\n",
       "  'Concordia',\n",
       "  'Consuegra',\n",
       "  'Copacabana',\n",
       "  'Copenhagen',\n",
       "  'Copiapo',\n",
       "  'Coppell',\n",
       "  'Coquimbo',\n",
       "  'Coral Gables',\n",
       "  'Coral Terrace',\n",
       "  'Cordoba',\n",
       "  'Coria del Rio',\n",
       "  'Cork',\n",
       "  'Coronel',\n",
       "  'Corrientes',\n",
       "  'Coslada',\n",
       "  'Cosoleacaque',\n",
       "  'Coueron',\n",
       "  'Courbevoie',\n",
       "  'Coventry',\n",
       "  'Covilha',\n",
       "  'Coyhaique',\n",
       "  'Craiova',\n",
       "  'Crawley',\n",
       "  'Creil',\n",
       "  'Cremona',\n",
       "  'Creteil',\n",
       "  'Crevillent',\n",
       "  'Crewe',\n",
       "  'Croydon',\n",
       "  'Cuautitlan',\n",
       "  'Cuautitlan Izcalli',\n",
       "  'Cuautla',\n",
       "  'Cucuta',\n",
       "  'Cuenca',\n",
       "  'Cuernavaca',\n",
       "  'Culiacan',\n",
       "  'Curico',\n",
       "  'Curitiba',\n",
       "  'Cusco',\n",
       "  'Cutler Bay',\n",
       "  'Cypress',\n",
       "  'Czarnkow',\n",
       "  'Da Nang',\n",
       "  'Dachau',\n",
       "  'Dahlonega',\n",
       "  'Dakar',\n",
       "  'Dallas',\n",
       "  'Dammam',\n",
       "  'Danbury',\n",
       "  'Dar es Salaam',\n",
       "  'Dartford',\n",
       "  'David',\n",
       "  'Davis',\n",
       "  'Dayton',\n",
       "  'De Haan',\n",
       "  'Delft',\n",
       "  'Delhi',\n",
       "  'Delicias',\n",
       "  'Deltebre',\n",
       "  'Dendermonde',\n",
       "  'Denia',\n",
       "  'Denizli',\n",
       "  'Dentsville',\n",
       "  'Denver',\n",
       "  'Derby',\n",
       "  'Derry',\n",
       "  'Des Moines',\n",
       "  'Deventer',\n",
       "  'Dhahran',\n",
       "  'Dhaka',\n",
       "  'Dijon',\n",
       "  'Dilsen-Stokkem',\n",
       "  'Ditzingen',\n",
       "  'Dnipro',\n",
       "  'Doha',\n",
       "  'Don Benito',\n",
       "  'Doncaster',\n",
       "  'Donostia-San Sebastian',\n",
       "  'Dorado',\n",
       "  'Doral',\n",
       "  'Dortmund',\n",
       "  'Dosquebradas',\n",
       "  'Douala',\n",
       "  'Drachten',\n",
       "  'Dreieich',\n",
       "  'Dresden',\n",
       "  'Dronninglund',\n",
       "  'Dubai',\n",
       "  'Dubendorf',\n",
       "  'Dublin',\n",
       "  'Dudelange',\n",
       "  'Dundalk',\n",
       "  'Dunfermline',\n",
       "  'Durango',\n",
       "  'Durgapur',\n",
       "  'Durham',\n",
       "  'Dushanbe',\n",
       "  'Dusseldorf',\n",
       "  'Eagan',\n",
       "  'Eagle Mountain',\n",
       "  'East Farmingdale',\n",
       "  'East Kilbride',\n",
       "  'Eastbourne',\n",
       "  'Ecatepec',\n",
       "  'Eckernforde',\n",
       "  'Ede',\n",
       "  'Eden Prairie',\n",
       "  'Edenvale',\n",
       "  'Edinburgh',\n",
       "  'Edison',\n",
       "  'Edmonton',\n",
       "  'Eibar',\n",
       "  'Eindhoven',\n",
       "  'El Ejido',\n",
       "  'El Palomar',\n",
       "  'El Paso',\n",
       "  'El Prat de Llobregat',\n",
       "  'El Puerto de Santa Maria',\n",
       "  'El Viso del Alcor',\n",
       "  'Elancourt',\n",
       "  'Elche',\n",
       "  'Elda',\n",
       "  'Elgin',\n",
       "  'Elizabeth',\n",
       "  'Emmen',\n",
       "  'Empuriabrava',\n",
       "  'Ensenada',\n",
       "  'Entroncamento',\n",
       "  'Envigado',\n",
       "  'Erie',\n",
       "  'Erlangen',\n",
       "  'Errenteria',\n",
       "  'Esher',\n",
       "  'Esparreguera',\n",
       "  'Espartinas',\n",
       "  'Espinardo',\n",
       "  'Espinho',\n",
       "  'Espoo',\n",
       "  'Essen',\n",
       "  'Estacion de Cartama',\n",
       "  'Estella',\n",
       "  'Estepa',\n",
       "  'Estepona',\n",
       "  'Estoril',\n",
       "  'Etterbeek',\n",
       "  'Eusebio',\n",
       "  'Evanston',\n",
       "  'Evere',\n",
       "  'Evora',\n",
       "  'Eysines',\n",
       "  'Fagaras',\n",
       "  'Fairland',\n",
       "  'Faisalabad',\n",
       "  'Fajardo',\n",
       "  'Faridabad',\n",
       "  'Farnham',\n",
       "  'Faro',\n",
       "  'Federal Way',\n",
       "  'Felgueiras',\n",
       "  'Fes',\n",
       "  'Figueira da Foz',\n",
       "  'Finsterwalde',\n",
       "  'Fiumicino',\n",
       "  'Flekkefjord Municipality',\n",
       "  'Flic en Flac',\n",
       "  'Florence',\n",
       "  'Florencio Varela',\n",
       "  'Florianopolis',\n",
       "  'Florida',\n",
       "  'Floridablanca',\n",
       "  'Focsani',\n",
       "  'Forest',\n",
       "  'Forli',\n",
       "  'Formosa',\n",
       "  'Forst',\n",
       "  'Fort Collins',\n",
       "  'Fort Lauderdale',\n",
       "  'Fort Myers',\n",
       "  'Fort Wayne',\n",
       "  'Fort Worth',\n",
       "  'Fort-de-France',\n",
       "  'Foster City',\n",
       "  'Four Corners',\n",
       "  'Foxborough',\n",
       "  'Frankfurt',\n",
       "  'Franklin',\n",
       "  'Frederikssund',\n",
       "  'Freiburg im Breisgau',\n",
       "  'Fresno',\n",
       "  'Fribourg',\n",
       "  'Friedrichshafen',\n",
       "  'Fritzlar',\n",
       "  'Fuenlabrada',\n",
       "  'Fujairah',\n",
       "  'Fukuoka',\n",
       "  'Fulshear',\n",
       "  'Funchal',\n",
       "  'Gainesville',\n",
       "  'Gaithersburg',\n",
       "  'Gandia',\n",
       "  'Garbsen',\n",
       "  'Garching',\n",
       "  'Garcia',\n",
       "  'Gardena',\n",
       "  'Gdansk',\n",
       "  'Geel',\n",
       "  'Gelang Patah',\n",
       "  'Gelsenkirchen',\n",
       "  'General Escobedo',\n",
       "  'General Pico',\n",
       "  'Geneva',\n",
       "  'Genoa',\n",
       "  'Georgetown',\n",
       "  'Georgsmarienhutte',\n",
       "  'Getafe',\n",
       "  'Ghent',\n",
       "  'Gibraltar',\n",
       "  'Giessen',\n",
       "  'Gijon',\n",
       "  'Girardota',\n",
       "  'Girona',\n",
       "  'Giurgiu',\n",
       "  'Gland',\n",
       "  'Glasgow',\n",
       "  'Glen Allen',\n",
       "  'Goiania',\n",
       "  'Goose Creek',\n",
       "  'Gorzow Wielkopolski',\n",
       "  'Gotha',\n",
       "  'Gothenburg',\n",
       "  'Granada',\n",
       "  'Grand Prairie',\n",
       "  'Granollers',\n",
       "  'Grau i Platja',\n",
       "  'Gravesend',\n",
       "  'Graz',\n",
       "  'Greensboro',\n",
       "  'Gregorio de Laferrere',\n",
       "  'Greifensee',\n",
       "  'Grenoble',\n",
       "  'Grimbergen',\n",
       "  'Groningen',\n",
       "  'Groton',\n",
       "  'Grugliasco',\n",
       "  'Guadalajara',\n",
       "  'Guadalupe',\n",
       "  'Gualeguaychu',\n",
       "  'Guamuchil',\n",
       "  'Guarda',\n",
       "  'Guatemala City',\n",
       "  'Guayana City',\n",
       "  'Guaymas',\n",
       "  'Guimaraes',\n",
       "  'Gurgaon',\n",
       "  'Guyancourt',\n",
       "  'Haarlem',\n",
       "  'Hacienda Santa Fe',\n",
       "  'Haderslev',\n",
       "  'Hagen',\n",
       "  'Halden Municipality',\n",
       "  'Halton Hills',\n",
       "  'Hamburg',\n",
       "  'Hangzhou',\n",
       "  'Hanoi',\n",
       "  'Hanover',\n",
       "  'Harmanli',\n",
       "  'Harrogate',\n",
       "  'Hassi Messaoud',\n",
       "  'Hassleholm',\n",
       "  'Haugesund Municipality',\n",
       "  'Havana',\n",
       "  'Haverfordwest',\n",
       "  'Haverhill',\n",
       "  'Hechtel-Eksel',\n",
       "  'Hedehusene',\n",
       "  'Heerhugowaard',\n",
       "  'Heilbronn',\n",
       "  'Heinsberg',\n",
       "  'Helmond',\n",
       "  'Helmstedt',\n",
       "  'Helsinki',\n",
       "  'Hemel Hempstead',\n",
       "  'Hemet',\n",
       "  'Hendaye',\n",
       "  'Hengelo',\n",
       "  'Heraklion',\n",
       "  'Herceg Novi',\n",
       "  'Heredia',\n",
       "  'Hermosillo',\n",
       "  'Hernani',\n",
       "  'Heroica Veracruz',\n",
       "  'Herzogenaurach',\n",
       "  'Herzogenrath',\n",
       "  'Hialeah',\n",
       "  'Hickory',\n",
       "  'Highland Park',\n",
       "  'Hilversum',\n",
       "  'Ho Chi Minh City',\n",
       "  'Hoboken',\n",
       "  'Hofheim',\n",
       "  'Hollywood',\n",
       "  'Holzkirchen',\n",
       "  'Homestead',\n",
       "  'Horizon City',\n",
       "  'Horlivka',\n",
       "  'Houston',\n",
       "  'Hradec Kralove',\n",
       "  'Huamantla',\n",
       "  'Huancayo',\n",
       "  'Huaraz',\n",
       "  'Huddinge',\n",
       "  'Huejotzingo',\n",
       "  'Huelva',\n",
       "  'Huesca',\n",
       "  'Humacao',\n",
       "  'Humanes de Madrid',\n",
       "  'Ibague',\n",
       "  'Ibiza',\n",
       "  'Idyllwild-Pine Cove',\n",
       "  'Iesi',\n",
       "  'Iguala',\n",
       "  'Igualada',\n",
       "  'Ilhavo',\n",
       "  'Illescas',\n",
       "  'Inca',\n",
       "  'Indianapolis',\n",
       "  'Ingelheim am Rhein',\n",
       "  'Ingolstadt',\n",
       "  'Ipoh',\n",
       "  'Ipswich',\n",
       "  'Iquique',\n",
       "  'Irapuato',\n",
       "  \"Irpin'\",\n",
       "  'Irun',\n",
       "  'Irvine',\n",
       "  'Irving',\n",
       "  'Isfahan',\n",
       "  'Isidro Casanova',\n",
       "  'Istanbul',\n",
       "  'Itagui',\n",
       "  'Ituzaingo',\n",
       "  'Itzehoe',\n",
       "  'Ivano-Frankivsk',\n",
       "  'Ixtapaluca',\n",
       "  'Izmir',\n",
       "  'Izyum',\n",
       "  'Jacksonville',\n",
       "  'Jaen',\n",
       "  'Jakarta',\n",
       "  'Jasmine Estates',\n",
       "  'Jeddah',\n",
       "  'Jerez de la Frontera',\n",
       "  'Jersey City',\n",
       "  'Jilotepec de Molina Enriquez',\n",
       "  'Jiutepec',\n",
       "  'Johannesburg',\n",
       "  'Jose C. Paz',\n",
       "  'Juarez',\n",
       "  'Juchitan de Zaragoza',\n",
       "  'Juliaca',\n",
       "  'Junin',\n",
       "  'Juriquilla',\n",
       "  'Justiniano Posse',\n",
       "  'Kadoma',\n",
       "  'Kaiserslautern',\n",
       "  'Kalush',\n",
       "  'Kanasin',\n",
       "  'Kansas City',\n",
       "  'Karachi',\n",
       "  'Karlsruhe',\n",
       "  'Kassel',\n",
       "  'Katowice',\n",
       "  'Katy',\n",
       "  'Kaunas',\n",
       "  'Kaysville',\n",
       "  'Kazanluk',\n",
       "  'Kendall',\n",
       "  'Kendall West',\n",
       "  'Kenitra',\n",
       "  'Kerava',\n",
       "  'Key Biscayne',\n",
       "  'Kiel',\n",
       "  'Kilchberg',\n",
       "  'King of Prussia',\n",
       "  'Kingsburg',\n",
       "  'Kingston',\n",
       "  'Kingston upon Hull',\n",
       "  'Kinshasa',\n",
       "  'Kirsehir',\n",
       "  'Kiskunlachaza',\n",
       "  'Kissimmee',\n",
       "  'Klaipeda',\n",
       "  'Klatovy',\n",
       "  'Kleinmachnow',\n",
       "  'Koblenz',\n",
       "  'Konin',\n",
       "  'Kontich',\n",
       "  'Korschenbroich',\n",
       "  'Kortrijk',\n",
       "  'Koto City',\n",
       "  'Kozienice',\n",
       "  'Krakow',\n",
       "  'Kryvyi Rih',\n",
       "  'Kuala Lumpur',\n",
       "  'Kussnacht',\n",
       "  'Kyiv',\n",
       "  'Kyle',\n",
       "  \"L'Escala\",\n",
       "  \"L'Hospitalet de Llobregat\",\n",
       "  \"L'Hospitalet de l'Infant\",\n",
       "  'La Canada',\n",
       "  'La Canyada',\n",
       "  'La Carolina',\n",
       "  'La Ceja',\n",
       "  'La Chorrera',\n",
       "  'La Crucecita',\n",
       "  'La Linea de la Concepcion',\n",
       "  'La Paz',\n",
       "  'La Plata',\n",
       "  'La Rioja',\n",
       "  'La Romana',\n",
       "  'La Serena',\n",
       "  'La Tablada',\n",
       "  'La Victoria',\n",
       "  'Lagos',\n",
       "  'Lagos de Moreno',\n",
       "  'Lahore',\n",
       "  'Lakewood',\n",
       "  'Lancaster',\n",
       "  'Lancy',\n",
       "  'Landstuhl',\n",
       "  'Langenhagen',\n",
       "  'Langreo',\n",
       "  'Lanus Oeste',\n",
       "  'Laredo',\n",
       "  'Larnaca',\n",
       "  'Las Arenas',\n",
       "  'Las Cruces',\n",
       "  'Las Palmas de Gran Canaria',\n",
       "  'Las Rozas de Madrid',\n",
       "  'Las Vegas',\n",
       "  'Laudio',\n",
       "  'Lausanne',\n",
       "  'Lawrence Township',\n",
       "  'Lawrenceville',\n",
       "  'Layton',\n",
       "  'Le Plessis-Robinson',\n",
       "  'Leacock-Leola-Bareville',\n",
       "  'Leander',\n",
       "  'Leatherhead',\n",
       "  'Lebrija',\n",
       "  'Lecce',\n",
       "  'Lecco',\n",
       "  'Leeds',\n",
       "  'Leesburg',\n",
       "  'Leganes',\n",
       "  'Legnano',\n",
       "  'Lehi',\n",
       "  'Lehrte',\n",
       "  'Leiden',\n",
       "  'Leioa',\n",
       "  'Leipzig',\n",
       "  'Leiria',\n",
       "  'Leon',\n",
       "  'Lepe',\n",
       "  'Lerma de Villada',\n",
       "  'Leverkusen',\n",
       "  'Lexington',\n",
       "  'Libertad',\n",
       "  'Liege',\n",
       "  'Liestal',\n",
       "  'Lille',\n",
       "  'Lillehammer Municipality',\n",
       "  'Lillerod',\n",
       "  'Limassol',\n",
       "  'Limerick',\n",
       "  'Linares',\n",
       "  'Linz',\n",
       "  'Lisbon',\n",
       "  'Lisle',\n",
       "  'Lisse',\n",
       "  'Little Rock',\n",
       "  'Liverpool',\n",
       "  'Lleida',\n",
       "  'Llucmajor',\n",
       "  'Lodz',\n",
       "  'Logrono',\n",
       "  'Loja',\n",
       "  'Lomas de Zamora',\n",
       "  'Lomas del Mirador',\n",
       "  'Lome',\n",
       "  'London',\n",
       "  'Londrina',\n",
       "  'Long Beach',\n",
       "  'Lorca',\n",
       "  'Lorrach',\n",
       "  'Los Andes',\n",
       "  'Los Angeles',\n",
       "  'Los Mochis',\n",
       "  'Los Palacios y Villafranca',\n",
       "  'Los Teques',\n",
       "  'Lota',\n",
       "  'Loule',\n",
       "  'Lowell',\n",
       "  'Lowicz',\n",
       "  'Lubeck',\n",
       "  'Lublin',\n",
       "  'Lucena',\n",
       "  'Lucerne',\n",
       "  'Ludres',\n",
       "  'Lugano',\n",
       "  'Lugo',\n",
       "  'Lujan',\n",
       "  'Lund',\n",
       "  'Luneburg',\n",
       "  'Luxembourg',\n",
       "  'Lviv',\n",
       "  'Lynnwood',\n",
       "  'Lyon',\n",
       "  'Maastricht',\n",
       "  'Mabank',\n",
       "  'Machala',\n",
       "  'Macuspana',\n",
       "  'Madera',\n",
       "  'Madrid',\n",
       "  'Mahon',\n",
       "  'Maia',\n",
       "  'Maidenhead',\n",
       "  'Mainz',\n",
       "  'Mairena del Alcor',\n",
       "  'Mairena del Aljarafe',\n",
       "  'Makati',\n",
       "  'Makhachkala',\n",
       "  'Malaga',\n",
       "  'Malbork',\n",
       "  'Malden',\n",
       "  'Malibu',\n",
       "  'Malmo',\n",
       "  'Mamaroneck',\n",
       "  'Manacor',\n",
       "  'Managua',\n",
       "  'Manama',\n",
       "  'Mancha Real',\n",
       "  'Manchester',\n",
       "  'Manila',\n",
       "  'Manizales',\n",
       "  'Manlleu',\n",
       "  'Mannheim',\n",
       "  'Manosque',\n",
       "  'Manta',\n",
       "  'Manteca',\n",
       "  'Mantes-la-Jolie',\n",
       "  'Manzanares',\n",
       "  'Manzanillo',\n",
       "  'Mar del Plata',\n",
       "  'Maracaibo',\n",
       "  'Maracay',\n",
       "  'Marbella',\n",
       "  'Marche-en-Famenne',\n",
       "  'Marfil',\n",
       "  'Margate',\n",
       "  'Maribor',\n",
       "  'Marietta',\n",
       "  'Marinha Grande',\n",
       "  'Marlow',\n",
       "  'Marrakesh',\n",
       "  'Marseille',\n",
       "  'Martigny',\n",
       "  'Martinez',\n",
       "  'Martos',\n",
       "  'Matamoros',\n",
       "  'Mataro',\n",
       "  'Matosinhos',\n",
       "  ...]]"
      ]
     },
     "execution_count": 34,
     "metadata": {},
     "output_type": "execute_result"
    }
   ],
   "source": [
    "data_root=\"../data/\"\n",
    "model_datafile=os.path.join(data_root,'no_carrito_no_pedido_df_2019_2020_jan21.csv')\n",
    "model_data=pd.read_csv(model_datafile)\n",
    "cities=[sorted(tuple(model_data['ga:city'].unique()))]\n",
    "cities"
   ]
  },
  {
   "cell_type": "code",
   "execution_count": 35,
   "id": "accredited-compatibility",
   "metadata": {},
   "outputs": [],
   "source": [
    "# Importing library\n",
    "import csv\n",
    "  \n",
    "# opening the csv file in 'w+' mode\n",
    "file = open(data_root+'cities.csv', 'w+',newline='')\n",
    "  \n",
    "# writing the data into the file\n",
    "with file:    \n",
    "    write = csv.writer(file)\n",
    "    write.writerows(cities)"
   ]
  },
  {
   "cell_type": "code",
   "execution_count": 36,
   "id": "bulgarian-dynamics",
   "metadata": {},
   "outputs": [
    {
     "name": "stdout",
     "output_type": "stream",
     "text": [
      "[['(not set)', '6th of October City', 'A Coruna', 'Aachen', 'Aalst', 'Aarhus', 'Aberdeen', 'Abha', 'Abidjan', 'Abu Dhabi', 'Acapulco', 'Accra', 'Acharnes', 'Acireale', 'Adana', 'Adeje', 'Adelaide', 'Adliswil', 'Admont', 'Adra', 'Adrogue', 'Affoltern am Albis', 'Agen', 'Agoura Hills', 'Agropoli', 'Aguachica', 'Aguadulce', 'Aguascalientes', 'Aguilas', 'Aidlingen', 'Aix-les-Bains', 'Ajax', 'Alajuela', 'Albacete', 'Albertville', 'Albufeira', 'Alcala de Guadaira', 'Alcala de Henares', 'Alcantarilla', 'Alcazar de San Juan', 'Alcobendas', 'Alcoi', 'Alcorcon', 'Aldershot', 'Ales', 'Alexandria', 'Alexandroupoli', 'Algeciras', 'Algete', 'Alghero', 'Alginet', 'Algueirao–Mem Martins', 'Alhama de Murcia', 'Alhaurin de la Torre', 'Alhaurin el Grande', 'Alicante', 'Alimos', 'Alkmaar', 'Allauch', 'Allentown', 'Almada', 'Almansa', 'Almaty', 'Almendralejo', 'Almere', 'Almeria', 'Almirante Tamandare', 'Almont', 'Almoradi', 'Alpharetta', 'Alsfeld', 'Altadena', 'Altamira', 'Altea', 'Alton', 'Altrincham', 'Alverca do Ribatejo', 'Alzira', 'Amadora', 'Ambato', 'Ameca', 'Americana', 'Amstelveen', 'Amsterdam', 'Anaheim', 'Ancud', 'Anderlecht', 'Andoain', 'Andujar', 'Angelholm', 'Angers', 'Anglet', 'Angra do Heroismo', 'Annecy', 'Antalya', 'Antofagasta', 'Antwerp', 'Apatzingan', 'Apizaco', 'Appleton', 'Arad', 'Aranda de Duero', 'Arandas', 'Aranjuez', 'Archena', 'Arcos de la Frontera', 'Arecibo', 'Arequipa', 'Arezzo', 'Arganda del Rey', 'Arica', 'Arjona', 'Arlington', 'Arlington Heights', 'Arlon', 'Armenia', 'Arnedo', 'Arona', 'Arrasate', 'Arrecife', 'Arundel', 'As Pontes de Garcia Rodriguez', 'Asbury Park', 'Ash Vale', 'Ashburn', 'Asker Municipality', 'Asnieres-sur-Seine', 'Asuncion', 'Ath', 'Athens', 'Atizapan de Zaragoza', 'Atlacomulco', 'Atlanta', 'Aubenas', 'Auckland', 'Auderghem', 'Augsburg', 'Aulnay-sous-Bois', 'Austin', 'Aveiro', 'Avellaneda', 'Aversa', 'Avila\\u200e', 'Aviles', 'Avon', 'Azul', 'Azuqueca de Henares', 'Baak', 'Baar', 'Bad Berleburg', 'Bad Hersfeld', 'Bad Neuenahr-Ahrweiler', 'Badajoz', 'Badalona', 'Baerum', 'Baghdad', 'Bagneux', 'Bahia Blanca', 'Bailen', 'Bakersfield', 'Baku', 'Balcarce', 'Bamble', 'Banfield', 'Bang Nam Chuet', 'Bangkok', 'Banska Bystrica', 'Barbastro', 'Barcelona', 'Bari', 'Barinas', 'Barlinek', 'Barquisimeto', 'Barranquilla', 'Barre', 'Barry', 'Basauri', 'Basel', 'Basingstoke', 'Battipaglia', 'Bay Lake', 'Bayamon', 'Bayonne', 'Baza', 'Beasain', 'Beaumont', 'Beccar', 'Beijing', 'Beirut', 'Beja', 'Bejar', 'Belen de Escobar', 'Belgrade', 'Bellevue', 'Bello', 'Belo Horizonte', 'Benavente', 'Bengaluru', 'Benghazi', 'Benicarlo', 'Benidorm', 'Benin City', 'Berazategui', 'Berga', 'Bergara', 'Berkel en Rodenrijs', 'Berlin', 'Bermeo', 'Bern', 'Bessemer', 'Bethesda', 'Bettembourg', 'Beziers', 'Bialystok', 'Biarritz', 'Bietigheim-Bissingen', 'Bilbao', 'Birmingham', 'Blacksburg', 'Bletchley', 'Blois', 'Bloomfield', 'Blue Ash', 'Boardman', 'Boblingen', 'Bodo Municipality', 'Boekel', 'Bogota', 'Boise', 'Bollullos Par del Condado', 'Bologna', 'Bolzano', 'Bombinhas', 'Bonn', 'Bordeaux', 'Borriana', 'Boston', 'Boulogne', 'Boulogne-Billancourt', 'Boulogne-sur-Mer', 'Bountiful', 'Bourg-Saint-Maurice', 'Bournemouth', 'Boyarka', 'Boydton', 'Boynton Beach', 'Bradford', 'Braga', 'Braganca Paulista', 'Braine-le-Comte', 'Brande', 'Brandon', 'Brasilia', 'Brasov', 'Bratislava', 'Bray', 'Breda', 'Bregenz', 'Brenes', 'Brescia', 'Bridgwater', 'Brighton', 'Brisbane', 'Bristol', 'Brno', 'Brockton', 'Brossard', 'Bruges', 'Brugg', 'Brunswick', 'Brussels', 'Bucaramanga', 'Bucerias', 'Bucharest', 'Budapest', 'Buenaventura', 'Buenavista', 'Buenos Aires', 'Buffalo', 'Burgos', 'Bursa', 'Burton upon Trent', 'Bury', 'Burzaco', 'Busan', 'Cabo Frio', 'Cabo San Lucas', 'Caceres\\u200e', 'Cadiz', 'Cagliari', 'Cairns', 'Cairo', 'Cajamarca', 'Cakovec', 'Calahorra', 'Calama', 'Calarasi', 'Calgary', 'Cali', 'Callao', 'Callosa de Segura', 'Camargo', 'Camas', 'Cambridge', 'Campana', 'Campeche', 'Campinas', 'Cancun', 'Canton', 'Cao Lanh', 'Cape Town', 'Capelle aan den IJssel', 'Caracas', 'Carcaixent', 'Cardedeu', 'Cardiff', 'Carlow', 'Carlsbad', 'Carmona', 'Carolina', 'Carora', 'Carpi', 'Carregado', 'Cartagena', 'Cartago', 'Carupano', 'Casablanca', 'Cascais', 'Caseros', 'Castelar', 'Castellbisbal', 'Castellon de la Plana', 'Castelo Branco', 'Castro', 'Castro Urdiales', 'Catamarca', 'Catania', 'Catemaco', \"Cava de' Tirreni\", 'Cebu City', 'Cehegin', 'Celaya', 'Centenario', 'Cernusco sul Naviglio', 'Cerro de Pasco', 'Cesano Maderno', 'Ceuta', 'Ceuti', 'Chacabuco', 'Chamonix', 'Charleroi', 'Charleston', 'Charlotte', 'Charlottesville', 'Chatou', 'Checy', 'Chelles', 'Chennai', 'Cherbourg-Octeville', 'Chernihiv', 'Chernivtsi', 'Chester', 'Chetumal', 'Cheyenne', 'Chia', 'Chiapa de Corzo', 'Chiautempan', 'Chicago', 'Chiclana de la Frontera', 'Chicoloapan de Juarez', 'Chignahuapan', 'Chihuahua', 'Chillan', 'Chilpancingo', 'Chimalhuacan', 'Chipiona', 'Chisinau', 'Chivilcoy', 'Chlef', 'Cholula', 'Chula Vista', 'Chur', 'Cienaga de Oro', 'Cigales DO', 'Cincinnati', 'Cinisello Balsamo', 'Cipolletti', 'Ciudad Apodaca', 'Ciudad Cuauhtemoc', 'Ciudad Guzman', 'Ciudad Hidalgo', 'Ciudad Juarez', 'Ciudad Lopez Mateos', 'Ciudad Nezahualcoyotl', 'Ciudad Obregon', 'Ciudad Real', 'Ciudad Rodrigo', 'Ciudad Victoria', 'Ciudad de Allende', 'Ciudad del Carmen', 'Ciudadela', 'Cle Elum', 'Clearwater', 'Clermont', 'Clermont-Ferrand', 'Cleveland', 'Clichy', 'Clifton', 'Coacalco', 'Coachella', 'Coatepec', 'Coatzacoalcos', 'Cochabamba', 'Codazzi', 'Coffeyville', 'Coimbra', 'Colmenar Viejo', 'Cologne', 'Columbia', 'Columbus', 'Como', 'Comodoro Rivadavia', 'Comonfort', 'Compiegne', 'Conakry', 'Concepcion', 'Concepcion del Uruguay', 'Concordia', 'Consuegra', 'Copacabana', 'Copenhagen', 'Copiapo', 'Coppell', 'Coquimbo', 'Coral Gables', 'Coral Terrace', 'Cordoba', 'Coria del Rio', 'Cork', 'Coronel', 'Corrientes', 'Coslada', 'Cosoleacaque', 'Coueron', 'Courbevoie', 'Coventry', 'Covilha', 'Coyhaique', 'Craiova', 'Crawley', 'Creil', 'Cremona', 'Creteil', 'Crevillent', 'Crewe', 'Croydon', 'Cuautitlan', 'Cuautitlan Izcalli', 'Cuautla', 'Cucuta', 'Cuenca', 'Cuernavaca', 'Culiacan', 'Curico', 'Curitiba', 'Cusco', 'Cutler Bay', 'Cypress', 'Czarnkow', 'Da Nang', 'Dachau', 'Dahlonega', 'Dakar', 'Dallas', 'Dammam', 'Danbury', 'Dar es Salaam', 'Dartford', 'David', 'Davis', 'Dayton', 'De Haan', 'Delft', 'Delhi', 'Delicias', 'Deltebre', 'Dendermonde', 'Denia', 'Denizli', 'Dentsville', 'Denver', 'Derby', 'Derry', 'Des Moines', 'Deventer', 'Dhahran', 'Dhaka', 'Dijon', 'Dilsen-Stokkem', 'Ditzingen', 'Dnipro', 'Doha', 'Don Benito', 'Doncaster', 'Donostia-San Sebastian', 'Dorado', 'Doral', 'Dortmund', 'Dosquebradas', 'Douala', 'Drachten', 'Dreieich', 'Dresden', 'Dronninglund', 'Dubai', 'Dubendorf', 'Dublin', 'Dudelange', 'Dundalk', 'Dunfermline', 'Durango', 'Durgapur', 'Durham', 'Dushanbe', 'Dusseldorf', 'Eagan', 'Eagle Mountain', 'East Farmingdale', 'East Kilbride', 'Eastbourne', 'Ecatepec', 'Eckernforde', 'Ede', 'Eden Prairie', 'Edenvale', 'Edinburgh', 'Edison', 'Edmonton', 'Eibar', 'Eindhoven', 'El Ejido', 'El Palomar', 'El Paso', 'El Prat de Llobregat', 'El Puerto de Santa Maria', 'El Viso del Alcor', 'Elancourt', 'Elche', 'Elda', 'Elgin', 'Elizabeth', 'Emmen', 'Empuriabrava', 'Ensenada', 'Entroncamento', 'Envigado', 'Erie', 'Erlangen', 'Errenteria', 'Esher', 'Esparreguera', 'Espartinas', 'Espinardo', 'Espinho', 'Espoo', 'Essen', 'Estacion de Cartama', 'Estella', 'Estepa', 'Estepona', 'Estoril', 'Etterbeek', 'Eusebio', 'Evanston', 'Evere', 'Evora', 'Eysines', 'Fagaras', 'Fairland', 'Faisalabad', 'Fajardo', 'Faridabad', 'Farnham', 'Faro', 'Federal Way', 'Felgueiras', 'Fes', 'Figueira da Foz', 'Finsterwalde', 'Fiumicino', 'Flekkefjord Municipality', 'Flic en Flac', 'Florence', 'Florencio Varela', 'Florianopolis', 'Florida', 'Floridablanca', 'Focsani', 'Forest', 'Forli', 'Formosa', 'Forst', 'Fort Collins', 'Fort Lauderdale', 'Fort Myers', 'Fort Wayne', 'Fort Worth', 'Fort-de-France', 'Foster City', 'Four Corners', 'Foxborough', 'Frankfurt', 'Franklin', 'Frederikssund', 'Freiburg im Breisgau', 'Fresno', 'Fribourg', 'Friedrichshafen', 'Fritzlar', 'Fuenlabrada', 'Fujairah', 'Fukuoka', 'Fulshear', 'Funchal', 'Gainesville', 'Gaithersburg', 'Gandia', 'Garbsen', 'Garching', 'Garcia', 'Gardena', 'Gdansk', 'Geel', 'Gelang Patah', 'Gelsenkirchen', 'General Escobedo', 'General Pico', 'Geneva', 'Genoa', 'Georgetown', 'Georgsmarienhutte', 'Getafe', 'Ghent', 'Gibraltar', 'Giessen', 'Gijon', 'Girardota', 'Girona', 'Giurgiu', 'Gland', 'Glasgow', 'Glen Allen', 'Goiania', 'Goose Creek', 'Gorzow Wielkopolski', 'Gotha', 'Gothenburg', 'Granada', 'Grand Prairie', 'Granollers', 'Grau i Platja', 'Gravesend', 'Graz', 'Greensboro', 'Gregorio de Laferrere', 'Greifensee', 'Grenoble', 'Grimbergen', 'Groningen', 'Groton', 'Grugliasco', 'Guadalajara', 'Guadalupe', 'Gualeguaychu', 'Guamuchil', 'Guarda', 'Guatemala City', 'Guayana City', 'Guaymas', 'Guimaraes', 'Gurgaon', 'Guyancourt', 'Haarlem', 'Hacienda Santa Fe', 'Haderslev', 'Hagen', 'Halden Municipality', 'Halton Hills', 'Hamburg', 'Hangzhou', 'Hanoi', 'Hanover', 'Harmanli', 'Harrogate', 'Hassi Messaoud', 'Hassleholm', 'Haugesund Municipality', 'Havana', 'Haverfordwest', 'Haverhill', 'Hechtel-Eksel', 'Hedehusene', 'Heerhugowaard', 'Heilbronn', 'Heinsberg', 'Helmond', 'Helmstedt', 'Helsinki', 'Hemel Hempstead', 'Hemet', 'Hendaye', 'Hengelo', 'Heraklion', 'Herceg Novi', 'Heredia', 'Hermosillo', 'Hernani', 'Heroica Veracruz', 'Herzogenaurach', 'Herzogenrath', 'Hialeah', 'Hickory', 'Highland Park', 'Hilversum', 'Ho Chi Minh City', 'Hoboken', 'Hofheim', 'Hollywood', 'Holzkirchen', 'Homestead', 'Horizon City', 'Horlivka', 'Houston', 'Hradec Kralove', 'Huamantla', 'Huancayo', 'Huaraz', 'Huddinge', 'Huejotzingo', 'Huelva', 'Huesca', 'Humacao', 'Humanes de Madrid', 'Ibague', 'Ibiza', 'Idyllwild-Pine Cove', 'Iesi', 'Iguala', 'Igualada', 'Ilhavo', 'Illescas', 'Inca', 'Indianapolis', 'Ingelheim am Rhein', 'Ingolstadt', 'Ipoh', 'Ipswich', 'Iquique', 'Irapuato', \"Irpin'\", 'Irun', 'Irvine', 'Irving', 'Isfahan', 'Isidro Casanova', 'Istanbul', 'Itagui', 'Ituzaingo', 'Itzehoe', 'Ivano-Frankivsk', 'Ixtapaluca', 'Izmir', 'Izyum', 'Jacksonville', 'Jaen', 'Jakarta', 'Jasmine Estates', 'Jeddah', 'Jerez de la Frontera', 'Jersey City', 'Jilotepec de Molina Enriquez', 'Jiutepec', 'Johannesburg', 'Jose C. Paz', 'Juarez', 'Juchitan de Zaragoza', 'Juliaca', 'Junin', 'Juriquilla', 'Justiniano Posse', 'Kadoma', 'Kaiserslautern', 'Kalush', 'Kanasin', 'Kansas City', 'Karachi', 'Karlsruhe', 'Kassel', 'Katowice', 'Katy', 'Kaunas', 'Kaysville', 'Kazanluk', 'Kendall', 'Kendall West', 'Kenitra', 'Kerava', 'Key Biscayne', 'Kiel', 'Kilchberg', 'King of Prussia', 'Kingsburg', 'Kingston', 'Kingston upon Hull', 'Kinshasa', 'Kirsehir', 'Kiskunlachaza', 'Kissimmee', 'Klaipeda', 'Klatovy', 'Kleinmachnow', 'Koblenz', 'Konin', 'Kontich', 'Korschenbroich', 'Kortrijk', 'Koto City', 'Kozienice', 'Krakow', 'Kryvyi Rih', 'Kuala Lumpur', 'Kussnacht', 'Kyiv', 'Kyle', \"L'Escala\", \"L'Hospitalet de Llobregat\", \"L'Hospitalet de l'Infant\", 'La Canada', 'La Canyada', 'La Carolina', 'La Ceja', 'La Chorrera', 'La Crucecita', 'La Linea de la Concepcion', 'La Paz', 'La Plata', 'La Rioja', 'La Romana', 'La Serena', 'La Tablada', 'La Victoria', 'Lagos', 'Lagos de Moreno', 'Lahore', 'Lakewood', 'Lancaster', 'Lancy', 'Landstuhl', 'Langenhagen', 'Langreo', 'Lanus Oeste', 'Laredo', 'Larnaca', 'Las Arenas', 'Las Cruces', 'Las Palmas de Gran Canaria', 'Las Rozas de Madrid', 'Las Vegas', 'Laudio', 'Lausanne', 'Lawrence Township', 'Lawrenceville', 'Layton', 'Le Plessis-Robinson', 'Leacock-Leola-Bareville', 'Leander', 'Leatherhead', 'Lebrija', 'Lecce', 'Lecco', 'Leeds', 'Leesburg', 'Leganes', 'Legnano', 'Lehi', 'Lehrte', 'Leiden', 'Leioa', 'Leipzig', 'Leiria', 'Leon', 'Lepe', 'Lerma de Villada', 'Leverkusen', 'Lexington', 'Libertad', 'Liege', 'Liestal', 'Lille', 'Lillehammer Municipality', 'Lillerod', 'Limassol', 'Limerick', 'Linares', 'Linz', 'Lisbon', 'Lisle', 'Lisse', 'Little Rock', 'Liverpool', 'Lleida', 'Llucmajor', 'Lodz', 'Logrono', 'Loja', 'Lomas de Zamora', 'Lomas del Mirador', 'Lome', 'London', 'Londrina', 'Long Beach', 'Lorca', 'Lorrach', 'Los Andes', 'Los Angeles', 'Los Mochis', 'Los Palacios y Villafranca', 'Los Teques', 'Lota', 'Loule', 'Lowell', 'Lowicz', 'Lubeck', 'Lublin', 'Lucena', 'Lucerne', 'Ludres', 'Lugano', 'Lugo', 'Lujan', 'Lund', 'Luneburg', 'Luxembourg', 'Lviv', 'Lynnwood', 'Lyon', 'Maastricht', 'Mabank', 'Machala', 'Macuspana', 'Madera', 'Madrid', 'Mahon', 'Maia', 'Maidenhead', 'Mainz', 'Mairena del Alcor', 'Mairena del Aljarafe', 'Makati', 'Makhachkala', 'Malaga', 'Malbork', 'Malden', 'Malibu', 'Malmo', 'Mamaroneck', 'Manacor', 'Managua', 'Manama', 'Mancha Real', 'Manchester', 'Manila', 'Manizales', 'Manlleu', 'Mannheim', 'Manosque', 'Manta', 'Manteca', 'Mantes-la-Jolie', 'Manzanares', 'Manzanillo', 'Mar del Plata', 'Maracaibo', 'Maracay', 'Marbella', 'Marche-en-Famenne', 'Marfil', 'Margate', 'Maribor', 'Marietta', 'Marinha Grande', 'Marlow', 'Marrakesh', 'Marseille', 'Martigny', 'Martinez', 'Martos', 'Matamoros', 'Mataro', 'Matosinhos', 'Maturin', 'Mazatlan', 'Meadow Woods', 'Meaux', 'Medellin', 'Medias', 'Mejorada del Campo', 'Melbourne', 'Melchor Ocampo', 'Melilla', \"Melitopol'\", 'Melville', 'Memphis', 'Mendoza', 'Menlo Park', 'Merida', 'Merlo', 'Mersin', 'Mesquite', 'Messina', 'Metepec', 'Methuen', 'Metz', 'Mexicali', 'Mexico City', 'Miami', 'Miami Gardens', 'Miami Shores', 'Midlothian', 'Milan', 'Milazzo', 'Milford', 'Millau', 'Milwaukee', 'Minneapolis', 'Minsk', 'Miskolc', 'Mission', 'Mixquiahuala', 'Mocoa', 'Modena', 'Modugno', 'Mogi das Cruzes', 'Molina de Segura', 'Molins de Rei', 'Mollet del Valles', 'Mollina', 'Moncada', 'Monchengladbach', 'Monclova', 'Mons', 'Mont-de-Marsan', 'Montargis', 'Monte Grande', 'Montebelluna', 'Montemorelos', 'Montequinto', 'Monteria', 'Monterrey', 'Montesilvano', 'Montevideo', 'Montijo', 'Montilla', 'Montpellier', 'Montreal', 'Monza', 'Monzon', 'Morelia', 'Moreno', 'Morges', 'Moron', 'Moron de la Frontera', 'Moscow', 'Mostar', 'Mostoles', 'Motril', 'Mougins', 'Mountain View', 'Mouscron', 'Muhlhausen', 'Mulheim', 'Mullingar', 'Mumbai', 'Mungia', 'Munich', 'Municipality of Kumanovo', 'Munro', 'Munster', 'Murcia', 'Murten', 'Musselburgh', 'Mykolaiv', \"N'Djamena\", 'Naaldwijk', 'Nador', 'Nairobi', 'Nakhon Pathom', 'Nangis', 'Nanterre', 'Naples', 'Naron', 'Nashville', 'Natal', 'Naucalpan de Juarez', 'Navalcarnero', 'Navalmoral de la Mata', 'Navojoa', 'Needham', 'Neiva', 'Neu-Ulm', 'Neubrandenburg', 'Neuchatel', 'Neuenburg am Rhein', 'Neuilly-sur-Seine', 'Neuquen', 'New Brunswick', 'New Cairo City', 'New Castle', 'New Delhi', 'New Milford', 'New Orleans', 'New York', 'Newark', 'Newburgh', 'Newcastle upon Tyne', 'Newfane', 'Newquay', 'Newton Aycliffe', 'Nice', 'Nidderau', 'Nijmegen', 'Nimes', 'Nis', 'Nizhny Novgorod', 'Nogales', 'Noordwijkerhout', 'Norderstedt', 'North Bergen', 'North Creek', 'North Miami Beach', 'North Richland Hills', 'Nottingham', 'Nova Friburgo', 'Nove Zamky', 'Novelda', 'Novi Sad', 'Novosibirsk', 'Nuestra Senora de La Paz', 'Nuevo Laredo', 'Nuremberg', 'Nyirbator', 'Oak Ridge', 'Oaks', 'Oakville', 'Oaxaca', 'Obera', 'Ocana', 'Ocotlan', 'Ocoyoacac', 'Odessa', 'Oegstgeest', 'Oggiono', 'Olavarria', 'Olinda', 'Oliva', 'Olivos', 'Olney', 'Olten', 'Oltrona di San Mamette', 'Omaha', 'Onati', 'Oncativo', 'Onda', 'Ontario', 'Oost-, West- en Middelbeers', 'Oradea', 'Orihuela', 'Orizaba', 'Orlando', 'Oropesa del Mar', 'Oruro', 'Osaka', 'Oschatz', 'Osimo', 'Oslo Municipality', 'Osorno', 'Ostend', 'Ostermundigen', 'Ostfildern', 'Oswego', 'Oujda', 'Oullins', 'Oulu', 'Ourense', 'Ovalle', 'Oviedo', 'Oxford', 'Pa Tong', 'Pachuca', 'Padua', 'Paipa', 'Palencia', 'Palermo', 'Palm City', 'Palma', 'Palma del Rio', 'Palmas', 'Palmela', 'Palmira', 'Palo Alto', 'Palpala', 'Pamplona', 'Panama City', 'Pantin', 'Papillion', 'Parabiago', 'Paracuellos de Jarama', 'Paraiso', 'Parana', 'Paris', 'Parla', 'Parma', 'Parral', 'Pasadena', 'Pasto', 'Paterna', 'Paterson', 'Patna', 'Pau', 'Pavlovsky Posad', 'Pembroke Pines', 'Pendleton', 'Peniscola', 'Penonome', 'Pensacola', 'Peoria', 'Peralta', 'Pereira', 'Pergamino', 'Peristeri', 'Perpignan', 'Perth', 'Pesaro', 'Peterborough', 'Petrer', 'Pflugerville', 'Pforzheim', 'Pfungstadt', 'Pfyn', 'Philadelphia', 'Phnom Penh', 'Phoenix', 'Piacenza', 'Piaseczno', 'Picnic Point-North Lynnwood', 'Piedecuesta', 'Pierrefitte-sur-Seine', 'Piestany', 'Pilar Centro', 'Pilar de la Horadada', 'Pinecrest', 'Pinto', 'Pireas', 'Pisa', 'Piscataway', 'Pittsburgh', 'Piura', 'Pivijay', 'Plaine Magnien', 'Plaisir', 'Plano', 'Plantation', 'Plasencia', 'Playa del Carmen', 'Pocheon-si', 'Podgorica', 'Polinya', 'Polotitlan de la Ilustracion', 'Pompano Beach', 'Ponferrada', 'Ponta Delgada', 'Pontevedra', 'Popayan', 'Port de Sagunt', 'Portalegre', 'Portimao', 'Portlaoise', 'Porto', 'Portoviejo', 'Portsmouth', 'Posadas', 'Povoa de Varzim', 'Powder Springs', 'Poza Rica', 'Poznan', 'Pozoblanco', 'Pozuelo de Alarcon', 'Prague', 'Prato', 'Pravia', 'Pregny-Chambesy', 'Pretoria', 'Princes Risborough', 'Pruszkow', 'Pryor', 'Pucol', 'Puebla', 'Puente Genil', 'Puerto La Cruz', 'Puerto Madryn', 'Puerto Montt', 'Puerto Penasco', 'Puerto Real', 'Puerto Vallarta', 'Puerto Varas', 'Puertollano', 'Pulawy', 'Pune', 'Puno', 'Punta Arenas', 'Pushkino', \"Quartu Sant'Elena\", 'Quesada', 'Quetzaltenango', 'Quezon City', 'Quillota', 'Quilmes', 'Quilpue', 'Quincy', 'Quito', 'Raamsdonksveer', 'Rabat', 'Radomsko', 'Raleigh', 'Ramos Mejia', 'Rancagua', 'Rawalpindi', 'Reading', 'Recife', 'Recklinghausen', 'Red Oak', 'Regensburg', 'Reggio Emilia', 'Rehovot', 'Reinach', 'Remscheid', 'Requena', 'Resistencia', 'Reus', 'Revere', 'Reykjavik', 'Reynosa', 'Ridgewood', 'Riga', 'Rijeka', 'Ringsaker', 'Rio Cuarto', 'Rio Gallegos', 'Rio Grande', 'Rio Grande City', 'Rio Tercero', 'Rio de Janeiro', 'Riohacha', 'Rishon LeTsiyon', 'Rivas-Vaciamadrid', 'River Edge', 'Riyadh', 'Roanne', 'Rochdale', 'Rochefort', 'Rochester', 'Rodez', 'Roermond', 'Roissy-en-Brie', 'Roissy-en-France', 'Rome', 'Ronda', 'Ronnenberg', 'Rosario', 'Rosarito', 'Roselle', 'Roselle Park', 'Roseville', 'Rossano Veneto', 'Rota', 'Rotterdam', 'Rovato', 'Royal Leamington Spa', 'Royse City', 'Rubi', 'Ruda Slaska', 'Rugby', 'Rungis', 'Sabadell', 'Sacramento', 'Sagunto', 'Sahagun City', 'Sahuayo', 'Saint Petersburg', 'Saint-Denis', 'Saint-Genis-Pouilly', 'Saint-Georges', 'Saint-Germain-en-Laye', 'Saint-Ghislain', 'Saint-Hilaire-de-Lusignan', 'Salamanca', 'Salaverry', 'Sale', 'Salerno', 'Salford', 'Salina Cruz', 'Salinas', 'Salisbury', 'Salou', 'Salt Lake City', 'Salta', 'Saltillo', 'Salvador', 'Samarate', 'San Agustin', 'San Antonio', 'San Benedetto del Tronto', 'San Benito', 'San Bernardino', 'San Carlos Nuevo Guaymas', 'San Cristobal', 'San Cristobal de La Laguna', 'San Diego', 'San Felipe', 'San Fernando', 'San Fernando de Henares', 'San Francisco', 'San Francisco Chimalpa', 'San Francisco Ocotlan', 'San Francisco Tlalcilalcalpan', 'San Francisco de Macoris', 'San Francisco del Rincon', 'San Giovanni in Persiceto', 'San Isidro', 'San Isidro de El General', 'San Jose', 'San Jose Guadalupe', 'San Jose del Cabo', 'San Juan', 'San Juan Cuautlancingo', 'San Juan de la Vega', 'San Juan de los Lagos', 'San Juan del Rio', 'San Justo', 'San Leandro', 'San Luis', 'San Luis Potosi', 'San Luis Rio Colorado', 'San Martin de la Vega', 'San Martino Buon Albergo', 'San Miguel', 'San Miguel Ajusco', 'San Miguel Zinacantepec', 'San Miguel de Allende', 'San Miguel de Tucuman', 'San Nicolas de los Garza', 'San Pablo Autopan', 'San Pablo de las Salinas', 'San Pedro Garza Garcia', 'San Pedro Sula', 'San Pedro de Alcantara', 'San Pedro de la Paz', 'San Rafael', 'San Salvador', 'San Sebastian de los Reyes', 'San Vicente', 'Sanctorum', 'Sandy Springs', 'Sanem', 'Sanremo', 'Sant Cugat del Valles', 'Sant Pere de Ribes', \"Sant Sadurni d'Anoia\", 'Santa Ana', 'Santa Catarina', 'Santa Clara', 'Santa Cruz de Tenerife', 'Santa Cruz de la Sierra', 'Santa Fe', 'Santa Lucia del Camino', 'Santa Maria Moyotzingo', 'Santa Pola', 'Santa Ponsa', 'Santa Rita', 'Santa Rosa', 'Santa Tecla', 'Santander', 'Santarem', 'Santiago', 'Santiago De Los Caballeros', 'Santiago de Compostela', 'Santiago de Queretaro', 'Santiago del Estero', 'Santo Andre', 'Santo Domingo', 'Santo Tirso', 'Santomera', 'Sao Cosme', 'Sao Domingos de Rana', 'Sao Joao da Madeira', 'Sao Paulo', 'Sao Tome', 'Sarandi', 'Sardinia', 'Sartrouville', 'Satu Mare', 'Savona', 'Savonlinna', 'Schaerbeek', 'Schaffhausen', 'Schiedam', 'Schio', 'Schwetzingen', 'Seattle', 'Segovia', 'Segre', 'Senden', 'Senigallia', 'Seoul', 'Sete Lagoas', 'Setubal Municipality', 'Seville', 'Shanghai', 'Sharjah', 'Shebeen El-Kom', 'Sheffield', 'Shenzhen', 'Shepparton - Mooroopna', 'Sialkot', 'Sibiu', 'Silao', 'Silkeborg', 'Sincelejo', 'Sindelfingen', 'Sines', 'Singapore', 'Sinking Spring', 'Sint-Jans-Molenbeek', 'Sintra', 'Slatina', 'Slough', 'Smyrna', 'Sochi', 'Soest', 'Sofia', 'Sogamoso', 'Sohag', 'Soham', 'Soledad de Graciano Sanchez', 'Solingen', 'Solna', 'Soria', 'Sorocaba', 'South Gate', 'South Laurel', 'South Tangerang', 'South Whittier', 'Soyapango', 'Split', 'St Albans', 'St-Genis-Laval', 'St. Gallen', \"St. John's\", 'St. Petersburg', 'Stafa', 'Stamford', 'Stanford', 'Stavanger Municipality', 'Stockholm', 'Stockport', 'Stockton', 'Stockton-on-Tees', 'Strasbourg', 'Stutensee', 'Stuttgart', 'Suceava', 'Sueca', 'Sunderland', 'Sundsvall', 'Surabaya', 'Surat', 'Suresnes', 'Sursee', 'Swords', 'Sycow', 'Sydney', 'Szczecin', 'Szeged', 'Tacna', 'Taguig', 'Tala', 'Talca', 'Talcahuano', 'Tallahassee', 'Tallinn', 'Tamarac', 'Tampa', 'Tampere', 'Tampico', 'Tandil', 'Tangier', 'Taounate', 'Tapachula', 'Tarancon', 'Targu Jiu', 'Targu Mures', 'Tarragona', 'Tarrega', 'Taunusstein', 'Tbilisi', 'Tecoman', 'Teddington', 'Tegucigalpa', 'Tehran', 'Tehuacan', 'Tekirdag', 'Tel Aviv-Yafo', 'Temixco', 'Tempe', 'Temperley', 'Temple Terrace', 'Temuco', 'Tenancingo', 'Tepatitlan de Morelos', 'Tepic', 'Tepotzotlan', 'Terni', 'Ternopil', 'Terrassa', 'Teruel', 'Tetouan', 'Thalwil', 'The Hague', 'The Hammocks', 'The Royal Town of Sutton Coldfield', 'The Woodlands', 'Thessaloniki', 'Thonon-les-Bains', 'Thousand Oaks', 'Thun', 'Tigre', 'Tihuatlan', 'Tijuana', 'Tijucas', 'Timberwood Park', 'Timisoara', 'Tirana', 'Tlalnepantla de Baz', 'Tlaquepaque', 'Tlaxcala', 'Tlaxcalancingo', 'Tlaxcoapan', 'Toledo', 'Tolosa', 'Toluca', 'Tomar', 'Tomares', 'Tomelloso', 'Tomsk', 'Tonala', 'Toronto', 'Torquay', 'Torre del Mar', 'Torredonjimeno', 'Torrejon de Ardoz', 'Torrelaguna', 'Torrelavega', 'Torrent', 'Torreon', 'Torres Vedras', 'Torrevieja', 'Tortosa', 'Totana', 'Toulon', 'Toulouse', 'Tours', \"Town 'n' Country\", 'Townsville', 'Trapani', 'Trenque Lauquen', 'Trento', 'Tres Arroyos', 'Tres Cantos', 'Tres de Maio', 'Tring', 'Trinidad', 'Tripoli', 'Trondheim Municipality', 'Trowbridge', 'Troy', 'Tudela', 'Tula', 'Tulancingo', 'Tulum', 'Tunis', 'Tunja', 'Turbo', 'Turin', 'Turku', 'Turner', 'Turre', 'Tuttlingen', 'Tuxpam de Rodriguez Cano', 'Tuxtla Gutierrez', 'Tyler', 'Tysons', 'Ubeda', 'Uberaba', 'Uberlandia', 'Uccle', 'Uddevalla', 'Udine', 'Ufa', 'Urdorf', 'Uruapan', 'Ushuaia', 'Utebo', 'Utrecht', 'Utrera', 'Valdemoro', 'Valdepenas', 'Valdivia', 'Valence', 'Valencia', 'Valente Diaz', 'Valinhos', 'Valladolid', 'Valle de Bravo', 'Valle de Chalco', 'Valley', 'Valley Cottage', 'Valparaiso', 'Vancouver', 'Vang Municipality', 'Vecindario', 'Veenendaal', 'Velilla de San Antonio', 'Venice', 'Vera', 'Veracruz', 'Verona', 'Verviers', 'Vevey', 'Viana do Castelo', 'Vicente Lopez', 'Vicenza', 'Victoria', 'Vienna', 'Vigevano', 'Vigo', 'Vila Nova de Famalicao', 'Vila Nova de Gaia', 'Vila Velha', 'Vilafranca del Penedes', 'Vilanova i la Geltru', 'Vilassar de Dalt', 'Villa Adelina', 'Villa Alemana', 'Villa Ballester', 'Villa Carlos Paz', 'Villa Lynch', 'Villa Maria', 'Villa Mercedes', 'Villa de Alvarez', 'Villafranca del Castillo', 'Villahermosa', 'Villanueva de la Canada', 'Villanueva del Pardillo', 'Villarrobledo', 'Villas', 'Villavicencio', 'Villaviciosa de Odon', 'Villena', 'Vilnius', 'Vilvoorde', 'Vina del Mar', 'Vinaros', 'Virginia Beach', 'Virrey del Pino', 'Visakhapatnam', 'Visalia', 'Viseu', 'Vista', 'Vitoria-Gasteiz', 'Volos', 'Volta Redonda', 'Vyshneve', 'Walldorf', 'Wallington', 'Walsall', 'Warsaw', 'Washington', 'Waterford', 'Waterville', 'Wattens', 'Waukegan', 'Weehawken', 'Weesp', 'Wegrow', 'Weimar', 'Wellington', 'Wenzhou', 'Werne', 'West Covina', 'West Haven', 'West Hollywood', 'West Jordan', 'West Moors', 'West Palm Beach', 'West Point', 'West Springfield', 'West University Place', 'Weston', 'Wettingen', 'White Bear Lake', 'Wicklow', 'Wiesbaden', 'Wiesloch', 'Wil', 'Wilde', 'Wilhelmshaven', 'Willich', 'Winchester', 'Windsor', 'Winnenden', 'Winston-Salem', 'Winterthur', 'Wittlich-Land', 'Wolfsburg', 'Woluwe-Saint-Pierre', 'Wolverhampton', 'Woodbridge Township', 'Worcester', 'Wroclaw', 'Wuppertal', 'Wurselen', 'Wurzburg', 'Wyndmoor', 'Xabia', 'Xalapa', 'Xiamen', 'Xonacatlan', 'Yokohama', 'Yopal', 'York', 'Yozgat', 'Yuma', 'Yumbo', 'Zabki', 'Zabrze', 'Zacapu', 'Zacatecas', 'Zagreb', 'Zakopane', 'Zamora', 'Zamudio', 'Zapopan', 'Zaragoza', 'Zarate', 'Zarautz', 'Zawiercie', 'Zele', 'Zenica', 'Zhengzhou', 'Zhovti Vody', 'Zihuatanejo', 'Zilina', 'Zipaquira', 'Zitacuaro', 'Zizur Mayor', 'Zug', 'Zumpango', 'Zurich', 'Zwolle', \"la Vall d'Uixo\", 'les Tres Cales']]\n"
     ]
    },
    {
     "data": {
      "text/plain": [
       "True"
      ]
     },
     "execution_count": 36,
     "metadata": {},
     "output_type": "execute_result"
    }
   ],
   "source": [
    "with open(data_root+'cities.csv',newline='') as file:\n",
    "    reader = csv.reader(file)\n",
    "    data = list(reader)\n",
    "\n",
    "print(data)\n",
    "file.closed"
   ]
  },
  {
   "cell_type": "code",
   "execution_count": 38,
   "id": "asian-consistency",
   "metadata": {},
   "outputs": [
    {
     "data": {
      "text/plain": [
       "['(not set)',\n",
       " '6th of October City',\n",
       " 'A Coruna',\n",
       " 'Aachen',\n",
       " 'Aalst',\n",
       " 'Aarhus',\n",
       " 'Aberdeen',\n",
       " 'Abha',\n",
       " 'Abidjan',\n",
       " 'Abu Dhabi',\n",
       " 'Acapulco',\n",
       " 'Accra',\n",
       " 'Acharnes',\n",
       " 'Acireale',\n",
       " 'Adana',\n",
       " 'Adeje',\n",
       " 'Adelaide',\n",
       " 'Adliswil',\n",
       " 'Admont',\n",
       " 'Adra',\n",
       " 'Adrogue',\n",
       " 'Affoltern am Albis',\n",
       " 'Agen',\n",
       " 'Agoura Hills',\n",
       " 'Agropoli',\n",
       " 'Aguachica',\n",
       " 'Aguadulce',\n",
       " 'Aguascalientes',\n",
       " 'Aguilas',\n",
       " 'Aidlingen',\n",
       " 'Aix-les-Bains',\n",
       " 'Ajax',\n",
       " 'Alajuela',\n",
       " 'Albacete',\n",
       " 'Albertville',\n",
       " 'Albufeira',\n",
       " 'Alcala de Guadaira',\n",
       " 'Alcala de Henares',\n",
       " 'Alcantarilla',\n",
       " 'Alcazar de San Juan',\n",
       " 'Alcobendas',\n",
       " 'Alcoi',\n",
       " 'Alcorcon',\n",
       " 'Aldershot',\n",
       " 'Ales',\n",
       " 'Alexandria',\n",
       " 'Alexandroupoli',\n",
       " 'Algeciras',\n",
       " 'Algete',\n",
       " 'Alghero',\n",
       " 'Alginet',\n",
       " 'Algueirao–Mem Martins',\n",
       " 'Alhama de Murcia',\n",
       " 'Alhaurin de la Torre',\n",
       " 'Alhaurin el Grande',\n",
       " 'Alicante',\n",
       " 'Alimos',\n",
       " 'Alkmaar',\n",
       " 'Allauch',\n",
       " 'Allentown',\n",
       " 'Almada',\n",
       " 'Almansa',\n",
       " 'Almaty',\n",
       " 'Almendralejo',\n",
       " 'Almere',\n",
       " 'Almeria',\n",
       " 'Almirante Tamandare',\n",
       " 'Almont',\n",
       " 'Almoradi',\n",
       " 'Alpharetta',\n",
       " 'Alsfeld',\n",
       " 'Altadena',\n",
       " 'Altamira',\n",
       " 'Altea',\n",
       " 'Alton',\n",
       " 'Altrincham',\n",
       " 'Alverca do Ribatejo',\n",
       " 'Alzira',\n",
       " 'Amadora',\n",
       " 'Ambato',\n",
       " 'Ameca',\n",
       " 'Americana',\n",
       " 'Amstelveen',\n",
       " 'Amsterdam',\n",
       " 'Anaheim',\n",
       " 'Ancud',\n",
       " 'Anderlecht',\n",
       " 'Andoain',\n",
       " 'Andujar',\n",
       " 'Angelholm',\n",
       " 'Angers',\n",
       " 'Anglet',\n",
       " 'Angra do Heroismo',\n",
       " 'Annecy',\n",
       " 'Antalya',\n",
       " 'Antofagasta',\n",
       " 'Antwerp',\n",
       " 'Apatzingan',\n",
       " 'Apizaco',\n",
       " 'Appleton',\n",
       " 'Arad',\n",
       " 'Aranda de Duero',\n",
       " 'Arandas',\n",
       " 'Aranjuez',\n",
       " 'Archena',\n",
       " 'Arcos de la Frontera',\n",
       " 'Arecibo',\n",
       " 'Arequipa',\n",
       " 'Arezzo',\n",
       " 'Arganda del Rey',\n",
       " 'Arica',\n",
       " 'Arjona',\n",
       " 'Arlington',\n",
       " 'Arlington Heights',\n",
       " 'Arlon',\n",
       " 'Armenia',\n",
       " 'Arnedo',\n",
       " 'Arona',\n",
       " 'Arrasate',\n",
       " 'Arrecife',\n",
       " 'Arundel',\n",
       " 'As Pontes de Garcia Rodriguez',\n",
       " 'Asbury Park',\n",
       " 'Ash Vale',\n",
       " 'Ashburn',\n",
       " 'Asker Municipality',\n",
       " 'Asnieres-sur-Seine',\n",
       " 'Asuncion',\n",
       " 'Ath',\n",
       " 'Athens',\n",
       " 'Atizapan de Zaragoza',\n",
       " 'Atlacomulco',\n",
       " 'Atlanta',\n",
       " 'Aubenas',\n",
       " 'Auckland',\n",
       " 'Auderghem',\n",
       " 'Augsburg',\n",
       " 'Aulnay-sous-Bois',\n",
       " 'Austin',\n",
       " 'Aveiro',\n",
       " 'Avellaneda',\n",
       " 'Aversa',\n",
       " 'Avila\\u200e',\n",
       " 'Aviles',\n",
       " 'Avon',\n",
       " 'Azul',\n",
       " 'Azuqueca de Henares',\n",
       " 'Baak',\n",
       " 'Baar',\n",
       " 'Bad Berleburg',\n",
       " 'Bad Hersfeld',\n",
       " 'Bad Neuenahr-Ahrweiler',\n",
       " 'Badajoz',\n",
       " 'Badalona',\n",
       " 'Baerum',\n",
       " 'Baghdad',\n",
       " 'Bagneux',\n",
       " 'Bahia Blanca',\n",
       " 'Bailen',\n",
       " 'Bakersfield',\n",
       " 'Baku',\n",
       " 'Balcarce',\n",
       " 'Bamble',\n",
       " 'Banfield',\n",
       " 'Bang Nam Chuet',\n",
       " 'Bangkok',\n",
       " 'Banska Bystrica',\n",
       " 'Barbastro',\n",
       " 'Barcelona',\n",
       " 'Bari',\n",
       " 'Barinas',\n",
       " 'Barlinek',\n",
       " 'Barquisimeto',\n",
       " 'Barranquilla',\n",
       " 'Barre',\n",
       " 'Barry',\n",
       " 'Basauri',\n",
       " 'Basel',\n",
       " 'Basingstoke',\n",
       " 'Battipaglia',\n",
       " 'Bay Lake',\n",
       " 'Bayamon',\n",
       " 'Bayonne',\n",
       " 'Baza',\n",
       " 'Beasain',\n",
       " 'Beaumont',\n",
       " 'Beccar',\n",
       " 'Beijing',\n",
       " 'Beirut',\n",
       " 'Beja',\n",
       " 'Bejar',\n",
       " 'Belen de Escobar',\n",
       " 'Belgrade',\n",
       " 'Bellevue',\n",
       " 'Bello',\n",
       " 'Belo Horizonte',\n",
       " 'Benavente',\n",
       " 'Bengaluru',\n",
       " 'Benghazi',\n",
       " 'Benicarlo',\n",
       " 'Benidorm',\n",
       " 'Benin City',\n",
       " 'Berazategui',\n",
       " 'Berga',\n",
       " 'Bergara',\n",
       " 'Berkel en Rodenrijs',\n",
       " 'Berlin',\n",
       " 'Bermeo',\n",
       " 'Bern',\n",
       " 'Bessemer',\n",
       " 'Bethesda',\n",
       " 'Bettembourg',\n",
       " 'Beziers',\n",
       " 'Bialystok',\n",
       " 'Biarritz',\n",
       " 'Bietigheim-Bissingen',\n",
       " 'Bilbao',\n",
       " 'Birmingham',\n",
       " 'Blacksburg',\n",
       " 'Bletchley',\n",
       " 'Blois',\n",
       " 'Bloomfield',\n",
       " 'Blue Ash',\n",
       " 'Boardman',\n",
       " 'Boblingen',\n",
       " 'Bodo Municipality',\n",
       " 'Boekel',\n",
       " 'Bogota',\n",
       " 'Boise',\n",
       " 'Bollullos Par del Condado',\n",
       " 'Bologna',\n",
       " 'Bolzano',\n",
       " 'Bombinhas',\n",
       " 'Bonn',\n",
       " 'Bordeaux',\n",
       " 'Borriana',\n",
       " 'Boston',\n",
       " 'Boulogne',\n",
       " 'Boulogne-Billancourt',\n",
       " 'Boulogne-sur-Mer',\n",
       " 'Bountiful',\n",
       " 'Bourg-Saint-Maurice',\n",
       " 'Bournemouth',\n",
       " 'Boyarka',\n",
       " 'Boydton',\n",
       " 'Boynton Beach',\n",
       " 'Bradford',\n",
       " 'Braga',\n",
       " 'Braganca Paulista',\n",
       " 'Braine-le-Comte',\n",
       " 'Brande',\n",
       " 'Brandon',\n",
       " 'Brasilia',\n",
       " 'Brasov',\n",
       " 'Bratislava',\n",
       " 'Bray',\n",
       " 'Breda',\n",
       " 'Bregenz',\n",
       " 'Brenes',\n",
       " 'Brescia',\n",
       " 'Bridgwater',\n",
       " 'Brighton',\n",
       " 'Brisbane',\n",
       " 'Bristol',\n",
       " 'Brno',\n",
       " 'Brockton',\n",
       " 'Brossard',\n",
       " 'Bruges',\n",
       " 'Brugg',\n",
       " 'Brunswick',\n",
       " 'Brussels',\n",
       " 'Bucaramanga',\n",
       " 'Bucerias',\n",
       " 'Bucharest',\n",
       " 'Budapest',\n",
       " 'Buenaventura',\n",
       " 'Buenavista',\n",
       " 'Buenos Aires',\n",
       " 'Buffalo',\n",
       " 'Burgos',\n",
       " 'Bursa',\n",
       " 'Burton upon Trent',\n",
       " 'Bury',\n",
       " 'Burzaco',\n",
       " 'Busan',\n",
       " 'Cabo Frio',\n",
       " 'Cabo San Lucas',\n",
       " 'Caceres\\u200e',\n",
       " 'Cadiz',\n",
       " 'Cagliari',\n",
       " 'Cairns',\n",
       " 'Cairo',\n",
       " 'Cajamarca',\n",
       " 'Cakovec',\n",
       " 'Calahorra',\n",
       " 'Calama',\n",
       " 'Calarasi',\n",
       " 'Calgary',\n",
       " 'Cali',\n",
       " 'Callao',\n",
       " 'Callosa de Segura',\n",
       " 'Camargo',\n",
       " 'Camas',\n",
       " 'Cambridge',\n",
       " 'Campana',\n",
       " 'Campeche',\n",
       " 'Campinas',\n",
       " 'Cancun',\n",
       " 'Canton',\n",
       " 'Cao Lanh',\n",
       " 'Cape Town',\n",
       " 'Capelle aan den IJssel',\n",
       " 'Caracas',\n",
       " 'Carcaixent',\n",
       " 'Cardedeu',\n",
       " 'Cardiff',\n",
       " 'Carlow',\n",
       " 'Carlsbad',\n",
       " 'Carmona',\n",
       " 'Carolina',\n",
       " 'Carora',\n",
       " 'Carpi',\n",
       " 'Carregado',\n",
       " 'Cartagena',\n",
       " 'Cartago',\n",
       " 'Carupano',\n",
       " 'Casablanca',\n",
       " 'Cascais',\n",
       " 'Caseros',\n",
       " 'Castelar',\n",
       " 'Castellbisbal',\n",
       " 'Castellon de la Plana',\n",
       " 'Castelo Branco',\n",
       " 'Castro',\n",
       " 'Castro Urdiales',\n",
       " 'Catamarca',\n",
       " 'Catania',\n",
       " 'Catemaco',\n",
       " \"Cava de' Tirreni\",\n",
       " 'Cebu City',\n",
       " 'Cehegin',\n",
       " 'Celaya',\n",
       " 'Centenario',\n",
       " 'Cernusco sul Naviglio',\n",
       " 'Cerro de Pasco',\n",
       " 'Cesano Maderno',\n",
       " 'Ceuta',\n",
       " 'Ceuti',\n",
       " 'Chacabuco',\n",
       " 'Chamonix',\n",
       " 'Charleroi',\n",
       " 'Charleston',\n",
       " 'Charlotte',\n",
       " 'Charlottesville',\n",
       " 'Chatou',\n",
       " 'Checy',\n",
       " 'Chelles',\n",
       " 'Chennai',\n",
       " 'Cherbourg-Octeville',\n",
       " 'Chernihiv',\n",
       " 'Chernivtsi',\n",
       " 'Chester',\n",
       " 'Chetumal',\n",
       " 'Cheyenne',\n",
       " 'Chia',\n",
       " 'Chiapa de Corzo',\n",
       " 'Chiautempan',\n",
       " 'Chicago',\n",
       " 'Chiclana de la Frontera',\n",
       " 'Chicoloapan de Juarez',\n",
       " 'Chignahuapan',\n",
       " 'Chihuahua',\n",
       " 'Chillan',\n",
       " 'Chilpancingo',\n",
       " 'Chimalhuacan',\n",
       " 'Chipiona',\n",
       " 'Chisinau',\n",
       " 'Chivilcoy',\n",
       " 'Chlef',\n",
       " 'Cholula',\n",
       " 'Chula Vista',\n",
       " 'Chur',\n",
       " 'Cienaga de Oro',\n",
       " 'Cigales DO',\n",
       " 'Cincinnati',\n",
       " 'Cinisello Balsamo',\n",
       " 'Cipolletti',\n",
       " 'Ciudad Apodaca',\n",
       " 'Ciudad Cuauhtemoc',\n",
       " 'Ciudad Guzman',\n",
       " 'Ciudad Hidalgo',\n",
       " 'Ciudad Juarez',\n",
       " 'Ciudad Lopez Mateos',\n",
       " 'Ciudad Nezahualcoyotl',\n",
       " 'Ciudad Obregon',\n",
       " 'Ciudad Real',\n",
       " 'Ciudad Rodrigo',\n",
       " 'Ciudad Victoria',\n",
       " 'Ciudad de Allende',\n",
       " 'Ciudad del Carmen',\n",
       " 'Ciudadela',\n",
       " 'Cle Elum',\n",
       " 'Clearwater',\n",
       " 'Clermont',\n",
       " 'Clermont-Ferrand',\n",
       " 'Cleveland',\n",
       " 'Clichy',\n",
       " 'Clifton',\n",
       " 'Coacalco',\n",
       " 'Coachella',\n",
       " 'Coatepec',\n",
       " 'Coatzacoalcos',\n",
       " 'Cochabamba',\n",
       " 'Codazzi',\n",
       " 'Coffeyville',\n",
       " 'Coimbra',\n",
       " 'Colmenar Viejo',\n",
       " 'Cologne',\n",
       " 'Columbia',\n",
       " 'Columbus',\n",
       " 'Como',\n",
       " 'Comodoro Rivadavia',\n",
       " 'Comonfort',\n",
       " 'Compiegne',\n",
       " 'Conakry',\n",
       " 'Concepcion',\n",
       " 'Concepcion del Uruguay',\n",
       " 'Concordia',\n",
       " 'Consuegra',\n",
       " 'Copacabana',\n",
       " 'Copenhagen',\n",
       " 'Copiapo',\n",
       " 'Coppell',\n",
       " 'Coquimbo',\n",
       " 'Coral Gables',\n",
       " 'Coral Terrace',\n",
       " 'Cordoba',\n",
       " 'Coria del Rio',\n",
       " 'Cork',\n",
       " 'Coronel',\n",
       " 'Corrientes',\n",
       " 'Coslada',\n",
       " 'Cosoleacaque',\n",
       " 'Coueron',\n",
       " 'Courbevoie',\n",
       " 'Coventry',\n",
       " 'Covilha',\n",
       " 'Coyhaique',\n",
       " 'Craiova',\n",
       " 'Crawley',\n",
       " 'Creil',\n",
       " 'Cremona',\n",
       " 'Creteil',\n",
       " 'Crevillent',\n",
       " 'Crewe',\n",
       " 'Croydon',\n",
       " 'Cuautitlan',\n",
       " 'Cuautitlan Izcalli',\n",
       " 'Cuautla',\n",
       " 'Cucuta',\n",
       " 'Cuenca',\n",
       " 'Cuernavaca',\n",
       " 'Culiacan',\n",
       " 'Curico',\n",
       " 'Curitiba',\n",
       " 'Cusco',\n",
       " 'Cutler Bay',\n",
       " 'Cypress',\n",
       " 'Czarnkow',\n",
       " 'Da Nang',\n",
       " 'Dachau',\n",
       " 'Dahlonega',\n",
       " 'Dakar',\n",
       " 'Dallas',\n",
       " 'Dammam',\n",
       " 'Danbury',\n",
       " 'Dar es Salaam',\n",
       " 'Dartford',\n",
       " 'David',\n",
       " 'Davis',\n",
       " 'Dayton',\n",
       " 'De Haan',\n",
       " 'Delft',\n",
       " 'Delhi',\n",
       " 'Delicias',\n",
       " 'Deltebre',\n",
       " 'Dendermonde',\n",
       " 'Denia',\n",
       " 'Denizli',\n",
       " 'Dentsville',\n",
       " 'Denver',\n",
       " 'Derby',\n",
       " 'Derry',\n",
       " 'Des Moines',\n",
       " 'Deventer',\n",
       " 'Dhahran',\n",
       " 'Dhaka',\n",
       " 'Dijon',\n",
       " 'Dilsen-Stokkem',\n",
       " 'Ditzingen',\n",
       " 'Dnipro',\n",
       " 'Doha',\n",
       " 'Don Benito',\n",
       " 'Doncaster',\n",
       " 'Donostia-San Sebastian',\n",
       " 'Dorado',\n",
       " 'Doral',\n",
       " 'Dortmund',\n",
       " 'Dosquebradas',\n",
       " 'Douala',\n",
       " 'Drachten',\n",
       " 'Dreieich',\n",
       " 'Dresden',\n",
       " 'Dronninglund',\n",
       " 'Dubai',\n",
       " 'Dubendorf',\n",
       " 'Dublin',\n",
       " 'Dudelange',\n",
       " 'Dundalk',\n",
       " 'Dunfermline',\n",
       " 'Durango',\n",
       " 'Durgapur',\n",
       " 'Durham',\n",
       " 'Dushanbe',\n",
       " 'Dusseldorf',\n",
       " 'Eagan',\n",
       " 'Eagle Mountain',\n",
       " 'East Farmingdale',\n",
       " 'East Kilbride',\n",
       " 'Eastbourne',\n",
       " 'Ecatepec',\n",
       " 'Eckernforde',\n",
       " 'Ede',\n",
       " 'Eden Prairie',\n",
       " 'Edenvale',\n",
       " 'Edinburgh',\n",
       " 'Edison',\n",
       " 'Edmonton',\n",
       " 'Eibar',\n",
       " 'Eindhoven',\n",
       " 'El Ejido',\n",
       " 'El Palomar',\n",
       " 'El Paso',\n",
       " 'El Prat de Llobregat',\n",
       " 'El Puerto de Santa Maria',\n",
       " 'El Viso del Alcor',\n",
       " 'Elancourt',\n",
       " 'Elche',\n",
       " 'Elda',\n",
       " 'Elgin',\n",
       " 'Elizabeth',\n",
       " 'Emmen',\n",
       " 'Empuriabrava',\n",
       " 'Ensenada',\n",
       " 'Entroncamento',\n",
       " 'Envigado',\n",
       " 'Erie',\n",
       " 'Erlangen',\n",
       " 'Errenteria',\n",
       " 'Esher',\n",
       " 'Esparreguera',\n",
       " 'Espartinas',\n",
       " 'Espinardo',\n",
       " 'Espinho',\n",
       " 'Espoo',\n",
       " 'Essen',\n",
       " 'Estacion de Cartama',\n",
       " 'Estella',\n",
       " 'Estepa',\n",
       " 'Estepona',\n",
       " 'Estoril',\n",
       " 'Etterbeek',\n",
       " 'Eusebio',\n",
       " 'Evanston',\n",
       " 'Evere',\n",
       " 'Evora',\n",
       " 'Eysines',\n",
       " 'Fagaras',\n",
       " 'Fairland',\n",
       " 'Faisalabad',\n",
       " 'Fajardo',\n",
       " 'Faridabad',\n",
       " 'Farnham',\n",
       " 'Faro',\n",
       " 'Federal Way',\n",
       " 'Felgueiras',\n",
       " 'Fes',\n",
       " 'Figueira da Foz',\n",
       " 'Finsterwalde',\n",
       " 'Fiumicino',\n",
       " 'Flekkefjord Municipality',\n",
       " 'Flic en Flac',\n",
       " 'Florence',\n",
       " 'Florencio Varela',\n",
       " 'Florianopolis',\n",
       " 'Florida',\n",
       " 'Floridablanca',\n",
       " 'Focsani',\n",
       " 'Forest',\n",
       " 'Forli',\n",
       " 'Formosa',\n",
       " 'Forst',\n",
       " 'Fort Collins',\n",
       " 'Fort Lauderdale',\n",
       " 'Fort Myers',\n",
       " 'Fort Wayne',\n",
       " 'Fort Worth',\n",
       " 'Fort-de-France',\n",
       " 'Foster City',\n",
       " 'Four Corners',\n",
       " 'Foxborough',\n",
       " 'Frankfurt',\n",
       " 'Franklin',\n",
       " 'Frederikssund',\n",
       " 'Freiburg im Breisgau',\n",
       " 'Fresno',\n",
       " 'Fribourg',\n",
       " 'Friedrichshafen',\n",
       " 'Fritzlar',\n",
       " 'Fuenlabrada',\n",
       " 'Fujairah',\n",
       " 'Fukuoka',\n",
       " 'Fulshear',\n",
       " 'Funchal',\n",
       " 'Gainesville',\n",
       " 'Gaithersburg',\n",
       " 'Gandia',\n",
       " 'Garbsen',\n",
       " 'Garching',\n",
       " 'Garcia',\n",
       " 'Gardena',\n",
       " 'Gdansk',\n",
       " 'Geel',\n",
       " 'Gelang Patah',\n",
       " 'Gelsenkirchen',\n",
       " 'General Escobedo',\n",
       " 'General Pico',\n",
       " 'Geneva',\n",
       " 'Genoa',\n",
       " 'Georgetown',\n",
       " 'Georgsmarienhutte',\n",
       " 'Getafe',\n",
       " 'Ghent',\n",
       " 'Gibraltar',\n",
       " 'Giessen',\n",
       " 'Gijon',\n",
       " 'Girardota',\n",
       " 'Girona',\n",
       " 'Giurgiu',\n",
       " 'Gland',\n",
       " 'Glasgow',\n",
       " 'Glen Allen',\n",
       " 'Goiania',\n",
       " 'Goose Creek',\n",
       " 'Gorzow Wielkopolski',\n",
       " 'Gotha',\n",
       " 'Gothenburg',\n",
       " 'Granada',\n",
       " 'Grand Prairie',\n",
       " 'Granollers',\n",
       " 'Grau i Platja',\n",
       " 'Gravesend',\n",
       " 'Graz',\n",
       " 'Greensboro',\n",
       " 'Gregorio de Laferrere',\n",
       " 'Greifensee',\n",
       " 'Grenoble',\n",
       " 'Grimbergen',\n",
       " 'Groningen',\n",
       " 'Groton',\n",
       " 'Grugliasco',\n",
       " 'Guadalajara',\n",
       " 'Guadalupe',\n",
       " 'Gualeguaychu',\n",
       " 'Guamuchil',\n",
       " 'Guarda',\n",
       " 'Guatemala City',\n",
       " 'Guayana City',\n",
       " 'Guaymas',\n",
       " 'Guimaraes',\n",
       " 'Gurgaon',\n",
       " 'Guyancourt',\n",
       " 'Haarlem',\n",
       " 'Hacienda Santa Fe',\n",
       " 'Haderslev',\n",
       " 'Hagen',\n",
       " 'Halden Municipality',\n",
       " 'Halton Hills',\n",
       " 'Hamburg',\n",
       " 'Hangzhou',\n",
       " 'Hanoi',\n",
       " 'Hanover',\n",
       " 'Harmanli',\n",
       " 'Harrogate',\n",
       " 'Hassi Messaoud',\n",
       " 'Hassleholm',\n",
       " 'Haugesund Municipality',\n",
       " 'Havana',\n",
       " 'Haverfordwest',\n",
       " 'Haverhill',\n",
       " 'Hechtel-Eksel',\n",
       " 'Hedehusene',\n",
       " 'Heerhugowaard',\n",
       " 'Heilbronn',\n",
       " 'Heinsberg',\n",
       " 'Helmond',\n",
       " 'Helmstedt',\n",
       " 'Helsinki',\n",
       " 'Hemel Hempstead',\n",
       " 'Hemet',\n",
       " 'Hendaye',\n",
       " 'Hengelo',\n",
       " 'Heraklion',\n",
       " 'Herceg Novi',\n",
       " 'Heredia',\n",
       " 'Hermosillo',\n",
       " 'Hernani',\n",
       " 'Heroica Veracruz',\n",
       " 'Herzogenaurach',\n",
       " 'Herzogenrath',\n",
       " 'Hialeah',\n",
       " 'Hickory',\n",
       " 'Highland Park',\n",
       " 'Hilversum',\n",
       " 'Ho Chi Minh City',\n",
       " 'Hoboken',\n",
       " 'Hofheim',\n",
       " 'Hollywood',\n",
       " 'Holzkirchen',\n",
       " 'Homestead',\n",
       " 'Horizon City',\n",
       " 'Horlivka',\n",
       " 'Houston',\n",
       " 'Hradec Kralove',\n",
       " 'Huamantla',\n",
       " 'Huancayo',\n",
       " 'Huaraz',\n",
       " 'Huddinge',\n",
       " 'Huejotzingo',\n",
       " 'Huelva',\n",
       " 'Huesca',\n",
       " 'Humacao',\n",
       " 'Humanes de Madrid',\n",
       " 'Ibague',\n",
       " 'Ibiza',\n",
       " 'Idyllwild-Pine Cove',\n",
       " 'Iesi',\n",
       " 'Iguala',\n",
       " 'Igualada',\n",
       " 'Ilhavo',\n",
       " 'Illescas',\n",
       " 'Inca',\n",
       " 'Indianapolis',\n",
       " 'Ingelheim am Rhein',\n",
       " 'Ingolstadt',\n",
       " 'Ipoh',\n",
       " 'Ipswich',\n",
       " 'Iquique',\n",
       " 'Irapuato',\n",
       " \"Irpin'\",\n",
       " 'Irun',\n",
       " 'Irvine',\n",
       " 'Irving',\n",
       " 'Isfahan',\n",
       " 'Isidro Casanova',\n",
       " 'Istanbul',\n",
       " 'Itagui',\n",
       " 'Ituzaingo',\n",
       " 'Itzehoe',\n",
       " 'Ivano-Frankivsk',\n",
       " 'Ixtapaluca',\n",
       " 'Izmir',\n",
       " 'Izyum',\n",
       " 'Jacksonville',\n",
       " 'Jaen',\n",
       " 'Jakarta',\n",
       " 'Jasmine Estates',\n",
       " 'Jeddah',\n",
       " 'Jerez de la Frontera',\n",
       " 'Jersey City',\n",
       " 'Jilotepec de Molina Enriquez',\n",
       " 'Jiutepec',\n",
       " 'Johannesburg',\n",
       " 'Jose C. Paz',\n",
       " 'Juarez',\n",
       " 'Juchitan de Zaragoza',\n",
       " 'Juliaca',\n",
       " 'Junin',\n",
       " 'Juriquilla',\n",
       " 'Justiniano Posse',\n",
       " 'Kadoma',\n",
       " 'Kaiserslautern',\n",
       " 'Kalush',\n",
       " 'Kanasin',\n",
       " 'Kansas City',\n",
       " 'Karachi',\n",
       " 'Karlsruhe',\n",
       " 'Kassel',\n",
       " 'Katowice',\n",
       " 'Katy',\n",
       " 'Kaunas',\n",
       " 'Kaysville',\n",
       " 'Kazanluk',\n",
       " 'Kendall',\n",
       " 'Kendall West',\n",
       " 'Kenitra',\n",
       " 'Kerava',\n",
       " 'Key Biscayne',\n",
       " 'Kiel',\n",
       " 'Kilchberg',\n",
       " 'King of Prussia',\n",
       " 'Kingsburg',\n",
       " 'Kingston',\n",
       " 'Kingston upon Hull',\n",
       " 'Kinshasa',\n",
       " 'Kirsehir',\n",
       " 'Kiskunlachaza',\n",
       " 'Kissimmee',\n",
       " 'Klaipeda',\n",
       " 'Klatovy',\n",
       " 'Kleinmachnow',\n",
       " 'Koblenz',\n",
       " 'Konin',\n",
       " 'Kontich',\n",
       " 'Korschenbroich',\n",
       " 'Kortrijk',\n",
       " 'Koto City',\n",
       " 'Kozienice',\n",
       " 'Krakow',\n",
       " 'Kryvyi Rih',\n",
       " 'Kuala Lumpur',\n",
       " 'Kussnacht',\n",
       " 'Kyiv',\n",
       " 'Kyle',\n",
       " \"L'Escala\",\n",
       " \"L'Hospitalet de Llobregat\",\n",
       " \"L'Hospitalet de l'Infant\",\n",
       " 'La Canada',\n",
       " 'La Canyada',\n",
       " 'La Carolina',\n",
       " 'La Ceja',\n",
       " 'La Chorrera',\n",
       " 'La Crucecita',\n",
       " 'La Linea de la Concepcion',\n",
       " 'La Paz',\n",
       " 'La Plata',\n",
       " 'La Rioja',\n",
       " 'La Romana',\n",
       " 'La Serena',\n",
       " 'La Tablada',\n",
       " 'La Victoria',\n",
       " 'Lagos',\n",
       " 'Lagos de Moreno',\n",
       " 'Lahore',\n",
       " 'Lakewood',\n",
       " 'Lancaster',\n",
       " 'Lancy',\n",
       " 'Landstuhl',\n",
       " 'Langenhagen',\n",
       " 'Langreo',\n",
       " 'Lanus Oeste',\n",
       " 'Laredo',\n",
       " 'Larnaca',\n",
       " 'Las Arenas',\n",
       " 'Las Cruces',\n",
       " 'Las Palmas de Gran Canaria',\n",
       " 'Las Rozas de Madrid',\n",
       " 'Las Vegas',\n",
       " 'Laudio',\n",
       " 'Lausanne',\n",
       " 'Lawrence Township',\n",
       " 'Lawrenceville',\n",
       " 'Layton',\n",
       " 'Le Plessis-Robinson',\n",
       " 'Leacock-Leola-Bareville',\n",
       " 'Leander',\n",
       " 'Leatherhead',\n",
       " 'Lebrija',\n",
       " 'Lecce',\n",
       " 'Lecco',\n",
       " 'Leeds',\n",
       " 'Leesburg',\n",
       " 'Leganes',\n",
       " 'Legnano',\n",
       " 'Lehi',\n",
       " 'Lehrte',\n",
       " 'Leiden',\n",
       " 'Leioa',\n",
       " 'Leipzig',\n",
       " 'Leiria',\n",
       " 'Leon',\n",
       " 'Lepe',\n",
       " 'Lerma de Villada',\n",
       " 'Leverkusen',\n",
       " 'Lexington',\n",
       " 'Libertad',\n",
       " 'Liege',\n",
       " 'Liestal',\n",
       " 'Lille',\n",
       " 'Lillehammer Municipality',\n",
       " 'Lillerod',\n",
       " 'Limassol',\n",
       " 'Limerick',\n",
       " 'Linares',\n",
       " 'Linz',\n",
       " 'Lisbon',\n",
       " 'Lisle',\n",
       " 'Lisse',\n",
       " 'Little Rock',\n",
       " 'Liverpool',\n",
       " 'Lleida',\n",
       " 'Llucmajor',\n",
       " 'Lodz',\n",
       " 'Logrono',\n",
       " 'Loja',\n",
       " 'Lomas de Zamora',\n",
       " 'Lomas del Mirador',\n",
       " 'Lome',\n",
       " 'London',\n",
       " 'Londrina',\n",
       " 'Long Beach',\n",
       " 'Lorca',\n",
       " 'Lorrach',\n",
       " 'Los Andes',\n",
       " 'Los Angeles',\n",
       " 'Los Mochis',\n",
       " 'Los Palacios y Villafranca',\n",
       " 'Los Teques',\n",
       " 'Lota',\n",
       " 'Loule',\n",
       " 'Lowell',\n",
       " 'Lowicz',\n",
       " 'Lubeck',\n",
       " 'Lublin',\n",
       " 'Lucena',\n",
       " 'Lucerne',\n",
       " 'Ludres',\n",
       " 'Lugano',\n",
       " 'Lugo',\n",
       " 'Lujan',\n",
       " 'Lund',\n",
       " 'Luneburg',\n",
       " 'Luxembourg',\n",
       " 'Lviv',\n",
       " 'Lynnwood',\n",
       " 'Lyon',\n",
       " 'Maastricht',\n",
       " 'Mabank',\n",
       " 'Machala',\n",
       " 'Macuspana',\n",
       " 'Madera',\n",
       " 'Madrid',\n",
       " 'Mahon',\n",
       " 'Maia',\n",
       " 'Maidenhead',\n",
       " 'Mainz',\n",
       " 'Mairena del Alcor',\n",
       " 'Mairena del Aljarafe',\n",
       " 'Makati',\n",
       " 'Makhachkala',\n",
       " 'Malaga',\n",
       " 'Malbork',\n",
       " 'Malden',\n",
       " 'Malibu',\n",
       " 'Malmo',\n",
       " 'Mamaroneck',\n",
       " 'Manacor',\n",
       " 'Managua',\n",
       " 'Manama',\n",
       " 'Mancha Real',\n",
       " 'Manchester',\n",
       " 'Manila',\n",
       " 'Manizales',\n",
       " 'Manlleu',\n",
       " 'Mannheim',\n",
       " 'Manosque',\n",
       " 'Manta',\n",
       " 'Manteca',\n",
       " 'Mantes-la-Jolie',\n",
       " 'Manzanares',\n",
       " 'Manzanillo',\n",
       " 'Mar del Plata',\n",
       " 'Maracaibo',\n",
       " 'Maracay',\n",
       " 'Marbella',\n",
       " 'Marche-en-Famenne',\n",
       " 'Marfil',\n",
       " 'Margate',\n",
       " 'Maribor',\n",
       " 'Marietta',\n",
       " 'Marinha Grande',\n",
       " 'Marlow',\n",
       " 'Marrakesh',\n",
       " 'Marseille',\n",
       " 'Martigny',\n",
       " 'Martinez',\n",
       " 'Martos',\n",
       " 'Matamoros',\n",
       " 'Mataro',\n",
       " 'Matosinhos',\n",
       " ...]"
      ]
     },
     "execution_count": 38,
     "metadata": {},
     "output_type": "execute_result"
    }
   ],
   "source": [
    "data[0]"
   ]
  },
  {
   "cell_type": "markdown",
   "id": "arranged-blank",
   "metadata": {},
   "source": [
    "#### Datos de productos"
   ]
  },
  {
   "cell_type": "markdown",
   "id": "immune-yellow",
   "metadata": {},
   "source": [
    "A partir del catálogo de productos extraído de Prestashop, creamos un fichero con la **referencia SKU**, **el nombre** y **el precio** de cada producto para facilitar la cumplimentación del formulario de la página *¿Cómo funciona?*:"
   ]
  },
  {
   "cell_type": "code",
   "execution_count": 34,
   "id": "angry-frontier",
   "metadata": {},
   "outputs": [
    {
     "data": {
      "text/html": [
       "<div>\n",
       "<style scoped>\n",
       "    .dataframe tbody tr th:only-of-type {\n",
       "        vertical-align: middle;\n",
       "    }\n",
       "\n",
       "    .dataframe tbody tr th {\n",
       "        vertical-align: top;\n",
       "    }\n",
       "\n",
       "    .dataframe thead th {\n",
       "        text-align: right;\n",
       "    }\n",
       "</style>\n",
       "<table border=\"1\" class=\"dataframe\">\n",
       "  <thead>\n",
       "    <tr style=\"text-align: right;\">\n",
       "      <th></th>\n",
       "      <th>Product ID</th>\n",
       "      <th>Imagen</th>\n",
       "      <th>Nombre</th>\n",
       "      <th>Referencia</th>\n",
       "      <th>Categoría</th>\n",
       "      <th>Precio (imp. excl.)</th>\n",
       "      <th>Precio (imp. incl.)</th>\n",
       "      <th>Cantidad</th>\n",
       "      <th>Estado</th>\n",
       "      <th>Posición</th>\n",
       "    </tr>\n",
       "  </thead>\n",
       "  <tbody>\n",
       "    <tr>\n",
       "      <th>0</th>\n",
       "      <td>7878</td>\n",
       "      <td>https://www.galileo61.com/6882/my-organics-70-...</td>\n",
       "      <td>My organics 7.0 Rubio / Blonde</td>\n",
       "      <td>NaN</td>\n",
       "      <td>Novedades</td>\n",
       "      <td>12.314050</td>\n",
       "      <td>14.9</td>\n",
       "      <td>50.0</td>\n",
       "      <td>0</td>\n",
       "      <td>NaN</td>\n",
       "    </tr>\n",
       "    <tr>\n",
       "      <th>1</th>\n",
       "      <td>7877</td>\n",
       "      <td>https://www.galileo61.com/6881/my-organics-80-...</td>\n",
       "      <td>My Organics 8.0 Rubio Claro / Light Blonde</td>\n",
       "      <td>NaN</td>\n",
       "      <td>Baño e higiene personal</td>\n",
       "      <td>12.314050</td>\n",
       "      <td>14.9</td>\n",
       "      <td>50.0</td>\n",
       "      <td>0</td>\n",
       "      <td>NaN</td>\n",
       "    </tr>\n",
       "    <tr>\n",
       "      <th>2</th>\n",
       "      <td>7876</td>\n",
       "      <td>https://www.galileo61.com/6880/aceite-corporal...</td>\n",
       "      <td>Aceite corporal quemagrasas tacto seco Fat bur...</td>\n",
       "      <td>NaN</td>\n",
       "      <td>Reafirmantes.</td>\n",
       "      <td>61.983471</td>\n",
       "      <td>75.0</td>\n",
       "      <td>40.0</td>\n",
       "      <td>0</td>\n",
       "      <td>NaN</td>\n",
       "    </tr>\n",
       "    <tr>\n",
       "      <th>3</th>\n",
       "      <td>7875</td>\n",
       "      <td>https://www.galileo61.com/6879/aceite-anticelu...</td>\n",
       "      <td>Aceite anticelulítico tacto seco: Slimming Oil...</td>\n",
       "      <td>NaN</td>\n",
       "      <td>Inicio</td>\n",
       "      <td>74.380165</td>\n",
       "      <td>90.0</td>\n",
       "      <td>40.0</td>\n",
       "      <td>0</td>\n",
       "      <td>NaN</td>\n",
       "    </tr>\n",
       "    <tr>\n",
       "      <th>4</th>\n",
       "      <td>7874</td>\n",
       "      <td>https://www.galileo61.com/6878/aceite-reafirma...</td>\n",
       "      <td>Aceite reafirmante tacto seco Firming Oil 50ml...</td>\n",
       "      <td>NaN</td>\n",
       "      <td>Reafirmantes.</td>\n",
       "      <td>57.851240</td>\n",
       "      <td>70.0</td>\n",
       "      <td>40.0</td>\n",
       "      <td>0</td>\n",
       "      <td>NaN</td>\n",
       "    </tr>\n",
       "  </tbody>\n",
       "</table>\n",
       "</div>"
      ],
      "text/plain": [
       "   Product ID                                             Imagen  \\\n",
       "0        7878  https://www.galileo61.com/6882/my-organics-70-...   \n",
       "1        7877  https://www.galileo61.com/6881/my-organics-80-...   \n",
       "2        7876  https://www.galileo61.com/6880/aceite-corporal...   \n",
       "3        7875  https://www.galileo61.com/6879/aceite-anticelu...   \n",
       "4        7874  https://www.galileo61.com/6878/aceite-reafirma...   \n",
       "\n",
       "                                              Nombre Referencia  \\\n",
       "0                     My organics 7.0 Rubio / Blonde        NaN   \n",
       "1         My Organics 8.0 Rubio Claro / Light Blonde        NaN   \n",
       "2  Aceite corporal quemagrasas tacto seco Fat bur...        NaN   \n",
       "3  Aceite anticelulítico tacto seco: Slimming Oil...        NaN   \n",
       "4  Aceite reafirmante tacto seco Firming Oil 50ml...        NaN   \n",
       "\n",
       "                 Categoría  Precio (imp. excl.)  Precio (imp. incl.)  \\\n",
       "0                Novedades            12.314050                 14.9   \n",
       "1  Baño e higiene personal            12.314050                 14.9   \n",
       "2            Reafirmantes.            61.983471                 75.0   \n",
       "3                   Inicio            74.380165                 90.0   \n",
       "4            Reafirmantes.            57.851240                 70.0   \n",
       "\n",
       "   Cantidad  Estado  Posición  \n",
       "0      50.0       0       NaN  \n",
       "1      50.0       0       NaN  \n",
       "2      40.0       0       NaN  \n",
       "3      40.0       0       NaN  \n",
       "4      40.0       0       NaN  "
      ]
     },
     "execution_count": 34,
     "metadata": {},
     "output_type": "execute_result"
    }
   ],
   "source": [
    "prod_datafile=os.path.join(data_root,'product_2021-02-09_103558.csv')\n",
    "prod_info=pd.read_csv(prod_datafile,sep=\";\")\n",
    "prod_info.head(5)"
   ]
  },
  {
   "cell_type": "code",
   "execution_count": 36,
   "id": "seven-southwest",
   "metadata": {},
   "outputs": [
    {
     "data": {
      "text/html": [
       "<div>\n",
       "<style scoped>\n",
       "    .dataframe tbody tr th:only-of-type {\n",
       "        vertical-align: middle;\n",
       "    }\n",
       "\n",
       "    .dataframe tbody tr th {\n",
       "        vertical-align: top;\n",
       "    }\n",
       "\n",
       "    .dataframe thead th {\n",
       "        text-align: right;\n",
       "    }\n",
       "</style>\n",
       "<table border=\"1\" class=\"dataframe\">\n",
       "  <thead>\n",
       "    <tr style=\"text-align: right;\">\n",
       "      <th></th>\n",
       "      <th>Product ID</th>\n",
       "      <th>Imagen</th>\n",
       "      <th>Nombre</th>\n",
       "      <th>Referencia</th>\n",
       "      <th>Categoría</th>\n",
       "      <th>Precio (imp. excl.)</th>\n",
       "      <th>Precio (imp. incl.)</th>\n",
       "      <th>Cantidad</th>\n",
       "      <th>Estado</th>\n",
       "      <th>Posición</th>\n",
       "    </tr>\n",
       "  </thead>\n",
       "  <tbody>\n",
       "    <tr>\n",
       "      <th>2787</th>\n",
       "      <td>1391</td>\n",
       "      <td>https://www.galileo61.com/2334/unique-pink-col...</td>\n",
       "      <td>Unique Pink Collagen</td>\n",
       "      <td>007465</td>\n",
       "      <td>Productos Unique</td>\n",
       "      <td>72.727273</td>\n",
       "      <td>80.0</td>\n",
       "      <td>4343.0</td>\n",
       "      <td>0</td>\n",
       "      <td>NaN</td>\n",
       "    </tr>\n",
       "  </tbody>\n",
       "</table>\n",
       "</div>"
      ],
      "text/plain": [
       "      Product ID                                             Imagen  \\\n",
       "2787        1391  https://www.galileo61.com/2334/unique-pink-col...   \n",
       "\n",
       "                    Nombre Referencia         Categoría  Precio (imp. excl.)  \\\n",
       "2787  Unique Pink Collagen     007465  Productos Unique            72.727273   \n",
       "\n",
       "      Precio (imp. incl.)  Cantidad  Estado  Posición  \n",
       "2787                 80.0    4343.0       0       NaN  "
      ]
     },
     "execution_count": 36,
     "metadata": {},
     "output_type": "execute_result"
    }
   ],
   "source": [
    "prod_info[prod_info['Product ID']==1391]"
   ]
  },
  {
   "cell_type": "code",
   "execution_count": 38,
   "id": "manufactured-fitness",
   "metadata": {},
   "outputs": [
    {
     "data": {
      "text/html": [
       "<div>\n",
       "<style scoped>\n",
       "    .dataframe tbody tr th:only-of-type {\n",
       "        vertical-align: middle;\n",
       "    }\n",
       "\n",
       "    .dataframe tbody tr th {\n",
       "        vertical-align: top;\n",
       "    }\n",
       "\n",
       "    .dataframe thead th {\n",
       "        text-align: right;\n",
       "    }\n",
       "</style>\n",
       "<table border=\"1\" class=\"dataframe\">\n",
       "  <thead>\n",
       "    <tr style=\"text-align: right;\">\n",
       "      <th></th>\n",
       "      <th>ProductID</th>\n",
       "      <th>Nombre</th>\n",
       "      <th>PVP</th>\n",
       "    </tr>\n",
       "  </thead>\n",
       "  <tbody>\n",
       "    <tr>\n",
       "      <th>0</th>\n",
       "      <td>7878</td>\n",
       "      <td>My organics 7.0 Rubio / Blonde</td>\n",
       "      <td>14.90</td>\n",
       "    </tr>\n",
       "    <tr>\n",
       "      <th>1</th>\n",
       "      <td>7877</td>\n",
       "      <td>My Organics 8.0 Rubio Claro / Light Blonde</td>\n",
       "      <td>14.90</td>\n",
       "    </tr>\n",
       "    <tr>\n",
       "      <th>2</th>\n",
       "      <td>7876</td>\n",
       "      <td>Aceite corporal quemagrasas tacto seco Fat bur...</td>\n",
       "      <td>75.00</td>\n",
       "    </tr>\n",
       "    <tr>\n",
       "      <th>3</th>\n",
       "      <td>7875</td>\n",
       "      <td>Aceite anticelulítico tacto seco: Slimming Oil...</td>\n",
       "      <td>90.00</td>\n",
       "    </tr>\n",
       "    <tr>\n",
       "      <th>4</th>\n",
       "      <td>7874</td>\n",
       "      <td>Aceite reafirmante tacto seco Firming Oil 50ml...</td>\n",
       "      <td>70.00</td>\n",
       "    </tr>\n",
       "    <tr>\n",
       "      <th>...</th>\n",
       "      <td>...</td>\n",
       "      <td>...</td>\n",
       "      <td>...</td>\n",
       "    </tr>\n",
       "    <tr>\n",
       "      <th>3894</th>\n",
       "      <td>24</td>\n",
       "      <td>LINDEMIL SOLUCIÓN 500 ML</td>\n",
       "      <td>9.44</td>\n",
       "    </tr>\n",
       "    <tr>\n",
       "      <th>3895</th>\n",
       "      <td>23</td>\n",
       "      <td>LINDEMIL SOLUCIÓN 100 ML</td>\n",
       "      <td>4.45</td>\n",
       "    </tr>\n",
       "    <tr>\n",
       "      <th>3896</th>\n",
       "      <td>22</td>\n",
       "      <td>DISNEUMON PERNASAL 0.5% NEBULIZADOR 25 ML</td>\n",
       "      <td>5.35</td>\n",
       "    </tr>\n",
       "    <tr>\n",
       "      <th>3897</th>\n",
       "      <td>21</td>\n",
       "      <td>BUCOMETASANA 30 COMPRIMIDOS</td>\n",
       "      <td>7.35</td>\n",
       "    </tr>\n",
       "    <tr>\n",
       "      <th>3898</th>\n",
       "      <td>20</td>\n",
       "      <td>BUCOMETASANA 20 COMPRIMIDOS</td>\n",
       "      <td>5.85</td>\n",
       "    </tr>\n",
       "  </tbody>\n",
       "</table>\n",
       "<p>3899 rows × 3 columns</p>\n",
       "</div>"
      ],
      "text/plain": [
       "      ProductID                                             Nombre    PVP\n",
       "0          7878                     My organics 7.0 Rubio / Blonde  14.90\n",
       "1          7877         My Organics 8.0 Rubio Claro / Light Blonde  14.90\n",
       "2          7876  Aceite corporal quemagrasas tacto seco Fat bur...  75.00\n",
       "3          7875  Aceite anticelulítico tacto seco: Slimming Oil...  90.00\n",
       "4          7874  Aceite reafirmante tacto seco Firming Oil 50ml...  70.00\n",
       "...         ...                                                ...    ...\n",
       "3894         24                           LINDEMIL SOLUCIÓN 500 ML   9.44\n",
       "3895         23                           LINDEMIL SOLUCIÓN 100 ML   4.45\n",
       "3896         22          DISNEUMON PERNASAL 0.5% NEBULIZADOR 25 ML   5.35\n",
       "3897         21                        BUCOMETASANA 30 COMPRIMIDOS   7.35\n",
       "3898         20                        BUCOMETASANA 20 COMPRIMIDOS   5.85\n",
       "\n",
       "[3899 rows x 3 columns]"
      ]
     },
     "execution_count": 38,
     "metadata": {},
     "output_type": "execute_result"
    }
   ],
   "source": [
    "prod_info=prod_info[['Product ID','Nombre','Precio (imp. incl.)']]\n",
    "prod_info.columns=['ProductID','Nombre','PVP']\n",
    "prod_info"
   ]
  },
  {
   "cell_type": "code",
   "execution_count": 39,
   "id": "present-training",
   "metadata": {},
   "outputs": [
    {
     "data": {
      "text/html": [
       "<div>\n",
       "<style scoped>\n",
       "    .dataframe tbody tr th:only-of-type {\n",
       "        vertical-align: middle;\n",
       "    }\n",
       "\n",
       "    .dataframe tbody tr th {\n",
       "        vertical-align: top;\n",
       "    }\n",
       "\n",
       "    .dataframe thead th {\n",
       "        text-align: right;\n",
       "    }\n",
       "</style>\n",
       "<table border=\"1\" class=\"dataframe\">\n",
       "  <thead>\n",
       "    <tr style=\"text-align: right;\">\n",
       "      <th></th>\n",
       "      <th>ProductID</th>\n",
       "      <th>Nombre</th>\n",
       "      <th>PVP</th>\n",
       "    </tr>\n",
       "  </thead>\n",
       "  <tbody>\n",
       "    <tr>\n",
       "      <th>2787</th>\n",
       "      <td>1391</td>\n",
       "      <td>Unique Pink Collagen</td>\n",
       "      <td>80.0</td>\n",
       "    </tr>\n",
       "  </tbody>\n",
       "</table>\n",
       "</div>"
      ],
      "text/plain": [
       "      ProductID                Nombre   PVP\n",
       "2787       1391  Unique Pink Collagen  80.0"
      ]
     },
     "execution_count": 39,
     "metadata": {},
     "output_type": "execute_result"
    }
   ],
   "source": [
    "prod_info[prod_info['ProductID']==1391]"
   ]
  },
  {
   "cell_type": "code",
   "execution_count": 53,
   "id": "revolutionary-daisy",
   "metadata": {},
   "outputs": [
    {
     "data": {
      "text/plain": [
       "'Unique Pink Collagen'"
      ]
     },
     "execution_count": 53,
     "metadata": {},
     "output_type": "execute_result"
    }
   ],
   "source": [
    "product_name=prod_info[prod_info['ProductID']==1391]['Nombre'].values[0]\n",
    "product_name"
   ]
  },
  {
   "cell_type": "code",
   "execution_count": 40,
   "id": "first-toddler",
   "metadata": {},
   "outputs": [],
   "source": [
    "prod_info.to_csv(data_root+'prod_info.csv')"
   ]
  },
  {
   "cell_type": "markdown",
   "id": "welcome-lawyer",
   "metadata": {},
   "source": [
    "#### Preprocess with top features"
   ]
  },
  {
   "cell_type": "markdown",
   "id": "wireless-services",
   "metadata": {},
   "source": [
    "Hasta ahora, el preprocesado se hacía sobre el conjunto de datos, previo a la selección de variables. En este caso, dados los presupuestos en *¿Cómo funciona?* y para optimizar el coste computacional en *Maximizar las conversiones*, se seleccionarán los 9 atributos importantes antes del preprocesado. De este modo, se hace necesario reformular el preprocesado, relanzarlo y guardarlo con pickle.\n",
    "\n",
    "_\n",
    "\n",
    "**Nota**: Para replicar el siguiente código, antes es necesario ejecutar todas las celdas del apartado *DATA*."
   ]
  },
  {
   "cell_type": "code",
   "execution_count": 9,
   "id": "empty-citizen",
   "metadata": {},
   "outputs": [],
   "source": [
    "top9_features = ['ga:productSKU',\n",
    " 'ga:city',\n",
    " 'ga:pagePath',\n",
    " 'ga:landingPagePath',\n",
    " 'Product_price',\n",
    " 'Web_Discount',\n",
    " 'Detail_View',\n",
    " 'month_sin',\n",
    " 'month_cos']\n",
    "\n",
    "X_train_top9 = X_train[top9_features]\n",
    "X_test_top9 = X_test[top9_features]"
   ]
  },
  {
   "cell_type": "code",
   "execution_count": 10,
   "id": "automated-patch",
   "metadata": {},
   "outputs": [],
   "source": [
    "# Custom Transformers \n",
    "\n",
    "# Select other columns with no transformations (in order to be able to apply get_feature_names)\n",
    "\n",
    "class SelectColumnTransformer(BaseEstimator,TransformerMixin):\n",
    "    def fit(self,X,y=None):\n",
    "        return self\n",
    "    def transform (self,X,y=None):\n",
    "        return X\n",
    "    \n",
    "# Product_price - Web_Discount\n",
    "\n",
    "def engineer_feature(columns, X):\n",
    "    df = pd.DataFrame(X, columns=columns)\n",
    "    df[\"Product_price\"] = df[\"Product_price\"]*(1-df[\"Web_Discount\"])\n",
    "    return df"
   ]
  },
  {
   "cell_type": "code",
   "execution_count": 11,
   "id": "personalized-small",
   "metadata": {},
   "outputs": [],
   "source": [
    "## PREPROCESS PIPELINE:\n",
    "\n",
    "targetencod_preprocessing = Pipeline([('target_encoding',TargetEncoder())])\n",
    "\n",
    "no_preprocessing = Pipeline([('select_columns',SelectColumnTransformer())])\n",
    "\n",
    "# Product_price and Web_Discount Transformer\n",
    "from functools import partial\n",
    "def numeric_transformer(columns):\n",
    "    transformer = Pipeline([\n",
    "        (\"imputer\", SimpleImputer(strategy='median')),\n",
    "        (\"engineer\", FunctionTransformer(partial(engineer_feature, columns))),\n",
    "    ])\n",
    "    return (\"numeric\", transformer, columns)\n",
    "\n",
    "preprocess = ColumnTransformer([\n",
    "    ('targetencod_preprocessing',targetencod_preprocessing,['ga:productSKU','ga:city','ga:pagePath','ga:landingPagePath']),\n",
    "    numeric_transformer([\"Product_price\", \"Web_Discount\"]),\n",
    "    ('no_preprocessing',no_preprocessing,['Detail_View','month_sin','month_cos'])\n",
    "])\n",
    "\n",
    "# Model\n",
    "pipeline=Pipeline([\n",
    "    ('preprocess',preprocess),\n",
    "])"
   ]
  },
  {
   "cell_type": "code",
   "execution_count": 12,
   "id": "literary-analysis",
   "metadata": {},
   "outputs": [
    {
     "name": "stderr",
     "output_type": "stream",
     "text": [
      "/home/dsc/TFM/kschool_masterDS_TFM/env/lib/python3.7/site-packages/category_encoders/utils.py:21: FutureWarning: is_categorical is deprecated and will be removed in a future version.  Use is_categorical_dtype instead\n",
      "  elif pd.api.types.is_categorical(cols):\n"
     ]
    },
    {
     "name": "stdout",
     "output_type": "stream",
     "text": [
      "CPU times: user 29 s, sys: 1.58 s, total: 30.6 s\n",
      "Wall time: 30.7 s\n"
     ]
    }
   ],
   "source": [
    "%%time\n",
    "\n",
    "X_train_transf = pipeline.fit_transform(X_train_top9,y_train)\n",
    "X_test_transf = pipeline.transform(X_test_top9)"
   ]
  },
  {
   "cell_type": "code",
   "execution_count": 15,
   "id": "inclusive-translation",
   "metadata": {},
   "outputs": [
    {
     "data": {
      "text/html": [
       "<div>\n",
       "<style scoped>\n",
       "    .dataframe tbody tr th:only-of-type {\n",
       "        vertical-align: middle;\n",
       "    }\n",
       "\n",
       "    .dataframe tbody tr th {\n",
       "        vertical-align: top;\n",
       "    }\n",
       "\n",
       "    .dataframe thead th {\n",
       "        text-align: right;\n",
       "    }\n",
       "</style>\n",
       "<table border=\"1\" class=\"dataframe\">\n",
       "  <thead>\n",
       "    <tr style=\"text-align: right;\">\n",
       "      <th></th>\n",
       "      <th>ga:productSKU</th>\n",
       "      <th>ga:city</th>\n",
       "      <th>ga:pagePath</th>\n",
       "      <th>ga:landingPagePath</th>\n",
       "      <th>Product_price</th>\n",
       "      <th>Web_Discount</th>\n",
       "      <th>Detail_View</th>\n",
       "      <th>month_sin</th>\n",
       "      <th>month_cos</th>\n",
       "    </tr>\n",
       "  </thead>\n",
       "  <tbody>\n",
       "    <tr>\n",
       "      <th>0</th>\n",
       "      <td>0.000000</td>\n",
       "      <td>0.014300</td>\n",
       "      <td>0.005086</td>\n",
       "      <td>0.007857</td>\n",
       "      <td>3.4700</td>\n",
       "      <td>0.00</td>\n",
       "      <td>0.0</td>\n",
       "      <td>1.000000</td>\n",
       "      <td>6.123234e-17</td>\n",
       "    </tr>\n",
       "    <tr>\n",
       "      <th>1</th>\n",
       "      <td>0.002826</td>\n",
       "      <td>0.010447</td>\n",
       "      <td>0.003137</td>\n",
       "      <td>0.011877</td>\n",
       "      <td>35.4000</td>\n",
       "      <td>0.25</td>\n",
       "      <td>0.0</td>\n",
       "      <td>-0.866025</td>\n",
       "      <td>5.000000e-01</td>\n",
       "    </tr>\n",
       "    <tr>\n",
       "      <th>2</th>\n",
       "      <td>0.016505</td>\n",
       "      <td>0.012099</td>\n",
       "      <td>0.000673</td>\n",
       "      <td>0.011877</td>\n",
       "      <td>160.0000</td>\n",
       "      <td>0.00</td>\n",
       "      <td>0.0</td>\n",
       "      <td>-0.500000</td>\n",
       "      <td>8.660254e-01</td>\n",
       "    </tr>\n",
       "    <tr>\n",
       "      <th>3</th>\n",
       "      <td>0.007165</td>\n",
       "      <td>0.012099</td>\n",
       "      <td>0.000673</td>\n",
       "      <td>0.011877</td>\n",
       "      <td>12.7075</td>\n",
       "      <td>0.15</td>\n",
       "      <td>0.0</td>\n",
       "      <td>0.000000</td>\n",
       "      <td>1.000000e+00</td>\n",
       "    </tr>\n",
       "    <tr>\n",
       "      <th>4</th>\n",
       "      <td>0.000000</td>\n",
       "      <td>0.010396</td>\n",
       "      <td>0.005086</td>\n",
       "      <td>0.007857</td>\n",
       "      <td>10.6250</td>\n",
       "      <td>0.15</td>\n",
       "      <td>0.0</td>\n",
       "      <td>-0.500000</td>\n",
       "      <td>-8.660254e-01</td>\n",
       "    </tr>\n",
       "    <tr>\n",
       "      <th>...</th>\n",
       "      <td>...</td>\n",
       "      <td>...</td>\n",
       "      <td>...</td>\n",
       "      <td>...</td>\n",
       "      <td>...</td>\n",
       "      <td>...</td>\n",
       "      <td>...</td>\n",
       "      <td>...</td>\n",
       "      <td>...</td>\n",
       "    </tr>\n",
       "    <tr>\n",
       "      <th>2721214</th>\n",
       "      <td>0.029957</td>\n",
       "      <td>0.010447</td>\n",
       "      <td>0.002017</td>\n",
       "      <td>0.011877</td>\n",
       "      <td>23.8900</td>\n",
       "      <td>0.00</td>\n",
       "      <td>0.0</td>\n",
       "      <td>-0.500000</td>\n",
       "      <td>8.660254e-01</td>\n",
       "    </tr>\n",
       "    <tr>\n",
       "      <th>2721215</th>\n",
       "      <td>0.003646</td>\n",
       "      <td>0.010447</td>\n",
       "      <td>0.000673</td>\n",
       "      <td>0.011877</td>\n",
       "      <td>59.0000</td>\n",
       "      <td>0.00</td>\n",
       "      <td>0.0</td>\n",
       "      <td>0.000000</td>\n",
       "      <td>1.000000e+00</td>\n",
       "    </tr>\n",
       "    <tr>\n",
       "      <th>2721216</th>\n",
       "      <td>0.002418</td>\n",
       "      <td>0.010447</td>\n",
       "      <td>0.000673</td>\n",
       "      <td>0.011877</td>\n",
       "      <td>6.0500</td>\n",
       "      <td>0.00</td>\n",
       "      <td>0.0</td>\n",
       "      <td>-0.866025</td>\n",
       "      <td>5.000000e-01</td>\n",
       "    </tr>\n",
       "    <tr>\n",
       "      <th>2721217</th>\n",
       "      <td>0.001151</td>\n",
       "      <td>0.017161</td>\n",
       "      <td>0.002259</td>\n",
       "      <td>0.011877</td>\n",
       "      <td>53.7500</td>\n",
       "      <td>0.00</td>\n",
       "      <td>0.0</td>\n",
       "      <td>0.000000</td>\n",
       "      <td>1.000000e+00</td>\n",
       "    </tr>\n",
       "    <tr>\n",
       "      <th>2721218</th>\n",
       "      <td>0.003472</td>\n",
       "      <td>0.010447</td>\n",
       "      <td>0.000673</td>\n",
       "      <td>0.011877</td>\n",
       "      <td>59.0000</td>\n",
       "      <td>0.00</td>\n",
       "      <td>0.0</td>\n",
       "      <td>-0.866025</td>\n",
       "      <td>5.000000e-01</td>\n",
       "    </tr>\n",
       "  </tbody>\n",
       "</table>\n",
       "<p>2721219 rows × 9 columns</p>\n",
       "</div>"
      ],
      "text/plain": [
       "         ga:productSKU   ga:city  ga:pagePath  ga:landingPagePath  \\\n",
       "0             0.000000  0.014300     0.005086            0.007857   \n",
       "1             0.002826  0.010447     0.003137            0.011877   \n",
       "2             0.016505  0.012099     0.000673            0.011877   \n",
       "3             0.007165  0.012099     0.000673            0.011877   \n",
       "4             0.000000  0.010396     0.005086            0.007857   \n",
       "...                ...       ...          ...                 ...   \n",
       "2721214       0.029957  0.010447     0.002017            0.011877   \n",
       "2721215       0.003646  0.010447     0.000673            0.011877   \n",
       "2721216       0.002418  0.010447     0.000673            0.011877   \n",
       "2721217       0.001151  0.017161     0.002259            0.011877   \n",
       "2721218       0.003472  0.010447     0.000673            0.011877   \n",
       "\n",
       "         Product_price  Web_Discount  Detail_View  month_sin     month_cos  \n",
       "0               3.4700          0.00          0.0   1.000000  6.123234e-17  \n",
       "1              35.4000          0.25          0.0  -0.866025  5.000000e-01  \n",
       "2             160.0000          0.00          0.0  -0.500000  8.660254e-01  \n",
       "3              12.7075          0.15          0.0   0.000000  1.000000e+00  \n",
       "4              10.6250          0.15          0.0  -0.500000 -8.660254e-01  \n",
       "...                ...           ...          ...        ...           ...  \n",
       "2721214        23.8900          0.00          0.0  -0.500000  8.660254e-01  \n",
       "2721215        59.0000          0.00          0.0   0.000000  1.000000e+00  \n",
       "2721216         6.0500          0.00          0.0  -0.866025  5.000000e-01  \n",
       "2721217        53.7500          0.00          0.0   0.000000  1.000000e+00  \n",
       "2721218        59.0000          0.00          0.0  -0.866025  5.000000e-01  \n",
       "\n",
       "[2721219 rows x 9 columns]"
      ]
     },
     "execution_count": 15,
     "metadata": {},
     "output_type": "execute_result"
    }
   ],
   "source": [
    "pd.DataFrame(X_train_transf, columns=top9_features)"
   ]
  },
  {
   "cell_type": "code",
   "execution_count": 16,
   "id": "needed-passion",
   "metadata": {},
   "outputs": [],
   "source": [
    "pickle.dump(pipeline,open(\"FINALMODEL_preprocess_top9features.pickle\",\"wb\"))"
   ]
  },
  {
   "cell_type": "markdown",
   "id": "potential-comment",
   "metadata": {},
   "source": [
    "#### CSV de prueba"
   ]
  },
  {
   "cell_type": "markdown",
   "id": "reflected-syntax",
   "metadata": {},
   "source": [
    "En el ejemplo de la página ***Maximizar las conversiones***, se pide al usuario cargar un fichero con observaciones registradas de los usuarios. Para facilitar la prueba, creamos un fichero, seleccionando una muestra de 1000 observaciones del dataset de **Febrero y Marzo 2021** que utilizamos para evaluar la conveniencia del uso de técnicas de *oversampling/undersampling*:"
   ]
  },
  {
   "cell_type": "code",
   "execution_count": 35,
   "id": "sustainable-expert",
   "metadata": {},
   "outputs": [],
   "source": [
    "data_root=\"../data/\"\n",
    "datafile=os.path.join(data_root,'dfjoin_usertype_Scount_daysSLS_landing_campaign_srceMed_city_device_OS_price_disc_nocarrped_feb21_mar21.csv')\n",
    "csv=pd.read_csv(datafile,nrows=1000)\n",
    "csv.to_csv(data_root+'prueba_streamlit.csv')"
   ]
  },
  {
   "cell_type": "code",
   "execution_count": 21,
   "id": "similar-ontario",
   "metadata": {},
   "outputs": [
    {
     "name": "stdout",
     "output_type": "stream",
     "text": [
      "<class 'pandas.core.frame.DataFrame'>\n",
      "RangeIndex: 1000 entries, 0 to 999\n",
      "Data columns (total 22 columns):\n",
      " #   Column                   Non-Null Count  Dtype  \n",
      "---  ------                   --------------  -----  \n",
      " 0   Unnamed: 0               1000 non-null   int64  \n",
      " 1   Unnamed: 0.1             1000 non-null   int64  \n",
      " 2   ga:productSKU            1000 non-null   int64  \n",
      " 3   ga:dateHourMinute        1000 non-null   int64  \n",
      " 4   ga:pagePath              1000 non-null   object \n",
      " 5   ga:pageDepth             1000 non-null   int64  \n",
      " 6   ga:userType              1000 non-null   object \n",
      " 7   ga:sessionCount          1000 non-null   int64  \n",
      " 8   ga:daysSinceLastSession  1000 non-null   int64  \n",
      " 9   ga:landingPagePath       1000 non-null   object \n",
      " 10  ga:campaign              1000 non-null   object \n",
      " 11  ga:sourceMedium          1000 non-null   object \n",
      " 12  ga:city                  1000 non-null   object \n",
      " 13  ga:deviceCategory        1000 non-null   object \n",
      " 14  ga:operatingSystem       1000 non-null   object \n",
      " 15  ga:productListViews      1000 non-null   int64  \n",
      " 16  ga:productListClicks     1000 non-null   int64  \n",
      " 17  ga:productDetailViews    1000 non-null   int64  \n",
      " 18  ga:productAddsToCart     1000 non-null   int64  \n",
      " 19  Product_price            1000 non-null   float64\n",
      " 20  Web_Discount             1000 non-null   float64\n",
      " 21  pPath_clean              1000 non-null   object \n",
      "dtypes: float64(2), int64(11), object(9)\n",
      "memory usage: 172.0+ KB\n"
     ]
    }
   ],
   "source": [
    "data_root=\"../data/\"\n",
    "prueba=pd.read_csv(data_root+'prueba_streamlit.csv')\n",
    "prueba.info()"
   ]
  },
  {
   "cell_type": "markdown",
   "id": "refined-circuit",
   "metadata": {},
   "source": [
    "### Fichero.py"
   ]
  },
  {
   "cell_type": "markdown",
   "id": "backed-improvement",
   "metadata": {},
   "source": [
    "En la siguiente celda, creamos el fichero ***interactive_frontend.py*** con todo lo necesario para nuestra aplicación.\n",
    "\n",
    "Ejecute la celda que le sigue (***!streamlit run interactive_frontend.py***) para que se le abra en una ventana nueva del navegador y verla. Recuerde que, en la página *Maximizar las conversiones*, deberá cargar el fichero CSV de prueba creado anteriormente (también disponible en el directorio raiz específico donde se encuentran almacenados todos los ficheros de datos del proyecto). \n",
    "\n",
    "_\n",
    "\n",
    "**Nota**: Antes de ejecutar la siguiente celda, confirme al inicio (tras las librerías) el directorio raíz de los datos (*data_root*)."
   ]
  },
  {
   "cell_type": "code",
   "execution_count": 3,
   "id": "funky-passion",
   "metadata": {},
   "outputs": [
    {
     "name": "stdout",
     "output_type": "stream",
     "text": [
      "Overwriting interactive_frontend.py\n"
     ]
    }
   ],
   "source": [
    "%%writefile interactive_frontend.py\n",
    "\n",
    "# LIBRERÍAS:\n",
    "import streamlit as st\n",
    "import streamlit.components.v1 as components\n",
    "import pandas as pd\n",
    "import numpy as np\n",
    "import matplotlib.pyplot as plt\n",
    "import seaborn as sns\n",
    "import os\n",
    "import datetime\n",
    "import csv\n",
    "import pickle\n",
    "from sklearn.pipeline import Pipeline\n",
    "from sklearn.base import BaseEstimator,TransformerMixin\n",
    "from sklearn.preprocessing import FunctionTransformer\n",
    "from sklearn.compose import ColumnTransformer\n",
    "from sklearn.impute import SimpleImputer\n",
    "from category_encoders import TargetEncoder\n",
    "import shap\n",
    "\n",
    "# DIRECTORIO RAIZ DE LOS FICHEROS DE DATOS:\n",
    "data_root=\"../data/\"\n",
    "\n",
    "# MENU\n",
    "menu=['Introducción', 'Maximizar las conversiones','¿Cómo funciona?']\n",
    "choice=st.sidebar.radio('Menú',menu)\n",
    "\n",
    "if choice=='Introducción':\n",
    "    st.title('Introducción')\n",
    "    st.subheader('¿Cómo mejorar el ratio de conversión de un ecommerce sin morir en el intento?')\n",
    "    st.markdown('Gran parte de los esfuerzos de marketing en un e-commerce se centran en atraer tráfico a la web.\\\n",
    "    Sin embargo, no siempre se aplican los mismos recursos para retener a esos usuarios y garantizar su conversión.\\\n",
    "    Como respuesta a esta situación, en los últimos años, han surgido nuevas estrategias, en su mayoría manuales \\\n",
    "    y rudimentarias en su puesta en práctica, dirigidas a **mejorar las tasas de conversión** de los sitios web. ')\n",
    "    st.markdown('La mayoría de estos procesos podrían **agilizarse, optimizarse y automatizarse** gracias a modelos \\\n",
    "    de Aprendizaje Automático. Mediante el uso de un proceso generativo probabilístico se puede **modelizar\\\n",
    "    el comportamiento del cliente** a tiempo real, **predecir su toma de decisiones** en contextos específicos \\\n",
    "    y **adoptar medidas** adecuadas para favorecer su conversión.')\n",
    "    st.markdown('Mediante un **ejemplo práctico** aplicado a la farmacia online Galileo 61 ilustraremos\\\n",
    "    los beneficios de este tipo de sistemas. Empezaremos por ver cómo podemos **influir y maximizar las\\\n",
    "    conversiones** a partir de un modelo preentrenado de Machine Learning.')\n",
    "    st.markdown('*Pase a la siguiente página en el menú de la izquierda >*')\n",
    "\n",
    "if choice=='Maximizar las conversiones':\n",
    "        \n",
    "        # INPUT:\n",
    "        \n",
    "        st.title('Ejemplo de maximización de las conversiones')\n",
    "        st.subheader('¿Cuánto podrían haber aumentado las conversiones de haber aplicado un\\\n",
    "        descuento específico en el momento y lugar adecuados?')\n",
    "        st.markdown('Siga las instrucciones:')\n",
    "        \n",
    "        features=['ga:productSKU','Product_price','ga:pagePath','ga:landingPagePath','ga:city','ga:dateHourMinute','Web_Discount']\n",
    "        \n",
    "        try:\n",
    "            uploaded_file=st.file_uploader('Suba el fichero *prueba_streamlit.csv* disponible \\\n",
    "            en el directorio de datos', type='csv')  \n",
    "            \n",
    "            @st.cache(suppress_st_warning=True)\n",
    "            def create_df():\n",
    "                df=pd.read_csv(uploaded_file)\n",
    "                df=df[features]\n",
    "                df['ga:productSKU']=df['ga:productSKU'].astype('str')\n",
    "                df['ga:pagePath']=df['ga:pagePath'].astype('str')\n",
    "                df['ga:pagePath'] = df['ga:pagePath'].apply(lambda x: x[:x.find(\"?pag\")] if \"?pag\" in x else x)\n",
    "                df['Detail_View']=df['ga:pagePath'].apply(lambda url: 1 if url[-5:]=='.html' else 0)\n",
    "                df['ga:landingPagePath']=df['ga:landingPagePath'].astype('str')\n",
    "                df['ga:landingPagePath'] = df['ga:landingPagePath'].apply(lambda x: x[:x.find(\"?pag\")] if \"?pag\" in x else x)        \n",
    "                df['ga:city']=df['ga:city'].astype('str')\n",
    "                df['ga:dateHourMinute']=pd.to_datetime(df['ga:dateHourMinute'],format='%Y%m%d%H%M')\n",
    "                df['dateTime_month']=df['ga:dateHourMinute'].dt.month\n",
    "                df['month_sin']=np.sin((df.dateTime_month-1)*(2.*np.pi/12))\n",
    "                df['month_cos']=np.cos((df.dateTime_month-1)*(2.*np.pi/12))\n",
    "                return df\n",
    "            \n",
    "            df=create_df()\n",
    "        \n",
    "        except ValueError:\n",
    "            st.error('Arrastre el fichero o presione el botón para abrir el explorador de archivos.')\n",
    "        \n",
    "        try:\n",
    "            # PREPROCESS\n",
    "            \n",
    "            ## Custom Transformers\n",
    "            \n",
    "            class SelectColumnTransformer(BaseEstimator,TransformerMixin):\n",
    "                def fit(self,X,y=None):\n",
    "                    return self\n",
    "                def transform (self,X,y=None):\n",
    "                    return X\n",
    "            \n",
    "            def engineer_feature(columns, X):\n",
    "                df = pd.DataFrame(X, columns=columns)\n",
    "                df[\"Product_price\"] = df[\"Product_price\"]*(1-df[\"Web_Discount\"])\n",
    "                return df\n",
    "                \n",
    "            ## Transformation\n",
    "            final_features= ['ga:productSKU','ga:city','ga:pagePath','ga:landingPagePath','Product_price',\\\n",
    "                         'Web_Discount','Detail_View','month_sin','month_cos']\n",
    "        \n",
    "            @st.cache(suppress_st_warning=True)\n",
    "            def create_X():\n",
    "                X= df[final_features]\n",
    "                return X\n",
    "            \n",
    "            X=create_X()\n",
    "            preprocess = pickle.load(open(\"FINALMODEL_preprocess_top9features.pickle\",\"rb\"))\n",
    "            X_transf= preprocess.transform(X)\n",
    "            \n",
    "            # PREDICTIONS - modelo calibrado\n",
    "            \n",
    "            @st.cache(suppress_st_warning=True)\n",
    "            def results_calibrated():\n",
    "                model_calibrated = pickle.load(open(\"FINALCLF_calibrated.pickle\",\"rb\"))\n",
    "                predictions = pd.Series(model_calibrated.predict(X_transf))\n",
    "                \n",
    "                results_calibrated=df[final_features]\n",
    "                results_calibrated=pd.concat([results_calibrated,predictions],axis=1)\n",
    "                results_calibrated.rename(columns={0:'CONVERSION'},inplace=True)\n",
    "                return results_calibrated\n",
    "            \n",
    "            results_calibrated=results_calibrated()\n",
    "\n",
    "            ## OUTPUT\n",
    "            st.subheader('Número de observaciones totales:')\n",
    "            st.markdown(results_calibrated['CONVERSION'].count())\n",
    "            st.subheader('Número de conversiones esperadas:')\n",
    "            st.markdown(results_calibrated['CONVERSION'].sum())\n",
    "            st.subheader('Ratio de conversión:')\n",
    "            conversion_rate=results_calibrated['CONVERSION'].sum()/results_calibrated['CONVERSION'].count()\n",
    "            st.markdown(conversion_rate)\n",
    "            \n",
    "            discount=st.slider('Seleccione un porcentaje de descuento adicional para estimular a los indecisos:',0,50,5)\n",
    "            discount=int(discount)/100\n",
    "            submit=st.button('Aplicar descuento a los indecisos')\n",
    "            \n",
    "            if submit:\n",
    "                X_class0 = results_calibrated[results_calibrated['CONVERSION']==0].drop(['CONVERSION'], axis=1)\n",
    "                X_class0['Web_Discount']=X_class0['Web_Discount'].apply(lambda web_disc: web_disc+discount)\n",
    "                X_class0_transf= preprocess.transform(X_class0)\n",
    "                model_calibrated = pickle.load(open(\"FINALCLF_calibrated.pickle\",\"rb\"))\n",
    "                predictions_class0 = pd.Series(model_calibrated.predict(X_class0_transf))\n",
    "            \n",
    "                st.subheader('Número de conversiones adicionales tras aplicar el descuento a los indecisos:')\n",
    "                st.markdown(predictions_class0.sum())\n",
    "                st.subheader('Incremento en porcentaje:')\n",
    "                variation=np.round(predictions_class0.sum()/results_calibrated['CONVERSION'].sum()*100,2)\n",
    "                st.markdown(variation)\n",
    "                st.markdown('%')\n",
    "                st.subheader('Ratio de conversión tras aplicar el descuento a los indecisos:')\n",
    "                conversion_rate_after_discount=(results_calibrated['CONVERSION'].sum()+predictions_class0.sum())/results_calibrated['CONVERSION'].count()\n",
    "                st.markdown(conversion_rate_after_discount)\n",
    "                st.markdown('*Pase a la siguiente página (¿Cómo funciona?) para ver cómo se estiman \\\n",
    "                cada una de las conversiones >*')\n",
    "            \n",
    "        except NameError:\n",
    "            st.error('Una vez cargado el fichero se mostrará el número total de conversiones estimadas.')\n",
    "            \n",
    "if choice=='¿Cómo funciona?':\n",
    "        \n",
    "        # DATA:\n",
    "        \n",
    "        @st.cache(suppress_st_warning=True)\n",
    "        def load_cities():\n",
    "            with open(data_root+'cities.csv',newline='') as file:\n",
    "                reader = csv.reader(file)\n",
    "                cities = list(reader)\n",
    "            file.closed\n",
    "            return cities\n",
    "        \n",
    "        @st.cache(suppress_st_warning=True)\n",
    "        def load_prod_info():\n",
    "            prod_datafile=os.path.join(data_root,'prod_info.csv')\n",
    "            prod_info=pd.read_csv(prod_datafile)\n",
    "            prod_info['ProductID']=prod_info['ProductID'].astype(str)\n",
    "            return prod_info\n",
    "        \n",
    "        # INPUT:\n",
    "        \n",
    "        st.title('¿Cómo funciona?')\n",
    "        st.subheader('Introduciendo los siguientes datos, el modelo preentrenado de Machine Learning es capaz\\\n",
    "        de estimar la probabilidad de conversión y si el usuario en cuestión añadirá o no dicho producto \\\n",
    "        al carrito (probabilidad > 0.5):')\n",
    "        st.markdown('Siga las instrucciones:')\n",
    "        \n",
    "        productSKU=st.text_input('Introduzca la referencia (SKU) del producto para el que desea \\\n",
    "        realizar la predicción (Ejemplo: 1391):')\n",
    "        prod_info=load_prod_info()\n",
    "        try:\n",
    "            product_name=prod_info[prod_info['ProductID']==productSKU]['Nombre'].values[0]\n",
    "        except IndexError:\n",
    "            st.error('Indique una referencia de producto válida.')\n",
    "        try:\n",
    "            st.markdown(product_name)\n",
    "        except NameError:\n",
    "            st.error('Una vez introducida la referencia, se mostrará el nombre del producto.')\n",
    "        \n",
    "        try:\n",
    "            product_price=prod_info[prod_info['ProductID']==productSKU]['PVP'].values[0]\n",
    "        except IndexError:\n",
    "            st.error('Una vez introducida la referencia, se mostrará el precio del producto.')\n",
    "        try:\n",
    "            st.markdown(product_price)\n",
    "        except NameError:\n",
    "            st.error('Confirme que el precio en pantalla es válido.')\n",
    "        st.markdown('EUROS')\n",
    "        agree=st.checkbox('Marque la casilla para indicar que el precio mostrado es correcto.')\n",
    "        if agree==True:\n",
    "            price=product_price\n",
    "        else:\n",
    "            try:\n",
    "                price=st.text_input('Si no, introduzca directamente el PVP del producto:')\n",
    "                price=float(price.replace(',','.'))\n",
    "            except ValueError:\n",
    "                st.error('Este campo sólo acepta números.')\n",
    "        \n",
    "        url=st.text_input('Copie y pegue la URL específica que desea evaluar y en la que aparece el producto:')\n",
    "        https=\"https://\"\n",
    "        www='www.'\n",
    "        domain='galileo61.com'\n",
    "        url = url.replace(https,\"\")\n",
    "        url = url.replace(www,\"\")\n",
    "        url = url.replace(domain,\"\")\n",
    "        \n",
    "        landing=st.text_input('Copie y pegue la URL de la Landing Page del usuario en cuestión:')\n",
    "        landing = landing.replace(https,\"\")\n",
    "        landing = landing.replace(www,\"\")\n",
    "        landing = landing.replace(domain,\"\")\n",
    "        \n",
    "        cities=load_cities()\n",
    "        city=st.selectbox('Seleccione la ciudad del usuario en cuestión:',cities[0])\n",
    "        \n",
    "        date=st.date_input('Seleccione la fecha para la que desea realizar la predicción:', datetime.date(2021,1,1))\n",
    "        \n",
    "        discount=st.slider('Seleccion el porcentaje de descuento disponible en la web para esa fecha:',0,50,15)\n",
    "        discount=int(discount)/100\n",
    "        \n",
    "        submit=st.button('Confirmar valores')\n",
    "            \n",
    "        if submit:\n",
    "            \n",
    "            # DF    \n",
    "            dict_keys= ['product_name','ga:productSKU','ga:city','ga:pagePath',\\\n",
    "                        'ga:landingPagePath','Product_price','Web_Discount','date']\n",
    "            try:\n",
    "                dict_values=[product_name,productSKU,city,url,landing,price,discount,date]\n",
    "                dict_={}\n",
    "                for i,column in enumerate(dict_keys):\n",
    "                        dict_[column]=dict_values[i]\n",
    "                df=pd.DataFrame(dict_, index=[0])      \n",
    "            \n",
    "                aditional_discount=[0,0.03,0.05,0.08,0.1,0.15]\n",
    "                for i,value in enumerate(aditional_discount):\n",
    "                    df.at[i, 'Web_Discount'] = discount+value\n",
    "                df.fillna(method='ffill',inplace=True)\n",
    "                \n",
    "                # Feature Engineering\n",
    "                df['ga:pagePath'] = df['ga:pagePath'].apply(lambda x: x[:x.find(\"?pag\")] if \"?pag\" in x else x)\n",
    "                df['Detail_View']=df['ga:pagePath'].apply(lambda url: 1 if url[-5:]=='.html' else 0)\n",
    "                df['ga:landingPagePath'] = df['ga:landingPagePath'].apply(lambda x: x[:x.find(\"?pag\")] if \"?pag\" in x else x)\n",
    "                \n",
    "                df['date']=pd.to_datetime(df['date'],format='%Y-%m-%d')\n",
    "                df['dateTime_month']=df['date'].dt.month\n",
    "                df['month_sin']=np.sin((df.dateTime_month-1)*(2.*np.pi/12))\n",
    "                df['month_cos']=np.cos((df.dateTime_month-1)*(2.*np.pi/12))\n",
    "                \n",
    "                # PREPROCESS\n",
    "        \n",
    "                ## Custom Transformers\n",
    "        \n",
    "                class SelectColumnTransformer(BaseEstimator,TransformerMixin):\n",
    "                    def fit(self,X,y=None):\n",
    "                        return self\n",
    "                    def transform (self,X,y=None):\n",
    "                        return X\n",
    "                \n",
    "                def engineer_feature(columns, X):\n",
    "                    df = pd.DataFrame(X, columns=columns)\n",
    "                    df[\"Product_price\"] = df[\"Product_price\"]*(1-df[\"Web_Discount\"])\n",
    "                    return df\n",
    "                \n",
    "                ## Transformation\n",
    "                final_features= ['ga:productSKU','ga:city','ga:pagePath','ga:landingPagePath','Product_price',\\\n",
    "                                 'Web_Discount','Detail_View','month_sin','month_cos']\n",
    "                X= df[final_features]\n",
    "                preprocess = pickle.load(open(\"FINALMODEL_preprocess_top9features.pickle\",\"rb\"))\n",
    "                X_transf= preprocess.transform(X)\n",
    "                \n",
    "                # PREDICTIONS\n",
    "                \n",
    "                # modelo no calibrado\n",
    "                model_uncalibrated = pickle.load(open(\"FINALCLF_uncalibrated.pickle\",\"rb\"))\n",
    "                probabilities = pd.Series(np.round(model_uncalibrated.predict_proba(X_transf)[:,1],2))\n",
    "                predictions = pd.Series(model_uncalibrated.predict(X_transf))\n",
    "                \n",
    "                results_uncalibrated=df[dict_keys]\n",
    "                results_uncalibrated['date']=results_uncalibrated['date'].astype(str).str[:10]\n",
    "                results_uncalibrated=pd.concat([results_uncalibrated,probabilities,predictions],axis=1)\n",
    "                results_uncalibrated.rename(columns={0:'PROBABILIDAD',1:'CONVERSION'},inplace=True)\n",
    "                \n",
    "                x=results_uncalibrated['Web_Discount']\n",
    "                y=results_uncalibrated['PROBABILIDAD']\n",
    "                \n",
    "                fig_uncalibrated=plt.figure(figsize=(10,8))\n",
    "                ax=fig_uncalibrated.add_axes([0.5,0.2,0.6,0.5])\n",
    "                l1= ax.plot(x,y, color=\"#F63366\")\n",
    "                l2=ax.axhline(y=0.5, color='tab:gray', linestyle='-')\n",
    "                ax.set_ylim(bottom=0,top=1)\n",
    "                ax.set_xticks(x)\n",
    "                ax.set_xlabel('Porcentaje de Descuento Total ( web + adicional )')\n",
    "                ax.set_ylabel('Probabilidad de convertir')\n",
    "                ax.set_title('Probabilidad de convertir en base al descuento')\n",
    "                \n",
    "                # shap interpretation\n",
    "                def st_shap(plot, height=None):\n",
    "                    shap_html = f\"<head>{shap.getjs()}</head><body>{plot.html()}</body>\"\n",
    "                    components.html(shap_html, height=height)\n",
    "                \n",
    "                X_transf=pd.DataFrame(X_transf,columns=final_features)\n",
    "                explainer=shap.TreeExplainer(model_uncalibrated)\n",
    "                chosen_instance = X_transf.loc[[0]]\n",
    "                shap_values = explainer.shap_values(chosen_instance)\n",
    "                shap.initjs()\n",
    "        \n",
    "                # modelo calibrado\n",
    "                model_calibrated = pickle.load(open(\"FINALCLF_calibrated.pickle\",\"rb\"))\n",
    "                probabilities = pd.Series(np.round(model_calibrated.predict_proba(X_transf)[:,1],2))\n",
    "                predictions = pd.Series(model_calibrated.predict(X_transf))\n",
    "                \n",
    "                results_calibrated=df[dict_keys]\n",
    "                results_calibrated['date']=results_calibrated['date'].astype(str).str[:10]\n",
    "                results_calibrated=pd.concat([results_calibrated,probabilities,predictions],axis=1)\n",
    "                results_calibrated.rename(columns={0:'PROBABILIDAD',1:'CONVERSION'},inplace=True)\n",
    "                \n",
    "                x=results_calibrated['Web_Discount']\n",
    "                y=results_calibrated['PROBABILIDAD']\n",
    "                \n",
    "                fig_calibrated=plt.figure(figsize=(10,8))\n",
    "                ax=fig_calibrated.add_axes([0.5,0.2,0.6,0.5])\n",
    "                l1= ax.plot(x,y,color=\"#F63366\")\n",
    "                l2=ax.axhline(y=0.5, color='tab:gray', linestyle='-')\n",
    "                ax.set_ylim(bottom=0,top=1)\n",
    "                ax.set_xticks(x)\n",
    "                ax.set_xlabel('Porcentaje de Descuento Total ( web + adicional )')\n",
    "                ax.set_ylabel('Probabilidad de convertir')\n",
    "                ax.set_title('Probabilidad de convertir en base al descuento')\n",
    "                \n",
    "                # OUTPUT\n",
    "                st.title('Predicciones más optimistas:')\n",
    "                st.subheader('Probabilidad de convertir sin descuento adicional:')\n",
    "                st.markdown('En la siguiente visualización, se muestran los principales atributos \\\n",
    "                que contribuyen **positiva** (en rojo) y **negativamente** (en azul) a la probabilidad \\\n",
    "                de conversión en este caso específico:')\n",
    "                st_shap(shap.force_plot(explainer.expected_value[1], shap_values[1], chosen_instance))\n",
    "                st.subheader('Probabilidad de convertir para distintos tipos de descuento:')\n",
    "                st.markdown('Así evolucionan las probabilidades, si atendemos a distintos tipos de \\\n",
    "                descuento adicionales:')\n",
    "                st.table(results_uncalibrated)\n",
    "                st.pyplot(fig_uncalibrated)\n",
    "                st.title('Predicciones menos optimistas:')\n",
    "                st.table(results_calibrated)\n",
    "                st.pyplot(fig_calibrated)\n",
    "                \n",
    "            except NameError:\n",
    "                st.error('Debe completar todos los campos del formulario.')\n",
    "            "
   ]
  },
  {
   "cell_type": "code",
   "execution_count": 4,
   "id": "concrete-greene",
   "metadata": {},
   "outputs": [
    {
     "name": "stdout",
     "output_type": "stream",
     "text": [
      "\u001b[0m\n",
      "\u001b[34m\u001b[1m  You can now view your Streamlit app in your browser.\u001b[0m\n",
      "\u001b[0m\n",
      "\u001b[34m  Local URL: \u001b[0m\u001b[1mhttp://localhost:8501\u001b[0m\n",
      "\u001b[34m  Network URL: \u001b[0m\u001b[1mhttp://10.0.2.15:8501\u001b[0m\n",
      "\u001b[0m\n",
      "\n",
      "A value is trying to be set on a copy of a slice from a DataFrame.\n",
      "Try using .loc[row_indexer,col_indexer] = value instead\n",
      "\n",
      "See the caveats in the documentation: https://pandas.pydata.org/pandas-docs/stable/user_guide/indexing.html#returning-a-view-versus-a-copy\n",
      "<IPython.core.display.HTML object>\n",
      "\n",
      "A value is trying to be set on a copy of a slice from a DataFrame.\n",
      "Try using .loc[row_indexer,col_indexer] = value instead\n",
      "\n",
      "See the caveats in the documentation: https://pandas.pydata.org/pandas-docs/stable/user_guide/indexing.html#returning-a-view-versus-a-copy\n",
      "^C\n",
      "\u001b[34m  Stopping...\u001b[0m\n"
     ]
    }
   ],
   "source": [
    "!streamlit run interactive_frontend.py"
   ]
  },
  {
   "cell_type": "code",
   "execution_count": null,
   "id": "latter-heather",
   "metadata": {},
   "outputs": [],
   "source": []
  }
 ],
 "metadata": {
  "environment": {
   "name": "common-cpu.m68",
   "type": "gcloud",
   "uri": "gcr.io/deeplearning-platform-release/base-cpu:m68"
  },
  "kernelspec": {
   "display_name": "Python 3",
   "language": "python",
   "name": "python3"
  },
  "language_info": {
   "codemirror_mode": {
    "name": "ipython",
    "version": 3
   },
   "file_extension": ".py",
   "mimetype": "text/x-python",
   "name": "python",
   "nbconvert_exporter": "python",
   "pygments_lexer": "ipython3",
   "version": "3.7.10"
  },
  "toc": {
   "base_numbering": 1,
   "nav_menu": {},
   "number_sections": true,
   "sideBar": true,
   "skip_h1_title": false,
   "title_cell": "Table of Contents",
   "title_sidebar": "Contents",
   "toc_cell": true,
   "toc_position": {
    "height": "calc(100% - 180px)",
    "left": "10px",
    "top": "150px",
    "width": "352px"
   },
   "toc_section_display": true,
   "toc_window_display": true
  }
 },
 "nbformat": 4,
 "nbformat_minor": 5
}
