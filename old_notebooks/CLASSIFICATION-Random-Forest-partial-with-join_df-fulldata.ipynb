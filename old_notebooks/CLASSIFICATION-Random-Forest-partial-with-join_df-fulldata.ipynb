{
 "cells": [
  {
   "cell_type": "markdown",
   "id": "chinese-miller",
   "metadata": {
    "toc": true
   },
   "source": [
    "<h1>Table of Contents<span class=\"tocSkip\"></span></h1>\n",
    "<div class=\"toc\"><ul class=\"toc-item\"><li><span><a href=\"#DATA\" data-toc-modified-id=\"DATA-1\"><span class=\"toc-item-num\">1&nbsp;&nbsp;</span>DATA</a></span><ul class=\"toc-item\"><li><span><a href=\"#Dataset\" data-toc-modified-id=\"Dataset-1.1\"><span class=\"toc-item-num\">1.1&nbsp;&nbsp;</span>Dataset</a></span></li><li><span><a href=\"#Target\" data-toc-modified-id=\"Target-1.2\"><span class=\"toc-item-num\">1.2&nbsp;&nbsp;</span>Target</a></span></li></ul></li><li><span><a href=\"#Functions\" data-toc-modified-id=\"Functions-2\"><span class=\"toc-item-num\">2&nbsp;&nbsp;</span>Functions</a></span><ul class=\"toc-item\"><li><span><a href=\"#Model-evaluation\" data-toc-modified-id=\"Model-evaluation-2.1\"><span class=\"toc-item-num\">2.1&nbsp;&nbsp;</span>Model evaluation</a></span></li><li><span><a href=\"#Visualize-Random-Forests\" data-toc-modified-id=\"Visualize-Random-Forests-2.2\"><span class=\"toc-item-num\">2.2&nbsp;&nbsp;</span>Visualize Random Forests</a></span></li></ul></li><li><span><a href=\"#Random-Forest\" data-toc-modified-id=\"Random-Forest-3\"><span class=\"toc-item-num\">3&nbsp;&nbsp;</span>Random Forest</a></span><ul class=\"toc-item\"><li><span><a href=\"#BASELINE-with-Numerical-Data\" data-toc-modified-id=\"BASELINE-with-Numerical-Data-3.1\"><span class=\"toc-item-num\">3.1&nbsp;&nbsp;</span>BASELINE with Numerical Data</a></span><ul class=\"toc-item\"><li><span><a href=\"#pageDepth-+-sessionCount-+-daysSinceLastLession\" data-toc-modified-id=\"pageDepth-+-sessionCount-+-daysSinceLastLession-3.1.1\"><span class=\"toc-item-num\">3.1.1&nbsp;&nbsp;</span>pageDepth + sessionCount + daysSinceLastLession</a></span></li><li><span><a href=\"#pageDepth-+-sessionCount\" data-toc-modified-id=\"pageDepth-+-sessionCount-3.1.2\"><span class=\"toc-item-num\">3.1.2&nbsp;&nbsp;</span>pageDepth + sessionCount</a></span></li></ul></li><li><span><a href=\"#+-PRODUCT-SKU\" data-toc-modified-id=\"+-PRODUCT-SKU-3.2\"><span class=\"toc-item-num\">3.2&nbsp;&nbsp;</span>+ PRODUCT SKU</a></span><ul class=\"toc-item\"><li><span><a href=\"#Feature-Engineering\" data-toc-modified-id=\"Feature-Engineering-3.2.1\"><span class=\"toc-item-num\">3.2.1&nbsp;&nbsp;</span>Feature Engineering</a></span></li><li><span><a href=\"#Classifier\" data-toc-modified-id=\"Classifier-3.2.2\"><span class=\"toc-item-num\">3.2.2&nbsp;&nbsp;</span>Classifier</a></span></li></ul></li><li><span><a href=\"#+-DATEHOURMINUTE\" data-toc-modified-id=\"+-DATEHOURMINUTE-3.3\"><span class=\"toc-item-num\">3.3&nbsp;&nbsp;</span>+ DATEHOURMINUTE</a></span><ul class=\"toc-item\"><li><span><a href=\"#Month\" data-toc-modified-id=\"Month-3.3.1\"><span class=\"toc-item-num\">3.3.1&nbsp;&nbsp;</span>Month</a></span><ul class=\"toc-item\"><li><span><a href=\"#Data\" data-toc-modified-id=\"Data-3.3.1.1\"><span class=\"toc-item-num\">3.3.1.1&nbsp;&nbsp;</span>Data</a></span></li><li><span><a href=\"#Classifier\" data-toc-modified-id=\"Classifier-3.3.1.2\"><span class=\"toc-item-num\">3.3.1.2&nbsp;&nbsp;</span>Classifier</a></span></li></ul></li><li><span><a href=\"#Day-of-week\" data-toc-modified-id=\"Day-of-week-3.3.2\"><span class=\"toc-item-num\">3.3.2&nbsp;&nbsp;</span>Day of week</a></span><ul class=\"toc-item\"><li><span><a href=\"#Data\" data-toc-modified-id=\"Data-3.3.2.1\"><span class=\"toc-item-num\">3.3.2.1&nbsp;&nbsp;</span>Data</a></span></li><li><span><a href=\"#Classifier\" data-toc-modified-id=\"Classifier-3.3.2.2\"><span class=\"toc-item-num\">3.3.2.2&nbsp;&nbsp;</span>Classifier</a></span></li></ul></li><li><span><a href=\"#Hour\" data-toc-modified-id=\"Hour-3.3.3\"><span class=\"toc-item-num\">3.3.3&nbsp;&nbsp;</span>Hour</a></span><ul class=\"toc-item\"><li><span><a href=\"#Data\" data-toc-modified-id=\"Data-3.3.3.1\"><span class=\"toc-item-num\">3.3.3.1&nbsp;&nbsp;</span>Data</a></span></li><li><span><a href=\"#Classifier\" data-toc-modified-id=\"Classifier-3.3.3.2\"><span class=\"toc-item-num\">3.3.3.2&nbsp;&nbsp;</span>Classifier</a></span></li></ul></li></ul></li><li><span><a href=\"#+-SOURCE-/-MEDIUM\" data-toc-modified-id=\"+-SOURCE-/-MEDIUM-3.4\"><span class=\"toc-item-num\">3.4&nbsp;&nbsp;</span>+ SOURCE / MEDIUM</a></span><ul class=\"toc-item\"><li><span><a href=\"#Pipeline\" data-toc-modified-id=\"Pipeline-3.4.1\"><span class=\"toc-item-num\">3.4.1&nbsp;&nbsp;</span>Pipeline</a></span></li><li><span><a href=\"#Classifier\" data-toc-modified-id=\"Classifier-3.4.2\"><span class=\"toc-item-num\">3.4.2&nbsp;&nbsp;</span>Classifier</a></span></li></ul></li><li><span><a href=\"#+-CITY\" data-toc-modified-id=\"+-CITY-3.5\"><span class=\"toc-item-num\">3.5&nbsp;&nbsp;</span>+ CITY</a></span><ul class=\"toc-item\"><li><span><a href=\"#Pipeline\" data-toc-modified-id=\"Pipeline-3.5.1\"><span class=\"toc-item-num\">3.5.1&nbsp;&nbsp;</span>Pipeline</a></span></li><li><span><a href=\"#Classifier\" data-toc-modified-id=\"Classifier-3.5.2\"><span class=\"toc-item-num\">3.5.2&nbsp;&nbsp;</span>Classifier</a></span></li></ul></li><li><span><a href=\"#+-DEVICE\" data-toc-modified-id=\"+-DEVICE-3.6\"><span class=\"toc-item-num\">3.6&nbsp;&nbsp;</span>+ DEVICE</a></span><ul class=\"toc-item\"><li><span><a href=\"#Pipeline\" data-toc-modified-id=\"Pipeline-3.6.1\"><span class=\"toc-item-num\">3.6.1&nbsp;&nbsp;</span>Pipeline</a></span></li><li><span><a href=\"#Classifier\" data-toc-modified-id=\"Classifier-3.6.2\"><span class=\"toc-item-num\">3.6.2&nbsp;&nbsp;</span>Classifier</a></span></li></ul></li><li><span><a href=\"#+-OPERATING-SYSTEM\" data-toc-modified-id=\"+-OPERATING-SYSTEM-3.7\"><span class=\"toc-item-num\">3.7&nbsp;&nbsp;</span>+ OPERATING SYSTEM</a></span><ul class=\"toc-item\"><li><span><a href=\"#Pipeline\" data-toc-modified-id=\"Pipeline-3.7.1\"><span class=\"toc-item-num\">3.7.1&nbsp;&nbsp;</span>Pipeline</a></span></li><li><span><a href=\"#Classifier\" data-toc-modified-id=\"Classifier-3.7.2\"><span class=\"toc-item-num\">3.7.2&nbsp;&nbsp;</span>Classifier</a></span></li></ul></li><li><span><a href=\"#+-USER-TYPE\" data-toc-modified-id=\"+-USER-TYPE-3.8\"><span class=\"toc-item-num\">3.8&nbsp;&nbsp;</span>+ USER TYPE</a></span><ul class=\"toc-item\"><li><span><a href=\"#Pipeline\" data-toc-modified-id=\"Pipeline-3.8.1\"><span class=\"toc-item-num\">3.8.1&nbsp;&nbsp;</span>Pipeline</a></span></li><li><span><a href=\"#Classifier\" data-toc-modified-id=\"Classifier-3.8.2\"><span class=\"toc-item-num\">3.8.2&nbsp;&nbsp;</span>Classifier</a></span></li></ul></li><li><span><a href=\"#+-PRODUCT-PRICE\" data-toc-modified-id=\"+-PRODUCT-PRICE-3.9\"><span class=\"toc-item-num\">3.9&nbsp;&nbsp;</span>+ PRODUCT PRICE</a></span><ul class=\"toc-item\"><li><span><a href=\"#Pipeline\" data-toc-modified-id=\"Pipeline-3.9.1\"><span class=\"toc-item-num\">3.9.1&nbsp;&nbsp;</span>Pipeline</a></span></li><li><span><a href=\"#Classifier\" data-toc-modified-id=\"Classifier-3.9.2\"><span class=\"toc-item-num\">3.9.2&nbsp;&nbsp;</span>Classifier</a></span></li></ul></li><li><span><a href=\"#+-WEB-DISCOUNT\" data-toc-modified-id=\"+-WEB-DISCOUNT-3.10\"><span class=\"toc-item-num\">3.10&nbsp;&nbsp;</span>+ WEB DISCOUNT</a></span><ul class=\"toc-item\"><li><span><a href=\"#Pipeline\" data-toc-modified-id=\"Pipeline-3.10.1\"><span class=\"toc-item-num\">3.10.1&nbsp;&nbsp;</span>Pipeline</a></span></li><li><span><a href=\"#Classifier\" data-toc-modified-id=\"Classifier-3.10.2\"><span class=\"toc-item-num\">3.10.2&nbsp;&nbsp;</span>Classifier</a></span></li></ul></li><li><span><a href=\"#+-PAGE-PATH\" data-toc-modified-id=\"+-PAGE-PATH-3.11\"><span class=\"toc-item-num\">3.11&nbsp;&nbsp;</span>+ PAGE PATH</a></span><ul class=\"toc-item\"><li><span><a href=\"#Pipeline\" data-toc-modified-id=\"Pipeline-3.11.1\"><span class=\"toc-item-num\">3.11.1&nbsp;&nbsp;</span>Pipeline</a></span></li><li><span><a href=\"#Classifier\" data-toc-modified-id=\"Classifier-3.11.2\"><span class=\"toc-item-num\">3.11.2&nbsp;&nbsp;</span>Classifier</a></span></li></ul></li><li><span><a href=\"#+-DETAIL-VIEW-(YES-OR-NO)\" data-toc-modified-id=\"+-DETAIL-VIEW-(YES-OR-NO)-3.12\"><span class=\"toc-item-num\">3.12&nbsp;&nbsp;</span>+ DETAIL VIEW (YES OR NO)</a></span><ul class=\"toc-item\"><li><span><a href=\"#Pipeline\" data-toc-modified-id=\"Pipeline-3.12.1\"><span class=\"toc-item-num\">3.12.1&nbsp;&nbsp;</span>Pipeline</a></span></li><li><span><a href=\"#Classifier\" data-toc-modified-id=\"Classifier-3.12.2\"><span class=\"toc-item-num\">3.12.2&nbsp;&nbsp;</span>Classifier</a></span></li></ul></li><li><span><a href=\"#+-LANDING-PAGE-PATH\" data-toc-modified-id=\"+-LANDING-PAGE-PATH-3.13\"><span class=\"toc-item-num\">3.13&nbsp;&nbsp;</span>+ LANDING PAGE PATH</a></span><ul class=\"toc-item\"><li><span><a href=\"#Pipeline\" data-toc-modified-id=\"Pipeline-3.13.1\"><span class=\"toc-item-num\">3.13.1&nbsp;&nbsp;</span>Pipeline</a></span></li><li><span><a href=\"#Classifier\" data-toc-modified-id=\"Classifier-3.13.2\"><span class=\"toc-item-num\">3.13.2&nbsp;&nbsp;</span>Classifier</a></span></li></ul></li></ul></li></ul></div>"
   ]
  },
  {
   "cell_type": "code",
   "execution_count": 1,
   "id": "reverse-albania",
   "metadata": {},
   "outputs": [],
   "source": [
    "import pandas as pd\n",
    "import numpy as np\n",
    "import matplotlib.pyplot as plt\n",
    "import seaborn as sns\n",
    "%matplotlib inline\n",
    "from sklearn.model_selection import train_test_split\n",
    "from sklearn.linear_model import LogisticRegression\n",
    "from sklearn.ensemble import RandomForestClassifier\n",
    "from sklearn.metrics import f1_score, recall_score, precision_score, roc_auc_score, roc_curve, accuracy_score\n",
    "from sklearn.metrics import confusion_matrix\n",
    "from sklearn.metrics import classification_report\n",
    "from sklearn.model_selection import cross_val_score\n",
    "from sklearn.pipeline import Pipeline, FeatureUnion\n",
    "from sklearn.base import BaseEstimator,TransformerMixin\n",
    "from sklearn.preprocessing import FunctionTransformer, OneHotEncoder\n",
    "from sklearn.compose import ColumnTransformer\n",
    "from sklearn.impute import SimpleImputer\n",
    "from category_encoders import TargetEncoder\n",
    "from scipy import stats\n",
    "import statsmodels.api as sm\n",
    "import os\n",
    "from IPython.display import Image\n",
    "import pydotplus\n",
    "from sklearn import tree"
   ]
  },
  {
   "cell_type": "markdown",
   "id": "differential-constant",
   "metadata": {},
   "source": [
    "## DATA"
   ]
  },
  {
   "cell_type": "markdown",
   "id": "approximate-killer",
   "metadata": {},
   "source": [
    "### Dataset"
   ]
  },
  {
   "cell_type": "code",
   "execution_count": 2,
   "id": "stuck-worry",
   "metadata": {},
   "outputs": [
    {
     "name": "stderr",
     "output_type": "stream",
     "text": [
      "/home/dsc/TFM/kschool_masterDS_TFM/env/lib/python3.9/site-packages/IPython/core/interactiveshell.py:3165: DtypeWarning: Columns (1) have mixed types.Specify dtype option on import or set low_memory=False.\n",
      "  has_raised = await self.run_ast_nodes(code_ast.body, cell_name,\n"
     ]
    },
    {
     "name": "stdout",
     "output_type": "stream",
     "text": [
      "(3654882, 18)\n"
     ]
    },
    {
     "data": {
      "text/html": [
       "<div>\n",
       "<style scoped>\n",
       "    .dataframe tbody tr th:only-of-type {\n",
       "        vertical-align: middle;\n",
       "    }\n",
       "\n",
       "    .dataframe tbody tr th {\n",
       "        vertical-align: top;\n",
       "    }\n",
       "\n",
       "    .dataframe thead th {\n",
       "        text-align: right;\n",
       "    }\n",
       "</style>\n",
       "<table border=\"1\" class=\"dataframe\">\n",
       "  <thead>\n",
       "    <tr style=\"text-align: right;\">\n",
       "      <th></th>\n",
       "      <th>Unnamed: 0</th>\n",
       "      <th>ga:productSKU</th>\n",
       "      <th>ga:dateHourMinute</th>\n",
       "      <th>ga:pagePath</th>\n",
       "      <th>ga:pageDepth</th>\n",
       "      <th>ga:userType</th>\n",
       "      <th>ga:sessionCount</th>\n",
       "      <th>ga:daysSinceLastSession</th>\n",
       "      <th>ga:landingPagePath</th>\n",
       "      <th>ga:campaign</th>\n",
       "      <th>ga:sourceMedium</th>\n",
       "      <th>ga:city</th>\n",
       "      <th>ga:deviceCategory</th>\n",
       "      <th>ga:operatingSystem</th>\n",
       "      <th>ga:productListViews</th>\n",
       "      <th>ga:productListClicks</th>\n",
       "      <th>ga:productDetailViews</th>\n",
       "      <th>ga:productAddsToCart</th>\n",
       "    </tr>\n",
       "  </thead>\n",
       "  <tbody>\n",
       "    <tr>\n",
       "      <th>0</th>\n",
       "      <td>0</td>\n",
       "      <td>1008</td>\n",
       "      <td>201904301452</td>\n",
       "      <td>/parafarmacia/es/</td>\n",
       "      <td>1</td>\n",
       "      <td>New Visitor</td>\n",
       "      <td>1</td>\n",
       "      <td>0</td>\n",
       "      <td>/parafarmacia/es/</td>\n",
       "      <td>(not set)</td>\n",
       "      <td>(direct) / (none)</td>\n",
       "      <td>Burgos</td>\n",
       "      <td>mobile</td>\n",
       "      <td>iOS</td>\n",
       "      <td>1</td>\n",
       "      <td>0</td>\n",
       "      <td>0</td>\n",
       "      <td>0</td>\n",
       "    </tr>\n",
       "    <tr>\n",
       "      <th>1</th>\n",
       "      <td>1</td>\n",
       "      <td>1008</td>\n",
       "      <td>201904301524</td>\n",
       "      <td>/parafarmacia/es/</td>\n",
       "      <td>3</td>\n",
       "      <td>New Visitor</td>\n",
       "      <td>1</td>\n",
       "      <td>0</td>\n",
       "      <td>/parafarmacia/es/</td>\n",
       "      <td>(not set)</td>\n",
       "      <td>(direct) / (none)</td>\n",
       "      <td>Madrid</td>\n",
       "      <td>desktop</td>\n",
       "      <td>Windows</td>\n",
       "      <td>1</td>\n",
       "      <td>0</td>\n",
       "      <td>0</td>\n",
       "      <td>0</td>\n",
       "    </tr>\n",
       "    <tr>\n",
       "      <th>2</th>\n",
       "      <td>2</td>\n",
       "      <td>1008</td>\n",
       "      <td>201904301545</td>\n",
       "      <td>/parafarmacia/es/</td>\n",
       "      <td>7</td>\n",
       "      <td>Returning Visitor</td>\n",
       "      <td>33</td>\n",
       "      <td>0</td>\n",
       "      <td>/parafarmacia/es/</td>\n",
       "      <td>(not set)</td>\n",
       "      <td>merchants.google.com / referral</td>\n",
       "      <td>Zamudio</td>\n",
       "      <td>desktop</td>\n",
       "      <td>Windows</td>\n",
       "      <td>1</td>\n",
       "      <td>0</td>\n",
       "      <td>0</td>\n",
       "      <td>0</td>\n",
       "    </tr>\n",
       "  </tbody>\n",
       "</table>\n",
       "</div>"
      ],
      "text/plain": [
       "   Unnamed: 0 ga:productSKU  ga:dateHourMinute        ga:pagePath  \\\n",
       "0           0          1008       201904301452  /parafarmacia/es/   \n",
       "1           1          1008       201904301524  /parafarmacia/es/   \n",
       "2           2          1008       201904301545  /parafarmacia/es/   \n",
       "\n",
       "   ga:pageDepth        ga:userType  ga:sessionCount  ga:daysSinceLastSession  \\\n",
       "0             1        New Visitor                1                        0   \n",
       "1             3        New Visitor                1                        0   \n",
       "2             7  Returning Visitor               33                        0   \n",
       "\n",
       "  ga:landingPagePath ga:campaign                  ga:sourceMedium  ga:city  \\\n",
       "0  /parafarmacia/es/   (not set)                (direct) / (none)   Burgos   \n",
       "1  /parafarmacia/es/   (not set)                (direct) / (none)   Madrid   \n",
       "2  /parafarmacia/es/   (not set)  merchants.google.com / referral  Zamudio   \n",
       "\n",
       "  ga:deviceCategory ga:operatingSystem  ga:productListViews  \\\n",
       "0            mobile                iOS                    1   \n",
       "1           desktop            Windows                    1   \n",
       "2           desktop            Windows                    1   \n",
       "\n",
       "   ga:productListClicks  ga:productDetailViews  ga:productAddsToCart  \n",
       "0                     0                      0                     0  \n",
       "1                     0                      0                     0  \n",
       "2                     0                      0                     0  "
      ]
     },
     "execution_count": 2,
     "metadata": {},
     "output_type": "execute_result"
    }
   ],
   "source": [
    "data_root=\"../data/\"\n",
    "datafile=os.path.join(data_root,'dfjoin_usertype_Scount_daysSLS_landing_campaign_srceMed_city_device_OS_2019_2020_jan21.csv')\n",
    "df=pd.read_csv(datafile)\n",
    "print(df.shape)\n",
    "df.head(3)"
   ]
  },
  {
   "cell_type": "code",
   "execution_count": 3,
   "id": "foreign-theology",
   "metadata": {},
   "outputs": [
    {
     "name": "stdout",
     "output_type": "stream",
     "text": [
      "(3654882, 17)\n",
      "\n",
      "<class 'pandas.core.frame.DataFrame'>\n",
      "RangeIndex: 3654882 entries, 0 to 3654881\n",
      "Data columns (total 17 columns):\n",
      " #   Column                   Dtype \n",
      "---  ------                   ----- \n",
      " 0   ga:productSKU            object\n",
      " 1   ga:dateHourMinute        int64 \n",
      " 2   ga:pagePath              object\n",
      " 3   ga:pageDepth             int64 \n",
      " 4   ga:userType              object\n",
      " 5   ga:sessionCount          int64 \n",
      " 6   ga:daysSinceLastSession  int64 \n",
      " 7   ga:landingPagePath       object\n",
      " 8   ga:campaign              object\n",
      " 9   ga:sourceMedium          object\n",
      " 10  ga:city                  object\n",
      " 11  ga:deviceCategory        object\n",
      " 12  ga:operatingSystem       object\n",
      " 13  ga:productListViews      int64 \n",
      " 14  ga:productListClicks     int64 \n",
      " 15  ga:productDetailViews    int64 \n",
      " 16  ga:productAddsToCart     int64 \n",
      "dtypes: int64(8), object(9)\n",
      "memory usage: 474.0+ MB\n"
     ]
    }
   ],
   "source": [
    "df.drop('Unnamed: 0', axis=1, inplace=True)\n",
    "print(df.shape)\n",
    "print(\"\")\n",
    "df.info()"
   ]
  },
  {
   "cell_type": "code",
   "execution_count": 4,
   "id": "fifth-westminster",
   "metadata": {},
   "outputs": [
    {
     "name": "stdout",
     "output_type": "stream",
     "text": [
      "<class 'pandas.core.frame.DataFrame'>\n",
      "RangeIndex: 3654882 entries, 0 to 3654881\n",
      "Data columns (total 18 columns):\n",
      " #   Column                   Dtype  \n",
      "---  ------                   -----  \n",
      " 0   ga:productSKU            object \n",
      " 1   ga:dateHourMinute        int64  \n",
      " 2   ga:pagePath              object \n",
      " 3   ga:pageDepth             int64  \n",
      " 4   ga:userType              object \n",
      " 5   ga:sessionCount          int64  \n",
      " 6   ga:daysSinceLastSession  int64  \n",
      " 7   ga:landingPagePath       object \n",
      " 8   ga:campaign              object \n",
      " 9   ga:sourceMedium          object \n",
      " 10  ga:city                  object \n",
      " 11  ga:deviceCategory        object \n",
      " 12  ga:operatingSystem       object \n",
      " 13  ga:productListViews      int64  \n",
      " 14  ga:productListClicks     int64  \n",
      " 15  ga:productDetailViews    int64  \n",
      " 16  ga:productAddsToCart     int64  \n",
      " 17  Web_Discount             float64\n",
      "dtypes: float64(1), int64(8), object(9)\n",
      "memory usage: 501.9+ MB\n"
     ]
    }
   ],
   "source": [
    "## DISCOUNT COLUMN\n",
    "\n",
    "# Discount Data\n",
    "disc_datafile=os.path.join(data_root,'Descuentos.csv')\n",
    "disc_info=pd.read_csv(disc_datafile,sep=\";\")\n",
    "disc_info['FECHA INICIO']=pd.to_datetime(disc_info['FECHA INICIO'],format='%Y%m%d%H%M')\n",
    "disc_info['FECHA FIN']=pd.to_datetime(disc_info['FECHA FIN'],format='%Y%m%d%H%M')\n",
    "df['dateTime']=pd.to_datetime(df['ga:dateHourMinute'],format='%Y%m%d%H%M')\n",
    "disc_info.rename(columns={\"PORCENTAJE DESCUENTO\": \"PORCENTAJE_DESCUENTO\",\"FECHA INICIO\": \"FECHA_INICIO\",\"FECHA FIN\": \"FECHA_FIN\"}, inplace=True)\n",
    "\n",
    "# Merge with PandasSQL\n",
    "import sqlite3\n",
    "conn = sqlite3.connect(\":memory:\") \n",
    "df.to_sql(\"df\", conn, index=False)\n",
    "disc_info.to_sql(\"disc_info\", conn, index=False)\n",
    "qry = \"SELECT * FROM df LEFT JOIN disc_info ON df.dateTime>=disc_info.FECHA_INICIO AND df.dateTime<=disc_info.FECHA_FIN\"\n",
    "df = pd.read_sql_query(qry,conn)\n",
    "df.drop(['dateTime','Nombre','FECHA_INICIO','FECHA_FIN'],axis=1, inplace=True)\n",
    "df.rename(columns={\"PORCENTAJE_DESCUENTO\": \"Web_Discount\"}, inplace=True)\n",
    "df['Web_Discount'].fillna(0,inplace=True)\n",
    "del(disc_info)\n",
    "df.info()\n",
    "\n",
    "# Check NUMERICAL DATA - DATA EXPLORATION and FE (Price and Discounts).ipynb Notebook for more information"
   ]
  },
  {
   "cell_type": "code",
   "execution_count": 5,
   "id": "athletic-local",
   "metadata": {},
   "outputs": [
    {
     "name": "stderr",
     "output_type": "stream",
     "text": [
      "<ipython-input-5-9ef0a2bf303e>:7: SettingWithCopyWarning: \n",
      "A value is trying to be set on a copy of a slice from a DataFrame.\n",
      "Try using .loc[row_indexer,col_indexer] = value instead\n",
      "\n",
      "See the caveats in the documentation: https://pandas.pydata.org/pandas-docs/stable/user_guide/indexing.html#returning-a-view-versus-a-copy\n",
      "  prod_price_info['Product ID']=prod_price_info['Product ID'].astype('str')\n"
     ]
    },
    {
     "name": "stdout",
     "output_type": "stream",
     "text": [
      "<class 'pandas.core.frame.DataFrame'>\n",
      "Int64Index: 3654882 entries, 0 to 3654881\n",
      "Data columns (total 19 columns):\n",
      " #   Column                   Dtype  \n",
      "---  ------                   -----  \n",
      " 0   ga:productSKU            object \n",
      " 1   ga:dateHourMinute        int64  \n",
      " 2   ga:pagePath              object \n",
      " 3   ga:pageDepth             int64  \n",
      " 4   ga:userType              object \n",
      " 5   ga:sessionCount          int64  \n",
      " 6   ga:daysSinceLastSession  int64  \n",
      " 7   ga:landingPagePath       object \n",
      " 8   ga:campaign              object \n",
      " 9   ga:sourceMedium          object \n",
      " 10  ga:city                  object \n",
      " 11  ga:deviceCategory        object \n",
      " 12  ga:operatingSystem       object \n",
      " 13  ga:productListViews      int64  \n",
      " 14  ga:productListClicks     int64  \n",
      " 15  ga:productDetailViews    int64  \n",
      " 16  ga:productAddsToCart     int64  \n",
      " 17  Web_Discount             float64\n",
      " 18  Product_price            float64\n",
      "dtypes: float64(2), int64(8), object(9)\n",
      "memory usage: 557.7+ MB\n"
     ]
    }
   ],
   "source": [
    "# Merge Product Price from Product Catalog in Prestashop\n",
    "\n",
    "prod_datafile=os.path.join(data_root,'product_2021-02-09_103558.csv')\n",
    "prod_info=pd.read_csv(prod_datafile,sep=\";\")\n",
    "prod_price_info=prod_info[['Product ID','Precio (imp. incl.)']]\n",
    "df['ga:productSKU']= df['ga:productSKU'].astype('str')\n",
    "prod_price_info['Product ID']=prod_price_info['Product ID'].astype('str')\n",
    "df = df.merge(prod_price_info,left_on='ga:productSKU', right_on='Product ID',how='left')\n",
    "df.drop('Product ID',axis=1,inplace=True)\n",
    "df.rename(columns={\"Precio (imp. incl.)\": \"Product_price\"}, inplace=True)\n",
    "del(prod_info)\n",
    "df.info()"
   ]
  },
  {
   "cell_type": "code",
   "execution_count": 6,
   "id": "italian-childhood",
   "metadata": {},
   "outputs": [
    {
     "name": "stdout",
     "output_type": "stream",
     "text": [
      "<class 'pandas.core.frame.DataFrame'>\n",
      "Int64Index: 3654882 entries, 0 to 3654881\n",
      "Data columns (total 29 columns):\n",
      " #   Column                   Dtype         \n",
      "---  ------                   -----         \n",
      " 0   ga:productSKU            object        \n",
      " 1   ga:dateHourMinute        datetime64[ns]\n",
      " 2   ga:pagePath              object        \n",
      " 3   ga:pageDepth             int64         \n",
      " 4   ga:userType              object        \n",
      " 5   ga:sessionCount          int64         \n",
      " 6   ga:daysSinceLastSession  int64         \n",
      " 7   ga:landingPagePath       object        \n",
      " 8   ga:campaign              object        \n",
      " 9   ga:sourceMedium          object        \n",
      " 10  ga:city                  object        \n",
      " 11  ga:deviceCategory        object        \n",
      " 12  ga:operatingSystem       object        \n",
      " 13  ga:productListViews      int64         \n",
      " 14  ga:productListClicks     int64         \n",
      " 15  ga:productDetailViews    int64         \n",
      " 16  ga:productAddsToCart     int64         \n",
      " 17  Web_Discount             float64       \n",
      " 18  Product_price            float64       \n",
      " 19  month_sin                float64       \n",
      " 20  month_cos                float64       \n",
      " 21  dayofweek_sin            float64       \n",
      " 22  dayofweek_cos            float64       \n",
      " 23  hour_sin                 float64       \n",
      " 24  hour_cos                 float64       \n",
      " 25  Source                   object        \n",
      " 26  Medium                   object        \n",
      " 27  Returning_Visitor        int64         \n",
      " 28  Detail_View              int64         \n",
      "dtypes: datetime64[ns](1), float64(8), int64(9), object(11)\n",
      "memory usage: 965.5+ MB\n"
     ]
    }
   ],
   "source": [
    "# Product SKU as string\n",
    "df['ga:productSKU']=df['ga:productSKU'].astype('str')\n",
    "\n",
    "# dateHourMinute as SIN and COS\n",
    "df['ga:dateHourMinute']=pd.to_datetime(df['ga:dateHourMinute'],format='%Y%m%d%H%M')\n",
    "df['dateTime_month']=df['ga:dateHourMinute'].dt.month\n",
    "df['dateTime_dayofweek']=df['ga:dateHourMinute'].dt.dayofweek\n",
    "df['dateTime_hour']=df['ga:dateHourMinute'].dt.hour\n",
    "df['month_sin']=np.sin((df.dateTime_month-1)*(2.*np.pi/12)) # I substract minus 1 to 'df.dateTime_month' because its values are coded as 1 to 12 instead of 0 to 11\n",
    "df['month_cos']=np.cos((df.dateTime_month-1)*(2.*np.pi/12)) # I substract minus 1 to 'df.dateTime_month' because its values are coded as 1 to 12 instead of 0 to 11\n",
    "df['dayofweek_sin']=np.sin(df.dateTime_dayofweek*(2.*np.pi/7))\n",
    "df['dayofweek_cos']=np.cos(df.dateTime_dayofweek*(2.*np.pi/7))\n",
    "df['hour_sin']=np.sin(df.dateTime_hour*(2.*np.pi/24))\n",
    "df['hour_cos']=np.cos(df.dateTime_hour*(2.*np.pi/24))\n",
    "df.drop(['dateTime_month','dateTime_dayofweek','dateTime_hour'],axis=1, inplace=True)\n",
    "\n",
    "# Source Medium as 2 columns:\n",
    "source_medium = df['ga:sourceMedium'].str.split('/',expand=True)\n",
    "source_medium.columns=['Source','Medium']\n",
    "df= df.merge(source_medium,left_index=True,right_index=True,how='left')\n",
    "del(source_medium)\n",
    "df['Source']=df['Source'].astype('str').str.strip()\n",
    "df['Medium']=df['Medium'].astype('str').str.strip()\n",
    "\n",
    "# City\n",
    "df['ga:city']=df['ga:city'].astype('str')\n",
    "\n",
    "# Device\n",
    "df['ga:deviceCategory']=df['ga:deviceCategory'].astype('str')\n",
    "\n",
    "# Operating System\n",
    "df['ga:operatingSystem']=df['ga:operatingSystem'].astype('str')\n",
    "\n",
    "# User Type\n",
    "df['Returning_Visitor']= np.where(df['ga:userType']=='Returning Visitor',1,0)\n",
    "\n",
    "# Page Path, Detail_View and Landing Page Path as string\n",
    "df['ga:pagePath']=df['ga:pagePath'].astype('str')\n",
    "df['ga:pagePath'] = df['ga:pagePath'].apply(lambda x: x[:x.find(\"?pag\")] if \"?pag\" in x else x)\n",
    "df['Detail_View']=df['ga:pagePath'].apply(lambda url: 1 if url[-5:]=='.html' else 0)\n",
    "df['ga:landingPagePath']=df['ga:landingPagePath'].astype('str')\n",
    "df['ga:landingPagePath'] = df['ga:landingPagePath'].apply(lambda x: x[:x.find(\"?pag\")] if \"?pag\" in x else x)\n",
    "\n",
    "df.info()"
   ]
  },
  {
   "cell_type": "markdown",
   "id": "following-highlight",
   "metadata": {},
   "source": [
    "### Target"
   ]
  },
  {
   "cell_type": "code",
   "execution_count": 7,
   "id": "polished-monkey",
   "metadata": {},
   "outputs": [
    {
     "name": "stdout",
     "output_type": "stream",
     "text": [
      "No. observations per class\n",
      "0    3586668\n",
      "1      68214\n",
      "Name: ga:productAddsToCart_transf, dtype: int64\n",
      "\n",
      "% observations per class\n",
      "0    98.13362\n",
      "1     1.86638\n",
      "Name: ga:productAddsToCart_transf, dtype: float64\n"
     ]
    }
   ],
   "source": [
    "df['ga:productAddsToCart_transf']=df[\"ga:productAddsToCart\"].apply(lambda x: 1 if x>1 else x)\n",
    "\n",
    "print(\"No. observations per class\")\n",
    "print(df['ga:productAddsToCart_transf'].value_counts())\n",
    "print(\"\")\n",
    "\n",
    "print(\"% observations per class\")\n",
    "print(100*df['ga:productAddsToCart_transf'].value_counts(normalize=True))"
   ]
  },
  {
   "cell_type": "markdown",
   "id": "single-grove",
   "metadata": {},
   "source": [
    "## Functions"
   ]
  },
  {
   "cell_type": "markdown",
   "id": "removed-nigeria",
   "metadata": {},
   "source": [
    "### Model evaluation"
   ]
  },
  {
   "cell_type": "code",
   "execution_count": 8,
   "id": "global-compromise",
   "metadata": {},
   "outputs": [],
   "source": [
    "def evaluate(classifier,X_train, X_test, y_train, y_test):\n",
    "    classifier.fit(X_train,y_train)\n",
    "    predictions = classifier.predict(X_test)\n",
    "    probabilities = classifier.predict_proba(X_test)\n",
    "    print(\"TRAINING SCORE: \" + str(classifier.score(X_train,y_train)))\n",
    "    print(\"ACCURACY: \" + str(accuracy_score(y_test, predictions)))\n",
    "    print(\"PRECISION: \" + str(precision_score(y_test, predictions)))\n",
    "    print(\"RECALL: \" + str(recall_score(y_test, predictions)))\n",
    "    print(\"F1 SCORE: \" + str(f1_score(y_test, predictions)))\n",
    "    print(\"AUC: \" + str(roc_auc_score(y_test,probabilities[:, 1])))\n",
    "\n",
    "    tpr, fpr, thresolds = roc_curve(y_test, probabilities[:, 1])\n",
    "    plt.plot(tpr, fpr)\n",
    "    plt.xlabel('fpr')\n",
    "    plt.ylabel('tpr')"
   ]
  },
  {
   "cell_type": "markdown",
   "id": "suffering-manufacturer",
   "metadata": {},
   "source": [
    "### Visualize Random Forests"
   ]
  },
  {
   "cell_type": "markdown",
   "id": "single-momentum",
   "metadata": {},
   "source": [
    "https://programmerbackpack.com/introduction-to-random-forests-classifier-and-step-by-step-sklearn-implementation/"
   ]
  },
  {
   "cell_type": "code",
   "execution_count": 6,
   "id": "incredible-liechtenstein",
   "metadata": {},
   "outputs": [
    {
     "ename": "NameError",
     "evalue": "name 'classifier' is not defined",
     "output_type": "error",
     "traceback": [
      "\u001b[0;31m---------------------------------------------------------------------------\u001b[0m",
      "\u001b[0;31mNameError\u001b[0m                                 Traceback (most recent call last)",
      "\u001b[0;32m<ipython-input-6-991557b0dd29>\u001b[0m in \u001b[0;36m<module>\u001b[0;34m\u001b[0m\n\u001b[1;32m     17\u001b[0m     \u001b[0mgraph\u001b[0m\u001b[0;34m.\u001b[0m\u001b[0mwrite_png\u001b[0m\u001b[0;34m(\u001b[0m\u001b[0;34m\"tree\"\u001b[0m \u001b[0;34m+\u001b[0m \u001b[0mstr\u001b[0m\u001b[0;34m(\u001b[0m\u001b[0mindex\u001b[0m\u001b[0;34m)\u001b[0m \u001b[0;34m+\u001b[0m \u001b[0;34m\".png\"\u001b[0m\u001b[0;34m)\u001b[0m\u001b[0;34m\u001b[0m\u001b[0;34m\u001b[0m\u001b[0m\n\u001b[1;32m     18\u001b[0m \u001b[0;34m\u001b[0m\u001b[0m\n\u001b[0;32m---> 19\u001b[0;31m \u001b[0;32mfor\u001b[0m \u001b[0mindex\u001b[0m \u001b[0;32min\u001b[0m \u001b[0mrange\u001b[0m\u001b[0;34m(\u001b[0m\u001b[0mlen\u001b[0m\u001b[0;34m(\u001b[0m\u001b[0mclassifier\u001b[0m\u001b[0;34m.\u001b[0m\u001b[0mestimators_\u001b[0m\u001b[0;34m)\u001b[0m\u001b[0;34m)\u001b[0m\u001b[0;34m:\u001b[0m\u001b[0;34m\u001b[0m\u001b[0;34m\u001b[0m\u001b[0m\n\u001b[0m\u001b[1;32m     20\u001b[0m     \u001b[0mprintTree\u001b[0m\u001b[0;34m(\u001b[0m\u001b[0mlist\u001b[0m\u001b[0;34m(\u001b[0m\u001b[0mX_train\u001b[0m\u001b[0;34m.\u001b[0m\u001b[0mcolumns\u001b[0m\u001b[0;34m)\u001b[0m\u001b[0;34m,\u001b[0m\u001b[0mclassifier\u001b[0m\u001b[0;34m.\u001b[0m\u001b[0mestimators_\u001b[0m\u001b[0;34m[\u001b[0m\u001b[0mindex\u001b[0m\u001b[0;34m]\u001b[0m\u001b[0;34m,\u001b[0m\u001b[0mindex\u001b[0m\u001b[0;34m)\u001b[0m\u001b[0;34m\u001b[0m\u001b[0;34m\u001b[0m\u001b[0m\n",
      "\u001b[0;31mNameError\u001b[0m: name 'classifier' is not defined"
     ]
    }
   ],
   "source": [
    "# ver con funcion SEBAS\n",
    "## REVISAR Y VER XQ NO FUNCIONA O BUSCA OTRA FUNCION\n",
    "\n",
    "def printTree(feature_names,classifier, index):\n",
    "    \n",
    "    target_names = ['Yes', 'No']\n",
    "    \n",
    "    # Build the daya\n",
    "    dot_data = tree.export_graphviz(classifier, out_file=None,\n",
    "                                    feature_names=feature_names,\n",
    "                                    class_names=target_names)\n",
    "    # Build the graph\n",
    "    graph = pydotplus.graph_from_dot_data(dot_data)\n",
    "\n",
    "    # Write the image\n",
    "    Image(graph.create_png())\n",
    "    graph.write_png(\"tree\" + str(index) + \".png\")\n",
    "    \n",
    "for index in range(len(classifier.estimators_)):\n",
    "    printTree(list(X_train.columns),classifier.estimators_[index],index)"
   ]
  },
  {
   "cell_type": "markdown",
   "id": "undefined-display",
   "metadata": {},
   "source": [
    "## Random Forest"
   ]
  },
  {
   "cell_type": "markdown",
   "id": "knowing-pittsburgh",
   "metadata": {},
   "source": [
    "### BASELINE with Numerical Data"
   ]
  },
  {
   "cell_type": "markdown",
   "id": "fixed-circle",
   "metadata": {},
   "source": [
    "#### pageDepth + sessionCount + daysSinceLastLession"
   ]
  },
  {
   "cell_type": "code",
   "execution_count": 7,
   "id": "scientific-architect",
   "metadata": {},
   "outputs": [],
   "source": [
    "y=df['ga:productAddsToCart_transf']\n",
    "X=df[['ga:pageDepth','ga:sessionCount','ga:daysSinceLastSession']]\n",
    "X_train, X_test, y_train, y_test = train_test_split(X, y,random_state=42)"
   ]
  },
  {
   "cell_type": "code",
   "execution_count": 8,
   "id": "disciplinary-hospital",
   "metadata": {},
   "outputs": [
    {
     "name": "stdout",
     "output_type": "stream",
     "text": [
      "TRAINING SCORE: 0.9814607751970789\n",
      "ACCURACY: 0.9813455091871589\n",
      "PRECISION: 0.3508771929824561\n",
      "RECALL: 0.0070825709732632944\n",
      "F1 SCORE: 0.013884871275672547\n",
      "AUC: 0.6707197960636753\n"
     ]
    },
    {
     "data": {
      "image/png": "[encoded data removed]",
      "text/plain": [
       "<Figure size 432x288 with 1 Axes>"
      ]
     },
     "metadata": {
      "needs_background": "light"
     },
     "output_type": "display_data"
    }
   ],
   "source": [
    "from sklearn.ensemble import RandomForestClassifier\n",
    "clrf=RandomForestClassifier()\n",
    "evaluate(clrf,X_train, X_test, y_train, y_test)"
   ]
  },
  {
   "cell_type": "code",
   "execution_count": 9,
   "id": "numeric-apartment",
   "metadata": {},
   "outputs": [
    {
     "name": "stdout",
     "output_type": "stream",
     "text": [
      "              precision    recall  f1-score   support\n",
      "\n",
      "           0       0.98      1.00      0.99    896778\n",
      "           1       0.35      0.01      0.01     16943\n",
      "\n",
      "    accuracy                           0.98    913721\n",
      "   macro avg       0.67      0.50      0.50    913721\n",
      "weighted avg       0.97      0.98      0.97    913721\n",
      "\n"
     ]
    },
    {
     "data": {
      "text/plain": [
       "array([[896556,    222],\n",
       "       [ 16823,    120]])"
      ]
     },
     "execution_count": 9,
     "metadata": {},
     "output_type": "execute_result"
    }
   ],
   "source": [
    "print(classification_report(y_test,clrf.predict(X_test)))\n",
    "clrf_cm = confusion_matrix(y_test,clrf.predict(X_test))\n",
    "clrf_cm"
   ]
  },
  {
   "cell_type": "markdown",
   "id": "administrative-figure",
   "metadata": {},
   "source": [
    "#### pageDepth + sessionCount"
   ]
  },
  {
   "cell_type": "code",
   "execution_count": 10,
   "id": "norwegian-integrity",
   "metadata": {},
   "outputs": [],
   "source": [
    "y=df['ga:productAddsToCart_transf']\n",
    "X=df[['ga:pageDepth','ga:sessionCount']]\n",
    "X_train, X_test, y_train, y_test = train_test_split(X, y,random_state=42)"
   ]
  },
  {
   "cell_type": "code",
   "execution_count": 11,
   "id": "studied-receptor",
   "metadata": {},
   "outputs": [
    {
     "name": "stdout",
     "output_type": "stream",
     "text": [
      "TRAINING SCORE: 0.9813378345890664\n",
      "ACCURACY: 0.9814264967096082\n",
      "PRECISION: 0.3108108108108108\n",
      "RECALL: 0.0013574927698754649\n",
      "F1 SCORE: 0.0027031791737674093\n",
      "AUC: 0.6587642958641503\n"
     ]
    },
    {
     "data": {
      "image/png": "[encoded data removed]",
      "text/plain": [
       "<Figure size 432x288 with 1 Axes>"
      ]
     },
     "metadata": {
      "needs_background": "light"
     },
     "output_type": "display_data"
    }
   ],
   "source": [
    "from sklearn.ensemble import RandomForestClassifier\n",
    "clrf=RandomForestClassifier()\n",
    "evaluate(clrf,X_train, X_test, y_train, y_test)"
   ]
  },
  {
   "cell_type": "code",
   "execution_count": 12,
   "id": "neither-prayer",
   "metadata": {},
   "outputs": [
    {
     "name": "stdout",
     "output_type": "stream",
     "text": [
      "              precision    recall  f1-score   support\n",
      "\n",
      "           0       0.98      1.00      0.99    896778\n",
      "           1       0.31      0.00      0.00     16943\n",
      "\n",
      "    accuracy                           0.98    913721\n",
      "   macro avg       0.65      0.50      0.50    913721\n",
      "weighted avg       0.97      0.98      0.97    913721\n",
      "\n"
     ]
    },
    {
     "data": {
      "text/plain": [
       "array([[896727,     51],\n",
       "       [ 16920,     23]])"
      ]
     },
     "execution_count": 12,
     "metadata": {},
     "output_type": "execute_result"
    }
   ],
   "source": [
    "print(classification_report(y_test,clrf.predict(X_test)))\n",
    "clrf_cm = confusion_matrix(y_test,clrf.predict(X_test))\n",
    "clrf_cm"
   ]
  },
  {
   "cell_type": "markdown",
   "id": "sustainable-shore",
   "metadata": {},
   "source": [
    "### + PRODUCT SKU"
   ]
  },
  {
   "cell_type": "markdown",
   "id": "exciting-technician",
   "metadata": {},
   "source": [
    "#### Feature Engineering"
   ]
  },
  {
   "cell_type": "code",
   "execution_count": 13,
   "id": "resistant-bangladesh",
   "metadata": {},
   "outputs": [
    {
     "name": "stderr",
     "output_type": "stream",
     "text": [
      "<ipython-input-13-f6afa246b78b>:5: SettingWithCopyWarning: \n",
      "A value is trying to be set on a copy of a slice from a DataFrame.\n",
      "Try using .loc[row_indexer,col_indexer] = value instead\n",
      "\n",
      "See the caveats in the documentation: https://pandas.pydata.org/pandas-docs/stable/user_guide/indexing.html#returning-a-view-versus-a-copy\n",
      "  X['ga:productSKU']=X['ga:productSKU'].astype('str')\n"
     ]
    }
   ],
   "source": [
    "#Split data\n",
    "\n",
    "y=df['ga:productAddsToCart_transf']\n",
    "X=df[['ga:pageDepth','ga:sessionCount','ga:daysSinceLastSession','ga:productSKU']]\n",
    "X['ga:productSKU']=X['ga:productSKU'].astype('str')\n",
    "X_train, X_test, y_train, y_test = train_test_split(X, y,random_state=42)"
   ]
  },
  {
   "cell_type": "code",
   "execution_count": 14,
   "id": "patient-scene",
   "metadata": {},
   "outputs": [
    {
     "name": "stderr",
     "output_type": "stream",
     "text": [
      "/home/dsc/TFM/kschool_masterDS_TFM/env/lib/python3.9/site-packages/category_encoders/utils.py:21: FutureWarning: is_categorical is deprecated and will be removed in a future version.  Use is_categorical_dtype instead\n",
      "  elif pd.api.types.is_categorical(cols):\n",
      "<ipython-input-14-aaea5a3bdc07>:4: SettingWithCopyWarning: \n",
      "A value is trying to be set on a copy of a slice from a DataFrame.\n",
      "Try using .loc[row_indexer,col_indexer] = value instead\n",
      "\n",
      "See the caveats in the documentation: https://pandas.pydata.org/pandas-docs/stable/user_guide/indexing.html#returning-a-view-versus-a-copy\n",
      "  X_train['ga:productSKU_cete']=encoder.fit_transform(X_train['ga:productSKU'],y_train)\n"
     ]
    },
    {
     "data": {
      "text/html": [
       "<div>\n",
       "<style scoped>\n",
       "    .dataframe tbody tr th:only-of-type {\n",
       "        vertical-align: middle;\n",
       "    }\n",
       "\n",
       "    .dataframe tbody tr th {\n",
       "        vertical-align: top;\n",
       "    }\n",
       "\n",
       "    .dataframe thead th {\n",
       "        text-align: right;\n",
       "    }\n",
       "</style>\n",
       "<table border=\"1\" class=\"dataframe\">\n",
       "  <thead>\n",
       "    <tr style=\"text-align: right;\">\n",
       "      <th></th>\n",
       "      <th>ga:pageDepth</th>\n",
       "      <th>ga:sessionCount</th>\n",
       "      <th>ga:daysSinceLastSession</th>\n",
       "      <th>ga:productSKU</th>\n",
       "      <th>ga:productSKU_cete</th>\n",
       "    </tr>\n",
       "  </thead>\n",
       "  <tbody>\n",
       "    <tr>\n",
       "      <th>2206583</th>\n",
       "      <td>20</td>\n",
       "      <td>1</td>\n",
       "      <td>0</td>\n",
       "      <td>7330</td>\n",
       "      <td>0.033061</td>\n",
       "    </tr>\n",
       "    <tr>\n",
       "      <th>1752313</th>\n",
       "      <td>17</td>\n",
       "      <td>2</td>\n",
       "      <td>30</td>\n",
       "      <td>4616</td>\n",
       "      <td>0.012136</td>\n",
       "    </tr>\n",
       "    <tr>\n",
       "      <th>2173241</th>\n",
       "      <td>41</td>\n",
       "      <td>587</td>\n",
       "      <td>0</td>\n",
       "      <td>7256</td>\n",
       "      <td>0.011096</td>\n",
       "    </tr>\n",
       "  </tbody>\n",
       "</table>\n",
       "</div>"
      ],
      "text/plain": [
       "         ga:pageDepth  ga:sessionCount  ga:daysSinceLastSession ga:productSKU  \\\n",
       "2206583            20                1                        0          7330   \n",
       "1752313            17                2                       30          4616   \n",
       "2173241            41              587                        0          7256   \n",
       "\n",
       "         ga:productSKU_cete  \n",
       "2206583            0.033061  \n",
       "1752313            0.012136  \n",
       "2173241            0.011096  "
      ]
     },
     "execution_count": 14,
     "metadata": {},
     "output_type": "execute_result"
    }
   ],
   "source": [
    "# Target encoding of productSKU with train\n",
    "import category_encoders as ce\n",
    "encoder=ce.TargetEncoder(cols='ga:productSKU')\n",
    "X_train['ga:productSKU_cete']=encoder.fit_transform(X_train['ga:productSKU'],y_train)\n",
    "X_train.head(3)"
   ]
  },
  {
   "cell_type": "code",
   "execution_count": 15,
   "id": "assisted-mainland",
   "metadata": {},
   "outputs": [
    {
     "name": "stderr",
     "output_type": "stream",
     "text": [
      "<ipython-input-15-84f3a6cf49cb>:3: SettingWithCopyWarning: \n",
      "A value is trying to be set on a copy of a slice from a DataFrame.\n",
      "Try using .loc[row_indexer,col_indexer] = value instead\n",
      "\n",
      "See the caveats in the documentation: https://pandas.pydata.org/pandas-docs/stable/user_guide/indexing.html#returning-a-view-versus-a-copy\n",
      "  prod_target_encod['ga:productSKU']=prod_target_encod['ga:productSKU'].astype('str')\n"
     ]
    },
    {
     "name": "stdout",
     "output_type": "stream",
     "text": [
      "(5449, 2)\n"
     ]
    },
    {
     "name": "stderr",
     "output_type": "stream",
     "text": [
      "<ipython-input-15-84f3a6cf49cb>:4: SettingWithCopyWarning: \n",
      "A value is trying to be set on a copy of a slice from a DataFrame\n",
      "\n",
      "See the caveats in the documentation: https://pandas.pydata.org/pandas-docs/stable/user_guide/indexing.html#returning-a-view-versus-a-copy\n",
      "  prod_target_encod.drop_duplicates(inplace=True)\n"
     ]
    },
    {
     "data": {
      "text/html": [
       "<div>\n",
       "<style scoped>\n",
       "    .dataframe tbody tr th:only-of-type {\n",
       "        vertical-align: middle;\n",
       "    }\n",
       "\n",
       "    .dataframe tbody tr th {\n",
       "        vertical-align: top;\n",
       "    }\n",
       "\n",
       "    .dataframe thead th {\n",
       "        text-align: right;\n",
       "    }\n",
       "</style>\n",
       "<table border=\"1\" class=\"dataframe\">\n",
       "  <thead>\n",
       "    <tr style=\"text-align: right;\">\n",
       "      <th></th>\n",
       "      <th>ga:productSKU</th>\n",
       "      <th>ga:productSKU_cete</th>\n",
       "    </tr>\n",
       "  </thead>\n",
       "  <tbody>\n",
       "    <tr>\n",
       "      <th>2206583</th>\n",
       "      <td>7330</td>\n",
       "      <td>0.033061</td>\n",
       "    </tr>\n",
       "    <tr>\n",
       "      <th>1752313</th>\n",
       "      <td>4616</td>\n",
       "      <td>0.012136</td>\n",
       "    </tr>\n",
       "    <tr>\n",
       "      <th>2173241</th>\n",
       "      <td>7256</td>\n",
       "      <td>0.011096</td>\n",
       "    </tr>\n",
       "  </tbody>\n",
       "</table>\n",
       "</div>"
      ],
      "text/plain": [
       "        ga:productSKU  ga:productSKU_cete\n",
       "2206583          7330            0.033061\n",
       "1752313          4616            0.012136\n",
       "2173241          7256            0.011096"
      ]
     },
     "execution_count": 15,
     "metadata": {},
     "output_type": "execute_result"
    }
   ],
   "source": [
    "# 'Dictionary' of productSKU target encoding\n",
    "prod_target_encod= X_train[['ga:productSKU','ga:productSKU_cete']]\n",
    "prod_target_encod['ga:productSKU']=prod_target_encod['ga:productSKU'].astype('str')\n",
    "prod_target_encod.drop_duplicates(inplace=True)\n",
    "print(prod_target_encod.shape)\n",
    "prod_target_encod.head(3)"
   ]
  },
  {
   "cell_type": "code",
   "execution_count": 16,
   "id": "italian-horizontal",
   "metadata": {},
   "outputs": [
    {
     "data": {
      "text/html": [
       "<div>\n",
       "<style scoped>\n",
       "    .dataframe tbody tr th:only-of-type {\n",
       "        vertical-align: middle;\n",
       "    }\n",
       "\n",
       "    .dataframe tbody tr th {\n",
       "        vertical-align: top;\n",
       "    }\n",
       "\n",
       "    .dataframe thead th {\n",
       "        text-align: right;\n",
       "    }\n",
       "</style>\n",
       "<table border=\"1\" class=\"dataframe\">\n",
       "  <thead>\n",
       "    <tr style=\"text-align: right;\">\n",
       "      <th></th>\n",
       "      <th>ga:pageDepth</th>\n",
       "      <th>ga:sessionCount</th>\n",
       "      <th>ga:daysSinceLastSession</th>\n",
       "      <th>ga:productSKU</th>\n",
       "      <th>ga:productSKU_cete</th>\n",
       "    </tr>\n",
       "  </thead>\n",
       "  <tbody>\n",
       "    <tr>\n",
       "      <th>0</th>\n",
       "      <td>4</td>\n",
       "      <td>1</td>\n",
       "      <td>0</td>\n",
       "      <td>1250</td>\n",
       "      <td>0.004149</td>\n",
       "    </tr>\n",
       "    <tr>\n",
       "      <th>1</th>\n",
       "      <td>3</td>\n",
       "      <td>2</td>\n",
       "      <td>0</td>\n",
       "      <td>1635</td>\n",
       "      <td>0.056892</td>\n",
       "    </tr>\n",
       "    <tr>\n",
       "      <th>2</th>\n",
       "      <td>72</td>\n",
       "      <td>1</td>\n",
       "      <td>0</td>\n",
       "      <td>6462</td>\n",
       "      <td>0.018904</td>\n",
       "    </tr>\n",
       "  </tbody>\n",
       "</table>\n",
       "</div>"
      ],
      "text/plain": [
       "   ga:pageDepth  ga:sessionCount  ga:daysSinceLastSession ga:productSKU  \\\n",
       "0             4                1                        0          1250   \n",
       "1             3                2                        0          1635   \n",
       "2            72                1                        0          6462   \n",
       "\n",
       "   ga:productSKU_cete  \n",
       "0            0.004149  \n",
       "1            0.056892  \n",
       "2            0.018904  "
      ]
     },
     "execution_count": 16,
     "metadata": {},
     "output_type": "execute_result"
    }
   ],
   "source": [
    "# productSKU target encoding in test according to fitting on train set:\n",
    "X_test = X_test.merge(prod_target_encod, left_on='ga:productSKU', right_on='ga:productSKU', how='left')\n",
    "X_test.head(3)"
   ]
  },
  {
   "cell_type": "code",
   "execution_count": 17,
   "id": "competitive-fisher",
   "metadata": {},
   "outputs": [
    {
     "data": {
      "text/html": [
       "<div>\n",
       "<style scoped>\n",
       "    .dataframe tbody tr th:only-of-type {\n",
       "        vertical-align: middle;\n",
       "    }\n",
       "\n",
       "    .dataframe tbody tr th {\n",
       "        vertical-align: top;\n",
       "    }\n",
       "\n",
       "    .dataframe thead th {\n",
       "        text-align: right;\n",
       "    }\n",
       "</style>\n",
       "<table border=\"1\" class=\"dataframe\">\n",
       "  <thead>\n",
       "    <tr style=\"text-align: right;\">\n",
       "      <th></th>\n",
       "      <th>ga:pageDepth</th>\n",
       "      <th>ga:sessionCount</th>\n",
       "      <th>ga:daysSinceLastSession</th>\n",
       "      <th>ga:productSKU</th>\n",
       "      <th>ga:productSKU_cete</th>\n",
       "    </tr>\n",
       "  </thead>\n",
       "  <tbody>\n",
       "    <tr>\n",
       "      <th>7444</th>\n",
       "      <td>18</td>\n",
       "      <td>1</td>\n",
       "      <td>0</td>\n",
       "      <td>1520</td>\n",
       "      <td>NaN</td>\n",
       "    </tr>\n",
       "    <tr>\n",
       "      <th>7872</th>\n",
       "      <td>20</td>\n",
       "      <td>1</td>\n",
       "      <td>0</td>\n",
       "      <td>3400</td>\n",
       "      <td>NaN</td>\n",
       "    </tr>\n",
       "    <tr>\n",
       "      <th>27060</th>\n",
       "      <td>2</td>\n",
       "      <td>6</td>\n",
       "      <td>4</td>\n",
       "      <td>3628</td>\n",
       "      <td>NaN</td>\n",
       "    </tr>\n",
       "    <tr>\n",
       "      <th>39224</th>\n",
       "      <td>1</td>\n",
       "      <td>1</td>\n",
       "      <td>0</td>\n",
       "      <td>2732</td>\n",
       "      <td>NaN</td>\n",
       "    </tr>\n",
       "    <tr>\n",
       "      <th>55030</th>\n",
       "      <td>3</td>\n",
       "      <td>1</td>\n",
       "      <td>0</td>\n",
       "      <td>249</td>\n",
       "      <td>NaN</td>\n",
       "    </tr>\n",
       "    <tr>\n",
       "      <th>...</th>\n",
       "      <td>...</td>\n",
       "      <td>...</td>\n",
       "      <td>...</td>\n",
       "      <td>...</td>\n",
       "      <td>...</td>\n",
       "    </tr>\n",
       "    <tr>\n",
       "      <th>880393</th>\n",
       "      <td>3</td>\n",
       "      <td>1</td>\n",
       "      <td>0</td>\n",
       "      <td>3083</td>\n",
       "      <td>NaN</td>\n",
       "    </tr>\n",
       "    <tr>\n",
       "      <th>885204</th>\n",
       "      <td>6</td>\n",
       "      <td>2</td>\n",
       "      <td>0</td>\n",
       "      <td>1556</td>\n",
       "      <td>NaN</td>\n",
       "    </tr>\n",
       "    <tr>\n",
       "      <th>886122</th>\n",
       "      <td>1</td>\n",
       "      <td>2</td>\n",
       "      <td>132</td>\n",
       "      <td>3721</td>\n",
       "      <td>NaN</td>\n",
       "    </tr>\n",
       "    <tr>\n",
       "      <th>902654</th>\n",
       "      <td>1</td>\n",
       "      <td>1</td>\n",
       "      <td>0</td>\n",
       "      <td>1377</td>\n",
       "      <td>NaN</td>\n",
       "    </tr>\n",
       "    <tr>\n",
       "      <th>908382</th>\n",
       "      <td>17</td>\n",
       "      <td>6</td>\n",
       "      <td>0</td>\n",
       "      <td>1326</td>\n",
       "      <td>NaN</td>\n",
       "    </tr>\n",
       "  </tbody>\n",
       "</table>\n",
       "<p>108 rows × 5 columns</p>\n",
       "</div>"
      ],
      "text/plain": [
       "        ga:pageDepth  ga:sessionCount  ga:daysSinceLastSession ga:productSKU  \\\n",
       "7444              18                1                        0          1520   \n",
       "7872              20                1                        0          3400   \n",
       "27060              2                6                        4          3628   \n",
       "39224              1                1                        0          2732   \n",
       "55030              3                1                        0           249   \n",
       "...              ...              ...                      ...           ...   \n",
       "880393             3                1                        0          3083   \n",
       "885204             6                2                        0          1556   \n",
       "886122             1                2                      132          3721   \n",
       "902654             1                1                        0          1377   \n",
       "908382            17                6                        0          1326   \n",
       "\n",
       "        ga:productSKU_cete  \n",
       "7444                   NaN  \n",
       "7872                   NaN  \n",
       "27060                  NaN  \n",
       "39224                  NaN  \n",
       "55030                  NaN  \n",
       "...                    ...  \n",
       "880393                 NaN  \n",
       "885204                 NaN  \n",
       "886122                 NaN  \n",
       "902654                 NaN  \n",
       "908382                 NaN  \n",
       "\n",
       "[108 rows x 5 columns]"
      ]
     },
     "execution_count": 17,
     "metadata": {},
     "output_type": "execute_result"
    }
   ],
   "source": [
    "# Checking missing values in 'ga:productSKU_cete':\n",
    "\n",
    "X_test[X_test['ga:productSKU_cete'].isna()]"
   ]
  },
  {
   "cell_type": "code",
   "execution_count": 18,
   "id": "variable-offer",
   "metadata": {},
   "outputs": [
    {
     "data": {
      "text/html": [
       "<div>\n",
       "<style scoped>\n",
       "    .dataframe tbody tr th:only-of-type {\n",
       "        vertical-align: middle;\n",
       "    }\n",
       "\n",
       "    .dataframe tbody tr th {\n",
       "        vertical-align: top;\n",
       "    }\n",
       "\n",
       "    .dataframe thead th {\n",
       "        text-align: right;\n",
       "    }\n",
       "</style>\n",
       "<table border=\"1\" class=\"dataframe\">\n",
       "  <thead>\n",
       "    <tr style=\"text-align: right;\">\n",
       "      <th></th>\n",
       "      <th>ga:pageDepth</th>\n",
       "      <th>ga:sessionCount</th>\n",
       "      <th>ga:daysSinceLastSession</th>\n",
       "      <th>ga:productSKU</th>\n",
       "      <th>ga:productSKU_cete</th>\n",
       "    </tr>\n",
       "  </thead>\n",
       "  <tbody>\n",
       "  </tbody>\n",
       "</table>\n",
       "</div>"
      ],
      "text/plain": [
       "Empty DataFrame\n",
       "Columns: [ga:pageDepth, ga:sessionCount, ga:daysSinceLastSession, ga:productSKU, ga:productSKU_cete]\n",
       "Index: []"
      ]
     },
     "execution_count": 18,
     "metadata": {},
     "output_type": "execute_result"
    }
   ],
   "source": [
    "# Filling missing values in X_test with the mean of the means:\n",
    "\n",
    "X_test['ga:productSKU_cete']=X_test['ga:productSKU_cete'].fillna(prod_target_encod['ga:productSKU_cete'].mean())\n",
    "X_test[X_test['ga:productSKU_cete'].isna()]\n"
   ]
  },
  {
   "cell_type": "code",
   "execution_count": 19,
   "id": "diagnostic-mailman",
   "metadata": {},
   "outputs": [],
   "source": [
    "# Drop 'ga:productSKU' in both train and test datasets:\n",
    "\n",
    "X_train=X_train.drop('ga:productSKU',axis=1)\n",
    "X_test=X_test.drop('ga:productSKU',axis=1)"
   ]
  },
  {
   "cell_type": "code",
   "execution_count": 20,
   "id": "forbidden-breed",
   "metadata": {},
   "outputs": [
    {
     "data": {
      "text/html": [
       "<div>\n",
       "<style scoped>\n",
       "    .dataframe tbody tr th:only-of-type {\n",
       "        vertical-align: middle;\n",
       "    }\n",
       "\n",
       "    .dataframe tbody tr th {\n",
       "        vertical-align: top;\n",
       "    }\n",
       "\n",
       "    .dataframe thead th {\n",
       "        text-align: right;\n",
       "    }\n",
       "</style>\n",
       "<table border=\"1\" class=\"dataframe\">\n",
       "  <thead>\n",
       "    <tr style=\"text-align: right;\">\n",
       "      <th></th>\n",
       "      <th>ga:pageDepth</th>\n",
       "      <th>ga:sessionCount</th>\n",
       "      <th>ga:daysSinceLastSession</th>\n",
       "      <th>ga:productSKU_cete</th>\n",
       "    </tr>\n",
       "  </thead>\n",
       "  <tbody>\n",
       "    <tr>\n",
       "      <th>0</th>\n",
       "      <td>4</td>\n",
       "      <td>1</td>\n",
       "      <td>0</td>\n",
       "      <td>0.004149</td>\n",
       "    </tr>\n",
       "    <tr>\n",
       "      <th>1</th>\n",
       "      <td>3</td>\n",
       "      <td>2</td>\n",
       "      <td>0</td>\n",
       "      <td>0.056892</td>\n",
       "    </tr>\n",
       "    <tr>\n",
       "      <th>2</th>\n",
       "      <td>72</td>\n",
       "      <td>1</td>\n",
       "      <td>0</td>\n",
       "      <td>0.018904</td>\n",
       "    </tr>\n",
       "  </tbody>\n",
       "</table>\n",
       "</div>"
      ],
      "text/plain": [
       "   ga:pageDepth  ga:sessionCount  ga:daysSinceLastSession  ga:productSKU_cete\n",
       "0             4                1                        0            0.004149\n",
       "1             3                2                        0            0.056892\n",
       "2            72                1                        0            0.018904"
      ]
     },
     "execution_count": 20,
     "metadata": {},
     "output_type": "execute_result"
    }
   ],
   "source": [
    "X_test.head(3)"
   ]
  },
  {
   "cell_type": "code",
   "execution_count": 21,
   "id": "earned-thesis",
   "metadata": {},
   "outputs": [
    {
     "data": {
      "text/html": [
       "<div>\n",
       "<style scoped>\n",
       "    .dataframe tbody tr th:only-of-type {\n",
       "        vertical-align: middle;\n",
       "    }\n",
       "\n",
       "    .dataframe tbody tr th {\n",
       "        vertical-align: top;\n",
       "    }\n",
       "\n",
       "    .dataframe thead th {\n",
       "        text-align: right;\n",
       "    }\n",
       "</style>\n",
       "<table border=\"1\" class=\"dataframe\">\n",
       "  <thead>\n",
       "    <tr style=\"text-align: right;\">\n",
       "      <th></th>\n",
       "      <th>ga:pageDepth</th>\n",
       "      <th>ga:sessionCount</th>\n",
       "      <th>ga:daysSinceLastSession</th>\n",
       "      <th>ga:productSKU_cete</th>\n",
       "    </tr>\n",
       "  </thead>\n",
       "  <tbody>\n",
       "    <tr>\n",
       "      <th>2206583</th>\n",
       "      <td>20</td>\n",
       "      <td>1</td>\n",
       "      <td>0</td>\n",
       "      <td>0.033061</td>\n",
       "    </tr>\n",
       "    <tr>\n",
       "      <th>1752313</th>\n",
       "      <td>17</td>\n",
       "      <td>2</td>\n",
       "      <td>30</td>\n",
       "      <td>0.012136</td>\n",
       "    </tr>\n",
       "    <tr>\n",
       "      <th>2173241</th>\n",
       "      <td>41</td>\n",
       "      <td>587</td>\n",
       "      <td>0</td>\n",
       "      <td>0.011096</td>\n",
       "    </tr>\n",
       "  </tbody>\n",
       "</table>\n",
       "</div>"
      ],
      "text/plain": [
       "         ga:pageDepth  ga:sessionCount  ga:daysSinceLastSession  \\\n",
       "2206583            20                1                        0   \n",
       "1752313            17                2                       30   \n",
       "2173241            41              587                        0   \n",
       "\n",
       "         ga:productSKU_cete  \n",
       "2206583            0.033061  \n",
       "1752313            0.012136  \n",
       "2173241            0.011096  "
      ]
     },
     "execution_count": 21,
     "metadata": {},
     "output_type": "execute_result"
    }
   ],
   "source": [
    "X_train.head(3)"
   ]
  },
  {
   "cell_type": "markdown",
   "id": "beginning-secret",
   "metadata": {},
   "source": [
    "#### Classifier"
   ]
  },
  {
   "cell_type": "code",
   "execution_count": 22,
   "id": "green-keeping",
   "metadata": {},
   "outputs": [
    {
     "name": "stdout",
     "output_type": "stream",
     "text": [
      "TRAINING SCORE: 0.9841840738285712\n",
      "ACCURACY: 0.9784025977295039\n",
      "PRECISION: 0.10230834995725278\n",
      "RECALL: 0.02118869149501269\n",
      "F1 SCORE: 0.035106591042440835\n",
      "AUC: 0.7301549376458119\n"
     ]
    },
    {
     "data": {
      "image/png": "[encoded data removed]",
      "text/plain": [
       "<Figure size 432x288 with 1 Axes>"
      ]
     },
     "metadata": {
      "needs_background": "light"
     },
     "output_type": "display_data"
    }
   ],
   "source": [
    "from sklearn.ensemble import RandomForestClassifier\n",
    "clrf=RandomForestClassifier()\n",
    "evaluate(clrf,X_train, X_test, y_train, y_test)"
   ]
  },
  {
   "cell_type": "code",
   "execution_count": 23,
   "id": "cross-deviation",
   "metadata": {},
   "outputs": [
    {
     "name": "stdout",
     "output_type": "stream",
     "text": [
      "              precision    recall  f1-score   support\n",
      "\n",
      "           0       0.98      1.00      0.99    896778\n",
      "           1       0.10      0.02      0.04     16943\n",
      "\n",
      "    accuracy                           0.98    913721\n",
      "   macro avg       0.54      0.51      0.51    913721\n",
      "weighted avg       0.97      0.98      0.97    913721\n",
      "\n"
     ]
    },
    {
     "data": {
      "text/plain": [
       "array([[893628,   3150],\n",
       "       [ 16584,    359]])"
      ]
     },
     "execution_count": 23,
     "metadata": {},
     "output_type": "execute_result"
    }
   ],
   "source": [
    "print(classification_report(y_test,clrf.predict(X_test)))\n",
    "clrf_cm = confusion_matrix(y_test,clrf.predict(X_test))\n",
    "clrf_cm"
   ]
  },
  {
   "cell_type": "markdown",
   "id": "republican-fitting",
   "metadata": {},
   "source": [
    "Un metodo más sofisticado de Target Encoding para evitar overfitting (mejores resultados en train que en test):\n",
    "\n",
    "https://medium.com/@pouryaayria/k-fold-target-encoding-dfe9a594874b\n",
    "https://datascience.stackexchange.com/questions/81260/target-encoding-with-kfold-cross-validation-how-to-transform-test-set"
   ]
  },
  {
   "cell_type": "markdown",
   "id": "imperial-storm",
   "metadata": {},
   "source": [
    "### + DATEHOURMINUTE"
   ]
  },
  {
   "cell_type": "markdown",
   "id": "boring-daniel",
   "metadata": {},
   "source": [
    "#### Month"
   ]
  },
  {
   "cell_type": "markdown",
   "id": "corrected-wallpaper",
   "metadata": {},
   "source": [
    "##### Data"
   ]
  },
  {
   "cell_type": "code",
   "execution_count": 28,
   "id": "nasty-exhibition",
   "metadata": {},
   "outputs": [
    {
     "name": "stderr",
     "output_type": "stream",
     "text": [
      "<ipython-input-28-4d2973f52982>:4: SettingWithCopyWarning: \n",
      "A value is trying to be set on a copy of a slice from a DataFrame.\n",
      "Try using .loc[row_indexer,col_indexer] = value instead\n",
      "\n",
      "See the caveats in the documentation: https://pandas.pydata.org/pandas-docs/stable/user_guide/indexing.html#returning-a-view-versus-a-copy\n",
      "  X['ga:productSKU']=X['ga:productSKU'].astype('str')\n",
      "/home/dsc/TFM/kschool_masterDS_TFM/env/lib/python3.9/site-packages/category_encoders/utils.py:21: FutureWarning: is_categorical is deprecated and will be removed in a future version.  Use is_categorical_dtype instead\n",
      "  elif pd.api.types.is_categorical(cols):\n",
      "<ipython-input-28-4d2973f52982>:10: SettingWithCopyWarning: \n",
      "A value is trying to be set on a copy of a slice from a DataFrame.\n",
      "Try using .loc[row_indexer,col_indexer] = value instead\n",
      "\n",
      "See the caveats in the documentation: https://pandas.pydata.org/pandas-docs/stable/user_guide/indexing.html#returning-a-view-versus-a-copy\n",
      "  X_train['ga:productSKU_cete']=encoder.fit_transform(X_train['ga:productSKU'],y_train)\n",
      "<ipython-input-28-4d2973f52982>:14: SettingWithCopyWarning: \n",
      "A value is trying to be set on a copy of a slice from a DataFrame.\n",
      "Try using .loc[row_indexer,col_indexer] = value instead\n",
      "\n",
      "See the caveats in the documentation: https://pandas.pydata.org/pandas-docs/stable/user_guide/indexing.html#returning-a-view-versus-a-copy\n",
      "  prod_target_encod['ga:productSKU']=prod_target_encod['ga:productSKU'].astype('str')\n",
      "<ipython-input-28-4d2973f52982>:15: SettingWithCopyWarning: \n",
      "A value is trying to be set on a copy of a slice from a DataFrame\n",
      "\n",
      "See the caveats in the documentation: https://pandas.pydata.org/pandas-docs/stable/user_guide/indexing.html#returning-a-view-versus-a-copy\n",
      "  prod_target_encod.drop_duplicates(inplace=True)\n"
     ]
    }
   ],
   "source": [
    "#Split data\n",
    "y=df['ga:productAddsToCart_transf']\n",
    "X=df[['ga:pageDepth','ga:sessionCount','ga:daysSinceLastSession','ga:productSKU','month_sin','month_cos']]\n",
    "X['ga:productSKU']=X['ga:productSKU'].astype('str')\n",
    "X_train, X_test, y_train, y_test = train_test_split(X, y,random_state=42)\n",
    "\n",
    "# Target encoding of productSKU with train\n",
    "import category_encoders as ce\n",
    "encoder=ce.TargetEncoder(cols='ga:productSKU')\n",
    "X_train['ga:productSKU_cete']=encoder.fit_transform(X_train['ga:productSKU'],y_train)\n",
    "\n",
    "# 'Dictionary' of productSKU target encoding\n",
    "prod_target_encod= X_train[['ga:productSKU','ga:productSKU_cete']]\n",
    "prod_target_encod['ga:productSKU']=prod_target_encod['ga:productSKU'].astype('str')\n",
    "prod_target_encod.drop_duplicates(inplace=True)\n",
    "\n",
    "# productSKU target encoding in test according to fitting on train set:\n",
    "X_test = X_test.merge(prod_target_encod, left_on='ga:productSKU', right_on='ga:productSKU', how='left')\n",
    "\n",
    "# Filling missing values in X_test with the mean of the means:\n",
    "X_test['ga:productSKU_cete']=X_test['ga:productSKU_cete'].fillna(prod_target_encod['ga:productSKU_cete'].mean())\n",
    "\n",
    "# Drop 'ga:productSKU' in both train and test datasets:\n",
    "X_train=X_train.drop('ga:productSKU',axis=1)\n",
    "X_test=X_test.drop('ga:productSKU',axis=1)"
   ]
  },
  {
   "cell_type": "code",
   "execution_count": 29,
   "id": "exotic-district",
   "metadata": {},
   "outputs": [
    {
     "data": {
      "text/html": [
       "<div>\n",
       "<style scoped>\n",
       "    .dataframe tbody tr th:only-of-type {\n",
       "        vertical-align: middle;\n",
       "    }\n",
       "\n",
       "    .dataframe tbody tr th {\n",
       "        vertical-align: top;\n",
       "    }\n",
       "\n",
       "    .dataframe thead th {\n",
       "        text-align: right;\n",
       "    }\n",
       "</style>\n",
       "<table border=\"1\" class=\"dataframe\">\n",
       "  <thead>\n",
       "    <tr style=\"text-align: right;\">\n",
       "      <th></th>\n",
       "      <th>ga:pageDepth</th>\n",
       "      <th>ga:sessionCount</th>\n",
       "      <th>ga:daysSinceLastSession</th>\n",
       "      <th>month_sin</th>\n",
       "      <th>month_cos</th>\n",
       "      <th>ga:productSKU_cete</th>\n",
       "    </tr>\n",
       "  </thead>\n",
       "  <tbody>\n",
       "    <tr>\n",
       "      <th>2206583</th>\n",
       "      <td>20</td>\n",
       "      <td>1</td>\n",
       "      <td>0</td>\n",
       "      <td>-0.866025</td>\n",
       "      <td>0.5</td>\n",
       "      <td>0.033061</td>\n",
       "    </tr>\n",
       "    <tr>\n",
       "      <th>1752313</th>\n",
       "      <td>17</td>\n",
       "      <td>2</td>\n",
       "      <td>30</td>\n",
       "      <td>-0.866025</td>\n",
       "      <td>0.5</td>\n",
       "      <td>0.012136</td>\n",
       "    </tr>\n",
       "    <tr>\n",
       "      <th>2173241</th>\n",
       "      <td>41</td>\n",
       "      <td>587</td>\n",
       "      <td>0</td>\n",
       "      <td>-0.866025</td>\n",
       "      <td>0.5</td>\n",
       "      <td>0.011096</td>\n",
       "    </tr>\n",
       "  </tbody>\n",
       "</table>\n",
       "</div>"
      ],
      "text/plain": [
       "         ga:pageDepth  ga:sessionCount  ga:daysSinceLastSession  month_sin  \\\n",
       "2206583            20                1                        0  -0.866025   \n",
       "1752313            17                2                       30  -0.866025   \n",
       "2173241            41              587                        0  -0.866025   \n",
       "\n",
       "         month_cos  ga:productSKU_cete  \n",
       "2206583        0.5            0.033061  \n",
       "1752313        0.5            0.012136  \n",
       "2173241        0.5            0.011096  "
      ]
     },
     "execution_count": 29,
     "metadata": {},
     "output_type": "execute_result"
    }
   ],
   "source": [
    "X_train.head(3)"
   ]
  },
  {
   "cell_type": "code",
   "execution_count": 30,
   "id": "recent-background",
   "metadata": {},
   "outputs": [
    {
     "data": {
      "text/html": [
       "<div>\n",
       "<style scoped>\n",
       "    .dataframe tbody tr th:only-of-type {\n",
       "        vertical-align: middle;\n",
       "    }\n",
       "\n",
       "    .dataframe tbody tr th {\n",
       "        vertical-align: top;\n",
       "    }\n",
       "\n",
       "    .dataframe thead th {\n",
       "        text-align: right;\n",
       "    }\n",
       "</style>\n",
       "<table border=\"1\" class=\"dataframe\">\n",
       "  <thead>\n",
       "    <tr style=\"text-align: right;\">\n",
       "      <th></th>\n",
       "      <th>ga:pageDepth</th>\n",
       "      <th>ga:sessionCount</th>\n",
       "      <th>ga:daysSinceLastSession</th>\n",
       "      <th>month_sin</th>\n",
       "      <th>month_cos</th>\n",
       "      <th>ga:productSKU_cete</th>\n",
       "    </tr>\n",
       "  </thead>\n",
       "  <tbody>\n",
       "    <tr>\n",
       "      <th>0</th>\n",
       "      <td>4</td>\n",
       "      <td>1</td>\n",
       "      <td>0</td>\n",
       "      <td>-0.500000</td>\n",
       "      <td>0.866025</td>\n",
       "      <td>0.004149</td>\n",
       "    </tr>\n",
       "    <tr>\n",
       "      <th>1</th>\n",
       "      <td>3</td>\n",
       "      <td>2</td>\n",
       "      <td>0</td>\n",
       "      <td>0.000000</td>\n",
       "      <td>1.000000</td>\n",
       "      <td>0.056892</td>\n",
       "    </tr>\n",
       "    <tr>\n",
       "      <th>2</th>\n",
       "      <td>72</td>\n",
       "      <td>1</td>\n",
       "      <td>0</td>\n",
       "      <td>-0.866025</td>\n",
       "      <td>0.500000</td>\n",
       "      <td>0.018904</td>\n",
       "    </tr>\n",
       "  </tbody>\n",
       "</table>\n",
       "</div>"
      ],
      "text/plain": [
       "   ga:pageDepth  ga:sessionCount  ga:daysSinceLastSession  month_sin  \\\n",
       "0             4                1                        0  -0.500000   \n",
       "1             3                2                        0   0.000000   \n",
       "2            72                1                        0  -0.866025   \n",
       "\n",
       "   month_cos  ga:productSKU_cete  \n",
       "0   0.866025            0.004149  \n",
       "1   1.000000            0.056892  \n",
       "2   0.500000            0.018904  "
      ]
     },
     "execution_count": 30,
     "metadata": {},
     "output_type": "execute_result"
    }
   ],
   "source": [
    "X_test.head(3)"
   ]
  },
  {
   "cell_type": "markdown",
   "id": "cathedral-release",
   "metadata": {},
   "source": [
    "##### Classifier"
   ]
  },
  {
   "cell_type": "code",
   "execution_count": 31,
   "id": "bright-insulin",
   "metadata": {},
   "outputs": [
    {
     "name": "stdout",
     "output_type": "stream",
     "text": [
      "TRAINING SCORE: 0.9855659700397021\n",
      "ACCURACY: 0.9769360669175821\n",
      "PRECISION: 0.1030174899096675\n",
      "RECALL: 0.031635483680576046\n",
      "F1 SCORE: 0.04840603269213402\n",
      "AUC: 0.7503859965561362\n"
     ]
    },
    {
     "data": {
      "image/png": "[encoded data removed]",
      "text/plain": [
       "<Figure size 432x288 with 1 Axes>"
      ]
     },
     "metadata": {
      "needs_background": "light"
     },
     "output_type": "display_data"
    }
   ],
   "source": [
    "from sklearn.ensemble import RandomForestClassifier\n",
    "clrf=RandomForestClassifier()\n",
    "evaluate(clrf,X_train, X_test, y_train, y_test)"
   ]
  },
  {
   "cell_type": "code",
   "execution_count": 32,
   "id": "informal-committee",
   "metadata": {},
   "outputs": [
    {
     "name": "stdout",
     "output_type": "stream",
     "text": [
      "              precision    recall  f1-score   support\n",
      "\n",
      "           0       0.98      0.99      0.99    896778\n",
      "           1       0.10      0.03      0.05     16943\n",
      "\n",
      "    accuracy                           0.98    913721\n",
      "   macro avg       0.54      0.51      0.52    913721\n",
      "weighted avg       0.97      0.98      0.97    913721\n",
      "\n"
     ]
    },
    {
     "data": {
      "text/plain": [
       "array([[892111,   4667],\n",
       "       [ 16407,    536]])"
      ]
     },
     "execution_count": 32,
     "metadata": {},
     "output_type": "execute_result"
    }
   ],
   "source": [
    "print(classification_report(y_test,clrf.predict(X_test)))\n",
    "clrf_cm = confusion_matrix(y_test,clrf.predict(X_test))\n",
    "clrf_cm"
   ]
  },
  {
   "cell_type": "markdown",
   "id": "smooth-accountability",
   "metadata": {},
   "source": [
    "#### Day of week"
   ]
  },
  {
   "cell_type": "markdown",
   "id": "modified-rings",
   "metadata": {},
   "source": [
    "##### Data"
   ]
  },
  {
   "cell_type": "code",
   "execution_count": 33,
   "id": "exact-seller",
   "metadata": {},
   "outputs": [
    {
     "name": "stderr",
     "output_type": "stream",
     "text": [
      "<ipython-input-33-4be774d1d794>:4: SettingWithCopyWarning: \n",
      "A value is trying to be set on a copy of a slice from a DataFrame.\n",
      "Try using .loc[row_indexer,col_indexer] = value instead\n",
      "\n",
      "See the caveats in the documentation: https://pandas.pydata.org/pandas-docs/stable/user_guide/indexing.html#returning-a-view-versus-a-copy\n",
      "  X['ga:productSKU']=X['ga:productSKU'].astype('str')\n",
      "/home/dsc/TFM/kschool_masterDS_TFM/env/lib/python3.9/site-packages/category_encoders/utils.py:21: FutureWarning: is_categorical is deprecated and will be removed in a future version.  Use is_categorical_dtype instead\n",
      "  elif pd.api.types.is_categorical(cols):\n",
      "<ipython-input-33-4be774d1d794>:10: SettingWithCopyWarning: \n",
      "A value is trying to be set on a copy of a slice from a DataFrame.\n",
      "Try using .loc[row_indexer,col_indexer] = value instead\n",
      "\n",
      "See the caveats in the documentation: https://pandas.pydata.org/pandas-docs/stable/user_guide/indexing.html#returning-a-view-versus-a-copy\n",
      "  X_train['ga:productSKU_cete']=encoder.fit_transform(X_train['ga:productSKU'],y_train)\n",
      "<ipython-input-33-4be774d1d794>:14: SettingWithCopyWarning: \n",
      "A value is trying to be set on a copy of a slice from a DataFrame.\n",
      "Try using .loc[row_indexer,col_indexer] = value instead\n",
      "\n",
      "See the caveats in the documentation: https://pandas.pydata.org/pandas-docs/stable/user_guide/indexing.html#returning-a-view-versus-a-copy\n",
      "  prod_target_encod['ga:productSKU']=prod_target_encod['ga:productSKU'].astype('str')\n",
      "<ipython-input-33-4be774d1d794>:15: SettingWithCopyWarning: \n",
      "A value is trying to be set on a copy of a slice from a DataFrame\n",
      "\n",
      "See the caveats in the documentation: https://pandas.pydata.org/pandas-docs/stable/user_guide/indexing.html#returning-a-view-versus-a-copy\n",
      "  prod_target_encod.drop_duplicates(inplace=True)\n"
     ]
    }
   ],
   "source": [
    "#Split data\n",
    "y=df['ga:productAddsToCart_transf']\n",
    "X=df[['ga:pageDepth','ga:sessionCount','ga:daysSinceLastSession','ga:productSKU','month_sin','month_cos','dayofweek_sin','dayofweek_cos']]\n",
    "X['ga:productSKU']=X['ga:productSKU'].astype('str')\n",
    "X_train, X_test, y_train, y_test = train_test_split(X, y,random_state=42)\n",
    "\n",
    "# Target encoding of productSKU with train\n",
    "import category_encoders as ce\n",
    "encoder=ce.TargetEncoder(cols='ga:productSKU')\n",
    "X_train['ga:productSKU_cete']=encoder.fit_transform(X_train['ga:productSKU'],y_train)\n",
    "\n",
    "# 'Dictionary' of productSKU target encoding\n",
    "prod_target_encod= X_train[['ga:productSKU','ga:productSKU_cete']]\n",
    "prod_target_encod['ga:productSKU']=prod_target_encod['ga:productSKU'].astype('str')\n",
    "prod_target_encod.drop_duplicates(inplace=True)\n",
    "\n",
    "# productSKU target encoding in test according to fitting on train set:\n",
    "X_test = X_test.merge(prod_target_encod, left_on='ga:productSKU', right_on='ga:productSKU', how='left')\n",
    "\n",
    "# Filling missing values in X_test with the mean of the means:\n",
    "X_test['ga:productSKU_cete']=X_test['ga:productSKU_cete'].fillna(prod_target_encod['ga:productSKU_cete'].mean())\n",
    "\n",
    "# Drop 'ga:productSKU' in both train and test datasets:\n",
    "X_train=X_train.drop('ga:productSKU',axis=1)\n",
    "X_test=X_test.drop('ga:productSKU',axis=1)"
   ]
  },
  {
   "cell_type": "markdown",
   "id": "executive-processing",
   "metadata": {},
   "source": [
    "##### Classifier"
   ]
  },
  {
   "cell_type": "code",
   "execution_count": 34,
   "id": "graphic-transfer",
   "metadata": {},
   "outputs": [
    {
     "name": "stdout",
     "output_type": "stream",
     "text": [
      "TRAINING SCORE: 0.9870069652968213\n",
      "ACCURACY: 0.9755932062412924\n",
      "PRECISION: 0.09823035392921416\n",
      "RECALL: 0.03865903322906215\n",
      "F1 SCORE: 0.055482614035830755\n",
      "AUC: 0.7469494737068852\n"
     ]
    },
    {
     "data": {
      "image/png": "[encoded data removed]",
      "text/plain": [
       "<Figure size 432x288 with 1 Axes>"
      ]
     },
     "metadata": {
      "needs_background": "light"
     },
     "output_type": "display_data"
    }
   ],
   "source": [
    "from sklearn.ensemble import RandomForestClassifier\n",
    "clrf=RandomForestClassifier()\n",
    "evaluate(clrf,X_train, X_test, y_train, y_test)"
   ]
  },
  {
   "cell_type": "code",
   "execution_count": 35,
   "id": "ranging-advance",
   "metadata": {},
   "outputs": [
    {
     "name": "stdout",
     "output_type": "stream",
     "text": [
      "              precision    recall  f1-score   support\n",
      "\n",
      "           0       0.98      0.99      0.99    896778\n",
      "           1       0.10      0.04      0.06     16943\n",
      "\n",
      "    accuracy                           0.98    913721\n",
      "   macro avg       0.54      0.52      0.52    913721\n",
      "weighted avg       0.97      0.98      0.97    913721\n",
      "\n"
     ]
    },
    {
     "data": {
      "text/plain": [
       "array([[890765,   6013],\n",
       "       [ 16288,    655]])"
      ]
     },
     "execution_count": 35,
     "metadata": {},
     "output_type": "execute_result"
    }
   ],
   "source": [
    "print(classification_report(y_test,clrf.predict(X_test)))\n",
    "clrf_cm = confusion_matrix(y_test,clrf.predict(X_test))\n",
    "clrf_cm"
   ]
  },
  {
   "cell_type": "markdown",
   "id": "bulgarian-cradle",
   "metadata": {},
   "source": [
    "#### Hour"
   ]
  },
  {
   "cell_type": "markdown",
   "id": "superb-heather",
   "metadata": {},
   "source": [
    "##### Data"
   ]
  },
  {
   "cell_type": "code",
   "execution_count": 36,
   "id": "convinced-contamination",
   "metadata": {},
   "outputs": [
    {
     "name": "stderr",
     "output_type": "stream",
     "text": [
      "<ipython-input-36-d8224e290ac5>:4: SettingWithCopyWarning: \n",
      "A value is trying to be set on a copy of a slice from a DataFrame.\n",
      "Try using .loc[row_indexer,col_indexer] = value instead\n",
      "\n",
      "See the caveats in the documentation: https://pandas.pydata.org/pandas-docs/stable/user_guide/indexing.html#returning-a-view-versus-a-copy\n",
      "  X['ga:productSKU']=X['ga:productSKU'].astype('str')\n",
      "/home/dsc/TFM/kschool_masterDS_TFM/env/lib/python3.9/site-packages/category_encoders/utils.py:21: FutureWarning: is_categorical is deprecated and will be removed in a future version.  Use is_categorical_dtype instead\n",
      "  elif pd.api.types.is_categorical(cols):\n",
      "<ipython-input-36-d8224e290ac5>:10: SettingWithCopyWarning: \n",
      "A value is trying to be set on a copy of a slice from a DataFrame.\n",
      "Try using .loc[row_indexer,col_indexer] = value instead\n",
      "\n",
      "See the caveats in the documentation: https://pandas.pydata.org/pandas-docs/stable/user_guide/indexing.html#returning-a-view-versus-a-copy\n",
      "  X_train['ga:productSKU_cete']=encoder.fit_transform(X_train['ga:productSKU'],y_train)\n",
      "<ipython-input-36-d8224e290ac5>:14: SettingWithCopyWarning: \n",
      "A value is trying to be set on a copy of a slice from a DataFrame.\n",
      "Try using .loc[row_indexer,col_indexer] = value instead\n",
      "\n",
      "See the caveats in the documentation: https://pandas.pydata.org/pandas-docs/stable/user_guide/indexing.html#returning-a-view-versus-a-copy\n",
      "  prod_target_encod['ga:productSKU']=prod_target_encod['ga:productSKU'].astype('str')\n",
      "<ipython-input-36-d8224e290ac5>:15: SettingWithCopyWarning: \n",
      "A value is trying to be set on a copy of a slice from a DataFrame\n",
      "\n",
      "See the caveats in the documentation: https://pandas.pydata.org/pandas-docs/stable/user_guide/indexing.html#returning-a-view-versus-a-copy\n",
      "  prod_target_encod.drop_duplicates(inplace=True)\n"
     ]
    }
   ],
   "source": [
    "#Split data\n",
    "y=df['ga:productAddsToCart_transf']\n",
    "X=df[['ga:pageDepth','ga:sessionCount','ga:daysSinceLastSession','ga:productSKU','month_sin','month_cos','dayofweek_sin','dayofweek_cos','hour_sin','hour_cos']]\n",
    "X['ga:productSKU']=X['ga:productSKU'].astype('str')\n",
    "X_train, X_test, y_train, y_test = train_test_split(X, y,random_state=42)\n",
    "\n",
    "# Target encoding of productSKU with train\n",
    "import category_encoders as ce\n",
    "encoder=ce.TargetEncoder(cols='ga:productSKU')\n",
    "X_train['ga:productSKU_cete']=encoder.fit_transform(X_train['ga:productSKU'],y_train)\n",
    "\n",
    "# 'Dictionary' of productSKU target encoding\n",
    "prod_target_encod= X_train[['ga:productSKU','ga:productSKU_cete']]\n",
    "prod_target_encod['ga:productSKU']=prod_target_encod['ga:productSKU'].astype('str')\n",
    "prod_target_encod.drop_duplicates(inplace=True)\n",
    "\n",
    "# productSKU target encoding in test according to fitting on train set:\n",
    "X_test = X_test.merge(prod_target_encod, left_on='ga:productSKU', right_on='ga:productSKU', how='left')\n",
    "\n",
    "# Filling missing values in X_test with the mean of the means:\n",
    "X_test['ga:productSKU_cete']=X_test['ga:productSKU_cete'].fillna(prod_target_encod['ga:productSKU_cete'].mean())\n",
    "\n",
    "# Drop 'ga:productSKU' in both train and test datasets:\n",
    "X_train=X_train.drop('ga:productSKU',axis=1)\n",
    "X_test=X_test.drop('ga:productSKU',axis=1)"
   ]
  },
  {
   "cell_type": "markdown",
   "id": "muslim-alignment",
   "metadata": {},
   "source": [
    "##### Classifier"
   ]
  },
  {
   "cell_type": "code",
   "execution_count": 37,
   "id": "bridal-prefix",
   "metadata": {},
   "outputs": [
    {
     "name": "stdout",
     "output_type": "stream",
     "text": [
      "TRAINING SCORE: 0.9893001542047329\n",
      "ACCURACY: 0.9744528143711264\n",
      "PRECISION: 0.0932892730045755\n",
      "RECALL: 0.043321725786460485\n",
      "F1 SCORE: 0.059167304824473015\n",
      "AUC: 0.773334775388215\n"
     ]
    },
    {
     "data": {
      "image/png": "[encoded data removed]",
      "text/plain": [
       "<Figure size 432x288 with 1 Axes>"
      ]
     },
     "metadata": {
      "needs_background": "light"
     },
     "output_type": "display_data"
    }
   ],
   "source": [
    "from sklearn.ensemble import RandomForestClassifier\n",
    "clrf=RandomForestClassifier()\n",
    "evaluate(clrf,X_train, X_test, y_train, y_test)"
   ]
  },
  {
   "cell_type": "code",
   "execution_count": 38,
   "id": "metropolitan-discount",
   "metadata": {},
   "outputs": [
    {
     "name": "stdout",
     "output_type": "stream",
     "text": [
      "              precision    recall  f1-score   support\n",
      "\n",
      "           0       0.98      0.99      0.99    896778\n",
      "           1       0.09      0.04      0.06     16943\n",
      "\n",
      "    accuracy                           0.97    913721\n",
      "   macro avg       0.54      0.52      0.52    913721\n",
      "weighted avg       0.97      0.97      0.97    913721\n",
      "\n"
     ]
    },
    {
     "data": {
      "text/plain": [
       "array([[889644,   7134],\n",
       "       [ 16209,    734]])"
      ]
     },
     "execution_count": 38,
     "metadata": {},
     "output_type": "execute_result"
    }
   ],
   "source": [
    "print(classification_report(y_test,clrf.predict(X_test)))\n",
    "clrf_cm = confusion_matrix(y_test,clrf.predict(X_test))\n",
    "clrf_cm"
   ]
  },
  {
   "cell_type": "markdown",
   "id": "liberal-landscape",
   "metadata": {},
   "source": [
    "### + SOURCE / MEDIUM"
   ]
  },
  {
   "cell_type": "markdown",
   "id": "crude-spouse",
   "metadata": {},
   "source": [
    "#### Pipeline"
   ]
  },
  {
   "cell_type": "markdown",
   "id": "selected-lottery",
   "metadata": {},
   "source": [
    "Check CATEGORICAL_DATA_DATA_EXPLORATION_AND_FEATURE_ENGINEERING_fulldata Notebook for more information on Source and Medium categories and  transformations."
   ]
  },
  {
   "cell_type": "code",
   "execution_count": 7,
   "id": "finnish-wales",
   "metadata": {},
   "outputs": [],
   "source": [
    "# Compile 'Source'\n",
    "\n",
    "def source_compiler(x):\n",
    "    \n",
    "    insta_words= ['instagram','ig','linktr.ee']\n",
    "    for seq in insta_words:\n",
    "        if seq in x.lower():\n",
    "            return 'instagram'\n",
    "    if 'facebook' in x.lower():\n",
    "        return 'facebook'\n",
    "    if 'youtube' in x.lower():\n",
    "        return 'youtube'  \n",
    "    if 'vogue' in x.lower():\n",
    "        return 'vogue'\n",
    "    if 'yahoo' in x.lower():\n",
    "        return 'yahoo'\n",
    "    else:\n",
    "        return x\n",
    "\n",
    "important_sources = ['google','(direct)','instagram','facebook','sendinblue','youtube','bing','yahoo','vogue','cantabrialabs.es']\n",
    "\n",
    "class SourceTransfomer(BaseEstimator,TransformerMixin):\n",
    "    def fit(self,X,y=None):\n",
    "        return self\n",
    "    def transform (self,X,y=None):\n",
    "        X_=X.copy()\n",
    "        X_['Source']=X_['Source'].apply(source_compiler)\n",
    "        X_['Source']=X_['Source'].apply(lambda source: 'other sources' if source not in important_sources else source)\n",
    "        return X_"
   ]
  },
  {
   "cell_type": "code",
   "execution_count": 8,
   "id": "sudden-tuesday",
   "metadata": {},
   "outputs": [],
   "source": [
    "# Compile 'Medium':\n",
    "\n",
    "def medium_compiler(x):\n",
    "    \n",
    "    if 'cpc' in x.lower():\n",
    "        return 'cpc'\n",
    "    if x=='Social':\n",
    "        return 'IGShopping'  \n",
    "    if x=='facebook':\n",
    "        return 'facebook ads'\n",
    "    if x=='trafico':\n",
    "        return 'facebook trafico'\n",
    "    else:\n",
    "        return x\n",
    "    \n",
    "class MediumTransfomer(BaseEstimator,TransformerMixin):\n",
    "    def fit(self,X,y=None):\n",
    "        return self\n",
    "    def transform (self,X,y=None):\n",
    "        X_=X.copy()\n",
    "        X_['Medium']=X_['Medium'].apply(medium_compiler)\n",
    "        return X_"
   ]
  },
  {
   "cell_type": "code",
   "execution_count": 9,
   "id": "comparable-encoding",
   "metadata": {},
   "outputs": [],
   "source": [
    "# Transform column into 'Category' type\n",
    "\n",
    "class AsTypeCategoryTransfomer(BaseEstimator,TransformerMixin):\n",
    "    def fit(self,X,y=None):\n",
    "        return self\n",
    "    def transform (self,X,y=None):\n",
    "        X_=X.copy()\n",
    "        X_=X_.astype('category')\n",
    "        for column in X_.columns:\n",
    "            X_[column]=X_[column].cat.codes.astype('category')\n",
    "        return X_"
   ]
  },
  {
   "cell_type": "code",
   "execution_count": 10,
   "id": "correct-costs",
   "metadata": {},
   "outputs": [],
   "source": [
    "# Pipeline:\n",
    "\n",
    "source_preprocessing = Pipeline([\n",
    "    ('source_transf',SourceTransfomer()),\n",
    "    ('astypecat_transf',AsTypeCategoryTransfomer()),\n",
    "    ('ohe',OneHotEncoder()) # handle_unknown is default 'error'\n",
    "])\n",
    "\n",
    "medium_preprocessing = Pipeline([\n",
    "    ('medium_transf',MediumTransfomer()),\n",
    "    ('astypecat_transf',AsTypeCategoryTransfomer()),\n",
    "    ('ohe',OneHotEncoder(drop='first')) #to drop (none) that is equal to (direct) in Source\n",
    "]) # handle_unknown is default 'error'\n",
    "\n",
    "targetencod_preprocessing = Pipeline([('target_encoding',TargetEncoder())])\n",
    "\n",
    "preprocess = ColumnTransformer([\n",
    "    ('source_preprocessing',source_preprocessing,['Source']),\n",
    "    ('medium_preprocessing',medium_preprocessing,['Medium']),\n",
    "    ('targetencod_preprocessing',targetencod_preprocessing,['ga:productSKU'])\n",
    "],remainder='passthrough')\n",
    "\n",
    "pipeline=Pipeline([\n",
    "    ('preprocess',preprocess),\n",
    "    ('clrf',RandomForestClassifier())\n",
    "])"
   ]
  },
  {
   "cell_type": "markdown",
   "id": "mental-gather",
   "metadata": {},
   "source": [
    "#### Classifier"
   ]
  },
  {
   "cell_type": "code",
   "execution_count": 11,
   "id": "valid-beauty",
   "metadata": {},
   "outputs": [],
   "source": [
    "# Data\n",
    "\n",
    "features=['ga:pageDepth','ga:sessionCount','ga:daysSinceLastSession','ga:productSKU',\\\n",
    "          'month_sin','month_cos','dayofweek_sin','dayofweek_cos','hour_sin','hour_cos',\\\n",
    "          'Source','Medium']\n",
    "\n",
    "y=df['ga:productAddsToCart_transf']\n",
    "X=df[features]\n",
    "X_train, X_test, y_train, y_test = train_test_split(X, y,random_state=42)"
   ]
  },
  {
   "cell_type": "code",
   "execution_count": 12,
   "id": "spectacular-assist",
   "metadata": {},
   "outputs": [
    {
     "name": "stderr",
     "output_type": "stream",
     "text": [
      "/home/dsc/TFM/kschool_masterDS_TFM/env/lib/python3.9/site-packages/category_encoders/utils.py:21: FutureWarning: is_categorical is deprecated and will be removed in a future version.  Use is_categorical_dtype instead\n",
      "  elif pd.api.types.is_categorical(cols):\n"
     ]
    },
    {
     "name": "stdout",
     "output_type": "stream",
     "text": [
      "TRAINING SCORE: 0.9898568526255845\n",
      "ACCURACY: 0.9739603226805557\n",
      "PRECISION: 0.10155886458818054\n",
      "RECALL: 0.05152570383049047\n",
      "F1 SCORE: 0.06836602842711147\n",
      "AUC: 0.790089097905098\n"
     ]
    },
    {
     "data": {
      "image/png": "[encoded data removed]",
      "text/plain": [
       "<Figure size 432x288 with 1 Axes>"
      ]
     },
     "metadata": {
      "needs_background": "light"
     },
     "output_type": "display_data"
    }
   ],
   "source": [
    "evaluate(pipeline,X_train, X_test, y_train, y_test)"
   ]
  },
  {
   "cell_type": "code",
   "execution_count": 13,
   "id": "framed-dancing",
   "metadata": {},
   "outputs": [
    {
     "name": "stdout",
     "output_type": "stream",
     "text": [
      "              precision    recall  f1-score   support\n",
      "\n",
      "           0       0.98      0.99      0.99    896778\n",
      "           1       0.10      0.05      0.07     16943\n",
      "\n",
      "    accuracy                           0.97    913721\n",
      "   macro avg       0.54      0.52      0.53    913721\n",
      "weighted avg       0.97      0.97      0.97    913721\n",
      "\n"
     ]
    },
    {
     "data": {
      "text/plain": [
       "array([[889055,   7723],\n",
       "       [ 16070,    873]])"
      ]
     },
     "execution_count": 13,
     "metadata": {},
     "output_type": "execute_result"
    }
   ],
   "source": [
    "print(classification_report(y_test,pipeline.predict(X_test)))\n",
    "clrf_cm = confusion_matrix(y_test,pipeline.predict(X_test))\n",
    "clrf_cm"
   ]
  },
  {
   "cell_type": "markdown",
   "id": "usual-destruction",
   "metadata": {},
   "source": [
    "### + CITY"
   ]
  },
  {
   "cell_type": "markdown",
   "id": "subsequent-spelling",
   "metadata": {},
   "source": [
    "Dada su alta cardinalidad, codificaremos la variable city con Target Encoding como productSKU."
   ]
  },
  {
   "cell_type": "markdown",
   "id": "demanding-intersection",
   "metadata": {},
   "source": [
    "#### Pipeline"
   ]
  },
  {
   "cell_type": "code",
   "execution_count": 8,
   "id": "careful-curve",
   "metadata": {},
   "outputs": [],
   "source": [
    "# Compile 'Source'\n",
    "\n",
    "def source_compiler(x):\n",
    "    \n",
    "    insta_words= ['instagram','ig','linktr.ee']\n",
    "    for seq in insta_words:\n",
    "        if seq in x.lower():\n",
    "            return 'instagram'\n",
    "    if 'facebook' in x.lower():\n",
    "        return 'facebook'\n",
    "    if 'youtube' in x.lower():\n",
    "        return 'youtube'  \n",
    "    if 'vogue' in x.lower():\n",
    "        return 'vogue'\n",
    "    if 'yahoo' in x.lower():\n",
    "        return 'yahoo'\n",
    "    else:\n",
    "        return x\n",
    "\n",
    "important_sources = ['google','(direct)','instagram','facebook','sendinblue','youtube','bing','yahoo','vogue','cantabrialabs.es']\n",
    "\n",
    "class SourceTransfomer(BaseEstimator,TransformerMixin):\n",
    "    def fit(self,X,y=None):\n",
    "        return self\n",
    "    def transform (self,X,y=None):\n",
    "        X_=X.copy()\n",
    "        X_['Source']=X_['Source'].apply(source_compiler)\n",
    "        X_['Source']=X_['Source'].apply(lambda source: 'other sources' if source not in important_sources else source)\n",
    "        return X_"
   ]
  },
  {
   "cell_type": "code",
   "execution_count": 9,
   "id": "assisted-audio",
   "metadata": {},
   "outputs": [],
   "source": [
    "# Compile 'Medium':\n",
    "\n",
    "def medium_compiler(x):\n",
    "    \n",
    "    if 'cpc' in x.lower():\n",
    "        return 'cpc'\n",
    "    if x=='Social':\n",
    "        return 'IGShopping'  \n",
    "    if x=='facebook':\n",
    "        return 'facebook ads'\n",
    "    if x=='trafico':\n",
    "        return 'facebook trafico'\n",
    "    else:\n",
    "        return x\n",
    "    \n",
    "class MediumTransfomer(BaseEstimator,TransformerMixin):\n",
    "    def fit(self,X,y=None):\n",
    "        return self\n",
    "    def transform (self,X,y=None):\n",
    "        X_=X.copy()\n",
    "        X_['Medium']=X_['Medium'].apply(medium_compiler)\n",
    "        return X_"
   ]
  },
  {
   "cell_type": "code",
   "execution_count": 10,
   "id": "charming-screw",
   "metadata": {},
   "outputs": [],
   "source": [
    "# Transform column into 'Category' type\n",
    "\n",
    "class AsTypeCategoryTransfomer(BaseEstimator,TransformerMixin):\n",
    "    def fit(self,X,y=None):\n",
    "        return self\n",
    "    def transform (self,X,y=None):\n",
    "        X_=X.copy()\n",
    "        X_=X_.astype('category')\n",
    "        for column in X_.columns:\n",
    "            X_[column]=X_[column].cat.codes.astype('category')\n",
    "        return X_"
   ]
  },
  {
   "cell_type": "code",
   "execution_count": 11,
   "id": "automatic-remedy",
   "metadata": {},
   "outputs": [],
   "source": [
    "# Pipeline:\n",
    "\n",
    "source_preprocessing = Pipeline([\n",
    "    ('source_transf',SourceTransfomer()),\n",
    "    ('astypecat_transf',AsTypeCategoryTransfomer()),\n",
    "    ('ohe',OneHotEncoder()) # handle_unknown is default 'error'\n",
    "])\n",
    "\n",
    "medium_preprocessing = Pipeline([\n",
    "    ('medium_transf',MediumTransfomer()),\n",
    "    ('astypecat_transf',AsTypeCategoryTransfomer()),\n",
    "    ('ohe',OneHotEncoder(drop='first')) #to drop (none) that is equal to (direct) in Source\n",
    "]) # handle_unknown is default 'error'\n",
    "\n",
    "targetencod_preprocessing = Pipeline([('target_encoding',TargetEncoder())])\n",
    "\n",
    "preprocess = ColumnTransformer([\n",
    "    ('source_preprocessing',source_preprocessing,['Source']),\n",
    "    ('medium_preprocessing',medium_preprocessing,['Medium']),\n",
    "    ('targetencod_preprocessing',targetencod_preprocessing,['ga:productSKU','ga:city'])\n",
    "],remainder='passthrough')\n",
    "\n",
    "pipeline=Pipeline([\n",
    "    ('preprocess',preprocess),\n",
    "    ('clrf',RandomForestClassifier())\n",
    "])"
   ]
  },
  {
   "cell_type": "markdown",
   "id": "legal-overview",
   "metadata": {},
   "source": [
    "#### Classifier"
   ]
  },
  {
   "cell_type": "code",
   "execution_count": 12,
   "id": "fixed-wholesale",
   "metadata": {},
   "outputs": [],
   "source": [
    "# Data\n",
    "\n",
    "features=['ga:pageDepth','ga:sessionCount','ga:daysSinceLastSession','ga:productSKU',\\\n",
    "          'month_sin','month_cos','dayofweek_sin','dayofweek_cos','hour_sin','hour_cos',\\\n",
    "          'Source','Medium','ga:city']\n",
    "\n",
    "y=df['ga:productAddsToCart_transf']\n",
    "X=df[features]\n",
    "X_train, X_test, y_train, y_test = train_test_split(X, y,random_state=42)"
   ]
  },
  {
   "cell_type": "code",
   "execution_count": 14,
   "id": "cardiovascular-berlin",
   "metadata": {},
   "outputs": [
    {
     "name": "stderr",
     "output_type": "stream",
     "text": [
      "/home/dsc/TFM/kschool_masterDS_TFM/env/lib/python3.9/site-packages/category_encoders/utils.py:21: FutureWarning: is_categorical is deprecated and will be removed in a future version.  Use is_categorical_dtype instead\n",
      "  elif pd.api.types.is_categorical(cols):\n"
     ]
    },
    {
     "name": "stdout",
     "output_type": "stream",
     "text": [
      "TRAINING SCORE: 0.9902048803408483\n",
      "ACCURACY: 0.9738377469709025\n",
      "PRECISION: 0.1025348253025805\n",
      "RECALL: 0.05300123944992032\n",
      "F1 SCORE: 0.06988054939496519\n",
      "AUC: 0.8007466678902777\n"
     ]
    },
    {
     "data": {
      "image/png": "[encoded data removed]",
      "text/plain": [
       "<Figure size 432x288 with 1 Axes>"
      ]
     },
     "metadata": {
      "needs_background": "light"
     },
     "output_type": "display_data"
    }
   ],
   "source": [
    "evaluate(pipeline,X_train, X_test, y_train, y_test)"
   ]
  },
  {
   "cell_type": "code",
   "execution_count": 15,
   "id": "dressed-alberta",
   "metadata": {},
   "outputs": [
    {
     "name": "stdout",
     "output_type": "stream",
     "text": [
      "              precision    recall  f1-score   support\n",
      "\n",
      "           0       0.98      0.99      0.99    896778\n",
      "           1       0.10      0.05      0.07     16943\n",
      "\n",
      "    accuracy                           0.97    913721\n",
      "   macro avg       0.54      0.52      0.53    913721\n",
      "weighted avg       0.97      0.97      0.97    913721\n",
      "\n"
     ]
    },
    {
     "data": {
      "text/plain": [
       "array([[888918,   7860],\n",
       "       [ 16045,    898]])"
      ]
     },
     "execution_count": 15,
     "metadata": {},
     "output_type": "execute_result"
    }
   ],
   "source": [
    "print(classification_report(y_test,pipeline.predict(X_test)))\n",
    "clrf_cm = confusion_matrix(y_test,pipeline.predict(X_test))\n",
    "clrf_cm"
   ]
  },
  {
   "cell_type": "markdown",
   "id": "offshore-container",
   "metadata": {},
   "source": [
    "### + DEVICE"
   ]
  },
  {
   "cell_type": "markdown",
   "id": "unlimited-opera",
   "metadata": {},
   "source": [
    "Dado que solo cuenta con 3 categorias que prometen mantenerse estables a lo largo del tiempo, para codificar la variable device emplearemos OneHotEncoding. Para más información sobre esta variable, remitirse al Notebook CATEGORICAL_DATA_DATA_EXPLORATION_AND_FEATURE_ENGINEERING_fulldata. "
   ]
  },
  {
   "cell_type": "markdown",
   "id": "promising-colorado",
   "metadata": {},
   "source": [
    "#### Pipeline"
   ]
  },
  {
   "cell_type": "code",
   "execution_count": 7,
   "id": "dried-texas",
   "metadata": {},
   "outputs": [],
   "source": [
    "# Compile 'Source'\n",
    "\n",
    "def source_compiler(x):\n",
    "    \n",
    "    insta_words= ['instagram','ig','linktr.ee']\n",
    "    for seq in insta_words:\n",
    "        if seq in x.lower():\n",
    "            return 'instagram'\n",
    "    if 'facebook' in x.lower():\n",
    "        return 'facebook'\n",
    "    if 'youtube' in x.lower():\n",
    "        return 'youtube'  \n",
    "    if 'vogue' in x.lower():\n",
    "        return 'vogue'\n",
    "    if 'yahoo' in x.lower():\n",
    "        return 'yahoo'\n",
    "    else:\n",
    "        return x\n",
    "\n",
    "important_sources = ['google','(direct)','instagram','facebook','sendinblue','youtube','bing','yahoo','vogue','cantabrialabs.es']\n",
    "\n",
    "class SourceTransfomer(BaseEstimator,TransformerMixin):\n",
    "    def fit(self,X,y=None):\n",
    "        return self\n",
    "    def transform (self,X,y=None):\n",
    "        X_=X.copy()\n",
    "        X_['Source']=X_['Source'].apply(source_compiler)\n",
    "        X_['Source']=X_['Source'].apply(lambda source: 'other sources' if source not in important_sources else source)\n",
    "        return X_"
   ]
  },
  {
   "cell_type": "code",
   "execution_count": 8,
   "id": "functioning-oriental",
   "metadata": {},
   "outputs": [],
   "source": [
    "# Compile 'Medium':\n",
    "\n",
    "def medium_compiler(x):\n",
    "    \n",
    "    if 'cpc' in x.lower():\n",
    "        return 'cpc'\n",
    "    if x=='Social':\n",
    "        return 'IGShopping'  \n",
    "    if x=='facebook':\n",
    "        return 'facebook ads'\n",
    "    if x=='trafico':\n",
    "        return 'facebook trafico'\n",
    "    else:\n",
    "        return x\n",
    "    \n",
    "class MediumTransfomer(BaseEstimator,TransformerMixin):\n",
    "    def fit(self,X,y=None):\n",
    "        return self\n",
    "    def transform (self,X,y=None):\n",
    "        X_=X.copy()\n",
    "        X_['Medium']=X_['Medium'].apply(medium_compiler)\n",
    "        return X_"
   ]
  },
  {
   "cell_type": "code",
   "execution_count": 9,
   "id": "partial-bobby",
   "metadata": {},
   "outputs": [],
   "source": [
    "# Transform column into 'Category' type\n",
    "\n",
    "class AsTypeCategoryTransfomer(BaseEstimator,TransformerMixin):\n",
    "    def fit(self,X,y=None):\n",
    "        return self\n",
    "    def transform (self,X,y=None):\n",
    "        X_=X.copy()\n",
    "        X_=X_.astype('category')\n",
    "        for column in X_.columns:\n",
    "            X_[column]=X_[column].cat.codes.astype('category')\n",
    "        return X_"
   ]
  },
  {
   "cell_type": "code",
   "execution_count": 10,
   "id": "ultimate-iceland",
   "metadata": {},
   "outputs": [],
   "source": [
    "# Pipeline:\n",
    "\n",
    "source_preprocessing = Pipeline([\n",
    "    ('source_transf',SourceTransfomer()),\n",
    "    ('astypecat_transf',AsTypeCategoryTransfomer()),\n",
    "    ('ohe',OneHotEncoder()) # handle_unknown is default 'error'\n",
    "])\n",
    "\n",
    "medium_preprocessing = Pipeline([\n",
    "    ('medium_transf',MediumTransfomer()),\n",
    "    ('astypecat_transf',AsTypeCategoryTransfomer()),\n",
    "    ('ohe',OneHotEncoder(drop='first')) #to drop (none) that is equal to (direct) in Source\n",
    "]) # handle_unknown is default 'error'\n",
    "\n",
    "device_preprocessing = Pipeline([\n",
    "    ('astypecat_transf',AsTypeCategoryTransfomer()),\n",
    "    ('ohe',OneHotEncoder()) # handle_unknown is default 'error'\n",
    "])\n",
    "\n",
    "targetencod_preprocessing = Pipeline([('target_encoding',TargetEncoder())])\n",
    "\n",
    "preprocess = ColumnTransformer([\n",
    "    ('source_preprocessing',source_preprocessing,['Source']),\n",
    "    ('medium_preprocessing',medium_preprocessing,['Medium']),\n",
    "    ('device_preprocessing',device_preprocessing,['ga:deviceCategory']),    \n",
    "    ('targetencod_preprocessing',targetencod_preprocessing,['ga:productSKU','ga:city'])\n",
    "],remainder='passthrough')\n",
    "\n",
    "pipeline=Pipeline([\n",
    "    ('preprocess',preprocess),\n",
    "    ('clrf',RandomForestClassifier())\n",
    "])"
   ]
  },
  {
   "cell_type": "markdown",
   "id": "greenhouse-courtesy",
   "metadata": {},
   "source": [
    "#### Classifier"
   ]
  },
  {
   "cell_type": "code",
   "execution_count": 11,
   "id": "excessive-halifax",
   "metadata": {},
   "outputs": [],
   "source": [
    "# Data\n",
    "\n",
    "features=['ga:pageDepth','ga:sessionCount','ga:daysSinceLastSession','ga:productSKU',\\\n",
    "          'month_sin','month_cos','dayofweek_sin','dayofweek_cos','hour_sin','hour_cos',\\\n",
    "          'Source','Medium','ga:city','ga:deviceCategory']\n",
    "\n",
    "y=df['ga:productAddsToCart_transf']\n",
    "X=df[features]\n",
    "X_train, X_test, y_train, y_test = train_test_split(X, y,random_state=42)"
   ]
  },
  {
   "cell_type": "code",
   "execution_count": 12,
   "id": "graphic-alexander",
   "metadata": {},
   "outputs": [
    {
     "name": "stderr",
     "output_type": "stream",
     "text": [
      "/home/dsc/TFM/kschool_masterDS_TFM/env/lib/python3.9/site-packages/category_encoders/utils.py:21: FutureWarning: is_categorical is deprecated and will be removed in a future version.  Use is_categorical_dtype instead\n",
      "  elif pd.api.types.is_categorical(cols):\n"
     ]
    },
    {
     "name": "stdout",
     "output_type": "stream",
     "text": [
      "TRAINING SCORE: 0.9902307817745838\n",
      "ACCURACY: 0.9737392486327884\n",
      "PRECISION: 0.10523958799820869\n",
      "RECALL: 0.055480139290562475\n",
      "F1 SCORE: 0.07265700483091787\n",
      "AUC: 0.8005623940457578\n"
     ]
    },
    {
     "data": {
      "image/png": "[encoded data removed]",
      "text/plain": [
       "<Figure size 432x288 with 1 Axes>"
      ]
     },
     "metadata": {
      "needs_background": "light"
     },
     "output_type": "display_data"
    }
   ],
   "source": [
    "evaluate(pipeline,X_train, X_test, y_train, y_test)"
   ]
  },
  {
   "cell_type": "code",
   "execution_count": 13,
   "id": "spoken-intake",
   "metadata": {},
   "outputs": [
    {
     "name": "stdout",
     "output_type": "stream",
     "text": [
      "              precision    recall  f1-score   support\n",
      "\n",
      "           0       0.98      0.99      0.99    896778\n",
      "           1       0.11      0.06      0.07     16943\n",
      "\n",
      "    accuracy                           0.97    913721\n",
      "   macro avg       0.54      0.52      0.53    913721\n",
      "weighted avg       0.97      0.97      0.97    913721\n",
      "\n"
     ]
    },
    {
     "data": {
      "text/plain": [
       "array([[888786,   7992],\n",
       "       [ 16003,    940]])"
      ]
     },
     "execution_count": 13,
     "metadata": {},
     "output_type": "execute_result"
    }
   ],
   "source": [
    "print(classification_report(y_test,pipeline.predict(X_test)))\n",
    "clrf_cm = confusion_matrix(y_test,pipeline.predict(X_test))\n",
    "clrf_cm"
   ]
  },
  {
   "cell_type": "markdown",
   "id": "alternative-study",
   "metadata": {},
   "source": [
    "### + OPERATING SYSTEM"
   ]
  },
  {
   "cell_type": "markdown",
   "id": "moderate-benefit",
   "metadata": {},
   "source": [
    "#### Pipeline"
   ]
  },
  {
   "cell_type": "code",
   "execution_count": 14,
   "id": "humanitarian-sellers",
   "metadata": {},
   "outputs": [],
   "source": [
    "# 'Operating System' Transformer\n",
    "\n",
    "important_os = ['Android','iOS','Windows','Macintosh']\n",
    "\n",
    "class OSTransfomer(BaseEstimator,TransformerMixin):\n",
    "    def fit(self,X,y=None):\n",
    "        return self\n",
    "    def transform (self,X,y=None):\n",
    "        X_=X.copy()\n",
    "        X_['ga:operatingSystem']=X_['ga:operatingSystem'].apply(lambda os: 'other OS' if os not in important_os else os)\n",
    "        return X_"
   ]
  },
  {
   "cell_type": "code",
   "execution_count": 15,
   "id": "convertible-gnome",
   "metadata": {},
   "outputs": [],
   "source": [
    "# Compile 'Source'\n",
    "\n",
    "def source_compiler(x):\n",
    "    \n",
    "    insta_words= ['instagram','ig','linktr.ee']\n",
    "    for seq in insta_words:\n",
    "        if seq in x.lower():\n",
    "            return 'instagram'\n",
    "    if 'facebook' in x.lower():\n",
    "        return 'facebook'\n",
    "    if 'youtube' in x.lower():\n",
    "        return 'youtube'  \n",
    "    if 'vogue' in x.lower():\n",
    "        return 'vogue'\n",
    "    if 'yahoo' in x.lower():\n",
    "        return 'yahoo'\n",
    "    else:\n",
    "        return x\n",
    "\n",
    "important_sources = ['google','(direct)','instagram','facebook','sendinblue','youtube','bing','yahoo','vogue','cantabrialabs.es']\n",
    "\n",
    "class SourceTransfomer(BaseEstimator,TransformerMixin):\n",
    "    def fit(self,X,y=None):\n",
    "        return self\n",
    "    def transform (self,X,y=None):\n",
    "        X_=X.copy()\n",
    "        X_['Source']=X_['Source'].apply(source_compiler)\n",
    "        X_['Source']=X_['Source'].apply(lambda source: 'other sources' if source not in important_sources else source)\n",
    "        return X_"
   ]
  },
  {
   "cell_type": "code",
   "execution_count": 16,
   "id": "japanese-heritage",
   "metadata": {},
   "outputs": [],
   "source": [
    "# Compile 'Medium':\n",
    "\n",
    "def medium_compiler(x):\n",
    "    \n",
    "    if 'cpc' in x.lower():\n",
    "        return 'cpc'\n",
    "    if x=='Social':\n",
    "        return 'IGShopping'  \n",
    "    if x=='facebook':\n",
    "        return 'facebook ads'\n",
    "    if x=='trafico':\n",
    "        return 'facebook trafico'\n",
    "    else:\n",
    "        return x\n",
    "    \n",
    "class MediumTransfomer(BaseEstimator,TransformerMixin):\n",
    "    def fit(self,X,y=None):\n",
    "        return self\n",
    "    def transform (self,X,y=None):\n",
    "        X_=X.copy()\n",
    "        X_['Medium']=X_['Medium'].apply(medium_compiler)\n",
    "        return X_"
   ]
  },
  {
   "cell_type": "code",
   "execution_count": 17,
   "id": "interior-peter",
   "metadata": {},
   "outputs": [],
   "source": [
    "# Transform column into 'Category' type\n",
    "\n",
    "class AsTypeCategoryTransfomer(BaseEstimator,TransformerMixin):\n",
    "    def fit(self,X,y=None):\n",
    "        return self\n",
    "    def transform (self,X,y=None):\n",
    "        X_=X.copy()\n",
    "        X_=X_.astype('category')\n",
    "        for column in X_.columns:\n",
    "            X_[column]=X_[column].cat.codes.astype('category')\n",
    "        return X_"
   ]
  },
  {
   "cell_type": "code",
   "execution_count": 18,
   "id": "quantitative-situation",
   "metadata": {},
   "outputs": [],
   "source": [
    "# Pipeline:\n",
    "\n",
    "source_preprocessing = Pipeline([\n",
    "    ('source_transf',SourceTransfomer()),\n",
    "    ('astypecat_transf',AsTypeCategoryTransfomer()),\n",
    "    ('ohe',OneHotEncoder()) # handle_unknown is default 'error'\n",
    "])\n",
    "\n",
    "medium_preprocessing = Pipeline([\n",
    "    ('medium_transf',MediumTransfomer()),\n",
    "    ('astypecat_transf',AsTypeCategoryTransfomer()),\n",
    "    ('ohe',OneHotEncoder(drop='first')) #to drop (none) that is equal to (direct) in Source\n",
    "]) # handle_unknown is default 'error'\n",
    "\n",
    "device_preprocessing = Pipeline([\n",
    "    ('astypecat_transf',AsTypeCategoryTransfomer()),\n",
    "    ('ohe',OneHotEncoder()) # handle_unknown is default 'error'\n",
    "])\n",
    "\n",
    "os_preprocessing = Pipeline([\n",
    "    ('os_transf',OSTransfomer()),\n",
    "    ('astypecat_transf',AsTypeCategoryTransfomer()),\n",
    "    ('ohe',OneHotEncoder()) # handle_unknown is default 'error'\n",
    "])\n",
    "\n",
    "targetencod_preprocessing = Pipeline([('target_encoding',TargetEncoder())])\n",
    "\n",
    "preprocess = ColumnTransformer([\n",
    "    ('source_preprocessing',source_preprocessing,['Source']),\n",
    "    ('medium_preprocessing',medium_preprocessing,['Medium']),\n",
    "    ('device_preprocessing',device_preprocessing,['ga:deviceCategory']),\n",
    "    ('os_preprocessing',os_preprocessing,['ga:operatingSystem']),\n",
    "    ('targetencod_preprocessing',targetencod_preprocessing,['ga:productSKU','ga:city'])\n",
    "],remainder='passthrough')\n",
    "\n",
    "pipeline=Pipeline([\n",
    "    ('preprocess',preprocess),\n",
    "    ('clrf',RandomForestClassifier())\n",
    "])"
   ]
  },
  {
   "cell_type": "markdown",
   "id": "cloudy-packet",
   "metadata": {},
   "source": [
    "#### Classifier"
   ]
  },
  {
   "cell_type": "code",
   "execution_count": 19,
   "id": "collected-shelter",
   "metadata": {},
   "outputs": [],
   "source": [
    "# Data\n",
    "\n",
    "features=['ga:pageDepth','ga:sessionCount','ga:daysSinceLastSession','ga:productSKU',\\\n",
    "          'month_sin','month_cos','dayofweek_sin','dayofweek_cos','hour_sin','hour_cos',\\\n",
    "          'Source','Medium','ga:city','ga:deviceCategory','ga:operatingSystem']\n",
    "\n",
    "y=df['ga:productAddsToCart_transf']\n",
    "X=df[features]\n",
    "X_train, X_test, y_train, y_test = train_test_split(X, y,random_state=42)"
   ]
  },
  {
   "cell_type": "code",
   "execution_count": 20,
   "id": "planned-republic",
   "metadata": {},
   "outputs": [
    {
     "name": "stderr",
     "output_type": "stream",
     "text": [
      "/home/dsc/TFM/kschool_masterDS_TFM/env/lib/python3.9/site-packages/category_encoders/utils.py:21: FutureWarning: is_categorical is deprecated and will be removed in a future version.  Use is_categorical_dtype instead\n",
      "  elif pd.api.types.is_categorical(cols):\n"
     ]
    },
    {
     "name": "stdout",
     "output_type": "stream",
     "text": [
      "TRAINING SCORE: 0.9902482926030248\n",
      "ACCURACY: 0.9736418447206533\n",
      "PRECISION: 0.10733531287803805\n",
      "RECALL: 0.05760491058254146\n",
      "F1 SCORE: 0.07497311414963895\n",
      "AUC: 0.802896687420471\n"
     ]
    },
    {
     "data": {
      "image/png": "[encoded data removed]",
      "text/plain": [
       "<Figure size 432x288 with 1 Axes>"
      ]
     },
     "metadata": {
      "needs_background": "light"
     },
     "output_type": "display_data"
    }
   ],
   "source": [
    "evaluate(pipeline,X_train, X_test, y_train, y_test)"
   ]
  },
  {
   "cell_type": "code",
   "execution_count": 21,
   "id": "monthly-circus",
   "metadata": {},
   "outputs": [
    {
     "name": "stdout",
     "output_type": "stream",
     "text": [
      "              precision    recall  f1-score   support\n",
      "\n",
      "           0       0.98      0.99      0.99    896778\n",
      "           1       0.11      0.06      0.07     16943\n",
      "\n",
      "    accuracy                           0.97    913721\n",
      "   macro avg       0.54      0.52      0.53    913721\n",
      "weighted avg       0.97      0.97      0.97    913721\n",
      "\n"
     ]
    },
    {
     "data": {
      "text/plain": [
       "array([[888661,   8117],\n",
       "       [ 15967,    976]])"
      ]
     },
     "execution_count": 21,
     "metadata": {},
     "output_type": "execute_result"
    }
   ],
   "source": [
    "print(classification_report(y_test,pipeline.predict(X_test)))\n",
    "clrf_cm = confusion_matrix(y_test,pipeline.predict(X_test))\n",
    "clrf_cm"
   ]
  },
  {
   "cell_type": "markdown",
   "id": "quantitative-proxy",
   "metadata": {},
   "source": [
    "### + USER TYPE"
   ]
  },
  {
   "cell_type": "markdown",
   "id": "recovered-canvas",
   "metadata": {},
   "source": [
    "#### Pipeline"
   ]
  },
  {
   "cell_type": "code",
   "execution_count": 7,
   "id": "different-preserve",
   "metadata": {},
   "outputs": [],
   "source": [
    "# 'Operating System' Transformer\n",
    "\n",
    "important_os = ['Android','iOS','Windows','Macintosh']\n",
    "\n",
    "class OSTransfomer(BaseEstimator,TransformerMixin):\n",
    "    def fit(self,X,y=None):\n",
    "        return self\n",
    "    def transform (self,X,y=None):\n",
    "        X_=X.copy()\n",
    "        X_['ga:operatingSystem']=X_['ga:operatingSystem'].apply(lambda os: 'other OS' if os not in important_os else os)\n",
    "        return X_\n",
    "    \n",
    "# Compile 'Source'\n",
    "\n",
    "def source_compiler(x):\n",
    "    \n",
    "    insta_words= ['instagram','ig','linktr.ee']\n",
    "    for seq in insta_words:\n",
    "        if seq in x.lower():\n",
    "            return 'instagram'\n",
    "    if 'facebook' in x.lower():\n",
    "        return 'facebook'\n",
    "    if 'youtube' in x.lower():\n",
    "        return 'youtube'  \n",
    "    if 'vogue' in x.lower():\n",
    "        return 'vogue'\n",
    "    if 'yahoo' in x.lower():\n",
    "        return 'yahoo'\n",
    "    else:\n",
    "        return x\n",
    "\n",
    "important_sources = ['google','(direct)','instagram','facebook','sendinblue','youtube','bing','yahoo','vogue','cantabrialabs.es']\n",
    "\n",
    "class SourceTransfomer(BaseEstimator,TransformerMixin):\n",
    "    def fit(self,X,y=None):\n",
    "        return self\n",
    "    def transform (self,X,y=None):\n",
    "        X_=X.copy()\n",
    "        X_['Source']=X_['Source'].apply(source_compiler)\n",
    "        X_['Source']=X_['Source'].apply(lambda source: 'other sources' if source not in important_sources else source)\n",
    "        return X_\n",
    "    \n",
    "# Compile 'Medium':\n",
    "\n",
    "def medium_compiler(x):\n",
    "    \n",
    "    if 'cpc' in x.lower():\n",
    "        return 'cpc'\n",
    "    if x=='Social':\n",
    "        return 'IGShopping'  \n",
    "    if x=='facebook':\n",
    "        return 'facebook ads'\n",
    "    if x=='trafico':\n",
    "        return 'facebook trafico'\n",
    "    else:\n",
    "        return x\n",
    "    \n",
    "class MediumTransfomer(BaseEstimator,TransformerMixin):\n",
    "    def fit(self,X,y=None):\n",
    "        return self\n",
    "    def transform (self,X,y=None):\n",
    "        X_=X.copy()\n",
    "        X_['Medium']=X_['Medium'].apply(medium_compiler)\n",
    "        return X_\n",
    "    \n",
    "# Transform column into 'Category' type\n",
    "\n",
    "class AsTypeCategoryTransfomer(BaseEstimator,TransformerMixin):\n",
    "    def fit(self,X,y=None):\n",
    "        return self\n",
    "    def transform (self,X,y=None):\n",
    "        X_=X.copy()\n",
    "        X_=X_.astype('category')\n",
    "        for column in X_.columns:\n",
    "            X_[column]=X_[column].cat.codes.astype('category')\n",
    "        return X_\n"
   ]
  },
  {
   "cell_type": "code",
   "execution_count": 8,
   "id": "vertical-bruce",
   "metadata": {},
   "outputs": [],
   "source": [
    "# Pipeline:\n",
    "\n",
    "source_preprocessing = Pipeline([\n",
    "    ('source_transf',SourceTransfomer()),\n",
    "    ('astypecat_transf',AsTypeCategoryTransfomer()),\n",
    "    ('ohe',OneHotEncoder()) # handle_unknown is default 'error'\n",
    "])\n",
    "\n",
    "medium_preprocessing = Pipeline([\n",
    "    ('medium_transf',MediumTransfomer()),\n",
    "    ('astypecat_transf',AsTypeCategoryTransfomer()),\n",
    "    ('ohe',OneHotEncoder(drop='first')) #to drop (none) that is equal to (direct) in Source\n",
    "]) # handle_unknown is default 'error'\n",
    "\n",
    "device_preprocessing = Pipeline([\n",
    "    ('astypecat_transf',AsTypeCategoryTransfomer()),\n",
    "    ('ohe',OneHotEncoder()) # handle_unknown is default 'error'\n",
    "])\n",
    "\n",
    "os_preprocessing = Pipeline([\n",
    "    ('os_transf',OSTransfomer()),\n",
    "    ('astypecat_transf',AsTypeCategoryTransfomer()),\n",
    "    ('ohe',OneHotEncoder()) # handle_unknown is default 'error'\n",
    "])\n",
    "\n",
    "targetencod_preprocessing = Pipeline([('target_encoding',TargetEncoder())])\n",
    "\n",
    "preprocess = ColumnTransformer([\n",
    "    ('source_preprocessing',source_preprocessing,['Source']),\n",
    "    ('medium_preprocessing',medium_preprocessing,['Medium']),\n",
    "    ('device_preprocessing',device_preprocessing,['ga:deviceCategory']),\n",
    "    ('os_preprocessing',os_preprocessing,['ga:operatingSystem']),\n",
    "    ('targetencod_preprocessing',targetencod_preprocessing,['ga:productSKU','ga:city'])\n",
    "],remainder='passthrough')\n",
    "\n",
    "pipeline=Pipeline([\n",
    "    ('preprocess',preprocess),\n",
    "    ('clrf',RandomForestClassifier())\n",
    "])"
   ]
  },
  {
   "cell_type": "markdown",
   "id": "smooth-trick",
   "metadata": {},
   "source": [
    "#### Classifier"
   ]
  },
  {
   "cell_type": "code",
   "execution_count": 9,
   "id": "fundamental-juice",
   "metadata": {},
   "outputs": [],
   "source": [
    "# Data\n",
    "\n",
    "features=['ga:pageDepth','ga:sessionCount','ga:daysSinceLastSession','ga:productSKU',\\\n",
    "          'month_sin','month_cos','dayofweek_sin','dayofweek_cos','hour_sin','hour_cos',\\\n",
    "          'Source','Medium','ga:city','ga:deviceCategory','ga:operatingSystem','Returning_Visitor']\n",
    "\n",
    "y=df['ga:productAddsToCart_transf']\n",
    "X=df[features]\n",
    "X_train, X_test, y_train, y_test = train_test_split(X, y,random_state=42)\n",
    "del(df)"
   ]
  },
  {
   "cell_type": "code",
   "execution_count": 10,
   "id": "chronic-semester",
   "metadata": {},
   "outputs": [
    {
     "name": "stderr",
     "output_type": "stream",
     "text": [
      "/home/dsc/TFM/kschool_masterDS_TFM/env/lib/python3.9/site-packages/category_encoders/utils.py:21: FutureWarning: is_categorical is deprecated and will be removed in a future version.  Use is_categorical_dtype instead\n",
      "  elif pd.api.types.is_categorical(cols):\n"
     ]
    },
    {
     "name": "stdout",
     "output_type": "stream",
     "text": [
      "TRAINING SCORE: 0.9902537647369126\n",
      "ACCURACY: 0.9735827457177848\n",
      "PRECISION: 0.10713115649230097\n",
      "RECALL: 0.057900017706427435\n",
      "F1 SCORE: 0.07517241379310345\n",
      "AUC: 0.8062386648812322\n"
     ]
    },
    {
     "data": {
      "image/png": "[encoded data removed]",
      "text/plain": [
       "<Figure size 432x288 with 1 Axes>"
      ]
     },
     "metadata": {
      "needs_background": "light"
     },
     "output_type": "display_data"
    }
   ],
   "source": [
    "evaluate(pipeline,X_train, X_test, y_train, y_test)"
   ]
  },
  {
   "cell_type": "code",
   "execution_count": 11,
   "id": "naval-karma",
   "metadata": {},
   "outputs": [
    {
     "name": "stdout",
     "output_type": "stream",
     "text": [
      "              precision    recall  f1-score   support\n",
      "\n",
      "           0       0.98      0.99      0.99    896778\n",
      "           1       0.11      0.06      0.08     16943\n",
      "\n",
      "    accuracy                           0.97    913721\n",
      "   macro avg       0.54      0.52      0.53    913721\n",
      "weighted avg       0.97      0.97      0.97    913721\n",
      "\n"
     ]
    },
    {
     "data": {
      "text/plain": [
       "array([[888602,   8176],\n",
       "       [ 15962,    981]])"
      ]
     },
     "execution_count": 11,
     "metadata": {},
     "output_type": "execute_result"
    }
   ],
   "source": [
    "print(classification_report(y_test,pipeline.predict(X_test)))\n",
    "clrf_cm = confusion_matrix(y_test,pipeline.predict(X_test))\n",
    "clrf_cm"
   ]
  },
  {
   "cell_type": "markdown",
   "id": "constant-clear",
   "metadata": {},
   "source": [
    "### + PRODUCT PRICE"
   ]
  },
  {
   "cell_type": "markdown",
   "id": "bright-compatibility",
   "metadata": {},
   "source": [
    "#### Pipeline"
   ]
  },
  {
   "cell_type": "code",
   "execution_count": 13,
   "id": "hundred-poetry",
   "metadata": {},
   "outputs": [],
   "source": [
    "# 'Operating System' Transformer\n",
    "\n",
    "important_os = ['Android','iOS','Windows','Macintosh']\n",
    "\n",
    "class OSTransfomer(BaseEstimator,TransformerMixin):\n",
    "    def fit(self,X,y=None):\n",
    "        return self\n",
    "    def transform (self,X,y=None):\n",
    "        X_=X.copy()\n",
    "        X_['ga:operatingSystem']=X_['ga:operatingSystem'].apply(lambda os: 'other OS' if os not in important_os else os)\n",
    "        return X_\n",
    "    \n",
    "# Compile 'Source'\n",
    "\n",
    "def source_compiler(x):\n",
    "    \n",
    "    insta_words= ['instagram','ig','linktr.ee']\n",
    "    for seq in insta_words:\n",
    "        if seq in x.lower():\n",
    "            return 'instagram'\n",
    "    if 'facebook' in x.lower():\n",
    "        return 'facebook'\n",
    "    if 'youtube' in x.lower():\n",
    "        return 'youtube'  \n",
    "    if 'vogue' in x.lower():\n",
    "        return 'vogue'\n",
    "    if 'yahoo' in x.lower():\n",
    "        return 'yahoo'\n",
    "    else:\n",
    "        return x\n",
    "\n",
    "important_sources = ['google','(direct)','instagram','facebook','sendinblue','youtube','bing','yahoo','vogue','cantabrialabs.es']\n",
    "\n",
    "class SourceTransfomer(BaseEstimator,TransformerMixin):\n",
    "    def fit(self,X,y=None):\n",
    "        return self\n",
    "    def transform (self,X,y=None):\n",
    "        X_=X.copy()\n",
    "        X_['Source']=X_['Source'].apply(source_compiler)\n",
    "        X_['Source']=X_['Source'].apply(lambda source: 'other sources' if source not in important_sources else source)\n",
    "        return X_\n",
    "    \n",
    "# Compile 'Medium':\n",
    "\n",
    "def medium_compiler(x):\n",
    "    \n",
    "    if 'cpc' in x.lower():\n",
    "        return 'cpc'\n",
    "    if x=='Social':\n",
    "        return 'IGShopping'  \n",
    "    if x=='facebook':\n",
    "        return 'facebook ads'\n",
    "    if x=='trafico':\n",
    "        return 'facebook trafico'\n",
    "    else:\n",
    "        return x\n",
    "    \n",
    "class MediumTransfomer(BaseEstimator,TransformerMixin):\n",
    "    def fit(self,X,y=None):\n",
    "        return self\n",
    "    def transform (self,X,y=None):\n",
    "        X_=X.copy()\n",
    "        X_['Medium']=X_['Medium'].apply(medium_compiler)\n",
    "        return X_\n",
    "    \n",
    "# Transform column into 'Category' type\n",
    "\n",
    "class AsTypeCategoryTransfomer(BaseEstimator,TransformerMixin):\n",
    "    def fit(self,X,y=None):\n",
    "        return self\n",
    "    def transform (self,X,y=None):\n",
    "        X_=X.copy()\n",
    "        X_=X_.astype('category')\n",
    "        for column in X_.columns:\n",
    "            X_[column]=X_[column].cat.codes.astype('category')\n",
    "        return X_\n"
   ]
  },
  {
   "cell_type": "code",
   "execution_count": 15,
   "id": "chinese-organizer",
   "metadata": {},
   "outputs": [],
   "source": [
    "# Pipeline:\n",
    "\n",
    "source_preprocessing = Pipeline([\n",
    "    ('source_transf',SourceTransfomer()),\n",
    "    ('astypecat_transf',AsTypeCategoryTransfomer()),\n",
    "    ('ohe',OneHotEncoder()) # handle_unknown is default 'error'\n",
    "])\n",
    "\n",
    "medium_preprocessing = Pipeline([\n",
    "    ('medium_transf',MediumTransfomer()),\n",
    "    ('astypecat_transf',AsTypeCategoryTransfomer()),\n",
    "    ('ohe',OneHotEncoder(drop='first')) #to drop (none) that is equal to (direct) in Source\n",
    "]) # handle_unknown is default 'error'\n",
    "\n",
    "device_preprocessing = Pipeline([\n",
    "    ('astypecat_transf',AsTypeCategoryTransfomer()),\n",
    "    ('ohe',OneHotEncoder()) # handle_unknown is default 'error'\n",
    "])\n",
    "\n",
    "os_preprocessing = Pipeline([\n",
    "    ('os_transf',OSTransfomer()),\n",
    "    ('astypecat_transf',AsTypeCategoryTransfomer()),\n",
    "    ('ohe',OneHotEncoder()) # handle_unknown is default 'error'\n",
    "])\n",
    "\n",
    "targetencod_preprocessing = Pipeline([('target_encoding',TargetEncoder())])\n",
    "\n",
    "imput_preprocessing = Pipeline([('impute_median',SimpleImputer(strategy='median'))])\n",
    "\n",
    "preprocess = ColumnTransformer([\n",
    "    ('source_preprocessing',source_preprocessing,['Source']),\n",
    "    ('medium_preprocessing',medium_preprocessing,['Medium']),\n",
    "    ('device_preprocessing',device_preprocessing,['ga:deviceCategory']),\n",
    "    ('os_preprocessing',os_preprocessing,['ga:operatingSystem']),\n",
    "    ('targetencod_preprocessing',targetencod_preprocessing,['ga:productSKU','ga:city']),\n",
    "    ('imput_preprocessing',imput_preprocessing,['Product_price'])\n",
    "],remainder='passthrough')\n",
    "\n",
    "pipeline=Pipeline([\n",
    "    ('preprocess',preprocess),\n",
    "    ('clrf',RandomForestClassifier())\n",
    "])"
   ]
  },
  {
   "cell_type": "markdown",
   "id": "frank-basic",
   "metadata": {},
   "source": [
    "#### Classifier"
   ]
  },
  {
   "cell_type": "code",
   "execution_count": 11,
   "id": "hired-accident",
   "metadata": {},
   "outputs": [],
   "source": [
    "# Data\n",
    "\n",
    "features=['ga:pageDepth','ga:sessionCount','ga:daysSinceLastSession','ga:productSKU',\\\n",
    "          'month_sin','month_cos','dayofweek_sin','dayofweek_cos','hour_sin','hour_cos',\\\n",
    "          'Source','Medium','ga:city','ga:deviceCategory','ga:operatingSystem','Returning_Visitor','Product_price']\n",
    "\n",
    "y=df['ga:productAddsToCart_transf']\n",
    "X=df[features]\n",
    "X_train, X_test, y_train, y_test = train_test_split(X, y,random_state=42)\n",
    "del(df)"
   ]
  },
  {
   "cell_type": "code",
   "execution_count": 12,
   "id": "rolled-performer",
   "metadata": {},
   "outputs": [
    {
     "name": "stderr",
     "output_type": "stream",
     "text": [
      "/home/dsc/TFM/kschool_masterDS_TFM/env/lib/python3.9/site-packages/category_encoders/utils.py:21: FutureWarning: is_categorical is deprecated and will be removed in a future version.  Use is_categorical_dtype instead\n",
      "  elif pd.api.types.is_categorical(cols):\n"
     ]
    },
    {
     "name": "stdout",
     "output_type": "stream",
     "text": [
      "TRAINING SCORE: 0.9902606961065038\n",
      "ACCURACY: 0.9746333946576691\n",
      "PRECISION: 0.10098553692563676\n",
      "RECALL: 0.04656790414920616\n",
      "F1 SCORE: 0.06374212312166748\n",
      "AUC: 0.8085171777581539\n"
     ]
    },
    {
     "data": {
      "image/png": "[encoded data removed]",
      "text/plain": [
       "<Figure size 432x288 with 1 Axes>"
      ]
     },
     "metadata": {
      "needs_background": "light"
     },
     "output_type": "display_data"
    }
   ],
   "source": [
    "evaluate(pipeline,X_train, X_test, y_train, y_test)"
   ]
  },
  {
   "cell_type": "code",
   "execution_count": 13,
   "id": "boolean-retreat",
   "metadata": {},
   "outputs": [
    {
     "name": "stdout",
     "output_type": "stream",
     "text": [
      "              precision    recall  f1-score   support\n",
      "\n",
      "           0       0.98      0.99      0.99    896778\n",
      "           1       0.10      0.05      0.06     16943\n",
      "\n",
      "    accuracy                           0.97    913721\n",
      "   macro avg       0.54      0.52      0.53    913721\n",
      "weighted avg       0.97      0.97      0.97    913721\n",
      "\n"
     ]
    },
    {
     "data": {
      "text/plain": [
       "array([[889754,   7024],\n",
       "       [ 16154,    789]])"
      ]
     },
     "execution_count": 13,
     "metadata": {},
     "output_type": "execute_result"
    }
   ],
   "source": [
    "print(classification_report(y_test,pipeline.predict(X_test)))\n",
    "clrf_cm = confusion_matrix(y_test,pipeline.predict(X_test))\n",
    "clrf_cm"
   ]
  },
  {
   "cell_type": "markdown",
   "id": "unable-insulation",
   "metadata": {},
   "source": [
    "### + WEB DISCOUNT"
   ]
  },
  {
   "cell_type": "markdown",
   "id": "geological-matter",
   "metadata": {},
   "source": [
    "#### Pipeline"
   ]
  },
  {
   "cell_type": "code",
   "execution_count": 9,
   "id": "diagnostic-amsterdam",
   "metadata": {},
   "outputs": [],
   "source": [
    "# 'Operating System' Transformer\n",
    "\n",
    "important_os = ['Android','iOS','Windows','Macintosh']\n",
    "\n",
    "class OSTransfomer(BaseEstimator,TransformerMixin):\n",
    "    def fit(self,X,y=None):\n",
    "        return self\n",
    "    def transform (self,X,y=None):\n",
    "        X_=X.copy()\n",
    "        X_['ga:operatingSystem']=X_['ga:operatingSystem'].apply(lambda os: 'other OS' if os not in important_os else os)\n",
    "        return X_\n",
    "    \n",
    "# Compile 'Source'\n",
    "\n",
    "def source_compiler(x):\n",
    "    \n",
    "    insta_words= ['instagram','ig','linktr.ee']\n",
    "    for seq in insta_words:\n",
    "        if seq in x.lower():\n",
    "            return 'instagram'\n",
    "    if 'facebook' in x.lower():\n",
    "        return 'facebook'\n",
    "    if 'youtube' in x.lower():\n",
    "        return 'youtube'  \n",
    "    if 'vogue' in x.lower():\n",
    "        return 'vogue'\n",
    "    if 'yahoo' in x.lower():\n",
    "        return 'yahoo'\n",
    "    else:\n",
    "        return x\n",
    "\n",
    "important_sources = ['google','(direct)','instagram','facebook','sendinblue','youtube','bing','yahoo','vogue','cantabrialabs.es']\n",
    "\n",
    "class SourceTransfomer(BaseEstimator,TransformerMixin):\n",
    "    def fit(self,X,y=None):\n",
    "        return self\n",
    "    def transform (self,X,y=None):\n",
    "        X_=X.copy()\n",
    "        X_['Source']=X_['Source'].apply(source_compiler)\n",
    "        X_['Source']=X_['Source'].apply(lambda source: 'other sources' if source not in important_sources else source)\n",
    "        return X_\n",
    "    \n",
    "# Compile 'Medium':\n",
    "\n",
    "def medium_compiler(x):\n",
    "    \n",
    "    if 'cpc' in x.lower():\n",
    "        return 'cpc'\n",
    "    if x=='Social':\n",
    "        return 'IGShopping'  \n",
    "    if x=='facebook':\n",
    "        return 'facebook ads'\n",
    "    if x=='trafico':\n",
    "        return 'facebook trafico'\n",
    "    else:\n",
    "        return x\n",
    "    \n",
    "class MediumTransfomer(BaseEstimator,TransformerMixin):\n",
    "    def fit(self,X,y=None):\n",
    "        return self\n",
    "    def transform (self,X,y=None):\n",
    "        X_=X.copy()\n",
    "        X_['Medium']=X_['Medium'].apply(medium_compiler)\n",
    "        return X_\n",
    "    \n",
    "# Transform column into 'Category' type\n",
    "\n",
    "class AsTypeCategoryTransfomer(BaseEstimator,TransformerMixin):\n",
    "    def fit(self,X,y=None):\n",
    "        return self\n",
    "    def transform (self,X,y=None):\n",
    "        X_=X.copy()\n",
    "        X_=X_.astype('category')\n",
    "        for column in X_.columns:\n",
    "            X_[column]=X_[column].cat.codes.astype('category')\n",
    "        return X_"
   ]
  },
  {
   "cell_type": "code",
   "execution_count": 10,
   "id": "consecutive-baptist",
   "metadata": {},
   "outputs": [],
   "source": [
    "# Pipeline:\n",
    "\n",
    "source_preprocessing = Pipeline([\n",
    "    ('source_transf',SourceTransfomer()),\n",
    "    ('astypecat_transf',AsTypeCategoryTransfomer()),\n",
    "    ('ohe',OneHotEncoder()) # handle_unknown is default 'error'\n",
    "])\n",
    "\n",
    "medium_preprocessing = Pipeline([\n",
    "    ('medium_transf',MediumTransfomer()),\n",
    "    ('astypecat_transf',AsTypeCategoryTransfomer()),\n",
    "    ('ohe',OneHotEncoder(drop='first')) #to drop (none) that is equal to (direct) in Source\n",
    "]) # handle_unknown is default 'error'\n",
    "\n",
    "device_preprocessing = Pipeline([\n",
    "    ('astypecat_transf',AsTypeCategoryTransfomer()),\n",
    "    ('ohe',OneHotEncoder()) # handle_unknown is default 'error'\n",
    "])\n",
    "\n",
    "os_preprocessing = Pipeline([\n",
    "    ('os_transf',OSTransfomer()),\n",
    "    ('astypecat_transf',AsTypeCategoryTransfomer()),\n",
    "    ('ohe',OneHotEncoder()) # handle_unknown is default 'error'\n",
    "])\n",
    "\n",
    "targetencod_preprocessing = Pipeline([('target_encoding',TargetEncoder())])\n",
    "\n",
    "imput_preprocessing = Pipeline([('impute_median',SimpleImputer(strategy='median'))])\n",
    "\n",
    "preprocess = ColumnTransformer([\n",
    "    ('source_preprocessing',source_preprocessing,['Source']),\n",
    "    ('medium_preprocessing',medium_preprocessing,['Medium']),\n",
    "    ('device_preprocessing',device_preprocessing,['ga:deviceCategory']),\n",
    "    ('os_preprocessing',os_preprocessing,['ga:operatingSystem']),\n",
    "    ('targetencod_preprocessing',targetencod_preprocessing,['ga:productSKU','ga:city']),\n",
    "    ('imput_preprocessing',imput_preprocessing,['Product_price'])\n",
    "],remainder='passthrough')\n",
    "\n",
    "pipeline=Pipeline([\n",
    "    ('preprocess',preprocess),\n",
    "    ('clrf',RandomForestClassifier())\n",
    "])"
   ]
  },
  {
   "cell_type": "markdown",
   "id": "million-denmark",
   "metadata": {},
   "source": [
    "#### Classifier"
   ]
  },
  {
   "cell_type": "code",
   "execution_count": 11,
   "id": "essential-mechanics",
   "metadata": {},
   "outputs": [],
   "source": [
    "# Data\n",
    "\n",
    "features=['ga:pageDepth','ga:sessionCount','ga:daysSinceLastSession','ga:productSKU',\\\n",
    "          'month_sin','month_cos','dayofweek_sin','dayofweek_cos','hour_sin','hour_cos',\\\n",
    "          'Source','Medium','ga:city','ga:deviceCategory','ga:operatingSystem','Returning_Visitor',\\\n",
    "          'Product_price','Web_Discount']\n",
    "\n",
    "y=df['ga:productAddsToCart_transf']\n",
    "X=df[features]\n",
    "X_train, X_test, y_train, y_test = train_test_split(X, y,random_state=42)\n",
    "del(df)"
   ]
  },
  {
   "cell_type": "code",
   "execution_count": 12,
   "id": "absent-slovakia",
   "metadata": {},
   "outputs": [
    {
     "name": "stderr",
     "output_type": "stream",
     "text": [
      "/home/dsc/TFM/kschool_masterDS_TFM/env/lib/python3.9/site-packages/category_encoders/utils.py:21: FutureWarning: is_categorical is deprecated and will be removed in a future version.  Use is_categorical_dtype instead\n",
      "  elif pd.api.types.is_categorical(cols):\n"
     ]
    },
    {
     "name": "stdout",
     "output_type": "stream",
     "text": [
      "TRAINING SCORE: 0.9902690867117984\n",
      "ACCURACY: 0.9745994674523186\n",
      "PRECISION: 0.10361842105263158\n",
      "RECALL: 0.04833854689252198\n",
      "F1 SCORE: 0.06592345152332274\n",
      "AUC: 0.8117270261869601\n"
     ]
    },
    {
     "data": {
      "image/png": "[encoded data removed]",
      "text/plain": [
       "<Figure size 432x288 with 1 Axes>"
      ]
     },
     "metadata": {
      "needs_background": "light"
     },
     "output_type": "display_data"
    }
   ],
   "source": [
    "evaluate(pipeline,X_train, X_test, y_train, y_test)"
   ]
  },
  {
   "cell_type": "code",
   "execution_count": 13,
   "id": "trained-width",
   "metadata": {},
   "outputs": [
    {
     "name": "stdout",
     "output_type": "stream",
     "text": [
      "              precision    recall  f1-score   support\n",
      "\n",
      "           0       0.98      0.99      0.99    896778\n",
      "           1       0.10      0.05      0.07     16943\n",
      "\n",
      "    accuracy                           0.97    913721\n",
      "   macro avg       0.54      0.52      0.53    913721\n",
      "weighted avg       0.97      0.97      0.97    913721\n",
      "\n"
     ]
    },
    {
     "data": {
      "text/plain": [
       "array([[889693,   7085],\n",
       "       [ 16124,    819]])"
      ]
     },
     "execution_count": 13,
     "metadata": {},
     "output_type": "execute_result"
    }
   ],
   "source": [
    "print(classification_report(y_test,pipeline.predict(X_test)))\n",
    "clrf_cm = confusion_matrix(y_test,pipeline.predict(X_test))\n",
    "clrf_cm"
   ]
  },
  {
   "cell_type": "markdown",
   "id": "responsible-field",
   "metadata": {},
   "source": [
    "### + PAGE PATH"
   ]
  },
  {
   "cell_type": "markdown",
   "id": "colored-opening",
   "metadata": {},
   "source": [
    "#### Pipeline"
   ]
  },
  {
   "cell_type": "code",
   "execution_count": 9,
   "id": "helpful-sydney",
   "metadata": {},
   "outputs": [],
   "source": [
    "# 'Operating System' Transformer\n",
    "\n",
    "important_os = ['Android','iOS','Windows','Macintosh']\n",
    "\n",
    "class OSTransfomer(BaseEstimator,TransformerMixin):\n",
    "    def fit(self,X,y=None):\n",
    "        return self\n",
    "    def transform (self,X,y=None):\n",
    "        X_=X.copy()\n",
    "        X_['ga:operatingSystem']=X_['ga:operatingSystem'].apply(lambda os: 'other OS' if os not in important_os else os)\n",
    "        return X_\n",
    "    \n",
    "# Compile 'Source'\n",
    "\n",
    "def source_compiler(x):\n",
    "    \n",
    "    insta_words= ['instagram','ig','linktr.ee']\n",
    "    for seq in insta_words:\n",
    "        if seq in x.lower():\n",
    "            return 'instagram'\n",
    "    if 'facebook' in x.lower():\n",
    "        return 'facebook'\n",
    "    if 'youtube' in x.lower():\n",
    "        return 'youtube'  \n",
    "    if 'vogue' in x.lower():\n",
    "        return 'vogue'\n",
    "    if 'yahoo' in x.lower():\n",
    "        return 'yahoo'\n",
    "    else:\n",
    "        return x\n",
    "\n",
    "important_sources = ['google','(direct)','instagram','facebook','sendinblue','youtube','bing','yahoo','vogue','cantabrialabs.es']\n",
    "\n",
    "class SourceTransfomer(BaseEstimator,TransformerMixin):\n",
    "    def fit(self,X,y=None):\n",
    "        return self\n",
    "    def transform (self,X,y=None):\n",
    "        X_=X.copy()\n",
    "        X_['Source']=X_['Source'].apply(source_compiler)\n",
    "        X_['Source']=X_['Source'].apply(lambda source: 'other sources' if source not in important_sources else source)\n",
    "        return X_\n",
    "    \n",
    "# Compile 'Medium':\n",
    "\n",
    "def medium_compiler(x):\n",
    "    \n",
    "    if 'cpc' in x.lower():\n",
    "        return 'cpc'\n",
    "    if x=='Social':\n",
    "        return 'IGShopping'  \n",
    "    if x=='facebook':\n",
    "        return 'facebook ads'\n",
    "    if x=='trafico':\n",
    "        return 'facebook trafico'\n",
    "    else:\n",
    "        return x\n",
    "    \n",
    "class MediumTransfomer(BaseEstimator,TransformerMixin):\n",
    "    def fit(self,X,y=None):\n",
    "        return self\n",
    "    def transform (self,X,y=None):\n",
    "        X_=X.copy()\n",
    "        X_['Medium']=X_['Medium'].apply(medium_compiler)\n",
    "        return X_\n",
    "    \n",
    "# Transform column into 'Category' type\n",
    "\n",
    "class AsTypeCategoryTransfomer(BaseEstimator,TransformerMixin):\n",
    "    def fit(self,X,y=None):\n",
    "        return self\n",
    "    def transform (self,X,y=None):\n",
    "        X_=X.copy()\n",
    "        X_=X_.astype('category')\n",
    "        for column in X_.columns:\n",
    "            X_[column]=X_[column].cat.codes.astype('category')\n",
    "        return X_"
   ]
  },
  {
   "cell_type": "code",
   "execution_count": 10,
   "id": "incorrect-chemical",
   "metadata": {},
   "outputs": [],
   "source": [
    "# Pipeline:\n",
    "\n",
    "source_preprocessing = Pipeline([\n",
    "    ('source_transf',SourceTransfomer()),\n",
    "    ('astypecat_transf',AsTypeCategoryTransfomer()),\n",
    "    ('ohe',OneHotEncoder()) # handle_unknown is default 'error'\n",
    "])\n",
    "\n",
    "medium_preprocessing = Pipeline([\n",
    "    ('medium_transf',MediumTransfomer()),\n",
    "    ('astypecat_transf',AsTypeCategoryTransfomer()),\n",
    "    ('ohe',OneHotEncoder(drop='first')) #to drop (none) that is equal to (direct) in Source\n",
    "]) # handle_unknown is default 'error'\n",
    "\n",
    "device_preprocessing = Pipeline([\n",
    "    ('astypecat_transf',AsTypeCategoryTransfomer()),\n",
    "    ('ohe',OneHotEncoder()) # handle_unknown is default 'error'\n",
    "])\n",
    "\n",
    "os_preprocessing = Pipeline([\n",
    "    ('os_transf',OSTransfomer()),\n",
    "    ('astypecat_transf',AsTypeCategoryTransfomer()),\n",
    "    ('ohe',OneHotEncoder()) # handle_unknown is default 'error'\n",
    "])\n",
    "\n",
    "targetencod_preprocessing = Pipeline([('target_encoding',TargetEncoder())])\n",
    "\n",
    "imput_preprocessing = Pipeline([('impute_median',SimpleImputer(strategy='median'))])\n",
    "\n",
    "preprocess = ColumnTransformer([\n",
    "    ('source_preprocessing',source_preprocessing,['Source']),\n",
    "    ('medium_preprocessing',medium_preprocessing,['Medium']),\n",
    "    ('device_preprocessing',device_preprocessing,['ga:deviceCategory']),\n",
    "    ('os_preprocessing',os_preprocessing,['ga:operatingSystem']),\n",
    "    ('targetencod_preprocessing',targetencod_preprocessing,['ga:productSKU','ga:city','ga:pagePath']),\n",
    "    ('imput_preprocessing',imput_preprocessing,['Product_price'])\n",
    "],remainder='passthrough')\n",
    "\n",
    "pipeline=Pipeline([\n",
    "    ('preprocess',preprocess),\n",
    "    ('clrf',RandomForestClassifier())\n",
    "])"
   ]
  },
  {
   "cell_type": "markdown",
   "id": "excellent-mystery",
   "metadata": {},
   "source": [
    "#### Classifier"
   ]
  },
  {
   "cell_type": "code",
   "execution_count": 11,
   "id": "yellow-auckland",
   "metadata": {},
   "outputs": [],
   "source": [
    "# Data\n",
    "\n",
    "features=['ga:pageDepth','ga:sessionCount','ga:daysSinceLastSession','ga:productSKU',\\\n",
    "          'month_sin','month_cos','dayofweek_sin','dayofweek_cos','hour_sin','hour_cos',\\\n",
    "          'Source','Medium','ga:city','ga:deviceCategory','ga:operatingSystem','Returning_Visitor',\\\n",
    "          'Product_price','Web_Discount','ga:pagePath']\n",
    "\n",
    "y=df['ga:productAddsToCart_transf']\n",
    "X=df[features]\n",
    "X_train, X_test, y_train, y_test = train_test_split(X, y,random_state=42)\n",
    "del(df)"
   ]
  },
  {
   "cell_type": "code",
   "execution_count": 12,
   "id": "rapid-qualification",
   "metadata": {},
   "outputs": [
    {
     "name": "stderr",
     "output_type": "stream",
     "text": [
      "/home/dsc/TFM/kschool_masterDS_TFM/env/lib/python3.9/site-packages/category_encoders/utils.py:21: FutureWarning: is_categorical is deprecated and will be removed in a future version.  Use is_categorical_dtype instead\n",
      "  elif pd.api.types.is_categorical(cols):\n"
     ]
    },
    {
     "name": "stdout",
     "output_type": "stream",
     "text": [
      "TRAINING SCORE: 0.9971938897423391\n",
      "ACCURACY: 0.9873550022381011\n",
      "PRECISION: 0.7656511880114365\n",
      "RECALL: 0.45836038481968955\n",
      "F1 SCORE: 0.5734327696965221\n",
      "AUC: 0.9345621205755714\n"
     ]
    },
    {
     "data": {
      "image/png": "[encoded data removed]",
      "text/plain": [
       "<Figure size 432x288 with 1 Axes>"
      ]
     },
     "metadata": {
      "needs_background": "light"
     },
     "output_type": "display_data"
    }
   ],
   "source": [
    "evaluate(pipeline,X_train, X_test, y_train, y_test)"
   ]
  },
  {
   "cell_type": "code",
   "execution_count": 13,
   "id": "impaired-occurrence",
   "metadata": {},
   "outputs": [
    {
     "name": "stdout",
     "output_type": "stream",
     "text": [
      "              precision    recall  f1-score   support\n",
      "\n",
      "           0       0.99      1.00      0.99    896778\n",
      "           1       0.77      0.46      0.57     16943\n",
      "\n",
      "    accuracy                           0.99    913721\n",
      "   macro avg       0.88      0.73      0.78    913721\n",
      "weighted avg       0.99      0.99      0.99    913721\n",
      "\n"
     ]
    },
    {
     "data": {
      "text/plain": [
       "array([[894401,   2377],\n",
       "       [  9177,   7766]])"
      ]
     },
     "execution_count": 13,
     "metadata": {},
     "output_type": "execute_result"
    }
   ],
   "source": [
    "print(classification_report(y_test,pipeline.predict(X_test)))\n",
    "clrf_cm = confusion_matrix(y_test,pipeline.predict(X_test))\n",
    "clrf_cm"
   ]
  },
  {
   "cell_type": "markdown",
   "id": "level-vacation",
   "metadata": {},
   "source": [
    "Check 'Page_path_test.ipynb' Notebook to compare results with a Random Forest Classifier applied to the dataset without page paths related to 'carrito' or 'pedido'. "
   ]
  },
  {
   "cell_type": "markdown",
   "id": "waiting-parent",
   "metadata": {},
   "source": [
    "### + DETAIL VIEW (YES OR NO)"
   ]
  },
  {
   "cell_type": "markdown",
   "id": "governmental-navigator",
   "metadata": {},
   "source": [
    "#### Pipeline"
   ]
  },
  {
   "cell_type": "code",
   "execution_count": 9,
   "id": "asian-disclaimer",
   "metadata": {},
   "outputs": [],
   "source": [
    "# 'Operating System' Transformer\n",
    "\n",
    "important_os = ['Android','iOS','Windows','Macintosh']\n",
    "\n",
    "class OSTransfomer(BaseEstimator,TransformerMixin):\n",
    "    def fit(self,X,y=None):\n",
    "        return self\n",
    "    def transform (self,X,y=None):\n",
    "        X_=X.copy()\n",
    "        X_['ga:operatingSystem']=X_['ga:operatingSystem'].apply(lambda os: 'other OS' if os not in important_os else os)\n",
    "        return X_\n",
    "    \n",
    "# Compile 'Source'\n",
    "\n",
    "def source_compiler(x):\n",
    "    \n",
    "    insta_words= ['instagram','ig','linktr.ee']\n",
    "    for seq in insta_words:\n",
    "        if seq in x.lower():\n",
    "            return 'instagram'\n",
    "    if 'facebook' in x.lower():\n",
    "        return 'facebook'\n",
    "    if 'youtube' in x.lower():\n",
    "        return 'youtube'  \n",
    "    if 'vogue' in x.lower():\n",
    "        return 'vogue'\n",
    "    if 'yahoo' in x.lower():\n",
    "        return 'yahoo'\n",
    "    else:\n",
    "        return x\n",
    "\n",
    "important_sources = ['google','(direct)','instagram','facebook','sendinblue','youtube','bing','yahoo','vogue','cantabrialabs.es']\n",
    "\n",
    "class SourceTransfomer(BaseEstimator,TransformerMixin):\n",
    "    def fit(self,X,y=None):\n",
    "        return self\n",
    "    def transform (self,X,y=None):\n",
    "        X_=X.copy()\n",
    "        X_['Source']=X_['Source'].apply(source_compiler)\n",
    "        X_['Source']=X_['Source'].apply(lambda source: 'other sources' if source not in important_sources else source)\n",
    "        return X_\n",
    "    \n",
    "# Compile 'Medium':\n",
    "\n",
    "def medium_compiler(x):\n",
    "    \n",
    "    if 'cpc' in x.lower():\n",
    "        return 'cpc'\n",
    "    if x=='Social':\n",
    "        return 'IGShopping'  \n",
    "    if x=='facebook':\n",
    "        return 'facebook ads'\n",
    "    if x=='trafico':\n",
    "        return 'facebook trafico'\n",
    "    else:\n",
    "        return x\n",
    "    \n",
    "class MediumTransfomer(BaseEstimator,TransformerMixin):\n",
    "    def fit(self,X,y=None):\n",
    "        return self\n",
    "    def transform (self,X,y=None):\n",
    "        X_=X.copy()\n",
    "        X_['Medium']=X_['Medium'].apply(medium_compiler)\n",
    "        return X_\n",
    "    \n",
    "# Transform column into 'Category' type\n",
    "\n",
    "class AsTypeCategoryTransfomer(BaseEstimator,TransformerMixin):\n",
    "    def fit(self,X,y=None):\n",
    "        return self\n",
    "    def transform (self,X,y=None):\n",
    "        X_=X.copy()\n",
    "        X_=X_.astype('category')\n",
    "        for column in X_.columns:\n",
    "            X_[column]=X_[column].cat.codes.astype('category')\n",
    "        return X_"
   ]
  },
  {
   "cell_type": "code",
   "execution_count": 10,
   "id": "naval-radiation",
   "metadata": {},
   "outputs": [],
   "source": [
    "# Pipeline:\n",
    "\n",
    "source_preprocessing = Pipeline([\n",
    "    ('source_transf',SourceTransfomer()),\n",
    "    ('astypecat_transf',AsTypeCategoryTransfomer()),\n",
    "    ('ohe',OneHotEncoder()) # handle_unknown is default 'error'\n",
    "])\n",
    "\n",
    "medium_preprocessing = Pipeline([\n",
    "    ('medium_transf',MediumTransfomer()),\n",
    "    ('astypecat_transf',AsTypeCategoryTransfomer()),\n",
    "    ('ohe',OneHotEncoder(drop='first')) #to drop (none) that is equal to (direct) in Source\n",
    "]) # handle_unknown is default 'error'\n",
    "\n",
    "device_preprocessing = Pipeline([\n",
    "    ('astypecat_transf',AsTypeCategoryTransfomer()),\n",
    "    ('ohe',OneHotEncoder()) # handle_unknown is default 'error'\n",
    "])\n",
    "\n",
    "os_preprocessing = Pipeline([\n",
    "    ('os_transf',OSTransfomer()),\n",
    "    ('astypecat_transf',AsTypeCategoryTransfomer()),\n",
    "    ('ohe',OneHotEncoder()) # handle_unknown is default 'error'\n",
    "])\n",
    "\n",
    "targetencod_preprocessing = Pipeline([('target_encoding',TargetEncoder())])\n",
    "\n",
    "imput_preprocessing = Pipeline([('impute_median',SimpleImputer(strategy='median'))])\n",
    "\n",
    "preprocess = ColumnTransformer([\n",
    "    ('source_preprocessing',source_preprocessing,['Source']),\n",
    "    ('medium_preprocessing',medium_preprocessing,['Medium']),\n",
    "    ('device_preprocessing',device_preprocessing,['ga:deviceCategory']),\n",
    "    ('os_preprocessing',os_preprocessing,['ga:operatingSystem']),\n",
    "    ('targetencod_preprocessing',targetencod_preprocessing,['ga:productSKU','ga:city','ga:pagePath']),\n",
    "    ('imput_preprocessing',imput_preprocessing,['Product_price'])\n",
    "],remainder='passthrough')\n",
    "\n",
    "pipeline=Pipeline([\n",
    "    ('preprocess',preprocess),\n",
    "    ('clrf',RandomForestClassifier())\n",
    "])"
   ]
  },
  {
   "cell_type": "markdown",
   "id": "passive-berkeley",
   "metadata": {},
   "source": [
    "#### Classifier"
   ]
  },
  {
   "cell_type": "code",
   "execution_count": 11,
   "id": "varied-south",
   "metadata": {},
   "outputs": [],
   "source": [
    "# Data\n",
    "\n",
    "features=['ga:pageDepth','ga:sessionCount','ga:daysSinceLastSession','ga:productSKU',\\\n",
    "          'month_sin','month_cos','dayofweek_sin','dayofweek_cos','hour_sin','hour_cos',\\\n",
    "          'Source','Medium','ga:city','ga:deviceCategory','ga:operatingSystem','Returning_Visitor',\\\n",
    "          'Product_price','Web_Discount','ga:pagePath','Detail_View']\n",
    "\n",
    "y=df['ga:productAddsToCart_transf']\n",
    "X=df[features]\n",
    "X_train, X_test, y_train, y_test = train_test_split(X, y,random_state=42)\n",
    "del(df)"
   ]
  },
  {
   "cell_type": "code",
   "execution_count": 12,
   "id": "synthetic-shareware",
   "metadata": {},
   "outputs": [
    {
     "name": "stderr",
     "output_type": "stream",
     "text": [
      "/home/dsc/TFM/kschool_masterDS_TFM/env/lib/python3.9/site-packages/category_encoders/utils.py:21: FutureWarning: is_categorical is deprecated and will be removed in a future version.  Use is_categorical_dtype instead\n",
      "  elif pd.api.types.is_categorical(cols):\n"
     ]
    },
    {
     "name": "stdout",
     "output_type": "stream",
     "text": [
      "TRAINING SCORE: 0.9971924305066356\n",
      "ACCURACY: 0.9877818283699291\n",
      "PRECISION: 0.7726715108049448\n",
      "RECALL: 0.4832674260756655\n",
      "F1 SCORE: 0.5946259985475671\n",
      "AUC: 0.9394983299493306\n"
     ]
    },
    {
     "data": {
      "image/png": "[encoded data removed]",
      "text/plain": [
       "<Figure size 432x288 with 1 Axes>"
      ]
     },
     "metadata": {
      "needs_background": "light"
     },
     "output_type": "display_data"
    }
   ],
   "source": [
    "evaluate(pipeline,X_train, X_test, y_train, y_test)"
   ]
  },
  {
   "cell_type": "code",
   "execution_count": 13,
   "id": "corporate-begin",
   "metadata": {},
   "outputs": [
    {
     "name": "stdout",
     "output_type": "stream",
     "text": [
      "              precision    recall  f1-score   support\n",
      "\n",
      "           0       0.99      1.00      0.99    896778\n",
      "           1       0.77      0.48      0.59     16943\n",
      "\n",
      "    accuracy                           0.99    913721\n",
      "   macro avg       0.88      0.74      0.79    913721\n",
      "weighted avg       0.99      0.99      0.99    913721\n",
      "\n"
     ]
    },
    {
     "data": {
      "text/plain": [
       "array([[894369,   2409],\n",
       "       [  8755,   8188]])"
      ]
     },
     "execution_count": 13,
     "metadata": {},
     "output_type": "execute_result"
    }
   ],
   "source": [
    "print(classification_report(y_test,pipeline.predict(X_test)))\n",
    "clrf_cm = confusion_matrix(y_test,pipeline.predict(X_test))\n",
    "clrf_cm"
   ]
  },
  {
   "cell_type": "markdown",
   "id": "comic-labor",
   "metadata": {},
   "source": [
    "### + LANDING PAGE PATH"
   ]
  },
  {
   "cell_type": "markdown",
   "id": "finite-small",
   "metadata": {},
   "source": [
    "#### Pipeline"
   ]
  },
  {
   "cell_type": "code",
   "execution_count": 9,
   "id": "mineral-legislation",
   "metadata": {},
   "outputs": [],
   "source": [
    "# 'Operating System' Transformer\n",
    "\n",
    "important_os = ['Android','iOS','Windows','Macintosh']\n",
    "\n",
    "class OSTransfomer(BaseEstimator,TransformerMixin):\n",
    "    def fit(self,X,y=None):\n",
    "        return self\n",
    "    def transform (self,X,y=None):\n",
    "        X_=X.copy()\n",
    "        X_['ga:operatingSystem']=X_['ga:operatingSystem'].apply(lambda os: 'other OS' if os not in important_os else os)\n",
    "        return X_\n",
    "    \n",
    "# Compile 'Source'\n",
    "\n",
    "def source_compiler(x):\n",
    "    \n",
    "    insta_words= ['instagram','ig','linktr.ee']\n",
    "    for seq in insta_words:\n",
    "        if seq in x.lower():\n",
    "            return 'instagram'\n",
    "    if 'facebook' in x.lower():\n",
    "        return 'facebook'\n",
    "    if 'youtube' in x.lower():\n",
    "        return 'youtube'  \n",
    "    if 'vogue' in x.lower():\n",
    "        return 'vogue'\n",
    "    if 'yahoo' in x.lower():\n",
    "        return 'yahoo'\n",
    "    else:\n",
    "        return x\n",
    "\n",
    "important_sources = ['google','(direct)','instagram','facebook','sendinblue','youtube','bing','yahoo','vogue','cantabrialabs.es']\n",
    "\n",
    "class SourceTransfomer(BaseEstimator,TransformerMixin):\n",
    "    def fit(self,X,y=None):\n",
    "        return self\n",
    "    def transform (self,X,y=None):\n",
    "        X_=X.copy()\n",
    "        X_['Source']=X_['Source'].apply(source_compiler)\n",
    "        X_['Source']=X_['Source'].apply(lambda source: 'other sources' if source not in important_sources else source)\n",
    "        return X_\n",
    "    \n",
    "# Compile 'Medium':\n",
    "\n",
    "def medium_compiler(x):\n",
    "    \n",
    "    if 'cpc' in x.lower():\n",
    "        return 'cpc'\n",
    "    if x=='Social':\n",
    "        return 'IGShopping'  \n",
    "    if x=='facebook':\n",
    "        return 'facebook ads'\n",
    "    if x=='trafico':\n",
    "        return 'facebook trafico'\n",
    "    else:\n",
    "        return x\n",
    "    \n",
    "class MediumTransfomer(BaseEstimator,TransformerMixin):\n",
    "    def fit(self,X,y=None):\n",
    "        return self\n",
    "    def transform (self,X,y=None):\n",
    "        X_=X.copy()\n",
    "        X_['Medium']=X_['Medium'].apply(medium_compiler)\n",
    "        return X_\n",
    "    \n",
    "# Transform column into 'Category' type\n",
    "\n",
    "class AsTypeCategoryTransfomer(BaseEstimator,TransformerMixin):\n",
    "    def fit(self,X,y=None):\n",
    "        return self\n",
    "    def transform (self,X,y=None):\n",
    "        X_=X.copy()\n",
    "        X_=X_.astype('category')\n",
    "        for column in X_.columns:\n",
    "            X_[column]=X_[column].cat.codes.astype('category')\n",
    "        return X_"
   ]
  },
  {
   "cell_type": "code",
   "execution_count": 10,
   "id": "earned-visibility",
   "metadata": {},
   "outputs": [],
   "source": [
    "# Pipeline:\n",
    "\n",
    "source_preprocessing = Pipeline([\n",
    "    ('source_transf',SourceTransfomer()),\n",
    "    ('astypecat_transf',AsTypeCategoryTransfomer()),\n",
    "    ('ohe',OneHotEncoder()) # handle_unknown is default 'error'\n",
    "])\n",
    "\n",
    "medium_preprocessing = Pipeline([\n",
    "    ('medium_transf',MediumTransfomer()),\n",
    "    ('astypecat_transf',AsTypeCategoryTransfomer()),\n",
    "    ('ohe',OneHotEncoder(drop='first')) #to drop (none) that is equal to (direct) in Source\n",
    "]) # handle_unknown is default 'error'\n",
    "\n",
    "device_preprocessing = Pipeline([\n",
    "    ('astypecat_transf',AsTypeCategoryTransfomer()),\n",
    "    ('ohe',OneHotEncoder()) # handle_unknown is default 'error'\n",
    "])\n",
    "\n",
    "os_preprocessing = Pipeline([\n",
    "    ('os_transf',OSTransfomer()),\n",
    "    ('astypecat_transf',AsTypeCategoryTransfomer()),\n",
    "    ('ohe',OneHotEncoder()) # handle_unknown is default 'error'\n",
    "])\n",
    "\n",
    "targetencod_preprocessing = Pipeline([('target_encoding',TargetEncoder())])\n",
    "\n",
    "imput_preprocessing = Pipeline([('impute_median',SimpleImputer(strategy='median'))])\n",
    "\n",
    "preprocess = ColumnTransformer([\n",
    "    ('source_preprocessing',source_preprocessing,['Source']),\n",
    "    ('medium_preprocessing',medium_preprocessing,['Medium']),\n",
    "    ('device_preprocessing',device_preprocessing,['ga:deviceCategory']),\n",
    "    ('os_preprocessing',os_preprocessing,['ga:operatingSystem']),\n",
    "    ('targetencod_preprocessing',targetencod_preprocessing,['ga:productSKU','ga:city','ga:pagePath','ga:landingPagePath']),\n",
    "    ('imput_preprocessing',imput_preprocessing,['Product_price'])\n",
    "],remainder='passthrough')\n",
    "\n",
    "pipeline=Pipeline([\n",
    "    ('preprocess',preprocess),\n",
    "    ('clrf',RandomForestClassifier())\n",
    "])"
   ]
  },
  {
   "cell_type": "markdown",
   "id": "greenhouse-treat",
   "metadata": {},
   "source": [
    "#### Classifier"
   ]
  },
  {
   "cell_type": "code",
   "execution_count": 11,
   "id": "favorite-twist",
   "metadata": {},
   "outputs": [],
   "source": [
    "# Data\n",
    "\n",
    "features=['ga:pageDepth','ga:sessionCount','ga:daysSinceLastSession','ga:productSKU',\\\n",
    "          'month_sin','month_cos','dayofweek_sin','dayofweek_cos','hour_sin','hour_cos',\\\n",
    "          'Source','Medium','ga:city','ga:deviceCategory','ga:operatingSystem','Returning_Visitor',\\\n",
    "          'Product_price','Web_Discount','ga:pagePath','Detail_View','ga:landingPagePath']\n",
    "\n",
    "y=df['ga:productAddsToCart_transf']\n",
    "X=df[features]\n",
    "X_train, X_test, y_train, y_test = train_test_split(X, y,random_state=42)\n",
    "del(df)"
   ]
  },
  {
   "cell_type": "code",
   "execution_count": 12,
   "id": "referenced-prospect",
   "metadata": {},
   "outputs": [
    {
     "name": "stderr",
     "output_type": "stream",
     "text": [
      "/home/dsc/TFM/kschool_masterDS_TFM/env/lib/python3.9/site-packages/category_encoders/utils.py:21: FutureWarning: is_categorical is deprecated and will be removed in a future version.  Use is_categorical_dtype instead\n",
      "  elif pd.api.types.is_categorical(cols):\n"
     ]
    },
    {
     "name": "stdout",
     "output_type": "stream",
     "text": [
      "TRAINING SCORE: 0.9971968082137459\n",
      "ACCURACY: 0.9880302630671726\n",
      "PRECISION: 0.7777469478357381\n",
      "RECALL: 0.49631116095142536\n",
      "F1 SCORE: 0.6059448747973338\n",
      "AUC: 0.9415827011774704\n"
     ]
    },
    {
     "data": {
      "image/png": "[encoded data removed]",
      "text/plain": [
       "<Figure size 432x288 with 1 Axes>"
      ]
     },
     "metadata": {
      "needs_background": "light"
     },
     "output_type": "display_data"
    }
   ],
   "source": [
    "evaluate(pipeline,X_train, X_test, y_train, y_test)"
   ]
  },
  {
   "cell_type": "code",
   "execution_count": 13,
   "id": "seeing-bradley",
   "metadata": {},
   "outputs": [
    {
     "name": "stdout",
     "output_type": "stream",
     "text": [
      "              precision    recall  f1-score   support\n",
      "\n",
      "           0       0.99      1.00      0.99    896778\n",
      "           1       0.78      0.50      0.61     16943\n",
      "\n",
      "    accuracy                           0.99    913721\n",
      "   macro avg       0.88      0.75      0.80    913721\n",
      "weighted avg       0.99      0.99      0.99    913721\n",
      "\n"
     ]
    },
    {
     "data": {
      "text/plain": [
       "array([[894375,   2403],\n",
       "       [  8534,   8409]])"
      ]
     },
     "execution_count": 13,
     "metadata": {},
     "output_type": "execute_result"
    }
   ],
   "source": [
    "print(classification_report(y_test,pipeline.predict(X_test)))\n",
    "clrf_cm = confusion_matrix(y_test,pipeline.predict(X_test))\n",
    "clrf_cm"
   ]
  },
  {
   "cell_type": "code",
   "execution_count": 14,
   "id": "crazy-musical",
   "metadata": {},
   "outputs": [
    {
     "data": {
      "text/plain": [
       "Index(['ga:pageDepth', 'ga:sessionCount', 'ga:daysSinceLastSession',\n",
       "       'ga:productSKU', 'month_sin', 'month_cos', 'dayofweek_sin',\n",
       "       'dayofweek_cos', 'hour_sin', 'hour_cos', 'Source', 'Medium', 'ga:city',\n",
       "       'ga:deviceCategory', 'ga:operatingSystem', 'Returning_Visitor',\n",
       "       'Product_price', 'Web_Discount', 'ga:pagePath', 'Detail_View',\n",
       "       'ga:landingPagePath'],\n",
       "      dtype='object')"
      ]
     },
     "execution_count": 14,
     "metadata": {},
     "output_type": "execute_result"
    }
   ],
   "source": [
    "X_train.columns"
   ]
  },
  {
   "cell_type": "code",
   "execution_count": 15,
   "id": "dying-colonial",
   "metadata": {},
   "outputs": [
    {
     "data": {
      "text/plain": [
       "{'memory': None,\n",
       " 'steps': [('preprocess',\n",
       "   ColumnTransformer(remainder='passthrough',\n",
       "                     transformers=[('source_preprocessing',\n",
       "                                    Pipeline(steps=[('source_transf',\n",
       "                                                     SourceTransfomer()),\n",
       "                                                    ('astypecat_transf',\n",
       "                                                     AsTypeCategoryTransfomer()),\n",
       "                                                    ('ohe', OneHotEncoder())]),\n",
       "                                    ['Source']),\n",
       "                                   ('medium_preprocessing',\n",
       "                                    Pipeline(steps=[('medium_transf',\n",
       "                                                     MediumTransfomer()),\n",
       "                                                    ('astypecat_transf',\n",
       "                                                     AsTypeCategoryTransfomer()),\n",
       "                                                    ('ohe'...\n",
       "                                                    ('astypecat_transf',\n",
       "                                                     AsTypeCategoryTransfomer()),\n",
       "                                                    ('ohe', OneHotEncoder())]),\n",
       "                                    ['ga:operatingSystem']),\n",
       "                                   ('targetencod_preprocessing',\n",
       "                                    Pipeline(steps=[('target_encoding',\n",
       "                                                     TargetEncoder())]),\n",
       "                                    ['ga:productSKU', 'ga:city', 'ga:pagePath',\n",
       "                                     'ga:landingPagePath']),\n",
       "                                   ('imput_preprocessing',\n",
       "                                    Pipeline(steps=[('impute_median',\n",
       "                                                     SimpleImputer(strategy='median'))]),\n",
       "                                    ['Product_price'])])),\n",
       "  ('clrf', RandomForestClassifier())],\n",
       " 'verbose': False,\n",
       " 'preprocess': ColumnTransformer(remainder='passthrough',\n",
       "                   transformers=[('source_preprocessing',\n",
       "                                  Pipeline(steps=[('source_transf',\n",
       "                                                   SourceTransfomer()),\n",
       "                                                  ('astypecat_transf',\n",
       "                                                   AsTypeCategoryTransfomer()),\n",
       "                                                  ('ohe', OneHotEncoder())]),\n",
       "                                  ['Source']),\n",
       "                                 ('medium_preprocessing',\n",
       "                                  Pipeline(steps=[('medium_transf',\n",
       "                                                   MediumTransfomer()),\n",
       "                                                  ('astypecat_transf',\n",
       "                                                   AsTypeCategoryTransfomer()),\n",
       "                                                  ('ohe'...\n",
       "                                                  ('astypecat_transf',\n",
       "                                                   AsTypeCategoryTransfomer()),\n",
       "                                                  ('ohe', OneHotEncoder())]),\n",
       "                                  ['ga:operatingSystem']),\n",
       "                                 ('targetencod_preprocessing',\n",
       "                                  Pipeline(steps=[('target_encoding',\n",
       "                                                   TargetEncoder())]),\n",
       "                                  ['ga:productSKU', 'ga:city', 'ga:pagePath',\n",
       "                                   'ga:landingPagePath']),\n",
       "                                 ('imput_preprocessing',\n",
       "                                  Pipeline(steps=[('impute_median',\n",
       "                                                   SimpleImputer(strategy='median'))]),\n",
       "                                  ['Product_price'])]),\n",
       " 'clrf': RandomForestClassifier(),\n",
       " 'preprocess__n_jobs': None,\n",
       " 'preprocess__remainder': 'passthrough',\n",
       " 'preprocess__sparse_threshold': 0.3,\n",
       " 'preprocess__transformer_weights': None,\n",
       " 'preprocess__transformers': [('source_preprocessing',\n",
       "   Pipeline(steps=[('source_transf', SourceTransfomer()),\n",
       "                   ('astypecat_transf', AsTypeCategoryTransfomer()),\n",
       "                   ('ohe', OneHotEncoder())]),\n",
       "   ['Source']),\n",
       "  ('medium_preprocessing',\n",
       "   Pipeline(steps=[('medium_transf', MediumTransfomer()),\n",
       "                   ('astypecat_transf', AsTypeCategoryTransfomer()),\n",
       "                   ('ohe', OneHotEncoder(drop='first'))]),\n",
       "   ['Medium']),\n",
       "  ('device_preprocessing',\n",
       "   Pipeline(steps=[('astypecat_transf', AsTypeCategoryTransfomer()),\n",
       "                   ('ohe', OneHotEncoder())]),\n",
       "   ['ga:deviceCategory']),\n",
       "  ('os_preprocessing',\n",
       "   Pipeline(steps=[('os_transf', OSTransfomer()),\n",
       "                   ('astypecat_transf', AsTypeCategoryTransfomer()),\n",
       "                   ('ohe', OneHotEncoder())]),\n",
       "   ['ga:operatingSystem']),\n",
       "  ('targetencod_preprocessing',\n",
       "   Pipeline(steps=[('target_encoding', TargetEncoder())]),\n",
       "   ['ga:productSKU', 'ga:city', 'ga:pagePath', 'ga:landingPagePath']),\n",
       "  ('imput_preprocessing',\n",
       "   Pipeline(steps=[('impute_median', SimpleImputer(strategy='median'))]),\n",
       "   ['Product_price'])],\n",
       " 'preprocess__verbose': False,\n",
       " 'preprocess__source_preprocessing': Pipeline(steps=[('source_transf', SourceTransfomer()),\n",
       "                 ('astypecat_transf', AsTypeCategoryTransfomer()),\n",
       "                 ('ohe', OneHotEncoder())]),\n",
       " 'preprocess__medium_preprocessing': Pipeline(steps=[('medium_transf', MediumTransfomer()),\n",
       "                 ('astypecat_transf', AsTypeCategoryTransfomer()),\n",
       "                 ('ohe', OneHotEncoder(drop='first'))]),\n",
       " 'preprocess__device_preprocessing': Pipeline(steps=[('astypecat_transf', AsTypeCategoryTransfomer()),\n",
       "                 ('ohe', OneHotEncoder())]),\n",
       " 'preprocess__os_preprocessing': Pipeline(steps=[('os_transf', OSTransfomer()),\n",
       "                 ('astypecat_transf', AsTypeCategoryTransfomer()),\n",
       "                 ('ohe', OneHotEncoder())]),\n",
       " 'preprocess__targetencod_preprocessing': Pipeline(steps=[('target_encoding', TargetEncoder())]),\n",
       " 'preprocess__imput_preprocessing': Pipeline(steps=[('impute_median', SimpleImputer(strategy='median'))]),\n",
       " 'preprocess__source_preprocessing__memory': None,\n",
       " 'preprocess__source_preprocessing__steps': [('source_transf',\n",
       "   SourceTransfomer()),\n",
       "  ('astypecat_transf', AsTypeCategoryTransfomer()),\n",
       "  ('ohe', OneHotEncoder())],\n",
       " 'preprocess__source_preprocessing__verbose': False,\n",
       " 'preprocess__source_preprocessing__source_transf': SourceTransfomer(),\n",
       " 'preprocess__source_preprocessing__astypecat_transf': AsTypeCategoryTransfomer(),\n",
       " 'preprocess__source_preprocessing__ohe': OneHotEncoder(),\n",
       " 'preprocess__source_preprocessing__ohe__categories': 'auto',\n",
       " 'preprocess__source_preprocessing__ohe__drop': None,\n",
       " 'preprocess__source_preprocessing__ohe__dtype': numpy.float64,\n",
       " 'preprocess__source_preprocessing__ohe__handle_unknown': 'error',\n",
       " 'preprocess__source_preprocessing__ohe__sparse': True,\n",
       " 'preprocess__medium_preprocessing__memory': None,\n",
       " 'preprocess__medium_preprocessing__steps': [('medium_transf',\n",
       "   MediumTransfomer()),\n",
       "  ('astypecat_transf', AsTypeCategoryTransfomer()),\n",
       "  ('ohe', OneHotEncoder(drop='first'))],\n",
       " 'preprocess__medium_preprocessing__verbose': False,\n",
       " 'preprocess__medium_preprocessing__medium_transf': MediumTransfomer(),\n",
       " 'preprocess__medium_preprocessing__astypecat_transf': AsTypeCategoryTransfomer(),\n",
       " 'preprocess__medium_preprocessing__ohe': OneHotEncoder(drop='first'),\n",
       " 'preprocess__medium_preprocessing__ohe__categories': 'auto',\n",
       " 'preprocess__medium_preprocessing__ohe__drop': 'first',\n",
       " 'preprocess__medium_preprocessing__ohe__dtype': numpy.float64,\n",
       " 'preprocess__medium_preprocessing__ohe__handle_unknown': 'error',\n",
       " 'preprocess__medium_preprocessing__ohe__sparse': True,\n",
       " 'preprocess__device_preprocessing__memory': None,\n",
       " 'preprocess__device_preprocessing__steps': [('astypecat_transf',\n",
       "   AsTypeCategoryTransfomer()),\n",
       "  ('ohe', OneHotEncoder())],\n",
       " 'preprocess__device_preprocessing__verbose': False,\n",
       " 'preprocess__device_preprocessing__astypecat_transf': AsTypeCategoryTransfomer(),\n",
       " 'preprocess__device_preprocessing__ohe': OneHotEncoder(),\n",
       " 'preprocess__device_preprocessing__ohe__categories': 'auto',\n",
       " 'preprocess__device_preprocessing__ohe__drop': None,\n",
       " 'preprocess__device_preprocessing__ohe__dtype': numpy.float64,\n",
       " 'preprocess__device_preprocessing__ohe__handle_unknown': 'error',\n",
       " 'preprocess__device_preprocessing__ohe__sparse': True,\n",
       " 'preprocess__os_preprocessing__memory': None,\n",
       " 'preprocess__os_preprocessing__steps': [('os_transf', OSTransfomer()),\n",
       "  ('astypecat_transf', AsTypeCategoryTransfomer()),\n",
       "  ('ohe', OneHotEncoder())],\n",
       " 'preprocess__os_preprocessing__verbose': False,\n",
       " 'preprocess__os_preprocessing__os_transf': OSTransfomer(),\n",
       " 'preprocess__os_preprocessing__astypecat_transf': AsTypeCategoryTransfomer(),\n",
       " 'preprocess__os_preprocessing__ohe': OneHotEncoder(),\n",
       " 'preprocess__os_preprocessing__ohe__categories': 'auto',\n",
       " 'preprocess__os_preprocessing__ohe__drop': None,\n",
       " 'preprocess__os_preprocessing__ohe__dtype': numpy.float64,\n",
       " 'preprocess__os_preprocessing__ohe__handle_unknown': 'error',\n",
       " 'preprocess__os_preprocessing__ohe__sparse': True,\n",
       " 'preprocess__targetencod_preprocessing__memory': None,\n",
       " 'preprocess__targetencod_preprocessing__steps': [('target_encoding',\n",
       "   TargetEncoder())],\n",
       " 'preprocess__targetencod_preprocessing__verbose': False,\n",
       " 'preprocess__targetencod_preprocessing__target_encoding': TargetEncoder(),\n",
       " 'preprocess__targetencod_preprocessing__target_encoding__cols': None,\n",
       " 'preprocess__targetencod_preprocessing__target_encoding__drop_invariant': False,\n",
       " 'preprocess__targetencod_preprocessing__target_encoding__handle_missing': 'value',\n",
       " 'preprocess__targetencod_preprocessing__target_encoding__handle_unknown': 'value',\n",
       " 'preprocess__targetencod_preprocessing__target_encoding__min_samples_leaf': 1,\n",
       " 'preprocess__targetencod_preprocessing__target_encoding__return_df': True,\n",
       " 'preprocess__targetencod_preprocessing__target_encoding__smoothing': 1.0,\n",
       " 'preprocess__targetencod_preprocessing__target_encoding__verbose': 0,\n",
       " 'preprocess__imput_preprocessing__memory': None,\n",
       " 'preprocess__imput_preprocessing__steps': [('impute_median',\n",
       "   SimpleImputer(strategy='median'))],\n",
       " 'preprocess__imput_preprocessing__verbose': False,\n",
       " 'preprocess__imput_preprocessing__impute_median': SimpleImputer(strategy='median'),\n",
       " 'preprocess__imput_preprocessing__impute_median__add_indicator': False,\n",
       " 'preprocess__imput_preprocessing__impute_median__copy': True,\n",
       " 'preprocess__imput_preprocessing__impute_median__fill_value': None,\n",
       " 'preprocess__imput_preprocessing__impute_median__missing_values': nan,\n",
       " 'preprocess__imput_preprocessing__impute_median__strategy': 'median',\n",
       " 'preprocess__imput_preprocessing__impute_median__verbose': 0,\n",
       " 'clrf__bootstrap': True,\n",
       " 'clrf__ccp_alpha': 0.0,\n",
       " 'clrf__class_weight': None,\n",
       " 'clrf__criterion': 'gini',\n",
       " 'clrf__max_depth': None,\n",
       " 'clrf__max_features': 'auto',\n",
       " 'clrf__max_leaf_nodes': None,\n",
       " 'clrf__max_samples': None,\n",
       " 'clrf__min_impurity_decrease': 0.0,\n",
       " 'clrf__min_impurity_split': None,\n",
       " 'clrf__min_samples_leaf': 1,\n",
       " 'clrf__min_samples_split': 2,\n",
       " 'clrf__min_weight_fraction_leaf': 0.0,\n",
       " 'clrf__n_estimators': 100,\n",
       " 'clrf__n_jobs': None,\n",
       " 'clrf__oob_score': False,\n",
       " 'clrf__random_state': None,\n",
       " 'clrf__verbose': 0,\n",
       " 'clrf__warm_start': False}"
      ]
     },
     "execution_count": 15,
     "metadata": {},
     "output_type": "execute_result"
    }
   ],
   "source": [
    "pipeline.get_params()"
   ]
  },
  {
   "cell_type": "code",
   "execution_count": 17,
   "id": "outside-hanging",
   "metadata": {},
   "outputs": [
    {
     "data": {
      "text/plain": [
       "RandomForestClassifier()"
      ]
     },
     "execution_count": 17,
     "metadata": {},
     "output_type": "execute_result"
    }
   ],
   "source": [
    "pipeline.steps[1][1]"
   ]
  },
  {
   "cell_type": "code",
   "execution_count": 24,
   "id": "silent-welsh",
   "metadata": {},
   "outputs": [
    {
     "data": {
      "text/plain": [
       "array([3.18396638e-03, 4.98867258e-04, 1.57934203e-04, 8.82461416e-04,\n",
       "       3.44079246e-03, 1.91205773e-03, 4.18790386e-04, 1.24557010e-03,\n",
       "       2.97108703e-04, 2.16011275e-04, 3.69952043e-04, 4.29467840e-04,\n",
       "       3.35977296e-03, 1.28608099e-03, 5.19539476e-05, 3.38910490e-05,\n",
       "       2.71708673e-07, 4.08818838e-03, 2.16508558e-03, 2.20121716e-03,\n",
       "       2.92407013e-03, 1.81306220e-03, 3.60568047e-03, 2.49939492e-03,\n",
       "       2.62402844e-03, 3.74782721e-03, 2.91951219e-04, 1.01047302e-01,\n",
       "       3.81546472e-02, 4.71845201e-01, 4.54830513e-02, 6.80076363e-02,\n",
       "       4.34958606e-02, 1.87995359e-02, 1.35702502e-02, 1.06939705e-02,\n",
       "       1.17663452e-02, 2.06515162e-02, 1.51017249e-02, 3.08331048e-02,\n",
       "       3.07102098e-02, 5.50167290e-03, 8.71658048e-03, 2.18759347e-02])"
      ]
     },
     "execution_count": 24,
     "metadata": {},
     "output_type": "execute_result"
    }
   ],
   "source": [
    "importance = pipeline.steps[1][1].feature_importances_\n",
    "importance"
   ]
  },
  {
   "cell_type": "code",
   "execution_count": 25,
   "id": "undefined-garlic",
   "metadata": {},
   "outputs": [
    {
     "name": "stdout",
     "output_type": "stream",
     "text": [
      "Feature:0, Score:0.00318\n",
      "Feature:1, Score:0.00050\n",
      "Feature:2, Score:0.00016\n",
      "Feature:3, Score:0.00088\n",
      "Feature:4, Score:0.00344\n",
      "Feature:5, Score:0.00191\n",
      "Feature:6, Score:0.00042\n",
      "Feature:7, Score:0.00125\n",
      "Feature:8, Score:0.00030\n",
      "Feature:9, Score:0.00022\n",
      "Feature:10, Score:0.00037\n",
      "Feature:11, Score:0.00043\n",
      "Feature:12, Score:0.00336\n",
      "Feature:13, Score:0.00129\n",
      "Feature:14, Score:0.00005\n",
      "Feature:15, Score:0.00003\n",
      "Feature:16, Score:0.00000\n",
      "Feature:17, Score:0.00409\n",
      "Feature:18, Score:0.00217\n",
      "Feature:19, Score:0.00220\n",
      "Feature:20, Score:0.00292\n",
      "Feature:21, Score:0.00181\n",
      "Feature:22, Score:0.00361\n",
      "Feature:23, Score:0.00250\n",
      "Feature:24, Score:0.00262\n",
      "Feature:25, Score:0.00375\n",
      "Feature:26, Score:0.00029\n",
      "Feature:27, Score:0.10105\n",
      "Feature:28, Score:0.03815\n",
      "Feature:29, Score:0.47185\n",
      "Feature:30, Score:0.04548\n",
      "Feature:31, Score:0.06801\n",
      "Feature:32, Score:0.04350\n",
      "Feature:33, Score:0.01880\n",
      "Feature:34, Score:0.01357\n",
      "Feature:35, Score:0.01069\n",
      "Feature:36, Score:0.01177\n",
      "Feature:37, Score:0.02065\n",
      "Feature:38, Score:0.01510\n",
      "Feature:39, Score:0.03083\n",
      "Feature:40, Score:0.03071\n",
      "Feature:41, Score:0.00550\n",
      "Feature:42, Score:0.00872\n",
      "Feature:43, Score:0.02188\n"
     ]
    }
   ],
   "source": [
    "for i, v in enumerate(importance):\n",
    "    print(\"Feature:%0d, Score:%.5f\" %(i,v))"
   ]
  },
  {
   "cell_type": "code",
   "execution_count": 26,
   "id": "religious-steering",
   "metadata": {},
   "outputs": [
    {
     "data": {
      "text/plain": [
       "<BarContainer object of 44 artists>"
      ]
     },
     "execution_count": 26,
     "metadata": {},
     "output_type": "execute_result"
    },
    {
     "data": {
      "image/png": "[encoded data removed]",
      "text/plain": [
       "<Figure size 432x288 with 1 Axes>"
      ]
     },
     "metadata": {
      "needs_background": "light"
     },
     "output_type": "display_data"
    }
   ],
   "source": [
    "plt.bar([x for x in range(len(importance))],importance)"
   ]
  },
  {
   "cell_type": "code",
   "execution_count": 32,
   "id": "delayed-dollar",
   "metadata": {},
   "outputs": [
    {
     "data": {
      "text/plain": [
       "{'memory': None,\n",
       " 'steps': [('preprocess',\n",
       "   ColumnTransformer(remainder='passthrough',\n",
       "                     transformers=[('source_preprocessing',\n",
       "                                    Pipeline(steps=[('source_transf',\n",
       "                                                     SourceTransfomer()),\n",
       "                                                    ('astypecat_transf',\n",
       "                                                     AsTypeCategoryTransfomer()),\n",
       "                                                    ('ohe', OneHotEncoder())]),\n",
       "                                    ['Source']),\n",
       "                                   ('medium_preprocessing',\n",
       "                                    Pipeline(steps=[('medium_transf',\n",
       "                                                     MediumTransfomer()),\n",
       "                                                    ('astypecat_transf',\n",
       "                                                     AsTypeCategoryTransfomer()),\n",
       "                                                    ('ohe'...\n",
       "                                                    ('astypecat_transf',\n",
       "                                                     AsTypeCategoryTransfomer()),\n",
       "                                                    ('ohe', OneHotEncoder())]),\n",
       "                                    ['ga:operatingSystem']),\n",
       "                                   ('targetencod_preprocessing',\n",
       "                                    Pipeline(steps=[('target_encoding',\n",
       "                                                     TargetEncoder())]),\n",
       "                                    ['ga:productSKU', 'ga:city', 'ga:pagePath',\n",
       "                                     'ga:landingPagePath']),\n",
       "                                   ('imput_preprocessing',\n",
       "                                    Pipeline(steps=[('impute_median',\n",
       "                                                     SimpleImputer(strategy='median'))]),\n",
       "                                    ['Product_price'])])),\n",
       "  ('clrf', RandomForestClassifier())],\n",
       " 'verbose': False,\n",
       " 'preprocess': ColumnTransformer(remainder='passthrough',\n",
       "                   transformers=[('source_preprocessing',\n",
       "                                  Pipeline(steps=[('source_transf',\n",
       "                                                   SourceTransfomer()),\n",
       "                                                  ('astypecat_transf',\n",
       "                                                   AsTypeCategoryTransfomer()),\n",
       "                                                  ('ohe', OneHotEncoder())]),\n",
       "                                  ['Source']),\n",
       "                                 ('medium_preprocessing',\n",
       "                                  Pipeline(steps=[('medium_transf',\n",
       "                                                   MediumTransfomer()),\n",
       "                                                  ('astypecat_transf',\n",
       "                                                   AsTypeCategoryTransfomer()),\n",
       "                                                  ('ohe'...\n",
       "                                                  ('astypecat_transf',\n",
       "                                                   AsTypeCategoryTransfomer()),\n",
       "                                                  ('ohe', OneHotEncoder())]),\n",
       "                                  ['ga:operatingSystem']),\n",
       "                                 ('targetencod_preprocessing',\n",
       "                                  Pipeline(steps=[('target_encoding',\n",
       "                                                   TargetEncoder())]),\n",
       "                                  ['ga:productSKU', 'ga:city', 'ga:pagePath',\n",
       "                                   'ga:landingPagePath']),\n",
       "                                 ('imput_preprocessing',\n",
       "                                  Pipeline(steps=[('impute_median',\n",
       "                                                   SimpleImputer(strategy='median'))]),\n",
       "                                  ['Product_price'])]),\n",
       " 'clrf': RandomForestClassifier(),\n",
       " 'preprocess__n_jobs': None,\n",
       " 'preprocess__remainder': 'passthrough',\n",
       " 'preprocess__sparse_threshold': 0.3,\n",
       " 'preprocess__transformer_weights': None,\n",
       " 'preprocess__transformers': [('source_preprocessing',\n",
       "   Pipeline(steps=[('source_transf', SourceTransfomer()),\n",
       "                   ('astypecat_transf', AsTypeCategoryTransfomer()),\n",
       "                   ('ohe', OneHotEncoder())]),\n",
       "   ['Source']),\n",
       "  ('medium_preprocessing',\n",
       "   Pipeline(steps=[('medium_transf', MediumTransfomer()),\n",
       "                   ('astypecat_transf', AsTypeCategoryTransfomer()),\n",
       "                   ('ohe', OneHotEncoder(drop='first'))]),\n",
       "   ['Medium']),\n",
       "  ('device_preprocessing',\n",
       "   Pipeline(steps=[('astypecat_transf', AsTypeCategoryTransfomer()),\n",
       "                   ('ohe', OneHotEncoder())]),\n",
       "   ['ga:deviceCategory']),\n",
       "  ('os_preprocessing',\n",
       "   Pipeline(steps=[('os_transf', OSTransfomer()),\n",
       "                   ('astypecat_transf', AsTypeCategoryTransfomer()),\n",
       "                   ('ohe', OneHotEncoder())]),\n",
       "   ['ga:operatingSystem']),\n",
       "  ('targetencod_preprocessing',\n",
       "   Pipeline(steps=[('target_encoding', TargetEncoder())]),\n",
       "   ['ga:productSKU', 'ga:city', 'ga:pagePath', 'ga:landingPagePath']),\n",
       "  ('imput_preprocessing',\n",
       "   Pipeline(steps=[('impute_median', SimpleImputer(strategy='median'))]),\n",
       "   ['Product_price'])],\n",
       " 'preprocess__verbose': False,\n",
       " 'preprocess__source_preprocessing': Pipeline(steps=[('source_transf', SourceTransfomer()),\n",
       "                 ('astypecat_transf', AsTypeCategoryTransfomer()),\n",
       "                 ('ohe', OneHotEncoder())]),\n",
       " 'preprocess__medium_preprocessing': Pipeline(steps=[('medium_transf', MediumTransfomer()),\n",
       "                 ('astypecat_transf', AsTypeCategoryTransfomer()),\n",
       "                 ('ohe', OneHotEncoder(drop='first'))]),\n",
       " 'preprocess__device_preprocessing': Pipeline(steps=[('astypecat_transf', AsTypeCategoryTransfomer()),\n",
       "                 ('ohe', OneHotEncoder())]),\n",
       " 'preprocess__os_preprocessing': Pipeline(steps=[('os_transf', OSTransfomer()),\n",
       "                 ('astypecat_transf', AsTypeCategoryTransfomer()),\n",
       "                 ('ohe', OneHotEncoder())]),\n",
       " 'preprocess__targetencod_preprocessing': Pipeline(steps=[('target_encoding', TargetEncoder())]),\n",
       " 'preprocess__imput_preprocessing': Pipeline(steps=[('impute_median', SimpleImputer(strategy='median'))]),\n",
       " 'preprocess__source_preprocessing__memory': None,\n",
       " 'preprocess__source_preprocessing__steps': [('source_transf',\n",
       "   SourceTransfomer()),\n",
       "  ('astypecat_transf', AsTypeCategoryTransfomer()),\n",
       "  ('ohe', OneHotEncoder())],\n",
       " 'preprocess__source_preprocessing__verbose': False,\n",
       " 'preprocess__source_preprocessing__source_transf': SourceTransfomer(),\n",
       " 'preprocess__source_preprocessing__astypecat_transf': AsTypeCategoryTransfomer(),\n",
       " 'preprocess__source_preprocessing__ohe': OneHotEncoder(),\n",
       " 'preprocess__source_preprocessing__ohe__categories': 'auto',\n",
       " 'preprocess__source_preprocessing__ohe__drop': None,\n",
       " 'preprocess__source_preprocessing__ohe__dtype': numpy.float64,\n",
       " 'preprocess__source_preprocessing__ohe__handle_unknown': 'error',\n",
       " 'preprocess__source_preprocessing__ohe__sparse': True,\n",
       " 'preprocess__medium_preprocessing__memory': None,\n",
       " 'preprocess__medium_preprocessing__steps': [('medium_transf',\n",
       "   MediumTransfomer()),\n",
       "  ('astypecat_transf', AsTypeCategoryTransfomer()),\n",
       "  ('ohe', OneHotEncoder(drop='first'))],\n",
       " 'preprocess__medium_preprocessing__verbose': False,\n",
       " 'preprocess__medium_preprocessing__medium_transf': MediumTransfomer(),\n",
       " 'preprocess__medium_preprocessing__astypecat_transf': AsTypeCategoryTransfomer(),\n",
       " 'preprocess__medium_preprocessing__ohe': OneHotEncoder(drop='first'),\n",
       " 'preprocess__medium_preprocessing__ohe__categories': 'auto',\n",
       " 'preprocess__medium_preprocessing__ohe__drop': 'first',\n",
       " 'preprocess__medium_preprocessing__ohe__dtype': numpy.float64,\n",
       " 'preprocess__medium_preprocessing__ohe__handle_unknown': 'error',\n",
       " 'preprocess__medium_preprocessing__ohe__sparse': True,\n",
       " 'preprocess__device_preprocessing__memory': None,\n",
       " 'preprocess__device_preprocessing__steps': [('astypecat_transf',\n",
       "   AsTypeCategoryTransfomer()),\n",
       "  ('ohe', OneHotEncoder())],\n",
       " 'preprocess__device_preprocessing__verbose': False,\n",
       " 'preprocess__device_preprocessing__astypecat_transf': AsTypeCategoryTransfomer(),\n",
       " 'preprocess__device_preprocessing__ohe': OneHotEncoder(),\n",
       " 'preprocess__device_preprocessing__ohe__categories': 'auto',\n",
       " 'preprocess__device_preprocessing__ohe__drop': None,\n",
       " 'preprocess__device_preprocessing__ohe__dtype': numpy.float64,\n",
       " 'preprocess__device_preprocessing__ohe__handle_unknown': 'error',\n",
       " 'preprocess__device_preprocessing__ohe__sparse': True,\n",
       " 'preprocess__os_preprocessing__memory': None,\n",
       " 'preprocess__os_preprocessing__steps': [('os_transf', OSTransfomer()),\n",
       "  ('astypecat_transf', AsTypeCategoryTransfomer()),\n",
       "  ('ohe', OneHotEncoder())],\n",
       " 'preprocess__os_preprocessing__verbose': False,\n",
       " 'preprocess__os_preprocessing__os_transf': OSTransfomer(),\n",
       " 'preprocess__os_preprocessing__astypecat_transf': AsTypeCategoryTransfomer(),\n",
       " 'preprocess__os_preprocessing__ohe': OneHotEncoder(),\n",
       " 'preprocess__os_preprocessing__ohe__categories': 'auto',\n",
       " 'preprocess__os_preprocessing__ohe__drop': None,\n",
       " 'preprocess__os_preprocessing__ohe__dtype': numpy.float64,\n",
       " 'preprocess__os_preprocessing__ohe__handle_unknown': 'error',\n",
       " 'preprocess__os_preprocessing__ohe__sparse': True,\n",
       " 'preprocess__targetencod_preprocessing__memory': None,\n",
       " 'preprocess__targetencod_preprocessing__steps': [('target_encoding',\n",
       "   TargetEncoder())],\n",
       " 'preprocess__targetencod_preprocessing__verbose': False,\n",
       " 'preprocess__targetencod_preprocessing__target_encoding': TargetEncoder(),\n",
       " 'preprocess__targetencod_preprocessing__target_encoding__cols': None,\n",
       " 'preprocess__targetencod_preprocessing__target_encoding__drop_invariant': False,\n",
       " 'preprocess__targetencod_preprocessing__target_encoding__handle_missing': 'value',\n",
       " 'preprocess__targetencod_preprocessing__target_encoding__handle_unknown': 'value',\n",
       " 'preprocess__targetencod_preprocessing__target_encoding__min_samples_leaf': 1,\n",
       " 'preprocess__targetencod_preprocessing__target_encoding__return_df': True,\n",
       " 'preprocess__targetencod_preprocessing__target_encoding__smoothing': 1.0,\n",
       " 'preprocess__targetencod_preprocessing__target_encoding__verbose': 0,\n",
       " 'preprocess__imput_preprocessing__memory': None,\n",
       " 'preprocess__imput_preprocessing__steps': [('impute_median',\n",
       "   SimpleImputer(strategy='median'))],\n",
       " 'preprocess__imput_preprocessing__verbose': False,\n",
       " 'preprocess__imput_preprocessing__impute_median': SimpleImputer(strategy='median'),\n",
       " 'preprocess__imput_preprocessing__impute_median__add_indicator': False,\n",
       " 'preprocess__imput_preprocessing__impute_median__copy': True,\n",
       " 'preprocess__imput_preprocessing__impute_median__fill_value': None,\n",
       " 'preprocess__imput_preprocessing__impute_median__missing_values': nan,\n",
       " 'preprocess__imput_preprocessing__impute_median__strategy': 'median',\n",
       " 'preprocess__imput_preprocessing__impute_median__verbose': 0,\n",
       " 'clrf__bootstrap': True,\n",
       " 'clrf__ccp_alpha': 0.0,\n",
       " 'clrf__class_weight': None,\n",
       " 'clrf__criterion': 'gini',\n",
       " 'clrf__max_depth': None,\n",
       " 'clrf__max_features': 'auto',\n",
       " 'clrf__max_leaf_nodes': None,\n",
       " 'clrf__max_samples': None,\n",
       " 'clrf__min_impurity_decrease': 0.0,\n",
       " 'clrf__min_impurity_split': None,\n",
       " 'clrf__min_samples_leaf': 1,\n",
       " 'clrf__min_samples_split': 2,\n",
       " 'clrf__min_weight_fraction_leaf': 0.0,\n",
       " 'clrf__n_estimators': 100,\n",
       " 'clrf__n_jobs': None,\n",
       " 'clrf__oob_score': False,\n",
       " 'clrf__random_state': None,\n",
       " 'clrf__verbose': 0,\n",
       " 'clrf__warm_start': False}"
      ]
     },
     "execution_count": 32,
     "metadata": {},
     "output_type": "execute_result"
    }
   ],
   "source": [
    "pipeline.get_params()"
   ]
  },
  {
   "cell_type": "code",
   "execution_count": 27,
   "id": "intensive-count",
   "metadata": {},
   "outputs": [
    {
     "data": {
      "text/plain": [
       "array(['Source_0', 'Source_1', 'Source_2', 'Source_3', 'Source_4',\n",
       "       'Source_5', 'Source_6', 'Source_7', 'Source_8', 'Source_9',\n",
       "       'Source_10'], dtype=object)"
      ]
     },
     "execution_count": 27,
     "metadata": {},
     "output_type": "execute_result"
    }
   ],
   "source": [
    "pipeline.named_steps['preprocess'].transformers_[0][1].named_steps['ohe'].get_feature_names(['Source'])"
   ]
  },
  {
   "cell_type": "code",
   "execution_count": 28,
   "id": "competitive-stuff",
   "metadata": {},
   "outputs": [
    {
     "data": {
      "text/plain": [
       "array(['Medium_1', 'Medium_2', 'Medium_3', 'Medium_4', 'Medium_5',\n",
       "       'Medium_6', 'Medium_7', 'Medium_8'], dtype=object)"
      ]
     },
     "execution_count": 28,
     "metadata": {},
     "output_type": "execute_result"
    }
   ],
   "source": [
    "pipeline.named_steps['preprocess'].transformers_[1][1].named_steps['ohe'].get_feature_names(['Medium'])"
   ]
  },
  {
   "cell_type": "code",
   "execution_count": 29,
   "id": "wicked-happiness",
   "metadata": {},
   "outputs": [
    {
     "data": {
      "text/plain": [
       "array(['ga:deviceCategory_0', 'ga:deviceCategory_1',\n",
       "       'ga:deviceCategory_2'], dtype=object)"
      ]
     },
     "execution_count": 29,
     "metadata": {},
     "output_type": "execute_result"
    }
   ],
   "source": [
    "pipeline.named_steps['preprocess'].transformers_[2][1].named_steps['ohe'].get_feature_names(['ga:deviceCategory'])"
   ]
  },
  {
   "cell_type": "code",
   "execution_count": 30,
   "id": "rocky-catalog",
   "metadata": {},
   "outputs": [
    {
     "data": {
      "text/plain": [
       "array(['ga:operatingSystem_0', 'ga:operatingSystem_1',\n",
       "       'ga:operatingSystem_2', 'ga:operatingSystem_3',\n",
       "       'ga:operatingSystem_4'], dtype=object)"
      ]
     },
     "execution_count": 30,
     "metadata": {},
     "output_type": "execute_result"
    }
   ],
   "source": [
    "pipeline.named_steps['preprocess'].transformers_[3][1].named_steps['ohe'].get_feature_names(['ga:operatingSystem'])"
   ]
  },
  {
   "cell_type": "code",
   "execution_count": 31,
   "id": "early-dutch",
   "metadata": {},
   "outputs": [
    {
     "data": {
      "text/plain": [
       "['ga:productSKU', 'ga:city', 'ga:pagePath', 'ga:landingPagePath']"
      ]
     },
     "execution_count": 31,
     "metadata": {},
     "output_type": "execute_result"
    }
   ],
   "source": [
    "pipeline.named_steps['preprocess'].transformers_[4][1].named_steps['target_encoding'].get_feature_names()"
   ]
  },
  {
   "cell_type": "code",
   "execution_count": 38,
   "id": "cathedral-holmes",
   "metadata": {},
   "outputs": [
    {
     "ename": "AttributeError",
     "evalue": "'SimpleImputer' object has no attribute 'get_feature_names'",
     "output_type": "error",
     "traceback": [
      "\u001b[0;31m---------------------------------------------------------------------------\u001b[0m",
      "\u001b[0;31mAttributeError\u001b[0m                            Traceback (most recent call last)",
      "\u001b[0;32m<ipython-input-38-0e7886d5c21b>\u001b[0m in \u001b[0;36m<module>\u001b[0;34m\u001b[0m\n\u001b[0;32m----> 1\u001b[0;31m \u001b[0mpipeline\u001b[0m\u001b[0;34m.\u001b[0m\u001b[0mnamed_steps\u001b[0m\u001b[0;34m[\u001b[0m\u001b[0;34m'preprocess'\u001b[0m\u001b[0;34m]\u001b[0m\u001b[0;34m.\u001b[0m\u001b[0mtransformers_\u001b[0m\u001b[0;34m[\u001b[0m\u001b[0;36m5\u001b[0m\u001b[0;34m]\u001b[0m\u001b[0;34m[\u001b[0m\u001b[0;36m1\u001b[0m\u001b[0;34m]\u001b[0m\u001b[0;34m.\u001b[0m\u001b[0mnamed_steps\u001b[0m\u001b[0;34m[\u001b[0m\u001b[0;34m'impute_median'\u001b[0m\u001b[0;34m]\u001b[0m\u001b[0;34m.\u001b[0m\u001b[0mget_feature_names\u001b[0m\u001b[0;34m(\u001b[0m\u001b[0;34m)\u001b[0m\u001b[0;34m\u001b[0m\u001b[0;34m\u001b[0m\u001b[0m\n\u001b[0m",
      "\u001b[0;31mAttributeError\u001b[0m: 'SimpleImputer' object has no attribute 'get_feature_names'"
     ]
    }
   ],
   "source": [
    "pipeline.named_steps['preprocess'].transformers_[5][1].named_steps['impute_median'].get_feature_names()"
   ]
  },
  {
   "cell_type": "code",
   "execution_count": 39,
   "id": "sonic-syracuse",
   "metadata": {},
   "outputs": [
    {
     "data": {
      "text/plain": [
       "ColumnTransformer(remainder='passthrough',\n",
       "                  transformers=[('source_preprocessing',\n",
       "                                 Pipeline(steps=[('source_transf',\n",
       "                                                  SourceTransfomer()),\n",
       "                                                 ('astypecat_transf',\n",
       "                                                  AsTypeCategoryTransfomer()),\n",
       "                                                 ('ohe', OneHotEncoder())]),\n",
       "                                 ['Source']),\n",
       "                                ('medium_preprocessing',\n",
       "                                 Pipeline(steps=[('medium_transf',\n",
       "                                                  MediumTransfomer()),\n",
       "                                                 ('astypecat_transf',\n",
       "                                                  AsTypeCategoryTransfomer()),\n",
       "                                                 ('ohe'...\n",
       "                                                 ('astypecat_transf',\n",
       "                                                  AsTypeCategoryTransfomer()),\n",
       "                                                 ('ohe', OneHotEncoder())]),\n",
       "                                 ['ga:operatingSystem']),\n",
       "                                ('targetencod_preprocessing',\n",
       "                                 Pipeline(steps=[('target_encoding',\n",
       "                                                  TargetEncoder())]),\n",
       "                                 ['ga:productSKU', 'ga:city', 'ga:pagePath',\n",
       "                                  'ga:landingPagePath']),\n",
       "                                ('imput_preprocessing',\n",
       "                                 Pipeline(steps=[('impute_median',\n",
       "                                                  SimpleImputer(strategy='median'))]),\n",
       "                                 ['Product_price'])])"
      ]
     },
     "execution_count": 39,
     "metadata": {},
     "output_type": "execute_result"
    }
   ],
   "source": [
    "pipeline.named_steps['preprocess']"
   ]
  },
  {
   "cell_type": "code",
   "execution_count": 40,
   "id": "seven-failing",
   "metadata": {},
   "outputs": [
    {
     "data": {
      "text/plain": [
       "array(['Source_0', 'Source_1', 'Source_2', 'Source_3', 'Source_4',\n",
       "       'Source_5', 'Source_6', 'Source_7', 'Source_8', 'Source_9',\n",
       "       'Source_10'], dtype=object)"
      ]
     },
     "execution_count": 40,
     "metadata": {},
     "output_type": "execute_result"
    }
   ],
   "source": [
    "pipeline.named_steps['preprocess'].named_transformers_['source_preprocessing'].named_steps['ohe'].get_feature_names(input_features=['Source'])"
   ]
  },
  {
   "cell_type": "code",
   "execution_count": null,
   "id": "alone-acceptance",
   "metadata": {},
   "outputs": [],
   "source": []
  }
 ],
 "metadata": {
  "kernelspec": {
   "display_name": "Python 3",
   "language": "python",
   "name": "python3"
  },
  "language_info": {
   "codemirror_mode": {
    "name": "ipython",
    "version": 3
   },
   "file_extension": ".py",
   "mimetype": "text/x-python",
   "name": "python",
   "nbconvert_exporter": "python",
   "pygments_lexer": "ipython3",
   "version": "3.7.10"
  },
  "toc": {
   "base_numbering": 1,
   "nav_menu": {},
   "number_sections": true,
   "sideBar": true,
   "skip_h1_title": false,
   "title_cell": "Table of Contents",
   "title_sidebar": "Contents",
   "toc_cell": true,
   "toc_position": {
    "height": "calc(100% - 180px)",
    "left": "10px",
    "top": "150px",
    "width": "352px"
   },
   "toc_section_display": true,
   "toc_window_display": true
  }
 },
 "nbformat": 4,
 "nbformat_minor": 5
}
