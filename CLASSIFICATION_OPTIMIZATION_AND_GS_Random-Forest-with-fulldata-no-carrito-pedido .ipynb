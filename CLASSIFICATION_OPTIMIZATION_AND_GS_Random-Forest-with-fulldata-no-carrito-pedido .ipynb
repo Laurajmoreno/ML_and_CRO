{
 "cells": [
  {
   "cell_type": "markdown",
   "id": "9e7b4b23",
   "metadata": {
    "id": "engaged-lesbian",
    "toc": true
   },
   "source": [
    "<h1>Table of Contents<span class=\"tocSkip\"></span></h1>\n",
    "<div class=\"toc\"><ul class=\"toc-item\"><li><span><a href=\"#DATA\" data-toc-modified-id=\"DATA-1\"><span class=\"toc-item-num\">1&nbsp;&nbsp;</span>DATA</a></span><ul class=\"toc-item\"><li><span><a href=\"#Dataset\" data-toc-modified-id=\"Dataset-1.1\"><span class=\"toc-item-num\">1.1&nbsp;&nbsp;</span>Dataset</a></span></li><li><span><a href=\"#Target\" data-toc-modified-id=\"Target-1.2\"><span class=\"toc-item-num\">1.2&nbsp;&nbsp;</span>Target</a></span></li></ul></li><li><span><a href=\"#Functions\" data-toc-modified-id=\"Functions-2\"><span class=\"toc-item-num\">2&nbsp;&nbsp;</span>Functions</a></span><ul class=\"toc-item\"><li><span><a href=\"#Model-evaluation\" data-toc-modified-id=\"Model-evaluation-2.1\"><span class=\"toc-item-num\">2.1&nbsp;&nbsp;</span>Model evaluation</a></span></li></ul></li><li><span><a href=\"#Baseline\" data-toc-modified-id=\"Baseline-3\"><span class=\"toc-item-num\">3&nbsp;&nbsp;</span>Baseline</a></span><ul class=\"toc-item\"><li><span><a href=\"#Pipeline\" data-toc-modified-id=\"Pipeline-3.1\"><span class=\"toc-item-num\">3.1&nbsp;&nbsp;</span>Pipeline</a></span></li><li><span><a href=\"#Classifier\" data-toc-modified-id=\"Classifier-3.2\"><span class=\"toc-item-num\">3.2&nbsp;&nbsp;</span>Classifier</a></span></li></ul></li><li><span><a href=\"#Feature-Selection\" data-toc-modified-id=\"Feature-Selection-4\"><span class=\"toc-item-num\">4&nbsp;&nbsp;</span>Feature Selection</a></span><ul class=\"toc-item\"><li><span><a href=\"#Default-SKLEARN-Feature-Importance\" data-toc-modified-id=\"Default-SKLEARN-Feature-Importance-4.1\"><span class=\"toc-item-num\">4.1&nbsp;&nbsp;</span>Default SKLEARN Feature Importance</a></span></li><li><span><a href=\"#Permutation-Feature-Importance\" data-toc-modified-id=\"Permutation-Feature-Importance-4.2\"><span class=\"toc-item-num\">4.2&nbsp;&nbsp;</span>Permutation Feature Importance</a></span><ul class=\"toc-item\"><li><span><a href=\"#Error\" data-toc-modified-id=\"Error-4.2.1\"><span class=\"toc-item-num\">4.2.1&nbsp;&nbsp;</span>Error</a></span></li><li><span><a href=\"#Sampling-exploration\" data-toc-modified-id=\"Sampling-exploration-4.2.2\"><span class=\"toc-item-num\">4.2.2&nbsp;&nbsp;</span>Sampling exploration</a></span><ul class=\"toc-item\"><li><span><a href=\"#Sample-df\" data-toc-modified-id=\"Sample-df-4.2.2.1\"><span class=\"toc-item-num\">4.2.2.1&nbsp;&nbsp;</span>Sample df</a></span></li><li><span><a href=\"#Prepare-data\" data-toc-modified-id=\"Prepare-data-4.2.2.2\"><span class=\"toc-item-num\">4.2.2.2&nbsp;&nbsp;</span>Prepare data</a></span></li><li><span><a href=\"#Preprocess\" data-toc-modified-id=\"Preprocess-4.2.2.3\"><span class=\"toc-item-num\">4.2.2.3&nbsp;&nbsp;</span>Preprocess</a></span></li><li><span><a href=\"#Permutation-Importance\" data-toc-modified-id=\"Permutation-Importance-4.2.2.4\"><span class=\"toc-item-num\">4.2.2.4&nbsp;&nbsp;</span>Permutation Importance</a></span></li><li><span><a href=\"#SelectFromModel\" data-toc-modified-id=\"SelectFromModel-4.2.2.5\"><span class=\"toc-item-num\">4.2.2.5&nbsp;&nbsp;</span>SelectFromModel</a></span></li><li><span><a href=\"#Classifier\" data-toc-modified-id=\"Classifier-4.2.2.6\"><span class=\"toc-item-num\">4.2.2.6&nbsp;&nbsp;</span>Classifier</a></span></li></ul></li><li><span><a href=\"#Final-Implementation\" data-toc-modified-id=\"Final-Implementation-4.2.3\"><span class=\"toc-item-num\">4.2.3&nbsp;&nbsp;</span>Final Implementation</a></span><ul class=\"toc-item\"><li><span><a href=\"#Dataset\" data-toc-modified-id=\"Dataset-4.2.3.1\"><span class=\"toc-item-num\">4.2.3.1&nbsp;&nbsp;</span>Dataset</a></span></li><li><span><a href=\"#Prepare-Data\" data-toc-modified-id=\"Prepare-Data-4.2.3.2\"><span class=\"toc-item-num\">4.2.3.2&nbsp;&nbsp;</span>Prepare Data</a></span></li><li><span><a href=\"#Preprocess\" data-toc-modified-id=\"Preprocess-4.2.3.3\"><span class=\"toc-item-num\">4.2.3.3&nbsp;&nbsp;</span>Preprocess</a></span></li><li><span><a href=\"#Permutation-Importance\" data-toc-modified-id=\"Permutation-Importance-4.2.3.4\"><span class=\"toc-item-num\">4.2.3.4&nbsp;&nbsp;</span>Permutation Importance</a></span></li><li><span><a href=\"#SelectFromModel\" data-toc-modified-id=\"SelectFromModel-4.2.3.5\"><span class=\"toc-item-num\">4.2.3.5&nbsp;&nbsp;</span>SelectFromModel</a></span></li><li><span><a href=\"#Classifier\" data-toc-modified-id=\"Classifier-4.2.3.6\"><span class=\"toc-item-num\">4.2.3.6&nbsp;&nbsp;</span>Classifier</a></span></li></ul></li></ul></li></ul></li><li><span><a href=\"#Dealing-with-imbalanced-classification\" data-toc-modified-id=\"Dealing-with-imbalanced-classification-5\"><span class=\"toc-item-num\">5&nbsp;&nbsp;</span>Dealing with imbalanced classification</a></span><ul class=\"toc-item\"><li><span><a href=\"#Dataset\" data-toc-modified-id=\"Dataset-5.1\"><span class=\"toc-item-num\">5.1&nbsp;&nbsp;</span>Dataset</a></span></li><li><span><a href=\"#Prepare-Data\" data-toc-modified-id=\"Prepare-Data-5.2\"><span class=\"toc-item-num\">5.2&nbsp;&nbsp;</span>Prepare Data</a></span></li><li><span><a href=\"#Preprocess\" data-toc-modified-id=\"Preprocess-5.3\"><span class=\"toc-item-num\">5.3&nbsp;&nbsp;</span>Preprocess</a></span></li><li><span><a href=\"#Feature-Selection\" data-toc-modified-id=\"Feature-Selection-5.4\"><span class=\"toc-item-num\">5.4&nbsp;&nbsp;</span>Feature Selection</a></span><ul class=\"toc-item\"><li><span><a href=\"#Final-Features-and-DFs\" data-toc-modified-id=\"Final-Features-and-DFs-5.4.1\"><span class=\"toc-item-num\">5.4.1&nbsp;&nbsp;</span>Final Features and DFs</a></span></li></ul></li><li><span><a href=\"#Imbalance-techniques-evaluation\" data-toc-modified-id=\"Imbalance-techniques-evaluation-5.5\"><span class=\"toc-item-num\">5.5&nbsp;&nbsp;</span>Imbalance techniques evaluation</a></span><ul class=\"toc-item\"><li><span><a href=\"#SMOTE-Oversampling\" data-toc-modified-id=\"SMOTE-Oversampling-5.5.1\"><span class=\"toc-item-num\">5.5.1&nbsp;&nbsp;</span>SMOTE Oversampling</a></span></li><li><span><a href=\"#SMOTE-Oversampling-and-Undersampling\" data-toc-modified-id=\"SMOTE-Oversampling-and-Undersampling-5.5.2\"><span class=\"toc-item-num\">5.5.2&nbsp;&nbsp;</span>SMOTE Oversampling and Undersampling</a></span></li><li><span><a href=\"#Borderline-SMOTE\" data-toc-modified-id=\"Borderline-SMOTE-5.5.3\"><span class=\"toc-item-num\">5.5.3&nbsp;&nbsp;</span>Borderline SMOTE</a></span></li><li><span><a href=\"#ADASYN\" data-toc-modified-id=\"ADASYN-5.5.4\"><span class=\"toc-item-num\">5.5.4&nbsp;&nbsp;</span>ADASYN</a></span></li><li><span><a href=\"#SMOTE-Oversampling-and-Undersampling---Sampling-Strategy-Optimization\" data-toc-modified-id=\"SMOTE-Oversampling-and-Undersampling---Sampling-Strategy-Optimization-5.5.5\"><span class=\"toc-item-num\">5.5.5&nbsp;&nbsp;</span>SMOTE Oversampling and Undersampling - Sampling Strategy Optimization</a></span></li><li><span><a href=\"#SMOTE-Oversampling-and-Undersampling---K-optimization\" data-toc-modified-id=\"SMOTE-Oversampling-and-Undersampling---K-optimization-5.5.6\"><span class=\"toc-item-num\">5.5.6&nbsp;&nbsp;</span>SMOTE Oversampling and Undersampling - K optimization</a></span></li></ul></li><li><span><a href=\"#Classifier\" data-toc-modified-id=\"Classifier-5.6\"><span class=\"toc-item-num\">5.6&nbsp;&nbsp;</span>Classifier</a></span></li></ul></li><li><span><a href=\"#Hyperparameter-Optimization\" data-toc-modified-id=\"Hyperparameter-Optimization-6\"><span class=\"toc-item-num\">6&nbsp;&nbsp;</span>Hyperparameter Optimization</a></span><ul class=\"toc-item\"><li><span><a href=\"#Dataset\" data-toc-modified-id=\"Dataset-6.1\"><span class=\"toc-item-num\">6.1&nbsp;&nbsp;</span>Dataset</a></span></li><li><span><a href=\"#Prepare-Data\" data-toc-modified-id=\"Prepare-Data-6.2\"><span class=\"toc-item-num\">6.2&nbsp;&nbsp;</span>Prepare Data</a></span></li><li><span><a href=\"#Preprocess\" data-toc-modified-id=\"Preprocess-6.3\"><span class=\"toc-item-num\">6.3&nbsp;&nbsp;</span>Preprocess</a></span></li><li><span><a href=\"#Feature-Selection\" data-toc-modified-id=\"Feature-Selection-6.4\"><span class=\"toc-item-num\">6.4&nbsp;&nbsp;</span>Feature Selection</a></span><ul class=\"toc-item\"><li><span><a href=\"#Final-Features\" data-toc-modified-id=\"Final-Features-6.4.1\"><span class=\"toc-item-num\">6.4.1&nbsp;&nbsp;</span>Final Features</a></span></li></ul></li><li><span><a href=\"#GridsearchCV\" data-toc-modified-id=\"GridsearchCV-6.5\"><span class=\"toc-item-num\">6.5&nbsp;&nbsp;</span>GridsearchCV</a></span></li><li><span><a href=\"#Unimbalance\" data-toc-modified-id=\"Unimbalance-6.6\"><span class=\"toc-item-num\">6.6&nbsp;&nbsp;</span>Unimbalance</a></span></li><li><span><a href=\"#Classifier\" data-toc-modified-id=\"Classifier-6.7\"><span class=\"toc-item-num\">6.7&nbsp;&nbsp;</span>Classifier</a></span></li></ul></li></ul></div>"
   ]
  },
  {
   "cell_type": "code",
   "execution_count": 2,
   "id": "055d61f5",
   "metadata": {
    "colab": {
     "base_uri": "https://localhost:8080/"
    },
    "executionInfo": {
     "elapsed": 4372,
     "status": "ok",
     "timestamp": 1618746627912,
     "user": {
      "displayName": "LAURA JIMENEZ MORENO",
      "photoUrl": "",
      "userId": "04498742655984761496"
     },
     "user_tz": -120
    },
    "id": "gRTL7nY40Tt4",
    "outputId": "f3b7f3ea-abdf-4076-a2ee-122709f00a1b"
   },
   "outputs": [
    {
     "name": "stdout",
     "output_type": "stream",
     "text": [
      "Collecting category_encoders\n",
      "  Downloading category_encoders-2.2.2-py2.py3-none-any.whl (80 kB)\n",
      "\u001b[K     |████████████████████████████████| 80 kB 6.0 MB/s  eta 0:00:01\n",
      "\u001b[?25hRequirement already satisfied: pandas>=0.21.1 in /opt/conda/lib/python3.7/site-packages (from category_encoders) (1.2.4)\n",
      "Requirement already satisfied: numpy>=1.14.0 in /opt/conda/lib/python3.7/site-packages (from category_encoders) (1.19.5)\n",
      "Requirement already satisfied: patsy>=0.5.1 in /opt/conda/lib/python3.7/site-packages (from category_encoders) (0.5.1)\n",
      "Requirement already satisfied: scikit-learn>=0.20.0 in /opt/conda/lib/python3.7/site-packages (from category_encoders) (0.24.1)\n",
      "Requirement already satisfied: scipy>=1.0.0 in /opt/conda/lib/python3.7/site-packages (from category_encoders) (1.6.2)\n",
      "Requirement already satisfied: statsmodels>=0.9.0 in /opt/conda/lib/python3.7/site-packages (from category_encoders) (0.12.2)\n",
      "Requirement already satisfied: python-dateutil>=2.7.3 in /opt/conda/lib/python3.7/site-packages (from pandas>=0.21.1->category_encoders) (2.8.1)\n",
      "Requirement already satisfied: pytz>=2017.3 in /opt/conda/lib/python3.7/site-packages (from pandas>=0.21.1->category_encoders) (2021.1)\n",
      "Requirement already satisfied: six in /opt/conda/lib/python3.7/site-packages (from patsy>=0.5.1->category_encoders) (1.15.0)\n",
      "Requirement already satisfied: threadpoolctl>=2.0.0 in /opt/conda/lib/python3.7/site-packages (from scikit-learn>=0.20.0->category_encoders) (2.1.0)\n",
      "Requirement already satisfied: joblib>=0.11 in /opt/conda/lib/python3.7/site-packages (from scikit-learn>=0.20.0->category_encoders) (1.0.1)\n",
      "Installing collected packages: category-encoders\n",
      "Successfully installed category-encoders-2.2.2\n",
      "Note: you may need to restart the kernel to use updated packages.\n"
     ]
    }
   ],
   "source": [
    "pip install category_encoders"
   ]
  },
  {
   "cell_type": "code",
   "execution_count": 3,
   "id": "69563aee",
   "metadata": {
    "colab": {
     "base_uri": "https://localhost:8080/"
    },
    "executionInfo": {
     "elapsed": 3579,
     "status": "ok",
     "timestamp": 1618746668910,
     "user": {
      "displayName": "LAURA JIMENEZ MORENO",
      "photoUrl": "",
      "userId": "04498742655984761496"
     },
     "user_tz": -120
    },
    "id": "QKeMwYL60d2G",
    "outputId": "4841f1b7-a071-4d90-caec-27918250e8a3"
   },
   "outputs": [
    {
     "name": "stdout",
     "output_type": "stream",
     "text": [
      "Collecting eli5\n",
      "  Downloading eli5-0.11.0-py2.py3-none-any.whl (106 kB)\n",
      "\u001b[K     |████████████████████████████████| 106 kB 11.7 MB/s eta 0:00:01\n",
      "\u001b[?25hCollecting tabulate>=0.7.7\n",
      "  Downloading tabulate-0.8.9-py3-none-any.whl (25 kB)\n",
      "Requirement already satisfied: attrs>16.0.0 in /opt/conda/lib/python3.7/site-packages (from eli5) (20.3.0)\n",
      "Requirement already satisfied: scikit-learn>=0.20 in /opt/conda/lib/python3.7/site-packages (from eli5) (0.24.1)\n",
      "Requirement already satisfied: six in /opt/conda/lib/python3.7/site-packages (from eli5) (1.15.0)\n",
      "Requirement already satisfied: numpy>=1.9.0 in /opt/conda/lib/python3.7/site-packages (from eli5) (1.19.5)\n",
      "Requirement already satisfied: scipy in /opt/conda/lib/python3.7/site-packages (from eli5) (1.6.2)\n",
      "Requirement already satisfied: jinja2 in /opt/conda/lib/python3.7/site-packages (from eli5) (2.11.3)\n",
      "Collecting graphviz\n",
      "  Downloading graphviz-0.16-py2.py3-none-any.whl (19 kB)\n",
      "Requirement already satisfied: threadpoolctl>=2.0.0 in /opt/conda/lib/python3.7/site-packages (from scikit-learn>=0.20->eli5) (2.1.0)\n",
      "Requirement already satisfied: joblib>=0.11 in /opt/conda/lib/python3.7/site-packages (from scikit-learn>=0.20->eli5) (1.0.1)\n",
      "Requirement already satisfied: MarkupSafe>=0.23 in /opt/conda/lib/python3.7/site-packages (from jinja2->eli5) (1.1.1)\n",
      "Installing collected packages: tabulate, graphviz, eli5\n",
      "Successfully installed eli5-0.11.0 graphviz-0.16 tabulate-0.8.9\n",
      "Note: you may need to restart the kernel to use updated packages.\n"
     ]
    }
   ],
   "source": [
    "pip install eli5"
   ]
  },
  {
   "cell_type": "code",
   "execution_count": 3,
   "id": "65aa1e2e",
   "metadata": {},
   "outputs": [
    {
     "name": "stdout",
     "output_type": "stream",
     "text": [
      "Collecting imbalanced-learn\n",
      "  Downloading imbalanced_learn-0.8.0-py3-none-any.whl (206 kB)\n",
      "\u001b[K     |████████████████████████████████| 206 kB 10.1 MB/s eta 0:00:01\n",
      "\u001b[?25hRequirement already satisfied: scipy>=0.19.1 in /opt/conda/lib/python3.7/site-packages (from imbalanced-learn) (1.6.2)\n",
      "Requirement already satisfied: scikit-learn>=0.24 in /opt/conda/lib/python3.7/site-packages (from imbalanced-learn) (0.24.1)\n",
      "Requirement already satisfied: joblib>=0.11 in /opt/conda/lib/python3.7/site-packages (from imbalanced-learn) (1.0.1)\n",
      "Requirement already satisfied: numpy>=1.13.3 in /opt/conda/lib/python3.7/site-packages (from imbalanced-learn) (1.19.5)\n",
      "Requirement already satisfied: threadpoolctl>=2.0.0 in /opt/conda/lib/python3.7/site-packages (from scikit-learn>=0.24->imbalanced-learn) (2.1.0)\n",
      "Installing collected packages: imbalanced-learn\n",
      "Successfully installed imbalanced-learn-0.8.0\n",
      "Note: you may need to restart the kernel to use updated packages.\n"
     ]
    }
   ],
   "source": [
    "pip install imbalanced-learn"
   ]
  },
  {
   "cell_type": "code",
   "execution_count": 2,
   "id": "f6821507",
   "metadata": {
    "colab": {
     "base_uri": "https://localhost:8080/"
    },
    "executionInfo": {
     "elapsed": 2529,
     "status": "ok",
     "timestamp": 1618746677894,
     "user": {
      "displayName": "LAURA JIMENEZ MORENO",
      "photoUrl": "",
      "userId": "04498742655984761496"
     },
     "user_tz": -120
    },
    "id": "pediatric-discipline",
    "outputId": "154f375c-369c-4404-ee8d-3b38a790802a"
   },
   "outputs": [],
   "source": [
    "import pandas as pd\n",
    "import numpy as np\n",
    "import matplotlib.pyplot as plt\n",
    "import seaborn as sns\n",
    "%matplotlib inline\n",
    "from sklearn.model_selection import train_test_split, GridSearchCV, ParameterGrid\n",
    "from sklearn.linear_model import LogisticRegression\n",
    "from sklearn.ensemble import RandomForestClassifier\n",
    "from sklearn.metrics import f1_score, recall_score, precision_score, roc_auc_score, roc_curve, accuracy_score\n",
    "from sklearn.metrics import confusion_matrix\n",
    "from sklearn.metrics import classification_report\n",
    "from sklearn.model_selection import cross_val_score\n",
    "from sklearn.model_selection import RepeatedStratifiedKFold\n",
    "from sklearn.pipeline import Pipeline, FeatureUnion\n",
    "from sklearn.base import BaseEstimator,TransformerMixin\n",
    "from sklearn.preprocessing import FunctionTransformer, OneHotEncoder\n",
    "from sklearn.compose import ColumnTransformer\n",
    "from sklearn.impute import SimpleImputer\n",
    "from category_encoders import TargetEncoder\n",
    "from sklearn.feature_selection import SelectFromModel\n",
    "from scipy import stats\n",
    "import statsmodels.api as sm\n",
    "import os\n",
    "from sklearn import tree\n",
    "import pickle\n",
    "import eli5\n",
    "from eli5.sklearn import PermutationImportance\n",
    "import imblearn\n",
    "from imblearn.over_sampling import SMOTE\n",
    "from imblearn.under_sampling import RandomUnderSampler\n",
    "from imblearn.over_sampling import BorderlineSMOTE\n",
    "from imblearn.over_sampling import ADASYN\n",
    "from collections import Counter\n",
    "import multiprocessing"
   ]
  },
  {
   "cell_type": "markdown",
   "id": "40878370",
   "metadata": {
    "id": "correct-british"
   },
   "source": [
    "## DATA"
   ]
  },
  {
   "cell_type": "markdown",
   "id": "1d8276cf",
   "metadata": {
    "id": "alleged-colors"
   },
   "source": [
    "### Dataset"
   ]
  },
  {
   "cell_type": "code",
   "execution_count": null,
   "id": "dfb26bf8",
   "metadata": {
    "id": "returning-terrorism",
    "outputId": "6ee94096-ab59-4208-b696-40a2681a3046"
   },
   "outputs": [
    {
     "name": "stderr",
     "output_type": "stream",
     "text": [
      "/home/dsc/TFM/kschool_masterDS_TFM/env/lib/python3.9/site-packages/IPython/core/interactiveshell.py:3165: DtypeWarning: Columns (1) have mixed types.Specify dtype option on import or set low_memory=False.\n",
      "  has_raised = await self.run_ast_nodes(code_ast.body, cell_name,\n"
     ]
    },
    {
     "name": "stdout",
     "output_type": "stream",
     "text": [
      "(3628293, 22)\n"
     ]
    },
    {
     "data": {
      "text/html": [
       "<div>\n",
       "<style scoped>\n",
       "    .dataframe tbody tr th:only-of-type {\n",
       "        vertical-align: middle;\n",
       "    }\n",
       "\n",
       "    .dataframe tbody tr th {\n",
       "        vertical-align: top;\n",
       "    }\n",
       "\n",
       "    .dataframe thead th {\n",
       "        text-align: right;\n",
       "    }\n",
       "</style>\n",
       "<table border=\"1\" class=\"dataframe\">\n",
       "  <thead>\n",
       "    <tr style=\"text-align: right;\">\n",
       "      <th></th>\n",
       "      <th>Unnamed: 0</th>\n",
       "      <th>ga:productSKU</th>\n",
       "      <th>ga:dateHourMinute</th>\n",
       "      <th>ga:pagePath</th>\n",
       "      <th>ga:pageDepth</th>\n",
       "      <th>ga:userType</th>\n",
       "      <th>ga:sessionCount</th>\n",
       "      <th>ga:daysSinceLastSession</th>\n",
       "      <th>ga:landingPagePath</th>\n",
       "      <th>ga:campaign</th>\n",
       "      <th>...</th>\n",
       "      <th>ga:deviceCategory</th>\n",
       "      <th>ga:operatingSystem</th>\n",
       "      <th>ga:productListViews</th>\n",
       "      <th>ga:productListClicks</th>\n",
       "      <th>ga:productDetailViews</th>\n",
       "      <th>ga:productAddsToCart</th>\n",
       "      <th>ga:productAddsToCart_transf</th>\n",
       "      <th>pPath_clean</th>\n",
       "      <th>Web_Discount</th>\n",
       "      <th>Product_price</th>\n",
       "    </tr>\n",
       "  </thead>\n",
       "  <tbody>\n",
       "    <tr>\n",
       "      <th>0</th>\n",
       "      <td>0</td>\n",
       "      <td>1008</td>\n",
       "      <td>201904301452</td>\n",
       "      <td>/parafarmacia/es/</td>\n",
       "      <td>1</td>\n",
       "      <td>New Visitor</td>\n",
       "      <td>1</td>\n",
       "      <td>0</td>\n",
       "      <td>/parafarmacia/es/</td>\n",
       "      <td>(not set)</td>\n",
       "      <td>...</td>\n",
       "      <td>mobile</td>\n",
       "      <td>iOS</td>\n",
       "      <td>1</td>\n",
       "      <td>0</td>\n",
       "      <td>0</td>\n",
       "      <td>0</td>\n",
       "      <td>0</td>\n",
       "      <td>/parafarmacia/es/</td>\n",
       "      <td>0.0</td>\n",
       "      <td>3.47</td>\n",
       "    </tr>\n",
       "    <tr>\n",
       "      <th>1</th>\n",
       "      <td>1</td>\n",
       "      <td>1008</td>\n",
       "      <td>201904301524</td>\n",
       "      <td>/parafarmacia/es/</td>\n",
       "      <td>3</td>\n",
       "      <td>New Visitor</td>\n",
       "      <td>1</td>\n",
       "      <td>0</td>\n",
       "      <td>/parafarmacia/es/</td>\n",
       "      <td>(not set)</td>\n",
       "      <td>...</td>\n",
       "      <td>desktop</td>\n",
       "      <td>Windows</td>\n",
       "      <td>1</td>\n",
       "      <td>0</td>\n",
       "      <td>0</td>\n",
       "      <td>0</td>\n",
       "      <td>0</td>\n",
       "      <td>/parafarmacia/es/</td>\n",
       "      <td>0.0</td>\n",
       "      <td>3.47</td>\n",
       "    </tr>\n",
       "    <tr>\n",
       "      <th>2</th>\n",
       "      <td>2</td>\n",
       "      <td>1008</td>\n",
       "      <td>201904301545</td>\n",
       "      <td>/parafarmacia/es/</td>\n",
       "      <td>7</td>\n",
       "      <td>Returning Visitor</td>\n",
       "      <td>33</td>\n",
       "      <td>0</td>\n",
       "      <td>/parafarmacia/es/</td>\n",
       "      <td>(not set)</td>\n",
       "      <td>...</td>\n",
       "      <td>desktop</td>\n",
       "      <td>Windows</td>\n",
       "      <td>1</td>\n",
       "      <td>0</td>\n",
       "      <td>0</td>\n",
       "      <td>0</td>\n",
       "      <td>0</td>\n",
       "      <td>/parafarmacia/es/</td>\n",
       "      <td>0.0</td>\n",
       "      <td>3.47</td>\n",
       "    </tr>\n",
       "  </tbody>\n",
       "</table>\n",
       "<p>3 rows × 22 columns</p>\n",
       "</div>"
      ],
      "text/plain": [
       "   Unnamed: 0 ga:productSKU  ga:dateHourMinute        ga:pagePath  \\\n",
       "0           0          1008       201904301452  /parafarmacia/es/   \n",
       "1           1          1008       201904301524  /parafarmacia/es/   \n",
       "2           2          1008       201904301545  /parafarmacia/es/   \n",
       "\n",
       "   ga:pageDepth        ga:userType  ga:sessionCount  ga:daysSinceLastSession  \\\n",
       "0             1        New Visitor                1                        0   \n",
       "1             3        New Visitor                1                        0   \n",
       "2             7  Returning Visitor               33                        0   \n",
       "\n",
       "  ga:landingPagePath ga:campaign  ... ga:deviceCategory ga:operatingSystem  \\\n",
       "0  /parafarmacia/es/   (not set)  ...            mobile                iOS   \n",
       "1  /parafarmacia/es/   (not set)  ...           desktop            Windows   \n",
       "2  /parafarmacia/es/   (not set)  ...           desktop            Windows   \n",
       "\n",
       "  ga:productListViews ga:productListClicks  ga:productDetailViews  \\\n",
       "0                   1                    0                      0   \n",
       "1                   1                    0                      0   \n",
       "2                   1                    0                      0   \n",
       "\n",
       "   ga:productAddsToCart  ga:productAddsToCart_transf        pPath_clean  \\\n",
       "0                     0                            0  /parafarmacia/es/   \n",
       "1                     0                            0  /parafarmacia/es/   \n",
       "2                     0                            0  /parafarmacia/es/   \n",
       "\n",
       "   Web_Discount Product_price  \n",
       "0           0.0          3.47  \n",
       "1           0.0          3.47  \n",
       "2           0.0          3.47  \n",
       "\n",
       "[3 rows x 22 columns]"
      ]
     },
     "execution_count": 3,
     "metadata": {
      "tags": []
     },
     "output_type": "execute_result"
    }
   ],
   "source": [
    "data_root=\"../data/\"\n",
    "datafile=os.path.join(data_root,'no_carrito_no_pedido_df_2019_2020_jan21.csv')\n",
    "df=pd.read_csv(datafile)\n",
    "print(df.shape)\n",
    "df.head(3)"
   ]
  },
  {
   "cell_type": "code",
   "execution_count": null,
   "id": "637055b9",
   "metadata": {
    "id": "liked-eating",
    "outputId": "22c2dc25-6b98-4fc5-92e0-7f8b78b33c8d"
   },
   "outputs": [
    {
     "name": "stdout",
     "output_type": "stream",
     "text": [
      "(3628293, 21)\n",
      "\n",
      "<class 'pandas.core.frame.DataFrame'>\n",
      "RangeIndex: 3628293 entries, 0 to 3628292\n",
      "Data columns (total 21 columns):\n",
      " #   Column                       Dtype  \n",
      "---  ------                       -----  \n",
      " 0   ga:productSKU                object \n",
      " 1   ga:dateHourMinute            int64  \n",
      " 2   ga:pagePath                  object \n",
      " 3   ga:pageDepth                 int64  \n",
      " 4   ga:userType                  object \n",
      " 5   ga:sessionCount              int64  \n",
      " 6   ga:daysSinceLastSession      int64  \n",
      " 7   ga:landingPagePath           object \n",
      " 8   ga:campaign                  object \n",
      " 9   ga:sourceMedium              object \n",
      " 10  ga:city                      object \n",
      " 11  ga:deviceCategory            object \n",
      " 12  ga:operatingSystem           object \n",
      " 13  ga:productListViews          int64  \n",
      " 14  ga:productListClicks         int64  \n",
      " 15  ga:productDetailViews        int64  \n",
      " 16  ga:productAddsToCart         int64  \n",
      " 17  ga:productAddsToCart_transf  int64  \n",
      " 18  pPath_clean                  object \n",
      " 19  Web_Discount                 float64\n",
      " 20  Product_price                float64\n",
      "dtypes: float64(2), int64(9), object(10)\n",
      "memory usage: 581.3+ MB\n"
     ]
    }
   ],
   "source": [
    "df.drop('Unnamed: 0', axis=1, inplace=True)\n",
    "print(df.shape)\n",
    "print(\"\")\n",
    "df.info()"
   ]
  },
  {
   "cell_type": "code",
   "execution_count": null,
   "id": "ee4293b4",
   "metadata": {
    "id": "documented-translation",
    "outputId": "3d29670e-d816-41a3-dab5-6a7eb278ffd1"
   },
   "outputs": [
    {
     "name": "stdout",
     "output_type": "stream",
     "text": [
      "<class 'pandas.core.frame.DataFrame'>\n",
      "RangeIndex: 3628293 entries, 0 to 3628292\n",
      "Data columns (total 31 columns):\n",
      " #   Column                       Dtype         \n",
      "---  ------                       -----         \n",
      " 0   ga:productSKU                object        \n",
      " 1   ga:dateHourMinute            datetime64[ns]\n",
      " 2   ga:pagePath                  object        \n",
      " 3   ga:pageDepth                 int64         \n",
      " 4   ga:userType                  object        \n",
      " 5   ga:sessionCount              int64         \n",
      " 6   ga:daysSinceLastSession      int64         \n",
      " 7   ga:landingPagePath           object        \n",
      " 8   ga:campaign                  object        \n",
      " 9   ga:sourceMedium              object        \n",
      " 10  ga:city                      object        \n",
      " 11  ga:deviceCategory            object        \n",
      " 12  ga:operatingSystem           object        \n",
      " 13  ga:productListViews          int64         \n",
      " 14  ga:productListClicks         int64         \n",
      " 15  ga:productDetailViews        int64         \n",
      " 16  ga:productAddsToCart         int64         \n",
      " 17  ga:productAddsToCart_transf  int64         \n",
      " 18  pPath_clean                  object        \n",
      " 19  Web_Discount                 float64       \n",
      " 20  Product_price                float64       \n",
      " 21  month_sin                    float64       \n",
      " 22  month_cos                    float64       \n",
      " 23  dayofweek_sin                float64       \n",
      " 24  dayofweek_cos                float64       \n",
      " 25  hour_sin                     float64       \n",
      " 26  hour_cos                     float64       \n",
      " 27  Source                       object        \n",
      " 28  Medium                       object        \n",
      " 29  Returning_Visitor            int64         \n",
      " 30  Detail_View                  int64         \n",
      "dtypes: datetime64[ns](1), float64(8), int64(10), object(12)\n",
      "memory usage: 858.1+ MB\n"
     ]
    }
   ],
   "source": [
    "# Product SKU as string\n",
    "df['ga:productSKU']=df['ga:productSKU'].astype('str')\n",
    "\n",
    "# dateHourMinute as SIN and COS\n",
    "df['ga:dateHourMinute']=pd.to_datetime(df['ga:dateHourMinute'],format='%Y%m%d%H%M')\n",
    "df['dateTime_month']=df['ga:dateHourMinute'].dt.month\n",
    "df['dateTime_dayofweek']=df['ga:dateHourMinute'].dt.dayofweek\n",
    "df['dateTime_hour']=df['ga:dateHourMinute'].dt.hour\n",
    "df['month_sin']=np.sin((df.dateTime_month-1)*(2.*np.pi/12)) # I substract minus 1 to 'df.dateTime_month' because its values are coded as 1 to 12 instead of 0 to 11\n",
    "df['month_cos']=np.cos((df.dateTime_month-1)*(2.*np.pi/12)) # I substract minus 1 to 'df.dateTime_month' because its values are coded as 1 to 12 instead of 0 to 11\n",
    "df['dayofweek_sin']=np.sin(df.dateTime_dayofweek*(2.*np.pi/7))\n",
    "df['dayofweek_cos']=np.cos(df.dateTime_dayofweek*(2.*np.pi/7))\n",
    "df['hour_sin']=np.sin(df.dateTime_hour*(2.*np.pi/24))\n",
    "df['hour_cos']=np.cos(df.dateTime_hour*(2.*np.pi/24))\n",
    "df.drop(['dateTime_month','dateTime_dayofweek','dateTime_hour'],axis=1, inplace=True)\n",
    "\n",
    "# Source Medium as 2 columns:\n",
    "source_medium = df['ga:sourceMedium'].str.split('/',expand=True)\n",
    "source_medium.columns=['Source','Medium']\n",
    "df= df.merge(source_medium,left_index=True,right_index=True,how='left')\n",
    "del(source_medium)\n",
    "df['Source']=df['Source'].astype('str').str.strip()\n",
    "df['Medium']=df['Medium'].astype('str').str.strip()\n",
    "\n",
    "# City\n",
    "df['ga:city']=df['ga:city'].astype('str')\n",
    "\n",
    "# Device\n",
    "df['ga:deviceCategory']=df['ga:deviceCategory'].astype('str')\n",
    "\n",
    "# Operating System\n",
    "df['ga:operatingSystem']=df['ga:operatingSystem'].astype('str')\n",
    "\n",
    "# User Type\n",
    "df['Returning_Visitor']= np.where(df['ga:userType']=='Returning Visitor',1,0)\n",
    "\n",
    "# Page Path, Detail_View and Landing Page Path as string\n",
    "df['ga:pagePath']=df['ga:pagePath'].astype('str')\n",
    "df['ga:pagePath'] = df['ga:pagePath'].apply(lambda x: x[:x.find(\"?pag\")] if \"?pag\" in x else x)\n",
    "df['Detail_View']=df['ga:pagePath'].apply(lambda url: 1 if url[-5:]=='.html' else 0)\n",
    "df['ga:landingPagePath']=df['ga:landingPagePath'].astype('str')\n",
    "df['ga:landingPagePath'] = df['ga:landingPagePath'].apply(lambda x: x[:x.find(\"?pag\")] if \"?pag\" in x else x)\n",
    "\n",
    "df.info()"
   ]
  },
  {
   "cell_type": "markdown",
   "id": "4b1f0639",
   "metadata": {
    "id": "closed-southwest"
   },
   "source": [
    "### Target"
   ]
  },
  {
   "cell_type": "code",
   "execution_count": null,
   "id": "578c1a6b",
   "metadata": {
    "id": "prerequisite-interview",
    "outputId": "47ecd356-5036-4a6e-84c7-57934fdcacac"
   },
   "outputs": [
    {
     "name": "stdout",
     "output_type": "stream",
     "text": [
      "No. observations per class\n",
      "0    3586659\n",
      "1      41634\n",
      "Name: ga:productAddsToCart_transf, dtype: int64\n",
      "\n",
      "% observations per class\n",
      "0    98.852518\n",
      "1     1.147482\n",
      "Name: ga:productAddsToCart_transf, dtype: float64\n"
     ]
    }
   ],
   "source": [
    "df['ga:productAddsToCart_transf']=df[\"ga:productAddsToCart\"].apply(lambda x: 1 if x>1 else x)\n",
    "\n",
    "print(\"No. observations per class\")\n",
    "print(df['ga:productAddsToCart_transf'].value_counts())\n",
    "print(\"\")\n",
    "\n",
    "print(\"% observations per class\")\n",
    "print(100*df['ga:productAddsToCart_transf'].value_counts(normalize=True))"
   ]
  },
  {
   "cell_type": "markdown",
   "id": "045b4a4f",
   "metadata": {
    "id": "foreign-dodge"
   },
   "source": [
    "## Functions"
   ]
  },
  {
   "cell_type": "markdown",
   "id": "e827c834",
   "metadata": {
    "id": "minor-phenomenon"
   },
   "source": [
    "### Model evaluation"
   ]
  },
  {
   "cell_type": "code",
   "execution_count": null,
   "id": "5a40f769",
   "metadata": {
    "id": "floppy-absorption"
   },
   "outputs": [],
   "source": [
    "def evaluate(classifier,X_train, X_test, y_train, y_test):\n",
    "    classifier.fit(X_train,y_train)\n",
    "    predictions = classifier.predict(X_test)\n",
    "    probabilities = classifier.predict_proba(X_test)\n",
    "    print(\"TRAINING SCORE: \" + str(classifier.score(X_train,y_train)))\n",
    "    print(\"ACCURACY: \" + str(accuracy_score(y_test, predictions)))\n",
    "    print(\"PRECISION: \" + str(precision_score(y_test, predictions)))\n",
    "    print(\"RECALL: \" + str(recall_score(y_test, predictions)))\n",
    "    print(\"F1 SCORE: \" + str(f1_score(y_test, predictions)))\n",
    "    print(\"AUC: \" + str(roc_auc_score(y_test,probabilities[:, 1])))\n",
    "\n",
    "    tpr, fpr, thresolds = roc_curve(y_test, probabilities[:, 1])\n",
    "    plt.plot(tpr, fpr)\n",
    "    plt.xlabel('fpr')\n",
    "    plt.ylabel('tpr')"
   ]
  },
  {
   "cell_type": "markdown",
   "id": "23bc5482",
   "metadata": {
    "id": "annual-palmer"
   },
   "source": [
    "## Baseline"
   ]
  },
  {
   "cell_type": "markdown",
   "id": "48608c70",
   "metadata": {
    "id": "romance-miller"
   },
   "source": [
    "### Pipeline"
   ]
  },
  {
   "cell_type": "code",
   "execution_count": null,
   "id": "db009d23",
   "metadata": {
    "id": "heated-liechtenstein"
   },
   "outputs": [],
   "source": [
    "# 'Operating System' Transformer\n",
    "\n",
    "important_os = ['Android','iOS','Windows','Macintosh']\n",
    "\n",
    "class OSTransfomer(BaseEstimator,TransformerMixin):\n",
    "    def fit(self,X,y=None):\n",
    "        return self\n",
    "    def transform (self,X,y=None):\n",
    "        X_=X.copy()\n",
    "        X_['ga:operatingSystem']=X_['ga:operatingSystem'].apply(lambda os: 'other OS' if os not in important_os else os)\n",
    "        return X_\n",
    "    \n",
    "    \n",
    "# Compile 'Source'\n",
    "\n",
    "def source_compiler(x):\n",
    "    \n",
    "    insta_words= ['instagram','ig','linktr.ee']\n",
    "    for seq in insta_words:\n",
    "        if seq in x.lower():\n",
    "            return 'instagram'\n",
    "    if 'facebook' in x.lower():\n",
    "        return 'facebook'\n",
    "    if 'youtube' in x.lower():\n",
    "        return 'youtube'  \n",
    "    if 'vogue' in x.lower():\n",
    "        return 'vogue'\n",
    "    if 'yahoo' in x.lower():\n",
    "        return 'yahoo'\n",
    "    else:\n",
    "        return x\n",
    "\n",
    "important_sources = ['google','(direct)','instagram','facebook','sendinblue','youtube','bing','yahoo','vogue','cantabrialabs.es']\n",
    "\n",
    "class SourceTransfomer(BaseEstimator,TransformerMixin):\n",
    "    def fit(self,X,y=None):\n",
    "        return self\n",
    "    def transform (self,X,y=None):\n",
    "        X_=X.copy()\n",
    "        X_['Source']=X_['Source'].apply(source_compiler)\n",
    "        X_['Source']=X_['Source'].apply(lambda source: 'other sources' if source not in important_sources else source)\n",
    "        return X_\n",
    "    \n",
    "# Compile 'Medium':\n",
    "\n",
    "def medium_compiler(x):\n",
    "    \n",
    "    if 'cpc' in x.lower():\n",
    "        return 'cpc'\n",
    "    if x=='Social':\n",
    "        return 'IGShopping'  \n",
    "    if x=='facebook':\n",
    "        return 'facebook ads'\n",
    "    if x=='trafico':\n",
    "        return 'facebook trafico'\n",
    "    else:\n",
    "        return x\n",
    "    \n",
    "class MediumTransfomer(BaseEstimator,TransformerMixin):\n",
    "    def fit(self,X,y=None):\n",
    "        return self\n",
    "    def transform (self,X,y=None):\n",
    "        X_=X.copy()\n",
    "        X_['Medium']=X_['Medium'].apply(medium_compiler)\n",
    "        return X_\n",
    "    \n",
    "# Select other columns with no transformations (in order to be able to apply get_feature_names)\n",
    "\n",
    "class SelectColumnTransformer(BaseEstimator,TransformerMixin):\n",
    "    def fit(self,X,y=None):\n",
    "        return self\n",
    "    def transform (self,X,y=None):\n",
    "        return X"
   ]
  },
  {
   "cell_type": "code",
   "execution_count": null,
   "id": "902a1234",
   "metadata": {
    "id": "threaded-carpet"
   },
   "outputs": [],
   "source": [
    "# Pipeline:\n",
    "\n",
    "source_preprocessing = Pipeline([\n",
    "    ('source_transf',SourceTransfomer()),\n",
    "    ('ohe',OneHotEncoder()) # handle_unknown is default 'error'\n",
    "])\n",
    "\n",
    "medium_preprocessing = Pipeline([\n",
    "    ('medium_transf',MediumTransfomer()),\n",
    "    ('ohe',OneHotEncoder(drop='first')) #to drop (none) that is equal to (direct) in Source\n",
    "]) # handle_unknown is default 'error'\n",
    "\n",
    "device_preprocessing = Pipeline([\n",
    "    ('ohe',OneHotEncoder()) # handle_unknown is default 'error'\n",
    "])\n",
    "\n",
    "os_preprocessing = Pipeline([\n",
    "    ('os_transf',OSTransfomer()),\n",
    "    ('ohe',OneHotEncoder()) # handle_unknown is default 'error'\n",
    "])\n",
    "\n",
    "targetencod_preprocessing = Pipeline([('target_encoding',TargetEncoder())])\n",
    "\n",
    "imput_preprocessing = Pipeline([('impute_median',SimpleImputer(strategy='median'))])\n",
    "\n",
    "no_preprocessing = Pipeline([('select_columns',SelectColumnTransformer())])\n",
    "\n",
    "preprocess = ColumnTransformer([\n",
    "    ('source_preprocessing',source_preprocessing,['Source']),\n",
    "    ('medium_preprocessing',medium_preprocessing,['Medium']),\n",
    "    ('device_preprocessing',device_preprocessing,['ga:deviceCategory']),\n",
    "    ('os_preprocessing',os_preprocessing,['ga:operatingSystem']),\n",
    "    ('targetencod_preprocessing',targetencod_preprocessing,['ga:productSKU','ga:city','ga:pagePath','ga:landingPagePath']),\n",
    "    ('imput_preprocessing',imput_preprocessing,['Product_price']),\n",
    "    ('no_preprocessing',no_preprocessing,['Web_Discount','Detail_View','ga:pageDepth','Returning_Visitor','ga:sessionCount','ga:daysSinceLastSession','month_sin','month_cos','dayofweek_sin','dayofweek_cos','hour_sin','hour_cos'])\n",
    "])\n",
    "\n",
    "pipeline=Pipeline([\n",
    "    ('preprocess',preprocess),\n",
    "    ('clrf',RandomForestClassifier(n_estimators=100,n_jobs=-1, oob_score=True,bootstrap=True,random_state=42))\n",
    "])"
   ]
  },
  {
   "cell_type": "markdown",
   "id": "5cfef404",
   "metadata": {
    "id": "relative-salon"
   },
   "source": [
    "### Classifier"
   ]
  },
  {
   "cell_type": "code",
   "execution_count": null,
   "id": "172fd82f",
   "metadata": {
    "id": "prepared-sussex"
   },
   "outputs": [],
   "source": [
    "# Data\n",
    "\n",
    "features=['ga:pageDepth','ga:sessionCount','ga:daysSinceLastSession','ga:productSKU',\\\n",
    "          'month_sin','month_cos','dayofweek_sin','dayofweek_cos','hour_sin','hour_cos',\\\n",
    "          'Source','Medium','ga:city','ga:deviceCategory','ga:operatingSystem','Returning_Visitor',\\\n",
    "          'Product_price','Web_Discount','ga:pagePath','Detail_View','ga:landingPagePath']\n",
    "\n",
    "y=df['ga:productAddsToCart_transf']\n",
    "X=df[features]\n",
    "X_train, X_test, y_train, y_test = train_test_split(X, y,random_state=42)\n",
    "del(df)"
   ]
  },
  {
   "cell_type": "code",
   "execution_count": null,
   "id": "19821d52",
   "metadata": {
    "id": "civilian-digit",
    "outputId": "2712b503-c4fc-4d55-ef35-50d713ded5e2"
   },
   "outputs": [
    {
     "name": "stderr",
     "output_type": "stream",
     "text": [
      "/home/dsc/TFM/kschool_masterDS_TFM/env/lib/python3.9/site-packages/category_encoders/utils.py:21: FutureWarning: is_categorical is deprecated and will be removed in a future version.  Use is_categorical_dtype instead\n",
      "  elif pd.api.types.is_categorical(cols):\n"
     ]
    },
    {
     "name": "stdout",
     "output_type": "stream",
     "text": [
      "TRAINING SCORE: 0.9971983144318778\n",
      "ACCURACY: 0.9875776397515528\n",
      "PRECISION: 0.4017115529826328\n",
      "RECALL: 0.15218842376275388\n",
      "F1 SCORE: 0.22074688796680497\n",
      "AUC: 0.9022823588343651\n"
     ]
    },
    {
     "data": {
      "image/png": "[encoded data removed]",
      "text/plain": [
       "<Figure size 432x288 with 1 Axes>"
      ]
     },
     "metadata": {
      "needs_background": "light",
      "tags": []
     },
     "output_type": "display_data"
    }
   ],
   "source": [
    "evaluate(pipeline,X_train, X_test, y_train, y_test)"
   ]
  },
  {
   "cell_type": "code",
   "execution_count": null,
   "id": "737b9135",
   "metadata": {
    "id": "pursuant-perry",
    "outputId": "f055a4bb-5113-41f1-aa23-170e36c166bd",
    "scrolled": true
   },
   "outputs": [
    {
     "name": "stdout",
     "output_type": "stream",
     "text": [
      "              precision    recall  f1-score   support\n",
      "\n",
      "           0       0.99      1.00      0.99    896587\n",
      "           1       0.40      0.15      0.22     10487\n",
      "\n",
      "    accuracy                           0.99    907074\n",
      "   macro avg       0.70      0.57      0.61    907074\n",
      "weighted avg       0.98      0.99      0.98    907074\n",
      "\n"
     ]
    },
    {
     "data": {
      "text/plain": [
       "array([[894210,   2377],\n",
       "       [  8891,   1596]])"
      ]
     },
     "execution_count": 11,
     "metadata": {
      "tags": []
     },
     "output_type": "execute_result"
    }
   ],
   "source": [
    "print(classification_report(y_test,pipeline.predict(X_test)))\n",
    "clrf_cm = confusion_matrix(y_test,pipeline.predict(X_test))\n",
    "clrf_cm"
   ]
  },
  {
   "cell_type": "code",
   "execution_count": null,
   "id": "44bb6354",
   "metadata": {
    "id": "orange-classic"
   },
   "outputs": [],
   "source": [
    "## Save the model:\n",
    "pickle.dump(pipeline,open(\"baseline.pickle\",'wb'))"
   ]
  },
  {
   "cell_type": "markdown",
   "id": "0803498c",
   "metadata": {
    "id": "precious-south"
   },
   "source": [
    "## Feature Selection"
   ]
  },
  {
   "cell_type": "code",
   "execution_count": null,
   "id": "6514e4ee",
   "metadata": {
    "id": "addressed-orleans"
   },
   "outputs": [],
   "source": [
    "baseline=pickle.load(open(\"baseline.pickle\",'rb'))"
   ]
  },
  {
   "cell_type": "markdown",
   "id": "e2b2356c",
   "metadata": {
    "id": "engaged-border"
   },
   "source": [
    "###  Default SKLEARN Feature Importance"
   ]
  },
  {
   "cell_type": "code",
   "execution_count": null,
   "id": "b940ea7d",
   "metadata": {
    "id": "cutting-stations",
    "outputId": "0dc8cadf-f76e-483d-c57d-7d9bb0f296af"
   },
   "outputs": [
    {
     "data": {
      "text/plain": [
       "array([5.01024025e-03, 8.30502790e-04, 1.81568413e-04, 1.16842253e-03,\n",
       "       5.26391186e-03, 3.02971744e-03, 6.02612711e-04, 1.88998079e-03,\n",
       "       4.37718586e-04, 3.13985037e-04, 6.27637664e-04, 7.46621738e-04,\n",
       "       4.99843614e-03, 1.83311208e-03, 9.47211386e-05, 3.39655311e-05,\n",
       "       9.68005630e-07, 6.38229961e-03, 3.22949072e-03, 3.62986606e-03,\n",
       "       4.64939977e-03, 2.90833272e-03, 5.82241784e-03, 3.95952976e-03,\n",
       "       4.51773666e-03, 6.11800549e-03, 4.67863256e-04, 1.47464783e-01,\n",
       "       6.07549986e-02, 2.02836188e-01, 6.34203694e-02, 1.08438210e-01,\n",
       "       1.12565539e-02, 1.47322299e-02, 6.76712360e-02, 8.94612408e-03,\n",
       "       3.04014537e-02, 2.25540548e-02, 1.65832299e-02, 1.65829671e-02,\n",
       "       3.37906925e-02, 2.46223135e-02, 5.06743085e-02, 5.05212222e-02])"
      ]
     },
     "execution_count": 6,
     "metadata": {
      "tags": []
     },
     "output_type": "execute_result"
    }
   ],
   "source": [
    "importances = baseline.steps[1][1].feature_importances_\n",
    "importances"
   ]
  },
  {
   "cell_type": "code",
   "execution_count": null,
   "id": "817949d9",
   "metadata": {
    "id": "global-opinion",
    "outputId": "dc714b3b-bf7c-46c7-f251-a555a8e144b8"
   },
   "outputs": [
    {
     "data": {
      "text/plain": [
       "ColumnTransformer(transformers=[('source_preprocessing',\n",
       "                                 Pipeline(steps=[('source_transf',\n",
       "                                                  SourceTransfomer()),\n",
       "                                                 ('ohe', OneHotEncoder())]),\n",
       "                                 ['Source']),\n",
       "                                ('medium_preprocessing',\n",
       "                                 Pipeline(steps=[('medium_transf',\n",
       "                                                  MediumTransfomer()),\n",
       "                                                 ('ohe',\n",
       "                                                  OneHotEncoder(drop='first'))]),\n",
       "                                 ['Medium']),\n",
       "                                ('device_preprocessing',\n",
       "                                 Pipeline(steps=[('ohe', OneHotEncoder())]),\n",
       "                                 ['ga:devic...\n",
       "                                 Pipeline(steps=[('impute_median',\n",
       "                                                  SimpleImputer(strategy='median'))]),\n",
       "                                 ['Product_price']),\n",
       "                                ('no_preprocessing',\n",
       "                                 Pipeline(steps=[('select_columns',\n",
       "                                                  SelectColumnTransformer())]),\n",
       "                                 ['Web_Discount', 'Detail_View', 'ga:pageDepth',\n",
       "                                  'Returning_Visitor', 'ga:sessionCount',\n",
       "                                  'ga:daysSinceLastSession', 'month_sin',\n",
       "                                  'month_cos', 'dayofweek_sin', 'dayofweek_cos',\n",
       "                                  'hour_sin', 'hour_cos'])])"
      ]
     },
     "execution_count": 7,
     "metadata": {
      "tags": []
     },
     "output_type": "execute_result"
    }
   ],
   "source": [
    "baseline.named_steps['preprocess']"
   ]
  },
  {
   "cell_type": "code",
   "execution_count": null,
   "id": "9fcac5f8",
   "metadata": {
    "id": "buried-wilson",
    "outputId": "993eb657-3d4a-480c-ecc0-17c78ddfd25f"
   },
   "outputs": [
    {
     "data": {
      "text/plain": [
       "array(['x0_(direct)', 'x0_bing', 'x0_cantabrialabs.es', 'x0_facebook',\n",
       "       'x0_google', 'x0_instagram', 'x0_other sources', 'x0_sendinblue',\n",
       "       'x0_vogue', 'x0_yahoo', 'x0_youtube'], dtype=object)"
      ]
     },
     "execution_count": 8,
     "metadata": {
      "tags": []
     },
     "output_type": "execute_result"
    }
   ],
   "source": [
    "baseline.named_steps['preprocess'].transformers_[0][1].named_steps['ohe'].get_feature_names()"
   ]
  },
  {
   "cell_type": "code",
   "execution_count": null,
   "id": "9fdacb31",
   "metadata": {
    "id": "periodic-siemens",
    "outputId": "56e3512e-9116-4d69-ac77-276db3480c40"
   },
   "outputs": [
    {
     "data": {
      "text/plain": [
       "array(['x0_IGShopping', 'x0_cpc', 'x0_email', 'x0_facebook ads',\n",
       "       'x0_facebook feed', 'x0_facebook trafico', 'x0_organic',\n",
       "       'x0_referral'], dtype=object)"
      ]
     },
     "execution_count": 9,
     "metadata": {
      "tags": []
     },
     "output_type": "execute_result"
    }
   ],
   "source": [
    "baseline.named_steps['preprocess'].transformers_[1][1].named_steps['ohe'].get_feature_names()"
   ]
  },
  {
   "cell_type": "code",
   "execution_count": null,
   "id": "1166df99",
   "metadata": {
    "id": "experimental-factor",
    "outputId": "8e70941e-e163-48a3-a3ca-5c8da6bfd068"
   },
   "outputs": [
    {
     "data": {
      "text/plain": [
       "array(['x0_desktop', 'x0_mobile', 'x0_tablet'], dtype=object)"
      ]
     },
     "execution_count": 10,
     "metadata": {
      "tags": []
     },
     "output_type": "execute_result"
    }
   ],
   "source": [
    "baseline.named_steps['preprocess'].transformers_[2][1].named_steps['ohe'].get_feature_names()"
   ]
  },
  {
   "cell_type": "code",
   "execution_count": null,
   "id": "9dd563ac",
   "metadata": {
    "id": "amazing-closer",
    "outputId": "8d8b7ada-2c64-45b2-a05e-b37a0b84979c"
   },
   "outputs": [
    {
     "data": {
      "text/plain": [
       "array(['x0_Android', 'x0_Macintosh', 'x0_Windows', 'x0_iOS',\n",
       "       'x0_other OS'], dtype=object)"
      ]
     },
     "execution_count": 11,
     "metadata": {
      "tags": []
     },
     "output_type": "execute_result"
    }
   ],
   "source": [
    "baseline.named_steps['preprocess'].transformers_[3][1].named_steps['ohe'].get_feature_names()"
   ]
  },
  {
   "cell_type": "code",
   "execution_count": null,
   "id": "940e6f2b",
   "metadata": {
    "id": "registered-customer",
    "outputId": "5a1670e1-4d0f-4901-8bf7-1ba63c9b891d"
   },
   "outputs": [
    {
     "data": {
      "text/plain": [
       "['ga:productSKU', 'ga:city', 'ga:pagePath', 'ga:landingPagePath']"
      ]
     },
     "execution_count": 12,
     "metadata": {
      "tags": []
     },
     "output_type": "execute_result"
    }
   ],
   "source": [
    "baseline.named_steps['preprocess'].transformers_[4][1].named_steps['target_encoding'].get_feature_names()"
   ]
  },
  {
   "cell_type": "code",
   "execution_count": null,
   "id": "e3edcf2b",
   "metadata": {
    "id": "senior-lodge",
    "outputId": "b106e7fd-e145-4257-baae-c7b101c268dd"
   },
   "outputs": [
    {
     "ename": "AttributeError",
     "evalue": "'SimpleImputer' object has no attribute 'get_feature_names'",
     "output_type": "error",
     "traceback": [
      "\u001b[0;31m---------------------------------------------------------------------------\u001b[0m",
      "\u001b[0;31mAttributeError\u001b[0m                            Traceback (most recent call last)",
      "\u001b[0;32m<ipython-input-13-0e9a4d849a2e>\u001b[0m in \u001b[0;36m<module>\u001b[0;34m\u001b[0m\n\u001b[0;32m----> 1\u001b[0;31m \u001b[0mbaseline\u001b[0m\u001b[0;34m.\u001b[0m\u001b[0mnamed_steps\u001b[0m\u001b[0;34m[\u001b[0m\u001b[0;34m'preprocess'\u001b[0m\u001b[0;34m]\u001b[0m\u001b[0;34m.\u001b[0m\u001b[0mtransformers_\u001b[0m\u001b[0;34m[\u001b[0m\u001b[0;36m5\u001b[0m\u001b[0;34m]\u001b[0m\u001b[0;34m[\u001b[0m\u001b[0;36m1\u001b[0m\u001b[0;34m]\u001b[0m\u001b[0;34m.\u001b[0m\u001b[0mnamed_steps\u001b[0m\u001b[0;34m[\u001b[0m\u001b[0;34m'impute_median'\u001b[0m\u001b[0;34m]\u001b[0m\u001b[0;34m.\u001b[0m\u001b[0mget_feature_names\u001b[0m\u001b[0;34m(\u001b[0m\u001b[0;34m)\u001b[0m\u001b[0;34m\u001b[0m\u001b[0;34m\u001b[0m\u001b[0m\n\u001b[0m",
      "\u001b[0;31mAttributeError\u001b[0m: 'SimpleImputer' object has no attribute 'get_feature_names'"
     ]
    }
   ],
   "source": [
    "baseline.named_steps['preprocess'].transformers_[5][1].named_steps['impute_median'].get_feature_names()"
   ]
  },
  {
   "cell_type": "code",
   "execution_count": null,
   "id": "01b8ea20",
   "metadata": {
    "id": "sound-fight",
    "outputId": "61ec50eb-0883-4a34-eeca-b34ee1b348b6"
   },
   "outputs": [
    {
     "ename": "AttributeError",
     "evalue": "'SelectColumnTransformer' object has no attribute 'get_feature_names'",
     "output_type": "error",
     "traceback": [
      "\u001b[0;31m---------------------------------------------------------------------------\u001b[0m",
      "\u001b[0;31mAttributeError\u001b[0m                            Traceback (most recent call last)",
      "\u001b[0;32m<ipython-input-14-8e1b1c4e0676>\u001b[0m in \u001b[0;36m<module>\u001b[0;34m\u001b[0m\n\u001b[0;32m----> 1\u001b[0;31m \u001b[0mbaseline\u001b[0m\u001b[0;34m.\u001b[0m\u001b[0mnamed_steps\u001b[0m\u001b[0;34m[\u001b[0m\u001b[0;34m'preprocess'\u001b[0m\u001b[0;34m]\u001b[0m\u001b[0;34m.\u001b[0m\u001b[0mtransformers_\u001b[0m\u001b[0;34m[\u001b[0m\u001b[0;36m6\u001b[0m\u001b[0;34m]\u001b[0m\u001b[0;34m[\u001b[0m\u001b[0;36m1\u001b[0m\u001b[0;34m]\u001b[0m\u001b[0;34m.\u001b[0m\u001b[0mnamed_steps\u001b[0m\u001b[0;34m[\u001b[0m\u001b[0;34m'select_columns'\u001b[0m\u001b[0;34m]\u001b[0m\u001b[0;34m.\u001b[0m\u001b[0mget_feature_names\u001b[0m\u001b[0;34m(\u001b[0m\u001b[0;34m)\u001b[0m\u001b[0;34m\u001b[0m\u001b[0;34m\u001b[0m\u001b[0m\n\u001b[0m",
      "\u001b[0;31mAttributeError\u001b[0m: 'SelectColumnTransformer' object has no attribute 'get_feature_names'"
     ]
    }
   ],
   "source": [
    "baseline.named_steps['preprocess'].transformers_[6][1].named_steps['select_columns'].get_feature_names()"
   ]
  },
  {
   "cell_type": "code",
   "execution_count": null,
   "id": "0c62f22b",
   "metadata": {
    "id": "behind-trout",
    "outputId": "259ada2e-bf08-46ec-ec4b-1f3a315579d3"
   },
   "outputs": [
    {
     "data": {
      "text/plain": [
       "['Product_price']"
      ]
     },
     "execution_count": 15,
     "metadata": {
      "tags": []
     },
     "output_type": "execute_result"
    }
   ],
   "source": [
    "baseline['preprocess'].transformers_[5][2]"
   ]
  },
  {
   "cell_type": "markdown",
   "id": "f985b4f7",
   "metadata": {
    "id": "promotional-lawsuit"
   },
   "source": [
    "According to ColumnTransformer documentation in Sklearn, 'the order of the columns in the transformed feature matrix follows the order of how the columns are specified in the transformers list'. "
   ]
  },
  {
   "cell_type": "code",
   "execution_count": null,
   "id": "503e7ea4",
   "metadata": {
    "id": "rational-spoke",
    "outputId": "ada254c7-66d4-4ab6-96ee-d1cd0267f244"
   },
   "outputs": [
    {
     "name": "stdout",
     "output_type": "stream",
     "text": [
      "44\n"
     ]
    },
    {
     "data": {
      "text/plain": [
       "['x0_(direct)',\n",
       " 'x0_bing',\n",
       " 'x0_cantabrialabs.es',\n",
       " 'x0_facebook',\n",
       " 'x0_google',\n",
       " 'x0_instagram',\n",
       " 'x0_other sources',\n",
       " 'x0_sendinblue',\n",
       " 'x0_vogue',\n",
       " 'x0_yahoo',\n",
       " 'x0_youtube',\n",
       " 'x0_IGShopping',\n",
       " 'x0_cpc',\n",
       " 'x0_email',\n",
       " 'x0_facebook ads',\n",
       " 'x0_facebook feed',\n",
       " 'x0_facebook trafico',\n",
       " 'x0_organic',\n",
       " 'x0_referral',\n",
       " 'x0_desktop',\n",
       " 'x0_mobile',\n",
       " 'x0_tablet',\n",
       " 'x0_Android',\n",
       " 'x0_Macintosh',\n",
       " 'x0_Windows',\n",
       " 'x0_iOS',\n",
       " 'x0_other OS',\n",
       " 'ga:productSKU',\n",
       " 'ga:city',\n",
       " 'ga:pagePath',\n",
       " 'ga:landingPagePath',\n",
       " 'Product_price',\n",
       " 'Web_Discount',\n",
       " 'Detail_View',\n",
       " 'ga:pageDepth',\n",
       " 'Returning_Visitor',\n",
       " 'ga:sessionCount',\n",
       " 'ga:daysSinceLastSession',\n",
       " 'month_sin',\n",
       " 'month_cos',\n",
       " 'dayofweek_sin',\n",
       " 'dayofweek_cos',\n",
       " 'hour_sin',\n",
       " 'hour_cos']"
      ]
     },
     "execution_count": 16,
     "metadata": {
      "tags": []
     },
     "output_type": "execute_result"
    }
   ],
   "source": [
    "features_names=[]\n",
    "\n",
    "for feature in range(0,4):\n",
    "    features= list(baseline.named_steps['preprocess'].transformers_[feature][1].named_steps['ohe'].get_feature_names())\n",
    "    features_names.append(features)\n",
    "\n",
    "for feature in range(4,7):\n",
    "    features = baseline['preprocess'].transformers_[feature][2]\n",
    "    features_names.append(features)\n",
    "\n",
    "features_names = [j for i in features_names for j in i]\n",
    "print(len(features_names))\n",
    "features_names"
   ]
  },
  {
   "cell_type": "code",
   "execution_count": null,
   "id": "3a99cda3",
   "metadata": {
    "id": "correct-harris",
    "outputId": "198a7934-1423-4881-9f8c-c61449398688"
   },
   "outputs": [
    {
     "data": {
      "text/html": [
       "<div>\n",
       "<style scoped>\n",
       "    .dataframe tbody tr th:only-of-type {\n",
       "        vertical-align: middle;\n",
       "    }\n",
       "\n",
       "    .dataframe tbody tr th {\n",
       "        vertical-align: top;\n",
       "    }\n",
       "\n",
       "    .dataframe thead th {\n",
       "        text-align: right;\n",
       "    }\n",
       "</style>\n",
       "<table border=\"1\" class=\"dataframe\">\n",
       "  <thead>\n",
       "    <tr style=\"text-align: right;\">\n",
       "      <th></th>\n",
       "      <th>features</th>\n",
       "      <th>importances</th>\n",
       "    </tr>\n",
       "  </thead>\n",
       "  <tbody>\n",
       "    <tr>\n",
       "      <th>29</th>\n",
       "      <td>ga:pagePath</td>\n",
       "      <td>2.028362e-01</td>\n",
       "    </tr>\n",
       "    <tr>\n",
       "      <th>27</th>\n",
       "      <td>ga:productSKU</td>\n",
       "      <td>1.474648e-01</td>\n",
       "    </tr>\n",
       "    <tr>\n",
       "      <th>31</th>\n",
       "      <td>Product_price</td>\n",
       "      <td>1.084382e-01</td>\n",
       "    </tr>\n",
       "    <tr>\n",
       "      <th>34</th>\n",
       "      <td>ga:pageDepth</td>\n",
       "      <td>6.767124e-02</td>\n",
       "    </tr>\n",
       "    <tr>\n",
       "      <th>30</th>\n",
       "      <td>ga:landingPagePath</td>\n",
       "      <td>6.342037e-02</td>\n",
       "    </tr>\n",
       "    <tr>\n",
       "      <th>28</th>\n",
       "      <td>ga:city</td>\n",
       "      <td>6.075500e-02</td>\n",
       "    </tr>\n",
       "    <tr>\n",
       "      <th>42</th>\n",
       "      <td>hour_sin</td>\n",
       "      <td>5.067431e-02</td>\n",
       "    </tr>\n",
       "    <tr>\n",
       "      <th>43</th>\n",
       "      <td>hour_cos</td>\n",
       "      <td>5.052122e-02</td>\n",
       "    </tr>\n",
       "    <tr>\n",
       "      <th>40</th>\n",
       "      <td>dayofweek_sin</td>\n",
       "      <td>3.379069e-02</td>\n",
       "    </tr>\n",
       "    <tr>\n",
       "      <th>36</th>\n",
       "      <td>ga:sessionCount</td>\n",
       "      <td>3.040145e-02</td>\n",
       "    </tr>\n",
       "    <tr>\n",
       "      <th>41</th>\n",
       "      <td>dayofweek_cos</td>\n",
       "      <td>2.462231e-02</td>\n",
       "    </tr>\n",
       "    <tr>\n",
       "      <th>37</th>\n",
       "      <td>ga:daysSinceLastSession</td>\n",
       "      <td>2.255405e-02</td>\n",
       "    </tr>\n",
       "    <tr>\n",
       "      <th>38</th>\n",
       "      <td>month_sin</td>\n",
       "      <td>1.658323e-02</td>\n",
       "    </tr>\n",
       "    <tr>\n",
       "      <th>39</th>\n",
       "      <td>month_cos</td>\n",
       "      <td>1.658297e-02</td>\n",
       "    </tr>\n",
       "    <tr>\n",
       "      <th>33</th>\n",
       "      <td>Detail_View</td>\n",
       "      <td>1.473223e-02</td>\n",
       "    </tr>\n",
       "    <tr>\n",
       "      <th>32</th>\n",
       "      <td>Web_Discount</td>\n",
       "      <td>1.125655e-02</td>\n",
       "    </tr>\n",
       "    <tr>\n",
       "      <th>35</th>\n",
       "      <td>Returning_Visitor</td>\n",
       "      <td>8.946124e-03</td>\n",
       "    </tr>\n",
       "    <tr>\n",
       "      <th>17</th>\n",
       "      <td>x0_organic</td>\n",
       "      <td>6.382300e-03</td>\n",
       "    </tr>\n",
       "    <tr>\n",
       "      <th>25</th>\n",
       "      <td>x0_iOS</td>\n",
       "      <td>6.118005e-03</td>\n",
       "    </tr>\n",
       "    <tr>\n",
       "      <th>22</th>\n",
       "      <td>x0_Android</td>\n",
       "      <td>5.822418e-03</td>\n",
       "    </tr>\n",
       "    <tr>\n",
       "      <th>4</th>\n",
       "      <td>x0_google</td>\n",
       "      <td>5.263912e-03</td>\n",
       "    </tr>\n",
       "    <tr>\n",
       "      <th>0</th>\n",
       "      <td>x0_(direct)</td>\n",
       "      <td>5.010240e-03</td>\n",
       "    </tr>\n",
       "    <tr>\n",
       "      <th>12</th>\n",
       "      <td>x0_cpc</td>\n",
       "      <td>4.998436e-03</td>\n",
       "    </tr>\n",
       "    <tr>\n",
       "      <th>20</th>\n",
       "      <td>x0_mobile</td>\n",
       "      <td>4.649400e-03</td>\n",
       "    </tr>\n",
       "    <tr>\n",
       "      <th>24</th>\n",
       "      <td>x0_Windows</td>\n",
       "      <td>4.517737e-03</td>\n",
       "    </tr>\n",
       "    <tr>\n",
       "      <th>23</th>\n",
       "      <td>x0_Macintosh</td>\n",
       "      <td>3.959530e-03</td>\n",
       "    </tr>\n",
       "    <tr>\n",
       "      <th>19</th>\n",
       "      <td>x0_desktop</td>\n",
       "      <td>3.629866e-03</td>\n",
       "    </tr>\n",
       "    <tr>\n",
       "      <th>18</th>\n",
       "      <td>x0_referral</td>\n",
       "      <td>3.229491e-03</td>\n",
       "    </tr>\n",
       "    <tr>\n",
       "      <th>5</th>\n",
       "      <td>x0_instagram</td>\n",
       "      <td>3.029717e-03</td>\n",
       "    </tr>\n",
       "    <tr>\n",
       "      <th>21</th>\n",
       "      <td>x0_tablet</td>\n",
       "      <td>2.908333e-03</td>\n",
       "    </tr>\n",
       "    <tr>\n",
       "      <th>7</th>\n",
       "      <td>x0_sendinblue</td>\n",
       "      <td>1.889981e-03</td>\n",
       "    </tr>\n",
       "    <tr>\n",
       "      <th>13</th>\n",
       "      <td>x0_email</td>\n",
       "      <td>1.833112e-03</td>\n",
       "    </tr>\n",
       "    <tr>\n",
       "      <th>3</th>\n",
       "      <td>x0_facebook</td>\n",
       "      <td>1.168423e-03</td>\n",
       "    </tr>\n",
       "    <tr>\n",
       "      <th>1</th>\n",
       "      <td>x0_bing</td>\n",
       "      <td>8.305028e-04</td>\n",
       "    </tr>\n",
       "    <tr>\n",
       "      <th>11</th>\n",
       "      <td>x0_IGShopping</td>\n",
       "      <td>7.466217e-04</td>\n",
       "    </tr>\n",
       "    <tr>\n",
       "      <th>10</th>\n",
       "      <td>x0_youtube</td>\n",
       "      <td>6.276377e-04</td>\n",
       "    </tr>\n",
       "    <tr>\n",
       "      <th>6</th>\n",
       "      <td>x0_other sources</td>\n",
       "      <td>6.026127e-04</td>\n",
       "    </tr>\n",
       "    <tr>\n",
       "      <th>26</th>\n",
       "      <td>x0_other OS</td>\n",
       "      <td>4.678633e-04</td>\n",
       "    </tr>\n",
       "    <tr>\n",
       "      <th>8</th>\n",
       "      <td>x0_vogue</td>\n",
       "      <td>4.377186e-04</td>\n",
       "    </tr>\n",
       "    <tr>\n",
       "      <th>9</th>\n",
       "      <td>x0_yahoo</td>\n",
       "      <td>3.139850e-04</td>\n",
       "    </tr>\n",
       "    <tr>\n",
       "      <th>2</th>\n",
       "      <td>x0_cantabrialabs.es</td>\n",
       "      <td>1.815684e-04</td>\n",
       "    </tr>\n",
       "    <tr>\n",
       "      <th>14</th>\n",
       "      <td>x0_facebook ads</td>\n",
       "      <td>9.472114e-05</td>\n",
       "    </tr>\n",
       "    <tr>\n",
       "      <th>15</th>\n",
       "      <td>x0_facebook feed</td>\n",
       "      <td>3.396553e-05</td>\n",
       "    </tr>\n",
       "    <tr>\n",
       "      <th>16</th>\n",
       "      <td>x0_facebook trafico</td>\n",
       "      <td>9.680056e-07</td>\n",
       "    </tr>\n",
       "  </tbody>\n",
       "</table>\n",
       "</div>"
      ],
      "text/plain": [
       "                   features   importances\n",
       "29              ga:pagePath  2.028362e-01\n",
       "27            ga:productSKU  1.474648e-01\n",
       "31            Product_price  1.084382e-01\n",
       "34             ga:pageDepth  6.767124e-02\n",
       "30       ga:landingPagePath  6.342037e-02\n",
       "28                  ga:city  6.075500e-02\n",
       "42                 hour_sin  5.067431e-02\n",
       "43                 hour_cos  5.052122e-02\n",
       "40            dayofweek_sin  3.379069e-02\n",
       "36          ga:sessionCount  3.040145e-02\n",
       "41            dayofweek_cos  2.462231e-02\n",
       "37  ga:daysSinceLastSession  2.255405e-02\n",
       "38                month_sin  1.658323e-02\n",
       "39                month_cos  1.658297e-02\n",
       "33              Detail_View  1.473223e-02\n",
       "32             Web_Discount  1.125655e-02\n",
       "35        Returning_Visitor  8.946124e-03\n",
       "17               x0_organic  6.382300e-03\n",
       "25                   x0_iOS  6.118005e-03\n",
       "22               x0_Android  5.822418e-03\n",
       "4                 x0_google  5.263912e-03\n",
       "0               x0_(direct)  5.010240e-03\n",
       "12                   x0_cpc  4.998436e-03\n",
       "20                x0_mobile  4.649400e-03\n",
       "24               x0_Windows  4.517737e-03\n",
       "23             x0_Macintosh  3.959530e-03\n",
       "19               x0_desktop  3.629866e-03\n",
       "18              x0_referral  3.229491e-03\n",
       "5              x0_instagram  3.029717e-03\n",
       "21                x0_tablet  2.908333e-03\n",
       "7             x0_sendinblue  1.889981e-03\n",
       "13                 x0_email  1.833112e-03\n",
       "3               x0_facebook  1.168423e-03\n",
       "1                   x0_bing  8.305028e-04\n",
       "11            x0_IGShopping  7.466217e-04\n",
       "10               x0_youtube  6.276377e-04\n",
       "6          x0_other sources  6.026127e-04\n",
       "26              x0_other OS  4.678633e-04\n",
       "8                  x0_vogue  4.377186e-04\n",
       "9                  x0_yahoo  3.139850e-04\n",
       "2       x0_cantabrialabs.es  1.815684e-04\n",
       "14          x0_facebook ads  9.472114e-05\n",
       "15         x0_facebook feed  3.396553e-05\n",
       "16      x0_facebook trafico  9.680056e-07"
      ]
     },
     "execution_count": 17,
     "metadata": {
      "tags": []
     },
     "output_type": "execute_result"
    }
   ],
   "source": [
    "df_feat_import = pd.DataFrame({'features': features_names, 'importances': importances}).sort_values(by='importances')\n",
    "df_feat_import.sort_values(by='importances', ascending=False)"
   ]
  },
  {
   "cell_type": "code",
   "execution_count": null,
   "id": "b2f98237",
   "metadata": {
    "id": "harmful-demographic",
    "outputId": "d83dca06-2175-4185-e773-a62eb66ffcab"
   },
   "outputs": [
    {
     "data": {
      "image/png": "[encoded data removed]",
      "text/plain": [
       "<Figure size 1080x720 with 1 Axes>"
      ]
     },
     "metadata": {
      "needs_background": "light",
      "tags": []
     },
     "output_type": "display_data"
    }
   ],
   "source": [
    "plt.figure(figsize=(15,10))\n",
    "plt.barh(df_feat_import['features'],df_feat_import['importances'] )\n",
    "plt.yticks(range(44));"
   ]
  },
  {
   "cell_type": "markdown",
   "id": "e1f3b986",
   "metadata": {
    "id": "immune-johnson"
   },
   "source": [
    "Como vemos, el método predeterminado feature_importance favorece las variables continuas y las variables categoricas con alta cardinal (pagePath, productSKU, productPrice... Este es uno de sus principales inconvenientes, a pesar de la rapidez y facilidad con la que podemos obtener sus resultados. "
   ]
  },
  {
   "cell_type": "markdown",
   "id": "c06db8a0",
   "metadata": {
    "id": "popular-toolbox"
   },
   "source": [
    "### Permutation Feature Importance"
   ]
  },
  {
   "cell_type": "markdown",
   "id": "6fe8abb1",
   "metadata": {
    "id": "protected-model"
   },
   "source": [
    "#### Error"
   ]
  },
  {
   "cell_type": "code",
   "execution_count": null,
   "id": "edce116c",
   "metadata": {
    "id": "representative-regard"
   },
   "outputs": [],
   "source": [
    "# Data\n",
    "\n",
    "features=['ga:pageDepth','ga:sessionCount','ga:daysSinceLastSession','ga:productSKU',\\\n",
    "          'month_sin','month_cos','dayofweek_sin','dayofweek_cos','hour_sin','hour_cos',\\\n",
    "          'Source','Medium','ga:city','ga:deviceCategory','ga:operatingSystem','Returning_Visitor',\\\n",
    "          'Product_price','Web_Discount','ga:pagePath','Detail_View','ga:landingPagePath']\n",
    "\n",
    "y=df['ga:productAddsToCart_transf']\n",
    "X=df[features]\n",
    "X_train, X_test, y_train, y_test = train_test_split(X, y,random_state=42)\n",
    "del(df)"
   ]
  },
  {
   "cell_type": "code",
   "execution_count": null,
   "id": "059f2dfc",
   "metadata": {
    "id": "median-glasgow"
   },
   "outputs": [],
   "source": [
    "# 'Operating System' Transformer\n",
    "\n",
    "important_os = ['Android','iOS','Windows','Macintosh']\n",
    "\n",
    "class OSTransfomer(BaseEstimator,TransformerMixin):\n",
    "    def fit(self,X,y=None):\n",
    "        return self\n",
    "    def transform (self,X,y=None):\n",
    "        X_=X.copy()\n",
    "        X_['ga:operatingSystem']=X_['ga:operatingSystem'].apply(lambda os: 'other OS' if os not in important_os else os)\n",
    "        return X_\n",
    "    \n",
    "    \n",
    "# Compile 'Source'\n",
    "\n",
    "def source_compiler(x):\n",
    "    \n",
    "    insta_words= ['instagram','ig','linktr.ee']\n",
    "    for seq in insta_words:\n",
    "        if seq in x.lower():\n",
    "            return 'instagram'\n",
    "    if 'facebook' in x.lower():\n",
    "        return 'facebook'\n",
    "    if 'youtube' in x.lower():\n",
    "        return 'youtube'  \n",
    "    if 'vogue' in x.lower():\n",
    "        return 'vogue'\n",
    "    if 'yahoo' in x.lower():\n",
    "        return 'yahoo'\n",
    "    else:\n",
    "        return x\n",
    "\n",
    "important_sources = ['google','(direct)','instagram','facebook','sendinblue','youtube','bing','yahoo','vogue','cantabrialabs.es']\n",
    "\n",
    "class SourceTransfomer(BaseEstimator,TransformerMixin):\n",
    "    def fit(self,X,y=None):\n",
    "        return self\n",
    "    def transform (self,X,y=None):\n",
    "        X_=X.copy()\n",
    "        X_['Source']=X_['Source'].apply(source_compiler)\n",
    "        X_['Source']=X_['Source'].apply(lambda source: 'other sources' if source not in important_sources else source)\n",
    "        return X_\n",
    "    \n",
    "# Compile 'Medium':\n",
    "\n",
    "def medium_compiler(x):\n",
    "    \n",
    "    if 'cpc' in x.lower():\n",
    "        return 'cpc'\n",
    "    if x=='Social':\n",
    "        return 'IGShopping'  \n",
    "    if x=='facebook':\n",
    "        return 'facebook ads'\n",
    "    if x=='trafico':\n",
    "        return 'facebook trafico'\n",
    "    else:\n",
    "        return x\n",
    "    \n",
    "class MediumTransfomer(BaseEstimator,TransformerMixin):\n",
    "    def fit(self,X,y=None):\n",
    "        return self\n",
    "    def transform (self,X,y=None):\n",
    "        X_=X.copy()\n",
    "        X_['Medium']=X_['Medium'].apply(medium_compiler)\n",
    "        return X_\n",
    "    \n",
    "# Select other columns with no transformations (in order to be able to apply get_feature_names)\n",
    "\n",
    "class SelectColumnTransformer(BaseEstimator,TransformerMixin):\n",
    "    def fit(self,X,y=None):\n",
    "        return self\n",
    "    def transform (self,X,y=None):\n",
    "        return X"
   ]
  },
  {
   "cell_type": "code",
   "execution_count": null,
   "id": "0e1e35d6",
   "metadata": {
    "id": "contained-still"
   },
   "outputs": [],
   "source": [
    "# PIPELINE:\n",
    "\n",
    "# Preprocess:\n",
    "source_preprocessing = Pipeline([\n",
    "    ('source_transf',SourceTransfomer()),\n",
    "    ('ohe',OneHotEncoder()) # handle_unknown is default 'error'\n",
    "])\n",
    "\n",
    "medium_preprocessing = Pipeline([\n",
    "    ('medium_transf',MediumTransfomer()),\n",
    "    ('ohe',OneHotEncoder(drop='first')) #to drop (none) that is equal to (direct) in Source\n",
    "]) # handle_unknown is default 'error'\n",
    "\n",
    "device_preprocessing = Pipeline([\n",
    "    ('ohe',OneHotEncoder()) # handle_unknown is default 'error'\n",
    "])\n",
    "\n",
    "os_preprocessing = Pipeline([\n",
    "    ('os_transf',OSTransfomer()),\n",
    "    ('ohe',OneHotEncoder()) # handle_unknown is default 'error'\n",
    "])\n",
    "\n",
    "targetencod_preprocessing = Pipeline([('target_encoding',TargetEncoder())])\n",
    "\n",
    "imput_preprocessing = Pipeline([('impute_median',SimpleImputer(strategy='median'))])\n",
    "\n",
    "no_preprocessing = Pipeline([('select_columns',SelectColumnTransformer())])\n",
    "\n",
    "preprocess = ColumnTransformer([\n",
    "    ('source_preprocessing',source_preprocessing,['Source']),\n",
    "    ('medium_preprocessing',medium_preprocessing,['Medium']),\n",
    "    ('device_preprocessing',device_preprocessing,['ga:deviceCategory']),\n",
    "    ('os_preprocessing',os_preprocessing,['ga:operatingSystem']),\n",
    "    ('targetencod_preprocessing',targetencod_preprocessing,['ga:productSKU','ga:city','ga:pagePath','ga:landingPagePath']),\n",
    "    ('imput_preprocessing',imput_preprocessing,['Product_price']),\n",
    "    ('no_preprocessing',no_preprocessing,['Web_Discount','Detail_View','ga:pageDepth','Returning_Visitor','ga:sessionCount','ga:daysSinceLastSession','month_sin','month_cos','dayofweek_sin','dayofweek_cos','hour_sin','hour_cos'])\n",
    "])\n",
    "\n",
    "# Feature Selection:\n",
    "rf_feat_imp = RandomForestClassifier()\n",
    "rf_permutation_imp = PermutationImportance(rf_feat_imp,cv=5)\n",
    "feature_selection = SelectFromModel(rf_permutation_imp, threshold=0.5)\n",
    "\n",
    "# Model\n",
    "pipeline=Pipeline([\n",
    "    ('preprocess',preprocess),\n",
    "    ('feature_selection',feature_selection),\n",
    "    ('clrf',RandomForestClassifier(n_estimators=100,n_jobs=-1, oob_score=True,bootstrap=True,random_state=42))\n",
    "])"
   ]
  },
  {
   "cell_type": "code",
   "execution_count": null,
   "id": "59893994",
   "metadata": {
    "id": "unique-cooperative",
    "outputId": "201b3f17-6915-45d6-fd5f-6939df667beb"
   },
   "outputs": [
    {
     "name": "stderr",
     "output_type": "stream",
     "text": [
      "/home/dsc/TFM/kschool_masterDS_TFM/env/lib/python3.9/site-packages/category_encoders/utils.py:21: FutureWarning: is_categorical is deprecated and will be removed in a future version.  Use is_categorical_dtype instead\n",
      "  elif pd.api.types.is_categorical(cols):\n",
      "/home/dsc/TFM/kschool_masterDS_TFM/env/lib/python3.9/site-packages/sklearn/utils/validation.py:67: FutureWarning: Pass classifier=True as keyword args. From version 0.25 passing these as positional arguments will result in an error\n",
      "  warnings.warn(\"Pass {} as keyword args. From version 0.25 \"\n",
      "/home/dsc/TFM/kschool_masterDS_TFM/env/lib/python3.9/site-packages/sklearn/model_selection/_validation.py:548: FitFailedWarning: Estimator fit failed. The score on this train-test partition for these parameters will be set to nan. Details: \n",
      "Traceback (most recent call last):\n",
      "  File \"/home/dsc/TFM/kschool_masterDS_TFM/env/lib/python3.9/site-packages/sklearn/model_selection/_validation.py\", line 531, in _fit_and_score\n",
      "    estimator.fit(X_train, y_train, **fit_params)\n",
      "  File \"/home/dsc/TFM/kschool_masterDS_TFM/env/lib/python3.9/site-packages/sklearn/pipeline.py\", line 330, in fit\n",
      "    Xt = self._fit(X, y, **fit_params_steps)\n",
      "  File \"/home/dsc/TFM/kschool_masterDS_TFM/env/lib/python3.9/site-packages/sklearn/pipeline.py\", line 292, in _fit\n",
      "    X, fitted_transformer = fit_transform_one_cached(\n",
      "  File \"/home/dsc/TFM/kschool_masterDS_TFM/env/lib/python3.9/site-packages/joblib/memory.py\", line 352, in __call__\n",
      "    return self.func(*args, **kwargs)\n",
      "  File \"/home/dsc/TFM/kschool_masterDS_TFM/env/lib/python3.9/site-packages/sklearn/pipeline.py\", line 740, in _fit_transform_one\n",
      "    res = transformer.fit_transform(X, y, **fit_params)\n",
      "  File \"/home/dsc/TFM/kschool_masterDS_TFM/env/lib/python3.9/site-packages/sklearn/base.py\", line 693, in fit_transform\n",
      "    return self.fit(X, y, **fit_params).transform(X)\n",
      "  File \"/home/dsc/TFM/kschool_masterDS_TFM/env/lib/python3.9/site-packages/sklearn/feature_selection/_from_model.py\", line 224, in fit\n",
      "    self.estimator_.fit(X, y, **fit_params)\n",
      "  File \"/home/dsc/TFM/kschool_masterDS_TFM/env/lib/python3.9/site-packages/eli5/sklearn/permutation_importance.py\", line 202, in fit\n",
      "    si = self._cv_scores_importances(X, y, groups=groups, **fit_params)\n",
      "  File \"/home/dsc/TFM/kschool_masterDS_TFM/env/lib/python3.9/site-packages/eli5/sklearn/permutation_importance.py\", line 225, in _cv_scores_importances\n",
      "    score_func, X[test], y[test])\n",
      "  File \"/home/dsc/TFM/kschool_masterDS_TFM/env/lib/python3.9/site-packages/pandas/core/series.py\", line 848, in __getitem__\n",
      "    return self._get_with(key)\n",
      "  File \"/home/dsc/TFM/kschool_masterDS_TFM/env/lib/python3.9/site-packages/pandas/core/series.py\", line 883, in _get_with\n",
      "    return self.loc[key]\n",
      "  File \"/home/dsc/TFM/kschool_masterDS_TFM/env/lib/python3.9/site-packages/pandas/core/indexing.py\", line 894, in __getitem__\n",
      "    return self._getitem_axis(maybe_callable, axis=axis)\n",
      "  File \"/home/dsc/TFM/kschool_masterDS_TFM/env/lib/python3.9/site-packages/pandas/core/indexing.py\", line 1112, in _getitem_axis\n",
      "    return self._getitem_iterable(key, axis=axis)\n",
      "  File \"/home/dsc/TFM/kschool_masterDS_TFM/env/lib/python3.9/site-packages/pandas/core/indexing.py\", line 1052, in _getitem_iterable\n",
      "    keyarr, indexer = self._get_listlike_indexer(key, axis, raise_missing=False)\n",
      "  File \"/home/dsc/TFM/kschool_masterDS_TFM/env/lib/python3.9/site-packages/pandas/core/indexing.py\", line 1265, in _get_listlike_indexer\n",
      "    self._validate_read_indexer(keyarr, indexer, axis, raise_missing=raise_missing)\n",
      "  File \"/home/dsc/TFM/kschool_masterDS_TFM/env/lib/python3.9/site-packages/pandas/core/indexing.py\", line 1320, in _validate_read_indexer\n",
      "    raise KeyError(\n",
      "KeyError: \"Passing list-likes to .loc or [] with any missing labels is no longer supported. The following labels were missing: Int64Index([     0,      1,      2,      3,      4,\\n            ...\\n            726151, 726152, 726153, 726154, 726155],\\n           dtype='int64', length=725659). See https://pandas.pydata.org/pandas-docs/stable/user_guide/indexing.html#deprecate-loc-reindex-listlike\"\n",
      "\n",
      "  warnings.warn(\"Estimator fit failed. The score on this train-test\"\n",
      "/home/dsc/TFM/kschool_masterDS_TFM/env/lib/python3.9/site-packages/category_encoders/utils.py:21: FutureWarning: is_categorical is deprecated and will be removed in a future version.  Use is_categorical_dtype instead\n",
      "  elif pd.api.types.is_categorical(cols):\n",
      "/home/dsc/TFM/kschool_masterDS_TFM/env/lib/python3.9/site-packages/sklearn/utils/validation.py:67: FutureWarning: Pass classifier=True as keyword args. From version 0.25 passing these as positional arguments will result in an error\n",
      "  warnings.warn(\"Pass {} as keyword args. From version 0.25 \"\n",
      "/home/dsc/TFM/kschool_masterDS_TFM/env/lib/python3.9/site-packages/sklearn/model_selection/_validation.py:548: FitFailedWarning: Estimator fit failed. The score on this train-test partition for these parameters will be set to nan. Details: \n",
      "Traceback (most recent call last):\n",
      "  File \"/home/dsc/TFM/kschool_masterDS_TFM/env/lib/python3.9/site-packages/sklearn/model_selection/_validation.py\", line 531, in _fit_and_score\n",
      "    estimator.fit(X_train, y_train, **fit_params)\n",
      "  File \"/home/dsc/TFM/kschool_masterDS_TFM/env/lib/python3.9/site-packages/sklearn/pipeline.py\", line 330, in fit\n",
      "    Xt = self._fit(X, y, **fit_params_steps)\n",
      "  File \"/home/dsc/TFM/kschool_masterDS_TFM/env/lib/python3.9/site-packages/sklearn/pipeline.py\", line 292, in _fit\n",
      "    X, fitted_transformer = fit_transform_one_cached(\n",
      "  File \"/home/dsc/TFM/kschool_masterDS_TFM/env/lib/python3.9/site-packages/joblib/memory.py\", line 352, in __call__\n",
      "    return self.func(*args, **kwargs)\n",
      "  File \"/home/dsc/TFM/kschool_masterDS_TFM/env/lib/python3.9/site-packages/sklearn/pipeline.py\", line 740, in _fit_transform_one\n",
      "    res = transformer.fit_transform(X, y, **fit_params)\n",
      "  File \"/home/dsc/TFM/kschool_masterDS_TFM/env/lib/python3.9/site-packages/sklearn/base.py\", line 693, in fit_transform\n",
      "    return self.fit(X, y, **fit_params).transform(X)\n",
      "  File \"/home/dsc/TFM/kschool_masterDS_TFM/env/lib/python3.9/site-packages/sklearn/feature_selection/_from_model.py\", line 224, in fit\n",
      "    self.estimator_.fit(X, y, **fit_params)\n",
      "  File \"/home/dsc/TFM/kschool_masterDS_TFM/env/lib/python3.9/site-packages/eli5/sklearn/permutation_importance.py\", line 202, in fit\n",
      "    si = self._cv_scores_importances(X, y, groups=groups, **fit_params)\n",
      "  File \"/home/dsc/TFM/kschool_masterDS_TFM/env/lib/python3.9/site-packages/eli5/sklearn/permutation_importance.py\", line 222, in _cv_scores_importances\n",
      "    est = clone(self.estimator).fit(X[train], y[train], **fold_fit_params)\n",
      "  File \"/home/dsc/TFM/kschool_masterDS_TFM/env/lib/python3.9/site-packages/pandas/core/series.py\", line 848, in __getitem__\n",
      "    return self._get_with(key)\n",
      "  File \"/home/dsc/TFM/kschool_masterDS_TFM/env/lib/python3.9/site-packages/pandas/core/series.py\", line 883, in _get_with\n",
      "    return self.loc[key]\n",
      "  File \"/home/dsc/TFM/kschool_masterDS_TFM/env/lib/python3.9/site-packages/pandas/core/indexing.py\", line 894, in __getitem__\n",
      "    return self._getitem_axis(maybe_callable, axis=axis)\n",
      "  File \"/home/dsc/TFM/kschool_masterDS_TFM/env/lib/python3.9/site-packages/pandas/core/indexing.py\", line 1112, in _getitem_axis\n",
      "    return self._getitem_iterable(key, axis=axis)\n",
      "  File \"/home/dsc/TFM/kschool_masterDS_TFM/env/lib/python3.9/site-packages/pandas/core/indexing.py\", line 1052, in _getitem_iterable\n",
      "    keyarr, indexer = self._get_listlike_indexer(key, axis, raise_missing=False)\n",
      "  File \"/home/dsc/TFM/kschool_masterDS_TFM/env/lib/python3.9/site-packages/pandas/core/indexing.py\", line 1265, in _get_listlike_indexer\n",
      "    self._validate_read_indexer(keyarr, indexer, axis, raise_missing=raise_missing)\n",
      "  File \"/home/dsc/TFM/kschool_masterDS_TFM/env/lib/python3.9/site-packages/pandas/core/indexing.py\", line 1320, in _validate_read_indexer\n",
      "    raise KeyError(\n",
      "KeyError: \"Passing list-likes to .loc or [] with any missing labels is no longer supported. The following labels were missing: Int64Index([ 965331,  965332,  965333,  965334,  965335,\\n            ...\\n            1675414, 1675424, 1675428, 1675433, 1675445],\\n           dtype='int64', length=483773). See https://pandas.pydata.org/pandas-docs/stable/user_guide/indexing.html#deprecate-loc-reindex-listlike\"\n",
      "\n",
      "  warnings.warn(\"Estimator fit failed. The score on this train-test\"\n",
      "/home/dsc/TFM/kschool_masterDS_TFM/env/lib/python3.9/site-packages/category_encoders/utils.py:21: FutureWarning: is_categorical is deprecated and will be removed in a future version.  Use is_categorical_dtype instead\n",
      "  elif pd.api.types.is_categorical(cols):\n",
      "/home/dsc/TFM/kschool_masterDS_TFM/env/lib/python3.9/site-packages/sklearn/utils/validation.py:67: FutureWarning: Pass classifier=True as keyword args. From version 0.25 passing these as positional arguments will result in an error\n",
      "  warnings.warn(\"Pass {} as keyword args. From version 0.25 \"\n",
      "/home/dsc/TFM/kschool_masterDS_TFM/env/lib/python3.9/site-packages/sklearn/model_selection/_validation.py:548: FitFailedWarning: Estimator fit failed. The score on this train-test partition for these parameters will be set to nan. Details: \n",
      "Traceback (most recent call last):\n",
      "  File \"/home/dsc/TFM/kschool_masterDS_TFM/env/lib/python3.9/site-packages/sklearn/model_selection/_validation.py\", line 531, in _fit_and_score\n",
      "    estimator.fit(X_train, y_train, **fit_params)\n",
      "  File \"/home/dsc/TFM/kschool_masterDS_TFM/env/lib/python3.9/site-packages/sklearn/pipeline.py\", line 330, in fit\n",
      "    Xt = self._fit(X, y, **fit_params_steps)\n",
      "  File \"/home/dsc/TFM/kschool_masterDS_TFM/env/lib/python3.9/site-packages/sklearn/pipeline.py\", line 292, in _fit\n",
      "    X, fitted_transformer = fit_transform_one_cached(\n",
      "  File \"/home/dsc/TFM/kschool_masterDS_TFM/env/lib/python3.9/site-packages/joblib/memory.py\", line 352, in __call__\n",
      "    return self.func(*args, **kwargs)\n",
      "  File \"/home/dsc/TFM/kschool_masterDS_TFM/env/lib/python3.9/site-packages/sklearn/pipeline.py\", line 740, in _fit_transform_one\n",
      "    res = transformer.fit_transform(X, y, **fit_params)\n",
      "  File \"/home/dsc/TFM/kschool_masterDS_TFM/env/lib/python3.9/site-packages/sklearn/base.py\", line 693, in fit_transform\n",
      "    return self.fit(X, y, **fit_params).transform(X)\n",
      "  File \"/home/dsc/TFM/kschool_masterDS_TFM/env/lib/python3.9/site-packages/sklearn/feature_selection/_from_model.py\", line 224, in fit\n",
      "    self.estimator_.fit(X, y, **fit_params)\n",
      "  File \"/home/dsc/TFM/kschool_masterDS_TFM/env/lib/python3.9/site-packages/eli5/sklearn/permutation_importance.py\", line 202, in fit\n",
      "    si = self._cv_scores_importances(X, y, groups=groups, **fit_params)\n",
      "  File \"/home/dsc/TFM/kschool_masterDS_TFM/env/lib/python3.9/site-packages/eli5/sklearn/permutation_importance.py\", line 222, in _cv_scores_importances\n",
      "    est = clone(self.estimator).fit(X[train], y[train], **fold_fit_params)\n",
      "  File \"/home/dsc/TFM/kschool_masterDS_TFM/env/lib/python3.9/site-packages/pandas/core/series.py\", line 848, in __getitem__\n",
      "    return self._get_with(key)\n",
      "  File \"/home/dsc/TFM/kschool_masterDS_TFM/env/lib/python3.9/site-packages/pandas/core/series.py\", line 883, in _get_with\n",
      "    return self.loc[key]\n",
      "  File \"/home/dsc/TFM/kschool_masterDS_TFM/env/lib/python3.9/site-packages/pandas/core/indexing.py\", line 894, in __getitem__\n",
      "    return self._getitem_axis(maybe_callable, axis=axis)\n",
      "  File \"/home/dsc/TFM/kschool_masterDS_TFM/env/lib/python3.9/site-packages/pandas/core/indexing.py\", line 1112, in _getitem_axis\n",
      "    return self._getitem_iterable(key, axis=axis)\n",
      "  File \"/home/dsc/TFM/kschool_masterDS_TFM/env/lib/python3.9/site-packages/pandas/core/indexing.py\", line 1052, in _getitem_iterable\n",
      "    keyarr, indexer = self._get_listlike_indexer(key, axis, raise_missing=False)\n",
      "  File \"/home/dsc/TFM/kschool_masterDS_TFM/env/lib/python3.9/site-packages/pandas/core/indexing.py\", line 1265, in _get_listlike_indexer\n",
      "    self._validate_read_indexer(keyarr, indexer, axis, raise_missing=raise_missing)\n",
      "  File \"/home/dsc/TFM/kschool_masterDS_TFM/env/lib/python3.9/site-packages/pandas/core/indexing.py\", line 1320, in _validate_read_indexer\n",
      "    raise KeyError(\n",
      "KeyError: \"Passing list-likes to .loc or [] with any missing labels is no longer supported. The following labels were missing: Int64Index([1447731, 1447732, 1447733, 1447734, 1447735,\\n            ...\\n            2178772, 2178773, 2178774, 2178775, 2178776],\\n           dtype='int64', length=725659). See https://pandas.pydata.org/pandas-docs/stable/user_guide/indexing.html#deprecate-loc-reindex-listlike\"\n",
      "\n",
      "  warnings.warn(\"Estimator fit failed. The score on this train-test\"\n",
      "/home/dsc/TFM/kschool_masterDS_TFM/env/lib/python3.9/site-packages/category_encoders/utils.py:21: FutureWarning: is_categorical is deprecated and will be removed in a future version.  Use is_categorical_dtype instead\n",
      "  elif pd.api.types.is_categorical(cols):\n",
      "/home/dsc/TFM/kschool_masterDS_TFM/env/lib/python3.9/site-packages/sklearn/utils/validation.py:67: FutureWarning: Pass classifier=True as keyword args. From version 0.25 passing these as positional arguments will result in an error\n",
      "  warnings.warn(\"Pass {} as keyword args. From version 0.25 \"\n",
      "/home/dsc/TFM/kschool_masterDS_TFM/env/lib/python3.9/site-packages/sklearn/model_selection/_validation.py:548: FitFailedWarning: Estimator fit failed. The score on this train-test partition for these parameters will be set to nan. Details: \n",
      "Traceback (most recent call last):\n",
      "  File \"/home/dsc/TFM/kschool_masterDS_TFM/env/lib/python3.9/site-packages/sklearn/model_selection/_validation.py\", line 531, in _fit_and_score\n",
      "    estimator.fit(X_train, y_train, **fit_params)\n",
      "  File \"/home/dsc/TFM/kschool_masterDS_TFM/env/lib/python3.9/site-packages/sklearn/pipeline.py\", line 330, in fit\n",
      "    Xt = self._fit(X, y, **fit_params_steps)\n",
      "  File \"/home/dsc/TFM/kschool_masterDS_TFM/env/lib/python3.9/site-packages/sklearn/pipeline.py\", line 292, in _fit\n",
      "    X, fitted_transformer = fit_transform_one_cached(\n",
      "  File \"/home/dsc/TFM/kschool_masterDS_TFM/env/lib/python3.9/site-packages/joblib/memory.py\", line 352, in __call__\n",
      "    return self.func(*args, **kwargs)\n",
      "  File \"/home/dsc/TFM/kschool_masterDS_TFM/env/lib/python3.9/site-packages/sklearn/pipeline.py\", line 740, in _fit_transform_one\n",
      "    res = transformer.fit_transform(X, y, **fit_params)\n",
      "  File \"/home/dsc/TFM/kschool_masterDS_TFM/env/lib/python3.9/site-packages/sklearn/base.py\", line 693, in fit_transform\n",
      "    return self.fit(X, y, **fit_params).transform(X)\n",
      "  File \"/home/dsc/TFM/kschool_masterDS_TFM/env/lib/python3.9/site-packages/sklearn/feature_selection/_from_model.py\", line 224, in fit\n",
      "    self.estimator_.fit(X, y, **fit_params)\n",
      "  File \"/home/dsc/TFM/kschool_masterDS_TFM/env/lib/python3.9/site-packages/eli5/sklearn/permutation_importance.py\", line 202, in fit\n",
      "    si = self._cv_scores_importances(X, y, groups=groups, **fit_params)\n",
      "  File \"/home/dsc/TFM/kschool_masterDS_TFM/env/lib/python3.9/site-packages/eli5/sklearn/permutation_importance.py\", line 222, in _cv_scores_importances\n",
      "    est = clone(self.estimator).fit(X[train], y[train], **fold_fit_params)\n",
      "  File \"/home/dsc/TFM/kschool_masterDS_TFM/env/lib/python3.9/site-packages/pandas/core/series.py\", line 848, in __getitem__\n",
      "    return self._get_with(key)\n",
      "  File \"/home/dsc/TFM/kschool_masterDS_TFM/env/lib/python3.9/site-packages/pandas/core/series.py\", line 883, in _get_with\n",
      "    return self.loc[key]\n",
      "  File \"/home/dsc/TFM/kschool_masterDS_TFM/env/lib/python3.9/site-packages/pandas/core/indexing.py\", line 894, in __getitem__\n",
      "    return self._getitem_axis(maybe_callable, axis=axis)\n",
      "  File \"/home/dsc/TFM/kschool_masterDS_TFM/env/lib/python3.9/site-packages/pandas/core/indexing.py\", line 1112, in _getitem_axis\n",
      "    return self._getitem_iterable(key, axis=axis)\n",
      "  File \"/home/dsc/TFM/kschool_masterDS_TFM/env/lib/python3.9/site-packages/pandas/core/indexing.py\", line 1052, in _getitem_iterable\n",
      "    keyarr, indexer = self._get_listlike_indexer(key, axis, raise_missing=False)\n",
      "  File \"/home/dsc/TFM/kschool_masterDS_TFM/env/lib/python3.9/site-packages/pandas/core/indexing.py\", line 1265, in _get_listlike_indexer\n",
      "    self._validate_read_indexer(keyarr, indexer, axis, raise_missing=raise_missing)\n",
      "  File \"/home/dsc/TFM/kschool_masterDS_TFM/env/lib/python3.9/site-packages/pandas/core/indexing.py\", line 1320, in _validate_read_indexer\n",
      "    raise KeyError(\n",
      "KeyError: \"Passing list-likes to .loc or [] with any missing labels is no longer supported. The following labels were missing: Int64Index([2072521, 2072735, 2072850, 2072889, 2072894,\\n            ...\\n            2902630, 2902631, 2902632, 2902633, 2902634],\\n           dtype='int64', length=725191). See https://pandas.pydata.org/pandas-docs/stable/user_guide/indexing.html#deprecate-loc-reindex-listlike\"\n",
      "\n",
      "  warnings.warn(\"Estimator fit failed. The score on this train-test\"\n",
      "/home/dsc/TFM/kschool_masterDS_TFM/env/lib/python3.9/site-packages/category_encoders/utils.py:21: FutureWarning: is_categorical is deprecated and will be removed in a future version.  Use is_categorical_dtype instead\n",
      "  elif pd.api.types.is_categorical(cols):\n",
      "/home/dsc/TFM/kschool_masterDS_TFM/env/lib/python3.9/site-packages/sklearn/utils/validation.py:67: FutureWarning: Pass classifier=True as keyword args. From version 0.25 passing these as positional arguments will result in an error\n",
      "  warnings.warn(\"Pass {} as keyword args. From version 0.25 \"\n",
      "/home/dsc/TFM/kschool_masterDS_TFM/env/lib/python3.9/site-packages/sklearn/model_selection/_validation.py:548: FitFailedWarning: Estimator fit failed. The score on this train-test partition for these parameters will be set to nan. Details: \n",
      "Traceback (most recent call last):\n",
      "  File \"/home/dsc/TFM/kschool_masterDS_TFM/env/lib/python3.9/site-packages/sklearn/model_selection/_validation.py\", line 531, in _fit_and_score\n",
      "    estimator.fit(X_train, y_train, **fit_params)\n",
      "  File \"/home/dsc/TFM/kschool_masterDS_TFM/env/lib/python3.9/site-packages/sklearn/pipeline.py\", line 330, in fit\n",
      "    Xt = self._fit(X, y, **fit_params_steps)\n",
      "  File \"/home/dsc/TFM/kschool_masterDS_TFM/env/lib/python3.9/site-packages/sklearn/pipeline.py\", line 292, in _fit\n",
      "    X, fitted_transformer = fit_transform_one_cached(\n",
      "  File \"/home/dsc/TFM/kschool_masterDS_TFM/env/lib/python3.9/site-packages/joblib/memory.py\", line 352, in __call__\n",
      "    return self.func(*args, **kwargs)\n",
      "  File \"/home/dsc/TFM/kschool_masterDS_TFM/env/lib/python3.9/site-packages/sklearn/pipeline.py\", line 740, in _fit_transform_one\n",
      "    res = transformer.fit_transform(X, y, **fit_params)\n",
      "  File \"/home/dsc/TFM/kschool_masterDS_TFM/env/lib/python3.9/site-packages/sklearn/base.py\", line 693, in fit_transform\n",
      "    return self.fit(X, y, **fit_params).transform(X)\n",
      "  File \"/home/dsc/TFM/kschool_masterDS_TFM/env/lib/python3.9/site-packages/sklearn/feature_selection/_from_model.py\", line 224, in fit\n",
      "    self.estimator_.fit(X, y, **fit_params)\n",
      "  File \"/home/dsc/TFM/kschool_masterDS_TFM/env/lib/python3.9/site-packages/eli5/sklearn/permutation_importance.py\", line 202, in fit\n",
      "    si = self._cv_scores_importances(X, y, groups=groups, **fit_params)\n",
      "  File \"/home/dsc/TFM/kschool_masterDS_TFM/env/lib/python3.9/site-packages/eli5/sklearn/permutation_importance.py\", line 222, in _cv_scores_importances\n",
      "    est = clone(self.estimator).fit(X[train], y[train], **fold_fit_params)\n",
      "  File \"/home/dsc/TFM/kschool_masterDS_TFM/env/lib/python3.9/site-packages/pandas/core/series.py\", line 848, in __getitem__\n",
      "    return self._get_with(key)\n",
      "  File \"/home/dsc/TFM/kschool_masterDS_TFM/env/lib/python3.9/site-packages/pandas/core/series.py\", line 883, in _get_with\n",
      "    return self.loc[key]\n",
      "  File \"/home/dsc/TFM/kschool_masterDS_TFM/env/lib/python3.9/site-packages/pandas/core/indexing.py\", line 894, in __getitem__\n",
      "    return self._getitem_axis(maybe_callable, axis=axis)\n",
      "  File \"/home/dsc/TFM/kschool_masterDS_TFM/env/lib/python3.9/site-packages/pandas/core/indexing.py\", line 1112, in _getitem_axis\n",
      "    return self._getitem_iterable(key, axis=axis)\n",
      "  File \"/home/dsc/TFM/kschool_masterDS_TFM/env/lib/python3.9/site-packages/pandas/core/indexing.py\", line 1052, in _getitem_iterable\n",
      "    keyarr, indexer = self._get_listlike_indexer(key, axis, raise_missing=False)\n",
      "  File \"/home/dsc/TFM/kschool_masterDS_TFM/env/lib/python3.9/site-packages/pandas/core/indexing.py\", line 1265, in _get_listlike_indexer\n",
      "    self._validate_read_indexer(keyarr, indexer, axis, raise_missing=raise_missing)\n",
      "  File \"/home/dsc/TFM/kschool_masterDS_TFM/env/lib/python3.9/site-packages/pandas/core/indexing.py\", line 1320, in _validate_read_indexer\n",
      "    raise KeyError(\n",
      "KeyError: \"Passing list-likes to .loc or [] with any missing labels is no longer supported. The following labels were missing: Int64Index([2853070, 2853074, 2853080, 2853081, 2853088,\\n            ...\\n            2902180, 2902182, 2902614, 2902615, 2902618],\\n           dtype='int64', length=467). See https://pandas.pydata.org/pandas-docs/stable/user_guide/indexing.html#deprecate-loc-reindex-listlike\"\n",
      "\n",
      "  warnings.warn(\"Estimator fit failed. The score on this train-test\"\n",
      "/home/dsc/TFM/kschool_masterDS_TFM/env/lib/python3.9/site-packages/category_encoders/utils.py:21: FutureWarning: is_categorical is deprecated and will be removed in a future version.  Use is_categorical_dtype instead\n",
      "  elif pd.api.types.is_categorical(cols):\n",
      "/home/dsc/TFM/kschool_masterDS_TFM/env/lib/python3.9/site-packages/sklearn/utils/validation.py:67: FutureWarning: Pass classifier=True as keyword args. From version 0.25 passing these as positional arguments will result in an error\n",
      "  warnings.warn(\"Pass {} as keyword args. From version 0.25 \"\n",
      "/home/dsc/TFM/kschool_masterDS_TFM/env/lib/python3.9/site-packages/sklearn/model_selection/_validation.py:548: FitFailedWarning: Estimator fit failed. The score on this train-test partition for these parameters will be set to nan. Details: \n",
      "Traceback (most recent call last):\n",
      "  File \"/home/dsc/TFM/kschool_masterDS_TFM/env/lib/python3.9/site-packages/sklearn/model_selection/_validation.py\", line 531, in _fit_and_score\n",
      "    estimator.fit(X_train, y_train, **fit_params)\n",
      "  File \"/home/dsc/TFM/kschool_masterDS_TFM/env/lib/python3.9/site-packages/sklearn/pipeline.py\", line 330, in fit\n",
      "    Xt = self._fit(X, y, **fit_params_steps)\n",
      "  File \"/home/dsc/TFM/kschool_masterDS_TFM/env/lib/python3.9/site-packages/sklearn/pipeline.py\", line 292, in _fit\n",
      "    X, fitted_transformer = fit_transform_one_cached(\n",
      "  File \"/home/dsc/TFM/kschool_masterDS_TFM/env/lib/python3.9/site-packages/joblib/memory.py\", line 352, in __call__\n",
      "    return self.func(*args, **kwargs)\n",
      "  File \"/home/dsc/TFM/kschool_masterDS_TFM/env/lib/python3.9/site-packages/sklearn/pipeline.py\", line 740, in _fit_transform_one\n",
      "    res = transformer.fit_transform(X, y, **fit_params)\n",
      "  File \"/home/dsc/TFM/kschool_masterDS_TFM/env/lib/python3.9/site-packages/sklearn/base.py\", line 693, in fit_transform\n",
      "    return self.fit(X, y, **fit_params).transform(X)\n",
      "  File \"/home/dsc/TFM/kschool_masterDS_TFM/env/lib/python3.9/site-packages/sklearn/feature_selection/_from_model.py\", line 224, in fit\n",
      "    self.estimator_.fit(X, y, **fit_params)\n",
      "  File \"/home/dsc/TFM/kschool_masterDS_TFM/env/lib/python3.9/site-packages/eli5/sklearn/permutation_importance.py\", line 202, in fit\n",
      "    si = self._cv_scores_importances(X, y, groups=groups, **fit_params)\n",
      "  File \"/home/dsc/TFM/kschool_masterDS_TFM/env/lib/python3.9/site-packages/eli5/sklearn/permutation_importance.py\", line 225, in _cv_scores_importances\n",
      "    score_func, X[test], y[test])\n",
      "  File \"/home/dsc/TFM/kschool_masterDS_TFM/env/lib/python3.9/site-packages/pandas/core/series.py\", line 848, in __getitem__\n",
      "    return self._get_with(key)\n",
      "  File \"/home/dsc/TFM/kschool_masterDS_TFM/env/lib/python3.9/site-packages/pandas/core/series.py\", line 883, in _get_with\n",
      "    return self.loc[key]\n",
      "  File \"/home/dsc/TFM/kschool_masterDS_TFM/env/lib/python3.9/site-packages/pandas/core/indexing.py\", line 894, in __getitem__\n",
      "    return self._getitem_axis(maybe_callable, axis=axis)\n",
      "  File \"/home/dsc/TFM/kschool_masterDS_TFM/env/lib/python3.9/site-packages/pandas/core/indexing.py\", line 1112, in _getitem_axis\n",
      "    return self._getitem_iterable(key, axis=axis)\n",
      "  File \"/home/dsc/TFM/kschool_masterDS_TFM/env/lib/python3.9/site-packages/pandas/core/indexing.py\", line 1052, in _getitem_iterable\n",
      "    keyarr, indexer = self._get_listlike_indexer(key, axis, raise_missing=False)\n",
      "  File \"/home/dsc/TFM/kschool_masterDS_TFM/env/lib/python3.9/site-packages/pandas/core/indexing.py\", line 1265, in _get_listlike_indexer\n",
      "    self._validate_read_indexer(keyarr, indexer, axis, raise_missing=raise_missing)\n",
      "  File \"/home/dsc/TFM/kschool_masterDS_TFM/env/lib/python3.9/site-packages/pandas/core/indexing.py\", line 1320, in _validate_read_indexer\n",
      "    raise KeyError(\n",
      "KeyError: \"Passing list-likes to .loc or [] with any missing labels is no longer supported. The following labels were missing: Int64Index([     0,      1,      2,      3,      4,\\n            ...\\n            726151, 726152, 726153, 726154, 726155],\\n           dtype='int64', length=725659). See https://pandas.pydata.org/pandas-docs/stable/user_guide/indexing.html#deprecate-loc-reindex-listlike\"\n",
      "\n",
      "  warnings.warn(\"Estimator fit failed. The score on this train-test\"\n",
      "/home/dsc/TFM/kschool_masterDS_TFM/env/lib/python3.9/site-packages/category_encoders/utils.py:21: FutureWarning: is_categorical is deprecated and will be removed in a future version.  Use is_categorical_dtype instead\n",
      "  elif pd.api.types.is_categorical(cols):\n",
      "/home/dsc/TFM/kschool_masterDS_TFM/env/lib/python3.9/site-packages/sklearn/utils/validation.py:67: FutureWarning: Pass classifier=True as keyword args. From version 0.25 passing these as positional arguments will result in an error\n",
      "  warnings.warn(\"Pass {} as keyword args. From version 0.25 \"\n",
      "/home/dsc/TFM/kschool_masterDS_TFM/env/lib/python3.9/site-packages/sklearn/model_selection/_validation.py:548: FitFailedWarning: Estimator fit failed. The score on this train-test partition for these parameters will be set to nan. Details: \n",
      "Traceback (most recent call last):\n",
      "  File \"/home/dsc/TFM/kschool_masterDS_TFM/env/lib/python3.9/site-packages/sklearn/model_selection/_validation.py\", line 531, in _fit_and_score\n",
      "    estimator.fit(X_train, y_train, **fit_params)\n",
      "  File \"/home/dsc/TFM/kschool_masterDS_TFM/env/lib/python3.9/site-packages/sklearn/pipeline.py\", line 330, in fit\n",
      "    Xt = self._fit(X, y, **fit_params_steps)\n",
      "  File \"/home/dsc/TFM/kschool_masterDS_TFM/env/lib/python3.9/site-packages/sklearn/pipeline.py\", line 292, in _fit\n",
      "    X, fitted_transformer = fit_transform_one_cached(\n",
      "  File \"/home/dsc/TFM/kschool_masterDS_TFM/env/lib/python3.9/site-packages/joblib/memory.py\", line 352, in __call__\n",
      "    return self.func(*args, **kwargs)\n",
      "  File \"/home/dsc/TFM/kschool_masterDS_TFM/env/lib/python3.9/site-packages/sklearn/pipeline.py\", line 740, in _fit_transform_one\n",
      "    res = transformer.fit_transform(X, y, **fit_params)\n",
      "  File \"/home/dsc/TFM/kschool_masterDS_TFM/env/lib/python3.9/site-packages/sklearn/base.py\", line 693, in fit_transform\n",
      "    return self.fit(X, y, **fit_params).transform(X)\n",
      "  File \"/home/dsc/TFM/kschool_masterDS_TFM/env/lib/python3.9/site-packages/sklearn/feature_selection/_from_model.py\", line 224, in fit\n",
      "    self.estimator_.fit(X, y, **fit_params)\n",
      "  File \"/home/dsc/TFM/kschool_masterDS_TFM/env/lib/python3.9/site-packages/eli5/sklearn/permutation_importance.py\", line 202, in fit\n",
      "    si = self._cv_scores_importances(X, y, groups=groups, **fit_params)\n",
      "  File \"/home/dsc/TFM/kschool_masterDS_TFM/env/lib/python3.9/site-packages/eli5/sklearn/permutation_importance.py\", line 222, in _cv_scores_importances\n",
      "    est = clone(self.estimator).fit(X[train], y[train], **fold_fit_params)\n",
      "  File \"/home/dsc/TFM/kschool_masterDS_TFM/env/lib/python3.9/site-packages/pandas/core/series.py\", line 848, in __getitem__\n",
      "    return self._get_with(key)\n",
      "  File \"/home/dsc/TFM/kschool_masterDS_TFM/env/lib/python3.9/site-packages/pandas/core/series.py\", line 883, in _get_with\n",
      "    return self.loc[key]\n",
      "  File \"/home/dsc/TFM/kschool_masterDS_TFM/env/lib/python3.9/site-packages/pandas/core/indexing.py\", line 894, in __getitem__\n",
      "    return self._getitem_axis(maybe_callable, axis=axis)\n",
      "  File \"/home/dsc/TFM/kschool_masterDS_TFM/env/lib/python3.9/site-packages/pandas/core/indexing.py\", line 1112, in _getitem_axis\n",
      "    return self._getitem_iterable(key, axis=axis)\n",
      "  File \"/home/dsc/TFM/kschool_masterDS_TFM/env/lib/python3.9/site-packages/pandas/core/indexing.py\", line 1052, in _getitem_iterable\n",
      "    keyarr, indexer = self._get_listlike_indexer(key, axis, raise_missing=False)\n",
      "  File \"/home/dsc/TFM/kschool_masterDS_TFM/env/lib/python3.9/site-packages/pandas/core/indexing.py\", line 1265, in _get_listlike_indexer\n",
      "    self._validate_read_indexer(keyarr, indexer, axis, raise_missing=raise_missing)\n",
      "  File \"/home/dsc/TFM/kschool_masterDS_TFM/env/lib/python3.9/site-packages/pandas/core/indexing.py\", line 1320, in _validate_read_indexer\n",
      "    raise KeyError(\n",
      "KeyError: \"Passing list-likes to .loc or [] with any missing labels is no longer supported. The following labels were missing: Int64Index([ 965331,  965332,  965333,  965334,  965335,\\n            ...\\n            1675414, 1675424, 1675428, 1675433, 1675445],\\n           dtype='int64', length=483773). See https://pandas.pydata.org/pandas-docs/stable/user_guide/indexing.html#deprecate-loc-reindex-listlike\"\n",
      "\n",
      "  warnings.warn(\"Estimator fit failed. The score on this train-test\"\n",
      "/home/dsc/TFM/kschool_masterDS_TFM/env/lib/python3.9/site-packages/category_encoders/utils.py:21: FutureWarning: is_categorical is deprecated and will be removed in a future version.  Use is_categorical_dtype instead\n",
      "  elif pd.api.types.is_categorical(cols):\n",
      "/home/dsc/TFM/kschool_masterDS_TFM/env/lib/python3.9/site-packages/sklearn/utils/validation.py:67: FutureWarning: Pass classifier=True as keyword args. From version 0.25 passing these as positional arguments will result in an error\n",
      "  warnings.warn(\"Pass {} as keyword args. From version 0.25 \"\n",
      "/home/dsc/TFM/kschool_masterDS_TFM/env/lib/python3.9/site-packages/sklearn/model_selection/_validation.py:548: FitFailedWarning: Estimator fit failed. The score on this train-test partition for these parameters will be set to nan. Details: \n",
      "Traceback (most recent call last):\n",
      "  File \"/home/dsc/TFM/kschool_masterDS_TFM/env/lib/python3.9/site-packages/sklearn/model_selection/_validation.py\", line 531, in _fit_and_score\n",
      "    estimator.fit(X_train, y_train, **fit_params)\n",
      "  File \"/home/dsc/TFM/kschool_masterDS_TFM/env/lib/python3.9/site-packages/sklearn/pipeline.py\", line 330, in fit\n",
      "    Xt = self._fit(X, y, **fit_params_steps)\n",
      "  File \"/home/dsc/TFM/kschool_masterDS_TFM/env/lib/python3.9/site-packages/sklearn/pipeline.py\", line 292, in _fit\n",
      "    X, fitted_transformer = fit_transform_one_cached(\n",
      "  File \"/home/dsc/TFM/kschool_masterDS_TFM/env/lib/python3.9/site-packages/joblib/memory.py\", line 352, in __call__\n",
      "    return self.func(*args, **kwargs)\n",
      "  File \"/home/dsc/TFM/kschool_masterDS_TFM/env/lib/python3.9/site-packages/sklearn/pipeline.py\", line 740, in _fit_transform_one\n",
      "    res = transformer.fit_transform(X, y, **fit_params)\n",
      "  File \"/home/dsc/TFM/kschool_masterDS_TFM/env/lib/python3.9/site-packages/sklearn/base.py\", line 693, in fit_transform\n",
      "    return self.fit(X, y, **fit_params).transform(X)\n",
      "  File \"/home/dsc/TFM/kschool_masterDS_TFM/env/lib/python3.9/site-packages/sklearn/feature_selection/_from_model.py\", line 224, in fit\n",
      "    self.estimator_.fit(X, y, **fit_params)\n",
      "  File \"/home/dsc/TFM/kschool_masterDS_TFM/env/lib/python3.9/site-packages/eli5/sklearn/permutation_importance.py\", line 202, in fit\n",
      "    si = self._cv_scores_importances(X, y, groups=groups, **fit_params)\n",
      "  File \"/home/dsc/TFM/kschool_masterDS_TFM/env/lib/python3.9/site-packages/eli5/sklearn/permutation_importance.py\", line 222, in _cv_scores_importances\n",
      "    est = clone(self.estimator).fit(X[train], y[train], **fold_fit_params)\n",
      "  File \"/home/dsc/TFM/kschool_masterDS_TFM/env/lib/python3.9/site-packages/pandas/core/series.py\", line 848, in __getitem__\n",
      "    return self._get_with(key)\n",
      "  File \"/home/dsc/TFM/kschool_masterDS_TFM/env/lib/python3.9/site-packages/pandas/core/series.py\", line 883, in _get_with\n",
      "    return self.loc[key]\n",
      "  File \"/home/dsc/TFM/kschool_masterDS_TFM/env/lib/python3.9/site-packages/pandas/core/indexing.py\", line 894, in __getitem__\n",
      "    return self._getitem_axis(maybe_callable, axis=axis)\n",
      "  File \"/home/dsc/TFM/kschool_masterDS_TFM/env/lib/python3.9/site-packages/pandas/core/indexing.py\", line 1112, in _getitem_axis\n",
      "    return self._getitem_iterable(key, axis=axis)\n",
      "  File \"/home/dsc/TFM/kschool_masterDS_TFM/env/lib/python3.9/site-packages/pandas/core/indexing.py\", line 1052, in _getitem_iterable\n",
      "    keyarr, indexer = self._get_listlike_indexer(key, axis, raise_missing=False)\n",
      "  File \"/home/dsc/TFM/kschool_masterDS_TFM/env/lib/python3.9/site-packages/pandas/core/indexing.py\", line 1265, in _get_listlike_indexer\n",
      "    self._validate_read_indexer(keyarr, indexer, axis, raise_missing=raise_missing)\n",
      "  File \"/home/dsc/TFM/kschool_masterDS_TFM/env/lib/python3.9/site-packages/pandas/core/indexing.py\", line 1320, in _validate_read_indexer\n",
      "    raise KeyError(\n",
      "KeyError: \"Passing list-likes to .loc or [] with any missing labels is no longer supported. The following labels were missing: Int64Index([1447731, 1447732, 1447733, 1447734, 1447735,\\n            ...\\n            2178772, 2178773, 2178774, 2178775, 2178776],\\n           dtype='int64', length=725659). See https://pandas.pydata.org/pandas-docs/stable/user_guide/indexing.html#deprecate-loc-reindex-listlike\"\n",
      "\n",
      "  warnings.warn(\"Estimator fit failed. The score on this train-test\"\n",
      "/home/dsc/TFM/kschool_masterDS_TFM/env/lib/python3.9/site-packages/category_encoders/utils.py:21: FutureWarning: is_categorical is deprecated and will be removed in a future version.  Use is_categorical_dtype instead\n",
      "  elif pd.api.types.is_categorical(cols):\n",
      "/home/dsc/TFM/kschool_masterDS_TFM/env/lib/python3.9/site-packages/sklearn/utils/validation.py:67: FutureWarning: Pass classifier=True as keyword args. From version 0.25 passing these as positional arguments will result in an error\n",
      "  warnings.warn(\"Pass {} as keyword args. From version 0.25 \"\n",
      "/home/dsc/TFM/kschool_masterDS_TFM/env/lib/python3.9/site-packages/sklearn/model_selection/_validation.py:548: FitFailedWarning: Estimator fit failed. The score on this train-test partition for these parameters will be set to nan. Details: \n",
      "Traceback (most recent call last):\n",
      "  File \"/home/dsc/TFM/kschool_masterDS_TFM/env/lib/python3.9/site-packages/sklearn/model_selection/_validation.py\", line 531, in _fit_and_score\n",
      "    estimator.fit(X_train, y_train, **fit_params)\n",
      "  File \"/home/dsc/TFM/kschool_masterDS_TFM/env/lib/python3.9/site-packages/sklearn/pipeline.py\", line 330, in fit\n",
      "    Xt = self._fit(X, y, **fit_params_steps)\n",
      "  File \"/home/dsc/TFM/kschool_masterDS_TFM/env/lib/python3.9/site-packages/sklearn/pipeline.py\", line 292, in _fit\n",
      "    X, fitted_transformer = fit_transform_one_cached(\n",
      "  File \"/home/dsc/TFM/kschool_masterDS_TFM/env/lib/python3.9/site-packages/joblib/memory.py\", line 352, in __call__\n",
      "    return self.func(*args, **kwargs)\n",
      "  File \"/home/dsc/TFM/kschool_masterDS_TFM/env/lib/python3.9/site-packages/sklearn/pipeline.py\", line 740, in _fit_transform_one\n",
      "    res = transformer.fit_transform(X, y, **fit_params)\n",
      "  File \"/home/dsc/TFM/kschool_masterDS_TFM/env/lib/python3.9/site-packages/sklearn/base.py\", line 693, in fit_transform\n",
      "    return self.fit(X, y, **fit_params).transform(X)\n",
      "  File \"/home/dsc/TFM/kschool_masterDS_TFM/env/lib/python3.9/site-packages/sklearn/feature_selection/_from_model.py\", line 224, in fit\n",
      "    self.estimator_.fit(X, y, **fit_params)\n",
      "  File \"/home/dsc/TFM/kschool_masterDS_TFM/env/lib/python3.9/site-packages/eli5/sklearn/permutation_importance.py\", line 202, in fit\n",
      "    si = self._cv_scores_importances(X, y, groups=groups, **fit_params)\n",
      "  File \"/home/dsc/TFM/kschool_masterDS_TFM/env/lib/python3.9/site-packages/eli5/sklearn/permutation_importance.py\", line 222, in _cv_scores_importances\n",
      "    est = clone(self.estimator).fit(X[train], y[train], **fold_fit_params)\n",
      "  File \"/home/dsc/TFM/kschool_masterDS_TFM/env/lib/python3.9/site-packages/pandas/core/series.py\", line 848, in __getitem__\n",
      "    return self._get_with(key)\n",
      "  File \"/home/dsc/TFM/kschool_masterDS_TFM/env/lib/python3.9/site-packages/pandas/core/series.py\", line 883, in _get_with\n",
      "    return self.loc[key]\n",
      "  File \"/home/dsc/TFM/kschool_masterDS_TFM/env/lib/python3.9/site-packages/pandas/core/indexing.py\", line 894, in __getitem__\n",
      "    return self._getitem_axis(maybe_callable, axis=axis)\n",
      "  File \"/home/dsc/TFM/kschool_masterDS_TFM/env/lib/python3.9/site-packages/pandas/core/indexing.py\", line 1112, in _getitem_axis\n",
      "    return self._getitem_iterable(key, axis=axis)\n",
      "  File \"/home/dsc/TFM/kschool_masterDS_TFM/env/lib/python3.9/site-packages/pandas/core/indexing.py\", line 1052, in _getitem_iterable\n",
      "    keyarr, indexer = self._get_listlike_indexer(key, axis, raise_missing=False)\n",
      "  File \"/home/dsc/TFM/kschool_masterDS_TFM/env/lib/python3.9/site-packages/pandas/core/indexing.py\", line 1265, in _get_listlike_indexer\n",
      "    self._validate_read_indexer(keyarr, indexer, axis, raise_missing=raise_missing)\n",
      "  File \"/home/dsc/TFM/kschool_masterDS_TFM/env/lib/python3.9/site-packages/pandas/core/indexing.py\", line 1320, in _validate_read_indexer\n",
      "    raise KeyError(\n",
      "KeyError: \"Passing list-likes to .loc or [] with any missing labels is no longer supported. The following labels were missing: Int64Index([2072521, 2072735, 2072850, 2072889, 2072894,\\n            ...\\n            2902630, 2902631, 2902632, 2902633, 2902634],\\n           dtype='int64', length=725191). See https://pandas.pydata.org/pandas-docs/stable/user_guide/indexing.html#deprecate-loc-reindex-listlike\"\n",
      "\n",
      "  warnings.warn(\"Estimator fit failed. The score on this train-test\"\n",
      "/home/dsc/TFM/kschool_masterDS_TFM/env/lib/python3.9/site-packages/category_encoders/utils.py:21: FutureWarning: is_categorical is deprecated and will be removed in a future version.  Use is_categorical_dtype instead\n",
      "  elif pd.api.types.is_categorical(cols):\n",
      "/home/dsc/TFM/kschool_masterDS_TFM/env/lib/python3.9/site-packages/sklearn/utils/validation.py:67: FutureWarning: Pass classifier=True as keyword args. From version 0.25 passing these as positional arguments will result in an error\n",
      "  warnings.warn(\"Pass {} as keyword args. From version 0.25 \"\n",
      "/home/dsc/TFM/kschool_masterDS_TFM/env/lib/python3.9/site-packages/sklearn/model_selection/_validation.py:548: FitFailedWarning: Estimator fit failed. The score on this train-test partition for these parameters will be set to nan. Details: \n",
      "Traceback (most recent call last):\n",
      "  File \"/home/dsc/TFM/kschool_masterDS_TFM/env/lib/python3.9/site-packages/sklearn/model_selection/_validation.py\", line 531, in _fit_and_score\n",
      "    estimator.fit(X_train, y_train, **fit_params)\n",
      "  File \"/home/dsc/TFM/kschool_masterDS_TFM/env/lib/python3.9/site-packages/sklearn/pipeline.py\", line 330, in fit\n",
      "    Xt = self._fit(X, y, **fit_params_steps)\n",
      "  File \"/home/dsc/TFM/kschool_masterDS_TFM/env/lib/python3.9/site-packages/sklearn/pipeline.py\", line 292, in _fit\n",
      "    X, fitted_transformer = fit_transform_one_cached(\n",
      "  File \"/home/dsc/TFM/kschool_masterDS_TFM/env/lib/python3.9/site-packages/joblib/memory.py\", line 352, in __call__\n",
      "    return self.func(*args, **kwargs)\n",
      "  File \"/home/dsc/TFM/kschool_masterDS_TFM/env/lib/python3.9/site-packages/sklearn/pipeline.py\", line 740, in _fit_transform_one\n",
      "    res = transformer.fit_transform(X, y, **fit_params)\n",
      "  File \"/home/dsc/TFM/kschool_masterDS_TFM/env/lib/python3.9/site-packages/sklearn/base.py\", line 693, in fit_transform\n",
      "    return self.fit(X, y, **fit_params).transform(X)\n",
      "  File \"/home/dsc/TFM/kschool_masterDS_TFM/env/lib/python3.9/site-packages/sklearn/feature_selection/_from_model.py\", line 224, in fit\n",
      "    self.estimator_.fit(X, y, **fit_params)\n",
      "  File \"/home/dsc/TFM/kschool_masterDS_TFM/env/lib/python3.9/site-packages/eli5/sklearn/permutation_importance.py\", line 202, in fit\n",
      "    si = self._cv_scores_importances(X, y, groups=groups, **fit_params)\n",
      "  File \"/home/dsc/TFM/kschool_masterDS_TFM/env/lib/python3.9/site-packages/eli5/sklearn/permutation_importance.py\", line 222, in _cv_scores_importances\n",
      "    est = clone(self.estimator).fit(X[train], y[train], **fold_fit_params)\n",
      "  File \"/home/dsc/TFM/kschool_masterDS_TFM/env/lib/python3.9/site-packages/pandas/core/series.py\", line 848, in __getitem__\n",
      "    return self._get_with(key)\n",
      "  File \"/home/dsc/TFM/kschool_masterDS_TFM/env/lib/python3.9/site-packages/pandas/core/series.py\", line 883, in _get_with\n",
      "    return self.loc[key]\n",
      "  File \"/home/dsc/TFM/kschool_masterDS_TFM/env/lib/python3.9/site-packages/pandas/core/indexing.py\", line 894, in __getitem__\n",
      "    return self._getitem_axis(maybe_callable, axis=axis)\n",
      "  File \"/home/dsc/TFM/kschool_masterDS_TFM/env/lib/python3.9/site-packages/pandas/core/indexing.py\", line 1112, in _getitem_axis\n",
      "    return self._getitem_iterable(key, axis=axis)\n",
      "  File \"/home/dsc/TFM/kschool_masterDS_TFM/env/lib/python3.9/site-packages/pandas/core/indexing.py\", line 1052, in _getitem_iterable\n",
      "    keyarr, indexer = self._get_listlike_indexer(key, axis, raise_missing=False)\n",
      "  File \"/home/dsc/TFM/kschool_masterDS_TFM/env/lib/python3.9/site-packages/pandas/core/indexing.py\", line 1265, in _get_listlike_indexer\n",
      "    self._validate_read_indexer(keyarr, indexer, axis, raise_missing=raise_missing)\n",
      "  File \"/home/dsc/TFM/kschool_masterDS_TFM/env/lib/python3.9/site-packages/pandas/core/indexing.py\", line 1320, in _validate_read_indexer\n",
      "    raise KeyError(\n",
      "KeyError: \"Passing list-likes to .loc or [] with any missing labels is no longer supported. The following labels were missing: Int64Index([2853070, 2853074, 2853080, 2853081, 2853088,\\n            ...\\n            2902180, 2902182, 2902614, 2902615, 2902618],\\n           dtype='int64', length=467). See https://pandas.pydata.org/pandas-docs/stable/user_guide/indexing.html#deprecate-loc-reindex-listlike\"\n",
      "\n",
      "  warnings.warn(\"Estimator fit failed. The score on this train-test\"\n",
      "/home/dsc/TFM/kschool_masterDS_TFM/env/lib/python3.9/site-packages/category_encoders/utils.py:21: FutureWarning: is_categorical is deprecated and will be removed in a future version.  Use is_categorical_dtype instead\n",
      "  elif pd.api.types.is_categorical(cols):\n",
      "/home/dsc/TFM/kschool_masterDS_TFM/env/lib/python3.9/site-packages/sklearn/utils/validation.py:67: FutureWarning: Pass classifier=True as keyword args. From version 0.25 passing these as positional arguments will result in an error\n",
      "  warnings.warn(\"Pass {} as keyword args. From version 0.25 \"\n",
      "/home/dsc/TFM/kschool_masterDS_TFM/env/lib/python3.9/site-packages/sklearn/model_selection/_validation.py:548: FitFailedWarning: Estimator fit failed. The score on this train-test partition for these parameters will be set to nan. Details: \n",
      "Traceback (most recent call last):\n",
      "  File \"/home/dsc/TFM/kschool_masterDS_TFM/env/lib/python3.9/site-packages/sklearn/model_selection/_validation.py\", line 531, in _fit_and_score\n",
      "    estimator.fit(X_train, y_train, **fit_params)\n",
      "  File \"/home/dsc/TFM/kschool_masterDS_TFM/env/lib/python3.9/site-packages/sklearn/pipeline.py\", line 330, in fit\n",
      "    Xt = self._fit(X, y, **fit_params_steps)\n",
      "  File \"/home/dsc/TFM/kschool_masterDS_TFM/env/lib/python3.9/site-packages/sklearn/pipeline.py\", line 292, in _fit\n",
      "    X, fitted_transformer = fit_transform_one_cached(\n",
      "  File \"/home/dsc/TFM/kschool_masterDS_TFM/env/lib/python3.9/site-packages/joblib/memory.py\", line 352, in __call__\n",
      "    return self.func(*args, **kwargs)\n",
      "  File \"/home/dsc/TFM/kschool_masterDS_TFM/env/lib/python3.9/site-packages/sklearn/pipeline.py\", line 740, in _fit_transform_one\n",
      "    res = transformer.fit_transform(X, y, **fit_params)\n",
      "  File \"/home/dsc/TFM/kschool_masterDS_TFM/env/lib/python3.9/site-packages/sklearn/base.py\", line 693, in fit_transform\n",
      "    return self.fit(X, y, **fit_params).transform(X)\n",
      "  File \"/home/dsc/TFM/kschool_masterDS_TFM/env/lib/python3.9/site-packages/sklearn/feature_selection/_from_model.py\", line 224, in fit\n",
      "    self.estimator_.fit(X, y, **fit_params)\n",
      "  File \"/home/dsc/TFM/kschool_masterDS_TFM/env/lib/python3.9/site-packages/eli5/sklearn/permutation_importance.py\", line 202, in fit\n",
      "    si = self._cv_scores_importances(X, y, groups=groups, **fit_params)\n",
      "  File \"/home/dsc/TFM/kschool_masterDS_TFM/env/lib/python3.9/site-packages/eli5/sklearn/permutation_importance.py\", line 225, in _cv_scores_importances\n",
      "    score_func, X[test], y[test])\n",
      "  File \"/home/dsc/TFM/kschool_masterDS_TFM/env/lib/python3.9/site-packages/pandas/core/series.py\", line 848, in __getitem__\n",
      "    return self._get_with(key)\n",
      "  File \"/home/dsc/TFM/kschool_masterDS_TFM/env/lib/python3.9/site-packages/pandas/core/series.py\", line 883, in _get_with\n",
      "    return self.loc[key]\n",
      "  File \"/home/dsc/TFM/kschool_masterDS_TFM/env/lib/python3.9/site-packages/pandas/core/indexing.py\", line 894, in __getitem__\n",
      "    return self._getitem_axis(maybe_callable, axis=axis)\n",
      "  File \"/home/dsc/TFM/kschool_masterDS_TFM/env/lib/python3.9/site-packages/pandas/core/indexing.py\", line 1112, in _getitem_axis\n",
      "    return self._getitem_iterable(key, axis=axis)\n",
      "  File \"/home/dsc/TFM/kschool_masterDS_TFM/env/lib/python3.9/site-packages/pandas/core/indexing.py\", line 1052, in _getitem_iterable\n",
      "    keyarr, indexer = self._get_listlike_indexer(key, axis, raise_missing=False)\n",
      "  File \"/home/dsc/TFM/kschool_masterDS_TFM/env/lib/python3.9/site-packages/pandas/core/indexing.py\", line 1265, in _get_listlike_indexer\n",
      "    self._validate_read_indexer(keyarr, indexer, axis, raise_missing=raise_missing)\n",
      "  File \"/home/dsc/TFM/kschool_masterDS_TFM/env/lib/python3.9/site-packages/pandas/core/indexing.py\", line 1320, in _validate_read_indexer\n",
      "    raise KeyError(\n",
      "KeyError: \"Passing list-likes to .loc or [] with any missing labels is no longer supported. The following labels were missing: Int64Index([     0,      1,      2,      3,      4,\\n            ...\\n            726151, 726152, 726153, 726154, 726155],\\n           dtype='int64', length=725659). See https://pandas.pydata.org/pandas-docs/stable/user_guide/indexing.html#deprecate-loc-reindex-listlike\"\n",
      "\n",
      "  warnings.warn(\"Estimator fit failed. The score on this train-test\"\n",
      "/home/dsc/TFM/kschool_masterDS_TFM/env/lib/python3.9/site-packages/category_encoders/utils.py:21: FutureWarning: is_categorical is deprecated and will be removed in a future version.  Use is_categorical_dtype instead\n",
      "  elif pd.api.types.is_categorical(cols):\n",
      "/home/dsc/TFM/kschool_masterDS_TFM/env/lib/python3.9/site-packages/sklearn/utils/validation.py:67: FutureWarning: Pass classifier=True as keyword args. From version 0.25 passing these as positional arguments will result in an error\n",
      "  warnings.warn(\"Pass {} as keyword args. From version 0.25 \"\n",
      "/home/dsc/TFM/kschool_masterDS_TFM/env/lib/python3.9/site-packages/sklearn/model_selection/_validation.py:548: FitFailedWarning: Estimator fit failed. The score on this train-test partition for these parameters will be set to nan. Details: \n",
      "Traceback (most recent call last):\n",
      "  File \"/home/dsc/TFM/kschool_masterDS_TFM/env/lib/python3.9/site-packages/sklearn/model_selection/_validation.py\", line 531, in _fit_and_score\n",
      "    estimator.fit(X_train, y_train, **fit_params)\n",
      "  File \"/home/dsc/TFM/kschool_masterDS_TFM/env/lib/python3.9/site-packages/sklearn/pipeline.py\", line 330, in fit\n",
      "    Xt = self._fit(X, y, **fit_params_steps)\n",
      "  File \"/home/dsc/TFM/kschool_masterDS_TFM/env/lib/python3.9/site-packages/sklearn/pipeline.py\", line 292, in _fit\n",
      "    X, fitted_transformer = fit_transform_one_cached(\n",
      "  File \"/home/dsc/TFM/kschool_masterDS_TFM/env/lib/python3.9/site-packages/joblib/memory.py\", line 352, in __call__\n",
      "    return self.func(*args, **kwargs)\n",
      "  File \"/home/dsc/TFM/kschool_masterDS_TFM/env/lib/python3.9/site-packages/sklearn/pipeline.py\", line 740, in _fit_transform_one\n",
      "    res = transformer.fit_transform(X, y, **fit_params)\n",
      "  File \"/home/dsc/TFM/kschool_masterDS_TFM/env/lib/python3.9/site-packages/sklearn/base.py\", line 693, in fit_transform\n",
      "    return self.fit(X, y, **fit_params).transform(X)\n",
      "  File \"/home/dsc/TFM/kschool_masterDS_TFM/env/lib/python3.9/site-packages/sklearn/feature_selection/_from_model.py\", line 224, in fit\n",
      "    self.estimator_.fit(X, y, **fit_params)\n",
      "  File \"/home/dsc/TFM/kschool_masterDS_TFM/env/lib/python3.9/site-packages/eli5/sklearn/permutation_importance.py\", line 202, in fit\n",
      "    si = self._cv_scores_importances(X, y, groups=groups, **fit_params)\n",
      "  File \"/home/dsc/TFM/kschool_masterDS_TFM/env/lib/python3.9/site-packages/eli5/sklearn/permutation_importance.py\", line 222, in _cv_scores_importances\n",
      "    est = clone(self.estimator).fit(X[train], y[train], **fold_fit_params)\n",
      "  File \"/home/dsc/TFM/kschool_masterDS_TFM/env/lib/python3.9/site-packages/pandas/core/series.py\", line 848, in __getitem__\n",
      "    return self._get_with(key)\n",
      "  File \"/home/dsc/TFM/kschool_masterDS_TFM/env/lib/python3.9/site-packages/pandas/core/series.py\", line 883, in _get_with\n",
      "    return self.loc[key]\n",
      "  File \"/home/dsc/TFM/kschool_masterDS_TFM/env/lib/python3.9/site-packages/pandas/core/indexing.py\", line 894, in __getitem__\n",
      "    return self._getitem_axis(maybe_callable, axis=axis)\n",
      "  File \"/home/dsc/TFM/kschool_masterDS_TFM/env/lib/python3.9/site-packages/pandas/core/indexing.py\", line 1112, in _getitem_axis\n",
      "    return self._getitem_iterable(key, axis=axis)\n",
      "  File \"/home/dsc/TFM/kschool_masterDS_TFM/env/lib/python3.9/site-packages/pandas/core/indexing.py\", line 1052, in _getitem_iterable\n",
      "    keyarr, indexer = self._get_listlike_indexer(key, axis, raise_missing=False)\n",
      "  File \"/home/dsc/TFM/kschool_masterDS_TFM/env/lib/python3.9/site-packages/pandas/core/indexing.py\", line 1265, in _get_listlike_indexer\n",
      "    self._validate_read_indexer(keyarr, indexer, axis, raise_missing=raise_missing)\n",
      "  File \"/home/dsc/TFM/kschool_masterDS_TFM/env/lib/python3.9/site-packages/pandas/core/indexing.py\", line 1320, in _validate_read_indexer\n",
      "    raise KeyError(\n",
      "KeyError: \"Passing list-likes to .loc or [] with any missing labels is no longer supported. The following labels were missing: Int64Index([ 965331,  965332,  965333,  965334,  965335,\\n            ...\\n            1675414, 1675424, 1675428, 1675433, 1675445],\\n           dtype='int64', length=483773). See https://pandas.pydata.org/pandas-docs/stable/user_guide/indexing.html#deprecate-loc-reindex-listlike\"\n",
      "\n",
      "  warnings.warn(\"Estimator fit failed. The score on this train-test\"\n",
      "/home/dsc/TFM/kschool_masterDS_TFM/env/lib/python3.9/site-packages/category_encoders/utils.py:21: FutureWarning: is_categorical is deprecated and will be removed in a future version.  Use is_categorical_dtype instead\n",
      "  elif pd.api.types.is_categorical(cols):\n",
      "/home/dsc/TFM/kschool_masterDS_TFM/env/lib/python3.9/site-packages/sklearn/utils/validation.py:67: FutureWarning: Pass classifier=True as keyword args. From version 0.25 passing these as positional arguments will result in an error\n",
      "  warnings.warn(\"Pass {} as keyword args. From version 0.25 \"\n",
      "/home/dsc/TFM/kschool_masterDS_TFM/env/lib/python3.9/site-packages/sklearn/model_selection/_validation.py:548: FitFailedWarning: Estimator fit failed. The score on this train-test partition for these parameters will be set to nan. Details: \n",
      "Traceback (most recent call last):\n",
      "  File \"/home/dsc/TFM/kschool_masterDS_TFM/env/lib/python3.9/site-packages/sklearn/model_selection/_validation.py\", line 531, in _fit_and_score\n",
      "    estimator.fit(X_train, y_train, **fit_params)\n",
      "  File \"/home/dsc/TFM/kschool_masterDS_TFM/env/lib/python3.9/site-packages/sklearn/pipeline.py\", line 330, in fit\n",
      "    Xt = self._fit(X, y, **fit_params_steps)\n",
      "  File \"/home/dsc/TFM/kschool_masterDS_TFM/env/lib/python3.9/site-packages/sklearn/pipeline.py\", line 292, in _fit\n",
      "    X, fitted_transformer = fit_transform_one_cached(\n",
      "  File \"/home/dsc/TFM/kschool_masterDS_TFM/env/lib/python3.9/site-packages/joblib/memory.py\", line 352, in __call__\n",
      "    return self.func(*args, **kwargs)\n",
      "  File \"/home/dsc/TFM/kschool_masterDS_TFM/env/lib/python3.9/site-packages/sklearn/pipeline.py\", line 740, in _fit_transform_one\n",
      "    res = transformer.fit_transform(X, y, **fit_params)\n",
      "  File \"/home/dsc/TFM/kschool_masterDS_TFM/env/lib/python3.9/site-packages/sklearn/base.py\", line 693, in fit_transform\n",
      "    return self.fit(X, y, **fit_params).transform(X)\n",
      "  File \"/home/dsc/TFM/kschool_masterDS_TFM/env/lib/python3.9/site-packages/sklearn/feature_selection/_from_model.py\", line 224, in fit\n",
      "    self.estimator_.fit(X, y, **fit_params)\n",
      "  File \"/home/dsc/TFM/kschool_masterDS_TFM/env/lib/python3.9/site-packages/eli5/sklearn/permutation_importance.py\", line 202, in fit\n",
      "    si = self._cv_scores_importances(X, y, groups=groups, **fit_params)\n",
      "  File \"/home/dsc/TFM/kschool_masterDS_TFM/env/lib/python3.9/site-packages/eli5/sklearn/permutation_importance.py\", line 222, in _cv_scores_importances\n",
      "    est = clone(self.estimator).fit(X[train], y[train], **fold_fit_params)\n",
      "  File \"/home/dsc/TFM/kschool_masterDS_TFM/env/lib/python3.9/site-packages/pandas/core/series.py\", line 848, in __getitem__\n",
      "    return self._get_with(key)\n",
      "  File \"/home/dsc/TFM/kschool_masterDS_TFM/env/lib/python3.9/site-packages/pandas/core/series.py\", line 883, in _get_with\n",
      "    return self.loc[key]\n",
      "  File \"/home/dsc/TFM/kschool_masterDS_TFM/env/lib/python3.9/site-packages/pandas/core/indexing.py\", line 894, in __getitem__\n",
      "    return self._getitem_axis(maybe_callable, axis=axis)\n",
      "  File \"/home/dsc/TFM/kschool_masterDS_TFM/env/lib/python3.9/site-packages/pandas/core/indexing.py\", line 1112, in _getitem_axis\n",
      "    return self._getitem_iterable(key, axis=axis)\n",
      "  File \"/home/dsc/TFM/kschool_masterDS_TFM/env/lib/python3.9/site-packages/pandas/core/indexing.py\", line 1052, in _getitem_iterable\n",
      "    keyarr, indexer = self._get_listlike_indexer(key, axis, raise_missing=False)\n",
      "  File \"/home/dsc/TFM/kschool_masterDS_TFM/env/lib/python3.9/site-packages/pandas/core/indexing.py\", line 1265, in _get_listlike_indexer\n",
      "    self._validate_read_indexer(keyarr, indexer, axis, raise_missing=raise_missing)\n",
      "  File \"/home/dsc/TFM/kschool_masterDS_TFM/env/lib/python3.9/site-packages/pandas/core/indexing.py\", line 1320, in _validate_read_indexer\n",
      "    raise KeyError(\n",
      "KeyError: \"Passing list-likes to .loc or [] with any missing labels is no longer supported. The following labels were missing: Int64Index([1447731, 1447732, 1447733, 1447734, 1447735,\\n            ...\\n            2178772, 2178773, 2178774, 2178775, 2178776],\\n           dtype='int64', length=725659). See https://pandas.pydata.org/pandas-docs/stable/user_guide/indexing.html#deprecate-loc-reindex-listlike\"\n",
      "\n",
      "  warnings.warn(\"Estimator fit failed. The score on this train-test\"\n",
      "/home/dsc/TFM/kschool_masterDS_TFM/env/lib/python3.9/site-packages/category_encoders/utils.py:21: FutureWarning: is_categorical is deprecated and will be removed in a future version.  Use is_categorical_dtype instead\n",
      "  elif pd.api.types.is_categorical(cols):\n",
      "/home/dsc/TFM/kschool_masterDS_TFM/env/lib/python3.9/site-packages/sklearn/utils/validation.py:67: FutureWarning: Pass classifier=True as keyword args. From version 0.25 passing these as positional arguments will result in an error\n",
      "  warnings.warn(\"Pass {} as keyword args. From version 0.25 \"\n",
      "/home/dsc/TFM/kschool_masterDS_TFM/env/lib/python3.9/site-packages/sklearn/model_selection/_validation.py:548: FitFailedWarning: Estimator fit failed. The score on this train-test partition for these parameters will be set to nan. Details: \n",
      "Traceback (most recent call last):\n",
      "  File \"/home/dsc/TFM/kschool_masterDS_TFM/env/lib/python3.9/site-packages/sklearn/model_selection/_validation.py\", line 531, in _fit_and_score\n",
      "    estimator.fit(X_train, y_train, **fit_params)\n",
      "  File \"/home/dsc/TFM/kschool_masterDS_TFM/env/lib/python3.9/site-packages/sklearn/pipeline.py\", line 330, in fit\n",
      "    Xt = self._fit(X, y, **fit_params_steps)\n",
      "  File \"/home/dsc/TFM/kschool_masterDS_TFM/env/lib/python3.9/site-packages/sklearn/pipeline.py\", line 292, in _fit\n",
      "    X, fitted_transformer = fit_transform_one_cached(\n",
      "  File \"/home/dsc/TFM/kschool_masterDS_TFM/env/lib/python3.9/site-packages/joblib/memory.py\", line 352, in __call__\n",
      "    return self.func(*args, **kwargs)\n",
      "  File \"/home/dsc/TFM/kschool_masterDS_TFM/env/lib/python3.9/site-packages/sklearn/pipeline.py\", line 740, in _fit_transform_one\n",
      "    res = transformer.fit_transform(X, y, **fit_params)\n",
      "  File \"/home/dsc/TFM/kschool_masterDS_TFM/env/lib/python3.9/site-packages/sklearn/base.py\", line 693, in fit_transform\n",
      "    return self.fit(X, y, **fit_params).transform(X)\n",
      "  File \"/home/dsc/TFM/kschool_masterDS_TFM/env/lib/python3.9/site-packages/sklearn/feature_selection/_from_model.py\", line 224, in fit\n",
      "    self.estimator_.fit(X, y, **fit_params)\n",
      "  File \"/home/dsc/TFM/kschool_masterDS_TFM/env/lib/python3.9/site-packages/eli5/sklearn/permutation_importance.py\", line 202, in fit\n",
      "    si = self._cv_scores_importances(X, y, groups=groups, **fit_params)\n",
      "  File \"/home/dsc/TFM/kschool_masterDS_TFM/env/lib/python3.9/site-packages/eli5/sklearn/permutation_importance.py\", line 222, in _cv_scores_importances\n",
      "    est = clone(self.estimator).fit(X[train], y[train], **fold_fit_params)\n",
      "  File \"/home/dsc/TFM/kschool_masterDS_TFM/env/lib/python3.9/site-packages/pandas/core/series.py\", line 848, in __getitem__\n",
      "    return self._get_with(key)\n",
      "  File \"/home/dsc/TFM/kschool_masterDS_TFM/env/lib/python3.9/site-packages/pandas/core/series.py\", line 883, in _get_with\n",
      "    return self.loc[key]\n",
      "  File \"/home/dsc/TFM/kschool_masterDS_TFM/env/lib/python3.9/site-packages/pandas/core/indexing.py\", line 894, in __getitem__\n",
      "    return self._getitem_axis(maybe_callable, axis=axis)\n",
      "  File \"/home/dsc/TFM/kschool_masterDS_TFM/env/lib/python3.9/site-packages/pandas/core/indexing.py\", line 1112, in _getitem_axis\n",
      "    return self._getitem_iterable(key, axis=axis)\n",
      "  File \"/home/dsc/TFM/kschool_masterDS_TFM/env/lib/python3.9/site-packages/pandas/core/indexing.py\", line 1052, in _getitem_iterable\n",
      "    keyarr, indexer = self._get_listlike_indexer(key, axis, raise_missing=False)\n",
      "  File \"/home/dsc/TFM/kschool_masterDS_TFM/env/lib/python3.9/site-packages/pandas/core/indexing.py\", line 1265, in _get_listlike_indexer\n",
      "    self._validate_read_indexer(keyarr, indexer, axis, raise_missing=raise_missing)\n",
      "  File \"/home/dsc/TFM/kschool_masterDS_TFM/env/lib/python3.9/site-packages/pandas/core/indexing.py\", line 1320, in _validate_read_indexer\n",
      "    raise KeyError(\n",
      "KeyError: \"Passing list-likes to .loc or [] with any missing labels is no longer supported. The following labels were missing: Int64Index([2072521, 2072735, 2072850, 2072889, 2072894,\\n            ...\\n            2902630, 2902631, 2902632, 2902633, 2902634],\\n           dtype='int64', length=725191). See https://pandas.pydata.org/pandas-docs/stable/user_guide/indexing.html#deprecate-loc-reindex-listlike\"\n",
      "\n",
      "  warnings.warn(\"Estimator fit failed. The score on this train-test\"\n",
      "/home/dsc/TFM/kschool_masterDS_TFM/env/lib/python3.9/site-packages/category_encoders/utils.py:21: FutureWarning: is_categorical is deprecated and will be removed in a future version.  Use is_categorical_dtype instead\n",
      "  elif pd.api.types.is_categorical(cols):\n",
      "/home/dsc/TFM/kschool_masterDS_TFM/env/lib/python3.9/site-packages/sklearn/utils/validation.py:67: FutureWarning: Pass classifier=True as keyword args. From version 0.25 passing these as positional arguments will result in an error\n",
      "  warnings.warn(\"Pass {} as keyword args. From version 0.25 \"\n",
      "/home/dsc/TFM/kschool_masterDS_TFM/env/lib/python3.9/site-packages/sklearn/model_selection/_validation.py:548: FitFailedWarning: Estimator fit failed. The score on this train-test partition for these parameters will be set to nan. Details: \n",
      "Traceback (most recent call last):\n",
      "  File \"/home/dsc/TFM/kschool_masterDS_TFM/env/lib/python3.9/site-packages/sklearn/model_selection/_validation.py\", line 531, in _fit_and_score\n",
      "    estimator.fit(X_train, y_train, **fit_params)\n",
      "  File \"/home/dsc/TFM/kschool_masterDS_TFM/env/lib/python3.9/site-packages/sklearn/pipeline.py\", line 330, in fit\n",
      "    Xt = self._fit(X, y, **fit_params_steps)\n",
      "  File \"/home/dsc/TFM/kschool_masterDS_TFM/env/lib/python3.9/site-packages/sklearn/pipeline.py\", line 292, in _fit\n",
      "    X, fitted_transformer = fit_transform_one_cached(\n",
      "  File \"/home/dsc/TFM/kschool_masterDS_TFM/env/lib/python3.9/site-packages/joblib/memory.py\", line 352, in __call__\n",
      "    return self.func(*args, **kwargs)\n",
      "  File \"/home/dsc/TFM/kschool_masterDS_TFM/env/lib/python3.9/site-packages/sklearn/pipeline.py\", line 740, in _fit_transform_one\n",
      "    res = transformer.fit_transform(X, y, **fit_params)\n",
      "  File \"/home/dsc/TFM/kschool_masterDS_TFM/env/lib/python3.9/site-packages/sklearn/base.py\", line 693, in fit_transform\n",
      "    return self.fit(X, y, **fit_params).transform(X)\n",
      "  File \"/home/dsc/TFM/kschool_masterDS_TFM/env/lib/python3.9/site-packages/sklearn/feature_selection/_from_model.py\", line 224, in fit\n",
      "    self.estimator_.fit(X, y, **fit_params)\n",
      "  File \"/home/dsc/TFM/kschool_masterDS_TFM/env/lib/python3.9/site-packages/eli5/sklearn/permutation_importance.py\", line 202, in fit\n",
      "    si = self._cv_scores_importances(X, y, groups=groups, **fit_params)\n",
      "  File \"/home/dsc/TFM/kschool_masterDS_TFM/env/lib/python3.9/site-packages/eli5/sklearn/permutation_importance.py\", line 222, in _cv_scores_importances\n",
      "    est = clone(self.estimator).fit(X[train], y[train], **fold_fit_params)\n",
      "  File \"/home/dsc/TFM/kschool_masterDS_TFM/env/lib/python3.9/site-packages/pandas/core/series.py\", line 848, in __getitem__\n",
      "    return self._get_with(key)\n",
      "  File \"/home/dsc/TFM/kschool_masterDS_TFM/env/lib/python3.9/site-packages/pandas/core/series.py\", line 883, in _get_with\n",
      "    return self.loc[key]\n",
      "  File \"/home/dsc/TFM/kschool_masterDS_TFM/env/lib/python3.9/site-packages/pandas/core/indexing.py\", line 894, in __getitem__\n",
      "    return self._getitem_axis(maybe_callable, axis=axis)\n",
      "  File \"/home/dsc/TFM/kschool_masterDS_TFM/env/lib/python3.9/site-packages/pandas/core/indexing.py\", line 1112, in _getitem_axis\n",
      "    return self._getitem_iterable(key, axis=axis)\n",
      "  File \"/home/dsc/TFM/kschool_masterDS_TFM/env/lib/python3.9/site-packages/pandas/core/indexing.py\", line 1052, in _getitem_iterable\n",
      "    keyarr, indexer = self._get_listlike_indexer(key, axis, raise_missing=False)\n",
      "  File \"/home/dsc/TFM/kschool_masterDS_TFM/env/lib/python3.9/site-packages/pandas/core/indexing.py\", line 1265, in _get_listlike_indexer\n",
      "    self._validate_read_indexer(keyarr, indexer, axis, raise_missing=raise_missing)\n",
      "  File \"/home/dsc/TFM/kschool_masterDS_TFM/env/lib/python3.9/site-packages/pandas/core/indexing.py\", line 1320, in _validate_read_indexer\n",
      "    raise KeyError(\n",
      "KeyError: \"Passing list-likes to .loc or [] with any missing labels is no longer supported. The following labels were missing: Int64Index([2853070, 2853074, 2853080, 2853081, 2853088,\\n            ...\\n            2902180, 2902182, 2902614, 2902615, 2902618],\\n           dtype='int64', length=467). See https://pandas.pydata.org/pandas-docs/stable/user_guide/indexing.html#deprecate-loc-reindex-listlike\"\n",
      "\n",
      "  warnings.warn(\"Estimator fit failed. The score on this train-test\"\n",
      "/home/dsc/TFM/kschool_masterDS_TFM/env/lib/python3.9/site-packages/category_encoders/utils.py:21: FutureWarning: is_categorical is deprecated and will be removed in a future version.  Use is_categorical_dtype instead\n",
      "  elif pd.api.types.is_categorical(cols):\n",
      "/home/dsc/TFM/kschool_masterDS_TFM/env/lib/python3.9/site-packages/sklearn/utils/validation.py:67: FutureWarning: Pass classifier=True as keyword args. From version 0.25 passing these as positional arguments will result in an error\n",
      "  warnings.warn(\"Pass {} as keyword args. From version 0.25 \"\n",
      "/home/dsc/TFM/kschool_masterDS_TFM/env/lib/python3.9/site-packages/sklearn/model_selection/_validation.py:548: FitFailedWarning: Estimator fit failed. The score on this train-test partition for these parameters will be set to nan. Details: \n",
      "Traceback (most recent call last):\n",
      "  File \"/home/dsc/TFM/kschool_masterDS_TFM/env/lib/python3.9/site-packages/sklearn/model_selection/_validation.py\", line 531, in _fit_and_score\n",
      "    estimator.fit(X_train, y_train, **fit_params)\n",
      "  File \"/home/dsc/TFM/kschool_masterDS_TFM/env/lib/python3.9/site-packages/sklearn/pipeline.py\", line 330, in fit\n",
      "    Xt = self._fit(X, y, **fit_params_steps)\n",
      "  File \"/home/dsc/TFM/kschool_masterDS_TFM/env/lib/python3.9/site-packages/sklearn/pipeline.py\", line 292, in _fit\n",
      "    X, fitted_transformer = fit_transform_one_cached(\n",
      "  File \"/home/dsc/TFM/kschool_masterDS_TFM/env/lib/python3.9/site-packages/joblib/memory.py\", line 352, in __call__\n",
      "    return self.func(*args, **kwargs)\n",
      "  File \"/home/dsc/TFM/kschool_masterDS_TFM/env/lib/python3.9/site-packages/sklearn/pipeline.py\", line 740, in _fit_transform_one\n",
      "    res = transformer.fit_transform(X, y, **fit_params)\n",
      "  File \"/home/dsc/TFM/kschool_masterDS_TFM/env/lib/python3.9/site-packages/sklearn/base.py\", line 693, in fit_transform\n",
      "    return self.fit(X, y, **fit_params).transform(X)\n",
      "  File \"/home/dsc/TFM/kschool_masterDS_TFM/env/lib/python3.9/site-packages/sklearn/feature_selection/_from_model.py\", line 224, in fit\n",
      "    self.estimator_.fit(X, y, **fit_params)\n",
      "  File \"/home/dsc/TFM/kschool_masterDS_TFM/env/lib/python3.9/site-packages/eli5/sklearn/permutation_importance.py\", line 202, in fit\n",
      "    si = self._cv_scores_importances(X, y, groups=groups, **fit_params)\n",
      "  File \"/home/dsc/TFM/kschool_masterDS_TFM/env/lib/python3.9/site-packages/eli5/sklearn/permutation_importance.py\", line 222, in _cv_scores_importances\n",
      "    est = clone(self.estimator).fit(X[train], y[train], **fold_fit_params)\n",
      "  File \"/home/dsc/TFM/kschool_masterDS_TFM/env/lib/python3.9/site-packages/pandas/core/series.py\", line 848, in __getitem__\n",
      "    return self._get_with(key)\n",
      "  File \"/home/dsc/TFM/kschool_masterDS_TFM/env/lib/python3.9/site-packages/pandas/core/series.py\", line 883, in _get_with\n",
      "    return self.loc[key]\n",
      "  File \"/home/dsc/TFM/kschool_masterDS_TFM/env/lib/python3.9/site-packages/pandas/core/indexing.py\", line 894, in __getitem__\n",
      "    return self._getitem_axis(maybe_callable, axis=axis)\n",
      "  File \"/home/dsc/TFM/kschool_masterDS_TFM/env/lib/python3.9/site-packages/pandas/core/indexing.py\", line 1112, in _getitem_axis\n",
      "    return self._getitem_iterable(key, axis=axis)\n",
      "  File \"/home/dsc/TFM/kschool_masterDS_TFM/env/lib/python3.9/site-packages/pandas/core/indexing.py\", line 1052, in _getitem_iterable\n",
      "    keyarr, indexer = self._get_listlike_indexer(key, axis, raise_missing=False)\n",
      "  File \"/home/dsc/TFM/kschool_masterDS_TFM/env/lib/python3.9/site-packages/pandas/core/indexing.py\", line 1265, in _get_listlike_indexer\n",
      "    self._validate_read_indexer(keyarr, indexer, axis, raise_missing=raise_missing)\n",
      "  File \"/home/dsc/TFM/kschool_masterDS_TFM/env/lib/python3.9/site-packages/pandas/core/indexing.py\", line 1320, in _validate_read_indexer\n",
      "    raise KeyError(\n",
      "KeyError: \"Passing list-likes to .loc or [] with any missing labels is no longer supported. The following labels were missing: Int64Index([576879, 576880, 576881, 576882, 576883,\\n            ...\\n            726151, 726152, 726153, 726154, 726155],\\n           dtype='int64', length=147097). See https://pandas.pydata.org/pandas-docs/stable/user_guide/indexing.html#deprecate-loc-reindex-listlike\"\n",
      "\n",
      "  warnings.warn(\"Estimator fit failed. The score on this train-test\"\n",
      "/home/dsc/TFM/kschool_masterDS_TFM/env/lib/python3.9/site-packages/category_encoders/utils.py:21: FutureWarning: is_categorical is deprecated and will be removed in a future version.  Use is_categorical_dtype instead\n",
      "  elif pd.api.types.is_categorical(cols):\n",
      "/home/dsc/TFM/kschool_masterDS_TFM/env/lib/python3.9/site-packages/sklearn/utils/validation.py:67: FutureWarning: Pass classifier=True as keyword args. From version 0.25 passing these as positional arguments will result in an error\n",
      "  warnings.warn(\"Pass {} as keyword args. From version 0.25 \"\n",
      "/home/dsc/TFM/kschool_masterDS_TFM/env/lib/python3.9/site-packages/sklearn/model_selection/_validation.py:548: FitFailedWarning: Estimator fit failed. The score on this train-test partition for these parameters will be set to nan. Details: \n",
      "Traceback (most recent call last):\n",
      "  File \"/home/dsc/TFM/kschool_masterDS_TFM/env/lib/python3.9/site-packages/sklearn/model_selection/_validation.py\", line 531, in _fit_and_score\n",
      "    estimator.fit(X_train, y_train, **fit_params)\n",
      "  File \"/home/dsc/TFM/kschool_masterDS_TFM/env/lib/python3.9/site-packages/sklearn/pipeline.py\", line 330, in fit\n",
      "    Xt = self._fit(X, y, **fit_params_steps)\n",
      "  File \"/home/dsc/TFM/kschool_masterDS_TFM/env/lib/python3.9/site-packages/sklearn/pipeline.py\", line 292, in _fit\n",
      "    X, fitted_transformer = fit_transform_one_cached(\n",
      "  File \"/home/dsc/TFM/kschool_masterDS_TFM/env/lib/python3.9/site-packages/joblib/memory.py\", line 352, in __call__\n",
      "    return self.func(*args, **kwargs)\n",
      "  File \"/home/dsc/TFM/kschool_masterDS_TFM/env/lib/python3.9/site-packages/sklearn/pipeline.py\", line 740, in _fit_transform_one\n",
      "    res = transformer.fit_transform(X, y, **fit_params)\n",
      "  File \"/home/dsc/TFM/kschool_masterDS_TFM/env/lib/python3.9/site-packages/sklearn/base.py\", line 693, in fit_transform\n",
      "    return self.fit(X, y, **fit_params).transform(X)\n",
      "  File \"/home/dsc/TFM/kschool_masterDS_TFM/env/lib/python3.9/site-packages/sklearn/feature_selection/_from_model.py\", line 224, in fit\n",
      "    self.estimator_.fit(X, y, **fit_params)\n",
      "  File \"/home/dsc/TFM/kschool_masterDS_TFM/env/lib/python3.9/site-packages/eli5/sklearn/permutation_importance.py\", line 202, in fit\n",
      "    si = self._cv_scores_importances(X, y, groups=groups, **fit_params)\n",
      "  File \"/home/dsc/TFM/kschool_masterDS_TFM/env/lib/python3.9/site-packages/eli5/sklearn/permutation_importance.py\", line 222, in _cv_scores_importances\n",
      "    est = clone(self.estimator).fit(X[train], y[train], **fold_fit_params)\n",
      "  File \"/home/dsc/TFM/kschool_masterDS_TFM/env/lib/python3.9/site-packages/pandas/core/series.py\", line 848, in __getitem__\n",
      "    return self._get_with(key)\n",
      "  File \"/home/dsc/TFM/kschool_masterDS_TFM/env/lib/python3.9/site-packages/pandas/core/series.py\", line 883, in _get_with\n",
      "    return self.loc[key]\n",
      "  File \"/home/dsc/TFM/kschool_masterDS_TFM/env/lib/python3.9/site-packages/pandas/core/indexing.py\", line 894, in __getitem__\n",
      "    return self._getitem_axis(maybe_callable, axis=axis)\n",
      "  File \"/home/dsc/TFM/kschool_masterDS_TFM/env/lib/python3.9/site-packages/pandas/core/indexing.py\", line 1112, in _getitem_axis\n",
      "    return self._getitem_iterable(key, axis=axis)\n",
      "  File \"/home/dsc/TFM/kschool_masterDS_TFM/env/lib/python3.9/site-packages/pandas/core/indexing.py\", line 1052, in _getitem_iterable\n",
      "    keyarr, indexer = self._get_listlike_indexer(key, axis, raise_missing=False)\n",
      "  File \"/home/dsc/TFM/kschool_masterDS_TFM/env/lib/python3.9/site-packages/pandas/core/indexing.py\", line 1265, in _get_listlike_indexer\n",
      "    self._validate_read_indexer(keyarr, indexer, axis, raise_missing=raise_missing)\n",
      "  File \"/home/dsc/TFM/kschool_masterDS_TFM/env/lib/python3.9/site-packages/pandas/core/indexing.py\", line 1320, in _validate_read_indexer\n",
      "    raise KeyError(\n",
      "KeyError: \"Passing list-likes to .loc or [] with any missing labels is no longer supported. The following labels were missing: Int64Index([ 589197,  589293,  589737,  589738,  589739,\\n            ...\\n            1675414, 1675424, 1675428, 1675433, 1675445],\\n           dtype='int64', length=725486). See https://pandas.pydata.org/pandas-docs/stable/user_guide/indexing.html#deprecate-loc-reindex-listlike\"\n",
      "\n",
      "  warnings.warn(\"Estimator fit failed. The score on this train-test\"\n",
      "/home/dsc/TFM/kschool_masterDS_TFM/env/lib/python3.9/site-packages/category_encoders/utils.py:21: FutureWarning: is_categorical is deprecated and will be removed in a future version.  Use is_categorical_dtype instead\n",
      "  elif pd.api.types.is_categorical(cols):\n",
      "/home/dsc/TFM/kschool_masterDS_TFM/env/lib/python3.9/site-packages/sklearn/utils/validation.py:67: FutureWarning: Pass classifier=True as keyword args. From version 0.25 passing these as positional arguments will result in an error\n",
      "  warnings.warn(\"Pass {} as keyword args. From version 0.25 \"\n",
      "/home/dsc/TFM/kschool_masterDS_TFM/env/lib/python3.9/site-packages/sklearn/model_selection/_validation.py:548: FitFailedWarning: Estimator fit failed. The score on this train-test partition for these parameters will be set to nan. Details: \n",
      "Traceback (most recent call last):\n",
      "  File \"/home/dsc/TFM/kschool_masterDS_TFM/env/lib/python3.9/site-packages/sklearn/model_selection/_validation.py\", line 531, in _fit_and_score\n",
      "    estimator.fit(X_train, y_train, **fit_params)\n",
      "  File \"/home/dsc/TFM/kschool_masterDS_TFM/env/lib/python3.9/site-packages/sklearn/pipeline.py\", line 330, in fit\n",
      "    Xt = self._fit(X, y, **fit_params_steps)\n",
      "  File \"/home/dsc/TFM/kschool_masterDS_TFM/env/lib/python3.9/site-packages/sklearn/pipeline.py\", line 292, in _fit\n",
      "    X, fitted_transformer = fit_transform_one_cached(\n",
      "  File \"/home/dsc/TFM/kschool_masterDS_TFM/env/lib/python3.9/site-packages/joblib/memory.py\", line 352, in __call__\n",
      "    return self.func(*args, **kwargs)\n",
      "  File \"/home/dsc/TFM/kschool_masterDS_TFM/env/lib/python3.9/site-packages/sklearn/pipeline.py\", line 740, in _fit_transform_one\n",
      "    res = transformer.fit_transform(X, y, **fit_params)\n",
      "  File \"/home/dsc/TFM/kschool_masterDS_TFM/env/lib/python3.9/site-packages/sklearn/base.py\", line 693, in fit_transform\n",
      "    return self.fit(X, y, **fit_params).transform(X)\n",
      "  File \"/home/dsc/TFM/kschool_masterDS_TFM/env/lib/python3.9/site-packages/sklearn/feature_selection/_from_model.py\", line 224, in fit\n",
      "    self.estimator_.fit(X, y, **fit_params)\n",
      "  File \"/home/dsc/TFM/kschool_masterDS_TFM/env/lib/python3.9/site-packages/eli5/sklearn/permutation_importance.py\", line 202, in fit\n",
      "    si = self._cv_scores_importances(X, y, groups=groups, **fit_params)\n",
      "  File \"/home/dsc/TFM/kschool_masterDS_TFM/env/lib/python3.9/site-packages/eli5/sklearn/permutation_importance.py\", line 222, in _cv_scores_importances\n",
      "    est = clone(self.estimator).fit(X[train], y[train], **fold_fit_params)\n",
      "  File \"/home/dsc/TFM/kschool_masterDS_TFM/env/lib/python3.9/site-packages/pandas/core/series.py\", line 848, in __getitem__\n",
      "    return self._get_with(key)\n",
      "  File \"/home/dsc/TFM/kschool_masterDS_TFM/env/lib/python3.9/site-packages/pandas/core/series.py\", line 883, in _get_with\n",
      "    return self.loc[key]\n",
      "  File \"/home/dsc/TFM/kschool_masterDS_TFM/env/lib/python3.9/site-packages/pandas/core/indexing.py\", line 894, in __getitem__\n",
      "    return self._getitem_axis(maybe_callable, axis=axis)\n",
      "  File \"/home/dsc/TFM/kschool_masterDS_TFM/env/lib/python3.9/site-packages/pandas/core/indexing.py\", line 1112, in _getitem_axis\n",
      "    return self._getitem_iterable(key, axis=axis)\n",
      "  File \"/home/dsc/TFM/kschool_masterDS_TFM/env/lib/python3.9/site-packages/pandas/core/indexing.py\", line 1052, in _getitem_iterable\n",
      "    keyarr, indexer = self._get_listlike_indexer(key, axis, raise_missing=False)\n",
      "  File \"/home/dsc/TFM/kschool_masterDS_TFM/env/lib/python3.9/site-packages/pandas/core/indexing.py\", line 1265, in _get_listlike_indexer\n",
      "    self._validate_read_indexer(keyarr, indexer, axis, raise_missing=raise_missing)\n",
      "  File \"/home/dsc/TFM/kschool_masterDS_TFM/env/lib/python3.9/site-packages/pandas/core/indexing.py\", line 1320, in _validate_read_indexer\n",
      "    raise KeyError(\n",
      "KeyError: \"Passing list-likes to .loc or [] with any missing labels is no longer supported. The following labels were missing: Int64Index([1447731, 1447732, 1447733, 1447734, 1447735,\\n            ...\\n            2178772, 2178773, 2178774, 2178775, 2178776],\\n           dtype='int64', length=725659). See https://pandas.pydata.org/pandas-docs/stable/user_guide/indexing.html#deprecate-loc-reindex-listlike\"\n",
      "\n",
      "  warnings.warn(\"Estimator fit failed. The score on this train-test\"\n",
      "/home/dsc/TFM/kschool_masterDS_TFM/env/lib/python3.9/site-packages/category_encoders/utils.py:21: FutureWarning: is_categorical is deprecated and will be removed in a future version.  Use is_categorical_dtype instead\n",
      "  elif pd.api.types.is_categorical(cols):\n",
      "/home/dsc/TFM/kschool_masterDS_TFM/env/lib/python3.9/site-packages/sklearn/utils/validation.py:67: FutureWarning: Pass classifier=True as keyword args. From version 0.25 passing these as positional arguments will result in an error\n",
      "  warnings.warn(\"Pass {} as keyword args. From version 0.25 \"\n",
      "/home/dsc/TFM/kschool_masterDS_TFM/env/lib/python3.9/site-packages/sklearn/model_selection/_validation.py:548: FitFailedWarning: Estimator fit failed. The score on this train-test partition for these parameters will be set to nan. Details: \n",
      "Traceback (most recent call last):\n",
      "  File \"/home/dsc/TFM/kschool_masterDS_TFM/env/lib/python3.9/site-packages/sklearn/model_selection/_validation.py\", line 531, in _fit_and_score\n",
      "    estimator.fit(X_train, y_train, **fit_params)\n",
      "  File \"/home/dsc/TFM/kschool_masterDS_TFM/env/lib/python3.9/site-packages/sklearn/pipeline.py\", line 330, in fit\n",
      "    Xt = self._fit(X, y, **fit_params_steps)\n",
      "  File \"/home/dsc/TFM/kschool_masterDS_TFM/env/lib/python3.9/site-packages/sklearn/pipeline.py\", line 292, in _fit\n",
      "    X, fitted_transformer = fit_transform_one_cached(\n",
      "  File \"/home/dsc/TFM/kschool_masterDS_TFM/env/lib/python3.9/site-packages/joblib/memory.py\", line 352, in __call__\n",
      "    return self.func(*args, **kwargs)\n",
      "  File \"/home/dsc/TFM/kschool_masterDS_TFM/env/lib/python3.9/site-packages/sklearn/pipeline.py\", line 740, in _fit_transform_one\n",
      "    res = transformer.fit_transform(X, y, **fit_params)\n",
      "  File \"/home/dsc/TFM/kschool_masterDS_TFM/env/lib/python3.9/site-packages/sklearn/base.py\", line 693, in fit_transform\n",
      "    return self.fit(X, y, **fit_params).transform(X)\n",
      "  File \"/home/dsc/TFM/kschool_masterDS_TFM/env/lib/python3.9/site-packages/sklearn/feature_selection/_from_model.py\", line 224, in fit\n",
      "    self.estimator_.fit(X, y, **fit_params)\n",
      "  File \"/home/dsc/TFM/kschool_masterDS_TFM/env/lib/python3.9/site-packages/eli5/sklearn/permutation_importance.py\", line 202, in fit\n",
      "    si = self._cv_scores_importances(X, y, groups=groups, **fit_params)\n",
      "  File \"/home/dsc/TFM/kschool_masterDS_TFM/env/lib/python3.9/site-packages/eli5/sklearn/permutation_importance.py\", line 222, in _cv_scores_importances\n",
      "    est = clone(self.estimator).fit(X[train], y[train], **fold_fit_params)\n",
      "  File \"/home/dsc/TFM/kschool_masterDS_TFM/env/lib/python3.9/site-packages/pandas/core/series.py\", line 848, in __getitem__\n",
      "    return self._get_with(key)\n",
      "  File \"/home/dsc/TFM/kschool_masterDS_TFM/env/lib/python3.9/site-packages/pandas/core/series.py\", line 883, in _get_with\n",
      "    return self.loc[key]\n",
      "  File \"/home/dsc/TFM/kschool_masterDS_TFM/env/lib/python3.9/site-packages/pandas/core/indexing.py\", line 894, in __getitem__\n",
      "    return self._getitem_axis(maybe_callable, axis=axis)\n",
      "  File \"/home/dsc/TFM/kschool_masterDS_TFM/env/lib/python3.9/site-packages/pandas/core/indexing.py\", line 1112, in _getitem_axis\n",
      "    return self._getitem_iterable(key, axis=axis)\n",
      "  File \"/home/dsc/TFM/kschool_masterDS_TFM/env/lib/python3.9/site-packages/pandas/core/indexing.py\", line 1052, in _getitem_iterable\n",
      "    keyarr, indexer = self._get_listlike_indexer(key, axis, raise_missing=False)\n",
      "  File \"/home/dsc/TFM/kschool_masterDS_TFM/env/lib/python3.9/site-packages/pandas/core/indexing.py\", line 1265, in _get_listlike_indexer\n",
      "    self._validate_read_indexer(keyarr, indexer, axis, raise_missing=raise_missing)\n",
      "  File \"/home/dsc/TFM/kschool_masterDS_TFM/env/lib/python3.9/site-packages/pandas/core/indexing.py\", line 1320, in _validate_read_indexer\n",
      "    raise KeyError(\n",
      "KeyError: \"Passing list-likes to .loc or [] with any missing labels is no longer supported. The following labels were missing: Int64Index([2072521, 2072735, 2072850, 2072889, 2072894,\\n            ...\\n            2902630, 2902631, 2902632, 2902633, 2902634],\\n           dtype='int64', length=725191). See https://pandas.pydata.org/pandas-docs/stable/user_guide/indexing.html#deprecate-loc-reindex-listlike\"\n",
      "\n",
      "  warnings.warn(\"Estimator fit failed. The score on this train-test\"\n",
      "/home/dsc/TFM/kschool_masterDS_TFM/env/lib/python3.9/site-packages/category_encoders/utils.py:21: FutureWarning: is_categorical is deprecated and will be removed in a future version.  Use is_categorical_dtype instead\n",
      "  elif pd.api.types.is_categorical(cols):\n",
      "/home/dsc/TFM/kschool_masterDS_TFM/env/lib/python3.9/site-packages/sklearn/utils/validation.py:67: FutureWarning: Pass classifier=True as keyword args. From version 0.25 passing these as positional arguments will result in an error\n",
      "  warnings.warn(\"Pass {} as keyword args. From version 0.25 \"\n",
      "/home/dsc/TFM/kschool_masterDS_TFM/env/lib/python3.9/site-packages/sklearn/model_selection/_validation.py:548: FitFailedWarning: Estimator fit failed. The score on this train-test partition for these parameters will be set to nan. Details: \n",
      "Traceback (most recent call last):\n",
      "  File \"/home/dsc/TFM/kschool_masterDS_TFM/env/lib/python3.9/site-packages/sklearn/model_selection/_validation.py\", line 531, in _fit_and_score\n",
      "    estimator.fit(X_train, y_train, **fit_params)\n",
      "  File \"/home/dsc/TFM/kschool_masterDS_TFM/env/lib/python3.9/site-packages/sklearn/pipeline.py\", line 330, in fit\n",
      "    Xt = self._fit(X, y, **fit_params_steps)\n",
      "  File \"/home/dsc/TFM/kschool_masterDS_TFM/env/lib/python3.9/site-packages/sklearn/pipeline.py\", line 292, in _fit\n",
      "    X, fitted_transformer = fit_transform_one_cached(\n",
      "  File \"/home/dsc/TFM/kschool_masterDS_TFM/env/lib/python3.9/site-packages/joblib/memory.py\", line 352, in __call__\n",
      "    return self.func(*args, **kwargs)\n",
      "  File \"/home/dsc/TFM/kschool_masterDS_TFM/env/lib/python3.9/site-packages/sklearn/pipeline.py\", line 740, in _fit_transform_one\n",
      "    res = transformer.fit_transform(X, y, **fit_params)\n",
      "  File \"/home/dsc/TFM/kschool_masterDS_TFM/env/lib/python3.9/site-packages/sklearn/base.py\", line 693, in fit_transform\n",
      "    return self.fit(X, y, **fit_params).transform(X)\n",
      "  File \"/home/dsc/TFM/kschool_masterDS_TFM/env/lib/python3.9/site-packages/sklearn/feature_selection/_from_model.py\", line 224, in fit\n",
      "    self.estimator_.fit(X, y, **fit_params)\n",
      "  File \"/home/dsc/TFM/kschool_masterDS_TFM/env/lib/python3.9/site-packages/eli5/sklearn/permutation_importance.py\", line 202, in fit\n",
      "    si = self._cv_scores_importances(X, y, groups=groups, **fit_params)\n",
      "  File \"/home/dsc/TFM/kschool_masterDS_TFM/env/lib/python3.9/site-packages/eli5/sklearn/permutation_importance.py\", line 222, in _cv_scores_importances\n",
      "    est = clone(self.estimator).fit(X[train], y[train], **fold_fit_params)\n",
      "  File \"/home/dsc/TFM/kschool_masterDS_TFM/env/lib/python3.9/site-packages/pandas/core/series.py\", line 848, in __getitem__\n",
      "    return self._get_with(key)\n",
      "  File \"/home/dsc/TFM/kschool_masterDS_TFM/env/lib/python3.9/site-packages/pandas/core/series.py\", line 883, in _get_with\n",
      "    return self.loc[key]\n",
      "  File \"/home/dsc/TFM/kschool_masterDS_TFM/env/lib/python3.9/site-packages/pandas/core/indexing.py\", line 894, in __getitem__\n",
      "    return self._getitem_axis(maybe_callable, axis=axis)\n",
      "  File \"/home/dsc/TFM/kschool_masterDS_TFM/env/lib/python3.9/site-packages/pandas/core/indexing.py\", line 1112, in _getitem_axis\n",
      "    return self._getitem_iterable(key, axis=axis)\n",
      "  File \"/home/dsc/TFM/kschool_masterDS_TFM/env/lib/python3.9/site-packages/pandas/core/indexing.py\", line 1052, in _getitem_iterable\n",
      "    keyarr, indexer = self._get_listlike_indexer(key, axis, raise_missing=False)\n",
      "  File \"/home/dsc/TFM/kschool_masterDS_TFM/env/lib/python3.9/site-packages/pandas/core/indexing.py\", line 1265, in _get_listlike_indexer\n",
      "    self._validate_read_indexer(keyarr, indexer, axis, raise_missing=raise_missing)\n",
      "  File \"/home/dsc/TFM/kschool_masterDS_TFM/env/lib/python3.9/site-packages/pandas/core/indexing.py\", line 1320, in _validate_read_indexer\n",
      "    raise KeyError(\n",
      "KeyError: \"Passing list-likes to .loc or [] with any missing labels is no longer supported. The following labels were missing: Int64Index([2853070, 2853074, 2853080, 2853081, 2853088,\\n            ...\\n            2902180, 2902182, 2902614, 2902615, 2902618],\\n           dtype='int64', length=467). See https://pandas.pydata.org/pandas-docs/stable/user_guide/indexing.html#deprecate-loc-reindex-listlike\"\n",
      "\n",
      "  warnings.warn(\"Estimator fit failed. The score on this train-test\"\n",
      "/home/dsc/TFM/kschool_masterDS_TFM/env/lib/python3.9/site-packages/category_encoders/utils.py:21: FutureWarning: is_categorical is deprecated and will be removed in a future version.  Use is_categorical_dtype instead\n",
      "  elif pd.api.types.is_categorical(cols):\n",
      "/home/dsc/TFM/kschool_masterDS_TFM/env/lib/python3.9/site-packages/sklearn/utils/validation.py:67: FutureWarning: Pass classifier=True as keyword args. From version 0.25 passing these as positional arguments will result in an error\n",
      "  warnings.warn(\"Pass {} as keyword args. From version 0.25 \"\n",
      "/home/dsc/TFM/kschool_masterDS_TFM/env/lib/python3.9/site-packages/sklearn/model_selection/_validation.py:548: FitFailedWarning: Estimator fit failed. The score on this train-test partition for these parameters will be set to nan. Details: \n",
      "Traceback (most recent call last):\n",
      "  File \"/home/dsc/TFM/kschool_masterDS_TFM/env/lib/python3.9/site-packages/sklearn/model_selection/_validation.py\", line 531, in _fit_and_score\n",
      "    estimator.fit(X_train, y_train, **fit_params)\n",
      "  File \"/home/dsc/TFM/kschool_masterDS_TFM/env/lib/python3.9/site-packages/sklearn/pipeline.py\", line 330, in fit\n",
      "    Xt = self._fit(X, y, **fit_params_steps)\n",
      "  File \"/home/dsc/TFM/kschool_masterDS_TFM/env/lib/python3.9/site-packages/sklearn/pipeline.py\", line 292, in _fit\n",
      "    X, fitted_transformer = fit_transform_one_cached(\n",
      "  File \"/home/dsc/TFM/kschool_masterDS_TFM/env/lib/python3.9/site-packages/joblib/memory.py\", line 352, in __call__\n",
      "    return self.func(*args, **kwargs)\n",
      "  File \"/home/dsc/TFM/kschool_masterDS_TFM/env/lib/python3.9/site-packages/sklearn/pipeline.py\", line 740, in _fit_transform_one\n",
      "    res = transformer.fit_transform(X, y, **fit_params)\n",
      "  File \"/home/dsc/TFM/kschool_masterDS_TFM/env/lib/python3.9/site-packages/sklearn/base.py\", line 693, in fit_transform\n",
      "    return self.fit(X, y, **fit_params).transform(X)\n",
      "  File \"/home/dsc/TFM/kschool_masterDS_TFM/env/lib/python3.9/site-packages/sklearn/feature_selection/_from_model.py\", line 224, in fit\n",
      "    self.estimator_.fit(X, y, **fit_params)\n",
      "  File \"/home/dsc/TFM/kschool_masterDS_TFM/env/lib/python3.9/site-packages/eli5/sklearn/permutation_importance.py\", line 202, in fit\n",
      "    si = self._cv_scores_importances(X, y, groups=groups, **fit_params)\n",
      "  File \"/home/dsc/TFM/kschool_masterDS_TFM/env/lib/python3.9/site-packages/eli5/sklearn/permutation_importance.py\", line 222, in _cv_scores_importances\n",
      "    est = clone(self.estimator).fit(X[train], y[train], **fold_fit_params)\n",
      "  File \"/home/dsc/TFM/kschool_masterDS_TFM/env/lib/python3.9/site-packages/pandas/core/series.py\", line 848, in __getitem__\n",
      "    return self._get_with(key)\n",
      "  File \"/home/dsc/TFM/kschool_masterDS_TFM/env/lib/python3.9/site-packages/pandas/core/series.py\", line 883, in _get_with\n",
      "    return self.loc[key]\n",
      "  File \"/home/dsc/TFM/kschool_masterDS_TFM/env/lib/python3.9/site-packages/pandas/core/indexing.py\", line 894, in __getitem__\n",
      "    return self._getitem_axis(maybe_callable, axis=axis)\n",
      "  File \"/home/dsc/TFM/kschool_masterDS_TFM/env/lib/python3.9/site-packages/pandas/core/indexing.py\", line 1112, in _getitem_axis\n",
      "    return self._getitem_iterable(key, axis=axis)\n",
      "  File \"/home/dsc/TFM/kschool_masterDS_TFM/env/lib/python3.9/site-packages/pandas/core/indexing.py\", line 1052, in _getitem_iterable\n",
      "    keyarr, indexer = self._get_listlike_indexer(key, axis, raise_missing=False)\n",
      "  File \"/home/dsc/TFM/kschool_masterDS_TFM/env/lib/python3.9/site-packages/pandas/core/indexing.py\", line 1265, in _get_listlike_indexer\n",
      "    self._validate_read_indexer(keyarr, indexer, axis, raise_missing=raise_missing)\n",
      "  File \"/home/dsc/TFM/kschool_masterDS_TFM/env/lib/python3.9/site-packages/pandas/core/indexing.py\", line 1320, in _validate_read_indexer\n",
      "    raise KeyError(\n",
      "KeyError: \"Passing list-likes to .loc or [] with any missing labels is no longer supported. The following labels were missing: Int64Index([576879, 576880, 576881, 576882, 576883,\\n            ...\\n            726151, 726152, 726153, 726154, 726155],\\n           dtype='int64', length=147097). See https://pandas.pydata.org/pandas-docs/stable/user_guide/indexing.html#deprecate-loc-reindex-listlike\"\n",
      "\n",
      "  warnings.warn(\"Estimator fit failed. The score on this train-test\"\n",
      "/home/dsc/TFM/kschool_masterDS_TFM/env/lib/python3.9/site-packages/category_encoders/utils.py:21: FutureWarning: is_categorical is deprecated and will be removed in a future version.  Use is_categorical_dtype instead\n",
      "  elif pd.api.types.is_categorical(cols):\n",
      "/home/dsc/TFM/kschool_masterDS_TFM/env/lib/python3.9/site-packages/sklearn/utils/validation.py:67: FutureWarning: Pass classifier=True as keyword args. From version 0.25 passing these as positional arguments will result in an error\n",
      "  warnings.warn(\"Pass {} as keyword args. From version 0.25 \"\n",
      "/home/dsc/TFM/kschool_masterDS_TFM/env/lib/python3.9/site-packages/sklearn/model_selection/_validation.py:548: FitFailedWarning: Estimator fit failed. The score on this train-test partition for these parameters will be set to nan. Details: \n",
      "Traceback (most recent call last):\n",
      "  File \"/home/dsc/TFM/kschool_masterDS_TFM/env/lib/python3.9/site-packages/sklearn/model_selection/_validation.py\", line 531, in _fit_and_score\n",
      "    estimator.fit(X_train, y_train, **fit_params)\n",
      "  File \"/home/dsc/TFM/kschool_masterDS_TFM/env/lib/python3.9/site-packages/sklearn/pipeline.py\", line 330, in fit\n",
      "    Xt = self._fit(X, y, **fit_params_steps)\n",
      "  File \"/home/dsc/TFM/kschool_masterDS_TFM/env/lib/python3.9/site-packages/sklearn/pipeline.py\", line 292, in _fit\n",
      "    X, fitted_transformer = fit_transform_one_cached(\n",
      "  File \"/home/dsc/TFM/kschool_masterDS_TFM/env/lib/python3.9/site-packages/joblib/memory.py\", line 352, in __call__\n",
      "    return self.func(*args, **kwargs)\n",
      "  File \"/home/dsc/TFM/kschool_masterDS_TFM/env/lib/python3.9/site-packages/sklearn/pipeline.py\", line 740, in _fit_transform_one\n",
      "    res = transformer.fit_transform(X, y, **fit_params)\n",
      "  File \"/home/dsc/TFM/kschool_masterDS_TFM/env/lib/python3.9/site-packages/sklearn/base.py\", line 693, in fit_transform\n",
      "    return self.fit(X, y, **fit_params).transform(X)\n",
      "  File \"/home/dsc/TFM/kschool_masterDS_TFM/env/lib/python3.9/site-packages/sklearn/feature_selection/_from_model.py\", line 224, in fit\n",
      "    self.estimator_.fit(X, y, **fit_params)\n",
      "  File \"/home/dsc/TFM/kschool_masterDS_TFM/env/lib/python3.9/site-packages/eli5/sklearn/permutation_importance.py\", line 202, in fit\n",
      "    si = self._cv_scores_importances(X, y, groups=groups, **fit_params)\n",
      "  File \"/home/dsc/TFM/kschool_masterDS_TFM/env/lib/python3.9/site-packages/eli5/sklearn/permutation_importance.py\", line 222, in _cv_scores_importances\n",
      "    est = clone(self.estimator).fit(X[train], y[train], **fold_fit_params)\n",
      "  File \"/home/dsc/TFM/kschool_masterDS_TFM/env/lib/python3.9/site-packages/pandas/core/series.py\", line 848, in __getitem__\n",
      "    return self._get_with(key)\n",
      "  File \"/home/dsc/TFM/kschool_masterDS_TFM/env/lib/python3.9/site-packages/pandas/core/series.py\", line 883, in _get_with\n",
      "    return self.loc[key]\n",
      "  File \"/home/dsc/TFM/kschool_masterDS_TFM/env/lib/python3.9/site-packages/pandas/core/indexing.py\", line 894, in __getitem__\n",
      "    return self._getitem_axis(maybe_callable, axis=axis)\n",
      "  File \"/home/dsc/TFM/kschool_masterDS_TFM/env/lib/python3.9/site-packages/pandas/core/indexing.py\", line 1112, in _getitem_axis\n",
      "    return self._getitem_iterable(key, axis=axis)\n",
      "  File \"/home/dsc/TFM/kschool_masterDS_TFM/env/lib/python3.9/site-packages/pandas/core/indexing.py\", line 1052, in _getitem_iterable\n",
      "    keyarr, indexer = self._get_listlike_indexer(key, axis, raise_missing=False)\n",
      "  File \"/home/dsc/TFM/kschool_masterDS_TFM/env/lib/python3.9/site-packages/pandas/core/indexing.py\", line 1265, in _get_listlike_indexer\n",
      "    self._validate_read_indexer(keyarr, indexer, axis, raise_missing=raise_missing)\n",
      "  File \"/home/dsc/TFM/kschool_masterDS_TFM/env/lib/python3.9/site-packages/pandas/core/indexing.py\", line 1320, in _validate_read_indexer\n",
      "    raise KeyError(\n",
      "KeyError: \"Passing list-likes to .loc or [] with any missing labels is no longer supported. The following labels were missing: Int64Index([ 589197,  589293,  589737,  589738,  589739,\\n            ...\\n            1675414, 1675424, 1675428, 1675433, 1675445],\\n           dtype='int64', length=725486). See https://pandas.pydata.org/pandas-docs/stable/user_guide/indexing.html#deprecate-loc-reindex-listlike\"\n",
      "\n",
      "  warnings.warn(\"Estimator fit failed. The score on this train-test\"\n",
      "/home/dsc/TFM/kschool_masterDS_TFM/env/lib/python3.9/site-packages/category_encoders/utils.py:21: FutureWarning: is_categorical is deprecated and will be removed in a future version.  Use is_categorical_dtype instead\n",
      "  elif pd.api.types.is_categorical(cols):\n",
      "/home/dsc/TFM/kschool_masterDS_TFM/env/lib/python3.9/site-packages/sklearn/utils/validation.py:67: FutureWarning: Pass classifier=True as keyword args. From version 0.25 passing these as positional arguments will result in an error\n",
      "  warnings.warn(\"Pass {} as keyword args. From version 0.25 \"\n",
      "/home/dsc/TFM/kschool_masterDS_TFM/env/lib/python3.9/site-packages/sklearn/model_selection/_validation.py:548: FitFailedWarning: Estimator fit failed. The score on this train-test partition for these parameters will be set to nan. Details: \n",
      "Traceback (most recent call last):\n",
      "  File \"/home/dsc/TFM/kschool_masterDS_TFM/env/lib/python3.9/site-packages/sklearn/model_selection/_validation.py\", line 531, in _fit_and_score\n",
      "    estimator.fit(X_train, y_train, **fit_params)\n",
      "  File \"/home/dsc/TFM/kschool_masterDS_TFM/env/lib/python3.9/site-packages/sklearn/pipeline.py\", line 330, in fit\n",
      "    Xt = self._fit(X, y, **fit_params_steps)\n",
      "  File \"/home/dsc/TFM/kschool_masterDS_TFM/env/lib/python3.9/site-packages/sklearn/pipeline.py\", line 292, in _fit\n",
      "    X, fitted_transformer = fit_transform_one_cached(\n",
      "  File \"/home/dsc/TFM/kschool_masterDS_TFM/env/lib/python3.9/site-packages/joblib/memory.py\", line 352, in __call__\n",
      "    return self.func(*args, **kwargs)\n",
      "  File \"/home/dsc/TFM/kschool_masterDS_TFM/env/lib/python3.9/site-packages/sklearn/pipeline.py\", line 740, in _fit_transform_one\n",
      "    res = transformer.fit_transform(X, y, **fit_params)\n",
      "  File \"/home/dsc/TFM/kschool_masterDS_TFM/env/lib/python3.9/site-packages/sklearn/base.py\", line 693, in fit_transform\n",
      "    return self.fit(X, y, **fit_params).transform(X)\n",
      "  File \"/home/dsc/TFM/kschool_masterDS_TFM/env/lib/python3.9/site-packages/sklearn/feature_selection/_from_model.py\", line 224, in fit\n",
      "    self.estimator_.fit(X, y, **fit_params)\n",
      "  File \"/home/dsc/TFM/kschool_masterDS_TFM/env/lib/python3.9/site-packages/eli5/sklearn/permutation_importance.py\", line 202, in fit\n",
      "    si = self._cv_scores_importances(X, y, groups=groups, **fit_params)\n",
      "  File \"/home/dsc/TFM/kschool_masterDS_TFM/env/lib/python3.9/site-packages/eli5/sklearn/permutation_importance.py\", line 222, in _cv_scores_importances\n",
      "    est = clone(self.estimator).fit(X[train], y[train], **fold_fit_params)\n",
      "  File \"/home/dsc/TFM/kschool_masterDS_TFM/env/lib/python3.9/site-packages/pandas/core/series.py\", line 848, in __getitem__\n",
      "    return self._get_with(key)\n",
      "  File \"/home/dsc/TFM/kschool_masterDS_TFM/env/lib/python3.9/site-packages/pandas/core/series.py\", line 883, in _get_with\n",
      "    return self.loc[key]\n",
      "  File \"/home/dsc/TFM/kschool_masterDS_TFM/env/lib/python3.9/site-packages/pandas/core/indexing.py\", line 894, in __getitem__\n",
      "    return self._getitem_axis(maybe_callable, axis=axis)\n",
      "  File \"/home/dsc/TFM/kschool_masterDS_TFM/env/lib/python3.9/site-packages/pandas/core/indexing.py\", line 1112, in _getitem_axis\n",
      "    return self._getitem_iterable(key, axis=axis)\n",
      "  File \"/home/dsc/TFM/kschool_masterDS_TFM/env/lib/python3.9/site-packages/pandas/core/indexing.py\", line 1052, in _getitem_iterable\n",
      "    keyarr, indexer = self._get_listlike_indexer(key, axis, raise_missing=False)\n",
      "  File \"/home/dsc/TFM/kschool_masterDS_TFM/env/lib/python3.9/site-packages/pandas/core/indexing.py\", line 1265, in _get_listlike_indexer\n",
      "    self._validate_read_indexer(keyarr, indexer, axis, raise_missing=raise_missing)\n",
      "  File \"/home/dsc/TFM/kschool_masterDS_TFM/env/lib/python3.9/site-packages/pandas/core/indexing.py\", line 1320, in _validate_read_indexer\n",
      "    raise KeyError(\n",
      "KeyError: \"Passing list-likes to .loc or [] with any missing labels is no longer supported. The following labels were missing: Int64Index([1447731, 1447732, 1447733, 1447734, 1447735,\\n            ...\\n            2178772, 2178773, 2178774, 2178775, 2178776],\\n           dtype='int64', length=725659). See https://pandas.pydata.org/pandas-docs/stable/user_guide/indexing.html#deprecate-loc-reindex-listlike\"\n",
      "\n",
      "  warnings.warn(\"Estimator fit failed. The score on this train-test\"\n",
      "/home/dsc/TFM/kschool_masterDS_TFM/env/lib/python3.9/site-packages/category_encoders/utils.py:21: FutureWarning: is_categorical is deprecated and will be removed in a future version.  Use is_categorical_dtype instead\n",
      "  elif pd.api.types.is_categorical(cols):\n",
      "/home/dsc/TFM/kschool_masterDS_TFM/env/lib/python3.9/site-packages/sklearn/utils/validation.py:67: FutureWarning: Pass classifier=True as keyword args. From version 0.25 passing these as positional arguments will result in an error\n",
      "  warnings.warn(\"Pass {} as keyword args. From version 0.25 \"\n",
      "/home/dsc/TFM/kschool_masterDS_TFM/env/lib/python3.9/site-packages/sklearn/model_selection/_validation.py:548: FitFailedWarning: Estimator fit failed. The score on this train-test partition for these parameters will be set to nan. Details: \n",
      "Traceback (most recent call last):\n",
      "  File \"/home/dsc/TFM/kschool_masterDS_TFM/env/lib/python3.9/site-packages/sklearn/model_selection/_validation.py\", line 531, in _fit_and_score\n",
      "    estimator.fit(X_train, y_train, **fit_params)\n",
      "  File \"/home/dsc/TFM/kschool_masterDS_TFM/env/lib/python3.9/site-packages/sklearn/pipeline.py\", line 330, in fit\n",
      "    Xt = self._fit(X, y, **fit_params_steps)\n",
      "  File \"/home/dsc/TFM/kschool_masterDS_TFM/env/lib/python3.9/site-packages/sklearn/pipeline.py\", line 292, in _fit\n",
      "    X, fitted_transformer = fit_transform_one_cached(\n",
      "  File \"/home/dsc/TFM/kschool_masterDS_TFM/env/lib/python3.9/site-packages/joblib/memory.py\", line 352, in __call__\n",
      "    return self.func(*args, **kwargs)\n",
      "  File \"/home/dsc/TFM/kschool_masterDS_TFM/env/lib/python3.9/site-packages/sklearn/pipeline.py\", line 740, in _fit_transform_one\n",
      "    res = transformer.fit_transform(X, y, **fit_params)\n",
      "  File \"/home/dsc/TFM/kschool_masterDS_TFM/env/lib/python3.9/site-packages/sklearn/base.py\", line 693, in fit_transform\n",
      "    return self.fit(X, y, **fit_params).transform(X)\n",
      "  File \"/home/dsc/TFM/kschool_masterDS_TFM/env/lib/python3.9/site-packages/sklearn/feature_selection/_from_model.py\", line 224, in fit\n",
      "    self.estimator_.fit(X, y, **fit_params)\n",
      "  File \"/home/dsc/TFM/kschool_masterDS_TFM/env/lib/python3.9/site-packages/eli5/sklearn/permutation_importance.py\", line 202, in fit\n",
      "    si = self._cv_scores_importances(X, y, groups=groups, **fit_params)\n",
      "  File \"/home/dsc/TFM/kschool_masterDS_TFM/env/lib/python3.9/site-packages/eli5/sklearn/permutation_importance.py\", line 222, in _cv_scores_importances\n",
      "    est = clone(self.estimator).fit(X[train], y[train], **fold_fit_params)\n",
      "  File \"/home/dsc/TFM/kschool_masterDS_TFM/env/lib/python3.9/site-packages/pandas/core/series.py\", line 848, in __getitem__\n",
      "    return self._get_with(key)\n",
      "  File \"/home/dsc/TFM/kschool_masterDS_TFM/env/lib/python3.9/site-packages/pandas/core/series.py\", line 883, in _get_with\n",
      "    return self.loc[key]\n",
      "  File \"/home/dsc/TFM/kschool_masterDS_TFM/env/lib/python3.9/site-packages/pandas/core/indexing.py\", line 894, in __getitem__\n",
      "    return self._getitem_axis(maybe_callable, axis=axis)\n",
      "  File \"/home/dsc/TFM/kschool_masterDS_TFM/env/lib/python3.9/site-packages/pandas/core/indexing.py\", line 1112, in _getitem_axis\n",
      "    return self._getitem_iterable(key, axis=axis)\n",
      "  File \"/home/dsc/TFM/kschool_masterDS_TFM/env/lib/python3.9/site-packages/pandas/core/indexing.py\", line 1052, in _getitem_iterable\n",
      "    keyarr, indexer = self._get_listlike_indexer(key, axis, raise_missing=False)\n",
      "  File \"/home/dsc/TFM/kschool_masterDS_TFM/env/lib/python3.9/site-packages/pandas/core/indexing.py\", line 1265, in _get_listlike_indexer\n",
      "    self._validate_read_indexer(keyarr, indexer, axis, raise_missing=raise_missing)\n",
      "  File \"/home/dsc/TFM/kschool_masterDS_TFM/env/lib/python3.9/site-packages/pandas/core/indexing.py\", line 1320, in _validate_read_indexer\n",
      "    raise KeyError(\n",
      "KeyError: \"Passing list-likes to .loc or [] with any missing labels is no longer supported. The following labels were missing: Int64Index([2072521, 2072735, 2072850, 2072889, 2072894,\\n            ...\\n            2902630, 2902631, 2902632, 2902633, 2902634],\\n           dtype='int64', length=725191). See https://pandas.pydata.org/pandas-docs/stable/user_guide/indexing.html#deprecate-loc-reindex-listlike\"\n",
      "\n",
      "  warnings.warn(\"Estimator fit failed. The score on this train-test\"\n",
      "/home/dsc/TFM/kschool_masterDS_TFM/env/lib/python3.9/site-packages/category_encoders/utils.py:21: FutureWarning: is_categorical is deprecated and will be removed in a future version.  Use is_categorical_dtype instead\n",
      "  elif pd.api.types.is_categorical(cols):\n",
      "/home/dsc/TFM/kschool_masterDS_TFM/env/lib/python3.9/site-packages/sklearn/utils/validation.py:67: FutureWarning: Pass classifier=True as keyword args. From version 0.25 passing these as positional arguments will result in an error\n",
      "  warnings.warn(\"Pass {} as keyword args. From version 0.25 \"\n",
      "/home/dsc/TFM/kschool_masterDS_TFM/env/lib/python3.9/site-packages/sklearn/model_selection/_validation.py:548: FitFailedWarning: Estimator fit failed. The score on this train-test partition for these parameters will be set to nan. Details: \n",
      "Traceback (most recent call last):\n",
      "  File \"/home/dsc/TFM/kschool_masterDS_TFM/env/lib/python3.9/site-packages/sklearn/model_selection/_validation.py\", line 531, in _fit_and_score\n",
      "    estimator.fit(X_train, y_train, **fit_params)\n",
      "  File \"/home/dsc/TFM/kschool_masterDS_TFM/env/lib/python3.9/site-packages/sklearn/pipeline.py\", line 330, in fit\n",
      "    Xt = self._fit(X, y, **fit_params_steps)\n",
      "  File \"/home/dsc/TFM/kschool_masterDS_TFM/env/lib/python3.9/site-packages/sklearn/pipeline.py\", line 292, in _fit\n",
      "    X, fitted_transformer = fit_transform_one_cached(\n",
      "  File \"/home/dsc/TFM/kschool_masterDS_TFM/env/lib/python3.9/site-packages/joblib/memory.py\", line 352, in __call__\n",
      "    return self.func(*args, **kwargs)\n",
      "  File \"/home/dsc/TFM/kschool_masterDS_TFM/env/lib/python3.9/site-packages/sklearn/pipeline.py\", line 740, in _fit_transform_one\n",
      "    res = transformer.fit_transform(X, y, **fit_params)\n",
      "  File \"/home/dsc/TFM/kschool_masterDS_TFM/env/lib/python3.9/site-packages/sklearn/base.py\", line 693, in fit_transform\n",
      "    return self.fit(X, y, **fit_params).transform(X)\n",
      "  File \"/home/dsc/TFM/kschool_masterDS_TFM/env/lib/python3.9/site-packages/sklearn/feature_selection/_from_model.py\", line 224, in fit\n",
      "    self.estimator_.fit(X, y, **fit_params)\n",
      "  File \"/home/dsc/TFM/kschool_masterDS_TFM/env/lib/python3.9/site-packages/eli5/sklearn/permutation_importance.py\", line 202, in fit\n",
      "    si = self._cv_scores_importances(X, y, groups=groups, **fit_params)\n",
      "  File \"/home/dsc/TFM/kschool_masterDS_TFM/env/lib/python3.9/site-packages/eli5/sklearn/permutation_importance.py\", line 222, in _cv_scores_importances\n",
      "    est = clone(self.estimator).fit(X[train], y[train], **fold_fit_params)\n",
      "  File \"/home/dsc/TFM/kschool_masterDS_TFM/env/lib/python3.9/site-packages/pandas/core/series.py\", line 848, in __getitem__\n",
      "    return self._get_with(key)\n",
      "  File \"/home/dsc/TFM/kschool_masterDS_TFM/env/lib/python3.9/site-packages/pandas/core/series.py\", line 883, in _get_with\n",
      "    return self.loc[key]\n",
      "  File \"/home/dsc/TFM/kschool_masterDS_TFM/env/lib/python3.9/site-packages/pandas/core/indexing.py\", line 894, in __getitem__\n",
      "    return self._getitem_axis(maybe_callable, axis=axis)\n",
      "  File \"/home/dsc/TFM/kschool_masterDS_TFM/env/lib/python3.9/site-packages/pandas/core/indexing.py\", line 1112, in _getitem_axis\n",
      "    return self._getitem_iterable(key, axis=axis)\n",
      "  File \"/home/dsc/TFM/kschool_masterDS_TFM/env/lib/python3.9/site-packages/pandas/core/indexing.py\", line 1052, in _getitem_iterable\n",
      "    keyarr, indexer = self._get_listlike_indexer(key, axis, raise_missing=False)\n",
      "  File \"/home/dsc/TFM/kschool_masterDS_TFM/env/lib/python3.9/site-packages/pandas/core/indexing.py\", line 1265, in _get_listlike_indexer\n",
      "    self._validate_read_indexer(keyarr, indexer, axis, raise_missing=raise_missing)\n",
      "  File \"/home/dsc/TFM/kschool_masterDS_TFM/env/lib/python3.9/site-packages/pandas/core/indexing.py\", line 1320, in _validate_read_indexer\n",
      "    raise KeyError(\n",
      "KeyError: \"Passing list-likes to .loc or [] with any missing labels is no longer supported. The following labels were missing: Int64Index([2853070, 2853074, 2853080, 2853081, 2853088,\\n            ...\\n            2902180, 2902182, 2902614, 2902615, 2902618],\\n           dtype='int64', length=467). See https://pandas.pydata.org/pandas-docs/stable/user_guide/indexing.html#deprecate-loc-reindex-listlike\"\n",
      "\n",
      "  warnings.warn(\"Estimator fit failed. The score on this train-test\"\n",
      "/home/dsc/TFM/kschool_masterDS_TFM/env/lib/python3.9/site-packages/category_encoders/utils.py:21: FutureWarning: is_categorical is deprecated and will be removed in a future version.  Use is_categorical_dtype instead\n",
      "  elif pd.api.types.is_categorical(cols):\n",
      "/home/dsc/TFM/kschool_masterDS_TFM/env/lib/python3.9/site-packages/sklearn/utils/validation.py:67: FutureWarning: Pass classifier=True as keyword args. From version 0.25 passing these as positional arguments will result in an error\n",
      "  warnings.warn(\"Pass {} as keyword args. From version 0.25 \"\n",
      "/home/dsc/TFM/kschool_masterDS_TFM/env/lib/python3.9/site-packages/sklearn/model_selection/_validation.py:548: FitFailedWarning: Estimator fit failed. The score on this train-test partition for these parameters will be set to nan. Details: \n",
      "Traceback (most recent call last):\n",
      "  File \"/home/dsc/TFM/kschool_masterDS_TFM/env/lib/python3.9/site-packages/sklearn/model_selection/_validation.py\", line 531, in _fit_and_score\n",
      "    estimator.fit(X_train, y_train, **fit_params)\n",
      "  File \"/home/dsc/TFM/kschool_masterDS_TFM/env/lib/python3.9/site-packages/sklearn/pipeline.py\", line 330, in fit\n",
      "    Xt = self._fit(X, y, **fit_params_steps)\n",
      "  File \"/home/dsc/TFM/kschool_masterDS_TFM/env/lib/python3.9/site-packages/sklearn/pipeline.py\", line 292, in _fit\n",
      "    X, fitted_transformer = fit_transform_one_cached(\n",
      "  File \"/home/dsc/TFM/kschool_masterDS_TFM/env/lib/python3.9/site-packages/joblib/memory.py\", line 352, in __call__\n",
      "    return self.func(*args, **kwargs)\n",
      "  File \"/home/dsc/TFM/kschool_masterDS_TFM/env/lib/python3.9/site-packages/sklearn/pipeline.py\", line 740, in _fit_transform_one\n",
      "    res = transformer.fit_transform(X, y, **fit_params)\n",
      "  File \"/home/dsc/TFM/kschool_masterDS_TFM/env/lib/python3.9/site-packages/sklearn/base.py\", line 693, in fit_transform\n",
      "    return self.fit(X, y, **fit_params).transform(X)\n",
      "  File \"/home/dsc/TFM/kschool_masterDS_TFM/env/lib/python3.9/site-packages/sklearn/feature_selection/_from_model.py\", line 224, in fit\n",
      "    self.estimator_.fit(X, y, **fit_params)\n",
      "  File \"/home/dsc/TFM/kschool_masterDS_TFM/env/lib/python3.9/site-packages/eli5/sklearn/permutation_importance.py\", line 202, in fit\n",
      "    si = self._cv_scores_importances(X, y, groups=groups, **fit_params)\n",
      "  File \"/home/dsc/TFM/kschool_masterDS_TFM/env/lib/python3.9/site-packages/eli5/sklearn/permutation_importance.py\", line 222, in _cv_scores_importances\n",
      "    est = clone(self.estimator).fit(X[train], y[train], **fold_fit_params)\n",
      "  File \"/home/dsc/TFM/kschool_masterDS_TFM/env/lib/python3.9/site-packages/pandas/core/series.py\", line 848, in __getitem__\n",
      "    return self._get_with(key)\n",
      "  File \"/home/dsc/TFM/kschool_masterDS_TFM/env/lib/python3.9/site-packages/pandas/core/series.py\", line 883, in _get_with\n",
      "    return self.loc[key]\n",
      "  File \"/home/dsc/TFM/kschool_masterDS_TFM/env/lib/python3.9/site-packages/pandas/core/indexing.py\", line 894, in __getitem__\n",
      "    return self._getitem_axis(maybe_callable, axis=axis)\n",
      "  File \"/home/dsc/TFM/kschool_masterDS_TFM/env/lib/python3.9/site-packages/pandas/core/indexing.py\", line 1112, in _getitem_axis\n",
      "    return self._getitem_iterable(key, axis=axis)\n",
      "  File \"/home/dsc/TFM/kschool_masterDS_TFM/env/lib/python3.9/site-packages/pandas/core/indexing.py\", line 1052, in _getitem_iterable\n",
      "    keyarr, indexer = self._get_listlike_indexer(key, axis, raise_missing=False)\n",
      "  File \"/home/dsc/TFM/kschool_masterDS_TFM/env/lib/python3.9/site-packages/pandas/core/indexing.py\", line 1265, in _get_listlike_indexer\n",
      "    self._validate_read_indexer(keyarr, indexer, axis, raise_missing=raise_missing)\n",
      "  File \"/home/dsc/TFM/kschool_masterDS_TFM/env/lib/python3.9/site-packages/pandas/core/indexing.py\", line 1320, in _validate_read_indexer\n",
      "    raise KeyError(\n",
      "KeyError: \"Passing list-likes to .loc or [] with any missing labels is no longer supported. The following labels were missing: Int64Index([576879, 576880, 576881, 576882, 576883,\\n            ...\\n            726151, 726152, 726153, 726154, 726155],\\n           dtype='int64', length=147097). See https://pandas.pydata.org/pandas-docs/stable/user_guide/indexing.html#deprecate-loc-reindex-listlike\"\n",
      "\n",
      "  warnings.warn(\"Estimator fit failed. The score on this train-test\"\n",
      "/home/dsc/TFM/kschool_masterDS_TFM/env/lib/python3.9/site-packages/category_encoders/utils.py:21: FutureWarning: is_categorical is deprecated and will be removed in a future version.  Use is_categorical_dtype instead\n",
      "  elif pd.api.types.is_categorical(cols):\n",
      "/home/dsc/TFM/kschool_masterDS_TFM/env/lib/python3.9/site-packages/sklearn/utils/validation.py:67: FutureWarning: Pass classifier=True as keyword args. From version 0.25 passing these as positional arguments will result in an error\n",
      "  warnings.warn(\"Pass {} as keyword args. From version 0.25 \"\n",
      "/home/dsc/TFM/kschool_masterDS_TFM/env/lib/python3.9/site-packages/sklearn/model_selection/_validation.py:548: FitFailedWarning: Estimator fit failed. The score on this train-test partition for these parameters will be set to nan. Details: \n",
      "Traceback (most recent call last):\n",
      "  File \"/home/dsc/TFM/kschool_masterDS_TFM/env/lib/python3.9/site-packages/sklearn/model_selection/_validation.py\", line 531, in _fit_and_score\n",
      "    estimator.fit(X_train, y_train, **fit_params)\n",
      "  File \"/home/dsc/TFM/kschool_masterDS_TFM/env/lib/python3.9/site-packages/sklearn/pipeline.py\", line 330, in fit\n",
      "    Xt = self._fit(X, y, **fit_params_steps)\n",
      "  File \"/home/dsc/TFM/kschool_masterDS_TFM/env/lib/python3.9/site-packages/sklearn/pipeline.py\", line 292, in _fit\n",
      "    X, fitted_transformer = fit_transform_one_cached(\n",
      "  File \"/home/dsc/TFM/kschool_masterDS_TFM/env/lib/python3.9/site-packages/joblib/memory.py\", line 352, in __call__\n",
      "    return self.func(*args, **kwargs)\n",
      "  File \"/home/dsc/TFM/kschool_masterDS_TFM/env/lib/python3.9/site-packages/sklearn/pipeline.py\", line 740, in _fit_transform_one\n",
      "    res = transformer.fit_transform(X, y, **fit_params)\n",
      "  File \"/home/dsc/TFM/kschool_masterDS_TFM/env/lib/python3.9/site-packages/sklearn/base.py\", line 693, in fit_transform\n",
      "    return self.fit(X, y, **fit_params).transform(X)\n",
      "  File \"/home/dsc/TFM/kschool_masterDS_TFM/env/lib/python3.9/site-packages/sklearn/feature_selection/_from_model.py\", line 224, in fit\n",
      "    self.estimator_.fit(X, y, **fit_params)\n",
      "  File \"/home/dsc/TFM/kschool_masterDS_TFM/env/lib/python3.9/site-packages/eli5/sklearn/permutation_importance.py\", line 202, in fit\n",
      "    si = self._cv_scores_importances(X, y, groups=groups, **fit_params)\n",
      "  File \"/home/dsc/TFM/kschool_masterDS_TFM/env/lib/python3.9/site-packages/eli5/sklearn/permutation_importance.py\", line 222, in _cv_scores_importances\n",
      "    est = clone(self.estimator).fit(X[train], y[train], **fold_fit_params)\n",
      "  File \"/home/dsc/TFM/kschool_masterDS_TFM/env/lib/python3.9/site-packages/pandas/core/series.py\", line 848, in __getitem__\n",
      "    return self._get_with(key)\n",
      "  File \"/home/dsc/TFM/kschool_masterDS_TFM/env/lib/python3.9/site-packages/pandas/core/series.py\", line 883, in _get_with\n",
      "    return self.loc[key]\n",
      "  File \"/home/dsc/TFM/kschool_masterDS_TFM/env/lib/python3.9/site-packages/pandas/core/indexing.py\", line 894, in __getitem__\n",
      "    return self._getitem_axis(maybe_callable, axis=axis)\n",
      "  File \"/home/dsc/TFM/kschool_masterDS_TFM/env/lib/python3.9/site-packages/pandas/core/indexing.py\", line 1112, in _getitem_axis\n",
      "    return self._getitem_iterable(key, axis=axis)\n",
      "  File \"/home/dsc/TFM/kschool_masterDS_TFM/env/lib/python3.9/site-packages/pandas/core/indexing.py\", line 1052, in _getitem_iterable\n",
      "    keyarr, indexer = self._get_listlike_indexer(key, axis, raise_missing=False)\n",
      "  File \"/home/dsc/TFM/kschool_masterDS_TFM/env/lib/python3.9/site-packages/pandas/core/indexing.py\", line 1265, in _get_listlike_indexer\n",
      "    self._validate_read_indexer(keyarr, indexer, axis, raise_missing=raise_missing)\n",
      "  File \"/home/dsc/TFM/kschool_masterDS_TFM/env/lib/python3.9/site-packages/pandas/core/indexing.py\", line 1320, in _validate_read_indexer\n",
      "    raise KeyError(\n",
      "KeyError: \"Passing list-likes to .loc or [] with any missing labels is no longer supported. The following labels were missing: Int64Index([ 589197,  589293,  589737,  589738,  589739,\\n            ...\\n            1675414, 1675424, 1675428, 1675433, 1675445],\\n           dtype='int64', length=725486). See https://pandas.pydata.org/pandas-docs/stable/user_guide/indexing.html#deprecate-loc-reindex-listlike\"\n",
      "\n",
      "  warnings.warn(\"Estimator fit failed. The score on this train-test\"\n",
      "/home/dsc/TFM/kschool_masterDS_TFM/env/lib/python3.9/site-packages/category_encoders/utils.py:21: FutureWarning: is_categorical is deprecated and will be removed in a future version.  Use is_categorical_dtype instead\n",
      "  elif pd.api.types.is_categorical(cols):\n",
      "/home/dsc/TFM/kschool_masterDS_TFM/env/lib/python3.9/site-packages/sklearn/utils/validation.py:67: FutureWarning: Pass classifier=True as keyword args. From version 0.25 passing these as positional arguments will result in an error\n",
      "  warnings.warn(\"Pass {} as keyword args. From version 0.25 \"\n",
      "/home/dsc/TFM/kschool_masterDS_TFM/env/lib/python3.9/site-packages/sklearn/model_selection/_validation.py:548: FitFailedWarning: Estimator fit failed. The score on this train-test partition for these parameters will be set to nan. Details: \n",
      "Traceback (most recent call last):\n",
      "  File \"/home/dsc/TFM/kschool_masterDS_TFM/env/lib/python3.9/site-packages/sklearn/model_selection/_validation.py\", line 531, in _fit_and_score\n",
      "    estimator.fit(X_train, y_train, **fit_params)\n",
      "  File \"/home/dsc/TFM/kschool_masterDS_TFM/env/lib/python3.9/site-packages/sklearn/pipeline.py\", line 330, in fit\n",
      "    Xt = self._fit(X, y, **fit_params_steps)\n",
      "  File \"/home/dsc/TFM/kschool_masterDS_TFM/env/lib/python3.9/site-packages/sklearn/pipeline.py\", line 292, in _fit\n",
      "    X, fitted_transformer = fit_transform_one_cached(\n",
      "  File \"/home/dsc/TFM/kschool_masterDS_TFM/env/lib/python3.9/site-packages/joblib/memory.py\", line 352, in __call__\n",
      "    return self.func(*args, **kwargs)\n",
      "  File \"/home/dsc/TFM/kschool_masterDS_TFM/env/lib/python3.9/site-packages/sklearn/pipeline.py\", line 740, in _fit_transform_one\n",
      "    res = transformer.fit_transform(X, y, **fit_params)\n",
      "  File \"/home/dsc/TFM/kschool_masterDS_TFM/env/lib/python3.9/site-packages/sklearn/base.py\", line 693, in fit_transform\n",
      "    return self.fit(X, y, **fit_params).transform(X)\n",
      "  File \"/home/dsc/TFM/kschool_masterDS_TFM/env/lib/python3.9/site-packages/sklearn/feature_selection/_from_model.py\", line 224, in fit\n",
      "    self.estimator_.fit(X, y, **fit_params)\n",
      "  File \"/home/dsc/TFM/kschool_masterDS_TFM/env/lib/python3.9/site-packages/eli5/sklearn/permutation_importance.py\", line 202, in fit\n",
      "    si = self._cv_scores_importances(X, y, groups=groups, **fit_params)\n",
      "  File \"/home/dsc/TFM/kschool_masterDS_TFM/env/lib/python3.9/site-packages/eli5/sklearn/permutation_importance.py\", line 222, in _cv_scores_importances\n",
      "    est = clone(self.estimator).fit(X[train], y[train], **fold_fit_params)\n",
      "  File \"/home/dsc/TFM/kschool_masterDS_TFM/env/lib/python3.9/site-packages/pandas/core/series.py\", line 848, in __getitem__\n",
      "    return self._get_with(key)\n",
      "  File \"/home/dsc/TFM/kschool_masterDS_TFM/env/lib/python3.9/site-packages/pandas/core/series.py\", line 883, in _get_with\n",
      "    return self.loc[key]\n",
      "  File \"/home/dsc/TFM/kschool_masterDS_TFM/env/lib/python3.9/site-packages/pandas/core/indexing.py\", line 894, in __getitem__\n",
      "    return self._getitem_axis(maybe_callable, axis=axis)\n",
      "  File \"/home/dsc/TFM/kschool_masterDS_TFM/env/lib/python3.9/site-packages/pandas/core/indexing.py\", line 1112, in _getitem_axis\n",
      "    return self._getitem_iterable(key, axis=axis)\n",
      "  File \"/home/dsc/TFM/kschool_masterDS_TFM/env/lib/python3.9/site-packages/pandas/core/indexing.py\", line 1052, in _getitem_iterable\n",
      "    keyarr, indexer = self._get_listlike_indexer(key, axis, raise_missing=False)\n",
      "  File \"/home/dsc/TFM/kschool_masterDS_TFM/env/lib/python3.9/site-packages/pandas/core/indexing.py\", line 1265, in _get_listlike_indexer\n",
      "    self._validate_read_indexer(keyarr, indexer, axis, raise_missing=raise_missing)\n",
      "  File \"/home/dsc/TFM/kschool_masterDS_TFM/env/lib/python3.9/site-packages/pandas/core/indexing.py\", line 1320, in _validate_read_indexer\n",
      "    raise KeyError(\n",
      "KeyError: \"Passing list-likes to .loc or [] with any missing labels is no longer supported. The following labels were missing: Int64Index([1447731, 1447732, 1447733, 1447734, 1447735,\\n            ...\\n            2178772, 2178773, 2178774, 2178775, 2178776],\\n           dtype='int64', length=725659). See https://pandas.pydata.org/pandas-docs/stable/user_guide/indexing.html#deprecate-loc-reindex-listlike\"\n",
      "\n",
      "  warnings.warn(\"Estimator fit failed. The score on this train-test\"\n",
      "/home/dsc/TFM/kschool_masterDS_TFM/env/lib/python3.9/site-packages/category_encoders/utils.py:21: FutureWarning: is_categorical is deprecated and will be removed in a future version.  Use is_categorical_dtype instead\n",
      "  elif pd.api.types.is_categorical(cols):\n",
      "/home/dsc/TFM/kschool_masterDS_TFM/env/lib/python3.9/site-packages/sklearn/utils/validation.py:67: FutureWarning: Pass classifier=True as keyword args. From version 0.25 passing these as positional arguments will result in an error\n",
      "  warnings.warn(\"Pass {} as keyword args. From version 0.25 \"\n",
      "/home/dsc/TFM/kschool_masterDS_TFM/env/lib/python3.9/site-packages/sklearn/model_selection/_validation.py:548: FitFailedWarning: Estimator fit failed. The score on this train-test partition for these parameters will be set to nan. Details: \n",
      "Traceback (most recent call last):\n",
      "  File \"/home/dsc/TFM/kschool_masterDS_TFM/env/lib/python3.9/site-packages/sklearn/model_selection/_validation.py\", line 531, in _fit_and_score\n",
      "    estimator.fit(X_train, y_train, **fit_params)\n",
      "  File \"/home/dsc/TFM/kschool_masterDS_TFM/env/lib/python3.9/site-packages/sklearn/pipeline.py\", line 330, in fit\n",
      "    Xt = self._fit(X, y, **fit_params_steps)\n",
      "  File \"/home/dsc/TFM/kschool_masterDS_TFM/env/lib/python3.9/site-packages/sklearn/pipeline.py\", line 292, in _fit\n",
      "    X, fitted_transformer = fit_transform_one_cached(\n",
      "  File \"/home/dsc/TFM/kschool_masterDS_TFM/env/lib/python3.9/site-packages/joblib/memory.py\", line 352, in __call__\n",
      "    return self.func(*args, **kwargs)\n",
      "  File \"/home/dsc/TFM/kschool_masterDS_TFM/env/lib/python3.9/site-packages/sklearn/pipeline.py\", line 740, in _fit_transform_one\n",
      "    res = transformer.fit_transform(X, y, **fit_params)\n",
      "  File \"/home/dsc/TFM/kschool_masterDS_TFM/env/lib/python3.9/site-packages/sklearn/base.py\", line 693, in fit_transform\n",
      "    return self.fit(X, y, **fit_params).transform(X)\n",
      "  File \"/home/dsc/TFM/kschool_masterDS_TFM/env/lib/python3.9/site-packages/sklearn/feature_selection/_from_model.py\", line 224, in fit\n",
      "    self.estimator_.fit(X, y, **fit_params)\n",
      "  File \"/home/dsc/TFM/kschool_masterDS_TFM/env/lib/python3.9/site-packages/eli5/sklearn/permutation_importance.py\", line 202, in fit\n",
      "    si = self._cv_scores_importances(X, y, groups=groups, **fit_params)\n",
      "  File \"/home/dsc/TFM/kschool_masterDS_TFM/env/lib/python3.9/site-packages/eli5/sklearn/permutation_importance.py\", line 222, in _cv_scores_importances\n",
      "    est = clone(self.estimator).fit(X[train], y[train], **fold_fit_params)\n",
      "  File \"/home/dsc/TFM/kschool_masterDS_TFM/env/lib/python3.9/site-packages/pandas/core/series.py\", line 848, in __getitem__\n",
      "    return self._get_with(key)\n",
      "  File \"/home/dsc/TFM/kschool_masterDS_TFM/env/lib/python3.9/site-packages/pandas/core/series.py\", line 883, in _get_with\n",
      "    return self.loc[key]\n",
      "  File \"/home/dsc/TFM/kschool_masterDS_TFM/env/lib/python3.9/site-packages/pandas/core/indexing.py\", line 894, in __getitem__\n",
      "    return self._getitem_axis(maybe_callable, axis=axis)\n",
      "  File \"/home/dsc/TFM/kschool_masterDS_TFM/env/lib/python3.9/site-packages/pandas/core/indexing.py\", line 1112, in _getitem_axis\n",
      "    return self._getitem_iterable(key, axis=axis)\n",
      "  File \"/home/dsc/TFM/kschool_masterDS_TFM/env/lib/python3.9/site-packages/pandas/core/indexing.py\", line 1052, in _getitem_iterable\n",
      "    keyarr, indexer = self._get_listlike_indexer(key, axis, raise_missing=False)\n",
      "  File \"/home/dsc/TFM/kschool_masterDS_TFM/env/lib/python3.9/site-packages/pandas/core/indexing.py\", line 1265, in _get_listlike_indexer\n",
      "    self._validate_read_indexer(keyarr, indexer, axis, raise_missing=raise_missing)\n",
      "  File \"/home/dsc/TFM/kschool_masterDS_TFM/env/lib/python3.9/site-packages/pandas/core/indexing.py\", line 1320, in _validate_read_indexer\n",
      "    raise KeyError(\n",
      "KeyError: \"Passing list-likes to .loc or [] with any missing labels is no longer supported. The following labels were missing: Int64Index([2072521, 2072735, 2072850, 2072889, 2072894,\\n            ...\\n            2902630, 2902631, 2902632, 2902633, 2902634],\\n           dtype='int64', length=725191). See https://pandas.pydata.org/pandas-docs/stable/user_guide/indexing.html#deprecate-loc-reindex-listlike\"\n",
      "\n",
      "  warnings.warn(\"Estimator fit failed. The score on this train-test\"\n",
      "/home/dsc/TFM/kschool_masterDS_TFM/env/lib/python3.9/site-packages/category_encoders/utils.py:21: FutureWarning: is_categorical is deprecated and will be removed in a future version.  Use is_categorical_dtype instead\n",
      "  elif pd.api.types.is_categorical(cols):\n",
      "/home/dsc/TFM/kschool_masterDS_TFM/env/lib/python3.9/site-packages/sklearn/utils/validation.py:67: FutureWarning: Pass classifier=True as keyword args. From version 0.25 passing these as positional arguments will result in an error\n",
      "  warnings.warn(\"Pass {} as keyword args. From version 0.25 \"\n",
      "/home/dsc/TFM/kschool_masterDS_TFM/env/lib/python3.9/site-packages/sklearn/model_selection/_validation.py:548: FitFailedWarning: Estimator fit failed. The score on this train-test partition for these parameters will be set to nan. Details: \n",
      "Traceback (most recent call last):\n",
      "  File \"/home/dsc/TFM/kschool_masterDS_TFM/env/lib/python3.9/site-packages/sklearn/model_selection/_validation.py\", line 531, in _fit_and_score\n",
      "    estimator.fit(X_train, y_train, **fit_params)\n",
      "  File \"/home/dsc/TFM/kschool_masterDS_TFM/env/lib/python3.9/site-packages/sklearn/pipeline.py\", line 330, in fit\n",
      "    Xt = self._fit(X, y, **fit_params_steps)\n",
      "  File \"/home/dsc/TFM/kschool_masterDS_TFM/env/lib/python3.9/site-packages/sklearn/pipeline.py\", line 292, in _fit\n",
      "    X, fitted_transformer = fit_transform_one_cached(\n",
      "  File \"/home/dsc/TFM/kschool_masterDS_TFM/env/lib/python3.9/site-packages/joblib/memory.py\", line 352, in __call__\n",
      "    return self.func(*args, **kwargs)\n",
      "  File \"/home/dsc/TFM/kschool_masterDS_TFM/env/lib/python3.9/site-packages/sklearn/pipeline.py\", line 740, in _fit_transform_one\n",
      "    res = transformer.fit_transform(X, y, **fit_params)\n",
      "  File \"/home/dsc/TFM/kschool_masterDS_TFM/env/lib/python3.9/site-packages/sklearn/base.py\", line 693, in fit_transform\n",
      "    return self.fit(X, y, **fit_params).transform(X)\n",
      "  File \"/home/dsc/TFM/kschool_masterDS_TFM/env/lib/python3.9/site-packages/sklearn/feature_selection/_from_model.py\", line 224, in fit\n",
      "    self.estimator_.fit(X, y, **fit_params)\n",
      "  File \"/home/dsc/TFM/kschool_masterDS_TFM/env/lib/python3.9/site-packages/eli5/sklearn/permutation_importance.py\", line 202, in fit\n",
      "    si = self._cv_scores_importances(X, y, groups=groups, **fit_params)\n",
      "  File \"/home/dsc/TFM/kschool_masterDS_TFM/env/lib/python3.9/site-packages/eli5/sklearn/permutation_importance.py\", line 222, in _cv_scores_importances\n",
      "    est = clone(self.estimator).fit(X[train], y[train], **fold_fit_params)\n",
      "  File \"/home/dsc/TFM/kschool_masterDS_TFM/env/lib/python3.9/site-packages/pandas/core/series.py\", line 848, in __getitem__\n",
      "    return self._get_with(key)\n",
      "  File \"/home/dsc/TFM/kschool_masterDS_TFM/env/lib/python3.9/site-packages/pandas/core/series.py\", line 883, in _get_with\n",
      "    return self.loc[key]\n",
      "  File \"/home/dsc/TFM/kschool_masterDS_TFM/env/lib/python3.9/site-packages/pandas/core/indexing.py\", line 894, in __getitem__\n",
      "    return self._getitem_axis(maybe_callable, axis=axis)\n",
      "  File \"/home/dsc/TFM/kschool_masterDS_TFM/env/lib/python3.9/site-packages/pandas/core/indexing.py\", line 1112, in _getitem_axis\n",
      "    return self._getitem_iterable(key, axis=axis)\n",
      "  File \"/home/dsc/TFM/kschool_masterDS_TFM/env/lib/python3.9/site-packages/pandas/core/indexing.py\", line 1052, in _getitem_iterable\n",
      "    keyarr, indexer = self._get_listlike_indexer(key, axis, raise_missing=False)\n",
      "  File \"/home/dsc/TFM/kschool_masterDS_TFM/env/lib/python3.9/site-packages/pandas/core/indexing.py\", line 1265, in _get_listlike_indexer\n",
      "    self._validate_read_indexer(keyarr, indexer, axis, raise_missing=raise_missing)\n",
      "  File \"/home/dsc/TFM/kschool_masterDS_TFM/env/lib/python3.9/site-packages/pandas/core/indexing.py\", line 1320, in _validate_read_indexer\n",
      "    raise KeyError(\n",
      "KeyError: \"Passing list-likes to .loc or [] with any missing labels is no longer supported. The following labels were missing: Int64Index([2853070, 2853074, 2853080, 2853081, 2853088,\\n            ...\\n            2902180, 2902182, 2902614, 2902615, 2902618],\\n           dtype='int64', length=467). See https://pandas.pydata.org/pandas-docs/stable/user_guide/indexing.html#deprecate-loc-reindex-listlike\"\n",
      "\n",
      "  warnings.warn(\"Estimator fit failed. The score on this train-test\"\n",
      "/home/dsc/TFM/kschool_masterDS_TFM/env/lib/python3.9/site-packages/category_encoders/utils.py:21: FutureWarning: is_categorical is deprecated and will be removed in a future version.  Use is_categorical_dtype instead\n",
      "  elif pd.api.types.is_categorical(cols):\n",
      "/home/dsc/TFM/kschool_masterDS_TFM/env/lib/python3.9/site-packages/sklearn/utils/validation.py:67: FutureWarning: Pass classifier=True as keyword args. From version 0.25 passing these as positional arguments will result in an error\n",
      "  warnings.warn(\"Pass {} as keyword args. From version 0.25 \"\n",
      "/home/dsc/TFM/kschool_masterDS_TFM/env/lib/python3.9/site-packages/sklearn/feature_selection/_base.py:79: UserWarning: No features were selected: either the data is too noisy or the selection test too strict.\n",
      "  warn(\"No features were selected: either the data is\"\n"
     ]
    },
    {
     "ename": "ValueError",
     "evalue": "Found array with 0 feature(s) (shape=(3628293, 0)) while a minimum of 1 is required.",
     "output_type": "error",
     "traceback": [
      "\u001b[0;31m---------------------------------------------------------------------------\u001b[0m",
      "\u001b[0;31mValueError\u001b[0m                                Traceback (most recent call last)",
      "\u001b[0;32m<ipython-input-14-a41ea30a3d24>\u001b[0m in \u001b[0;36m<module>\u001b[0;34m\u001b[0m\n\u001b[1;32m      4\u001b[0m \u001b[0;34m\u001b[0m\u001b[0m\n\u001b[1;32m      5\u001b[0m \u001b[0mgs\u001b[0m \u001b[0;34m=\u001b[0m \u001b[0mGridSearchCV\u001b[0m\u001b[0;34m(\u001b[0m\u001b[0mpipeline\u001b[0m\u001b[0;34m,\u001b[0m \u001b[0mparam_grid\u001b[0m\u001b[0;34m=\u001b[0m\u001b[0mparams\u001b[0m\u001b[0;34m,\u001b[0m \u001b[0mscoring\u001b[0m\u001b[0;34m=\u001b[0m\u001b[0;34m\"recall\"\u001b[0m\u001b[0;34m)\u001b[0m\u001b[0;34m\u001b[0m\u001b[0;34m\u001b[0m\u001b[0m\n\u001b[0;32m----> 6\u001b[0;31m \u001b[0mgs\u001b[0m\u001b[0;34m.\u001b[0m\u001b[0mfit\u001b[0m\u001b[0;34m(\u001b[0m\u001b[0mX\u001b[0m\u001b[0;34m,\u001b[0m\u001b[0my\u001b[0m\u001b[0;34m)\u001b[0m\u001b[0;34m\u001b[0m\u001b[0;34m\u001b[0m\u001b[0m\n\u001b[0m",
      "\u001b[0;32m~/TFM/kschool_masterDS_TFM/env/lib/python3.9/site-packages/sklearn/utils/validation.py\u001b[0m in \u001b[0;36minner_f\u001b[0;34m(*args, **kwargs)\u001b[0m\n\u001b[1;32m     70\u001b[0m                           FutureWarning)\n\u001b[1;32m     71\u001b[0m         \u001b[0mkwargs\u001b[0m\u001b[0;34m.\u001b[0m\u001b[0mupdate\u001b[0m\u001b[0;34m(\u001b[0m\u001b[0;34m{\u001b[0m\u001b[0mk\u001b[0m\u001b[0;34m:\u001b[0m \u001b[0marg\u001b[0m \u001b[0;32mfor\u001b[0m \u001b[0mk\u001b[0m\u001b[0;34m,\u001b[0m \u001b[0marg\u001b[0m \u001b[0;32min\u001b[0m \u001b[0mzip\u001b[0m\u001b[0;34m(\u001b[0m\u001b[0msig\u001b[0m\u001b[0;34m.\u001b[0m\u001b[0mparameters\u001b[0m\u001b[0;34m,\u001b[0m \u001b[0margs\u001b[0m\u001b[0;34m)\u001b[0m\u001b[0;34m}\u001b[0m\u001b[0;34m)\u001b[0m\u001b[0;34m\u001b[0m\u001b[0;34m\u001b[0m\u001b[0m\n\u001b[0;32m---> 72\u001b[0;31m         \u001b[0;32mreturn\u001b[0m \u001b[0mf\u001b[0m\u001b[0;34m(\u001b[0m\u001b[0;34m**\u001b[0m\u001b[0mkwargs\u001b[0m\u001b[0;34m)\u001b[0m\u001b[0;34m\u001b[0m\u001b[0;34m\u001b[0m\u001b[0m\n\u001b[0m\u001b[1;32m     73\u001b[0m     \u001b[0;32mreturn\u001b[0m \u001b[0minner_f\u001b[0m\u001b[0;34m\u001b[0m\u001b[0;34m\u001b[0m\u001b[0m\n\u001b[1;32m     74\u001b[0m \u001b[0;34m\u001b[0m\u001b[0m\n",
      "\u001b[0;32m~/TFM/kschool_masterDS_TFM/env/lib/python3.9/site-packages/sklearn/model_selection/_search.py\u001b[0m in \u001b[0;36mfit\u001b[0;34m(self, X, y, groups, **fit_params)\u001b[0m\n\u001b[1;32m    763\u001b[0m             \u001b[0mrefit_start_time\u001b[0m \u001b[0;34m=\u001b[0m \u001b[0mtime\u001b[0m\u001b[0;34m.\u001b[0m\u001b[0mtime\u001b[0m\u001b[0;34m(\u001b[0m\u001b[0;34m)\u001b[0m\u001b[0;34m\u001b[0m\u001b[0;34m\u001b[0m\u001b[0m\n\u001b[1;32m    764\u001b[0m             \u001b[0;32mif\u001b[0m \u001b[0my\u001b[0m \u001b[0;32mis\u001b[0m \u001b[0;32mnot\u001b[0m \u001b[0;32mNone\u001b[0m\u001b[0;34m:\u001b[0m\u001b[0;34m\u001b[0m\u001b[0;34m\u001b[0m\u001b[0m\n\u001b[0;32m--> 765\u001b[0;31m                 \u001b[0mself\u001b[0m\u001b[0;34m.\u001b[0m\u001b[0mbest_estimator_\u001b[0m\u001b[0;34m.\u001b[0m\u001b[0mfit\u001b[0m\u001b[0;34m(\u001b[0m\u001b[0mX\u001b[0m\u001b[0;34m,\u001b[0m \u001b[0my\u001b[0m\u001b[0;34m,\u001b[0m \u001b[0;34m**\u001b[0m\u001b[0mfit_params\u001b[0m\u001b[0;34m)\u001b[0m\u001b[0;34m\u001b[0m\u001b[0;34m\u001b[0m\u001b[0m\n\u001b[0m\u001b[1;32m    766\u001b[0m             \u001b[0;32melse\u001b[0m\u001b[0;34m:\u001b[0m\u001b[0;34m\u001b[0m\u001b[0;34m\u001b[0m\u001b[0m\n\u001b[1;32m    767\u001b[0m                 \u001b[0mself\u001b[0m\u001b[0;34m.\u001b[0m\u001b[0mbest_estimator_\u001b[0m\u001b[0;34m.\u001b[0m\u001b[0mfit\u001b[0m\u001b[0;34m(\u001b[0m\u001b[0mX\u001b[0m\u001b[0;34m,\u001b[0m \u001b[0;34m**\u001b[0m\u001b[0mfit_params\u001b[0m\u001b[0;34m)\u001b[0m\u001b[0;34m\u001b[0m\u001b[0;34m\u001b[0m\u001b[0m\n",
      "\u001b[0;32m~/TFM/kschool_masterDS_TFM/env/lib/python3.9/site-packages/sklearn/pipeline.py\u001b[0m in \u001b[0;36mfit\u001b[0;34m(self, X, y, **fit_params)\u001b[0m\n\u001b[1;32m    333\u001b[0m             \u001b[0;32mif\u001b[0m \u001b[0mself\u001b[0m\u001b[0;34m.\u001b[0m\u001b[0m_final_estimator\u001b[0m \u001b[0;34m!=\u001b[0m \u001b[0;34m'passthrough'\u001b[0m\u001b[0;34m:\u001b[0m\u001b[0;34m\u001b[0m\u001b[0;34m\u001b[0m\u001b[0m\n\u001b[1;32m    334\u001b[0m                 \u001b[0mfit_params_last_step\u001b[0m \u001b[0;34m=\u001b[0m \u001b[0mfit_params_steps\u001b[0m\u001b[0;34m[\u001b[0m\u001b[0mself\u001b[0m\u001b[0;34m.\u001b[0m\u001b[0msteps\u001b[0m\u001b[0;34m[\u001b[0m\u001b[0;34m-\u001b[0m\u001b[0;36m1\u001b[0m\u001b[0;34m]\u001b[0m\u001b[0;34m[\u001b[0m\u001b[0;36m0\u001b[0m\u001b[0;34m]\u001b[0m\u001b[0;34m]\u001b[0m\u001b[0;34m\u001b[0m\u001b[0;34m\u001b[0m\u001b[0m\n\u001b[0;32m--> 335\u001b[0;31m                 \u001b[0mself\u001b[0m\u001b[0;34m.\u001b[0m\u001b[0m_final_estimator\u001b[0m\u001b[0;34m.\u001b[0m\u001b[0mfit\u001b[0m\u001b[0;34m(\u001b[0m\u001b[0mXt\u001b[0m\u001b[0;34m,\u001b[0m \u001b[0my\u001b[0m\u001b[0;34m,\u001b[0m \u001b[0;34m**\u001b[0m\u001b[0mfit_params_last_step\u001b[0m\u001b[0;34m)\u001b[0m\u001b[0;34m\u001b[0m\u001b[0;34m\u001b[0m\u001b[0m\n\u001b[0m\u001b[1;32m    336\u001b[0m \u001b[0;34m\u001b[0m\u001b[0m\n\u001b[1;32m    337\u001b[0m         \u001b[0;32mreturn\u001b[0m \u001b[0mself\u001b[0m\u001b[0;34m\u001b[0m\u001b[0;34m\u001b[0m\u001b[0m\n",
      "\u001b[0;32m~/TFM/kschool_masterDS_TFM/env/lib/python3.9/site-packages/sklearn/ensemble/_forest.py\u001b[0m in \u001b[0;36mfit\u001b[0;34m(self, X, y, sample_weight)\u001b[0m\n\u001b[1;32m    301\u001b[0m                 \u001b[0;34m\"sparse multilabel-indicator for y is not supported.\"\u001b[0m\u001b[0;34m\u001b[0m\u001b[0;34m\u001b[0m\u001b[0m\n\u001b[1;32m    302\u001b[0m             )\n\u001b[0;32m--> 303\u001b[0;31m         X, y = self._validate_data(X, y, multi_output=True,\n\u001b[0m\u001b[1;32m    304\u001b[0m                                    accept_sparse=\"csc\", dtype=DTYPE)\n\u001b[1;32m    305\u001b[0m         \u001b[0;32mif\u001b[0m \u001b[0msample_weight\u001b[0m \u001b[0;32mis\u001b[0m \u001b[0;32mnot\u001b[0m \u001b[0;32mNone\u001b[0m\u001b[0;34m:\u001b[0m\u001b[0;34m\u001b[0m\u001b[0;34m\u001b[0m\u001b[0m\n",
      "\u001b[0;32m~/TFM/kschool_masterDS_TFM/env/lib/python3.9/site-packages/sklearn/base.py\u001b[0m in \u001b[0;36m_validate_data\u001b[0;34m(self, X, y, reset, validate_separately, **check_params)\u001b[0m\n\u001b[1;32m    430\u001b[0m                 \u001b[0my\u001b[0m \u001b[0;34m=\u001b[0m \u001b[0mcheck_array\u001b[0m\u001b[0;34m(\u001b[0m\u001b[0my\u001b[0m\u001b[0;34m,\u001b[0m \u001b[0;34m**\u001b[0m\u001b[0mcheck_y_params\u001b[0m\u001b[0;34m)\u001b[0m\u001b[0;34m\u001b[0m\u001b[0;34m\u001b[0m\u001b[0m\n\u001b[1;32m    431\u001b[0m             \u001b[0;32melse\u001b[0m\u001b[0;34m:\u001b[0m\u001b[0;34m\u001b[0m\u001b[0;34m\u001b[0m\u001b[0m\n\u001b[0;32m--> 432\u001b[0;31m                 \u001b[0mX\u001b[0m\u001b[0;34m,\u001b[0m \u001b[0my\u001b[0m \u001b[0;34m=\u001b[0m \u001b[0mcheck_X_y\u001b[0m\u001b[0;34m(\u001b[0m\u001b[0mX\u001b[0m\u001b[0;34m,\u001b[0m \u001b[0my\u001b[0m\u001b[0;34m,\u001b[0m \u001b[0;34m**\u001b[0m\u001b[0mcheck_params\u001b[0m\u001b[0;34m)\u001b[0m\u001b[0;34m\u001b[0m\u001b[0;34m\u001b[0m\u001b[0m\n\u001b[0m\u001b[1;32m    433\u001b[0m             \u001b[0mout\u001b[0m \u001b[0;34m=\u001b[0m \u001b[0mX\u001b[0m\u001b[0;34m,\u001b[0m \u001b[0my\u001b[0m\u001b[0;34m\u001b[0m\u001b[0;34m\u001b[0m\u001b[0m\n\u001b[1;32m    434\u001b[0m \u001b[0;34m\u001b[0m\u001b[0m\n",
      "\u001b[0;32m~/TFM/kschool_masterDS_TFM/env/lib/python3.9/site-packages/sklearn/utils/validation.py\u001b[0m in \u001b[0;36minner_f\u001b[0;34m(*args, **kwargs)\u001b[0m\n\u001b[1;32m     70\u001b[0m                           FutureWarning)\n\u001b[1;32m     71\u001b[0m         \u001b[0mkwargs\u001b[0m\u001b[0;34m.\u001b[0m\u001b[0mupdate\u001b[0m\u001b[0;34m(\u001b[0m\u001b[0;34m{\u001b[0m\u001b[0mk\u001b[0m\u001b[0;34m:\u001b[0m \u001b[0marg\u001b[0m \u001b[0;32mfor\u001b[0m \u001b[0mk\u001b[0m\u001b[0;34m,\u001b[0m \u001b[0marg\u001b[0m \u001b[0;32min\u001b[0m \u001b[0mzip\u001b[0m\u001b[0;34m(\u001b[0m\u001b[0msig\u001b[0m\u001b[0;34m.\u001b[0m\u001b[0mparameters\u001b[0m\u001b[0;34m,\u001b[0m \u001b[0margs\u001b[0m\u001b[0;34m)\u001b[0m\u001b[0;34m}\u001b[0m\u001b[0;34m)\u001b[0m\u001b[0;34m\u001b[0m\u001b[0;34m\u001b[0m\u001b[0m\n\u001b[0;32m---> 72\u001b[0;31m         \u001b[0;32mreturn\u001b[0m \u001b[0mf\u001b[0m\u001b[0;34m(\u001b[0m\u001b[0;34m**\u001b[0m\u001b[0mkwargs\u001b[0m\u001b[0;34m)\u001b[0m\u001b[0;34m\u001b[0m\u001b[0;34m\u001b[0m\u001b[0m\n\u001b[0m\u001b[1;32m     73\u001b[0m     \u001b[0;32mreturn\u001b[0m \u001b[0minner_f\u001b[0m\u001b[0;34m\u001b[0m\u001b[0;34m\u001b[0m\u001b[0m\n\u001b[1;32m     74\u001b[0m \u001b[0;34m\u001b[0m\u001b[0m\n",
      "\u001b[0;32m~/TFM/kschool_masterDS_TFM/env/lib/python3.9/site-packages/sklearn/utils/validation.py\u001b[0m in \u001b[0;36mcheck_X_y\u001b[0;34m(X, y, accept_sparse, accept_large_sparse, dtype, order, copy, force_all_finite, ensure_2d, allow_nd, multi_output, ensure_min_samples, ensure_min_features, y_numeric, estimator)\u001b[0m\n\u001b[1;32m    793\u001b[0m         \u001b[0;32mraise\u001b[0m \u001b[0mValueError\u001b[0m\u001b[0;34m(\u001b[0m\u001b[0;34m\"y cannot be None\"\u001b[0m\u001b[0;34m)\u001b[0m\u001b[0;34m\u001b[0m\u001b[0;34m\u001b[0m\u001b[0m\n\u001b[1;32m    794\u001b[0m \u001b[0;34m\u001b[0m\u001b[0m\n\u001b[0;32m--> 795\u001b[0;31m     X = check_array(X, accept_sparse=accept_sparse,\n\u001b[0m\u001b[1;32m    796\u001b[0m                     \u001b[0maccept_large_sparse\u001b[0m\u001b[0;34m=\u001b[0m\u001b[0maccept_large_sparse\u001b[0m\u001b[0;34m,\u001b[0m\u001b[0;34m\u001b[0m\u001b[0;34m\u001b[0m\u001b[0m\n\u001b[1;32m    797\u001b[0m                     \u001b[0mdtype\u001b[0m\u001b[0;34m=\u001b[0m\u001b[0mdtype\u001b[0m\u001b[0;34m,\u001b[0m \u001b[0morder\u001b[0m\u001b[0;34m=\u001b[0m\u001b[0morder\u001b[0m\u001b[0;34m,\u001b[0m \u001b[0mcopy\u001b[0m\u001b[0;34m=\u001b[0m\u001b[0mcopy\u001b[0m\u001b[0;34m,\u001b[0m\u001b[0;34m\u001b[0m\u001b[0;34m\u001b[0m\u001b[0m\n",
      "\u001b[0;32m~/TFM/kschool_masterDS_TFM/env/lib/python3.9/site-packages/sklearn/utils/validation.py\u001b[0m in \u001b[0;36minner_f\u001b[0;34m(*args, **kwargs)\u001b[0m\n\u001b[1;32m     70\u001b[0m                           FutureWarning)\n\u001b[1;32m     71\u001b[0m         \u001b[0mkwargs\u001b[0m\u001b[0;34m.\u001b[0m\u001b[0mupdate\u001b[0m\u001b[0;34m(\u001b[0m\u001b[0;34m{\u001b[0m\u001b[0mk\u001b[0m\u001b[0;34m:\u001b[0m \u001b[0marg\u001b[0m \u001b[0;32mfor\u001b[0m \u001b[0mk\u001b[0m\u001b[0;34m,\u001b[0m \u001b[0marg\u001b[0m \u001b[0;32min\u001b[0m \u001b[0mzip\u001b[0m\u001b[0;34m(\u001b[0m\u001b[0msig\u001b[0m\u001b[0;34m.\u001b[0m\u001b[0mparameters\u001b[0m\u001b[0;34m,\u001b[0m \u001b[0margs\u001b[0m\u001b[0;34m)\u001b[0m\u001b[0;34m}\u001b[0m\u001b[0;34m)\u001b[0m\u001b[0;34m\u001b[0m\u001b[0;34m\u001b[0m\u001b[0m\n\u001b[0;32m---> 72\u001b[0;31m         \u001b[0;32mreturn\u001b[0m \u001b[0mf\u001b[0m\u001b[0;34m(\u001b[0m\u001b[0;34m**\u001b[0m\u001b[0mkwargs\u001b[0m\u001b[0;34m)\u001b[0m\u001b[0;34m\u001b[0m\u001b[0;34m\u001b[0m\u001b[0m\n\u001b[0m\u001b[1;32m     73\u001b[0m     \u001b[0;32mreturn\u001b[0m \u001b[0minner_f\u001b[0m\u001b[0;34m\u001b[0m\u001b[0;34m\u001b[0m\u001b[0m\n\u001b[1;32m     74\u001b[0m \u001b[0;34m\u001b[0m\u001b[0m\n",
      "\u001b[0;32m~/TFM/kschool_masterDS_TFM/env/lib/python3.9/site-packages/sklearn/utils/validation.py\u001b[0m in \u001b[0;36mcheck_array\u001b[0;34m(array, accept_sparse, accept_large_sparse, dtype, order, copy, force_all_finite, ensure_2d, allow_nd, ensure_min_samples, ensure_min_features, estimator)\u001b[0m\n\u001b[1;32m    656\u001b[0m         \u001b[0mn_features\u001b[0m \u001b[0;34m=\u001b[0m \u001b[0marray\u001b[0m\u001b[0;34m.\u001b[0m\u001b[0mshape\u001b[0m\u001b[0;34m[\u001b[0m\u001b[0;36m1\u001b[0m\u001b[0;34m]\u001b[0m\u001b[0;34m\u001b[0m\u001b[0;34m\u001b[0m\u001b[0m\n\u001b[1;32m    657\u001b[0m         \u001b[0;32mif\u001b[0m \u001b[0mn_features\u001b[0m \u001b[0;34m<\u001b[0m \u001b[0mensure_min_features\u001b[0m\u001b[0;34m:\u001b[0m\u001b[0;34m\u001b[0m\u001b[0;34m\u001b[0m\u001b[0m\n\u001b[0;32m--> 658\u001b[0;31m             raise ValueError(\"Found array with %d feature(s) (shape=%s) while\"\n\u001b[0m\u001b[1;32m    659\u001b[0m                              \u001b[0;34m\" a minimum of %d is required%s.\"\u001b[0m\u001b[0;34m\u001b[0m\u001b[0;34m\u001b[0m\u001b[0m\n\u001b[1;32m    660\u001b[0m                              % (n_features, array.shape, ensure_min_features,\n",
      "\u001b[0;31mValueError\u001b[0m: Found array with 0 feature(s) (shape=(3628293, 0)) while a minimum of 1 is required."
     ]
    }
   ],
   "source": [
    "params = {\n",
    "    'feature_selection__threshold': [0.5, 0.3, 0.7],\n",
    "    'feature_selection__estimator__cv': [3, 5]}\n",
    "\n",
    "gs = GridSearchCV(pipeline, param_grid=params, scoring=\"recall\")\n",
    "gs.fit(X,y)"
   ]
  },
  {
   "cell_type": "markdown",
   "id": "02418184",
   "metadata": {
    "id": "assisted-standing"
   },
   "source": [
    "Given that error, we will explore what is failing on feature selection by running it step by step in a sample:"
   ]
  },
  {
   "cell_type": "markdown",
   "id": "a6619e9a",
   "metadata": {
    "id": "burning-research"
   },
   "source": [
    "#### Sampling exploration"
   ]
  },
  {
   "cell_type": "markdown",
   "id": "a8fdc9fe",
   "metadata": {
    "id": "professional-installation"
   },
   "source": [
    "##### Sample df"
   ]
  },
  {
   "cell_type": "code",
   "execution_count": null,
   "id": "372dc0c1",
   "metadata": {
    "id": "weighted-increase",
    "outputId": "dbd970da-0495-4b28-a917-0452510753b0"
   },
   "outputs": [
    {
     "name": "stderr",
     "output_type": "stream",
     "text": [
      "/home/dsc/TFM/kschool_masterDS_TFM/env/lib/python3.9/site-packages/IPython/core/interactiveshell.py:3165: DtypeWarning: Columns (1) have mixed types.Specify dtype option on import or set low_memory=False.\n",
      "  has_raised = await self.run_ast_nodes(code_ast.body, cell_name,\n"
     ]
    },
    {
     "name": "stdout",
     "output_type": "stream",
     "text": [
      "(100000, 31)\n",
      "\n",
      "<class 'pandas.core.frame.DataFrame'>\n",
      "RangeIndex: 100000 entries, 0 to 99999\n",
      "Data columns (total 31 columns):\n",
      " #   Column                       Non-Null Count   Dtype         \n",
      "---  ------                       --------------   -----         \n",
      " 0   ga:productSKU                100000 non-null  object        \n",
      " 1   ga:dateHourMinute            100000 non-null  datetime64[ns]\n",
      " 2   ga:pagePath                  100000 non-null  object        \n",
      " 3   ga:pageDepth                 100000 non-null  int64         \n",
      " 4   ga:userType                  100000 non-null  object        \n",
      " 5   ga:sessionCount              100000 non-null  int64         \n",
      " 6   ga:daysSinceLastSession      100000 non-null  int64         \n",
      " 7   ga:landingPagePath           100000 non-null  object        \n",
      " 8   ga:campaign                  100000 non-null  object        \n",
      " 9   ga:sourceMedium              100000 non-null  object        \n",
      " 10  ga:city                      100000 non-null  object        \n",
      " 11  ga:deviceCategory            100000 non-null  object        \n",
      " 12  ga:operatingSystem           100000 non-null  object        \n",
      " 13  ga:productListViews          100000 non-null  int64         \n",
      " 14  ga:productListClicks         100000 non-null  int64         \n",
      " 15  ga:productDetailViews        100000 non-null  int64         \n",
      " 16  ga:productAddsToCart         100000 non-null  int64         \n",
      " 17  ga:productAddsToCart_transf  100000 non-null  int64         \n",
      " 18  pPath_clean                  100000 non-null  object        \n",
      " 19  Web_Discount                 100000 non-null  float64       \n",
      " 20  Product_price                82660 non-null   float64       \n",
      " 21  month_sin                    100000 non-null  float64       \n",
      " 22  month_cos                    100000 non-null  float64       \n",
      " 23  dayofweek_sin                100000 non-null  float64       \n",
      " 24  dayofweek_cos                100000 non-null  float64       \n",
      " 25  hour_sin                     100000 non-null  float64       \n",
      " 26  hour_cos                     100000 non-null  float64       \n",
      " 27  Source                       100000 non-null  object        \n",
      " 28  Medium                       100000 non-null  object        \n",
      " 29  Returning_Visitor            100000 non-null  int64         \n",
      " 30  Detail_View                  100000 non-null  int64         \n",
      "dtypes: datetime64[ns](1), float64(8), int64(10), object(12)\n",
      "memory usage: 23.7+ MB\n"
     ]
    }
   ],
   "source": [
    "data_root=\"../data/\"\n",
    "datafile=os.path.join(data_root,'no_carrito_no_pedido_df_2019_2020_jan21.csv')\n",
    "df=pd.read_csv(datafile, nrows=100000)\n",
    "df.drop('Unnamed: 0', axis=1, inplace=True)\n",
    "\n",
    "# Product SKU as string\n",
    "df['ga:productSKU']=df['ga:productSKU'].astype('str')\n",
    "\n",
    "# dateHourMinute as SIN and COS\n",
    "df['ga:dateHourMinute']=pd.to_datetime(df['ga:dateHourMinute'],format='%Y%m%d%H%M')\n",
    "df['dateTime_month']=df['ga:dateHourMinute'].dt.month\n",
    "df['dateTime_dayofweek']=df['ga:dateHourMinute'].dt.dayofweek\n",
    "df['dateTime_hour']=df['ga:dateHourMinute'].dt.hour\n",
    "df['month_sin']=np.sin((df.dateTime_month-1)*(2.*np.pi/12)) # I substract minus 1 to 'df.dateTime_month' because its values are coded as 1 to 12 instead of 0 to 11\n",
    "df['month_cos']=np.cos((df.dateTime_month-1)*(2.*np.pi/12)) # I substract minus 1 to 'df.dateTime_month' because its values are coded as 1 to 12 instead of 0 to 11\n",
    "df['dayofweek_sin']=np.sin(df.dateTime_dayofweek*(2.*np.pi/7))\n",
    "df['dayofweek_cos']=np.cos(df.dateTime_dayofweek*(2.*np.pi/7))\n",
    "df['hour_sin']=np.sin(df.dateTime_hour*(2.*np.pi/24))\n",
    "df['hour_cos']=np.cos(df.dateTime_hour*(2.*np.pi/24))\n",
    "df.drop(['dateTime_month','dateTime_dayofweek','dateTime_hour'],axis=1, inplace=True)\n",
    "\n",
    "# Source Medium as 2 columns:\n",
    "source_medium = df['ga:sourceMedium'].str.split('/',expand=True)\n",
    "source_medium.columns=['Source','Medium']\n",
    "df= df.merge(source_medium,left_index=True,right_index=True,how='left')\n",
    "del(source_medium)\n",
    "df['Source']=df['Source'].astype('str').str.strip()\n",
    "df['Medium']=df['Medium'].astype('str').str.strip()\n",
    "\n",
    "# City\n",
    "df['ga:city']=df['ga:city'].astype('str')\n",
    "\n",
    "# Device\n",
    "df['ga:deviceCategory']=df['ga:deviceCategory'].astype('str')\n",
    "\n",
    "# Operating System\n",
    "df['ga:operatingSystem']=df['ga:operatingSystem'].astype('str')\n",
    "\n",
    "# User Type\n",
    "df['Returning_Visitor']= np.where(df['ga:userType']=='Returning Visitor',1,0)\n",
    "\n",
    "# Page Path, Detail_View and Landing Page Path as string\n",
    "df['ga:pagePath']=df['ga:pagePath'].astype('str')\n",
    "df['ga:pagePath'] = df['ga:pagePath'].apply(lambda x: x[:x.find(\"?pag\")] if \"?pag\" in x else x)\n",
    "df['Detail_View']=df['ga:pagePath'].apply(lambda url: 1 if url[-5:]=='.html' else 0)\n",
    "df['ga:landingPagePath']=df['ga:landingPagePath'].astype('str')\n",
    "df['ga:landingPagePath'] = df['ga:landingPagePath'].apply(lambda x: x[:x.find(\"?pag\")] if \"?pag\" in x else x)\n",
    "\n",
    "print(df.shape)\n",
    "print(\"\")\n",
    "df.info()"
   ]
  },
  {
   "cell_type": "code",
   "execution_count": null,
   "id": "47bf5590",
   "metadata": {
    "id": "lightweight-desert",
    "outputId": "9293aba4-cdd6-4159-8b47-a36d43500b9e"
   },
   "outputs": [
    {
     "name": "stdout",
     "output_type": "stream",
     "text": [
      "No. observations per class\n",
      "0    95520\n",
      "1     4480\n",
      "Name: ga:productAddsToCart_transf, dtype: int64\n",
      "\n",
      "% observations per class\n",
      "0    95.52\n",
      "1     4.48\n",
      "Name: ga:productAddsToCart_transf, dtype: float64\n"
     ]
    }
   ],
   "source": [
    "df['ga:productAddsToCart_transf']=df[\"ga:productAddsToCart\"].apply(lambda x: 1 if x>1 else x)\n",
    "\n",
    "print(\"No. observations per class\")\n",
    "print(df['ga:productAddsToCart_transf'].value_counts())\n",
    "print(\"\")\n",
    "\n",
    "print(\"% observations per class\")\n",
    "print(100*df['ga:productAddsToCart_transf'].value_counts(normalize=True))"
   ]
  },
  {
   "cell_type": "markdown",
   "id": "cf11ff83",
   "metadata": {
    "id": "covered-subcommittee"
   },
   "source": [
    "##### Prepare data"
   ]
  },
  {
   "cell_type": "code",
   "execution_count": null,
   "id": "971286e4",
   "metadata": {
    "id": "arabic-laptop"
   },
   "outputs": [],
   "source": [
    "# Data\n",
    "\n",
    "features=['ga:pageDepth','ga:sessionCount','ga:daysSinceLastSession','ga:productSKU',\\\n",
    "          'month_sin','month_cos','dayofweek_sin','dayofweek_cos','hour_sin','hour_cos',\\\n",
    "          'Source','Medium','ga:city','ga:deviceCategory','ga:operatingSystem','Returning_Visitor',\\\n",
    "          'Product_price','Web_Discount','ga:pagePath','Detail_View','ga:landingPagePath']\n",
    "\n",
    "y=df['ga:productAddsToCart_transf']\n",
    "X=df[features]\n",
    "X_train, X_test, y_train, y_test = train_test_split(X, y,random_state=42)"
   ]
  },
  {
   "cell_type": "markdown",
   "id": "968c27fe",
   "metadata": {
    "id": "bound-covering"
   },
   "source": [
    "##### Preprocess"
   ]
  },
  {
   "cell_type": "markdown",
   "id": "78017c7c",
   "metadata": {
    "id": "strange-midwest"
   },
   "source": [
    "Let's just use the pipeline to preprocess data:"
   ]
  },
  {
   "cell_type": "code",
   "execution_count": null,
   "id": "7dec6d49",
   "metadata": {
    "id": "expanded-heaven"
   },
   "outputs": [],
   "source": [
    "# 'Operating System' Transformer\n",
    "\n",
    "important_os = ['Android','iOS','Windows','Macintosh']\n",
    "\n",
    "class OSTransfomer(BaseEstimator,TransformerMixin):\n",
    "    def fit(self,X,y=None):\n",
    "        return self\n",
    "    def transform (self,X,y=None):\n",
    "        X_=X.copy()\n",
    "        X_['ga:operatingSystem']=X_['ga:operatingSystem'].apply(lambda os: 'other OS' if os not in important_os else os)\n",
    "        return X_\n",
    "    \n",
    "    \n",
    "# Compile 'Source'\n",
    "\n",
    "def source_compiler(x):\n",
    "    \n",
    "    insta_words= ['instagram','ig','linktr.ee']\n",
    "    for seq in insta_words:\n",
    "        if seq in x.lower():\n",
    "            return 'instagram'\n",
    "    if 'facebook' in x.lower():\n",
    "        return 'facebook'\n",
    "    if 'youtube' in x.lower():\n",
    "        return 'youtube'  \n",
    "    if 'vogue' in x.lower():\n",
    "        return 'vogue'\n",
    "    if 'yahoo' in x.lower():\n",
    "        return 'yahoo'\n",
    "    else:\n",
    "        return x\n",
    "\n",
    "important_sources = ['google','(direct)','instagram','facebook','sendinblue','youtube','bing','yahoo','vogue','cantabrialabs.es']\n",
    "\n",
    "class SourceTransfomer(BaseEstimator,TransformerMixin):\n",
    "    def fit(self,X,y=None):\n",
    "        return self\n",
    "    def transform (self,X,y=None):\n",
    "        X_=X.copy()\n",
    "        X_['Source']=X_['Source'].apply(source_compiler)\n",
    "        X_['Source']=X_['Source'].apply(lambda source: 'other sources' if source not in important_sources else source)\n",
    "        return X_\n",
    "    \n",
    "# Compile 'Medium':\n",
    "\n",
    "def medium_compiler(x):\n",
    "    \n",
    "    if 'cpc' in x.lower():\n",
    "        return 'cpc'\n",
    "    if x=='Social':\n",
    "        return 'IGShopping'  \n",
    "    if x=='facebook':\n",
    "        return 'facebook ads'\n",
    "    if x=='trafico':\n",
    "        return 'facebook trafico'\n",
    "    else:\n",
    "        return x\n",
    "    \n",
    "class MediumTransfomer(BaseEstimator,TransformerMixin):\n",
    "    def fit(self,X,y=None):\n",
    "        return self\n",
    "    def transform (self,X,y=None):\n",
    "        X_=X.copy()\n",
    "        X_['Medium']=X_['Medium'].apply(medium_compiler)\n",
    "        return X_\n",
    "    \n",
    "# Select other columns with no transformations (in order to be able to apply get_feature_names)\n",
    "\n",
    "class SelectColumnTransformer(BaseEstimator,TransformerMixin):\n",
    "    def fit(self,X,y=None):\n",
    "        return self\n",
    "    def transform (self,X,y=None):\n",
    "        return X"
   ]
  },
  {
   "cell_type": "code",
   "execution_count": null,
   "id": "01390101",
   "metadata": {
    "id": "signed-residence"
   },
   "outputs": [],
   "source": [
    "# PIPELINE:\n",
    "\n",
    "# Preprocess:\n",
    "source_preprocessing = Pipeline([\n",
    "    ('source_transf',SourceTransfomer()),\n",
    "    ('ohe',OneHotEncoder()) # handle_unknown is default 'error'\n",
    "])\n",
    "\n",
    "medium_preprocessing = Pipeline([\n",
    "    ('medium_transf',MediumTransfomer()),\n",
    "    ('ohe',OneHotEncoder(drop='first')) #to drop (none) that is equal to (direct) in Source\n",
    "]) # handle_unknown is default 'error'\n",
    "\n",
    "device_preprocessing = Pipeline([\n",
    "    ('ohe',OneHotEncoder()) # handle_unknown is default 'error'\n",
    "])\n",
    "\n",
    "os_preprocessing = Pipeline([\n",
    "    ('os_transf',OSTransfomer()),\n",
    "    ('ohe',OneHotEncoder()) # handle_unknown is default 'error'\n",
    "])\n",
    "\n",
    "targetencod_preprocessing = Pipeline([('target_encoding',TargetEncoder())])\n",
    "\n",
    "imput_preprocessing = Pipeline([('impute_median',SimpleImputer(strategy='median'))])\n",
    "\n",
    "no_preprocessing = Pipeline([('select_columns',SelectColumnTransformer())])\n",
    "\n",
    "preprocess = ColumnTransformer([\n",
    "    ('source_preprocessing',source_preprocessing,['Source']),\n",
    "    ('medium_preprocessing',medium_preprocessing,['Medium']),\n",
    "    ('device_preprocessing',device_preprocessing,['ga:deviceCategory']),\n",
    "    ('os_preprocessing',os_preprocessing,['ga:operatingSystem']),\n",
    "    ('targetencod_preprocessing',targetencod_preprocessing,['ga:productSKU','ga:city','ga:pagePath','ga:landingPagePath']),\n",
    "    ('imput_preprocessing',imput_preprocessing,['Product_price']),\n",
    "    ('no_preprocessing',no_preprocessing,['Web_Discount','Detail_View','ga:pageDepth','Returning_Visitor','ga:sessionCount','ga:daysSinceLastSession','month_sin','month_cos','dayofweek_sin','dayofweek_cos','hour_sin','hour_cos'])\n",
    "])\n",
    "\n",
    "# Feature Selection:\n",
    "rf_feat_imp = RandomForestClassifier()\n",
    "rf_permutation_imp = PermutationImportance(rf_feat_imp,cv=5)\n",
    "feature_selection = SelectFromModel(rf_permutation_imp, threshold=0.005)\n",
    "\n",
    "# Model\n",
    "pipeline=Pipeline([\n",
    "    ('preprocess',preprocess),\n",
    "])"
   ]
  },
  {
   "cell_type": "code",
   "execution_count": null,
   "id": "8dacca8e",
   "metadata": {
    "id": "american-kidney",
    "outputId": "0f61879a-e3c2-4fb6-9c00-0a23b14f92b2"
   },
   "outputs": [
    {
     "name": "stderr",
     "output_type": "stream",
     "text": [
      "/home/dsc/TFM/kschool_masterDS_TFM/env/lib/python3.9/site-packages/category_encoders/utils.py:21: FutureWarning: is_categorical is deprecated and will be removed in a future version.  Use is_categorical_dtype instead\n",
      "  elif pd.api.types.is_categorical(cols):\n"
     ]
    }
   ],
   "source": [
    "X_train_transf = pipeline.fit_transform(X_train,y_train)\n",
    "X_test_transf = pipeline.transform(X_test)"
   ]
  },
  {
   "cell_type": "markdown",
   "id": "7f0b0c82",
   "metadata": {
    "id": "prescription-process"
   },
   "source": [
    "##### Permutation Importance"
   ]
  },
  {
   "cell_type": "code",
   "execution_count": null,
   "id": "9f420f2d",
   "metadata": {
    "id": "explicit-familiar",
    "outputId": "720a6fa9-cef3-4951-950c-ad1f093aec32"
   },
   "outputs": [
    {
     "name": "stdout",
     "output_type": "stream",
     "text": [
      "38\n"
     ]
    },
    {
     "data": {
      "text/plain": [
       "['x0_(direct)',\n",
       " 'x0_bing',\n",
       " 'x0_facebook',\n",
       " 'x0_google',\n",
       " 'x0_instagram',\n",
       " 'x0_other sources',\n",
       " 'x0_vogue',\n",
       " 'x0_yahoo',\n",
       " 'x0_youtube',\n",
       " 'x0_IGShopping',\n",
       " 'x0_cpc',\n",
       " 'x0_organic',\n",
       " 'x0_referral',\n",
       " 'x0_desktop',\n",
       " 'x0_mobile',\n",
       " 'x0_tablet',\n",
       " 'x0_Android',\n",
       " 'x0_Macintosh',\n",
       " 'x0_Windows',\n",
       " 'x0_iOS',\n",
       " 'x0_other OS',\n",
       " 'ga:productSKU',\n",
       " 'ga:city',\n",
       " 'ga:pagePath',\n",
       " 'ga:landingPagePath',\n",
       " 'Product_price',\n",
       " 'Web_Discount',\n",
       " 'Detail_View',\n",
       " 'ga:pageDepth',\n",
       " 'Returning_Visitor',\n",
       " 'ga:sessionCount',\n",
       " 'ga:daysSinceLastSession',\n",
       " 'month_sin',\n",
       " 'month_cos',\n",
       " 'dayofweek_sin',\n",
       " 'dayofweek_cos',\n",
       " 'hour_sin',\n",
       " 'hour_cos']"
      ]
     },
     "execution_count": 27,
     "metadata": {
      "tags": []
     },
     "output_type": "execute_result"
    }
   ],
   "source": [
    "features_names=[]\n",
    "\n",
    "for feature in range(0,4):\n",
    "    features= list(pipeline.named_steps['preprocess'].transformers_[feature][1].named_steps['ohe'].get_feature_names())\n",
    "    features_names.append(features)\n",
    "\n",
    "for feature in range(4,7):\n",
    "    features = pipeline['preprocess'].transformers_[feature][2]\n",
    "    features_names.append(features)\n",
    "\n",
    "features_names = [j for i in features_names for j in i]\n",
    "print(len(features_names))\n",
    "features_names"
   ]
  },
  {
   "cell_type": "code",
   "execution_count": null,
   "id": "5ca483fc",
   "metadata": {
    "id": "acting-mercy",
    "outputId": "7b3b3910-0208-47a1-c65c-d129037e1764"
   },
   "outputs": [
    {
     "name": "stdout",
     "output_type": "stream",
     "text": [
      "CPU times: user 1min 14s, sys: 0 ns, total: 1min 14s\n",
      "Wall time: 1min 14s\n"
     ]
    },
    {
     "data": {
      "text/html": [
       "\n",
       "    <style>\n",
       "    table.eli5-weights tr:hover {\n",
       "        filter: brightness(85%);\n",
       "    }\n",
       "</style>\n",
       "\n",
       "\n",
       "\n",
       "    \n",
       "\n",
       "    \n",
       "\n",
       "    \n",
       "\n",
       "    \n",
       "\n",
       "    \n",
       "\n",
       "    \n",
       "\n",
       "\n",
       "    \n",
       "\n",
       "    \n",
       "\n",
       "    \n",
       "\n",
       "    \n",
       "\n",
       "    \n",
       "\n",
       "    \n",
       "\n",
       "\n",
       "    \n",
       "\n",
       "    \n",
       "\n",
       "    \n",
       "\n",
       "    \n",
       "\n",
       "    \n",
       "        <table class=\"eli5-weights eli5-feature-importances\" style=\"border-collapse: collapse; border: none; margin-top: 0em; table-layout: auto;\">\n",
       "    <thead>\n",
       "    <tr style=\"border: none;\">\n",
       "        <th style=\"padding: 0 1em 0 0.5em; text-align: right; border: none;\">Weight</th>\n",
       "        <th style=\"padding: 0 0.5em 0 0.5em; text-align: left; border: none;\">Feature</th>\n",
       "    </tr>\n",
       "    </thead>\n",
       "    <tbody>\n",
       "    \n",
       "        <tr style=\"background-color: hsl(120, 100.00%, 80.00%); border: none;\">\n",
       "            <td style=\"padding: 0 1em 0 0.5em; text-align: right; border: none;\">\n",
       "                0.0585\n",
       "                \n",
       "                    &plusmn; 0.0022\n",
       "                \n",
       "            </td>\n",
       "            <td style=\"padding: 0 0.5em 0 0.5em; text-align: left; border: none;\">\n",
       "                ga:productSKU\n",
       "            </td>\n",
       "        </tr>\n",
       "    \n",
       "        <tr style=\"background-color: hsl(120, 100.00%, 83.12%); border: none;\">\n",
       "            <td style=\"padding: 0 1em 0 0.5em; text-align: right; border: none;\">\n",
       "                0.0459\n",
       "                \n",
       "                    &plusmn; 0.0006\n",
       "                \n",
       "            </td>\n",
       "            <td style=\"padding: 0 0.5em 0 0.5em; text-align: left; border: none;\">\n",
       "                ga:pagePath\n",
       "            </td>\n",
       "        </tr>\n",
       "    \n",
       "        <tr style=\"background-color: hsl(120, 100.00%, 89.46%); border: none;\">\n",
       "            <td style=\"padding: 0 1em 0 0.5em; text-align: right; border: none;\">\n",
       "                0.0234\n",
       "                \n",
       "                    &plusmn; 0.0008\n",
       "                \n",
       "            </td>\n",
       "            <td style=\"padding: 0 0.5em 0 0.5em; text-align: left; border: none;\">\n",
       "                Detail_View\n",
       "            </td>\n",
       "        </tr>\n",
       "    \n",
       "        <tr style=\"background-color: hsl(120, 100.00%, 97.08%); border: none;\">\n",
       "            <td style=\"padding: 0 1em 0 0.5em; text-align: right; border: none;\">\n",
       "                0.0037\n",
       "                \n",
       "                    &plusmn; 0.0005\n",
       "                \n",
       "            </td>\n",
       "            <td style=\"padding: 0 0.5em 0 0.5em; text-align: left; border: none;\">\n",
       "                ga:pageDepth\n",
       "            </td>\n",
       "        </tr>\n",
       "    \n",
       "        <tr style=\"background-color: hsl(120, 100.00%, 98.36%); border: none;\">\n",
       "            <td style=\"padding: 0 1em 0 0.5em; text-align: right; border: none;\">\n",
       "                0.0016\n",
       "                \n",
       "                    &plusmn; 0.0003\n",
       "                \n",
       "            </td>\n",
       "            <td style=\"padding: 0 0.5em 0 0.5em; text-align: left; border: none;\">\n",
       "                ga:city\n",
       "            </td>\n",
       "        </tr>\n",
       "    \n",
       "        <tr style=\"background-color: hsl(120, 100.00%, 98.89%); border: none;\">\n",
       "            <td style=\"padding: 0 1em 0 0.5em; text-align: right; border: none;\">\n",
       "                0.0009\n",
       "                \n",
       "                    &plusmn; 0.0005\n",
       "                \n",
       "            </td>\n",
       "            <td style=\"padding: 0 0.5em 0 0.5em; text-align: left; border: none;\">\n",
       "                ga:landingPagePath\n",
       "            </td>\n",
       "        </tr>\n",
       "    \n",
       "        <tr style=\"background-color: hsl(120, 100.00%, 99.57%); border: none;\">\n",
       "            <td style=\"padding: 0 1em 0 0.5em; text-align: right; border: none;\">\n",
       "                0.0002\n",
       "                \n",
       "                    &plusmn; 0.0001\n",
       "                \n",
       "            </td>\n",
       "            <td style=\"padding: 0 0.5em 0 0.5em; text-align: left; border: none;\">\n",
       "                x0_cpc\n",
       "            </td>\n",
       "        </tr>\n",
       "    \n",
       "        <tr style=\"background-color: hsl(120, 100.00%, 99.65%); border: none;\">\n",
       "            <td style=\"padding: 0 1em 0 0.5em; text-align: right; border: none;\">\n",
       "                0.0002\n",
       "                \n",
       "                    &plusmn; 0.0001\n",
       "                \n",
       "            </td>\n",
       "            <td style=\"padding: 0 0.5em 0 0.5em; text-align: left; border: none;\">\n",
       "                dayofweek_sin\n",
       "            </td>\n",
       "        </tr>\n",
       "    \n",
       "        <tr style=\"background-color: hsl(120, 100.00%, 99.73%); border: none;\">\n",
       "            <td style=\"padding: 0 1em 0 0.5em; text-align: right; border: none;\">\n",
       "                0.0001\n",
       "                \n",
       "                    &plusmn; 0.0001\n",
       "                \n",
       "            </td>\n",
       "            <td style=\"padding: 0 0.5em 0 0.5em; text-align: left; border: none;\">\n",
       "                hour_sin\n",
       "            </td>\n",
       "        </tr>\n",
       "    \n",
       "        <tr style=\"background-color: hsl(120, 100.00%, 99.80%); border: none;\">\n",
       "            <td style=\"padding: 0 1em 0 0.5em; text-align: right; border: none;\">\n",
       "                0.0001\n",
       "                \n",
       "                    &plusmn; 0.0001\n",
       "                \n",
       "            </td>\n",
       "            <td style=\"padding: 0 0.5em 0 0.5em; text-align: left; border: none;\">\n",
       "                x0_referral\n",
       "            </td>\n",
       "        </tr>\n",
       "    \n",
       "        <tr style=\"background-color: hsl(120, 100.00%, 99.86%); border: none;\">\n",
       "            <td style=\"padding: 0 1em 0 0.5em; text-align: right; border: none;\">\n",
       "                0.0000\n",
       "                \n",
       "                    &plusmn; 0.0002\n",
       "                \n",
       "            </td>\n",
       "            <td style=\"padding: 0 0.5em 0 0.5em; text-align: left; border: none;\">\n",
       "                x0_Android\n",
       "            </td>\n",
       "        </tr>\n",
       "    \n",
       "        <tr style=\"background-color: hsl(120, 100.00%, 99.90%); border: none;\">\n",
       "            <td style=\"padding: 0 1em 0 0.5em; text-align: right; border: none;\">\n",
       "                0.0000\n",
       "                \n",
       "                    &plusmn; 0.0001\n",
       "                \n",
       "            </td>\n",
       "            <td style=\"padding: 0 0.5em 0 0.5em; text-align: left; border: none;\">\n",
       "                x0_instagram\n",
       "            </td>\n",
       "        </tr>\n",
       "    \n",
       "        <tr style=\"background-color: hsl(120, 100.00%, 99.91%); border: none;\">\n",
       "            <td style=\"padding: 0 1em 0 0.5em; text-align: right; border: none;\">\n",
       "                0.0000\n",
       "                \n",
       "                    &plusmn; 0.0003\n",
       "                \n",
       "            </td>\n",
       "            <td style=\"padding: 0 0.5em 0 0.5em; text-align: left; border: none;\">\n",
       "                Product_price\n",
       "            </td>\n",
       "        </tr>\n",
       "    \n",
       "        <tr style=\"background-color: hsl(120, 100.00%, 99.94%); border: none;\">\n",
       "            <td style=\"padding: 0 1em 0 0.5em; text-align: right; border: none;\">\n",
       "                0.0000\n",
       "                \n",
       "                    &plusmn; 0.0001\n",
       "                \n",
       "            </td>\n",
       "            <td style=\"padding: 0 0.5em 0 0.5em; text-align: left; border: none;\">\n",
       "                x0_desktop\n",
       "            </td>\n",
       "        </tr>\n",
       "    \n",
       "        <tr style=\"background-color: hsl(120, 100.00%, 99.96%); border: none;\">\n",
       "            <td style=\"padding: 0 1em 0 0.5em; text-align: right; border: none;\">\n",
       "                0.0000\n",
       "                \n",
       "                    &plusmn; 0.0000\n",
       "                \n",
       "            </td>\n",
       "            <td style=\"padding: 0 0.5em 0 0.5em; text-align: left; border: none;\">\n",
       "                x0_other sources\n",
       "            </td>\n",
       "        </tr>\n",
       "    \n",
       "        <tr style=\"background-color: hsl(120, 100.00%, 99.96%); border: none;\">\n",
       "            <td style=\"padding: 0 1em 0 0.5em; text-align: right; border: none;\">\n",
       "                0.0000\n",
       "                \n",
       "                    &plusmn; 0.0001\n",
       "                \n",
       "            </td>\n",
       "            <td style=\"padding: 0 0.5em 0 0.5em; text-align: left; border: none;\">\n",
       "                x0_organic\n",
       "            </td>\n",
       "        </tr>\n",
       "    \n",
       "        <tr style=\"background-color: hsl(120, 100.00%, 99.96%); border: none;\">\n",
       "            <td style=\"padding: 0 1em 0 0.5em; text-align: right; border: none;\">\n",
       "                0.0000\n",
       "                \n",
       "                    &plusmn; 0.0001\n",
       "                \n",
       "            </td>\n",
       "            <td style=\"padding: 0 0.5em 0 0.5em; text-align: left; border: none;\">\n",
       "                x0_Macintosh\n",
       "            </td>\n",
       "        </tr>\n",
       "    \n",
       "        <tr style=\"background-color: hsl(0, 100.00%, 100.00%); border: none;\">\n",
       "            <td style=\"padding: 0 1em 0 0.5em; text-align: right; border: none;\">\n",
       "                0\n",
       "                \n",
       "                    &plusmn; 0.0000\n",
       "                \n",
       "            </td>\n",
       "            <td style=\"padding: 0 0.5em 0 0.5em; text-align: left; border: none;\">\n",
       "                x0_bing\n",
       "            </td>\n",
       "        </tr>\n",
       "    \n",
       "        <tr style=\"background-color: hsl(0, 100.00%, 100.00%); border: none;\">\n",
       "            <td style=\"padding: 0 1em 0 0.5em; text-align: right; border: none;\">\n",
       "                0\n",
       "                \n",
       "                    &plusmn; 0.0000\n",
       "                \n",
       "            </td>\n",
       "            <td style=\"padding: 0 0.5em 0 0.5em; text-align: left; border: none;\">\n",
       "                x0_yahoo\n",
       "            </td>\n",
       "        </tr>\n",
       "    \n",
       "        <tr style=\"background-color: hsl(0, 100.00%, 100.00%); border: none;\">\n",
       "            <td style=\"padding: 0 1em 0 0.5em; text-align: right; border: none;\">\n",
       "                0\n",
       "                \n",
       "                    &plusmn; 0.0000\n",
       "                \n",
       "            </td>\n",
       "            <td style=\"padding: 0 0.5em 0 0.5em; text-align: left; border: none;\">\n",
       "                x0_youtube\n",
       "            </td>\n",
       "        </tr>\n",
       "    \n",
       "    \n",
       "        \n",
       "            <tr style=\"background-color: hsl(0, 100.00%, 100.00%); border: none;\">\n",
       "                <td colspan=\"2\" style=\"padding: 0 0.5em 0 0.5em; text-align: center; border: none; white-space: nowrap;\">\n",
       "                    <i>&hellip; 18 more &hellip;</i>\n",
       "                </td>\n",
       "            </tr>\n",
       "        \n",
       "    \n",
       "    </tbody>\n",
       "</table>\n",
       "    \n",
       "\n",
       "    \n",
       "\n",
       "\n",
       "    \n",
       "\n",
       "    \n",
       "\n",
       "    \n",
       "\n",
       "    \n",
       "\n",
       "    \n",
       "\n",
       "    \n",
       "\n",
       "\n",
       "\n"
      ],
      "text/plain": [
       "<IPython.core.display.HTML object>"
      ]
     },
     "execution_count": 28,
     "metadata": {
      "tags": []
     },
     "output_type": "execute_result"
    }
   ],
   "source": [
    "%%time\n",
    "\n",
    "clf = RandomForestClassifier()\n",
    "clf.fit(X_train_transf,y_train)\n",
    "per = PermutationImportance(clf).fit(X_test_transf, y_test)\n",
    "eli5.show_weights(per, feature_names=features_names)"
   ]
  },
  {
   "cell_type": "markdown",
   "id": "aed52cad",
   "metadata": {
    "id": "bottom-proceeding"
   },
   "source": [
    "##### SelectFromModel"
   ]
  },
  {
   "cell_type": "code",
   "execution_count": null,
   "id": "9236a179",
   "metadata": {
    "id": "pediatric-burlington",
    "outputId": "f51185ad-8da4-4d22-9b89-b0ee76f14386"
   },
   "outputs": [
    {
     "name": "stderr",
     "output_type": "stream",
     "text": [
      "/home/dsc/TFM/kschool_masterDS_TFM/env/lib/python3.9/site-packages/sklearn/utils/validation.py:67: FutureWarning: Pass classifier=True as keyword args. From version 0.25 passing these as positional arguments will result in an error\n",
      "  warnings.warn(\"Pass {} as keyword args. From version 0.25 \"\n"
     ]
    },
    {
     "ename": "KeyError",
     "evalue": "\"Passing list-likes to .loc or [] with any missing labels is no longer supported. The following labels were missing: Int64Index([15000, 15006, 15022, 15030, 15035,\\n            ...\\n            74972, 74973, 74985, 74986, 74992],\\n           dtype='int64', length=15025). See https://pandas.pydata.org/pandas-docs/stable/user_guide/indexing.html#deprecate-loc-reindex-listlike\"",
     "output_type": "error",
     "traceback": [
      "\u001b[0;31m---------------------------------------------------------------------------\u001b[0m",
      "\u001b[0;31mKeyError\u001b[0m                                  Traceback (most recent call last)",
      "\u001b[0;32m<ipython-input-30-2ccadae64582>\u001b[0m in \u001b[0;36m<module>\u001b[0;34m\u001b[0m\n\u001b[1;32m      1\u001b[0m \u001b[0mperm\u001b[0m \u001b[0;34m=\u001b[0m \u001b[0mPermutationImportance\u001b[0m\u001b[0;34m(\u001b[0m\u001b[0mRandomForestClassifier\u001b[0m\u001b[0;34m(\u001b[0m\u001b[0;34m)\u001b[0m\u001b[0;34m,\u001b[0m \u001b[0mcv\u001b[0m\u001b[0;34m=\u001b[0m\u001b[0;36m5\u001b[0m\u001b[0;34m)\u001b[0m\u001b[0;34m\u001b[0m\u001b[0;34m\u001b[0m\u001b[0m\n\u001b[0;32m----> 2\u001b[0;31m \u001b[0mperm\u001b[0m\u001b[0;34m.\u001b[0m\u001b[0mfit\u001b[0m\u001b[0;34m(\u001b[0m\u001b[0mX_train_transf\u001b[0m\u001b[0;34m,\u001b[0m \u001b[0my_train\u001b[0m\u001b[0;34m)\u001b[0m\u001b[0;34m\u001b[0m\u001b[0;34m\u001b[0m\u001b[0m\n\u001b[0m\u001b[1;32m      3\u001b[0m \u001b[0msel\u001b[0m \u001b[0;34m=\u001b[0m \u001b[0mSelectFromModel\u001b[0m\u001b[0;34m(\u001b[0m\u001b[0mperm\u001b[0m\u001b[0;34m,\u001b[0m \u001b[0mthreshold\u001b[0m\u001b[0;34m=\u001b[0m\u001b[0;36m0.05\u001b[0m\u001b[0;34m,\u001b[0m \u001b[0mprefit\u001b[0m\u001b[0;34m=\u001b[0m\u001b[0;32mTrue\u001b[0m\u001b[0;34m)\u001b[0m\u001b[0;34m\u001b[0m\u001b[0;34m\u001b[0m\u001b[0m\n",
      "\u001b[0;32m~/TFM/kschool_masterDS_TFM/env/lib/python3.9/site-packages/eli5/sklearn/permutation_importance.py\u001b[0m in \u001b[0;36mfit\u001b[0;34m(self, X, y, groups, **fit_params)\u001b[0m\n\u001b[1;32m    200\u001b[0m \u001b[0;34m\u001b[0m\u001b[0m\n\u001b[1;32m    201\u001b[0m         \u001b[0;32mif\u001b[0m \u001b[0mself\u001b[0m\u001b[0;34m.\u001b[0m\u001b[0mcv\u001b[0m \u001b[0;32mnot\u001b[0m \u001b[0;32min\u001b[0m \u001b[0;34m(\u001b[0m\u001b[0;32mNone\u001b[0m\u001b[0;34m,\u001b[0m \u001b[0;34m\"prefit\"\u001b[0m\u001b[0;34m)\u001b[0m\u001b[0;34m:\u001b[0m\u001b[0;34m\u001b[0m\u001b[0;34m\u001b[0m\u001b[0m\n\u001b[0;32m--> 202\u001b[0;31m             \u001b[0msi\u001b[0m \u001b[0;34m=\u001b[0m \u001b[0mself\u001b[0m\u001b[0;34m.\u001b[0m\u001b[0m_cv_scores_importances\u001b[0m\u001b[0;34m(\u001b[0m\u001b[0mX\u001b[0m\u001b[0;34m,\u001b[0m \u001b[0my\u001b[0m\u001b[0;34m,\u001b[0m \u001b[0mgroups\u001b[0m\u001b[0;34m=\u001b[0m\u001b[0mgroups\u001b[0m\u001b[0;34m,\u001b[0m \u001b[0;34m**\u001b[0m\u001b[0mfit_params\u001b[0m\u001b[0;34m)\u001b[0m\u001b[0;34m\u001b[0m\u001b[0;34m\u001b[0m\u001b[0m\n\u001b[0m\u001b[1;32m    203\u001b[0m         \u001b[0;32melse\u001b[0m\u001b[0;34m:\u001b[0m\u001b[0;34m\u001b[0m\u001b[0;34m\u001b[0m\u001b[0m\n\u001b[1;32m    204\u001b[0m             \u001b[0msi\u001b[0m \u001b[0;34m=\u001b[0m \u001b[0mself\u001b[0m\u001b[0;34m.\u001b[0m\u001b[0m_non_cv_scores_importances\u001b[0m\u001b[0;34m(\u001b[0m\u001b[0mX\u001b[0m\u001b[0;34m,\u001b[0m \u001b[0my\u001b[0m\u001b[0;34m)\u001b[0m\u001b[0;34m\u001b[0m\u001b[0;34m\u001b[0m\u001b[0m\n",
      "\u001b[0;32m~/TFM/kschool_masterDS_TFM/env/lib/python3.9/site-packages/eli5/sklearn/permutation_importance.py\u001b[0m in \u001b[0;36m_cv_scores_importances\u001b[0;34m(self, X, y, groups, **fit_params)\u001b[0m\n\u001b[1;32m    220\u001b[0m             \u001b[0;32mif\u001b[0m \u001b[0mweights\u001b[0m \u001b[0;32mis\u001b[0m \u001b[0;32mnot\u001b[0m \u001b[0;32mNone\u001b[0m\u001b[0;34m:\u001b[0m\u001b[0;34m\u001b[0m\u001b[0;34m\u001b[0m\u001b[0m\n\u001b[1;32m    221\u001b[0m                 \u001b[0mfold_fit_params\u001b[0m\u001b[0;34m[\u001b[0m\u001b[0;34m'sample_weight'\u001b[0m\u001b[0;34m]\u001b[0m \u001b[0;34m=\u001b[0m \u001b[0mweights\u001b[0m\u001b[0;34m[\u001b[0m\u001b[0mtrain\u001b[0m\u001b[0;34m]\u001b[0m\u001b[0;34m\u001b[0m\u001b[0;34m\u001b[0m\u001b[0m\n\u001b[0;32m--> 222\u001b[0;31m             \u001b[0mest\u001b[0m \u001b[0;34m=\u001b[0m \u001b[0mclone\u001b[0m\u001b[0;34m(\u001b[0m\u001b[0mself\u001b[0m\u001b[0;34m.\u001b[0m\u001b[0mestimator\u001b[0m\u001b[0;34m)\u001b[0m\u001b[0;34m.\u001b[0m\u001b[0mfit\u001b[0m\u001b[0;34m(\u001b[0m\u001b[0mX\u001b[0m\u001b[0;34m[\u001b[0m\u001b[0mtrain\u001b[0m\u001b[0;34m]\u001b[0m\u001b[0;34m,\u001b[0m \u001b[0my\u001b[0m\u001b[0;34m[\u001b[0m\u001b[0mtrain\u001b[0m\u001b[0;34m]\u001b[0m\u001b[0;34m,\u001b[0m \u001b[0;34m**\u001b[0m\u001b[0mfold_fit_params\u001b[0m\u001b[0;34m)\u001b[0m\u001b[0;34m\u001b[0m\u001b[0;34m\u001b[0m\u001b[0m\n\u001b[0m\u001b[1;32m    223\u001b[0m             \u001b[0mscore_func\u001b[0m \u001b[0;34m=\u001b[0m \u001b[0mpartial\u001b[0m\u001b[0;34m(\u001b[0m\u001b[0mself\u001b[0m\u001b[0;34m.\u001b[0m\u001b[0mscorer_\u001b[0m\u001b[0;34m,\u001b[0m \u001b[0mest\u001b[0m\u001b[0;34m)\u001b[0m\u001b[0;34m\u001b[0m\u001b[0;34m\u001b[0m\u001b[0m\n\u001b[1;32m    224\u001b[0m             _base_score, _importances = self._get_score_importances(\n",
      "\u001b[0;32m~/TFM/kschool_masterDS_TFM/env/lib/python3.9/site-packages/pandas/core/series.py\u001b[0m in \u001b[0;36m__getitem__\u001b[0;34m(self, key)\u001b[0m\n\u001b[1;32m    846\u001b[0m             \u001b[0;32mreturn\u001b[0m \u001b[0mself\u001b[0m\u001b[0;34m.\u001b[0m\u001b[0m_get_values\u001b[0m\u001b[0;34m(\u001b[0m\u001b[0mkey\u001b[0m\u001b[0;34m)\u001b[0m\u001b[0;34m\u001b[0m\u001b[0;34m\u001b[0m\u001b[0m\n\u001b[1;32m    847\u001b[0m \u001b[0;34m\u001b[0m\u001b[0m\n\u001b[0;32m--> 848\u001b[0;31m         \u001b[0;32mreturn\u001b[0m \u001b[0mself\u001b[0m\u001b[0;34m.\u001b[0m\u001b[0m_get_with\u001b[0m\u001b[0;34m(\u001b[0m\u001b[0mkey\u001b[0m\u001b[0;34m)\u001b[0m\u001b[0;34m\u001b[0m\u001b[0;34m\u001b[0m\u001b[0m\n\u001b[0m\u001b[1;32m    849\u001b[0m \u001b[0;34m\u001b[0m\u001b[0m\n\u001b[1;32m    850\u001b[0m     \u001b[0;32mdef\u001b[0m \u001b[0m_get_with\u001b[0m\u001b[0;34m(\u001b[0m\u001b[0mself\u001b[0m\u001b[0;34m,\u001b[0m \u001b[0mkey\u001b[0m\u001b[0;34m)\u001b[0m\u001b[0;34m:\u001b[0m\u001b[0;34m\u001b[0m\u001b[0;34m\u001b[0m\u001b[0m\n",
      "\u001b[0;32m~/TFM/kschool_masterDS_TFM/env/lib/python3.9/site-packages/pandas/core/series.py\u001b[0m in \u001b[0;36m_get_with\u001b[0;34m(self, key)\u001b[0m\n\u001b[1;32m    881\u001b[0m             \u001b[0;31m#  (i.e. self.iloc) or label-based (i.e. self.loc)\u001b[0m\u001b[0;34m\u001b[0m\u001b[0;34m\u001b[0m\u001b[0;34m\u001b[0m\u001b[0m\n\u001b[1;32m    882\u001b[0m             \u001b[0;32mif\u001b[0m \u001b[0;32mnot\u001b[0m \u001b[0mself\u001b[0m\u001b[0;34m.\u001b[0m\u001b[0mindex\u001b[0m\u001b[0;34m.\u001b[0m\u001b[0m_should_fallback_to_positional\u001b[0m\u001b[0;34m(\u001b[0m\u001b[0;34m)\u001b[0m\u001b[0;34m:\u001b[0m\u001b[0;34m\u001b[0m\u001b[0;34m\u001b[0m\u001b[0m\n\u001b[0;32m--> 883\u001b[0;31m                 \u001b[0;32mreturn\u001b[0m \u001b[0mself\u001b[0m\u001b[0;34m.\u001b[0m\u001b[0mloc\u001b[0m\u001b[0;34m[\u001b[0m\u001b[0mkey\u001b[0m\u001b[0;34m]\u001b[0m\u001b[0;34m\u001b[0m\u001b[0;34m\u001b[0m\u001b[0m\n\u001b[0m\u001b[1;32m    884\u001b[0m             \u001b[0;32melse\u001b[0m\u001b[0;34m:\u001b[0m\u001b[0;34m\u001b[0m\u001b[0;34m\u001b[0m\u001b[0m\n\u001b[1;32m    885\u001b[0m                 \u001b[0;32mreturn\u001b[0m \u001b[0mself\u001b[0m\u001b[0;34m.\u001b[0m\u001b[0miloc\u001b[0m\u001b[0;34m[\u001b[0m\u001b[0mkey\u001b[0m\u001b[0;34m]\u001b[0m\u001b[0;34m\u001b[0m\u001b[0;34m\u001b[0m\u001b[0m\n",
      "\u001b[0;32m~/TFM/kschool_masterDS_TFM/env/lib/python3.9/site-packages/pandas/core/indexing.py\u001b[0m in \u001b[0;36m__getitem__\u001b[0;34m(self, key)\u001b[0m\n\u001b[1;32m    892\u001b[0m \u001b[0;34m\u001b[0m\u001b[0m\n\u001b[1;32m    893\u001b[0m             \u001b[0mmaybe_callable\u001b[0m \u001b[0;34m=\u001b[0m \u001b[0mcom\u001b[0m\u001b[0;34m.\u001b[0m\u001b[0mapply_if_callable\u001b[0m\u001b[0;34m(\u001b[0m\u001b[0mkey\u001b[0m\u001b[0;34m,\u001b[0m \u001b[0mself\u001b[0m\u001b[0;34m.\u001b[0m\u001b[0mobj\u001b[0m\u001b[0;34m)\u001b[0m\u001b[0;34m\u001b[0m\u001b[0;34m\u001b[0m\u001b[0m\n\u001b[0;32m--> 894\u001b[0;31m             \u001b[0;32mreturn\u001b[0m \u001b[0mself\u001b[0m\u001b[0;34m.\u001b[0m\u001b[0m_getitem_axis\u001b[0m\u001b[0;34m(\u001b[0m\u001b[0mmaybe_callable\u001b[0m\u001b[0;34m,\u001b[0m \u001b[0maxis\u001b[0m\u001b[0;34m=\u001b[0m\u001b[0maxis\u001b[0m\u001b[0;34m)\u001b[0m\u001b[0;34m\u001b[0m\u001b[0;34m\u001b[0m\u001b[0m\n\u001b[0m\u001b[1;32m    895\u001b[0m \u001b[0;34m\u001b[0m\u001b[0m\n\u001b[1;32m    896\u001b[0m     \u001b[0;32mdef\u001b[0m \u001b[0m_is_scalar_access\u001b[0m\u001b[0;34m(\u001b[0m\u001b[0mself\u001b[0m\u001b[0;34m,\u001b[0m \u001b[0mkey\u001b[0m\u001b[0;34m:\u001b[0m \u001b[0mTuple\u001b[0m\u001b[0;34m)\u001b[0m\u001b[0;34m:\u001b[0m\u001b[0;34m\u001b[0m\u001b[0;34m\u001b[0m\u001b[0m\n",
      "\u001b[0;32m~/TFM/kschool_masterDS_TFM/env/lib/python3.9/site-packages/pandas/core/indexing.py\u001b[0m in \u001b[0;36m_getitem_axis\u001b[0;34m(self, key, axis)\u001b[0m\n\u001b[1;32m   1110\u001b[0m                     \u001b[0;32mraise\u001b[0m \u001b[0mValueError\u001b[0m\u001b[0;34m(\u001b[0m\u001b[0;34m\"Cannot index with multidimensional key\"\u001b[0m\u001b[0;34m)\u001b[0m\u001b[0;34m\u001b[0m\u001b[0;34m\u001b[0m\u001b[0m\n\u001b[1;32m   1111\u001b[0m \u001b[0;34m\u001b[0m\u001b[0m\n\u001b[0;32m-> 1112\u001b[0;31m                 \u001b[0;32mreturn\u001b[0m \u001b[0mself\u001b[0m\u001b[0;34m.\u001b[0m\u001b[0m_getitem_iterable\u001b[0m\u001b[0;34m(\u001b[0m\u001b[0mkey\u001b[0m\u001b[0;34m,\u001b[0m \u001b[0maxis\u001b[0m\u001b[0;34m=\u001b[0m\u001b[0maxis\u001b[0m\u001b[0;34m)\u001b[0m\u001b[0;34m\u001b[0m\u001b[0;34m\u001b[0m\u001b[0m\n\u001b[0m\u001b[1;32m   1113\u001b[0m \u001b[0;34m\u001b[0m\u001b[0m\n\u001b[1;32m   1114\u001b[0m             \u001b[0;31m# nested tuple slicing\u001b[0m\u001b[0;34m\u001b[0m\u001b[0;34m\u001b[0m\u001b[0;34m\u001b[0m\u001b[0m\n",
      "\u001b[0;32m~/TFM/kschool_masterDS_TFM/env/lib/python3.9/site-packages/pandas/core/indexing.py\u001b[0m in \u001b[0;36m_getitem_iterable\u001b[0;34m(self, key, axis)\u001b[0m\n\u001b[1;32m   1050\u001b[0m \u001b[0;34m\u001b[0m\u001b[0m\n\u001b[1;32m   1051\u001b[0m         \u001b[0;31m# A collection of keys\u001b[0m\u001b[0;34m\u001b[0m\u001b[0;34m\u001b[0m\u001b[0;34m\u001b[0m\u001b[0m\n\u001b[0;32m-> 1052\u001b[0;31m         \u001b[0mkeyarr\u001b[0m\u001b[0;34m,\u001b[0m \u001b[0mindexer\u001b[0m \u001b[0;34m=\u001b[0m \u001b[0mself\u001b[0m\u001b[0;34m.\u001b[0m\u001b[0m_get_listlike_indexer\u001b[0m\u001b[0;34m(\u001b[0m\u001b[0mkey\u001b[0m\u001b[0;34m,\u001b[0m \u001b[0maxis\u001b[0m\u001b[0;34m,\u001b[0m \u001b[0mraise_missing\u001b[0m\u001b[0;34m=\u001b[0m\u001b[0;32mFalse\u001b[0m\u001b[0;34m)\u001b[0m\u001b[0;34m\u001b[0m\u001b[0;34m\u001b[0m\u001b[0m\n\u001b[0m\u001b[1;32m   1053\u001b[0m         return self.obj._reindex_with_indexers(\n\u001b[1;32m   1054\u001b[0m             \u001b[0;34m{\u001b[0m\u001b[0maxis\u001b[0m\u001b[0;34m:\u001b[0m \u001b[0;34m[\u001b[0m\u001b[0mkeyarr\u001b[0m\u001b[0;34m,\u001b[0m \u001b[0mindexer\u001b[0m\u001b[0;34m]\u001b[0m\u001b[0;34m}\u001b[0m\u001b[0;34m,\u001b[0m \u001b[0mcopy\u001b[0m\u001b[0;34m=\u001b[0m\u001b[0;32mTrue\u001b[0m\u001b[0;34m,\u001b[0m \u001b[0mallow_dups\u001b[0m\u001b[0;34m=\u001b[0m\u001b[0;32mTrue\u001b[0m\u001b[0;34m\u001b[0m\u001b[0;34m\u001b[0m\u001b[0m\n",
      "\u001b[0;32m~/TFM/kschool_masterDS_TFM/env/lib/python3.9/site-packages/pandas/core/indexing.py\u001b[0m in \u001b[0;36m_get_listlike_indexer\u001b[0;34m(self, key, axis, raise_missing)\u001b[0m\n\u001b[1;32m   1263\u001b[0m             \u001b[0mkeyarr\u001b[0m\u001b[0;34m,\u001b[0m \u001b[0mindexer\u001b[0m\u001b[0;34m,\u001b[0m \u001b[0mnew_indexer\u001b[0m \u001b[0;34m=\u001b[0m \u001b[0max\u001b[0m\u001b[0;34m.\u001b[0m\u001b[0m_reindex_non_unique\u001b[0m\u001b[0;34m(\u001b[0m\u001b[0mkeyarr\u001b[0m\u001b[0;34m)\u001b[0m\u001b[0;34m\u001b[0m\u001b[0;34m\u001b[0m\u001b[0m\n\u001b[1;32m   1264\u001b[0m \u001b[0;34m\u001b[0m\u001b[0m\n\u001b[0;32m-> 1265\u001b[0;31m         \u001b[0mself\u001b[0m\u001b[0;34m.\u001b[0m\u001b[0m_validate_read_indexer\u001b[0m\u001b[0;34m(\u001b[0m\u001b[0mkeyarr\u001b[0m\u001b[0;34m,\u001b[0m \u001b[0mindexer\u001b[0m\u001b[0;34m,\u001b[0m \u001b[0maxis\u001b[0m\u001b[0;34m,\u001b[0m \u001b[0mraise_missing\u001b[0m\u001b[0;34m=\u001b[0m\u001b[0mraise_missing\u001b[0m\u001b[0;34m)\u001b[0m\u001b[0;34m\u001b[0m\u001b[0;34m\u001b[0m\u001b[0m\n\u001b[0m\u001b[1;32m   1266\u001b[0m         \u001b[0;32mreturn\u001b[0m \u001b[0mkeyarr\u001b[0m\u001b[0;34m,\u001b[0m \u001b[0mindexer\u001b[0m\u001b[0;34m\u001b[0m\u001b[0;34m\u001b[0m\u001b[0m\n\u001b[1;32m   1267\u001b[0m \u001b[0;34m\u001b[0m\u001b[0m\n",
      "\u001b[0;32m~/TFM/kschool_masterDS_TFM/env/lib/python3.9/site-packages/pandas/core/indexing.py\u001b[0m in \u001b[0;36m_validate_read_indexer\u001b[0;34m(self, key, indexer, axis, raise_missing)\u001b[0m\n\u001b[1;32m   1318\u001b[0m \u001b[0;34m\u001b[0m\u001b[0m\n\u001b[1;32m   1319\u001b[0m             \u001b[0;32mwith\u001b[0m \u001b[0moption_context\u001b[0m\u001b[0;34m(\u001b[0m\u001b[0;34m\"display.max_seq_items\"\u001b[0m\u001b[0;34m,\u001b[0m \u001b[0;36m10\u001b[0m\u001b[0;34m,\u001b[0m \u001b[0;34m\"display.width\"\u001b[0m\u001b[0;34m,\u001b[0m \u001b[0;36m80\u001b[0m\u001b[0;34m)\u001b[0m\u001b[0;34m:\u001b[0m\u001b[0;34m\u001b[0m\u001b[0;34m\u001b[0m\u001b[0m\n\u001b[0;32m-> 1320\u001b[0;31m                 raise KeyError(\n\u001b[0m\u001b[1;32m   1321\u001b[0m                     \u001b[0;34m\"Passing list-likes to .loc or [] with any missing labels \"\u001b[0m\u001b[0;34m\u001b[0m\u001b[0;34m\u001b[0m\u001b[0m\n\u001b[1;32m   1322\u001b[0m                     \u001b[0;34m\"is no longer supported. \"\u001b[0m\u001b[0;34m\u001b[0m\u001b[0;34m\u001b[0m\u001b[0m\n",
      "\u001b[0;31mKeyError\u001b[0m: \"Passing list-likes to .loc or [] with any missing labels is no longer supported. The following labels were missing: Int64Index([15000, 15006, 15022, 15030, 15035,\\n            ...\\n            74972, 74973, 74985, 74986, 74992],\\n           dtype='int64', length=15025). See https://pandas.pydata.org/pandas-docs/stable/user_guide/indexing.html#deprecate-loc-reindex-listlike\""
     ]
    }
   ],
   "source": [
    "perm = PermutationImportance(RandomForestClassifier(), cv=5)\n",
    "perm.fit(X_train_transf, y_train)\n",
    "sel = SelectFromModel(perm, threshold=0.05, prefit=True)"
   ]
  },
  {
   "cell_type": "code",
   "execution_count": null,
   "id": "bec8b49d",
   "metadata": {
    "id": "initial-standard",
    "outputId": "bc8073f8-1a5e-404c-d8fe-8369f060847c"
   },
   "outputs": [
    {
     "data": {
      "text/plain": [
       "array([[ 0.        ,  0.        ,  0.        , ..., -0.22252093,\n",
       "        -0.5       ,  0.8660254 ],\n",
       "       [ 1.        ,  0.        ,  0.        , ..., -0.90096887,\n",
       "        -0.25881905,  0.96592583],\n",
       "       [ 0.        ,  0.        ,  0.        , ..., -0.90096887,\n",
       "        -0.96592583, -0.25881905],\n",
       "       ...,\n",
       "       [ 0.        ,  0.        ,  0.        , ...,  0.6234898 ,\n",
       "         0.8660254 , -0.5       ],\n",
       "       [ 0.        ,  0.        ,  0.        , ..., -0.90096887,\n",
       "         0.70710678, -0.70710678],\n",
       "       [ 0.        ,  0.        ,  0.        , ...,  0.6234898 ,\n",
       "        -0.8660254 ,  0.5       ]])"
      ]
     },
     "execution_count": 32,
     "metadata": {
      "tags": []
     },
     "output_type": "execute_result"
    }
   ],
   "source": [
    "X_train_transf"
   ]
  },
  {
   "cell_type": "code",
   "execution_count": null,
   "id": "ed4be9c5",
   "metadata": {
    "id": "naughty-paraguay",
    "outputId": "9de63a86-8a12-48e5-a358-6c5f44bc69aa"
   },
   "outputs": [
    {
     "data": {
      "text/plain": [
       "98980    0\n",
       "69824    0\n",
       "9928     0\n",
       "75599    0\n",
       "95621    0\n",
       "        ..\n",
       "6265     0\n",
       "54886    0\n",
       "76820    0\n",
       "860      0\n",
       "15795    0\n",
       "Name: ga:productAddsToCart_transf, Length: 75000, dtype: int64"
      ]
     },
     "execution_count": 33,
     "metadata": {
      "tags": []
     },
     "output_type": "execute_result"
    }
   ],
   "source": [
    "y_train"
   ]
  },
  {
   "cell_type": "markdown",
   "id": "479d2452",
   "metadata": {
    "id": "limiting-market"
   },
   "source": [
    "In order to solve this error, we need to convert y_train to a numpy array:"
   ]
  },
  {
   "cell_type": "code",
   "execution_count": null,
   "id": "a4cf8e45",
   "metadata": {
    "id": "numerous-actor",
    "outputId": "87079057-4578-41f6-86e8-9b7f792d93f8"
   },
   "outputs": [
    {
     "name": "stderr",
     "output_type": "stream",
     "text": [
      "/home/dsc/TFM/kschool_masterDS_TFM/env/lib/python3.9/site-packages/sklearn/utils/validation.py:67: FutureWarning: Pass classifier=True as keyword args. From version 0.25 passing these as positional arguments will result in an error\n",
      "  warnings.warn(\"Pass {} as keyword args. From version 0.25 \"\n"
     ]
    },
    {
     "name": "stdout",
     "output_type": "stream",
     "text": [
      "CPU times: user 4min 29s, sys: 229 ms, total: 4min 29s\n",
      "Wall time: 4min 29s\n"
     ]
    }
   ],
   "source": [
    "%%time\n",
    "\n",
    "perm = PermutationImportance(RandomForestClassifier(), cv=5)\n",
    "perm.fit(X_train_transf, y_train.to_numpy())\n",
    "sel = SelectFromModel(perm, threshold=0.05, prefit=True)"
   ]
  },
  {
   "cell_type": "code",
   "execution_count": null,
   "id": "26deed6f",
   "metadata": {
    "id": "accessible-peter"
   },
   "outputs": [],
   "source": [
    "X_train_final = sel.transform(X_train_transf)\n",
    "X_test_final = sel.transform(X_test_transf)"
   ]
  },
  {
   "cell_type": "markdown",
   "id": "53423f49",
   "metadata": {
    "id": "informed-slide"
   },
   "source": [
    "##### Classifier"
   ]
  },
  {
   "cell_type": "code",
   "execution_count": null,
   "id": "c91fe2e6",
   "metadata": {
    "id": "younger-model",
    "outputId": "8b3872a7-bd5c-4c37-a847-5b4e2a0b3249"
   },
   "outputs": [
    {
     "name": "stdout",
     "output_type": "stream",
     "text": [
      "TRAINING SCORE: 0.9956\n",
      "ACCURACY: 0.9858\n",
      "PRECISION: 0.8670360110803325\n",
      "RECALL: 0.8165217391304348\n",
      "F1 SCORE: 0.8410210479175997\n",
      "AUC: 0.9566487649257134\n",
      "CPU times: user 5.14 s, sys: 26.9 ms, total: 5.17 s\n",
      "Wall time: 5.18 s\n"
     ]
    },
    {
     "data": {
      "text/plain": [
       "Text(0, 0.5, 'tpr')"
      ]
     },
     "execution_count": 36,
     "metadata": {
      "tags": []
     },
     "output_type": "execute_result"
    },
    {
     "data": {
      "image/png": "[encoded data removed]",
      "text/plain": [
       "<Figure size 432x288 with 1 Axes>"
      ]
     },
     "metadata": {
      "needs_background": "light",
      "tags": []
     },
     "output_type": "display_data"
    }
   ],
   "source": [
    "%%time\n",
    "\n",
    "clf = RandomForestClassifier()\n",
    "clf.fit(X_train_final,y_train)\n",
    "\n",
    "predictions = clf.predict(X_test_final)\n",
    "probabilities = clf.predict_proba(X_test_final)\n",
    "\n",
    "print(\"TRAINING SCORE: \" + str(clf.score(X_train_final,y_train)))\n",
    "print(\"ACCURACY: \" + str(accuracy_score(y_test, predictions)))\n",
    "print(\"PRECISION: \" + str(precision_score(y_test, predictions)))\n",
    "print(\"RECALL: \" + str(recall_score(y_test, predictions)))\n",
    "print(\"F1 SCORE: \" + str(f1_score(y_test, predictions)))\n",
    "print(\"AUC: \" + str(roc_auc_score(y_test,probabilities[:, 1])))\n",
    "\n",
    "tpr, fpr, thresolds = roc_curve(y_test, probabilities[:, 1])\n",
    "plt.plot(tpr, fpr)\n",
    "plt.xlabel('fpr')\n",
    "plt.ylabel('tpr')"
   ]
  },
  {
   "cell_type": "markdown",
   "id": "fd8e237d",
   "metadata": {
    "id": "hawaiian-chapel"
   },
   "source": [
    "#### Final Implementation"
   ]
  },
  {
   "cell_type": "markdown",
   "id": "10c8c1eb",
   "metadata": {
    "id": "offshore-climate"
   },
   "source": [
    "##### Dataset"
   ]
  },
  {
   "cell_type": "code",
   "execution_count": null,
   "id": "b6fee389",
   "metadata": {
    "id": "sharing-telephone",
    "outputId": "4084bd86-c114-45c3-b3bd-574d0b706d76"
   },
   "outputs": [
    {
     "name": "stderr",
     "output_type": "stream",
     "text": [
      "/home/dsc/TFM/kschool_masterDS_TFM/env/lib/python3.9/site-packages/IPython/core/interactiveshell.py:3165: DtypeWarning: Columns (1) have mixed types.Specify dtype option on import or set low_memory=False.\n",
      "  has_raised = await self.run_ast_nodes(code_ast.body, cell_name,\n"
     ]
    },
    {
     "name": "stdout",
     "output_type": "stream",
     "text": [
      "(3628293, 31)\n",
      "\n",
      "<class 'pandas.core.frame.DataFrame'>\n",
      "RangeIndex: 3628293 entries, 0 to 3628292\n",
      "Data columns (total 31 columns):\n",
      " #   Column                       Dtype         \n",
      "---  ------                       -----         \n",
      " 0   ga:productSKU                object        \n",
      " 1   ga:dateHourMinute            datetime64[ns]\n",
      " 2   ga:pagePath                  object        \n",
      " 3   ga:pageDepth                 int64         \n",
      " 4   ga:userType                  object        \n",
      " 5   ga:sessionCount              int64         \n",
      " 6   ga:daysSinceLastSession      int64         \n",
      " 7   ga:landingPagePath           object        \n",
      " 8   ga:campaign                  object        \n",
      " 9   ga:sourceMedium              object        \n",
      " 10  ga:city                      object        \n",
      " 11  ga:deviceCategory            object        \n",
      " 12  ga:operatingSystem           object        \n",
      " 13  ga:productListViews          int64         \n",
      " 14  ga:productListClicks         int64         \n",
      " 15  ga:productDetailViews        int64         \n",
      " 16  ga:productAddsToCart         int64         \n",
      " 17  ga:productAddsToCart_transf  int64         \n",
      " 18  pPath_clean                  object        \n",
      " 19  Web_Discount                 float64       \n",
      " 20  Product_price                float64       \n",
      " 21  month_sin                    float64       \n",
      " 22  month_cos                    float64       \n",
      " 23  dayofweek_sin                float64       \n",
      " 24  dayofweek_cos                float64       \n",
      " 25  hour_sin                     float64       \n",
      " 26  hour_cos                     float64       \n",
      " 27  Source                       object        \n",
      " 28  Medium                       object        \n",
      " 29  Returning_Visitor            int64         \n",
      " 30  Detail_View                  int64         \n",
      "dtypes: datetime64[ns](1), float64(8), int64(10), object(12)\n",
      "memory usage: 858.1+ MB\n"
     ]
    }
   ],
   "source": [
    "data_root=\"../data/\"\n",
    "datafile=os.path.join(data_root,'no_carrito_no_pedido_df_2019_2020_jan21.csv')\n",
    "df=pd.read_csv(datafile)\n",
    "df.drop('Unnamed: 0', axis=1, inplace=True)\n",
    "\n",
    "# Product SKU as string\n",
    "df['ga:productSKU']=df['ga:productSKU'].astype('str')\n",
    "\n",
    "# dateHourMinute as SIN and COS\n",
    "df['ga:dateHourMinute']=pd.to_datetime(df['ga:dateHourMinute'],format='%Y%m%d%H%M')\n",
    "df['dateTime_month']=df['ga:dateHourMinute'].dt.month\n",
    "df['dateTime_dayofweek']=df['ga:dateHourMinute'].dt.dayofweek\n",
    "df['dateTime_hour']=df['ga:dateHourMinute'].dt.hour\n",
    "df['month_sin']=np.sin((df.dateTime_month-1)*(2.*np.pi/12)) # I substract minus 1 to 'df.dateTime_month' because its values are coded as 1 to 12 instead of 0 to 11\n",
    "df['month_cos']=np.cos((df.dateTime_month-1)*(2.*np.pi/12)) # I substract minus 1 to 'df.dateTime_month' because its values are coded as 1 to 12 instead of 0 to 11\n",
    "df['dayofweek_sin']=np.sin(df.dateTime_dayofweek*(2.*np.pi/7))\n",
    "df['dayofweek_cos']=np.cos(df.dateTime_dayofweek*(2.*np.pi/7))\n",
    "df['hour_sin']=np.sin(df.dateTime_hour*(2.*np.pi/24))\n",
    "df['hour_cos']=np.cos(df.dateTime_hour*(2.*np.pi/24))\n",
    "df.drop(['dateTime_month','dateTime_dayofweek','dateTime_hour'],axis=1, inplace=True)\n",
    "\n",
    "# Source Medium as 2 columns:\n",
    "source_medium = df['ga:sourceMedium'].str.split('/',expand=True)\n",
    "source_medium.columns=['Source','Medium']\n",
    "df= df.merge(source_medium,left_index=True,right_index=True,how='left')\n",
    "del(source_medium)\n",
    "df['Source']=df['Source'].astype('str').str.strip()\n",
    "df['Medium']=df['Medium'].astype('str').str.strip()\n",
    "\n",
    "# City\n",
    "df['ga:city']=df['ga:city'].astype('str')\n",
    "\n",
    "# Device\n",
    "df['ga:deviceCategory']=df['ga:deviceCategory'].astype('str')\n",
    "\n",
    "# Operating System\n",
    "df['ga:operatingSystem']=df['ga:operatingSystem'].astype('str')\n",
    "\n",
    "# User Type\n",
    "df['Returning_Visitor']= np.where(df['ga:userType']=='Returning Visitor',1,0)\n",
    "\n",
    "# Page Path, Detail_View and Landing Page Path as string\n",
    "df['ga:pagePath']=df['ga:pagePath'].astype('str')\n",
    "df['ga:pagePath'] = df['ga:pagePath'].apply(lambda x: x[:x.find(\"?pag\")] if \"?pag\" in x else x)\n",
    "df['Detail_View']=df['ga:pagePath'].apply(lambda url: 1 if url[-5:]=='.html' else 0)\n",
    "df['ga:landingPagePath']=df['ga:landingPagePath'].astype('str')\n",
    "df['ga:landingPagePath'] = df['ga:landingPagePath'].apply(lambda x: x[:x.find(\"?pag\")] if \"?pag\" in x else x)\n",
    "\n",
    "print(df.shape)\n",
    "print(\"\")\n",
    "df.info()"
   ]
  },
  {
   "cell_type": "code",
   "execution_count": null,
   "id": "cb0132b8",
   "metadata": {
    "id": "quiet-intro",
    "outputId": "8a53baa5-fd8f-4709-fde2-9a3b60ad9ab7"
   },
   "outputs": [
    {
     "name": "stdout",
     "output_type": "stream",
     "text": [
      "No. observations per class\n",
      "0    3586659\n",
      "1      41634\n",
      "Name: ga:productAddsToCart_transf, dtype: int64\n",
      "\n",
      "% observations per class\n",
      "0    98.852518\n",
      "1     1.147482\n",
      "Name: ga:productAddsToCart_transf, dtype: float64\n"
     ]
    }
   ],
   "source": [
    "df['ga:productAddsToCart_transf']=df[\"ga:productAddsToCart\"].apply(lambda x: 1 if x>1 else x)\n",
    "\n",
    "print(\"No. observations per class\")\n",
    "print(df['ga:productAddsToCart_transf'].value_counts())\n",
    "print(\"\")\n",
    "\n",
    "print(\"% observations per class\")\n",
    "print(100*df['ga:productAddsToCart_transf'].value_counts(normalize=True))"
   ]
  },
  {
   "cell_type": "markdown",
   "id": "c2d41821",
   "metadata": {
    "id": "tropical-variance"
   },
   "source": [
    "##### Prepare Data"
   ]
  },
  {
   "cell_type": "code",
   "execution_count": null,
   "id": "475f9db6",
   "metadata": {
    "id": "immune-marks"
   },
   "outputs": [],
   "source": [
    "# Data\n",
    "\n",
    "features=['ga:pageDepth','ga:sessionCount','ga:daysSinceLastSession','ga:productSKU',\\\n",
    "          'month_sin','month_cos','dayofweek_sin','dayofweek_cos','hour_sin','hour_cos',\\\n",
    "          'Source','Medium','ga:city','ga:deviceCategory','ga:operatingSystem','Returning_Visitor',\\\n",
    "          'Product_price','Web_Discount','ga:pagePath','Detail_View','ga:landingPagePath']\n",
    "\n",
    "y=df['ga:productAddsToCart_transf']\n",
    "X=df[features]\n",
    "X_train, X_test, y_train, y_test = train_test_split(X, y,random_state=42)"
   ]
  },
  {
   "cell_type": "markdown",
   "id": "88a90097",
   "metadata": {
    "id": "million-friday"
   },
   "source": [
    "##### Preprocess"
   ]
  },
  {
   "cell_type": "code",
   "execution_count": null,
   "id": "2c78ce3e",
   "metadata": {
    "id": "rural-exposure"
   },
   "outputs": [],
   "source": [
    "## CUSTOM TRANSFORMERS\n",
    "\n",
    "# 'Operating System' Transformer\n",
    "\n",
    "important_os = ['Android','iOS','Windows','Macintosh']\n",
    "\n",
    "class OSTransfomer(BaseEstimator,TransformerMixin):\n",
    "    def fit(self,X,y=None):\n",
    "        return self\n",
    "    def transform (self,X,y=None):\n",
    "        X_=X.copy()\n",
    "        X_['ga:operatingSystem']=X_['ga:operatingSystem'].apply(lambda os: 'other OS' if os not in important_os else os)\n",
    "        return X_\n",
    "    \n",
    "    \n",
    "# Compile 'Source'\n",
    "\n",
    "def source_compiler(x):\n",
    "    \n",
    "    insta_words= ['instagram','ig','linktr.ee']\n",
    "    for seq in insta_words:\n",
    "        if seq in x.lower():\n",
    "            return 'instagram'\n",
    "    if 'facebook' in x.lower():\n",
    "        return 'facebook'\n",
    "    if 'youtube' in x.lower():\n",
    "        return 'youtube'  \n",
    "    if 'vogue' in x.lower():\n",
    "        return 'vogue'\n",
    "    if 'yahoo' in x.lower():\n",
    "        return 'yahoo'\n",
    "    else:\n",
    "        return x\n",
    "\n",
    "important_sources = ['google','(direct)','instagram','facebook','sendinblue','youtube','bing','yahoo','vogue','cantabrialabs.es']\n",
    "\n",
    "class SourceTransfomer(BaseEstimator,TransformerMixin):\n",
    "    def fit(self,X,y=None):\n",
    "        return self\n",
    "    def transform (self,X,y=None):\n",
    "        X_=X.copy()\n",
    "        X_['Source']=X_['Source'].apply(source_compiler)\n",
    "        X_['Source']=X_['Source'].apply(lambda source: 'other sources' if source not in important_sources else source)\n",
    "        return X_\n",
    "    \n",
    "# Compile 'Medium':\n",
    "\n",
    "def medium_compiler(x):\n",
    "    \n",
    "    if 'cpc' in x.lower():\n",
    "        return 'cpc'\n",
    "    if x=='Social':\n",
    "        return 'IGShopping'  \n",
    "    if x=='facebook':\n",
    "        return 'facebook ads'\n",
    "    if x=='trafico':\n",
    "        return 'facebook trafico'\n",
    "    else:\n",
    "        return x\n",
    "    \n",
    "class MediumTransfomer(BaseEstimator,TransformerMixin):\n",
    "    def fit(self,X,y=None):\n",
    "        return self\n",
    "    def transform (self,X,y=None):\n",
    "        X_=X.copy()\n",
    "        X_['Medium']=X_['Medium'].apply(medium_compiler)\n",
    "        return X_\n",
    "    \n",
    "# Select other columns with no transformations (in order to be able to apply get_feature_names)\n",
    "\n",
    "class SelectColumnTransformer(BaseEstimator,TransformerMixin):\n",
    "    def fit(self,X,y=None):\n",
    "        return self\n",
    "    def transform (self,X,y=None):\n",
    "        return X"
   ]
  },
  {
   "cell_type": "code",
   "execution_count": null,
   "id": "e2933872",
   "metadata": {
    "id": "blond-secretary"
   },
   "outputs": [],
   "source": [
    "## PIPELINE:\n",
    "\n",
    "# Preprocess:\n",
    "source_preprocessing = Pipeline([\n",
    "    ('source_transf',SourceTransfomer()),\n",
    "    ('ohe',OneHotEncoder()) # handle_unknown is default 'error'\n",
    "])\n",
    "\n",
    "medium_preprocessing = Pipeline([\n",
    "    ('medium_transf',MediumTransfomer()),\n",
    "    ('ohe',OneHotEncoder(drop='first')) #to drop (none) that is equal to (direct) in Source\n",
    "]) # handle_unknown is default 'error'\n",
    "\n",
    "device_preprocessing = Pipeline([\n",
    "    ('ohe',OneHotEncoder()) # handle_unknown is default 'error'\n",
    "])\n",
    "\n",
    "os_preprocessing = Pipeline([\n",
    "    ('os_transf',OSTransfomer()),\n",
    "    ('ohe',OneHotEncoder()) # handle_unknown is default 'error'\n",
    "])\n",
    "\n",
    "targetencod_preprocessing = Pipeline([('target_encoding',TargetEncoder())])\n",
    "\n",
    "imput_preprocessing = Pipeline([('impute_median',SimpleImputer(strategy='median'))])\n",
    "\n",
    "no_preprocessing = Pipeline([('select_columns',SelectColumnTransformer())])\n",
    "\n",
    "preprocess = ColumnTransformer([\n",
    "    ('source_preprocessing',source_preprocessing,['Source']),\n",
    "    ('medium_preprocessing',medium_preprocessing,['Medium']),\n",
    "    ('device_preprocessing',device_preprocessing,['ga:deviceCategory']),\n",
    "    ('os_preprocessing',os_preprocessing,['ga:operatingSystem']),\n",
    "    ('targetencod_preprocessing',targetencod_preprocessing,['ga:productSKU','ga:city','ga:pagePath','ga:landingPagePath']),\n",
    "    ('imput_preprocessing',imput_preprocessing,['Product_price']),\n",
    "    ('no_preprocessing',no_preprocessing,['Web_Discount','Detail_View','ga:pageDepth','Returning_Visitor','ga:sessionCount','ga:daysSinceLastSession','month_sin','month_cos','dayofweek_sin','dayofweek_cos','hour_sin','hour_cos'])\n",
    "])\n",
    "\n",
    "# Model\n",
    "pipeline=Pipeline([\n",
    "    ('preprocess',preprocess),\n",
    "])"
   ]
  },
  {
   "cell_type": "code",
   "execution_count": null,
   "id": "311b18e7",
   "metadata": {
    "id": "outside-delta",
    "outputId": "f6430fd4-dd9f-4a43-9b44-7cb912bd8d27"
   },
   "outputs": [
    {
     "name": "stderr",
     "output_type": "stream",
     "text": [
      "/home/dsc/TFM/kschool_masterDS_TFM/env/lib/python3.9/site-packages/category_encoders/utils.py:21: FutureWarning: is_categorical is deprecated and will be removed in a future version.  Use is_categorical_dtype instead\n",
      "  elif pd.api.types.is_categorical(cols):\n"
     ]
    },
    {
     "name": "stdout",
     "output_type": "stream",
     "text": [
      "CPU times: user 57.8 s, sys: 2.29 s, total: 1min\n",
      "Wall time: 1min\n"
     ]
    }
   ],
   "source": [
    "%%time\n",
    "\n",
    "X_train_transf = pipeline.fit_transform(X_train,y_train)\n",
    "X_test_transf = pipeline.transform(X_test)"
   ]
  },
  {
   "cell_type": "code",
   "execution_count": null,
   "id": "d67af757",
   "metadata": {
    "id": "horizontal-vitamin"
   },
   "outputs": [],
   "source": [
    "pickle.dump(pipeline,open(\"preprocess.pickle\",\"wb\"))"
   ]
  },
  {
   "cell_type": "markdown",
   "id": "90c6c64d",
   "metadata": {
    "id": "mineral-jaguar"
   },
   "source": [
    "##### Permutation Importance"
   ]
  },
  {
   "cell_type": "code",
   "execution_count": null,
   "id": "ac3ec4ec",
   "metadata": {
    "id": "funded-nickname",
    "outputId": "62a0ff15-3ac5-442f-8615-f3cc9e6879c7"
   },
   "outputs": [
    {
     "name": "stdout",
     "output_type": "stream",
     "text": [
      "44\n"
     ]
    },
    {
     "data": {
      "text/plain": [
       "['x0_(direct)',\n",
       " 'x0_bing',\n",
       " 'x0_cantabrialabs.es',\n",
       " 'x0_facebook',\n",
       " 'x0_google',\n",
       " 'x0_instagram',\n",
       " 'x0_other sources',\n",
       " 'x0_sendinblue',\n",
       " 'x0_vogue',\n",
       " 'x0_yahoo',\n",
       " 'x0_youtube',\n",
       " 'x0_IGShopping',\n",
       " 'x0_cpc',\n",
       " 'x0_email',\n",
       " 'x0_facebook ads',\n",
       " 'x0_facebook feed',\n",
       " 'x0_facebook trafico',\n",
       " 'x0_organic',\n",
       " 'x0_referral',\n",
       " 'x0_desktop',\n",
       " 'x0_mobile',\n",
       " 'x0_tablet',\n",
       " 'x0_Android',\n",
       " 'x0_Macintosh',\n",
       " 'x0_Windows',\n",
       " 'x0_iOS',\n",
       " 'x0_other OS',\n",
       " 'ga:productSKU',\n",
       " 'ga:city',\n",
       " 'ga:pagePath',\n",
       " 'ga:landingPagePath',\n",
       " 'Product_price',\n",
       " 'Web_Discount',\n",
       " 'Detail_View',\n",
       " 'ga:pageDepth',\n",
       " 'Returning_Visitor',\n",
       " 'ga:sessionCount',\n",
       " 'ga:daysSinceLastSession',\n",
       " 'month_sin',\n",
       " 'month_cos',\n",
       " 'dayofweek_sin',\n",
       " 'dayofweek_cos',\n",
       " 'hour_sin',\n",
       " 'hour_cos']"
      ]
     },
     "execution_count": 7,
     "metadata": {
      "tags": []
     },
     "output_type": "execute_result"
    }
   ],
   "source": [
    "features_names=[]\n",
    "\n",
    "for feature in range(0,4):\n",
    "    features= list(pipeline.named_steps['preprocess'].transformers_[feature][1].named_steps['ohe'].get_feature_names())\n",
    "    features_names.append(features)\n",
    "\n",
    "for feature in range(4,7):\n",
    "    features = pipeline['preprocess'].transformers_[feature][2]\n",
    "    features_names.append(features)\n",
    "\n",
    "features_names = [j for i in features_names for j in i]\n",
    "print(len(features_names))\n",
    "features_names"
   ]
  },
  {
   "cell_type": "code",
   "execution_count": null,
   "id": "01742100",
   "metadata": {
    "id": "adopted-administration",
    "outputId": "908fb419-0fee-472f-87f4-842c01f9ce2b"
   },
   "outputs": [
    {
     "name": "stdout",
     "output_type": "stream",
     "text": [
      "CPU times: user 2h 50min 23s, sys: 4.75 s, total: 2h 50min 28s\n",
      "Wall time: 2h 50min 29s\n"
     ]
    },
    {
     "data": {
      "text/html": [
       "\n",
       "    <style>\n",
       "    table.eli5-weights tr:hover {\n",
       "        filter: brightness(85%);\n",
       "    }\n",
       "</style>\n",
       "\n",
       "\n",
       "\n",
       "    \n",
       "\n",
       "    \n",
       "\n",
       "    \n",
       "\n",
       "    \n",
       "\n",
       "    \n",
       "\n",
       "    \n",
       "\n",
       "\n",
       "    \n",
       "\n",
       "    \n",
       "\n",
       "    \n",
       "\n",
       "    \n",
       "\n",
       "    \n",
       "\n",
       "    \n",
       "\n",
       "\n",
       "    \n",
       "\n",
       "    \n",
       "\n",
       "    \n",
       "\n",
       "    \n",
       "\n",
       "    \n",
       "        <table class=\"eli5-weights eli5-feature-importances\" style=\"border-collapse: collapse; border: none; margin-top: 0em; table-layout: auto;\">\n",
       "    <thead>\n",
       "    <tr style=\"border: none;\">\n",
       "        <th style=\"padding: 0 1em 0 0.5em; text-align: right; border: none;\">Weight</th>\n",
       "        <th style=\"padding: 0 0.5em 0 0.5em; text-align: left; border: none;\">Feature</th>\n",
       "    </tr>\n",
       "    </thead>\n",
       "    <tbody>\n",
       "    \n",
       "        <tr style=\"background-color: hsl(120, 100.00%, 80.00%); border: none;\">\n",
       "            <td style=\"padding: 0 1em 0 0.5em; text-align: right; border: none;\">\n",
       "                0.1188\n",
       "                \n",
       "                    &plusmn; 0.0004\n",
       "                \n",
       "            </td>\n",
       "            <td style=\"padding: 0 0.5em 0 0.5em; text-align: left; border: none;\">\n",
       "                ga:pagePath\n",
       "            </td>\n",
       "        </tr>\n",
       "    \n",
       "        <tr style=\"background-color: hsl(120, 100.00%, 85.64%); border: none;\">\n",
       "            <td style=\"padding: 0 1em 0 0.5em; text-align: right; border: none;\">\n",
       "                0.0740\n",
       "                \n",
       "                    &plusmn; 0.0037\n",
       "                \n",
       "            </td>\n",
       "            <td style=\"padding: 0 0.5em 0 0.5em; text-align: left; border: none;\">\n",
       "                ga:productSKU\n",
       "            </td>\n",
       "        </tr>\n",
       "    \n",
       "        <tr style=\"background-color: hsl(120, 100.00%, 88.43%); border: none;\">\n",
       "            <td style=\"padding: 0 1em 0 0.5em; text-align: right; border: none;\">\n",
       "                0.0544\n",
       "                \n",
       "                    &plusmn; 0.0021\n",
       "                \n",
       "            </td>\n",
       "            <td style=\"padding: 0 0.5em 0 0.5em; text-align: left; border: none;\">\n",
       "                ga:landingPagePath\n",
       "            </td>\n",
       "        </tr>\n",
       "    \n",
       "        <tr style=\"background-color: hsl(120, 100.00%, 89.56%); border: none;\">\n",
       "            <td style=\"padding: 0 1em 0 0.5em; text-align: right; border: none;\">\n",
       "                0.0469\n",
       "                \n",
       "                    &plusmn; 0.0032\n",
       "                \n",
       "            </td>\n",
       "            <td style=\"padding: 0 0.5em 0 0.5em; text-align: left; border: none;\">\n",
       "                ga:pageDepth\n",
       "            </td>\n",
       "        </tr>\n",
       "    \n",
       "        <tr style=\"background-color: hsl(120, 100.00%, 90.15%); border: none;\">\n",
       "            <td style=\"padding: 0 1em 0 0.5em; text-align: right; border: none;\">\n",
       "                0.0432\n",
       "                \n",
       "                    &plusmn; 0.0008\n",
       "                \n",
       "            </td>\n",
       "            <td style=\"padding: 0 0.5em 0 0.5em; text-align: left; border: none;\">\n",
       "                Product_price\n",
       "            </td>\n",
       "        </tr>\n",
       "    \n",
       "        <tr style=\"background-color: hsl(120, 100.00%, 90.57%); border: none;\">\n",
       "            <td style=\"padding: 0 1em 0 0.5em; text-align: right; border: none;\">\n",
       "                0.0406\n",
       "                \n",
       "                    &plusmn; 0.0022\n",
       "                \n",
       "            </td>\n",
       "            <td style=\"padding: 0 0.5em 0 0.5em; text-align: left; border: none;\">\n",
       "                Detail_View\n",
       "            </td>\n",
       "        </tr>\n",
       "    \n",
       "        <tr style=\"background-color: hsl(120, 100.00%, 91.76%); border: none;\">\n",
       "            <td style=\"padding: 0 1em 0 0.5em; text-align: right; border: none;\">\n",
       "                0.0335\n",
       "                \n",
       "                    &plusmn; 0.0020\n",
       "                \n",
       "            </td>\n",
       "            <td style=\"padding: 0 0.5em 0 0.5em; text-align: left; border: none;\">\n",
       "                Web_Discount\n",
       "            </td>\n",
       "        </tr>\n",
       "    \n",
       "        <tr style=\"background-color: hsl(120, 100.00%, 92.63%); border: none;\">\n",
       "            <td style=\"padding: 0 1em 0 0.5em; text-align: right; border: none;\">\n",
       "                0.0286\n",
       "                \n",
       "                    &plusmn; 0.0030\n",
       "                \n",
       "            </td>\n",
       "            <td style=\"padding: 0 0.5em 0 0.5em; text-align: left; border: none;\">\n",
       "                month_cos\n",
       "            </td>\n",
       "        </tr>\n",
       "    \n",
       "        <tr style=\"background-color: hsl(120, 100.00%, 92.70%); border: none;\">\n",
       "            <td style=\"padding: 0 1em 0 0.5em; text-align: right; border: none;\">\n",
       "                0.0281\n",
       "                \n",
       "                    &plusmn; 0.0021\n",
       "                \n",
       "            </td>\n",
       "            <td style=\"padding: 0 0.5em 0 0.5em; text-align: left; border: none;\">\n",
       "                month_sin\n",
       "            </td>\n",
       "        </tr>\n",
       "    \n",
       "        <tr style=\"background-color: hsl(120, 100.00%, 94.87%); border: none;\">\n",
       "            <td style=\"padding: 0 1em 0 0.5em; text-align: right; border: none;\">\n",
       "                0.0170\n",
       "                \n",
       "                    &plusmn; 0.0029\n",
       "                \n",
       "            </td>\n",
       "            <td style=\"padding: 0 0.5em 0 0.5em; text-align: left; border: none;\">\n",
       "                ga:city\n",
       "            </td>\n",
       "        </tr>\n",
       "    \n",
       "        <tr style=\"background-color: hsl(120, 100.00%, 94.93%); border: none;\">\n",
       "            <td style=\"padding: 0 1em 0 0.5em; text-align: right; border: none;\">\n",
       "                0.0167\n",
       "                \n",
       "                    &plusmn; 0.0018\n",
       "                \n",
       "            </td>\n",
       "            <td style=\"padding: 0 0.5em 0 0.5em; text-align: left; border: none;\">\n",
       "                hour_cos\n",
       "            </td>\n",
       "        </tr>\n",
       "    \n",
       "        <tr style=\"background-color: hsl(120, 100.00%, 95.21%); border: none;\">\n",
       "            <td style=\"padding: 0 1em 0 0.5em; text-align: right; border: none;\">\n",
       "                0.0154\n",
       "                \n",
       "                    &plusmn; 0.0010\n",
       "                \n",
       "            </td>\n",
       "            <td style=\"padding: 0 0.5em 0 0.5em; text-align: left; border: none;\">\n",
       "                hour_sin\n",
       "            </td>\n",
       "        </tr>\n",
       "    \n",
       "        <tr style=\"background-color: hsl(120, 100.00%, 95.39%); border: none;\">\n",
       "            <td style=\"padding: 0 1em 0 0.5em; text-align: right; border: none;\">\n",
       "                0.0146\n",
       "                \n",
       "                    &plusmn; 0.0017\n",
       "                \n",
       "            </td>\n",
       "            <td style=\"padding: 0 0.5em 0 0.5em; text-align: left; border: none;\">\n",
       "                dayofweek_sin\n",
       "            </td>\n",
       "        </tr>\n",
       "    \n",
       "        <tr style=\"background-color: hsl(120, 100.00%, 95.47%); border: none;\">\n",
       "            <td style=\"padding: 0 1em 0 0.5em; text-align: right; border: none;\">\n",
       "                0.0142\n",
       "                \n",
       "                    &plusmn; 0.0012\n",
       "                \n",
       "            </td>\n",
       "            <td style=\"padding: 0 0.5em 0 0.5em; text-align: left; border: none;\">\n",
       "                dayofweek_cos\n",
       "            </td>\n",
       "        </tr>\n",
       "    \n",
       "        <tr style=\"background-color: hsl(120, 100.00%, 95.53%); border: none;\">\n",
       "            <td style=\"padding: 0 1em 0 0.5em; text-align: right; border: none;\">\n",
       "                0.0140\n",
       "                \n",
       "                    &plusmn; 0.0018\n",
       "                \n",
       "            </td>\n",
       "            <td style=\"padding: 0 0.5em 0 0.5em; text-align: left; border: none;\">\n",
       "                x0_google\n",
       "            </td>\n",
       "        </tr>\n",
       "    \n",
       "        <tr style=\"background-color: hsl(120, 100.00%, 95.58%); border: none;\">\n",
       "            <td style=\"padding: 0 1em 0 0.5em; text-align: right; border: none;\">\n",
       "                0.0138\n",
       "                \n",
       "                    &plusmn; 0.0008\n",
       "                \n",
       "            </td>\n",
       "            <td style=\"padding: 0 0.5em 0 0.5em; text-align: left; border: none;\">\n",
       "                ga:sessionCount\n",
       "            </td>\n",
       "        </tr>\n",
       "    \n",
       "        <tr style=\"background-color: hsl(120, 100.00%, 95.70%); border: none;\">\n",
       "            <td style=\"padding: 0 1em 0 0.5em; text-align: right; border: none;\">\n",
       "                0.0132\n",
       "                \n",
       "                    &plusmn; 0.0010\n",
       "                \n",
       "            </td>\n",
       "            <td style=\"padding: 0 0.5em 0 0.5em; text-align: left; border: none;\">\n",
       "                x0_Android\n",
       "            </td>\n",
       "        </tr>\n",
       "    \n",
       "        <tr style=\"background-color: hsl(120, 100.00%, 95.87%); border: none;\">\n",
       "            <td style=\"padding: 0 1em 0 0.5em; text-align: right; border: none;\">\n",
       "                0.0125\n",
       "                \n",
       "                    &plusmn; 0.0008\n",
       "                \n",
       "            </td>\n",
       "            <td style=\"padding: 0 0.5em 0 0.5em; text-align: left; border: none;\">\n",
       "                x0_cpc\n",
       "            </td>\n",
       "        </tr>\n",
       "    \n",
       "        <tr style=\"background-color: hsl(120, 100.00%, 96.10%); border: none;\">\n",
       "            <td style=\"padding: 0 1em 0 0.5em; text-align: right; border: none;\">\n",
       "                0.0115\n",
       "                \n",
       "                    &plusmn; 0.0017\n",
       "                \n",
       "            </td>\n",
       "            <td style=\"padding: 0 0.5em 0 0.5em; text-align: left; border: none;\">\n",
       "                x0_desktop\n",
       "            </td>\n",
       "        </tr>\n",
       "    \n",
       "        <tr style=\"background-color: hsl(120, 100.00%, 96.24%); border: none;\">\n",
       "            <td style=\"padding: 0 1em 0 0.5em; text-align: right; border: none;\">\n",
       "                0.0109\n",
       "                \n",
       "                    &plusmn; 0.0016\n",
       "                \n",
       "            </td>\n",
       "            <td style=\"padding: 0 0.5em 0 0.5em; text-align: left; border: none;\">\n",
       "                x0_organic\n",
       "            </td>\n",
       "        </tr>\n",
       "    \n",
       "    \n",
       "        \n",
       "            <tr style=\"background-color: hsl(120, 100.00%, 96.24%); border: none;\">\n",
       "                <td colspan=\"2\" style=\"padding: 0 0.5em 0 0.5em; text-align: center; border: none; white-space: nowrap;\">\n",
       "                    <i>&hellip; 24 more &hellip;</i>\n",
       "                </td>\n",
       "            </tr>\n",
       "        \n",
       "    \n",
       "    </tbody>\n",
       "</table>\n",
       "    \n",
       "\n",
       "    \n",
       "\n",
       "\n",
       "    \n",
       "\n",
       "    \n",
       "\n",
       "    \n",
       "\n",
       "    \n",
       "\n",
       "    \n",
       "\n",
       "    \n",
       "\n",
       "\n",
       "\n"
      ],
      "text/plain": [
       "<IPython.core.display.HTML object>"
      ]
     },
     "execution_count": 10,
     "metadata": {
      "tags": []
     },
     "output_type": "execute_result"
    }
   ],
   "source": [
    "%%time\n",
    "\n",
    "clf = RandomForestClassifier()\n",
    "clf.fit(X_train_transf,y_train)\n",
    "per = PermutationImportance(clf, scoring=\"recall\",random_state=43).fit(X_test_transf, y_test)\n",
    "eli5.show_weights(per, feature_names=features_names)"
   ]
  },
  {
   "cell_type": "code",
   "execution_count": null,
   "id": "a06a06fa",
   "metadata": {
    "id": "center-decade",
    "outputId": "e6c5b00b-f951-454d-90c0-8339eb14d49e"
   },
   "outputs": [
    {
     "data": {
      "text/html": [
       "\n",
       "    <style>\n",
       "    table.eli5-weights tr:hover {\n",
       "        filter: brightness(85%);\n",
       "    }\n",
       "</style>\n",
       "\n",
       "\n",
       "\n",
       "    \n",
       "\n",
       "    \n",
       "\n",
       "    \n",
       "\n",
       "    \n",
       "\n",
       "    \n",
       "\n",
       "    \n",
       "\n",
       "\n",
       "    \n",
       "\n",
       "    \n",
       "\n",
       "    \n",
       "\n",
       "    \n",
       "\n",
       "    \n",
       "\n",
       "    \n",
       "\n",
       "\n",
       "    \n",
       "\n",
       "    \n",
       "\n",
       "    \n",
       "\n",
       "    \n",
       "\n",
       "    \n",
       "        <table class=\"eli5-weights eli5-feature-importances\" style=\"border-collapse: collapse; border: none; margin-top: 0em; table-layout: auto;\">\n",
       "    <thead>\n",
       "    <tr style=\"border: none;\">\n",
       "        <th style=\"padding: 0 1em 0 0.5em; text-align: right; border: none;\">Weight</th>\n",
       "        <th style=\"padding: 0 0.5em 0 0.5em; text-align: left; border: none;\">Feature</th>\n",
       "    </tr>\n",
       "    </thead>\n",
       "    <tbody>\n",
       "    \n",
       "        <tr style=\"background-color: hsl(120, 100.00%, 80.00%); border: none;\">\n",
       "            <td style=\"padding: 0 1em 0 0.5em; text-align: right; border: none;\">\n",
       "                0.1188\n",
       "                \n",
       "                    &plusmn; 0.0004\n",
       "                \n",
       "            </td>\n",
       "            <td style=\"padding: 0 0.5em 0 0.5em; text-align: left; border: none;\">\n",
       "                ga:pagePath\n",
       "            </td>\n",
       "        </tr>\n",
       "    \n",
       "        <tr style=\"background-color: hsl(120, 100.00%, 85.64%); border: none;\">\n",
       "            <td style=\"padding: 0 1em 0 0.5em; text-align: right; border: none;\">\n",
       "                0.0740\n",
       "                \n",
       "                    &plusmn; 0.0037\n",
       "                \n",
       "            </td>\n",
       "            <td style=\"padding: 0 0.5em 0 0.5em; text-align: left; border: none;\">\n",
       "                ga:productSKU\n",
       "            </td>\n",
       "        </tr>\n",
       "    \n",
       "        <tr style=\"background-color: hsl(120, 100.00%, 88.43%); border: none;\">\n",
       "            <td style=\"padding: 0 1em 0 0.5em; text-align: right; border: none;\">\n",
       "                0.0544\n",
       "                \n",
       "                    &plusmn; 0.0021\n",
       "                \n",
       "            </td>\n",
       "            <td style=\"padding: 0 0.5em 0 0.5em; text-align: left; border: none;\">\n",
       "                ga:landingPagePath\n",
       "            </td>\n",
       "        </tr>\n",
       "    \n",
       "        <tr style=\"background-color: hsl(120, 100.00%, 89.56%); border: none;\">\n",
       "            <td style=\"padding: 0 1em 0 0.5em; text-align: right; border: none;\">\n",
       "                0.0469\n",
       "                \n",
       "                    &plusmn; 0.0032\n",
       "                \n",
       "            </td>\n",
       "            <td style=\"padding: 0 0.5em 0 0.5em; text-align: left; border: none;\">\n",
       "                ga:pageDepth\n",
       "            </td>\n",
       "        </tr>\n",
       "    \n",
       "        <tr style=\"background-color: hsl(120, 100.00%, 90.15%); border: none;\">\n",
       "            <td style=\"padding: 0 1em 0 0.5em; text-align: right; border: none;\">\n",
       "                0.0432\n",
       "                \n",
       "                    &plusmn; 0.0008\n",
       "                \n",
       "            </td>\n",
       "            <td style=\"padding: 0 0.5em 0 0.5em; text-align: left; border: none;\">\n",
       "                Product_price\n",
       "            </td>\n",
       "        </tr>\n",
       "    \n",
       "        <tr style=\"background-color: hsl(120, 100.00%, 90.57%); border: none;\">\n",
       "            <td style=\"padding: 0 1em 0 0.5em; text-align: right; border: none;\">\n",
       "                0.0406\n",
       "                \n",
       "                    &plusmn; 0.0022\n",
       "                \n",
       "            </td>\n",
       "            <td style=\"padding: 0 0.5em 0 0.5em; text-align: left; border: none;\">\n",
       "                Detail_View\n",
       "            </td>\n",
       "        </tr>\n",
       "    \n",
       "        <tr style=\"background-color: hsl(120, 100.00%, 91.76%); border: none;\">\n",
       "            <td style=\"padding: 0 1em 0 0.5em; text-align: right; border: none;\">\n",
       "                0.0335\n",
       "                \n",
       "                    &plusmn; 0.0020\n",
       "                \n",
       "            </td>\n",
       "            <td style=\"padding: 0 0.5em 0 0.5em; text-align: left; border: none;\">\n",
       "                Web_Discount\n",
       "            </td>\n",
       "        </tr>\n",
       "    \n",
       "        <tr style=\"background-color: hsl(120, 100.00%, 92.63%); border: none;\">\n",
       "            <td style=\"padding: 0 1em 0 0.5em; text-align: right; border: none;\">\n",
       "                0.0286\n",
       "                \n",
       "                    &plusmn; 0.0030\n",
       "                \n",
       "            </td>\n",
       "            <td style=\"padding: 0 0.5em 0 0.5em; text-align: left; border: none;\">\n",
       "                month_cos\n",
       "            </td>\n",
       "        </tr>\n",
       "    \n",
       "        <tr style=\"background-color: hsl(120, 100.00%, 92.70%); border: none;\">\n",
       "            <td style=\"padding: 0 1em 0 0.5em; text-align: right; border: none;\">\n",
       "                0.0281\n",
       "                \n",
       "                    &plusmn; 0.0021\n",
       "                \n",
       "            </td>\n",
       "            <td style=\"padding: 0 0.5em 0 0.5em; text-align: left; border: none;\">\n",
       "                month_sin\n",
       "            </td>\n",
       "        </tr>\n",
       "    \n",
       "        <tr style=\"background-color: hsl(120, 100.00%, 94.87%); border: none;\">\n",
       "            <td style=\"padding: 0 1em 0 0.5em; text-align: right; border: none;\">\n",
       "                0.0170\n",
       "                \n",
       "                    &plusmn; 0.0029\n",
       "                \n",
       "            </td>\n",
       "            <td style=\"padding: 0 0.5em 0 0.5em; text-align: left; border: none;\">\n",
       "                ga:city\n",
       "            </td>\n",
       "        </tr>\n",
       "    \n",
       "        <tr style=\"background-color: hsl(120, 100.00%, 94.93%); border: none;\">\n",
       "            <td style=\"padding: 0 1em 0 0.5em; text-align: right; border: none;\">\n",
       "                0.0167\n",
       "                \n",
       "                    &plusmn; 0.0018\n",
       "                \n",
       "            </td>\n",
       "            <td style=\"padding: 0 0.5em 0 0.5em; text-align: left; border: none;\">\n",
       "                hour_cos\n",
       "            </td>\n",
       "        </tr>\n",
       "    \n",
       "        <tr style=\"background-color: hsl(120, 100.00%, 95.21%); border: none;\">\n",
       "            <td style=\"padding: 0 1em 0 0.5em; text-align: right; border: none;\">\n",
       "                0.0154\n",
       "                \n",
       "                    &plusmn; 0.0010\n",
       "                \n",
       "            </td>\n",
       "            <td style=\"padding: 0 0.5em 0 0.5em; text-align: left; border: none;\">\n",
       "                hour_sin\n",
       "            </td>\n",
       "        </tr>\n",
       "    \n",
       "        <tr style=\"background-color: hsl(120, 100.00%, 95.39%); border: none;\">\n",
       "            <td style=\"padding: 0 1em 0 0.5em; text-align: right; border: none;\">\n",
       "                0.0146\n",
       "                \n",
       "                    &plusmn; 0.0017\n",
       "                \n",
       "            </td>\n",
       "            <td style=\"padding: 0 0.5em 0 0.5em; text-align: left; border: none;\">\n",
       "                dayofweek_sin\n",
       "            </td>\n",
       "        </tr>\n",
       "    \n",
       "        <tr style=\"background-color: hsl(120, 100.00%, 95.47%); border: none;\">\n",
       "            <td style=\"padding: 0 1em 0 0.5em; text-align: right; border: none;\">\n",
       "                0.0142\n",
       "                \n",
       "                    &plusmn; 0.0012\n",
       "                \n",
       "            </td>\n",
       "            <td style=\"padding: 0 0.5em 0 0.5em; text-align: left; border: none;\">\n",
       "                dayofweek_cos\n",
       "            </td>\n",
       "        </tr>\n",
       "    \n",
       "        <tr style=\"background-color: hsl(120, 100.00%, 95.53%); border: none;\">\n",
       "            <td style=\"padding: 0 1em 0 0.5em; text-align: right; border: none;\">\n",
       "                0.0140\n",
       "                \n",
       "                    &plusmn; 0.0018\n",
       "                \n",
       "            </td>\n",
       "            <td style=\"padding: 0 0.5em 0 0.5em; text-align: left; border: none;\">\n",
       "                x0_google\n",
       "            </td>\n",
       "        </tr>\n",
       "    \n",
       "        <tr style=\"background-color: hsl(120, 100.00%, 95.58%); border: none;\">\n",
       "            <td style=\"padding: 0 1em 0 0.5em; text-align: right; border: none;\">\n",
       "                0.0138\n",
       "                \n",
       "                    &plusmn; 0.0008\n",
       "                \n",
       "            </td>\n",
       "            <td style=\"padding: 0 0.5em 0 0.5em; text-align: left; border: none;\">\n",
       "                ga:sessionCount\n",
       "            </td>\n",
       "        </tr>\n",
       "    \n",
       "        <tr style=\"background-color: hsl(120, 100.00%, 95.70%); border: none;\">\n",
       "            <td style=\"padding: 0 1em 0 0.5em; text-align: right; border: none;\">\n",
       "                0.0132\n",
       "                \n",
       "                    &plusmn; 0.0010\n",
       "                \n",
       "            </td>\n",
       "            <td style=\"padding: 0 0.5em 0 0.5em; text-align: left; border: none;\">\n",
       "                x0_Android\n",
       "            </td>\n",
       "        </tr>\n",
       "    \n",
       "        <tr style=\"background-color: hsl(120, 100.00%, 95.87%); border: none;\">\n",
       "            <td style=\"padding: 0 1em 0 0.5em; text-align: right; border: none;\">\n",
       "                0.0125\n",
       "                \n",
       "                    &plusmn; 0.0008\n",
       "                \n",
       "            </td>\n",
       "            <td style=\"padding: 0 0.5em 0 0.5em; text-align: left; border: none;\">\n",
       "                x0_cpc\n",
       "            </td>\n",
       "        </tr>\n",
       "    \n",
       "        <tr style=\"background-color: hsl(120, 100.00%, 96.10%); border: none;\">\n",
       "            <td style=\"padding: 0 1em 0 0.5em; text-align: right; border: none;\">\n",
       "                0.0115\n",
       "                \n",
       "                    &plusmn; 0.0017\n",
       "                \n",
       "            </td>\n",
       "            <td style=\"padding: 0 0.5em 0 0.5em; text-align: left; border: none;\">\n",
       "                x0_desktop\n",
       "            </td>\n",
       "        </tr>\n",
       "    \n",
       "        <tr style=\"background-color: hsl(120, 100.00%, 96.24%); border: none;\">\n",
       "            <td style=\"padding: 0 1em 0 0.5em; text-align: right; border: none;\">\n",
       "                0.0109\n",
       "                \n",
       "                    &plusmn; 0.0016\n",
       "                \n",
       "            </td>\n",
       "            <td style=\"padding: 0 0.5em 0 0.5em; text-align: left; border: none;\">\n",
       "                x0_organic\n",
       "            </td>\n",
       "        </tr>\n",
       "    \n",
       "        <tr style=\"background-color: hsl(120, 100.00%, 96.41%); border: none;\">\n",
       "            <td style=\"padding: 0 1em 0 0.5em; text-align: right; border: none;\">\n",
       "                0.0102\n",
       "                \n",
       "                    &plusmn; 0.0007\n",
       "                \n",
       "            </td>\n",
       "            <td style=\"padding: 0 0.5em 0 0.5em; text-align: left; border: none;\">\n",
       "                x0_iOS\n",
       "            </td>\n",
       "        </tr>\n",
       "    \n",
       "        <tr style=\"background-color: hsl(120, 100.00%, 96.58%); border: none;\">\n",
       "            <td style=\"padding: 0 1em 0 0.5em; text-align: right; border: none;\">\n",
       "                0.0095\n",
       "                \n",
       "                    &plusmn; 0.0015\n",
       "                \n",
       "            </td>\n",
       "            <td style=\"padding: 0 0.5em 0 0.5em; text-align: left; border: none;\">\n",
       "                Returning_Visitor\n",
       "            </td>\n",
       "        </tr>\n",
       "    \n",
       "        <tr style=\"background-color: hsl(120, 100.00%, 96.69%); border: none;\">\n",
       "            <td style=\"padding: 0 1em 0 0.5em; text-align: right; border: none;\">\n",
       "                0.0091\n",
       "                \n",
       "                    &plusmn; 0.0011\n",
       "                \n",
       "            </td>\n",
       "            <td style=\"padding: 0 0.5em 0 0.5em; text-align: left; border: none;\">\n",
       "                x0_mobile\n",
       "            </td>\n",
       "        </tr>\n",
       "    \n",
       "        <tr style=\"background-color: hsl(120, 100.00%, 96.92%); border: none;\">\n",
       "            <td style=\"padding: 0 1em 0 0.5em; text-align: right; border: none;\">\n",
       "                0.0082\n",
       "                \n",
       "                    &plusmn; 0.0007\n",
       "                \n",
       "            </td>\n",
       "            <td style=\"padding: 0 0.5em 0 0.5em; text-align: left; border: none;\">\n",
       "                x0_Windows\n",
       "            </td>\n",
       "        </tr>\n",
       "    \n",
       "        <tr style=\"background-color: hsl(120, 100.00%, 96.93%); border: none;\">\n",
       "            <td style=\"padding: 0 1em 0 0.5em; text-align: right; border: none;\">\n",
       "                0.0082\n",
       "                \n",
       "                    &plusmn; 0.0013\n",
       "                \n",
       "            </td>\n",
       "            <td style=\"padding: 0 0.5em 0 0.5em; text-align: left; border: none;\">\n",
       "                x0_(direct)\n",
       "            </td>\n",
       "        </tr>\n",
       "    \n",
       "        <tr style=\"background-color: hsl(120, 100.00%, 97.29%); border: none;\">\n",
       "            <td style=\"padding: 0 1em 0 0.5em; text-align: right; border: none;\">\n",
       "                0.0068\n",
       "                \n",
       "                    &plusmn; 0.0007\n",
       "                \n",
       "            </td>\n",
       "            <td style=\"padding: 0 0.5em 0 0.5em; text-align: left; border: none;\">\n",
       "                ga:daysSinceLastSession\n",
       "            </td>\n",
       "        </tr>\n",
       "    \n",
       "        <tr style=\"background-color: hsl(120, 100.00%, 97.89%); border: none;\">\n",
       "            <td style=\"padding: 0 1em 0 0.5em; text-align: right; border: none;\">\n",
       "                0.0048\n",
       "                \n",
       "                    &plusmn; 0.0006\n",
       "                \n",
       "            </td>\n",
       "            <td style=\"padding: 0 0.5em 0 0.5em; text-align: left; border: none;\">\n",
       "                x0_sendinblue\n",
       "            </td>\n",
       "        </tr>\n",
       "    \n",
       "        <tr style=\"background-color: hsl(120, 100.00%, 97.99%); border: none;\">\n",
       "            <td style=\"padding: 0 1em 0 0.5em; text-align: right; border: none;\">\n",
       "                0.0045\n",
       "                \n",
       "                    &plusmn; 0.0010\n",
       "                \n",
       "            </td>\n",
       "            <td style=\"padding: 0 0.5em 0 0.5em; text-align: left; border: none;\">\n",
       "                x0_referral\n",
       "            </td>\n",
       "        </tr>\n",
       "    \n",
       "        <tr style=\"background-color: hsl(120, 100.00%, 98.02%); border: none;\">\n",
       "            <td style=\"padding: 0 1em 0 0.5em; text-align: right; border: none;\">\n",
       "                0.0044\n",
       "                \n",
       "                    &plusmn; 0.0011\n",
       "                \n",
       "            </td>\n",
       "            <td style=\"padding: 0 0.5em 0 0.5em; text-align: left; border: none;\">\n",
       "                x0_email\n",
       "            </td>\n",
       "        </tr>\n",
       "    \n",
       "        <tr style=\"background-color: hsl(120, 100.00%, 98.57%); border: none;\">\n",
       "            <td style=\"padding: 0 1em 0 0.5em; text-align: right; border: none;\">\n",
       "                0.0027\n",
       "                \n",
       "                    &plusmn; 0.0009\n",
       "                \n",
       "            </td>\n",
       "            <td style=\"padding: 0 0.5em 0 0.5em; text-align: left; border: none;\">\n",
       "                x0_Macintosh\n",
       "            </td>\n",
       "        </tr>\n",
       "    \n",
       "        <tr style=\"background-color: hsl(120, 100.00%, 98.70%); border: none;\">\n",
       "            <td style=\"padding: 0 1em 0 0.5em; text-align: right; border: none;\">\n",
       "                0.0024\n",
       "                \n",
       "                    &plusmn; 0.0003\n",
       "                \n",
       "            </td>\n",
       "            <td style=\"padding: 0 0.5em 0 0.5em; text-align: left; border: none;\">\n",
       "                x0_instagram\n",
       "            </td>\n",
       "        </tr>\n",
       "    \n",
       "        <tr style=\"background-color: hsl(120, 100.00%, 99.36%); border: none;\">\n",
       "            <td style=\"padding: 0 1em 0 0.5em; text-align: right; border: none;\">\n",
       "                0.0009\n",
       "                \n",
       "                    &plusmn; 0.0005\n",
       "                \n",
       "            </td>\n",
       "            <td style=\"padding: 0 0.5em 0 0.5em; text-align: left; border: none;\">\n",
       "                x0_tablet\n",
       "            </td>\n",
       "        </tr>\n",
       "    \n",
       "        <tr style=\"background-color: hsl(120, 100.00%, 99.46%); border: none;\">\n",
       "            <td style=\"padding: 0 1em 0 0.5em; text-align: right; border: none;\">\n",
       "                0.0007\n",
       "                \n",
       "                    &plusmn; 0.0003\n",
       "                \n",
       "            </td>\n",
       "            <td style=\"padding: 0 0.5em 0 0.5em; text-align: left; border: none;\">\n",
       "                x0_facebook\n",
       "            </td>\n",
       "        </tr>\n",
       "    \n",
       "        <tr style=\"background-color: hsl(120, 100.00%, 99.55%); border: none;\">\n",
       "            <td style=\"padding: 0 1em 0 0.5em; text-align: right; border: none;\">\n",
       "                0.0005\n",
       "                \n",
       "                    &plusmn; 0.0001\n",
       "                \n",
       "            </td>\n",
       "            <td style=\"padding: 0 0.5em 0 0.5em; text-align: left; border: none;\">\n",
       "                x0_bing\n",
       "            </td>\n",
       "        </tr>\n",
       "    \n",
       "        <tr style=\"background-color: hsl(120, 100.00%, 99.62%); border: none;\">\n",
       "            <td style=\"padding: 0 1em 0 0.5em; text-align: right; border: none;\">\n",
       "                0.0004\n",
       "                \n",
       "                    &plusmn; 0.0001\n",
       "                \n",
       "            </td>\n",
       "            <td style=\"padding: 0 0.5em 0 0.5em; text-align: left; border: none;\">\n",
       "                x0_other sources\n",
       "            </td>\n",
       "        </tr>\n",
       "    \n",
       "        <tr style=\"background-color: hsl(120, 100.00%, 99.69%); border: none;\">\n",
       "            <td style=\"padding: 0 1em 0 0.5em; text-align: right; border: none;\">\n",
       "                0.0003\n",
       "                \n",
       "                    &plusmn; 0.0001\n",
       "                \n",
       "            </td>\n",
       "            <td style=\"padding: 0 0.5em 0 0.5em; text-align: left; border: none;\">\n",
       "                x0_IGShopping\n",
       "            </td>\n",
       "        </tr>\n",
       "    \n",
       "        <tr style=\"background-color: hsl(120, 100.00%, 99.71%); border: none;\">\n",
       "            <td style=\"padding: 0 1em 0 0.5em; text-align: right; border: none;\">\n",
       "                0.0003\n",
       "                \n",
       "                    &plusmn; 0.0003\n",
       "                \n",
       "            </td>\n",
       "            <td style=\"padding: 0 0.5em 0 0.5em; text-align: left; border: none;\">\n",
       "                x0_youtube\n",
       "            </td>\n",
       "        </tr>\n",
       "    \n",
       "        <tr style=\"background-color: hsl(120, 100.00%, 99.78%); border: none;\">\n",
       "            <td style=\"padding: 0 1em 0 0.5em; text-align: right; border: none;\">\n",
       "                0.0002\n",
       "                \n",
       "                    &plusmn; 0.0000\n",
       "                \n",
       "            </td>\n",
       "            <td style=\"padding: 0 0.5em 0 0.5em; text-align: left; border: none;\">\n",
       "                x0_vogue\n",
       "            </td>\n",
       "        </tr>\n",
       "    \n",
       "        <tr style=\"background-color: hsl(120, 100.00%, 99.90%); border: none;\">\n",
       "            <td style=\"padding: 0 1em 0 0.5em; text-align: right; border: none;\">\n",
       "                0.0001\n",
       "                \n",
       "                    &plusmn; 0.0001\n",
       "                \n",
       "            </td>\n",
       "            <td style=\"padding: 0 0.5em 0 0.5em; text-align: left; border: none;\">\n",
       "                x0_yahoo\n",
       "            </td>\n",
       "        </tr>\n",
       "    \n",
       "        <tr style=\"background-color: hsl(0, 100.00%, 100.00%); border: none;\">\n",
       "            <td style=\"padding: 0 1em 0 0.5em; text-align: right; border: none;\">\n",
       "                0\n",
       "                \n",
       "                    &plusmn; 0.0000\n",
       "                \n",
       "            </td>\n",
       "            <td style=\"padding: 0 0.5em 0 0.5em; text-align: left; border: none;\">\n",
       "                x0_other OS\n",
       "            </td>\n",
       "        </tr>\n",
       "    \n",
       "        <tr style=\"background-color: hsl(0, 100.00%, 100.00%); border: none;\">\n",
       "            <td style=\"padding: 0 1em 0 0.5em; text-align: right; border: none;\">\n",
       "                0\n",
       "                \n",
       "                    &plusmn; 0.0000\n",
       "                \n",
       "            </td>\n",
       "            <td style=\"padding: 0 0.5em 0 0.5em; text-align: left; border: none;\">\n",
       "                x0_facebook ads\n",
       "            </td>\n",
       "        </tr>\n",
       "    \n",
       "        <tr style=\"background-color: hsl(0, 100.00%, 100.00%); border: none;\">\n",
       "            <td style=\"padding: 0 1em 0 0.5em; text-align: right; border: none;\">\n",
       "                0\n",
       "                \n",
       "                    &plusmn; 0.0000\n",
       "                \n",
       "            </td>\n",
       "            <td style=\"padding: 0 0.5em 0 0.5em; text-align: left; border: none;\">\n",
       "                x0_facebook feed\n",
       "            </td>\n",
       "        </tr>\n",
       "    \n",
       "        <tr style=\"background-color: hsl(0, 100.00%, 100.00%); border: none;\">\n",
       "            <td style=\"padding: 0 1em 0 0.5em; text-align: right; border: none;\">\n",
       "                0\n",
       "                \n",
       "                    &plusmn; 0.0000\n",
       "                \n",
       "            </td>\n",
       "            <td style=\"padding: 0 0.5em 0 0.5em; text-align: left; border: none;\">\n",
       "                x0_facebook trafico\n",
       "            </td>\n",
       "        </tr>\n",
       "    \n",
       "        <tr style=\"background-color: hsl(0, 100.00%, 100.00%); border: none;\">\n",
       "            <td style=\"padding: 0 1em 0 0.5em; text-align: right; border: none;\">\n",
       "                0\n",
       "                \n",
       "                    &plusmn; 0.0000\n",
       "                \n",
       "            </td>\n",
       "            <td style=\"padding: 0 0.5em 0 0.5em; text-align: left; border: none;\">\n",
       "                x0_cantabrialabs.es\n",
       "            </td>\n",
       "        </tr>\n",
       "    \n",
       "    \n",
       "    </tbody>\n",
       "</table>\n",
       "    \n",
       "\n",
       "    \n",
       "\n",
       "\n",
       "    \n",
       "\n",
       "    \n",
       "\n",
       "    \n",
       "\n",
       "    \n",
       "\n",
       "    \n",
       "\n",
       "    \n",
       "\n",
       "\n",
       "\n"
      ],
      "text/plain": [
       "<IPython.core.display.HTML object>"
      ]
     },
     "execution_count": 16,
     "metadata": {
      "tags": []
     },
     "output_type": "execute_result"
    }
   ],
   "source": [
    "eli5.show_weights(per, feature_names=features_names, top=45)"
   ]
  },
  {
   "cell_type": "markdown",
   "id": "d17c22a4",
   "metadata": {
    "id": "adequate-correction"
   },
   "source": [
    "##### SelectFromModel"
   ]
  },
  {
   "cell_type": "code",
   "execution_count": null,
   "id": "0454b0b2",
   "metadata": {
    "id": "computational-bristol",
    "outputId": "f417b5d6-3120-44f3-f346-8ee6ac260199"
   },
   "outputs": [
    {
     "name": "stderr",
     "output_type": "stream",
     "text": [
      "/home/dsc/TFM/kschool_masterDS_TFM/env/lib/python3.9/site-packages/sklearn/utils/validation.py:67: FutureWarning: Pass classifier=True as keyword args. From version 0.25 passing these as positional arguments will result in an error\n",
      "  warnings.warn(\"Pass {} as keyword args. From version 0.25 \"\n"
     ]
    },
    {
     "name": "stdout",
     "output_type": "stream",
     "text": [
      "CPU times: user 7h 57min 41s, sys: 18.3 s, total: 7h 57min 59s\n",
      "Wall time: 7h 58min 3s\n"
     ]
    }
   ],
   "source": [
    "%%time\n",
    "\n",
    "perm = PermutationImportance(RandomForestClassifier(),cv=3,scoring=\"recall\",random_state=43)\n",
    "perm.fit(X_train_transf, y_train.to_numpy())\n",
    "sel = SelectFromModel(perm, threshold=0.004, prefit=True)"
   ]
  },
  {
   "cell_type": "code",
   "execution_count": null,
   "id": "6fbc583f",
   "metadata": {
    "id": "blond-enterprise"
   },
   "outputs": [],
   "source": [
    "X_train_final = sel.transform(X_train_transf)\n",
    "X_test_final = sel.transform(X_test_transf)"
   ]
  },
  {
   "cell_type": "code",
   "execution_count": null,
   "id": "2b7c977f",
   "metadata": {
    "id": "single-parallel"
   },
   "outputs": [],
   "source": [
    "pickle.dump(sel,open(\"feat_selection.pickle\",\"wb\"))"
   ]
  },
  {
   "cell_type": "markdown",
   "id": "9700db90",
   "metadata": {
    "id": "complimentary-pharmacy"
   },
   "source": [
    "##### Classifier"
   ]
  },
  {
   "cell_type": "code",
   "execution_count": null,
   "id": "e281500b",
   "metadata": {
    "id": "desperate-mercy",
    "outputId": "05de60dd-915c-47f4-e6f7-f0ebfecc472b"
   },
   "outputs": [
    {
     "name": "stdout",
     "output_type": "stream",
     "text": [
      "TRAINING SCORE: 0.9971990493966123\n",
      "ACCURACY: 0.9878940417209622\n",
      "PRECISION: 0.4421274601686973\n",
      "RECALL: 0.17993706493754172\n",
      "F1 SCORE: 0.2557777024737377\n",
      "AUC: 0.9057728186092732\n",
      "CPU times: user 1h 24min 59s, sys: 2min 50s, total: 1h 27min 50s\n",
      "Wall time: 25min 18s\n"
     ]
    },
    {
     "data": {
      "text/plain": [
       "Text(0, 0.5, 'tpr')"
      ]
     },
     "execution_count": 20,
     "metadata": {
      "tags": []
     },
     "output_type": "execute_result"
    },
    {
     "data": {
      "image/png": "[encoded data removed]",
      "text/plain": [
       "<Figure size 432x288 with 1 Axes>"
      ]
     },
     "metadata": {
      "needs_background": "light",
      "tags": []
     },
     "output_type": "display_data"
    }
   ],
   "source": [
    "%%time\n",
    "\n",
    "clf = RandomForestClassifier(n_estimators=100,n_jobs=-1, oob_score=True,bootstrap=True,random_state=42)\n",
    "clf.fit(X_train_final,y_train)\n",
    "\n",
    "predictions = clf.predict(X_test_final)\n",
    "probabilities = clf.predict_proba(X_test_final)\n",
    "\n",
    "print(\"TRAINING SCORE: \" + str(clf.score(X_train_final,y_train)))\n",
    "print(\"ACCURACY: \" + str(accuracy_score(y_test, predictions)))\n",
    "print(\"PRECISION: \" + str(precision_score(y_test, predictions)))\n",
    "print(\"RECALL: \" + str(recall_score(y_test, predictions)))\n",
    "print(\"F1 SCORE: \" + str(f1_score(y_test, predictions)))\n",
    "print(\"AUC: \" + str(roc_auc_score(y_test,probabilities[:, 1])))\n",
    "\n",
    "tpr, fpr, thresolds = roc_curve(y_test, probabilities[:, 1])\n",
    "plt.plot(tpr, fpr)\n",
    "plt.xlabel('fpr')\n",
    "plt.ylabel('tpr')"
   ]
  },
  {
   "cell_type": "code",
   "execution_count": null,
   "id": "dd5aaa72",
   "metadata": {
    "id": "soviet-strength",
    "outputId": "1252a940-35af-4945-a1a2-693ec97d619d"
   },
   "outputs": [
    {
     "name": "stdout",
     "output_type": "stream",
     "text": [
      "              precision    recall  f1-score   support\n",
      "\n",
      "           0       0.99      1.00      0.99    896587\n",
      "           1       0.44      0.18      0.26     10487\n",
      "\n",
      "    accuracy                           0.99    907074\n",
      "   macro avg       0.72      0.59      0.62    907074\n",
      "weighted avg       0.98      0.99      0.99    907074\n",
      "\n"
     ]
    },
    {
     "data": {
      "text/plain": [
       "array([[894206,   2381],\n",
       "       [  8600,   1887]])"
      ]
     },
     "execution_count": 22,
     "metadata": {
      "tags": []
     },
     "output_type": "execute_result"
    }
   ],
   "source": [
    "print(classification_report(y_test,clf.predict(X_test_final)))\n",
    "clrf_cm = confusion_matrix(y_test,clf.predict(X_test_final))\n",
    "clrf_cm"
   ]
  },
  {
   "cell_type": "code",
   "execution_count": null,
   "id": "0b8adf89",
   "metadata": {
    "id": "stunning-durham"
   },
   "outputs": [],
   "source": [
    "pickle.dump(clf,open(\"CLF_with_feat_selection.pickle\",\"wb\"))"
   ]
  },
  {
   "cell_type": "markdown",
   "id": "128cbaee",
   "metadata": {
    "id": "regulation-vinyl"
   },
   "source": [
    "## Dealing with imbalanced classification"
   ]
  },
  {
   "cell_type": "markdown",
   "id": "c4a2938d",
   "metadata": {
    "id": "beneficial-polls"
   },
   "source": [
    "### Dataset"
   ]
  },
  {
   "cell_type": "code",
   "execution_count": null,
   "id": "a844299c",
   "metadata": {
    "id": "alike-belle",
    "outputId": "27a693bf-e3ef-49eb-c068-cf9a6b48f210"
   },
   "outputs": [
    {
     "name": "stderr",
     "output_type": "stream",
     "text": [
      "/home/dsc/TFM/kschool_masterDS_TFM/env/lib/python3.9/site-packages/IPython/core/interactiveshell.py:3165: DtypeWarning: Columns (1) have mixed types.Specify dtype option on import or set low_memory=False.\n",
      "  has_raised = await self.run_ast_nodes(code_ast.body, cell_name,\n"
     ]
    },
    {
     "name": "stdout",
     "output_type": "stream",
     "text": [
      "(3628293, 31)\n",
      "\n",
      "<class 'pandas.core.frame.DataFrame'>\n",
      "RangeIndex: 3628293 entries, 0 to 3628292\n",
      "Data columns (total 31 columns):\n",
      " #   Column                       Dtype         \n",
      "---  ------                       -----         \n",
      " 0   ga:productSKU                object        \n",
      " 1   ga:dateHourMinute            datetime64[ns]\n",
      " 2   ga:pagePath                  object        \n",
      " 3   ga:pageDepth                 int64         \n",
      " 4   ga:userType                  object        \n",
      " 5   ga:sessionCount              int64         \n",
      " 6   ga:daysSinceLastSession      int64         \n",
      " 7   ga:landingPagePath           object        \n",
      " 8   ga:campaign                  object        \n",
      " 9   ga:sourceMedium              object        \n",
      " 10  ga:city                      object        \n",
      " 11  ga:deviceCategory            object        \n",
      " 12  ga:operatingSystem           object        \n",
      " 13  ga:productListViews          int64         \n",
      " 14  ga:productListClicks         int64         \n",
      " 15  ga:productDetailViews        int64         \n",
      " 16  ga:productAddsToCart         int64         \n",
      " 17  ga:productAddsToCart_transf  int64         \n",
      " 18  pPath_clean                  object        \n",
      " 19  Web_Discount                 float64       \n",
      " 20  Product_price                float64       \n",
      " 21  month_sin                    float64       \n",
      " 22  month_cos                    float64       \n",
      " 23  dayofweek_sin                float64       \n",
      " 24  dayofweek_cos                float64       \n",
      " 25  hour_sin                     float64       \n",
      " 26  hour_cos                     float64       \n",
      " 27  Source                       object        \n",
      " 28  Medium                       object        \n",
      " 29  Returning_Visitor            int64         \n",
      " 30  Detail_View                  int64         \n",
      "dtypes: datetime64[ns](1), float64(8), int64(10), object(12)\n",
      "memory usage: 858.1+ MB\n"
     ]
    }
   ],
   "source": [
    "data_root=\"../data/\"\n",
    "datafile=os.path.join(data_root,'no_carrito_no_pedido_df_2019_2020_jan21.csv')\n",
    "df=pd.read_csv(datafile)\n",
    "df.drop('Unnamed: 0', axis=1, inplace=True)\n",
    "\n",
    "# Product SKU as string\n",
    "df['ga:productSKU']=df['ga:productSKU'].astype('str')\n",
    "\n",
    "# dateHourMinute as SIN and COS\n",
    "df['ga:dateHourMinute']=pd.to_datetime(df['ga:dateHourMinute'],format='%Y%m%d%H%M')\n",
    "df['dateTime_month']=df['ga:dateHourMinute'].dt.month\n",
    "df['dateTime_dayofweek']=df['ga:dateHourMinute'].dt.dayofweek\n",
    "df['dateTime_hour']=df['ga:dateHourMinute'].dt.hour\n",
    "df['month_sin']=np.sin((df.dateTime_month-1)*(2.*np.pi/12)) # I substract minus 1 to 'df.dateTime_month' because its values are coded as 1 to 12 instead of 0 to 11\n",
    "df['month_cos']=np.cos((df.dateTime_month-1)*(2.*np.pi/12)) # I substract minus 1 to 'df.dateTime_month' because its values are coded as 1 to 12 instead of 0 to 11\n",
    "df['dayofweek_sin']=np.sin(df.dateTime_dayofweek*(2.*np.pi/7))\n",
    "df['dayofweek_cos']=np.cos(df.dateTime_dayofweek*(2.*np.pi/7))\n",
    "df['hour_sin']=np.sin(df.dateTime_hour*(2.*np.pi/24))\n",
    "df['hour_cos']=np.cos(df.dateTime_hour*(2.*np.pi/24))\n",
    "df.drop(['dateTime_month','dateTime_dayofweek','dateTime_hour'],axis=1, inplace=True)\n",
    "\n",
    "# Source Medium as 2 columns:\n",
    "source_medium = df['ga:sourceMedium'].str.split('/',expand=True)\n",
    "source_medium.columns=['Source','Medium']\n",
    "df= df.merge(source_medium,left_index=True,right_index=True,how='left')\n",
    "del(source_medium)\n",
    "df['Source']=df['Source'].astype('str').str.strip()\n",
    "df['Medium']=df['Medium'].astype('str').str.strip()\n",
    "\n",
    "# City\n",
    "df['ga:city']=df['ga:city'].astype('str')\n",
    "\n",
    "# Device\n",
    "df['ga:deviceCategory']=df['ga:deviceCategory'].astype('str')\n",
    "\n",
    "# Operating System\n",
    "df['ga:operatingSystem']=df['ga:operatingSystem'].astype('str')\n",
    "\n",
    "# User Type\n",
    "df['Returning_Visitor']= np.where(df['ga:userType']=='Returning Visitor',1,0)\n",
    "\n",
    "# Page Path, Detail_View and Landing Page Path as string\n",
    "df['ga:pagePath']=df['ga:pagePath'].astype('str')\n",
    "df['ga:pagePath'] = df['ga:pagePath'].apply(lambda x: x[:x.find(\"?pag\")] if \"?pag\" in x else x)\n",
    "df['Detail_View']=df['ga:pagePath'].apply(lambda url: 1 if url[-5:]=='.html' else 0)\n",
    "df['ga:landingPagePath']=df['ga:landingPagePath'].astype('str')\n",
    "df['ga:landingPagePath'] = df['ga:landingPagePath'].apply(lambda x: x[:x.find(\"?pag\")] if \"?pag\" in x else x)\n",
    "\n",
    "print(df.shape)\n",
    "print(\"\")\n",
    "df.info()"
   ]
  },
  {
   "cell_type": "code",
   "execution_count": null,
   "id": "e90ddc77",
   "metadata": {
    "id": "latin-performance",
    "outputId": "d011b7b0-5edb-41af-ecd9-9442ded0bef0"
   },
   "outputs": [
    {
     "name": "stdout",
     "output_type": "stream",
     "text": [
      "No. observations per class\n",
      "0    3586659\n",
      "1      41634\n",
      "Name: ga:productAddsToCart_transf, dtype: int64\n",
      "\n",
      "% observations per class\n",
      "0    98.852518\n",
      "1     1.147482\n",
      "Name: ga:productAddsToCart_transf, dtype: float64\n"
     ]
    }
   ],
   "source": [
    "df['ga:productAddsToCart_transf']=df[\"ga:productAddsToCart\"].apply(lambda x: 1 if x>1 else x)\n",
    "\n",
    "print(\"No. observations per class\")\n",
    "print(df['ga:productAddsToCart_transf'].value_counts())\n",
    "print(\"\")\n",
    "\n",
    "print(\"% observations per class\")\n",
    "print(100*df['ga:productAddsToCart_transf'].value_counts(normalize=True))"
   ]
  },
  {
   "cell_type": "markdown",
   "id": "e003c78f",
   "metadata": {
    "id": "dietary-annual"
   },
   "source": [
    "### Prepare Data"
   ]
  },
  {
   "cell_type": "code",
   "execution_count": null,
   "id": "07148123",
   "metadata": {
    "id": "pressing-correspondence"
   },
   "outputs": [],
   "source": [
    "# Data\n",
    "\n",
    "features=['ga:pageDepth','ga:sessionCount','ga:daysSinceLastSession','ga:productSKU',\\\n",
    "          'month_sin','month_cos','dayofweek_sin','dayofweek_cos','hour_sin','hour_cos',\\\n",
    "          'Source','Medium','ga:city','ga:deviceCategory','ga:operatingSystem','Returning_Visitor',\\\n",
    "          'Product_price','Web_Discount','ga:pagePath','Detail_View','ga:landingPagePath']\n",
    "\n",
    "y=df['ga:productAddsToCart_transf']\n",
    "X=df[features]\n",
    "X_train, X_test, y_train, y_test = train_test_split(X, y,random_state=42)"
   ]
  },
  {
   "cell_type": "markdown",
   "id": "7b506ace",
   "metadata": {
    "id": "informative-arnold"
   },
   "source": [
    "### Preprocess"
   ]
  },
  {
   "cell_type": "code",
   "execution_count": null,
   "id": "5eaba3aa",
   "metadata": {
    "id": "concrete-casino"
   },
   "outputs": [],
   "source": [
    "## CUSTOM TRANSFORMERS\n",
    "\n",
    "# 'Operating System' Transformer\n",
    "\n",
    "important_os = ['Android','iOS','Windows','Macintosh']\n",
    "\n",
    "class OSTransfomer(BaseEstimator,TransformerMixin):\n",
    "    def fit(self,X,y=None):\n",
    "        return self\n",
    "    def transform (self,X,y=None):\n",
    "        X_=X.copy()\n",
    "        X_['ga:operatingSystem']=X_['ga:operatingSystem'].apply(lambda os: 'other OS' if os not in important_os else os)\n",
    "        return X_\n",
    "    \n",
    "    \n",
    "# Compile 'Source'\n",
    "\n",
    "def source_compiler(x):\n",
    "    \n",
    "    insta_words= ['instagram','ig','linktr.ee']\n",
    "    for seq in insta_words:\n",
    "        if seq in x.lower():\n",
    "            return 'instagram'\n",
    "    if 'facebook' in x.lower():\n",
    "        return 'facebook'\n",
    "    if 'youtube' in x.lower():\n",
    "        return 'youtube'  \n",
    "    if 'vogue' in x.lower():\n",
    "        return 'vogue'\n",
    "    if 'yahoo' in x.lower():\n",
    "        return 'yahoo'\n",
    "    else:\n",
    "        return x\n",
    "\n",
    "important_sources = ['google','(direct)','instagram','facebook','sendinblue','youtube','bing','yahoo','vogue','cantabrialabs.es']\n",
    "\n",
    "class SourceTransfomer(BaseEstimator,TransformerMixin):\n",
    "    def fit(self,X,y=None):\n",
    "        return self\n",
    "    def transform (self,X,y=None):\n",
    "        X_=X.copy()\n",
    "        X_['Source']=X_['Source'].apply(source_compiler)\n",
    "        X_['Source']=X_['Source'].apply(lambda source: 'other sources' if source not in important_sources else source)\n",
    "        return X_\n",
    "    \n",
    "# Compile 'Medium':\n",
    "\n",
    "def medium_compiler(x):\n",
    "    \n",
    "    if 'cpc' in x.lower():\n",
    "        return 'cpc'\n",
    "    if x=='Social':\n",
    "        return 'IGShopping'  \n",
    "    if x=='facebook':\n",
    "        return 'facebook ads'\n",
    "    if x=='trafico':\n",
    "        return 'facebook trafico'\n",
    "    else:\n",
    "        return x\n",
    "    \n",
    "class MediumTransfomer(BaseEstimator,TransformerMixin):\n",
    "    def fit(self,X,y=None):\n",
    "        return self\n",
    "    def transform (self,X,y=None):\n",
    "        X_=X.copy()\n",
    "        X_['Medium']=X_['Medium'].apply(medium_compiler)\n",
    "        return X_\n",
    "    \n",
    "# Select other columns with no transformations (in order to be able to apply get_feature_names)\n",
    "\n",
    "class SelectColumnTransformer(BaseEstimator,TransformerMixin):\n",
    "    def fit(self,X,y=None):\n",
    "        return self\n",
    "    def transform (self,X,y=None):\n",
    "        return X"
   ]
  },
  {
   "cell_type": "code",
   "execution_count": null,
   "id": "6554e4c2",
   "metadata": {
    "id": "tribal-genome",
    "outputId": "11bc8a8b-a90f-4ad4-dc91-77023d07ea0f"
   },
   "outputs": [
    {
     "name": "stdout",
     "output_type": "stream",
     "text": [
      "(2721219, 44)\n",
      "(907074, 44)\n",
      "CPU times: user 37.3 s, sys: 1.93 s, total: 39.2 s\n",
      "Wall time: 39.3 s\n"
     ]
    }
   ],
   "source": [
    "%%time\n",
    "preprocess = pickle.load(open(\"preprocess.pickle\",\"rb\"))\n",
    "X_train_transf= preprocess.transform(X_train)\n",
    "X_test_transf= preprocess.transform(X_test)\n",
    "print(X_train_transf.shape)\n",
    "print(X_test_transf.shape)"
   ]
  },
  {
   "cell_type": "markdown",
   "id": "925fe48d",
   "metadata": {
    "id": "stable-exclusion"
   },
   "source": [
    "### Feature Selection"
   ]
  },
  {
   "cell_type": "code",
   "execution_count": null,
   "id": "0d83b84c",
   "metadata": {
    "id": "blessed-pointer",
    "outputId": "9318e334-3e2e-47e1-e210-e741b611044c"
   },
   "outputs": [
    {
     "name": "stdout",
     "output_type": "stream",
     "text": [
      "(2721219, 28)\n",
      "(907074, 28)\n",
      "CPU times: user 2.72 s, sys: 2.45 s, total: 5.18 s\n",
      "Wall time: 5.45 s\n"
     ]
    }
   ],
   "source": [
    "%%time\n",
    "feat_selection = pickle.load(open(\"feat_selection.pickle\",\"rb\"))\n",
    "X_train_final = feat_selection.transform(X_train_transf)\n",
    "X_test_final = feat_selection.transform(X_test_transf)\n",
    "print(X_train_final.shape)\n",
    "print(X_test_final.shape)"
   ]
  },
  {
   "cell_type": "markdown",
   "id": "820bd605",
   "metadata": {
    "id": "relative-morris"
   },
   "source": [
    "#### Final Features and DFs"
   ]
  },
  {
   "cell_type": "code",
   "execution_count": null,
   "id": "faa3a71f",
   "metadata": {
    "id": "guilty-extension",
    "outputId": "69a4ed72-d41f-4fea-a6b0-5169ee6ad065"
   },
   "outputs": [
    {
     "name": "stdout",
     "output_type": "stream",
     "text": [
      "44\n"
     ]
    },
    {
     "data": {
      "text/plain": [
       "['x0_(direct)',\n",
       " 'x0_bing',\n",
       " 'x0_cantabrialabs.es',\n",
       " 'x0_facebook',\n",
       " 'x0_google',\n",
       " 'x0_instagram',\n",
       " 'x0_other sources',\n",
       " 'x0_sendinblue',\n",
       " 'x0_vogue',\n",
       " 'x0_yahoo',\n",
       " 'x0_youtube',\n",
       " 'x0_IGShopping',\n",
       " 'x0_cpc',\n",
       " 'x0_email',\n",
       " 'x0_facebook ads',\n",
       " 'x0_facebook feed',\n",
       " 'x0_facebook trafico',\n",
       " 'x0_organic',\n",
       " 'x0_referral',\n",
       " 'x0_desktop',\n",
       " 'x0_mobile',\n",
       " 'x0_tablet',\n",
       " 'x0_Android',\n",
       " 'x0_Macintosh',\n",
       " 'x0_Windows',\n",
       " 'x0_iOS',\n",
       " 'x0_other OS',\n",
       " 'ga:productSKU',\n",
       " 'ga:city',\n",
       " 'ga:pagePath',\n",
       " 'ga:landingPagePath',\n",
       " 'Product_price',\n",
       " 'Web_Discount',\n",
       " 'Detail_View',\n",
       " 'ga:pageDepth',\n",
       " 'Returning_Visitor',\n",
       " 'ga:sessionCount',\n",
       " 'ga:daysSinceLastSession',\n",
       " 'month_sin',\n",
       " 'month_cos',\n",
       " 'dayofweek_sin',\n",
       " 'dayofweek_cos',\n",
       " 'hour_sin',\n",
       " 'hour_cos']"
      ]
     },
     "execution_count": 8,
     "metadata": {
      "tags": []
     },
     "output_type": "execute_result"
    }
   ],
   "source": [
    "features_names=[]\n",
    "\n",
    "for feature in range(0,4):\n",
    "    features= list(preprocess.named_steps['preprocess'].transformers_[feature][1].named_steps['ohe'].get_feature_names())\n",
    "    features_names.append(features)\n",
    "\n",
    "for feature in range(4,7):\n",
    "    features = preprocess['preprocess'].transformers_[feature][2]\n",
    "    features_names.append(features)\n",
    "\n",
    "features_names = [j for i in features_names for j in i]\n",
    "print(len(features_names))\n",
    "features_names"
   ]
  },
  {
   "cell_type": "code",
   "execution_count": null,
   "id": "abd788de",
   "metadata": {
    "id": "moderate-vision",
    "outputId": "1eb424ff-46a6-4b3b-f921-6351b9f46215"
   },
   "outputs": [
    {
     "data": {
      "text/plain": [
       "array([ True, False, False, False,  True, False, False,  True, False,\n",
       "       False, False, False,  True,  True, False, False, False,  True,\n",
       "       False,  True,  True, False,  True, False,  True,  True, False,\n",
       "        True,  True,  True,  True,  True,  True,  True,  True,  True,\n",
       "        True,  True,  True,  True,  True,  True,  True,  True])"
      ]
     },
     "execution_count": 9,
     "metadata": {
      "tags": []
     },
     "output_type": "execute_result"
    }
   ],
   "source": [
    "mask = feat_selection.get_support()\n",
    "mask"
   ]
  },
  {
   "cell_type": "code",
   "execution_count": null,
   "id": "82f3e135",
   "metadata": {
    "id": "norwegian-coverage",
    "outputId": "def2bec9-e34c-4070-d266-da30023fe074"
   },
   "outputs": [
    {
     "name": "stdout",
     "output_type": "stream",
     "text": [
      "28\n"
     ]
    },
    {
     "data": {
      "text/plain": [
       "['x0_(direct)',\n",
       " 'x0_google',\n",
       " 'x0_sendinblue',\n",
       " 'x0_cpc',\n",
       " 'x0_email',\n",
       " 'x0_organic',\n",
       " 'x0_desktop',\n",
       " 'x0_mobile',\n",
       " 'x0_Android',\n",
       " 'x0_Windows',\n",
       " 'x0_iOS',\n",
       " 'ga:productSKU',\n",
       " 'ga:city',\n",
       " 'ga:pagePath',\n",
       " 'ga:landingPagePath',\n",
       " 'Product_price',\n",
       " 'Web_Discount',\n",
       " 'Detail_View',\n",
       " 'ga:pageDepth',\n",
       " 'Returning_Visitor',\n",
       " 'ga:sessionCount',\n",
       " 'ga:daysSinceLastSession',\n",
       " 'month_sin',\n",
       " 'month_cos',\n",
       " 'dayofweek_sin',\n",
       " 'dayofweek_cos',\n",
       " 'hour_sin',\n",
       " 'hour_cos']"
      ]
     },
     "execution_count": 10,
     "metadata": {
      "tags": []
     },
     "output_type": "execute_result"
    }
   ],
   "source": [
    "mask = feat_selection.get_support() #list of booleans\n",
    "\n",
    "final_features = [] # The list of the best features\n",
    "\n",
    "for bool, feature in zip(mask, features_names):\n",
    "\n",
    "    if bool:\n",
    "\n",
    "        final_features.append(feature)\n",
    "\n",
    "print(len(final_features))\n",
    "final_features"
   ]
  },
  {
   "cell_type": "code",
   "execution_count": null,
   "id": "2ff32a41",
   "metadata": {
    "id": "increased-geometry",
    "outputId": "63c4b6c7-63a6-4eb8-9103-23a27b8f95b7"
   },
   "outputs": [
    {
     "name": "stdout",
     "output_type": "stream",
     "text": [
      "28\n"
     ]
    },
    {
     "data": {
      "text/html": [
       "<div>\n",
       "<style scoped>\n",
       "    .dataframe tbody tr th:only-of-type {\n",
       "        vertical-align: middle;\n",
       "    }\n",
       "\n",
       "    .dataframe tbody tr th {\n",
       "        vertical-align: top;\n",
       "    }\n",
       "\n",
       "    .dataframe thead th {\n",
       "        text-align: right;\n",
       "    }\n",
       "</style>\n",
       "<table border=\"1\" class=\"dataframe\">\n",
       "  <thead>\n",
       "    <tr style=\"text-align: right;\">\n",
       "      <th></th>\n",
       "      <th>x0_(direct)</th>\n",
       "      <th>x0_google</th>\n",
       "      <th>x0_sendinblue</th>\n",
       "      <th>x0_cpc</th>\n",
       "      <th>x0_email</th>\n",
       "      <th>x0_organic</th>\n",
       "      <th>x0_desktop</th>\n",
       "      <th>x0_mobile</th>\n",
       "      <th>x0_Android</th>\n",
       "      <th>x0_Windows</th>\n",
       "      <th>...</th>\n",
       "      <th>ga:pageDepth</th>\n",
       "      <th>Returning_Visitor</th>\n",
       "      <th>ga:sessionCount</th>\n",
       "      <th>ga:daysSinceLastSession</th>\n",
       "      <th>month_sin</th>\n",
       "      <th>month_cos</th>\n",
       "      <th>dayofweek_sin</th>\n",
       "      <th>dayofweek_cos</th>\n",
       "      <th>hour_sin</th>\n",
       "      <th>hour_cos</th>\n",
       "    </tr>\n",
       "  </thead>\n",
       "  <tbody>\n",
       "    <tr>\n",
       "      <th>0</th>\n",
       "      <td>0.0</td>\n",
       "      <td>1.0</td>\n",
       "      <td>0.0</td>\n",
       "      <td>0.0</td>\n",
       "      <td>0.0</td>\n",
       "      <td>1.0</td>\n",
       "      <td>1.0</td>\n",
       "      <td>0.0</td>\n",
       "      <td>0.0</td>\n",
       "      <td>1.0</td>\n",
       "      <td>...</td>\n",
       "      <td>1.0</td>\n",
       "      <td>0.0</td>\n",
       "      <td>1.0</td>\n",
       "      <td>0.0</td>\n",
       "      <td>1.000000</td>\n",
       "      <td>6.123234e-17</td>\n",
       "      <td>0.974928</td>\n",
       "      <td>-0.222521</td>\n",
       "      <td>0.258819</td>\n",
       "      <td>0.965926</td>\n",
       "    </tr>\n",
       "    <tr>\n",
       "      <th>1</th>\n",
       "      <td>0.0</td>\n",
       "      <td>1.0</td>\n",
       "      <td>0.0</td>\n",
       "      <td>0.0</td>\n",
       "      <td>0.0</td>\n",
       "      <td>1.0</td>\n",
       "      <td>0.0</td>\n",
       "      <td>1.0</td>\n",
       "      <td>0.0</td>\n",
       "      <td>0.0</td>\n",
       "      <td>...</td>\n",
       "      <td>10.0</td>\n",
       "      <td>0.0</td>\n",
       "      <td>1.0</td>\n",
       "      <td>0.0</td>\n",
       "      <td>-0.866025</td>\n",
       "      <td>5.000000e-01</td>\n",
       "      <td>0.781831</td>\n",
       "      <td>0.623490</td>\n",
       "      <td>-0.707107</td>\n",
       "      <td>-0.707107</td>\n",
       "    </tr>\n",
       "    <tr>\n",
       "      <th>2</th>\n",
       "      <td>0.0</td>\n",
       "      <td>1.0</td>\n",
       "      <td>0.0</td>\n",
       "      <td>0.0</td>\n",
       "      <td>0.0</td>\n",
       "      <td>1.0</td>\n",
       "      <td>1.0</td>\n",
       "      <td>0.0</td>\n",
       "      <td>0.0</td>\n",
       "      <td>1.0</td>\n",
       "      <td>...</td>\n",
       "      <td>2.0</td>\n",
       "      <td>0.0</td>\n",
       "      <td>1.0</td>\n",
       "      <td>0.0</td>\n",
       "      <td>-0.500000</td>\n",
       "      <td>8.660254e-01</td>\n",
       "      <td>0.781831</td>\n",
       "      <td>0.623490</td>\n",
       "      <td>-0.500000</td>\n",
       "      <td>0.866025</td>\n",
       "    </tr>\n",
       "    <tr>\n",
       "      <th>3</th>\n",
       "      <td>0.0</td>\n",
       "      <td>0.0</td>\n",
       "      <td>1.0</td>\n",
       "      <td>0.0</td>\n",
       "      <td>1.0</td>\n",
       "      <td>0.0</td>\n",
       "      <td>0.0</td>\n",
       "      <td>1.0</td>\n",
       "      <td>0.0</td>\n",
       "      <td>0.0</td>\n",
       "      <td>...</td>\n",
       "      <td>6.0</td>\n",
       "      <td>1.0</td>\n",
       "      <td>25.0</td>\n",
       "      <td>13.0</td>\n",
       "      <td>0.000000</td>\n",
       "      <td>1.000000e+00</td>\n",
       "      <td>-0.974928</td>\n",
       "      <td>-0.222521</td>\n",
       "      <td>-0.258819</td>\n",
       "      <td>-0.965926</td>\n",
       "    </tr>\n",
       "    <tr>\n",
       "      <th>4</th>\n",
       "      <td>0.0</td>\n",
       "      <td>0.0</td>\n",
       "      <td>0.0</td>\n",
       "      <td>0.0</td>\n",
       "      <td>0.0</td>\n",
       "      <td>0.0</td>\n",
       "      <td>1.0</td>\n",
       "      <td>0.0</td>\n",
       "      <td>0.0</td>\n",
       "      <td>0.0</td>\n",
       "      <td>...</td>\n",
       "      <td>48.0</td>\n",
       "      <td>1.0</td>\n",
       "      <td>3.0</td>\n",
       "      <td>5.0</td>\n",
       "      <td>-0.500000</td>\n",
       "      <td>-8.660254e-01</td>\n",
       "      <td>0.433884</td>\n",
       "      <td>-0.900969</td>\n",
       "      <td>-0.500000</td>\n",
       "      <td>0.866025</td>\n",
       "    </tr>\n",
       "    <tr>\n",
       "      <th>...</th>\n",
       "      <td>...</td>\n",
       "      <td>...</td>\n",
       "      <td>...</td>\n",
       "      <td>...</td>\n",
       "      <td>...</td>\n",
       "      <td>...</td>\n",
       "      <td>...</td>\n",
       "      <td>...</td>\n",
       "      <td>...</td>\n",
       "      <td>...</td>\n",
       "      <td>...</td>\n",
       "      <td>...</td>\n",
       "      <td>...</td>\n",
       "      <td>...</td>\n",
       "      <td>...</td>\n",
       "      <td>...</td>\n",
       "      <td>...</td>\n",
       "      <td>...</td>\n",
       "      <td>...</td>\n",
       "      <td>...</td>\n",
       "      <td>...</td>\n",
       "    </tr>\n",
       "    <tr>\n",
       "      <th>2721214</th>\n",
       "      <td>1.0</td>\n",
       "      <td>0.0</td>\n",
       "      <td>0.0</td>\n",
       "      <td>0.0</td>\n",
       "      <td>0.0</td>\n",
       "      <td>0.0</td>\n",
       "      <td>1.0</td>\n",
       "      <td>0.0</td>\n",
       "      <td>0.0</td>\n",
       "      <td>1.0</td>\n",
       "      <td>...</td>\n",
       "      <td>22.0</td>\n",
       "      <td>1.0</td>\n",
       "      <td>4.0</td>\n",
       "      <td>0.0</td>\n",
       "      <td>-0.500000</td>\n",
       "      <td>8.660254e-01</td>\n",
       "      <td>0.781831</td>\n",
       "      <td>0.623490</td>\n",
       "      <td>0.707107</td>\n",
       "      <td>-0.707107</td>\n",
       "    </tr>\n",
       "    <tr>\n",
       "      <th>2721215</th>\n",
       "      <td>0.0</td>\n",
       "      <td>1.0</td>\n",
       "      <td>0.0</td>\n",
       "      <td>1.0</td>\n",
       "      <td>0.0</td>\n",
       "      <td>0.0</td>\n",
       "      <td>0.0</td>\n",
       "      <td>1.0</td>\n",
       "      <td>1.0</td>\n",
       "      <td>0.0</td>\n",
       "      <td>...</td>\n",
       "      <td>2.0</td>\n",
       "      <td>0.0</td>\n",
       "      <td>1.0</td>\n",
       "      <td>0.0</td>\n",
       "      <td>0.000000</td>\n",
       "      <td>1.000000e+00</td>\n",
       "      <td>-0.433884</td>\n",
       "      <td>-0.900969</td>\n",
       "      <td>0.500000</td>\n",
       "      <td>-0.866025</td>\n",
       "    </tr>\n",
       "    <tr>\n",
       "      <th>2721216</th>\n",
       "      <td>0.0</td>\n",
       "      <td>0.0</td>\n",
       "      <td>0.0</td>\n",
       "      <td>0.0</td>\n",
       "      <td>0.0</td>\n",
       "      <td>0.0</td>\n",
       "      <td>0.0</td>\n",
       "      <td>1.0</td>\n",
       "      <td>0.0</td>\n",
       "      <td>0.0</td>\n",
       "      <td>...</td>\n",
       "      <td>2.0</td>\n",
       "      <td>1.0</td>\n",
       "      <td>41.0</td>\n",
       "      <td>7.0</td>\n",
       "      <td>-0.866025</td>\n",
       "      <td>5.000000e-01</td>\n",
       "      <td>-0.781831</td>\n",
       "      <td>0.623490</td>\n",
       "      <td>-0.500000</td>\n",
       "      <td>-0.866025</td>\n",
       "    </tr>\n",
       "    <tr>\n",
       "      <th>2721217</th>\n",
       "      <td>0.0</td>\n",
       "      <td>1.0</td>\n",
       "      <td>0.0</td>\n",
       "      <td>0.0</td>\n",
       "      <td>0.0</td>\n",
       "      <td>1.0</td>\n",
       "      <td>1.0</td>\n",
       "      <td>0.0</td>\n",
       "      <td>0.0</td>\n",
       "      <td>1.0</td>\n",
       "      <td>...</td>\n",
       "      <td>9.0</td>\n",
       "      <td>0.0</td>\n",
       "      <td>1.0</td>\n",
       "      <td>0.0</td>\n",
       "      <td>0.000000</td>\n",
       "      <td>1.000000e+00</td>\n",
       "      <td>-0.433884</td>\n",
       "      <td>-0.900969</td>\n",
       "      <td>-0.965926</td>\n",
       "      <td>-0.258819</td>\n",
       "    </tr>\n",
       "    <tr>\n",
       "      <th>2721218</th>\n",
       "      <td>0.0</td>\n",
       "      <td>0.0</td>\n",
       "      <td>1.0</td>\n",
       "      <td>0.0</td>\n",
       "      <td>1.0</td>\n",
       "      <td>0.0</td>\n",
       "      <td>1.0</td>\n",
       "      <td>0.0</td>\n",
       "      <td>0.0</td>\n",
       "      <td>1.0</td>\n",
       "      <td>...</td>\n",
       "      <td>38.0</td>\n",
       "      <td>1.0</td>\n",
       "      <td>5.0</td>\n",
       "      <td>0.0</td>\n",
       "      <td>-0.866025</td>\n",
       "      <td>5.000000e-01</td>\n",
       "      <td>-0.781831</td>\n",
       "      <td>0.623490</td>\n",
       "      <td>-0.707107</td>\n",
       "      <td>0.707107</td>\n",
       "    </tr>\n",
       "  </tbody>\n",
       "</table>\n",
       "<p>2721219 rows × 28 columns</p>\n",
       "</div>"
      ],
      "text/plain": [
       "         x0_(direct)  x0_google  x0_sendinblue  x0_cpc  x0_email  x0_organic  \\\n",
       "0                0.0        1.0            0.0     0.0       0.0         1.0   \n",
       "1                0.0        1.0            0.0     0.0       0.0         1.0   \n",
       "2                0.0        1.0            0.0     0.0       0.0         1.0   \n",
       "3                0.0        0.0            1.0     0.0       1.0         0.0   \n",
       "4                0.0        0.0            0.0     0.0       0.0         0.0   \n",
       "...              ...        ...            ...     ...       ...         ...   \n",
       "2721214          1.0        0.0            0.0     0.0       0.0         0.0   \n",
       "2721215          0.0        1.0            0.0     1.0       0.0         0.0   \n",
       "2721216          0.0        0.0            0.0     0.0       0.0         0.0   \n",
       "2721217          0.0        1.0            0.0     0.0       0.0         1.0   \n",
       "2721218          0.0        0.0            1.0     0.0       1.0         0.0   \n",
       "\n",
       "         x0_desktop  x0_mobile  x0_Android  x0_Windows  ...  ga:pageDepth  \\\n",
       "0               1.0        0.0         0.0         1.0  ...           1.0   \n",
       "1               0.0        1.0         0.0         0.0  ...          10.0   \n",
       "2               1.0        0.0         0.0         1.0  ...           2.0   \n",
       "3               0.0        1.0         0.0         0.0  ...           6.0   \n",
       "4               1.0        0.0         0.0         0.0  ...          48.0   \n",
       "...             ...        ...         ...         ...  ...           ...   \n",
       "2721214         1.0        0.0         0.0         1.0  ...          22.0   \n",
       "2721215         0.0        1.0         1.0         0.0  ...           2.0   \n",
       "2721216         0.0        1.0         0.0         0.0  ...           2.0   \n",
       "2721217         1.0        0.0         0.0         1.0  ...           9.0   \n",
       "2721218         1.0        0.0         0.0         1.0  ...          38.0   \n",
       "\n",
       "         Returning_Visitor  ga:sessionCount  ga:daysSinceLastSession  \\\n",
       "0                      0.0              1.0                      0.0   \n",
       "1                      0.0              1.0                      0.0   \n",
       "2                      0.0              1.0                      0.0   \n",
       "3                      1.0             25.0                     13.0   \n",
       "4                      1.0              3.0                      5.0   \n",
       "...                    ...              ...                      ...   \n",
       "2721214                1.0              4.0                      0.0   \n",
       "2721215                0.0              1.0                      0.0   \n",
       "2721216                1.0             41.0                      7.0   \n",
       "2721217                0.0              1.0                      0.0   \n",
       "2721218                1.0              5.0                      0.0   \n",
       "\n",
       "         month_sin     month_cos  dayofweek_sin  dayofweek_cos  hour_sin  \\\n",
       "0         1.000000  6.123234e-17       0.974928      -0.222521  0.258819   \n",
       "1        -0.866025  5.000000e-01       0.781831       0.623490 -0.707107   \n",
       "2        -0.500000  8.660254e-01       0.781831       0.623490 -0.500000   \n",
       "3         0.000000  1.000000e+00      -0.974928      -0.222521 -0.258819   \n",
       "4        -0.500000 -8.660254e-01       0.433884      -0.900969 -0.500000   \n",
       "...            ...           ...            ...            ...       ...   \n",
       "2721214  -0.500000  8.660254e-01       0.781831       0.623490  0.707107   \n",
       "2721215   0.000000  1.000000e+00      -0.433884      -0.900969  0.500000   \n",
       "2721216  -0.866025  5.000000e-01      -0.781831       0.623490 -0.500000   \n",
       "2721217   0.000000  1.000000e+00      -0.433884      -0.900969 -0.965926   \n",
       "2721218  -0.866025  5.000000e-01      -0.781831       0.623490 -0.707107   \n",
       "\n",
       "         hour_cos  \n",
       "0        0.965926  \n",
       "1       -0.707107  \n",
       "2        0.866025  \n",
       "3       -0.965926  \n",
       "4        0.866025  \n",
       "...           ...  \n",
       "2721214 -0.707107  \n",
       "2721215 -0.866025  \n",
       "2721216 -0.866025  \n",
       "2721217 -0.258819  \n",
       "2721218  0.707107  \n",
       "\n",
       "[2721219 rows x 28 columns]"
      ]
     },
     "execution_count": 11,
     "metadata": {
      "tags": []
     },
     "output_type": "execute_result"
    }
   ],
   "source": [
    "X_train_featsel_df = pd.DataFrame(X_train_final, columns=final_features)\n",
    "print(len(list(X_train_featsel_df.columns)))\n",
    "X_train_featsel_df"
   ]
  },
  {
   "cell_type": "code",
   "execution_count": null,
   "id": "f3708ea5",
   "metadata": {
    "id": "needed-radar",
    "outputId": "6913e187-6e39-44f6-b39c-8a1f6b65f174"
   },
   "outputs": [
    {
     "name": "stdout",
     "output_type": "stream",
     "text": [
      "28\n"
     ]
    },
    {
     "data": {
      "text/html": [
       "<div>\n",
       "<style scoped>\n",
       "    .dataframe tbody tr th:only-of-type {\n",
       "        vertical-align: middle;\n",
       "    }\n",
       "\n",
       "    .dataframe tbody tr th {\n",
       "        vertical-align: top;\n",
       "    }\n",
       "\n",
       "    .dataframe thead th {\n",
       "        text-align: right;\n",
       "    }\n",
       "</style>\n",
       "<table border=\"1\" class=\"dataframe\">\n",
       "  <thead>\n",
       "    <tr style=\"text-align: right;\">\n",
       "      <th></th>\n",
       "      <th>x0_(direct)</th>\n",
       "      <th>x0_google</th>\n",
       "      <th>x0_sendinblue</th>\n",
       "      <th>x0_cpc</th>\n",
       "      <th>x0_email</th>\n",
       "      <th>x0_organic</th>\n",
       "      <th>x0_desktop</th>\n",
       "      <th>x0_mobile</th>\n",
       "      <th>x0_Android</th>\n",
       "      <th>x0_Windows</th>\n",
       "      <th>...</th>\n",
       "      <th>ga:pageDepth</th>\n",
       "      <th>Returning_Visitor</th>\n",
       "      <th>ga:sessionCount</th>\n",
       "      <th>ga:daysSinceLastSession</th>\n",
       "      <th>month_sin</th>\n",
       "      <th>month_cos</th>\n",
       "      <th>dayofweek_sin</th>\n",
       "      <th>dayofweek_cos</th>\n",
       "      <th>hour_sin</th>\n",
       "      <th>hour_cos</th>\n",
       "    </tr>\n",
       "  </thead>\n",
       "  <tbody>\n",
       "    <tr>\n",
       "      <th>0</th>\n",
       "      <td>0.0</td>\n",
       "      <td>1.0</td>\n",
       "      <td>0.0</td>\n",
       "      <td>0.0</td>\n",
       "      <td>0.0</td>\n",
       "      <td>1.0</td>\n",
       "      <td>0.0</td>\n",
       "      <td>1.0</td>\n",
       "      <td>1.0</td>\n",
       "      <td>0.0</td>\n",
       "      <td>...</td>\n",
       "      <td>5.0</td>\n",
       "      <td>0.0</td>\n",
       "      <td>1.0</td>\n",
       "      <td>0.0</td>\n",
       "      <td>-0.500000</td>\n",
       "      <td>8.660254e-01</td>\n",
       "      <td>-0.433884</td>\n",
       "      <td>-0.900969</td>\n",
       "      <td>-2.588190e-01</td>\n",
       "      <td>9.659258e-01</td>\n",
       "    </tr>\n",
       "    <tr>\n",
       "      <th>1</th>\n",
       "      <td>0.0</td>\n",
       "      <td>1.0</td>\n",
       "      <td>0.0</td>\n",
       "      <td>0.0</td>\n",
       "      <td>0.0</td>\n",
       "      <td>1.0</td>\n",
       "      <td>0.0</td>\n",
       "      <td>1.0</td>\n",
       "      <td>1.0</td>\n",
       "      <td>0.0</td>\n",
       "      <td>...</td>\n",
       "      <td>47.0</td>\n",
       "      <td>1.0</td>\n",
       "      <td>3.0</td>\n",
       "      <td>0.0</td>\n",
       "      <td>0.000000</td>\n",
       "      <td>1.000000e+00</td>\n",
       "      <td>-0.781831</td>\n",
       "      <td>0.623490</td>\n",
       "      <td>1.224647e-16</td>\n",
       "      <td>-1.000000e+00</td>\n",
       "    </tr>\n",
       "    <tr>\n",
       "      <th>2</th>\n",
       "      <td>0.0</td>\n",
       "      <td>1.0</td>\n",
       "      <td>0.0</td>\n",
       "      <td>0.0</td>\n",
       "      <td>0.0</td>\n",
       "      <td>1.0</td>\n",
       "      <td>1.0</td>\n",
       "      <td>0.0</td>\n",
       "      <td>0.0</td>\n",
       "      <td>1.0</td>\n",
       "      <td>...</td>\n",
       "      <td>21.0</td>\n",
       "      <td>0.0</td>\n",
       "      <td>1.0</td>\n",
       "      <td>0.0</td>\n",
       "      <td>-0.500000</td>\n",
       "      <td>8.660254e-01</td>\n",
       "      <td>-0.781831</td>\n",
       "      <td>0.623490</td>\n",
       "      <td>-9.659258e-01</td>\n",
       "      <td>-2.588190e-01</td>\n",
       "    </tr>\n",
       "    <tr>\n",
       "      <th>3</th>\n",
       "      <td>0.0</td>\n",
       "      <td>0.0</td>\n",
       "      <td>1.0</td>\n",
       "      <td>0.0</td>\n",
       "      <td>1.0</td>\n",
       "      <td>0.0</td>\n",
       "      <td>0.0</td>\n",
       "      <td>1.0</td>\n",
       "      <td>1.0</td>\n",
       "      <td>0.0</td>\n",
       "      <td>...</td>\n",
       "      <td>16.0</td>\n",
       "      <td>1.0</td>\n",
       "      <td>4.0</td>\n",
       "      <td>0.0</td>\n",
       "      <td>-0.500000</td>\n",
       "      <td>8.660254e-01</td>\n",
       "      <td>-0.781831</td>\n",
       "      <td>0.623490</td>\n",
       "      <td>-8.660254e-01</td>\n",
       "      <td>5.000000e-01</td>\n",
       "    </tr>\n",
       "    <tr>\n",
       "      <th>4</th>\n",
       "      <td>0.0</td>\n",
       "      <td>1.0</td>\n",
       "      <td>0.0</td>\n",
       "      <td>0.0</td>\n",
       "      <td>0.0</td>\n",
       "      <td>1.0</td>\n",
       "      <td>1.0</td>\n",
       "      <td>0.0</td>\n",
       "      <td>0.0</td>\n",
       "      <td>0.0</td>\n",
       "      <td>...</td>\n",
       "      <td>3.0</td>\n",
       "      <td>1.0</td>\n",
       "      <td>2.0</td>\n",
       "      <td>3.0</td>\n",
       "      <td>1.000000</td>\n",
       "      <td>6.123234e-17</td>\n",
       "      <td>-0.433884</td>\n",
       "      <td>-0.900969</td>\n",
       "      <td>1.224647e-16</td>\n",
       "      <td>-1.000000e+00</td>\n",
       "    </tr>\n",
       "    <tr>\n",
       "      <th>...</th>\n",
       "      <td>...</td>\n",
       "      <td>...</td>\n",
       "      <td>...</td>\n",
       "      <td>...</td>\n",
       "      <td>...</td>\n",
       "      <td>...</td>\n",
       "      <td>...</td>\n",
       "      <td>...</td>\n",
       "      <td>...</td>\n",
       "      <td>...</td>\n",
       "      <td>...</td>\n",
       "      <td>...</td>\n",
       "      <td>...</td>\n",
       "      <td>...</td>\n",
       "      <td>...</td>\n",
       "      <td>...</td>\n",
       "      <td>...</td>\n",
       "      <td>...</td>\n",
       "      <td>...</td>\n",
       "      <td>...</td>\n",
       "      <td>...</td>\n",
       "    </tr>\n",
       "    <tr>\n",
       "      <th>907069</th>\n",
       "      <td>0.0</td>\n",
       "      <td>1.0</td>\n",
       "      <td>0.0</td>\n",
       "      <td>0.0</td>\n",
       "      <td>0.0</td>\n",
       "      <td>1.0</td>\n",
       "      <td>1.0</td>\n",
       "      <td>0.0</td>\n",
       "      <td>0.0</td>\n",
       "      <td>1.0</td>\n",
       "      <td>...</td>\n",
       "      <td>7.0</td>\n",
       "      <td>1.0</td>\n",
       "      <td>9.0</td>\n",
       "      <td>5.0</td>\n",
       "      <td>-0.866025</td>\n",
       "      <td>5.000000e-01</td>\n",
       "      <td>0.000000</td>\n",
       "      <td>1.000000</td>\n",
       "      <td>-5.000000e-01</td>\n",
       "      <td>8.660254e-01</td>\n",
       "    </tr>\n",
       "    <tr>\n",
       "      <th>907070</th>\n",
       "      <td>1.0</td>\n",
       "      <td>0.0</td>\n",
       "      <td>0.0</td>\n",
       "      <td>0.0</td>\n",
       "      <td>0.0</td>\n",
       "      <td>0.0</td>\n",
       "      <td>1.0</td>\n",
       "      <td>0.0</td>\n",
       "      <td>0.0</td>\n",
       "      <td>1.0</td>\n",
       "      <td>...</td>\n",
       "      <td>8.0</td>\n",
       "      <td>0.0</td>\n",
       "      <td>1.0</td>\n",
       "      <td>0.0</td>\n",
       "      <td>-0.866025</td>\n",
       "      <td>5.000000e-01</td>\n",
       "      <td>0.000000</td>\n",
       "      <td>1.000000</td>\n",
       "      <td>2.588190e-01</td>\n",
       "      <td>-9.659258e-01</td>\n",
       "    </tr>\n",
       "    <tr>\n",
       "      <th>907071</th>\n",
       "      <td>0.0</td>\n",
       "      <td>1.0</td>\n",
       "      <td>0.0</td>\n",
       "      <td>0.0</td>\n",
       "      <td>0.0</td>\n",
       "      <td>1.0</td>\n",
       "      <td>0.0</td>\n",
       "      <td>0.0</td>\n",
       "      <td>1.0</td>\n",
       "      <td>0.0</td>\n",
       "      <td>...</td>\n",
       "      <td>18.0</td>\n",
       "      <td>0.0</td>\n",
       "      <td>1.0</td>\n",
       "      <td>0.0</td>\n",
       "      <td>0.000000</td>\n",
       "      <td>1.000000e+00</td>\n",
       "      <td>0.974928</td>\n",
       "      <td>-0.222521</td>\n",
       "      <td>-9.659258e-01</td>\n",
       "      <td>2.588190e-01</td>\n",
       "    </tr>\n",
       "    <tr>\n",
       "      <th>907072</th>\n",
       "      <td>0.0</td>\n",
       "      <td>1.0</td>\n",
       "      <td>0.0</td>\n",
       "      <td>0.0</td>\n",
       "      <td>0.0</td>\n",
       "      <td>1.0</td>\n",
       "      <td>0.0</td>\n",
       "      <td>0.0</td>\n",
       "      <td>1.0</td>\n",
       "      <td>0.0</td>\n",
       "      <td>...</td>\n",
       "      <td>21.0</td>\n",
       "      <td>1.0</td>\n",
       "      <td>10.0</td>\n",
       "      <td>19.0</td>\n",
       "      <td>1.000000</td>\n",
       "      <td>6.123234e-17</td>\n",
       "      <td>0.000000</td>\n",
       "      <td>1.000000</td>\n",
       "      <td>-7.071068e-01</td>\n",
       "      <td>7.071068e-01</td>\n",
       "    </tr>\n",
       "    <tr>\n",
       "      <th>907073</th>\n",
       "      <td>1.0</td>\n",
       "      <td>0.0</td>\n",
       "      <td>0.0</td>\n",
       "      <td>0.0</td>\n",
       "      <td>0.0</td>\n",
       "      <td>0.0</td>\n",
       "      <td>1.0</td>\n",
       "      <td>0.0</td>\n",
       "      <td>0.0</td>\n",
       "      <td>0.0</td>\n",
       "      <td>...</td>\n",
       "      <td>17.0</td>\n",
       "      <td>0.0</td>\n",
       "      <td>1.0</td>\n",
       "      <td>0.0</td>\n",
       "      <td>0.000000</td>\n",
       "      <td>1.000000e+00</td>\n",
       "      <td>-0.781831</td>\n",
       "      <td>0.623490</td>\n",
       "      <td>-1.000000e+00</td>\n",
       "      <td>-1.836970e-16</td>\n",
       "    </tr>\n",
       "  </tbody>\n",
       "</table>\n",
       "<p>907074 rows × 28 columns</p>\n",
       "</div>"
      ],
      "text/plain": [
       "        x0_(direct)  x0_google  x0_sendinblue  x0_cpc  x0_email  x0_organic  \\\n",
       "0               0.0        1.0            0.0     0.0       0.0         1.0   \n",
       "1               0.0        1.0            0.0     0.0       0.0         1.0   \n",
       "2               0.0        1.0            0.0     0.0       0.0         1.0   \n",
       "3               0.0        0.0            1.0     0.0       1.0         0.0   \n",
       "4               0.0        1.0            0.0     0.0       0.0         1.0   \n",
       "...             ...        ...            ...     ...       ...         ...   \n",
       "907069          0.0        1.0            0.0     0.0       0.0         1.0   \n",
       "907070          1.0        0.0            0.0     0.0       0.0         0.0   \n",
       "907071          0.0        1.0            0.0     0.0       0.0         1.0   \n",
       "907072          0.0        1.0            0.0     0.0       0.0         1.0   \n",
       "907073          1.0        0.0            0.0     0.0       0.0         0.0   \n",
       "\n",
       "        x0_desktop  x0_mobile  x0_Android  x0_Windows  ...  ga:pageDepth  \\\n",
       "0              0.0        1.0         1.0         0.0  ...           5.0   \n",
       "1              0.0        1.0         1.0         0.0  ...          47.0   \n",
       "2              1.0        0.0         0.0         1.0  ...          21.0   \n",
       "3              0.0        1.0         1.0         0.0  ...          16.0   \n",
       "4              1.0        0.0         0.0         0.0  ...           3.0   \n",
       "...            ...        ...         ...         ...  ...           ...   \n",
       "907069         1.0        0.0         0.0         1.0  ...           7.0   \n",
       "907070         1.0        0.0         0.0         1.0  ...           8.0   \n",
       "907071         0.0        0.0         1.0         0.0  ...          18.0   \n",
       "907072         0.0        0.0         1.0         0.0  ...          21.0   \n",
       "907073         1.0        0.0         0.0         0.0  ...          17.0   \n",
       "\n",
       "        Returning_Visitor  ga:sessionCount  ga:daysSinceLastSession  \\\n",
       "0                     0.0              1.0                      0.0   \n",
       "1                     1.0              3.0                      0.0   \n",
       "2                     0.0              1.0                      0.0   \n",
       "3                     1.0              4.0                      0.0   \n",
       "4                     1.0              2.0                      3.0   \n",
       "...                   ...              ...                      ...   \n",
       "907069                1.0              9.0                      5.0   \n",
       "907070                0.0              1.0                      0.0   \n",
       "907071                0.0              1.0                      0.0   \n",
       "907072                1.0             10.0                     19.0   \n",
       "907073                0.0              1.0                      0.0   \n",
       "\n",
       "        month_sin     month_cos  dayofweek_sin  dayofweek_cos      hour_sin  \\\n",
       "0       -0.500000  8.660254e-01      -0.433884      -0.900969 -2.588190e-01   \n",
       "1        0.000000  1.000000e+00      -0.781831       0.623490  1.224647e-16   \n",
       "2       -0.500000  8.660254e-01      -0.781831       0.623490 -9.659258e-01   \n",
       "3       -0.500000  8.660254e-01      -0.781831       0.623490 -8.660254e-01   \n",
       "4        1.000000  6.123234e-17      -0.433884      -0.900969  1.224647e-16   \n",
       "...           ...           ...            ...            ...           ...   \n",
       "907069  -0.866025  5.000000e-01       0.000000       1.000000 -5.000000e-01   \n",
       "907070  -0.866025  5.000000e-01       0.000000       1.000000  2.588190e-01   \n",
       "907071   0.000000  1.000000e+00       0.974928      -0.222521 -9.659258e-01   \n",
       "907072   1.000000  6.123234e-17       0.000000       1.000000 -7.071068e-01   \n",
       "907073   0.000000  1.000000e+00      -0.781831       0.623490 -1.000000e+00   \n",
       "\n",
       "            hour_cos  \n",
       "0       9.659258e-01  \n",
       "1      -1.000000e+00  \n",
       "2      -2.588190e-01  \n",
       "3       5.000000e-01  \n",
       "4      -1.000000e+00  \n",
       "...              ...  \n",
       "907069  8.660254e-01  \n",
       "907070 -9.659258e-01  \n",
       "907071  2.588190e-01  \n",
       "907072  7.071068e-01  \n",
       "907073 -1.836970e-16  \n",
       "\n",
       "[907074 rows x 28 columns]"
      ]
     },
     "execution_count": 12,
     "metadata": {
      "tags": []
     },
     "output_type": "execute_result"
    }
   ],
   "source": [
    "X_test_featsel_df = pd.DataFrame(X_test_final, columns=final_features)\n",
    "print(len(list(X_test_featsel_df.columns)))\n",
    "X_test_featsel_df"
   ]
  },
  {
   "cell_type": "markdown",
   "id": "b4a18aa6",
   "metadata": {
    "id": "executive-whole"
   },
   "source": [
    "### Imbalance techniques evaluation"
   ]
  },
  {
   "cell_type": "markdown",
   "id": "3d4fb3f6",
   "metadata": {
    "id": "honest-measure"
   },
   "source": [
    "#### SMOTE Oversampling"
   ]
  },
  {
   "cell_type": "code",
   "execution_count": null,
   "id": "eb1e9296",
   "metadata": {
    "id": "cognitive-teddy",
    "outputId": "57d888aa-17d8-4853-8997-e36a8ef86efc"
   },
   "outputs": [
    {
     "name": "stdout",
     "output_type": "stream",
     "text": [
      "Counter({0: 2690072, 1: 2690072})\n",
      "CPU times: user 58.1 s, sys: 14.8 s, total: 1min 12s\n",
      "Wall time: 56.9 s\n"
     ]
    }
   ],
   "source": [
    "%%time\n",
    "\n",
    "oversample = SMOTE()\n",
    "X_train_featsel_over, y_train_over = oversample.fit_resample(X_train_final,y_train)\n",
    "counter=Counter(y_train_over)\n",
    "print(counter)"
   ]
  },
  {
   "cell_type": "code",
   "execution_count": null,
   "id": "050b4d5c",
   "metadata": {
    "id": "musical-photographer",
    "outputId": "1f5a84b1-deef-4872-c22d-8c2c83c1010d"
   },
   "outputs": [
    {
     "name": "stdout",
     "output_type": "stream",
     "text": [
      "TRAINING SCORE: 0.9985788484471791\n",
      "ACCURACY: 0.9875203125654577\n",
      "PRECISION: 0.4306411323896753\n",
      "RECALL: 0.24659101745017642\n",
      "F1 SCORE: 0.3136065971380063\n",
      "AUC: 0.9045028880581519\n",
      "CPU times: user 3h 18min 50s, sys: 1min 31s, total: 3h 20min 21s\n",
      "Wall time: 53min 12s\n"
     ]
    },
    {
     "data": {
      "image/png": "[encoded data removed]",
      "text/plain": [
       "<Figure size 432x288 with 1 Axes>"
      ]
     },
     "metadata": {
      "needs_background": "light",
      "tags": []
     },
     "output_type": "display_data"
    }
   ],
   "source": [
    "%%time\n",
    "\n",
    "clf = RandomForestClassifier(n_estimators=100,n_jobs=-1, oob_score=True,bootstrap=True,random_state=42)\n",
    "evaluate(clf,X_train_featsel_over, X_test_final, y_train_over, y_test)"
   ]
  },
  {
   "cell_type": "code",
   "execution_count": null,
   "id": "8461aa5c",
   "metadata": {
    "id": "chronic-sport",
    "outputId": "d7b517f6-278d-4430-fc31-6b7ace1ac8c5"
   },
   "outputs": [
    {
     "name": "stdout",
     "output_type": "stream",
     "text": [
      "              precision    recall  f1-score   support\n",
      "\n",
      "           0       0.99      1.00      0.99    896587\n",
      "           1       0.43      0.25      0.31     10487\n",
      "\n",
      "    accuracy                           0.99    907074\n",
      "   macro avg       0.71      0.62      0.65    907074\n",
      "weighted avg       0.98      0.99      0.99    907074\n",
      "\n"
     ]
    },
    {
     "data": {
      "text/plain": [
       "array([[893168,   3419],\n",
       "       [  7901,   2586]])"
      ]
     },
     "execution_count": 22,
     "metadata": {
      "tags": []
     },
     "output_type": "execute_result"
    }
   ],
   "source": [
    "print(classification_report(y_test,clf.predict(X_test_final)))\n",
    "clrf_cm = confusion_matrix(y_test,clf.predict(X_test_final))\n",
    "clrf_cm"
   ]
  },
  {
   "cell_type": "markdown",
   "id": "5af6f971",
   "metadata": {
    "id": "eastern-remainder"
   },
   "source": [
    "#### SMOTE Oversampling and Undersampling"
   ]
  },
  {
   "cell_type": "code",
   "execution_count": null,
   "id": "ef3c8cb0",
   "metadata": {
    "id": "later-congo",
    "outputId": "56a470ad-9bd1-4bff-bb6e-af389a38c665"
   },
   "outputs": [
    {
     "name": "stdout",
     "output_type": "stream",
     "text": [
      "Counter({0: 2690072, 1: 31147})\n"
     ]
    }
   ],
   "source": [
    "print(Counter(y_train))"
   ]
  },
  {
   "cell_type": "code",
   "execution_count": null,
   "id": "655a8a87",
   "metadata": {
    "id": "married-breathing",
    "outputId": "388fa901-70ff-4126-dedc-2ec05a8314b1"
   },
   "outputs": [
    {
     "name": "stdout",
     "output_type": "stream",
     "text": [
      "Counter({0: 2690072, 1: 269007})\n",
      "CPU times: user 1min 5s, sys: 31.5 s, total: 1min 36s\n",
      "Wall time: 1min 5s\n"
     ]
    }
   ],
   "source": [
    "%%time\n",
    "\n",
    "oversample = SMOTE(sampling_strategy=0.1)\n",
    "X_train_featsel_over, y_train_over = oversample.fit_resample(X_train_final,y_train)\n",
    "counter=Counter(y_train_over)\n",
    "print(counter)"
   ]
  },
  {
   "cell_type": "code",
   "execution_count": null,
   "id": "537d97d3",
   "metadata": {
    "id": "apparent-diploma",
    "outputId": "efe7c1ca-7eb1-4cc9-fdf2-0a6d7b624b84"
   },
   "outputs": [
    {
     "name": "stdout",
     "output_type": "stream",
     "text": [
      "Counter({0: 538014, 1: 269007})\n"
     ]
    }
   ],
   "source": [
    "undersample = RandomUnderSampler(sampling_strategy=0.5)\n",
    "X_train_featsel_over_under, y_train_over_under = undersample.fit_resample(X_train_featsel_over, y_train_over)\n",
    "counter=Counter(y_train_over_under)\n",
    "print(counter)"
   ]
  },
  {
   "cell_type": "code",
   "execution_count": null,
   "id": "db862e5a",
   "metadata": {
    "id": "improving-console",
    "outputId": "ffd92df5-19f4-4ce9-ffad-3c4189b0eff7"
   },
   "outputs": [
    {
     "name": "stdout",
     "output_type": "stream",
     "text": [
      "TRAINING SCORE: 0.9977832051458388\n",
      "ACCURACY: 0.9780293559290643\n",
      "PRECISION: 0.24503132426009938\n",
      "RECALL: 0.4326308763230666\n",
      "F1 SCORE: 0.3128641864634693\n",
      "AUC: 0.9318148260621255\n",
      "CPU times: user 20min 48s, sys: 7.08 s, total: 20min 55s\n",
      "Wall time: 5min 38s\n"
     ]
    },
    {
     "data": {
      "image/png": "[encoded data removed]",
      "text/plain": [
       "<Figure size 432x288 with 1 Axes>"
      ]
     },
     "metadata": {
      "needs_background": "light",
      "tags": []
     },
     "output_type": "display_data"
    }
   ],
   "source": [
    "%%time\n",
    "\n",
    "clf = RandomForestClassifier(n_estimators=100,n_jobs=-1, oob_score=True,bootstrap=True,random_state=42)\n",
    "evaluate(clf,X_train_featsel_over_under, X_test_final, y_train_over_under, y_test)"
   ]
  },
  {
   "cell_type": "code",
   "execution_count": null,
   "id": "8cb5ab7b",
   "metadata": {
    "id": "turned-resolution",
    "outputId": "5ad5f78c-7a4f-4344-ee81-d5fcd775f087"
   },
   "outputs": [
    {
     "name": "stdout",
     "output_type": "stream",
     "text": [
      "              precision    recall  f1-score   support\n",
      "\n",
      "           0       0.99      0.98      0.99    896587\n",
      "           1       0.25      0.43      0.31     10487\n",
      "\n",
      "    accuracy                           0.98    907074\n",
      "   macro avg       0.62      0.71      0.65    907074\n",
      "weighted avg       0.98      0.98      0.98    907074\n",
      "\n"
     ]
    },
    {
     "data": {
      "text/plain": [
       "array([[882608,  13979],\n",
       "       [  5950,   4537]])"
      ]
     },
     "execution_count": 24,
     "metadata": {
      "tags": []
     },
     "output_type": "execute_result"
    }
   ],
   "source": [
    "print(classification_report(y_test,clf.predict(X_test_final)))\n",
    "clrf_cm = confusion_matrix(y_test,clf.predict(X_test_final))\n",
    "clrf_cm"
   ]
  },
  {
   "cell_type": "markdown",
   "id": "ab4d3541",
   "metadata": {
    "id": "informative-upper"
   },
   "source": [
    "#### Borderline SMOTE"
   ]
  },
  {
   "cell_type": "code",
   "execution_count": null,
   "id": "9ee3ae8f",
   "metadata": {
    "id": "blind-scanner",
    "outputId": "b649755c-456a-4050-8666-ed81775d0b9d"
   },
   "outputs": [
    {
     "name": "stdout",
     "output_type": "stream",
     "text": [
      "Counter({0: 2690072, 1: 2690072})\n",
      "CPU times: user 1h 16min 17s, sys: 7min 3s, total: 1h 23min 20s\n",
      "Wall time: 58min 30s\n"
     ]
    }
   ],
   "source": [
    "%%time\n",
    "\n",
    "oversample = BorderlineSMOTE()\n",
    "X_train_featsel_over, y_train_over = oversample.fit_resample(X_train_final,y_train)\n",
    "counter=Counter(y_train_over)\n",
    "print(counter)"
   ]
  },
  {
   "cell_type": "code",
   "execution_count": null,
   "id": "980c4980",
   "metadata": {
    "id": "stainless-killer"
   },
   "outputs": [],
   "source": [
    "np.save(data_root+'X_train_featsel_borderSMOTE.npy', X_train_featsel_over)\n",
    "np.save(data_root+'y_train_borderSMOTE.npy', y_train_over)"
   ]
  },
  {
   "cell_type": "code",
   "execution_count": null,
   "id": "e8d2cfd1",
   "metadata": {
    "id": "recognized-mailman"
   },
   "outputs": [],
   "source": [
    "X_train_featsel_over=np.load(data_root+'X_train_featsel_borderSMOTE.npy')\n",
    "y_train_over=np.load(data_root+'y_train_borderSMOTE.npy')"
   ]
  },
  {
   "cell_type": "code",
   "execution_count": null,
   "id": "b320334b",
   "metadata": {
    "id": "perfect-samba",
    "outputId": "5ef24686-aee2-4dc2-cf38-e4e1bcb8cdaf"
   },
   "outputs": [
    {
     "name": "stdout",
     "output_type": "stream",
     "text": [
      "TRAINING SCORE: 0.998578104972655\n",
      "ACCURACY: 0.9874232973274507\n",
      "PRECISION: 0.4176060118089104\n",
      "RECALL: 0.22256126632974157\n",
      "F1 SCORE: 0.2903707389897985\n",
      "AUC: 0.9019308845738759\n",
      "CPU times: user 3h 33min 26s, sys: 3min 41s, total: 3h 37min 8s\n",
      "Wall time: 57min 20s\n"
     ]
    },
    {
     "data": {
      "image/png": "[encoded data removed]",
      "text/plain": [
       "<Figure size 432x288 with 1 Axes>"
      ]
     },
     "metadata": {
      "needs_background": "light",
      "tags": []
     },
     "output_type": "display_data"
    }
   ],
   "source": [
    "%%time\n",
    "\n",
    "clf = RandomForestClassifier(n_estimators=100,n_jobs=-1, oob_score=True,bootstrap=True,random_state=42)\n",
    "evaluate(clf,X_train_featsel_over, X_test_final, y_train_over, y_test)"
   ]
  },
  {
   "cell_type": "code",
   "execution_count": null,
   "id": "8b690889",
   "metadata": {
    "id": "plastic-inquiry",
    "outputId": "228db7e3-e2bd-4886-a9d7-080a64199a01"
   },
   "outputs": [
    {
     "name": "stdout",
     "output_type": "stream",
     "text": [
      "              precision    recall  f1-score   support\n",
      "\n",
      "           0       0.99      1.00      0.99    896587\n",
      "           1       0.42      0.22      0.29     10487\n",
      "\n",
      "    accuracy                           0.99    907074\n",
      "   macro avg       0.70      0.61      0.64    907074\n",
      "weighted avg       0.98      0.99      0.99    907074\n",
      "\n"
     ]
    },
    {
     "data": {
      "text/plain": [
       "array([[893332,   3255],\n",
       "       [  8153,   2334]])"
      ]
     },
     "execution_count": 16,
     "metadata": {
      "tags": []
     },
     "output_type": "execute_result"
    }
   ],
   "source": [
    "print(classification_report(y_test,clf.predict(X_test_final)))\n",
    "clrf_cm = confusion_matrix(y_test,clf.predict(X_test_final))\n",
    "clrf_cm"
   ]
  },
  {
   "cell_type": "markdown",
   "id": "13751051",
   "metadata": {
    "id": "compound-edinburgh"
   },
   "source": [
    "#### ADASYN"
   ]
  },
  {
   "cell_type": "code",
   "execution_count": null,
   "id": "53a13cfa",
   "metadata": {
    "id": "chinese-fence",
    "outputId": "cf32942d-9a62-474e-a229-425bed9558ab"
   },
   "outputs": [
    {
     "name": "stdout",
     "output_type": "stream",
     "text": [
      "Counter({0: 2690072, 1: 2682657})\n",
      "CPU times: user 1h 15min 27s, sys: 7min 30s, total: 1h 22min 57s\n",
      "Wall time: 58min 51s\n"
     ]
    }
   ],
   "source": [
    "%%time\n",
    "\n",
    "oversample = ADASYN()\n",
    "X_train_featsel_over, y_train_over = oversample.fit_resample(X_train_final,y_train)\n",
    "counter=Counter(y_train_over)\n",
    "print(counter)"
   ]
  },
  {
   "cell_type": "code",
   "execution_count": null,
   "id": "b3699d50",
   "metadata": {
    "id": "cordless-exhibition"
   },
   "outputs": [],
   "source": [
    "np.save(data_root+'X_train_featsel_ADASYN.npy', X_train_featsel_over)\n",
    "np.save(data_root+'y_train_ADASYN.npy', y_train_over)"
   ]
  },
  {
   "cell_type": "code",
   "execution_count": null,
   "id": "4e59fb74",
   "metadata": {
    "id": "favorite-surgeon"
   },
   "outputs": [],
   "source": [
    "X_train_featsel_over=np.load(data_root+'X_train_featsel_ADASYN.npy')\n",
    "y_train_over=np.load(data_root+'y_train_ADASYN.npy')"
   ]
  },
  {
   "cell_type": "code",
   "execution_count": null,
   "id": "5f7473b3",
   "metadata": {
    "id": "opponent-diana",
    "outputId": "ce6389e9-0398-4d20-e6ab-9869f8b4cc34"
   },
   "outputs": [
    {
     "name": "stdout",
     "output_type": "stream",
     "text": [
      "TRAINING SCORE: 0.9985768870903409\n",
      "ACCURACY: 0.9875059807689339\n",
      "PRECISION: 0.4289791806581598\n",
      "RECALL: 0.24363497663774197\n",
      "F1 SCORE: 0.3107705406555981\n",
      "AUC: 0.9037784637774281\n",
      "CPU times: user 3h 6min 15s, sys: 4min 4s, total: 3h 10min 20s\n",
      "Wall time: 50min 39s\n"
     ]
    },
    {
     "data": {
      "image/png": "[encoded data removed]",
      "text/plain": [
       "<Figure size 432x288 with 1 Axes>"
      ]
     },
     "metadata": {
      "needs_background": "light",
      "tags": []
     },
     "output_type": "display_data"
    }
   ],
   "source": [
    "%%time\n",
    "\n",
    "clf = RandomForestClassifier(n_estimators=100,n_jobs=-1, oob_score=True,bootstrap=True,random_state=42)\n",
    "evaluate(clf,X_train_featsel_over, X_test_final, y_train_over, y_test)"
   ]
  },
  {
   "cell_type": "code",
   "execution_count": null,
   "id": "edb1df6e",
   "metadata": {
    "id": "viral-sight",
    "outputId": "0fa64c2d-da16-426a-8285-fbee63e1e360"
   },
   "outputs": [
    {
     "name": "stdout",
     "output_type": "stream",
     "text": [
      "              precision    recall  f1-score   support\n",
      "\n",
      "           0       0.99      1.00      0.99    896587\n",
      "           1       0.43      0.24      0.31     10487\n",
      "\n",
      "    accuracy                           0.99    907074\n",
      "   macro avg       0.71      0.62      0.65    907074\n",
      "weighted avg       0.98      0.99      0.99    907074\n",
      "\n"
     ]
    },
    {
     "data": {
      "text/plain": [
       "array([[893186,   3401],\n",
       "       [  7932,   2555]])"
      ]
     },
     "execution_count": 14,
     "metadata": {
      "tags": []
     },
     "output_type": "execute_result"
    }
   ],
   "source": [
    "print(classification_report(y_test,clf.predict(X_test_final)))\n",
    "clrf_cm = confusion_matrix(y_test,clf.predict(X_test_final))\n",
    "clrf_cm"
   ]
  },
  {
   "cell_type": "markdown",
   "id": "5e81d406",
   "metadata": {
    "id": "defensive-preliminary"
   },
   "source": [
    "#### SMOTE Oversampling and Undersampling - Sampling Strategy Optimization"
   ]
  },
  {
   "cell_type": "code",
   "execution_count": null,
   "id": "75960d0e",
   "metadata": {
    "id": "appointed-livestock",
    "outputId": "f90da466-bea7-46dd-a7bb-15c5bcbf6f7d"
   },
   "outputs": [
    {
     "name": "stderr",
     "output_type": "stream",
     "text": [
      "/home/dsc/TFM/kschool_masterDS_TFM/env/lib/python3.9/site-packages/joblib/externals/loky/backend/utils.py:55: UserWarning: Failed to kill subprocesses on this platform. Pleaseinstall psutil: https://github.com/giampaolo/psutil\n",
      "  warnings.warn(\"Failed to kill subprocesses on this platform. Please\"\n",
      "/home/dsc/TFM/kschool_masterDS_TFM/env/lib/python3.9/site-packages/joblib/externals/loky/backend/utils.py:55: UserWarning: Failed to kill subprocesses on this platform. Pleaseinstall psutil: https://github.com/giampaolo/psutil\n",
      "  warnings.warn(\"Failed to kill subprocesses on this platform. Please\"\n"
     ]
    },
    {
     "ename": "TerminatedWorkerError",
     "evalue": "A worker process managed by the executor was unexpectedly terminated. This could be caused by a segmentation fault while calling the function or by an excessive memory usage causing the Operating System to kill the worker.\n\nThe exit codes of the workers are {SIGKILL(-9)}",
     "output_type": "error",
     "traceback": [
      "\u001b[0;31m---------------------------------------------------------------------------\u001b[0m",
      "\u001b[0;31mTerminatedWorkerError\u001b[0m                     Traceback (most recent call last)",
      "\u001b[0;32m<timed exec>\u001b[0m in \u001b[0;36m<module>\u001b[0;34m\u001b[0m\n",
      "\u001b[0;32m~/TFM/kschool_masterDS_TFM/env/lib/python3.9/site-packages/sklearn/utils/validation.py\u001b[0m in \u001b[0;36minner_f\u001b[0;34m(*args, **kwargs)\u001b[0m\n\u001b[1;32m     61\u001b[0m             \u001b[0mextra_args\u001b[0m \u001b[0;34m=\u001b[0m \u001b[0mlen\u001b[0m\u001b[0;34m(\u001b[0m\u001b[0margs\u001b[0m\u001b[0;34m)\u001b[0m \u001b[0;34m-\u001b[0m \u001b[0mlen\u001b[0m\u001b[0;34m(\u001b[0m\u001b[0mall_args\u001b[0m\u001b[0;34m)\u001b[0m\u001b[0;34m\u001b[0m\u001b[0;34m\u001b[0m\u001b[0m\n\u001b[1;32m     62\u001b[0m             \u001b[0;32mif\u001b[0m \u001b[0mextra_args\u001b[0m \u001b[0;34m<=\u001b[0m \u001b[0;36m0\u001b[0m\u001b[0;34m:\u001b[0m\u001b[0;34m\u001b[0m\u001b[0;34m\u001b[0m\u001b[0m\n\u001b[0;32m---> 63\u001b[0;31m                 \u001b[0;32mreturn\u001b[0m \u001b[0mf\u001b[0m\u001b[0;34m(\u001b[0m\u001b[0;34m*\u001b[0m\u001b[0margs\u001b[0m\u001b[0;34m,\u001b[0m \u001b[0;34m**\u001b[0m\u001b[0mkwargs\u001b[0m\u001b[0;34m)\u001b[0m\u001b[0;34m\u001b[0m\u001b[0;34m\u001b[0m\u001b[0m\n\u001b[0m\u001b[1;32m     64\u001b[0m \u001b[0;34m\u001b[0m\u001b[0m\n\u001b[1;32m     65\u001b[0m             \u001b[0;31m# extra_args > 0\u001b[0m\u001b[0;34m\u001b[0m\u001b[0;34m\u001b[0m\u001b[0;34m\u001b[0m\u001b[0m\n",
      "\u001b[0;32m~/TFM/kschool_masterDS_TFM/env/lib/python3.9/site-packages/sklearn/model_selection/_search.py\u001b[0m in \u001b[0;36mfit\u001b[0;34m(self, X, y, groups, **fit_params)\u001b[0m\n\u001b[1;32m    839\u001b[0m                 \u001b[0;32mreturn\u001b[0m \u001b[0mresults\u001b[0m\u001b[0;34m\u001b[0m\u001b[0;34m\u001b[0m\u001b[0m\n\u001b[1;32m    840\u001b[0m \u001b[0;34m\u001b[0m\u001b[0m\n\u001b[0;32m--> 841\u001b[0;31m             \u001b[0mself\u001b[0m\u001b[0;34m.\u001b[0m\u001b[0m_run_search\u001b[0m\u001b[0;34m(\u001b[0m\u001b[0mevaluate_candidates\u001b[0m\u001b[0;34m)\u001b[0m\u001b[0;34m\u001b[0m\u001b[0;34m\u001b[0m\u001b[0m\n\u001b[0m\u001b[1;32m    842\u001b[0m \u001b[0;34m\u001b[0m\u001b[0m\n\u001b[1;32m    843\u001b[0m             \u001b[0;31m# multimetric is determined here because in the case of a callable\u001b[0m\u001b[0;34m\u001b[0m\u001b[0;34m\u001b[0m\u001b[0;34m\u001b[0m\u001b[0m\n",
      "\u001b[0;32m~/TFM/kschool_masterDS_TFM/env/lib/python3.9/site-packages/sklearn/model_selection/_search.py\u001b[0m in \u001b[0;36m_run_search\u001b[0;34m(self, evaluate_candidates)\u001b[0m\n\u001b[1;32m   1286\u001b[0m     \u001b[0;32mdef\u001b[0m \u001b[0m_run_search\u001b[0m\u001b[0;34m(\u001b[0m\u001b[0mself\u001b[0m\u001b[0;34m,\u001b[0m \u001b[0mevaluate_candidates\u001b[0m\u001b[0;34m)\u001b[0m\u001b[0;34m:\u001b[0m\u001b[0;34m\u001b[0m\u001b[0;34m\u001b[0m\u001b[0m\n\u001b[1;32m   1287\u001b[0m         \u001b[0;34m\"\"\"Search all candidates in param_grid\"\"\"\u001b[0m\u001b[0;34m\u001b[0m\u001b[0;34m\u001b[0m\u001b[0m\n\u001b[0;32m-> 1288\u001b[0;31m         \u001b[0mevaluate_candidates\u001b[0m\u001b[0;34m(\u001b[0m\u001b[0mParameterGrid\u001b[0m\u001b[0;34m(\u001b[0m\u001b[0mself\u001b[0m\u001b[0;34m.\u001b[0m\u001b[0mparam_grid\u001b[0m\u001b[0;34m)\u001b[0m\u001b[0;34m)\u001b[0m\u001b[0;34m\u001b[0m\u001b[0;34m\u001b[0m\u001b[0m\n\u001b[0m\u001b[1;32m   1289\u001b[0m \u001b[0;34m\u001b[0m\u001b[0m\n\u001b[1;32m   1290\u001b[0m \u001b[0;34m\u001b[0m\u001b[0m\n",
      "\u001b[0;32m~/TFM/kschool_masterDS_TFM/env/lib/python3.9/site-packages/sklearn/model_selection/_search.py\u001b[0m in \u001b[0;36mevaluate_candidates\u001b[0;34m(candidate_params, cv, more_results)\u001b[0m\n\u001b[1;32m    793\u001b[0m                               n_splits, n_candidates, n_candidates * n_splits))\n\u001b[1;32m    794\u001b[0m \u001b[0;34m\u001b[0m\u001b[0m\n\u001b[0;32m--> 795\u001b[0;31m                 out = parallel(delayed(_fit_and_score)(clone(base_estimator),\n\u001b[0m\u001b[1;32m    796\u001b[0m                                                        \u001b[0mX\u001b[0m\u001b[0;34m,\u001b[0m \u001b[0my\u001b[0m\u001b[0;34m,\u001b[0m\u001b[0;34m\u001b[0m\u001b[0;34m\u001b[0m\u001b[0m\n\u001b[1;32m    797\u001b[0m                                                        \u001b[0mtrain\u001b[0m\u001b[0;34m=\u001b[0m\u001b[0mtrain\u001b[0m\u001b[0;34m,\u001b[0m \u001b[0mtest\u001b[0m\u001b[0;34m=\u001b[0m\u001b[0mtest\u001b[0m\u001b[0;34m,\u001b[0m\u001b[0;34m\u001b[0m\u001b[0;34m\u001b[0m\u001b[0m\n",
      "\u001b[0;32m~/TFM/kschool_masterDS_TFM/env/lib/python3.9/site-packages/joblib/parallel.py\u001b[0m in \u001b[0;36m__call__\u001b[0;34m(self, iterable)\u001b[0m\n\u001b[1;32m   1052\u001b[0m \u001b[0;34m\u001b[0m\u001b[0m\n\u001b[1;32m   1053\u001b[0m             \u001b[0;32mwith\u001b[0m \u001b[0mself\u001b[0m\u001b[0;34m.\u001b[0m\u001b[0m_backend\u001b[0m\u001b[0;34m.\u001b[0m\u001b[0mretrieval_context\u001b[0m\u001b[0;34m(\u001b[0m\u001b[0;34m)\u001b[0m\u001b[0;34m:\u001b[0m\u001b[0;34m\u001b[0m\u001b[0;34m\u001b[0m\u001b[0m\n\u001b[0;32m-> 1054\u001b[0;31m                 \u001b[0mself\u001b[0m\u001b[0;34m.\u001b[0m\u001b[0mretrieve\u001b[0m\u001b[0;34m(\u001b[0m\u001b[0;34m)\u001b[0m\u001b[0;34m\u001b[0m\u001b[0;34m\u001b[0m\u001b[0m\n\u001b[0m\u001b[1;32m   1055\u001b[0m             \u001b[0;31m# Make sure that we get a last message telling us we are done\u001b[0m\u001b[0;34m\u001b[0m\u001b[0;34m\u001b[0m\u001b[0;34m\u001b[0m\u001b[0m\n\u001b[1;32m   1056\u001b[0m             \u001b[0melapsed_time\u001b[0m \u001b[0;34m=\u001b[0m \u001b[0mtime\u001b[0m\u001b[0;34m.\u001b[0m\u001b[0mtime\u001b[0m\u001b[0;34m(\u001b[0m\u001b[0;34m)\u001b[0m \u001b[0;34m-\u001b[0m \u001b[0mself\u001b[0m\u001b[0;34m.\u001b[0m\u001b[0m_start_time\u001b[0m\u001b[0;34m\u001b[0m\u001b[0;34m\u001b[0m\u001b[0m\n",
      "\u001b[0;32m~/TFM/kschool_masterDS_TFM/env/lib/python3.9/site-packages/joblib/parallel.py\u001b[0m in \u001b[0;36mretrieve\u001b[0;34m(self)\u001b[0m\n\u001b[1;32m    931\u001b[0m             \u001b[0;32mtry\u001b[0m\u001b[0;34m:\u001b[0m\u001b[0;34m\u001b[0m\u001b[0;34m\u001b[0m\u001b[0m\n\u001b[1;32m    932\u001b[0m                 \u001b[0;32mif\u001b[0m \u001b[0mgetattr\u001b[0m\u001b[0;34m(\u001b[0m\u001b[0mself\u001b[0m\u001b[0;34m.\u001b[0m\u001b[0m_backend\u001b[0m\u001b[0;34m,\u001b[0m \u001b[0;34m'supports_timeout'\u001b[0m\u001b[0;34m,\u001b[0m \u001b[0;32mFalse\u001b[0m\u001b[0;34m)\u001b[0m\u001b[0;34m:\u001b[0m\u001b[0;34m\u001b[0m\u001b[0;34m\u001b[0m\u001b[0m\n\u001b[0;32m--> 933\u001b[0;31m                     \u001b[0mself\u001b[0m\u001b[0;34m.\u001b[0m\u001b[0m_output\u001b[0m\u001b[0;34m.\u001b[0m\u001b[0mextend\u001b[0m\u001b[0;34m(\u001b[0m\u001b[0mjob\u001b[0m\u001b[0;34m.\u001b[0m\u001b[0mget\u001b[0m\u001b[0;34m(\u001b[0m\u001b[0mtimeout\u001b[0m\u001b[0;34m=\u001b[0m\u001b[0mself\u001b[0m\u001b[0;34m.\u001b[0m\u001b[0mtimeout\u001b[0m\u001b[0;34m)\u001b[0m\u001b[0;34m)\u001b[0m\u001b[0;34m\u001b[0m\u001b[0;34m\u001b[0m\u001b[0m\n\u001b[0m\u001b[1;32m    934\u001b[0m                 \u001b[0;32melse\u001b[0m\u001b[0;34m:\u001b[0m\u001b[0;34m\u001b[0m\u001b[0;34m\u001b[0m\u001b[0m\n\u001b[1;32m    935\u001b[0m                     \u001b[0mself\u001b[0m\u001b[0;34m.\u001b[0m\u001b[0m_output\u001b[0m\u001b[0;34m.\u001b[0m\u001b[0mextend\u001b[0m\u001b[0;34m(\u001b[0m\u001b[0mjob\u001b[0m\u001b[0;34m.\u001b[0m\u001b[0mget\u001b[0m\u001b[0;34m(\u001b[0m\u001b[0;34m)\u001b[0m\u001b[0;34m)\u001b[0m\u001b[0;34m\u001b[0m\u001b[0;34m\u001b[0m\u001b[0m\n",
      "\u001b[0;32m~/TFM/kschool_masterDS_TFM/env/lib/python3.9/site-packages/joblib/_parallel_backends.py\u001b[0m in \u001b[0;36mwrap_future_result\u001b[0;34m(future, timeout)\u001b[0m\n\u001b[1;32m    540\u001b[0m         AsyncResults.get from multiprocessing.\"\"\"\n\u001b[1;32m    541\u001b[0m         \u001b[0;32mtry\u001b[0m\u001b[0;34m:\u001b[0m\u001b[0;34m\u001b[0m\u001b[0;34m\u001b[0m\u001b[0m\n\u001b[0;32m--> 542\u001b[0;31m             \u001b[0;32mreturn\u001b[0m \u001b[0mfuture\u001b[0m\u001b[0;34m.\u001b[0m\u001b[0mresult\u001b[0m\u001b[0;34m(\u001b[0m\u001b[0mtimeout\u001b[0m\u001b[0;34m=\u001b[0m\u001b[0mtimeout\u001b[0m\u001b[0;34m)\u001b[0m\u001b[0;34m\u001b[0m\u001b[0;34m\u001b[0m\u001b[0m\n\u001b[0m\u001b[1;32m    543\u001b[0m         \u001b[0;32mexcept\u001b[0m \u001b[0mCfTimeoutError\u001b[0m \u001b[0;32mas\u001b[0m \u001b[0me\u001b[0m\u001b[0;34m:\u001b[0m\u001b[0;34m\u001b[0m\u001b[0;34m\u001b[0m\u001b[0m\n\u001b[1;32m    544\u001b[0m             \u001b[0;32mraise\u001b[0m \u001b[0mTimeoutError\u001b[0m \u001b[0;32mfrom\u001b[0m \u001b[0me\u001b[0m\u001b[0;34m\u001b[0m\u001b[0;34m\u001b[0m\u001b[0m\n",
      "\u001b[0;32m~/TFM/kschool_masterDS_TFM/env/lib/python3.9/concurrent/futures/_base.py\u001b[0m in \u001b[0;36mresult\u001b[0;34m(self, timeout)\u001b[0m\n\u001b[1;32m    438\u001b[0m                 \u001b[0;32mraise\u001b[0m \u001b[0mCancelledError\u001b[0m\u001b[0;34m(\u001b[0m\u001b[0;34m)\u001b[0m\u001b[0;34m\u001b[0m\u001b[0;34m\u001b[0m\u001b[0m\n\u001b[1;32m    439\u001b[0m             \u001b[0;32melif\u001b[0m \u001b[0mself\u001b[0m\u001b[0;34m.\u001b[0m\u001b[0m_state\u001b[0m \u001b[0;34m==\u001b[0m \u001b[0mFINISHED\u001b[0m\u001b[0;34m:\u001b[0m\u001b[0;34m\u001b[0m\u001b[0;34m\u001b[0m\u001b[0m\n\u001b[0;32m--> 440\u001b[0;31m                 \u001b[0;32mreturn\u001b[0m \u001b[0mself\u001b[0m\u001b[0;34m.\u001b[0m\u001b[0m__get_result\u001b[0m\u001b[0;34m(\u001b[0m\u001b[0;34m)\u001b[0m\u001b[0;34m\u001b[0m\u001b[0;34m\u001b[0m\u001b[0m\n\u001b[0m\u001b[1;32m    441\u001b[0m             \u001b[0;32melse\u001b[0m\u001b[0;34m:\u001b[0m\u001b[0;34m\u001b[0m\u001b[0;34m\u001b[0m\u001b[0m\n\u001b[1;32m    442\u001b[0m                 \u001b[0;32mraise\u001b[0m \u001b[0mTimeoutError\u001b[0m\u001b[0;34m(\u001b[0m\u001b[0;34m)\u001b[0m\u001b[0;34m\u001b[0m\u001b[0;34m\u001b[0m\u001b[0m\n",
      "\u001b[0;32m~/TFM/kschool_masterDS_TFM/env/lib/python3.9/concurrent/futures/_base.py\u001b[0m in \u001b[0;36m__get_result\u001b[0;34m(self)\u001b[0m\n\u001b[1;32m    387\u001b[0m     \u001b[0;32mdef\u001b[0m \u001b[0m__get_result\u001b[0m\u001b[0;34m(\u001b[0m\u001b[0mself\u001b[0m\u001b[0;34m)\u001b[0m\u001b[0;34m:\u001b[0m\u001b[0;34m\u001b[0m\u001b[0;34m\u001b[0m\u001b[0m\n\u001b[1;32m    388\u001b[0m         \u001b[0;32mif\u001b[0m \u001b[0mself\u001b[0m\u001b[0;34m.\u001b[0m\u001b[0m_exception\u001b[0m\u001b[0;34m:\u001b[0m\u001b[0;34m\u001b[0m\u001b[0;34m\u001b[0m\u001b[0m\n\u001b[0;32m--> 389\u001b[0;31m             \u001b[0;32mraise\u001b[0m \u001b[0mself\u001b[0m\u001b[0;34m.\u001b[0m\u001b[0m_exception\u001b[0m\u001b[0;34m\u001b[0m\u001b[0;34m\u001b[0m\u001b[0m\n\u001b[0m\u001b[1;32m    390\u001b[0m         \u001b[0;32melse\u001b[0m\u001b[0;34m:\u001b[0m\u001b[0;34m\u001b[0m\u001b[0;34m\u001b[0m\u001b[0m\n\u001b[1;32m    391\u001b[0m             \u001b[0;32mreturn\u001b[0m \u001b[0mself\u001b[0m\u001b[0;34m.\u001b[0m\u001b[0m_result\u001b[0m\u001b[0;34m\u001b[0m\u001b[0;34m\u001b[0m\u001b[0m\n",
      "\u001b[0;31mTerminatedWorkerError\u001b[0m: A worker process managed by the executor was unexpectedly terminated. This could be caused by a segmentation fault while calling the function or by an excessive memory usage causing the Operating System to kill the worker.\n\nThe exit codes of the workers are {SIGKILL(-9)}"
     ]
    }
   ],
   "source": [
    "%%time\n",
    "\n",
    "from imblearn.pipeline import Pipeline\n",
    "\n",
    "over = SMOTE()\n",
    "under = RandomUnderSampler()\n",
    "model = RandomForestClassifier(n_estimators=100, oob_score=True,bootstrap=True,random_state=42)\n",
    "\n",
    "clf= Pipeline([\n",
    "    ('over', over),\n",
    "    ('under', under),\n",
    "    ('model', model)\n",
    "])\n",
    "\n",
    "params = {\n",
    "    'over__sampling_strategy': [0.1, 0.2, 0.3],\n",
    "    'under__sampling_strategy': [0.4, 0.5, 0.6]\n",
    "}\n",
    "\n",
    "cv = RepeatedStratifiedKFold(n_splits=5, random_state=43)\n",
    "\n",
    "gs = GridSearchCV(clf, param_grid=params,cv=cv, scoring=\"recall\",n_jobs=-1)\n",
    "gs.fit(X_train_final,y_train)"
   ]
  },
  {
   "cell_type": "code",
   "execution_count": null,
   "id": "0ddd54d3",
   "metadata": {
    "id": "prospective-cholesterol",
    "outputId": "59526bdd-cd9d-4876-dadc-acf6eb9a448b"
   },
   "outputs": [
    {
     "name": "stderr",
     "output_type": "stream",
     "text": [
      "exception calling callback for <Future at 0x7fbdd51011c0 state=finished raised TerminatedWorkerError>\n",
      "Traceback (most recent call last):\n",
      "  File \"/home/dsc/TFM/kschool_masterDS_TFM/env/lib/python3.9/site-packages/joblib/externals/loky/_base.py\", line 625, in _invoke_callbacks\n",
      "    callback(self)\n",
      "  File \"/home/dsc/TFM/kschool_masterDS_TFM/env/lib/python3.9/site-packages/joblib/parallel.py\", line 359, in __call__\n",
      "    self.parallel.dispatch_next()\n",
      "  File \"/home/dsc/TFM/kschool_masterDS_TFM/env/lib/python3.9/site-packages/joblib/parallel.py\", line 792, in dispatch_next\n",
      "    if not self.dispatch_one_batch(self._original_iterator):\n",
      "  File \"/home/dsc/TFM/kschool_masterDS_TFM/env/lib/python3.9/site-packages/joblib/parallel.py\", line 859, in dispatch_one_batch\n",
      "    self._dispatch(tasks)\n",
      "  File \"/home/dsc/TFM/kschool_masterDS_TFM/env/lib/python3.9/site-packages/joblib/parallel.py\", line 777, in _dispatch\n",
      "    job = self._backend.apply_async(batch, callback=cb)\n",
      "  File \"/home/dsc/TFM/kschool_masterDS_TFM/env/lib/python3.9/site-packages/joblib/_parallel_backends.py\", line 531, in apply_async\n",
      "    future = self._workers.submit(SafeFunction(func))\n",
      "  File \"/home/dsc/TFM/kschool_masterDS_TFM/env/lib/python3.9/site-packages/joblib/externals/loky/reusable_executor.py\", line 177, in submit\n",
      "    return super(_ReusablePoolExecutor, self).submit(\n",
      "  File \"/home/dsc/TFM/kschool_masterDS_TFM/env/lib/python3.9/site-packages/joblib/externals/loky/process_executor.py\", line 1102, in submit\n",
      "    raise self._flags.broken\n",
      "joblib.externals.loky.process_executor.TerminatedWorkerError: A worker process managed by the executor was unexpectedly terminated. This could be caused by a segmentation fault while calling the function or by an excessive memory usage causing the Operating System to kill the worker.\n",
      "\n",
      "The exit codes of the workers are {SIGKILL(-9)}\n",
      "/home/dsc/TFM/kschool_masterDS_TFM/env/lib/python3.9/site-packages/joblib/externals/loky/backend/utils.py:55: UserWarning: Failed to kill subprocesses on this platform. Pleaseinstall psutil: https://github.com/giampaolo/psutil\n",
      "  warnings.warn(\"Failed to kill subprocesses on this platform. Please\"\n",
      "/home/dsc/TFM/kschool_masterDS_TFM/env/lib/python3.9/site-packages/joblib/externals/loky/backend/utils.py:55: UserWarning: Failed to kill subprocesses on this platform. Pleaseinstall psutil: https://github.com/giampaolo/psutil\n",
      "  warnings.warn(\"Failed to kill subprocesses on this platform. Please\"\n"
     ]
    },
    {
     "ename": "TerminatedWorkerError",
     "evalue": "A worker process managed by the executor was unexpectedly terminated. This could be caused by a segmentation fault while calling the function or by an excessive memory usage causing the Operating System to kill the worker.\n\nThe exit codes of the workers are {SIGKILL(-9)}",
     "output_type": "error",
     "traceback": [
      "\u001b[0;31m---------------------------------------------------------------------------\u001b[0m",
      "\u001b[0;31mTerminatedWorkerError\u001b[0m                     Traceback (most recent call last)",
      "\u001b[0;32m<timed exec>\u001b[0m in \u001b[0;36m<module>\u001b[0;34m\u001b[0m\n",
      "\u001b[0;32m~/TFM/kschool_masterDS_TFM/env/lib/python3.9/site-packages/sklearn/utils/validation.py\u001b[0m in \u001b[0;36minner_f\u001b[0;34m(*args, **kwargs)\u001b[0m\n\u001b[1;32m     61\u001b[0m             \u001b[0mextra_args\u001b[0m \u001b[0;34m=\u001b[0m \u001b[0mlen\u001b[0m\u001b[0;34m(\u001b[0m\u001b[0margs\u001b[0m\u001b[0;34m)\u001b[0m \u001b[0;34m-\u001b[0m \u001b[0mlen\u001b[0m\u001b[0;34m(\u001b[0m\u001b[0mall_args\u001b[0m\u001b[0;34m)\u001b[0m\u001b[0;34m\u001b[0m\u001b[0;34m\u001b[0m\u001b[0m\n\u001b[1;32m     62\u001b[0m             \u001b[0;32mif\u001b[0m \u001b[0mextra_args\u001b[0m \u001b[0;34m<=\u001b[0m \u001b[0;36m0\u001b[0m\u001b[0;34m:\u001b[0m\u001b[0;34m\u001b[0m\u001b[0;34m\u001b[0m\u001b[0m\n\u001b[0;32m---> 63\u001b[0;31m                 \u001b[0;32mreturn\u001b[0m \u001b[0mf\u001b[0m\u001b[0;34m(\u001b[0m\u001b[0;34m*\u001b[0m\u001b[0margs\u001b[0m\u001b[0;34m,\u001b[0m \u001b[0;34m**\u001b[0m\u001b[0mkwargs\u001b[0m\u001b[0;34m)\u001b[0m\u001b[0;34m\u001b[0m\u001b[0;34m\u001b[0m\u001b[0m\n\u001b[0m\u001b[1;32m     64\u001b[0m \u001b[0;34m\u001b[0m\u001b[0m\n\u001b[1;32m     65\u001b[0m             \u001b[0;31m# extra_args > 0\u001b[0m\u001b[0;34m\u001b[0m\u001b[0;34m\u001b[0m\u001b[0;34m\u001b[0m\u001b[0m\n",
      "\u001b[0;32m~/TFM/kschool_masterDS_TFM/env/lib/python3.9/site-packages/sklearn/model_selection/_validation.py\u001b[0m in \u001b[0;36mcross_val_score\u001b[0;34m(estimator, X, y, groups, scoring, cv, n_jobs, verbose, fit_params, pre_dispatch, error_score)\u001b[0m\n\u001b[1;32m    438\u001b[0m     \u001b[0mscorer\u001b[0m \u001b[0;34m=\u001b[0m \u001b[0mcheck_scoring\u001b[0m\u001b[0;34m(\u001b[0m\u001b[0mestimator\u001b[0m\u001b[0;34m,\u001b[0m \u001b[0mscoring\u001b[0m\u001b[0;34m=\u001b[0m\u001b[0mscoring\u001b[0m\u001b[0;34m)\u001b[0m\u001b[0;34m\u001b[0m\u001b[0;34m\u001b[0m\u001b[0m\n\u001b[1;32m    439\u001b[0m \u001b[0;34m\u001b[0m\u001b[0m\n\u001b[0;32m--> 440\u001b[0;31m     cv_results = cross_validate(estimator=estimator, X=X, y=y, groups=groups,\n\u001b[0m\u001b[1;32m    441\u001b[0m                                 \u001b[0mscoring\u001b[0m\u001b[0;34m=\u001b[0m\u001b[0;34m{\u001b[0m\u001b[0;34m'score'\u001b[0m\u001b[0;34m:\u001b[0m \u001b[0mscorer\u001b[0m\u001b[0;34m}\u001b[0m\u001b[0;34m,\u001b[0m \u001b[0mcv\u001b[0m\u001b[0;34m=\u001b[0m\u001b[0mcv\u001b[0m\u001b[0;34m,\u001b[0m\u001b[0;34m\u001b[0m\u001b[0;34m\u001b[0m\u001b[0m\n\u001b[1;32m    442\u001b[0m                                 \u001b[0mn_jobs\u001b[0m\u001b[0;34m=\u001b[0m\u001b[0mn_jobs\u001b[0m\u001b[0;34m,\u001b[0m \u001b[0mverbose\u001b[0m\u001b[0;34m=\u001b[0m\u001b[0mverbose\u001b[0m\u001b[0;34m,\u001b[0m\u001b[0;34m\u001b[0m\u001b[0;34m\u001b[0m\u001b[0m\n",
      "\u001b[0;32m~/TFM/kschool_masterDS_TFM/env/lib/python3.9/site-packages/sklearn/utils/validation.py\u001b[0m in \u001b[0;36minner_f\u001b[0;34m(*args, **kwargs)\u001b[0m\n\u001b[1;32m     61\u001b[0m             \u001b[0mextra_args\u001b[0m \u001b[0;34m=\u001b[0m \u001b[0mlen\u001b[0m\u001b[0;34m(\u001b[0m\u001b[0margs\u001b[0m\u001b[0;34m)\u001b[0m \u001b[0;34m-\u001b[0m \u001b[0mlen\u001b[0m\u001b[0;34m(\u001b[0m\u001b[0mall_args\u001b[0m\u001b[0;34m)\u001b[0m\u001b[0;34m\u001b[0m\u001b[0;34m\u001b[0m\u001b[0m\n\u001b[1;32m     62\u001b[0m             \u001b[0;32mif\u001b[0m \u001b[0mextra_args\u001b[0m \u001b[0;34m<=\u001b[0m \u001b[0;36m0\u001b[0m\u001b[0;34m:\u001b[0m\u001b[0;34m\u001b[0m\u001b[0;34m\u001b[0m\u001b[0m\n\u001b[0;32m---> 63\u001b[0;31m                 \u001b[0;32mreturn\u001b[0m \u001b[0mf\u001b[0m\u001b[0;34m(\u001b[0m\u001b[0;34m*\u001b[0m\u001b[0margs\u001b[0m\u001b[0;34m,\u001b[0m \u001b[0;34m**\u001b[0m\u001b[0mkwargs\u001b[0m\u001b[0;34m)\u001b[0m\u001b[0;34m\u001b[0m\u001b[0;34m\u001b[0m\u001b[0m\n\u001b[0m\u001b[1;32m     64\u001b[0m \u001b[0;34m\u001b[0m\u001b[0m\n\u001b[1;32m     65\u001b[0m             \u001b[0;31m# extra_args > 0\u001b[0m\u001b[0;34m\u001b[0m\u001b[0;34m\u001b[0m\u001b[0;34m\u001b[0m\u001b[0m\n",
      "\u001b[0;32m~/TFM/kschool_masterDS_TFM/env/lib/python3.9/site-packages/sklearn/model_selection/_validation.py\u001b[0m in \u001b[0;36mcross_validate\u001b[0;34m(estimator, X, y, groups, scoring, cv, n_jobs, verbose, fit_params, pre_dispatch, return_train_score, return_estimator, error_score)\u001b[0m\n\u001b[1;32m    244\u001b[0m     parallel = Parallel(n_jobs=n_jobs, verbose=verbose,\n\u001b[1;32m    245\u001b[0m                         pre_dispatch=pre_dispatch)\n\u001b[0;32m--> 246\u001b[0;31m     results = parallel(\n\u001b[0m\u001b[1;32m    247\u001b[0m         delayed(_fit_and_score)(\n\u001b[1;32m    248\u001b[0m             \u001b[0mclone\u001b[0m\u001b[0;34m(\u001b[0m\u001b[0mestimator\u001b[0m\u001b[0;34m)\u001b[0m\u001b[0;34m,\u001b[0m \u001b[0mX\u001b[0m\u001b[0;34m,\u001b[0m \u001b[0my\u001b[0m\u001b[0;34m,\u001b[0m \u001b[0mscorers\u001b[0m\u001b[0;34m,\u001b[0m \u001b[0mtrain\u001b[0m\u001b[0;34m,\u001b[0m \u001b[0mtest\u001b[0m\u001b[0;34m,\u001b[0m \u001b[0mverbose\u001b[0m\u001b[0;34m,\u001b[0m \u001b[0;32mNone\u001b[0m\u001b[0;34m,\u001b[0m\u001b[0;34m\u001b[0m\u001b[0;34m\u001b[0m\u001b[0m\n",
      "\u001b[0;32m~/TFM/kschool_masterDS_TFM/env/lib/python3.9/site-packages/joblib/parallel.py\u001b[0m in \u001b[0;36m__call__\u001b[0;34m(self, iterable)\u001b[0m\n\u001b[1;32m   1052\u001b[0m \u001b[0;34m\u001b[0m\u001b[0m\n\u001b[1;32m   1053\u001b[0m             \u001b[0;32mwith\u001b[0m \u001b[0mself\u001b[0m\u001b[0;34m.\u001b[0m\u001b[0m_backend\u001b[0m\u001b[0;34m.\u001b[0m\u001b[0mretrieval_context\u001b[0m\u001b[0;34m(\u001b[0m\u001b[0;34m)\u001b[0m\u001b[0;34m:\u001b[0m\u001b[0;34m\u001b[0m\u001b[0;34m\u001b[0m\u001b[0m\n\u001b[0;32m-> 1054\u001b[0;31m                 \u001b[0mself\u001b[0m\u001b[0;34m.\u001b[0m\u001b[0mretrieve\u001b[0m\u001b[0;34m(\u001b[0m\u001b[0;34m)\u001b[0m\u001b[0;34m\u001b[0m\u001b[0;34m\u001b[0m\u001b[0m\n\u001b[0m\u001b[1;32m   1055\u001b[0m             \u001b[0;31m# Make sure that we get a last message telling us we are done\u001b[0m\u001b[0;34m\u001b[0m\u001b[0;34m\u001b[0m\u001b[0;34m\u001b[0m\u001b[0m\n\u001b[1;32m   1056\u001b[0m             \u001b[0melapsed_time\u001b[0m \u001b[0;34m=\u001b[0m \u001b[0mtime\u001b[0m\u001b[0;34m.\u001b[0m\u001b[0mtime\u001b[0m\u001b[0;34m(\u001b[0m\u001b[0;34m)\u001b[0m \u001b[0;34m-\u001b[0m \u001b[0mself\u001b[0m\u001b[0;34m.\u001b[0m\u001b[0m_start_time\u001b[0m\u001b[0;34m\u001b[0m\u001b[0;34m\u001b[0m\u001b[0m\n",
      "\u001b[0;32m~/TFM/kschool_masterDS_TFM/env/lib/python3.9/site-packages/joblib/parallel.py\u001b[0m in \u001b[0;36mretrieve\u001b[0;34m(self)\u001b[0m\n\u001b[1;32m    931\u001b[0m             \u001b[0;32mtry\u001b[0m\u001b[0;34m:\u001b[0m\u001b[0;34m\u001b[0m\u001b[0;34m\u001b[0m\u001b[0m\n\u001b[1;32m    932\u001b[0m                 \u001b[0;32mif\u001b[0m \u001b[0mgetattr\u001b[0m\u001b[0;34m(\u001b[0m\u001b[0mself\u001b[0m\u001b[0;34m.\u001b[0m\u001b[0m_backend\u001b[0m\u001b[0;34m,\u001b[0m \u001b[0;34m'supports_timeout'\u001b[0m\u001b[0;34m,\u001b[0m \u001b[0;32mFalse\u001b[0m\u001b[0;34m)\u001b[0m\u001b[0;34m:\u001b[0m\u001b[0;34m\u001b[0m\u001b[0;34m\u001b[0m\u001b[0m\n\u001b[0;32m--> 933\u001b[0;31m                     \u001b[0mself\u001b[0m\u001b[0;34m.\u001b[0m\u001b[0m_output\u001b[0m\u001b[0;34m.\u001b[0m\u001b[0mextend\u001b[0m\u001b[0;34m(\u001b[0m\u001b[0mjob\u001b[0m\u001b[0;34m.\u001b[0m\u001b[0mget\u001b[0m\u001b[0;34m(\u001b[0m\u001b[0mtimeout\u001b[0m\u001b[0;34m=\u001b[0m\u001b[0mself\u001b[0m\u001b[0;34m.\u001b[0m\u001b[0mtimeout\u001b[0m\u001b[0;34m)\u001b[0m\u001b[0;34m)\u001b[0m\u001b[0;34m\u001b[0m\u001b[0;34m\u001b[0m\u001b[0m\n\u001b[0m\u001b[1;32m    934\u001b[0m                 \u001b[0;32melse\u001b[0m\u001b[0;34m:\u001b[0m\u001b[0;34m\u001b[0m\u001b[0;34m\u001b[0m\u001b[0m\n\u001b[1;32m    935\u001b[0m                     \u001b[0mself\u001b[0m\u001b[0;34m.\u001b[0m\u001b[0m_output\u001b[0m\u001b[0;34m.\u001b[0m\u001b[0mextend\u001b[0m\u001b[0;34m(\u001b[0m\u001b[0mjob\u001b[0m\u001b[0;34m.\u001b[0m\u001b[0mget\u001b[0m\u001b[0;34m(\u001b[0m\u001b[0;34m)\u001b[0m\u001b[0;34m)\u001b[0m\u001b[0;34m\u001b[0m\u001b[0;34m\u001b[0m\u001b[0m\n",
      "\u001b[0;32m~/TFM/kschool_masterDS_TFM/env/lib/python3.9/site-packages/joblib/_parallel_backends.py\u001b[0m in \u001b[0;36mwrap_future_result\u001b[0;34m(future, timeout)\u001b[0m\n\u001b[1;32m    540\u001b[0m         AsyncResults.get from multiprocessing.\"\"\"\n\u001b[1;32m    541\u001b[0m         \u001b[0;32mtry\u001b[0m\u001b[0;34m:\u001b[0m\u001b[0;34m\u001b[0m\u001b[0;34m\u001b[0m\u001b[0m\n\u001b[0;32m--> 542\u001b[0;31m             \u001b[0;32mreturn\u001b[0m \u001b[0mfuture\u001b[0m\u001b[0;34m.\u001b[0m\u001b[0mresult\u001b[0m\u001b[0;34m(\u001b[0m\u001b[0mtimeout\u001b[0m\u001b[0;34m=\u001b[0m\u001b[0mtimeout\u001b[0m\u001b[0;34m)\u001b[0m\u001b[0;34m\u001b[0m\u001b[0;34m\u001b[0m\u001b[0m\n\u001b[0m\u001b[1;32m    543\u001b[0m         \u001b[0;32mexcept\u001b[0m \u001b[0mCfTimeoutError\u001b[0m \u001b[0;32mas\u001b[0m \u001b[0me\u001b[0m\u001b[0;34m:\u001b[0m\u001b[0;34m\u001b[0m\u001b[0;34m\u001b[0m\u001b[0m\n\u001b[1;32m    544\u001b[0m             \u001b[0;32mraise\u001b[0m \u001b[0mTimeoutError\u001b[0m \u001b[0;32mfrom\u001b[0m \u001b[0me\u001b[0m\u001b[0;34m\u001b[0m\u001b[0;34m\u001b[0m\u001b[0m\n",
      "\u001b[0;32m~/TFM/kschool_masterDS_TFM/env/lib/python3.9/concurrent/futures/_base.py\u001b[0m in \u001b[0;36mresult\u001b[0;34m(self, timeout)\u001b[0m\n\u001b[1;32m    438\u001b[0m                 \u001b[0;32mraise\u001b[0m \u001b[0mCancelledError\u001b[0m\u001b[0;34m(\u001b[0m\u001b[0;34m)\u001b[0m\u001b[0;34m\u001b[0m\u001b[0;34m\u001b[0m\u001b[0m\n\u001b[1;32m    439\u001b[0m             \u001b[0;32melif\u001b[0m \u001b[0mself\u001b[0m\u001b[0;34m.\u001b[0m\u001b[0m_state\u001b[0m \u001b[0;34m==\u001b[0m \u001b[0mFINISHED\u001b[0m\u001b[0;34m:\u001b[0m\u001b[0;34m\u001b[0m\u001b[0;34m\u001b[0m\u001b[0m\n\u001b[0;32m--> 440\u001b[0;31m                 \u001b[0;32mreturn\u001b[0m \u001b[0mself\u001b[0m\u001b[0;34m.\u001b[0m\u001b[0m__get_result\u001b[0m\u001b[0;34m(\u001b[0m\u001b[0;34m)\u001b[0m\u001b[0;34m\u001b[0m\u001b[0;34m\u001b[0m\u001b[0m\n\u001b[0m\u001b[1;32m    441\u001b[0m             \u001b[0;32melse\u001b[0m\u001b[0;34m:\u001b[0m\u001b[0;34m\u001b[0m\u001b[0;34m\u001b[0m\u001b[0m\n\u001b[1;32m    442\u001b[0m                 \u001b[0;32mraise\u001b[0m \u001b[0mTimeoutError\u001b[0m\u001b[0;34m(\u001b[0m\u001b[0;34m)\u001b[0m\u001b[0;34m\u001b[0m\u001b[0;34m\u001b[0m\u001b[0m\n",
      "\u001b[0;32m~/TFM/kschool_masterDS_TFM/env/lib/python3.9/concurrent/futures/_base.py\u001b[0m in \u001b[0;36m__get_result\u001b[0;34m(self)\u001b[0m\n\u001b[1;32m    387\u001b[0m     \u001b[0;32mdef\u001b[0m \u001b[0m__get_result\u001b[0m\u001b[0;34m(\u001b[0m\u001b[0mself\u001b[0m\u001b[0;34m)\u001b[0m\u001b[0;34m:\u001b[0m\u001b[0;34m\u001b[0m\u001b[0;34m\u001b[0m\u001b[0m\n\u001b[1;32m    388\u001b[0m         \u001b[0;32mif\u001b[0m \u001b[0mself\u001b[0m\u001b[0;34m.\u001b[0m\u001b[0m_exception\u001b[0m\u001b[0;34m:\u001b[0m\u001b[0;34m\u001b[0m\u001b[0;34m\u001b[0m\u001b[0m\n\u001b[0;32m--> 389\u001b[0;31m             \u001b[0;32mraise\u001b[0m \u001b[0mself\u001b[0m\u001b[0;34m.\u001b[0m\u001b[0m_exception\u001b[0m\u001b[0;34m\u001b[0m\u001b[0;34m\u001b[0m\u001b[0m\n\u001b[0m\u001b[1;32m    390\u001b[0m         \u001b[0;32melse\u001b[0m\u001b[0;34m:\u001b[0m\u001b[0;34m\u001b[0m\u001b[0;34m\u001b[0m\u001b[0m\n\u001b[1;32m    391\u001b[0m             \u001b[0;32mreturn\u001b[0m \u001b[0mself\u001b[0m\u001b[0;34m.\u001b[0m\u001b[0m_result\u001b[0m\u001b[0;34m\u001b[0m\u001b[0;34m\u001b[0m\u001b[0m\n",
      "\u001b[0;32m~/TFM/kschool_masterDS_TFM/env/lib/python3.9/site-packages/joblib/externals/loky/_base.py\u001b[0m in \u001b[0;36m_invoke_callbacks\u001b[0;34m(self)\u001b[0m\n\u001b[1;32m    623\u001b[0m         \u001b[0;32mfor\u001b[0m \u001b[0mcallback\u001b[0m \u001b[0;32min\u001b[0m \u001b[0mself\u001b[0m\u001b[0;34m.\u001b[0m\u001b[0m_done_callbacks\u001b[0m\u001b[0;34m:\u001b[0m\u001b[0;34m\u001b[0m\u001b[0;34m\u001b[0m\u001b[0m\n\u001b[1;32m    624\u001b[0m             \u001b[0;32mtry\u001b[0m\u001b[0;34m:\u001b[0m\u001b[0;34m\u001b[0m\u001b[0;34m\u001b[0m\u001b[0m\n\u001b[0;32m--> 625\u001b[0;31m                 \u001b[0mcallback\u001b[0m\u001b[0;34m(\u001b[0m\u001b[0mself\u001b[0m\u001b[0;34m)\u001b[0m\u001b[0;34m\u001b[0m\u001b[0;34m\u001b[0m\u001b[0m\n\u001b[0m\u001b[1;32m    626\u001b[0m             \u001b[0;32mexcept\u001b[0m \u001b[0mBaseException\u001b[0m\u001b[0;34m:\u001b[0m\u001b[0;34m\u001b[0m\u001b[0;34m\u001b[0m\u001b[0m\n\u001b[1;32m    627\u001b[0m                 \u001b[0mLOGGER\u001b[0m\u001b[0;34m.\u001b[0m\u001b[0mexception\u001b[0m\u001b[0;34m(\u001b[0m\u001b[0;34m'exception calling callback for %r'\u001b[0m\u001b[0;34m,\u001b[0m \u001b[0mself\u001b[0m\u001b[0;34m)\u001b[0m\u001b[0;34m\u001b[0m\u001b[0;34m\u001b[0m\u001b[0m\n",
      "\u001b[0;32m~/TFM/kschool_masterDS_TFM/env/lib/python3.9/site-packages/joblib/parallel.py\u001b[0m in \u001b[0;36m__call__\u001b[0;34m(self, out)\u001b[0m\n\u001b[1;32m    357\u001b[0m         \u001b[0;32mwith\u001b[0m \u001b[0mself\u001b[0m\u001b[0;34m.\u001b[0m\u001b[0mparallel\u001b[0m\u001b[0;34m.\u001b[0m\u001b[0m_lock\u001b[0m\u001b[0;34m:\u001b[0m\u001b[0;34m\u001b[0m\u001b[0;34m\u001b[0m\u001b[0m\n\u001b[1;32m    358\u001b[0m             \u001b[0;32mif\u001b[0m \u001b[0mself\u001b[0m\u001b[0;34m.\u001b[0m\u001b[0mparallel\u001b[0m\u001b[0;34m.\u001b[0m\u001b[0m_original_iterator\u001b[0m \u001b[0;32mis\u001b[0m \u001b[0;32mnot\u001b[0m \u001b[0;32mNone\u001b[0m\u001b[0;34m:\u001b[0m\u001b[0;34m\u001b[0m\u001b[0;34m\u001b[0m\u001b[0m\n\u001b[0;32m--> 359\u001b[0;31m                 \u001b[0mself\u001b[0m\u001b[0;34m.\u001b[0m\u001b[0mparallel\u001b[0m\u001b[0;34m.\u001b[0m\u001b[0mdispatch_next\u001b[0m\u001b[0;34m(\u001b[0m\u001b[0;34m)\u001b[0m\u001b[0;34m\u001b[0m\u001b[0;34m\u001b[0m\u001b[0m\n\u001b[0m\u001b[1;32m    360\u001b[0m \u001b[0;34m\u001b[0m\u001b[0m\n\u001b[1;32m    361\u001b[0m \u001b[0;34m\u001b[0m\u001b[0m\n",
      "\u001b[0;32m~/TFM/kschool_masterDS_TFM/env/lib/python3.9/site-packages/joblib/parallel.py\u001b[0m in \u001b[0;36mdispatch_next\u001b[0;34m(self)\u001b[0m\n\u001b[1;32m    790\u001b[0m \u001b[0;34m\u001b[0m\u001b[0m\n\u001b[1;32m    791\u001b[0m         \"\"\"\n\u001b[0;32m--> 792\u001b[0;31m         \u001b[0;32mif\u001b[0m \u001b[0;32mnot\u001b[0m \u001b[0mself\u001b[0m\u001b[0;34m.\u001b[0m\u001b[0mdispatch_one_batch\u001b[0m\u001b[0;34m(\u001b[0m\u001b[0mself\u001b[0m\u001b[0;34m.\u001b[0m\u001b[0m_original_iterator\u001b[0m\u001b[0;34m)\u001b[0m\u001b[0;34m:\u001b[0m\u001b[0;34m\u001b[0m\u001b[0;34m\u001b[0m\u001b[0m\n\u001b[0m\u001b[1;32m    793\u001b[0m             \u001b[0mself\u001b[0m\u001b[0;34m.\u001b[0m\u001b[0m_iterating\u001b[0m \u001b[0;34m=\u001b[0m \u001b[0;32mFalse\u001b[0m\u001b[0;34m\u001b[0m\u001b[0;34m\u001b[0m\u001b[0m\n\u001b[1;32m    794\u001b[0m             \u001b[0mself\u001b[0m\u001b[0;34m.\u001b[0m\u001b[0m_original_iterator\u001b[0m \u001b[0;34m=\u001b[0m \u001b[0;32mNone\u001b[0m\u001b[0;34m\u001b[0m\u001b[0;34m\u001b[0m\u001b[0m\n",
      "\u001b[0;32m~/TFM/kschool_masterDS_TFM/env/lib/python3.9/site-packages/joblib/parallel.py\u001b[0m in \u001b[0;36mdispatch_one_batch\u001b[0;34m(self, iterator)\u001b[0m\n\u001b[1;32m    857\u001b[0m                 \u001b[0;32mreturn\u001b[0m \u001b[0;32mFalse\u001b[0m\u001b[0;34m\u001b[0m\u001b[0;34m\u001b[0m\u001b[0m\n\u001b[1;32m    858\u001b[0m             \u001b[0;32melse\u001b[0m\u001b[0;34m:\u001b[0m\u001b[0;34m\u001b[0m\u001b[0;34m\u001b[0m\u001b[0m\n\u001b[0;32m--> 859\u001b[0;31m                 \u001b[0mself\u001b[0m\u001b[0;34m.\u001b[0m\u001b[0m_dispatch\u001b[0m\u001b[0;34m(\u001b[0m\u001b[0mtasks\u001b[0m\u001b[0;34m)\u001b[0m\u001b[0;34m\u001b[0m\u001b[0;34m\u001b[0m\u001b[0m\n\u001b[0m\u001b[1;32m    860\u001b[0m                 \u001b[0;32mreturn\u001b[0m \u001b[0;32mTrue\u001b[0m\u001b[0;34m\u001b[0m\u001b[0;34m\u001b[0m\u001b[0m\n\u001b[1;32m    861\u001b[0m \u001b[0;34m\u001b[0m\u001b[0m\n",
      "\u001b[0;32m~/TFM/kschool_masterDS_TFM/env/lib/python3.9/site-packages/joblib/parallel.py\u001b[0m in \u001b[0;36m_dispatch\u001b[0;34m(self, batch)\u001b[0m\n\u001b[1;32m    775\u001b[0m         \u001b[0;32mwith\u001b[0m \u001b[0mself\u001b[0m\u001b[0;34m.\u001b[0m\u001b[0m_lock\u001b[0m\u001b[0;34m:\u001b[0m\u001b[0;34m\u001b[0m\u001b[0;34m\u001b[0m\u001b[0m\n\u001b[1;32m    776\u001b[0m             \u001b[0mjob_idx\u001b[0m \u001b[0;34m=\u001b[0m \u001b[0mlen\u001b[0m\u001b[0;34m(\u001b[0m\u001b[0mself\u001b[0m\u001b[0;34m.\u001b[0m\u001b[0m_jobs\u001b[0m\u001b[0;34m)\u001b[0m\u001b[0;34m\u001b[0m\u001b[0;34m\u001b[0m\u001b[0m\n\u001b[0;32m--> 777\u001b[0;31m             \u001b[0mjob\u001b[0m \u001b[0;34m=\u001b[0m \u001b[0mself\u001b[0m\u001b[0;34m.\u001b[0m\u001b[0m_backend\u001b[0m\u001b[0;34m.\u001b[0m\u001b[0mapply_async\u001b[0m\u001b[0;34m(\u001b[0m\u001b[0mbatch\u001b[0m\u001b[0;34m,\u001b[0m \u001b[0mcallback\u001b[0m\u001b[0;34m=\u001b[0m\u001b[0mcb\u001b[0m\u001b[0;34m)\u001b[0m\u001b[0;34m\u001b[0m\u001b[0;34m\u001b[0m\u001b[0m\n\u001b[0m\u001b[1;32m    778\u001b[0m             \u001b[0;31m# A job can complete so quickly than its callback is\u001b[0m\u001b[0;34m\u001b[0m\u001b[0;34m\u001b[0m\u001b[0;34m\u001b[0m\u001b[0m\n\u001b[1;32m    779\u001b[0m             \u001b[0;31m# called before we get here, causing self._jobs to\u001b[0m\u001b[0;34m\u001b[0m\u001b[0;34m\u001b[0m\u001b[0;34m\u001b[0m\u001b[0m\n",
      "\u001b[0;32m~/TFM/kschool_masterDS_TFM/env/lib/python3.9/site-packages/joblib/_parallel_backends.py\u001b[0m in \u001b[0;36mapply_async\u001b[0;34m(self, func, callback)\u001b[0m\n\u001b[1;32m    529\u001b[0m     \u001b[0;32mdef\u001b[0m \u001b[0mapply_async\u001b[0m\u001b[0;34m(\u001b[0m\u001b[0mself\u001b[0m\u001b[0;34m,\u001b[0m \u001b[0mfunc\u001b[0m\u001b[0;34m,\u001b[0m \u001b[0mcallback\u001b[0m\u001b[0;34m=\u001b[0m\u001b[0;32mNone\u001b[0m\u001b[0;34m)\u001b[0m\u001b[0;34m:\u001b[0m\u001b[0;34m\u001b[0m\u001b[0;34m\u001b[0m\u001b[0m\n\u001b[1;32m    530\u001b[0m         \u001b[0;34m\"\"\"Schedule a func to be run\"\"\"\u001b[0m\u001b[0;34m\u001b[0m\u001b[0;34m\u001b[0m\u001b[0m\n\u001b[0;32m--> 531\u001b[0;31m         \u001b[0mfuture\u001b[0m \u001b[0;34m=\u001b[0m \u001b[0mself\u001b[0m\u001b[0;34m.\u001b[0m\u001b[0m_workers\u001b[0m\u001b[0;34m.\u001b[0m\u001b[0msubmit\u001b[0m\u001b[0;34m(\u001b[0m\u001b[0mSafeFunction\u001b[0m\u001b[0;34m(\u001b[0m\u001b[0mfunc\u001b[0m\u001b[0;34m)\u001b[0m\u001b[0;34m)\u001b[0m\u001b[0;34m\u001b[0m\u001b[0;34m\u001b[0m\u001b[0m\n\u001b[0m\u001b[1;32m    532\u001b[0m         \u001b[0mfuture\u001b[0m\u001b[0;34m.\u001b[0m\u001b[0mget\u001b[0m \u001b[0;34m=\u001b[0m \u001b[0mfunctools\u001b[0m\u001b[0;34m.\u001b[0m\u001b[0mpartial\u001b[0m\u001b[0;34m(\u001b[0m\u001b[0mself\u001b[0m\u001b[0;34m.\u001b[0m\u001b[0mwrap_future_result\u001b[0m\u001b[0;34m,\u001b[0m \u001b[0mfuture\u001b[0m\u001b[0;34m)\u001b[0m\u001b[0;34m\u001b[0m\u001b[0;34m\u001b[0m\u001b[0m\n\u001b[1;32m    533\u001b[0m         \u001b[0;32mif\u001b[0m \u001b[0mcallback\u001b[0m \u001b[0;32mis\u001b[0m \u001b[0;32mnot\u001b[0m \u001b[0;32mNone\u001b[0m\u001b[0;34m:\u001b[0m\u001b[0;34m\u001b[0m\u001b[0;34m\u001b[0m\u001b[0m\n",
      "\u001b[0;32m~/TFM/kschool_masterDS_TFM/env/lib/python3.9/site-packages/joblib/externals/loky/reusable_executor.py\u001b[0m in \u001b[0;36msubmit\u001b[0;34m(self, fn, *args, **kwargs)\u001b[0m\n\u001b[1;32m    175\u001b[0m     \u001b[0;32mdef\u001b[0m \u001b[0msubmit\u001b[0m\u001b[0;34m(\u001b[0m\u001b[0mself\u001b[0m\u001b[0;34m,\u001b[0m \u001b[0mfn\u001b[0m\u001b[0;34m,\u001b[0m \u001b[0;34m*\u001b[0m\u001b[0margs\u001b[0m\u001b[0;34m,\u001b[0m \u001b[0;34m**\u001b[0m\u001b[0mkwargs\u001b[0m\u001b[0;34m)\u001b[0m\u001b[0;34m:\u001b[0m\u001b[0;34m\u001b[0m\u001b[0;34m\u001b[0m\u001b[0m\n\u001b[1;32m    176\u001b[0m         \u001b[0;32mwith\u001b[0m \u001b[0mself\u001b[0m\u001b[0;34m.\u001b[0m\u001b[0m_submit_resize_lock\u001b[0m\u001b[0;34m:\u001b[0m\u001b[0;34m\u001b[0m\u001b[0;34m\u001b[0m\u001b[0m\n\u001b[0;32m--> 177\u001b[0;31m             return super(_ReusablePoolExecutor, self).submit(\n\u001b[0m\u001b[1;32m    178\u001b[0m                 fn, *args, **kwargs)\n\u001b[1;32m    179\u001b[0m \u001b[0;34m\u001b[0m\u001b[0m\n",
      "\u001b[0;32m~/TFM/kschool_masterDS_TFM/env/lib/python3.9/site-packages/joblib/externals/loky/process_executor.py\u001b[0m in \u001b[0;36msubmit\u001b[0;34m(self, fn, *args, **kwargs)\u001b[0m\n\u001b[1;32m   1100\u001b[0m         \u001b[0;32mwith\u001b[0m \u001b[0mself\u001b[0m\u001b[0;34m.\u001b[0m\u001b[0m_flags\u001b[0m\u001b[0;34m.\u001b[0m\u001b[0mshutdown_lock\u001b[0m\u001b[0;34m:\u001b[0m\u001b[0;34m\u001b[0m\u001b[0;34m\u001b[0m\u001b[0m\n\u001b[1;32m   1101\u001b[0m             \u001b[0;32mif\u001b[0m \u001b[0mself\u001b[0m\u001b[0;34m.\u001b[0m\u001b[0m_flags\u001b[0m\u001b[0;34m.\u001b[0m\u001b[0mbroken\u001b[0m \u001b[0;32mis\u001b[0m \u001b[0;32mnot\u001b[0m \u001b[0;32mNone\u001b[0m\u001b[0;34m:\u001b[0m\u001b[0;34m\u001b[0m\u001b[0;34m\u001b[0m\u001b[0m\n\u001b[0;32m-> 1102\u001b[0;31m                 \u001b[0;32mraise\u001b[0m \u001b[0mself\u001b[0m\u001b[0;34m.\u001b[0m\u001b[0m_flags\u001b[0m\u001b[0;34m.\u001b[0m\u001b[0mbroken\u001b[0m\u001b[0;34m\u001b[0m\u001b[0;34m\u001b[0m\u001b[0m\n\u001b[0m\u001b[1;32m   1103\u001b[0m             \u001b[0;32mif\u001b[0m \u001b[0mself\u001b[0m\u001b[0;34m.\u001b[0m\u001b[0m_flags\u001b[0m\u001b[0;34m.\u001b[0m\u001b[0mshutdown\u001b[0m\u001b[0;34m:\u001b[0m\u001b[0;34m\u001b[0m\u001b[0;34m\u001b[0m\u001b[0m\n\u001b[1;32m   1104\u001b[0m                 raise ShutdownExecutorError(\n",
      "\u001b[0;31mTerminatedWorkerError\u001b[0m: A worker process managed by the executor was unexpectedly terminated. This could be caused by a segmentation fault while calling the function or by an excessive memory usage causing the Operating System to kill the worker.\n\nThe exit codes of the workers are {SIGKILL(-9)}"
     ]
    }
   ],
   "source": [
    "%%time\n",
    "\n",
    "from imblearn.pipeline import Pipeline\n",
    "\n",
    "o_ratios = [0.1, 0.2, 0.3]\n",
    "u_ratios = [0.4, 0.5, 0.6]\n",
    "\n",
    "for o_ratio in o_ratios:\n",
    "    for u_ratio in u_ratios:\n",
    "        over = SMOTE(sampling_strategy=o_ratio)\n",
    "        under = RandomUnderSampler(sampling_strategy=u_ratio)\n",
    "        model = RandomForestClassifier(n_estimators=100, oob_score=True,bootstrap=True,random_state=42)\n",
    "        steps = [('over', over), ('under', under), ('model', model)]\n",
    "        clf = Pipeline(steps=steps)\n",
    "        cv = RepeatedStratifiedKFold(n_splits=5, random_state=43)\n",
    "        scores = cross_val_score(clf, X_train_final, y_train, scoring=\"recall\", cv=cv, n_jobs=-1)\n",
    "        score = mean(scores)\n",
    "        print(\"o_ratio=%f and u_ratio=%f > RECALL=%.5f\" %(o_ratio, u_ratio, score))"
   ]
  },
  {
   "cell_type": "code",
   "execution_count": null,
   "id": "317cdaf1",
   "metadata": {
    "id": "macro-reggae",
    "outputId": "e175f09e-389c-4a2a-d5cd-99423861fae1"
   },
   "outputs": [
    {
     "name": "stdout",
     "output_type": "stream",
     "text": [
      "o_ratio=0.2 > RECALL=0.33613 > PRECISION=0.32935 > F1SCORE=0.33270\n",
      "o_ratio=0.3 > RECALL=0.28693 > PRECISION=0.37533 > F1SCORE=0.32523\n",
      "o_ratio=0.4 > RECALL=0.26175 > PRECISION=0.40757 > F1SCORE=0.31878\n",
      "CPU times: user 1h 45min 56s, sys: 1min 45s, total: 1h 47min 42s\n",
      "Wall time: 1h 46min 11s\n"
     ]
    }
   ],
   "source": [
    "%%time\n",
    "\n",
    "from imblearn.pipeline import Pipeline\n",
    "\n",
    "o_ratios = [0.2, 0.3, 0.4]\n",
    "\n",
    "for o_ratio in o_ratios:\n",
    "        over = SMOTE(sampling_strategy=o_ratio)\n",
    "        under = RandomUnderSampler(sampling_strategy=0.5)\n",
    "        model = RandomForestClassifier(n_estimators=100, oob_score=True,bootstrap=True,random_state=42)\n",
    "        steps = [('over', over), ('under', under), ('model', model)]\n",
    "        clf = Pipeline(steps=steps)\n",
    "        clf.fit(X_train_final,y_train)\n",
    "        predictions = clf.predict(X_test_final)\n",
    "        recall = recall_score(y_test, predictions)\n",
    "        precision = precision_score(y_test, predictions)\n",
    "        f1score = f1_score(y_test, predictions)\n",
    "        print(\"o_ratio=%.1f > RECALL=%.5f > PRECISION=%.5f > F1SCORE=%.5f\" %(o_ratio,recall,precision,f1score))\n",
    "        "
   ]
  },
  {
   "cell_type": "code",
   "execution_count": null,
   "id": "3ee88d03",
   "metadata": {
    "id": "iraqi-rotation",
    "outputId": "5e8945f5-7278-4503-d4ba-00bb0b8cca0e"
   },
   "outputs": [
    {
     "name": "stdout",
     "output_type": "stream",
     "text": [
      "Counter({0: 2690072, 1: 538014})\n",
      "CPU times: user 1min 3s, sys: 52.7 s, total: 1min 56s\n",
      "Wall time: 1min 22s\n"
     ]
    }
   ],
   "source": [
    "%%time\n",
    "\n",
    "oversample = SMOTE(sampling_strategy=0.2)\n",
    "X_train_featsel_over, y_train_over = oversample.fit_resample(X_train_final,y_train)\n",
    "counter=Counter(y_train_over)\n",
    "print(counter)"
   ]
  },
  {
   "cell_type": "code",
   "execution_count": null,
   "id": "22cf789d",
   "metadata": {
    "id": "juvenile-express",
    "outputId": "4ebbc783-dea6-4cfc-899d-18f3cb0ed33e"
   },
   "outputs": [
    {
     "name": "stdout",
     "output_type": "stream",
     "text": [
      "Counter({0: 1076028, 1: 538014})\n"
     ]
    }
   ],
   "source": [
    "undersample = RandomUnderSampler(sampling_strategy=0.5)\n",
    "X_train_featsel_over_under, y_train_over_under = undersample.fit_resample(X_train_featsel_over, y_train_over)\n",
    "counter=Counter(y_train_over_under)\n",
    "print(counter)"
   ]
  },
  {
   "cell_type": "code",
   "execution_count": null,
   "id": "07eeb0b4",
   "metadata": {
    "id": "impossible-distribution",
    "outputId": "c40fef31-1bbe-421c-d03c-26428d8f5081"
   },
   "outputs": [
    {
     "name": "stdout",
     "output_type": "stream",
     "text": [
      "TRAINING SCORE: 0.9978947264073673\n",
      "ACCURACY: 0.9844290542998697\n",
      "PRECISION: 0.3296487119437939\n",
      "RECALL: 0.33555831028892913\n",
      "F1 SCORE: 0.3325772611284378\n",
      "AUC: 0.9267824102790975\n",
      "CPU times: user 46min 39s, sys: 8.34 s, total: 46min 47s\n",
      "Wall time: 12min 26s\n"
     ]
    },
    {
     "data": {
      "image/png": "[encoded data removed]",
      "text/plain": [
       "<Figure size 432x288 with 1 Axes>"
      ]
     },
     "metadata": {
      "needs_background": "light",
      "tags": []
     },
     "output_type": "display_data"
    }
   ],
   "source": [
    "%%time\n",
    "\n",
    "clf = RandomForestClassifier(n_estimators=100,n_jobs=-1, oob_score=True,bootstrap=True,random_state=42)\n",
    "evaluate(clf,X_train_featsel_over_under, X_test_final, y_train_over_under, y_test)"
   ]
  },
  {
   "cell_type": "code",
   "execution_count": null,
   "id": "5fa9d352",
   "metadata": {
    "id": "tender-trash",
    "outputId": "29db9926-0535-4f5a-a356-a9fae2562720"
   },
   "outputs": [
    {
     "name": "stdout",
     "output_type": "stream",
     "text": [
      "              precision    recall  f1-score   support\n",
      "\n",
      "           0       0.99      0.99      0.99    896587\n",
      "           1       0.33      0.34      0.33     10487\n",
      "\n",
      "    accuracy                           0.98    907074\n",
      "   macro avg       0.66      0.66      0.66    907074\n",
      "weighted avg       0.98      0.98      0.98    907074\n",
      "\n"
     ]
    },
    {
     "data": {
      "text/plain": [
       "array([[889431,   7156],\n",
       "       [  6968,   3519]])"
      ]
     },
     "execution_count": 17,
     "metadata": {
      "tags": []
     },
     "output_type": "execute_result"
    }
   ],
   "source": [
    "print(classification_report(y_test,clf.predict(X_test_final)))\n",
    "clrf_cm = confusion_matrix(y_test,clf.predict(X_test_final))\n",
    "clrf_cm"
   ]
  },
  {
   "cell_type": "markdown",
   "id": "b495940c",
   "metadata": {
    "id": "direct-ethnic"
   },
   "source": [
    "#### SMOTE Oversampling and Undersampling - K optimization"
   ]
  },
  {
   "cell_type": "code",
   "execution_count": null,
   "id": "a7223a86",
   "metadata": {
    "id": "overall-testimony",
    "outputId": "b365f953-93c5-4c70-8a44-3da2f4b66ed9"
   },
   "outputs": [
    {
     "name": "stdout",
     "output_type": "stream",
     "text": [
      "K=1 > RECALL=0.42891 > PRECISION=0.24988 > F1SCORE=0.31578\n",
      "K=2 > RECALL=0.43692 > PRECISION=0.24615 > F1SCORE=0.31489\n",
      "K=3 > RECALL=0.43778 > PRECISION=0.24826 > F1SCORE=0.31684\n",
      "K=4 > RECALL=0.44102 > PRECISION=0.24684 > F1SCORE=0.31652\n",
      "K=5 > RECALL=0.43854 > PRECISION=0.24934 > F1SCORE=0.31792\n",
      "K=6 > RECALL=0.43645 > PRECISION=0.24726 > F1SCORE=0.31568\n",
      "K=7 > RECALL=0.43768 > PRECISION=0.25082 > F1SCORE=0.31889\n",
      "CPU times: user 1h 5min 6s, sys: 2min 24s, total: 1h 7min 30s\n",
      "Wall time: 1h 4min 44s\n"
     ]
    }
   ],
   "source": [
    "%%time\n",
    "\n",
    "from imblearn.pipeline import Pipeline\n",
    "\n",
    "k_values = [1,2,3,4,5,6,7]\n",
    "\n",
    "for k in k_values:\n",
    "    over = SMOTE(sampling_strategy=0.1, k_neighbors=k)\n",
    "    under = RandomUnderSampler(sampling_strategy=0.5)\n",
    "    model = RandomForestClassifier(n_estimators=100, oob_score=True,bootstrap=True,random_state=42)\n",
    "    steps = [('over', over), ('under', under), ('model', model)]\n",
    "    clf = Pipeline(steps=steps)\n",
    "    clf.fit(X_train_final,y_train)\n",
    "    predictions = clf.predict(X_test_final)\n",
    "    recall = recall_score(y_test, predictions)\n",
    "    precision = precision_score(y_test, predictions)\n",
    "    f1score = f1_score(y_test, predictions)\n",
    "    print(\"K=%d > RECALL=%.5f > PRECISION=%.5f > F1SCORE=%.5f\" %(k,recall,precision,f1score))"
   ]
  },
  {
   "cell_type": "code",
   "execution_count": null,
   "id": "b8eb49a4",
   "metadata": {
    "id": "average-balloon",
    "outputId": "c827ea10-9065-43ac-975a-a29a1c714c1e"
   },
   "outputs": [
    {
     "name": "stdout",
     "output_type": "stream",
     "text": [
      "K=8 > RECALL=0.43282 > PRECISION=0.25218 > F1SCORE=0.31868\n",
      "K=9 > RECALL=0.43521 > PRECISION=0.25158 > F1SCORE=0.31885\n",
      "K=10 > RECALL=0.43196 > PRECISION=0.25202 > F1SCORE=0.31832\n",
      "CPU times: user 28min 10s, sys: 26.4 s, total: 28min 37s\n",
      "Wall time: 27min 46s\n"
     ]
    }
   ],
   "source": [
    "%%time\n",
    "\n",
    "from imblearn.pipeline import Pipeline\n",
    "\n",
    "k_values = [8,9,10]\n",
    "\n",
    "for k in k_values:\n",
    "    over = SMOTE(sampling_strategy=0.1, k_neighbors=k)\n",
    "    under = RandomUnderSampler(sampling_strategy=0.5)\n",
    "    model = RandomForestClassifier(n_estimators=100, oob_score=True,bootstrap=True,random_state=42)\n",
    "    steps = [('over', over), ('under', under), ('model', model)]\n",
    "    clf = Pipeline(steps=steps)\n",
    "    clf.fit(X_train_final,y_train)\n",
    "    predictions = clf.predict(X_test_final)\n",
    "    recall = recall_score(y_test, predictions)\n",
    "    precision = precision_score(y_test, predictions)\n",
    "    f1score = f1_score(y_test, predictions)\n",
    "    print(\"K=%d > RECALL=%.5f > PRECISION=%.5f > F1SCORE=%.5f\" %(k,recall,precision,f1score))"
   ]
  },
  {
   "cell_type": "markdown",
   "id": "39ef58dd",
   "metadata": {
    "id": "foreign-stranger"
   },
   "source": [
    "### Classifier"
   ]
  },
  {
   "cell_type": "code",
   "execution_count": null,
   "id": "c49e7066",
   "metadata": {
    "id": "polish-nerve",
    "outputId": "6ade4430-c337-4a7d-b1f2-497e4b4c5395"
   },
   "outputs": [
    {
     "name": "stdout",
     "output_type": "stream",
     "text": [
      "TRAINING SCORE: 0.987114230791421\n",
      "ACCURACY: 0.9780304583749506\n",
      "PRECISION: 0.24595016414617082\n",
      "RECALL: 0.43577762944598075\n",
      "F1 SCORE: 0.3144351176551535\n",
      "AUC: 0.9316110517577915\n",
      "CPU times: user 25min 2s, sys: 15.9 s, total: 25min 17s\n",
      "Wall time: 7min 4s\n"
     ]
    },
    {
     "data": {
      "image/png": "[encoded data removed]",
      "text/plain": [
       "<Figure size 432x288 with 1 Axes>"
      ]
     },
     "metadata": {
      "needs_background": "light",
      "tags": []
     },
     "output_type": "display_data"
    }
   ],
   "source": [
    "%%time\n",
    "\n",
    "from imblearn.pipeline import Pipeline\n",
    "\n",
    "over = SMOTE(sampling_strategy=0.1, k_neighbors=4)\n",
    "under = RandomUnderSampler(sampling_strategy=0.5)\n",
    "model = RandomForestClassifier(n_estimators=100,n_jobs=-1, oob_score=True,bootstrap=True,random_state=42)\n",
    "steps = [('over', over), ('under', under), ('model', model)]\n",
    "clf = Pipeline(steps=steps)\n",
    "evaluate(clf,X_train_final, X_test_final, y_train, y_test)"
   ]
  },
  {
   "cell_type": "code",
   "execution_count": null,
   "id": "fb4c443a",
   "metadata": {
    "id": "starting-rolling",
    "outputId": "d4d2a416-f3da-4a67-d0b0-e3b6a9d5b40d"
   },
   "outputs": [
    {
     "name": "stdout",
     "output_type": "stream",
     "text": [
      "              precision    recall  f1-score   support\n",
      "\n",
      "           0       0.99      0.98      0.99    896587\n",
      "           1       0.25      0.44      0.31     10487\n",
      "\n",
      "    accuracy                           0.98    907074\n",
      "   macro avg       0.62      0.71      0.65    907074\n",
      "weighted avg       0.98      0.98      0.98    907074\n",
      "\n"
     ]
    },
    {
     "data": {
      "text/plain": [
       "array([[882576,  14011],\n",
       "       [  5917,   4570]])"
      ]
     },
     "execution_count": 16,
     "metadata": {
      "tags": []
     },
     "output_type": "execute_result"
    }
   ],
   "source": [
    "print(classification_report(y_test,clf.predict(X_test_final)))\n",
    "clrf_cm = confusion_matrix(y_test,clf.predict(X_test_final))\n",
    "clrf_cm"
   ]
  },
  {
   "cell_type": "code",
   "execution_count": null,
   "id": "f0114bbf",
   "metadata": {
    "id": "secret-weapon"
   },
   "outputs": [],
   "source": [
    "pickle.dump(clf,open(\"CLF_with_feat_selection_imb.pickle\",\"wb\"))"
   ]
  },
  {
   "cell_type": "code",
   "execution_count": null,
   "id": "97222a1a",
   "metadata": {
    "id": "noted-scenario"
   },
   "outputs": [],
   "source": []
  },
  {
   "cell_type": "code",
   "execution_count": null,
   "id": "53f0a3e6",
   "metadata": {
    "id": "regular-column"
   },
   "outputs": [],
   "source": []
  },
  {
   "cell_type": "code",
   "execution_count": null,
   "id": "d713525e",
   "metadata": {
    "id": "greatest-phase"
   },
   "outputs": [],
   "source": []
  },
  {
   "cell_type": "code",
   "execution_count": null,
   "id": "2ff1e48e",
   "metadata": {
    "id": "turned-chester"
   },
   "outputs": [],
   "source": [
    "from imblearn.pipeline import Pipeline"
   ]
  },
  {
   "cell_type": "code",
   "execution_count": null,
   "id": "db97cf53",
   "metadata": {
    "id": "conditional-dimension"
   },
   "outputs": [],
   "source": [
    "%%time\n",
    "\n",
    "from imblearn.pipeline import Pipeline\n",
    "\n",
    "over = SMOTE(sampling_strategy=0.1, k_neighbors=4)\n",
    "under = RandomUnderSampler(sampling_strategy=0.5)\n",
    "steps = [('over', over), ('under', under)]\n",
    "X_train_featsel_over_under, y_train_over_under = Pipeline(steps=steps)\n",
    "counter=Counter(y_train_over_under)\n",
    "print(counter)"
   ]
  },
  {
   "cell_type": "code",
   "execution_count": null,
   "id": "e1a8cb30",
   "metadata": {
    "id": "authentic-hypothetical"
   },
   "outputs": [],
   "source": []
  },
  {
   "cell_type": "code",
   "execution_count": null,
   "id": "ba30f0f9",
   "metadata": {
    "id": "professional-funeral"
   },
   "outputs": [],
   "source": []
  },
  {
   "cell_type": "code",
   "execution_count": null,
   "id": "25266ceb",
   "metadata": {
    "id": "female-september"
   },
   "outputs": [],
   "source": []
  },
  {
   "cell_type": "code",
   "execution_count": null,
   "id": "61ea5baa",
   "metadata": {
    "id": "addressed-forest"
   },
   "outputs": [],
   "source": [
    "%%time\n",
    "\n",
    "oversample = SMOTE(sampling_strategy=0.1, k_neighbors=4)\n",
    "X_train_featsel_over, y_train_over = oversample.fit_resample(X_train_final,y_train)\n",
    "counter=Counter(y_train_over)\n",
    "print(counter)"
   ]
  },
  {
   "cell_type": "code",
   "execution_count": null,
   "id": "caba2b6f",
   "metadata": {
    "id": "laden-capture"
   },
   "outputs": [],
   "source": [
    "undersample = RandomUnderSampler(sampling_strategy=0.5)\n",
    "X_train_featsel_over_under, y_train_over_under = undersample.fit_resample(X_train_featsel_over, y_train_over)\n",
    "counter=Counter(y_train_over_under)\n",
    "print(counter)"
   ]
  },
  {
   "cell_type": "code",
   "execution_count": null,
   "id": "076b139f",
   "metadata": {
    "id": "turkish-surgeon"
   },
   "outputs": [],
   "source": [
    "%%time\n",
    "\n",
    "clf = RandomForestClassifier(n_estimators=100,n_jobs=-1, oob_score=True,bootstrap=True,random_state=42)\n",
    "evaluate(clf,X_train_featsel_over_under, X_test_final, y_train_over_under, y_test)"
   ]
  },
  {
   "cell_type": "code",
   "execution_count": null,
   "id": "8f7f9fb9",
   "metadata": {
    "id": "proud-fight"
   },
   "outputs": [],
   "source": [
    "print(classification_report(y_test,clf.predict(X_test_final)))\n",
    "clrf_cm = confusion_matrix(y_test,clf.predict(X_test_final))\n",
    "clrf_cm"
   ]
  },
  {
   "cell_type": "markdown",
   "id": "4df8c3aa",
   "metadata": {
    "id": "accessory-purchase"
   },
   "source": [
    "## Hyperparameter Optimization"
   ]
  },
  {
   "cell_type": "markdown",
   "id": "d41aa0e8",
   "metadata": {
    "id": "ruled-fountain"
   },
   "source": [
    "### Dataset"
   ]
  },
  {
   "cell_type": "code",
   "execution_count": 4,
   "id": "854aaf3d",
   "metadata": {
    "id": "adolescent-toner",
    "outputId": "e46a7d4e-7021-4244-a608-17a35871873a"
   },
   "outputs": [
    {
     "name": "stderr",
     "output_type": "stream",
     "text": [
      "/home/dsc/TFM/kschool_masterDS_TFM/env/lib/python3.9/site-packages/IPython/core/interactiveshell.py:3165: DtypeWarning: Columns (1) have mixed types.Specify dtype option on import or set low_memory=False.\n",
      "  has_raised = await self.run_ast_nodes(code_ast.body, cell_name,\n"
     ]
    },
    {
     "name": "stdout",
     "output_type": "stream",
     "text": [
      "(3628293, 31)\n",
      "\n",
      "<class 'pandas.core.frame.DataFrame'>\n",
      "RangeIndex: 3628293 entries, 0 to 3628292\n",
      "Data columns (total 31 columns):\n",
      " #   Column                       Dtype         \n",
      "---  ------                       -----         \n",
      " 0   ga:productSKU                object        \n",
      " 1   ga:dateHourMinute            datetime64[ns]\n",
      " 2   ga:pagePath                  object        \n",
      " 3   ga:pageDepth                 int64         \n",
      " 4   ga:userType                  object        \n",
      " 5   ga:sessionCount              int64         \n",
      " 6   ga:daysSinceLastSession      int64         \n",
      " 7   ga:landingPagePath           object        \n",
      " 8   ga:campaign                  object        \n",
      " 9   ga:sourceMedium              object        \n",
      " 10  ga:city                      object        \n",
      " 11  ga:deviceCategory            object        \n",
      " 12  ga:operatingSystem           object        \n",
      " 13  ga:productListViews          int64         \n",
      " 14  ga:productListClicks         int64         \n",
      " 15  ga:productDetailViews        int64         \n",
      " 16  ga:productAddsToCart         int64         \n",
      " 17  ga:productAddsToCart_transf  int64         \n",
      " 18  pPath_clean                  object        \n",
      " 19  Web_Discount                 float64       \n",
      " 20  Product_price                float64       \n",
      " 21  month_sin                    float64       \n",
      " 22  month_cos                    float64       \n",
      " 23  dayofweek_sin                float64       \n",
      " 24  dayofweek_cos                float64       \n",
      " 25  hour_sin                     float64       \n",
      " 26  hour_cos                     float64       \n",
      " 27  Source                       object        \n",
      " 28  Medium                       object        \n",
      " 29  Returning_Visitor            int64         \n",
      " 30  Detail_View                  int64         \n",
      "dtypes: datetime64[ns](1), float64(8), int64(10), object(12)\n",
      "memory usage: 858.1+ MB\n"
     ]
    }
   ],
   "source": [
    "data_root=\"../data/\"\n",
    "datafile=os.path.join(data_root,'no_carrito_no_pedido_df_2019_2020_jan21.csv')\n",
    "df=pd.read_csv(datafile)\n",
    "df.drop('Unnamed: 0', axis=1, inplace=True)\n",
    "\n",
    "# Product SKU as string\n",
    "df['ga:productSKU']=df['ga:productSKU'].astype('str')\n",
    "\n",
    "# dateHourMinute as SIN and COS\n",
    "df['ga:dateHourMinute']=pd.to_datetime(df['ga:dateHourMinute'],format='%Y%m%d%H%M')\n",
    "df['dateTime_month']=df['ga:dateHourMinute'].dt.month\n",
    "df['dateTime_dayofweek']=df['ga:dateHourMinute'].dt.dayofweek\n",
    "df['dateTime_hour']=df['ga:dateHourMinute'].dt.hour\n",
    "df['month_sin']=np.sin((df.dateTime_month-1)*(2.*np.pi/12)) # I substract minus 1 to 'df.dateTime_month' because its values are coded as 1 to 12 instead of 0 to 11\n",
    "df['month_cos']=np.cos((df.dateTime_month-1)*(2.*np.pi/12)) # I substract minus 1 to 'df.dateTime_month' because its values are coded as 1 to 12 instead of 0 to 11\n",
    "df['dayofweek_sin']=np.sin(df.dateTime_dayofweek*(2.*np.pi/7))\n",
    "df['dayofweek_cos']=np.cos(df.dateTime_dayofweek*(2.*np.pi/7))\n",
    "df['hour_sin']=np.sin(df.dateTime_hour*(2.*np.pi/24))\n",
    "df['hour_cos']=np.cos(df.dateTime_hour*(2.*np.pi/24))\n",
    "df.drop(['dateTime_month','dateTime_dayofweek','dateTime_hour'],axis=1, inplace=True)\n",
    "\n",
    "# Source Medium as 2 columns:\n",
    "source_medium = df['ga:sourceMedium'].str.split('/',expand=True)\n",
    "source_medium.columns=['Source','Medium']\n",
    "df= df.merge(source_medium,left_index=True,right_index=True,how='left')\n",
    "del(source_medium)\n",
    "df['Source']=df['Source'].astype('str').str.strip()\n",
    "df['Medium']=df['Medium'].astype('str').str.strip()\n",
    "\n",
    "# City\n",
    "df['ga:city']=df['ga:city'].astype('str')\n",
    "\n",
    "# Device\n",
    "df['ga:deviceCategory']=df['ga:deviceCategory'].astype('str')\n",
    "\n",
    "# Operating System\n",
    "df['ga:operatingSystem']=df['ga:operatingSystem'].astype('str')\n",
    "\n",
    "# User Type\n",
    "df['Returning_Visitor']= np.where(df['ga:userType']=='Returning Visitor',1,0)\n",
    "\n",
    "# Page Path, Detail_View and Landing Page Path as string\n",
    "df['ga:pagePath']=df['ga:pagePath'].astype('str')\n",
    "df['ga:pagePath'] = df['ga:pagePath'].apply(lambda x: x[:x.find(\"?pag\")] if \"?pag\" in x else x)\n",
    "df['Detail_View']=df['ga:pagePath'].apply(lambda url: 1 if url[-5:]=='.html' else 0)\n",
    "df['ga:landingPagePath']=df['ga:landingPagePath'].astype('str')\n",
    "df['ga:landingPagePath'] = df['ga:landingPagePath'].apply(lambda x: x[:x.find(\"?pag\")] if \"?pag\" in x else x)\n",
    "\n",
    "print(df.shape)\n",
    "print(\"\")\n",
    "df.info()"
   ]
  },
  {
   "cell_type": "code",
   "execution_count": 5,
   "id": "bb67406c",
   "metadata": {
    "id": "related-nature",
    "outputId": "d036e36a-3c47-4294-cfea-3c845aa12de2"
   },
   "outputs": [
    {
     "name": "stdout",
     "output_type": "stream",
     "text": [
      "No. observations per class\n",
      "0    3586659\n",
      "1      41634\n",
      "Name: ga:productAddsToCart_transf, dtype: int64\n",
      "\n",
      "% observations per class\n",
      "0    98.852518\n",
      "1     1.147482\n",
      "Name: ga:productAddsToCart_transf, dtype: float64\n"
     ]
    }
   ],
   "source": [
    "df['ga:productAddsToCart_transf']=df[\"ga:productAddsToCart\"].apply(lambda x: 1 if x>1 else x)\n",
    "\n",
    "print(\"No. observations per class\")\n",
    "print(df['ga:productAddsToCart_transf'].value_counts())\n",
    "print(\"\")\n",
    "\n",
    "print(\"% observations per class\")\n",
    "print(100*df['ga:productAddsToCart_transf'].value_counts(normalize=True))"
   ]
  },
  {
   "cell_type": "markdown",
   "id": "4115f16b",
   "metadata": {
    "id": "right-gasoline"
   },
   "source": [
    "### Prepare Data"
   ]
  },
  {
   "cell_type": "code",
   "execution_count": 6,
   "id": "da34506c",
   "metadata": {
    "id": "reasonable-guard"
   },
   "outputs": [],
   "source": [
    "# Data\n",
    "\n",
    "features=['ga:pageDepth','ga:sessionCount','ga:daysSinceLastSession','ga:productSKU',\\\n",
    "          'month_sin','month_cos','dayofweek_sin','dayofweek_cos','hour_sin','hour_cos',\\\n",
    "          'Source','Medium','ga:city','ga:deviceCategory','ga:operatingSystem','Returning_Visitor',\\\n",
    "          'Product_price','Web_Discount','ga:pagePath','Detail_View','ga:landingPagePath']\n",
    "\n",
    "y=df['ga:productAddsToCart_transf']\n",
    "X=df[features]\n",
    "X_train, X_test, y_train, y_test = train_test_split(X, y,random_state=42)"
   ]
  },
  {
   "cell_type": "markdown",
   "id": "4163de2d",
   "metadata": {
    "id": "spiritual-exemption"
   },
   "source": [
    "### Preprocess"
   ]
  },
  {
   "cell_type": "code",
   "execution_count": 7,
   "id": "f649e165",
   "metadata": {
    "id": "square-isaac"
   },
   "outputs": [],
   "source": [
    "## CUSTOM TRANSFORMERS\n",
    "\n",
    "# 'Operating System' Transformer\n",
    "\n",
    "important_os = ['Android','iOS','Windows','Macintosh']\n",
    "\n",
    "class OSTransfomer(BaseEstimator,TransformerMixin):\n",
    "    def fit(self,X,y=None):\n",
    "        return self\n",
    "    def transform (self,X,y=None):\n",
    "        X_=X.copy()\n",
    "        X_['ga:operatingSystem']=X_['ga:operatingSystem'].apply(lambda os: 'other OS' if os not in important_os else os)\n",
    "        return X_\n",
    "    \n",
    "    \n",
    "# Compile 'Source'\n",
    "\n",
    "def source_compiler(x):\n",
    "    \n",
    "    insta_words= ['instagram','ig','linktr.ee']\n",
    "    for seq in insta_words:\n",
    "        if seq in x.lower():\n",
    "            return 'instagram'\n",
    "    if 'facebook' in x.lower():\n",
    "        return 'facebook'\n",
    "    if 'youtube' in x.lower():\n",
    "        return 'youtube'  \n",
    "    if 'vogue' in x.lower():\n",
    "        return 'vogue'\n",
    "    if 'yahoo' in x.lower():\n",
    "        return 'yahoo'\n",
    "    else:\n",
    "        return x\n",
    "\n",
    "important_sources = ['google','(direct)','instagram','facebook','sendinblue','youtube','bing','yahoo','vogue','cantabrialabs.es']\n",
    "\n",
    "class SourceTransfomer(BaseEstimator,TransformerMixin):\n",
    "    def fit(self,X,y=None):\n",
    "        return self\n",
    "    def transform (self,X,y=None):\n",
    "        X_=X.copy()\n",
    "        X_['Source']=X_['Source'].apply(source_compiler)\n",
    "        X_['Source']=X_['Source'].apply(lambda source: 'other sources' if source not in important_sources else source)\n",
    "        return X_\n",
    "    \n",
    "# Compile 'Medium':\n",
    "\n",
    "def medium_compiler(x):\n",
    "    \n",
    "    if 'cpc' in x.lower():\n",
    "        return 'cpc'\n",
    "    if x=='Social':\n",
    "        return 'IGShopping'  \n",
    "    if x=='facebook':\n",
    "        return 'facebook ads'\n",
    "    if x=='trafico':\n",
    "        return 'facebook trafico'\n",
    "    else:\n",
    "        return x\n",
    "    \n",
    "class MediumTransfomer(BaseEstimator,TransformerMixin):\n",
    "    def fit(self,X,y=None):\n",
    "        return self\n",
    "    def transform (self,X,y=None):\n",
    "        X_=X.copy()\n",
    "        X_['Medium']=X_['Medium'].apply(medium_compiler)\n",
    "        return X_\n",
    "    \n",
    "# Select other columns with no transformations (in order to be able to apply get_feature_names)\n",
    "\n",
    "class SelectColumnTransformer(BaseEstimator,TransformerMixin):\n",
    "    def fit(self,X,y=None):\n",
    "        return self\n",
    "    def transform (self,X,y=None):\n",
    "        return X"
   ]
  },
  {
   "cell_type": "code",
   "execution_count": 8,
   "id": "7f0f906c",
   "metadata": {
    "id": "excess-study",
    "outputId": "14049631-7fab-46b4-b0ad-d9233fa1d98b"
   },
   "outputs": [
    {
     "name": "stdout",
     "output_type": "stream",
     "text": [
      "(2721219, 44)\n",
      "(907074, 44)\n",
      "CPU times: user 42.7 s, sys: 4.94 s, total: 47.7 s\n",
      "Wall time: 47.8 s\n"
     ]
    }
   ],
   "source": [
    "%%time\n",
    "preprocess = pickle.load(open(\"preprocess.pickle\",\"rb\"))\n",
    "X_train_transf= preprocess.transform(X_train)\n",
    "X_test_transf= preprocess.transform(X_test)\n",
    "print(X_train_transf.shape)\n",
    "print(X_test_transf.shape)"
   ]
  },
  {
   "cell_type": "markdown",
   "id": "79db0aa2",
   "metadata": {
    "id": "viral-healing"
   },
   "source": [
    "### Feature Selection"
   ]
  },
  {
   "cell_type": "code",
   "execution_count": 9,
   "id": "80ec9f5a",
   "metadata": {
    "id": "answering-dayton",
    "outputId": "6cf5cef2-4a97-464a-cfce-140252ceb22d"
   },
   "outputs": [
    {
     "name": "stdout",
     "output_type": "stream",
     "text": [
      "(2721219, 28)\n",
      "(907074, 28)\n",
      "CPU times: user 2.96 s, sys: 3.14 s, total: 6.1 s\n",
      "Wall time: 6.44 s\n"
     ]
    }
   ],
   "source": [
    "%%time\n",
    "feat_selection = pickle.load(open(\"feat_selection.pickle\",\"rb\"))\n",
    "X_train_final = feat_selection.transform(X_train_transf)\n",
    "X_test_final = feat_selection.transform(X_test_transf)\n",
    "print(X_train_final.shape)\n",
    "print(X_test_final.shape)"
   ]
  },
  {
   "cell_type": "markdown",
   "id": "ccd6c01b",
   "metadata": {
    "id": "induced-stone"
   },
   "source": [
    "#### Final Features"
   ]
  },
  {
   "cell_type": "code",
   "execution_count": 10,
   "id": "3eb1ba6e",
   "metadata": {
    "id": "emotional-wages",
    "outputId": "7baf9fef-650b-4f46-823c-e59d583cf010"
   },
   "outputs": [
    {
     "name": "stdout",
     "output_type": "stream",
     "text": [
      "44\n"
     ]
    },
    {
     "data": {
      "text/plain": [
       "['x0_(direct)',\n",
       " 'x0_bing',\n",
       " 'x0_cantabrialabs.es',\n",
       " 'x0_facebook',\n",
       " 'x0_google',\n",
       " 'x0_instagram',\n",
       " 'x0_other sources',\n",
       " 'x0_sendinblue',\n",
       " 'x0_vogue',\n",
       " 'x0_yahoo',\n",
       " 'x0_youtube',\n",
       " 'x0_IGShopping',\n",
       " 'x0_cpc',\n",
       " 'x0_email',\n",
       " 'x0_facebook ads',\n",
       " 'x0_facebook feed',\n",
       " 'x0_facebook trafico',\n",
       " 'x0_organic',\n",
       " 'x0_referral',\n",
       " 'x0_desktop',\n",
       " 'x0_mobile',\n",
       " 'x0_tablet',\n",
       " 'x0_Android',\n",
       " 'x0_Macintosh',\n",
       " 'x0_Windows',\n",
       " 'x0_iOS',\n",
       " 'x0_other OS',\n",
       " 'ga:productSKU',\n",
       " 'ga:city',\n",
       " 'ga:pagePath',\n",
       " 'ga:landingPagePath',\n",
       " 'Product_price',\n",
       " 'Web_Discount',\n",
       " 'Detail_View',\n",
       " 'ga:pageDepth',\n",
       " 'Returning_Visitor',\n",
       " 'ga:sessionCount',\n",
       " 'ga:daysSinceLastSession',\n",
       " 'month_sin',\n",
       " 'month_cos',\n",
       " 'dayofweek_sin',\n",
       " 'dayofweek_cos',\n",
       " 'hour_sin',\n",
       " 'hour_cos']"
      ]
     },
     "execution_count": 10,
     "metadata": {},
     "output_type": "execute_result"
    }
   ],
   "source": [
    "features_names=[]\n",
    "\n",
    "for feature in range(0,4):\n",
    "    features= list(preprocess.named_steps['preprocess'].transformers_[feature][1].named_steps['ohe'].get_feature_names())\n",
    "    features_names.append(features)\n",
    "\n",
    "for feature in range(4,7):\n",
    "    features = preprocess['preprocess'].transformers_[feature][2]\n",
    "    features_names.append(features)\n",
    "\n",
    "features_names = [j for i in features_names for j in i]\n",
    "print(len(features_names))\n",
    "features_names"
   ]
  },
  {
   "cell_type": "code",
   "execution_count": 11,
   "id": "fe5eb703",
   "metadata": {
    "id": "representative-dylan",
    "outputId": "2e117c22-b05a-415e-f541-b1579ff569aa"
   },
   "outputs": [
    {
     "data": {
      "text/plain": [
       "array([ True, False, False, False,  True, False, False,  True, False,\n",
       "       False, False, False,  True,  True, False, False, False,  True,\n",
       "       False,  True,  True, False,  True, False,  True,  True, False,\n",
       "        True,  True,  True,  True,  True,  True,  True,  True,  True,\n",
       "        True,  True,  True,  True,  True,  True,  True,  True])"
      ]
     },
     "execution_count": 11,
     "metadata": {},
     "output_type": "execute_result"
    }
   ],
   "source": [
    "mask = feat_selection.get_support()\n",
    "mask"
   ]
  },
  {
   "cell_type": "code",
   "execution_count": 12,
   "id": "ddbd6567",
   "metadata": {
    "id": "fatal-dispatch",
    "outputId": "8a40dafe-b944-41f7-d8ef-5edf169e6eaa"
   },
   "outputs": [
    {
     "name": "stdout",
     "output_type": "stream",
     "text": [
      "28\n"
     ]
    },
    {
     "data": {
      "text/plain": [
       "['x0_(direct)',\n",
       " 'x0_google',\n",
       " 'x0_sendinblue',\n",
       " 'x0_cpc',\n",
       " 'x0_email',\n",
       " 'x0_organic',\n",
       " 'x0_desktop',\n",
       " 'x0_mobile',\n",
       " 'x0_Android',\n",
       " 'x0_Windows',\n",
       " 'x0_iOS',\n",
       " 'ga:productSKU',\n",
       " 'ga:city',\n",
       " 'ga:pagePath',\n",
       " 'ga:landingPagePath',\n",
       " 'Product_price',\n",
       " 'Web_Discount',\n",
       " 'Detail_View',\n",
       " 'ga:pageDepth',\n",
       " 'Returning_Visitor',\n",
       " 'ga:sessionCount',\n",
       " 'ga:daysSinceLastSession',\n",
       " 'month_sin',\n",
       " 'month_cos',\n",
       " 'dayofweek_sin',\n",
       " 'dayofweek_cos',\n",
       " 'hour_sin',\n",
       " 'hour_cos']"
      ]
     },
     "execution_count": 12,
     "metadata": {},
     "output_type": "execute_result"
    }
   ],
   "source": [
    "mask = feat_selection.get_support() #list of booleans\n",
    "\n",
    "final_features = [] # The list of the best features\n",
    "\n",
    "for bool, feature in zip(mask, features_names):\n",
    "\n",
    "    if bool:\n",
    "\n",
    "        final_features.append(feature)\n",
    "\n",
    "print(len(final_features))\n",
    "final_features"
   ]
  },
  {
   "cell_type": "markdown",
   "id": "subject-particle",
   "metadata": {},
   "source": [
    "### GridsearchCV"
   ]
  },
  {
   "cell_type": "code",
   "execution_count": null,
   "id": "a330fa02",
   "metadata": {
    "id": "super-wright",
    "outputId": "e11f6ae5-3db1-4bf9-f676-33349dc13f46"
   },
   "outputs": [
    {
     "name": "stdout",
     "output_type": "stream",
     "text": [
      "Fitting 5 folds for each of 24 candidates, totalling 120 fits\n"
     ]
    },
    {
     "name": "stderr",
     "output_type": "stream",
     "text": [
      "/home/dsc/TFM/kschool_masterDS_TFM/env/lib/python3.9/site-packages/joblib/externals/loky/backend/utils.py:55: UserWarning: Failed to kill subprocesses on this platform. Pleaseinstall psutil: https://github.com/giampaolo/psutil\n",
      "  warnings.warn(\"Failed to kill subprocesses on this platform. Please\"\n"
     ]
    },
    {
     "ename": "TerminatedWorkerError",
     "evalue": "A worker process managed by the executor was unexpectedly terminated. This could be caused by a segmentation fault while calling the function or by an excessive memory usage causing the Operating System to kill the worker.\n\nThe exit codes of the workers are {SIGKILL(-9)}",
     "output_type": "error",
     "traceback": [
      "\u001b[0;31m---------------------------------------------------------------------------\u001b[0m",
      "\u001b[0;31mTerminatedWorkerError\u001b[0m                     Traceback (most recent call last)",
      "\u001b[0;32m<timed exec>\u001b[0m in \u001b[0;36m<module>\u001b[0;34m\u001b[0m\n",
      "\u001b[0;32m~/TFM/kschool_masterDS_TFM/env/lib/python3.9/site-packages/sklearn/utils/validation.py\u001b[0m in \u001b[0;36minner_f\u001b[0;34m(*args, **kwargs)\u001b[0m\n\u001b[1;32m     61\u001b[0m             \u001b[0mextra_args\u001b[0m \u001b[0;34m=\u001b[0m \u001b[0mlen\u001b[0m\u001b[0;34m(\u001b[0m\u001b[0margs\u001b[0m\u001b[0;34m)\u001b[0m \u001b[0;34m-\u001b[0m \u001b[0mlen\u001b[0m\u001b[0;34m(\u001b[0m\u001b[0mall_args\u001b[0m\u001b[0;34m)\u001b[0m\u001b[0;34m\u001b[0m\u001b[0;34m\u001b[0m\u001b[0m\n\u001b[1;32m     62\u001b[0m             \u001b[0;32mif\u001b[0m \u001b[0mextra_args\u001b[0m \u001b[0;34m<=\u001b[0m \u001b[0;36m0\u001b[0m\u001b[0;34m:\u001b[0m\u001b[0;34m\u001b[0m\u001b[0;34m\u001b[0m\u001b[0m\n\u001b[0;32m---> 63\u001b[0;31m                 \u001b[0;32mreturn\u001b[0m \u001b[0mf\u001b[0m\u001b[0;34m(\u001b[0m\u001b[0;34m*\u001b[0m\u001b[0margs\u001b[0m\u001b[0;34m,\u001b[0m \u001b[0;34m**\u001b[0m\u001b[0mkwargs\u001b[0m\u001b[0;34m)\u001b[0m\u001b[0;34m\u001b[0m\u001b[0;34m\u001b[0m\u001b[0m\n\u001b[0m\u001b[1;32m     64\u001b[0m \u001b[0;34m\u001b[0m\u001b[0m\n\u001b[1;32m     65\u001b[0m             \u001b[0;31m# extra_args > 0\u001b[0m\u001b[0;34m\u001b[0m\u001b[0;34m\u001b[0m\u001b[0;34m\u001b[0m\u001b[0m\n",
      "\u001b[0;32m~/TFM/kschool_masterDS_TFM/env/lib/python3.9/site-packages/sklearn/model_selection/_search.py\u001b[0m in \u001b[0;36mfit\u001b[0;34m(self, X, y, groups, **fit_params)\u001b[0m\n\u001b[1;32m    839\u001b[0m                 \u001b[0;32mreturn\u001b[0m \u001b[0mresults\u001b[0m\u001b[0;34m\u001b[0m\u001b[0;34m\u001b[0m\u001b[0m\n\u001b[1;32m    840\u001b[0m \u001b[0;34m\u001b[0m\u001b[0m\n\u001b[0;32m--> 841\u001b[0;31m             \u001b[0mself\u001b[0m\u001b[0;34m.\u001b[0m\u001b[0m_run_search\u001b[0m\u001b[0;34m(\u001b[0m\u001b[0mevaluate_candidates\u001b[0m\u001b[0;34m)\u001b[0m\u001b[0;34m\u001b[0m\u001b[0;34m\u001b[0m\u001b[0m\n\u001b[0m\u001b[1;32m    842\u001b[0m \u001b[0;34m\u001b[0m\u001b[0m\n\u001b[1;32m    843\u001b[0m             \u001b[0;31m# multimetric is determined here because in the case of a callable\u001b[0m\u001b[0;34m\u001b[0m\u001b[0;34m\u001b[0m\u001b[0;34m\u001b[0m\u001b[0m\n",
      "\u001b[0;32m~/TFM/kschool_masterDS_TFM/env/lib/python3.9/site-packages/sklearn/model_selection/_search.py\u001b[0m in \u001b[0;36m_run_search\u001b[0;34m(self, evaluate_candidates)\u001b[0m\n\u001b[1;32m   1286\u001b[0m     \u001b[0;32mdef\u001b[0m \u001b[0m_run_search\u001b[0m\u001b[0;34m(\u001b[0m\u001b[0mself\u001b[0m\u001b[0;34m,\u001b[0m \u001b[0mevaluate_candidates\u001b[0m\u001b[0;34m)\u001b[0m\u001b[0;34m:\u001b[0m\u001b[0;34m\u001b[0m\u001b[0;34m\u001b[0m\u001b[0m\n\u001b[1;32m   1287\u001b[0m         \u001b[0;34m\"\"\"Search all candidates in param_grid\"\"\"\u001b[0m\u001b[0;34m\u001b[0m\u001b[0;34m\u001b[0m\u001b[0m\n\u001b[0;32m-> 1288\u001b[0;31m         \u001b[0mevaluate_candidates\u001b[0m\u001b[0;34m(\u001b[0m\u001b[0mParameterGrid\u001b[0m\u001b[0;34m(\u001b[0m\u001b[0mself\u001b[0m\u001b[0;34m.\u001b[0m\u001b[0mparam_grid\u001b[0m\u001b[0;34m)\u001b[0m\u001b[0;34m)\u001b[0m\u001b[0;34m\u001b[0m\u001b[0;34m\u001b[0m\u001b[0m\n\u001b[0m\u001b[1;32m   1289\u001b[0m \u001b[0;34m\u001b[0m\u001b[0m\n\u001b[1;32m   1290\u001b[0m \u001b[0;34m\u001b[0m\u001b[0m\n",
      "\u001b[0;32m~/TFM/kschool_masterDS_TFM/env/lib/python3.9/site-packages/sklearn/model_selection/_search.py\u001b[0m in \u001b[0;36mevaluate_candidates\u001b[0;34m(candidate_params, cv, more_results)\u001b[0m\n\u001b[1;32m    793\u001b[0m                               n_splits, n_candidates, n_candidates * n_splits))\n\u001b[1;32m    794\u001b[0m \u001b[0;34m\u001b[0m\u001b[0m\n\u001b[0;32m--> 795\u001b[0;31m                 out = parallel(delayed(_fit_and_score)(clone(base_estimator),\n\u001b[0m\u001b[1;32m    796\u001b[0m                                                        \u001b[0mX\u001b[0m\u001b[0;34m,\u001b[0m \u001b[0my\u001b[0m\u001b[0;34m,\u001b[0m\u001b[0;34m\u001b[0m\u001b[0;34m\u001b[0m\u001b[0m\n\u001b[1;32m    797\u001b[0m                                                        \u001b[0mtrain\u001b[0m\u001b[0;34m=\u001b[0m\u001b[0mtrain\u001b[0m\u001b[0;34m,\u001b[0m \u001b[0mtest\u001b[0m\u001b[0;34m=\u001b[0m\u001b[0mtest\u001b[0m\u001b[0;34m,\u001b[0m\u001b[0;34m\u001b[0m\u001b[0;34m\u001b[0m\u001b[0m\n",
      "\u001b[0;32m~/TFM/kschool_masterDS_TFM/env/lib/python3.9/site-packages/joblib/parallel.py\u001b[0m in \u001b[0;36m__call__\u001b[0;34m(self, iterable)\u001b[0m\n\u001b[1;32m   1052\u001b[0m \u001b[0;34m\u001b[0m\u001b[0m\n\u001b[1;32m   1053\u001b[0m             \u001b[0;32mwith\u001b[0m \u001b[0mself\u001b[0m\u001b[0;34m.\u001b[0m\u001b[0m_backend\u001b[0m\u001b[0;34m.\u001b[0m\u001b[0mretrieval_context\u001b[0m\u001b[0;34m(\u001b[0m\u001b[0;34m)\u001b[0m\u001b[0;34m:\u001b[0m\u001b[0;34m\u001b[0m\u001b[0;34m\u001b[0m\u001b[0m\n\u001b[0;32m-> 1054\u001b[0;31m                 \u001b[0mself\u001b[0m\u001b[0;34m.\u001b[0m\u001b[0mretrieve\u001b[0m\u001b[0;34m(\u001b[0m\u001b[0;34m)\u001b[0m\u001b[0;34m\u001b[0m\u001b[0;34m\u001b[0m\u001b[0m\n\u001b[0m\u001b[1;32m   1055\u001b[0m             \u001b[0;31m# Make sure that we get a last message telling us we are done\u001b[0m\u001b[0;34m\u001b[0m\u001b[0;34m\u001b[0m\u001b[0;34m\u001b[0m\u001b[0m\n\u001b[1;32m   1056\u001b[0m             \u001b[0melapsed_time\u001b[0m \u001b[0;34m=\u001b[0m \u001b[0mtime\u001b[0m\u001b[0;34m.\u001b[0m\u001b[0mtime\u001b[0m\u001b[0;34m(\u001b[0m\u001b[0;34m)\u001b[0m \u001b[0;34m-\u001b[0m \u001b[0mself\u001b[0m\u001b[0;34m.\u001b[0m\u001b[0m_start_time\u001b[0m\u001b[0;34m\u001b[0m\u001b[0;34m\u001b[0m\u001b[0m\n",
      "\u001b[0;32m~/TFM/kschool_masterDS_TFM/env/lib/python3.9/site-packages/joblib/parallel.py\u001b[0m in \u001b[0;36mretrieve\u001b[0;34m(self)\u001b[0m\n\u001b[1;32m    931\u001b[0m             \u001b[0;32mtry\u001b[0m\u001b[0;34m:\u001b[0m\u001b[0;34m\u001b[0m\u001b[0;34m\u001b[0m\u001b[0m\n\u001b[1;32m    932\u001b[0m                 \u001b[0;32mif\u001b[0m \u001b[0mgetattr\u001b[0m\u001b[0;34m(\u001b[0m\u001b[0mself\u001b[0m\u001b[0;34m.\u001b[0m\u001b[0m_backend\u001b[0m\u001b[0;34m,\u001b[0m \u001b[0;34m'supports_timeout'\u001b[0m\u001b[0;34m,\u001b[0m \u001b[0;32mFalse\u001b[0m\u001b[0;34m)\u001b[0m\u001b[0;34m:\u001b[0m\u001b[0;34m\u001b[0m\u001b[0;34m\u001b[0m\u001b[0m\n\u001b[0;32m--> 933\u001b[0;31m                     \u001b[0mself\u001b[0m\u001b[0;34m.\u001b[0m\u001b[0m_output\u001b[0m\u001b[0;34m.\u001b[0m\u001b[0mextend\u001b[0m\u001b[0;34m(\u001b[0m\u001b[0mjob\u001b[0m\u001b[0;34m.\u001b[0m\u001b[0mget\u001b[0m\u001b[0;34m(\u001b[0m\u001b[0mtimeout\u001b[0m\u001b[0;34m=\u001b[0m\u001b[0mself\u001b[0m\u001b[0;34m.\u001b[0m\u001b[0mtimeout\u001b[0m\u001b[0;34m)\u001b[0m\u001b[0;34m)\u001b[0m\u001b[0;34m\u001b[0m\u001b[0;34m\u001b[0m\u001b[0m\n\u001b[0m\u001b[1;32m    934\u001b[0m                 \u001b[0;32melse\u001b[0m\u001b[0;34m:\u001b[0m\u001b[0;34m\u001b[0m\u001b[0;34m\u001b[0m\u001b[0m\n\u001b[1;32m    935\u001b[0m                     \u001b[0mself\u001b[0m\u001b[0;34m.\u001b[0m\u001b[0m_output\u001b[0m\u001b[0;34m.\u001b[0m\u001b[0mextend\u001b[0m\u001b[0;34m(\u001b[0m\u001b[0mjob\u001b[0m\u001b[0;34m.\u001b[0m\u001b[0mget\u001b[0m\u001b[0;34m(\u001b[0m\u001b[0;34m)\u001b[0m\u001b[0;34m)\u001b[0m\u001b[0;34m\u001b[0m\u001b[0;34m\u001b[0m\u001b[0m\n",
      "\u001b[0;32m~/TFM/kschool_masterDS_TFM/env/lib/python3.9/site-packages/joblib/_parallel_backends.py\u001b[0m in \u001b[0;36mwrap_future_result\u001b[0;34m(future, timeout)\u001b[0m\n\u001b[1;32m    540\u001b[0m         AsyncResults.get from multiprocessing.\"\"\"\n\u001b[1;32m    541\u001b[0m         \u001b[0;32mtry\u001b[0m\u001b[0;34m:\u001b[0m\u001b[0;34m\u001b[0m\u001b[0;34m\u001b[0m\u001b[0m\n\u001b[0;32m--> 542\u001b[0;31m             \u001b[0;32mreturn\u001b[0m \u001b[0mfuture\u001b[0m\u001b[0;34m.\u001b[0m\u001b[0mresult\u001b[0m\u001b[0;34m(\u001b[0m\u001b[0mtimeout\u001b[0m\u001b[0;34m=\u001b[0m\u001b[0mtimeout\u001b[0m\u001b[0;34m)\u001b[0m\u001b[0;34m\u001b[0m\u001b[0;34m\u001b[0m\u001b[0m\n\u001b[0m\u001b[1;32m    543\u001b[0m         \u001b[0;32mexcept\u001b[0m \u001b[0mCfTimeoutError\u001b[0m \u001b[0;32mas\u001b[0m \u001b[0me\u001b[0m\u001b[0;34m:\u001b[0m\u001b[0;34m\u001b[0m\u001b[0;34m\u001b[0m\u001b[0m\n\u001b[1;32m    544\u001b[0m             \u001b[0;32mraise\u001b[0m \u001b[0mTimeoutError\u001b[0m \u001b[0;32mfrom\u001b[0m \u001b[0me\u001b[0m\u001b[0;34m\u001b[0m\u001b[0;34m\u001b[0m\u001b[0m\n",
      "\u001b[0;32m~/TFM/kschool_masterDS_TFM/env/lib/python3.9/concurrent/futures/_base.py\u001b[0m in \u001b[0;36mresult\u001b[0;34m(self, timeout)\u001b[0m\n\u001b[1;32m    438\u001b[0m                 \u001b[0;32mraise\u001b[0m \u001b[0mCancelledError\u001b[0m\u001b[0;34m(\u001b[0m\u001b[0;34m)\u001b[0m\u001b[0;34m\u001b[0m\u001b[0;34m\u001b[0m\u001b[0m\n\u001b[1;32m    439\u001b[0m             \u001b[0;32melif\u001b[0m \u001b[0mself\u001b[0m\u001b[0;34m.\u001b[0m\u001b[0m_state\u001b[0m \u001b[0;34m==\u001b[0m \u001b[0mFINISHED\u001b[0m\u001b[0;34m:\u001b[0m\u001b[0;34m\u001b[0m\u001b[0;34m\u001b[0m\u001b[0m\n\u001b[0;32m--> 440\u001b[0;31m                 \u001b[0;32mreturn\u001b[0m \u001b[0mself\u001b[0m\u001b[0;34m.\u001b[0m\u001b[0m__get_result\u001b[0m\u001b[0;34m(\u001b[0m\u001b[0;34m)\u001b[0m\u001b[0;34m\u001b[0m\u001b[0;34m\u001b[0m\u001b[0m\n\u001b[0m\u001b[1;32m    441\u001b[0m             \u001b[0;32melse\u001b[0m\u001b[0;34m:\u001b[0m\u001b[0;34m\u001b[0m\u001b[0;34m\u001b[0m\u001b[0m\n\u001b[1;32m    442\u001b[0m                 \u001b[0;32mraise\u001b[0m \u001b[0mTimeoutError\u001b[0m\u001b[0;34m(\u001b[0m\u001b[0;34m)\u001b[0m\u001b[0;34m\u001b[0m\u001b[0;34m\u001b[0m\u001b[0m\n",
      "\u001b[0;32m~/TFM/kschool_masterDS_TFM/env/lib/python3.9/concurrent/futures/_base.py\u001b[0m in \u001b[0;36m__get_result\u001b[0;34m(self)\u001b[0m\n\u001b[1;32m    387\u001b[0m     \u001b[0;32mdef\u001b[0m \u001b[0m__get_result\u001b[0m\u001b[0;34m(\u001b[0m\u001b[0mself\u001b[0m\u001b[0;34m)\u001b[0m\u001b[0;34m:\u001b[0m\u001b[0;34m\u001b[0m\u001b[0;34m\u001b[0m\u001b[0m\n\u001b[1;32m    388\u001b[0m         \u001b[0;32mif\u001b[0m \u001b[0mself\u001b[0m\u001b[0;34m.\u001b[0m\u001b[0m_exception\u001b[0m\u001b[0;34m:\u001b[0m\u001b[0;34m\u001b[0m\u001b[0;34m\u001b[0m\u001b[0m\n\u001b[0;32m--> 389\u001b[0;31m             \u001b[0;32mraise\u001b[0m \u001b[0mself\u001b[0m\u001b[0;34m.\u001b[0m\u001b[0m_exception\u001b[0m\u001b[0;34m\u001b[0m\u001b[0;34m\u001b[0m\u001b[0m\n\u001b[0m\u001b[1;32m    390\u001b[0m         \u001b[0;32melse\u001b[0m\u001b[0;34m:\u001b[0m\u001b[0;34m\u001b[0m\u001b[0;34m\u001b[0m\u001b[0m\n\u001b[1;32m    391\u001b[0m             \u001b[0;32mreturn\u001b[0m \u001b[0mself\u001b[0m\u001b[0;34m.\u001b[0m\u001b[0m_result\u001b[0m\u001b[0;34m\u001b[0m\u001b[0;34m\u001b[0m\u001b[0m\n",
      "\u001b[0;31mTerminatedWorkerError\u001b[0m: A worker process managed by the executor was unexpectedly terminated. This could be caused by a segmentation fault while calling the function or by an excessive memory usage causing the Operating System to kill the worker.\n\nThe exit codes of the workers are {SIGKILL(-9)}"
     ]
    }
   ],
   "source": [
    "%%time\n",
    "\n",
    "param_grid = {'n_estimators': [50,100,200],\n",
    "              'max_depth'   : [None, 5, 10, 20],\n",
    "              'criterion'   : ['gini', 'entropy']\n",
    "             }\n",
    "\n",
    "grid=GridSearchCV(estimator=RandomForestClassifier(random_state=42),\n",
    "                 param_grid=param_grid,\n",
    "                 scoring='recall',\n",
    "                 n_jobs=multiprocessing.cpu_count()-1,\n",
    "                 refit=True,\n",
    "                 verbose=2,\n",
    "                 return_train_score=True)\n",
    "\n",
    "grid.fit(X_train_final,y_train)"
   ]
  },
  {
   "cell_type": "markdown",
   "id": "equipped-wilderness",
   "metadata": {},
   "source": [
    "Dada la imposibilidad de ejecutar el código en mi ordenador, cree una instancia de notebook en Google Cloud Console. Estos fueron los resultados:"
   ]
  },
  {
   "cell_type": "code",
   "execution_count": 11,
   "id": "2e7fcb61",
   "metadata": {},
   "outputs": [
    {
     "name": "stdout",
     "output_type": "stream",
     "text": [
      "Fitting 5 folds for each of 24 candidates, totalling 120 fits\n"
     ]
    },
    {
     "name": "stderr",
     "output_type": "stream",
     "text": [
      "/opt/conda/lib/python3.7/site-packages/joblib/externals/loky/process_executor.py:691: UserWarning: A worker stopped while some jobs were given to the executor. This can be caused by a too short worker timeout or by a memory leak.\n",
      "  \"timeout or by a memory leak.\", UserWarning\n"
     ]
    },
    {
     "name": "stdout",
     "output_type": "stream",
     "text": [
      "CPU times: user 5min, sys: 6.67 s, total: 5min 7s\n",
      "Wall time: 2h 30min 37s\n"
     ]
    },
    {
     "data": {
      "text/plain": [
       "GridSearchCV(estimator=RandomForestClassifier(random_state=42), n_jobs=15,\n",
       "             param_grid={'criterion': ['gini', 'entropy'],\n",
       "                         'max_depth': [None, 5, 10, 20],\n",
       "                         'n_estimators': [50, 100, 200]},\n",
       "             return_train_score=True, scoring='recall', verbose=2)"
      ]
     },
     "execution_count": 11,
     "metadata": {},
     "output_type": "execute_result"
    }
   ],
   "source": [
    "%%time\n",
    "\n",
    "param_grid = {'n_estimators': [50,100,200],\n",
    "              'max_depth'   : [None, 5, 10, 20],\n",
    "              'criterion'   : ['gini', 'entropy']\n",
    "             }\n",
    "\n",
    "grid=GridSearchCV(estimator=RandomForestClassifier(random_state=42),\n",
    "                 param_grid=param_grid,\n",
    "                 scoring='recall',\n",
    "                 n_jobs=multiprocessing.cpu_count()-1,\n",
    "                 refit=True,\n",
    "                 verbose=2,\n",
    "                 return_train_score=True)\n",
    "\n",
    "grid.fit(X_train_final,y_train)"
   ]
  },
  {
   "cell_type": "code",
   "execution_count": 12,
   "id": "d76fc66e",
   "metadata": {
    "id": "preceding-dance"
   },
   "outputs": [
    {
     "data": {
      "text/plain": [
       "{'criterion': 'entropy', 'max_depth': None, 'n_estimators': 50}"
      ]
     },
     "execution_count": 12,
     "metadata": {},
     "output_type": "execute_result"
    }
   ],
   "source": [
    "grid.best_params_"
   ]
  },
  {
   "cell_type": "code",
   "execution_count": 14,
   "id": "895e6be1",
   "metadata": {},
   "outputs": [
    {
     "data": {
      "text/plain": [
       "0.2182876036516403"
      ]
     },
     "execution_count": 14,
     "metadata": {},
     "output_type": "execute_result"
    }
   ],
   "source": [
    "grid.best_score_"
   ]
  },
  {
   "cell_type": "code",
   "execution_count": 15,
   "id": "fd5e2133",
   "metadata": {},
   "outputs": [
    {
     "data": {
      "text/plain": [
       "RandomForestClassifier(criterion='entropy', n_estimators=50, random_state=42)"
      ]
     },
     "execution_count": 15,
     "metadata": {},
     "output_type": "execute_result"
    }
   ],
   "source": [
    "grid.best_estimator_"
   ]
  },
  {
   "cell_type": "code",
   "execution_count": 25,
   "id": "66c041cd",
   "metadata": {},
   "outputs": [
    {
     "data": {
      "text/plain": [
       "{'mean_fit_time': array([ 543.56379547, 1055.37208667, 2266.2408637 ,  200.07925119,\n",
       "         462.00323272,  750.95592594,  397.31907949,  760.90418692,\n",
       "        1704.13782992,  604.02193098, 1366.45513   , 2078.54978843,\n",
       "         543.16384935,  999.16289725, 2320.17471099,  207.39015684,\n",
       "         361.16302905,  810.20752878,  299.75972052,  572.77666922,\n",
       "        1208.19327083,  492.11414456,  860.97447057, 1197.52220354]),\n",
       " 'std_fit_time': array([ 87.00893988, 138.40443139, 106.31820703,  33.2102511 ,\n",
       "        123.03587099, 179.34529147, 107.72686242,  96.77821716,\n",
       "        407.95705515, 169.70065972, 324.17900658, 281.48448928,\n",
       "        159.47925318, 248.86236537, 417.05593571,  51.10029017,\n",
       "          7.16557816, 239.85869315,  13.74574484,  50.05408383,\n",
       "        102.60117151, 111.38878633, 137.06240845, 155.21915327]),\n",
       " 'mean_score_time': array([10.65772085, 20.0932528 , 38.56351047,  2.85144596,  5.39562831,\n",
       "        10.08056207,  4.72816067,  8.33025861, 16.94066648,  8.27259293,\n",
       "        13.65501566, 31.15542274,  8.40563669, 17.27704668, 31.98038273,\n",
       "         2.89521604,  5.48119006, 10.87344575,  4.33961101,  8.22266068,\n",
       "        15.283816  ,  7.76310201, 11.34751883, 20.17494726]),\n",
       " 'std_score_time': array([1.34991224, 2.83937876, 7.4374226 , 0.04753715, 0.04400018,\n",
       "        1.36970842, 0.40383441, 0.62871453, 1.78212587, 0.60482933,\n",
       "        2.18604028, 0.97068951, 0.92025708, 0.55365183, 5.12326757,\n",
       "        0.07380228, 0.25086771, 1.53320967, 0.41949516, 1.20178473,\n",
       "        2.51650376, 0.30199494, 2.06645101, 0.2289675 ]),\n",
       " 'param_criterion': masked_array(data=['gini', 'gini', 'gini', 'gini', 'gini', 'gini', 'gini',\n",
       "                    'gini', 'gini', 'gini', 'gini', 'gini', 'entropy',\n",
       "                    'entropy', 'entropy', 'entropy', 'entropy', 'entropy',\n",
       "                    'entropy', 'entropy', 'entropy', 'entropy', 'entropy',\n",
       "                    'entropy'],\n",
       "              mask=[False, False, False, False, False, False, False, False,\n",
       "                    False, False, False, False, False, False, False, False,\n",
       "                    False, False, False, False, False, False, False, False],\n",
       "        fill_value='?',\n",
       "             dtype=object),\n",
       " 'param_max_depth': masked_array(data=[None, None, None, 5, 5, 5, 10, 10, 10, 20, 20, 20,\n",
       "                    None, None, None, 5, 5, 5, 10, 10, 10, 20, 20, 20],\n",
       "              mask=[False, False, False, False, False, False, False, False,\n",
       "                    False, False, False, False, False, False, False, False,\n",
       "                    False, False, False, False, False, False, False, False],\n",
       "        fill_value='?',\n",
       "             dtype=object),\n",
       " 'param_n_estimators': masked_array(data=[50, 100, 200, 50, 100, 200, 50, 100, 200, 50, 100, 200,\n",
       "                    50, 100, 200, 50, 100, 200, 50, 100, 200, 50, 100, 200],\n",
       "              mask=[False, False, False, False, False, False, False, False,\n",
       "                    False, False, False, False, False, False, False, False,\n",
       "                    False, False, False, False, False, False, False, False],\n",
       "        fill_value='?',\n",
       "             dtype=object),\n",
       " 'params': [{'criterion': 'gini', 'max_depth': None, 'n_estimators': 50},\n",
       "  {'criterion': 'gini', 'max_depth': None, 'n_estimators': 100},\n",
       "  {'criterion': 'gini', 'max_depth': None, 'n_estimators': 200},\n",
       "  {'criterion': 'gini', 'max_depth': 5, 'n_estimators': 50},\n",
       "  {'criterion': 'gini', 'max_depth': 5, 'n_estimators': 100},\n",
       "  {'criterion': 'gini', 'max_depth': 5, 'n_estimators': 200},\n",
       "  {'criterion': 'gini', 'max_depth': 10, 'n_estimators': 50},\n",
       "  {'criterion': 'gini', 'max_depth': 10, 'n_estimators': 100},\n",
       "  {'criterion': 'gini', 'max_depth': 10, 'n_estimators': 200},\n",
       "  {'criterion': 'gini', 'max_depth': 20, 'n_estimators': 50},\n",
       "  {'criterion': 'gini', 'max_depth': 20, 'n_estimators': 100},\n",
       "  {'criterion': 'gini', 'max_depth': 20, 'n_estimators': 200},\n",
       "  {'criterion': 'entropy', 'max_depth': None, 'n_estimators': 50},\n",
       "  {'criterion': 'entropy', 'max_depth': None, 'n_estimators': 100},\n",
       "  {'criterion': 'entropy', 'max_depth': None, 'n_estimators': 200},\n",
       "  {'criterion': 'entropy', 'max_depth': 5, 'n_estimators': 50},\n",
       "  {'criterion': 'entropy', 'max_depth': 5, 'n_estimators': 100},\n",
       "  {'criterion': 'entropy', 'max_depth': 5, 'n_estimators': 200},\n",
       "  {'criterion': 'entropy', 'max_depth': 10, 'n_estimators': 50},\n",
       "  {'criterion': 'entropy', 'max_depth': 10, 'n_estimators': 100},\n",
       "  {'criterion': 'entropy', 'max_depth': 10, 'n_estimators': 200},\n",
       "  {'criterion': 'entropy', 'max_depth': 20, 'n_estimators': 50},\n",
       "  {'criterion': 'entropy', 'max_depth': 20, 'n_estimators': 100},\n",
       "  {'criterion': 'entropy', 'max_depth': 20, 'n_estimators': 200}],\n",
       " 'split0_test_score': array([0.18317547, 0.18558356, 0.18590464, 0.04141917, 0.04816182,\n",
       "        0.04896452, 0.05731257, 0.05891796, 0.05859689, 0.12473912,\n",
       "        0.12345481, 0.12522074, 0.21432012, 0.21399904, 0.21159095,\n",
       "        0.        , 0.        , 0.        , 0.02953925, 0.02889709,\n",
       "        0.03531867, 0.16856638, 0.16519506, 0.16407128]),\n",
       " 'split1_test_score': array([0.19585808, 0.19377107, 0.19264729, 0.04719859, 0.04687751,\n",
       "        0.04639589, 0.05683095, 0.05586772, 0.05490448, 0.1266656 ,\n",
       "        0.12827099, 0.12971585, 0.22106277, 0.21737036, 0.21656767,\n",
       "        0.        , 0.        , 0.        , 0.03676353, 0.03515813,\n",
       "        0.03162626, 0.16310804, 0.16567667, 0.16776369]),\n",
       " 'split2_test_score': array([0.19213483, 0.19036918, 0.19036918, 0.04606742, 0.04751204,\n",
       "        0.04735152, 0.05890851, 0.05698234, 0.05922953, 0.13354735,\n",
       "        0.12664526, 0.13210273, 0.2223114 , 0.21492777, 0.21637239,\n",
       "        0.        , 0.        , 0.        , 0.04606742, 0.03964687,\n",
       "        0.04333868, 0.1600321 , 0.16741573, 0.16548957]),\n",
       " 'split3_test_score': array([0.18860353, 0.18924559, 0.19020867, 0.04558587, 0.04526485,\n",
       "        0.04670947, 0.05329053, 0.05441413, 0.05441413, 0.12487961,\n",
       "        0.12760835, 0.1282504 , 0.21027287, 0.2094703 , 0.20882825,\n",
       "        0.        , 0.        , 0.        , 0.04879615, 0.04751204,\n",
       "        0.04767255, 0.17110754, 0.16452648, 0.16789727]),\n",
       " 'split4_test_score': array([0.19617916, 0.20292182, 0.19987157, 0.04816182, 0.04832236,\n",
       "        0.04880398, 0.05956012, 0.05956012, 0.05972066, 0.13067908,\n",
       "        0.13372933, 0.13132124, 0.22347086, 0.21977846, 0.22298924,\n",
       "        0.        , 0.        , 0.        , 0.03323166, 0.03740568,\n",
       "        0.03820838, 0.1682453 , 0.16936908, 0.16888746]),\n",
       " 'mean_test_score': array([0.19119022, 0.19237824, 0.19180027, 0.04568657, 0.04722772,\n",
       "        0.04764508, 0.05718054, 0.05714845, 0.05737314, 0.12810215,\n",
       "        0.12794175, 0.12932219, 0.2182876 , 0.21510919, 0.2152697 ,\n",
       "        0.        , 0.        , 0.        , 0.0388796 , 0.03772396,\n",
       "        0.03923291, 0.16621188, 0.1664366 , 0.16682185]),\n",
       " 'std_test_score': array([0.00486822, 0.00588429, 0.004587  , 0.00231426, 0.00110699,\n",
       "        0.00105887, 0.00218724, 0.0019022 , 0.00224965, 0.00346552,\n",
       "        0.00333254, 0.00244349, 0.00511342, 0.00346345, 0.00484804,\n",
       "        0.        , 0.        , 0.        , 0.00739759, 0.00606799,\n",
       "        0.00569766, 0.00403657, 0.00175075, 0.00176923]),\n",
       " 'rank_test_score': array([ 6,  4,  5, 18, 17, 16, 14, 15, 13, 11, 12, 10,  1,  3,  2, 22, 22,\n",
       "        22, 20, 21, 19,  9,  8,  7], dtype=int32),\n",
       " 'split0_train_score': array([0.82899912, 0.82209648, 0.81282607, 0.03820531, 0.04659282,\n",
       "        0.04727506, 0.06400995, 0.06513364, 0.0645718 , 0.27108917,\n",
       "        0.26868127, 0.27016614, 0.82755438, 0.82205634, 0.81246488,\n",
       "        0.        , 0.        , 0.        , 0.03607834, 0.03467373,\n",
       "        0.03997111, 0.27871418, 0.27706879, 0.27991813]),\n",
       " 'split1_train_score': array([0.82610964, 0.82017016, 0.81242475, 0.04924151, 0.04916125,\n",
       "        0.04940204, 0.06244482, 0.06200337, 0.06011718, 0.26827996,\n",
       "        0.26819969, 0.2688418 , 0.82715306, 0.82093266, 0.81290633,\n",
       "        0.        , 0.        , 0.        , 0.03965005, 0.03904808,\n",
       "        0.03740268, 0.2775905 , 0.27871418, 0.28072076]),\n",
       " 'split2_train_score': array([0.83152065, 0.82501906, 0.81526669, 0.04651443, 0.04811976,\n",
       "        0.04828029, 0.06088213, 0.05955773, 0.06104266, 0.27250472,\n",
       "        0.26696633, 0.27033752, 0.83039692, 0.82345387, 0.81558775,\n",
       "        0.        , 0.        , 0.        , 0.04820002, 0.0434643 ,\n",
       "        0.04715656, 0.27720031, 0.27908657, 0.27868523]),\n",
       " 'split3_train_score': array([0.82794879, 0.82076494, 0.81245736, 0.04832042, 0.04755789,\n",
       "        0.04872176, 0.0592768 , 0.059638  , 0.06104266, 0.26202994,\n",
       "        0.26483927, 0.265361  , 0.82742706, 0.81972148, 0.81225669,\n",
       "        0.        , 0.        , 0.        , 0.05161135, 0.04944415,\n",
       "        0.04960469, 0.27884577, 0.27619697, 0.27992937]),\n",
       " 'split4_train_score': array([0.82879846, 0.82277871, 0.81491291, 0.04731519, 0.04655269,\n",
       "        0.0471948 , 0.0614014 , 0.06180271, 0.06180271, 0.26803917,\n",
       "        0.26876154, 0.26852075, 0.8277149 , 0.82249779, 0.81415041,\n",
       "        0.        , 0.        , 0.        , 0.03800466, 0.04029216,\n",
       "        0.04189742, 0.27602536, 0.27871418, 0.27554378]),\n",
       " 'mean_train_score': array([0.82867533, 0.82216587, 0.81357756, 0.04591937, 0.04759688,\n",
       "        0.04817479, 0.06160302, 0.06162709, 0.0617154 , 0.26838859,\n",
       "        0.26748962, 0.26864544, 0.82804926, 0.82173243, 0.81347321,\n",
       "        0.        , 0.        , 0.        , 0.04270888, 0.04138448,\n",
       "        0.04320649, 0.27767522, 0.27795614, 0.27895946]),\n",
       " 'std_train_score': array([0.0017508 , 0.00170097, 0.00124779, 0.00396512, 0.0009819 ,\n",
       "        0.00084692, 0.00157947, 0.00203505, 0.00152486, 0.00360005,\n",
       "        0.00147243, 0.00178982, 0.00118815, 0.00129133, 0.00124482,\n",
       "        0.        , 0.        , 0.        , 0.00608041, 0.00491874,\n",
       "        0.00452561, 0.00103965, 0.00112332, 0.00182779])}"
      ]
     },
     "execution_count": 25,
     "metadata": {},
     "output_type": "execute_result"
    }
   ],
   "source": [
    "grid.cv_results_"
   ]
  },
  {
   "cell_type": "code",
   "execution_count": 18,
   "id": "bb0abe35",
   "metadata": {},
   "outputs": [
    {
     "name": "stdout",
     "output_type": "stream",
     "text": [
      "TRAINING SCORE: 0.7948759110026647\n",
      "ACCURACY: 0.9881145308982509\n",
      "PRECISION: 0.46793193717277487\n",
      "RECALL: 0.20453895298941546\n",
      "F1 SCORE: 0.2846526441510185\n",
      "AUC: 0.883979405845898\n"
     ]
    },
    {
     "data": {
      "text/plain": [
       "Text(0, 0.5, 'tpr')"
      ]
     },
     "execution_count": 18,
     "metadata": {},
     "output_type": "execute_result"
    },
    {
     "data": {
      "image/png": "[encoded data removed]",
      "text/plain": [
       "<Figure size 432x288 with 1 Axes>"
      ]
     },
     "metadata": {
      "needs_background": "light"
     },
     "output_type": "display_data"
    }
   ],
   "source": [
    "predictions = grid.predict(X_test_final)\n",
    "probabilities = grid.predict_proba(X_test_final)\n",
    "\n",
    "print(\"TRAINING SCORE: \" + str(grid.score(X_train_final,y_train)))\n",
    "print(\"ACCURACY: \" + str(accuracy_score(y_test, predictions)))\n",
    "print(\"PRECISION: \" + str(precision_score(y_test, predictions)))\n",
    "print(\"RECALL: \" + str(recall_score(y_test, predictions)))\n",
    "print(\"F1 SCORE: \" + str(f1_score(y_test, predictions)))\n",
    "print(\"AUC: \" + str(roc_auc_score(y_test,probabilities[:, 1])))\n",
    "\n",
    "tpr, fpr, thresolds = roc_curve(y_test, probabilities[:, 1])\n",
    "plt.plot(tpr, fpr)\n",
    "plt.xlabel('fpr')\n",
    "plt.ylabel('tpr')"
   ]
  },
  {
   "cell_type": "code",
   "execution_count": 20,
   "id": "a82f7562",
   "metadata": {},
   "outputs": [
    {
     "name": "stdout",
     "output_type": "stream",
     "text": [
      "              precision    recall  f1-score   support\n",
      "\n",
      "           0       0.99      1.00      0.99    896587\n",
      "           1       0.47      0.20      0.28     10487\n",
      "\n",
      "    accuracy                           0.99    907074\n",
      "   macro avg       0.73      0.60      0.64    907074\n",
      "weighted avg       0.98      0.99      0.99    907074\n",
      "\n"
     ]
    },
    {
     "data": {
      "text/plain": [
       "array([[894148,   2439],\n",
       "       [  8342,   2145]])"
      ]
     },
     "execution_count": 20,
     "metadata": {},
     "output_type": "execute_result"
    }
   ],
   "source": [
    "print(classification_report(y_test,grid.predict(X_test_final)))\n",
    "clrf_cm = confusion_matrix(y_test,grid.predict(X_test_final))\n",
    "clrf_cm"
   ]
  },
  {
   "cell_type": "code",
   "execution_count": 23,
   "id": "89e51b70",
   "metadata": {},
   "outputs": [
    {
     "name": "stdout",
     "output_type": "stream",
     "text": [
      "f1=0.285 auc=0.313\n"
     ]
    },
    {
     "data": {
      "image/png": "[encoded data removed]",
      "text/plain": [
       "<Figure size 432x288 with 1 Axes>"
      ]
     },
     "metadata": {
      "needs_background": "light"
     },
     "output_type": "display_data"
    }
   ],
   "source": [
    "from sklearn.metrics import precision_recall_curve\n",
    "from sklearn.metrics import f1_score\n",
    "from sklearn.metrics import auc\n",
    "\n",
    "precision, recall, _ = precision_recall_curve(y_test, probabilities[:, 1])\n",
    "f1, auc = f1_score(y_test, predictions), auc(recall, precision)\n",
    "# summarize scores\n",
    "print('f1=%.3f auc=%.3f' % (f1, auc))\n",
    "# plot the precision-recall curves\n",
    "no_skill = len(y_test[y_test==1]) / len(y_test)\n",
    "plt.plot([0, 1], [no_skill, no_skill], linestyle='--', label='No Skill')\n",
    "plt.plot(recall, precision, marker='.', label='Classifier')\n",
    "# axis labels\n",
    "plt.xlabel('Recall')\n",
    "plt.ylabel('Precision')\n",
    "# show the legend\n",
    "plt.legend()\n",
    "# show the plot\n",
    "plt.show()"
   ]
  },
  {
   "cell_type": "code",
   "execution_count": 24,
   "id": "f7cf804e",
   "metadata": {},
   "outputs": [],
   "source": [
    "pickle.dump(grid,open(\"CLF_gs_optimization.pickle\",\"wb\"))"
   ]
  },
  {
   "cell_type": "code",
   "execution_count": 13,
   "id": "herbal-functionality",
   "metadata": {},
   "outputs": [],
   "source": [
    "gs_fulldata = pickle.load(open(\"CLF_gs_optimization.pickle\",\"rb\"))"
   ]
  },
  {
   "cell_type": "code",
   "execution_count": 14,
   "id": "liquid-conservation",
   "metadata": {},
   "outputs": [
    {
     "data": {
      "text/plain": [
       "{'mean_fit_time': array([ 543.56379547, 1055.37208667, 2266.2408637 ,  200.07925119,\n",
       "         462.00323272,  750.95592594,  397.31907949,  760.90418692,\n",
       "        1704.13782992,  604.02193098, 1366.45513   , 2078.54978843,\n",
       "         543.16384935,  999.16289725, 2320.17471099,  207.39015684,\n",
       "         361.16302905,  810.20752878,  299.75972052,  572.77666922,\n",
       "        1208.19327083,  492.11414456,  860.97447057, 1197.52220354]),\n",
       " 'std_fit_time': array([ 87.00893988, 138.40443139, 106.31820703,  33.2102511 ,\n",
       "        123.03587099, 179.34529147, 107.72686242,  96.77821716,\n",
       "        407.95705515, 169.70065972, 324.17900658, 281.48448928,\n",
       "        159.47925318, 248.86236537, 417.05593571,  51.10029017,\n",
       "          7.16557816, 239.85869315,  13.74574484,  50.05408383,\n",
       "        102.60117151, 111.38878633, 137.06240845, 155.21915327]),\n",
       " 'mean_score_time': array([10.65772085, 20.0932528 , 38.56351047,  2.85144596,  5.39562831,\n",
       "        10.08056207,  4.72816067,  8.33025861, 16.94066648,  8.27259293,\n",
       "        13.65501566, 31.15542274,  8.40563669, 17.27704668, 31.98038273,\n",
       "         2.89521604,  5.48119006, 10.87344575,  4.33961101,  8.22266068,\n",
       "        15.283816  ,  7.76310201, 11.34751883, 20.17494726]),\n",
       " 'std_score_time': array([1.34991224, 2.83937876, 7.4374226 , 0.04753715, 0.04400018,\n",
       "        1.36970842, 0.40383441, 0.62871453, 1.78212587, 0.60482933,\n",
       "        2.18604028, 0.97068951, 0.92025708, 0.55365183, 5.12326757,\n",
       "        0.07380228, 0.25086771, 1.53320967, 0.41949516, 1.20178473,\n",
       "        2.51650376, 0.30199494, 2.06645101, 0.2289675 ]),\n",
       " 'param_criterion': masked_array(data=['gini', 'gini', 'gini', 'gini', 'gini', 'gini', 'gini',\n",
       "                    'gini', 'gini', 'gini', 'gini', 'gini', 'entropy',\n",
       "                    'entropy', 'entropy', 'entropy', 'entropy', 'entropy',\n",
       "                    'entropy', 'entropy', 'entropy', 'entropy', 'entropy',\n",
       "                    'entropy'],\n",
       "              mask=[False, False, False, False, False, False, False, False,\n",
       "                    False, False, False, False, False, False, False, False,\n",
       "                    False, False, False, False, False, False, False, False],\n",
       "        fill_value='?',\n",
       "             dtype=object),\n",
       " 'param_max_depth': masked_array(data=[None, None, None, 5, 5, 5, 10, 10, 10, 20, 20, 20,\n",
       "                    None, None, None, 5, 5, 5, 10, 10, 10, 20, 20, 20],\n",
       "              mask=[False, False, False, False, False, False, False, False,\n",
       "                    False, False, False, False, False, False, False, False,\n",
       "                    False, False, False, False, False, False, False, False],\n",
       "        fill_value='?',\n",
       "             dtype=object),\n",
       " 'param_n_estimators': masked_array(data=[50, 100, 200, 50, 100, 200, 50, 100, 200, 50, 100, 200,\n",
       "                    50, 100, 200, 50, 100, 200, 50, 100, 200, 50, 100, 200],\n",
       "              mask=[False, False, False, False, False, False, False, False,\n",
       "                    False, False, False, False, False, False, False, False,\n",
       "                    False, False, False, False, False, False, False, False],\n",
       "        fill_value='?',\n",
       "             dtype=object),\n",
       " 'params': [{'criterion': 'gini', 'max_depth': None, 'n_estimators': 50},\n",
       "  {'criterion': 'gini', 'max_depth': None, 'n_estimators': 100},\n",
       "  {'criterion': 'gini', 'max_depth': None, 'n_estimators': 200},\n",
       "  {'criterion': 'gini', 'max_depth': 5, 'n_estimators': 50},\n",
       "  {'criterion': 'gini', 'max_depth': 5, 'n_estimators': 100},\n",
       "  {'criterion': 'gini', 'max_depth': 5, 'n_estimators': 200},\n",
       "  {'criterion': 'gini', 'max_depth': 10, 'n_estimators': 50},\n",
       "  {'criterion': 'gini', 'max_depth': 10, 'n_estimators': 100},\n",
       "  {'criterion': 'gini', 'max_depth': 10, 'n_estimators': 200},\n",
       "  {'criterion': 'gini', 'max_depth': 20, 'n_estimators': 50},\n",
       "  {'criterion': 'gini', 'max_depth': 20, 'n_estimators': 100},\n",
       "  {'criterion': 'gini', 'max_depth': 20, 'n_estimators': 200},\n",
       "  {'criterion': 'entropy', 'max_depth': None, 'n_estimators': 50},\n",
       "  {'criterion': 'entropy', 'max_depth': None, 'n_estimators': 100},\n",
       "  {'criterion': 'entropy', 'max_depth': None, 'n_estimators': 200},\n",
       "  {'criterion': 'entropy', 'max_depth': 5, 'n_estimators': 50},\n",
       "  {'criterion': 'entropy', 'max_depth': 5, 'n_estimators': 100},\n",
       "  {'criterion': 'entropy', 'max_depth': 5, 'n_estimators': 200},\n",
       "  {'criterion': 'entropy', 'max_depth': 10, 'n_estimators': 50},\n",
       "  {'criterion': 'entropy', 'max_depth': 10, 'n_estimators': 100},\n",
       "  {'criterion': 'entropy', 'max_depth': 10, 'n_estimators': 200},\n",
       "  {'criterion': 'entropy', 'max_depth': 20, 'n_estimators': 50},\n",
       "  {'criterion': 'entropy', 'max_depth': 20, 'n_estimators': 100},\n",
       "  {'criterion': 'entropy', 'max_depth': 20, 'n_estimators': 200}],\n",
       " 'split0_test_score': array([0.18317547, 0.18558356, 0.18590464, 0.04141917, 0.04816182,\n",
       "        0.04896452, 0.05731257, 0.05891796, 0.05859689, 0.12473912,\n",
       "        0.12345481, 0.12522074, 0.21432012, 0.21399904, 0.21159095,\n",
       "        0.        , 0.        , 0.        , 0.02953925, 0.02889709,\n",
       "        0.03531867, 0.16856638, 0.16519506, 0.16407128]),\n",
       " 'split1_test_score': array([0.19585808, 0.19377107, 0.19264729, 0.04719859, 0.04687751,\n",
       "        0.04639589, 0.05683095, 0.05586772, 0.05490448, 0.1266656 ,\n",
       "        0.12827099, 0.12971585, 0.22106277, 0.21737036, 0.21656767,\n",
       "        0.        , 0.        , 0.        , 0.03676353, 0.03515813,\n",
       "        0.03162626, 0.16310804, 0.16567667, 0.16776369]),\n",
       " 'split2_test_score': array([0.19213483, 0.19036918, 0.19036918, 0.04606742, 0.04751204,\n",
       "        0.04735152, 0.05890851, 0.05698234, 0.05922953, 0.13354735,\n",
       "        0.12664526, 0.13210273, 0.2223114 , 0.21492777, 0.21637239,\n",
       "        0.        , 0.        , 0.        , 0.04606742, 0.03964687,\n",
       "        0.04333868, 0.1600321 , 0.16741573, 0.16548957]),\n",
       " 'split3_test_score': array([0.18860353, 0.18924559, 0.19020867, 0.04558587, 0.04526485,\n",
       "        0.04670947, 0.05329053, 0.05441413, 0.05441413, 0.12487961,\n",
       "        0.12760835, 0.1282504 , 0.21027287, 0.2094703 , 0.20882825,\n",
       "        0.        , 0.        , 0.        , 0.04879615, 0.04751204,\n",
       "        0.04767255, 0.17110754, 0.16452648, 0.16789727]),\n",
       " 'split4_test_score': array([0.19617916, 0.20292182, 0.19987157, 0.04816182, 0.04832236,\n",
       "        0.04880398, 0.05956012, 0.05956012, 0.05972066, 0.13067908,\n",
       "        0.13372933, 0.13132124, 0.22347086, 0.21977846, 0.22298924,\n",
       "        0.        , 0.        , 0.        , 0.03323166, 0.03740568,\n",
       "        0.03820838, 0.1682453 , 0.16936908, 0.16888746]),\n",
       " 'mean_test_score': array([0.19119022, 0.19237824, 0.19180027, 0.04568657, 0.04722772,\n",
       "        0.04764508, 0.05718054, 0.05714845, 0.05737314, 0.12810215,\n",
       "        0.12794175, 0.12932219, 0.2182876 , 0.21510919, 0.2152697 ,\n",
       "        0.        , 0.        , 0.        , 0.0388796 , 0.03772396,\n",
       "        0.03923291, 0.16621188, 0.1664366 , 0.16682185]),\n",
       " 'std_test_score': array([0.00486822, 0.00588429, 0.004587  , 0.00231426, 0.00110699,\n",
       "        0.00105887, 0.00218724, 0.0019022 , 0.00224965, 0.00346552,\n",
       "        0.00333254, 0.00244349, 0.00511342, 0.00346345, 0.00484804,\n",
       "        0.        , 0.        , 0.        , 0.00739759, 0.00606799,\n",
       "        0.00569766, 0.00403657, 0.00175075, 0.00176923]),\n",
       " 'rank_test_score': array([ 6,  4,  5, 18, 17, 16, 14, 15, 13, 11, 12, 10,  1,  3,  2, 22, 22,\n",
       "        22, 20, 21, 19,  9,  8,  7], dtype=int32),\n",
       " 'split0_train_score': array([0.82899912, 0.82209648, 0.81282607, 0.03820531, 0.04659282,\n",
       "        0.04727506, 0.06400995, 0.06513364, 0.0645718 , 0.27108917,\n",
       "        0.26868127, 0.27016614, 0.82755438, 0.82205634, 0.81246488,\n",
       "        0.        , 0.        , 0.        , 0.03607834, 0.03467373,\n",
       "        0.03997111, 0.27871418, 0.27706879, 0.27991813]),\n",
       " 'split1_train_score': array([0.82610964, 0.82017016, 0.81242475, 0.04924151, 0.04916125,\n",
       "        0.04940204, 0.06244482, 0.06200337, 0.06011718, 0.26827996,\n",
       "        0.26819969, 0.2688418 , 0.82715306, 0.82093266, 0.81290633,\n",
       "        0.        , 0.        , 0.        , 0.03965005, 0.03904808,\n",
       "        0.03740268, 0.2775905 , 0.27871418, 0.28072076]),\n",
       " 'split2_train_score': array([0.83152065, 0.82501906, 0.81526669, 0.04651443, 0.04811976,\n",
       "        0.04828029, 0.06088213, 0.05955773, 0.06104266, 0.27250472,\n",
       "        0.26696633, 0.27033752, 0.83039692, 0.82345387, 0.81558775,\n",
       "        0.        , 0.        , 0.        , 0.04820002, 0.0434643 ,\n",
       "        0.04715656, 0.27720031, 0.27908657, 0.27868523]),\n",
       " 'split3_train_score': array([0.82794879, 0.82076494, 0.81245736, 0.04832042, 0.04755789,\n",
       "        0.04872176, 0.0592768 , 0.059638  , 0.06104266, 0.26202994,\n",
       "        0.26483927, 0.265361  , 0.82742706, 0.81972148, 0.81225669,\n",
       "        0.        , 0.        , 0.        , 0.05161135, 0.04944415,\n",
       "        0.04960469, 0.27884577, 0.27619697, 0.27992937]),\n",
       " 'split4_train_score': array([0.82879846, 0.82277871, 0.81491291, 0.04731519, 0.04655269,\n",
       "        0.0471948 , 0.0614014 , 0.06180271, 0.06180271, 0.26803917,\n",
       "        0.26876154, 0.26852075, 0.8277149 , 0.82249779, 0.81415041,\n",
       "        0.        , 0.        , 0.        , 0.03800466, 0.04029216,\n",
       "        0.04189742, 0.27602536, 0.27871418, 0.27554378]),\n",
       " 'mean_train_score': array([0.82867533, 0.82216587, 0.81357756, 0.04591937, 0.04759688,\n",
       "        0.04817479, 0.06160302, 0.06162709, 0.0617154 , 0.26838859,\n",
       "        0.26748962, 0.26864544, 0.82804926, 0.82173243, 0.81347321,\n",
       "        0.        , 0.        , 0.        , 0.04270888, 0.04138448,\n",
       "        0.04320649, 0.27767522, 0.27795614, 0.27895946]),\n",
       " 'std_train_score': array([0.0017508 , 0.00170097, 0.00124779, 0.00396512, 0.0009819 ,\n",
       "        0.00084692, 0.00157947, 0.00203505, 0.00152486, 0.00360005,\n",
       "        0.00147243, 0.00178982, 0.00118815, 0.00129133, 0.00124482,\n",
       "        0.        , 0.        , 0.        , 0.00608041, 0.00491874,\n",
       "        0.00452561, 0.00103965, 0.00112332, 0.00182779])}"
      ]
     },
     "execution_count": 14,
     "metadata": {},
     "output_type": "execute_result"
    }
   ],
   "source": [
    "gs_fulldata.cv_results_"
   ]
  },
  {
   "cell_type": "code",
   "execution_count": 15,
   "id": "electoral-tiger",
   "metadata": {},
   "outputs": [
    {
     "data": {
      "text/html": [
       "<div>\n",
       "<style scoped>\n",
       "    .dataframe tbody tr th:only-of-type {\n",
       "        vertical-align: middle;\n",
       "    }\n",
       "\n",
       "    .dataframe tbody tr th {\n",
       "        vertical-align: top;\n",
       "    }\n",
       "\n",
       "    .dataframe thead th {\n",
       "        text-align: right;\n",
       "    }\n",
       "</style>\n",
       "<table border=\"1\" class=\"dataframe\">\n",
       "  <thead>\n",
       "    <tr style=\"text-align: right;\">\n",
       "      <th></th>\n",
       "      <th>criterion</th>\n",
       "      <th>max_depth</th>\n",
       "      <th>n_estimators</th>\n",
       "      <th>Recall</th>\n",
       "    </tr>\n",
       "  </thead>\n",
       "  <tbody>\n",
       "    <tr>\n",
       "      <th>0</th>\n",
       "      <td>gini</td>\n",
       "      <td>NaN</td>\n",
       "      <td>50</td>\n",
       "      <td>0.191190</td>\n",
       "    </tr>\n",
       "    <tr>\n",
       "      <th>1</th>\n",
       "      <td>gini</td>\n",
       "      <td>NaN</td>\n",
       "      <td>100</td>\n",
       "      <td>0.192378</td>\n",
       "    </tr>\n",
       "    <tr>\n",
       "      <th>2</th>\n",
       "      <td>gini</td>\n",
       "      <td>NaN</td>\n",
       "      <td>200</td>\n",
       "      <td>0.191800</td>\n",
       "    </tr>\n",
       "    <tr>\n",
       "      <th>3</th>\n",
       "      <td>gini</td>\n",
       "      <td>5.0</td>\n",
       "      <td>50</td>\n",
       "      <td>0.045687</td>\n",
       "    </tr>\n",
       "    <tr>\n",
       "      <th>4</th>\n",
       "      <td>gini</td>\n",
       "      <td>5.0</td>\n",
       "      <td>100</td>\n",
       "      <td>0.047228</td>\n",
       "    </tr>\n",
       "    <tr>\n",
       "      <th>5</th>\n",
       "      <td>gini</td>\n",
       "      <td>5.0</td>\n",
       "      <td>200</td>\n",
       "      <td>0.047645</td>\n",
       "    </tr>\n",
       "    <tr>\n",
       "      <th>6</th>\n",
       "      <td>gini</td>\n",
       "      <td>10.0</td>\n",
       "      <td>50</td>\n",
       "      <td>0.057181</td>\n",
       "    </tr>\n",
       "    <tr>\n",
       "      <th>7</th>\n",
       "      <td>gini</td>\n",
       "      <td>10.0</td>\n",
       "      <td>100</td>\n",
       "      <td>0.057148</td>\n",
       "    </tr>\n",
       "    <tr>\n",
       "      <th>8</th>\n",
       "      <td>gini</td>\n",
       "      <td>10.0</td>\n",
       "      <td>200</td>\n",
       "      <td>0.057373</td>\n",
       "    </tr>\n",
       "    <tr>\n",
       "      <th>9</th>\n",
       "      <td>gini</td>\n",
       "      <td>20.0</td>\n",
       "      <td>50</td>\n",
       "      <td>0.128102</td>\n",
       "    </tr>\n",
       "    <tr>\n",
       "      <th>10</th>\n",
       "      <td>gini</td>\n",
       "      <td>20.0</td>\n",
       "      <td>100</td>\n",
       "      <td>0.127942</td>\n",
       "    </tr>\n",
       "    <tr>\n",
       "      <th>11</th>\n",
       "      <td>gini</td>\n",
       "      <td>20.0</td>\n",
       "      <td>200</td>\n",
       "      <td>0.129322</td>\n",
       "    </tr>\n",
       "    <tr>\n",
       "      <th>12</th>\n",
       "      <td>entropy</td>\n",
       "      <td>NaN</td>\n",
       "      <td>50</td>\n",
       "      <td>0.218288</td>\n",
       "    </tr>\n",
       "    <tr>\n",
       "      <th>13</th>\n",
       "      <td>entropy</td>\n",
       "      <td>NaN</td>\n",
       "      <td>100</td>\n",
       "      <td>0.215109</td>\n",
       "    </tr>\n",
       "    <tr>\n",
       "      <th>14</th>\n",
       "      <td>entropy</td>\n",
       "      <td>NaN</td>\n",
       "      <td>200</td>\n",
       "      <td>0.215270</td>\n",
       "    </tr>\n",
       "    <tr>\n",
       "      <th>15</th>\n",
       "      <td>entropy</td>\n",
       "      <td>5.0</td>\n",
       "      <td>50</td>\n",
       "      <td>0.000000</td>\n",
       "    </tr>\n",
       "    <tr>\n",
       "      <th>16</th>\n",
       "      <td>entropy</td>\n",
       "      <td>5.0</td>\n",
       "      <td>100</td>\n",
       "      <td>0.000000</td>\n",
       "    </tr>\n",
       "    <tr>\n",
       "      <th>17</th>\n",
       "      <td>entropy</td>\n",
       "      <td>5.0</td>\n",
       "      <td>200</td>\n",
       "      <td>0.000000</td>\n",
       "    </tr>\n",
       "    <tr>\n",
       "      <th>18</th>\n",
       "      <td>entropy</td>\n",
       "      <td>10.0</td>\n",
       "      <td>50</td>\n",
       "      <td>0.038880</td>\n",
       "    </tr>\n",
       "    <tr>\n",
       "      <th>19</th>\n",
       "      <td>entropy</td>\n",
       "      <td>10.0</td>\n",
       "      <td>100</td>\n",
       "      <td>0.037724</td>\n",
       "    </tr>\n",
       "    <tr>\n",
       "      <th>20</th>\n",
       "      <td>entropy</td>\n",
       "      <td>10.0</td>\n",
       "      <td>200</td>\n",
       "      <td>0.039233</td>\n",
       "    </tr>\n",
       "    <tr>\n",
       "      <th>21</th>\n",
       "      <td>entropy</td>\n",
       "      <td>20.0</td>\n",
       "      <td>50</td>\n",
       "      <td>0.166212</td>\n",
       "    </tr>\n",
       "    <tr>\n",
       "      <th>22</th>\n",
       "      <td>entropy</td>\n",
       "      <td>20.0</td>\n",
       "      <td>100</td>\n",
       "      <td>0.166437</td>\n",
       "    </tr>\n",
       "    <tr>\n",
       "      <th>23</th>\n",
       "      <td>entropy</td>\n",
       "      <td>20.0</td>\n",
       "      <td>200</td>\n",
       "      <td>0.166822</td>\n",
       "    </tr>\n",
       "  </tbody>\n",
       "</table>\n",
       "</div>"
      ],
      "text/plain": [
       "   criterion  max_depth  n_estimators    Recall\n",
       "0       gini        NaN            50  0.191190\n",
       "1       gini        NaN           100  0.192378\n",
       "2       gini        NaN           200  0.191800\n",
       "3       gini        5.0            50  0.045687\n",
       "4       gini        5.0           100  0.047228\n",
       "5       gini        5.0           200  0.047645\n",
       "6       gini       10.0            50  0.057181\n",
       "7       gini       10.0           100  0.057148\n",
       "8       gini       10.0           200  0.057373\n",
       "9       gini       20.0            50  0.128102\n",
       "10      gini       20.0           100  0.127942\n",
       "11      gini       20.0           200  0.129322\n",
       "12   entropy        NaN            50  0.218288\n",
       "13   entropy        NaN           100  0.215109\n",
       "14   entropy        NaN           200  0.215270\n",
       "15   entropy        5.0            50  0.000000\n",
       "16   entropy        5.0           100  0.000000\n",
       "17   entropy        5.0           200  0.000000\n",
       "18   entropy       10.0            50  0.038880\n",
       "19   entropy       10.0           100  0.037724\n",
       "20   entropy       10.0           200  0.039233\n",
       "21   entropy       20.0            50  0.166212\n",
       "22   entropy       20.0           100  0.166437\n",
       "23   entropy       20.0           200  0.166822"
      ]
     },
     "execution_count": 15,
     "metadata": {},
     "output_type": "execute_result"
    }
   ],
   "source": [
    "pd.concat([pd.DataFrame(gs_fulldata.cv_results_[\"params\"]),pd.DataFrame(gs_fulldata.cv_results_[\"mean_test_score\"], columns=[\"Recall\"])],axis=1)"
   ]
  },
  {
   "cell_type": "code",
   "execution_count": null,
   "id": "lonely-magic",
   "metadata": {},
   "outputs": [],
   "source": []
  },
  {
   "cell_type": "markdown",
   "id": "d8cb2d69",
   "metadata": {
    "id": "linear-manual"
   },
   "source": [
    "### Unimbalance"
   ]
  },
  {
   "cell_type": "code",
   "execution_count": null,
   "id": "f37a0442",
   "metadata": {
    "id": "defined-pickup",
    "outputId": "c335ee8b-479b-4e7e-b6e9-fcab3811a2e3"
   },
   "outputs": [
    {
     "name": "stdout",
     "output_type": "stream",
     "text": [
      "Counter({0: 538014, 1: 269007})\n",
      "CPU times: user 44.2 s, sys: 1min 17s, total: 2min 2s\n",
      "Wall time: 59.6 s\n"
     ]
    }
   ],
   "source": [
    "%%time\n",
    "\n",
    "from imblearn.pipeline import Pipeline\n",
    "\n",
    "over = SMOTE(sampling_strategy=0.1, k_neighbors=4)\n",
    "under = RandomUnderSampler(sampling_strategy=0.5)\n",
    "steps = [('over', over), ('under', under)]\n",
    "pipeline = Pipeline(steps=steps)\n",
    "X_train_featsel_resample, y_train_resample=pipeline.fit_resample(X_train_final,y_train)\n",
    "counter=Counter(y_train_resample)\n",
    "print(counter)"
   ]
  },
  {
   "cell_type": "markdown",
   "id": "648dc57f",
   "metadata": {
    "id": "statistical-artist"
   },
   "source": [
    "### Classifier"
   ]
  },
  {
   "cell_type": "code",
   "execution_count": null,
   "id": "929cdd6d",
   "metadata": {
    "id": "exact-office",
    "outputId": "59938d63-7cf0-4f6d-d4da-66e355fda9c4"
   },
   "outputs": [
    {
     "name": "stdout",
     "output_type": "stream",
     "text": [
      "CPU times: user 3h 4min 52s, sys: 6.07 s, total: 3h 4min 58s\n",
      "Wall time: 3h 5min 4s\n"
     ]
    },
    {
     "data": {
      "text/plain": [
       "GridSearchCV(estimator=RandomForestClassifier(),\n",
       "             param_grid={'max_depth': [3, 10, 20],\n",
       "                         'n_estimators': [50, 100, 200]},\n",
       "             scoring='recall')"
      ]
     },
     "execution_count": 13,
     "metadata": {
      "tags": []
     },
     "output_type": "execute_result"
    }
   ],
   "source": [
    "%%time\n",
    "\n",
    "params = {\n",
    "    'max_depth': [3,10,20],\n",
    "    'n_estimators': [50, 100, 200]\n",
    "}\n",
    "\n",
    "gs=GridSearchCV(RandomForestClassifier(), param_grid=params, scoring=\"recall\")\n",
    "gs.fit(X_train_featsel_resample,y_train_resample)"
   ]
  },
  {
   "cell_type": "code",
   "execution_count": null,
   "id": "10c03ae4",
   "metadata": {
    "id": "focused-bangladesh"
   },
   "outputs": [],
   "source": [
    "pd.DataFrame(gs.cv_results_)"
   ]
  },
  {
   "cell_type": "code",
   "execution_count": null,
   "id": "e3a2d206",
   "metadata": {
    "id": "educated-mouse",
    "outputId": "f939d48e-12ea-4ed0-8e47-777142072fad"
   },
   "outputs": [
    {
     "data": {
      "text/plain": [
       "RandomForestClassifier(max_depth=20, n_estimators=200)"
      ]
     },
     "execution_count": 14,
     "metadata": {
      "tags": []
     },
     "output_type": "execute_result"
    }
   ],
   "source": [
    "gs.best_estimator_"
   ]
  },
  {
   "cell_type": "code",
   "execution_count": null,
   "id": "e16bc835",
   "metadata": {
    "id": "adjacent-cookie",
    "outputId": "5ca0167e-4a3e-453d-c96a-3dbb8430d911"
   },
   "outputs": [
    {
     "data": {
      "text/plain": [
       "0.9349502837696753"
      ]
     },
     "execution_count": 15,
     "metadata": {
      "tags": []
     },
     "output_type": "execute_result"
    }
   ],
   "source": [
    "gs.best_score_"
   ]
  },
  {
   "cell_type": "code",
   "execution_count": null,
   "id": "2e9564c9",
   "metadata": {
    "id": "fuzzy-franchise",
    "outputId": "1e60d163-7d3e-42b2-9e2b-f8a0441d23f1"
   },
   "outputs": [
    {
     "data": {
      "text/plain": [
       "{'max_depth': 20, 'n_estimators': 200}"
      ]
     },
     "execution_count": 16,
     "metadata": {
      "tags": []
     },
     "output_type": "execute_result"
    }
   ],
   "source": [
    "gs.best_params_"
   ]
  },
  {
   "cell_type": "code",
   "execution_count": 17,
   "id": "7aa92af1",
   "metadata": {
    "id": "excess-spanking",
    "outputId": "10a8cbb7-2558-4e32-9dd5-bc74670bde4f"
   },
   "outputs": [
    {
     "ename": "NameError",
     "evalue": "name 'gs' is not defined",
     "output_type": "error",
     "traceback": [
      "\u001b[0;31m---------------------------------------------------------------------------\u001b[0m",
      "\u001b[0;31mNameError\u001b[0m                                 Traceback (most recent call last)",
      "\u001b[0;32m<ipython-input-17-6d9fb78f1ec3>\u001b[0m in \u001b[0;36m<module>\u001b[0;34m\u001b[0m\n\u001b[0;32m----> 1\u001b[0;31m \u001b[0mpredictions\u001b[0m \u001b[0;34m=\u001b[0m \u001b[0mgs\u001b[0m\u001b[0;34m.\u001b[0m\u001b[0mpredict\u001b[0m\u001b[0;34m(\u001b[0m\u001b[0mX_test_final\u001b[0m\u001b[0;34m)\u001b[0m\u001b[0;34m\u001b[0m\u001b[0;34m\u001b[0m\u001b[0m\n\u001b[0m\u001b[1;32m      2\u001b[0m \u001b[0mprobabilities\u001b[0m \u001b[0;34m=\u001b[0m \u001b[0mgs\u001b[0m\u001b[0;34m.\u001b[0m\u001b[0mpredict_proba\u001b[0m\u001b[0;34m(\u001b[0m\u001b[0mX_test_final\u001b[0m\u001b[0;34m)\u001b[0m\u001b[0;34m\u001b[0m\u001b[0;34m\u001b[0m\u001b[0m\n\u001b[1;32m      3\u001b[0m \u001b[0;34m\u001b[0m\u001b[0m\n\u001b[1;32m      4\u001b[0m \u001b[0mprint\u001b[0m\u001b[0;34m(\u001b[0m\u001b[0;34m\"TRAINING SCORE: \"\u001b[0m \u001b[0;34m+\u001b[0m \u001b[0mstr\u001b[0m\u001b[0;34m(\u001b[0m\u001b[0mgs\u001b[0m\u001b[0;34m.\u001b[0m\u001b[0mscore\u001b[0m\u001b[0;34m(\u001b[0m\u001b[0mX_train_featsel_resample\u001b[0m\u001b[0;34m,\u001b[0m\u001b[0my_train_resample\u001b[0m\u001b[0;34m)\u001b[0m\u001b[0;34m)\u001b[0m\u001b[0;34m)\u001b[0m\u001b[0;34m\u001b[0m\u001b[0;34m\u001b[0m\u001b[0m\n\u001b[1;32m      5\u001b[0m \u001b[0mprint\u001b[0m\u001b[0;34m(\u001b[0m\u001b[0;34m\"ACCURACY: \"\u001b[0m \u001b[0;34m+\u001b[0m \u001b[0mstr\u001b[0m\u001b[0;34m(\u001b[0m\u001b[0maccuracy_score\u001b[0m\u001b[0;34m(\u001b[0m\u001b[0my_test\u001b[0m\u001b[0;34m,\u001b[0m \u001b[0mpredictions\u001b[0m\u001b[0;34m)\u001b[0m\u001b[0;34m)\u001b[0m\u001b[0;34m)\u001b[0m\u001b[0;34m\u001b[0m\u001b[0;34m\u001b[0m\u001b[0m\n",
      "\u001b[0;31mNameError\u001b[0m: name 'gs' is not defined"
     ]
    }
   ],
   "source": [
    "predictions = gs.predict(X_test_final)\n",
    "probabilities = gs.predict_proba(X_test_final)\n",
    "\n",
    "print(\"ACCURACY: \" + str(accuracy_score(y_test, predictions)))\n",
    "print(\"PRECISION: \" + str(precision_score(y_test, predictions)))\n",
    "print(\"RECALL: \" + str(recall_score(y_test, predictions)))\n",
    "print(\"F1 SCORE: \" + str(f1_score(y_test, predictions)))\n",
    "print(\"AUC: \" + str(roc_auc_score(y_test,probabilities[:, 1])))\n",
    "\n",
    "tpr, fpr, thresolds = roc_curve(y_test, probabilities[:, 1])\n",
    "plt.plot(tpr, fpr)\n",
    "plt.xlabel('fpr')\n",
    "plt.ylabel('tpr')"
   ]
  },
  {
   "cell_type": "code",
   "execution_count": null,
   "id": "2b4ae60e",
   "metadata": {
    "id": "another-simon",
    "outputId": "fca83d30-b72c-4e50-d534-b749241d0911"
   },
   "outputs": [
    {
     "name": "stdout",
     "output_type": "stream",
     "text": [
      "              precision    recall  f1-score   support\n",
      "\n",
      "           0       0.99      0.97      0.98    896587\n",
      "           1       0.19      0.51      0.28     10487\n",
      "\n",
      "    accuracy                           0.97    907074\n",
      "   macro avg       0.59      0.74      0.63    907074\n",
      "weighted avg       0.98      0.97      0.98    907074\n",
      "\n"
     ]
    },
    {
     "data": {
      "text/plain": [
       "array([[874043,  22544],\n",
       "       [  5091,   5396]])"
      ]
     },
     "execution_count": 19,
     "metadata": {
      "tags": []
     },
     "output_type": "execute_result"
    }
   ],
   "source": [
    "print(classification_report(y_test,gs.predict(X_test_final)))\n",
    "clrf_cm = confusion_matrix(y_test,gs.predict(X_test_final))\n",
    "clrf_cm"
   ]
  },
  {
   "cell_type": "code",
   "execution_count": null,
   "id": "72931d9d",
   "metadata": {
    "id": "thermal-fishing",
    "outputId": "61e99df4-a730-4538-e820-6a4a0240931b"
   },
   "outputs": [
    {
     "name": "stdout",
     "output_type": "stream",
     "text": [
      "TRAINING SCORE: 0.9761009936544403\n"
     ]
    }
   ],
   "source": [
    "print(\"TRAINING SCORE: \" + str(gs.score(X_train_featsel_resample,y_train_resample)))"
   ]
  },
  {
   "cell_type": "code",
   "execution_count": null,
   "id": "1f5988ed",
   "metadata": {
    "id": "swiss-immunology"
   },
   "outputs": [],
   "source": []
  }
 ],
 "metadata": {
  "colab": {
   "name": "CLASSIFICATION_OPTIMIZATION_Random-Forest-with-fulldata-no-carrito-pedido.ipynb",
   "provenance": []
  },
  "environment": {
   "name": "common-cpu.m65",
   "type": "gcloud",
   "uri": "gcr.io/deeplearning-platform-release/base-cpu:m65"
  },
  "kernelspec": {
   "display_name": "Python 3",
   "language": "python",
   "name": "python3"
  },
  "language_info": {
   "codemirror_mode": {
    "name": "ipython",
    "version": 3
   },
   "file_extension": ".py",
   "mimetype": "text/x-python",
   "name": "python",
   "nbconvert_exporter": "python",
   "pygments_lexer": "ipython3",
   "version": "3.9.1"
  },
  "toc": {
   "base_numbering": 1,
   "nav_menu": {},
   "number_sections": true,
   "sideBar": true,
   "skip_h1_title": false,
   "title_cell": "Table of Contents",
   "title_sidebar": "Contents",
   "toc_cell": true,
   "toc_position": {
    "height": "calc(100% - 180px)",
    "left": "10px",
    "top": "150px",
    "width": "352px"
   },
   "toc_section_display": true,
   "toc_window_display": true
  }
 },
 "nbformat": 4,
 "nbformat_minor": 5
}
