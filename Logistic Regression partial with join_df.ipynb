{
 "cells": [
  {
   "cell_type": "markdown",
   "id": "completed-security",
   "metadata": {
    "toc": true
   },
   "source": [
    "<h1>Table of Contents<span class=\"tocSkip\"></span></h1>\n",
    "<div class=\"toc\"><ul class=\"toc-item\"><li><span><a href=\"#DATA\" data-toc-modified-id=\"DATA-1\"><span class=\"toc-item-num\">1&nbsp;&nbsp;</span>DATA</a></span><ul class=\"toc-item\"><li><span><a href=\"#Dataset\" data-toc-modified-id=\"Dataset-1.1\"><span class=\"toc-item-num\">1.1&nbsp;&nbsp;</span>Dataset</a></span></li><li><span><a href=\"#Target\" data-toc-modified-id=\"Target-1.2\"><span class=\"toc-item-num\">1.2&nbsp;&nbsp;</span>Target</a></span></li></ul></li><li><span><a href=\"#Functions\" data-toc-modified-id=\"Functions-2\"><span class=\"toc-item-num\">2&nbsp;&nbsp;</span>Functions</a></span><ul class=\"toc-item\"><li><span><a href=\"#Logistic-Regression-with-StatsModels\" data-toc-modified-id=\"Logistic-Regression-with-StatsModels-2.1\"><span class=\"toc-item-num\">2.1&nbsp;&nbsp;</span>Logistic Regression with StatsModels</a></span></li><li><span><a href=\"#Model-Performance-Evaluation\" data-toc-modified-id=\"Model-Performance-Evaluation-2.2\"><span class=\"toc-item-num\">2.2&nbsp;&nbsp;</span>Model Performance Evaluation</a></span></li><li><span><a href=\"#Model-Performance-Report\" data-toc-modified-id=\"Model-Performance-Report-2.3\"><span class=\"toc-item-num\">2.3&nbsp;&nbsp;</span>Model Performance Report</a></span></li></ul></li><li><span><a href=\"#Logistic-Regression\" data-toc-modified-id=\"Logistic-Regression-3\"><span class=\"toc-item-num\">3&nbsp;&nbsp;</span>Logistic Regression</a></span><ul class=\"toc-item\"><li><span><a href=\"#Baseline-with-Numerical-Data\" data-toc-modified-id=\"Baseline-with-Numerical-Data-3.1\"><span class=\"toc-item-num\">3.1&nbsp;&nbsp;</span>Baseline with Numerical Data</a></span><ul class=\"toc-item\"><li><span><a href=\"#pageDepth-+-sessionCount-+-daysSinceLastLession\" data-toc-modified-id=\"pageDepth-+-sessionCount-+-daysSinceLastLession-3.1.1\"><span class=\"toc-item-num\">3.1.1&nbsp;&nbsp;</span>pageDepth + sessionCount + daysSinceLastLession</a></span></li><li><span><a href=\"#pageDepth-+-sessionCount\" data-toc-modified-id=\"pageDepth-+-sessionCount-3.1.2\"><span class=\"toc-item-num\">3.1.2&nbsp;&nbsp;</span>pageDepth + sessionCount</a></span></li></ul></li><li><span><a href=\"#'ga:dateHourMinute'\" data-toc-modified-id=\"'ga:dateHourMinute'-3.2\"><span class=\"toc-item-num\">3.2&nbsp;&nbsp;</span>'ga:dateHourMinute'</a></span><ul class=\"toc-item\"><li><span><a href=\"#Feature-Engineering\" data-toc-modified-id=\"Feature-Engineering-3.2.1\"><span class=\"toc-item-num\">3.2.1&nbsp;&nbsp;</span>Feature Engineering</a></span></li><li><span><a href=\"#Month\" data-toc-modified-id=\"Month-3.2.2\"><span class=\"toc-item-num\">3.2.2&nbsp;&nbsp;</span>Month</a></span><ul class=\"toc-item\"><li><span><a href=\"#Month-as-Numerical-Feature\" data-toc-modified-id=\"Month-as-Numerical-Feature-3.2.2.1\"><span class=\"toc-item-num\">3.2.2.1&nbsp;&nbsp;</span>Month as Numerical Feature</a></span></li><li><span><a href=\"#Month-as-Cyclical-Continuous-Feature\" data-toc-modified-id=\"Month-as-Cyclical-Continuous-Feature-3.2.2.2\"><span class=\"toc-item-num\">3.2.2.2&nbsp;&nbsp;</span>Month as Cyclical Continuous Feature</a></span></li></ul></li><li><span><a href=\"#Day-of-week\" data-toc-modified-id=\"Day-of-week-3.2.3\"><span class=\"toc-item-num\">3.2.3&nbsp;&nbsp;</span>Day of week</a></span><ul class=\"toc-item\"><li><span><a href=\"#Day-of-Week-as-Numerical-Feature\" data-toc-modified-id=\"Day-of-Week-as-Numerical-Feature-3.2.3.1\"><span class=\"toc-item-num\">3.2.3.1&nbsp;&nbsp;</span>Day of Week as Numerical Feature</a></span></li><li><span><a href=\"#Day-of-Week-as-Cyclical-Continuous-Feature\" data-toc-modified-id=\"Day-of-Week-as-Cyclical-Continuous-Feature-3.2.3.2\"><span class=\"toc-item-num\">3.2.3.2&nbsp;&nbsp;</span>Day of Week as Cyclical Continuous Feature</a></span></li></ul></li><li><span><a href=\"#Hour\" data-toc-modified-id=\"Hour-3.2.4\"><span class=\"toc-item-num\">3.2.4&nbsp;&nbsp;</span>Hour</a></span><ul class=\"toc-item\"><li><span><a href=\"#Hour-as-Numerical-Feature\" data-toc-modified-id=\"Hour-as-Numerical-Feature-3.2.4.1\"><span class=\"toc-item-num\">3.2.4.1&nbsp;&nbsp;</span>Hour as Numerical Feature</a></span></li><li><span><a href=\"#Hour-as-Cyclical-Continuous-Feature\" data-toc-modified-id=\"Hour-as-Cyclical-Continuous-Feature-3.2.4.2\"><span class=\"toc-item-num\">3.2.4.2&nbsp;&nbsp;</span>Hour as Cyclical Continuous Feature</a></span></li></ul></li><li><span><a href=\"#Month-+-Day-of-Week-+-Hour\" data-toc-modified-id=\"Month-+-Day-of-Week-+-Hour-3.2.5\"><span class=\"toc-item-num\">3.2.5&nbsp;&nbsp;</span>Month + Day of Week + Hour</a></span><ul class=\"toc-item\"><li><span><a href=\"#Month-+-Day-+-Hour-as-Numerical-Feature\" data-toc-modified-id=\"Month-+-Day-+-Hour-as-Numerical-Feature-3.2.5.1\"><span class=\"toc-item-num\">3.2.5.1&nbsp;&nbsp;</span>Month + Day + Hour as Numerical Feature</a></span></li><li><span><a href=\"#Month-+-Day-+-Hour-as-Cyclical-Continuous-Feature\" data-toc-modified-id=\"Month-+-Day-+-Hour-as-Cyclical-Continuous-Feature-3.2.5.2\"><span class=\"toc-item-num\">3.2.5.2&nbsp;&nbsp;</span>Month + Day + Hour as Cyclical Continuous Feature</a></span></li><li><span><a href=\"#Baseline-+-Month,-Day-of-Week-and-Hour-as-Numerical-Features\" data-toc-modified-id=\"Baseline-+-Month,-Day-of-Week-and-Hour-as-Numerical-Features-3.2.5.3\"><span class=\"toc-item-num\">3.2.5.3&nbsp;&nbsp;</span>Baseline + Month, Day of Week and Hour as Numerical Features</a></span></li><li><span><a href=\"#Baseline-+-Month,-Day-of-Week-and-Hour-as-Cyclical-Continous-Features\" data-toc-modified-id=\"Baseline-+-Month,-Day-of-Week-and-Hour-as-Cyclical-Continous-Features-3.2.5.4\"><span class=\"toc-item-num\">3.2.5.4&nbsp;&nbsp;</span>Baseline + Month, Day of Week and Hour as Cyclical Continous Features</a></span></li></ul></li></ul></li></ul></li></ul></div>"
   ]
  },
  {
   "cell_type": "code",
   "execution_count": 1,
   "id": "sound-directory",
   "metadata": {},
   "outputs": [],
   "source": [
    "import pandas as pd\n",
    "import numpy as np\n",
    "import matplotlib.pyplot as plt\n",
    "import seaborn as sns\n",
    "%matplotlib inline\n",
    "from sklearn.model_selection import train_test_split\n",
    "from sklearn.linear_model import LogisticRegression\n",
    "from sklearn.metrics import f1_score, recall_score, precision_score, roc_auc_score, roc_curve, accuracy_score\n",
    "from sklearn.metrics import confusion_matrix\n",
    "from sklearn.metrics import classification_report\n",
    "from sklearn.model_selection import cross_val_score\n",
    "from scipy import stats\n",
    "import statsmodels.api as sm"
   ]
  },
  {
   "cell_type": "markdown",
   "id": "rising-integrity",
   "metadata": {},
   "source": [
    "## DATA"
   ]
  },
  {
   "cell_type": "markdown",
   "id": "recorded-secondary",
   "metadata": {},
   "source": [
    "### Dataset"
   ]
  },
  {
   "cell_type": "code",
   "execution_count": 2,
   "id": "catholic-cinema",
   "metadata": {},
   "outputs": [
    {
     "name": "stderr",
     "output_type": "stream",
     "text": [
      "/home/dsc/TFM/kschool_masterDS_TFM/env/lib/python3.9/site-packages/IPython/core/interactiveshell.py:3165: DtypeWarning: Columns (1) have mixed types.Specify dtype option on import or set low_memory=False.\n",
      "  has_raised = await self.run_ast_nodes(code_ast.body, cell_name,\n"
     ]
    },
    {
     "name": "stdout",
     "output_type": "stream",
     "text": [
      "(3936941, 15)\n"
     ]
    },
    {
     "data": {
      "text/html": [
       "<div>\n",
       "<style scoped>\n",
       "    .dataframe tbody tr th:only-of-type {\n",
       "        vertical-align: middle;\n",
       "    }\n",
       "\n",
       "    .dataframe tbody tr th {\n",
       "        vertical-align: top;\n",
       "    }\n",
       "\n",
       "    .dataframe thead th {\n",
       "        text-align: right;\n",
       "    }\n",
       "</style>\n",
       "<table border=\"1\" class=\"dataframe\">\n",
       "  <thead>\n",
       "    <tr style=\"text-align: right;\">\n",
       "      <th></th>\n",
       "      <th>Unnamed: 0</th>\n",
       "      <th>ga:productSKU</th>\n",
       "      <th>ga:dateHourMinute</th>\n",
       "      <th>ga:pagePath</th>\n",
       "      <th>ga:pageDepth</th>\n",
       "      <th>ga:sessionCount</th>\n",
       "      <th>ga:daysSinceLastSession</th>\n",
       "      <th>ga:sourceMedium</th>\n",
       "      <th>ga:city</th>\n",
       "      <th>ga:deviceCategory</th>\n",
       "      <th>ga:operatingSystem</th>\n",
       "      <th>ga:productListViews</th>\n",
       "      <th>ga:productListClicks</th>\n",
       "      <th>ga:productDetailViews</th>\n",
       "      <th>ga:productAddsToCart</th>\n",
       "    </tr>\n",
       "  </thead>\n",
       "  <tbody>\n",
       "    <tr>\n",
       "      <th>0</th>\n",
       "      <td>0</td>\n",
       "      <td>1008</td>\n",
       "      <td>201904301452</td>\n",
       "      <td>/parafarmacia/es/</td>\n",
       "      <td>1</td>\n",
       "      <td>1</td>\n",
       "      <td>0</td>\n",
       "      <td>(direct) / (none)</td>\n",
       "      <td>Burgos</td>\n",
       "      <td>mobile</td>\n",
       "      <td>iOS</td>\n",
       "      <td>1</td>\n",
       "      <td>0</td>\n",
       "      <td>0</td>\n",
       "      <td>0</td>\n",
       "    </tr>\n",
       "    <tr>\n",
       "      <th>1</th>\n",
       "      <td>1</td>\n",
       "      <td>1008</td>\n",
       "      <td>201904301524</td>\n",
       "      <td>/parafarmacia/es/</td>\n",
       "      <td>3</td>\n",
       "      <td>1</td>\n",
       "      <td>0</td>\n",
       "      <td>(direct) / (none)</td>\n",
       "      <td>Madrid</td>\n",
       "      <td>desktop</td>\n",
       "      <td>Windows</td>\n",
       "      <td>1</td>\n",
       "      <td>0</td>\n",
       "      <td>0</td>\n",
       "      <td>0</td>\n",
       "    </tr>\n",
       "    <tr>\n",
       "      <th>2</th>\n",
       "      <td>2</td>\n",
       "      <td>1008</td>\n",
       "      <td>201904301545</td>\n",
       "      <td>/parafarmacia/es/</td>\n",
       "      <td>7</td>\n",
       "      <td>33</td>\n",
       "      <td>0</td>\n",
       "      <td>merchants.google.com / referral</td>\n",
       "      <td>Zamudio</td>\n",
       "      <td>desktop</td>\n",
       "      <td>Windows</td>\n",
       "      <td>1</td>\n",
       "      <td>0</td>\n",
       "      <td>0</td>\n",
       "      <td>0</td>\n",
       "    </tr>\n",
       "  </tbody>\n",
       "</table>\n",
       "</div>"
      ],
      "text/plain": [
       "   Unnamed: 0 ga:productSKU  ga:dateHourMinute        ga:pagePath  \\\n",
       "0           0          1008       201904301452  /parafarmacia/es/   \n",
       "1           1          1008       201904301524  /parafarmacia/es/   \n",
       "2           2          1008       201904301545  /parafarmacia/es/   \n",
       "\n",
       "   ga:pageDepth  ga:sessionCount  ga:daysSinceLastSession  \\\n",
       "0             1                1                        0   \n",
       "1             3                1                        0   \n",
       "2             7               33                        0   \n",
       "\n",
       "                   ga:sourceMedium  ga:city ga:deviceCategory  \\\n",
       "0                (direct) / (none)   Burgos            mobile   \n",
       "1                (direct) / (none)   Madrid           desktop   \n",
       "2  merchants.google.com / referral  Zamudio           desktop   \n",
       "\n",
       "  ga:operatingSystem  ga:productListViews  ga:productListClicks  \\\n",
       "0                iOS                    1                     0   \n",
       "1            Windows                    1                     0   \n",
       "2            Windows                    1                     0   \n",
       "\n",
       "   ga:productDetailViews  ga:productAddsToCart  \n",
       "0                      0                     0  \n",
       "1                      0                     0  \n",
       "2                      0                     0  "
      ]
     },
     "execution_count": 2,
     "metadata": {},
     "output_type": "execute_result"
    }
   ],
   "source": [
    "df=pd.read_csv('../data/dfjoin_Scount_daysSLS_srceMed_city_device_OS_2019_2020_jan21.csv')\n",
    "print(df.shape)\n",
    "df.head(3)"
   ]
  },
  {
   "cell_type": "code",
   "execution_count": 3,
   "id": "dense-north",
   "metadata": {},
   "outputs": [
    {
     "name": "stdout",
     "output_type": "stream",
     "text": [
      "(3936941, 14)\n",
      "\n",
      "<class 'pandas.core.frame.DataFrame'>\n",
      "RangeIndex: 3936941 entries, 0 to 3936940\n",
      "Data columns (total 14 columns):\n",
      " #   Column                   Dtype \n",
      "---  ------                   ----- \n",
      " 0   ga:productSKU            object\n",
      " 1   ga:dateHourMinute        int64 \n",
      " 2   ga:pagePath              object\n",
      " 3   ga:pageDepth             int64 \n",
      " 4   ga:sessionCount          int64 \n",
      " 5   ga:daysSinceLastSession  int64 \n",
      " 6   ga:sourceMedium          object\n",
      " 7   ga:city                  object\n",
      " 8   ga:deviceCategory        object\n",
      " 9   ga:operatingSystem       object\n",
      " 10  ga:productListViews      int64 \n",
      " 11  ga:productListClicks     int64 \n",
      " 12  ga:productDetailViews    int64 \n",
      " 13  ga:productAddsToCart     int64 \n",
      "dtypes: int64(8), object(6)\n",
      "memory usage: 420.5+ MB\n"
     ]
    }
   ],
   "source": [
    "df.drop('Unnamed: 0', axis=1, inplace=True)\n",
    "print(df.shape)\n",
    "print(\"\")\n",
    "df.info()"
   ]
  },
  {
   "cell_type": "markdown",
   "id": "legal-canadian",
   "metadata": {},
   "source": [
    "### Target"
   ]
  },
  {
   "cell_type": "code",
   "execution_count": 4,
   "id": "japanese-supervision",
   "metadata": {},
   "outputs": [
    {
     "name": "stdout",
     "output_type": "stream",
     "text": [
      "No. observations per class\n",
      "0    3864256\n",
      "1      72685\n",
      "Name: ga:productAddsToCart_transf, dtype: int64\n",
      "\n",
      "% observations per class\n",
      "0    98.15377\n",
      "1     1.84623\n",
      "Name: ga:productAddsToCart_transf, dtype: float64\n"
     ]
    }
   ],
   "source": [
    "df['ga:productAddsToCart_transf']=df[\"ga:productAddsToCart\"].apply(lambda x: 1 if x>1 else x)\n",
    "\n",
    "print(\"No. observations per class\")\n",
    "print(df['ga:productAddsToCart_transf'].value_counts())\n",
    "print(\"\")\n",
    "\n",
    "print(\"% observations per class\")\n",
    "print(100*df['ga:productAddsToCart_transf'].value_counts(normalize=True))"
   ]
  },
  {
   "cell_type": "markdown",
   "id": "removed-alloy",
   "metadata": {},
   "source": [
    "## Functions"
   ]
  },
  {
   "cell_type": "markdown",
   "id": "raising-sleeping",
   "metadata": {},
   "source": [
    "### Logistic Regression with StatsModels"
   ]
  },
  {
   "cell_type": "code",
   "execution_count": 5,
   "id": "honest-candy",
   "metadata": {},
   "outputs": [],
   "source": [
    "def reg_log(X_train):\n",
    "    X_train=sm.add_constant(X_train)\n",
    "    rlog=sm.Logit(y_train,X_train)\n",
    "    results_rlog=rlog.fit()\n",
    "    print(results_rlog)\n",
    "    return results_rlog, results_rlog.summary()"
   ]
  },
  {
   "cell_type": "markdown",
   "id": "spiritual-maryland",
   "metadata": {},
   "source": [
    "### Model Performance Evaluation"
   ]
  },
  {
   "cell_type": "code",
   "execution_count": 6,
   "id": "interim-tomorrow",
   "metadata": {},
   "outputs": [],
   "source": [
    "def evaluate(X_test, y_test, model):\n",
    "    X_test=sm.add_constant(X_test)\n",
    "    probabilities=model.predict(X_test)\n",
    "    predictions=np.where(probabilities<0.5,0,1)\n",
    "    print(\"ACCURACY: \" + str(accuracy_score(y_test, predictions)))\n",
    "    print(\"PRECISION: \" + str(precision_score(y_test, predictions)))\n",
    "    print(\"RECALL: \" + str(recall_score(y_test, predictions)))\n",
    "    print(\"F1 SCORE: \" + str(f1_score(y_test, predictions)))\n",
    "    print(\"AUC: \" + str(roc_auc_score(y_test,probabilities)))\n",
    "    tpr, fpr, thresolds = roc_curve(y_test, probabilities)\n",
    "    plt.plot(tpr, fpr)\n",
    "    plt.xlabel('fpr')\n",
    "    plt.ylabel('tpr')\n"
   ]
  },
  {
   "cell_type": "markdown",
   "id": "automated-class",
   "metadata": {},
   "source": [
    "### Model Performance Report"
   ]
  },
  {
   "cell_type": "code",
   "execution_count": 7,
   "id": "express-cosmetic",
   "metadata": {},
   "outputs": [],
   "source": [
    "def report(X_test,y_test, model):\n",
    "    X_test=sm.add_constant(X_test)\n",
    "    probabilities=model.predict(X_test)\n",
    "    predictions=np.where(probabilities<0.5,0,1)\n",
    "    confusion_matrix=pd.crosstab(y_test.ravel(),predictions,rownames=['Actual values'],colnames=['Predictions'])\n",
    "    print(classification_report(y_test, predictions))\n",
    "    return confusion_matrix\n"
   ]
  },
  {
   "cell_type": "markdown",
   "id": "powerful-reminder",
   "metadata": {},
   "source": [
    "## Logistic Regression"
   ]
  },
  {
   "cell_type": "markdown",
   "id": "radio-sport",
   "metadata": {},
   "source": [
    "### Baseline with Numerical Data"
   ]
  },
  {
   "cell_type": "code",
   "execution_count": 8,
   "id": "excess-prefix",
   "metadata": {},
   "outputs": [
    {
     "name": "stdout",
     "output_type": "stream",
     "text": [
      "<class 'pandas.core.frame.DataFrame'>\n",
      "RangeIndex: 3936941 entries, 0 to 3936940\n",
      "Data columns (total 15 columns):\n",
      " #   Column                       Dtype \n",
      "---  ------                       ----- \n",
      " 0   ga:productSKU                object\n",
      " 1   ga:dateHourMinute            int64 \n",
      " 2   ga:pagePath                  object\n",
      " 3   ga:pageDepth                 int64 \n",
      " 4   ga:sessionCount              int64 \n",
      " 5   ga:daysSinceLastSession      int64 \n",
      " 6   ga:sourceMedium              object\n",
      " 7   ga:city                      object\n",
      " 8   ga:deviceCategory            object\n",
      " 9   ga:operatingSystem           object\n",
      " 10  ga:productListViews          int64 \n",
      " 11  ga:productListClicks         int64 \n",
      " 12  ga:productDetailViews        int64 \n",
      " 13  ga:productAddsToCart         int64 \n",
      " 14  ga:productAddsToCart_transf  int64 \n",
      "dtypes: int64(9), object(6)\n",
      "memory usage: 450.5+ MB\n"
     ]
    }
   ],
   "source": [
    "df.info()"
   ]
  },
  {
   "cell_type": "markdown",
   "id": "expensive-wallace",
   "metadata": {},
   "source": [
    "#### pageDepth + sessionCount + daysSinceLastLession"
   ]
  },
  {
   "cell_type": "code",
   "execution_count": 11,
   "id": "proprietary-chapter",
   "metadata": {},
   "outputs": [],
   "source": [
    "y=df['ga:productAddsToCart_transf']\n",
    "X=df[['ga:pageDepth','ga:sessionCount','ga:daysSinceLastSession']]\n",
    "X_train, X_test, y_train, y_test = train_test_split(X, y,random_state=42)"
   ]
  },
  {
   "cell_type": "code",
   "execution_count": 12,
   "id": "remarkable-contrary",
   "metadata": {},
   "outputs": [
    {
     "name": "stdout",
     "output_type": "stream",
     "text": [
      "Optimization terminated successfully.\n",
      "         Current function value: 0.091465\n",
      "         Iterations 9\n",
      "<statsmodels.discrete.discrete_model.BinaryResultsWrapper object at 0x7f2de6376e20>\n"
     ]
    },
    {
     "data": {
      "text/html": [
       "<table class=\"simpletable\">\n",
       "<caption>Logit Regression Results</caption>\n",
       "<tr>\n",
       "  <th>Dep. Variable:</th>   <td>ga:productAddsToCart_transf</td> <th>  No. Observations:  </th>   <td>2952705</td>  \n",
       "</tr>\n",
       "<tr>\n",
       "  <th>Model:</th>                      <td>Logit</td>            <th>  Df Residuals:      </th>   <td>2952701</td>  \n",
       "</tr>\n",
       "<tr>\n",
       "  <th>Method:</th>                      <td>MLE</td>             <th>  Df Model:          </th>   <td>     3</td>   \n",
       "</tr>\n",
       "<tr>\n",
       "  <th>Date:</th>                 <td>Fri, 19 Mar 2021</td>       <th>  Pseudo R-squ.:     </th>  <td>0.004974</td>  \n",
       "</tr>\n",
       "<tr>\n",
       "  <th>Time:</th>                     <td>12:25:19</td>           <th>  Log-Likelihood:    </th> <td>-2.7007e+05</td>\n",
       "</tr>\n",
       "<tr>\n",
       "  <th>converged:</th>                  <td>True</td>             <th>  LL-Null:           </th> <td>-2.7142e+05</td>\n",
       "</tr>\n",
       "<tr>\n",
       "  <th>Covariance Type:</th>          <td>nonrobust</td>          <th>  LLR p-value:       </th>   <td> 0.000</td>   \n",
       "</tr>\n",
       "</table>\n",
       "<table class=\"simpletable\">\n",
       "<tr>\n",
       "             <td></td>                <th>coef</th>     <th>std err</th>      <th>z</th>      <th>P>|z|</th>  <th>[0.025</th>    <th>0.975]</th>  \n",
       "</tr>\n",
       "<tr>\n",
       "  <th>const</th>                   <td>   -4.1143</td> <td>    0.005</td> <td> -748.270</td> <td> 0.000</td> <td>   -4.125</td> <td>   -4.104</td>\n",
       "</tr>\n",
       "<tr>\n",
       "  <th>ga:pageDepth</th>            <td>    0.0123</td> <td>    0.000</td> <td>   55.612</td> <td> 0.000</td> <td>    0.012</td> <td>    0.013</td>\n",
       "</tr>\n",
       "<tr>\n",
       "  <th>ga:sessionCount</th>         <td>   -0.0012</td> <td>    0.000</td> <td>  -11.074</td> <td> 0.000</td> <td>   -0.001</td> <td>   -0.001</td>\n",
       "</tr>\n",
       "<tr>\n",
       "  <th>ga:daysSinceLastSession</th> <td>   -0.0004</td> <td>    0.000</td> <td>   -1.409</td> <td> 0.159</td> <td>   -0.001</td> <td>    0.000</td>\n",
       "</tr>\n",
       "</table>"
      ],
      "text/plain": [
       "<class 'statsmodels.iolib.summary.Summary'>\n",
       "\"\"\"\n",
       "                                Logit Regression Results                               \n",
       "=======================================================================================\n",
       "Dep. Variable:     ga:productAddsToCart_transf   No. Observations:              2952705\n",
       "Model:                                   Logit   Df Residuals:                  2952701\n",
       "Method:                                    MLE   Df Model:                            3\n",
       "Date:                         Fri, 19 Mar 2021   Pseudo R-squ.:                0.004974\n",
       "Time:                                 12:25:19   Log-Likelihood:            -2.7007e+05\n",
       "converged:                                True   LL-Null:                   -2.7142e+05\n",
       "Covariance Type:                     nonrobust   LLR p-value:                     0.000\n",
       "===========================================================================================\n",
       "                              coef    std err          z      P>|z|      [0.025      0.975]\n",
       "-------------------------------------------------------------------------------------------\n",
       "const                      -4.1143      0.005   -748.270      0.000      -4.125      -4.104\n",
       "ga:pageDepth                0.0123      0.000     55.612      0.000       0.012       0.013\n",
       "ga:sessionCount            -0.0012      0.000    -11.074      0.000      -0.001      -0.001\n",
       "ga:daysSinceLastSession    -0.0004      0.000     -1.409      0.159      -0.001       0.000\n",
       "===========================================================================================\n",
       "\"\"\""
      ]
     },
     "execution_count": 12,
     "metadata": {},
     "output_type": "execute_result"
    }
   ],
   "source": [
    "model_base, model_sum_base=reg_log(X_train)\n",
    "model_sum_base"
   ]
  },
  {
   "cell_type": "code",
   "execution_count": 13,
   "id": "critical-seller",
   "metadata": {},
   "outputs": [
    {
     "name": "stdout",
     "output_type": "stream",
     "text": [
      "ACCURACY: 0.9814841155982915\n"
     ]
    },
    {
     "name": "stderr",
     "output_type": "stream",
     "text": [
      "/home/dsc/TFM/kschool_masterDS_TFM/env/lib/python3.9/site-packages/sklearn/metrics/_classification.py:1221: UndefinedMetricWarning: Precision is ill-defined and being set to 0.0 due to no predicted samples. Use `zero_division` parameter to control this behavior.\n",
      "  _warn_prf(average, modifier, msg_start, len(result))\n"
     ]
    },
    {
     "name": "stdout",
     "output_type": "stream",
     "text": [
      "PRECISION: 0.0\n",
      "RECALL: 0.0\n",
      "F1 SCORE: 0.0\n",
      "AUC: 0.6304887380994894\n"
     ]
    },
    {
     "data": {
      "image/png": "[encoded data removed]",
      "text/plain": [
       "<Figure size 432x288 with 1 Axes>"
      ]
     },
     "metadata": {
      "needs_background": "light"
     },
     "output_type": "display_data"
    }
   ],
   "source": [
    "evaluate(X_test,y_test,model_base)"
   ]
  },
  {
   "cell_type": "code",
   "execution_count": 14,
   "id": "advised-metropolitan",
   "metadata": {},
   "outputs": [
    {
     "name": "stderr",
     "output_type": "stream",
     "text": [
      "/home/dsc/TFM/kschool_masterDS_TFM/env/lib/python3.9/site-packages/sklearn/metrics/_classification.py:1221: UndefinedMetricWarning: Precision and F-score are ill-defined and being set to 0.0 in labels with no predicted samples. Use `zero_division` parameter to control this behavior.\n",
      "  _warn_prf(average, modifier, msg_start, len(result))\n"
     ]
    },
    {
     "name": "stdout",
     "output_type": "stream",
     "text": [
      "              precision    recall  f1-score   support\n",
      "\n",
      "           0       0.98      1.00      0.99    966012\n",
      "           1       0.00      0.00      0.00     18224\n",
      "\n",
      "    accuracy                           0.98    984236\n",
      "   macro avg       0.49      0.50      0.50    984236\n",
      "weighted avg       0.96      0.98      0.97    984236\n",
      "\n"
     ]
    },
    {
     "data": {
      "text/html": [
       "<div>\n",
       "<style scoped>\n",
       "    .dataframe tbody tr th:only-of-type {\n",
       "        vertical-align: middle;\n",
       "    }\n",
       "\n",
       "    .dataframe tbody tr th {\n",
       "        vertical-align: top;\n",
       "    }\n",
       "\n",
       "    .dataframe thead th {\n",
       "        text-align: right;\n",
       "    }\n",
       "</style>\n",
       "<table border=\"1\" class=\"dataframe\">\n",
       "  <thead>\n",
       "    <tr style=\"text-align: right;\">\n",
       "      <th>Predictions</th>\n",
       "      <th>0</th>\n",
       "    </tr>\n",
       "    <tr>\n",
       "      <th>Actual values</th>\n",
       "      <th></th>\n",
       "    </tr>\n",
       "  </thead>\n",
       "  <tbody>\n",
       "    <tr>\n",
       "      <th>0</th>\n",
       "      <td>966012</td>\n",
       "    </tr>\n",
       "    <tr>\n",
       "      <th>1</th>\n",
       "      <td>18224</td>\n",
       "    </tr>\n",
       "  </tbody>\n",
       "</table>\n",
       "</div>"
      ],
      "text/plain": [
       "Predictions         0\n",
       "Actual values        \n",
       "0              966012\n",
       "1               18224"
      ]
     },
     "execution_count": 14,
     "metadata": {},
     "output_type": "execute_result"
    }
   ],
   "source": [
    "report(X_test,y_test,model_base)"
   ]
  },
  {
   "cell_type": "markdown",
   "id": "nasty-monte",
   "metadata": {},
   "source": [
    "#### pageDepth + sessionCount"
   ]
  },
  {
   "cell_type": "markdown",
   "id": "billion-religion",
   "metadata": {},
   "source": [
    "Dado que 'ga:daysSinceLastSession' no resulta un coeficiente significativo (p-value>0,05), lo eliminamos con el fin de obtener un modelo más parsimonioso:"
   ]
  },
  {
   "cell_type": "code",
   "execution_count": 15,
   "id": "critical-tournament",
   "metadata": {},
   "outputs": [],
   "source": [
    "y=df['ga:productAddsToCart_transf']\n",
    "X=df[['ga:pageDepth','ga:sessionCount']]\n",
    "X_train, X_test, y_train, y_test = train_test_split(X, y,random_state=42)"
   ]
  },
  {
   "cell_type": "code",
   "execution_count": 16,
   "id": "subjective-basics",
   "metadata": {},
   "outputs": [
    {
     "name": "stdout",
     "output_type": "stream",
     "text": [
      "Optimization terminated successfully.\n",
      "         Current function value: 0.091465\n",
      "         Iterations 9\n",
      "<statsmodels.discrete.discrete_model.BinaryResultsWrapper object at 0x7f2db06c6490>\n"
     ]
    },
    {
     "data": {
      "text/html": [
       "<table class=\"simpletable\">\n",
       "<caption>Logit Regression Results</caption>\n",
       "<tr>\n",
       "  <th>Dep. Variable:</th>   <td>ga:productAddsToCart_transf</td> <th>  No. Observations:  </th>   <td>2952705</td>  \n",
       "</tr>\n",
       "<tr>\n",
       "  <th>Model:</th>                      <td>Logit</td>            <th>  Df Residuals:      </th>   <td>2952702</td>  \n",
       "</tr>\n",
       "<tr>\n",
       "  <th>Method:</th>                      <td>MLE</td>             <th>  Df Model:          </th>   <td>     2</td>   \n",
       "</tr>\n",
       "<tr>\n",
       "  <th>Date:</th>                 <td>Fri, 19 Mar 2021</td>       <th>  Pseudo R-squ.:     </th>  <td>0.004971</td>  \n",
       "</tr>\n",
       "<tr>\n",
       "  <th>Time:</th>                     <td>12:27:03</td>           <th>  Log-Likelihood:    </th> <td>-2.7007e+05</td>\n",
       "</tr>\n",
       "<tr>\n",
       "  <th>converged:</th>                  <td>True</td>             <th>  LL-Null:           </th> <td>-2.7142e+05</td>\n",
       "</tr>\n",
       "<tr>\n",
       "  <th>Covariance Type:</th>          <td>nonrobust</td>          <th>  LLR p-value:       </th>   <td> 0.000</td>   \n",
       "</tr>\n",
       "</table>\n",
       "<table class=\"simpletable\">\n",
       "<tr>\n",
       "         <td></td>            <th>coef</th>     <th>std err</th>      <th>z</th>      <th>P>|z|</th>  <th>[0.025</th>    <th>0.975]</th>  \n",
       "</tr>\n",
       "<tr>\n",
       "  <th>const</th>           <td>   -4.1161</td> <td>    0.005</td> <td> -768.407</td> <td> 0.000</td> <td>   -4.127</td> <td>   -4.106</td>\n",
       "</tr>\n",
       "<tr>\n",
       "  <th>ga:pageDepth</th>    <td>    0.0123</td> <td>    0.000</td> <td>   55.657</td> <td> 0.000</td> <td>    0.012</td> <td>    0.013</td>\n",
       "</tr>\n",
       "<tr>\n",
       "  <th>ga:sessionCount</th> <td>   -0.0012</td> <td>    0.000</td> <td>  -11.071</td> <td> 0.000</td> <td>   -0.001</td> <td>   -0.001</td>\n",
       "</tr>\n",
       "</table>"
      ],
      "text/plain": [
       "<class 'statsmodels.iolib.summary.Summary'>\n",
       "\"\"\"\n",
       "                                Logit Regression Results                               \n",
       "=======================================================================================\n",
       "Dep. Variable:     ga:productAddsToCart_transf   No. Observations:              2952705\n",
       "Model:                                   Logit   Df Residuals:                  2952702\n",
       "Method:                                    MLE   Df Model:                            2\n",
       "Date:                         Fri, 19 Mar 2021   Pseudo R-squ.:                0.004971\n",
       "Time:                                 12:27:03   Log-Likelihood:            -2.7007e+05\n",
       "converged:                                True   LL-Null:                   -2.7142e+05\n",
       "Covariance Type:                     nonrobust   LLR p-value:                     0.000\n",
       "===================================================================================\n",
       "                      coef    std err          z      P>|z|      [0.025      0.975]\n",
       "-----------------------------------------------------------------------------------\n",
       "const              -4.1161      0.005   -768.407      0.000      -4.127      -4.106\n",
       "ga:pageDepth        0.0123      0.000     55.657      0.000       0.012       0.013\n",
       "ga:sessionCount    -0.0012      0.000    -11.071      0.000      -0.001      -0.001\n",
       "===================================================================================\n",
       "\"\"\""
      ]
     },
     "execution_count": 16,
     "metadata": {},
     "output_type": "execute_result"
    }
   ],
   "source": [
    "model_base, model_sum_base=reg_log(X_train)\n",
    "model_sum_base"
   ]
  },
  {
   "cell_type": "code",
   "execution_count": 17,
   "id": "excessive-capacity",
   "metadata": {},
   "outputs": [
    {
     "name": "stdout",
     "output_type": "stream",
     "text": [
      "ACCURACY: 0.9814841155982915\n"
     ]
    },
    {
     "name": "stderr",
     "output_type": "stream",
     "text": [
      "/home/dsc/TFM/kschool_masterDS_TFM/env/lib/python3.9/site-packages/sklearn/metrics/_classification.py:1221: UndefinedMetricWarning: Precision is ill-defined and being set to 0.0 due to no predicted samples. Use `zero_division` parameter to control this behavior.\n",
      "  _warn_prf(average, modifier, msg_start, len(result))\n"
     ]
    },
    {
     "name": "stdout",
     "output_type": "stream",
     "text": [
      "PRECISION: 0.0\n",
      "RECALL: 0.0\n",
      "F1 SCORE: 0.0\n",
      "AUC: 0.6309726327747045\n"
     ]
    },
    {
     "data": {
      "image/png": "[encoded data removed]",
      "text/plain": [
       "<Figure size 432x288 with 1 Axes>"
      ]
     },
     "metadata": {
      "needs_background": "light"
     },
     "output_type": "display_data"
    }
   ],
   "source": [
    "evaluate(X_test,y_test,model_base)"
   ]
  },
  {
   "cell_type": "markdown",
   "id": "international-ideal",
   "metadata": {},
   "source": [
    "### 'ga:dateHourMinute'"
   ]
  },
  {
   "cell_type": "markdown",
   "id": "painful-convention",
   "metadata": {},
   "source": [
    "#### Feature Engineering"
   ]
  },
  {
   "cell_type": "code",
   "execution_count": 9,
   "id": "furnished-combine",
   "metadata": {},
   "outputs": [
    {
     "data": {
      "text/plain": [
       "0          201904301452\n",
       "1          201904301524\n",
       "2          201904301545\n",
       "3          201904301704\n",
       "4          201904301452\n",
       "               ...     \n",
       "3936936    202101092123\n",
       "3936937    202101092124\n",
       "3936938    202101120607\n",
       "3936939    202101131547\n",
       "3936940    202101141618\n",
       "Name: ga:dateHourMinute, Length: 3936941, dtype: int64"
      ]
     },
     "execution_count": 9,
     "metadata": {},
     "output_type": "execute_result"
    }
   ],
   "source": [
    "df['ga:dateHourMinute']"
   ]
  },
  {
   "cell_type": "code",
   "execution_count": 10,
   "id": "threatened-falls",
   "metadata": {},
   "outputs": [
    {
     "data": {
      "text/plain": [
       "0         2019-04-30 14:52:00\n",
       "1         2019-04-30 15:24:00\n",
       "2         2019-04-30 15:45:00\n",
       "3         2019-04-30 17:04:00\n",
       "4         2019-04-30 14:52:00\n",
       "                  ...        \n",
       "3936936   2021-01-09 21:23:00\n",
       "3936937   2021-01-09 21:24:00\n",
       "3936938   2021-01-12 06:07:00\n",
       "3936939   2021-01-13 15:47:00\n",
       "3936940   2021-01-14 16:18:00\n",
       "Name: dateTime, Length: 3936941, dtype: datetime64[ns]"
      ]
     },
     "execution_count": 10,
     "metadata": {},
     "output_type": "execute_result"
    }
   ],
   "source": [
    "df['dateTime']=pd.to_datetime(df['ga:dateHourMinute'],format='%Y%m%d%H%M')\n",
    "df['dateTime']"
   ]
  },
  {
   "cell_type": "code",
   "execution_count": 11,
   "id": "grand-davis",
   "metadata": {
    "scrolled": true
   },
   "outputs": [
    {
     "name": "stdout",
     "output_type": "stream",
     "text": [
      "<class 'pandas.core.frame.DataFrame'>\n",
      "RangeIndex: 3936941 entries, 0 to 3936940\n",
      "Data columns (total 20 columns):\n",
      " #   Column                       Dtype         \n",
      "---  ------                       -----         \n",
      " 0   ga:productSKU                object        \n",
      " 1   ga:dateHourMinute            int64         \n",
      " 2   ga:pagePath                  object        \n",
      " 3   ga:pageDepth                 int64         \n",
      " 4   ga:sessionCount              int64         \n",
      " 5   ga:daysSinceLastSession      int64         \n",
      " 6   ga:sourceMedium              object        \n",
      " 7   ga:city                      object        \n",
      " 8   ga:deviceCategory            object        \n",
      " 9   ga:operatingSystem           object        \n",
      " 10  ga:productListViews          int64         \n",
      " 11  ga:productListClicks         int64         \n",
      " 12  ga:productDetailViews        int64         \n",
      " 13  ga:productAddsToCart         int64         \n",
      " 14  ga:productAddsToCart_transf  int64         \n",
      " 15  dateTime                     datetime64[ns]\n",
      " 16  dateTime_year                int64         \n",
      " 17  dateTime_month               int64         \n",
      " 18  dateTime_dayofweek           int64         \n",
      " 19  dateTime_hour                int64         \n",
      "dtypes: datetime64[ns](1), int64(13), object(6)\n",
      "memory usage: 600.7+ MB\n"
     ]
    }
   ],
   "source": [
    "df['dateTime_year']=df['dateTime'].dt.year\n",
    "df['dateTime_month']=df['dateTime'].dt.month\n",
    "df['dateTime_dayofweek']=df['dateTime'].dt.dayofweek\n",
    "df['dateTime_hour']=df['dateTime'].dt.hour\n",
    "df.info()"
   ]
  },
  {
   "cell_type": "code",
   "execution_count": 12,
   "id": "announced-utilization",
   "metadata": {},
   "outputs": [
    {
     "name": "stdout",
     "output_type": "stream",
     "text": [
      "<class 'pandas.core.frame.DataFrame'>\n",
      "RangeIndex: 3936941 entries, 0 to 3936940\n",
      "Data columns (total 26 columns):\n",
      " #   Column                       Dtype         \n",
      "---  ------                       -----         \n",
      " 0   ga:productSKU                object        \n",
      " 1   ga:dateHourMinute            int64         \n",
      " 2   ga:pagePath                  object        \n",
      " 3   ga:pageDepth                 int64         \n",
      " 4   ga:sessionCount              int64         \n",
      " 5   ga:daysSinceLastSession      int64         \n",
      " 6   ga:sourceMedium              object        \n",
      " 7   ga:city                      object        \n",
      " 8   ga:deviceCategory            object        \n",
      " 9   ga:operatingSystem           object        \n",
      " 10  ga:productListViews          int64         \n",
      " 11  ga:productListClicks         int64         \n",
      " 12  ga:productDetailViews        int64         \n",
      " 13  ga:productAddsToCart         int64         \n",
      " 14  ga:productAddsToCart_transf  int64         \n",
      " 15  dateTime                     datetime64[ns]\n",
      " 16  dateTime_year                int64         \n",
      " 17  dateTime_month               int64         \n",
      " 18  dateTime_dayofweek           int64         \n",
      " 19  dateTime_hour                int64         \n",
      " 20  month_sin                    float64       \n",
      " 21  month_cos                    float64       \n",
      " 22  dayofweek_sin                float64       \n",
      " 23  dayofweek_cos                float64       \n",
      " 24  hour_sin                     float64       \n",
      " 25  hour_cos                     float64       \n",
      "dtypes: datetime64[ns](1), float64(6), int64(13), object(6)\n",
      "memory usage: 780.9+ MB\n"
     ]
    }
   ],
   "source": [
    "# DateTime as cyclical features:\n",
    "\n",
    "df['month_sin']=np.sin((df.dateTime_month-1)*(2.*np.pi/12))\n",
    "df['month_cos']=np.cos((df.dateTime_month-1)*(2.*np.pi/12))\n",
    "# I substract minus 1 to 'df.dateTime_month' because its values are coded as 1 to 12 instead of 0 to 11\n",
    "\n",
    "df['dayofweek_sin']=np.sin(df.dateTime_dayofweek*(2.*np.pi/7))\n",
    "df['dayofweek_cos']=np.cos(df.dateTime_dayofweek*(2.*np.pi/7))\n",
    "\n",
    "df['hour_sin']=np.sin(df.dateTime_hour*(2.*np.pi/24))\n",
    "df['hour_cos']=np.cos(df.dateTime_hour*(2.*np.pi/24))\n",
    "\n",
    "df.info()"
   ]
  },
  {
   "cell_type": "code",
   "execution_count": 13,
   "id": "accredited-mexico",
   "metadata": {},
   "outputs": [
    {
     "data": {
      "text/plain": [
       "<AxesSubplot:>"
      ]
     },
     "execution_count": 13,
     "metadata": {},
     "output_type": "execute_result"
    },
    {
     "data": {
      "image/png": "[encoded data removed]",
      "text/plain": [
       "<Figure size 864x864 with 2 Axes>"
      ]
     },
     "metadata": {
      "needs_background": "light"
     },
     "output_type": "display_data"
    }
   ],
   "source": [
    "data=df[['ga:pageDepth', 'ga:sessionCount','dateTime_year','dateTime_month','dateTime_dayofweek', 'dateTime_hour', 'month_sin',\n",
    "       'month_cos', 'dayofweek_sin', 'dayofweek_cos', 'hour_sin', 'hour_cos','ga:productAddsToCart_transf']]\n",
    "\n",
    "corr= data.corr()\n",
    "plt.figure(figsize=(12,12))\n",
    "sns.heatmap(corr,annot=True)"
   ]
  },
  {
   "cell_type": "markdown",
   "id": "fleet-woman",
   "metadata": {},
   "source": [
    "#### Month"
   ]
  },
  {
   "cell_type": "markdown",
   "id": "instructional-treaty",
   "metadata": {},
   "source": [
    "##### Month as Numerical Feature"
   ]
  },
  {
   "cell_type": "code",
   "execution_count": 12,
   "id": "seasonal-documentation",
   "metadata": {},
   "outputs": [],
   "source": [
    "y=df['ga:productAddsToCart_transf']\n",
    "X=df['dateTime_month']\n",
    "X_train, X_test, y_train, y_test = train_test_split(X, y,random_state=42)"
   ]
  },
  {
   "cell_type": "code",
   "execution_count": 13,
   "id": "improved-atlanta",
   "metadata": {},
   "outputs": [
    {
     "name": "stdout",
     "output_type": "stream",
     "text": [
      "Optimization terminated successfully.\n",
      "         Current function value: 0.091914\n",
      "         Iterations 8\n",
      "<statsmodels.discrete.discrete_model.BinaryResultsWrapper object at 0x7fd519ef26d0>\n"
     ]
    },
    {
     "data": {
      "text/html": [
       "<table class=\"simpletable\">\n",
       "<caption>Logit Regression Results</caption>\n",
       "<tr>\n",
       "  <th>Dep. Variable:</th>   <td>ga:productAddsToCart_transf</td> <th>  No. Observations:  </th>   <td>2952705</td>  \n",
       "</tr>\n",
       "<tr>\n",
       "  <th>Model:</th>                      <td>Logit</td>            <th>  Df Residuals:      </th>   <td>2952703</td>  \n",
       "</tr>\n",
       "<tr>\n",
       "  <th>Method:</th>                      <td>MLE</td>             <th>  Df Model:          </th>   <td>     1</td>   \n",
       "</tr>\n",
       "<tr>\n",
       "  <th>Date:</th>                 <td>Fri, 19 Mar 2021</td>       <th>  Pseudo R-squ.:     </th>  <td>8.355e-05</td> \n",
       "</tr>\n",
       "<tr>\n",
       "  <th>Time:</th>                     <td>10:50:10</td>           <th>  Log-Likelihood:    </th> <td>-2.7140e+05</td>\n",
       "</tr>\n",
       "<tr>\n",
       "  <th>converged:</th>                  <td>True</td>             <th>  LL-Null:           </th> <td>-2.7142e+05</td>\n",
       "</tr>\n",
       "<tr>\n",
       "  <th>Covariance Type:</th>          <td>nonrobust</td>          <th>  LLR p-value:       </th>  <td>1.645e-11</td> \n",
       "</tr>\n",
       "</table>\n",
       "<table class=\"simpletable\">\n",
       "<tr>\n",
       "         <td></td>           <th>coef</th>     <th>std err</th>      <th>z</th>      <th>P>|z|</th>  <th>[0.025</th>    <th>0.975]</th>  \n",
       "</tr>\n",
       "<tr>\n",
       "  <th>const</th>          <td>   -4.0213</td> <td>    0.008</td> <td> -486.853</td> <td> 0.000</td> <td>   -4.038</td> <td>   -4.005</td>\n",
       "</tr>\n",
       "<tr>\n",
       "  <th>dateTime_month</th> <td>    0.0069</td> <td>    0.001</td> <td>    6.728</td> <td> 0.000</td> <td>    0.005</td> <td>    0.009</td>\n",
       "</tr>\n",
       "</table>"
      ],
      "text/plain": [
       "<class 'statsmodels.iolib.summary.Summary'>\n",
       "\"\"\"\n",
       "                                Logit Regression Results                               \n",
       "=======================================================================================\n",
       "Dep. Variable:     ga:productAddsToCart_transf   No. Observations:              2952705\n",
       "Model:                                   Logit   Df Residuals:                  2952703\n",
       "Method:                                    MLE   Df Model:                            1\n",
       "Date:                         Fri, 19 Mar 2021   Pseudo R-squ.:               8.355e-05\n",
       "Time:                                 10:50:10   Log-Likelihood:            -2.7140e+05\n",
       "converged:                                True   LL-Null:                   -2.7142e+05\n",
       "Covariance Type:                     nonrobust   LLR p-value:                 1.645e-11\n",
       "==================================================================================\n",
       "                     coef    std err          z      P>|z|      [0.025      0.975]\n",
       "----------------------------------------------------------------------------------\n",
       "const             -4.0213      0.008   -486.853      0.000      -4.038      -4.005\n",
       "dateTime_month     0.0069      0.001      6.728      0.000       0.005       0.009\n",
       "==================================================================================\n",
       "\"\"\""
      ]
     },
     "execution_count": 13,
     "metadata": {},
     "output_type": "execute_result"
    }
   ],
   "source": [
    "model_month, model_sum_month=reg_log(X_train)\n",
    "model_sum_month"
   ]
  },
  {
   "cell_type": "code",
   "execution_count": 14,
   "id": "german-toilet",
   "metadata": {},
   "outputs": [
    {
     "name": "stdout",
     "output_type": "stream",
     "text": [
      "ACCURACY: 0.9814841155982915\n"
     ]
    },
    {
     "name": "stderr",
     "output_type": "stream",
     "text": [
      "/home/dsc/TFM/kschool_masterDS_TFM/env/lib/python3.9/site-packages/sklearn/metrics/_classification.py:1221: UndefinedMetricWarning: Precision is ill-defined and being set to 0.0 due to no predicted samples. Use `zero_division` parameter to control this behavior.\n",
      "  _warn_prf(average, modifier, msg_start, len(result))\n"
     ]
    },
    {
     "name": "stdout",
     "output_type": "stream",
     "text": [
      "PRECISION: 0.0\n",
      "RECALL: 0.0\n",
      "F1 SCORE: 0.0\n",
      "AUC: 0.4991040924478943\n"
     ]
    },
    {
     "data": {
      "image/png": "[encoded data removed]",
      "text/plain": [
       "<Figure size 432x288 with 1 Axes>"
      ]
     },
     "metadata": {
      "needs_background": "light"
     },
     "output_type": "display_data"
    }
   ],
   "source": [
    "evaluate(X_test,y_test,model_month)"
   ]
  },
  {
   "cell_type": "markdown",
   "id": "classical-certification",
   "metadata": {},
   "source": [
    "##### Month as Cyclical Continuous Feature"
   ]
  },
  {
   "cell_type": "code",
   "execution_count": 15,
   "id": "following-championship",
   "metadata": {},
   "outputs": [],
   "source": [
    "y=df['ga:productAddsToCart_transf']\n",
    "X=df[['month_sin','month_cos']]\n",
    "X_train, X_test, y_train, y_test = train_test_split(X, y,random_state=42)"
   ]
  },
  {
   "cell_type": "code",
   "execution_count": 16,
   "id": "current-turner",
   "metadata": {},
   "outputs": [
    {
     "name": "stdout",
     "output_type": "stream",
     "text": [
      "Optimization terminated successfully.\n",
      "         Current function value: 0.091629\n",
      "         Iterations 8\n",
      "<statsmodels.discrete.discrete_model.BinaryResultsWrapper object at 0x7fd51aa7aa00>\n"
     ]
    },
    {
     "data": {
      "text/html": [
       "<table class=\"simpletable\">\n",
       "<caption>Logit Regression Results</caption>\n",
       "<tr>\n",
       "  <th>Dep. Variable:</th>   <td>ga:productAddsToCart_transf</td> <th>  No. Observations:  </th>   <td>2952705</td>  \n",
       "</tr>\n",
       "<tr>\n",
       "  <th>Model:</th>                      <td>Logit</td>            <th>  Df Residuals:      </th>   <td>2952702</td>  \n",
       "</tr>\n",
       "<tr>\n",
       "  <th>Method:</th>                      <td>MLE</td>             <th>  Df Model:          </th>   <td>     2</td>   \n",
       "</tr>\n",
       "<tr>\n",
       "  <th>Date:</th>                 <td>Fri, 19 Mar 2021</td>       <th>  Pseudo R-squ.:     </th>  <td>0.003189</td>  \n",
       "</tr>\n",
       "<tr>\n",
       "  <th>Time:</th>                     <td>10:52:06</td>           <th>  Log-Likelihood:    </th> <td>-2.7055e+05</td>\n",
       "</tr>\n",
       "<tr>\n",
       "  <th>converged:</th>                  <td>True</td>             <th>  LL-Null:           </th> <td>-2.7142e+05</td>\n",
       "</tr>\n",
       "<tr>\n",
       "  <th>Covariance Type:</th>          <td>nonrobust</td>          <th>  LLR p-value:       </th>   <td> 0.000</td>   \n",
       "</tr>\n",
       "</table>\n",
       "<table class=\"simpletable\">\n",
       "<tr>\n",
       "      <td></td>         <th>coef</th>     <th>std err</th>      <th>z</th>      <th>P>|z|</th>  <th>[0.025</th>    <th>0.975]</th>  \n",
       "</tr>\n",
       "<tr>\n",
       "  <th>const</th>     <td>   -3.9029</td> <td>    0.005</td> <td> -855.409</td> <td> 0.000</td> <td>   -3.912</td> <td>   -3.894</td>\n",
       "</tr>\n",
       "<tr>\n",
       "  <th>month_sin</th> <td>   -0.0192</td> <td>    0.007</td> <td>   -2.934</td> <td> 0.003</td> <td>   -0.032</td> <td>   -0.006</td>\n",
       "</tr>\n",
       "<tr>\n",
       "  <th>month_cos</th> <td>   -0.2727</td> <td>    0.007</td> <td>  -41.218</td> <td> 0.000</td> <td>   -0.286</td> <td>   -0.260</td>\n",
       "</tr>\n",
       "</table>"
      ],
      "text/plain": [
       "<class 'statsmodels.iolib.summary.Summary'>\n",
       "\"\"\"\n",
       "                                Logit Regression Results                               \n",
       "=======================================================================================\n",
       "Dep. Variable:     ga:productAddsToCart_transf   No. Observations:              2952705\n",
       "Model:                                   Logit   Df Residuals:                  2952702\n",
       "Method:                                    MLE   Df Model:                            2\n",
       "Date:                         Fri, 19 Mar 2021   Pseudo R-squ.:                0.003189\n",
       "Time:                                 10:52:06   Log-Likelihood:            -2.7055e+05\n",
       "converged:                                True   LL-Null:                   -2.7142e+05\n",
       "Covariance Type:                     nonrobust   LLR p-value:                     0.000\n",
       "==============================================================================\n",
       "                 coef    std err          z      P>|z|      [0.025      0.975]\n",
       "------------------------------------------------------------------------------\n",
       "const         -3.9029      0.005   -855.409      0.000      -3.912      -3.894\n",
       "month_sin     -0.0192      0.007     -2.934      0.003      -0.032      -0.006\n",
       "month_cos     -0.2727      0.007    -41.218      0.000      -0.286      -0.260\n",
       "==============================================================================\n",
       "\"\"\""
      ]
     },
     "execution_count": 16,
     "metadata": {},
     "output_type": "execute_result"
    }
   ],
   "source": [
    "model_month_cycl, model_sum_month_cycl=reg_log(X_train)\n",
    "model_sum_month_cycl"
   ]
  },
  {
   "cell_type": "code",
   "execution_count": 17,
   "id": "advisory-heather",
   "metadata": {},
   "outputs": [
    {
     "name": "stdout",
     "output_type": "stream",
     "text": [
      "ACCURACY: 0.9814841155982915\n"
     ]
    },
    {
     "name": "stderr",
     "output_type": "stream",
     "text": [
      "/home/dsc/TFM/kschool_masterDS_TFM/env/lib/python3.9/site-packages/sklearn/metrics/_classification.py:1221: UndefinedMetricWarning: Precision is ill-defined and being set to 0.0 due to no predicted samples. Use `zero_division` parameter to control this behavior.\n",
      "  _warn_prf(average, modifier, msg_start, len(result))\n"
     ]
    },
    {
     "name": "stdout",
     "output_type": "stream",
     "text": [
      "PRECISION: 0.0\n",
      "RECALL: 0.0\n",
      "F1 SCORE: 0.0\n",
      "AUC: 0.552532450569327\n"
     ]
    },
    {
     "data": {
      "image/png": "[encoded data removed]",
      "text/plain": [
       "<Figure size 432x288 with 1 Axes>"
      ]
     },
     "metadata": {
      "needs_background": "light"
     },
     "output_type": "display_data"
    }
   ],
   "source": [
    "evaluate(X_test,y_test,model_month_cycl)"
   ]
  },
  {
   "cell_type": "markdown",
   "id": "durable-eight",
   "metadata": {},
   "source": [
    "#### Day of week"
   ]
  },
  {
   "cell_type": "markdown",
   "id": "opposed-timer",
   "metadata": {},
   "source": [
    "##### Day of Week as Numerical Feature"
   ]
  },
  {
   "cell_type": "code",
   "execution_count": 18,
   "id": "graduate-dispatch",
   "metadata": {},
   "outputs": [],
   "source": [
    "y=df['ga:productAddsToCart_transf']\n",
    "X=df[['dateTime_dayofweek']]\n",
    "X_train, X_test, y_train, y_test = train_test_split(X, y,random_state=42)"
   ]
  },
  {
   "cell_type": "code",
   "execution_count": 19,
   "id": "diverse-integral",
   "metadata": {},
   "outputs": [
    {
     "name": "stdout",
     "output_type": "stream",
     "text": [
      "Optimization terminated successfully.\n",
      "         Current function value: 0.091921\n",
      "         Iterations 8\n",
      "<statsmodels.discrete.discrete_model.BinaryResultsWrapper object at 0x7fd51a176f40>\n"
     ]
    },
    {
     "data": {
      "text/html": [
       "<table class=\"simpletable\">\n",
       "<caption>Logit Regression Results</caption>\n",
       "<tr>\n",
       "  <th>Dep. Variable:</th>   <td>ga:productAddsToCart_transf</td> <th>  No. Observations:  </th>   <td>2952705</td>  \n",
       "</tr>\n",
       "<tr>\n",
       "  <th>Model:</th>                      <td>Logit</td>            <th>  Df Residuals:      </th>   <td>2952703</td>  \n",
       "</tr>\n",
       "<tr>\n",
       "  <th>Method:</th>                      <td>MLE</td>             <th>  Df Model:          </th>   <td>     1</td>   \n",
       "</tr>\n",
       "<tr>\n",
       "  <th>Date:</th>                 <td>Fri, 19 Mar 2021</td>       <th>  Pseudo R-squ.:     </th>  <td>8.937e-06</td> \n",
       "</tr>\n",
       "<tr>\n",
       "  <th>Time:</th>                     <td>10:53:39</td>           <th>  Log-Likelihood:    </th> <td>-2.7142e+05</td>\n",
       "</tr>\n",
       "<tr>\n",
       "  <th>converged:</th>                  <td>True</td>             <th>  LL-Null:           </th> <td>-2.7142e+05</td>\n",
       "</tr>\n",
       "<tr>\n",
       "  <th>Covariance Type:</th>          <td>nonrobust</td>          <th>  LLR p-value:       </th>   <td>0.02763</td>  \n",
       "</tr>\n",
       "</table>\n",
       "<table class=\"simpletable\">\n",
       "<tr>\n",
       "           <td></td>             <th>coef</th>     <th>std err</th>      <th>z</th>      <th>P>|z|</th>  <th>[0.025</th>    <th>0.975]</th>  \n",
       "</tr>\n",
       "<tr>\n",
       "  <th>const</th>              <td>   -3.9604</td> <td>    0.008</td> <td> -517.347</td> <td> 0.000</td> <td>   -3.975</td> <td>   -3.945</td>\n",
       "</tr>\n",
       "<tr>\n",
       "  <th>dateTime_dayofweek</th> <td>   -0.0046</td> <td>    0.002</td> <td>   -2.203</td> <td> 0.028</td> <td>   -0.009</td> <td>   -0.001</td>\n",
       "</tr>\n",
       "</table>"
      ],
      "text/plain": [
       "<class 'statsmodels.iolib.summary.Summary'>\n",
       "\"\"\"\n",
       "                                Logit Regression Results                               \n",
       "=======================================================================================\n",
       "Dep. Variable:     ga:productAddsToCart_transf   No. Observations:              2952705\n",
       "Model:                                   Logit   Df Residuals:                  2952703\n",
       "Method:                                    MLE   Df Model:                            1\n",
       "Date:                         Fri, 19 Mar 2021   Pseudo R-squ.:               8.937e-06\n",
       "Time:                                 10:53:39   Log-Likelihood:            -2.7142e+05\n",
       "converged:                                True   LL-Null:                   -2.7142e+05\n",
       "Covariance Type:                     nonrobust   LLR p-value:                   0.02763\n",
       "======================================================================================\n",
       "                         coef    std err          z      P>|z|      [0.025      0.975]\n",
       "--------------------------------------------------------------------------------------\n",
       "const                 -3.9604      0.008   -517.347      0.000      -3.975      -3.945\n",
       "dateTime_dayofweek    -0.0046      0.002     -2.203      0.028      -0.009      -0.001\n",
       "======================================================================================\n",
       "\"\"\""
      ]
     },
     "execution_count": 19,
     "metadata": {},
     "output_type": "execute_result"
    }
   ],
   "source": [
    "model_dow, model_sum_dow=reg_log(X_train)\n",
    "model_sum_dow"
   ]
  },
  {
   "cell_type": "code",
   "execution_count": 20,
   "id": "severe-rapid",
   "metadata": {},
   "outputs": [
    {
     "name": "stdout",
     "output_type": "stream",
     "text": [
      "ACCURACY: 0.9814841155982915\n"
     ]
    },
    {
     "name": "stderr",
     "output_type": "stream",
     "text": [
      "/home/dsc/TFM/kschool_masterDS_TFM/env/lib/python3.9/site-packages/sklearn/metrics/_classification.py:1221: UndefinedMetricWarning: Precision is ill-defined and being set to 0.0 due to no predicted samples. Use `zero_division` parameter to control this behavior.\n",
      "  _warn_prf(average, modifier, msg_start, len(result))\n"
     ]
    },
    {
     "name": "stdout",
     "output_type": "stream",
     "text": [
      "PRECISION: 0.0\n",
      "RECALL: 0.0\n",
      "F1 SCORE: 0.0\n",
      "AUC: 0.5049882592953864\n"
     ]
    },
    {
     "data": {
      "image/png": "[encoded data removed]",
      "text/plain": [
       "<Figure size 432x288 with 1 Axes>"
      ]
     },
     "metadata": {
      "needs_background": "light"
     },
     "output_type": "display_data"
    }
   ],
   "source": [
    "evaluate(X_test,y_test,model_dow)"
   ]
  },
  {
   "cell_type": "markdown",
   "id": "preliminary-mistress",
   "metadata": {},
   "source": [
    "##### Day of Week as Cyclical Continuous Feature"
   ]
  },
  {
   "cell_type": "code",
   "execution_count": 21,
   "id": "white-citizenship",
   "metadata": {},
   "outputs": [],
   "source": [
    "y=df['ga:productAddsToCart_transf']\n",
    "X=df[['dayofweek_sin', 'dayofweek_cos']]\n",
    "X_train, X_test, y_train, y_test = train_test_split(X, y,random_state=42)"
   ]
  },
  {
   "cell_type": "code",
   "execution_count": 22,
   "id": "dramatic-spirituality",
   "metadata": {},
   "outputs": [
    {
     "name": "stdout",
     "output_type": "stream",
     "text": [
      "Optimization terminated successfully.\n",
      "         Current function value: 0.091920\n",
      "         Iterations 8\n",
      "<statsmodels.discrete.discrete_model.BinaryResultsWrapper object at 0x7fd51a1b3640>\n"
     ]
    },
    {
     "data": {
      "text/html": [
       "<table class=\"simpletable\">\n",
       "<caption>Logit Regression Results</caption>\n",
       "<tr>\n",
       "  <th>Dep. Variable:</th>   <td>ga:productAddsToCart_transf</td> <th>  No. Observations:  </th>   <td>2952705</td>  \n",
       "</tr>\n",
       "<tr>\n",
       "  <th>Model:</th>                      <td>Logit</td>            <th>  Df Residuals:      </th>   <td>2952702</td>  \n",
       "</tr>\n",
       "<tr>\n",
       "  <th>Method:</th>                      <td>MLE</td>             <th>  Df Model:          </th>   <td>     2</td>   \n",
       "</tr>\n",
       "<tr>\n",
       "  <th>Date:</th>                 <td>Fri, 19 Mar 2021</td>       <th>  Pseudo R-squ.:     </th>  <td>1.973e-05</td> \n",
       "</tr>\n",
       "<tr>\n",
       "  <th>Time:</th>                     <td>10:55:02</td>           <th>  Log-Likelihood:    </th> <td>-2.7141e+05</td>\n",
       "</tr>\n",
       "<tr>\n",
       "  <th>converged:</th>                  <td>True</td>             <th>  LL-Null:           </th> <td>-2.7142e+05</td>\n",
       "</tr>\n",
       "<tr>\n",
       "  <th>Covariance Type:</th>          <td>nonrobust</td>          <th>  LLR p-value:       </th>  <td>0.004725</td>  \n",
       "</tr>\n",
       "</table>\n",
       "<table class=\"simpletable\">\n",
       "<tr>\n",
       "        <td></td>           <th>coef</th>     <th>std err</th>      <th>z</th>      <th>P>|z|</th>  <th>[0.025</th>    <th>0.975]</th>  \n",
       "</tr>\n",
       "<tr>\n",
       "  <th>const</th>         <td>   -3.9754</td> <td>    0.004</td> <td> -915.888</td> <td> 0.000</td> <td>   -3.984</td> <td>   -3.967</td>\n",
       "</tr>\n",
       "<tr>\n",
       "  <th>dayofweek_sin</th> <td>   -0.0158</td> <td>    0.006</td> <td>   -2.567</td> <td> 0.010</td> <td>   -0.028</td> <td>   -0.004</td>\n",
       "</tr>\n",
       "<tr>\n",
       "  <th>dayofweek_cos</th> <td>    0.0121</td> <td>    0.006</td> <td>    1.991</td> <td> 0.047</td> <td>    0.000</td> <td>    0.024</td>\n",
       "</tr>\n",
       "</table>"
      ],
      "text/plain": [
       "<class 'statsmodels.iolib.summary.Summary'>\n",
       "\"\"\"\n",
       "                                Logit Regression Results                               \n",
       "=======================================================================================\n",
       "Dep. Variable:     ga:productAddsToCart_transf   No. Observations:              2952705\n",
       "Model:                                   Logit   Df Residuals:                  2952702\n",
       "Method:                                    MLE   Df Model:                            2\n",
       "Date:                         Fri, 19 Mar 2021   Pseudo R-squ.:               1.973e-05\n",
       "Time:                                 10:55:02   Log-Likelihood:            -2.7141e+05\n",
       "converged:                                True   LL-Null:                   -2.7142e+05\n",
       "Covariance Type:                     nonrobust   LLR p-value:                  0.004725\n",
       "=================================================================================\n",
       "                    coef    std err          z      P>|z|      [0.025      0.975]\n",
       "---------------------------------------------------------------------------------\n",
       "const            -3.9754      0.004   -915.888      0.000      -3.984      -3.967\n",
       "dayofweek_sin    -0.0158      0.006     -2.567      0.010      -0.028      -0.004\n",
       "dayofweek_cos     0.0121      0.006      1.991      0.047       0.000       0.024\n",
       "=================================================================================\n",
       "\"\"\""
      ]
     },
     "execution_count": 22,
     "metadata": {},
     "output_type": "execute_result"
    }
   ],
   "source": [
    "model_dow_cycl, model_sum_dow_cycl=reg_log(X_train)\n",
    "model_sum_dow_cycl"
   ]
  },
  {
   "cell_type": "code",
   "execution_count": 23,
   "id": "sporting-forestry",
   "metadata": {},
   "outputs": [
    {
     "name": "stdout",
     "output_type": "stream",
     "text": [
      "ACCURACY: 0.9814841155982915\n"
     ]
    },
    {
     "name": "stderr",
     "output_type": "stream",
     "text": [
      "/home/dsc/TFM/kschool_masterDS_TFM/env/lib/python3.9/site-packages/sklearn/metrics/_classification.py:1221: UndefinedMetricWarning: Precision is ill-defined and being set to 0.0 due to no predicted samples. Use `zero_division` parameter to control this behavior.\n",
      "  _warn_prf(average, modifier, msg_start, len(result))\n"
     ]
    },
    {
     "name": "stdout",
     "output_type": "stream",
     "text": [
      "PRECISION: 0.0\n",
      "RECALL: 0.0\n",
      "F1 SCORE: 0.0\n",
      "AUC: 0.5023049550574441\n"
     ]
    },
    {
     "data": {
      "image/png": "[encoded data removed]",
      "text/plain": [
       "<Figure size 432x288 with 1 Axes>"
      ]
     },
     "metadata": {
      "needs_background": "light"
     },
     "output_type": "display_data"
    }
   ],
   "source": [
    "evaluate(X_test,y_test,model_dow_cycl)"
   ]
  },
  {
   "cell_type": "markdown",
   "id": "absolute-steel",
   "metadata": {},
   "source": [
    "#### Hour"
   ]
  },
  {
   "cell_type": "markdown",
   "id": "lyric-illinois",
   "metadata": {},
   "source": [
    "##### Hour as Numerical Feature"
   ]
  },
  {
   "cell_type": "code",
   "execution_count": 24,
   "id": "similar-riverside",
   "metadata": {},
   "outputs": [],
   "source": [
    "y=df['ga:productAddsToCart_transf']\n",
    "X=df[['dateTime_hour']]\n",
    "X_train, X_test, y_train, y_test = train_test_split(X, y,random_state=42)"
   ]
  },
  {
   "cell_type": "code",
   "execution_count": 25,
   "id": "gothic-secret",
   "metadata": {},
   "outputs": [
    {
     "name": "stdout",
     "output_type": "stream",
     "text": [
      "Optimization terminated successfully.\n",
      "         Current function value: 0.091920\n",
      "         Iterations 8\n",
      "<statsmodels.discrete.discrete_model.BinaryResultsWrapper object at 0x7fd51a051c70>\n"
     ]
    },
    {
     "data": {
      "text/html": [
       "<table class=\"simpletable\">\n",
       "<caption>Logit Regression Results</caption>\n",
       "<tr>\n",
       "  <th>Dep. Variable:</th>   <td>ga:productAddsToCart_transf</td> <th>  No. Observations:  </th>   <td>2952705</td>  \n",
       "</tr>\n",
       "<tr>\n",
       "  <th>Model:</th>                      <td>Logit</td>            <th>  Df Residuals:      </th>   <td>2952703</td>  \n",
       "</tr>\n",
       "<tr>\n",
       "  <th>Method:</th>                      <td>MLE</td>             <th>  Df Model:          </th>   <td>     1</td>   \n",
       "</tr>\n",
       "<tr>\n",
       "  <th>Date:</th>                 <td>Fri, 19 Mar 2021</td>       <th>  Pseudo R-squ.:     </th>  <td>1.822e-05</td> \n",
       "</tr>\n",
       "<tr>\n",
       "  <th>Time:</th>                     <td>10:57:09</td>           <th>  Log-Likelihood:    </th> <td>-2.7141e+05</td>\n",
       "</tr>\n",
       "<tr>\n",
       "  <th>converged:</th>                  <td>True</td>             <th>  LL-Null:           </th> <td>-2.7142e+05</td>\n",
       "</tr>\n",
       "<tr>\n",
       "  <th>Covariance Type:</th>          <td>nonrobust</td>          <th>  LLR p-value:       </th>  <td>0.001660</td>  \n",
       "</tr>\n",
       "</table>\n",
       "<table class=\"simpletable\">\n",
       "<tr>\n",
       "        <td></td>           <th>coef</th>     <th>std err</th>      <th>z</th>      <th>P>|z|</th>  <th>[0.025</th>    <th>0.975]</th>  \n",
       "</tr>\n",
       "<tr>\n",
       "  <th>const</th>         <td>   -4.0084</td> <td>    0.012</td> <td> -342.741</td> <td> 0.000</td> <td>   -4.031</td> <td>   -3.985</td>\n",
       "</tr>\n",
       "<tr>\n",
       "  <th>dateTime_hour</th> <td>    0.0023</td> <td>    0.001</td> <td>    3.141</td> <td> 0.002</td> <td>    0.001</td> <td>    0.004</td>\n",
       "</tr>\n",
       "</table>"
      ],
      "text/plain": [
       "<class 'statsmodels.iolib.summary.Summary'>\n",
       "\"\"\"\n",
       "                                Logit Regression Results                               \n",
       "=======================================================================================\n",
       "Dep. Variable:     ga:productAddsToCart_transf   No. Observations:              2952705\n",
       "Model:                                   Logit   Df Residuals:                  2952703\n",
       "Method:                                    MLE   Df Model:                            1\n",
       "Date:                         Fri, 19 Mar 2021   Pseudo R-squ.:               1.822e-05\n",
       "Time:                                 10:57:09   Log-Likelihood:            -2.7141e+05\n",
       "converged:                                True   LL-Null:                   -2.7142e+05\n",
       "Covariance Type:                     nonrobust   LLR p-value:                  0.001660\n",
       "=================================================================================\n",
       "                    coef    std err          z      P>|z|      [0.025      0.975]\n",
       "---------------------------------------------------------------------------------\n",
       "const            -4.0084      0.012   -342.741      0.000      -4.031      -3.985\n",
       "dateTime_hour     0.0023      0.001      3.141      0.002       0.001       0.004\n",
       "=================================================================================\n",
       "\"\"\""
      ]
     },
     "execution_count": 25,
     "metadata": {},
     "output_type": "execute_result"
    }
   ],
   "source": [
    "model_hour, model_sum_hour=reg_log(X_train)\n",
    "model_sum_hour"
   ]
  },
  {
   "cell_type": "code",
   "execution_count": 26,
   "id": "complimentary-tractor",
   "metadata": {},
   "outputs": [
    {
     "name": "stdout",
     "output_type": "stream",
     "text": [
      "ACCURACY: 0.9814841155982915\n"
     ]
    },
    {
     "name": "stderr",
     "output_type": "stream",
     "text": [
      "/home/dsc/TFM/kschool_masterDS_TFM/env/lib/python3.9/site-packages/sklearn/metrics/_classification.py:1221: UndefinedMetricWarning: Precision is ill-defined and being set to 0.0 due to no predicted samples. Use `zero_division` parameter to control this behavior.\n",
      "  _warn_prf(average, modifier, msg_start, len(result))\n"
     ]
    },
    {
     "name": "stdout",
     "output_type": "stream",
     "text": [
      "PRECISION: 0.0\n",
      "RECALL: 0.0\n",
      "F1 SCORE: 0.0\n",
      "AUC: 0.49738492056220157\n"
     ]
    },
    {
     "data": {
      "image/png": "[encoded data removed]",
      "text/plain": [
       "<Figure size 432x288 with 1 Axes>"
      ]
     },
     "metadata": {
      "needs_background": "light"
     },
     "output_type": "display_data"
    }
   ],
   "source": [
    "evaluate(X_test,y_test,model_hour)"
   ]
  },
  {
   "cell_type": "markdown",
   "id": "gentle-virgin",
   "metadata": {},
   "source": [
    "##### Hour as Cyclical Continuous Feature"
   ]
  },
  {
   "cell_type": "code",
   "execution_count": 27,
   "id": "romantic-muslim",
   "metadata": {},
   "outputs": [],
   "source": [
    "y=df['ga:productAddsToCart_transf']\n",
    "X=df[['hour_sin', 'hour_cos']]\n",
    "X_train, X_test, y_train, y_test = train_test_split(X, y,random_state=42)"
   ]
  },
  {
   "cell_type": "code",
   "execution_count": 28,
   "id": "confused-firmware",
   "metadata": {},
   "outputs": [
    {
     "name": "stdout",
     "output_type": "stream",
     "text": [
      "Optimization terminated successfully.\n",
      "         Current function value: 0.091889\n",
      "         Iterations 8\n",
      "<statsmodels.discrete.discrete_model.BinaryResultsWrapper object at 0x7fd51a0c05b0>\n"
     ]
    },
    {
     "data": {
      "text/html": [
       "<table class=\"simpletable\">\n",
       "<caption>Logit Regression Results</caption>\n",
       "<tr>\n",
       "  <th>Dep. Variable:</th>   <td>ga:productAddsToCart_transf</td> <th>  No. Observations:  </th>   <td>2952705</td>  \n",
       "</tr>\n",
       "<tr>\n",
       "  <th>Model:</th>                      <td>Logit</td>            <th>  Df Residuals:      </th>   <td>2952702</td>  \n",
       "</tr>\n",
       "<tr>\n",
       "  <th>Method:</th>                      <td>MLE</td>             <th>  Df Model:          </th>   <td>     2</td>   \n",
       "</tr>\n",
       "<tr>\n",
       "  <th>Date:</th>                 <td>Fri, 19 Mar 2021</td>       <th>  Pseudo R-squ.:     </th>  <td>0.0003620</td> \n",
       "</tr>\n",
       "<tr>\n",
       "  <th>Time:</th>                     <td>10:57:53</td>           <th>  Log-Likelihood:    </th> <td>-2.7132e+05</td>\n",
       "</tr>\n",
       "<tr>\n",
       "  <th>converged:</th>                  <td>True</td>             <th>  LL-Null:           </th> <td>-2.7142e+05</td>\n",
       "</tr>\n",
       "<tr>\n",
       "  <th>Covariance Type:</th>          <td>nonrobust</td>          <th>  LLR p-value:       </th>  <td>2.126e-43</td> \n",
       "</tr>\n",
       "</table>\n",
       "<table class=\"simpletable\">\n",
       "<tr>\n",
       "      <td></td>        <th>coef</th>     <th>std err</th>      <th>z</th>      <th>P>|z|</th>  <th>[0.025</th>    <th>0.975]</th>  \n",
       "</tr>\n",
       "<tr>\n",
       "  <th>const</th>    <td>   -3.9901</td> <td>    0.005</td> <td> -773.890</td> <td> 0.000</td> <td>   -4.000</td> <td>   -3.980</td>\n",
       "</tr>\n",
       "<tr>\n",
       "  <th>hour_sin</th> <td>   -0.0054</td> <td>    0.007</td> <td>   -0.724</td> <td> 0.469</td> <td>   -0.020</td> <td>    0.009</td>\n",
       "</tr>\n",
       "<tr>\n",
       "  <th>hour_cos</th> <td>   -0.0861</td> <td>    0.006</td> <td>  -13.591</td> <td> 0.000</td> <td>   -0.099</td> <td>   -0.074</td>\n",
       "</tr>\n",
       "</table>"
      ],
      "text/plain": [
       "<class 'statsmodels.iolib.summary.Summary'>\n",
       "\"\"\"\n",
       "                                Logit Regression Results                               \n",
       "=======================================================================================\n",
       "Dep. Variable:     ga:productAddsToCart_transf   No. Observations:              2952705\n",
       "Model:                                   Logit   Df Residuals:                  2952702\n",
       "Method:                                    MLE   Df Model:                            2\n",
       "Date:                         Fri, 19 Mar 2021   Pseudo R-squ.:               0.0003620\n",
       "Time:                                 10:57:53   Log-Likelihood:            -2.7132e+05\n",
       "converged:                                True   LL-Null:                   -2.7142e+05\n",
       "Covariance Type:                     nonrobust   LLR p-value:                 2.126e-43\n",
       "==============================================================================\n",
       "                 coef    std err          z      P>|z|      [0.025      0.975]\n",
       "------------------------------------------------------------------------------\n",
       "const         -3.9901      0.005   -773.890      0.000      -4.000      -3.980\n",
       "hour_sin      -0.0054      0.007     -0.724      0.469      -0.020       0.009\n",
       "hour_cos      -0.0861      0.006    -13.591      0.000      -0.099      -0.074\n",
       "==============================================================================\n",
       "\"\"\""
      ]
     },
     "execution_count": 28,
     "metadata": {},
     "output_type": "execute_result"
    }
   ],
   "source": [
    "model_hour_cycl, model_sum_hour_cycl=reg_log(X_train)\n",
    "model_sum_hour_cycl"
   ]
  },
  {
   "cell_type": "code",
   "execution_count": 29,
   "id": "international-lodging",
   "metadata": {},
   "outputs": [
    {
     "name": "stdout",
     "output_type": "stream",
     "text": [
      "ACCURACY: 0.9814841155982915\n"
     ]
    },
    {
     "name": "stderr",
     "output_type": "stream",
     "text": [
      "/home/dsc/TFM/kschool_masterDS_TFM/env/lib/python3.9/site-packages/sklearn/metrics/_classification.py:1221: UndefinedMetricWarning: Precision is ill-defined and being set to 0.0 due to no predicted samples. Use `zero_division` parameter to control this behavior.\n",
      "  _warn_prf(average, modifier, msg_start, len(result))\n"
     ]
    },
    {
     "name": "stdout",
     "output_type": "stream",
     "text": [
      "PRECISION: 0.0\n",
      "RECALL: 0.0\n",
      "F1 SCORE: 0.0\n",
      "AUC: 0.5150940082664364\n"
     ]
    },
    {
     "data": {
      "image/png": "[encoded data removed]",
      "text/plain": [
       "<Figure size 432x288 with 1 Axes>"
      ]
     },
     "metadata": {
      "needs_background": "light"
     },
     "output_type": "display_data"
    }
   ],
   "source": [
    "evaluate(X_test,y_test,model_hour_cycl)"
   ]
  },
  {
   "cell_type": "markdown",
   "id": "smooth-vietnamese",
   "metadata": {},
   "source": [
    "#### Month + Day of Week + Hour"
   ]
  },
  {
   "cell_type": "markdown",
   "id": "unavailable-census",
   "metadata": {},
   "source": [
    "##### Month + Day + Hour as Numerical Feature"
   ]
  },
  {
   "cell_type": "code",
   "execution_count": 35,
   "id": "through-oregon",
   "metadata": {},
   "outputs": [],
   "source": [
    "y=df['ga:productAddsToCart_transf']\n",
    "X=df[['dateTime_month', 'dateTime_dayofweek', 'dateTime_hour']]\n",
    "X_train, X_test, y_train, y_test = train_test_split(X, y,random_state=42)"
   ]
  },
  {
   "cell_type": "code",
   "execution_count": 36,
   "id": "wooden-benefit",
   "metadata": {},
   "outputs": [
    {
     "name": "stdout",
     "output_type": "stream",
     "text": [
      "Optimization terminated successfully.\n",
      "         Current function value: 0.091912\n",
      "         Iterations 8\n",
      "<statsmodels.discrete.discrete_model.BinaryResultsWrapper object at 0x7fd519f76d00>\n"
     ]
    },
    {
     "data": {
      "text/html": [
       "<table class=\"simpletable\">\n",
       "<caption>Logit Regression Results</caption>\n",
       "<tr>\n",
       "  <th>Dep. Variable:</th>   <td>ga:productAddsToCart_transf</td> <th>  No. Observations:  </th>   <td>2952705</td>  \n",
       "</tr>\n",
       "<tr>\n",
       "  <th>Model:</th>                      <td>Logit</td>            <th>  Df Residuals:      </th>   <td>2952701</td>  \n",
       "</tr>\n",
       "<tr>\n",
       "  <th>Method:</th>                      <td>MLE</td>             <th>  Df Model:          </th>   <td>     3</td>   \n",
       "</tr>\n",
       "<tr>\n",
       "  <th>Date:</th>                 <td>Fri, 19 Mar 2021</td>       <th>  Pseudo R-squ.:     </th>  <td>0.0001077</td> \n",
       "</tr>\n",
       "<tr>\n",
       "  <th>Time:</th>                     <td>11:01:49</td>           <th>  Log-Likelihood:    </th> <td>-2.7139e+05</td>\n",
       "</tr>\n",
       "<tr>\n",
       "  <th>converged:</th>                  <td>True</td>             <th>  LL-Null:           </th> <td>-2.7142e+05</td>\n",
       "</tr>\n",
       "<tr>\n",
       "  <th>Covariance Type:</th>          <td>nonrobust</td>          <th>  LLR p-value:       </th>  <td>1.252e-12</td> \n",
       "</tr>\n",
       "</table>\n",
       "<table class=\"simpletable\">\n",
       "<tr>\n",
       "           <td></td>             <th>coef</th>     <th>std err</th>      <th>z</th>      <th>P>|z|</th>  <th>[0.025</th>    <th>0.975]</th>  \n",
       "</tr>\n",
       "<tr>\n",
       "  <th>const</th>              <td>   -4.0433</td> <td>    0.015</td> <td> -268.506</td> <td> 0.000</td> <td>   -4.073</td> <td>   -4.014</td>\n",
       "</tr>\n",
       "<tr>\n",
       "  <th>dateTime_month</th>     <td>    0.0067</td> <td>    0.001</td> <td>    6.561</td> <td> 0.000</td> <td>    0.005</td> <td>    0.009</td>\n",
       "</tr>\n",
       "<tr>\n",
       "  <th>dateTime_dayofweek</th> <td>   -0.0038</td> <td>    0.002</td> <td>   -1.832</td> <td> 0.067</td> <td>   -0.008</td> <td>    0.000</td>\n",
       "</tr>\n",
       "<tr>\n",
       "  <th>dateTime_hour</th>      <td>    0.0024</td> <td>    0.001</td> <td>    3.193</td> <td> 0.001</td> <td>    0.001</td> <td>    0.004</td>\n",
       "</tr>\n",
       "</table>"
      ],
      "text/plain": [
       "<class 'statsmodels.iolib.summary.Summary'>\n",
       "\"\"\"\n",
       "                                Logit Regression Results                               \n",
       "=======================================================================================\n",
       "Dep. Variable:     ga:productAddsToCart_transf   No. Observations:              2952705\n",
       "Model:                                   Logit   Df Residuals:                  2952701\n",
       "Method:                                    MLE   Df Model:                            3\n",
       "Date:                         Fri, 19 Mar 2021   Pseudo R-squ.:               0.0001077\n",
       "Time:                                 11:01:49   Log-Likelihood:            -2.7139e+05\n",
       "converged:                                True   LL-Null:                   -2.7142e+05\n",
       "Covariance Type:                     nonrobust   LLR p-value:                 1.252e-12\n",
       "======================================================================================\n",
       "                         coef    std err          z      P>|z|      [0.025      0.975]\n",
       "--------------------------------------------------------------------------------------\n",
       "const                 -4.0433      0.015   -268.506      0.000      -4.073      -4.014\n",
       "dateTime_month         0.0067      0.001      6.561      0.000       0.005       0.009\n",
       "dateTime_dayofweek    -0.0038      0.002     -1.832      0.067      -0.008       0.000\n",
       "dateTime_hour          0.0024      0.001      3.193      0.001       0.001       0.004\n",
       "======================================================================================\n",
       "\"\"\""
      ]
     },
     "execution_count": 36,
     "metadata": {},
     "output_type": "execute_result"
    }
   ],
   "source": [
    "model, model_sum=reg_log(X_train)\n",
    "model_sum"
   ]
  },
  {
   "cell_type": "code",
   "execution_count": 37,
   "id": "confidential-discount",
   "metadata": {},
   "outputs": [
    {
     "name": "stdout",
     "output_type": "stream",
     "text": [
      "ACCURACY: 0.9814841155982915\n"
     ]
    },
    {
     "name": "stderr",
     "output_type": "stream",
     "text": [
      "/home/dsc/TFM/kschool_masterDS_TFM/env/lib/python3.9/site-packages/sklearn/metrics/_classification.py:1221: UndefinedMetricWarning: Precision is ill-defined and being set to 0.0 due to no predicted samples. Use `zero_division` parameter to control this behavior.\n",
      "  _warn_prf(average, modifier, msg_start, len(result))\n"
     ]
    },
    {
     "name": "stdout",
     "output_type": "stream",
     "text": [
      "PRECISION: 0.0\n",
      "RECALL: 0.0\n",
      "F1 SCORE: 0.0\n",
      "AUC: 0.5045501241305833\n"
     ]
    },
    {
     "data": {
      "image/png": "[encoded data removed]",
      "text/plain": [
       "<Figure size 432x288 with 1 Axes>"
      ]
     },
     "metadata": {
      "needs_background": "light"
     },
     "output_type": "display_data"
    }
   ],
   "source": [
    "evaluate(X_test,y_test,model)"
   ]
  },
  {
   "cell_type": "markdown",
   "id": "critical-friendly",
   "metadata": {},
   "source": [
    "##### Month + Day + Hour as Cyclical Continuous Feature"
   ]
  },
  {
   "cell_type": "code",
   "execution_count": 32,
   "id": "seventh-department",
   "metadata": {},
   "outputs": [],
   "source": [
    "y=df['ga:productAddsToCart_transf']\n",
    "X=df[['month_sin','month_cos', 'dayofweek_sin', 'dayofweek_cos', 'hour_sin', 'hour_cos']]\n",
    "X_train, X_test, y_train, y_test = train_test_split(X, y,random_state=42)"
   ]
  },
  {
   "cell_type": "code",
   "execution_count": 33,
   "id": "inside-spectrum",
   "metadata": {},
   "outputs": [
    {
     "name": "stdout",
     "output_type": "stream",
     "text": [
      "Optimization terminated successfully.\n",
      "         Current function value: 0.091597\n",
      "         Iterations 8\n",
      "<statsmodels.discrete.discrete_model.BinaryResultsWrapper object at 0x7fd519f9f4f0>\n"
     ]
    },
    {
     "data": {
      "text/html": [
       "<table class=\"simpletable\">\n",
       "<caption>Logit Regression Results</caption>\n",
       "<tr>\n",
       "  <th>Dep. Variable:</th>   <td>ga:productAddsToCart_transf</td> <th>  No. Observations:  </th>   <td>2952705</td>  \n",
       "</tr>\n",
       "<tr>\n",
       "  <th>Model:</th>                      <td>Logit</td>            <th>  Df Residuals:      </th>   <td>2952698</td>  \n",
       "</tr>\n",
       "<tr>\n",
       "  <th>Method:</th>                      <td>MLE</td>             <th>  Df Model:          </th>   <td>     6</td>   \n",
       "</tr>\n",
       "<tr>\n",
       "  <th>Date:</th>                 <td>Fri, 19 Mar 2021</td>       <th>  Pseudo R-squ.:     </th>  <td>0.003532</td>  \n",
       "</tr>\n",
       "<tr>\n",
       "  <th>Time:</th>                     <td>11:01:13</td>           <th>  Log-Likelihood:    </th> <td>-2.7046e+05</td>\n",
       "</tr>\n",
       "<tr>\n",
       "  <th>converged:</th>                  <td>True</td>             <th>  LL-Null:           </th> <td>-2.7142e+05</td>\n",
       "</tr>\n",
       "<tr>\n",
       "  <th>Covariance Type:</th>          <td>nonrobust</td>          <th>  LLR p-value:       </th>   <td> 0.000</td>   \n",
       "</tr>\n",
       "</table>\n",
       "<table class=\"simpletable\">\n",
       "<tr>\n",
       "        <td></td>           <th>coef</th>     <th>std err</th>      <th>z</th>      <th>P>|z|</th>  <th>[0.025</th>    <th>0.975]</th>  \n",
       "</tr>\n",
       "<tr>\n",
       "  <th>const</th>         <td>   -3.9192</td> <td>    0.005</td> <td> -726.746</td> <td> 0.000</td> <td>   -3.930</td> <td>   -3.909</td>\n",
       "</tr>\n",
       "<tr>\n",
       "  <th>month_sin</th>     <td>   -0.0218</td> <td>    0.007</td> <td>   -3.305</td> <td> 0.001</td> <td>   -0.035</td> <td>   -0.009</td>\n",
       "</tr>\n",
       "<tr>\n",
       "  <th>month_cos</th>     <td>   -0.2719</td> <td>    0.007</td> <td>  -40.989</td> <td> 0.000</td> <td>   -0.285</td> <td>   -0.259</td>\n",
       "</tr>\n",
       "<tr>\n",
       "  <th>dayofweek_sin</th> <td>   -0.0304</td> <td>    0.006</td> <td>   -4.912</td> <td> 0.000</td> <td>   -0.043</td> <td>   -0.018</td>\n",
       "</tr>\n",
       "<tr>\n",
       "  <th>dayofweek_cos</th> <td>    0.0176</td> <td>    0.006</td> <td>    2.881</td> <td> 0.004</td> <td>    0.006</td> <td>    0.030</td>\n",
       "</tr>\n",
       "<tr>\n",
       "  <th>hour_sin</th>      <td>   -0.0042</td> <td>    0.007</td> <td>   -0.560</td> <td> 0.575</td> <td>   -0.019</td> <td>    0.010</td>\n",
       "</tr>\n",
       "<tr>\n",
       "  <th>hour_cos</th>      <td>   -0.0773</td> <td>    0.006</td> <td>  -12.193</td> <td> 0.000</td> <td>   -0.090</td> <td>   -0.065</td>\n",
       "</tr>\n",
       "</table>"
      ],
      "text/plain": [
       "<class 'statsmodels.iolib.summary.Summary'>\n",
       "\"\"\"\n",
       "                                Logit Regression Results                               \n",
       "=======================================================================================\n",
       "Dep. Variable:     ga:productAddsToCart_transf   No. Observations:              2952705\n",
       "Model:                                   Logit   Df Residuals:                  2952698\n",
       "Method:                                    MLE   Df Model:                            6\n",
       "Date:                         Fri, 19 Mar 2021   Pseudo R-squ.:                0.003532\n",
       "Time:                                 11:01:13   Log-Likelihood:            -2.7046e+05\n",
       "converged:                                True   LL-Null:                   -2.7142e+05\n",
       "Covariance Type:                     nonrobust   LLR p-value:                     0.000\n",
       "=================================================================================\n",
       "                    coef    std err          z      P>|z|      [0.025      0.975]\n",
       "---------------------------------------------------------------------------------\n",
       "const            -3.9192      0.005   -726.746      0.000      -3.930      -3.909\n",
       "month_sin        -0.0218      0.007     -3.305      0.001      -0.035      -0.009\n",
       "month_cos        -0.2719      0.007    -40.989      0.000      -0.285      -0.259\n",
       "dayofweek_sin    -0.0304      0.006     -4.912      0.000      -0.043      -0.018\n",
       "dayofweek_cos     0.0176      0.006      2.881      0.004       0.006       0.030\n",
       "hour_sin         -0.0042      0.007     -0.560      0.575      -0.019       0.010\n",
       "hour_cos         -0.0773      0.006    -12.193      0.000      -0.090      -0.065\n",
       "=================================================================================\n",
       "\"\"\""
      ]
     },
     "execution_count": 33,
     "metadata": {},
     "output_type": "execute_result"
    }
   ],
   "source": [
    "model, model_sum=reg_log(X_train)\n",
    "model_sum"
   ]
  },
  {
   "cell_type": "code",
   "execution_count": 34,
   "id": "plastic-instrument",
   "metadata": {},
   "outputs": [
    {
     "name": "stdout",
     "output_type": "stream",
     "text": [
      "ACCURACY: 0.9814841155982915\n"
     ]
    },
    {
     "name": "stderr",
     "output_type": "stream",
     "text": [
      "/home/dsc/TFM/kschool_masterDS_TFM/env/lib/python3.9/site-packages/sklearn/metrics/_classification.py:1221: UndefinedMetricWarning: Precision is ill-defined and being set to 0.0 due to no predicted samples. Use `zero_division` parameter to control this behavior.\n",
      "  _warn_prf(average, modifier, msg_start, len(result))\n"
     ]
    },
    {
     "name": "stdout",
     "output_type": "stream",
     "text": [
      "PRECISION: 0.0\n",
      "RECALL: 0.0\n",
      "F1 SCORE: 0.0\n",
      "AUC: 0.5558743612640854\n"
     ]
    },
    {
     "data": {
      "image/png": "[encoded data removed]",
      "text/plain": [
       "<Figure size 432x288 with 1 Axes>"
      ]
     },
     "metadata": {
      "needs_background": "light"
     },
     "output_type": "display_data"
    }
   ],
   "source": [
    "evaluate(X_test,y_test,model)"
   ]
  },
  {
   "cell_type": "markdown",
   "id": "experienced-ambassador",
   "metadata": {},
   "source": [
    "##### Baseline + Month, Day of Week and Hour as Numerical Features"
   ]
  },
  {
   "cell_type": "code",
   "execution_count": 57,
   "id": "agreed-cooperation",
   "metadata": {},
   "outputs": [
    {
     "data": {
      "text/plain": [
       "Index(['ga:productSKU', 'ga:dateHourMinute', 'ga:pagePath', 'ga:pageDepth',\n",
       "       'ga:sessionCount', 'ga:daysSinceLastSession', 'ga:sourceMedium',\n",
       "       'ga:city', 'ga:deviceCategory', 'ga:operatingSystem',\n",
       "       'ga:productListViews', 'ga:productListClicks', 'ga:productDetailViews',\n",
       "       'ga:productAddsToCart', 'ga:productAddsToCart_transf', 'dateTime',\n",
       "       'dateTime_year', 'dateTime_month', 'dateTime_dayofweek',\n",
       "       'dateTime_hour', 'month_sin', 'month_cos', 'dayofweek_sin',\n",
       "       'dayofweek_cos', 'hour_sin', 'hour_cos'],\n",
       "      dtype='object')"
      ]
     },
     "execution_count": 57,
     "metadata": {},
     "output_type": "execute_result"
    }
   ],
   "source": [
    "df.columns"
   ]
  },
  {
   "cell_type": "code",
   "execution_count": 58,
   "id": "creative-ethnic",
   "metadata": {},
   "outputs": [],
   "source": [
    "y=df['ga:productAddsToCart_transf']\n",
    "X=df[['ga:pageDepth','ga:sessionCount','dateTime_month', 'dateTime_dayofweek', 'dateTime_hour']]\n",
    "X_train, X_test, y_train, y_test = train_test_split(X, y,random_state=42)"
   ]
  },
  {
   "cell_type": "code",
   "execution_count": 59,
   "id": "unnecessary-reliance",
   "metadata": {},
   "outputs": [
    {
     "name": "stdout",
     "output_type": "stream",
     "text": [
      "Optimization terminated successfully.\n",
      "         Current function value: 0.091450\n",
      "         Iterations 9\n",
      "<statsmodels.discrete.discrete_model.BinaryResultsWrapper object at 0x7f2daea434c0>\n"
     ]
    },
    {
     "data": {
      "text/html": [
       "<table class=\"simpletable\">\n",
       "<caption>Logit Regression Results</caption>\n",
       "<tr>\n",
       "  <th>Dep. Variable:</th>   <td>ga:productAddsToCart_transf</td> <th>  No. Observations:  </th>   <td>2952705</td>  \n",
       "</tr>\n",
       "<tr>\n",
       "  <th>Model:</th>                      <td>Logit</td>            <th>  Df Residuals:      </th>   <td>2952699</td>  \n",
       "</tr>\n",
       "<tr>\n",
       "  <th>Method:</th>                      <td>MLE</td>             <th>  Df Model:          </th>   <td>     5</td>   \n",
       "</tr>\n",
       "<tr>\n",
       "  <th>Date:</th>                 <td>Fri, 19 Mar 2021</td>       <th>  Pseudo R-squ.:     </th>  <td>0.005134</td>  \n",
       "</tr>\n",
       "<tr>\n",
       "  <th>Time:</th>                     <td>13:15:25</td>           <th>  Log-Likelihood:    </th> <td>-2.7002e+05</td>\n",
       "</tr>\n",
       "<tr>\n",
       "  <th>converged:</th>                  <td>True</td>             <th>  LL-Null:           </th> <td>-2.7142e+05</td>\n",
       "</tr>\n",
       "<tr>\n",
       "  <th>Covariance Type:</th>          <td>nonrobust</td>          <th>  LLR p-value:       </th>   <td> 0.000</td>   \n",
       "</tr>\n",
       "</table>\n",
       "<table class=\"simpletable\">\n",
       "<tr>\n",
       "           <td></td>             <th>coef</th>     <th>std err</th>      <th>z</th>      <th>P>|z|</th>  <th>[0.025</th>    <th>0.975]</th>  \n",
       "</tr>\n",
       "<tr>\n",
       "  <th>const</th>              <td>   -4.1584</td> <td>    0.015</td> <td> -273.639</td> <td> 0.000</td> <td>   -4.188</td> <td>   -4.129</td>\n",
       "</tr>\n",
       "<tr>\n",
       "  <th>ga:pageDepth</th>       <td>    0.0125</td> <td>    0.000</td> <td>   55.939</td> <td> 0.000</td> <td>    0.012</td> <td>    0.013</td>\n",
       "</tr>\n",
       "<tr>\n",
       "  <th>ga:sessionCount</th>    <td>   -0.0012</td> <td>    0.000</td> <td>  -11.104</td> <td> 0.000</td> <td>   -0.001</td> <td>   -0.001</td>\n",
       "</tr>\n",
       "<tr>\n",
       "  <th>dateTime_month</th>     <td>    0.0075</td> <td>    0.001</td> <td>    7.303</td> <td> 0.000</td> <td>    0.005</td> <td>    0.009</td>\n",
       "</tr>\n",
       "<tr>\n",
       "  <th>dateTime_dayofweek</th> <td>   -0.0107</td> <td>    0.002</td> <td>   -5.101</td> <td> 0.000</td> <td>   -0.015</td> <td>   -0.007</td>\n",
       "</tr>\n",
       "<tr>\n",
       "  <th>dateTime_hour</th>      <td>    0.0015</td> <td>    0.001</td> <td>    2.065</td> <td> 0.039</td> <td> 7.81e-05</td> <td>    0.003</td>\n",
       "</tr>\n",
       "</table>"
      ],
      "text/plain": [
       "<class 'statsmodels.iolib.summary.Summary'>\n",
       "\"\"\"\n",
       "                                Logit Regression Results                               \n",
       "=======================================================================================\n",
       "Dep. Variable:     ga:productAddsToCart_transf   No. Observations:              2952705\n",
       "Model:                                   Logit   Df Residuals:                  2952699\n",
       "Method:                                    MLE   Df Model:                            5\n",
       "Date:                         Fri, 19 Mar 2021   Pseudo R-squ.:                0.005134\n",
       "Time:                                 13:15:25   Log-Likelihood:            -2.7002e+05\n",
       "converged:                                True   LL-Null:                   -2.7142e+05\n",
       "Covariance Type:                     nonrobust   LLR p-value:                     0.000\n",
       "======================================================================================\n",
       "                         coef    std err          z      P>|z|      [0.025      0.975]\n",
       "--------------------------------------------------------------------------------------\n",
       "const                 -4.1584      0.015   -273.639      0.000      -4.188      -4.129\n",
       "ga:pageDepth           0.0125      0.000     55.939      0.000       0.012       0.013\n",
       "ga:sessionCount       -0.0012      0.000    -11.104      0.000      -0.001      -0.001\n",
       "dateTime_month         0.0075      0.001      7.303      0.000       0.005       0.009\n",
       "dateTime_dayofweek    -0.0107      0.002     -5.101      0.000      -0.015      -0.007\n",
       "dateTime_hour          0.0015      0.001      2.065      0.039    7.81e-05       0.003\n",
       "======================================================================================\n",
       "\"\"\""
      ]
     },
     "execution_count": 59,
     "metadata": {},
     "output_type": "execute_result"
    }
   ],
   "source": [
    "model, model_sum=reg_log(X_train)\n",
    "model_sum"
   ]
  },
  {
   "cell_type": "code",
   "execution_count": 61,
   "id": "straight-leisure",
   "metadata": {},
   "outputs": [
    {
     "name": "stdout",
     "output_type": "stream",
     "text": [
      "ACCURACY: 0.9814841155982915\n"
     ]
    },
    {
     "name": "stderr",
     "output_type": "stream",
     "text": [
      "/home/dsc/TFM/kschool_masterDS_TFM/env/lib/python3.9/site-packages/sklearn/metrics/_classification.py:1221: UndefinedMetricWarning: Precision is ill-defined and being set to 0.0 due to no predicted samples. Use `zero_division` parameter to control this behavior.\n",
      "  _warn_prf(average, modifier, msg_start, len(result))\n"
     ]
    },
    {
     "name": "stdout",
     "output_type": "stream",
     "text": [
      "PRECISION: 0.0\n",
      "RECALL: 0.0\n",
      "F1 SCORE: 0.0\n",
      "AUC: 0.6121800898321983\n"
     ]
    },
    {
     "data": {
      "image/png": "[encoded data removed]",
      "text/plain": [
       "<Figure size 432x288 with 1 Axes>"
      ]
     },
     "metadata": {
      "needs_background": "light"
     },
     "output_type": "display_data"
    }
   ],
   "source": [
    "evaluate(X_test,y_test,model)"
   ]
  },
  {
   "cell_type": "markdown",
   "id": "subsequent-reform",
   "metadata": {},
   "source": [
    "##### Baseline + Month, Day of Week and Hour as Cyclical Continous Features "
   ]
  },
  {
   "cell_type": "code",
   "execution_count": 14,
   "id": "arbitrary-annual",
   "metadata": {},
   "outputs": [],
   "source": [
    "y=df['ga:productAddsToCart_transf']\n",
    "X=df[['ga:pageDepth','ga:sessionCount','month_sin','month_cos', 'dayofweek_sin', 'dayofweek_cos', 'hour_sin', 'hour_cos']]\n",
    "X_train, X_test, y_train, y_test = train_test_split(X, y,random_state=42)"
   ]
  },
  {
   "cell_type": "code",
   "execution_count": 15,
   "id": "bizarre-seven",
   "metadata": {},
   "outputs": [
    {
     "name": "stdout",
     "output_type": "stream",
     "text": [
      "Optimization terminated successfully.\n",
      "         Current function value: 0.091060\n",
      "         Iterations 9\n",
      "<statsmodels.discrete.discrete_model.BinaryResultsWrapper object at 0x7f3e51d5e670>\n"
     ]
    },
    {
     "data": {
      "text/html": [
       "<table class=\"simpletable\">\n",
       "<caption>Logit Regression Results</caption>\n",
       "<tr>\n",
       "  <th>Dep. Variable:</th>   <td>ga:productAddsToCart_transf</td> <th>  No. Observations:  </th>   <td>2952705</td>  \n",
       "</tr>\n",
       "<tr>\n",
       "  <th>Model:</th>                      <td>Logit</td>            <th>  Df Residuals:      </th>   <td>2952696</td>  \n",
       "</tr>\n",
       "<tr>\n",
       "  <th>Method:</th>                      <td>MLE</td>             <th>  Df Model:          </th>   <td>     8</td>   \n",
       "</tr>\n",
       "<tr>\n",
       "  <th>Date:</th>                 <td>Fri, 19 Mar 2021</td>       <th>  Pseudo R-squ.:     </th>  <td>0.009374</td>  \n",
       "</tr>\n",
       "<tr>\n",
       "  <th>Time:</th>                     <td>13:19:30</td>           <th>  Log-Likelihood:    </th> <td>-2.6887e+05</td>\n",
       "</tr>\n",
       "<tr>\n",
       "  <th>converged:</th>                  <td>True</td>             <th>  LL-Null:           </th> <td>-2.7142e+05</td>\n",
       "</tr>\n",
       "<tr>\n",
       "  <th>Covariance Type:</th>          <td>nonrobust</td>          <th>  LLR p-value:       </th>   <td> 0.000</td>   \n",
       "</tr>\n",
       "</table>\n",
       "<table class=\"simpletable\">\n",
       "<tr>\n",
       "         <td></td>            <th>coef</th>     <th>std err</th>      <th>z</th>      <th>P>|z|</th>  <th>[0.025</th>    <th>0.975]</th>  \n",
       "</tr>\n",
       "<tr>\n",
       "  <th>const</th>           <td>   -4.0527</td> <td>    0.006</td> <td> -660.810</td> <td> 0.000</td> <td>   -4.065</td> <td>   -4.041</td>\n",
       "</tr>\n",
       "<tr>\n",
       "  <th>ga:pageDepth</th>    <td>    0.0132</td> <td>    0.000</td> <td>   59.381</td> <td> 0.000</td> <td>    0.013</td> <td>    0.014</td>\n",
       "</tr>\n",
       "<tr>\n",
       "  <th>ga:sessionCount</th> <td>   -0.0017</td> <td>    0.000</td> <td>  -13.123</td> <td> 0.000</td> <td>   -0.002</td> <td>   -0.001</td>\n",
       "</tr>\n",
       "<tr>\n",
       "  <th>month_sin</th>       <td>   -0.0173</td> <td>    0.007</td> <td>   -2.614</td> <td> 0.009</td> <td>   -0.030</td> <td>   -0.004</td>\n",
       "</tr>\n",
       "<tr>\n",
       "  <th>month_cos</th>       <td>   -0.3071</td> <td>    0.007</td> <td>  -45.912</td> <td> 0.000</td> <td>   -0.320</td> <td>   -0.294</td>\n",
       "</tr>\n",
       "<tr>\n",
       "  <th>dayofweek_sin</th>   <td>   -0.0067</td> <td>    0.006</td> <td>   -1.071</td> <td> 0.284</td> <td>   -0.019</td> <td>    0.006</td>\n",
       "</tr>\n",
       "<tr>\n",
       "  <th>dayofweek_cos</th>   <td>    0.0174</td> <td>    0.006</td> <td>    2.837</td> <td> 0.005</td> <td>    0.005</td> <td>    0.029</td>\n",
       "</tr>\n",
       "<tr>\n",
       "  <th>hour_sin</th>        <td>    0.0117</td> <td>    0.007</td> <td>    1.574</td> <td> 0.116</td> <td>   -0.003</td> <td>    0.026</td>\n",
       "</tr>\n",
       "<tr>\n",
       "  <th>hour_cos</th>        <td>   -0.0792</td> <td>    0.006</td> <td>  -12.472</td> <td> 0.000</td> <td>   -0.092</td> <td>   -0.067</td>\n",
       "</tr>\n",
       "</table>"
      ],
      "text/plain": [
       "<class 'statsmodels.iolib.summary.Summary'>\n",
       "\"\"\"\n",
       "                                Logit Regression Results                               \n",
       "=======================================================================================\n",
       "Dep. Variable:     ga:productAddsToCart_transf   No. Observations:              2952705\n",
       "Model:                                   Logit   Df Residuals:                  2952696\n",
       "Method:                                    MLE   Df Model:                            8\n",
       "Date:                         Fri, 19 Mar 2021   Pseudo R-squ.:                0.009374\n",
       "Time:                                 13:19:30   Log-Likelihood:            -2.6887e+05\n",
       "converged:                                True   LL-Null:                   -2.7142e+05\n",
       "Covariance Type:                     nonrobust   LLR p-value:                     0.000\n",
       "===================================================================================\n",
       "                      coef    std err          z      P>|z|      [0.025      0.975]\n",
       "-----------------------------------------------------------------------------------\n",
       "const              -4.0527      0.006   -660.810      0.000      -4.065      -4.041\n",
       "ga:pageDepth        0.0132      0.000     59.381      0.000       0.013       0.014\n",
       "ga:sessionCount    -0.0017      0.000    -13.123      0.000      -0.002      -0.001\n",
       "month_sin          -0.0173      0.007     -2.614      0.009      -0.030      -0.004\n",
       "month_cos          -0.3071      0.007    -45.912      0.000      -0.320      -0.294\n",
       "dayofweek_sin      -0.0067      0.006     -1.071      0.284      -0.019       0.006\n",
       "dayofweek_cos       0.0174      0.006      2.837      0.005       0.005       0.029\n",
       "hour_sin            0.0117      0.007      1.574      0.116      -0.003       0.026\n",
       "hour_cos           -0.0792      0.006    -12.472      0.000      -0.092      -0.067\n",
       "===================================================================================\n",
       "\"\"\""
      ]
     },
     "execution_count": 15,
     "metadata": {},
     "output_type": "execute_result"
    }
   ],
   "source": [
    "model, model_sum=reg_log(X_train)\n",
    "model_sum"
   ]
  },
  {
   "cell_type": "code",
   "execution_count": 17,
   "id": "continent-concept",
   "metadata": {},
   "outputs": [
    {
     "name": "stdout",
     "output_type": "stream",
     "text": [
      "ACCURACY: 0.9814841155982915\n"
     ]
    },
    {
     "name": "stderr",
     "output_type": "stream",
     "text": [
      "/home/dsc/TFM/kschool_masterDS_TFM/env/lib/python3.9/site-packages/sklearn/metrics/_classification.py:1221: UndefinedMetricWarning: Precision is ill-defined and being set to 0.0 due to no predicted samples. Use `zero_division` parameter to control this behavior.\n",
      "  _warn_prf(average, modifier, msg_start, len(result))\n"
     ]
    },
    {
     "name": "stdout",
     "output_type": "stream",
     "text": [
      "PRECISION: 0.0\n",
      "RECALL: 0.0\n",
      "F1 SCORE: 0.0\n",
      "AUC: 0.5921424090477037\n"
     ]
    },
    {
     "data": {
      "image/png": "[encoded data removed]",
      "text/plain": [
       "<Figure size 432x288 with 1 Axes>"
      ]
     },
     "metadata": {
      "needs_background": "light"
     },
     "output_type": "display_data"
    }
   ],
   "source": [
    "evaluate(X_test,y_test,model)"
   ]
  },
  {
   "cell_type": "code",
   "execution_count": null,
   "id": "catholic-engine",
   "metadata": {},
   "outputs": [],
   "source": []
  }
 ],
 "metadata": {
  "kernelspec": {
   "display_name": "Python 3",
   "language": "python",
   "name": "python3"
  },
  "language_info": {
   "codemirror_mode": {
    "name": "ipython",
    "version": 3
   },
   "file_extension": ".py",
   "mimetype": "text/x-python",
   "name": "python",
   "nbconvert_exporter": "python",
   "pygments_lexer": "ipython3",
   "version": "3.9.1"
  },
  "toc": {
   "base_numbering": 1,
   "nav_menu": {},
   "number_sections": true,
   "sideBar": true,
   "skip_h1_title": false,
   "title_cell": "Table of Contents",
   "title_sidebar": "Contents",
   "toc_cell": true,
   "toc_position": {
    "height": "calc(100% - 180px)",
    "left": "10px",
    "top": "150px",
    "width": "352px"
   },
   "toc_section_display": true,
   "toc_window_display": true
  }
 },
 "nbformat": 4,
 "nbformat_minor": 5
}
