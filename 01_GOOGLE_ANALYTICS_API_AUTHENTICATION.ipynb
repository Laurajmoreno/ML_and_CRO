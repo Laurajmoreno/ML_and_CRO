{
 "cells": [
  {
   "cell_type": "markdown",
   "metadata": {
    "toc": true
   },
   "source": [
    "<h1>Table of Contents<span class=\"tocSkip\"></span></h1>\n",
    "<div class=\"toc\"><ul class=\"toc-item\"><li><span><a href=\"#Preconfiguración\" data-toc-modified-id=\"Preconfiguración-1\"><span class=\"toc-item-num\">1&nbsp;&nbsp;</span>Preconfiguración</a></span></li><li><span><a href=\"#Configuración-y-autenticación\" data-toc-modified-id=\"Configuración-y-autenticación-2\"><span class=\"toc-item-num\">2&nbsp;&nbsp;</span>Configuración y autenticación</a></span></li><li><span><a href=\"#Referencias-y-observaciones\" data-toc-modified-id=\"Referencias-y-observaciones-3\"><span class=\"toc-item-num\">3&nbsp;&nbsp;</span>Referencias y observaciones</a></span></li></ul></div>"
   ]
  },
  {
   "cell_type": "markdown",
   "metadata": {},
   "source": [
    "En este primer notebook, se enumeran de manera detallada los pasos que se siguieron para configurar la **API de Google Analytics**. \n",
    "\n",
    "__\n",
    "\n",
    "**ATENCIÓN**: Las siguientes celdas no són replicables. Se recomienda no ejecutarlas. Más información en el documento de Memoria del proyecto."
   ]
  },
  {
   "cell_type": "markdown",
   "metadata": {},
   "source": [
    "# Preconfiguración"
   ]
  },
  {
   "cell_type": "markdown",
   "metadata": {},
   "source": [
    "Para hacer uso de la API de Google Analytics, es necesario registrar la aplicación en la consola de APIs de Google. Para ello, se siguieron los pasos de la  herramienta de configuración: https://console.developers.google.com/flows/enableapi?apiid=analyticsreporting.googleapis.com&credential=client_key&hl=es\n",
    "\n",
    "1. Crear o seleccionar un proyecto (en este caso: dsproject2021) y **habilitar Analytics Report API**.\n",
    "2. Añadir **credenciales** al proyecto:\n",
    "\n",
    "    a. Completar el formulario para ver el tipo de credenciales necesarias:\n",
    "        - ¿Qué API estás utilizando? > Analytics Reporting API\n",
    "        - ¿Desde dónde llamarás a la API? > Otra UI (Windows, herramienta de CLI...)\n",
    "        - ¿A qué tipos de datos accederas? > Datos de usuario (Accede a datos pertenecientes a un usuario de Google, con su permiso)\n",
    "        \n",
    "    b. Al seleccionar estas opciones, se abre una ventana para configurar la **pantalla de consentimimiento**:\n",
    "        - User type > Externos (Estará a disposición de cualquier usuario de prueba con una cuenta de Google. La aplicación se iniciará en modo de prueba y solo estará disponible para los usuarios que añadas a la lista de usuarios de prueba.)\n",
    "        - Datos obligatorios: Nombre de la aplicación, Email de asistencia al usuario e email del desarrollador\n",
    "        - Otros datos no obligatorios: Logotipo de la aplicación, Página principal de la aplicación, Enlace a la política de privacidad de la aplicación, Enlace a los terminos de servicio de la aplicación y dominios autorizados. \n",
    "        - Añadir o quitar permisos > Seleccionar 'Ver tu direccion de correo electrónico' y 'Ver y descargar tus Datos de Google Analytics\" en Analytics Reporting API\n",
    "        - Añadir usuarios de prueba con sus correos electrónicos de GMAIL (Mientras el estado de publicación aparezca como \"En prueba\", solo podrán acceder a la aplicación los usuarios de prueba. El límite de usuarios permitido antes de proceder a la verificación de la aplicación es de 100 y se calcula a lo largo de la vida de la aplicación)\n",
    "    c. **Crear credenciales**:\n",
    "        - Hacer clic en crear credenciales\n",
    "        - Seleccionar ID de Cliente de OAuth\n",
    "        - En 'Tipo de Aplicación', seleccionar 'Aplicación para ordenadores'\n",
    "        - En 'ID de cliente', indicar 'quickstart' y hacer clic en 'Crear'\n",
    "        - En la página principal de credenciales, en el campo 'IDs de Clientes OAUth\" descargar la credencial correspondiente a quickstart y renombrarla como client_secrets.json"
   ]
  },
  {
   "cell_type": "markdown",
   "metadata": {},
   "source": [
    "# Configuración y autenticación\n",
    "\n",
    "1. Instalar la **biblioteca de cliente** de la API de Google en nuestro entorno: *! conda install -c conda-forge google-api-python-client*\n",
    "\n",
    "2. Crear fichero **HelloAnalytics.py** con el código suministrado en: https://developers.google.com/analytics/devguides/reporting/core/v3/quickstart/service-py:\n",
    "\n",
    "3. Sustituir VIEW_ID con el **ID de la cuenta de Analytics** a la que queremos acceder. Consultarlo en: https://ga-dev-tools.appspot.com/account-explorer/\n",
    "\n",
    "4. Mover el fichero **client_secrets.json** descargado en la preconfiguración, al directorio de trabajo donde también se encuentre HelloAnalytics.py.\n",
    "\n",
    "5. **Ejecutar** el código de muestra:"
   ]
  },
  {
   "cell_type": "code",
   "execution_count": 2,
   "metadata": {},
   "outputs": [
    {
     "name": "stdout",
     "output_type": "stream",
     "text": [
      "     1\t\"\"\"Hello Analytics Reporting API V4.\"\"\"\r\n",
      "     2\t\r\n",
      "     3\timport argparse\r\n",
      "     4\t\r\n",
      "     5\tfrom apiclient.discovery import build\r\n",
      "     6\timport httplib2\r\n",
      "     7\tfrom oauth2client import client\r\n",
      "     8\tfrom oauth2client import file\r\n",
      "     9\tfrom oauth2client import tools\r\n",
      "    10\t\r\n",
      "    11\tSCOPES = ['https://www.googleapis.com/auth/analytics.readonly']\r\n",
      "    12\tCLIENT_SECRETS_PATH = 'client_secrets.json' # Path to client_secrets.json file.\r\n",
      "    13\tVIEW_ID = '151304036'\r\n",
      "    14\t\r\n",
      "    15\t\r\n",
      "    16\tdef initialize_analyticsreporting():\r\n",
      "    17\t  \"\"\"Initializes the analyticsreporting service object.\r\n",
      "    18\t\r\n",
      "    19\t  Returns:\r\n",
      "    20\t    analytics an authorized analyticsreporting service object.\r\n",
      "    21\t  \"\"\"\r\n",
      "    22\t  # Parse command-line arguments.\r\n",
      "    23\t  parser = argparse.ArgumentParser(\r\n",
      "    24\t      formatter_class=argparse.RawDescriptionHelpFormatter,\r\n",
      "    25\t      parents=[tools.argparser])\r\n",
      "    26\t  flags = parser.parse_args([])\r\n",
      "    27\t\r\n",
      "    28\t  # Set up a Flow object to be used if we need to authenticate.\r\n",
      "    29\t  flow = client.flow_from_clientsecrets(\r\n",
      "    30\t      CLIENT_SECRETS_PATH, scope=SCOPES,\r\n",
      "    31\t      message=tools.message_if_missing(CLIENT_SECRETS_PATH))\r\n",
      "    32\t\r\n",
      "    33\t  # Prepare credentials, and authorize HTTP object with them.\r\n",
      "    34\t  # If the credentials don't exist or are invalid run through the native client\r\n",
      "    35\t  # flow. The Storage object will ensure that if successful the good\r\n",
      "    36\t  # credentials will get written back to a file.\r\n",
      "    37\t  storage = file.Storage('analyticsreporting.dat')\r\n",
      "    38\t  credentials = storage.get()\r\n",
      "    39\t  if credentials is None or credentials.invalid:\r\n",
      "    40\t    credentials = tools.run_flow(flow, storage, flags)\r\n",
      "    41\t  http = credentials.authorize(http=httplib2.Http())\r\n",
      "    42\t\r\n",
      "    43\t  # Build the service object.\r\n",
      "    44\t  analytics = build('analyticsreporting', 'v4', http=http)\r\n",
      "    45\t\r\n",
      "    46\t  return analytics\r\n",
      "    47\t\r\n",
      "    48\tdef get_report(analytics):\r\n",
      "    49\t  # Use the Analytics Service Object to query the Analytics Reporting API V4.\r\n",
      "    50\t  return analytics.reports().batchGet(\r\n",
      "    51\t      body={\r\n",
      "    52\t        'reportRequests': [\r\n",
      "    53\t        {\r\n",
      "    54\t          'viewId': VIEW_ID,\r\n",
      "    55\t          'dateRanges': [{'startDate': '7daysAgo', 'endDate': 'today'}],\r\n",
      "    56\t          'metrics': [{'expression': 'ga:sessions'}]\r\n",
      "    57\t        }]\r\n",
      "    58\t      }\r\n",
      "    59\t  ).execute()\r\n",
      "    60\t\r\n",
      "    61\t\r\n",
      "    62\tdef print_response(response):\r\n",
      "    63\t  \"\"\"Parses and prints the Analytics Reporting API V4 response\"\"\"\r\n",
      "    64\t\r\n",
      "    65\t  for report in response.get('reports', []):\r\n",
      "    66\t    columnHeader = report.get('columnHeader', {})\r\n",
      "    67\t    dimensionHeaders = columnHeader.get('dimensions', [])\r\n",
      "    68\t    metricHeaders = columnHeader.get('metricHeader', {}).get('metricHeaderEntries', [])\r\n",
      "    69\t    rows = report.get('data', {}).get('rows', [])\r\n",
      "    70\t\r\n",
      "    71\t    for row in rows:\r\n",
      "    72\t      dimensions = row.get('dimensions', [])\r\n",
      "    73\t      dateRangeValues = row.get('metrics', [])\r\n",
      "    74\t\r\n",
      "    75\t      for header, dimension in zip(dimensionHeaders, dimensions):\r\n",
      "    76\t        print header + ': ' + dimension\r\n",
      "    77\t\r\n",
      "    78\t      for i, values in enumerate(dateRangeValues):\r\n",
      "    79\t        print 'Date range (' + str(i) + ')'\r\n",
      "    80\t        for metricHeader, value in zip(metricHeaders, values.get('values')):\r\n",
      "    81\t          print metricHeader.get('name') + ': ' + value\r\n",
      "    82\t\r\n",
      "    83\t\r\n",
      "    84\tdef main():\r\n",
      "    85\t\r\n",
      "    86\t  analytics = initialize_analyticsreporting()\r\n",
      "    87\t  response = get_report(analytics)\r\n",
      "    88\t  print_response(response)\r\n",
      "    89\t\r\n",
      "    90\tif __name__ == '__main__':\r\n",
      "    91\t  main()\r\n",
      "    92\t\r\n"
     ]
    }
   ],
   "source": [
    "! cat -n HelloAnalytics.py"
   ]
  },
  {
   "cell_type": "code",
   "execution_count": 6,
   "metadata": {},
   "outputs": [
    {
     "name": "stdout",
     "output_type": "stream",
     "text": [
      "  File \"HelloAnalytics.py\", line 81\r\n",
      "    print metricHeader.get('name') + ': ' + value\r\n",
      "                     ^\r\n",
      "SyntaxError: invalid syntax\r\n"
     ]
    }
   ],
   "source": [
    "! python HelloAnalytics.py"
   ]
  },
  {
   "cell_type": "markdown",
   "metadata": {},
   "source": [
    "Al ejecutar el código de muestra, Python alerta de que existen **errores de sintaxis**. Se procede a subsanarlos:"
   ]
  },
  {
   "cell_type": "code",
   "execution_count": 7,
   "metadata": {},
   "outputs": [
    {
     "name": "stdout",
     "output_type": "stream",
     "text": [
      "\r\n",
      "(gedit:3399): Gtk-\u001b[1;33mWARNING\u001b[0m **: \u001b[34m20:44:29.260\u001b[0m: Calling org.xfce.Session.Manager.Inhibit failed: GDBus.Error:org.freedesktop.DBus.Error.UnknownMethod: Method \"Inhibit\" with signature \"susu\" on interface \"org.xfce.Session.Manager\" doesn't exist\r\n",
      "\r\n"
     ]
    }
   ],
   "source": [
    "!gedit HelloAnalytics.py"
   ]
  },
  {
   "cell_type": "markdown",
   "metadata": {},
   "source": [
    "Una vez corregidos, volvemos a ejecutar el código de muestra:"
   ]
  },
  {
   "cell_type": "code",
   "execution_count": 8,
   "metadata": {},
   "outputs": [
    {
     "name": "stdout",
     "output_type": "stream",
     "text": [
      "Traceback (most recent call last):\r\n",
      "  File \"HelloAnalytics.py\", line 7, in <module>\r\n",
      "    from oauth2client import client\r\n",
      "ModuleNotFoundError: No module named 'oauth2client'\r\n"
     ]
    }
   ],
   "source": [
    "! python HelloAnalytics.py"
   ]
  },
  {
   "cell_type": "markdown",
   "metadata": {},
   "source": [
    "En esta ocasión, Python indica que el módulo **oauth2client** no existe en el entorno así que se procede a instalarlo en la siguiente celda.\n",
    "\n",
    "__\n",
    "\n",
    "**ACTUALIZACIÓN**: Si bien en esta ocasión, se instaló con pip y funcionó, más adelante, en el transcurso del proyecto se volvió a instalar con conda: *conda install -c conda-forge oauth2client*\n"
   ]
  },
  {
   "cell_type": "code",
   "execution_count": 1,
   "metadata": {},
   "outputs": [
    {
     "name": "stdout",
     "output_type": "stream",
     "text": [
      "Collecting oauth2client\n",
      "  Downloading oauth2client-4.1.3-py2.py3-none-any.whl (98 kB)\n",
      "\u001b[K     |████████████████████████████████| 98 kB 2.1 MB/s eta 0:00:011\n",
      "\u001b[?25hRequirement already satisfied: pyasn1-modules>=0.0.5 in ./env/lib/python3.9/site-packages (from oauth2client) (0.2.7)\n",
      "Requirement already satisfied: six>=1.6.1 in ./env/lib/python3.9/site-packages (from oauth2client) (1.15.0)\n",
      "Requirement already satisfied: pyasn1>=0.1.7 in ./env/lib/python3.9/site-packages (from oauth2client) (0.4.8)\n",
      "Requirement already satisfied: rsa>=3.1.4 in ./env/lib/python3.9/site-packages (from oauth2client) (4.7)\n",
      "Requirement already satisfied: httplib2>=0.9.1 in ./env/lib/python3.9/site-packages (from oauth2client) (0.18.1)\n",
      "Installing collected packages: oauth2client\n",
      "Successfully installed oauth2client-4.1.3\n"
     ]
    }
   ],
   "source": [
    "! pip install --upgrade oauth2client"
   ]
  },
  {
   "cell_type": "markdown",
   "metadata": {},
   "source": [
    "Al re-ejecutar el fichero *HelloAnalytics.py*, se abre una nueva ventana en el navegador con la **pantalla de consentimiento** que había sido configurada anteriormente. Tras aceptar las distintas opciones, confirma que la autenticación ha sido completada con éxito: *\"The authentication flow has completed.\"*\n",
    "\n",
    "Al volver al notebook, la celda ha devuelto como resultado el número total de sesiones en la web los últimos 7 días. Estos nos indica que ya estamos listos para realizar *queries* en la API:"
   ]
  },
  {
   "cell_type": "code",
   "execution_count": 5,
   "metadata": {},
   "outputs": [
    {
     "name": "stdout",
     "output_type": "stream",
     "text": [
      "/home/dsc/TFM/kschool_masterDS_TFM/env/lib/python3.9/site-packages/oauth2client/_helpers.py:255: UserWarning: Cannot access analyticsreporting.dat: No such file or directory\n",
      "  warnings.warn(_MISSING_FILE_MESSAGE.format(filename))\n",
      "\n",
      "Your browser has been opened to visit:\n",
      "\n",
      "    https://accounts.google.com/o/oauth2/auth?client_id=641855761506-rb2385a7ra4fee99a9s3t2n1n9sntm8r.apps.googleusercontent.com&redirect_uri=http%3A%2F%2Flocalhost%3A8080%2F&scope=https%3A%2F%2Fwww.googleapis.com%2Fauth%2Fanalytics.readonly&access_type=offline&response_type=code\n",
      "\n",
      "If your browser is on a different machine then exit and re-run this\n",
      "application with the command-line parameter\n",
      "\n",
      "  --noauth_local_webserver\n",
      "\n",
      "Authentication successful.\n",
      "Date range (0)\n",
      "ga:sessions: 12293\n"
     ]
    }
   ],
   "source": [
    "! python HelloAnalytics.py"
   ]
  },
  {
   "cell_type": "markdown",
   "metadata": {},
   "source": [
    "# Referencias y observaciones\n",
    "\n",
    "Inicio rápido en Python para aplicaciones descargadas: https://developers.google.com/analytics/devguides/reporting/core/v3/quickstart/installed-py\n",
    "\n",
    "Para poder **replicar las consultas** a la API de Google Analytics, es necesario que antes se acredite. Para ello, siga los pasos que se especifican al inicio del notebook **02_DATA_COLLECTION_FROM_GOOGLE_ANALYTICS.ipynb** en el apartado ‘1. Autenticación’. "
   ]
  }
 ],
 "metadata": {
  "kernelspec": {
   "display_name": "Python 3",
   "language": "python",
   "name": "python3"
  },
  "language_info": {
   "codemirror_mode": {
    "name": "ipython",
    "version": 3
   },
   "file_extension": ".py",
   "mimetype": "text/x-python",
   "name": "python",
   "nbconvert_exporter": "python",
   "pygments_lexer": "ipython3",
   "version": "3.7.10"
  },
  "toc": {
   "base_numbering": 1,
   "nav_menu": {},
   "number_sections": true,
   "sideBar": true,
   "skip_h1_title": false,
   "title_cell": "Table of Contents",
   "title_sidebar": "Contents",
   "toc_cell": true,
   "toc_position": {},
   "toc_section_display": true,
   "toc_window_display": true
  }
 },
 "nbformat": 4,
 "nbformat_minor": 2
}
