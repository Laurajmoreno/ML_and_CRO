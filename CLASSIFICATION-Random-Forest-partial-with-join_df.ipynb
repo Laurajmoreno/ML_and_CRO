{
 "cells": [
  {
   "cell_type": "markdown",
   "id": "chinese-miller",
   "metadata": {
    "toc": true
   },
   "source": [
    "<h1>Table of Contents<span class=\"tocSkip\"></span></h1>\n",
    "<div class=\"toc\"><ul class=\"toc-item\"><li><span><a href=\"#DATA\" data-toc-modified-id=\"DATA-1\"><span class=\"toc-item-num\">1&nbsp;&nbsp;</span>DATA</a></span><ul class=\"toc-item\"><li><span><a href=\"#Dataset\" data-toc-modified-id=\"Dataset-1.1\"><span class=\"toc-item-num\">1.1&nbsp;&nbsp;</span>Dataset</a></span></li><li><span><a href=\"#Target\" data-toc-modified-id=\"Target-1.2\"><span class=\"toc-item-num\">1.2&nbsp;&nbsp;</span>Target</a></span></li></ul></li><li><span><a href=\"#Functions\" data-toc-modified-id=\"Functions-2\"><span class=\"toc-item-num\">2&nbsp;&nbsp;</span>Functions</a></span><ul class=\"toc-item\"><li><span><a href=\"#Model-evaluation\" data-toc-modified-id=\"Model-evaluation-2.1\"><span class=\"toc-item-num\">2.1&nbsp;&nbsp;</span>Model evaluation</a></span></li><li><span><a href=\"#Visualize-Random-Forests\" data-toc-modified-id=\"Visualize-Random-Forests-2.2\"><span class=\"toc-item-num\">2.2&nbsp;&nbsp;</span>Visualize Random Forests</a></span></li></ul></li><li><span><a href=\"#Random-Forest\" data-toc-modified-id=\"Random-Forest-3\"><span class=\"toc-item-num\">3&nbsp;&nbsp;</span>Random Forest</a></span><ul class=\"toc-item\"><li><span><a href=\"#Baseline-with-Numerical-Data\" data-toc-modified-id=\"Baseline-with-Numerical-Data-3.1\"><span class=\"toc-item-num\">3.1&nbsp;&nbsp;</span>Baseline with Numerical Data</a></span><ul class=\"toc-item\"><li><span><a href=\"#pageDepth-+-sessionCount-+-daysSinceLastLession\" data-toc-modified-id=\"pageDepth-+-sessionCount-+-daysSinceLastLession-3.1.1\"><span class=\"toc-item-num\">3.1.1&nbsp;&nbsp;</span>pageDepth + sessionCount + daysSinceLastLession</a></span></li><li><span><a href=\"#pageDepth-+-sessionCount\" data-toc-modified-id=\"pageDepth-+-sessionCount-3.1.2\"><span class=\"toc-item-num\">3.1.2&nbsp;&nbsp;</span>pageDepth + sessionCount</a></span></li></ul></li><li><span><a href=\"#Baseline-+-productSKU_cete\" data-toc-modified-id=\"Baseline-+-productSKU_cete-3.2\"><span class=\"toc-item-num\">3.2&nbsp;&nbsp;</span>Baseline + productSKU_cete</a></span><ul class=\"toc-item\"><li><span><a href=\"#Feature-Engineering\" data-toc-modified-id=\"Feature-Engineering-3.2.1\"><span class=\"toc-item-num\">3.2.1&nbsp;&nbsp;</span>Feature Engineering</a></span></li><li><span><a href=\"#Classifier\" data-toc-modified-id=\"Classifier-3.2.2\"><span class=\"toc-item-num\">3.2.2&nbsp;&nbsp;</span>Classifier</a></span></li></ul></li><li><span><a href=\"#Baseline-+-productSKU_cete-+-'dateHourMinute'\" data-toc-modified-id=\"Baseline-+-productSKU_cete-+-'dateHourMinute'-3.3\"><span class=\"toc-item-num\">3.3&nbsp;&nbsp;</span>Baseline + productSKU_cete + 'dateHourMinute'</a></span><ul class=\"toc-item\"><li><span><a href=\"#Feature-Engineering\" data-toc-modified-id=\"Feature-Engineering-3.3.1\"><span class=\"toc-item-num\">3.3.1&nbsp;&nbsp;</span>Feature Engineering</a></span></li><li><span><a href=\"#Month\" data-toc-modified-id=\"Month-3.3.2\"><span class=\"toc-item-num\">3.3.2&nbsp;&nbsp;</span>Month</a></span><ul class=\"toc-item\"><li><span><a href=\"#Data\" data-toc-modified-id=\"Data-3.3.2.1\"><span class=\"toc-item-num\">3.3.2.1&nbsp;&nbsp;</span>Data</a></span></li><li><span><a href=\"#Classifier\" data-toc-modified-id=\"Classifier-3.3.2.2\"><span class=\"toc-item-num\">3.3.2.2&nbsp;&nbsp;</span>Classifier</a></span></li></ul></li><li><span><a href=\"#Day-of-week\" data-toc-modified-id=\"Day-of-week-3.3.3\"><span class=\"toc-item-num\">3.3.3&nbsp;&nbsp;</span>Day of week</a></span><ul class=\"toc-item\"><li><span><a href=\"#Data\" data-toc-modified-id=\"Data-3.3.3.1\"><span class=\"toc-item-num\">3.3.3.1&nbsp;&nbsp;</span>Data</a></span></li><li><span><a href=\"#Classifier\" data-toc-modified-id=\"Classifier-3.3.3.2\"><span class=\"toc-item-num\">3.3.3.2&nbsp;&nbsp;</span>Classifier</a></span></li></ul></li><li><span><a href=\"#Hour\" data-toc-modified-id=\"Hour-3.3.4\"><span class=\"toc-item-num\">3.3.4&nbsp;&nbsp;</span>Hour</a></span><ul class=\"toc-item\"><li><span><a href=\"#Data\" data-toc-modified-id=\"Data-3.3.4.1\"><span class=\"toc-item-num\">3.3.4.1&nbsp;&nbsp;</span>Data</a></span></li><li><span><a href=\"#Classifier\" data-toc-modified-id=\"Classifier-3.3.4.2\"><span class=\"toc-item-num\">3.3.4.2&nbsp;&nbsp;</span>Classifier</a></span></li></ul></li></ul></li><li><span><a href=\"#Baseline-+-productSKU_cete-+-'dateHourMinute'+'sourceMedium'\" data-toc-modified-id=\"Baseline-+-productSKU_cete-+-'dateHourMinute'+'sourceMedium'-3.4\"><span class=\"toc-item-num\">3.4&nbsp;&nbsp;</span>Baseline + productSKU_cete + 'dateHourMinute'+'sourceMedium'</a></span><ul class=\"toc-item\"><li><span><a href=\"#Feature-Engineering\" data-toc-modified-id=\"Feature-Engineering-3.4.1\"><span class=\"toc-item-num\">3.4.1&nbsp;&nbsp;</span>Feature Engineering</a></span></li><li><span><a href=\"#Random-Forest\" data-toc-modified-id=\"Random-Forest-3.4.2\"><span class=\"toc-item-num\">3.4.2&nbsp;&nbsp;</span>Random Forest</a></span><ul class=\"toc-item\"><li><span><a href=\"#Data\" data-toc-modified-id=\"Data-3.4.2.1\"><span class=\"toc-item-num\">3.4.2.1&nbsp;&nbsp;</span>Data</a></span></li><li><span><a href=\"#Classifier\" data-toc-modified-id=\"Classifier-3.4.2.2\"><span class=\"toc-item-num\">3.4.2.2&nbsp;&nbsp;</span>Classifier</a></span></li></ul></li></ul></li></ul></li></ul></div>"
   ]
  },
  {
   "cell_type": "code",
   "execution_count": 1,
   "id": "reverse-albania",
   "metadata": {},
   "outputs": [],
   "source": [
    "import pandas as pd\n",
    "import numpy as np\n",
    "import matplotlib.pyplot as plt\n",
    "import seaborn as sns\n",
    "%matplotlib inline\n",
    "from sklearn.model_selection import train_test_split\n",
    "from sklearn.linear_model import LogisticRegression\n",
    "from sklearn.metrics import f1_score, recall_score, precision_score, roc_auc_score, roc_curve, accuracy_score\n",
    "from sklearn.metrics import confusion_matrix\n",
    "from sklearn.metrics import classification_report\n",
    "from sklearn.model_selection import cross_val_score\n",
    "from scipy import stats\n",
    "import statsmodels.api as sm\n",
    "import os\n",
    "from IPython.display import Image\n",
    "import pydotplus\n",
    "from sklearn import tree"
   ]
  },
  {
   "cell_type": "markdown",
   "id": "differential-constant",
   "metadata": {},
   "source": [
    "## DATA"
   ]
  },
  {
   "cell_type": "markdown",
   "id": "approximate-killer",
   "metadata": {},
   "source": [
    "### Dataset"
   ]
  },
  {
   "cell_type": "code",
   "execution_count": 2,
   "id": "stuck-worry",
   "metadata": {},
   "outputs": [
    {
     "name": "stderr",
     "output_type": "stream",
     "text": [
      "/home/dsc/TFM/kschool_masterDS_TFM/env/lib/python3.9/site-packages/IPython/core/interactiveshell.py:3165: DtypeWarning: Columns (1) have mixed types.Specify dtype option on import or set low_memory=False.\n",
      "  has_raised = await self.run_ast_nodes(code_ast.body, cell_name,\n"
     ]
    },
    {
     "name": "stdout",
     "output_type": "stream",
     "text": [
      "(3936941, 15)\n"
     ]
    },
    {
     "data": {
      "text/html": [
       "<div>\n",
       "<style scoped>\n",
       "    .dataframe tbody tr th:only-of-type {\n",
       "        vertical-align: middle;\n",
       "    }\n",
       "\n",
       "    .dataframe tbody tr th {\n",
       "        vertical-align: top;\n",
       "    }\n",
       "\n",
       "    .dataframe thead th {\n",
       "        text-align: right;\n",
       "    }\n",
       "</style>\n",
       "<table border=\"1\" class=\"dataframe\">\n",
       "  <thead>\n",
       "    <tr style=\"text-align: right;\">\n",
       "      <th></th>\n",
       "      <th>Unnamed: 0</th>\n",
       "      <th>ga:productSKU</th>\n",
       "      <th>ga:dateHourMinute</th>\n",
       "      <th>ga:pagePath</th>\n",
       "      <th>ga:pageDepth</th>\n",
       "      <th>ga:sessionCount</th>\n",
       "      <th>ga:daysSinceLastSession</th>\n",
       "      <th>ga:sourceMedium</th>\n",
       "      <th>ga:city</th>\n",
       "      <th>ga:deviceCategory</th>\n",
       "      <th>ga:operatingSystem</th>\n",
       "      <th>ga:productListViews</th>\n",
       "      <th>ga:productListClicks</th>\n",
       "      <th>ga:productDetailViews</th>\n",
       "      <th>ga:productAddsToCart</th>\n",
       "    </tr>\n",
       "  </thead>\n",
       "  <tbody>\n",
       "    <tr>\n",
       "      <th>0</th>\n",
       "      <td>0</td>\n",
       "      <td>1008</td>\n",
       "      <td>201904301452</td>\n",
       "      <td>/parafarmacia/es/</td>\n",
       "      <td>1</td>\n",
       "      <td>1</td>\n",
       "      <td>0</td>\n",
       "      <td>(direct) / (none)</td>\n",
       "      <td>Burgos</td>\n",
       "      <td>mobile</td>\n",
       "      <td>iOS</td>\n",
       "      <td>1</td>\n",
       "      <td>0</td>\n",
       "      <td>0</td>\n",
       "      <td>0</td>\n",
       "    </tr>\n",
       "    <tr>\n",
       "      <th>1</th>\n",
       "      <td>1</td>\n",
       "      <td>1008</td>\n",
       "      <td>201904301524</td>\n",
       "      <td>/parafarmacia/es/</td>\n",
       "      <td>3</td>\n",
       "      <td>1</td>\n",
       "      <td>0</td>\n",
       "      <td>(direct) / (none)</td>\n",
       "      <td>Madrid</td>\n",
       "      <td>desktop</td>\n",
       "      <td>Windows</td>\n",
       "      <td>1</td>\n",
       "      <td>0</td>\n",
       "      <td>0</td>\n",
       "      <td>0</td>\n",
       "    </tr>\n",
       "    <tr>\n",
       "      <th>2</th>\n",
       "      <td>2</td>\n",
       "      <td>1008</td>\n",
       "      <td>201904301545</td>\n",
       "      <td>/parafarmacia/es/</td>\n",
       "      <td>7</td>\n",
       "      <td>33</td>\n",
       "      <td>0</td>\n",
       "      <td>merchants.google.com / referral</td>\n",
       "      <td>Zamudio</td>\n",
       "      <td>desktop</td>\n",
       "      <td>Windows</td>\n",
       "      <td>1</td>\n",
       "      <td>0</td>\n",
       "      <td>0</td>\n",
       "      <td>0</td>\n",
       "    </tr>\n",
       "  </tbody>\n",
       "</table>\n",
       "</div>"
      ],
      "text/plain": [
       "   Unnamed: 0 ga:productSKU  ga:dateHourMinute        ga:pagePath  \\\n",
       "0           0          1008       201904301452  /parafarmacia/es/   \n",
       "1           1          1008       201904301524  /parafarmacia/es/   \n",
       "2           2          1008       201904301545  /parafarmacia/es/   \n",
       "\n",
       "   ga:pageDepth  ga:sessionCount  ga:daysSinceLastSession  \\\n",
       "0             1                1                        0   \n",
       "1             3                1                        0   \n",
       "2             7               33                        0   \n",
       "\n",
       "                   ga:sourceMedium  ga:city ga:deviceCategory  \\\n",
       "0                (direct) / (none)   Burgos            mobile   \n",
       "1                (direct) / (none)   Madrid           desktop   \n",
       "2  merchants.google.com / referral  Zamudio           desktop   \n",
       "\n",
       "  ga:operatingSystem  ga:productListViews  ga:productListClicks  \\\n",
       "0                iOS                    1                     0   \n",
       "1            Windows                    1                     0   \n",
       "2            Windows                    1                     0   \n",
       "\n",
       "   ga:productDetailViews  ga:productAddsToCart  \n",
       "0                      0                     0  \n",
       "1                      0                     0  \n",
       "2                      0                     0  "
      ]
     },
     "execution_count": 2,
     "metadata": {},
     "output_type": "execute_result"
    }
   ],
   "source": [
    "data_root=\"../data/\"\n",
    "datafile=os.path.join(data_root,'dfjoin_Scount_daysSLS_srceMed_city_device_OS_2019_2020_jan21.csv')\n",
    "df=pd.read_csv(datafile)\n",
    "print(df.shape)\n",
    "df.head(3)"
   ]
  },
  {
   "cell_type": "code",
   "execution_count": 3,
   "id": "foreign-theology",
   "metadata": {},
   "outputs": [
    {
     "name": "stdout",
     "output_type": "stream",
     "text": [
      "(3936941, 14)\n",
      "\n",
      "<class 'pandas.core.frame.DataFrame'>\n",
      "RangeIndex: 3936941 entries, 0 to 3936940\n",
      "Data columns (total 14 columns):\n",
      " #   Column                   Dtype \n",
      "---  ------                   ----- \n",
      " 0   ga:productSKU            object\n",
      " 1   ga:dateHourMinute        int64 \n",
      " 2   ga:pagePath              object\n",
      " 3   ga:pageDepth             int64 \n",
      " 4   ga:sessionCount          int64 \n",
      " 5   ga:daysSinceLastSession  int64 \n",
      " 6   ga:sourceMedium          object\n",
      " 7   ga:city                  object\n",
      " 8   ga:deviceCategory        object\n",
      " 9   ga:operatingSystem       object\n",
      " 10  ga:productListViews      int64 \n",
      " 11  ga:productListClicks     int64 \n",
      " 12  ga:productDetailViews    int64 \n",
      " 13  ga:productAddsToCart     int64 \n",
      "dtypes: int64(8), object(6)\n",
      "memory usage: 420.5+ MB\n"
     ]
    }
   ],
   "source": [
    "df.drop('Unnamed: 0', axis=1, inplace=True)\n",
    "print(df.shape)\n",
    "print(\"\")\n",
    "df.info()"
   ]
  },
  {
   "cell_type": "markdown",
   "id": "following-highlight",
   "metadata": {},
   "source": [
    "### Target"
   ]
  },
  {
   "cell_type": "code",
   "execution_count": 4,
   "id": "polished-monkey",
   "metadata": {},
   "outputs": [
    {
     "name": "stdout",
     "output_type": "stream",
     "text": [
      "No. observations per class\n",
      "0    3864256\n",
      "1      72685\n",
      "Name: ga:productAddsToCart_transf, dtype: int64\n",
      "\n",
      "% observations per class\n",
      "0    98.15377\n",
      "1     1.84623\n",
      "Name: ga:productAddsToCart_transf, dtype: float64\n"
     ]
    }
   ],
   "source": [
    "df['ga:productAddsToCart_transf']=df[\"ga:productAddsToCart\"].apply(lambda x: 1 if x>1 else x)\n",
    "\n",
    "print(\"No. observations per class\")\n",
    "print(df['ga:productAddsToCart_transf'].value_counts())\n",
    "print(\"\")\n",
    "\n",
    "print(\"% observations per class\")\n",
    "print(100*df['ga:productAddsToCart_transf'].value_counts(normalize=True))"
   ]
  },
  {
   "cell_type": "markdown",
   "id": "single-grove",
   "metadata": {},
   "source": [
    "## Functions"
   ]
  },
  {
   "cell_type": "markdown",
   "id": "removed-nigeria",
   "metadata": {},
   "source": [
    "### Model evaluation"
   ]
  },
  {
   "cell_type": "code",
   "execution_count": 5,
   "id": "global-compromise",
   "metadata": {},
   "outputs": [],
   "source": [
    "def evaluate(classifier,X_train, X_test, y_train, y_test):\n",
    "    classifier.fit(X_train,y_train)\n",
    "    predictions = classifier.predict(X_test)\n",
    "    probabilities = classifier.predict_proba(X_test)\n",
    "    print(\"TRAINING SCORE: \" + str(classifier.score(X_train,y_train)))\n",
    "    print(\"ACCURACY: \" + str(accuracy_score(y_test, predictions)))\n",
    "    print(\"PRECISION: \" + str(precision_score(y_test, predictions)))\n",
    "    print(\"RECALL: \" + str(recall_score(y_test, predictions)))\n",
    "    print(\"F1 SCORE: \" + str(f1_score(y_test, predictions)))\n",
    "    print(\"AUC: \" + str(roc_auc_score(y_test,probabilities[:, 1])))\n",
    "\n",
    "    tpr, fpr, thresolds = roc_curve(y_test, probabilities[:, 1])\n",
    "    plt.plot(tpr, fpr)\n",
    "    plt.xlabel('fpr')\n",
    "    plt.ylabel('tpr')"
   ]
  },
  {
   "cell_type": "markdown",
   "id": "suffering-manufacturer",
   "metadata": {},
   "source": [
    "### Visualize Random Forests"
   ]
  },
  {
   "cell_type": "markdown",
   "id": "single-momentum",
   "metadata": {},
   "source": [
    "https://programmerbackpack.com/introduction-to-random-forests-classifier-and-step-by-step-sklearn-implementation/"
   ]
  },
  {
   "cell_type": "code",
   "execution_count": 6,
   "id": "incredible-liechtenstein",
   "metadata": {},
   "outputs": [
    {
     "ename": "NameError",
     "evalue": "name 'classifier' is not defined",
     "output_type": "error",
     "traceback": [
      "\u001b[0;31m---------------------------------------------------------------------------\u001b[0m",
      "\u001b[0;31mNameError\u001b[0m                                 Traceback (most recent call last)",
      "\u001b[0;32m<ipython-input-6-991557b0dd29>\u001b[0m in \u001b[0;36m<module>\u001b[0;34m\u001b[0m\n\u001b[1;32m     17\u001b[0m     \u001b[0mgraph\u001b[0m\u001b[0;34m.\u001b[0m\u001b[0mwrite_png\u001b[0m\u001b[0;34m(\u001b[0m\u001b[0;34m\"tree\"\u001b[0m \u001b[0;34m+\u001b[0m \u001b[0mstr\u001b[0m\u001b[0;34m(\u001b[0m\u001b[0mindex\u001b[0m\u001b[0;34m)\u001b[0m \u001b[0;34m+\u001b[0m \u001b[0;34m\".png\"\u001b[0m\u001b[0;34m)\u001b[0m\u001b[0;34m\u001b[0m\u001b[0;34m\u001b[0m\u001b[0m\n\u001b[1;32m     18\u001b[0m \u001b[0;34m\u001b[0m\u001b[0m\n\u001b[0;32m---> 19\u001b[0;31m \u001b[0;32mfor\u001b[0m \u001b[0mindex\u001b[0m \u001b[0;32min\u001b[0m \u001b[0mrange\u001b[0m\u001b[0;34m(\u001b[0m\u001b[0mlen\u001b[0m\u001b[0;34m(\u001b[0m\u001b[0mclassifier\u001b[0m\u001b[0;34m.\u001b[0m\u001b[0mestimators_\u001b[0m\u001b[0;34m)\u001b[0m\u001b[0;34m)\u001b[0m\u001b[0;34m:\u001b[0m\u001b[0;34m\u001b[0m\u001b[0;34m\u001b[0m\u001b[0m\n\u001b[0m\u001b[1;32m     20\u001b[0m     \u001b[0mprintTree\u001b[0m\u001b[0;34m(\u001b[0m\u001b[0mlist\u001b[0m\u001b[0;34m(\u001b[0m\u001b[0mX_train\u001b[0m\u001b[0;34m.\u001b[0m\u001b[0mcolumns\u001b[0m\u001b[0;34m)\u001b[0m\u001b[0;34m,\u001b[0m\u001b[0mclassifier\u001b[0m\u001b[0;34m.\u001b[0m\u001b[0mestimators_\u001b[0m\u001b[0;34m[\u001b[0m\u001b[0mindex\u001b[0m\u001b[0;34m]\u001b[0m\u001b[0;34m,\u001b[0m\u001b[0mindex\u001b[0m\u001b[0;34m)\u001b[0m\u001b[0;34m\u001b[0m\u001b[0;34m\u001b[0m\u001b[0m\n",
      "\u001b[0;31mNameError\u001b[0m: name 'classifier' is not defined"
     ]
    }
   ],
   "source": [
    "# ver con funcion SEBAS\n",
    "## REVISAR Y VER XQ NO FUNCIONA O BUSCA OTRA FUNCION\n",
    "\n",
    "def printTree(feature_names,classifier, index):\n",
    "    \n",
    "    target_names = ['Yes', 'No']\n",
    "    \n",
    "    # Build the daya\n",
    "    dot_data = tree.export_graphviz(classifier, out_file=None,\n",
    "                                    feature_names=feature_names,\n",
    "                                    class_names=target_names)\n",
    "    # Build the graph\n",
    "    graph = pydotplus.graph_from_dot_data(dot_data)\n",
    "\n",
    "    # Write the image\n",
    "    Image(graph.create_png())\n",
    "    graph.write_png(\"tree\" + str(index) + \".png\")\n",
    "    \n",
    "for index in range(len(classifier.estimators_)):\n",
    "    printTree(list(X_train.columns),classifier.estimators_[index],index)"
   ]
  },
  {
   "cell_type": "markdown",
   "id": "undefined-display",
   "metadata": {},
   "source": [
    "## Random Forest"
   ]
  },
  {
   "cell_type": "markdown",
   "id": "knowing-pittsburgh",
   "metadata": {},
   "source": [
    "### Baseline with Numerical Data"
   ]
  },
  {
   "cell_type": "code",
   "execution_count": 6,
   "id": "animated-modification",
   "metadata": {},
   "outputs": [
    {
     "name": "stdout",
     "output_type": "stream",
     "text": [
      "<class 'pandas.core.frame.DataFrame'>\n",
      "RangeIndex: 3936941 entries, 0 to 3936940\n",
      "Data columns (total 15 columns):\n",
      " #   Column                       Dtype \n",
      "---  ------                       ----- \n",
      " 0   ga:productSKU                object\n",
      " 1   ga:dateHourMinute            int64 \n",
      " 2   ga:pagePath                  object\n",
      " 3   ga:pageDepth                 int64 \n",
      " 4   ga:sessionCount              int64 \n",
      " 5   ga:daysSinceLastSession      int64 \n",
      " 6   ga:sourceMedium              object\n",
      " 7   ga:city                      object\n",
      " 8   ga:deviceCategory            object\n",
      " 9   ga:operatingSystem           object\n",
      " 10  ga:productListViews          int64 \n",
      " 11  ga:productListClicks         int64 \n",
      " 12  ga:productDetailViews        int64 \n",
      " 13  ga:productAddsToCart         int64 \n",
      " 14  ga:productAddsToCart_transf  int64 \n",
      "dtypes: int64(9), object(6)\n",
      "memory usage: 450.5+ MB\n"
     ]
    }
   ],
   "source": [
    "df.info()"
   ]
  },
  {
   "cell_type": "markdown",
   "id": "fixed-circle",
   "metadata": {},
   "source": [
    "#### pageDepth + sessionCount + daysSinceLastLession"
   ]
  },
  {
   "cell_type": "code",
   "execution_count": 7,
   "id": "scientific-architect",
   "metadata": {},
   "outputs": [],
   "source": [
    "y=df['ga:productAddsToCart_transf']\n",
    "X=df[['ga:pageDepth','ga:sessionCount','ga:daysSinceLastSession']]\n",
    "X_train, X_test, y_train, y_test = train_test_split(X, y,random_state=42)"
   ]
  },
  {
   "cell_type": "code",
   "execution_count": 8,
   "id": "disciplinary-hospital",
   "metadata": {},
   "outputs": [
    {
     "name": "stdout",
     "output_type": "stream",
     "text": [
      "TRAINING SCORE: 0.9817198128495735\n",
      "ACCURACY: 0.9813632096367132\n",
      "PRECISION: 0.34545454545454546\n",
      "RECALL: 0.007298068481123793\n",
      "F1 SCORE: 0.014294158740394435\n",
      "AUC: 0.6715584646541726\n"
     ]
    },
    {
     "data": {
      "image/png": "[encoded data removed]",
      "text/plain": [
       "<Figure size 432x288 with 1 Axes>"
      ]
     },
     "metadata": {
      "needs_background": "light"
     },
     "output_type": "display_data"
    }
   ],
   "source": [
    "from sklearn.ensemble import RandomForestClassifier\n",
    "clrf=RandomForestClassifier()\n",
    "evaluate(clrf,X_train, X_test, y_train, y_test)"
   ]
  },
  {
   "cell_type": "code",
   "execution_count": 9,
   "id": "numeric-apartment",
   "metadata": {},
   "outputs": [
    {
     "name": "stdout",
     "output_type": "stream",
     "text": [
      "              precision    recall  f1-score   support\n",
      "\n",
      "           0       0.98      1.00      0.99    966012\n",
      "           1       0.35      0.01      0.01     18224\n",
      "\n",
      "    accuracy                           0.98    984236\n",
      "   macro avg       0.66      0.50      0.50    984236\n",
      "weighted avg       0.97      0.98      0.97    984236\n",
      "\n"
     ]
    },
    {
     "data": {
      "text/plain": [
       "array([[965760,    252],\n",
       "       [ 18091,    133]])"
      ]
     },
     "execution_count": 9,
     "metadata": {},
     "output_type": "execute_result"
    }
   ],
   "source": [
    "print(classification_report(y_test,clrf.predict(X_test)))\n",
    "clrf_cm = confusion_matrix(y_test,clrf.predict(X_test))\n",
    "clrf_cm"
   ]
  },
  {
   "cell_type": "markdown",
   "id": "administrative-figure",
   "metadata": {},
   "source": [
    "#### pageDepth + sessionCount"
   ]
  },
  {
   "cell_type": "code",
   "execution_count": 10,
   "id": "norwegian-integrity",
   "metadata": {},
   "outputs": [],
   "source": [
    "y=df['ga:productAddsToCart_transf']\n",
    "X=df[['ga:pageDepth','ga:sessionCount']]\n",
    "X_train, X_test, y_train, y_test = train_test_split(X, y,random_state=42)"
   ]
  },
  {
   "cell_type": "code",
   "execution_count": 11,
   "id": "studied-receptor",
   "metadata": {},
   "outputs": [
    {
     "name": "stdout",
     "output_type": "stream",
     "text": [
      "TRAINING SCORE: 0.9815978907476365\n",
      "ACCURACY: 0.9814637952686145\n",
      "PRECISION: 0.38095238095238093\n",
      "RECALL: 0.001755926251097454\n",
      "F1 SCORE: 0.003495739567402229\n",
      "AUC: 0.6583420959224547\n"
     ]
    },
    {
     "data": {
      "image/png": "[encoded data removed]",
      "text/plain": [
       "<Figure size 432x288 with 1 Axes>"
      ]
     },
     "metadata": {
      "needs_background": "light"
     },
     "output_type": "display_data"
    }
   ],
   "source": [
    "from sklearn.ensemble import RandomForestClassifier\n",
    "clrf=RandomForestClassifier()\n",
    "evaluate(clrf,X_train, X_test, y_train, y_test)"
   ]
  },
  {
   "cell_type": "code",
   "execution_count": 12,
   "id": "neither-prayer",
   "metadata": {},
   "outputs": [
    {
     "name": "stdout",
     "output_type": "stream",
     "text": [
      "              precision    recall  f1-score   support\n",
      "\n",
      "           0       0.98      1.00      0.99    966012\n",
      "           1       0.38      0.00      0.00     18224\n",
      "\n",
      "    accuracy                           0.98    984236\n",
      "   macro avg       0.68      0.50      0.50    984236\n",
      "weighted avg       0.97      0.98      0.97    984236\n",
      "\n"
     ]
    },
    {
     "data": {
      "text/plain": [
       "array([[965960,     52],\n",
       "       [ 18192,     32]])"
      ]
     },
     "execution_count": 12,
     "metadata": {},
     "output_type": "execute_result"
    }
   ],
   "source": [
    "print(classification_report(y_test,clrf.predict(X_test)))\n",
    "clrf_cm = confusion_matrix(y_test,clrf.predict(X_test))\n",
    "clrf_cm"
   ]
  },
  {
   "cell_type": "markdown",
   "id": "sustainable-shore",
   "metadata": {},
   "source": [
    "### Baseline + productSKU_cete"
   ]
  },
  {
   "cell_type": "markdown",
   "id": "exciting-technician",
   "metadata": {},
   "source": [
    "#### Feature Engineering"
   ]
  },
  {
   "cell_type": "code",
   "execution_count": 6,
   "id": "resistant-bangladesh",
   "metadata": {},
   "outputs": [
    {
     "name": "stderr",
     "output_type": "stream",
     "text": [
      "<ipython-input-6-f6afa246b78b>:5: SettingWithCopyWarning: \n",
      "A value is trying to be set on a copy of a slice from a DataFrame.\n",
      "Try using .loc[row_indexer,col_indexer] = value instead\n",
      "\n",
      "See the caveats in the documentation: https://pandas.pydata.org/pandas-docs/stable/user_guide/indexing.html#returning-a-view-versus-a-copy\n",
      "  X['ga:productSKU']=X['ga:productSKU'].astype('str')\n"
     ]
    }
   ],
   "source": [
    "#Split data\n",
    "\n",
    "y=df['ga:productAddsToCart_transf']\n",
    "X=df[['ga:pageDepth','ga:sessionCount','ga:daysSinceLastSession','ga:productSKU']]\n",
    "X['ga:productSKU']=X['ga:productSKU'].astype('str')\n",
    "X_train, X_test, y_train, y_test = train_test_split(X, y,random_state=42)"
   ]
  },
  {
   "cell_type": "code",
   "execution_count": 7,
   "id": "patient-scene",
   "metadata": {},
   "outputs": [
    {
     "name": "stderr",
     "output_type": "stream",
     "text": [
      "/home/dsc/TFM/kschool_masterDS_TFM/env/lib/python3.9/site-packages/category_encoders/utils.py:21: FutureWarning: is_categorical is deprecated and will be removed in a future version.  Use is_categorical_dtype instead\n",
      "  elif pd.api.types.is_categorical(cols):\n",
      "<ipython-input-7-aaea5a3bdc07>:4: SettingWithCopyWarning: \n",
      "A value is trying to be set on a copy of a slice from a DataFrame.\n",
      "Try using .loc[row_indexer,col_indexer] = value instead\n",
      "\n",
      "See the caveats in the documentation: https://pandas.pydata.org/pandas-docs/stable/user_guide/indexing.html#returning-a-view-versus-a-copy\n",
      "  X_train['ga:productSKU_cete']=encoder.fit_transform(X_train['ga:productSKU'],y_train)\n"
     ]
    },
    {
     "data": {
      "text/html": [
       "<div>\n",
       "<style scoped>\n",
       "    .dataframe tbody tr th:only-of-type {\n",
       "        vertical-align: middle;\n",
       "    }\n",
       "\n",
       "    .dataframe tbody tr th {\n",
       "        vertical-align: top;\n",
       "    }\n",
       "\n",
       "    .dataframe thead th {\n",
       "        text-align: right;\n",
       "    }\n",
       "</style>\n",
       "<table border=\"1\" class=\"dataframe\">\n",
       "  <thead>\n",
       "    <tr style=\"text-align: right;\">\n",
       "      <th></th>\n",
       "      <th>ga:pageDepth</th>\n",
       "      <th>ga:sessionCount</th>\n",
       "      <th>ga:daysSinceLastSession</th>\n",
       "      <th>ga:productSKU</th>\n",
       "      <th>ga:productSKU_cete</th>\n",
       "    </tr>\n",
       "  </thead>\n",
       "  <tbody>\n",
       "    <tr>\n",
       "      <th>2829355</th>\n",
       "      <td>2</td>\n",
       "      <td>1</td>\n",
       "      <td>0</td>\n",
       "      <td>6908</td>\n",
       "      <td>0.004168</td>\n",
       "    </tr>\n",
       "    <tr>\n",
       "      <th>3543383</th>\n",
       "      <td>3</td>\n",
       "      <td>82</td>\n",
       "      <td>0</td>\n",
       "      <td>6809</td>\n",
       "      <td>0.001287</td>\n",
       "    </tr>\n",
       "    <tr>\n",
       "      <th>1607926</th>\n",
       "      <td>1</td>\n",
       "      <td>1</td>\n",
       "      <td>0</td>\n",
       "      <td>1047</td>\n",
       "      <td>0.059557</td>\n",
       "    </tr>\n",
       "  </tbody>\n",
       "</table>\n",
       "</div>"
      ],
      "text/plain": [
       "         ga:pageDepth  ga:sessionCount  ga:daysSinceLastSession ga:productSKU  \\\n",
       "2829355             2                1                        0          6908   \n",
       "3543383             3               82                        0          6809   \n",
       "1607926             1                1                        0          1047   \n",
       "\n",
       "         ga:productSKU_cete  \n",
       "2829355            0.004168  \n",
       "3543383            0.001287  \n",
       "1607926            0.059557  "
      ]
     },
     "execution_count": 7,
     "metadata": {},
     "output_type": "execute_result"
    }
   ],
   "source": [
    "# Target encoding of productSKU with train\n",
    "import category_encoders as ce\n",
    "encoder=ce.TargetEncoder(cols='ga:productSKU')\n",
    "X_train['ga:productSKU_cete']=encoder.fit_transform(X_train['ga:productSKU'],y_train)\n",
    "X_train.head(3)"
   ]
  },
  {
   "cell_type": "code",
   "execution_count": 8,
   "id": "assisted-mainland",
   "metadata": {},
   "outputs": [
    {
     "name": "stderr",
     "output_type": "stream",
     "text": [
      "<ipython-input-8-84f3a6cf49cb>:3: SettingWithCopyWarning: \n",
      "A value is trying to be set on a copy of a slice from a DataFrame.\n",
      "Try using .loc[row_indexer,col_indexer] = value instead\n",
      "\n",
      "See the caveats in the documentation: https://pandas.pydata.org/pandas-docs/stable/user_guide/indexing.html#returning-a-view-versus-a-copy\n",
      "  prod_target_encod['ga:productSKU']=prod_target_encod['ga:productSKU'].astype('str')\n"
     ]
    },
    {
     "name": "stdout",
     "output_type": "stream",
     "text": [
      "(5478, 2)\n"
     ]
    },
    {
     "name": "stderr",
     "output_type": "stream",
     "text": [
      "<ipython-input-8-84f3a6cf49cb>:4: SettingWithCopyWarning: \n",
      "A value is trying to be set on a copy of a slice from a DataFrame\n",
      "\n",
      "See the caveats in the documentation: https://pandas.pydata.org/pandas-docs/stable/user_guide/indexing.html#returning-a-view-versus-a-copy\n",
      "  prod_target_encod.drop_duplicates(inplace=True)\n"
     ]
    },
    {
     "data": {
      "text/html": [
       "<div>\n",
       "<style scoped>\n",
       "    .dataframe tbody tr th:only-of-type {\n",
       "        vertical-align: middle;\n",
       "    }\n",
       "\n",
       "    .dataframe tbody tr th {\n",
       "        vertical-align: top;\n",
       "    }\n",
       "\n",
       "    .dataframe thead th {\n",
       "        text-align: right;\n",
       "    }\n",
       "</style>\n",
       "<table border=\"1\" class=\"dataframe\">\n",
       "  <thead>\n",
       "    <tr style=\"text-align: right;\">\n",
       "      <th></th>\n",
       "      <th>ga:productSKU</th>\n",
       "      <th>ga:productSKU_cete</th>\n",
       "    </tr>\n",
       "  </thead>\n",
       "  <tbody>\n",
       "    <tr>\n",
       "      <th>2829355</th>\n",
       "      <td>6908</td>\n",
       "      <td>0.004168</td>\n",
       "    </tr>\n",
       "    <tr>\n",
       "      <th>3543383</th>\n",
       "      <td>6809</td>\n",
       "      <td>0.001287</td>\n",
       "    </tr>\n",
       "    <tr>\n",
       "      <th>1607926</th>\n",
       "      <td>1047</td>\n",
       "      <td>0.059557</td>\n",
       "    </tr>\n",
       "  </tbody>\n",
       "</table>\n",
       "</div>"
      ],
      "text/plain": [
       "        ga:productSKU  ga:productSKU_cete\n",
       "2829355          6908            0.004168\n",
       "3543383          6809            0.001287\n",
       "1607926          1047            0.059557"
      ]
     },
     "execution_count": 8,
     "metadata": {},
     "output_type": "execute_result"
    }
   ],
   "source": [
    "# 'Dictionary' of productSKU target encoding\n",
    "prod_target_encod= X_train[['ga:productSKU','ga:productSKU_cete']]\n",
    "prod_target_encod['ga:productSKU']=prod_target_encod['ga:productSKU'].astype('str')\n",
    "prod_target_encod.drop_duplicates(inplace=True)\n",
    "print(prod_target_encod.shape)\n",
    "prod_target_encod.head(3)"
   ]
  },
  {
   "cell_type": "code",
   "execution_count": 9,
   "id": "italian-horizontal",
   "metadata": {},
   "outputs": [
    {
     "data": {
      "text/html": [
       "<div>\n",
       "<style scoped>\n",
       "    .dataframe tbody tr th:only-of-type {\n",
       "        vertical-align: middle;\n",
       "    }\n",
       "\n",
       "    .dataframe tbody tr th {\n",
       "        vertical-align: top;\n",
       "    }\n",
       "\n",
       "    .dataframe thead th {\n",
       "        text-align: right;\n",
       "    }\n",
       "</style>\n",
       "<table border=\"1\" class=\"dataframe\">\n",
       "  <thead>\n",
       "    <tr style=\"text-align: right;\">\n",
       "      <th></th>\n",
       "      <th>ga:pageDepth</th>\n",
       "      <th>ga:sessionCount</th>\n",
       "      <th>ga:daysSinceLastSession</th>\n",
       "      <th>ga:productSKU</th>\n",
       "      <th>ga:productSKU_cete</th>\n",
       "    </tr>\n",
       "  </thead>\n",
       "  <tbody>\n",
       "    <tr>\n",
       "      <th>0</th>\n",
       "      <td>1</td>\n",
       "      <td>1</td>\n",
       "      <td>0</td>\n",
       "      <td>6925</td>\n",
       "      <td>0.024405</td>\n",
       "    </tr>\n",
       "    <tr>\n",
       "      <th>1</th>\n",
       "      <td>14</td>\n",
       "      <td>1</td>\n",
       "      <td>0</td>\n",
       "      <td>5111</td>\n",
       "      <td>0.024561</td>\n",
       "    </tr>\n",
       "    <tr>\n",
       "      <th>2</th>\n",
       "      <td>6</td>\n",
       "      <td>1</td>\n",
       "      <td>0</td>\n",
       "      <td>1175</td>\n",
       "      <td>0.048494</td>\n",
       "    </tr>\n",
       "  </tbody>\n",
       "</table>\n",
       "</div>"
      ],
      "text/plain": [
       "   ga:pageDepth  ga:sessionCount  ga:daysSinceLastSession ga:productSKU  \\\n",
       "0             1                1                        0          6925   \n",
       "1            14                1                        0          5111   \n",
       "2             6                1                        0          1175   \n",
       "\n",
       "   ga:productSKU_cete  \n",
       "0            0.024405  \n",
       "1            0.024561  \n",
       "2            0.048494  "
      ]
     },
     "execution_count": 9,
     "metadata": {},
     "output_type": "execute_result"
    }
   ],
   "source": [
    "# productSKU target encoding in test according to fitting on train set:\n",
    "X_test = X_test.merge(prod_target_encod, left_on='ga:productSKU', right_on='ga:productSKU', how='left')\n",
    "X_test.head(3)"
   ]
  },
  {
   "cell_type": "code",
   "execution_count": 10,
   "id": "competitive-fisher",
   "metadata": {},
   "outputs": [
    {
     "data": {
      "text/html": [
       "<div>\n",
       "<style scoped>\n",
       "    .dataframe tbody tr th:only-of-type {\n",
       "        vertical-align: middle;\n",
       "    }\n",
       "\n",
       "    .dataframe tbody tr th {\n",
       "        vertical-align: top;\n",
       "    }\n",
       "\n",
       "    .dataframe thead th {\n",
       "        text-align: right;\n",
       "    }\n",
       "</style>\n",
       "<table border=\"1\" class=\"dataframe\">\n",
       "  <thead>\n",
       "    <tr style=\"text-align: right;\">\n",
       "      <th></th>\n",
       "      <th>ga:pageDepth</th>\n",
       "      <th>ga:sessionCount</th>\n",
       "      <th>ga:daysSinceLastSession</th>\n",
       "      <th>ga:productSKU</th>\n",
       "      <th>ga:productSKU_cete</th>\n",
       "    </tr>\n",
       "  </thead>\n",
       "  <tbody>\n",
       "    <tr>\n",
       "      <th>5923</th>\n",
       "      <td>1</td>\n",
       "      <td>1</td>\n",
       "      <td>0</td>\n",
       "      <td>3337</td>\n",
       "      <td>NaN</td>\n",
       "    </tr>\n",
       "    <tr>\n",
       "      <th>7664</th>\n",
       "      <td>3</td>\n",
       "      <td>1</td>\n",
       "      <td>0</td>\n",
       "      <td>4071</td>\n",
       "      <td>NaN</td>\n",
       "    </tr>\n",
       "    <tr>\n",
       "      <th>11857</th>\n",
       "      <td>14</td>\n",
       "      <td>1</td>\n",
       "      <td>0</td>\n",
       "      <td>3766</td>\n",
       "      <td>NaN</td>\n",
       "    </tr>\n",
       "    <tr>\n",
       "      <th>16871</th>\n",
       "      <td>17</td>\n",
       "      <td>6</td>\n",
       "      <td>0</td>\n",
       "      <td>1329</td>\n",
       "      <td>NaN</td>\n",
       "    </tr>\n",
       "    <tr>\n",
       "      <th>20717</th>\n",
       "      <td>2</td>\n",
       "      <td>6</td>\n",
       "      <td>4</td>\n",
       "      <td>3560</td>\n",
       "      <td>NaN</td>\n",
       "    </tr>\n",
       "    <tr>\n",
       "      <th>...</th>\n",
       "      <td>...</td>\n",
       "      <td>...</td>\n",
       "      <td>...</td>\n",
       "      <td>...</td>\n",
       "      <td>...</td>\n",
       "    </tr>\n",
       "    <tr>\n",
       "      <th>927182</th>\n",
       "      <td>1</td>\n",
       "      <td>1</td>\n",
       "      <td>0</td>\n",
       "      <td>3405</td>\n",
       "      <td>NaN</td>\n",
       "    </tr>\n",
       "    <tr>\n",
       "      <th>943391</th>\n",
       "      <td>6</td>\n",
       "      <td>2</td>\n",
       "      <td>0</td>\n",
       "      <td>1520-16</td>\n",
       "      <td>NaN</td>\n",
       "    </tr>\n",
       "    <tr>\n",
       "      <th>945034</th>\n",
       "      <td>2</td>\n",
       "      <td>9</td>\n",
       "      <td>0</td>\n",
       "      <td>3168</td>\n",
       "      <td>NaN</td>\n",
       "    </tr>\n",
       "    <tr>\n",
       "      <th>958608</th>\n",
       "      <td>18</td>\n",
       "      <td>1</td>\n",
       "      <td>0</td>\n",
       "      <td>1520</td>\n",
       "      <td>NaN</td>\n",
       "    </tr>\n",
       "    <tr>\n",
       "      <th>982923</th>\n",
       "      <td>6</td>\n",
       "      <td>1</td>\n",
       "      <td>0</td>\n",
       "      <td>3766</td>\n",
       "      <td>NaN</td>\n",
       "    </tr>\n",
       "  </tbody>\n",
       "</table>\n",
       "<p>85 rows × 5 columns</p>\n",
       "</div>"
      ],
      "text/plain": [
       "        ga:pageDepth  ga:sessionCount  ga:daysSinceLastSession ga:productSKU  \\\n",
       "5923               1                1                        0          3337   \n",
       "7664               3                1                        0          4071   \n",
       "11857             14                1                        0          3766   \n",
       "16871             17                6                        0          1329   \n",
       "20717              2                6                        4          3560   \n",
       "...              ...              ...                      ...           ...   \n",
       "927182             1                1                        0          3405   \n",
       "943391             6                2                        0       1520-16   \n",
       "945034             2                9                        0          3168   \n",
       "958608            18                1                        0          1520   \n",
       "982923             6                1                        0          3766   \n",
       "\n",
       "        ga:productSKU_cete  \n",
       "5923                   NaN  \n",
       "7664                   NaN  \n",
       "11857                  NaN  \n",
       "16871                  NaN  \n",
       "20717                  NaN  \n",
       "...                    ...  \n",
       "927182                 NaN  \n",
       "943391                 NaN  \n",
       "945034                 NaN  \n",
       "958608                 NaN  \n",
       "982923                 NaN  \n",
       "\n",
       "[85 rows x 5 columns]"
      ]
     },
     "execution_count": 10,
     "metadata": {},
     "output_type": "execute_result"
    }
   ],
   "source": [
    "# Checking missing values in 'ga:productSKU_cete':\n",
    "\n",
    "X_test[X_test['ga:productSKU_cete'].isna()]"
   ]
  },
  {
   "cell_type": "code",
   "execution_count": 11,
   "id": "variable-offer",
   "metadata": {},
   "outputs": [
    {
     "data": {
      "text/html": [
       "<div>\n",
       "<style scoped>\n",
       "    .dataframe tbody tr th:only-of-type {\n",
       "        vertical-align: middle;\n",
       "    }\n",
       "\n",
       "    .dataframe tbody tr th {\n",
       "        vertical-align: top;\n",
       "    }\n",
       "\n",
       "    .dataframe thead th {\n",
       "        text-align: right;\n",
       "    }\n",
       "</style>\n",
       "<table border=\"1\" class=\"dataframe\">\n",
       "  <thead>\n",
       "    <tr style=\"text-align: right;\">\n",
       "      <th></th>\n",
       "      <th>ga:pageDepth</th>\n",
       "      <th>ga:sessionCount</th>\n",
       "      <th>ga:daysSinceLastSession</th>\n",
       "      <th>ga:productSKU</th>\n",
       "      <th>ga:productSKU_cete</th>\n",
       "    </tr>\n",
       "  </thead>\n",
       "  <tbody>\n",
       "  </tbody>\n",
       "</table>\n",
       "</div>"
      ],
      "text/plain": [
       "Empty DataFrame\n",
       "Columns: [ga:pageDepth, ga:sessionCount, ga:daysSinceLastSession, ga:productSKU, ga:productSKU_cete]\n",
       "Index: []"
      ]
     },
     "execution_count": 11,
     "metadata": {},
     "output_type": "execute_result"
    }
   ],
   "source": [
    "# Filling missing values in X_test with the mean of the means:\n",
    "\n",
    "X_test['ga:productSKU_cete']=X_test['ga:productSKU_cete'].fillna(prod_target_encod['ga:productSKU_cete'].mean())\n",
    "X_test[X_test['ga:productSKU_cete'].isna()]\n"
   ]
  },
  {
   "cell_type": "code",
   "execution_count": 12,
   "id": "diagnostic-mailman",
   "metadata": {},
   "outputs": [],
   "source": [
    "# Drop 'ga:productSKU' in both train and test datasets:\n",
    "\n",
    "X_train=X_train.drop('ga:productSKU',axis=1)\n",
    "X_test=X_test.drop('ga:productSKU',axis=1)"
   ]
  },
  {
   "cell_type": "code",
   "execution_count": 13,
   "id": "forbidden-breed",
   "metadata": {},
   "outputs": [
    {
     "data": {
      "text/html": [
       "<div>\n",
       "<style scoped>\n",
       "    .dataframe tbody tr th:only-of-type {\n",
       "        vertical-align: middle;\n",
       "    }\n",
       "\n",
       "    .dataframe tbody tr th {\n",
       "        vertical-align: top;\n",
       "    }\n",
       "\n",
       "    .dataframe thead th {\n",
       "        text-align: right;\n",
       "    }\n",
       "</style>\n",
       "<table border=\"1\" class=\"dataframe\">\n",
       "  <thead>\n",
       "    <tr style=\"text-align: right;\">\n",
       "      <th></th>\n",
       "      <th>ga:pageDepth</th>\n",
       "      <th>ga:sessionCount</th>\n",
       "      <th>ga:daysSinceLastSession</th>\n",
       "      <th>ga:productSKU_cete</th>\n",
       "    </tr>\n",
       "  </thead>\n",
       "  <tbody>\n",
       "    <tr>\n",
       "      <th>0</th>\n",
       "      <td>1</td>\n",
       "      <td>1</td>\n",
       "      <td>0</td>\n",
       "      <td>0.024405</td>\n",
       "    </tr>\n",
       "    <tr>\n",
       "      <th>1</th>\n",
       "      <td>14</td>\n",
       "      <td>1</td>\n",
       "      <td>0</td>\n",
       "      <td>0.024561</td>\n",
       "    </tr>\n",
       "    <tr>\n",
       "      <th>2</th>\n",
       "      <td>6</td>\n",
       "      <td>1</td>\n",
       "      <td>0</td>\n",
       "      <td>0.048494</td>\n",
       "    </tr>\n",
       "  </tbody>\n",
       "</table>\n",
       "</div>"
      ],
      "text/plain": [
       "   ga:pageDepth  ga:sessionCount  ga:daysSinceLastSession  ga:productSKU_cete\n",
       "0             1                1                        0            0.024405\n",
       "1            14                1                        0            0.024561\n",
       "2             6                1                        0            0.048494"
      ]
     },
     "execution_count": 13,
     "metadata": {},
     "output_type": "execute_result"
    }
   ],
   "source": [
    "X_test.head(3)"
   ]
  },
  {
   "cell_type": "code",
   "execution_count": 14,
   "id": "earned-thesis",
   "metadata": {},
   "outputs": [
    {
     "data": {
      "text/html": [
       "<div>\n",
       "<style scoped>\n",
       "    .dataframe tbody tr th:only-of-type {\n",
       "        vertical-align: middle;\n",
       "    }\n",
       "\n",
       "    .dataframe tbody tr th {\n",
       "        vertical-align: top;\n",
       "    }\n",
       "\n",
       "    .dataframe thead th {\n",
       "        text-align: right;\n",
       "    }\n",
       "</style>\n",
       "<table border=\"1\" class=\"dataframe\">\n",
       "  <thead>\n",
       "    <tr style=\"text-align: right;\">\n",
       "      <th></th>\n",
       "      <th>ga:pageDepth</th>\n",
       "      <th>ga:sessionCount</th>\n",
       "      <th>ga:daysSinceLastSession</th>\n",
       "      <th>ga:productSKU_cete</th>\n",
       "    </tr>\n",
       "  </thead>\n",
       "  <tbody>\n",
       "    <tr>\n",
       "      <th>2829355</th>\n",
       "      <td>2</td>\n",
       "      <td>1</td>\n",
       "      <td>0</td>\n",
       "      <td>0.004168</td>\n",
       "    </tr>\n",
       "    <tr>\n",
       "      <th>3543383</th>\n",
       "      <td>3</td>\n",
       "      <td>82</td>\n",
       "      <td>0</td>\n",
       "      <td>0.001287</td>\n",
       "    </tr>\n",
       "    <tr>\n",
       "      <th>1607926</th>\n",
       "      <td>1</td>\n",
       "      <td>1</td>\n",
       "      <td>0</td>\n",
       "      <td>0.059557</td>\n",
       "    </tr>\n",
       "  </tbody>\n",
       "</table>\n",
       "</div>"
      ],
      "text/plain": [
       "         ga:pageDepth  ga:sessionCount  ga:daysSinceLastSession  \\\n",
       "2829355             2                1                        0   \n",
       "3543383             3               82                        0   \n",
       "1607926             1                1                        0   \n",
       "\n",
       "         ga:productSKU_cete  \n",
       "2829355            0.004168  \n",
       "3543383            0.001287  \n",
       "1607926            0.059557  "
      ]
     },
     "execution_count": 14,
     "metadata": {},
     "output_type": "execute_result"
    }
   ],
   "source": [
    "X_train.head(3)"
   ]
  },
  {
   "cell_type": "markdown",
   "id": "beginning-secret",
   "metadata": {},
   "source": [
    "#### Classifier"
   ]
  },
  {
   "cell_type": "code",
   "execution_count": 15,
   "id": "green-keeping",
   "metadata": {},
   "outputs": [
    {
     "name": "stdout",
     "output_type": "stream",
     "text": [
      "TRAINING SCORE: 0.9843258977784777\n",
      "ACCURACY: 0.9786260612292174\n",
      "PRECISION: 0.10480472042708626\n",
      "RECALL: 0.020467515364354698\n",
      "F1 SCORE: 0.034246889776431165\n",
      "AUC: 0.7279564771567083\n"
     ]
    },
    {
     "data": {
      "image/png": "[encoded data removed]",
      "text/plain": [
       "<Figure size 432x288 with 1 Axes>"
      ]
     },
     "metadata": {
      "needs_background": "light"
     },
     "output_type": "display_data"
    }
   ],
   "source": [
    "from sklearn.ensemble import RandomForestClassifier\n",
    "clrf=RandomForestClassifier()\n",
    "evaluate(clrf,X_train, X_test, y_train, y_test)"
   ]
  },
  {
   "cell_type": "code",
   "execution_count": 16,
   "id": "cross-deviation",
   "metadata": {},
   "outputs": [
    {
     "name": "stdout",
     "output_type": "stream",
     "text": [
      "              precision    recall  f1-score   support\n",
      "\n",
      "           0       0.98      1.00      0.99    966012\n",
      "           1       0.10      0.02      0.03     18224\n",
      "\n",
      "    accuracy                           0.98    984236\n",
      "   macro avg       0.54      0.51      0.51    984236\n",
      "weighted avg       0.97      0.98      0.97    984236\n",
      "\n"
     ]
    },
    {
     "data": {
      "text/plain": [
       "array([[962826,   3186],\n",
       "       [ 17851,    373]])"
      ]
     },
     "execution_count": 16,
     "metadata": {},
     "output_type": "execute_result"
    }
   ],
   "source": [
    "print(classification_report(y_test,clrf.predict(X_test)))\n",
    "clrf_cm = confusion_matrix(y_test,clrf.predict(X_test))\n",
    "clrf_cm"
   ]
  },
  {
   "cell_type": "markdown",
   "id": "republican-fitting",
   "metadata": {},
   "source": [
    "Un metodo más sofisticado de Target Encoding para evitar overfitting (mejores resultados en train que en test):\n",
    "\n",
    "https://medium.com/@pouryaayria/k-fold-target-encoding-dfe9a594874b\n",
    "https://datascience.stackexchange.com/questions/81260/target-encoding-with-kfold-cross-validation-how-to-transform-test-set"
   ]
  },
  {
   "cell_type": "markdown",
   "id": "imperial-storm",
   "metadata": {},
   "source": [
    "### Baseline + productSKU_cete + 'dateHourMinute'"
   ]
  },
  {
   "cell_type": "markdown",
   "id": "coupled-startup",
   "metadata": {},
   "source": [
    "#### Feature Engineering"
   ]
  },
  {
   "cell_type": "code",
   "execution_count": 6,
   "id": "catholic-greece",
   "metadata": {},
   "outputs": [
    {
     "data": {
      "text/plain": [
       "0          201904301452\n",
       "1          201904301524\n",
       "2          201904301545\n",
       "3          201904301704\n",
       "4          201904301452\n",
       "               ...     \n",
       "3936936    202101092123\n",
       "3936937    202101092124\n",
       "3936938    202101120607\n",
       "3936939    202101131547\n",
       "3936940    202101141618\n",
       "Name: ga:dateHourMinute, Length: 3936941, dtype: int64"
      ]
     },
     "execution_count": 6,
     "metadata": {},
     "output_type": "execute_result"
    }
   ],
   "source": [
    "df['ga:dateHourMinute']"
   ]
  },
  {
   "cell_type": "code",
   "execution_count": 6,
   "id": "permanent-aggregate",
   "metadata": {},
   "outputs": [
    {
     "data": {
      "text/plain": [
       "0         2019-04-30 14:52:00\n",
       "1         2019-04-30 15:24:00\n",
       "2         2019-04-30 15:45:00\n",
       "3         2019-04-30 17:04:00\n",
       "4         2019-04-30 14:52:00\n",
       "                  ...        \n",
       "3936936   2021-01-09 21:23:00\n",
       "3936937   2021-01-09 21:24:00\n",
       "3936938   2021-01-12 06:07:00\n",
       "3936939   2021-01-13 15:47:00\n",
       "3936940   2021-01-14 16:18:00\n",
       "Name: dateTime, Length: 3936941, dtype: datetime64[ns]"
      ]
     },
     "execution_count": 6,
     "metadata": {},
     "output_type": "execute_result"
    }
   ],
   "source": [
    "df['dateTime']=pd.to_datetime(df['ga:dateHourMinute'],format='%Y%m%d%H%M')\n",
    "df['dateTime']"
   ]
  },
  {
   "cell_type": "code",
   "execution_count": 7,
   "id": "adjusted-automation",
   "metadata": {},
   "outputs": [
    {
     "name": "stdout",
     "output_type": "stream",
     "text": [
      "<class 'pandas.core.frame.DataFrame'>\n",
      "RangeIndex: 3936941 entries, 0 to 3936940\n",
      "Data columns (total 20 columns):\n",
      " #   Column                       Dtype         \n",
      "---  ------                       -----         \n",
      " 0   ga:productSKU                object        \n",
      " 1   ga:dateHourMinute            int64         \n",
      " 2   ga:pagePath                  object        \n",
      " 3   ga:pageDepth                 int64         \n",
      " 4   ga:sessionCount              int64         \n",
      " 5   ga:daysSinceLastSession      int64         \n",
      " 6   ga:sourceMedium              object        \n",
      " 7   ga:city                      object        \n",
      " 8   ga:deviceCategory            object        \n",
      " 9   ga:operatingSystem           object        \n",
      " 10  ga:productListViews          int64         \n",
      " 11  ga:productListClicks         int64         \n",
      " 12  ga:productDetailViews        int64         \n",
      " 13  ga:productAddsToCart         int64         \n",
      " 14  ga:productAddsToCart_transf  int64         \n",
      " 15  dateTime                     datetime64[ns]\n",
      " 16  dateTime_year                int64         \n",
      " 17  dateTime_month               int64         \n",
      " 18  dateTime_dayofweek           int64         \n",
      " 19  dateTime_hour                int64         \n",
      "dtypes: datetime64[ns](1), int64(13), object(6)\n",
      "memory usage: 600.7+ MB\n"
     ]
    }
   ],
   "source": [
    "df['dateTime_year']=df['dateTime'].dt.year\n",
    "df['dateTime_month']=df['dateTime'].dt.month\n",
    "df['dateTime_dayofweek']=df['dateTime'].dt.dayofweek\n",
    "df['dateTime_hour']=df['dateTime'].dt.hour\n",
    "df.info()"
   ]
  },
  {
   "cell_type": "code",
   "execution_count": 8,
   "id": "executed-structure",
   "metadata": {},
   "outputs": [
    {
     "name": "stdout",
     "output_type": "stream",
     "text": [
      "<class 'pandas.core.frame.DataFrame'>\n",
      "RangeIndex: 3936941 entries, 0 to 3936940\n",
      "Data columns (total 26 columns):\n",
      " #   Column                       Dtype         \n",
      "---  ------                       -----         \n",
      " 0   ga:productSKU                object        \n",
      " 1   ga:dateHourMinute            int64         \n",
      " 2   ga:pagePath                  object        \n",
      " 3   ga:pageDepth                 int64         \n",
      " 4   ga:sessionCount              int64         \n",
      " 5   ga:daysSinceLastSession      int64         \n",
      " 6   ga:sourceMedium              object        \n",
      " 7   ga:city                      object        \n",
      " 8   ga:deviceCategory            object        \n",
      " 9   ga:operatingSystem           object        \n",
      " 10  ga:productListViews          int64         \n",
      " 11  ga:productListClicks         int64         \n",
      " 12  ga:productDetailViews        int64         \n",
      " 13  ga:productAddsToCart         int64         \n",
      " 14  ga:productAddsToCart_transf  int64         \n",
      " 15  dateTime                     datetime64[ns]\n",
      " 16  dateTime_year                int64         \n",
      " 17  dateTime_month               int64         \n",
      " 18  dateTime_dayofweek           int64         \n",
      " 19  dateTime_hour                int64         \n",
      " 20  month_sin                    float64       \n",
      " 21  month_cos                    float64       \n",
      " 22  dayofweek_sin                float64       \n",
      " 23  dayofweek_cos                float64       \n",
      " 24  hour_sin                     float64       \n",
      " 25  hour_cos                     float64       \n",
      "dtypes: datetime64[ns](1), float64(6), int64(13), object(6)\n",
      "memory usage: 780.9+ MB\n"
     ]
    }
   ],
   "source": [
    "# DateTime as cyclical features:\n",
    "\n",
    "df['month_sin']=np.sin((df.dateTime_month-1)*(2.*np.pi/12))\n",
    "df['month_cos']=np.cos((df.dateTime_month-1)*(2.*np.pi/12))\n",
    "# I substract minus 1 to 'df.dateTime_month' because its values are coded as 1 to 12 instead of 0 to 11\n",
    "\n",
    "df['dayofweek_sin']=np.sin(df.dateTime_dayofweek*(2.*np.pi/7))\n",
    "df['dayofweek_cos']=np.cos(df.dateTime_dayofweek*(2.*np.pi/7))\n",
    "\n",
    "df['hour_sin']=np.sin(df.dateTime_hour*(2.*np.pi/24))\n",
    "df['hour_cos']=np.cos(df.dateTime_hour*(2.*np.pi/24))\n",
    "\n",
    "df.info()"
   ]
  },
  {
   "cell_type": "markdown",
   "id": "boring-daniel",
   "metadata": {},
   "source": [
    "#### Month"
   ]
  },
  {
   "cell_type": "markdown",
   "id": "corrected-wallpaper",
   "metadata": {},
   "source": [
    "##### Data"
   ]
  },
  {
   "cell_type": "code",
   "execution_count": 10,
   "id": "nasty-exhibition",
   "metadata": {},
   "outputs": [
    {
     "name": "stderr",
     "output_type": "stream",
     "text": [
      "<ipython-input-10-4d2973f52982>:4: SettingWithCopyWarning: \n",
      "A value is trying to be set on a copy of a slice from a DataFrame.\n",
      "Try using .loc[row_indexer,col_indexer] = value instead\n",
      "\n",
      "See the caveats in the documentation: https://pandas.pydata.org/pandas-docs/stable/user_guide/indexing.html#returning-a-view-versus-a-copy\n",
      "  X['ga:productSKU']=X['ga:productSKU'].astype('str')\n",
      "/home/dsc/TFM/kschool_masterDS_TFM/env/lib/python3.9/site-packages/category_encoders/utils.py:21: FutureWarning: is_categorical is deprecated and will be removed in a future version.  Use is_categorical_dtype instead\n",
      "  elif pd.api.types.is_categorical(cols):\n",
      "<ipython-input-10-4d2973f52982>:10: SettingWithCopyWarning: \n",
      "A value is trying to be set on a copy of a slice from a DataFrame.\n",
      "Try using .loc[row_indexer,col_indexer] = value instead\n",
      "\n",
      "See the caveats in the documentation: https://pandas.pydata.org/pandas-docs/stable/user_guide/indexing.html#returning-a-view-versus-a-copy\n",
      "  X_train['ga:productSKU_cete']=encoder.fit_transform(X_train['ga:productSKU'],y_train)\n",
      "<ipython-input-10-4d2973f52982>:14: SettingWithCopyWarning: \n",
      "A value is trying to be set on a copy of a slice from a DataFrame.\n",
      "Try using .loc[row_indexer,col_indexer] = value instead\n",
      "\n",
      "See the caveats in the documentation: https://pandas.pydata.org/pandas-docs/stable/user_guide/indexing.html#returning-a-view-versus-a-copy\n",
      "  prod_target_encod['ga:productSKU']=prod_target_encod['ga:productSKU'].astype('str')\n",
      "<ipython-input-10-4d2973f52982>:15: SettingWithCopyWarning: \n",
      "A value is trying to be set on a copy of a slice from a DataFrame\n",
      "\n",
      "See the caveats in the documentation: https://pandas.pydata.org/pandas-docs/stable/user_guide/indexing.html#returning-a-view-versus-a-copy\n",
      "  prod_target_encod.drop_duplicates(inplace=True)\n"
     ]
    }
   ],
   "source": [
    "#Split data\n",
    "y=df['ga:productAddsToCart_transf']\n",
    "X=df[['ga:pageDepth','ga:sessionCount','ga:daysSinceLastSession','ga:productSKU','month_sin','month_cos']]\n",
    "X['ga:productSKU']=X['ga:productSKU'].astype('str')\n",
    "X_train, X_test, y_train, y_test = train_test_split(X, y,random_state=42)\n",
    "\n",
    "# Target encoding of productSKU with train\n",
    "import category_encoders as ce\n",
    "encoder=ce.TargetEncoder(cols='ga:productSKU')\n",
    "X_train['ga:productSKU_cete']=encoder.fit_transform(X_train['ga:productSKU'],y_train)\n",
    "\n",
    "# 'Dictionary' of productSKU target encoding\n",
    "prod_target_encod= X_train[['ga:productSKU','ga:productSKU_cete']]\n",
    "prod_target_encod['ga:productSKU']=prod_target_encod['ga:productSKU'].astype('str')\n",
    "prod_target_encod.drop_duplicates(inplace=True)\n",
    "\n",
    "# productSKU target encoding in test according to fitting on train set:\n",
    "X_test = X_test.merge(prod_target_encod, left_on='ga:productSKU', right_on='ga:productSKU', how='left')\n",
    "\n",
    "# Filling missing values in X_test with the mean of the means:\n",
    "X_test['ga:productSKU_cete']=X_test['ga:productSKU_cete'].fillna(prod_target_encod['ga:productSKU_cete'].mean())\n",
    "\n",
    "# Drop 'ga:productSKU' in both train and test datasets:\n",
    "X_train=X_train.drop('ga:productSKU',axis=1)\n",
    "X_test=X_test.drop('ga:productSKU',axis=1)"
   ]
  },
  {
   "cell_type": "code",
   "execution_count": 11,
   "id": "exotic-district",
   "metadata": {},
   "outputs": [
    {
     "data": {
      "text/html": [
       "<div>\n",
       "<style scoped>\n",
       "    .dataframe tbody tr th:only-of-type {\n",
       "        vertical-align: middle;\n",
       "    }\n",
       "\n",
       "    .dataframe tbody tr th {\n",
       "        vertical-align: top;\n",
       "    }\n",
       "\n",
       "    .dataframe thead th {\n",
       "        text-align: right;\n",
       "    }\n",
       "</style>\n",
       "<table border=\"1\" class=\"dataframe\">\n",
       "  <thead>\n",
       "    <tr style=\"text-align: right;\">\n",
       "      <th></th>\n",
       "      <th>ga:pageDepth</th>\n",
       "      <th>ga:sessionCount</th>\n",
       "      <th>ga:daysSinceLastSession</th>\n",
       "      <th>month_sin</th>\n",
       "      <th>month_cos</th>\n",
       "      <th>ga:productSKU_cete</th>\n",
       "    </tr>\n",
       "  </thead>\n",
       "  <tbody>\n",
       "    <tr>\n",
       "      <th>2829355</th>\n",
       "      <td>2</td>\n",
       "      <td>1</td>\n",
       "      <td>0</td>\n",
       "      <td>-0.500000</td>\n",
       "      <td>0.866025</td>\n",
       "      <td>0.004168</td>\n",
       "    </tr>\n",
       "    <tr>\n",
       "      <th>3543383</th>\n",
       "      <td>3</td>\n",
       "      <td>82</td>\n",
       "      <td>0</td>\n",
       "      <td>0.000000</td>\n",
       "      <td>1.000000</td>\n",
       "      <td>0.001287</td>\n",
       "    </tr>\n",
       "    <tr>\n",
       "      <th>1607926</th>\n",
       "      <td>1</td>\n",
       "      <td>1</td>\n",
       "      <td>0</td>\n",
       "      <td>-0.866025</td>\n",
       "      <td>0.500000</td>\n",
       "      <td>0.059557</td>\n",
       "    </tr>\n",
       "  </tbody>\n",
       "</table>\n",
       "</div>"
      ],
      "text/plain": [
       "         ga:pageDepth  ga:sessionCount  ga:daysSinceLastSession  month_sin  \\\n",
       "2829355             2                1                        0  -0.500000   \n",
       "3543383             3               82                        0   0.000000   \n",
       "1607926             1                1                        0  -0.866025   \n",
       "\n",
       "         month_cos  ga:productSKU_cete  \n",
       "2829355   0.866025            0.004168  \n",
       "3543383   1.000000            0.001287  \n",
       "1607926   0.500000            0.059557  "
      ]
     },
     "execution_count": 11,
     "metadata": {},
     "output_type": "execute_result"
    }
   ],
   "source": [
    "X_train.head(3)"
   ]
  },
  {
   "cell_type": "code",
   "execution_count": 12,
   "id": "recent-background",
   "metadata": {},
   "outputs": [
    {
     "data": {
      "text/html": [
       "<div>\n",
       "<style scoped>\n",
       "    .dataframe tbody tr th:only-of-type {\n",
       "        vertical-align: middle;\n",
       "    }\n",
       "\n",
       "    .dataframe tbody tr th {\n",
       "        vertical-align: top;\n",
       "    }\n",
       "\n",
       "    .dataframe thead th {\n",
       "        text-align: right;\n",
       "    }\n",
       "</style>\n",
       "<table border=\"1\" class=\"dataframe\">\n",
       "  <thead>\n",
       "    <tr style=\"text-align: right;\">\n",
       "      <th></th>\n",
       "      <th>ga:pageDepth</th>\n",
       "      <th>ga:sessionCount</th>\n",
       "      <th>ga:daysSinceLastSession</th>\n",
       "      <th>month_sin</th>\n",
       "      <th>month_cos</th>\n",
       "      <th>ga:productSKU_cete</th>\n",
       "    </tr>\n",
       "  </thead>\n",
       "  <tbody>\n",
       "    <tr>\n",
       "      <th>0</th>\n",
       "      <td>1</td>\n",
       "      <td>1</td>\n",
       "      <td>0</td>\n",
       "      <td>0.000000</td>\n",
       "      <td>1.0</td>\n",
       "      <td>0.024405</td>\n",
       "    </tr>\n",
       "    <tr>\n",
       "      <th>1</th>\n",
       "      <td>14</td>\n",
       "      <td>1</td>\n",
       "      <td>0</td>\n",
       "      <td>0.000000</td>\n",
       "      <td>1.0</td>\n",
       "      <td>0.024561</td>\n",
       "    </tr>\n",
       "    <tr>\n",
       "      <th>2</th>\n",
       "      <td>6</td>\n",
       "      <td>1</td>\n",
       "      <td>0</td>\n",
       "      <td>-0.866025</td>\n",
       "      <td>0.5</td>\n",
       "      <td>0.048494</td>\n",
       "    </tr>\n",
       "  </tbody>\n",
       "</table>\n",
       "</div>"
      ],
      "text/plain": [
       "   ga:pageDepth  ga:sessionCount  ga:daysSinceLastSession  month_sin  \\\n",
       "0             1                1                        0   0.000000   \n",
       "1            14                1                        0   0.000000   \n",
       "2             6                1                        0  -0.866025   \n",
       "\n",
       "   month_cos  ga:productSKU_cete  \n",
       "0        1.0            0.024405  \n",
       "1        1.0            0.024561  \n",
       "2        0.5            0.048494  "
      ]
     },
     "execution_count": 12,
     "metadata": {},
     "output_type": "execute_result"
    }
   ],
   "source": [
    "X_test.head(3)"
   ]
  },
  {
   "cell_type": "markdown",
   "id": "cathedral-release",
   "metadata": {},
   "source": [
    "##### Classifier"
   ]
  },
  {
   "cell_type": "code",
   "execution_count": 13,
   "id": "bright-insulin",
   "metadata": {},
   "outputs": [
    {
     "name": "stdout",
     "output_type": "stream",
     "text": [
      "TRAINING SCORE: 0.985723937880689\n",
      "ACCURACY: 0.9771436931792782\n",
      "PRECISION: 0.10792951541850221\n",
      "RECALL: 0.03226514486391571\n",
      "F1 SCORE: 0.049678945589726256\n",
      "AUC: 0.7517192621177774\n"
     ]
    },
    {
     "data": {
      "image/png": "[encoded data removed]",
      "text/plain": [
       "<Figure size 432x288 with 1 Axes>"
      ]
     },
     "metadata": {
      "needs_background": "light"
     },
     "output_type": "display_data"
    }
   ],
   "source": [
    "from sklearn.ensemble import RandomForestClassifier\n",
    "clrf=RandomForestClassifier()\n",
    "evaluate(clrf,X_train, X_test, y_train, y_test)"
   ]
  },
  {
   "cell_type": "code",
   "execution_count": 14,
   "id": "informal-committee",
   "metadata": {},
   "outputs": [
    {
     "name": "stdout",
     "output_type": "stream",
     "text": [
      "              precision    recall  f1-score   support\n",
      "\n",
      "           0       0.98      0.99      0.99    966012\n",
      "           1       0.11      0.03      0.05     18224\n",
      "\n",
      "    accuracy                           0.98    984236\n",
      "   macro avg       0.54      0.51      0.52    984236\n",
      "weighted avg       0.97      0.98      0.97    984236\n",
      "\n"
     ]
    },
    {
     "data": {
      "text/plain": [
       "array([[961152,   4860],\n",
       "       [ 17636,    588]])"
      ]
     },
     "execution_count": 14,
     "metadata": {},
     "output_type": "execute_result"
    }
   ],
   "source": [
    "print(classification_report(y_test,clrf.predict(X_test)))\n",
    "clrf_cm = confusion_matrix(y_test,clrf.predict(X_test))\n",
    "clrf_cm"
   ]
  },
  {
   "cell_type": "markdown",
   "id": "smooth-accountability",
   "metadata": {},
   "source": [
    "#### Day of week"
   ]
  },
  {
   "cell_type": "markdown",
   "id": "modified-rings",
   "metadata": {},
   "source": [
    "##### Data"
   ]
  },
  {
   "cell_type": "code",
   "execution_count": 15,
   "id": "exact-seller",
   "metadata": {},
   "outputs": [
    {
     "name": "stderr",
     "output_type": "stream",
     "text": [
      "<ipython-input-15-4be774d1d794>:4: SettingWithCopyWarning: \n",
      "A value is trying to be set on a copy of a slice from a DataFrame.\n",
      "Try using .loc[row_indexer,col_indexer] = value instead\n",
      "\n",
      "See the caveats in the documentation: https://pandas.pydata.org/pandas-docs/stable/user_guide/indexing.html#returning-a-view-versus-a-copy\n",
      "  X['ga:productSKU']=X['ga:productSKU'].astype('str')\n",
      "/home/dsc/TFM/kschool_masterDS_TFM/env/lib/python3.9/site-packages/category_encoders/utils.py:21: FutureWarning: is_categorical is deprecated and will be removed in a future version.  Use is_categorical_dtype instead\n",
      "  elif pd.api.types.is_categorical(cols):\n",
      "<ipython-input-15-4be774d1d794>:10: SettingWithCopyWarning: \n",
      "A value is trying to be set on a copy of a slice from a DataFrame.\n",
      "Try using .loc[row_indexer,col_indexer] = value instead\n",
      "\n",
      "See the caveats in the documentation: https://pandas.pydata.org/pandas-docs/stable/user_guide/indexing.html#returning-a-view-versus-a-copy\n",
      "  X_train['ga:productSKU_cete']=encoder.fit_transform(X_train['ga:productSKU'],y_train)\n",
      "<ipython-input-15-4be774d1d794>:14: SettingWithCopyWarning: \n",
      "A value is trying to be set on a copy of a slice from a DataFrame.\n",
      "Try using .loc[row_indexer,col_indexer] = value instead\n",
      "\n",
      "See the caveats in the documentation: https://pandas.pydata.org/pandas-docs/stable/user_guide/indexing.html#returning-a-view-versus-a-copy\n",
      "  prod_target_encod['ga:productSKU']=prod_target_encod['ga:productSKU'].astype('str')\n",
      "<ipython-input-15-4be774d1d794>:15: SettingWithCopyWarning: \n",
      "A value is trying to be set on a copy of a slice from a DataFrame\n",
      "\n",
      "See the caveats in the documentation: https://pandas.pydata.org/pandas-docs/stable/user_guide/indexing.html#returning-a-view-versus-a-copy\n",
      "  prod_target_encod.drop_duplicates(inplace=True)\n"
     ]
    }
   ],
   "source": [
    "#Split data\n",
    "y=df['ga:productAddsToCart_transf']\n",
    "X=df[['ga:pageDepth','ga:sessionCount','ga:daysSinceLastSession','ga:productSKU','month_sin','month_cos','dayofweek_sin','dayofweek_cos']]\n",
    "X['ga:productSKU']=X['ga:productSKU'].astype('str')\n",
    "X_train, X_test, y_train, y_test = train_test_split(X, y,random_state=42)\n",
    "\n",
    "# Target encoding of productSKU with train\n",
    "import category_encoders as ce\n",
    "encoder=ce.TargetEncoder(cols='ga:productSKU')\n",
    "X_train['ga:productSKU_cete']=encoder.fit_transform(X_train['ga:productSKU'],y_train)\n",
    "\n",
    "# 'Dictionary' of productSKU target encoding\n",
    "prod_target_encod= X_train[['ga:productSKU','ga:productSKU_cete']]\n",
    "prod_target_encod['ga:productSKU']=prod_target_encod['ga:productSKU'].astype('str')\n",
    "prod_target_encod.drop_duplicates(inplace=True)\n",
    "\n",
    "# productSKU target encoding in test according to fitting on train set:\n",
    "X_test = X_test.merge(prod_target_encod, left_on='ga:productSKU', right_on='ga:productSKU', how='left')\n",
    "\n",
    "# Filling missing values in X_test with the mean of the means:\n",
    "X_test['ga:productSKU_cete']=X_test['ga:productSKU_cete'].fillna(prod_target_encod['ga:productSKU_cete'].mean())\n",
    "\n",
    "# Drop 'ga:productSKU' in both train and test datasets:\n",
    "X_train=X_train.drop('ga:productSKU',axis=1)\n",
    "X_test=X_test.drop('ga:productSKU',axis=1)"
   ]
  },
  {
   "cell_type": "markdown",
   "id": "executive-processing",
   "metadata": {},
   "source": [
    "##### Classifier"
   ]
  },
  {
   "cell_type": "code",
   "execution_count": 16,
   "id": "graphic-transfer",
   "metadata": {},
   "outputs": [
    {
     "name": "stdout",
     "output_type": "stream",
     "text": [
      "TRAINING SCORE: 0.9871436530232448\n",
      "ACCURACY: 0.9758513202118191\n",
      "PRECISION: 0.10825325042396834\n",
      "RECALL: 0.0420324846356453\n",
      "F1 SCORE: 0.06055335968379446\n",
      "AUC: 0.7476948312200389\n"
     ]
    },
    {
     "data": {
      "image/png": "[encoded data removed]",
      "text/plain": [
       "<Figure size 432x288 with 1 Axes>"
      ]
     },
     "metadata": {
      "needs_background": "light"
     },
     "output_type": "display_data"
    }
   ],
   "source": [
    "from sklearn.ensemble import RandomForestClassifier\n",
    "clrf=RandomForestClassifier()\n",
    "evaluate(clrf,X_train, X_test, y_train, y_test)"
   ]
  },
  {
   "cell_type": "code",
   "execution_count": 17,
   "id": "ranging-advance",
   "metadata": {},
   "outputs": [
    {
     "name": "stdout",
     "output_type": "stream",
     "text": [
      "              precision    recall  f1-score   support\n",
      "\n",
      "           0       0.98      0.99      0.99    966012\n",
      "           1       0.11      0.04      0.06     18224\n",
      "\n",
      "    accuracy                           0.98    984236\n",
      "   macro avg       0.55      0.52      0.52    984236\n",
      "weighted avg       0.97      0.98      0.97    984236\n",
      "\n"
     ]
    },
    {
     "data": {
      "text/plain": [
       "array([[959702,   6310],\n",
       "       [ 17458,    766]])"
      ]
     },
     "execution_count": 17,
     "metadata": {},
     "output_type": "execute_result"
    }
   ],
   "source": [
    "print(classification_report(y_test,clrf.predict(X_test)))\n",
    "clrf_cm = confusion_matrix(y_test,clrf.predict(X_test))\n",
    "clrf_cm"
   ]
  },
  {
   "cell_type": "markdown",
   "id": "bulgarian-cradle",
   "metadata": {},
   "source": [
    "#### Hour"
   ]
  },
  {
   "cell_type": "markdown",
   "id": "superb-heather",
   "metadata": {},
   "source": [
    "##### Data"
   ]
  },
  {
   "cell_type": "code",
   "execution_count": 11,
   "id": "convinced-contamination",
   "metadata": {},
   "outputs": [
    {
     "name": "stderr",
     "output_type": "stream",
     "text": [
      "<ipython-input-11-d8224e290ac5>:4: SettingWithCopyWarning: \n",
      "A value is trying to be set on a copy of a slice from a DataFrame.\n",
      "Try using .loc[row_indexer,col_indexer] = value instead\n",
      "\n",
      "See the caveats in the documentation: https://pandas.pydata.org/pandas-docs/stable/user_guide/indexing.html#returning-a-view-versus-a-copy\n",
      "  X['ga:productSKU']=X['ga:productSKU'].astype('str')\n",
      "/home/dsc/TFM/kschool_masterDS_TFM/env/lib/python3.9/site-packages/category_encoders/utils.py:21: FutureWarning: is_categorical is deprecated and will be removed in a future version.  Use is_categorical_dtype instead\n",
      "  elif pd.api.types.is_categorical(cols):\n",
      "<ipython-input-11-d8224e290ac5>:10: SettingWithCopyWarning: \n",
      "A value is trying to be set on a copy of a slice from a DataFrame.\n",
      "Try using .loc[row_indexer,col_indexer] = value instead\n",
      "\n",
      "See the caveats in the documentation: https://pandas.pydata.org/pandas-docs/stable/user_guide/indexing.html#returning-a-view-versus-a-copy\n",
      "  X_train['ga:productSKU_cete']=encoder.fit_transform(X_train['ga:productSKU'],y_train)\n",
      "<ipython-input-11-d8224e290ac5>:14: SettingWithCopyWarning: \n",
      "A value is trying to be set on a copy of a slice from a DataFrame.\n",
      "Try using .loc[row_indexer,col_indexer] = value instead\n",
      "\n",
      "See the caveats in the documentation: https://pandas.pydata.org/pandas-docs/stable/user_guide/indexing.html#returning-a-view-versus-a-copy\n",
      "  prod_target_encod['ga:productSKU']=prod_target_encod['ga:productSKU'].astype('str')\n",
      "<ipython-input-11-d8224e290ac5>:15: SettingWithCopyWarning: \n",
      "A value is trying to be set on a copy of a slice from a DataFrame\n",
      "\n",
      "See the caveats in the documentation: https://pandas.pydata.org/pandas-docs/stable/user_guide/indexing.html#returning-a-view-versus-a-copy\n",
      "  prod_target_encod.drop_duplicates(inplace=True)\n"
     ]
    }
   ],
   "source": [
    "#Split data\n",
    "y=df['ga:productAddsToCart_transf']\n",
    "X=df[['ga:pageDepth','ga:sessionCount','ga:daysSinceLastSession','ga:productSKU','month_sin','month_cos','dayofweek_sin','dayofweek_cos','hour_sin','hour_cos']]\n",
    "X['ga:productSKU']=X['ga:productSKU'].astype('str')\n",
    "X_train, X_test, y_train, y_test = train_test_split(X, y,random_state=42)\n",
    "\n",
    "# Target encoding of productSKU with train\n",
    "import category_encoders as ce\n",
    "encoder=ce.TargetEncoder(cols='ga:productSKU')\n",
    "X_train['ga:productSKU_cete']=encoder.fit_transform(X_train['ga:productSKU'],y_train)\n",
    "\n",
    "# 'Dictionary' of productSKU target encoding\n",
    "prod_target_encod= X_train[['ga:productSKU','ga:productSKU_cete']]\n",
    "prod_target_encod['ga:productSKU']=prod_target_encod['ga:productSKU'].astype('str')\n",
    "prod_target_encod.drop_duplicates(inplace=True)\n",
    "\n",
    "# productSKU target encoding in test according to fitting on train set:\n",
    "X_test = X_test.merge(prod_target_encod, left_on='ga:productSKU', right_on='ga:productSKU', how='left')\n",
    "\n",
    "# Filling missing values in X_test with the mean of the means:\n",
    "X_test['ga:productSKU_cete']=X_test['ga:productSKU_cete'].fillna(prod_target_encod['ga:productSKU_cete'].mean())\n",
    "\n",
    "# Drop 'ga:productSKU' in both train and test datasets:\n",
    "X_train=X_train.drop('ga:productSKU',axis=1)\n",
    "X_test=X_test.drop('ga:productSKU',axis=1)"
   ]
  },
  {
   "cell_type": "markdown",
   "id": "muslim-alignment",
   "metadata": {},
   "source": [
    "##### Classifier"
   ]
  },
  {
   "cell_type": "code",
   "execution_count": 12,
   "id": "bridal-prefix",
   "metadata": {},
   "outputs": [
    {
     "name": "stdout",
     "output_type": "stream",
     "text": [
      "TRAINING SCORE: 0.9893335094430361\n",
      "ACCURACY: 0.9747276059806794\n",
      "PRECISION: 0.09910778876296118\n",
      "RECALL: 0.04510535557506585\n",
      "F1 SCORE: 0.06199562561279131\n",
      "AUC: 0.7738710386679986\n"
     ]
    },
    {
     "data": {
      "image/png": "[encoded data removed]",
      "text/plain": [
       "<Figure size 432x288 with 1 Axes>"
      ]
     },
     "metadata": {
      "needs_background": "light"
     },
     "output_type": "display_data"
    }
   ],
   "source": [
    "from sklearn.ensemble import RandomForestClassifier\n",
    "clrf=RandomForestClassifier()\n",
    "evaluate(clrf,X_train, X_test, y_train, y_test)"
   ]
  },
  {
   "cell_type": "code",
   "execution_count": 13,
   "id": "metropolitan-discount",
   "metadata": {},
   "outputs": [
    {
     "name": "stdout",
     "output_type": "stream",
     "text": [
      "              precision    recall  f1-score   support\n",
      "\n",
      "           0       0.98      0.99      0.99    966012\n",
      "           1       0.10      0.05      0.06     18224\n",
      "\n",
      "    accuracy                           0.97    984236\n",
      "   macro avg       0.54      0.52      0.52    984236\n",
      "weighted avg       0.97      0.97      0.97    984236\n",
      "\n"
     ]
    },
    {
     "data": {
      "text/plain": [
       "array([[958540,   7472],\n",
       "       [ 17402,    822]])"
      ]
     },
     "execution_count": 13,
     "metadata": {},
     "output_type": "execute_result"
    }
   ],
   "source": [
    "print(classification_report(y_test,clrf.predict(X_test)))\n",
    "clrf_cm = confusion_matrix(y_test,clrf.predict(X_test))\n",
    "clrf_cm"
   ]
  },
  {
   "cell_type": "markdown",
   "id": "liberal-landscape",
   "metadata": {},
   "source": [
    "### Baseline + productSKU_cete + 'dateHourMinute'+'sourceMedium'"
   ]
  },
  {
   "cell_type": "markdown",
   "id": "surprised-kinase",
   "metadata": {},
   "source": [
    "#### Feature Engineering"
   ]
  },
  {
   "cell_type": "code",
   "execution_count": 9,
   "id": "unexpected-premises",
   "metadata": {},
   "outputs": [],
   "source": [
    "# New columns 'Source' and 'Medium':\n",
    "source_medium = df['ga:sourceMedium'].str.split('/',expand=True)\n",
    "source_medium.columns=['Source','Medium']\n",
    "df= df.merge(source_medium,left_index=True,right_index=True,how='left')\n",
    "del(source_medium)\n",
    "df['Source']=df['Source'].astype('str').str.strip()\n",
    "df['Medium']=df['Medium'].astype('str').str.strip()"
   ]
  },
  {
   "cell_type": "code",
   "execution_count": 10,
   "id": "suburban-recovery",
   "metadata": {},
   "outputs": [
    {
     "name": "stdout",
     "output_type": "stream",
     "text": [
      "0.9941718710034008\n"
     ]
    },
    {
     "data": {
      "text/plain": [
       "google              0.549439\n",
       "(direct)            0.223309\n",
       "instagram           0.100411\n",
       "sendinblue          0.064646\n",
       "facebook            0.028689\n",
       "youtube             0.012770\n",
       "bing                0.005462\n",
       "vogue               0.005142\n",
       "cantabrialabs.es    0.002479\n",
       "yahoo               0.001824\n",
       "Name: Source, dtype: float64"
      ]
     },
     "execution_count": 10,
     "metadata": {},
     "output_type": "execute_result"
    }
   ],
   "source": [
    "# Compile 'Source'\n",
    "\n",
    "def source_compiler(x):\n",
    "    \n",
    "    insta_words= ['instagram','ig','linktr.ee']\n",
    "    for seq in insta_words:\n",
    "        if seq in x.lower():\n",
    "            return 'instagram'\n",
    "    if 'facebook' in x.lower():\n",
    "        return 'facebook'\n",
    "    if 'youtube' in x.lower():\n",
    "        return 'youtube'  \n",
    "    if 'vogue' in x.lower():\n",
    "        return 'vogue'\n",
    "    if 'yahoo' in x.lower():\n",
    "        return 'yahoo'\n",
    "    else:\n",
    "        return x\n",
    "\n",
    "df['Source']=df['Source'].apply(source_compiler)\n",
    "print(df['Source'].value_counts(normalize=True).head(10).sum())\n",
    "df['Source'].value_counts(normalize=True).head(10)"
   ]
  },
  {
   "cell_type": "code",
   "execution_count": 11,
   "id": "statistical-librarian",
   "metadata": {},
   "outputs": [
    {
     "name": "stdout",
     "output_type": "stream",
     "text": [
      "0.9999999999999999\n"
     ]
    },
    {
     "data": {
      "text/plain": [
       "google              0.549439\n",
       "(direct)            0.223309\n",
       "instagram           0.100411\n",
       "sendinblue          0.064646\n",
       "facebook            0.028689\n",
       "youtube             0.012770\n",
       "other sources       0.005828\n",
       "bing                0.005462\n",
       "vogue               0.005142\n",
       "cantabrialabs.es    0.002479\n",
       "yahoo               0.001824\n",
       "Name: Source, dtype: float64"
      ]
     },
     "execution_count": 11,
     "metadata": {},
     "output_type": "execute_result"
    }
   ],
   "source": [
    "frequent_sources = df['Source'].value_counts()[:10].index.values.tolist()\n",
    "df['Source']=df['Source'].apply(lambda source: 'other sources' if source not in frequent_sources else source)\n",
    "print(df['Source'].value_counts(normalize=True).sum())\n",
    "df['Source'].value_counts(normalize=True)"
   ]
  },
  {
   "cell_type": "code",
   "execution_count": 12,
   "id": "overall-screen",
   "metadata": {},
   "outputs": [
    {
     "data": {
      "text/plain": [
       "organic             1670949\n",
       "(none)               879154\n",
       "cpc                  580120\n",
       "referral             513604\n",
       "email                255393\n",
       "IGShopping            32844\n",
       "facebook ads           3081\n",
       "facebook feed          1446\n",
       "facebook trafico        350\n",
       "Name: Medium, dtype: int64"
      ]
     },
     "execution_count": 12,
     "metadata": {},
     "output_type": "execute_result"
    }
   ],
   "source": [
    "# Compile 'Medium'\n",
    "\n",
    "def medium_compiler(x):\n",
    "    \n",
    "    if 'cpc' in x.lower():\n",
    "        return 'cpc'\n",
    "    if x=='Social':\n",
    "        return 'IGShopping'  \n",
    "    if x=='facebook':\n",
    "        return 'facebook ads'\n",
    "    if x=='trafico':\n",
    "        return 'facebook trafico'\n",
    "    else:\n",
    "        return x\n",
    "\n",
    "df['Medium']=df['Medium'].apply(medium_compiler)\n",
    "df['Medium'].value_counts()"
   ]
  },
  {
   "cell_type": "code",
   "execution_count": 13,
   "id": "internal-taxation",
   "metadata": {},
   "outputs": [
    {
     "data": {
      "text/html": [
       "<div>\n",
       "<style scoped>\n",
       "    .dataframe tbody tr th:only-of-type {\n",
       "        vertical-align: middle;\n",
       "    }\n",
       "\n",
       "    .dataframe tbody tr th {\n",
       "        vertical-align: top;\n",
       "    }\n",
       "\n",
       "    .dataframe thead th {\n",
       "        text-align: right;\n",
       "    }\n",
       "</style>\n",
       "<table border=\"1\" class=\"dataframe\">\n",
       "  <thead>\n",
       "    <tr style=\"text-align: right;\">\n",
       "      <th></th>\n",
       "      <th>ga:productSKU</th>\n",
       "      <th>ga:dateHourMinute</th>\n",
       "      <th>ga:pagePath</th>\n",
       "      <th>ga:pageDepth</th>\n",
       "      <th>ga:sessionCount</th>\n",
       "      <th>ga:daysSinceLastSession</th>\n",
       "      <th>ga:sourceMedium</th>\n",
       "      <th>ga:city</th>\n",
       "      <th>ga:deviceCategory</th>\n",
       "      <th>ga:operatingSystem</th>\n",
       "      <th>...</th>\n",
       "      <th>Source_yahoo</th>\n",
       "      <th>Source_youtube</th>\n",
       "      <th>Medium_IGShopping</th>\n",
       "      <th>Medium_cpc</th>\n",
       "      <th>Medium_email</th>\n",
       "      <th>Medium_facebook ads</th>\n",
       "      <th>Medium_facebook feed</th>\n",
       "      <th>Medium_facebook trafico</th>\n",
       "      <th>Medium_organic</th>\n",
       "      <th>Medium_referral</th>\n",
       "    </tr>\n",
       "  </thead>\n",
       "  <tbody>\n",
       "    <tr>\n",
       "      <th>0</th>\n",
       "      <td>1008</td>\n",
       "      <td>201904301452</td>\n",
       "      <td>/parafarmacia/es/</td>\n",
       "      <td>1</td>\n",
       "      <td>1</td>\n",
       "      <td>0</td>\n",
       "      <td>(direct) / (none)</td>\n",
       "      <td>Burgos</td>\n",
       "      <td>mobile</td>\n",
       "      <td>iOS</td>\n",
       "      <td>...</td>\n",
       "      <td>0</td>\n",
       "      <td>0</td>\n",
       "      <td>0</td>\n",
       "      <td>0</td>\n",
       "      <td>0</td>\n",
       "      <td>0</td>\n",
       "      <td>0</td>\n",
       "      <td>0</td>\n",
       "      <td>0</td>\n",
       "      <td>0</td>\n",
       "    </tr>\n",
       "    <tr>\n",
       "      <th>1</th>\n",
       "      <td>1008</td>\n",
       "      <td>201904301524</td>\n",
       "      <td>/parafarmacia/es/</td>\n",
       "      <td>3</td>\n",
       "      <td>1</td>\n",
       "      <td>0</td>\n",
       "      <td>(direct) / (none)</td>\n",
       "      <td>Madrid</td>\n",
       "      <td>desktop</td>\n",
       "      <td>Windows</td>\n",
       "      <td>...</td>\n",
       "      <td>0</td>\n",
       "      <td>0</td>\n",
       "      <td>0</td>\n",
       "      <td>0</td>\n",
       "      <td>0</td>\n",
       "      <td>0</td>\n",
       "      <td>0</td>\n",
       "      <td>0</td>\n",
       "      <td>0</td>\n",
       "      <td>0</td>\n",
       "    </tr>\n",
       "    <tr>\n",
       "      <th>2</th>\n",
       "      <td>1008</td>\n",
       "      <td>201904301545</td>\n",
       "      <td>/parafarmacia/es/</td>\n",
       "      <td>7</td>\n",
       "      <td>33</td>\n",
       "      <td>0</td>\n",
       "      <td>merchants.google.com / referral</td>\n",
       "      <td>Zamudio</td>\n",
       "      <td>desktop</td>\n",
       "      <td>Windows</td>\n",
       "      <td>...</td>\n",
       "      <td>0</td>\n",
       "      <td>0</td>\n",
       "      <td>0</td>\n",
       "      <td>0</td>\n",
       "      <td>0</td>\n",
       "      <td>0</td>\n",
       "      <td>0</td>\n",
       "      <td>0</td>\n",
       "      <td>0</td>\n",
       "      <td>1</td>\n",
       "    </tr>\n",
       "  </tbody>\n",
       "</table>\n",
       "<p>3 rows × 47 columns</p>\n",
       "</div>"
      ],
      "text/plain": [
       "  ga:productSKU  ga:dateHourMinute        ga:pagePath  ga:pageDepth  \\\n",
       "0          1008       201904301452  /parafarmacia/es/             1   \n",
       "1          1008       201904301524  /parafarmacia/es/             3   \n",
       "2          1008       201904301545  /parafarmacia/es/             7   \n",
       "\n",
       "   ga:sessionCount  ga:daysSinceLastSession                  ga:sourceMedium  \\\n",
       "0                1                        0                (direct) / (none)   \n",
       "1                1                        0                (direct) / (none)   \n",
       "2               33                        0  merchants.google.com / referral   \n",
       "\n",
       "   ga:city ga:deviceCategory ga:operatingSystem  ...  Source_yahoo  \\\n",
       "0   Burgos            mobile                iOS  ...             0   \n",
       "1   Madrid           desktop            Windows  ...             0   \n",
       "2  Zamudio           desktop            Windows  ...             0   \n",
       "\n",
       "   Source_youtube  Medium_IGShopping  Medium_cpc  Medium_email  \\\n",
       "0               0                  0           0             0   \n",
       "1               0                  0           0             0   \n",
       "2               0                  0           0             0   \n",
       "\n",
       "  Medium_facebook ads  Medium_facebook feed  Medium_facebook trafico  \\\n",
       "0                   0                     0                        0   \n",
       "1                   0                     0                        0   \n",
       "2                   0                     0                        0   \n",
       "\n",
       "   Medium_organic  Medium_referral  \n",
       "0               0                0  \n",
       "1               0                0  \n",
       "2               0                1  \n",
       "\n",
       "[3 rows x 47 columns]"
      ]
     },
     "execution_count": 13,
     "metadata": {},
     "output_type": "execute_result"
    }
   ],
   "source": [
    "# One Hot Encoding:\n",
    "source_medium_encoded = pd.get_dummies(df[['Source','Medium']])\n",
    "\n",
    "# I drop 'Medium_(none)' because it is redundant to 'Source_(direct)'\n",
    "source_medium_encoded.drop('Medium_(none)',axis=1, inplace=True)\n",
    "\n",
    "# Merge with df\n",
    "df = df.merge(source_medium_encoded, left_index=True, right_index=True, how='left')\n",
    "del(source_medium_encoded)\n",
    "df.head(3)"
   ]
  },
  {
   "cell_type": "markdown",
   "id": "invisible-philip",
   "metadata": {},
   "source": [
    "#### Random Forest"
   ]
  },
  {
   "cell_type": "markdown",
   "id": "royal-entertainment",
   "metadata": {},
   "source": [
    "##### Data"
   ]
  },
  {
   "cell_type": "code",
   "execution_count": 14,
   "id": "optimum-house",
   "metadata": {},
   "outputs": [
    {
     "name": "stderr",
     "output_type": "stream",
     "text": [
      "/home/dsc/TFM/kschool_masterDS_TFM/env/lib/python3.9/site-packages/category_encoders/utils.py:21: FutureWarning: is_categorical is deprecated and will be removed in a future version.  Use is_categorical_dtype instead\n",
      "  elif pd.api.types.is_categorical(cols):\n",
      "<ipython-input-14-0eb1af5448b8>:23: SettingWithCopyWarning: \n",
      "A value is trying to be set on a copy of a slice from a DataFrame.\n",
      "Try using .loc[row_indexer,col_indexer] = value instead\n",
      "\n",
      "See the caveats in the documentation: https://pandas.pydata.org/pandas-docs/stable/user_guide/indexing.html#returning-a-view-versus-a-copy\n",
      "  X_train['ga:productSKU_cete']=encoder.fit_transform(X_train['ga:productSKU'],y_train)\n",
      "<ipython-input-14-0eb1af5448b8>:27: SettingWithCopyWarning: \n",
      "A value is trying to be set on a copy of a slice from a DataFrame.\n",
      "Try using .loc[row_indexer,col_indexer] = value instead\n",
      "\n",
      "See the caveats in the documentation: https://pandas.pydata.org/pandas-docs/stable/user_guide/indexing.html#returning-a-view-versus-a-copy\n",
      "  prod_target_encod['ga:productSKU']=prod_target_encod['ga:productSKU'].astype('str')\n",
      "<ipython-input-14-0eb1af5448b8>:28: SettingWithCopyWarning: \n",
      "A value is trying to be set on a copy of a slice from a DataFrame\n",
      "\n",
      "See the caveats in the documentation: https://pandas.pydata.org/pandas-docs/stable/user_guide/indexing.html#returning-a-view-versus-a-copy\n",
      "  prod_target_encod.drop_duplicates(inplace=True)\n"
     ]
    }
   ],
   "source": [
    "#Split data\n",
    "\n",
    "features=['ga:pageDepth','ga:sessionCount','ga:daysSinceLastSession','ga:productSKU',\\\n",
    "          'month_sin','month_cos','dayofweek_sin','dayofweek_cos','hour_sin','hour_cos',\\\n",
    "          'Source_(direct)', 'Source_bing', 'Source_cantabrialabs.es','Source_facebook',\\\n",
    "          'Source_google', 'Source_instagram','Source_other sources', 'Source_sendinblue',\\\n",
    "          'Source_vogue','Source_yahoo', 'Source_youtube', 'Medium_IGShopping', 'Medium_cpc',\\\n",
    "          'Medium_email', 'Medium_facebook ads', 'Medium_facebook feed','Medium_facebook trafico',\\\n",
    "          'Medium_organic', 'Medium_referral']\n",
    "\n",
    "y=df['ga:productAddsToCart_transf']\n",
    "X=df[features]\n",
    "\n",
    "# WARNING: at this point I delete df to get more memory\n",
    "del(df)\n",
    "\n",
    "X['ga:productSKU']=X['ga:productSKU'].astype('str')\n",
    "X_train, X_test, y_train, y_test = train_test_split(X, y,random_state=42)\n",
    "\n",
    "# Target encoding of productSKU with train\n",
    "import category_encoders as ce\n",
    "encoder=ce.TargetEncoder(cols='ga:productSKU')\n",
    "X_train['ga:productSKU_cete']=encoder.fit_transform(X_train['ga:productSKU'],y_train)\n",
    "\n",
    "# 'Dictionary' of productSKU target encoding\n",
    "prod_target_encod= X_train[['ga:productSKU','ga:productSKU_cete']]\n",
    "prod_target_encod['ga:productSKU']=prod_target_encod['ga:productSKU'].astype('str')\n",
    "prod_target_encod.drop_duplicates(inplace=True)\n",
    "\n",
    "# productSKU target encoding in test according to fitting on train set:\n",
    "X_test = X_test.merge(prod_target_encod, left_on='ga:productSKU', right_on='ga:productSKU', how='left')\n",
    "\n",
    "# Filling missing values in X_test with the mean of the means:\n",
    "X_test['ga:productSKU_cete']=X_test['ga:productSKU_cete'].fillna(prod_target_encod['ga:productSKU_cete'].mean())\n",
    "\n",
    "# Drop 'ga:productSKU' in both train and test datasets:\n",
    "X_train=X_train.drop('ga:productSKU',axis=1)\n",
    "X_test=X_test.drop('ga:productSKU',axis=1)"
   ]
  },
  {
   "cell_type": "code",
   "execution_count": 15,
   "id": "severe-october",
   "metadata": {},
   "outputs": [
    {
     "data": {
      "text/html": [
       "<div>\n",
       "<style scoped>\n",
       "    .dataframe tbody tr th:only-of-type {\n",
       "        vertical-align: middle;\n",
       "    }\n",
       "\n",
       "    .dataframe tbody tr th {\n",
       "        vertical-align: top;\n",
       "    }\n",
       "\n",
       "    .dataframe thead th {\n",
       "        text-align: right;\n",
       "    }\n",
       "</style>\n",
       "<table border=\"1\" class=\"dataframe\">\n",
       "  <thead>\n",
       "    <tr style=\"text-align: right;\">\n",
       "      <th></th>\n",
       "      <th>ga:pageDepth</th>\n",
       "      <th>ga:sessionCount</th>\n",
       "      <th>ga:daysSinceLastSession</th>\n",
       "      <th>month_sin</th>\n",
       "      <th>month_cos</th>\n",
       "      <th>dayofweek_sin</th>\n",
       "      <th>dayofweek_cos</th>\n",
       "      <th>hour_sin</th>\n",
       "      <th>hour_cos</th>\n",
       "      <th>Source_(direct)</th>\n",
       "      <th>...</th>\n",
       "      <th>Source_youtube</th>\n",
       "      <th>Medium_IGShopping</th>\n",
       "      <th>Medium_cpc</th>\n",
       "      <th>Medium_email</th>\n",
       "      <th>Medium_facebook ads</th>\n",
       "      <th>Medium_facebook feed</th>\n",
       "      <th>Medium_facebook trafico</th>\n",
       "      <th>Medium_organic</th>\n",
       "      <th>Medium_referral</th>\n",
       "      <th>ga:productSKU_cete</th>\n",
       "    </tr>\n",
       "  </thead>\n",
       "  <tbody>\n",
       "    <tr>\n",
       "      <th>2829355</th>\n",
       "      <td>2</td>\n",
       "      <td>1</td>\n",
       "      <td>0</td>\n",
       "      <td>-0.500000</td>\n",
       "      <td>0.866025</td>\n",
       "      <td>-0.781831</td>\n",
       "      <td>0.623490</td>\n",
       "      <td>0.707107</td>\n",
       "      <td>0.707107</td>\n",
       "      <td>0</td>\n",
       "      <td>...</td>\n",
       "      <td>0</td>\n",
       "      <td>0</td>\n",
       "      <td>0</td>\n",
       "      <td>0</td>\n",
       "      <td>0</td>\n",
       "      <td>0</td>\n",
       "      <td>0</td>\n",
       "      <td>1</td>\n",
       "      <td>0</td>\n",
       "      <td>0.004168</td>\n",
       "    </tr>\n",
       "    <tr>\n",
       "      <th>3543383</th>\n",
       "      <td>3</td>\n",
       "      <td>82</td>\n",
       "      <td>0</td>\n",
       "      <td>0.000000</td>\n",
       "      <td>1.000000</td>\n",
       "      <td>0.433884</td>\n",
       "      <td>-0.900969</td>\n",
       "      <td>0.707107</td>\n",
       "      <td>-0.707107</td>\n",
       "      <td>0</td>\n",
       "      <td>...</td>\n",
       "      <td>0</td>\n",
       "      <td>0</td>\n",
       "      <td>0</td>\n",
       "      <td>0</td>\n",
       "      <td>0</td>\n",
       "      <td>0</td>\n",
       "      <td>0</td>\n",
       "      <td>1</td>\n",
       "      <td>0</td>\n",
       "      <td>0.001287</td>\n",
       "    </tr>\n",
       "    <tr>\n",
       "      <th>1607926</th>\n",
       "      <td>1</td>\n",
       "      <td>1</td>\n",
       "      <td>0</td>\n",
       "      <td>-0.866025</td>\n",
       "      <td>0.500000</td>\n",
       "      <td>0.000000</td>\n",
       "      <td>1.000000</td>\n",
       "      <td>0.500000</td>\n",
       "      <td>-0.866025</td>\n",
       "      <td>0</td>\n",
       "      <td>...</td>\n",
       "      <td>0</td>\n",
       "      <td>0</td>\n",
       "      <td>1</td>\n",
       "      <td>0</td>\n",
       "      <td>0</td>\n",
       "      <td>0</td>\n",
       "      <td>0</td>\n",
       "      <td>0</td>\n",
       "      <td>0</td>\n",
       "      <td>0.059557</td>\n",
       "    </tr>\n",
       "  </tbody>\n",
       "</table>\n",
       "<p>3 rows × 29 columns</p>\n",
       "</div>"
      ],
      "text/plain": [
       "         ga:pageDepth  ga:sessionCount  ga:daysSinceLastSession  month_sin  \\\n",
       "2829355             2                1                        0  -0.500000   \n",
       "3543383             3               82                        0   0.000000   \n",
       "1607926             1                1                        0  -0.866025   \n",
       "\n",
       "         month_cos  dayofweek_sin  dayofweek_cos  hour_sin  hour_cos  \\\n",
       "2829355   0.866025      -0.781831       0.623490  0.707107  0.707107   \n",
       "3543383   1.000000       0.433884      -0.900969  0.707107 -0.707107   \n",
       "1607926   0.500000       0.000000       1.000000  0.500000 -0.866025   \n",
       "\n",
       "         Source_(direct)  ...  Source_youtube  Medium_IGShopping  Medium_cpc  \\\n",
       "2829355                0  ...               0                  0           0   \n",
       "3543383                0  ...               0                  0           0   \n",
       "1607926                0  ...               0                  0           1   \n",
       "\n",
       "         Medium_email  Medium_facebook ads  Medium_facebook feed  \\\n",
       "2829355             0                    0                     0   \n",
       "3543383             0                    0                     0   \n",
       "1607926             0                    0                     0   \n",
       "\n",
       "         Medium_facebook trafico  Medium_organic  Medium_referral  \\\n",
       "2829355                        0               1                0   \n",
       "3543383                        0               1                0   \n",
       "1607926                        0               0                0   \n",
       "\n",
       "         ga:productSKU_cete  \n",
       "2829355            0.004168  \n",
       "3543383            0.001287  \n",
       "1607926            0.059557  \n",
       "\n",
       "[3 rows x 29 columns]"
      ]
     },
     "execution_count": 15,
     "metadata": {},
     "output_type": "execute_result"
    }
   ],
   "source": [
    "X_train.head(3)"
   ]
  },
  {
   "cell_type": "code",
   "execution_count": 16,
   "id": "formed-think",
   "metadata": {},
   "outputs": [
    {
     "data": {
      "text/html": [
       "<div>\n",
       "<style scoped>\n",
       "    .dataframe tbody tr th:only-of-type {\n",
       "        vertical-align: middle;\n",
       "    }\n",
       "\n",
       "    .dataframe tbody tr th {\n",
       "        vertical-align: top;\n",
       "    }\n",
       "\n",
       "    .dataframe thead th {\n",
       "        text-align: right;\n",
       "    }\n",
       "</style>\n",
       "<table border=\"1\" class=\"dataframe\">\n",
       "  <thead>\n",
       "    <tr style=\"text-align: right;\">\n",
       "      <th></th>\n",
       "      <th>ga:pageDepth</th>\n",
       "      <th>ga:sessionCount</th>\n",
       "      <th>ga:daysSinceLastSession</th>\n",
       "      <th>month_sin</th>\n",
       "      <th>month_cos</th>\n",
       "      <th>dayofweek_sin</th>\n",
       "      <th>dayofweek_cos</th>\n",
       "      <th>hour_sin</th>\n",
       "      <th>hour_cos</th>\n",
       "      <th>Source_(direct)</th>\n",
       "      <th>...</th>\n",
       "      <th>Source_youtube</th>\n",
       "      <th>Medium_IGShopping</th>\n",
       "      <th>Medium_cpc</th>\n",
       "      <th>Medium_email</th>\n",
       "      <th>Medium_facebook ads</th>\n",
       "      <th>Medium_facebook feed</th>\n",
       "      <th>Medium_facebook trafico</th>\n",
       "      <th>Medium_organic</th>\n",
       "      <th>Medium_referral</th>\n",
       "      <th>ga:productSKU_cete</th>\n",
       "    </tr>\n",
       "  </thead>\n",
       "  <tbody>\n",
       "    <tr>\n",
       "      <th>0</th>\n",
       "      <td>1</td>\n",
       "      <td>1</td>\n",
       "      <td>0</td>\n",
       "      <td>0.000000</td>\n",
       "      <td>1.0</td>\n",
       "      <td>-0.781831</td>\n",
       "      <td>0.623490</td>\n",
       "      <td>0.000000</td>\n",
       "      <td>1.000000</td>\n",
       "      <td>0</td>\n",
       "      <td>...</td>\n",
       "      <td>0</td>\n",
       "      <td>0</td>\n",
       "      <td>1</td>\n",
       "      <td>0</td>\n",
       "      <td>0</td>\n",
       "      <td>0</td>\n",
       "      <td>0</td>\n",
       "      <td>0</td>\n",
       "      <td>0</td>\n",
       "      <td>0.024405</td>\n",
       "    </tr>\n",
       "    <tr>\n",
       "      <th>1</th>\n",
       "      <td>14</td>\n",
       "      <td>1</td>\n",
       "      <td>0</td>\n",
       "      <td>0.000000</td>\n",
       "      <td>1.0</td>\n",
       "      <td>-0.433884</td>\n",
       "      <td>-0.900969</td>\n",
       "      <td>0.500000</td>\n",
       "      <td>-0.866025</td>\n",
       "      <td>0</td>\n",
       "      <td>...</td>\n",
       "      <td>0</td>\n",
       "      <td>0</td>\n",
       "      <td>0</td>\n",
       "      <td>0</td>\n",
       "      <td>0</td>\n",
       "      <td>0</td>\n",
       "      <td>0</td>\n",
       "      <td>1</td>\n",
       "      <td>0</td>\n",
       "      <td>0.024561</td>\n",
       "    </tr>\n",
       "    <tr>\n",
       "      <th>2</th>\n",
       "      <td>6</td>\n",
       "      <td>1</td>\n",
       "      <td>0</td>\n",
       "      <td>-0.866025</td>\n",
       "      <td>0.5</td>\n",
       "      <td>0.433884</td>\n",
       "      <td>-0.900969</td>\n",
       "      <td>0.707107</td>\n",
       "      <td>-0.707107</td>\n",
       "      <td>0</td>\n",
       "      <td>...</td>\n",
       "      <td>0</td>\n",
       "      <td>0</td>\n",
       "      <td>0</td>\n",
       "      <td>0</td>\n",
       "      <td>0</td>\n",
       "      <td>0</td>\n",
       "      <td>0</td>\n",
       "      <td>1</td>\n",
       "      <td>0</td>\n",
       "      <td>0.048494</td>\n",
       "    </tr>\n",
       "  </tbody>\n",
       "</table>\n",
       "<p>3 rows × 29 columns</p>\n",
       "</div>"
      ],
      "text/plain": [
       "   ga:pageDepth  ga:sessionCount  ga:daysSinceLastSession  month_sin  \\\n",
       "0             1                1                        0   0.000000   \n",
       "1            14                1                        0   0.000000   \n",
       "2             6                1                        0  -0.866025   \n",
       "\n",
       "   month_cos  dayofweek_sin  dayofweek_cos  hour_sin  hour_cos  \\\n",
       "0        1.0      -0.781831       0.623490  0.000000  1.000000   \n",
       "1        1.0      -0.433884      -0.900969  0.500000 -0.866025   \n",
       "2        0.5       0.433884      -0.900969  0.707107 -0.707107   \n",
       "\n",
       "   Source_(direct)  ...  Source_youtube  Medium_IGShopping  Medium_cpc  \\\n",
       "0                0  ...               0                  0           1   \n",
       "1                0  ...               0                  0           0   \n",
       "2                0  ...               0                  0           0   \n",
       "\n",
       "   Medium_email  Medium_facebook ads  Medium_facebook feed  \\\n",
       "0             0                    0                     0   \n",
       "1             0                    0                     0   \n",
       "2             0                    0                     0   \n",
       "\n",
       "   Medium_facebook trafico  Medium_organic  Medium_referral  \\\n",
       "0                        0               0                0   \n",
       "1                        0               1                0   \n",
       "2                        0               1                0   \n",
       "\n",
       "   ga:productSKU_cete  \n",
       "0            0.024405  \n",
       "1            0.024561  \n",
       "2            0.048494  \n",
       "\n",
       "[3 rows x 29 columns]"
      ]
     },
     "execution_count": 16,
     "metadata": {},
     "output_type": "execute_result"
    }
   ],
   "source": [
    "X_test.head(3)"
   ]
  },
  {
   "cell_type": "markdown",
   "id": "ecological-performer",
   "metadata": {},
   "source": [
    "##### Classifier"
   ]
  },
  {
   "cell_type": "code",
   "execution_count": 15,
   "id": "threatened-argentina",
   "metadata": {},
   "outputs": [
    {
     "ename": "MemoryError",
     "evalue": "Unable to allocate 327. MiB for an array with shape (2952705, 29) and data type float32",
     "output_type": "error",
     "traceback": [
      "\u001b[0;31m---------------------------------------------------------------------------\u001b[0m",
      "\u001b[0;31mMemoryError\u001b[0m                               Traceback (most recent call last)",
      "\u001b[0;32m<ipython-input-15-5d0eff944723>\u001b[0m in \u001b[0;36m<module>\u001b[0;34m\u001b[0m\n\u001b[1;32m      1\u001b[0m \u001b[0;32mfrom\u001b[0m \u001b[0msklearn\u001b[0m\u001b[0;34m.\u001b[0m\u001b[0mensemble\u001b[0m \u001b[0;32mimport\u001b[0m \u001b[0mRandomForestClassifier\u001b[0m\u001b[0;34m\u001b[0m\u001b[0;34m\u001b[0m\u001b[0m\n\u001b[1;32m      2\u001b[0m \u001b[0mclrf\u001b[0m\u001b[0;34m=\u001b[0m\u001b[0mRandomForestClassifier\u001b[0m\u001b[0;34m(\u001b[0m\u001b[0;34m)\u001b[0m\u001b[0;34m\u001b[0m\u001b[0;34m\u001b[0m\u001b[0m\n\u001b[0;32m----> 3\u001b[0;31m \u001b[0mevaluate\u001b[0m\u001b[0;34m(\u001b[0m\u001b[0mclrf\u001b[0m\u001b[0;34m,\u001b[0m\u001b[0mX_train\u001b[0m\u001b[0;34m,\u001b[0m \u001b[0mX_test\u001b[0m\u001b[0;34m,\u001b[0m \u001b[0my_train\u001b[0m\u001b[0;34m,\u001b[0m \u001b[0my_test\u001b[0m\u001b[0;34m)\u001b[0m\u001b[0;34m\u001b[0m\u001b[0;34m\u001b[0m\u001b[0m\n\u001b[0m",
      "\u001b[0;32m<ipython-input-5-913e9b77fc2f>\u001b[0m in \u001b[0;36mevaluate\u001b[0;34m(classifier, X_train, X_test, y_train, y_test)\u001b[0m\n\u001b[1;32m      1\u001b[0m \u001b[0;32mdef\u001b[0m \u001b[0mevaluate\u001b[0m\u001b[0;34m(\u001b[0m\u001b[0mclassifier\u001b[0m\u001b[0;34m,\u001b[0m\u001b[0mX_train\u001b[0m\u001b[0;34m,\u001b[0m \u001b[0mX_test\u001b[0m\u001b[0;34m,\u001b[0m \u001b[0my_train\u001b[0m\u001b[0;34m,\u001b[0m \u001b[0my_test\u001b[0m\u001b[0;34m)\u001b[0m\u001b[0;34m:\u001b[0m\u001b[0;34m\u001b[0m\u001b[0;34m\u001b[0m\u001b[0m\n\u001b[0;32m----> 2\u001b[0;31m     \u001b[0mclassifier\u001b[0m\u001b[0;34m.\u001b[0m\u001b[0mfit\u001b[0m\u001b[0;34m(\u001b[0m\u001b[0mX_train\u001b[0m\u001b[0;34m,\u001b[0m\u001b[0my_train\u001b[0m\u001b[0;34m)\u001b[0m\u001b[0;34m\u001b[0m\u001b[0;34m\u001b[0m\u001b[0m\n\u001b[0m\u001b[1;32m      3\u001b[0m     \u001b[0mpredictions\u001b[0m \u001b[0;34m=\u001b[0m \u001b[0mclassifier\u001b[0m\u001b[0;34m.\u001b[0m\u001b[0mpredict\u001b[0m\u001b[0;34m(\u001b[0m\u001b[0mX_test\u001b[0m\u001b[0;34m)\u001b[0m\u001b[0;34m\u001b[0m\u001b[0;34m\u001b[0m\u001b[0m\n\u001b[1;32m      4\u001b[0m     \u001b[0mprobabilities\u001b[0m \u001b[0;34m=\u001b[0m \u001b[0mclassifier\u001b[0m\u001b[0;34m.\u001b[0m\u001b[0mpredict_proba\u001b[0m\u001b[0;34m(\u001b[0m\u001b[0mX_test\u001b[0m\u001b[0;34m)\u001b[0m\u001b[0;34m\u001b[0m\u001b[0;34m\u001b[0m\u001b[0m\n\u001b[1;32m      5\u001b[0m     \u001b[0mprint\u001b[0m\u001b[0;34m(\u001b[0m\u001b[0;34m\"TRAINING SCORE: \"\u001b[0m \u001b[0;34m+\u001b[0m \u001b[0mstr\u001b[0m\u001b[0;34m(\u001b[0m\u001b[0mclassifier\u001b[0m\u001b[0;34m.\u001b[0m\u001b[0mscore\u001b[0m\u001b[0;34m(\u001b[0m\u001b[0mX_train\u001b[0m\u001b[0;34m,\u001b[0m\u001b[0my_train\u001b[0m\u001b[0;34m)\u001b[0m\u001b[0;34m)\u001b[0m\u001b[0;34m)\u001b[0m\u001b[0;34m\u001b[0m\u001b[0;34m\u001b[0m\u001b[0m\n",
      "\u001b[0;32m~/TFM/kschool_masterDS_TFM/env/lib/python3.9/site-packages/sklearn/ensemble/_forest.py\u001b[0m in \u001b[0;36mfit\u001b[0;34m(self, X, y, sample_weight)\u001b[0m\n\u001b[1;32m    301\u001b[0m                 \u001b[0;34m\"sparse multilabel-indicator for y is not supported.\"\u001b[0m\u001b[0;34m\u001b[0m\u001b[0;34m\u001b[0m\u001b[0m\n\u001b[1;32m    302\u001b[0m             )\n\u001b[0;32m--> 303\u001b[0;31m         X, y = self._validate_data(X, y, multi_output=True,\n\u001b[0m\u001b[1;32m    304\u001b[0m                                    accept_sparse=\"csc\", dtype=DTYPE)\n\u001b[1;32m    305\u001b[0m         \u001b[0;32mif\u001b[0m \u001b[0msample_weight\u001b[0m \u001b[0;32mis\u001b[0m \u001b[0;32mnot\u001b[0m \u001b[0;32mNone\u001b[0m\u001b[0;34m:\u001b[0m\u001b[0;34m\u001b[0m\u001b[0;34m\u001b[0m\u001b[0m\n",
      "\u001b[0;32m~/TFM/kschool_masterDS_TFM/env/lib/python3.9/site-packages/sklearn/base.py\u001b[0m in \u001b[0;36m_validate_data\u001b[0;34m(self, X, y, reset, validate_separately, **check_params)\u001b[0m\n\u001b[1;32m    430\u001b[0m                 \u001b[0my\u001b[0m \u001b[0;34m=\u001b[0m \u001b[0mcheck_array\u001b[0m\u001b[0;34m(\u001b[0m\u001b[0my\u001b[0m\u001b[0;34m,\u001b[0m \u001b[0;34m**\u001b[0m\u001b[0mcheck_y_params\u001b[0m\u001b[0;34m)\u001b[0m\u001b[0;34m\u001b[0m\u001b[0;34m\u001b[0m\u001b[0m\n\u001b[1;32m    431\u001b[0m             \u001b[0;32melse\u001b[0m\u001b[0;34m:\u001b[0m\u001b[0;34m\u001b[0m\u001b[0;34m\u001b[0m\u001b[0m\n\u001b[0;32m--> 432\u001b[0;31m                 \u001b[0mX\u001b[0m\u001b[0;34m,\u001b[0m \u001b[0my\u001b[0m \u001b[0;34m=\u001b[0m \u001b[0mcheck_X_y\u001b[0m\u001b[0;34m(\u001b[0m\u001b[0mX\u001b[0m\u001b[0;34m,\u001b[0m \u001b[0my\u001b[0m\u001b[0;34m,\u001b[0m \u001b[0;34m**\u001b[0m\u001b[0mcheck_params\u001b[0m\u001b[0;34m)\u001b[0m\u001b[0;34m\u001b[0m\u001b[0;34m\u001b[0m\u001b[0m\n\u001b[0m\u001b[1;32m    433\u001b[0m             \u001b[0mout\u001b[0m \u001b[0;34m=\u001b[0m \u001b[0mX\u001b[0m\u001b[0;34m,\u001b[0m \u001b[0my\u001b[0m\u001b[0;34m\u001b[0m\u001b[0;34m\u001b[0m\u001b[0m\n\u001b[1;32m    434\u001b[0m \u001b[0;34m\u001b[0m\u001b[0m\n",
      "\u001b[0;32m~/TFM/kschool_masterDS_TFM/env/lib/python3.9/site-packages/sklearn/utils/validation.py\u001b[0m in \u001b[0;36minner_f\u001b[0;34m(*args, **kwargs)\u001b[0m\n\u001b[1;32m     70\u001b[0m                           FutureWarning)\n\u001b[1;32m     71\u001b[0m         \u001b[0mkwargs\u001b[0m\u001b[0;34m.\u001b[0m\u001b[0mupdate\u001b[0m\u001b[0;34m(\u001b[0m\u001b[0;34m{\u001b[0m\u001b[0mk\u001b[0m\u001b[0;34m:\u001b[0m \u001b[0marg\u001b[0m \u001b[0;32mfor\u001b[0m \u001b[0mk\u001b[0m\u001b[0;34m,\u001b[0m \u001b[0marg\u001b[0m \u001b[0;32min\u001b[0m \u001b[0mzip\u001b[0m\u001b[0;34m(\u001b[0m\u001b[0msig\u001b[0m\u001b[0;34m.\u001b[0m\u001b[0mparameters\u001b[0m\u001b[0;34m,\u001b[0m \u001b[0margs\u001b[0m\u001b[0;34m)\u001b[0m\u001b[0;34m}\u001b[0m\u001b[0;34m)\u001b[0m\u001b[0;34m\u001b[0m\u001b[0;34m\u001b[0m\u001b[0m\n\u001b[0;32m---> 72\u001b[0;31m         \u001b[0;32mreturn\u001b[0m \u001b[0mf\u001b[0m\u001b[0;34m(\u001b[0m\u001b[0;34m**\u001b[0m\u001b[0mkwargs\u001b[0m\u001b[0;34m)\u001b[0m\u001b[0;34m\u001b[0m\u001b[0;34m\u001b[0m\u001b[0m\n\u001b[0m\u001b[1;32m     73\u001b[0m     \u001b[0;32mreturn\u001b[0m \u001b[0minner_f\u001b[0m\u001b[0;34m\u001b[0m\u001b[0;34m\u001b[0m\u001b[0m\n\u001b[1;32m     74\u001b[0m \u001b[0;34m\u001b[0m\u001b[0m\n",
      "\u001b[0;32m~/TFM/kschool_masterDS_TFM/env/lib/python3.9/site-packages/sklearn/utils/validation.py\u001b[0m in \u001b[0;36mcheck_X_y\u001b[0;34m(X, y, accept_sparse, accept_large_sparse, dtype, order, copy, force_all_finite, ensure_2d, allow_nd, multi_output, ensure_min_samples, ensure_min_features, y_numeric, estimator)\u001b[0m\n\u001b[1;32m    793\u001b[0m         \u001b[0;32mraise\u001b[0m \u001b[0mValueError\u001b[0m\u001b[0;34m(\u001b[0m\u001b[0;34m\"y cannot be None\"\u001b[0m\u001b[0;34m)\u001b[0m\u001b[0;34m\u001b[0m\u001b[0;34m\u001b[0m\u001b[0m\n\u001b[1;32m    794\u001b[0m \u001b[0;34m\u001b[0m\u001b[0m\n\u001b[0;32m--> 795\u001b[0;31m     X = check_array(X, accept_sparse=accept_sparse,\n\u001b[0m\u001b[1;32m    796\u001b[0m                     \u001b[0maccept_large_sparse\u001b[0m\u001b[0;34m=\u001b[0m\u001b[0maccept_large_sparse\u001b[0m\u001b[0;34m,\u001b[0m\u001b[0;34m\u001b[0m\u001b[0;34m\u001b[0m\u001b[0m\n\u001b[1;32m    797\u001b[0m                     \u001b[0mdtype\u001b[0m\u001b[0;34m=\u001b[0m\u001b[0mdtype\u001b[0m\u001b[0;34m,\u001b[0m \u001b[0morder\u001b[0m\u001b[0;34m=\u001b[0m\u001b[0morder\u001b[0m\u001b[0;34m,\u001b[0m \u001b[0mcopy\u001b[0m\u001b[0;34m=\u001b[0m\u001b[0mcopy\u001b[0m\u001b[0;34m,\u001b[0m\u001b[0;34m\u001b[0m\u001b[0;34m\u001b[0m\u001b[0m\n",
      "\u001b[0;32m~/TFM/kschool_masterDS_TFM/env/lib/python3.9/site-packages/sklearn/utils/validation.py\u001b[0m in \u001b[0;36minner_f\u001b[0;34m(*args, **kwargs)\u001b[0m\n\u001b[1;32m     70\u001b[0m                           FutureWarning)\n\u001b[1;32m     71\u001b[0m         \u001b[0mkwargs\u001b[0m\u001b[0;34m.\u001b[0m\u001b[0mupdate\u001b[0m\u001b[0;34m(\u001b[0m\u001b[0;34m{\u001b[0m\u001b[0mk\u001b[0m\u001b[0;34m:\u001b[0m \u001b[0marg\u001b[0m \u001b[0;32mfor\u001b[0m \u001b[0mk\u001b[0m\u001b[0;34m,\u001b[0m \u001b[0marg\u001b[0m \u001b[0;32min\u001b[0m \u001b[0mzip\u001b[0m\u001b[0;34m(\u001b[0m\u001b[0msig\u001b[0m\u001b[0;34m.\u001b[0m\u001b[0mparameters\u001b[0m\u001b[0;34m,\u001b[0m \u001b[0margs\u001b[0m\u001b[0;34m)\u001b[0m\u001b[0;34m}\u001b[0m\u001b[0;34m)\u001b[0m\u001b[0;34m\u001b[0m\u001b[0;34m\u001b[0m\u001b[0m\n\u001b[0;32m---> 72\u001b[0;31m         \u001b[0;32mreturn\u001b[0m \u001b[0mf\u001b[0m\u001b[0;34m(\u001b[0m\u001b[0;34m**\u001b[0m\u001b[0mkwargs\u001b[0m\u001b[0;34m)\u001b[0m\u001b[0;34m\u001b[0m\u001b[0;34m\u001b[0m\u001b[0m\n\u001b[0m\u001b[1;32m     73\u001b[0m     \u001b[0;32mreturn\u001b[0m \u001b[0minner_f\u001b[0m\u001b[0;34m\u001b[0m\u001b[0;34m\u001b[0m\u001b[0m\n\u001b[1;32m     74\u001b[0m \u001b[0;34m\u001b[0m\u001b[0m\n",
      "\u001b[0;32m~/TFM/kschool_masterDS_TFM/env/lib/python3.9/site-packages/sklearn/utils/validation.py\u001b[0m in \u001b[0;36mcheck_array\u001b[0;34m(array, accept_sparse, accept_large_sparse, dtype, order, copy, force_all_finite, ensure_2d, allow_nd, ensure_min_samples, ensure_min_features, estimator)\u001b[0m\n\u001b[1;32m    596\u001b[0m                     \u001b[0marray\u001b[0m \u001b[0;34m=\u001b[0m \u001b[0marray\u001b[0m\u001b[0;34m.\u001b[0m\u001b[0mastype\u001b[0m\u001b[0;34m(\u001b[0m\u001b[0mdtype\u001b[0m\u001b[0;34m,\u001b[0m \u001b[0mcasting\u001b[0m\u001b[0;34m=\u001b[0m\u001b[0;34m\"unsafe\"\u001b[0m\u001b[0;34m,\u001b[0m \u001b[0mcopy\u001b[0m\u001b[0;34m=\u001b[0m\u001b[0;32mFalse\u001b[0m\u001b[0;34m)\u001b[0m\u001b[0;34m\u001b[0m\u001b[0;34m\u001b[0m\u001b[0m\n\u001b[1;32m    597\u001b[0m                 \u001b[0;32melse\u001b[0m\u001b[0;34m:\u001b[0m\u001b[0;34m\u001b[0m\u001b[0;34m\u001b[0m\u001b[0m\n\u001b[0;32m--> 598\u001b[0;31m                     \u001b[0marray\u001b[0m \u001b[0;34m=\u001b[0m \u001b[0mnp\u001b[0m\u001b[0;34m.\u001b[0m\u001b[0masarray\u001b[0m\u001b[0;34m(\u001b[0m\u001b[0marray\u001b[0m\u001b[0;34m,\u001b[0m \u001b[0morder\u001b[0m\u001b[0;34m=\u001b[0m\u001b[0morder\u001b[0m\u001b[0;34m,\u001b[0m \u001b[0mdtype\u001b[0m\u001b[0;34m=\u001b[0m\u001b[0mdtype\u001b[0m\u001b[0;34m)\u001b[0m\u001b[0;34m\u001b[0m\u001b[0;34m\u001b[0m\u001b[0m\n\u001b[0m\u001b[1;32m    599\u001b[0m             \u001b[0;32mexcept\u001b[0m \u001b[0mComplexWarning\u001b[0m\u001b[0;34m:\u001b[0m\u001b[0;34m\u001b[0m\u001b[0;34m\u001b[0m\u001b[0m\n\u001b[1;32m    600\u001b[0m                 raise ValueError(\"Complex data not supported\\n\"\n",
      "\u001b[0;32m~/TFM/kschool_masterDS_TFM/env/lib/python3.9/site-packages/numpy/core/_asarray.py\u001b[0m in \u001b[0;36masarray\u001b[0;34m(a, dtype, order)\u001b[0m\n\u001b[1;32m     81\u001b[0m \u001b[0;34m\u001b[0m\u001b[0m\n\u001b[1;32m     82\u001b[0m     \"\"\"\n\u001b[0;32m---> 83\u001b[0;31m     \u001b[0;32mreturn\u001b[0m \u001b[0marray\u001b[0m\u001b[0;34m(\u001b[0m\u001b[0ma\u001b[0m\u001b[0;34m,\u001b[0m \u001b[0mdtype\u001b[0m\u001b[0;34m,\u001b[0m \u001b[0mcopy\u001b[0m\u001b[0;34m=\u001b[0m\u001b[0;32mFalse\u001b[0m\u001b[0;34m,\u001b[0m \u001b[0morder\u001b[0m\u001b[0;34m=\u001b[0m\u001b[0morder\u001b[0m\u001b[0;34m)\u001b[0m\u001b[0;34m\u001b[0m\u001b[0;34m\u001b[0m\u001b[0m\n\u001b[0m\u001b[1;32m     84\u001b[0m \u001b[0;34m\u001b[0m\u001b[0m\n\u001b[1;32m     85\u001b[0m \u001b[0;34m\u001b[0m\u001b[0m\n",
      "\u001b[0;32m~/TFM/kschool_masterDS_TFM/env/lib/python3.9/site-packages/pandas/core/generic.py\u001b[0m in \u001b[0;36m__array__\u001b[0;34m(self, dtype)\u001b[0m\n\u001b[1;32m   1894\u001b[0m \u001b[0;34m\u001b[0m\u001b[0m\n\u001b[1;32m   1895\u001b[0m     \u001b[0;32mdef\u001b[0m \u001b[0m__array__\u001b[0m\u001b[0;34m(\u001b[0m\u001b[0mself\u001b[0m\u001b[0;34m,\u001b[0m \u001b[0mdtype\u001b[0m\u001b[0;34m=\u001b[0m\u001b[0;32mNone\u001b[0m\u001b[0;34m)\u001b[0m \u001b[0;34m->\u001b[0m \u001b[0mnp\u001b[0m\u001b[0;34m.\u001b[0m\u001b[0mndarray\u001b[0m\u001b[0;34m:\u001b[0m\u001b[0;34m\u001b[0m\u001b[0;34m\u001b[0m\u001b[0m\n\u001b[0;32m-> 1896\u001b[0;31m         \u001b[0;32mreturn\u001b[0m \u001b[0mnp\u001b[0m\u001b[0;34m.\u001b[0m\u001b[0masarray\u001b[0m\u001b[0;34m(\u001b[0m\u001b[0mself\u001b[0m\u001b[0;34m.\u001b[0m\u001b[0m_values\u001b[0m\u001b[0;34m,\u001b[0m \u001b[0mdtype\u001b[0m\u001b[0;34m=\u001b[0m\u001b[0mdtype\u001b[0m\u001b[0;34m)\u001b[0m\u001b[0;34m\u001b[0m\u001b[0;34m\u001b[0m\u001b[0m\n\u001b[0m\u001b[1;32m   1897\u001b[0m \u001b[0;34m\u001b[0m\u001b[0m\n\u001b[1;32m   1898\u001b[0m     def __array_wrap__(\n",
      "\u001b[0;32m~/TFM/kschool_masterDS_TFM/env/lib/python3.9/site-packages/numpy/core/_asarray.py\u001b[0m in \u001b[0;36masarray\u001b[0;34m(a, dtype, order)\u001b[0m\n\u001b[1;32m     81\u001b[0m \u001b[0;34m\u001b[0m\u001b[0m\n\u001b[1;32m     82\u001b[0m     \"\"\"\n\u001b[0;32m---> 83\u001b[0;31m     \u001b[0;32mreturn\u001b[0m \u001b[0marray\u001b[0m\u001b[0;34m(\u001b[0m\u001b[0ma\u001b[0m\u001b[0;34m,\u001b[0m \u001b[0mdtype\u001b[0m\u001b[0;34m,\u001b[0m \u001b[0mcopy\u001b[0m\u001b[0;34m=\u001b[0m\u001b[0;32mFalse\u001b[0m\u001b[0;34m,\u001b[0m \u001b[0morder\u001b[0m\u001b[0;34m=\u001b[0m\u001b[0morder\u001b[0m\u001b[0;34m)\u001b[0m\u001b[0;34m\u001b[0m\u001b[0;34m\u001b[0m\u001b[0m\n\u001b[0m\u001b[1;32m     84\u001b[0m \u001b[0;34m\u001b[0m\u001b[0m\n\u001b[1;32m     85\u001b[0m \u001b[0;34m\u001b[0m\u001b[0m\n",
      "\u001b[0;31mMemoryError\u001b[0m: Unable to allocate 327. MiB for an array with shape (2952705, 29) and data type float32"
     ]
    }
   ],
   "source": [
    "from sklearn.ensemble import RandomForestClassifier\n",
    "clrf=RandomForestClassifier()\n",
    "evaluate(clrf,X_train, X_test, y_train, y_test)"
   ]
  },
  {
   "cell_type": "code",
   "execution_count": null,
   "id": "bronze-share",
   "metadata": {},
   "outputs": [],
   "source": [
    "print(classification_report(y_test,clrf.predict(X_test)))\n",
    "clrf_cm = confusion_matrix(y_test,clrf.predict(X_test))\n",
    "clrf_cm"
   ]
  }
 ],
 "metadata": {
  "kernelspec": {
   "display_name": "Python 3",
   "language": "python",
   "name": "python3"
  },
  "language_info": {
   "codemirror_mode": {
    "name": "ipython",
    "version": 3
   },
   "file_extension": ".py",
   "mimetype": "text/x-python",
   "name": "python",
   "nbconvert_exporter": "python",
   "pygments_lexer": "ipython3",
   "version": "3.9.1"
  },
  "toc": {
   "base_numbering": 1,
   "nav_menu": {},
   "number_sections": true,
   "sideBar": true,
   "skip_h1_title": false,
   "title_cell": "Table of Contents",
   "title_sidebar": "Contents",
   "toc_cell": true,
   "toc_position": {
    "height": "calc(100% - 180px)",
    "left": "10px",
    "top": "150px",
    "width": "352px"
   },
   "toc_section_display": true,
   "toc_window_display": true
  }
 },
 "nbformat": 4,
 "nbformat_minor": 5
}
