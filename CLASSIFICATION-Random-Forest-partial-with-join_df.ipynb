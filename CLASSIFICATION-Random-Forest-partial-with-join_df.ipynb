{
 "cells": [
  {
   "cell_type": "markdown",
   "id": "chinese-miller",
   "metadata": {
    "toc": true
   },
   "source": [
    "<h1>Table of Contents<span class=\"tocSkip\"></span></h1>\n",
    "<div class=\"toc\"><ul class=\"toc-item\"><li><span><a href=\"#DATA\" data-toc-modified-id=\"DATA-1\"><span class=\"toc-item-num\">1&nbsp;&nbsp;</span>DATA</a></span><ul class=\"toc-item\"><li><span><a href=\"#Dataset\" data-toc-modified-id=\"Dataset-1.1\"><span class=\"toc-item-num\">1.1&nbsp;&nbsp;</span>Dataset</a></span></li><li><span><a href=\"#Target\" data-toc-modified-id=\"Target-1.2\"><span class=\"toc-item-num\">1.2&nbsp;&nbsp;</span>Target</a></span></li></ul></li><li><span><a href=\"#Functions\" data-toc-modified-id=\"Functions-2\"><span class=\"toc-item-num\">2&nbsp;&nbsp;</span>Functions</a></span><ul class=\"toc-item\"><li><span><a href=\"#Model-evaluation\" data-toc-modified-id=\"Model-evaluation-2.1\"><span class=\"toc-item-num\">2.1&nbsp;&nbsp;</span>Model evaluation</a></span></li><li><span><a href=\"#Visualize-Random-Forests\" data-toc-modified-id=\"Visualize-Random-Forests-2.2\"><span class=\"toc-item-num\">2.2&nbsp;&nbsp;</span>Visualize Random Forests</a></span></li></ul></li><li><span><a href=\"#Random-Forest\" data-toc-modified-id=\"Random-Forest-3\"><span class=\"toc-item-num\">3&nbsp;&nbsp;</span>Random Forest</a></span><ul class=\"toc-item\"><li><span><a href=\"#Baseline-with-Numerical-Data\" data-toc-modified-id=\"Baseline-with-Numerical-Data-3.1\"><span class=\"toc-item-num\">3.1&nbsp;&nbsp;</span>Baseline with Numerical Data</a></span><ul class=\"toc-item\"><li><span><a href=\"#pageDepth-+-sessionCount-+-daysSinceLastLession\" data-toc-modified-id=\"pageDepth-+-sessionCount-+-daysSinceLastLession-3.1.1\"><span class=\"toc-item-num\">3.1.1&nbsp;&nbsp;</span>pageDepth + sessionCount + daysSinceLastLession</a></span></li><li><span><a href=\"#pageDepth-+-sessionCount\" data-toc-modified-id=\"pageDepth-+-sessionCount-3.1.2\"><span class=\"toc-item-num\">3.1.2&nbsp;&nbsp;</span>pageDepth + sessionCount</a></span></li></ul></li><li><span><a href=\"#Baseline-+-productSKU_cete\" data-toc-modified-id=\"Baseline-+-productSKU_cete-3.2\"><span class=\"toc-item-num\">3.2&nbsp;&nbsp;</span>Baseline + productSKU_cete</a></span><ul class=\"toc-item\"><li><span><a href=\"#Feature-Engineering\" data-toc-modified-id=\"Feature-Engineering-3.2.1\"><span class=\"toc-item-num\">3.2.1&nbsp;&nbsp;</span>Feature Engineering</a></span></li><li><span><a href=\"#Classifier\" data-toc-modified-id=\"Classifier-3.2.2\"><span class=\"toc-item-num\">3.2.2&nbsp;&nbsp;</span>Classifier</a></span></li></ul></li><li><span><a href=\"#Baseline-+-productSKU_cete-+-'dateHourMinute'\" data-toc-modified-id=\"Baseline-+-productSKU_cete-+-'dateHourMinute'-3.3\"><span class=\"toc-item-num\">3.3&nbsp;&nbsp;</span>Baseline + productSKU_cete + 'dateHourMinute'</a></span><ul class=\"toc-item\"><li><span><a href=\"#Feature-Engineering\" data-toc-modified-id=\"Feature-Engineering-3.3.1\"><span class=\"toc-item-num\">3.3.1&nbsp;&nbsp;</span>Feature Engineering</a></span></li><li><span><a href=\"#Month\" data-toc-modified-id=\"Month-3.3.2\"><span class=\"toc-item-num\">3.3.2&nbsp;&nbsp;</span>Month</a></span><ul class=\"toc-item\"><li><span><a href=\"#Data\" data-toc-modified-id=\"Data-3.3.2.1\"><span class=\"toc-item-num\">3.3.2.1&nbsp;&nbsp;</span>Data</a></span></li><li><span><a href=\"#Classifier\" data-toc-modified-id=\"Classifier-3.3.2.2\"><span class=\"toc-item-num\">3.3.2.2&nbsp;&nbsp;</span>Classifier</a></span></li></ul></li><li><span><a href=\"#Day-of-week\" data-toc-modified-id=\"Day-of-week-3.3.3\"><span class=\"toc-item-num\">3.3.3&nbsp;&nbsp;</span>Day of week</a></span><ul class=\"toc-item\"><li><span><a href=\"#Data\" data-toc-modified-id=\"Data-3.3.3.1\"><span class=\"toc-item-num\">3.3.3.1&nbsp;&nbsp;</span>Data</a></span></li><li><span><a href=\"#Classifier\" data-toc-modified-id=\"Classifier-3.3.3.2\"><span class=\"toc-item-num\">3.3.3.2&nbsp;&nbsp;</span>Classifier</a></span></li></ul></li><li><span><a href=\"#Hour\" data-toc-modified-id=\"Hour-3.3.4\"><span class=\"toc-item-num\">3.3.4&nbsp;&nbsp;</span>Hour</a></span><ul class=\"toc-item\"><li><span><a href=\"#Data\" data-toc-modified-id=\"Data-3.3.4.1\"><span class=\"toc-item-num\">3.3.4.1&nbsp;&nbsp;</span>Data</a></span></li><li><span><a href=\"#Classifier\" data-toc-modified-id=\"Classifier-3.3.4.2\"><span class=\"toc-item-num\">3.3.4.2&nbsp;&nbsp;</span>Classifier</a></span></li></ul></li></ul></li></ul></li></ul></div>"
   ]
  },
  {
   "cell_type": "code",
   "execution_count": 31,
   "id": "reverse-albania",
   "metadata": {},
   "outputs": [],
   "source": [
    "import pandas as pd\n",
    "import numpy as np\n",
    "import matplotlib.pyplot as plt\n",
    "import seaborn as sns\n",
    "%matplotlib inline\n",
    "from sklearn.model_selection import train_test_split\n",
    "from sklearn.linear_model import LogisticRegression\n",
    "from sklearn.metrics import f1_score, recall_score, precision_score, roc_auc_score, roc_curve, accuracy_score\n",
    "from sklearn.metrics import confusion_matrix\n",
    "from sklearn.metrics import classification_report\n",
    "from sklearn.model_selection import cross_val_score\n",
    "from scipy import stats\n",
    "import statsmodels.api as sm\n",
    "import os\n",
    "from IPython.display import Image\n",
    "import pydotplus\n",
    "from sklearn import tree"
   ]
  },
  {
   "cell_type": "markdown",
   "id": "differential-constant",
   "metadata": {},
   "source": [
    "## DATA"
   ]
  },
  {
   "cell_type": "markdown",
   "id": "approximate-killer",
   "metadata": {},
   "source": [
    "### Dataset"
   ]
  },
  {
   "cell_type": "code",
   "execution_count": 2,
   "id": "stuck-worry",
   "metadata": {},
   "outputs": [
    {
     "name": "stderr",
     "output_type": "stream",
     "text": [
      "/home/dsc/TFM/kschool_masterDS_TFM/env/lib/python3.9/site-packages/IPython/core/interactiveshell.py:3165: DtypeWarning: Columns (1) have mixed types.Specify dtype option on import or set low_memory=False.\n",
      "  has_raised = await self.run_ast_nodes(code_ast.body, cell_name,\n"
     ]
    },
    {
     "name": "stdout",
     "output_type": "stream",
     "text": [
      "(3936941, 15)\n"
     ]
    },
    {
     "data": {
      "text/html": [
       "<div>\n",
       "<style scoped>\n",
       "    .dataframe tbody tr th:only-of-type {\n",
       "        vertical-align: middle;\n",
       "    }\n",
       "\n",
       "    .dataframe tbody tr th {\n",
       "        vertical-align: top;\n",
       "    }\n",
       "\n",
       "    .dataframe thead th {\n",
       "        text-align: right;\n",
       "    }\n",
       "</style>\n",
       "<table border=\"1\" class=\"dataframe\">\n",
       "  <thead>\n",
       "    <tr style=\"text-align: right;\">\n",
       "      <th></th>\n",
       "      <th>Unnamed: 0</th>\n",
       "      <th>ga:productSKU</th>\n",
       "      <th>ga:dateHourMinute</th>\n",
       "      <th>ga:pagePath</th>\n",
       "      <th>ga:pageDepth</th>\n",
       "      <th>ga:sessionCount</th>\n",
       "      <th>ga:daysSinceLastSession</th>\n",
       "      <th>ga:sourceMedium</th>\n",
       "      <th>ga:city</th>\n",
       "      <th>ga:deviceCategory</th>\n",
       "      <th>ga:operatingSystem</th>\n",
       "      <th>ga:productListViews</th>\n",
       "      <th>ga:productListClicks</th>\n",
       "      <th>ga:productDetailViews</th>\n",
       "      <th>ga:productAddsToCart</th>\n",
       "    </tr>\n",
       "  </thead>\n",
       "  <tbody>\n",
       "    <tr>\n",
       "      <th>0</th>\n",
       "      <td>0</td>\n",
       "      <td>1008</td>\n",
       "      <td>201904301452</td>\n",
       "      <td>/parafarmacia/es/</td>\n",
       "      <td>1</td>\n",
       "      <td>1</td>\n",
       "      <td>0</td>\n",
       "      <td>(direct) / (none)</td>\n",
       "      <td>Burgos</td>\n",
       "      <td>mobile</td>\n",
       "      <td>iOS</td>\n",
       "      <td>1</td>\n",
       "      <td>0</td>\n",
       "      <td>0</td>\n",
       "      <td>0</td>\n",
       "    </tr>\n",
       "    <tr>\n",
       "      <th>1</th>\n",
       "      <td>1</td>\n",
       "      <td>1008</td>\n",
       "      <td>201904301524</td>\n",
       "      <td>/parafarmacia/es/</td>\n",
       "      <td>3</td>\n",
       "      <td>1</td>\n",
       "      <td>0</td>\n",
       "      <td>(direct) / (none)</td>\n",
       "      <td>Madrid</td>\n",
       "      <td>desktop</td>\n",
       "      <td>Windows</td>\n",
       "      <td>1</td>\n",
       "      <td>0</td>\n",
       "      <td>0</td>\n",
       "      <td>0</td>\n",
       "    </tr>\n",
       "    <tr>\n",
       "      <th>2</th>\n",
       "      <td>2</td>\n",
       "      <td>1008</td>\n",
       "      <td>201904301545</td>\n",
       "      <td>/parafarmacia/es/</td>\n",
       "      <td>7</td>\n",
       "      <td>33</td>\n",
       "      <td>0</td>\n",
       "      <td>merchants.google.com / referral</td>\n",
       "      <td>Zamudio</td>\n",
       "      <td>desktop</td>\n",
       "      <td>Windows</td>\n",
       "      <td>1</td>\n",
       "      <td>0</td>\n",
       "      <td>0</td>\n",
       "      <td>0</td>\n",
       "    </tr>\n",
       "  </tbody>\n",
       "</table>\n",
       "</div>"
      ],
      "text/plain": [
       "   Unnamed: 0 ga:productSKU  ga:dateHourMinute        ga:pagePath  \\\n",
       "0           0          1008       201904301452  /parafarmacia/es/   \n",
       "1           1          1008       201904301524  /parafarmacia/es/   \n",
       "2           2          1008       201904301545  /parafarmacia/es/   \n",
       "\n",
       "   ga:pageDepth  ga:sessionCount  ga:daysSinceLastSession  \\\n",
       "0             1                1                        0   \n",
       "1             3                1                        0   \n",
       "2             7               33                        0   \n",
       "\n",
       "                   ga:sourceMedium  ga:city ga:deviceCategory  \\\n",
       "0                (direct) / (none)   Burgos            mobile   \n",
       "1                (direct) / (none)   Madrid           desktop   \n",
       "2  merchants.google.com / referral  Zamudio           desktop   \n",
       "\n",
       "  ga:operatingSystem  ga:productListViews  ga:productListClicks  \\\n",
       "0                iOS                    1                     0   \n",
       "1            Windows                    1                     0   \n",
       "2            Windows                    1                     0   \n",
       "\n",
       "   ga:productDetailViews  ga:productAddsToCart  \n",
       "0                      0                     0  \n",
       "1                      0                     0  \n",
       "2                      0                     0  "
      ]
     },
     "execution_count": 2,
     "metadata": {},
     "output_type": "execute_result"
    }
   ],
   "source": [
    "data_root=\"../data/\"\n",
    "datafile=os.path.join(data_root,'dfjoin_Scount_daysSLS_srceMed_city_device_OS_2019_2020_jan21.csv')\n",
    "df=pd.read_csv(datafile)\n",
    "print(df.shape)\n",
    "df.head(3)"
   ]
  },
  {
   "cell_type": "code",
   "execution_count": 3,
   "id": "foreign-theology",
   "metadata": {},
   "outputs": [
    {
     "name": "stdout",
     "output_type": "stream",
     "text": [
      "(3936941, 14)\n",
      "\n",
      "<class 'pandas.core.frame.DataFrame'>\n",
      "RangeIndex: 3936941 entries, 0 to 3936940\n",
      "Data columns (total 14 columns):\n",
      " #   Column                   Dtype \n",
      "---  ------                   ----- \n",
      " 0   ga:productSKU            object\n",
      " 1   ga:dateHourMinute        int64 \n",
      " 2   ga:pagePath              object\n",
      " 3   ga:pageDepth             int64 \n",
      " 4   ga:sessionCount          int64 \n",
      " 5   ga:daysSinceLastSession  int64 \n",
      " 6   ga:sourceMedium          object\n",
      " 7   ga:city                  object\n",
      " 8   ga:deviceCategory        object\n",
      " 9   ga:operatingSystem       object\n",
      " 10  ga:productListViews      int64 \n",
      " 11  ga:productListClicks     int64 \n",
      " 12  ga:productDetailViews    int64 \n",
      " 13  ga:productAddsToCart     int64 \n",
      "dtypes: int64(8), object(6)\n",
      "memory usage: 420.5+ MB\n"
     ]
    }
   ],
   "source": [
    "df.drop('Unnamed: 0', axis=1, inplace=True)\n",
    "print(df.shape)\n",
    "print(\"\")\n",
    "df.info()"
   ]
  },
  {
   "cell_type": "markdown",
   "id": "following-highlight",
   "metadata": {},
   "source": [
    "### Target"
   ]
  },
  {
   "cell_type": "code",
   "execution_count": 4,
   "id": "polished-monkey",
   "metadata": {},
   "outputs": [
    {
     "name": "stdout",
     "output_type": "stream",
     "text": [
      "No. observations per class\n",
      "0    3864256\n",
      "1      72685\n",
      "Name: ga:productAddsToCart_transf, dtype: int64\n",
      "\n",
      "% observations per class\n",
      "0    98.15377\n",
      "1     1.84623\n",
      "Name: ga:productAddsToCart_transf, dtype: float64\n"
     ]
    }
   ],
   "source": [
    "df['ga:productAddsToCart_transf']=df[\"ga:productAddsToCart\"].apply(lambda x: 1 if x>1 else x)\n",
    "\n",
    "print(\"No. observations per class\")\n",
    "print(df['ga:productAddsToCart_transf'].value_counts())\n",
    "print(\"\")\n",
    "\n",
    "print(\"% observations per class\")\n",
    "print(100*df['ga:productAddsToCart_transf'].value_counts(normalize=True))"
   ]
  },
  {
   "cell_type": "markdown",
   "id": "single-grove",
   "metadata": {},
   "source": [
    "## Functions"
   ]
  },
  {
   "cell_type": "markdown",
   "id": "removed-nigeria",
   "metadata": {},
   "source": [
    "### Model evaluation"
   ]
  },
  {
   "cell_type": "code",
   "execution_count": 5,
   "id": "global-compromise",
   "metadata": {},
   "outputs": [],
   "source": [
    "def evaluate(classifier,X_train, X_test, y_train, y_test):\n",
    "    classifier.fit(X_train,y_train)\n",
    "    predictions = classifier.predict(X_test)\n",
    "    probabilities = classifier.predict_proba(X_test)\n",
    "    print(\"TRAINING SCORE: \" + str(classifier.score(X_train,y_train)))\n",
    "    print(\"ACCURACY: \" + str(accuracy_score(y_test, predictions)))\n",
    "    print(\"PRECISION: \" + str(precision_score(y_test, predictions)))\n",
    "    print(\"RECALL: \" + str(recall_score(y_test, predictions)))\n",
    "    print(\"F1 SCORE: \" + str(f1_score(y_test, predictions)))\n",
    "    print(\"AUC: \" + str(roc_auc_score(y_test,probabilities[:, 1])))\n",
    "\n",
    "    tpr, fpr, thresolds = roc_curve(y_test, probabilities[:, 1])\n",
    "    plt.plot(tpr, fpr)\n",
    "    plt.xlabel('fpr')\n",
    "    plt.ylabel('tpr')"
   ]
  },
  {
   "cell_type": "markdown",
   "id": "suffering-manufacturer",
   "metadata": {},
   "source": [
    "### Visualize Random Forests"
   ]
  },
  {
   "cell_type": "markdown",
   "id": "single-momentum",
   "metadata": {},
   "source": [
    "https://programmerbackpack.com/introduction-to-random-forests-classifier-and-step-by-step-sklearn-implementation/"
   ]
  },
  {
   "cell_type": "code",
   "execution_count": 32,
   "id": "incredible-liechtenstein",
   "metadata": {},
   "outputs": [],
   "source": [
    "# ver con funcion SEBAS\n",
    "## REVISAR Y VER XQ NO FUNCIONA O BUSCA OTRA FUNCION\n",
    "\n",
    "def printTree(feature_names,classifier, index):\n",
    "    \n",
    "    target_names = ['Yes', 'No']\n",
    "    \n",
    "    # Build the daya\n",
    "    dot_data = tree.export_graphviz(classifier, out_file=None,\n",
    "                                    feature_names=feature_names,\n",
    "                                    class_names=target_names)\n",
    "    # Build the graph\n",
    "    graph = pydotplus.graph_from_dot_data(dot_data)\n",
    "\n",
    "    # Write the image\n",
    "    Image(graph.create_png())\n",
    "    graph.write_png(\"tree\" + str(index) + \".png\")\n",
    "    \n",
    "for index in range(len(classifier.estimators_)):\n",
    "    printTree(list(X_train.columns),classifier.estimators_[index],index)"
   ]
  },
  {
   "cell_type": "markdown",
   "id": "undefined-display",
   "metadata": {},
   "source": [
    "## Random Forest"
   ]
  },
  {
   "cell_type": "markdown",
   "id": "knowing-pittsburgh",
   "metadata": {},
   "source": [
    "### Baseline with Numerical Data"
   ]
  },
  {
   "cell_type": "code",
   "execution_count": 6,
   "id": "animated-modification",
   "metadata": {},
   "outputs": [
    {
     "name": "stdout",
     "output_type": "stream",
     "text": [
      "<class 'pandas.core.frame.DataFrame'>\n",
      "RangeIndex: 3936941 entries, 0 to 3936940\n",
      "Data columns (total 15 columns):\n",
      " #   Column                       Dtype \n",
      "---  ------                       ----- \n",
      " 0   ga:productSKU                object\n",
      " 1   ga:dateHourMinute            int64 \n",
      " 2   ga:pagePath                  object\n",
      " 3   ga:pageDepth                 int64 \n",
      " 4   ga:sessionCount              int64 \n",
      " 5   ga:daysSinceLastSession      int64 \n",
      " 6   ga:sourceMedium              object\n",
      " 7   ga:city                      object\n",
      " 8   ga:deviceCategory            object\n",
      " 9   ga:operatingSystem           object\n",
      " 10  ga:productListViews          int64 \n",
      " 11  ga:productListClicks         int64 \n",
      " 12  ga:productDetailViews        int64 \n",
      " 13  ga:productAddsToCart         int64 \n",
      " 14  ga:productAddsToCart_transf  int64 \n",
      "dtypes: int64(9), object(6)\n",
      "memory usage: 450.5+ MB\n"
     ]
    }
   ],
   "source": [
    "df.info()"
   ]
  },
  {
   "cell_type": "markdown",
   "id": "fixed-circle",
   "metadata": {},
   "source": [
    "#### pageDepth + sessionCount + daysSinceLastLession"
   ]
  },
  {
   "cell_type": "code",
   "execution_count": 7,
   "id": "scientific-architect",
   "metadata": {},
   "outputs": [],
   "source": [
    "y=df['ga:productAddsToCart_transf']\n",
    "X=df[['ga:pageDepth','ga:sessionCount','ga:daysSinceLastSession']]\n",
    "X_train, X_test, y_train, y_test = train_test_split(X, y,random_state=42)"
   ]
  },
  {
   "cell_type": "code",
   "execution_count": 8,
   "id": "disciplinary-hospital",
   "metadata": {},
   "outputs": [
    {
     "name": "stdout",
     "output_type": "stream",
     "text": [
      "TRAINING SCORE: 0.9817198128495735\n",
      "ACCURACY: 0.9813632096367132\n",
      "PRECISION: 0.34545454545454546\n",
      "RECALL: 0.007298068481123793\n",
      "F1 SCORE: 0.014294158740394435\n",
      "AUC: 0.6715584646541726\n"
     ]
    },
    {
     "data": {
      "image/png": "[encoded data removed]",
      "text/plain": [
       "<Figure size 432x288 with 1 Axes>"
      ]
     },
     "metadata": {
      "needs_background": "light"
     },
     "output_type": "display_data"
    }
   ],
   "source": [
    "from sklearn.ensemble import RandomForestClassifier\n",
    "clrf=RandomForestClassifier()\n",
    "evaluate(clrf,X_train, X_test, y_train, y_test)"
   ]
  },
  {
   "cell_type": "code",
   "execution_count": 9,
   "id": "numeric-apartment",
   "metadata": {},
   "outputs": [
    {
     "name": "stdout",
     "output_type": "stream",
     "text": [
      "              precision    recall  f1-score   support\n",
      "\n",
      "           0       0.98      1.00      0.99    966012\n",
      "           1       0.35      0.01      0.01     18224\n",
      "\n",
      "    accuracy                           0.98    984236\n",
      "   macro avg       0.66      0.50      0.50    984236\n",
      "weighted avg       0.97      0.98      0.97    984236\n",
      "\n"
     ]
    },
    {
     "data": {
      "text/plain": [
       "array([[965760,    252],\n",
       "       [ 18091,    133]])"
      ]
     },
     "execution_count": 9,
     "metadata": {},
     "output_type": "execute_result"
    }
   ],
   "source": [
    "print(classification_report(y_test,clrf.predict(X_test)))\n",
    "clrf_cm = confusion_matrix(y_test,clrf.predict(X_test))\n",
    "clrf_cm"
   ]
  },
  {
   "cell_type": "markdown",
   "id": "administrative-figure",
   "metadata": {},
   "source": [
    "#### pageDepth + sessionCount"
   ]
  },
  {
   "cell_type": "code",
   "execution_count": 10,
   "id": "norwegian-integrity",
   "metadata": {},
   "outputs": [],
   "source": [
    "y=df['ga:productAddsToCart_transf']\n",
    "X=df[['ga:pageDepth','ga:sessionCount']]\n",
    "X_train, X_test, y_train, y_test = train_test_split(X, y,random_state=42)"
   ]
  },
  {
   "cell_type": "code",
   "execution_count": 11,
   "id": "studied-receptor",
   "metadata": {},
   "outputs": [
    {
     "name": "stdout",
     "output_type": "stream",
     "text": [
      "TRAINING SCORE: 0.9815978907476365\n",
      "ACCURACY: 0.9814637952686145\n",
      "PRECISION: 0.38095238095238093\n",
      "RECALL: 0.001755926251097454\n",
      "F1 SCORE: 0.003495739567402229\n",
      "AUC: 0.6583420959224547\n"
     ]
    },
    {
     "data": {
      "image/png": "[encoded data removed]",
      "text/plain": [
       "<Figure size 432x288 with 1 Axes>"
      ]
     },
     "metadata": {
      "needs_background": "light"
     },
     "output_type": "display_data"
    }
   ],
   "source": [
    "from sklearn.ensemble import RandomForestClassifier\n",
    "clrf=RandomForestClassifier()\n",
    "evaluate(clrf,X_train, X_test, y_train, y_test)"
   ]
  },
  {
   "cell_type": "code",
   "execution_count": 12,
   "id": "neither-prayer",
   "metadata": {},
   "outputs": [
    {
     "name": "stdout",
     "output_type": "stream",
     "text": [
      "              precision    recall  f1-score   support\n",
      "\n",
      "           0       0.98      1.00      0.99    966012\n",
      "           1       0.38      0.00      0.00     18224\n",
      "\n",
      "    accuracy                           0.98    984236\n",
      "   macro avg       0.68      0.50      0.50    984236\n",
      "weighted avg       0.97      0.98      0.97    984236\n",
      "\n"
     ]
    },
    {
     "data": {
      "text/plain": [
       "array([[965960,     52],\n",
       "       [ 18192,     32]])"
      ]
     },
     "execution_count": 12,
     "metadata": {},
     "output_type": "execute_result"
    }
   ],
   "source": [
    "print(classification_report(y_test,clrf.predict(X_test)))\n",
    "clrf_cm = confusion_matrix(y_test,clrf.predict(X_test))\n",
    "clrf_cm"
   ]
  },
  {
   "cell_type": "markdown",
   "id": "sustainable-shore",
   "metadata": {},
   "source": [
    "### Baseline + productSKU_cete"
   ]
  },
  {
   "cell_type": "markdown",
   "id": "exciting-technician",
   "metadata": {},
   "source": [
    "#### Feature Engineering"
   ]
  },
  {
   "cell_type": "code",
   "execution_count": 6,
   "id": "resistant-bangladesh",
   "metadata": {},
   "outputs": [
    {
     "name": "stderr",
     "output_type": "stream",
     "text": [
      "<ipython-input-6-f6afa246b78b>:5: SettingWithCopyWarning: \n",
      "A value is trying to be set on a copy of a slice from a DataFrame.\n",
      "Try using .loc[row_indexer,col_indexer] = value instead\n",
      "\n",
      "See the caveats in the documentation: https://pandas.pydata.org/pandas-docs/stable/user_guide/indexing.html#returning-a-view-versus-a-copy\n",
      "  X['ga:productSKU']=X['ga:productSKU'].astype('str')\n"
     ]
    }
   ],
   "source": [
    "#Split data\n",
    "\n",
    "y=df['ga:productAddsToCart_transf']\n",
    "X=df[['ga:pageDepth','ga:sessionCount','ga:daysSinceLastSession','ga:productSKU']]\n",
    "X['ga:productSKU']=X['ga:productSKU'].astype('str')\n",
    "X_train, X_test, y_train, y_test = train_test_split(X, y,random_state=42)"
   ]
  },
  {
   "cell_type": "code",
   "execution_count": 7,
   "id": "patient-scene",
   "metadata": {},
   "outputs": [
    {
     "name": "stderr",
     "output_type": "stream",
     "text": [
      "/home/dsc/TFM/kschool_masterDS_TFM/env/lib/python3.9/site-packages/category_encoders/utils.py:21: FutureWarning: is_categorical is deprecated and will be removed in a future version.  Use is_categorical_dtype instead\n",
      "  elif pd.api.types.is_categorical(cols):\n",
      "<ipython-input-7-aaea5a3bdc07>:4: SettingWithCopyWarning: \n",
      "A value is trying to be set on a copy of a slice from a DataFrame.\n",
      "Try using .loc[row_indexer,col_indexer] = value instead\n",
      "\n",
      "See the caveats in the documentation: https://pandas.pydata.org/pandas-docs/stable/user_guide/indexing.html#returning-a-view-versus-a-copy\n",
      "  X_train['ga:productSKU_cete']=encoder.fit_transform(X_train['ga:productSKU'],y_train)\n"
     ]
    },
    {
     "data": {
      "text/html": [
       "<div>\n",
       "<style scoped>\n",
       "    .dataframe tbody tr th:only-of-type {\n",
       "        vertical-align: middle;\n",
       "    }\n",
       "\n",
       "    .dataframe tbody tr th {\n",
       "        vertical-align: top;\n",
       "    }\n",
       "\n",
       "    .dataframe thead th {\n",
       "        text-align: right;\n",
       "    }\n",
       "</style>\n",
       "<table border=\"1\" class=\"dataframe\">\n",
       "  <thead>\n",
       "    <tr style=\"text-align: right;\">\n",
       "      <th></th>\n",
       "      <th>ga:pageDepth</th>\n",
       "      <th>ga:sessionCount</th>\n",
       "      <th>ga:daysSinceLastSession</th>\n",
       "      <th>ga:productSKU</th>\n",
       "      <th>ga:productSKU_cete</th>\n",
       "    </tr>\n",
       "  </thead>\n",
       "  <tbody>\n",
       "    <tr>\n",
       "      <th>2829355</th>\n",
       "      <td>2</td>\n",
       "      <td>1</td>\n",
       "      <td>0</td>\n",
       "      <td>6908</td>\n",
       "      <td>0.004168</td>\n",
       "    </tr>\n",
       "    <tr>\n",
       "      <th>3543383</th>\n",
       "      <td>3</td>\n",
       "      <td>82</td>\n",
       "      <td>0</td>\n",
       "      <td>6809</td>\n",
       "      <td>0.001287</td>\n",
       "    </tr>\n",
       "    <tr>\n",
       "      <th>1607926</th>\n",
       "      <td>1</td>\n",
       "      <td>1</td>\n",
       "      <td>0</td>\n",
       "      <td>1047</td>\n",
       "      <td>0.059557</td>\n",
       "    </tr>\n",
       "  </tbody>\n",
       "</table>\n",
       "</div>"
      ],
      "text/plain": [
       "         ga:pageDepth  ga:sessionCount  ga:daysSinceLastSession ga:productSKU  \\\n",
       "2829355             2                1                        0          6908   \n",
       "3543383             3               82                        0          6809   \n",
       "1607926             1                1                        0          1047   \n",
       "\n",
       "         ga:productSKU_cete  \n",
       "2829355            0.004168  \n",
       "3543383            0.001287  \n",
       "1607926            0.059557  "
      ]
     },
     "execution_count": 7,
     "metadata": {},
     "output_type": "execute_result"
    }
   ],
   "source": [
    "# Target encoding of productSKU with train\n",
    "import category_encoders as ce\n",
    "encoder=ce.TargetEncoder(cols='ga:productSKU')\n",
    "X_train['ga:productSKU_cete']=encoder.fit_transform(X_train['ga:productSKU'],y_train)\n",
    "X_train.head(3)"
   ]
  },
  {
   "cell_type": "code",
   "execution_count": 8,
   "id": "assisted-mainland",
   "metadata": {},
   "outputs": [
    {
     "name": "stderr",
     "output_type": "stream",
     "text": [
      "<ipython-input-8-84f3a6cf49cb>:3: SettingWithCopyWarning: \n",
      "A value is trying to be set on a copy of a slice from a DataFrame.\n",
      "Try using .loc[row_indexer,col_indexer] = value instead\n",
      "\n",
      "See the caveats in the documentation: https://pandas.pydata.org/pandas-docs/stable/user_guide/indexing.html#returning-a-view-versus-a-copy\n",
      "  prod_target_encod['ga:productSKU']=prod_target_encod['ga:productSKU'].astype('str')\n"
     ]
    },
    {
     "name": "stdout",
     "output_type": "stream",
     "text": [
      "(5478, 2)\n"
     ]
    },
    {
     "name": "stderr",
     "output_type": "stream",
     "text": [
      "<ipython-input-8-84f3a6cf49cb>:4: SettingWithCopyWarning: \n",
      "A value is trying to be set on a copy of a slice from a DataFrame\n",
      "\n",
      "See the caveats in the documentation: https://pandas.pydata.org/pandas-docs/stable/user_guide/indexing.html#returning-a-view-versus-a-copy\n",
      "  prod_target_encod.drop_duplicates(inplace=True)\n"
     ]
    },
    {
     "data": {
      "text/html": [
       "<div>\n",
       "<style scoped>\n",
       "    .dataframe tbody tr th:only-of-type {\n",
       "        vertical-align: middle;\n",
       "    }\n",
       "\n",
       "    .dataframe tbody tr th {\n",
       "        vertical-align: top;\n",
       "    }\n",
       "\n",
       "    .dataframe thead th {\n",
       "        text-align: right;\n",
       "    }\n",
       "</style>\n",
       "<table border=\"1\" class=\"dataframe\">\n",
       "  <thead>\n",
       "    <tr style=\"text-align: right;\">\n",
       "      <th></th>\n",
       "      <th>ga:productSKU</th>\n",
       "      <th>ga:productSKU_cete</th>\n",
       "    </tr>\n",
       "  </thead>\n",
       "  <tbody>\n",
       "    <tr>\n",
       "      <th>2829355</th>\n",
       "      <td>6908</td>\n",
       "      <td>0.004168</td>\n",
       "    </tr>\n",
       "    <tr>\n",
       "      <th>3543383</th>\n",
       "      <td>6809</td>\n",
       "      <td>0.001287</td>\n",
       "    </tr>\n",
       "    <tr>\n",
       "      <th>1607926</th>\n",
       "      <td>1047</td>\n",
       "      <td>0.059557</td>\n",
       "    </tr>\n",
       "  </tbody>\n",
       "</table>\n",
       "</div>"
      ],
      "text/plain": [
       "        ga:productSKU  ga:productSKU_cete\n",
       "2829355          6908            0.004168\n",
       "3543383          6809            0.001287\n",
       "1607926          1047            0.059557"
      ]
     },
     "execution_count": 8,
     "metadata": {},
     "output_type": "execute_result"
    }
   ],
   "source": [
    "# 'Dictionary' of productSKU target encoding\n",
    "prod_target_encod= X_train[['ga:productSKU','ga:productSKU_cete']]\n",
    "prod_target_encod['ga:productSKU']=prod_target_encod['ga:productSKU'].astype('str')\n",
    "prod_target_encod.drop_duplicates(inplace=True)\n",
    "print(prod_target_encod.shape)\n",
    "prod_target_encod.head(3)"
   ]
  },
  {
   "cell_type": "code",
   "execution_count": 9,
   "id": "italian-horizontal",
   "metadata": {},
   "outputs": [
    {
     "data": {
      "text/html": [
       "<div>\n",
       "<style scoped>\n",
       "    .dataframe tbody tr th:only-of-type {\n",
       "        vertical-align: middle;\n",
       "    }\n",
       "\n",
       "    .dataframe tbody tr th {\n",
       "        vertical-align: top;\n",
       "    }\n",
       "\n",
       "    .dataframe thead th {\n",
       "        text-align: right;\n",
       "    }\n",
       "</style>\n",
       "<table border=\"1\" class=\"dataframe\">\n",
       "  <thead>\n",
       "    <tr style=\"text-align: right;\">\n",
       "      <th></th>\n",
       "      <th>ga:pageDepth</th>\n",
       "      <th>ga:sessionCount</th>\n",
       "      <th>ga:daysSinceLastSession</th>\n",
       "      <th>ga:productSKU</th>\n",
       "      <th>ga:productSKU_cete</th>\n",
       "    </tr>\n",
       "  </thead>\n",
       "  <tbody>\n",
       "    <tr>\n",
       "      <th>0</th>\n",
       "      <td>1</td>\n",
       "      <td>1</td>\n",
       "      <td>0</td>\n",
       "      <td>6925</td>\n",
       "      <td>0.024405</td>\n",
       "    </tr>\n",
       "    <tr>\n",
       "      <th>1</th>\n",
       "      <td>14</td>\n",
       "      <td>1</td>\n",
       "      <td>0</td>\n",
       "      <td>5111</td>\n",
       "      <td>0.024561</td>\n",
       "    </tr>\n",
       "    <tr>\n",
       "      <th>2</th>\n",
       "      <td>6</td>\n",
       "      <td>1</td>\n",
       "      <td>0</td>\n",
       "      <td>1175</td>\n",
       "      <td>0.048494</td>\n",
       "    </tr>\n",
       "  </tbody>\n",
       "</table>\n",
       "</div>"
      ],
      "text/plain": [
       "   ga:pageDepth  ga:sessionCount  ga:daysSinceLastSession ga:productSKU  \\\n",
       "0             1                1                        0          6925   \n",
       "1            14                1                        0          5111   \n",
       "2             6                1                        0          1175   \n",
       "\n",
       "   ga:productSKU_cete  \n",
       "0            0.024405  \n",
       "1            0.024561  \n",
       "2            0.048494  "
      ]
     },
     "execution_count": 9,
     "metadata": {},
     "output_type": "execute_result"
    }
   ],
   "source": [
    "# productSKU target encoding in test according to fitting on train set:\n",
    "X_test = X_test.merge(prod_target_encod, left_on='ga:productSKU', right_on='ga:productSKU', how='left')\n",
    "X_test.head(3)"
   ]
  },
  {
   "cell_type": "code",
   "execution_count": 10,
   "id": "competitive-fisher",
   "metadata": {},
   "outputs": [
    {
     "data": {
      "text/html": [
       "<div>\n",
       "<style scoped>\n",
       "    .dataframe tbody tr th:only-of-type {\n",
       "        vertical-align: middle;\n",
       "    }\n",
       "\n",
       "    .dataframe tbody tr th {\n",
       "        vertical-align: top;\n",
       "    }\n",
       "\n",
       "    .dataframe thead th {\n",
       "        text-align: right;\n",
       "    }\n",
       "</style>\n",
       "<table border=\"1\" class=\"dataframe\">\n",
       "  <thead>\n",
       "    <tr style=\"text-align: right;\">\n",
       "      <th></th>\n",
       "      <th>ga:pageDepth</th>\n",
       "      <th>ga:sessionCount</th>\n",
       "      <th>ga:daysSinceLastSession</th>\n",
       "      <th>ga:productSKU</th>\n",
       "      <th>ga:productSKU_cete</th>\n",
       "    </tr>\n",
       "  </thead>\n",
       "  <tbody>\n",
       "    <tr>\n",
       "      <th>5923</th>\n",
       "      <td>1</td>\n",
       "      <td>1</td>\n",
       "      <td>0</td>\n",
       "      <td>3337</td>\n",
       "      <td>NaN</td>\n",
       "    </tr>\n",
       "    <tr>\n",
       "      <th>7664</th>\n",
       "      <td>3</td>\n",
       "      <td>1</td>\n",
       "      <td>0</td>\n",
       "      <td>4071</td>\n",
       "      <td>NaN</td>\n",
       "    </tr>\n",
       "    <tr>\n",
       "      <th>11857</th>\n",
       "      <td>14</td>\n",
       "      <td>1</td>\n",
       "      <td>0</td>\n",
       "      <td>3766</td>\n",
       "      <td>NaN</td>\n",
       "    </tr>\n",
       "    <tr>\n",
       "      <th>16871</th>\n",
       "      <td>17</td>\n",
       "      <td>6</td>\n",
       "      <td>0</td>\n",
       "      <td>1329</td>\n",
       "      <td>NaN</td>\n",
       "    </tr>\n",
       "    <tr>\n",
       "      <th>20717</th>\n",
       "      <td>2</td>\n",
       "      <td>6</td>\n",
       "      <td>4</td>\n",
       "      <td>3560</td>\n",
       "      <td>NaN</td>\n",
       "    </tr>\n",
       "    <tr>\n",
       "      <th>...</th>\n",
       "      <td>...</td>\n",
       "      <td>...</td>\n",
       "      <td>...</td>\n",
       "      <td>...</td>\n",
       "      <td>...</td>\n",
       "    </tr>\n",
       "    <tr>\n",
       "      <th>927182</th>\n",
       "      <td>1</td>\n",
       "      <td>1</td>\n",
       "      <td>0</td>\n",
       "      <td>3405</td>\n",
       "      <td>NaN</td>\n",
       "    </tr>\n",
       "    <tr>\n",
       "      <th>943391</th>\n",
       "      <td>6</td>\n",
       "      <td>2</td>\n",
       "      <td>0</td>\n",
       "      <td>1520-16</td>\n",
       "      <td>NaN</td>\n",
       "    </tr>\n",
       "    <tr>\n",
       "      <th>945034</th>\n",
       "      <td>2</td>\n",
       "      <td>9</td>\n",
       "      <td>0</td>\n",
       "      <td>3168</td>\n",
       "      <td>NaN</td>\n",
       "    </tr>\n",
       "    <tr>\n",
       "      <th>958608</th>\n",
       "      <td>18</td>\n",
       "      <td>1</td>\n",
       "      <td>0</td>\n",
       "      <td>1520</td>\n",
       "      <td>NaN</td>\n",
       "    </tr>\n",
       "    <tr>\n",
       "      <th>982923</th>\n",
       "      <td>6</td>\n",
       "      <td>1</td>\n",
       "      <td>0</td>\n",
       "      <td>3766</td>\n",
       "      <td>NaN</td>\n",
       "    </tr>\n",
       "  </tbody>\n",
       "</table>\n",
       "<p>85 rows × 5 columns</p>\n",
       "</div>"
      ],
      "text/plain": [
       "        ga:pageDepth  ga:sessionCount  ga:daysSinceLastSession ga:productSKU  \\\n",
       "5923               1                1                        0          3337   \n",
       "7664               3                1                        0          4071   \n",
       "11857             14                1                        0          3766   \n",
       "16871             17                6                        0          1329   \n",
       "20717              2                6                        4          3560   \n",
       "...              ...              ...                      ...           ...   \n",
       "927182             1                1                        0          3405   \n",
       "943391             6                2                        0       1520-16   \n",
       "945034             2                9                        0          3168   \n",
       "958608            18                1                        0          1520   \n",
       "982923             6                1                        0          3766   \n",
       "\n",
       "        ga:productSKU_cete  \n",
       "5923                   NaN  \n",
       "7664                   NaN  \n",
       "11857                  NaN  \n",
       "16871                  NaN  \n",
       "20717                  NaN  \n",
       "...                    ...  \n",
       "927182                 NaN  \n",
       "943391                 NaN  \n",
       "945034                 NaN  \n",
       "958608                 NaN  \n",
       "982923                 NaN  \n",
       "\n",
       "[85 rows x 5 columns]"
      ]
     },
     "execution_count": 10,
     "metadata": {},
     "output_type": "execute_result"
    }
   ],
   "source": [
    "# Checking missing values in 'ga:productSKU_cete':\n",
    "\n",
    "X_test[X_test['ga:productSKU_cete'].isna()]"
   ]
  },
  {
   "cell_type": "code",
   "execution_count": 11,
   "id": "variable-offer",
   "metadata": {},
   "outputs": [
    {
     "data": {
      "text/html": [
       "<div>\n",
       "<style scoped>\n",
       "    .dataframe tbody tr th:only-of-type {\n",
       "        vertical-align: middle;\n",
       "    }\n",
       "\n",
       "    .dataframe tbody tr th {\n",
       "        vertical-align: top;\n",
       "    }\n",
       "\n",
       "    .dataframe thead th {\n",
       "        text-align: right;\n",
       "    }\n",
       "</style>\n",
       "<table border=\"1\" class=\"dataframe\">\n",
       "  <thead>\n",
       "    <tr style=\"text-align: right;\">\n",
       "      <th></th>\n",
       "      <th>ga:pageDepth</th>\n",
       "      <th>ga:sessionCount</th>\n",
       "      <th>ga:daysSinceLastSession</th>\n",
       "      <th>ga:productSKU</th>\n",
       "      <th>ga:productSKU_cete</th>\n",
       "    </tr>\n",
       "  </thead>\n",
       "  <tbody>\n",
       "  </tbody>\n",
       "</table>\n",
       "</div>"
      ],
      "text/plain": [
       "Empty DataFrame\n",
       "Columns: [ga:pageDepth, ga:sessionCount, ga:daysSinceLastSession, ga:productSKU, ga:productSKU_cete]\n",
       "Index: []"
      ]
     },
     "execution_count": 11,
     "metadata": {},
     "output_type": "execute_result"
    }
   ],
   "source": [
    "# Filling missing values in X_test with the mean of the means:\n",
    "\n",
    "X_test['ga:productSKU_cete']=X_test['ga:productSKU_cete'].fillna(prod_target_encod['ga:productSKU_cete'].mean())\n",
    "X_test[X_test['ga:productSKU_cete'].isna()]\n"
   ]
  },
  {
   "cell_type": "code",
   "execution_count": 12,
   "id": "diagnostic-mailman",
   "metadata": {},
   "outputs": [],
   "source": [
    "# Drop 'ga:productSKU' in both train and test datasets:\n",
    "\n",
    "X_train=X_train.drop('ga:productSKU',axis=1)\n",
    "X_test=X_test.drop('ga:productSKU',axis=1)"
   ]
  },
  {
   "cell_type": "code",
   "execution_count": 13,
   "id": "forbidden-breed",
   "metadata": {},
   "outputs": [
    {
     "data": {
      "text/html": [
       "<div>\n",
       "<style scoped>\n",
       "    .dataframe tbody tr th:only-of-type {\n",
       "        vertical-align: middle;\n",
       "    }\n",
       "\n",
       "    .dataframe tbody tr th {\n",
       "        vertical-align: top;\n",
       "    }\n",
       "\n",
       "    .dataframe thead th {\n",
       "        text-align: right;\n",
       "    }\n",
       "</style>\n",
       "<table border=\"1\" class=\"dataframe\">\n",
       "  <thead>\n",
       "    <tr style=\"text-align: right;\">\n",
       "      <th></th>\n",
       "      <th>ga:pageDepth</th>\n",
       "      <th>ga:sessionCount</th>\n",
       "      <th>ga:daysSinceLastSession</th>\n",
       "      <th>ga:productSKU_cete</th>\n",
       "    </tr>\n",
       "  </thead>\n",
       "  <tbody>\n",
       "    <tr>\n",
       "      <th>0</th>\n",
       "      <td>1</td>\n",
       "      <td>1</td>\n",
       "      <td>0</td>\n",
       "      <td>0.024405</td>\n",
       "    </tr>\n",
       "    <tr>\n",
       "      <th>1</th>\n",
       "      <td>14</td>\n",
       "      <td>1</td>\n",
       "      <td>0</td>\n",
       "      <td>0.024561</td>\n",
       "    </tr>\n",
       "    <tr>\n",
       "      <th>2</th>\n",
       "      <td>6</td>\n",
       "      <td>1</td>\n",
       "      <td>0</td>\n",
       "      <td>0.048494</td>\n",
       "    </tr>\n",
       "  </tbody>\n",
       "</table>\n",
       "</div>"
      ],
      "text/plain": [
       "   ga:pageDepth  ga:sessionCount  ga:daysSinceLastSession  ga:productSKU_cete\n",
       "0             1                1                        0            0.024405\n",
       "1            14                1                        0            0.024561\n",
       "2             6                1                        0            0.048494"
      ]
     },
     "execution_count": 13,
     "metadata": {},
     "output_type": "execute_result"
    }
   ],
   "source": [
    "X_test.head(3)"
   ]
  },
  {
   "cell_type": "code",
   "execution_count": 14,
   "id": "earned-thesis",
   "metadata": {},
   "outputs": [
    {
     "data": {
      "text/html": [
       "<div>\n",
       "<style scoped>\n",
       "    .dataframe tbody tr th:only-of-type {\n",
       "        vertical-align: middle;\n",
       "    }\n",
       "\n",
       "    .dataframe tbody tr th {\n",
       "        vertical-align: top;\n",
       "    }\n",
       "\n",
       "    .dataframe thead th {\n",
       "        text-align: right;\n",
       "    }\n",
       "</style>\n",
       "<table border=\"1\" class=\"dataframe\">\n",
       "  <thead>\n",
       "    <tr style=\"text-align: right;\">\n",
       "      <th></th>\n",
       "      <th>ga:pageDepth</th>\n",
       "      <th>ga:sessionCount</th>\n",
       "      <th>ga:daysSinceLastSession</th>\n",
       "      <th>ga:productSKU_cete</th>\n",
       "    </tr>\n",
       "  </thead>\n",
       "  <tbody>\n",
       "    <tr>\n",
       "      <th>2829355</th>\n",
       "      <td>2</td>\n",
       "      <td>1</td>\n",
       "      <td>0</td>\n",
       "      <td>0.004168</td>\n",
       "    </tr>\n",
       "    <tr>\n",
       "      <th>3543383</th>\n",
       "      <td>3</td>\n",
       "      <td>82</td>\n",
       "      <td>0</td>\n",
       "      <td>0.001287</td>\n",
       "    </tr>\n",
       "    <tr>\n",
       "      <th>1607926</th>\n",
       "      <td>1</td>\n",
       "      <td>1</td>\n",
       "      <td>0</td>\n",
       "      <td>0.059557</td>\n",
       "    </tr>\n",
       "  </tbody>\n",
       "</table>\n",
       "</div>"
      ],
      "text/plain": [
       "         ga:pageDepth  ga:sessionCount  ga:daysSinceLastSession  \\\n",
       "2829355             2                1                        0   \n",
       "3543383             3               82                        0   \n",
       "1607926             1                1                        0   \n",
       "\n",
       "         ga:productSKU_cete  \n",
       "2829355            0.004168  \n",
       "3543383            0.001287  \n",
       "1607926            0.059557  "
      ]
     },
     "execution_count": 14,
     "metadata": {},
     "output_type": "execute_result"
    }
   ],
   "source": [
    "X_train.head(3)"
   ]
  },
  {
   "cell_type": "markdown",
   "id": "beginning-secret",
   "metadata": {},
   "source": [
    "#### Classifier"
   ]
  },
  {
   "cell_type": "code",
   "execution_count": 15,
   "id": "green-keeping",
   "metadata": {},
   "outputs": [
    {
     "name": "stdout",
     "output_type": "stream",
     "text": [
      "TRAINING SCORE: 0.9843258977784777\n",
      "ACCURACY: 0.9786260612292174\n",
      "PRECISION: 0.10480472042708626\n",
      "RECALL: 0.020467515364354698\n",
      "F1 SCORE: 0.034246889776431165\n",
      "AUC: 0.7279564771567083\n"
     ]
    },
    {
     "data": {
      "image/png": "[encoded data removed]",
      "text/plain": [
       "<Figure size 432x288 with 1 Axes>"
      ]
     },
     "metadata": {
      "needs_background": "light"
     },
     "output_type": "display_data"
    }
   ],
   "source": [
    "from sklearn.ensemble import RandomForestClassifier\n",
    "clrf=RandomForestClassifier()\n",
    "evaluate(clrf,X_train, X_test, y_train, y_test)"
   ]
  },
  {
   "cell_type": "code",
   "execution_count": 16,
   "id": "cross-deviation",
   "metadata": {},
   "outputs": [
    {
     "name": "stdout",
     "output_type": "stream",
     "text": [
      "              precision    recall  f1-score   support\n",
      "\n",
      "           0       0.98      1.00      0.99    966012\n",
      "           1       0.10      0.02      0.03     18224\n",
      "\n",
      "    accuracy                           0.98    984236\n",
      "   macro avg       0.54      0.51      0.51    984236\n",
      "weighted avg       0.97      0.98      0.97    984236\n",
      "\n"
     ]
    },
    {
     "data": {
      "text/plain": [
       "array([[962826,   3186],\n",
       "       [ 17851,    373]])"
      ]
     },
     "execution_count": 16,
     "metadata": {},
     "output_type": "execute_result"
    }
   ],
   "source": [
    "print(classification_report(y_test,clrf.predict(X_test)))\n",
    "clrf_cm = confusion_matrix(y_test,clrf.predict(X_test))\n",
    "clrf_cm"
   ]
  },
  {
   "cell_type": "markdown",
   "id": "republican-fitting",
   "metadata": {},
   "source": [
    "Un metodo más sofisticado de Target Encoding para evitar overfitting (mejores resultados en train que en test):\n",
    "\n",
    "https://medium.com/@pouryaayria/k-fold-target-encoding-dfe9a594874b\n",
    "https://datascience.stackexchange.com/questions/81260/target-encoding-with-kfold-cross-validation-how-to-transform-test-set"
   ]
  },
  {
   "cell_type": "markdown",
   "id": "imperial-storm",
   "metadata": {},
   "source": [
    "### Baseline + productSKU_cete + 'dateHourMinute'"
   ]
  },
  {
   "cell_type": "markdown",
   "id": "coupled-startup",
   "metadata": {},
   "source": [
    "#### Feature Engineering"
   ]
  },
  {
   "cell_type": "code",
   "execution_count": 17,
   "id": "catholic-greece",
   "metadata": {},
   "outputs": [
    {
     "data": {
      "text/plain": [
       "0          201904301452\n",
       "1          201904301524\n",
       "2          201904301545\n",
       "3          201904301704\n",
       "4          201904301452\n",
       "               ...     \n",
       "3936936    202101092123\n",
       "3936937    202101092124\n",
       "3936938    202101120607\n",
       "3936939    202101131547\n",
       "3936940    202101141618\n",
       "Name: ga:dateHourMinute, Length: 3936941, dtype: int64"
      ]
     },
     "execution_count": 17,
     "metadata": {},
     "output_type": "execute_result"
    }
   ],
   "source": [
    "df['ga:dateHourMinute']"
   ]
  },
  {
   "cell_type": "code",
   "execution_count": 18,
   "id": "permanent-aggregate",
   "metadata": {},
   "outputs": [
    {
     "data": {
      "text/plain": [
       "0         2019-04-30 14:52:00\n",
       "1         2019-04-30 15:24:00\n",
       "2         2019-04-30 15:45:00\n",
       "3         2019-04-30 17:04:00\n",
       "4         2019-04-30 14:52:00\n",
       "                  ...        \n",
       "3936936   2021-01-09 21:23:00\n",
       "3936937   2021-01-09 21:24:00\n",
       "3936938   2021-01-12 06:07:00\n",
       "3936939   2021-01-13 15:47:00\n",
       "3936940   2021-01-14 16:18:00\n",
       "Name: dateTime, Length: 3936941, dtype: datetime64[ns]"
      ]
     },
     "execution_count": 18,
     "metadata": {},
     "output_type": "execute_result"
    }
   ],
   "source": [
    "df['dateTime']=pd.to_datetime(df['ga:dateHourMinute'],format='%Y%m%d%H%M')\n",
    "df['dateTime']"
   ]
  },
  {
   "cell_type": "code",
   "execution_count": 19,
   "id": "adjusted-automation",
   "metadata": {},
   "outputs": [
    {
     "name": "stdout",
     "output_type": "stream",
     "text": [
      "<class 'pandas.core.frame.DataFrame'>\n",
      "RangeIndex: 3936941 entries, 0 to 3936940\n",
      "Data columns (total 20 columns):\n",
      " #   Column                       Dtype         \n",
      "---  ------                       -----         \n",
      " 0   ga:productSKU                object        \n",
      " 1   ga:dateHourMinute            int64         \n",
      " 2   ga:pagePath                  object        \n",
      " 3   ga:pageDepth                 int64         \n",
      " 4   ga:sessionCount              int64         \n",
      " 5   ga:daysSinceLastSession      int64         \n",
      " 6   ga:sourceMedium              object        \n",
      " 7   ga:city                      object        \n",
      " 8   ga:deviceCategory            object        \n",
      " 9   ga:operatingSystem           object        \n",
      " 10  ga:productListViews          int64         \n",
      " 11  ga:productListClicks         int64         \n",
      " 12  ga:productDetailViews        int64         \n",
      " 13  ga:productAddsToCart         int64         \n",
      " 14  ga:productAddsToCart_transf  int64         \n",
      " 15  dateTime                     datetime64[ns]\n",
      " 16  dateTime_year                int64         \n",
      " 17  dateTime_month               int64         \n",
      " 18  dateTime_dayofweek           int64         \n",
      " 19  dateTime_hour                int64         \n",
      "dtypes: datetime64[ns](1), int64(13), object(6)\n",
      "memory usage: 600.7+ MB\n"
     ]
    }
   ],
   "source": [
    "df['dateTime_year']=df['dateTime'].dt.year\n",
    "df['dateTime_month']=df['dateTime'].dt.month\n",
    "df['dateTime_dayofweek']=df['dateTime'].dt.dayofweek\n",
    "df['dateTime_hour']=df['dateTime'].dt.hour\n",
    "df.info()"
   ]
  },
  {
   "cell_type": "code",
   "execution_count": 20,
   "id": "executed-structure",
   "metadata": {},
   "outputs": [
    {
     "name": "stdout",
     "output_type": "stream",
     "text": [
      "<class 'pandas.core.frame.DataFrame'>\n",
      "RangeIndex: 3936941 entries, 0 to 3936940\n",
      "Data columns (total 26 columns):\n",
      " #   Column                       Dtype         \n",
      "---  ------                       -----         \n",
      " 0   ga:productSKU                object        \n",
      " 1   ga:dateHourMinute            int64         \n",
      " 2   ga:pagePath                  object        \n",
      " 3   ga:pageDepth                 int64         \n",
      " 4   ga:sessionCount              int64         \n",
      " 5   ga:daysSinceLastSession      int64         \n",
      " 6   ga:sourceMedium              object        \n",
      " 7   ga:city                      object        \n",
      " 8   ga:deviceCategory            object        \n",
      " 9   ga:operatingSystem           object        \n",
      " 10  ga:productListViews          int64         \n",
      " 11  ga:productListClicks         int64         \n",
      " 12  ga:productDetailViews        int64         \n",
      " 13  ga:productAddsToCart         int64         \n",
      " 14  ga:productAddsToCart_transf  int64         \n",
      " 15  dateTime                     datetime64[ns]\n",
      " 16  dateTime_year                int64         \n",
      " 17  dateTime_month               int64         \n",
      " 18  dateTime_dayofweek           int64         \n",
      " 19  dateTime_hour                int64         \n",
      " 20  month_sin                    float64       \n",
      " 21  month_cos                    float64       \n",
      " 22  dayofweek_sin                float64       \n",
      " 23  dayofweek_cos                float64       \n",
      " 24  hour_sin                     float64       \n",
      " 25  hour_cos                     float64       \n",
      "dtypes: datetime64[ns](1), float64(6), int64(13), object(6)\n",
      "memory usage: 780.9+ MB\n"
     ]
    }
   ],
   "source": [
    "# DateTime as cyclical features:\n",
    "\n",
    "df['month_sin']=np.sin((df.dateTime_month-1)*(2.*np.pi/12))\n",
    "df['month_cos']=np.cos((df.dateTime_month-1)*(2.*np.pi/12))\n",
    "# I substract minus 1 to 'df.dateTime_month' because its values are coded as 1 to 12 instead of 0 to 11\n",
    "\n",
    "df['dayofweek_sin']=np.sin(df.dateTime_dayofweek*(2.*np.pi/7))\n",
    "df['dayofweek_cos']=np.cos(df.dateTime_dayofweek*(2.*np.pi/7))\n",
    "\n",
    "df['hour_sin']=np.sin(df.dateTime_hour*(2.*np.pi/24))\n",
    "df['hour_cos']=np.cos(df.dateTime_hour*(2.*np.pi/24))\n",
    "\n",
    "df.info()"
   ]
  },
  {
   "cell_type": "markdown",
   "id": "boring-daniel",
   "metadata": {},
   "source": [
    "#### Month"
   ]
  },
  {
   "cell_type": "markdown",
   "id": "corrected-wallpaper",
   "metadata": {},
   "source": [
    "##### Data"
   ]
  },
  {
   "cell_type": "code",
   "execution_count": 22,
   "id": "nasty-exhibition",
   "metadata": {},
   "outputs": [
    {
     "name": "stderr",
     "output_type": "stream",
     "text": [
      "<ipython-input-22-4d2973f52982>:4: SettingWithCopyWarning: \n",
      "A value is trying to be set on a copy of a slice from a DataFrame.\n",
      "Try using .loc[row_indexer,col_indexer] = value instead\n",
      "\n",
      "See the caveats in the documentation: https://pandas.pydata.org/pandas-docs/stable/user_guide/indexing.html#returning-a-view-versus-a-copy\n",
      "  X['ga:productSKU']=X['ga:productSKU'].astype('str')\n",
      "/home/dsc/TFM/kschool_masterDS_TFM/env/lib/python3.9/site-packages/category_encoders/utils.py:21: FutureWarning: is_categorical is deprecated and will be removed in a future version.  Use is_categorical_dtype instead\n",
      "  elif pd.api.types.is_categorical(cols):\n",
      "<ipython-input-22-4d2973f52982>:10: SettingWithCopyWarning: \n",
      "A value is trying to be set on a copy of a slice from a DataFrame.\n",
      "Try using .loc[row_indexer,col_indexer] = value instead\n",
      "\n",
      "See the caveats in the documentation: https://pandas.pydata.org/pandas-docs/stable/user_guide/indexing.html#returning-a-view-versus-a-copy\n",
      "  X_train['ga:productSKU_cete']=encoder.fit_transform(X_train['ga:productSKU'],y_train)\n",
      "<ipython-input-22-4d2973f52982>:14: SettingWithCopyWarning: \n",
      "A value is trying to be set on a copy of a slice from a DataFrame.\n",
      "Try using .loc[row_indexer,col_indexer] = value instead\n",
      "\n",
      "See the caveats in the documentation: https://pandas.pydata.org/pandas-docs/stable/user_guide/indexing.html#returning-a-view-versus-a-copy\n",
      "  prod_target_encod['ga:productSKU']=prod_target_encod['ga:productSKU'].astype('str')\n",
      "<ipython-input-22-4d2973f52982>:15: SettingWithCopyWarning: \n",
      "A value is trying to be set on a copy of a slice from a DataFrame\n",
      "\n",
      "See the caveats in the documentation: https://pandas.pydata.org/pandas-docs/stable/user_guide/indexing.html#returning-a-view-versus-a-copy\n",
      "  prod_target_encod.drop_duplicates(inplace=True)\n"
     ]
    }
   ],
   "source": [
    "#Split data\n",
    "y=df['ga:productAddsToCart_transf']\n",
    "X=df[['ga:pageDepth','ga:sessionCount','ga:daysSinceLastSession','ga:productSKU','month_sin','month_cos']]\n",
    "X['ga:productSKU']=X['ga:productSKU'].astype('str')\n",
    "X_train, X_test, y_train, y_test = train_test_split(X, y,random_state=42)\n",
    "\n",
    "# Target encoding of productSKU with train\n",
    "import category_encoders as ce\n",
    "encoder=ce.TargetEncoder(cols='ga:productSKU')\n",
    "X_train['ga:productSKU_cete']=encoder.fit_transform(X_train['ga:productSKU'],y_train)\n",
    "\n",
    "# 'Dictionary' of productSKU target encoding\n",
    "prod_target_encod= X_train[['ga:productSKU','ga:productSKU_cete']]\n",
    "prod_target_encod['ga:productSKU']=prod_target_encod['ga:productSKU'].astype('str')\n",
    "prod_target_encod.drop_duplicates(inplace=True)\n",
    "\n",
    "# productSKU target encoding in test according to fitting on train set:\n",
    "X_test = X_test.merge(prod_target_encod, left_on='ga:productSKU', right_on='ga:productSKU', how='left')\n",
    "\n",
    "# Filling missing values in X_test with the mean of the means:\n",
    "X_test['ga:productSKU_cete']=X_test['ga:productSKU_cete'].fillna(prod_target_encod['ga:productSKU_cete'].mean())\n",
    "\n",
    "# Drop 'ga:productSKU' in both train and test datasets:\n",
    "X_train=X_train.drop('ga:productSKU',axis=1)\n",
    "X_test=X_test.drop('ga:productSKU',axis=1)"
   ]
  },
  {
   "cell_type": "code",
   "execution_count": 23,
   "id": "exotic-district",
   "metadata": {},
   "outputs": [
    {
     "data": {
      "text/html": [
       "<div>\n",
       "<style scoped>\n",
       "    .dataframe tbody tr th:only-of-type {\n",
       "        vertical-align: middle;\n",
       "    }\n",
       "\n",
       "    .dataframe tbody tr th {\n",
       "        vertical-align: top;\n",
       "    }\n",
       "\n",
       "    .dataframe thead th {\n",
       "        text-align: right;\n",
       "    }\n",
       "</style>\n",
       "<table border=\"1\" class=\"dataframe\">\n",
       "  <thead>\n",
       "    <tr style=\"text-align: right;\">\n",
       "      <th></th>\n",
       "      <th>ga:pageDepth</th>\n",
       "      <th>ga:sessionCount</th>\n",
       "      <th>ga:daysSinceLastSession</th>\n",
       "      <th>month_sin</th>\n",
       "      <th>month_cos</th>\n",
       "      <th>ga:productSKU_cete</th>\n",
       "    </tr>\n",
       "  </thead>\n",
       "  <tbody>\n",
       "    <tr>\n",
       "      <th>2829355</th>\n",
       "      <td>2</td>\n",
       "      <td>1</td>\n",
       "      <td>0</td>\n",
       "      <td>-0.500000</td>\n",
       "      <td>0.866025</td>\n",
       "      <td>0.004168</td>\n",
       "    </tr>\n",
       "    <tr>\n",
       "      <th>3543383</th>\n",
       "      <td>3</td>\n",
       "      <td>82</td>\n",
       "      <td>0</td>\n",
       "      <td>0.000000</td>\n",
       "      <td>1.000000</td>\n",
       "      <td>0.001287</td>\n",
       "    </tr>\n",
       "    <tr>\n",
       "      <th>1607926</th>\n",
       "      <td>1</td>\n",
       "      <td>1</td>\n",
       "      <td>0</td>\n",
       "      <td>-0.866025</td>\n",
       "      <td>0.500000</td>\n",
       "      <td>0.059557</td>\n",
       "    </tr>\n",
       "  </tbody>\n",
       "</table>\n",
       "</div>"
      ],
      "text/plain": [
       "         ga:pageDepth  ga:sessionCount  ga:daysSinceLastSession  month_sin  \\\n",
       "2829355             2                1                        0  -0.500000   \n",
       "3543383             3               82                        0   0.000000   \n",
       "1607926             1                1                        0  -0.866025   \n",
       "\n",
       "         month_cos  ga:productSKU_cete  \n",
       "2829355   0.866025            0.004168  \n",
       "3543383   1.000000            0.001287  \n",
       "1607926   0.500000            0.059557  "
      ]
     },
     "execution_count": 23,
     "metadata": {},
     "output_type": "execute_result"
    }
   ],
   "source": [
    "X_train.head(3)"
   ]
  },
  {
   "cell_type": "code",
   "execution_count": 24,
   "id": "recent-background",
   "metadata": {},
   "outputs": [
    {
     "data": {
      "text/html": [
       "<div>\n",
       "<style scoped>\n",
       "    .dataframe tbody tr th:only-of-type {\n",
       "        vertical-align: middle;\n",
       "    }\n",
       "\n",
       "    .dataframe tbody tr th {\n",
       "        vertical-align: top;\n",
       "    }\n",
       "\n",
       "    .dataframe thead th {\n",
       "        text-align: right;\n",
       "    }\n",
       "</style>\n",
       "<table border=\"1\" class=\"dataframe\">\n",
       "  <thead>\n",
       "    <tr style=\"text-align: right;\">\n",
       "      <th></th>\n",
       "      <th>ga:pageDepth</th>\n",
       "      <th>ga:sessionCount</th>\n",
       "      <th>ga:daysSinceLastSession</th>\n",
       "      <th>month_sin</th>\n",
       "      <th>month_cos</th>\n",
       "      <th>ga:productSKU_cete</th>\n",
       "    </tr>\n",
       "  </thead>\n",
       "  <tbody>\n",
       "    <tr>\n",
       "      <th>0</th>\n",
       "      <td>1</td>\n",
       "      <td>1</td>\n",
       "      <td>0</td>\n",
       "      <td>0.000000</td>\n",
       "      <td>1.0</td>\n",
       "      <td>0.024405</td>\n",
       "    </tr>\n",
       "    <tr>\n",
       "      <th>1</th>\n",
       "      <td>14</td>\n",
       "      <td>1</td>\n",
       "      <td>0</td>\n",
       "      <td>0.000000</td>\n",
       "      <td>1.0</td>\n",
       "      <td>0.024561</td>\n",
       "    </tr>\n",
       "    <tr>\n",
       "      <th>2</th>\n",
       "      <td>6</td>\n",
       "      <td>1</td>\n",
       "      <td>0</td>\n",
       "      <td>-0.866025</td>\n",
       "      <td>0.5</td>\n",
       "      <td>0.048494</td>\n",
       "    </tr>\n",
       "  </tbody>\n",
       "</table>\n",
       "</div>"
      ],
      "text/plain": [
       "   ga:pageDepth  ga:sessionCount  ga:daysSinceLastSession  month_sin  \\\n",
       "0             1                1                        0   0.000000   \n",
       "1            14                1                        0   0.000000   \n",
       "2             6                1                        0  -0.866025   \n",
       "\n",
       "   month_cos  ga:productSKU_cete  \n",
       "0        1.0            0.024405  \n",
       "1        1.0            0.024561  \n",
       "2        0.5            0.048494  "
      ]
     },
     "execution_count": 24,
     "metadata": {},
     "output_type": "execute_result"
    }
   ],
   "source": [
    "X_test.head(3)"
   ]
  },
  {
   "cell_type": "markdown",
   "id": "cathedral-release",
   "metadata": {},
   "source": [
    "##### Classifier"
   ]
  },
  {
   "cell_type": "code",
   "execution_count": null,
   "id": "bright-insulin",
   "metadata": {},
   "outputs": [],
   "source": [
    "from sklearn.ensemble import RandomForestClassifier\n",
    "clrf=RandomForestClassifier()\n",
    "evaluate(clrf,X_train, X_test, y_train, y_test)"
   ]
  },
  {
   "cell_type": "markdown",
   "id": "smooth-accountability",
   "metadata": {},
   "source": [
    "#### Day of week"
   ]
  },
  {
   "cell_type": "markdown",
   "id": "modified-rings",
   "metadata": {},
   "source": [
    "##### Data"
   ]
  },
  {
   "cell_type": "code",
   "execution_count": null,
   "id": "exact-seller",
   "metadata": {},
   "outputs": [],
   "source": [
    "#Split data\n",
    "y=df['ga:productAddsToCart_transf']\n",
    "X=df[['ga:pageDepth','ga:sessionCount','ga:daysSinceLastSession','ga:productSKU','month_sin','month_cos','dayofweek_sin','dayofweek_cos']]\n",
    "X['ga:productSKU']=X['ga:productSKU'].astype('str')\n",
    "X_train, X_test, y_train, y_test = train_test_split(X, y,random_state=42)\n",
    "\n",
    "# Target encoding of productSKU with train\n",
    "import category_encoders as ce\n",
    "encoder=ce.TargetEncoder(cols='ga:productSKU')\n",
    "X_train['ga:productSKU_cete']=encoder.fit_transform(X_train['ga:productSKU'],y_train)\n",
    "\n",
    "# 'Dictionary' of productSKU target encoding\n",
    "prod_target_encod= X_train[['ga:productSKU','ga:productSKU_cete']]\n",
    "prod_target_encod['ga:productSKU']=prod_target_encod['ga:productSKU'].astype('str')\n",
    "prod_target_encod.drop_duplicates(inplace=True)\n",
    "\n",
    "# productSKU target encoding in test according to fitting on train set:\n",
    "X_test = X_test.merge(prod_target_encod, left_on='ga:productSKU', right_on='ga:productSKU', how='left')\n",
    "\n",
    "# Filling missing values in X_test with the mean of the means:\n",
    "X_test['ga:productSKU_cete']=X_test['ga:productSKU_cete'].fillna(prod_target_encod['ga:productSKU_cete'].mean())\n",
    "\n",
    "# Drop 'ga:productSKU' in both train and test datasets:\n",
    "X_train=X_train.drop('ga:productSKU',axis=1)\n",
    "X_test=X_test.drop('ga:productSKU',axis=1)"
   ]
  },
  {
   "cell_type": "markdown",
   "id": "executive-processing",
   "metadata": {},
   "source": [
    "##### Classifier"
   ]
  },
  {
   "cell_type": "code",
   "execution_count": null,
   "id": "graphic-transfer",
   "metadata": {},
   "outputs": [],
   "source": [
    "from sklearn.ensemble import RandomForestClassifier\n",
    "clrf=RandomForestClassifier()\n",
    "evaluate(clrf,X_train, X_test, y_train, y_test)"
   ]
  },
  {
   "cell_type": "markdown",
   "id": "bulgarian-cradle",
   "metadata": {},
   "source": [
    "#### Hour"
   ]
  },
  {
   "cell_type": "markdown",
   "id": "superb-heather",
   "metadata": {},
   "source": [
    "##### Data"
   ]
  },
  {
   "cell_type": "code",
   "execution_count": null,
   "id": "convinced-contamination",
   "metadata": {},
   "outputs": [],
   "source": [
    "#Split data\n",
    "y=df['ga:productAddsToCart_transf']\n",
    "X=df[['ga:pageDepth','ga:sessionCount','ga:daysSinceLastSession','ga:productSKU','month_sin','month_cos','dayofweek_sin','dayofweek_cos','hour_sin','hour_cos']]\n",
    "X['ga:productSKU']=X['ga:productSKU'].astype('str')\n",
    "X_train, X_test, y_train, y_test = train_test_split(X, y,random_state=42)\n",
    "\n",
    "# Target encoding of productSKU with train\n",
    "import category_encoders as ce\n",
    "encoder=ce.TargetEncoder(cols='ga:productSKU')\n",
    "X_train['ga:productSKU_cete']=encoder.fit_transform(X_train['ga:productSKU'],y_train)\n",
    "\n",
    "# 'Dictionary' of productSKU target encoding\n",
    "prod_target_encod= X_train[['ga:productSKU','ga:productSKU_cete']]\n",
    "prod_target_encod['ga:productSKU']=prod_target_encod['ga:productSKU'].astype('str')\n",
    "prod_target_encod.drop_duplicates(inplace=True)\n",
    "\n",
    "# productSKU target encoding in test according to fitting on train set:\n",
    "X_test = X_test.merge(prod_target_encod, left_on='ga:productSKU', right_on='ga:productSKU', how='left')\n",
    "\n",
    "# Filling missing values in X_test with the mean of the means:\n",
    "X_test['ga:productSKU_cete']=X_test['ga:productSKU_cete'].fillna(prod_target_encod['ga:productSKU_cete'].mean())\n",
    "\n",
    "# Drop 'ga:productSKU' in both train and test datasets:\n",
    "X_train=X_train.drop('ga:productSKU',axis=1)\n",
    "X_test=X_test.drop('ga:productSKU',axis=1)"
   ]
  },
  {
   "cell_type": "markdown",
   "id": "muslim-alignment",
   "metadata": {},
   "source": [
    "##### Classifier"
   ]
  },
  {
   "cell_type": "code",
   "execution_count": null,
   "id": "bridal-prefix",
   "metadata": {},
   "outputs": [],
   "source": [
    "from sklearn.ensemble import RandomForestClassifier\n",
    "clrf=RandomForestClassifier()\n",
    "evaluate(clrf,X_train, X_test, y_train, y_test)"
   ]
  }
 ],
 "metadata": {
  "kernelspec": {
   "display_name": "Python 3",
   "language": "python",
   "name": "python3"
  },
  "language_info": {
   "codemirror_mode": {
    "name": "ipython",
    "version": 3
   },
   "file_extension": ".py",
   "mimetype": "text/x-python",
   "name": "python",
   "nbconvert_exporter": "python",
   "pygments_lexer": "ipython3",
   "version": "3.9.1"
  },
  "toc": {
   "base_numbering": 1,
   "nav_menu": {},
   "number_sections": true,
   "sideBar": true,
   "skip_h1_title": false,
   "title_cell": "Table of Contents",
   "title_sidebar": "Contents",
   "toc_cell": true,
   "toc_position": {
    "height": "calc(100% - 180px)",
    "left": "10px",
    "top": "150px",
    "width": "352px"
   },
   "toc_section_display": true,
   "toc_window_display": true
  }
 },
 "nbformat": 4,
 "nbformat_minor": 5
}
