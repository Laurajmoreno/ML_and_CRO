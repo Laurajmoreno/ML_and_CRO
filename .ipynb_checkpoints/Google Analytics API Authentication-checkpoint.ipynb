{
 "cells": [
  {
   "cell_type": "code",
   "execution_count": 1,
   "metadata": {},
   "outputs": [
    {
     "name": "stdout",
     "output_type": "stream",
     "text": [
      "  File \"HelloAnalytics.py\", line 76\r\n",
      "    print header + ': ' + dimension\r\n",
      "               ^\r\n",
      "SyntaxError: Missing parentheses in call to 'print'. Did you mean print(header + ': ' + dimension)?\r\n"
     ]
    }
   ],
   "source": [
    "! python HelloAnalytics.py"
   ]
  },
  {
   "cell_type": "code",
   "execution_count": 2,
   "metadata": {},
   "outputs": [
    {
     "name": "stdout",
     "output_type": "stream",
     "text": [
      "     1\t\"\"\"Hello Analytics Reporting API V4.\"\"\"\r\n",
      "     2\t\r\n",
      "     3\timport argparse\r\n",
      "     4\t\r\n",
      "     5\tfrom apiclient.discovery import build\r\n",
      "     6\timport httplib2\r\n",
      "     7\tfrom oauth2client import client\r\n",
      "     8\tfrom oauth2client import file\r\n",
      "     9\tfrom oauth2client import tools\r\n",
      "    10\t\r\n",
      "    11\tSCOPES = ['https://www.googleapis.com/auth/analytics.readonly']\r\n",
      "    12\tCLIENT_SECRETS_PATH = 'client_secrets.json' # Path to client_secrets.json file.\r\n",
      "    13\tVIEW_ID = '151304036'\r\n",
      "    14\t\r\n",
      "    15\t\r\n",
      "    16\tdef initialize_analyticsreporting():\r\n",
      "    17\t  \"\"\"Initializes the analyticsreporting service object.\r\n",
      "    18\t\r\n",
      "    19\t  Returns:\r\n",
      "    20\t    analytics an authorized analyticsreporting service object.\r\n",
      "    21\t  \"\"\"\r\n",
      "    22\t  # Parse command-line arguments.\r\n",
      "    23\t  parser = argparse.ArgumentParser(\r\n",
      "    24\t      formatter_class=argparse.RawDescriptionHelpFormatter,\r\n",
      "    25\t      parents=[tools.argparser])\r\n",
      "    26\t  flags = parser.parse_args([])\r\n",
      "    27\t\r\n",
      "    28\t  # Set up a Flow object to be used if we need to authenticate.\r\n",
      "    29\t  flow = client.flow_from_clientsecrets(\r\n",
      "    30\t      CLIENT_SECRETS_PATH, scope=SCOPES,\r\n",
      "    31\t      message=tools.message_if_missing(CLIENT_SECRETS_PATH))\r\n",
      "    32\t\r\n",
      "    33\t  # Prepare credentials, and authorize HTTP object with them.\r\n",
      "    34\t  # If the credentials don't exist or are invalid run through the native client\r\n",
      "    35\t  # flow. The Storage object will ensure that if successful the good\r\n",
      "    36\t  # credentials will get written back to a file.\r\n",
      "    37\t  storage = file.Storage('analyticsreporting.dat')\r\n",
      "    38\t  credentials = storage.get()\r\n",
      "    39\t  if credentials is None or credentials.invalid:\r\n",
      "    40\t    credentials = tools.run_flow(flow, storage, flags)\r\n",
      "    41\t  http = credentials.authorize(http=httplib2.Http())\r\n",
      "    42\t\r\n",
      "    43\t  # Build the service object.\r\n",
      "    44\t  analytics = build('analyticsreporting', 'v4', http=http)\r\n",
      "    45\t\r\n",
      "    46\t  return analytics\r\n",
      "    47\t\r\n",
      "    48\tdef get_report(analytics):\r\n",
      "    49\t  # Use the Analytics Service Object to query the Analytics Reporting API V4.\r\n",
      "    50\t  return analytics.reports().batchGet(\r\n",
      "    51\t      body={\r\n",
      "    52\t        'reportRequests': [\r\n",
      "    53\t        {\r\n",
      "    54\t          'viewId': VIEW_ID,\r\n",
      "    55\t          'dateRanges': [{'startDate': '7daysAgo', 'endDate': 'today'}],\r\n",
      "    56\t          'metrics': [{'expression': 'ga:sessions'}]\r\n",
      "    57\t        }]\r\n",
      "    58\t      }\r\n",
      "    59\t  ).execute()\r\n",
      "    60\t\r\n",
      "    61\t\r\n",
      "    62\tdef print_response(response):\r\n",
      "    63\t  \"\"\"Parses and prints the Analytics Reporting API V4 response\"\"\"\r\n",
      "    64\t\r\n",
      "    65\t  for report in response.get('reports', []):\r\n",
      "    66\t    columnHeader = report.get('columnHeader', {})\r\n",
      "    67\t    dimensionHeaders = columnHeader.get('dimensions', [])\r\n",
      "    68\t    metricHeaders = columnHeader.get('metricHeader', {}).get('metricHeaderEntries', [])\r\n",
      "    69\t    rows = report.get('data', {}).get('rows', [])\r\n",
      "    70\t\r\n",
      "    71\t    for row in rows:\r\n",
      "    72\t      dimensions = row.get('dimensions', [])\r\n",
      "    73\t      dateRangeValues = row.get('metrics', [])\r\n",
      "    74\t\r\n",
      "    75\t      for header, dimension in zip(dimensionHeaders, dimensions):\r\n",
      "    76\t        print header + ': ' + dimension\r\n",
      "    77\t\r\n",
      "    78\t      for i, values in enumerate(dateRangeValues):\r\n",
      "    79\t        print 'Date range (' + str(i) + ')'\r\n",
      "    80\t        for metricHeader, value in zip(metricHeaders, values.get('values')):\r\n",
      "    81\t          print metricHeader.get('name') + ': ' + value\r\n",
      "    82\t\r\n",
      "    83\t\r\n",
      "    84\tdef main():\r\n",
      "    85\t\r\n",
      "    86\t  analytics = initialize_analyticsreporting()\r\n",
      "    87\t  response = get_report(analytics)\r\n",
      "    88\t  print_response(response)\r\n",
      "    89\t\r\n",
      "    90\tif __name__ == '__main__':\r\n",
      "    91\t  main()\r\n",
      "    92\t\r\n"
     ]
    }
   ],
   "source": [
    "! cat -n HelloAnalytics.py"
   ]
  },
  {
   "cell_type": "code",
   "execution_count": 3,
   "metadata": {},
   "outputs": [
    {
     "name": "stdout",
     "output_type": "stream",
     "text": [
      "\r\n",
      "(gedit:3372): Gtk-\u001b[1;33mWARNING\u001b[0m **: \u001b[34m20:43:03.489\u001b[0m: Calling org.xfce.Session.Manager.Inhibit failed: GDBus.Error:org.freedesktop.DBus.Error.UnknownMethod: Method \"Inhibit\" with signature \"susu\" on interface \"org.xfce.Session.Manager\" doesn't exist\r\n",
      "\r\n"
     ]
    }
   ],
   "source": [
    "!gedit HelloAnalytics.py"
   ]
  },
  {
   "cell_type": "code",
   "execution_count": 4,
   "metadata": {},
   "outputs": [
    {
     "name": "stdout",
     "output_type": "stream",
     "text": [
      "  File \"HelloAnalytics.py\", line 79\r\n",
      "    print 'Date range (' + str(i) + ')'\r\n",
      "                       ^\r\n",
      "SyntaxError: invalid syntax\r\n"
     ]
    }
   ],
   "source": [
    "! python HelloAnalytics.py"
   ]
  },
  {
   "cell_type": "code",
   "execution_count": 5,
   "metadata": {},
   "outputs": [
    {
     "name": "stdout",
     "output_type": "stream",
     "text": [
      "\r\n",
      "(gedit:3389): Gtk-\u001b[1;33mWARNING\u001b[0m **: \u001b[34m20:43:48.995\u001b[0m: Calling org.xfce.Session.Manager.Inhibit failed: GDBus.Error:org.freedesktop.DBus.Error.UnknownMethod: Method \"Inhibit\" with signature \"susu\" on interface \"org.xfce.Session.Manager\" doesn't exist\r\n",
      "\r\n"
     ]
    }
   ],
   "source": [
    "!gedit HelloAnalytics.py"
   ]
  },
  {
   "cell_type": "code",
   "execution_count": 6,
   "metadata": {},
   "outputs": [
    {
     "name": "stdout",
     "output_type": "stream",
     "text": [
      "  File \"HelloAnalytics.py\", line 81\r\n",
      "    print metricHeader.get('name') + ': ' + value\r\n",
      "                     ^\r\n",
      "SyntaxError: invalid syntax\r\n"
     ]
    }
   ],
   "source": [
    "! python HelloAnalytics.py"
   ]
  },
  {
   "cell_type": "code",
   "execution_count": 7,
   "metadata": {},
   "outputs": [
    {
     "name": "stdout",
     "output_type": "stream",
     "text": [
      "\r\n",
      "(gedit:3399): Gtk-\u001b[1;33mWARNING\u001b[0m **: \u001b[34m20:44:29.260\u001b[0m: Calling org.xfce.Session.Manager.Inhibit failed: GDBus.Error:org.freedesktop.DBus.Error.UnknownMethod: Method \"Inhibit\" with signature \"susu\" on interface \"org.xfce.Session.Manager\" doesn't exist\r\n",
      "\r\n"
     ]
    }
   ],
   "source": [
    "!gedit HelloAnalytics.py"
   ]
  },
  {
   "cell_type": "code",
   "execution_count": 8,
   "metadata": {},
   "outputs": [
    {
     "name": "stdout",
     "output_type": "stream",
     "text": [
      "Traceback (most recent call last):\r\n",
      "  File \"HelloAnalytics.py\", line 7, in <module>\r\n",
      "    from oauth2client import client\r\n",
      "ModuleNotFoundError: No module named 'oauth2client'\r\n"
     ]
    }
   ],
   "source": [
    "! python HelloAnalytics.py"
   ]
  },
  {
   "cell_type": "code",
   "execution_count": 1,
   "metadata": {},
   "outputs": [
    {
     "name": "stdout",
     "output_type": "stream",
     "text": [
      "  File \"/home/dsc/TFM/kschool_masterDS_TFM/HelloAnalytics.py\", line 76\r\n",
      "    print header + ': ' + dimension\r\n",
      "          ^\r\n",
      "SyntaxError: Missing parentheses in call to 'print'. Did you mean print(header + ': ' + dimension)?\r\n"
     ]
    }
   ],
   "source": [
    "! python HelloAnalytics.py"
   ]
  },
  {
   "cell_type": "code",
   "execution_count": null,
   "metadata": {},
   "outputs": [],
   "source": []
  }
 ],
 "metadata": {
  "kernelspec": {
   "display_name": "Python 3",
   "language": "python",
   "name": "python3"
  },
  "language_info": {
   "codemirror_mode": {
    "name": "ipython",
    "version": 3
   },
   "file_extension": ".py",
   "mimetype": "text/x-python",
   "name": "python",
   "nbconvert_exporter": "python",
   "pygments_lexer": "ipython3",
   "version": "3.9.1"
  }
 },
 "nbformat": 4,
 "nbformat_minor": 2
}
