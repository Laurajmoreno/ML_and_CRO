{
 "cells": [
  {
   "cell_type": "markdown",
   "id": "capable-cleaners",
   "metadata": {
    "toc": true
   },
   "source": [
    "<h1>Table of Contents<span class=\"tocSkip\"></span></h1>\n",
    "<div class=\"toc\"><ul class=\"toc-item\"><li><span><a href=\"#DATA\" data-toc-modified-id=\"DATA-1\"><span class=\"toc-item-num\">1&nbsp;&nbsp;</span>DATA</a></span><ul class=\"toc-item\"><li><span><a href=\"#Dataset\" data-toc-modified-id=\"Dataset-1.1\"><span class=\"toc-item-num\">1.1&nbsp;&nbsp;</span>Dataset</a></span></li><li><span><a href=\"#Target\" data-toc-modified-id=\"Target-1.2\"><span class=\"toc-item-num\">1.2&nbsp;&nbsp;</span>Target</a></span></li></ul></li><li><span><a href=\"#Functions\" data-toc-modified-id=\"Functions-2\"><span class=\"toc-item-num\">2&nbsp;&nbsp;</span>Functions</a></span></li><li><span><a href=\"#Product-price\" data-toc-modified-id=\"Product-price-3\"><span class=\"toc-item-num\">3&nbsp;&nbsp;</span>Product price</a></span><ul class=\"toc-item\"><li><span><a href=\"#Merge-price-column-to-df\" data-toc-modified-id=\"Merge-price-column-to-df-3.1\"><span class=\"toc-item-num\">3.1&nbsp;&nbsp;</span>Merge price column to df</a></span></li><li><span><a href=\"#Exploratory-Analysis\" data-toc-modified-id=\"Exploratory-Analysis-3.2\"><span class=\"toc-item-num\">3.2&nbsp;&nbsp;</span>Exploratory Analysis</a></span></li><li><span><a href=\"#Dealing-with-NaNs\" data-toc-modified-id=\"Dealing-with-NaNs-3.3\"><span class=\"toc-item-num\">3.3&nbsp;&nbsp;</span>Dealing with NaNs</a></span></li></ul></li></ul></div>"
   ]
  },
  {
   "cell_type": "code",
   "execution_count": 23,
   "id": "impaired-contact",
   "metadata": {},
   "outputs": [],
   "source": [
    "import pandas as pd\n",
    "import numpy as np\n",
    "import matplotlib.pyplot as plt\n",
    "import seaborn as sns\n",
    "%matplotlib inline\n",
    "from scipy import stats\n",
    "import os"
   ]
  },
  {
   "cell_type": "markdown",
   "id": "fallen-retrieval",
   "metadata": {},
   "source": [
    "## DATA"
   ]
  },
  {
   "cell_type": "markdown",
   "id": "minus-heading",
   "metadata": {},
   "source": [
    "### Dataset"
   ]
  },
  {
   "cell_type": "code",
   "execution_count": 24,
   "id": "swiss-dealer",
   "metadata": {},
   "outputs": [
    {
     "name": "stderr",
     "output_type": "stream",
     "text": [
      "/home/dsc/TFM/kschool_masterDS_TFM/env/lib/python3.9/site-packages/IPython/core/interactiveshell.py:3165: DtypeWarning: Columns (1) have mixed types.Specify dtype option on import or set low_memory=False.\n",
      "  has_raised = await self.run_ast_nodes(code_ast.body, cell_name,\n"
     ]
    },
    {
     "name": "stdout",
     "output_type": "stream",
     "text": [
      "(3654882, 18)\n"
     ]
    },
    {
     "data": {
      "text/html": [
       "<div>\n",
       "<style scoped>\n",
       "    .dataframe tbody tr th:only-of-type {\n",
       "        vertical-align: middle;\n",
       "    }\n",
       "\n",
       "    .dataframe tbody tr th {\n",
       "        vertical-align: top;\n",
       "    }\n",
       "\n",
       "    .dataframe thead th {\n",
       "        text-align: right;\n",
       "    }\n",
       "</style>\n",
       "<table border=\"1\" class=\"dataframe\">\n",
       "  <thead>\n",
       "    <tr style=\"text-align: right;\">\n",
       "      <th></th>\n",
       "      <th>Unnamed: 0</th>\n",
       "      <th>ga:productSKU</th>\n",
       "      <th>ga:dateHourMinute</th>\n",
       "      <th>ga:pagePath</th>\n",
       "      <th>ga:pageDepth</th>\n",
       "      <th>ga:userType</th>\n",
       "      <th>ga:sessionCount</th>\n",
       "      <th>ga:daysSinceLastSession</th>\n",
       "      <th>ga:landingPagePath</th>\n",
       "      <th>ga:campaign</th>\n",
       "      <th>ga:sourceMedium</th>\n",
       "      <th>ga:city</th>\n",
       "      <th>ga:deviceCategory</th>\n",
       "      <th>ga:operatingSystem</th>\n",
       "      <th>ga:productListViews</th>\n",
       "      <th>ga:productListClicks</th>\n",
       "      <th>ga:productDetailViews</th>\n",
       "      <th>ga:productAddsToCart</th>\n",
       "    </tr>\n",
       "  </thead>\n",
       "  <tbody>\n",
       "    <tr>\n",
       "      <th>0</th>\n",
       "      <td>0</td>\n",
       "      <td>1008</td>\n",
       "      <td>201904301452</td>\n",
       "      <td>/parafarmacia/es/</td>\n",
       "      <td>1</td>\n",
       "      <td>New Visitor</td>\n",
       "      <td>1</td>\n",
       "      <td>0</td>\n",
       "      <td>/parafarmacia/es/</td>\n",
       "      <td>(not set)</td>\n",
       "      <td>(direct) / (none)</td>\n",
       "      <td>Burgos</td>\n",
       "      <td>mobile</td>\n",
       "      <td>iOS</td>\n",
       "      <td>1</td>\n",
       "      <td>0</td>\n",
       "      <td>0</td>\n",
       "      <td>0</td>\n",
       "    </tr>\n",
       "    <tr>\n",
       "      <th>1</th>\n",
       "      <td>1</td>\n",
       "      <td>1008</td>\n",
       "      <td>201904301524</td>\n",
       "      <td>/parafarmacia/es/</td>\n",
       "      <td>3</td>\n",
       "      <td>New Visitor</td>\n",
       "      <td>1</td>\n",
       "      <td>0</td>\n",
       "      <td>/parafarmacia/es/</td>\n",
       "      <td>(not set)</td>\n",
       "      <td>(direct) / (none)</td>\n",
       "      <td>Madrid</td>\n",
       "      <td>desktop</td>\n",
       "      <td>Windows</td>\n",
       "      <td>1</td>\n",
       "      <td>0</td>\n",
       "      <td>0</td>\n",
       "      <td>0</td>\n",
       "    </tr>\n",
       "    <tr>\n",
       "      <th>2</th>\n",
       "      <td>2</td>\n",
       "      <td>1008</td>\n",
       "      <td>201904301545</td>\n",
       "      <td>/parafarmacia/es/</td>\n",
       "      <td>7</td>\n",
       "      <td>Returning Visitor</td>\n",
       "      <td>33</td>\n",
       "      <td>0</td>\n",
       "      <td>/parafarmacia/es/</td>\n",
       "      <td>(not set)</td>\n",
       "      <td>merchants.google.com / referral</td>\n",
       "      <td>Zamudio</td>\n",
       "      <td>desktop</td>\n",
       "      <td>Windows</td>\n",
       "      <td>1</td>\n",
       "      <td>0</td>\n",
       "      <td>0</td>\n",
       "      <td>0</td>\n",
       "    </tr>\n",
       "  </tbody>\n",
       "</table>\n",
       "</div>"
      ],
      "text/plain": [
       "   Unnamed: 0 ga:productSKU  ga:dateHourMinute        ga:pagePath  \\\n",
       "0           0          1008       201904301452  /parafarmacia/es/   \n",
       "1           1          1008       201904301524  /parafarmacia/es/   \n",
       "2           2          1008       201904301545  /parafarmacia/es/   \n",
       "\n",
       "   ga:pageDepth        ga:userType  ga:sessionCount  ga:daysSinceLastSession  \\\n",
       "0             1        New Visitor                1                        0   \n",
       "1             3        New Visitor                1                        0   \n",
       "2             7  Returning Visitor               33                        0   \n",
       "\n",
       "  ga:landingPagePath ga:campaign                  ga:sourceMedium  ga:city  \\\n",
       "0  /parafarmacia/es/   (not set)                (direct) / (none)   Burgos   \n",
       "1  /parafarmacia/es/   (not set)                (direct) / (none)   Madrid   \n",
       "2  /parafarmacia/es/   (not set)  merchants.google.com / referral  Zamudio   \n",
       "\n",
       "  ga:deviceCategory ga:operatingSystem  ga:productListViews  \\\n",
       "0            mobile                iOS                    1   \n",
       "1           desktop            Windows                    1   \n",
       "2           desktop            Windows                    1   \n",
       "\n",
       "   ga:productListClicks  ga:productDetailViews  ga:productAddsToCart  \n",
       "0                     0                      0                     0  \n",
       "1                     0                      0                     0  \n",
       "2                     0                      0                     0  "
      ]
     },
     "execution_count": 24,
     "metadata": {},
     "output_type": "execute_result"
    }
   ],
   "source": [
    "data_root=\"../data/\"\n",
    "datafile=os.path.join(data_root,'dfjoin_usertype_Scount_daysSLS_landing_campaign_srceMed_city_device_OS_2019_2020_jan21.csv')\n",
    "df=pd.read_csv(datafile)\n",
    "print(df.shape)\n",
    "df.head(3)"
   ]
  },
  {
   "cell_type": "code",
   "execution_count": 25,
   "id": "thrown-dinner",
   "metadata": {},
   "outputs": [
    {
     "name": "stdout",
     "output_type": "stream",
     "text": [
      "(3654882, 17)\n",
      "\n",
      "<class 'pandas.core.frame.DataFrame'>\n",
      "RangeIndex: 3654882 entries, 0 to 3654881\n",
      "Data columns (total 17 columns):\n",
      " #   Column                   Dtype \n",
      "---  ------                   ----- \n",
      " 0   ga:productSKU            object\n",
      " 1   ga:dateHourMinute        int64 \n",
      " 2   ga:pagePath              object\n",
      " 3   ga:pageDepth             int64 \n",
      " 4   ga:userType              object\n",
      " 5   ga:sessionCount          int64 \n",
      " 6   ga:daysSinceLastSession  int64 \n",
      " 7   ga:landingPagePath       object\n",
      " 8   ga:campaign              object\n",
      " 9   ga:sourceMedium          object\n",
      " 10  ga:city                  object\n",
      " 11  ga:deviceCategory        object\n",
      " 12  ga:operatingSystem       object\n",
      " 13  ga:productListViews      int64 \n",
      " 14  ga:productListClicks     int64 \n",
      " 15  ga:productDetailViews    int64 \n",
      " 16  ga:productAddsToCart     int64 \n",
      "dtypes: int64(8), object(9)\n",
      "memory usage: 474.0+ MB\n"
     ]
    }
   ],
   "source": [
    "df.drop('Unnamed: 0', axis=1, inplace=True)\n",
    "print(df.shape)\n",
    "print(\"\")\n",
    "df.info()"
   ]
  },
  {
   "cell_type": "markdown",
   "id": "engaging-disease",
   "metadata": {},
   "source": [
    "### Target"
   ]
  },
  {
   "cell_type": "code",
   "execution_count": 26,
   "id": "duplicate-geneva",
   "metadata": {},
   "outputs": [
    {
     "name": "stdout",
     "output_type": "stream",
     "text": [
      "No. observations per class\n",
      "0    3586668\n",
      "1      68214\n",
      "Name: ga:productAddsToCart_transf, dtype: int64\n",
      "\n",
      "% observations per class\n",
      "0    98.13362\n",
      "1     1.86638\n",
      "Name: ga:productAddsToCart_transf, dtype: float64\n"
     ]
    }
   ],
   "source": [
    "df['ga:productAddsToCart_transf']=df[\"ga:productAddsToCart\"].apply(lambda x: 1 if x>1 else x)\n",
    "\n",
    "print(\"No. observations per class\")\n",
    "print(df['ga:productAddsToCart_transf'].value_counts())\n",
    "print(\"\")\n",
    "\n",
    "print(\"% observations per class\")\n",
    "print(100*df['ga:productAddsToCart_transf'].value_counts(normalize=True))"
   ]
  },
  {
   "cell_type": "markdown",
   "id": "ordinary-venice",
   "metadata": {},
   "source": [
    "## Functions"
   ]
  },
  {
   "cell_type": "markdown",
   "id": "assisted-bachelor",
   "metadata": {},
   "source": [
    "## Product price"
   ]
  },
  {
   "cell_type": "markdown",
   "id": "finished-choice",
   "metadata": {},
   "source": [
    "### Merge price column to df"
   ]
  },
  {
   "cell_type": "code",
   "execution_count": 27,
   "id": "international-thing",
   "metadata": {},
   "outputs": [
    {
     "data": {
      "text/html": [
       "<div>\n",
       "<style scoped>\n",
       "    .dataframe tbody tr th:only-of-type {\n",
       "        vertical-align: middle;\n",
       "    }\n",
       "\n",
       "    .dataframe tbody tr th {\n",
       "        vertical-align: top;\n",
       "    }\n",
       "\n",
       "    .dataframe thead th {\n",
       "        text-align: right;\n",
       "    }\n",
       "</style>\n",
       "<table border=\"1\" class=\"dataframe\">\n",
       "  <thead>\n",
       "    <tr style=\"text-align: right;\">\n",
       "      <th></th>\n",
       "      <th>Product ID</th>\n",
       "      <th>Imagen</th>\n",
       "      <th>Nombre</th>\n",
       "      <th>Referencia</th>\n",
       "      <th>Categoría</th>\n",
       "      <th>Precio (imp. excl.)</th>\n",
       "      <th>Precio (imp. incl.)</th>\n",
       "      <th>Cantidad</th>\n",
       "      <th>Estado</th>\n",
       "      <th>Posición</th>\n",
       "    </tr>\n",
       "  </thead>\n",
       "  <tbody>\n",
       "    <tr>\n",
       "      <th>0</th>\n",
       "      <td>7878</td>\n",
       "      <td>https://www.galileo61.com/6882/my-organics-70-...</td>\n",
       "      <td>My organics 7.0 Rubio / Blonde</td>\n",
       "      <td>NaN</td>\n",
       "      <td>Novedades</td>\n",
       "      <td>12.314050</td>\n",
       "      <td>14.9</td>\n",
       "      <td>50.0</td>\n",
       "      <td>0</td>\n",
       "      <td>NaN</td>\n",
       "    </tr>\n",
       "    <tr>\n",
       "      <th>1</th>\n",
       "      <td>7877</td>\n",
       "      <td>https://www.galileo61.com/6881/my-organics-80-...</td>\n",
       "      <td>My Organics 8.0 Rubio Claro / Light Blonde</td>\n",
       "      <td>NaN</td>\n",
       "      <td>Baño e higiene personal</td>\n",
       "      <td>12.314050</td>\n",
       "      <td>14.9</td>\n",
       "      <td>50.0</td>\n",
       "      <td>0</td>\n",
       "      <td>NaN</td>\n",
       "    </tr>\n",
       "    <tr>\n",
       "      <th>2</th>\n",
       "      <td>7876</td>\n",
       "      <td>https://www.galileo61.com/6880/aceite-corporal...</td>\n",
       "      <td>Aceite corporal quemagrasas tacto seco Fat bur...</td>\n",
       "      <td>NaN</td>\n",
       "      <td>Reafirmantes.</td>\n",
       "      <td>61.983471</td>\n",
       "      <td>75.0</td>\n",
       "      <td>40.0</td>\n",
       "      <td>0</td>\n",
       "      <td>NaN</td>\n",
       "    </tr>\n",
       "    <tr>\n",
       "      <th>3</th>\n",
       "      <td>7875</td>\n",
       "      <td>https://www.galileo61.com/6879/aceite-anticelu...</td>\n",
       "      <td>Aceite anticelulítico tacto seco: Slimming Oil...</td>\n",
       "      <td>NaN</td>\n",
       "      <td>Inicio</td>\n",
       "      <td>74.380165</td>\n",
       "      <td>90.0</td>\n",
       "      <td>40.0</td>\n",
       "      <td>0</td>\n",
       "      <td>NaN</td>\n",
       "    </tr>\n",
       "    <tr>\n",
       "      <th>4</th>\n",
       "      <td>7874</td>\n",
       "      <td>https://www.galileo61.com/6878/aceite-reafirma...</td>\n",
       "      <td>Aceite reafirmante tacto seco Firming Oil 50ml...</td>\n",
       "      <td>NaN</td>\n",
       "      <td>Reafirmantes.</td>\n",
       "      <td>57.851240</td>\n",
       "      <td>70.0</td>\n",
       "      <td>40.0</td>\n",
       "      <td>0</td>\n",
       "      <td>NaN</td>\n",
       "    </tr>\n",
       "  </tbody>\n",
       "</table>\n",
       "</div>"
      ],
      "text/plain": [
       "   Product ID                                             Imagen  \\\n",
       "0        7878  https://www.galileo61.com/6882/my-organics-70-...   \n",
       "1        7877  https://www.galileo61.com/6881/my-organics-80-...   \n",
       "2        7876  https://www.galileo61.com/6880/aceite-corporal...   \n",
       "3        7875  https://www.galileo61.com/6879/aceite-anticelu...   \n",
       "4        7874  https://www.galileo61.com/6878/aceite-reafirma...   \n",
       "\n",
       "                                              Nombre Referencia  \\\n",
       "0                     My organics 7.0 Rubio / Blonde        NaN   \n",
       "1         My Organics 8.0 Rubio Claro / Light Blonde        NaN   \n",
       "2  Aceite corporal quemagrasas tacto seco Fat bur...        NaN   \n",
       "3  Aceite anticelulítico tacto seco: Slimming Oil...        NaN   \n",
       "4  Aceite reafirmante tacto seco Firming Oil 50ml...        NaN   \n",
       "\n",
       "                 Categoría  Precio (imp. excl.)  Precio (imp. incl.)  \\\n",
       "0                Novedades            12.314050                 14.9   \n",
       "1  Baño e higiene personal            12.314050                 14.9   \n",
       "2            Reafirmantes.            61.983471                 75.0   \n",
       "3                   Inicio            74.380165                 90.0   \n",
       "4            Reafirmantes.            57.851240                 70.0   \n",
       "\n",
       "   Cantidad  Estado  Posición  \n",
       "0      50.0       0       NaN  \n",
       "1      50.0       0       NaN  \n",
       "2      40.0       0       NaN  \n",
       "3      40.0       0       NaN  \n",
       "4      40.0       0       NaN  "
      ]
     },
     "execution_count": 27,
     "metadata": {},
     "output_type": "execute_result"
    }
   ],
   "source": [
    "# Product Catalog dataset\n",
    "prod_datafile=os.path.join(data_root,'product_2021-02-09_103558.csv')\n",
    "prod_info=pd.read_csv(prod_datafile,sep=\";\")\n",
    "prod_info.head(5)"
   ]
  },
  {
   "cell_type": "code",
   "execution_count": 28,
   "id": "valuable-strategy",
   "metadata": {},
   "outputs": [
    {
     "name": "stdout",
     "output_type": "stream",
     "text": [
      "<class 'pandas.core.frame.DataFrame'>\n",
      "RangeIndex: 3899 entries, 0 to 3898\n",
      "Data columns (total 10 columns):\n",
      " #   Column               Non-Null Count  Dtype  \n",
      "---  ------               --------------  -----  \n",
      " 0   Product ID           3899 non-null   int64  \n",
      " 1   Imagen               3899 non-null   object \n",
      " 2   Nombre               3898 non-null   object \n",
      " 3   Referencia           3386 non-null   object \n",
      " 4   Categoría            3660 non-null   object \n",
      " 5   Precio (imp. excl.)  3899 non-null   float64\n",
      " 6   Precio (imp. incl.)  3899 non-null   float64\n",
      " 7   Cantidad             3898 non-null   float64\n",
      " 8   Estado               3899 non-null   int64  \n",
      " 9   Posición             0 non-null      float64\n",
      "dtypes: float64(4), int64(2), object(4)\n",
      "memory usage: 304.7+ KB\n"
     ]
    }
   ],
   "source": [
    "prod_info.info()"
   ]
  },
  {
   "cell_type": "code",
   "execution_count": 29,
   "id": "gentle-asbestos",
   "metadata": {},
   "outputs": [
    {
     "name": "stdout",
     "output_type": "stream",
     "text": [
      "<class 'pandas.core.frame.DataFrame'>\n",
      "RangeIndex: 3899 entries, 0 to 3898\n",
      "Data columns (total 2 columns):\n",
      " #   Column               Non-Null Count  Dtype  \n",
      "---  ------               --------------  -----  \n",
      " 0   Product ID           3899 non-null   int64  \n",
      " 1   Precio (imp. incl.)  3899 non-null   float64\n",
      "dtypes: float64(1), int64(1)\n",
      "memory usage: 61.0 KB\n"
     ]
    }
   ],
   "source": [
    "prod_price_info=prod_info[['Product ID','Precio (imp. incl.)']]\n",
    "prod_price_info.info()"
   ]
  },
  {
   "cell_type": "code",
   "execution_count": 30,
   "id": "democratic-pickup",
   "metadata": {},
   "outputs": [
    {
     "name": "stderr",
     "output_type": "stream",
     "text": [
      "<ipython-input-30-53f9f9fa6b5c>:2: SettingWithCopyWarning: \n",
      "A value is trying to be set on a copy of a slice from a DataFrame.\n",
      "Try using .loc[row_indexer,col_indexer] = value instead\n",
      "\n",
      "See the caveats in the documentation: https://pandas.pydata.org/pandas-docs/stable/user_guide/indexing.html#returning-a-view-versus-a-copy\n",
      "  prod_price_info['Product ID']=prod_price_info['Product ID'].astype('str')\n"
     ]
    },
    {
     "name": "stdout",
     "output_type": "stream",
     "text": [
      "<class 'pandas.core.frame.DataFrame'>\n",
      "Int64Index: 3654882 entries, 0 to 3654881\n",
      "Data columns (total 19 columns):\n",
      " #   Column                       Dtype  \n",
      "---  ------                       -----  \n",
      " 0   ga:productSKU                object \n",
      " 1   ga:dateHourMinute            int64  \n",
      " 2   ga:pagePath                  object \n",
      " 3   ga:pageDepth                 int64  \n",
      " 4   ga:userType                  object \n",
      " 5   ga:sessionCount              int64  \n",
      " 6   ga:daysSinceLastSession      int64  \n",
      " 7   ga:landingPagePath           object \n",
      " 8   ga:campaign                  object \n",
      " 9   ga:sourceMedium              object \n",
      " 10  ga:city                      object \n",
      " 11  ga:deviceCategory            object \n",
      " 12  ga:operatingSystem           object \n",
      " 13  ga:productListViews          int64  \n",
      " 14  ga:productListClicks         int64  \n",
      " 15  ga:productDetailViews        int64  \n",
      " 16  ga:productAddsToCart         int64  \n",
      " 17  ga:productAddsToCart_transf  int64  \n",
      " 18  Precio (imp. incl.)          float64\n",
      "dtypes: float64(1), int64(9), object(9)\n",
      "memory usage: 557.7+ MB\n"
     ]
    }
   ],
   "source": [
    "df['ga:productSKU']= df['ga:productSKU'].astype('str')\n",
    "prod_price_info['Product ID']=prod_price_info['Product ID'].astype('str')\n",
    "df = df.merge(prod_price_info,left_on='ga:productSKU', right_on='Product ID',how='left')\n",
    "df.drop('Product ID',axis=1,inplace=True)\n",
    "df.info()"
   ]
  },
  {
   "cell_type": "code",
   "execution_count": 31,
   "id": "aware-arbor",
   "metadata": {},
   "outputs": [
    {
     "name": "stdout",
     "output_type": "stream",
     "text": [
      "<class 'pandas.core.frame.DataFrame'>\n",
      "Int64Index: 3654882 entries, 0 to 3654881\n",
      "Data columns (total 19 columns):\n",
      " #   Column                       Dtype  \n",
      "---  ------                       -----  \n",
      " 0   ga:productSKU                object \n",
      " 1   ga:dateHourMinute            int64  \n",
      " 2   ga:pagePath                  object \n",
      " 3   ga:pageDepth                 int64  \n",
      " 4   ga:userType                  object \n",
      " 5   ga:sessionCount              int64  \n",
      " 6   ga:daysSinceLastSession      int64  \n",
      " 7   ga:landingPagePath           object \n",
      " 8   ga:campaign                  object \n",
      " 9   ga:sourceMedium              object \n",
      " 10  ga:city                      object \n",
      " 11  ga:deviceCategory            object \n",
      " 12  ga:operatingSystem           object \n",
      " 13  ga:productListViews          int64  \n",
      " 14  ga:productListClicks         int64  \n",
      " 15  ga:productDetailViews        int64  \n",
      " 16  ga:productAddsToCart         int64  \n",
      " 17  ga:productAddsToCart_transf  int64  \n",
      " 18  Product_price                float64\n",
      "dtypes: float64(1), int64(9), object(9)\n",
      "memory usage: 557.7+ MB\n"
     ]
    }
   ],
   "source": [
    "df.rename(columns={\"Precio (imp. incl.)\": \"Product_price\"}, inplace=True)\n",
    "df.info()"
   ]
  },
  {
   "cell_type": "markdown",
   "id": "mobile-luxury",
   "metadata": {},
   "source": [
    "### Exploratory Analysis"
   ]
  },
  {
   "cell_type": "code",
   "execution_count": 32,
   "id": "arbitrary-hindu",
   "metadata": {},
   "outputs": [
    {
     "data": {
      "text/plain": [
       "count    3.344233e+06\n",
       "mean     3.496070e+01\n",
       "std      3.450897e+01\n",
       "min      0.000000e+00\n",
       "25%      1.150000e+01\n",
       "50%      2.765000e+01\n",
       "75%      4.500000e+01\n",
       "max      2.834000e+02\n",
       "Name: Product_price, dtype: float64"
      ]
     },
     "execution_count": 32,
     "metadata": {},
     "output_type": "execute_result"
    }
   ],
   "source": [
    "df['Product_price'].describe()"
   ]
  },
  {
   "cell_type": "code",
   "execution_count": 33,
   "id": "tender-dating",
   "metadata": {},
   "outputs": [
    {
     "data": {
      "image/png": "[encoded data removed]",
      "text/plain": [
       "<Figure size 1080x360 with 1 Axes>"
      ]
     },
     "metadata": {
      "needs_background": "light"
     },
     "output_type": "display_data"
    }
   ],
   "source": [
    "plt.figure(figsize=(15,5))\n",
    "plt.hist(df['Product_price'],bins=60)\n",
    "plt.axvline(x=np.mean(df['Product_price']), c= \"green\")\n",
    "plt.axvline(x=np.nanpercentile(df['Product_price'],25), c= \"red\")\n",
    "plt.axvline(x=np.nanpercentile(df['Product_price'],50), c= \"red\")\n",
    "plt.axvline(x=np.nanpercentile(df['Product_price'],75), c= \"red\")\n",
    "plt.axvline(x=np.nanpercentile(df['Product_price'],90), c= \"red\")\n",
    "plt.show();"
   ]
  },
  {
   "cell_type": "code",
   "execution_count": 34,
   "id": "manual-monitoring",
   "metadata": {},
   "outputs": [
    {
     "name": "stderr",
     "output_type": "stream",
     "text": [
      "/home/dsc/TFM/kschool_masterDS_TFM/env/lib/python3.9/site-packages/seaborn/distributions.py:2557: FutureWarning: `distplot` is a deprecated function and will be removed in a future version. Please adapt your code to use either `displot` (a figure-level function with similar flexibility) or `histplot` (an axes-level function for histograms).\n",
      "  warnings.warn(msg, FutureWarning)\n"
     ]
    },
    {
     "data": {
      "image/png": "[encoded data removed]",
      "text/plain": [
       "<Figure size 1080x360 with 1 Axes>"
      ]
     },
     "metadata": {
      "needs_background": "light"
     },
     "output_type": "display_data"
    }
   ],
   "source": [
    "plt.figure(figsize=(15,5))\n",
    "sns.distplot(df['Product_price'].dropna().astype(float))\n",
    "plt.axvline(x=np.mean(df['Product_price']), c= \"green\")\n",
    "plt.axvline(x=np.nanpercentile(df['Product_price'],25), c= \"red\")\n",
    "plt.axvline(x=np.nanpercentile(df['Product_price'],50), c= \"red\")\n",
    "plt.axvline(x=np.nanpercentile(df['Product_price'],75), c= \"red\")\n",
    "plt.axvline(x=np.nanpercentile(df['Product_price'],90), c= \"red\")\n",
    "plt.show();"
   ]
  },
  {
   "cell_type": "code",
   "execution_count": 35,
   "id": "floral-syndicate",
   "metadata": {},
   "outputs": [
    {
     "data": {
      "text/plain": [
       "<AxesSubplot:xlabel='ga:productAddsToCart_transf', ylabel='Product_price'>"
      ]
     },
     "execution_count": 35,
     "metadata": {},
     "output_type": "execute_result"
    },
    {
     "data": {
      "image/png": "[encoded data removed]",
      "text/plain": [
       "<Figure size 432x288 with 1 Axes>"
      ]
     },
     "metadata": {
      "needs_background": "light"
     },
     "output_type": "display_data"
    }
   ],
   "source": [
    "sns.boxplot(data=df,x=df['ga:productAddsToCart_transf'],y=df['Product_price'])"
   ]
  },
  {
   "cell_type": "code",
   "execution_count": 36,
   "id": "photographic-savings",
   "metadata": {},
   "outputs": [
    {
     "data": {
      "text/plain": [
       "<AxesSubplot:xlabel='ga:productAddsToCart_transf', ylabel='Product_price'>"
      ]
     },
     "execution_count": 36,
     "metadata": {},
     "output_type": "execute_result"
    },
    {
     "data": {
      "image/png": "[encoded data removed]",
      "text/plain": [
       "<Figure size 432x288 with 1 Axes>"
      ]
     },
     "metadata": {
      "needs_background": "light"
     },
     "output_type": "display_data"
    }
   ],
   "source": [
    "sns.boxenplot(data=df,x=df['ga:productAddsToCart_transf'],y=df['Product_price'])"
   ]
  },
  {
   "cell_type": "code",
   "execution_count": 37,
   "id": "abandoned-constitutional",
   "metadata": {},
   "outputs": [
    {
     "data": {
      "text/plain": [
       "count    62555.000000\n",
       "mean        36.573690\n",
       "std         26.949414\n",
       "min          0.000000\n",
       "25%         19.950000\n",
       "50%         31.900000\n",
       "75%         44.900000\n",
       "max        283.400000\n",
       "Name: Product_price, dtype: float64"
      ]
     },
     "execution_count": 37,
     "metadata": {},
     "output_type": "execute_result"
    }
   ],
   "source": [
    "df[df[\"ga:productAddsToCart_transf\"]==1]['Product_price'].describe()"
   ]
  },
  {
   "cell_type": "code",
   "execution_count": 38,
   "id": "dangerous-threat",
   "metadata": {},
   "outputs": [
    {
     "data": {
      "text/plain": [
       "count    3.281678e+06\n",
       "mean     3.492996e+01\n",
       "std      3.463632e+01\n",
       "min      0.000000e+00\n",
       "25%      1.111000e+01\n",
       "50%      2.700000e+01\n",
       "75%      4.500000e+01\n",
       "max      2.834000e+02\n",
       "Name: Product_price, dtype: float64"
      ]
     },
     "execution_count": 38,
     "metadata": {},
     "output_type": "execute_result"
    }
   ],
   "source": [
    "df[df[\"ga:productAddsToCart_transf\"]==0]['Product_price'].describe()"
   ]
  },
  {
   "cell_type": "markdown",
   "id": "dedicated-transaction",
   "metadata": {},
   "source": [
    "Veamos si efectivamente las medianas son significativamente diferentes. Para ello, aplicaremos el test Mam Withney U que establece como Ho que ambas medianas son iguales. \n",
    "\n",
    "He escogido este test frente a Wilcoxon Test por la diferencia en la dispersión de los datos que se ha señalado anteriormente. Mientras que Wilcoxon requiere que las 2 desviaciones tipocas sean igual, Mam Whitney no. (CONSULTAR PROFE - no se como interpretar en este caso muestras relacionadas o independientes)."
   ]
  },
  {
   "cell_type": "code",
   "execution_count": 39,
   "id": "endless-aerospace",
   "metadata": {},
   "outputs": [
    {
     "data": {
      "text/plain": [
       "MannwhitneyuResult(statistic=110697441680.5, pvalue=0.0)"
      ]
     },
     "execution_count": 39,
     "metadata": {},
     "output_type": "execute_result"
    }
   ],
   "source": [
    "stats.mannwhitneyu(df[df['ga:productAddsToCart_transf']==1]['Product_price'], df[df['ga:productAddsToCart_transf']==0]['Product_price'])"
   ]
  },
  {
   "cell_type": "markdown",
   "id": "outside-delay",
   "metadata": {},
   "source": [
    "P-value es menor a 5%. Rechazamos Ho y podemos afirmar que las medianas de ambas distribuciones son diferentes y por lo tanto existen diferencias significativas entre ambas. "
   ]
  },
  {
   "cell_type": "markdown",
   "id": "rational-procurement",
   "metadata": {},
   "source": [
    "### Dealing with NaNs"
   ]
  },
  {
   "cell_type": "code",
   "execution_count": 40,
   "id": "agricultural-india",
   "metadata": {},
   "outputs": [
    {
     "data": {
      "text/plain": [
       "(3654882, 19)"
      ]
     },
     "execution_count": 40,
     "metadata": {},
     "output_type": "execute_result"
    }
   ],
   "source": [
    "df.shape"
   ]
  },
  {
   "cell_type": "code",
   "execution_count": 41,
   "id": "recorded-appointment",
   "metadata": {},
   "outputs": [
    {
     "data": {
      "text/plain": [
       "(310649, 19)"
      ]
     },
     "execution_count": 41,
     "metadata": {},
     "output_type": "execute_result"
    }
   ],
   "source": [
    "df[df['Product_price'].isna()].shape"
   ]
  },
  {
   "cell_type": "code",
   "execution_count": 42,
   "id": "champion-integrity",
   "metadata": {},
   "outputs": [
    {
     "data": {
      "text/plain": [
       "1800"
      ]
     },
     "execution_count": 42,
     "metadata": {},
     "output_type": "execute_result"
    }
   ],
   "source": [
    "na_rows = df[df['Product_price'].isna()]\n",
    "na_rows['ga:productSKU'].nunique()"
   ]
  },
  {
   "cell_type": "code",
   "execution_count": 43,
   "id": "vulnerable-accident",
   "metadata": {},
   "outputs": [
    {
     "data": {
      "text/plain": [
       "1113    34568\n",
       "1009    29629\n",
       "973     28052\n",
       "1159    27980\n",
       "1161    13464\n",
       "        ...  \n",
       "3830        1\n",
       "3568        1\n",
       "1556        1\n",
       "2731        1\n",
       "2209        1\n",
       "Name: ga:productSKU, Length: 1800, dtype: int64"
      ]
     },
     "execution_count": 43,
     "metadata": {},
     "output_type": "execute_result"
    }
   ],
   "source": [
    "na_rows['ga:productSKU'].value_counts()"
   ]
  },
  {
   "cell_type": "markdown",
   "id": "bridal-rouge",
   "metadata": {},
   "source": [
    "Lo ideal a la hora de imputar los NaNs sería calcular el precio medio (o mediana) para cada una de las categorías a las que pertenece cada producto. Es previsible que el rango de precios no sea el mismo para una crema que para unas tiritas. \n",
    "\n",
    "De momento no contamos con ese dato, asi que optaremos por imputar la mediana global, para contrarrestar el sesgo que produce la larga cola que se aprecia en el histograma y el boxplot.\n",
    "\n",
    "ACLARACION: La columna 'Categoría' del Catalogo de productos de Prestashop que hemos utilizado para importar los precios, no corresponde a la categoría del producto propiamente dicha sino a la página a la que se encuentra anidada el producto en la web en el momento en el que se descargó el catalógo. "
   ]
  },
  {
   "cell_type": "code",
   "execution_count": 44,
   "id": "going-coalition",
   "metadata": {},
   "outputs": [
    {
     "data": {
      "text/plain": [
       "False"
      ]
     },
     "execution_count": 44,
     "metadata": {},
     "output_type": "execute_result"
    }
   ],
   "source": [
    "df['Product_price'].fillna(df['Product_price'].median(),inplace=True)\n",
    "df['Product_price'].isna().any()"
   ]
  }
 ],
 "metadata": {
  "kernelspec": {
   "display_name": "Python 3",
   "language": "python",
   "name": "python3"
  },
  "language_info": {
   "codemirror_mode": {
    "name": "ipython",
    "version": 3
   },
   "file_extension": ".py",
   "mimetype": "text/x-python",
   "name": "python",
   "nbconvert_exporter": "python",
   "pygments_lexer": "ipython3",
   "version": "3.9.1"
  },
  "toc": {
   "base_numbering": 1,
   "nav_menu": {},
   "number_sections": true,
   "sideBar": true,
   "skip_h1_title": false,
   "title_cell": "Table of Contents",
   "title_sidebar": "Contents",
   "toc_cell": true,
   "toc_position": {},
   "toc_section_display": true,
   "toc_window_display": true
  }
 },
 "nbformat": 4,
 "nbformat_minor": 5
}
