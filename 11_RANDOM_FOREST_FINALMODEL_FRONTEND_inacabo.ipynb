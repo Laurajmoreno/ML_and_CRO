{
 "cells": [
  {
   "cell_type": "markdown",
   "id": "computational-tampa",
   "metadata": {
    "toc": true
   },
   "source": [
    "<h1>Table of Contents<span class=\"tocSkip\"></span></h1>\n",
    "<div class=\"toc\"><ul class=\"toc-item\"><li><span><a href=\"#REQUIREMENTS\" data-toc-modified-id=\"REQUIREMENTS-1\"><span class=\"toc-item-num\">1&nbsp;&nbsp;</span>REQUIREMENTS</a></span><ul class=\"toc-item\"><li><span><a href=\"#Import-Libraries\" data-toc-modified-id=\"Import-Libraries-1.1\"><span class=\"toc-item-num\">1.1&nbsp;&nbsp;</span>Import Libraries</a></span></li><li><span><a href=\"#Functions\" data-toc-modified-id=\"Functions-1.2\"><span class=\"toc-item-num\">1.2&nbsp;&nbsp;</span>Functions</a></span><ul class=\"toc-item\"><li><span><a href=\"#Model-Evaluation\" data-toc-modified-id=\"Model-Evaluation-1.2.1\"><span class=\"toc-item-num\">1.2.1&nbsp;&nbsp;</span>Model Evaluation</a></span></li></ul></li></ul></li><li><span><a href=\"#DATA\" data-toc-modified-id=\"DATA-2\"><span class=\"toc-item-num\">2&nbsp;&nbsp;</span>DATA</a></span><ul class=\"toc-item\"><li><span><a href=\"#Dataset\" data-toc-modified-id=\"Dataset-2.1\"><span class=\"toc-item-num\">2.1&nbsp;&nbsp;</span>Dataset</a></span></li><li><span><a href=\"#Feature-Engineering\" data-toc-modified-id=\"Feature-Engineering-2.2\"><span class=\"toc-item-num\">2.2&nbsp;&nbsp;</span>Feature Engineering</a></span></li><li><span><a href=\"#Target\" data-toc-modified-id=\"Target-2.3\"><span class=\"toc-item-num\">2.3&nbsp;&nbsp;</span>Target</a></span></li><li><span><a href=\"#Final-data-to-feed-the-model\" data-toc-modified-id=\"Final-data-to-feed-the-model-2.4\"><span class=\"toc-item-num\">2.4&nbsp;&nbsp;</span>Final data to feed the model</a></span></li></ul></li><li><span><a href=\"#BASELINE\" data-toc-modified-id=\"BASELINE-3\"><span class=\"toc-item-num\">3&nbsp;&nbsp;</span>BASELINE</a></span><ul class=\"toc-item\"><li><span><a href=\"#Prueba-para-la-transformación-de-Product_price\" data-toc-modified-id=\"Prueba-para-la-transformación-de-Product_price-3.1\"><span class=\"toc-item-num\">3.1&nbsp;&nbsp;</span>Prueba para la transformación de <em>Product_price</em></a></span></li><li><span><a href=\"#Classifier\" data-toc-modified-id=\"Classifier-3.2\"><span class=\"toc-item-num\">3.2&nbsp;&nbsp;</span>Classifier</a></span></li></ul></li><li><span><a href=\"#FEATURE-SELECTION\" data-toc-modified-id=\"FEATURE-SELECTION-4\"><span class=\"toc-item-num\">4&nbsp;&nbsp;</span>FEATURE SELECTION</a></span><ul class=\"toc-item\"><li><span><a href=\"#Preprocesado\" data-toc-modified-id=\"Preprocesado-4.1\"><span class=\"toc-item-num\">4.1&nbsp;&nbsp;</span>Preprocesado</a></span></li><li><span><a href=\"#Permutation-Importance\" data-toc-modified-id=\"Permutation-Importance-4.2\"><span class=\"toc-item-num\">4.2&nbsp;&nbsp;</span>Permutation Importance</a></span></li><li><span><a href=\"#Selección-de-variables\" data-toc-modified-id=\"Selección-de-variables-4.3\"><span class=\"toc-item-num\">4.3&nbsp;&nbsp;</span>Selección de variables</a></span><ul class=\"toc-item\"><li><span><a href=\"#Prueba-1:-Threshold-0.003-(top-29-features)\" data-toc-modified-id=\"Prueba-1:-Threshold-0.003-(top-29-features)-4.3.1\"><span class=\"toc-item-num\">4.3.1&nbsp;&nbsp;</span>Prueba 1: Threshold 0.003 (top 29 features)</a></span></li><li><span><a href=\"#Prueba-2:-Threshold-0.0055-(top-26-features)\" data-toc-modified-id=\"Prueba-2:-Threshold-0.0055-(top-26-features)-4.3.2\"><span class=\"toc-item-num\">4.3.2&nbsp;&nbsp;</span>Prueba 2: Threshold 0.0055 (top 26 features)</a></span></li><li><span><a href=\"#Prueba-3:-Threshold-0,009-(top-22-features)\" data-toc-modified-id=\"Prueba-3:-Threshold-0,009-(top-22-features)-4.3.3\"><span class=\"toc-item-num\">4.3.3&nbsp;&nbsp;</span>Prueba 3: Threshold 0,009 (top 22 features)</a></span></li><li><span><a href=\"#Prueba-4:-Threshold-0,007-(top-24-features)\" data-toc-modified-id=\"Prueba-4:-Threshold-0,007-(top-24-features)-4.3.4\"><span class=\"toc-item-num\">4.3.4&nbsp;&nbsp;</span>Prueba 4: Threshold 0,007 (top 24 features)</a></span></li><li><span><a href=\"#Prueba-5:-Threshold-0,011-(top-20-features)\" data-toc-modified-id=\"Prueba-5:-Threshold-0,011-(top-20-features)-4.3.5\"><span class=\"toc-item-num\">4.3.5&nbsp;&nbsp;</span>Prueba 5: Threshold 0,011 (top 20 features)</a></span></li><li><span><a href=\"#Prueba-6:-Threshold-0,018-(top-11-features)\" data-toc-modified-id=\"Prueba-6:-Threshold-0,018-(top-11-features)-4.3.6\"><span class=\"toc-item-num\">4.3.6&nbsp;&nbsp;</span>Prueba 6: Threshold 0,018 (top 11 features)</a></span></li><li><span><a href=\"#Prueba-7:-Threshold-0,0188-(top-9-features)\" data-toc-modified-id=\"Prueba-7:-Threshold-0,0188-(top-9-features)-4.3.7\"><span class=\"toc-item-num\">4.3.7&nbsp;&nbsp;</span>Prueba 7: Threshold 0,0188 (top 9 features)</a></span></li><li><span><a href=\"#Prueba-8:-Threshold-0,02-(top-8-features)\" data-toc-modified-id=\"Prueba-8:-Threshold-0,02-(top-8-features)-4.3.8\"><span class=\"toc-item-num\">4.3.8&nbsp;&nbsp;</span>Prueba 8: Threshold 0,02 (top 8 features)</a></span></li></ul></li><li><span><a href=\"#Clasificador-final-con-optimización-de-hiperparámetros\" data-toc-modified-id=\"Clasificador-final-con-optimización-de-hiperparámetros-4.4\"><span class=\"toc-item-num\">4.4&nbsp;&nbsp;</span>Clasificador final con optimización de hiperparámetros</a></span></li></ul></li></ul></div>"
   ]
  },
  {
   "cell_type": "markdown",
   "id": "hundred-trinidad",
   "metadata": {},
   "source": [
    "## REQUIREMENTS"
   ]
  },
  {
   "cell_type": "markdown",
   "id": "driven-explorer",
   "metadata": {},
   "source": [
    "### Import Libraries"
   ]
  },
  {
   "cell_type": "code",
   "execution_count": 1,
   "id": "advanced-parliament",
   "metadata": {},
   "outputs": [],
   "source": [
    "from category_encoders import TargetEncoder"
   ]
  },
  {
   "cell_type": "code",
   "execution_count": 2,
   "id": "thrown-highway",
   "metadata": {},
   "outputs": [],
   "source": [
    "import eli5\n",
    "from eli5.sklearn import PermutationImportance"
   ]
  },
  {
   "cell_type": "code",
   "execution_count": 3,
   "id": "hollywood-microwave",
   "metadata": {},
   "outputs": [],
   "source": [
    "import imblearn\n",
    "from imblearn.over_sampling import SMOTE\n",
    "from imblearn.under_sampling import RandomUnderSampler\n",
    "from imblearn.over_sampling import BorderlineSMOTE\n",
    "from imblearn.over_sampling import ADASYN"
   ]
  },
  {
   "cell_type": "code",
   "execution_count": 1,
   "id": "choice-scientist",
   "metadata": {},
   "outputs": [],
   "source": [
    "import pandas as pd\n",
    "import numpy as np\n",
    "import matplotlib.pyplot as plt\n",
    "import seaborn as sns\n",
    "%matplotlib inline\n",
    "from sklearn.model_selection import train_test_split, GridSearchCV, ParameterGrid\n",
    "from sklearn.linear_model import LogisticRegression\n",
    "from sklearn.ensemble import RandomForestClassifier\n",
    "from sklearn.metrics import f1_score, recall_score, precision_score, roc_auc_score, roc_curve, accuracy_score\n",
    "from sklearn.metrics import confusion_matrix\n",
    "from sklearn.metrics import classification_report\n",
    "from sklearn.model_selection import cross_val_score\n",
    "from sklearn.model_selection import RepeatedStratifiedKFold\n",
    "from sklearn.pipeline import Pipeline, FeatureUnion\n",
    "from sklearn.base import BaseEstimator,TransformerMixin\n",
    "from sklearn.preprocessing import FunctionTransformer, OneHotEncoder\n",
    "from sklearn.compose import ColumnTransformer\n",
    "from sklearn.impute import SimpleImputer\n",
    "from category_encoders import TargetEncoder\n",
    "from sklearn.feature_selection import SelectFromModel\n",
    "from scipy import stats\n",
    "import statsmodels.api as sm\n",
    "import os\n",
    "from sklearn import tree\n",
    "import pickle\n",
    "import eli5\n",
    "from eli5.sklearn import PermutationImportance\n",
    "import imblearn\n",
    "from imblearn.over_sampling import SMOTE\n",
    "from imblearn.under_sampling import RandomUnderSampler\n",
    "from imblearn.over_sampling import BorderlineSMOTE\n",
    "from imblearn.over_sampling import ADASYN\n",
    "from collections import Counter\n",
    "import multiprocessing"
   ]
  },
  {
   "cell_type": "markdown",
   "id": "preliminary-edition",
   "metadata": {},
   "source": [
    "### Functions"
   ]
  },
  {
   "cell_type": "markdown",
   "id": "interim-diploma",
   "metadata": {},
   "source": [
    "#### Model Evaluation"
   ]
  },
  {
   "cell_type": "code",
   "execution_count": 2,
   "id": "scheduled-addition",
   "metadata": {},
   "outputs": [],
   "source": [
    "def evaluate(classifier,X_train, X_test, y_train, y_test):\n",
    "    classifier.fit(X_train,y_train)\n",
    "    predictions = classifier.predict(X_test)\n",
    "    probabilities = classifier.predict_proba(X_test)\n",
    "    print(\"TRAINING SCORE: \" + str(classifier.score(X_train,y_train)))\n",
    "    print(\"ACCURACY: \" + str(accuracy_score(y_test, predictions)))\n",
    "    print(\"PRECISION: \" + str(precision_score(y_test, predictions)))\n",
    "    print(\"RECALL: \" + str(recall_score(y_test, predictions)))\n",
    "    print(\"F1 SCORE: \" + str(f1_score(y_test, predictions)))\n",
    "    print(\"AUC: \" + str(roc_auc_score(y_test,probabilities[:, 1])))\n",
    "\n",
    "    tpr, fpr, thresolds = roc_curve(y_test, probabilities[:, 1])\n",
    "    plt.plot(tpr, fpr)\n",
    "    plt.xlabel('fpr')\n",
    "    plt.ylabel('tpr')"
   ]
  },
  {
   "cell_type": "markdown",
   "id": "eastern-shopper",
   "metadata": {},
   "source": [
    "## DATA"
   ]
  },
  {
   "cell_type": "markdown",
   "id": "average-milan",
   "metadata": {},
   "source": [
    "### Dataset"
   ]
  },
  {
   "cell_type": "code",
   "execution_count": 3,
   "id": "packed-sister",
   "metadata": {},
   "outputs": [
    {
     "name": "stderr",
     "output_type": "stream",
     "text": [
      "/home/dsc/TFM/kschool_masterDS_TFM/env/lib/python3.7/site-packages/IPython/core/interactiveshell.py:3166: DtypeWarning: Columns (1) have mixed types.Specify dtype option on import or set low_memory=False.\n",
      "  interactivity=interactivity, compiler=compiler, result=result)\n"
     ]
    },
    {
     "name": "stdout",
     "output_type": "stream",
     "text": [
      "(3628293, 21)\n",
      "\n",
      "<class 'pandas.core.frame.DataFrame'>\n",
      "RangeIndex: 3628293 entries, 0 to 3628292\n",
      "Data columns (total 21 columns):\n",
      " #   Column                       Dtype  \n",
      "---  ------                       -----  \n",
      " 0   ga:productSKU                object \n",
      " 1   ga:dateHourMinute            int64  \n",
      " 2   ga:pagePath                  object \n",
      " 3   ga:pageDepth                 int64  \n",
      " 4   ga:userType                  object \n",
      " 5   ga:sessionCount              int64  \n",
      " 6   ga:daysSinceLastSession      int64  \n",
      " 7   ga:landingPagePath           object \n",
      " 8   ga:campaign                  object \n",
      " 9   ga:sourceMedium              object \n",
      " 10  ga:city                      object \n",
      " 11  ga:deviceCategory            object \n",
      " 12  ga:operatingSystem           object \n",
      " 13  ga:productListViews          int64  \n",
      " 14  ga:productListClicks         int64  \n",
      " 15  ga:productDetailViews        int64  \n",
      " 16  ga:productAddsToCart         int64  \n",
      " 17  ga:productAddsToCart_transf  int64  \n",
      " 18  pPath_clean                  object \n",
      " 19  Web_Discount                 float64\n",
      " 20  Product_price                float64\n",
      "dtypes: float64(2), int64(9), object(10)\n",
      "memory usage: 581.3+ MB\n"
     ]
    }
   ],
   "source": [
    "data_root=\"../data/\"\n",
    "datafile=os.path.join(data_root,'no_carrito_no_pedido_df_2019_2020_jan21.csv')\n",
    "df=pd.read_csv(datafile)\n",
    "df.drop('Unnamed: 0', axis=1, inplace=True)\n",
    "print(df.shape)\n",
    "print(\"\")\n",
    "df.info()"
   ]
  },
  {
   "cell_type": "markdown",
   "id": "sacred-exhibition",
   "metadata": {},
   "source": [
    "### Feature Engineering"
   ]
  },
  {
   "cell_type": "code",
   "execution_count": 4,
   "id": "threatened-hydrogen",
   "metadata": {},
   "outputs": [
    {
     "name": "stdout",
     "output_type": "stream",
     "text": [
      "<class 'pandas.core.frame.DataFrame'>\n",
      "RangeIndex: 3628293 entries, 0 to 3628292\n",
      "Data columns (total 31 columns):\n",
      " #   Column                       Dtype         \n",
      "---  ------                       -----         \n",
      " 0   ga:productSKU                object        \n",
      " 1   ga:dateHourMinute            datetime64[ns]\n",
      " 2   ga:pagePath                  object        \n",
      " 3   ga:pageDepth                 int64         \n",
      " 4   ga:userType                  object        \n",
      " 5   ga:sessionCount              int64         \n",
      " 6   ga:daysSinceLastSession      int64         \n",
      " 7   ga:landingPagePath           object        \n",
      " 8   ga:campaign                  object        \n",
      " 9   ga:sourceMedium              object        \n",
      " 10  ga:city                      object        \n",
      " 11  ga:deviceCategory            object        \n",
      " 12  ga:operatingSystem           object        \n",
      " 13  ga:productListViews          int64         \n",
      " 14  ga:productListClicks         int64         \n",
      " 15  ga:productDetailViews        int64         \n",
      " 16  ga:productAddsToCart         int64         \n",
      " 17  ga:productAddsToCart_transf  int64         \n",
      " 18  pPath_clean                  object        \n",
      " 19  Web_Discount                 float64       \n",
      " 20  Product_price                float64       \n",
      " 21  month_sin                    float64       \n",
      " 22  month_cos                    float64       \n",
      " 23  dayofweek_sin                float64       \n",
      " 24  dayofweek_cos                float64       \n",
      " 25  hour_sin                     float64       \n",
      " 26  hour_cos                     float64       \n",
      " 27  Source                       object        \n",
      " 28  Medium                       object        \n",
      " 29  Returning_Visitor            int64         \n",
      " 30  Detail_View                  int64         \n",
      "dtypes: datetime64[ns](1), float64(8), int64(10), object(12)\n",
      "memory usage: 858.1+ MB\n"
     ]
    }
   ],
   "source": [
    "# Product SKU as string\n",
    "df['ga:productSKU']=df['ga:productSKU'].astype('str')\n",
    "\n",
    "# dateHourMinute as SIN and COS\n",
    "df['ga:dateHourMinute']=pd.to_datetime(df['ga:dateHourMinute'],format='%Y%m%d%H%M')\n",
    "df['dateTime_month']=df['ga:dateHourMinute'].dt.month\n",
    "df['dateTime_dayofweek']=df['ga:dateHourMinute'].dt.dayofweek\n",
    "df['dateTime_hour']=df['ga:dateHourMinute'].dt.hour\n",
    "df['month_sin']=np.sin((df.dateTime_month-1)*(2.*np.pi/12)) # I substract minus 1 to 'df.dateTime_month' because its values are coded as 1 to 12 instead of 0 to 11\n",
    "df['month_cos']=np.cos((df.dateTime_month-1)*(2.*np.pi/12)) # I substract minus 1 to 'df.dateTime_month' because its values are coded as 1 to 12 instead of 0 to 11\n",
    "df['dayofweek_sin']=np.sin(df.dateTime_dayofweek*(2.*np.pi/7))\n",
    "df['dayofweek_cos']=np.cos(df.dateTime_dayofweek*(2.*np.pi/7))\n",
    "df['hour_sin']=np.sin(df.dateTime_hour*(2.*np.pi/24))\n",
    "df['hour_cos']=np.cos(df.dateTime_hour*(2.*np.pi/24))\n",
    "df.drop(['dateTime_month','dateTime_dayofweek','dateTime_hour'],axis=1, inplace=True)\n",
    "\n",
    "# Source Medium as 2 columns:\n",
    "source_medium = df['ga:sourceMedium'].str.split('/',expand=True)\n",
    "source_medium.columns=['Source','Medium']\n",
    "df= df.merge(source_medium,left_index=True,right_index=True,how='left')\n",
    "del(source_medium)\n",
    "df['Source']=df['Source'].astype('str').str.strip()\n",
    "df['Medium']=df['Medium'].astype('str').str.strip()\n",
    "\n",
    "# City\n",
    "df['ga:city']=df['ga:city'].astype('str')\n",
    "\n",
    "# Device\n",
    "df['ga:deviceCategory']=df['ga:deviceCategory'].astype('str')\n",
    "\n",
    "# Operating System\n",
    "df['ga:operatingSystem']=df['ga:operatingSystem'].astype('str')\n",
    "\n",
    "# User Type\n",
    "df['Returning_Visitor']= np.where(df['ga:userType']=='Returning Visitor',1,0)\n",
    "\n",
    "# Page Path, Detail_View and Landing Page Path as string\n",
    "df['ga:pagePath']=df['ga:pagePath'].astype('str')\n",
    "df['ga:pagePath'] = df['ga:pagePath'].apply(lambda x: x[:x.find(\"?pag\")] if \"?pag\" in x else x)\n",
    "df['Detail_View']=df['ga:pagePath'].apply(lambda url: 1 if url[-5:]=='.html' else 0)\n",
    "df['ga:landingPagePath']=df['ga:landingPagePath'].astype('str')\n",
    "df['ga:landingPagePath'] = df['ga:landingPagePath'].apply(lambda x: x[:x.find(\"?pag\")] if \"?pag\" in x else x)\n",
    "\n",
    "df.info()"
   ]
  },
  {
   "cell_type": "markdown",
   "id": "behavioral-politics",
   "metadata": {},
   "source": [
    "### Target"
   ]
  },
  {
   "cell_type": "code",
   "execution_count": 5,
   "id": "critical-prince",
   "metadata": {},
   "outputs": [
    {
     "name": "stdout",
     "output_type": "stream",
     "text": [
      "No. observations per class\n",
      "0    3586659\n",
      "1      41634\n",
      "Name: ga:productAddsToCart_transf, dtype: int64\n",
      "\n",
      "% observations per class\n",
      "0    98.852518\n",
      "1     1.147482\n",
      "Name: ga:productAddsToCart_transf, dtype: float64\n"
     ]
    }
   ],
   "source": [
    "df['ga:productAddsToCart_transf']=df[\"ga:productAddsToCart\"].apply(lambda x: 1 if x>1 else x)\n",
    "\n",
    "print(\"No. observations per class\")\n",
    "print(df['ga:productAddsToCart_transf'].value_counts())\n",
    "print(\"\")\n",
    "\n",
    "print(\"% observations per class\")\n",
    "print(100*df['ga:productAddsToCart_transf'].value_counts(normalize=True))"
   ]
  },
  {
   "cell_type": "markdown",
   "id": "negative-capability",
   "metadata": {},
   "source": [
    "### Final data to feed the model"
   ]
  },
  {
   "cell_type": "code",
   "execution_count": 6,
   "id": "motivated-burlington",
   "metadata": {},
   "outputs": [],
   "source": [
    "# Data\n",
    "\n",
    "features=['ga:sessionCount','ga:daysSinceLastSession','ga:productSKU',\\\n",
    "          'month_sin','month_cos','dayofweek_sin','dayofweek_cos','hour_sin','hour_cos',\\\n",
    "          'Source','Medium','ga:city','ga:deviceCategory','ga:operatingSystem','Returning_Visitor',\\\n",
    "          'Product_price','Web_Discount','ga:pagePath','Detail_View','ga:landingPagePath']\n",
    "\n",
    "y=df['ga:productAddsToCart_transf']\n",
    "X=df[features]\n",
    "X_train, X_test, y_train, y_test = train_test_split(X, y,random_state=42)"
   ]
  },
  {
   "cell_type": "markdown",
   "id": "enclosed-constitutional",
   "metadata": {},
   "source": [
    "## BASELINE"
   ]
  },
  {
   "cell_type": "markdown",
   "id": "related-modification",
   "metadata": {},
   "source": [
    "En este modelo a diferencia del anterior, en lugar del PVP, consideraremos el **precio ajustado** una vez aplicado el descuento disponible. Conservaremos igualmente la columna ***Web_Discount*** por haber demostrado ser un atributo importante en modelos anteriores y por el efecto psicológico que puede tener en el usuario. \n",
    "\n",
    "Por otro lado, eliminaremos la variable ***ga:pageDepth***. En modelos anteriores, asumimos que era el número de páginas vistas por el usuario hasta el momento de la observación. Sin embargo, se ha visto que en realidad corresponde al número total de páginas vistas en el transcurso de la sesión. Es útil para identificar al usuario único/sesión, pero no debe ser incluida en el modelo final, por no ser una variable que esté disponible si se quiere hacer un análisis en tiempo real.\n"
   ]
  },
  {
   "cell_type": "markdown",
   "id": "experimental-proposition",
   "metadata": {},
   "source": [
    "### Prueba para la transformación de *Product_price*"
   ]
  },
  {
   "cell_type": "markdown",
   "id": "industrial-cricket",
   "metadata": {},
   "source": [
    "Para calcular el precio ajustado, es necesario contar con el PVP del producto y el descuento disponible en la web en el momento de la observación. Dado que la columna *Product_price* tiene **valores** ***NaN*** deberemos realizar la transformación una vez se hayan imputado estos valores con la mediana y, por lo tanto, dentro del *Pipeline*. \n",
    "\n",
    "Este sería el procedimiento:"
   ]
  },
  {
   "cell_type": "code",
   "execution_count": 8,
   "id": "critical-latvia",
   "metadata": {},
   "outputs": [],
   "source": [
    "from functools import partial\n",
    "\n",
    "def engineer_feature(columns, X):\n",
    "    df = pd.DataFrame(X, columns=columns)\n",
    "    df[\"Product_price\"] = df[\"Product_price\"]*(1-df[\"Web_Discount\"])\n",
    "    return df\n",
    "\n",
    "def numeric_transformer(columns):\n",
    "    transformer = Pipeline([\n",
    "        (\"imputer\", SimpleImputer(strategy='median')),\n",
    "        (\"engineer\", FunctionTransformer(partial(engineer_feature, columns))),\n",
    "    ])\n",
    "    return (\"numeric\", transformer, columns)\n",
    "\n",
    "preprocessor = ColumnTransformer([\n",
    "    numeric_transformer([\"Product_price\", \"Web_Discount\"])\n",
    "])\n"
   ]
  },
  {
   "cell_type": "code",
   "execution_count": 9,
   "id": "normal-buffer",
   "metadata": {},
   "outputs": [],
   "source": [
    "X_train_transf = preprocessor.fit_transform(X_train,y_train)\n",
    "X_test_transf = preprocessor.transform(X_test)"
   ]
  },
  {
   "cell_type": "markdown",
   "id": "first-accessory",
   "metadata": {},
   "source": [
    "Como vemos en las siguientes celdas, la transformación se ha realizado correctamente:"
   ]
  },
  {
   "cell_type": "code",
   "execution_count": 17,
   "id": "removable-elevation",
   "metadata": {},
   "outputs": [
    {
     "data": {
      "text/html": [
       "<div>\n",
       "<style scoped>\n",
       "    .dataframe tbody tr th:only-of-type {\n",
       "        vertical-align: middle;\n",
       "    }\n",
       "\n",
       "    .dataframe tbody tr th {\n",
       "        vertical-align: top;\n",
       "    }\n",
       "\n",
       "    .dataframe thead th {\n",
       "        text-align: right;\n",
       "    }\n",
       "</style>\n",
       "<table border=\"1\" class=\"dataframe\">\n",
       "  <thead>\n",
       "    <tr style=\"text-align: right;\">\n",
       "      <th></th>\n",
       "      <th>Product_price</th>\n",
       "      <th>Web_Discount</th>\n",
       "    </tr>\n",
       "  </thead>\n",
       "  <tbody>\n",
       "    <tr>\n",
       "      <th>0</th>\n",
       "      <td>3.4700</td>\n",
       "      <td>0.00</td>\n",
       "    </tr>\n",
       "    <tr>\n",
       "      <th>1</th>\n",
       "      <td>35.4000</td>\n",
       "      <td>0.25</td>\n",
       "    </tr>\n",
       "    <tr>\n",
       "      <th>2</th>\n",
       "      <td>160.0000</td>\n",
       "      <td>0.00</td>\n",
       "    </tr>\n",
       "    <tr>\n",
       "      <th>3</th>\n",
       "      <td>12.7075</td>\n",
       "      <td>0.15</td>\n",
       "    </tr>\n",
       "    <tr>\n",
       "      <th>4</th>\n",
       "      <td>10.6250</td>\n",
       "      <td>0.15</td>\n",
       "    </tr>\n",
       "    <tr>\n",
       "      <th>5</th>\n",
       "      <td>32.6250</td>\n",
       "      <td>0.25</td>\n",
       "    </tr>\n",
       "    <tr>\n",
       "      <th>6</th>\n",
       "      <td>2.9000</td>\n",
       "      <td>0.00</td>\n",
       "    </tr>\n",
       "    <tr>\n",
       "      <th>7</th>\n",
       "      <td>4.7250</td>\n",
       "      <td>0.25</td>\n",
       "    </tr>\n",
       "    <tr>\n",
       "      <th>8</th>\n",
       "      <td>31.9000</td>\n",
       "      <td>0.00</td>\n",
       "    </tr>\n",
       "    <tr>\n",
       "      <th>9</th>\n",
       "      <td>53.5000</td>\n",
       "      <td>0.00</td>\n",
       "    </tr>\n",
       "    <tr>\n",
       "      <th>10</th>\n",
       "      <td>22.5750</td>\n",
       "      <td>0.25</td>\n",
       "    </tr>\n",
       "    <tr>\n",
       "      <th>11</th>\n",
       "      <td>59.5000</td>\n",
       "      <td>0.15</td>\n",
       "    </tr>\n",
       "    <tr>\n",
       "      <th>12</th>\n",
       "      <td>80.0000</td>\n",
       "      <td>0.00</td>\n",
       "    </tr>\n",
       "    <tr>\n",
       "      <th>13</th>\n",
       "      <td>3.4700</td>\n",
       "      <td>0.00</td>\n",
       "    </tr>\n",
       "    <tr>\n",
       "      <th>14</th>\n",
       "      <td>27.5500</td>\n",
       "      <td>0.00</td>\n",
       "    </tr>\n",
       "    <tr>\n",
       "      <th>15</th>\n",
       "      <td>2.5000</td>\n",
       "      <td>0.00</td>\n",
       "    </tr>\n",
       "    <tr>\n",
       "      <th>16</th>\n",
       "      <td>40.0000</td>\n",
       "      <td>0.00</td>\n",
       "    </tr>\n",
       "    <tr>\n",
       "      <th>17</th>\n",
       "      <td>0.0000</td>\n",
       "      <td>0.15</td>\n",
       "    </tr>\n",
       "    <tr>\n",
       "      <th>18</th>\n",
       "      <td>63.0000</td>\n",
       "      <td>0.00</td>\n",
       "    </tr>\n",
       "    <tr>\n",
       "      <th>19</th>\n",
       "      <td>13.9500</td>\n",
       "      <td>0.00</td>\n",
       "    </tr>\n",
       "    <tr>\n",
       "      <th>20</th>\n",
       "      <td>11.3040</td>\n",
       "      <td>0.10</td>\n",
       "    </tr>\n",
       "    <tr>\n",
       "      <th>21</th>\n",
       "      <td>11.2500</td>\n",
       "      <td>0.10</td>\n",
       "    </tr>\n",
       "    <tr>\n",
       "      <th>22</th>\n",
       "      <td>1.5000</td>\n",
       "      <td>0.00</td>\n",
       "    </tr>\n",
       "    <tr>\n",
       "      <th>23</th>\n",
       "      <td>2.5000</td>\n",
       "      <td>0.00</td>\n",
       "    </tr>\n",
       "    <tr>\n",
       "      <th>24</th>\n",
       "      <td>63.0000</td>\n",
       "      <td>0.00</td>\n",
       "    </tr>\n",
       "    <tr>\n",
       "      <th>25</th>\n",
       "      <td>49.9000</td>\n",
       "      <td>0.00</td>\n",
       "    </tr>\n",
       "    <tr>\n",
       "      <th>26</th>\n",
       "      <td>32.1750</td>\n",
       "      <td>0.25</td>\n",
       "    </tr>\n",
       "    <tr>\n",
       "      <th>27</th>\n",
       "      <td>27.5500</td>\n",
       "      <td>0.00</td>\n",
       "    </tr>\n",
       "    <tr>\n",
       "      <th>28</th>\n",
       "      <td>12.9500</td>\n",
       "      <td>0.00</td>\n",
       "    </tr>\n",
       "    <tr>\n",
       "      <th>29</th>\n",
       "      <td>39.4500</td>\n",
       "      <td>0.00</td>\n",
       "    </tr>\n",
       "    <tr>\n",
       "      <th>30</th>\n",
       "      <td>27.5500</td>\n",
       "      <td>0.00</td>\n",
       "    </tr>\n",
       "    <tr>\n",
       "      <th>31</th>\n",
       "      <td>23.4175</td>\n",
       "      <td>0.15</td>\n",
       "    </tr>\n",
       "  </tbody>\n",
       "</table>\n",
       "</div>"
      ],
      "text/plain": [
       "    Product_price  Web_Discount\n",
       "0          3.4700          0.00\n",
       "1         35.4000          0.25\n",
       "2        160.0000          0.00\n",
       "3         12.7075          0.15\n",
       "4         10.6250          0.15\n",
       "5         32.6250          0.25\n",
       "6          2.9000          0.00\n",
       "7          4.7250          0.25\n",
       "8         31.9000          0.00\n",
       "9         53.5000          0.00\n",
       "10        22.5750          0.25\n",
       "11        59.5000          0.15\n",
       "12        80.0000          0.00\n",
       "13         3.4700          0.00\n",
       "14        27.5500          0.00\n",
       "15         2.5000          0.00\n",
       "16        40.0000          0.00\n",
       "17         0.0000          0.15\n",
       "18        63.0000          0.00\n",
       "19        13.9500          0.00\n",
       "20        11.3040          0.10\n",
       "21        11.2500          0.10\n",
       "22         1.5000          0.00\n",
       "23         2.5000          0.00\n",
       "24        63.0000          0.00\n",
       "25        49.9000          0.00\n",
       "26        32.1750          0.25\n",
       "27        27.5500          0.00\n",
       "28        12.9500          0.00\n",
       "29        39.4500          0.00\n",
       "30        27.5500          0.00\n",
       "31        23.4175          0.15"
      ]
     },
     "execution_count": 17,
     "metadata": {},
     "output_type": "execute_result"
    }
   ],
   "source": [
    "pd.DataFrame(X_train_transf, columns=['Product_price', 'Web_Discount']).head(32)"
   ]
  },
  {
   "cell_type": "code",
   "execution_count": 40,
   "id": "passive-israel",
   "metadata": {},
   "outputs": [
    {
     "data": {
      "text/html": [
       "<div>\n",
       "<style scoped>\n",
       "    .dataframe tbody tr th:only-of-type {\n",
       "        vertical-align: middle;\n",
       "    }\n",
       "\n",
       "    .dataframe tbody tr th {\n",
       "        vertical-align: top;\n",
       "    }\n",
       "\n",
       "    .dataframe thead th {\n",
       "        text-align: right;\n",
       "    }\n",
       "</style>\n",
       "<table border=\"1\" class=\"dataframe\">\n",
       "  <thead>\n",
       "    <tr style=\"text-align: right;\">\n",
       "      <th></th>\n",
       "      <th>Product_price</th>\n",
       "      <th>Web_Discount</th>\n",
       "    </tr>\n",
       "  </thead>\n",
       "  <tbody>\n",
       "    <tr>\n",
       "      <th>246226</th>\n",
       "      <td>3.47</td>\n",
       "      <td>0.00</td>\n",
       "    </tr>\n",
       "    <tr>\n",
       "      <th>1843185</th>\n",
       "      <td>47.20</td>\n",
       "      <td>0.25</td>\n",
       "    </tr>\n",
       "    <tr>\n",
       "      <th>2677455</th>\n",
       "      <td>160.00</td>\n",
       "      <td>0.00</td>\n",
       "    </tr>\n",
       "    <tr>\n",
       "      <th>3221900</th>\n",
       "      <td>14.95</td>\n",
       "      <td>0.15</td>\n",
       "    </tr>\n",
       "    <tr>\n",
       "      <th>1054798</th>\n",
       "      <td>12.50</td>\n",
       "      <td>0.15</td>\n",
       "    </tr>\n",
       "    <tr>\n",
       "      <th>1509754</th>\n",
       "      <td>43.50</td>\n",
       "      <td>0.25</td>\n",
       "    </tr>\n",
       "    <tr>\n",
       "      <th>268870</th>\n",
       "      <td>2.90</td>\n",
       "      <td>0.00</td>\n",
       "    </tr>\n",
       "    <tr>\n",
       "      <th>1958197</th>\n",
       "      <td>6.30</td>\n",
       "      <td>0.25</td>\n",
       "    </tr>\n",
       "    <tr>\n",
       "      <th>2126658</th>\n",
       "      <td>31.90</td>\n",
       "      <td>0.00</td>\n",
       "    </tr>\n",
       "    <tr>\n",
       "      <th>547850</th>\n",
       "      <td>53.50</td>\n",
       "      <td>0.00</td>\n",
       "    </tr>\n",
       "    <tr>\n",
       "      <th>1681559</th>\n",
       "      <td>30.10</td>\n",
       "      <td>0.25</td>\n",
       "    </tr>\n",
       "    <tr>\n",
       "      <th>29222</th>\n",
       "      <td>70.00</td>\n",
       "      <td>0.15</td>\n",
       "    </tr>\n",
       "    <tr>\n",
       "      <th>2845332</th>\n",
       "      <td>80.00</td>\n",
       "      <td>0.00</td>\n",
       "    </tr>\n",
       "    <tr>\n",
       "      <th>938028</th>\n",
       "      <td>3.47</td>\n",
       "      <td>0.00</td>\n",
       "    </tr>\n",
       "    <tr>\n",
       "      <th>738384</th>\n",
       "      <td>NaN</td>\n",
       "      <td>0.00</td>\n",
       "    </tr>\n",
       "    <tr>\n",
       "      <th>1167017</th>\n",
       "      <td>2.50</td>\n",
       "      <td>0.00</td>\n",
       "    </tr>\n",
       "    <tr>\n",
       "      <th>1192403</th>\n",
       "      <td>40.00</td>\n",
       "      <td>0.00</td>\n",
       "    </tr>\n",
       "    <tr>\n",
       "      <th>1254610</th>\n",
       "      <td>0.00</td>\n",
       "      <td>0.15</td>\n",
       "    </tr>\n",
       "    <tr>\n",
       "      <th>1355320</th>\n",
       "      <td>63.00</td>\n",
       "      <td>0.00</td>\n",
       "    </tr>\n",
       "    <tr>\n",
       "      <th>2854168</th>\n",
       "      <td>13.95</td>\n",
       "      <td>0.00</td>\n",
       "    </tr>\n",
       "    <tr>\n",
       "      <th>2431337</th>\n",
       "      <td>12.56</td>\n",
       "      <td>0.10</td>\n",
       "    </tr>\n",
       "    <tr>\n",
       "      <th>1284327</th>\n",
       "      <td>12.50</td>\n",
       "      <td>0.10</td>\n",
       "    </tr>\n",
       "    <tr>\n",
       "      <th>1980071</th>\n",
       "      <td>1.50</td>\n",
       "      <td>0.00</td>\n",
       "    </tr>\n",
       "    <tr>\n",
       "      <th>1069838</th>\n",
       "      <td>2.50</td>\n",
       "      <td>0.00</td>\n",
       "    </tr>\n",
       "    <tr>\n",
       "      <th>3269450</th>\n",
       "      <td>63.00</td>\n",
       "      <td>0.00</td>\n",
       "    </tr>\n",
       "    <tr>\n",
       "      <th>1470856</th>\n",
       "      <td>49.90</td>\n",
       "      <td>0.00</td>\n",
       "    </tr>\n",
       "    <tr>\n",
       "      <th>2249305</th>\n",
       "      <td>42.90</td>\n",
       "      <td>0.25</td>\n",
       "    </tr>\n",
       "    <tr>\n",
       "      <th>525636</th>\n",
       "      <td>NaN</td>\n",
       "      <td>0.00</td>\n",
       "    </tr>\n",
       "    <tr>\n",
       "      <th>433667</th>\n",
       "      <td>12.95</td>\n",
       "      <td>0.00</td>\n",
       "    </tr>\n",
       "    <tr>\n",
       "      <th>1467239</th>\n",
       "      <td>39.45</td>\n",
       "      <td>0.00</td>\n",
       "    </tr>\n",
       "    <tr>\n",
       "      <th>1050362</th>\n",
       "      <td>NaN</td>\n",
       "      <td>0.00</td>\n",
       "    </tr>\n",
       "    <tr>\n",
       "      <th>1091329</th>\n",
       "      <td>NaN</td>\n",
       "      <td>0.15</td>\n",
       "    </tr>\n",
       "  </tbody>\n",
       "</table>\n",
       "</div>"
      ],
      "text/plain": [
       "         Product_price  Web_Discount\n",
       "246226            3.47          0.00\n",
       "1843185          47.20          0.25\n",
       "2677455         160.00          0.00\n",
       "3221900          14.95          0.15\n",
       "1054798          12.50          0.15\n",
       "1509754          43.50          0.25\n",
       "268870            2.90          0.00\n",
       "1958197           6.30          0.25\n",
       "2126658          31.90          0.00\n",
       "547850           53.50          0.00\n",
       "1681559          30.10          0.25\n",
       "29222            70.00          0.15\n",
       "2845332          80.00          0.00\n",
       "938028            3.47          0.00\n",
       "738384             NaN          0.00\n",
       "1167017           2.50          0.00\n",
       "1192403          40.00          0.00\n",
       "1254610           0.00          0.15\n",
       "1355320          63.00          0.00\n",
       "2854168          13.95          0.00\n",
       "2431337          12.56          0.10\n",
       "1284327          12.50          0.10\n",
       "1980071           1.50          0.00\n",
       "1069838           2.50          0.00\n",
       "3269450          63.00          0.00\n",
       "1470856          49.90          0.00\n",
       "2249305          42.90          0.25\n",
       "525636             NaN          0.00\n",
       "433667           12.95          0.00\n",
       "1467239          39.45          0.00\n",
       "1050362            NaN          0.00\n",
       "1091329            NaN          0.15"
      ]
     },
     "execution_count": 40,
     "metadata": {},
     "output_type": "execute_result"
    }
   ],
   "source": [
    "X_train[['Product_price', 'Web_Discount']].head(32)"
   ]
  },
  {
   "cell_type": "code",
   "execution_count": 16,
   "id": "placed-fifth",
   "metadata": {},
   "outputs": [
    {
     "data": {
      "text/plain": [
       "27.55"
      ]
     },
     "execution_count": 16,
     "metadata": {},
     "output_type": "execute_result"
    }
   ],
   "source": [
    "X_train['Product_price'].median()"
   ]
  },
  {
   "cell_type": "code",
   "execution_count": 22,
   "id": "communist-opening",
   "metadata": {},
   "outputs": [
    {
     "data": {
      "text/plain": [
       "Product_price    23.4175\n",
       "Web_Discount      0.1500\n",
       "Name: 31, dtype: float64"
      ]
     },
     "execution_count": 22,
     "metadata": {},
     "output_type": "execute_result"
    }
   ],
   "source": [
    "pd.DataFrame(X_train_transf,columns=['Product_price', 'Web_Discount']).iloc[31]"
   ]
  },
  {
   "cell_type": "code",
   "execution_count": 14,
   "id": "disabled-celebrity",
   "metadata": {},
   "outputs": [
    {
     "data": {
      "text/plain": [
       "Product_price     NaN\n",
       "Web_Discount     0.15\n",
       "Name: 1091329, dtype: float64"
      ]
     },
     "execution_count": 14,
     "metadata": {},
     "output_type": "execute_result"
    }
   ],
   "source": [
    "X_train[['Product_price', 'Web_Discount']].iloc[31]"
   ]
  },
  {
   "cell_type": "code",
   "execution_count": 18,
   "id": "superb-coordinate",
   "metadata": {},
   "outputs": [
    {
     "data": {
      "text/plain": [
       "23.4175"
      ]
     },
     "execution_count": 18,
     "metadata": {},
     "output_type": "execute_result"
    }
   ],
   "source": [
    "X_train['Product_price'].median()*(1-0.15)"
   ]
  },
  {
   "cell_type": "markdown",
   "id": "occupied-singapore",
   "metadata": {},
   "source": [
    "En este caso, se aprecia cómo ha imputado correctamente la mediana y después le ha aplicado el descuento. \n",
    "\n",
    "Veamos ahora si la transformación también se ha aplicado correctamente en el **conjunto de test**:"
   ]
  },
  {
   "cell_type": "code",
   "execution_count": 20,
   "id": "divided-campus",
   "metadata": {},
   "outputs": [
    {
     "data": {
      "text/html": [
       "<div>\n",
       "<style scoped>\n",
       "    .dataframe tbody tr th:only-of-type {\n",
       "        vertical-align: middle;\n",
       "    }\n",
       "\n",
       "    .dataframe tbody tr th {\n",
       "        vertical-align: top;\n",
       "    }\n",
       "\n",
       "    .dataframe thead th {\n",
       "        text-align: right;\n",
       "    }\n",
       "</style>\n",
       "<table border=\"1\" class=\"dataframe\">\n",
       "  <thead>\n",
       "    <tr style=\"text-align: right;\">\n",
       "      <th></th>\n",
       "      <th>Product_price</th>\n",
       "      <th>Web_Discount</th>\n",
       "    </tr>\n",
       "  </thead>\n",
       "  <tbody>\n",
       "    <tr>\n",
       "      <th>0</th>\n",
       "      <td>58.5000</td>\n",
       "      <td>0.00</td>\n",
       "    </tr>\n",
       "    <tr>\n",
       "      <th>1</th>\n",
       "      <td>30.0000</td>\n",
       "      <td>0.00</td>\n",
       "    </tr>\n",
       "    <tr>\n",
       "      <th>2</th>\n",
       "      <td>37.3500</td>\n",
       "      <td>0.10</td>\n",
       "    </tr>\n",
       "    <tr>\n",
       "      <th>3</th>\n",
       "      <td>80.7930</td>\n",
       "      <td>0.10</td>\n",
       "    </tr>\n",
       "    <tr>\n",
       "      <th>4</th>\n",
       "      <td>2.5000</td>\n",
       "      <td>0.00</td>\n",
       "    </tr>\n",
       "    <tr>\n",
       "      <th>5</th>\n",
       "      <td>36.0000</td>\n",
       "      <td>0.00</td>\n",
       "    </tr>\n",
       "    <tr>\n",
       "      <th>6</th>\n",
       "      <td>2.5000</td>\n",
       "      <td>0.00</td>\n",
       "    </tr>\n",
       "    <tr>\n",
       "      <th>7</th>\n",
       "      <td>26.9250</td>\n",
       "      <td>0.25</td>\n",
       "    </tr>\n",
       "    <tr>\n",
       "      <th>8</th>\n",
       "      <td>3.9500</td>\n",
       "      <td>0.00</td>\n",
       "    </tr>\n",
       "    <tr>\n",
       "      <th>9</th>\n",
       "      <td>168.8700</td>\n",
       "      <td>0.00</td>\n",
       "    </tr>\n",
       "    <tr>\n",
       "      <th>10</th>\n",
       "      <td>27.5500</td>\n",
       "      <td>0.00</td>\n",
       "    </tr>\n",
       "    <tr>\n",
       "      <th>11</th>\n",
       "      <td>27.5500</td>\n",
       "      <td>0.00</td>\n",
       "    </tr>\n",
       "    <tr>\n",
       "      <th>12</th>\n",
       "      <td>29.0000</td>\n",
       "      <td>0.00</td>\n",
       "    </tr>\n",
       "    <tr>\n",
       "      <th>13</th>\n",
       "      <td>89.0000</td>\n",
       "      <td>0.00</td>\n",
       "    </tr>\n",
       "    <tr>\n",
       "      <th>14</th>\n",
       "      <td>25.0500</td>\n",
       "      <td>0.25</td>\n",
       "    </tr>\n",
       "    <tr>\n",
       "      <th>15</th>\n",
       "      <td>12.9500</td>\n",
       "      <td>0.00</td>\n",
       "    </tr>\n",
       "    <tr>\n",
       "      <th>16</th>\n",
       "      <td>24.0000</td>\n",
       "      <td>0.00</td>\n",
       "    </tr>\n",
       "    <tr>\n",
       "      <th>17</th>\n",
       "      <td>80.0000</td>\n",
       "      <td>0.00</td>\n",
       "    </tr>\n",
       "    <tr>\n",
       "      <th>18</th>\n",
       "      <td>4.9500</td>\n",
       "      <td>0.00</td>\n",
       "    </tr>\n",
       "    <tr>\n",
       "      <th>19</th>\n",
       "      <td>23.4175</td>\n",
       "      <td>0.15</td>\n",
       "    </tr>\n",
       "  </tbody>\n",
       "</table>\n",
       "</div>"
      ],
      "text/plain": [
       "    Product_price  Web_Discount\n",
       "0         58.5000          0.00\n",
       "1         30.0000          0.00\n",
       "2         37.3500          0.10\n",
       "3         80.7930          0.10\n",
       "4          2.5000          0.00\n",
       "5         36.0000          0.00\n",
       "6          2.5000          0.00\n",
       "7         26.9250          0.25\n",
       "8          3.9500          0.00\n",
       "9        168.8700          0.00\n",
       "10        27.5500          0.00\n",
       "11        27.5500          0.00\n",
       "12        29.0000          0.00\n",
       "13        89.0000          0.00\n",
       "14        25.0500          0.25\n",
       "15        12.9500          0.00\n",
       "16        24.0000          0.00\n",
       "17        80.0000          0.00\n",
       "18         4.9500          0.00\n",
       "19        23.4175          0.15"
      ]
     },
     "execution_count": 20,
     "metadata": {},
     "output_type": "execute_result"
    }
   ],
   "source": [
    "pd.DataFrame(X_test_transf, columns=['Product_price', 'Web_Discount']).head(20)"
   ]
  },
  {
   "cell_type": "code",
   "execution_count": 21,
   "id": "chief-tobacco",
   "metadata": {},
   "outputs": [
    {
     "data": {
      "text/html": [
       "<div>\n",
       "<style scoped>\n",
       "    .dataframe tbody tr th:only-of-type {\n",
       "        vertical-align: middle;\n",
       "    }\n",
       "\n",
       "    .dataframe tbody tr th {\n",
       "        vertical-align: top;\n",
       "    }\n",
       "\n",
       "    .dataframe thead th {\n",
       "        text-align: right;\n",
       "    }\n",
       "</style>\n",
       "<table border=\"1\" class=\"dataframe\">\n",
       "  <thead>\n",
       "    <tr style=\"text-align: right;\">\n",
       "      <th></th>\n",
       "      <th>Product_price</th>\n",
       "      <th>Web_Discount</th>\n",
       "    </tr>\n",
       "  </thead>\n",
       "  <tbody>\n",
       "    <tr>\n",
       "      <th>2482349</th>\n",
       "      <td>58.50</td>\n",
       "      <td>0.00</td>\n",
       "    </tr>\n",
       "    <tr>\n",
       "      <th>3075967</th>\n",
       "      <td>30.00</td>\n",
       "      <td>0.00</td>\n",
       "    </tr>\n",
       "    <tr>\n",
       "      <th>2333535</th>\n",
       "      <td>41.50</td>\n",
       "      <td>0.10</td>\n",
       "    </tr>\n",
       "    <tr>\n",
       "      <th>2524915</th>\n",
       "      <td>89.77</td>\n",
       "      <td>0.10</td>\n",
       "    </tr>\n",
       "    <tr>\n",
       "      <th>391798</th>\n",
       "      <td>2.50</td>\n",
       "      <td>0.00</td>\n",
       "    </tr>\n",
       "    <tr>\n",
       "      <th>194596</th>\n",
       "      <td>36.00</td>\n",
       "      <td>0.00</td>\n",
       "    </tr>\n",
       "    <tr>\n",
       "      <th>389685</th>\n",
       "      <td>2.50</td>\n",
       "      <td>0.00</td>\n",
       "    </tr>\n",
       "    <tr>\n",
       "      <th>1909866</th>\n",
       "      <td>35.90</td>\n",
       "      <td>0.25</td>\n",
       "    </tr>\n",
       "    <tr>\n",
       "      <th>2721261</th>\n",
       "      <td>3.95</td>\n",
       "      <td>0.00</td>\n",
       "    </tr>\n",
       "    <tr>\n",
       "      <th>2741261</th>\n",
       "      <td>168.87</td>\n",
       "      <td>0.00</td>\n",
       "    </tr>\n",
       "    <tr>\n",
       "      <th>352852</th>\n",
       "      <td>NaN</td>\n",
       "      <td>0.00</td>\n",
       "    </tr>\n",
       "    <tr>\n",
       "      <th>530628</th>\n",
       "      <td>NaN</td>\n",
       "      <td>0.00</td>\n",
       "    </tr>\n",
       "    <tr>\n",
       "      <th>1572209</th>\n",
       "      <td>29.00</td>\n",
       "      <td>0.00</td>\n",
       "    </tr>\n",
       "    <tr>\n",
       "      <th>3346246</th>\n",
       "      <td>89.00</td>\n",
       "      <td>0.00</td>\n",
       "    </tr>\n",
       "    <tr>\n",
       "      <th>2320171</th>\n",
       "      <td>33.40</td>\n",
       "      <td>0.25</td>\n",
       "    </tr>\n",
       "    <tr>\n",
       "      <th>1473990</th>\n",
       "      <td>12.95</td>\n",
       "      <td>0.00</td>\n",
       "    </tr>\n",
       "    <tr>\n",
       "      <th>2948278</th>\n",
       "      <td>24.00</td>\n",
       "      <td>0.00</td>\n",
       "    </tr>\n",
       "    <tr>\n",
       "      <th>2853466</th>\n",
       "      <td>80.00</td>\n",
       "      <td>0.00</td>\n",
       "    </tr>\n",
       "    <tr>\n",
       "      <th>1778030</th>\n",
       "      <td>4.95</td>\n",
       "      <td>0.00</td>\n",
       "    </tr>\n",
       "    <tr>\n",
       "      <th>940605</th>\n",
       "      <td>NaN</td>\n",
       "      <td>0.15</td>\n",
       "    </tr>\n",
       "  </tbody>\n",
       "</table>\n",
       "</div>"
      ],
      "text/plain": [
       "         Product_price  Web_Discount\n",
       "2482349          58.50          0.00\n",
       "3075967          30.00          0.00\n",
       "2333535          41.50          0.10\n",
       "2524915          89.77          0.10\n",
       "391798            2.50          0.00\n",
       "194596           36.00          0.00\n",
       "389685            2.50          0.00\n",
       "1909866          35.90          0.25\n",
       "2721261           3.95          0.00\n",
       "2741261         168.87          0.00\n",
       "352852             NaN          0.00\n",
       "530628             NaN          0.00\n",
       "1572209          29.00          0.00\n",
       "3346246          89.00          0.00\n",
       "2320171          33.40          0.25\n",
       "1473990          12.95          0.00\n",
       "2948278          24.00          0.00\n",
       "2853466          80.00          0.00\n",
       "1778030           4.95          0.00\n",
       "940605             NaN          0.15"
      ]
     },
     "execution_count": 21,
     "metadata": {},
     "output_type": "execute_result"
    }
   ],
   "source": [
    "X_test[['Product_price', 'Web_Discount']].head(20)"
   ]
  },
  {
   "cell_type": "code",
   "execution_count": 23,
   "id": "marine-baking",
   "metadata": {},
   "outputs": [
    {
     "data": {
      "text/plain": [
       "Product_price    23.4175\n",
       "Web_Discount      0.1500\n",
       "Name: 19, dtype: float64"
      ]
     },
     "execution_count": 23,
     "metadata": {},
     "output_type": "execute_result"
    }
   ],
   "source": [
    "pd.DataFrame(X_test_transf, columns=['Product_price', 'Web_Discount']).iloc[19]"
   ]
  },
  {
   "cell_type": "code",
   "execution_count": 24,
   "id": "freelance-parish",
   "metadata": {},
   "outputs": [
    {
     "data": {
      "text/plain": [
       "Product_price     NaN\n",
       "Web_Discount     0.15\n",
       "Name: 940605, dtype: float64"
      ]
     },
     "execution_count": 24,
     "metadata": {},
     "output_type": "execute_result"
    }
   ],
   "source": [
    "X_test[['Product_price', 'Web_Discount']].iloc[19]"
   ]
  },
  {
   "cell_type": "code",
   "execution_count": 25,
   "id": "similar-working",
   "metadata": {},
   "outputs": [
    {
     "data": {
      "text/plain": [
       "23.4175"
      ]
     },
     "execution_count": 25,
     "metadata": {},
     "output_type": "execute_result"
    }
   ],
   "source": [
    "X_train['Product_price'].median()*(1-0.15)"
   ]
  },
  {
   "cell_type": "markdown",
   "id": "impressed-deadline",
   "metadata": {},
   "source": [
    "El transformador funciona correctamente. En el siguiente apartado, lo integraremos en el *Pipeline* completo para ejecutar un primer clasificador de referencia."
   ]
  },
  {
   "cell_type": "markdown",
   "id": "decimal-priority",
   "metadata": {},
   "source": [
    "### Classifier"
   ]
  },
  {
   "cell_type": "code",
   "execution_count": 36,
   "id": "knowing-basket",
   "metadata": {},
   "outputs": [],
   "source": [
    "## CUSTOM TRANSFORMERS\n",
    "\n",
    "# 'Operating System' Transformer\n",
    "\n",
    "important_os = ['Android','iOS','Windows','Macintosh']\n",
    "\n",
    "class OSTransfomer(BaseEstimator,TransformerMixin):\n",
    "    def fit(self,X,y=None):\n",
    "        return self\n",
    "    def transform (self,X,y=None):\n",
    "        X_=X.copy()\n",
    "        X_['ga:operatingSystem']=X_['ga:operatingSystem'].apply(lambda os: 'other OS' if os not in important_os else os)\n",
    "        return X_\n",
    "    \n",
    "    \n",
    "# Compile 'Source'\n",
    "\n",
    "def source_compiler(x):\n",
    "    \n",
    "    insta_words= ['instagram','ig','linktr.ee']\n",
    "    for seq in insta_words:\n",
    "        if seq in x.lower():\n",
    "            return 'instagram'\n",
    "    if 'facebook' in x.lower():\n",
    "        return 'facebook'\n",
    "    if 'youtube' in x.lower():\n",
    "        return 'youtube'  \n",
    "    if 'vogue' in x.lower():\n",
    "        return 'vogue'\n",
    "    if 'yahoo' in x.lower():\n",
    "        return 'yahoo'\n",
    "    else:\n",
    "        return x\n",
    "\n",
    "important_sources = ['google','(direct)','instagram','facebook','sendinblue','youtube','bing','yahoo','vogue','cantabrialabs.es']\n",
    "\n",
    "class SourceTransfomer(BaseEstimator,TransformerMixin):\n",
    "    def fit(self,X,y=None):\n",
    "        return self\n",
    "    def transform (self,X,y=None):\n",
    "        X_=X.copy()\n",
    "        X_['Source']=X_['Source'].apply(source_compiler)\n",
    "        X_['Source']=X_['Source'].apply(lambda source: 'other sources' if source not in important_sources else source)\n",
    "        return X_\n",
    "    \n",
    "# Compile 'Medium':\n",
    "\n",
    "def medium_compiler(x):\n",
    "    \n",
    "    if 'cpc' in x.lower():\n",
    "        return 'cpc'\n",
    "    if x=='Social':\n",
    "        return 'IGShopping'  \n",
    "    if x=='facebook':\n",
    "        return 'facebook ads'\n",
    "    if x=='trafico':\n",
    "        return 'facebook trafico'\n",
    "    else:\n",
    "        return x\n",
    "    \n",
    "class MediumTransfomer(BaseEstimator,TransformerMixin):\n",
    "    def fit(self,X,y=None):\n",
    "        return self\n",
    "    def transform (self,X,y=None):\n",
    "        X_=X.copy()\n",
    "        X_['Medium']=X_['Medium'].apply(medium_compiler)\n",
    "        return X_\n",
    "    \n",
    "# Select other columns with no transformations (in order to be able to apply get_feature_names)\n",
    "\n",
    "class SelectColumnTransformer(BaseEstimator,TransformerMixin):\n",
    "    def fit(self,X,y=None):\n",
    "        return self\n",
    "    def transform (self,X,y=None):\n",
    "        return X\n",
    "    \n",
    "# Product_price - Web_Discount\n",
    "\n",
    "def engineer_feature(columns, X):\n",
    "    df = pd.DataFrame(X, columns=columns)\n",
    "    df[\"Product_price\"] = df[\"Product_price\"]*(1-df[\"Web_Discount\"])\n",
    "    return df"
   ]
  },
  {
   "cell_type": "code",
   "execution_count": 37,
   "id": "encouraging-honey",
   "metadata": {},
   "outputs": [],
   "source": [
    "## PIPELINE:\n",
    "\n",
    "source_preprocessing = Pipeline([\n",
    "    ('source_transf',SourceTransfomer()),\n",
    "    ('ohe',OneHotEncoder()) # handle_unknown is default 'error'\n",
    "])\n",
    "\n",
    "medium_preprocessing = Pipeline([\n",
    "    ('medium_transf',MediumTransfomer()),\n",
    "    ('ohe',OneHotEncoder(drop='first')) #to drop (none) that is equal to (direct) in Source\n",
    "]) # handle_unknown is default 'error'\n",
    "\n",
    "device_preprocessing = Pipeline([\n",
    "    ('ohe',OneHotEncoder()) # handle_unknown is default 'error'\n",
    "])\n",
    "\n",
    "os_preprocessing = Pipeline([\n",
    "    ('os_transf',OSTransfomer()),\n",
    "    ('ohe',OneHotEncoder()) # handle_unknown is default 'error'\n",
    "])\n",
    "\n",
    "targetencod_preprocessing = Pipeline([('target_encoding',TargetEncoder())])\n",
    "\n",
    "no_preprocessing = Pipeline([('select_columns',SelectColumnTransformer())])\n",
    "\n",
    "# Product_price and Web_Discount Transformer\n",
    "from functools import partial\n",
    "def numeric_transformer(columns):\n",
    "    transformer = Pipeline([\n",
    "        (\"imputer\", SimpleImputer(strategy='median')),\n",
    "        (\"engineer\", FunctionTransformer(partial(engineer_feature, columns))),\n",
    "    ])\n",
    "    return (\"numeric\", transformer, columns)\n",
    "\n",
    "preprocess = ColumnTransformer([\n",
    "    ('source_preprocessing',source_preprocessing,['Source']),\n",
    "    ('medium_preprocessing',medium_preprocessing,['Medium']),\n",
    "    ('device_preprocessing',device_preprocessing,['ga:deviceCategory']),\n",
    "    ('os_preprocessing',os_preprocessing,['ga:operatingSystem']),\n",
    "    ('targetencod_preprocessing',targetencod_preprocessing,['ga:productSKU','ga:city','ga:pagePath','ga:landingPagePath']),\n",
    "    numeric_transformer([\"Product_price\", \"Web_Discount\"]),\n",
    "    ('no_preprocessing',no_preprocessing,['Detail_View','Returning_Visitor','ga:sessionCount','ga:daysSinceLastSession','month_sin','month_cos','dayofweek_sin','dayofweek_cos','hour_sin','hour_cos'])\n",
    "])\n",
    "\n",
    "# Model\n",
    "pipeline=Pipeline([\n",
    "    ('preprocess',preprocess),\n",
    "    ('clrf',RandomForestClassifier(n_estimators=100,n_jobs=-1, oob_score=True,bootstrap=True,random_state=42))\n",
    "])"
   ]
  },
  {
   "cell_type": "code",
   "execution_count": 40,
   "id": "former-antenna",
   "metadata": {},
   "outputs": [
    {
     "name": "stderr",
     "output_type": "stream",
     "text": [
      "/home/dsc/TFM/kschool_masterDS_TFM/env/lib/python3.7/site-packages/category_encoders/utils.py:21: FutureWarning: is_categorical is deprecated and will be removed in a future version.  Use is_categorical_dtype instead\n",
      "  elif pd.api.types.is_categorical(cols):\n"
     ]
    },
    {
     "name": "stdout",
     "output_type": "stream",
     "text": [
      "TRAINING SCORE: 0.9971567889243754\n",
      "ACCURACY: 0.9875809470892122\n",
      "PRECISION: 0.402359437751004\n",
      "RECALL: 0.15285591684943264\n",
      "F1 SCORE: 0.22154654135857924\n",
      "AUC: 0.8935911881766488\n",
      "CPU times: user 1h 19min 14s, sys: 30.1 s, total: 1h 19min 44s\n",
      "Wall time: 22min 30s\n"
     ]
    },
    {
     "data": {
      "image/png": "[encoded data removed]",
      "text/plain": [
       "<Figure size 432x288 with 1 Axes>"
      ]
     },
     "metadata": {
      "needs_background": "light"
     },
     "output_type": "display_data"
    }
   ],
   "source": [
    "%%time\n",
    "\n",
    "evaluate(pipeline,X_train, X_test, y_train, y_test)"
   ]
  },
  {
   "cell_type": "code",
   "execution_count": 41,
   "id": "hired-conditioning",
   "metadata": {},
   "outputs": [
    {
     "name": "stdout",
     "output_type": "stream",
     "text": [
      "              precision    recall  f1-score   support\n",
      "\n",
      "           0       0.99      1.00      0.99    896587\n",
      "           1       0.40      0.15      0.22     10487\n",
      "\n",
      "    accuracy                           0.99    907074\n",
      "   macro avg       0.70      0.58      0.61    907074\n",
      "weighted avg       0.98      0.99      0.98    907074\n",
      "\n"
     ]
    },
    {
     "data": {
      "text/plain": [
       "array([[894206,   2381],\n",
       "       [  8884,   1603]])"
      ]
     },
     "execution_count": 41,
     "metadata": {},
     "output_type": "execute_result"
    }
   ],
   "source": [
    "print(classification_report(y_test,pipeline.predict(X_test)))\n",
    "clrf_cm = confusion_matrix(y_test,pipeline.predict(X_test))\n",
    "clrf_cm"
   ]
  },
  {
   "cell_type": "code",
   "execution_count": 42,
   "id": "stuck-surgeon",
   "metadata": {},
   "outputs": [
    {
     "name": "stdout",
     "output_type": "stream",
     "text": [
      "43\n"
     ]
    },
    {
     "data": {
      "text/plain": [
       "['x0_(direct)',\n",
       " 'x0_bing',\n",
       " 'x0_cantabrialabs.es',\n",
       " 'x0_facebook',\n",
       " 'x0_google',\n",
       " 'x0_instagram',\n",
       " 'x0_other sources',\n",
       " 'x0_sendinblue',\n",
       " 'x0_vogue',\n",
       " 'x0_yahoo',\n",
       " 'x0_youtube',\n",
       " 'x0_IGShopping',\n",
       " 'x0_cpc',\n",
       " 'x0_email',\n",
       " 'x0_facebook ads',\n",
       " 'x0_facebook feed',\n",
       " 'x0_facebook trafico',\n",
       " 'x0_organic',\n",
       " 'x0_referral',\n",
       " 'x0_desktop',\n",
       " 'x0_mobile',\n",
       " 'x0_tablet',\n",
       " 'x0_Android',\n",
       " 'x0_Macintosh',\n",
       " 'x0_Windows',\n",
       " 'x0_iOS',\n",
       " 'x0_other OS',\n",
       " 'ga:productSKU',\n",
       " 'ga:city',\n",
       " 'ga:pagePath',\n",
       " 'ga:landingPagePath',\n",
       " 'Product_price',\n",
       " 'Web_Discount',\n",
       " 'Detail_View',\n",
       " 'Returning_Visitor',\n",
       " 'ga:sessionCount',\n",
       " 'ga:daysSinceLastSession',\n",
       " 'month_sin',\n",
       " 'month_cos',\n",
       " 'dayofweek_sin',\n",
       " 'dayofweek_cos',\n",
       " 'hour_sin',\n",
       " 'hour_cos']"
      ]
     },
     "execution_count": 42,
     "metadata": {},
     "output_type": "execute_result"
    }
   ],
   "source": [
    "features_names=[]\n",
    "\n",
    "for feature in range(0,4):\n",
    "    features= list(pipeline.named_steps['preprocess'].transformers_[feature][1].named_steps['ohe'].get_feature_names())\n",
    "    features_names.append(features)\n",
    "\n",
    "for feature in range(4,7):\n",
    "    features = pipeline['preprocess'].transformers_[feature][2]\n",
    "    features_names.append(features)\n",
    "\n",
    "features_names = [j for i in features_names for j in i]\n",
    "print(len(features_names))\n",
    "features_names"
   ]
  },
  {
   "cell_type": "code",
   "execution_count": 45,
   "id": "small-miller",
   "metadata": {},
   "outputs": [
    {
     "data": {
      "text/html": [
       "<div>\n",
       "<style scoped>\n",
       "    .dataframe tbody tr th:only-of-type {\n",
       "        vertical-align: middle;\n",
       "    }\n",
       "\n",
       "    .dataframe tbody tr th {\n",
       "        vertical-align: top;\n",
       "    }\n",
       "\n",
       "    .dataframe thead th {\n",
       "        text-align: right;\n",
       "    }\n",
       "</style>\n",
       "<table border=\"1\" class=\"dataframe\">\n",
       "  <thead>\n",
       "    <tr style=\"text-align: right;\">\n",
       "      <th></th>\n",
       "      <th>features</th>\n",
       "      <th>importances</th>\n",
       "    </tr>\n",
       "  </thead>\n",
       "  <tbody>\n",
       "    <tr>\n",
       "      <th>29</th>\n",
       "      <td>ga:pagePath</td>\n",
       "      <td>0.212105</td>\n",
       "    </tr>\n",
       "    <tr>\n",
       "      <th>27</th>\n",
       "      <td>ga:productSKU</td>\n",
       "      <td>0.147607</td>\n",
       "    </tr>\n",
       "    <tr>\n",
       "      <th>31</th>\n",
       "      <td>Product_price</td>\n",
       "      <td>0.111749</td>\n",
       "    </tr>\n",
       "    <tr>\n",
       "      <th>28</th>\n",
       "      <td>ga:city</td>\n",
       "      <td>0.076306</td>\n",
       "    </tr>\n",
       "    <tr>\n",
       "      <th>30</th>\n",
       "      <td>ga:landingPagePath</td>\n",
       "      <td>0.073150</td>\n",
       "    </tr>\n",
       "    <tr>\n",
       "      <th>41</th>\n",
       "      <td>hour_sin</td>\n",
       "      <td>0.059230</td>\n",
       "    </tr>\n",
       "    <tr>\n",
       "      <th>42</th>\n",
       "      <td>hour_cos</td>\n",
       "      <td>0.059176</td>\n",
       "    </tr>\n",
       "    <tr>\n",
       "      <th>39</th>\n",
       "      <td>dayofweek_sin</td>\n",
       "      <td>0.038484</td>\n",
       "    </tr>\n",
       "    <tr>\n",
       "      <th>35</th>\n",
       "      <td>ga:sessionCount</td>\n",
       "      <td>0.035643</td>\n",
       "    </tr>\n",
       "    <tr>\n",
       "      <th>40</th>\n",
       "      <td>dayofweek_cos</td>\n",
       "      <td>0.027657</td>\n",
       "    </tr>\n",
       "    <tr>\n",
       "      <th>36</th>\n",
       "      <td>ga:daysSinceLastSession</td>\n",
       "      <td>0.025378</td>\n",
       "    </tr>\n",
       "    <tr>\n",
       "      <th>38</th>\n",
       "      <td>month_cos</td>\n",
       "      <td>0.016612</td>\n",
       "    </tr>\n",
       "    <tr>\n",
       "      <th>37</th>\n",
       "      <td>month_sin</td>\n",
       "      <td>0.015775</td>\n",
       "    </tr>\n",
       "    <tr>\n",
       "      <th>33</th>\n",
       "      <td>Detail_View</td>\n",
       "      <td>0.013818</td>\n",
       "    </tr>\n",
       "    <tr>\n",
       "      <th>32</th>\n",
       "      <td>Web_Discount</td>\n",
       "      <td>0.010275</td>\n",
       "    </tr>\n",
       "    <tr>\n",
       "      <th>34</th>\n",
       "      <td>Returning_Visitor</td>\n",
       "      <td>0.009862</td>\n",
       "    </tr>\n",
       "    <tr>\n",
       "      <th>25</th>\n",
       "      <td>x0_iOS</td>\n",
       "      <td>0.006168</td>\n",
       "    </tr>\n",
       "    <tr>\n",
       "      <th>17</th>\n",
       "      <td>x0_organic</td>\n",
       "      <td>0.006106</td>\n",
       "    </tr>\n",
       "    <tr>\n",
       "      <th>22</th>\n",
       "      <td>x0_Android</td>\n",
       "      <td>0.006023</td>\n",
       "    </tr>\n",
       "    <tr>\n",
       "      <th>4</th>\n",
       "      <td>x0_google</td>\n",
       "      <td>0.004907</td>\n",
       "    </tr>\n",
       "    <tr>\n",
       "      <th>12</th>\n",
       "      <td>x0_cpc</td>\n",
       "      <td>0.004768</td>\n",
       "    </tr>\n",
       "    <tr>\n",
       "      <th>0</th>\n",
       "      <td>x0_(direct)</td>\n",
       "      <td>0.004660</td>\n",
       "    </tr>\n",
       "    <tr>\n",
       "      <th>20</th>\n",
       "      <td>x0_mobile</td>\n",
       "      <td>0.004618</td>\n",
       "    </tr>\n",
       "    <tr>\n",
       "      <th>24</th>\n",
       "      <td>x0_Windows</td>\n",
       "      <td>0.004478</td>\n",
       "    </tr>\n",
       "    <tr>\n",
       "      <th>23</th>\n",
       "      <td>x0_Macintosh</td>\n",
       "      <td>0.004032</td>\n",
       "    </tr>\n",
       "    <tr>\n",
       "      <th>19</th>\n",
       "      <td>x0_desktop</td>\n",
       "      <td>0.003316</td>\n",
       "    </tr>\n",
       "    <tr>\n",
       "      <th>21</th>\n",
       "      <td>x0_tablet</td>\n",
       "      <td>0.003110</td>\n",
       "    </tr>\n",
       "    <tr>\n",
       "      <th>18</th>\n",
       "      <td>x0_referral</td>\n",
       "      <td>0.003019</td>\n",
       "    </tr>\n",
       "    <tr>\n",
       "      <th>5</th>\n",
       "      <td>x0_instagram</td>\n",
       "      <td>0.002838</td>\n",
       "    </tr>\n",
       "    <tr>\n",
       "      <th>13</th>\n",
       "      <td>x0_email</td>\n",
       "      <td>0.001694</td>\n",
       "    </tr>\n",
       "    <tr>\n",
       "      <th>7</th>\n",
       "      <td>x0_sendinblue</td>\n",
       "      <td>0.001660</td>\n",
       "    </tr>\n",
       "    <tr>\n",
       "      <th>3</th>\n",
       "      <td>x0_facebook</td>\n",
       "      <td>0.001450</td>\n",
       "    </tr>\n",
       "    <tr>\n",
       "      <th>1</th>\n",
       "      <td>x0_bing</td>\n",
       "      <td>0.000783</td>\n",
       "    </tr>\n",
       "    <tr>\n",
       "      <th>11</th>\n",
       "      <td>x0_IGShopping</td>\n",
       "      <td>0.000724</td>\n",
       "    </tr>\n",
       "    <tr>\n",
       "      <th>10</th>\n",
       "      <td>x0_youtube</td>\n",
       "      <td>0.000631</td>\n",
       "    </tr>\n",
       "    <tr>\n",
       "      <th>6</th>\n",
       "      <td>x0_other sources</td>\n",
       "      <td>0.000630</td>\n",
       "    </tr>\n",
       "    <tr>\n",
       "      <th>26</th>\n",
       "      <td>x0_other OS</td>\n",
       "      <td>0.000478</td>\n",
       "    </tr>\n",
       "    <tr>\n",
       "      <th>8</th>\n",
       "      <td>x0_vogue</td>\n",
       "      <td>0.000428</td>\n",
       "    </tr>\n",
       "    <tr>\n",
       "      <th>9</th>\n",
       "      <td>x0_yahoo</td>\n",
       "      <td>0.000319</td>\n",
       "    </tr>\n",
       "    <tr>\n",
       "      <th>2</th>\n",
       "      <td>x0_cantabrialabs.es</td>\n",
       "      <td>0.000214</td>\n",
       "    </tr>\n",
       "    <tr>\n",
       "      <th>14</th>\n",
       "      <td>x0_facebook ads</td>\n",
       "      <td>0.000092</td>\n",
       "    </tr>\n",
       "    <tr>\n",
       "      <th>15</th>\n",
       "      <td>x0_facebook feed</td>\n",
       "      <td>0.000027</td>\n",
       "    </tr>\n",
       "    <tr>\n",
       "      <th>16</th>\n",
       "      <td>x0_facebook trafico</td>\n",
       "      <td>0.000001</td>\n",
       "    </tr>\n",
       "  </tbody>\n",
       "</table>\n",
       "</div>"
      ],
      "text/plain": [
       "                   features  importances\n",
       "29              ga:pagePath     0.212105\n",
       "27            ga:productSKU     0.147607\n",
       "31            Product_price     0.111749\n",
       "28                  ga:city     0.076306\n",
       "30       ga:landingPagePath     0.073150\n",
       "41                 hour_sin     0.059230\n",
       "42                 hour_cos     0.059176\n",
       "39            dayofweek_sin     0.038484\n",
       "35          ga:sessionCount     0.035643\n",
       "40            dayofweek_cos     0.027657\n",
       "36  ga:daysSinceLastSession     0.025378\n",
       "38                month_cos     0.016612\n",
       "37                month_sin     0.015775\n",
       "33              Detail_View     0.013818\n",
       "32             Web_Discount     0.010275\n",
       "34        Returning_Visitor     0.009862\n",
       "25                   x0_iOS     0.006168\n",
       "17               x0_organic     0.006106\n",
       "22               x0_Android     0.006023\n",
       "4                 x0_google     0.004907\n",
       "12                   x0_cpc     0.004768\n",
       "0               x0_(direct)     0.004660\n",
       "20                x0_mobile     0.004618\n",
       "24               x0_Windows     0.004478\n",
       "23             x0_Macintosh     0.004032\n",
       "19               x0_desktop     0.003316\n",
       "21                x0_tablet     0.003110\n",
       "18              x0_referral     0.003019\n",
       "5              x0_instagram     0.002838\n",
       "13                 x0_email     0.001694\n",
       "7             x0_sendinblue     0.001660\n",
       "3               x0_facebook     0.001450\n",
       "1                   x0_bing     0.000783\n",
       "11            x0_IGShopping     0.000724\n",
       "10               x0_youtube     0.000631\n",
       "6          x0_other sources     0.000630\n",
       "26              x0_other OS     0.000478\n",
       "8                  x0_vogue     0.000428\n",
       "9                  x0_yahoo     0.000319\n",
       "2       x0_cantabrialabs.es     0.000214\n",
       "14          x0_facebook ads     0.000092\n",
       "15         x0_facebook feed     0.000027\n",
       "16      x0_facebook trafico     0.000001"
      ]
     },
     "execution_count": 45,
     "metadata": {},
     "output_type": "execute_result"
    }
   ],
   "source": [
    "importances = pipeline.steps[1][1].feature_importances_\n",
    "df_feat_import = pd.DataFrame({'features': features_names, 'importances': importances}).sort_values(by='importances')\n",
    "df_feat_import.sort_values(by='importances', ascending=False)"
   ]
  },
  {
   "cell_type": "code",
   "execution_count": 46,
   "id": "egyptian-johns",
   "metadata": {},
   "outputs": [
    {
     "data": {
      "image/png": "[encoded data removed]",
      "text/plain": [
       "<Figure size 1080x720 with 1 Axes>"
      ]
     },
     "metadata": {
      "needs_background": "light"
     },
     "output_type": "display_data"
    }
   ],
   "source": [
    "plt.figure(figsize=(15,10))\n",
    "plt.barh(df_feat_import['features'],df_feat_import['importances'] )\n",
    "plt.yticks(range(43));"
   ]
  },
  {
   "cell_type": "markdown",
   "id": "adolescent-representation",
   "metadata": {},
   "source": [
    "## FEATURE SELECTION"
   ]
  },
  {
   "cell_type": "markdown",
   "id": "infrared-calvin",
   "metadata": {},
   "source": [
    "Como ya hicimos en el notebook '09_ RANDOM_FOREST_MODEL_OPTIMIZATION' y con el fin de optimizar el rendimiento del modelo, eliminaremos aquellas variables que no son significativas. \n",
    "\n",
    "Como ya se vio entonces, no era posible ejecutar en un mismo *Pipeline* el preprocesado, la selección de variables y el clasificador. Lo haremos por lo tanto paso a paso.\n",
    "\n",
    "__\n",
    "\n",
    "**NOTA**: Si desea ejecutar las siguientes celdas, asegurese que ha cargado los campos y ejecutado todas las celdas del apartado 'DATA'."
   ]
  },
  {
   "cell_type": "markdown",
   "id": "important-budapest",
   "metadata": {},
   "source": [
    "### Preprocesado"
   ]
  },
  {
   "cell_type": "markdown",
   "id": "sixth-lighting",
   "metadata": {},
   "source": [
    "Empezamos por realizar el preprocesado de las variables *input* tal y como ya hicimos en el apartado anterior:"
   ]
  },
  {
   "cell_type": "code",
   "execution_count": 7,
   "id": "absolute-chain",
   "metadata": {},
   "outputs": [],
   "source": [
    "## CUSTOM TRANSFORMERS\n",
    "\n",
    "# 'Operating System' Transformer\n",
    "\n",
    "important_os = ['Android','iOS','Windows','Macintosh']\n",
    "\n",
    "class OSTransfomer(BaseEstimator,TransformerMixin):\n",
    "    def fit(self,X,y=None):\n",
    "        return self\n",
    "    def transform (self,X,y=None):\n",
    "        X_=X.copy()\n",
    "        X_['ga:operatingSystem']=X_['ga:operatingSystem'].apply(lambda os: 'other OS' if os not in important_os else os)\n",
    "        return X_\n",
    "    \n",
    "    \n",
    "# Compile 'Source'\n",
    "\n",
    "def source_compiler(x):\n",
    "    \n",
    "    insta_words= ['instagram','ig','linktr.ee']\n",
    "    for seq in insta_words:\n",
    "        if seq in x.lower():\n",
    "            return 'instagram'\n",
    "    if 'facebook' in x.lower():\n",
    "        return 'facebook'\n",
    "    if 'youtube' in x.lower():\n",
    "        return 'youtube'  \n",
    "    if 'vogue' in x.lower():\n",
    "        return 'vogue'\n",
    "    if 'yahoo' in x.lower():\n",
    "        return 'yahoo'\n",
    "    else:\n",
    "        return x\n",
    "\n",
    "important_sources = ['google','(direct)','instagram','facebook','sendinblue','youtube','bing','yahoo','vogue','cantabrialabs.es']\n",
    "\n",
    "class SourceTransfomer(BaseEstimator,TransformerMixin):\n",
    "    def fit(self,X,y=None):\n",
    "        return self\n",
    "    def transform (self,X,y=None):\n",
    "        X_=X.copy()\n",
    "        X_['Source']=X_['Source'].apply(source_compiler)\n",
    "        X_['Source']=X_['Source'].apply(lambda source: 'other sources' if source not in important_sources else source)\n",
    "        return X_\n",
    "    \n",
    "# Compile 'Medium':\n",
    "\n",
    "def medium_compiler(x):\n",
    "    \n",
    "    if 'cpc' in x.lower():\n",
    "        return 'cpc'\n",
    "    if x=='Social':\n",
    "        return 'IGShopping'  \n",
    "    if x=='facebook':\n",
    "        return 'facebook ads'\n",
    "    if x=='trafico':\n",
    "        return 'facebook trafico'\n",
    "    else:\n",
    "        return x\n",
    "    \n",
    "class MediumTransfomer(BaseEstimator,TransformerMixin):\n",
    "    def fit(self,X,y=None):\n",
    "        return self\n",
    "    def transform (self,X,y=None):\n",
    "        X_=X.copy()\n",
    "        X_['Medium']=X_['Medium'].apply(medium_compiler)\n",
    "        return X_\n",
    "    \n",
    "# Select other columns with no transformations (in order to be able to apply get_feature_names)\n",
    "\n",
    "class SelectColumnTransformer(BaseEstimator,TransformerMixin):\n",
    "    def fit(self,X,y=None):\n",
    "        return self\n",
    "    def transform (self,X,y=None):\n",
    "        return X\n",
    "    \n",
    "# Product_price - Web_Discount\n",
    "\n",
    "def engineer_feature(columns, X):\n",
    "    df = pd.DataFrame(X, columns=columns)\n",
    "    df[\"Product_price\"] = df[\"Product_price\"]*(1-df[\"Web_Discount\"])\n",
    "    return df"
   ]
  },
  {
   "cell_type": "code",
   "execution_count": 8,
   "id": "valuable-privacy",
   "metadata": {},
   "outputs": [],
   "source": [
    "## PREPROCESS PIPELINE:\n",
    "\n",
    "source_preprocessing = Pipeline([\n",
    "    ('source_transf',SourceTransfomer()),\n",
    "    ('ohe',OneHotEncoder()) # handle_unknown is default 'error'\n",
    "])\n",
    "\n",
    "medium_preprocessing = Pipeline([\n",
    "    ('medium_transf',MediumTransfomer()),\n",
    "    ('ohe',OneHotEncoder(drop='first')) #to drop (none) that is equal to (direct) in Source\n",
    "]) # handle_unknown is default 'error'\n",
    "\n",
    "device_preprocessing = Pipeline([\n",
    "    ('ohe',OneHotEncoder()) # handle_unknown is default 'error'\n",
    "])\n",
    "\n",
    "os_preprocessing = Pipeline([\n",
    "    ('os_transf',OSTransfomer()),\n",
    "    ('ohe',OneHotEncoder()) # handle_unknown is default 'error'\n",
    "])\n",
    "\n",
    "targetencod_preprocessing = Pipeline([('target_encoding',TargetEncoder())])\n",
    "\n",
    "no_preprocessing = Pipeline([('select_columns',SelectColumnTransformer())])\n",
    "\n",
    "# Product_price and Web_Discount Transformer\n",
    "from functools import partial\n",
    "def numeric_transformer(columns):\n",
    "    transformer = Pipeline([\n",
    "        (\"imputer\", SimpleImputer(strategy='median')),\n",
    "        (\"engineer\", FunctionTransformer(partial(engineer_feature, columns))),\n",
    "    ])\n",
    "    return (\"numeric\", transformer, columns)\n",
    "\n",
    "preprocess = ColumnTransformer([\n",
    "    ('source_preprocessing',source_preprocessing,['Source']),\n",
    "    ('medium_preprocessing',medium_preprocessing,['Medium']),\n",
    "    ('device_preprocessing',device_preprocessing,['ga:deviceCategory']),\n",
    "    ('os_preprocessing',os_preprocessing,['ga:operatingSystem']),\n",
    "    ('targetencod_preprocessing',targetencod_preprocessing,['ga:productSKU','ga:city','ga:pagePath','ga:landingPagePath']),\n",
    "    numeric_transformer([\"Product_price\", \"Web_Discount\"]),\n",
    "    ('no_preprocessing',no_preprocessing,['Detail_View','Returning_Visitor','ga:sessionCount','ga:daysSinceLastSession','month_sin','month_cos','dayofweek_sin','dayofweek_cos','hour_sin','hour_cos'])\n",
    "])\n",
    "\n",
    "# Model\n",
    "pipeline=Pipeline([\n",
    "    ('preprocess',preprocess),\n",
    "])"
   ]
  },
  {
   "cell_type": "code",
   "execution_count": 9,
   "id": "handled-commons",
   "metadata": {},
   "outputs": [
    {
     "name": "stderr",
     "output_type": "stream",
     "text": [
      "/home/dsc/TFM/kschool_masterDS_TFM/env/lib/python3.7/site-packages/category_encoders/utils.py:21: FutureWarning: is_categorical is deprecated and will be removed in a future version.  Use is_categorical_dtype instead\n",
      "  elif pd.api.types.is_categorical(cols):\n"
     ]
    },
    {
     "name": "stdout",
     "output_type": "stream",
     "text": [
      "CPU times: user 1min 5s, sys: 5.37 s, total: 1min 10s\n",
      "Wall time: 1min 10s\n"
     ]
    }
   ],
   "source": [
    "%%time\n",
    "\n",
    "X_train_transf = pipeline.fit_transform(X_train,y_train)\n",
    "X_test_transf = pipeline.transform(X_test)"
   ]
  },
  {
   "cell_type": "code",
   "execution_count": 51,
   "id": "racial-thomas",
   "metadata": {},
   "outputs": [],
   "source": [
    "pickle.dump(pipeline,open(\"FINALMODEL_preprocess.pickle\",\"wb\"))"
   ]
  },
  {
   "cell_type": "markdown",
   "id": "floral-thursday",
   "metadata": {},
   "source": [
    "### Permutation Importance"
   ]
  },
  {
   "cell_type": "markdown",
   "id": "chronic-piano",
   "metadata": {},
   "source": [
    "Seleccionaremos las variables independientes por su importancia siguiendo el método de permutación de la librería eli5, como ya hicimos en el notebook '09_ RANDOM_FOREST_MODEL_OPTIMIZATION'.\n",
    "\n",
    "Para ello, empezaremos por calcular la **importancia de cada uno de los** ***features*** de acuerdo a su influencia en la métrica *recall* cuando cada uno de ellos deja de estar disponible:"
   ]
  },
  {
   "cell_type": "code",
   "execution_count": 10,
   "id": "small-round",
   "metadata": {},
   "outputs": [
    {
     "name": "stdout",
     "output_type": "stream",
     "text": [
      "43\n"
     ]
    },
    {
     "data": {
      "text/plain": [
       "['x0_(direct)',\n",
       " 'x0_bing',\n",
       " 'x0_cantabrialabs.es',\n",
       " 'x0_facebook',\n",
       " 'x0_google',\n",
       " 'x0_instagram',\n",
       " 'x0_other sources',\n",
       " 'x0_sendinblue',\n",
       " 'x0_vogue',\n",
       " 'x0_yahoo',\n",
       " 'x0_youtube',\n",
       " 'x0_IGShopping',\n",
       " 'x0_cpc',\n",
       " 'x0_email',\n",
       " 'x0_facebook ads',\n",
       " 'x0_facebook feed',\n",
       " 'x0_facebook trafico',\n",
       " 'x0_organic',\n",
       " 'x0_referral',\n",
       " 'x0_desktop',\n",
       " 'x0_mobile',\n",
       " 'x0_tablet',\n",
       " 'x0_Android',\n",
       " 'x0_Macintosh',\n",
       " 'x0_Windows',\n",
       " 'x0_iOS',\n",
       " 'x0_other OS',\n",
       " 'ga:productSKU',\n",
       " 'ga:city',\n",
       " 'ga:pagePath',\n",
       " 'ga:landingPagePath',\n",
       " 'Product_price',\n",
       " 'Web_Discount',\n",
       " 'Detail_View',\n",
       " 'Returning_Visitor',\n",
       " 'ga:sessionCount',\n",
       " 'ga:daysSinceLastSession',\n",
       " 'month_sin',\n",
       " 'month_cos',\n",
       " 'dayofweek_sin',\n",
       " 'dayofweek_cos',\n",
       " 'hour_sin',\n",
       " 'hour_cos']"
      ]
     },
     "execution_count": 10,
     "metadata": {},
     "output_type": "execute_result"
    }
   ],
   "source": [
    "features_names=[]\n",
    "\n",
    "for feature in range(0,4):\n",
    "    features= list(pipeline.named_steps['preprocess'].transformers_[feature][1].named_steps['ohe'].get_feature_names())\n",
    "    features_names.append(features)\n",
    "\n",
    "for feature in range(4,7):\n",
    "    features = pipeline['preprocess'].transformers_[feature][2]\n",
    "    features_names.append(features)\n",
    "\n",
    "features_names = [j for i in features_names for j in i]\n",
    "print(len(features_names))\n",
    "features_names"
   ]
  },
  {
   "cell_type": "code",
   "execution_count": 11,
   "id": "imperial-afternoon",
   "metadata": {},
   "outputs": [
    {
     "name": "stdout",
     "output_type": "stream",
     "text": [
      "CPU times: user 2h 56min 19s, sys: 15.8 s, total: 2h 56min 34s\n",
      "Wall time: 2h 56min 42s\n"
     ]
    },
    {
     "data": {
      "text/html": [
       "\n",
       "    <style>\n",
       "    table.eli5-weights tr:hover {\n",
       "        filter: brightness(85%);\n",
       "    }\n",
       "</style>\n",
       "\n",
       "\n",
       "\n",
       "    \n",
       "\n",
       "    \n",
       "\n",
       "    \n",
       "\n",
       "    \n",
       "\n",
       "    \n",
       "\n",
       "    \n",
       "\n",
       "\n",
       "    \n",
       "\n",
       "    \n",
       "\n",
       "    \n",
       "\n",
       "    \n",
       "\n",
       "    \n",
       "\n",
       "    \n",
       "\n",
       "\n",
       "    \n",
       "\n",
       "    \n",
       "\n",
       "    \n",
       "\n",
       "    \n",
       "\n",
       "    \n",
       "        <table class=\"eli5-weights eli5-feature-importances\" style=\"border-collapse: collapse; border: none; margin-top: 0em; table-layout: auto;\">\n",
       "    <thead>\n",
       "    <tr style=\"border: none;\">\n",
       "        <th style=\"padding: 0 1em 0 0.5em; text-align: right; border: none;\">Weight</th>\n",
       "        <th style=\"padding: 0 0.5em 0 0.5em; text-align: left; border: none;\">Feature</th>\n",
       "    </tr>\n",
       "    </thead>\n",
       "    <tbody>\n",
       "    \n",
       "        <tr style=\"background-color: hsl(120, 100.00%, 80.00%); border: none;\">\n",
       "            <td style=\"padding: 0 1em 0 0.5em; text-align: right; border: none;\">\n",
       "                0.1195\n",
       "                \n",
       "                    &plusmn; 0.0026\n",
       "                \n",
       "            </td>\n",
       "            <td style=\"padding: 0 0.5em 0 0.5em; text-align: left; border: none;\">\n",
       "                ga:pagePath\n",
       "            </td>\n",
       "        </tr>\n",
       "    \n",
       "        <tr style=\"background-color: hsl(120, 100.00%, 84.97%); border: none;\">\n",
       "            <td style=\"padding: 0 1em 0 0.5em; text-align: right; border: none;\">\n",
       "                0.0795\n",
       "                \n",
       "                    &plusmn; 0.0019\n",
       "                \n",
       "            </td>\n",
       "            <td style=\"padding: 0 0.5em 0 0.5em; text-align: left; border: none;\">\n",
       "                ga:productSKU\n",
       "            </td>\n",
       "        </tr>\n",
       "    \n",
       "        <tr style=\"background-color: hsl(120, 100.00%, 87.76%); border: none;\">\n",
       "            <td style=\"padding: 0 1em 0 0.5em; text-align: right; border: none;\">\n",
       "                0.0593\n",
       "                \n",
       "                    &plusmn; 0.0015\n",
       "                \n",
       "            </td>\n",
       "            <td style=\"padding: 0 0.5em 0 0.5em; text-align: left; border: none;\">\n",
       "                ga:landingPagePath\n",
       "            </td>\n",
       "        </tr>\n",
       "    \n",
       "        <tr style=\"background-color: hsl(120, 100.00%, 90.08%); border: none;\">\n",
       "            <td style=\"padding: 0 1em 0 0.5em; text-align: right; border: none;\">\n",
       "                0.0439\n",
       "                \n",
       "                    &plusmn; 0.0027\n",
       "                \n",
       "            </td>\n",
       "            <td style=\"padding: 0 0.5em 0 0.5em; text-align: left; border: none;\">\n",
       "                Product_price\n",
       "            </td>\n",
       "        </tr>\n",
       "    \n",
       "        <tr style=\"background-color: hsl(120, 100.00%, 90.43%); border: none;\">\n",
       "            <td style=\"padding: 0 1em 0 0.5em; text-align: right; border: none;\">\n",
       "                0.0417\n",
       "                \n",
       "                    &plusmn; 0.0027\n",
       "                \n",
       "            </td>\n",
       "            <td style=\"padding: 0 0.5em 0 0.5em; text-align: left; border: none;\">\n",
       "                Detail_View\n",
       "            </td>\n",
       "        </tr>\n",
       "    \n",
       "        <tr style=\"background-color: hsl(120, 100.00%, 91.65%); border: none;\">\n",
       "            <td style=\"padding: 0 1em 0 0.5em; text-align: right; border: none;\">\n",
       "                0.0343\n",
       "                \n",
       "                    &plusmn; 0.0018\n",
       "                \n",
       "            </td>\n",
       "            <td style=\"padding: 0 0.5em 0 0.5em; text-align: left; border: none;\">\n",
       "                month_sin\n",
       "            </td>\n",
       "        </tr>\n",
       "    \n",
       "        <tr style=\"background-color: hsl(120, 100.00%, 91.74%); border: none;\">\n",
       "            <td style=\"padding: 0 1em 0 0.5em; text-align: right; border: none;\">\n",
       "                0.0338\n",
       "                \n",
       "                    &plusmn; 0.0026\n",
       "                \n",
       "            </td>\n",
       "            <td style=\"padding: 0 0.5em 0 0.5em; text-align: left; border: none;\">\n",
       "                Web_Discount\n",
       "            </td>\n",
       "        </tr>\n",
       "    \n",
       "        <tr style=\"background-color: hsl(120, 100.00%, 93.15%); border: none;\">\n",
       "            <td style=\"padding: 0 1em 0 0.5em; text-align: right; border: none;\">\n",
       "                0.0259\n",
       "                \n",
       "                    &plusmn; 0.0006\n",
       "                \n",
       "            </td>\n",
       "            <td style=\"padding: 0 0.5em 0 0.5em; text-align: left; border: none;\">\n",
       "                month_cos\n",
       "            </td>\n",
       "        </tr>\n",
       "    \n",
       "        <tr style=\"background-color: hsl(120, 100.00%, 94.53%); border: none;\">\n",
       "            <td style=\"padding: 0 1em 0 0.5em; text-align: right; border: none;\">\n",
       "                0.0188\n",
       "                \n",
       "                    &plusmn; 0.0019\n",
       "                \n",
       "            </td>\n",
       "            <td style=\"padding: 0 0.5em 0 0.5em; text-align: left; border: none;\">\n",
       "                ga:city\n",
       "            </td>\n",
       "        </tr>\n",
       "    \n",
       "        <tr style=\"background-color: hsl(120, 100.00%, 94.53%); border: none;\">\n",
       "            <td style=\"padding: 0 1em 0 0.5em; text-align: right; border: none;\">\n",
       "                0.0187\n",
       "                \n",
       "                    &plusmn; 0.0028\n",
       "                \n",
       "            </td>\n",
       "            <td style=\"padding: 0 0.5em 0 0.5em; text-align: left; border: none;\">\n",
       "                x0_google\n",
       "            </td>\n",
       "        </tr>\n",
       "    \n",
       "        <tr style=\"background-color: hsl(120, 100.00%, 94.55%); border: none;\">\n",
       "            <td style=\"padding: 0 1em 0 0.5em; text-align: right; border: none;\">\n",
       "                0.0187\n",
       "                \n",
       "                    &plusmn; 0.0008\n",
       "                \n",
       "            </td>\n",
       "            <td style=\"padding: 0 0.5em 0 0.5em; text-align: left; border: none;\">\n",
       "                ga:sessionCount\n",
       "            </td>\n",
       "        </tr>\n",
       "    \n",
       "        <tr style=\"background-color: hsl(120, 100.00%, 94.73%); border: none;\">\n",
       "            <td style=\"padding: 0 1em 0 0.5em; text-align: right; border: none;\">\n",
       "                0.0178\n",
       "                \n",
       "                    &plusmn; 0.0009\n",
       "                \n",
       "            </td>\n",
       "            <td style=\"padding: 0 0.5em 0 0.5em; text-align: left; border: none;\">\n",
       "                hour_cos\n",
       "            </td>\n",
       "        </tr>\n",
       "    \n",
       "        <tr style=\"background-color: hsl(120, 100.00%, 94.92%); border: none;\">\n",
       "            <td style=\"padding: 0 1em 0 0.5em; text-align: right; border: none;\">\n",
       "                0.0169\n",
       "                \n",
       "                    &plusmn; 0.0013\n",
       "                \n",
       "            </td>\n",
       "            <td style=\"padding: 0 0.5em 0 0.5em; text-align: left; border: none;\">\n",
       "                dayofweek_sin\n",
       "            </td>\n",
       "        </tr>\n",
       "    \n",
       "        <tr style=\"background-color: hsl(120, 100.00%, 94.95%); border: none;\">\n",
       "            <td style=\"padding: 0 1em 0 0.5em; text-align: right; border: none;\">\n",
       "                0.0167\n",
       "                \n",
       "                    &plusmn; 0.0017\n",
       "                \n",
       "            </td>\n",
       "            <td style=\"padding: 0 0.5em 0 0.5em; text-align: left; border: none;\">\n",
       "                hour_sin\n",
       "            </td>\n",
       "        </tr>\n",
       "    \n",
       "        <tr style=\"background-color: hsl(120, 100.00%, 94.98%); border: none;\">\n",
       "            <td style=\"padding: 0 1em 0 0.5em; text-align: right; border: none;\">\n",
       "                0.0166\n",
       "                \n",
       "                    &plusmn; 0.0020\n",
       "                \n",
       "            </td>\n",
       "            <td style=\"padding: 0 0.5em 0 0.5em; text-align: left; border: none;\">\n",
       "                dayofweek_cos\n",
       "            </td>\n",
       "        </tr>\n",
       "    \n",
       "        <tr style=\"background-color: hsl(120, 100.00%, 95.14%); border: none;\">\n",
       "            <td style=\"padding: 0 1em 0 0.5em; text-align: right; border: none;\">\n",
       "                0.0158\n",
       "                \n",
       "                    &plusmn; 0.0015\n",
       "                \n",
       "            </td>\n",
       "            <td style=\"padding: 0 0.5em 0 0.5em; text-align: left; border: none;\">\n",
       "                x0_Android\n",
       "            </td>\n",
       "        </tr>\n",
       "    \n",
       "        <tr style=\"background-color: hsl(120, 100.00%, 95.21%); border: none;\">\n",
       "            <td style=\"padding: 0 1em 0 0.5em; text-align: right; border: none;\">\n",
       "                0.0155\n",
       "                \n",
       "                    &plusmn; 0.0010\n",
       "                \n",
       "            </td>\n",
       "            <td style=\"padding: 0 0.5em 0 0.5em; text-align: left; border: none;\">\n",
       "                x0_cpc\n",
       "            </td>\n",
       "        </tr>\n",
       "    \n",
       "        <tr style=\"background-color: hsl(120, 100.00%, 95.77%); border: none;\">\n",
       "            <td style=\"padding: 0 1em 0 0.5em; text-align: right; border: none;\">\n",
       "                0.0130\n",
       "                \n",
       "                    &plusmn; 0.0019\n",
       "                \n",
       "            </td>\n",
       "            <td style=\"padding: 0 0.5em 0 0.5em; text-align: left; border: none;\">\n",
       "                x0_organic\n",
       "            </td>\n",
       "        </tr>\n",
       "    \n",
       "        <tr style=\"background-color: hsl(120, 100.00%, 95.84%); border: none;\">\n",
       "            <td style=\"padding: 0 1em 0 0.5em; text-align: right; border: none;\">\n",
       "                0.0127\n",
       "                \n",
       "                    &plusmn; 0.0016\n",
       "                \n",
       "            </td>\n",
       "            <td style=\"padding: 0 0.5em 0 0.5em; text-align: left; border: none;\">\n",
       "                x0_desktop\n",
       "            </td>\n",
       "        </tr>\n",
       "    \n",
       "        <tr style=\"background-color: hsl(120, 100.00%, 96.02%); border: none;\">\n",
       "            <td style=\"padding: 0 1em 0 0.5em; text-align: right; border: none;\">\n",
       "                0.0119\n",
       "                \n",
       "                    &plusmn; 0.0017\n",
       "                \n",
       "            </td>\n",
       "            <td style=\"padding: 0 0.5em 0 0.5em; text-align: left; border: none;\">\n",
       "                Returning_Visitor\n",
       "            </td>\n",
       "        </tr>\n",
       "    \n",
       "    \n",
       "        \n",
       "            <tr style=\"background-color: hsl(120, 100.00%, 96.02%); border: none;\">\n",
       "                <td colspan=\"2\" style=\"padding: 0 0.5em 0 0.5em; text-align: center; border: none; white-space: nowrap;\">\n",
       "                    <i>&hellip; 23 more &hellip;</i>\n",
       "                </td>\n",
       "            </tr>\n",
       "        \n",
       "    \n",
       "    </tbody>\n",
       "</table>\n",
       "    \n",
       "\n",
       "    \n",
       "\n",
       "\n",
       "    \n",
       "\n",
       "    \n",
       "\n",
       "    \n",
       "\n",
       "    \n",
       "\n",
       "    \n",
       "\n",
       "    \n",
       "\n",
       "\n",
       "\n"
      ],
      "text/plain": [
       "<IPython.core.display.HTML object>"
      ]
     },
     "execution_count": 11,
     "metadata": {},
     "output_type": "execute_result"
    }
   ],
   "source": [
    "%%time\n",
    "\n",
    "clf = RandomForestClassifier()\n",
    "clf.fit(X_train_transf,y_train)\n",
    "per = PermutationImportance(clf, scoring=\"recall\",random_state=43).fit(X_test_transf, y_test)\n",
    "eli5.show_weights(per, feature_names=features_names)"
   ]
  },
  {
   "cell_type": "code",
   "execution_count": 12,
   "id": "measured-mailman",
   "metadata": {},
   "outputs": [
    {
     "data": {
      "text/html": [
       "\n",
       "    <style>\n",
       "    table.eli5-weights tr:hover {\n",
       "        filter: brightness(85%);\n",
       "    }\n",
       "</style>\n",
       "\n",
       "\n",
       "\n",
       "    \n",
       "\n",
       "    \n",
       "\n",
       "    \n",
       "\n",
       "    \n",
       "\n",
       "    \n",
       "\n",
       "    \n",
       "\n",
       "\n",
       "    \n",
       "\n",
       "    \n",
       "\n",
       "    \n",
       "\n",
       "    \n",
       "\n",
       "    \n",
       "\n",
       "    \n",
       "\n",
       "\n",
       "    \n",
       "\n",
       "    \n",
       "\n",
       "    \n",
       "\n",
       "    \n",
       "\n",
       "    \n",
       "        <table class=\"eli5-weights eli5-feature-importances\" style=\"border-collapse: collapse; border: none; margin-top: 0em; table-layout: auto;\">\n",
       "    <thead>\n",
       "    <tr style=\"border: none;\">\n",
       "        <th style=\"padding: 0 1em 0 0.5em; text-align: right; border: none;\">Weight</th>\n",
       "        <th style=\"padding: 0 0.5em 0 0.5em; text-align: left; border: none;\">Feature</th>\n",
       "    </tr>\n",
       "    </thead>\n",
       "    <tbody>\n",
       "    \n",
       "        <tr style=\"background-color: hsl(120, 100.00%, 80.00%); border: none;\">\n",
       "            <td style=\"padding: 0 1em 0 0.5em; text-align: right; border: none;\">\n",
       "                0.1195\n",
       "                \n",
       "                    &plusmn; 0.0026\n",
       "                \n",
       "            </td>\n",
       "            <td style=\"padding: 0 0.5em 0 0.5em; text-align: left; border: none;\">\n",
       "                ga:pagePath\n",
       "            </td>\n",
       "        </tr>\n",
       "    \n",
       "        <tr style=\"background-color: hsl(120, 100.00%, 84.97%); border: none;\">\n",
       "            <td style=\"padding: 0 1em 0 0.5em; text-align: right; border: none;\">\n",
       "                0.0795\n",
       "                \n",
       "                    &plusmn; 0.0019\n",
       "                \n",
       "            </td>\n",
       "            <td style=\"padding: 0 0.5em 0 0.5em; text-align: left; border: none;\">\n",
       "                ga:productSKU\n",
       "            </td>\n",
       "        </tr>\n",
       "    \n",
       "        <tr style=\"background-color: hsl(120, 100.00%, 87.76%); border: none;\">\n",
       "            <td style=\"padding: 0 1em 0 0.5em; text-align: right; border: none;\">\n",
       "                0.0593\n",
       "                \n",
       "                    &plusmn; 0.0015\n",
       "                \n",
       "            </td>\n",
       "            <td style=\"padding: 0 0.5em 0 0.5em; text-align: left; border: none;\">\n",
       "                ga:landingPagePath\n",
       "            </td>\n",
       "        </tr>\n",
       "    \n",
       "        <tr style=\"background-color: hsl(120, 100.00%, 90.08%); border: none;\">\n",
       "            <td style=\"padding: 0 1em 0 0.5em; text-align: right; border: none;\">\n",
       "                0.0439\n",
       "                \n",
       "                    &plusmn; 0.0027\n",
       "                \n",
       "            </td>\n",
       "            <td style=\"padding: 0 0.5em 0 0.5em; text-align: left; border: none;\">\n",
       "                Product_price\n",
       "            </td>\n",
       "        </tr>\n",
       "    \n",
       "        <tr style=\"background-color: hsl(120, 100.00%, 90.43%); border: none;\">\n",
       "            <td style=\"padding: 0 1em 0 0.5em; text-align: right; border: none;\">\n",
       "                0.0417\n",
       "                \n",
       "                    &plusmn; 0.0027\n",
       "                \n",
       "            </td>\n",
       "            <td style=\"padding: 0 0.5em 0 0.5em; text-align: left; border: none;\">\n",
       "                Detail_View\n",
       "            </td>\n",
       "        </tr>\n",
       "    \n",
       "        <tr style=\"background-color: hsl(120, 100.00%, 91.65%); border: none;\">\n",
       "            <td style=\"padding: 0 1em 0 0.5em; text-align: right; border: none;\">\n",
       "                0.0343\n",
       "                \n",
       "                    &plusmn; 0.0018\n",
       "                \n",
       "            </td>\n",
       "            <td style=\"padding: 0 0.5em 0 0.5em; text-align: left; border: none;\">\n",
       "                month_sin\n",
       "            </td>\n",
       "        </tr>\n",
       "    \n",
       "        <tr style=\"background-color: hsl(120, 100.00%, 91.74%); border: none;\">\n",
       "            <td style=\"padding: 0 1em 0 0.5em; text-align: right; border: none;\">\n",
       "                0.0338\n",
       "                \n",
       "                    &plusmn; 0.0026\n",
       "                \n",
       "            </td>\n",
       "            <td style=\"padding: 0 0.5em 0 0.5em; text-align: left; border: none;\">\n",
       "                Web_Discount\n",
       "            </td>\n",
       "        </tr>\n",
       "    \n",
       "        <tr style=\"background-color: hsl(120, 100.00%, 93.15%); border: none;\">\n",
       "            <td style=\"padding: 0 1em 0 0.5em; text-align: right; border: none;\">\n",
       "                0.0259\n",
       "                \n",
       "                    &plusmn; 0.0006\n",
       "                \n",
       "            </td>\n",
       "            <td style=\"padding: 0 0.5em 0 0.5em; text-align: left; border: none;\">\n",
       "                month_cos\n",
       "            </td>\n",
       "        </tr>\n",
       "    \n",
       "        <tr style=\"background-color: hsl(120, 100.00%, 94.53%); border: none;\">\n",
       "            <td style=\"padding: 0 1em 0 0.5em; text-align: right; border: none;\">\n",
       "                0.0188\n",
       "                \n",
       "                    &plusmn; 0.0019\n",
       "                \n",
       "            </td>\n",
       "            <td style=\"padding: 0 0.5em 0 0.5em; text-align: left; border: none;\">\n",
       "                ga:city\n",
       "            </td>\n",
       "        </tr>\n",
       "    \n",
       "        <tr style=\"background-color: hsl(120, 100.00%, 94.53%); border: none;\">\n",
       "            <td style=\"padding: 0 1em 0 0.5em; text-align: right; border: none;\">\n",
       "                0.0187\n",
       "                \n",
       "                    &plusmn; 0.0028\n",
       "                \n",
       "            </td>\n",
       "            <td style=\"padding: 0 0.5em 0 0.5em; text-align: left; border: none;\">\n",
       "                x0_google\n",
       "            </td>\n",
       "        </tr>\n",
       "    \n",
       "        <tr style=\"background-color: hsl(120, 100.00%, 94.55%); border: none;\">\n",
       "            <td style=\"padding: 0 1em 0 0.5em; text-align: right; border: none;\">\n",
       "                0.0187\n",
       "                \n",
       "                    &plusmn; 0.0008\n",
       "                \n",
       "            </td>\n",
       "            <td style=\"padding: 0 0.5em 0 0.5em; text-align: left; border: none;\">\n",
       "                ga:sessionCount\n",
       "            </td>\n",
       "        </tr>\n",
       "    \n",
       "        <tr style=\"background-color: hsl(120, 100.00%, 94.73%); border: none;\">\n",
       "            <td style=\"padding: 0 1em 0 0.5em; text-align: right; border: none;\">\n",
       "                0.0178\n",
       "                \n",
       "                    &plusmn; 0.0009\n",
       "                \n",
       "            </td>\n",
       "            <td style=\"padding: 0 0.5em 0 0.5em; text-align: left; border: none;\">\n",
       "                hour_cos\n",
       "            </td>\n",
       "        </tr>\n",
       "    \n",
       "        <tr style=\"background-color: hsl(120, 100.00%, 94.92%); border: none;\">\n",
       "            <td style=\"padding: 0 1em 0 0.5em; text-align: right; border: none;\">\n",
       "                0.0169\n",
       "                \n",
       "                    &plusmn; 0.0013\n",
       "                \n",
       "            </td>\n",
       "            <td style=\"padding: 0 0.5em 0 0.5em; text-align: left; border: none;\">\n",
       "                dayofweek_sin\n",
       "            </td>\n",
       "        </tr>\n",
       "    \n",
       "        <tr style=\"background-color: hsl(120, 100.00%, 94.95%); border: none;\">\n",
       "            <td style=\"padding: 0 1em 0 0.5em; text-align: right; border: none;\">\n",
       "                0.0167\n",
       "                \n",
       "                    &plusmn; 0.0017\n",
       "                \n",
       "            </td>\n",
       "            <td style=\"padding: 0 0.5em 0 0.5em; text-align: left; border: none;\">\n",
       "                hour_sin\n",
       "            </td>\n",
       "        </tr>\n",
       "    \n",
       "        <tr style=\"background-color: hsl(120, 100.00%, 94.98%); border: none;\">\n",
       "            <td style=\"padding: 0 1em 0 0.5em; text-align: right; border: none;\">\n",
       "                0.0166\n",
       "                \n",
       "                    &plusmn; 0.0020\n",
       "                \n",
       "            </td>\n",
       "            <td style=\"padding: 0 0.5em 0 0.5em; text-align: left; border: none;\">\n",
       "                dayofweek_cos\n",
       "            </td>\n",
       "        </tr>\n",
       "    \n",
       "        <tr style=\"background-color: hsl(120, 100.00%, 95.14%); border: none;\">\n",
       "            <td style=\"padding: 0 1em 0 0.5em; text-align: right; border: none;\">\n",
       "                0.0158\n",
       "                \n",
       "                    &plusmn; 0.0015\n",
       "                \n",
       "            </td>\n",
       "            <td style=\"padding: 0 0.5em 0 0.5em; text-align: left; border: none;\">\n",
       "                x0_Android\n",
       "            </td>\n",
       "        </tr>\n",
       "    \n",
       "        <tr style=\"background-color: hsl(120, 100.00%, 95.21%); border: none;\">\n",
       "            <td style=\"padding: 0 1em 0 0.5em; text-align: right; border: none;\">\n",
       "                0.0155\n",
       "                \n",
       "                    &plusmn; 0.0010\n",
       "                \n",
       "            </td>\n",
       "            <td style=\"padding: 0 0.5em 0 0.5em; text-align: left; border: none;\">\n",
       "                x0_cpc\n",
       "            </td>\n",
       "        </tr>\n",
       "    \n",
       "        <tr style=\"background-color: hsl(120, 100.00%, 95.77%); border: none;\">\n",
       "            <td style=\"padding: 0 1em 0 0.5em; text-align: right; border: none;\">\n",
       "                0.0130\n",
       "                \n",
       "                    &plusmn; 0.0019\n",
       "                \n",
       "            </td>\n",
       "            <td style=\"padding: 0 0.5em 0 0.5em; text-align: left; border: none;\">\n",
       "                x0_organic\n",
       "            </td>\n",
       "        </tr>\n",
       "    \n",
       "        <tr style=\"background-color: hsl(120, 100.00%, 95.84%); border: none;\">\n",
       "            <td style=\"padding: 0 1em 0 0.5em; text-align: right; border: none;\">\n",
       "                0.0127\n",
       "                \n",
       "                    &plusmn; 0.0016\n",
       "                \n",
       "            </td>\n",
       "            <td style=\"padding: 0 0.5em 0 0.5em; text-align: left; border: none;\">\n",
       "                x0_desktop\n",
       "            </td>\n",
       "        </tr>\n",
       "    \n",
       "        <tr style=\"background-color: hsl(120, 100.00%, 96.02%); border: none;\">\n",
       "            <td style=\"padding: 0 1em 0 0.5em; text-align: right; border: none;\">\n",
       "                0.0119\n",
       "                \n",
       "                    &plusmn; 0.0017\n",
       "                \n",
       "            </td>\n",
       "            <td style=\"padding: 0 0.5em 0 0.5em; text-align: left; border: none;\">\n",
       "                Returning_Visitor\n",
       "            </td>\n",
       "        </tr>\n",
       "    \n",
       "        <tr style=\"background-color: hsl(120, 100.00%, 96.27%); border: none;\">\n",
       "            <td style=\"padding: 0 1em 0 0.5em; text-align: right; border: none;\">\n",
       "                0.0109\n",
       "                \n",
       "                    &plusmn; 0.0035\n",
       "                \n",
       "            </td>\n",
       "            <td style=\"padding: 0 0.5em 0 0.5em; text-align: left; border: none;\">\n",
       "                x0_mobile\n",
       "            </td>\n",
       "        </tr>\n",
       "    \n",
       "        <tr style=\"background-color: hsl(120, 100.00%, 96.51%); border: none;\">\n",
       "            <td style=\"padding: 0 1em 0 0.5em; text-align: right; border: none;\">\n",
       "                0.0099\n",
       "                \n",
       "                    &plusmn; 0.0011\n",
       "                \n",
       "            </td>\n",
       "            <td style=\"padding: 0 0.5em 0 0.5em; text-align: left; border: none;\">\n",
       "                x0_(direct)\n",
       "            </td>\n",
       "        </tr>\n",
       "    \n",
       "        <tr style=\"background-color: hsl(120, 100.00%, 97.08%); border: none;\">\n",
       "            <td style=\"padding: 0 1em 0 0.5em; text-align: right; border: none;\">\n",
       "                0.0076\n",
       "                \n",
       "                    &plusmn; 0.0016\n",
       "                \n",
       "            </td>\n",
       "            <td style=\"padding: 0 0.5em 0 0.5em; text-align: left; border: none;\">\n",
       "                ga:daysSinceLastSession\n",
       "            </td>\n",
       "        </tr>\n",
       "    \n",
       "        <tr style=\"background-color: hsl(120, 100.00%, 97.09%); border: none;\">\n",
       "            <td style=\"padding: 0 1em 0 0.5em; text-align: right; border: none;\">\n",
       "                0.0076\n",
       "                \n",
       "                    &plusmn; 0.0018\n",
       "                \n",
       "            </td>\n",
       "            <td style=\"padding: 0 0.5em 0 0.5em; text-align: left; border: none;\">\n",
       "                x0_iOS\n",
       "            </td>\n",
       "        </tr>\n",
       "    \n",
       "        <tr style=\"background-color: hsl(120, 100.00%, 97.31%); border: none;\">\n",
       "            <td style=\"padding: 0 1em 0 0.5em; text-align: right; border: none;\">\n",
       "                0.0068\n",
       "                \n",
       "                    &plusmn; 0.0012\n",
       "                \n",
       "            </td>\n",
       "            <td style=\"padding: 0 0.5em 0 0.5em; text-align: left; border: none;\">\n",
       "                x0_Windows\n",
       "            </td>\n",
       "        </tr>\n",
       "    \n",
       "        <tr style=\"background-color: hsl(120, 100.00%, 97.57%); border: none;\">\n",
       "            <td style=\"padding: 0 1em 0 0.5em; text-align: right; border: none;\">\n",
       "                0.0059\n",
       "                \n",
       "                    &plusmn; 0.0007\n",
       "                \n",
       "            </td>\n",
       "            <td style=\"padding: 0 0.5em 0 0.5em; text-align: left; border: none;\">\n",
       "                x0_email\n",
       "            </td>\n",
       "        </tr>\n",
       "    \n",
       "        <tr style=\"background-color: hsl(120, 100.00%, 97.72%); border: none;\">\n",
       "            <td style=\"padding: 0 1em 0 0.5em; text-align: right; border: none;\">\n",
       "                0.0054\n",
       "                \n",
       "                    &plusmn; 0.0006\n",
       "                \n",
       "            </td>\n",
       "            <td style=\"padding: 0 0.5em 0 0.5em; text-align: left; border: none;\">\n",
       "                x0_sendinblue\n",
       "            </td>\n",
       "        </tr>\n",
       "    \n",
       "        <tr style=\"background-color: hsl(120, 100.00%, 98.05%); border: none;\">\n",
       "            <td style=\"padding: 0 1em 0 0.5em; text-align: right; border: none;\">\n",
       "                0.0043\n",
       "                \n",
       "                    &plusmn; 0.0005\n",
       "                \n",
       "            </td>\n",
       "            <td style=\"padding: 0 0.5em 0 0.5em; text-align: left; border: none;\">\n",
       "                x0_referral\n",
       "            </td>\n",
       "        </tr>\n",
       "    \n",
       "        <tr style=\"background-color: hsl(120, 100.00%, 98.28%); border: none;\">\n",
       "            <td style=\"padding: 0 1em 0 0.5em; text-align: right; border: none;\">\n",
       "                0.0036\n",
       "                \n",
       "                    &plusmn; 0.0008\n",
       "                \n",
       "            </td>\n",
       "            <td style=\"padding: 0 0.5em 0 0.5em; text-align: left; border: none;\">\n",
       "                x0_instagram\n",
       "            </td>\n",
       "        </tr>\n",
       "    \n",
       "        <tr style=\"background-color: hsl(120, 100.00%, 98.78%); border: none;\">\n",
       "            <td style=\"padding: 0 1em 0 0.5em; text-align: right; border: none;\">\n",
       "                0.0022\n",
       "                \n",
       "                    &plusmn; 0.0006\n",
       "                \n",
       "            </td>\n",
       "            <td style=\"padding: 0 0.5em 0 0.5em; text-align: left; border: none;\">\n",
       "                x0_Macintosh\n",
       "            </td>\n",
       "        </tr>\n",
       "    \n",
       "        <tr style=\"background-color: hsl(120, 100.00%, 99.29%); border: none;\">\n",
       "            <td style=\"padding: 0 1em 0 0.5em; text-align: right; border: none;\">\n",
       "                0.0010\n",
       "                \n",
       "                    &plusmn; 0.0007\n",
       "                \n",
       "            </td>\n",
       "            <td style=\"padding: 0 0.5em 0 0.5em; text-align: left; border: none;\">\n",
       "                x0_tablet\n",
       "            </td>\n",
       "        </tr>\n",
       "    \n",
       "        <tr style=\"background-color: hsl(120, 100.00%, 99.48%); border: none;\">\n",
       "            <td style=\"padding: 0 1em 0 0.5em; text-align: right; border: none;\">\n",
       "                0.0006\n",
       "                \n",
       "                    &plusmn; 0.0005\n",
       "                \n",
       "            </td>\n",
       "            <td style=\"padding: 0 0.5em 0 0.5em; text-align: left; border: none;\">\n",
       "                x0_facebook\n",
       "            </td>\n",
       "        </tr>\n",
       "    \n",
       "        <tr style=\"background-color: hsl(120, 100.00%, 99.56%); border: none;\">\n",
       "            <td style=\"padding: 0 1em 0 0.5em; text-align: right; border: none;\">\n",
       "                0.0005\n",
       "                \n",
       "                    &plusmn; 0.0004\n",
       "                \n",
       "            </td>\n",
       "            <td style=\"padding: 0 0.5em 0 0.5em; text-align: left; border: none;\">\n",
       "                x0_IGShopping\n",
       "            </td>\n",
       "        </tr>\n",
       "    \n",
       "        <tr style=\"background-color: hsl(120, 100.00%, 99.61%); border: none;\">\n",
       "            <td style=\"padding: 0 1em 0 0.5em; text-align: right; border: none;\">\n",
       "                0.0004\n",
       "                \n",
       "                    &plusmn; 0.0003\n",
       "                \n",
       "            </td>\n",
       "            <td style=\"padding: 0 0.5em 0 0.5em; text-align: left; border: none;\">\n",
       "                x0_youtube\n",
       "            </td>\n",
       "        </tr>\n",
       "    \n",
       "        <tr style=\"background-color: hsl(120, 100.00%, 99.63%); border: none;\">\n",
       "            <td style=\"padding: 0 1em 0 0.5em; text-align: right; border: none;\">\n",
       "                0.0004\n",
       "                \n",
       "                    &plusmn; 0.0001\n",
       "                \n",
       "            </td>\n",
       "            <td style=\"padding: 0 0.5em 0 0.5em; text-align: left; border: none;\">\n",
       "                x0_other sources\n",
       "            </td>\n",
       "        </tr>\n",
       "    \n",
       "        <tr style=\"background-color: hsl(120, 100.00%, 99.78%); border: none;\">\n",
       "            <td style=\"padding: 0 1em 0 0.5em; text-align: right; border: none;\">\n",
       "                0.0002\n",
       "                \n",
       "                    &plusmn; 0.0001\n",
       "                \n",
       "            </td>\n",
       "            <td style=\"padding: 0 0.5em 0 0.5em; text-align: left; border: none;\">\n",
       "                x0_vogue\n",
       "            </td>\n",
       "        </tr>\n",
       "    \n",
       "        <tr style=\"background-color: hsl(120, 100.00%, 99.86%); border: none;\">\n",
       "            <td style=\"padding: 0 1em 0 0.5em; text-align: right; border: none;\">\n",
       "                0.0001\n",
       "                \n",
       "                    &plusmn; 0.0000\n",
       "                \n",
       "            </td>\n",
       "            <td style=\"padding: 0 0.5em 0 0.5em; text-align: left; border: none;\">\n",
       "                x0_bing\n",
       "            </td>\n",
       "        </tr>\n",
       "    \n",
       "        <tr style=\"background-color: hsl(0, 100.00%, 100.00%); border: none;\">\n",
       "            <td style=\"padding: 0 1em 0 0.5em; text-align: right; border: none;\">\n",
       "                0\n",
       "                \n",
       "                    &plusmn; 0.0000\n",
       "                \n",
       "            </td>\n",
       "            <td style=\"padding: 0 0.5em 0 0.5em; text-align: left; border: none;\">\n",
       "                x0_other OS\n",
       "            </td>\n",
       "        </tr>\n",
       "    \n",
       "        <tr style=\"background-color: hsl(0, 100.00%, 100.00%); border: none;\">\n",
       "            <td style=\"padding: 0 1em 0 0.5em; text-align: right; border: none;\">\n",
       "                0\n",
       "                \n",
       "                    &plusmn; 0.0000\n",
       "                \n",
       "            </td>\n",
       "            <td style=\"padding: 0 0.5em 0 0.5em; text-align: left; border: none;\">\n",
       "                x0_yahoo\n",
       "            </td>\n",
       "        </tr>\n",
       "    \n",
       "        <tr style=\"background-color: hsl(0, 100.00%, 100.00%); border: none;\">\n",
       "            <td style=\"padding: 0 1em 0 0.5em; text-align: right; border: none;\">\n",
       "                0\n",
       "                \n",
       "                    &plusmn; 0.0000\n",
       "                \n",
       "            </td>\n",
       "            <td style=\"padding: 0 0.5em 0 0.5em; text-align: left; border: none;\">\n",
       "                x0_facebook ads\n",
       "            </td>\n",
       "        </tr>\n",
       "    \n",
       "        <tr style=\"background-color: hsl(0, 100.00%, 100.00%); border: none;\">\n",
       "            <td style=\"padding: 0 1em 0 0.5em; text-align: right; border: none;\">\n",
       "                0\n",
       "                \n",
       "                    &plusmn; 0.0000\n",
       "                \n",
       "            </td>\n",
       "            <td style=\"padding: 0 0.5em 0 0.5em; text-align: left; border: none;\">\n",
       "                x0_facebook feed\n",
       "            </td>\n",
       "        </tr>\n",
       "    \n",
       "        <tr style=\"background-color: hsl(0, 100.00%, 100.00%); border: none;\">\n",
       "            <td style=\"padding: 0 1em 0 0.5em; text-align: right; border: none;\">\n",
       "                0\n",
       "                \n",
       "                    &plusmn; 0.0000\n",
       "                \n",
       "            </td>\n",
       "            <td style=\"padding: 0 0.5em 0 0.5em; text-align: left; border: none;\">\n",
       "                x0_facebook trafico\n",
       "            </td>\n",
       "        </tr>\n",
       "    \n",
       "        <tr style=\"background-color: hsl(0, 100.00%, 100.00%); border: none;\">\n",
       "            <td style=\"padding: 0 1em 0 0.5em; text-align: right; border: none;\">\n",
       "                0\n",
       "                \n",
       "                    &plusmn; 0.0000\n",
       "                \n",
       "            </td>\n",
       "            <td style=\"padding: 0 0.5em 0 0.5em; text-align: left; border: none;\">\n",
       "                x0_cantabrialabs.es\n",
       "            </td>\n",
       "        </tr>\n",
       "    \n",
       "    \n",
       "    </tbody>\n",
       "</table>\n",
       "    \n",
       "\n",
       "    \n",
       "\n",
       "\n",
       "    \n",
       "\n",
       "    \n",
       "\n",
       "    \n",
       "\n",
       "    \n",
       "\n",
       "    \n",
       "\n",
       "    \n",
       "\n",
       "\n",
       "\n"
      ],
      "text/plain": [
       "<IPython.core.display.HTML object>"
      ]
     },
     "execution_count": 12,
     "metadata": {},
     "output_type": "execute_result"
    }
   ],
   "source": [
    "eli5.show_weights(per, feature_names=features_names, top=45)"
   ]
  },
  {
   "cell_type": "markdown",
   "id": "assured-application",
   "metadata": {},
   "source": [
    "Eli5 indica **en verde** los features que mayor influencia tienen en la recall del modelo, hasta la variable *xo_Instagram*, en orden de magnitud e importancia. "
   ]
  },
  {
   "cell_type": "markdown",
   "id": "yellow-association",
   "metadata": {},
   "source": [
    "### Selección de variables"
   ]
  },
  {
   "cell_type": "markdown",
   "id": "acceptable-remedy",
   "metadata": {},
   "source": [
    "Llegados a este punto, ya podemos seleccionar las variables más significativas. En el notebook de optimización, utilizamos la clase SelectFromModel de Sklearn pero, dado el elevado tiempo de computación que requirió (casi 8 horas), su falta de flexibilidad y que ya tenemos los pesos para cada uno de los features, haremos distintas pruebas lanzando distintos modelos con distintas agrupaciones:"
   ]
  },
  {
   "cell_type": "markdown",
   "id": "negative-perception",
   "metadata": {},
   "source": [
    "#### Prueba 1: Threshold 0.003 (top 29 features)"
   ]
  },
  {
   "cell_type": "markdown",
   "id": "aboriginal-bleeding",
   "metadata": {},
   "source": [
    "Al lanzar el modelo únicamente con las variables que eli5 señalaba en verde todas las métricas mejoran:"
   ]
  },
  {
   "cell_type": "code",
   "execution_count": 42,
   "id": "atomic-sussex",
   "metadata": {},
   "outputs": [
    {
     "name": "stdout",
     "output_type": "stream",
     "text": [
      "14\n",
      "(2721219, 29)\n",
      "(907074, 29)\n"
     ]
    },
    {
     "data": {
      "text/plain": [
       "Index(['x0_(direct)', 'x0_google', 'x0_instagram', 'x0_sendinblue', 'x0_cpc',\n",
       "       'x0_email', 'x0_organic', 'x0_referral', 'x0_desktop', 'x0_mobile',\n",
       "       'x0_Android', 'x0_Windows', 'x0_iOS', 'ga:productSKU', 'ga:city',\n",
       "       'ga:pagePath', 'ga:landingPagePath', 'Product_price', 'Web_Discount',\n",
       "       'Detail_View', 'Returning_Visitor', 'ga:sessionCount',\n",
       "       'ga:daysSinceLastSession', 'month_sin', 'month_cos', 'dayofweek_sin',\n",
       "       'dayofweek_cos', 'hour_sin', 'hour_cos'],\n",
       "      dtype='object')"
      ]
     },
     "execution_count": 42,
     "metadata": {},
     "output_type": "execute_result"
    }
   ],
   "source": [
    "X_train_=pd.DataFrame(X_train_transf, columns=features_names)\n",
    "X_test_=pd.DataFrame(X_test_transf, columns=features_names)\n",
    "drop_features = ['x0_bing','x0_cantabrialabs.es','x0_facebook','x0_other sources','x0_vogue',\\\n",
    "                 'x0_yahoo','x0_youtube','x0_IGShopping','x0_facebook ads','x0_facebook feed',\\\n",
    "                 'x0_facebook trafico','x0_tablet','x0_Macintosh','x0_other OS']\n",
    "\n",
    "X_train_.drop(drop_features, axis=1, inplace=True)\n",
    "X_test_.drop(drop_features, axis=1, inplace=True)\n",
    "print(len(drop_features))\n",
    "print(X_train_.shape)\n",
    "print(X_test_.shape)\n",
    "X_train_.columns"
   ]
  },
  {
   "cell_type": "code",
   "execution_count": 18,
   "id": "southwest-feeding",
   "metadata": {},
   "outputs": [
    {
     "name": "stdout",
     "output_type": "stream",
     "text": [
      "TRAINING SCORE: 0.9971560539596409\n",
      "ACCURACY: 0.987866480573801\n",
      "PRECISION: 0.43909880309786437\n",
      "RECALL: 0.1784113664537046\n",
      "F1 SCORE: 0.253729319229726\n",
      "AUC: 0.8954096430759393\n",
      "CPU times: user 1h 19min 39s, sys: 1min 12s, total: 1h 20min 51s\n",
      "Wall time: 22min 26s\n"
     ]
    },
    {
     "data": {
      "image/png": "[encoded data removed]",
      "text/plain": [
       "<Figure size 432x288 with 1 Axes>"
      ]
     },
     "metadata": {
      "needs_background": "light"
     },
     "output_type": "display_data"
    }
   ],
   "source": [
    "%%time\n",
    "\n",
    "clf = RandomForestClassifier(n_estimators=100,n_jobs=-1, oob_score=True,bootstrap=True,random_state=42)\n",
    "evaluate(clf,X_train_, X_test_, y_train, y_test)"
   ]
  },
  {
   "cell_type": "markdown",
   "id": "diverse-personality",
   "metadata": {},
   "source": [
    "#### Prueba 2: Threshold 0.0055 (top 26 features)"
   ]
  },
  {
   "cell_type": "markdown",
   "id": "moderate-layout",
   "metadata": {},
   "source": [
    "Elevamos el *threshold*, retiramos 3 nuevas variables y relanzamos el modelo. De nuevo, vuelven a mejorar todas las métricas:"
   ]
  },
  {
   "cell_type": "code",
   "execution_count": 43,
   "id": "labeled-jacksonville",
   "metadata": {},
   "outputs": [
    {
     "name": "stdout",
     "output_type": "stream",
     "text": [
      "(2721219, 26)\n",
      "(907074, 26)\n"
     ]
    },
    {
     "data": {
      "text/plain": [
       "Index(['x0_(direct)', 'x0_google', 'x0_cpc', 'x0_email', 'x0_organic',\n",
       "       'x0_desktop', 'x0_mobile', 'x0_Android', 'x0_Windows', 'x0_iOS',\n",
       "       'ga:productSKU', 'ga:city', 'ga:pagePath', 'ga:landingPagePath',\n",
       "       'Product_price', 'Web_Discount', 'Detail_View', 'Returning_Visitor',\n",
       "       'ga:sessionCount', 'ga:daysSinceLastSession', 'month_sin', 'month_cos',\n",
       "       'dayofweek_sin', 'dayofweek_cos', 'hour_sin', 'hour_cos'],\n",
       "      dtype='object')"
      ]
     },
     "execution_count": 43,
     "metadata": {},
     "output_type": "execute_result"
    }
   ],
   "source": [
    "X_train_.drop(['x0_instagram','x0_referral','x0_sendinblue'], axis=1, inplace=True)\n",
    "X_test_.drop(['x0_instagram','x0_referral','x0_sendinblue'], axis=1, inplace=True)\n",
    "print(X_train_.shape)\n",
    "print(X_test_.shape)\n",
    "X_train_.columns"
   ]
  },
  {
   "cell_type": "code",
   "execution_count": 21,
   "id": "recreational-leadership",
   "metadata": {},
   "outputs": [
    {
     "name": "stdout",
     "output_type": "stream",
     "text": [
      "TRAINING SCORE: 0.9971560539596409\n",
      "ACCURACY: 0.9879293199893283\n",
      "PRECISION: 0.44694533762057875\n",
      "RECALL: 0.18556307809669115\n",
      "F1 SCORE: 0.26224647934775286\n",
      "AUC: 0.8990664638389786\n",
      "CPU times: user 1h 23min 17s, sys: 53.3 s, total: 1h 24min 10s\n",
      "Wall time: 22min 52s\n"
     ]
    },
    {
     "data": {
      "image/png": "[encoded data removed]",
      "text/plain": [
       "<Figure size 432x288 with 1 Axes>"
      ]
     },
     "metadata": {
      "needs_background": "light"
     },
     "output_type": "display_data"
    }
   ],
   "source": [
    "%%time\n",
    "\n",
    "clf = RandomForestClassifier(n_estimators=100,n_jobs=-1, oob_score=True,bootstrap=True,random_state=42)\n",
    "evaluate(clf,X_train_, X_test_, y_train, y_test)"
   ]
  },
  {
   "cell_type": "markdown",
   "id": "separated-badge",
   "metadata": {},
   "source": [
    "#### Prueba 3: Threshold 0,009 (top 22 features)"
   ]
  },
  {
   "cell_type": "markdown",
   "id": "secure-current",
   "metadata": {},
   "source": [
    "En este caso, probamos a retirar 4 variables más pero las métricas se reducen ligeramente con respecto a los resultados anteriores:"
   ]
  },
  {
   "cell_type": "code",
   "execution_count": 44,
   "id": "going-possession",
   "metadata": {},
   "outputs": [
    {
     "name": "stdout",
     "output_type": "stream",
     "text": [
      "(2721219, 22)\n",
      "(907074, 22)\n"
     ]
    },
    {
     "data": {
      "text/plain": [
       "Index(['x0_(direct)', 'x0_google', 'x0_cpc', 'x0_organic', 'x0_desktop',\n",
       "       'x0_mobile', 'x0_Android', 'ga:productSKU', 'ga:city', 'ga:pagePath',\n",
       "       'ga:landingPagePath', 'Product_price', 'Web_Discount', 'Detail_View',\n",
       "       'Returning_Visitor', 'ga:sessionCount', 'month_sin', 'month_cos',\n",
       "       'dayofweek_sin', 'dayofweek_cos', 'hour_sin', 'hour_cos'],\n",
       "      dtype='object')"
      ]
     },
     "execution_count": 44,
     "metadata": {},
     "output_type": "execute_result"
    }
   ],
   "source": [
    "X_train_.drop(['x0_email','x0_Windows','x0_iOS','ga:daysSinceLastSession'], axis=1, inplace=True)\n",
    "X_test_.drop(['x0_email','x0_Windows','x0_iOS','ga:daysSinceLastSession'], axis=1, inplace=True)\n",
    "print(X_train_.shape)\n",
    "print(X_test_.shape)\n",
    "X_train_.columns"
   ]
  },
  {
   "cell_type": "code",
   "execution_count": 24,
   "id": "classical-packaging",
   "metadata": {},
   "outputs": [
    {
     "name": "stdout",
     "output_type": "stream",
     "text": [
      "TRAINING SCORE: 0.9971464994180916\n",
      "ACCURACY: 0.9879105784092588\n",
      "PRECISION: 0.4439503861455652\n",
      "RECALL: 0.18089062648993992\n",
      "F1 SCORE: 0.2570460704607046\n",
      "AUC: 0.8981989633153266\n",
      "CPU times: user 1h 16min 43s, sys: 48.3 s, total: 1h 17min 31s\n",
      "Wall time: 21min 3s\n"
     ]
    },
    {
     "data": {
      "image/png": "[encoded data removed]",
      "text/plain": [
       "<Figure size 432x288 with 1 Axes>"
      ]
     },
     "metadata": {
      "needs_background": "light"
     },
     "output_type": "display_data"
    }
   ],
   "source": [
    "%%time\n",
    "\n",
    "clf = RandomForestClassifier(n_estimators=100,n_jobs=-1, oob_score=True,bootstrap=True,random_state=42)\n",
    "evaluate(clf,X_train_, X_test_, y_train, y_test)"
   ]
  },
  {
   "cell_type": "markdown",
   "id": "superior-hartford",
   "metadata": {},
   "source": [
    "#### Prueba 4: Threshold 0,007 (top 24 features)"
   ]
  },
  {
   "cell_type": "markdown",
   "id": "allied-swaziland",
   "metadata": {},
   "source": [
    "Reincorporamos *x0_iOS* y *ga:daysSinceLastSession* que siguen en orden de importancia al top 22 features pero los resultados son aún peores:"
   ]
  },
  {
   "cell_type": "code",
   "execution_count": 45,
   "id": "innocent-pricing",
   "metadata": {},
   "outputs": [
    {
     "name": "stdout",
     "output_type": "stream",
     "text": [
      "19\n",
      "(2721219, 24)\n",
      "(907074, 24)\n"
     ]
    },
    {
     "data": {
      "text/plain": [
       "Index(['x0_(direct)', 'x0_google', 'x0_cpc', 'x0_organic', 'x0_desktop',\n",
       "       'x0_mobile', 'x0_Android', 'x0_iOS', 'ga:productSKU', 'ga:city',\n",
       "       'ga:pagePath', 'ga:landingPagePath', 'Product_price', 'Web_Discount',\n",
       "       'Detail_View', 'Returning_Visitor', 'ga:sessionCount',\n",
       "       'ga:daysSinceLastSession', 'month_sin', 'month_cos', 'dayofweek_sin',\n",
       "       'dayofweek_cos', 'hour_sin', 'hour_cos'],\n",
       "      dtype='object')"
      ]
     },
     "execution_count": 45,
     "metadata": {},
     "output_type": "execute_result"
    }
   ],
   "source": [
    "X_train_=pd.DataFrame(X_train_transf, columns=features_names)\n",
    "X_test_=pd.DataFrame(X_test_transf, columns=features_names)\n",
    "drop_features = ['x0_bing','x0_cantabrialabs.es','x0_facebook','x0_other sources','x0_vogue',\\\n",
    "                 'x0_yahoo','x0_youtube','x0_IGShopping','x0_facebook ads','x0_facebook feed',\\\n",
    "                 'x0_facebook trafico','x0_tablet','x0_Macintosh','x0_other OS',\\\n",
    "                'x0_instagram','x0_referral','x0_sendinblue', 'x0_email','x0_Windows']\n",
    "X_train_.drop(drop_features, axis=1, inplace=True)\n",
    "X_test_.drop(drop_features, axis=1, inplace=True)\n",
    "print(len(drop_features))\n",
    "print(X_train_.shape)\n",
    "print(X_test_.shape)\n",
    "X_train_.columns"
   ]
  },
  {
   "cell_type": "code",
   "execution_count": 26,
   "id": "durable-findings",
   "metadata": {},
   "outputs": [
    {
     "name": "stdout",
     "output_type": "stream",
     "text": [
      "TRAINING SCORE: 0.9971527466183354\n",
      "ACCURACY: 0.9878168705089111\n",
      "PRECISION: 0.4319169483341381\n",
      "RECALL: 0.1705921617240393\n",
      "F1 SCORE: 0.24458267824184837\n",
      "AUC: 0.8961835309153731\n",
      "CPU times: user 1h 16min 53s, sys: 51.1 s, total: 1h 17min 44s\n",
      "Wall time: 21min 17s\n"
     ]
    },
    {
     "data": {
      "image/png": "[encoded data removed]",
      "text/plain": [
       "<Figure size 432x288 with 1 Axes>"
      ]
     },
     "metadata": {
      "needs_background": "light"
     },
     "output_type": "display_data"
    }
   ],
   "source": [
    "%%time\n",
    "\n",
    "clf = RandomForestClassifier(n_estimators=100,n_jobs=-1, oob_score=True,bootstrap=True,random_state=42)\n",
    "evaluate(clf,X_train_, X_test_, y_train, y_test)"
   ]
  },
  {
   "cell_type": "markdown",
   "id": "decimal-sending",
   "metadata": {},
   "source": [
    "#### Prueba 5: Threshold 0,011 (top 20 features)"
   ]
  },
  {
   "cell_type": "markdown",
   "id": "wireless-senator",
   "metadata": {},
   "source": [
    "Probamos ahora con el top 20 features y el modelo devuelve los mejores resultados hasta el momento para todas las métricas:"
   ]
  },
  {
   "cell_type": "code",
   "execution_count": 46,
   "id": "sharp-driving",
   "metadata": {},
   "outputs": [
    {
     "name": "stdout",
     "output_type": "stream",
     "text": [
      "23\n",
      "(2721219, 20)\n",
      "(907074, 20)\n"
     ]
    },
    {
     "data": {
      "text/plain": [
       "Index(['x0_google', 'x0_cpc', 'x0_organic', 'x0_desktop', 'x0_Android',\n",
       "       'ga:productSKU', 'ga:city', 'ga:pagePath', 'ga:landingPagePath',\n",
       "       'Product_price', 'Web_Discount', 'Detail_View', 'Returning_Visitor',\n",
       "       'ga:sessionCount', 'month_sin', 'month_cos', 'dayofweek_sin',\n",
       "       'dayofweek_cos', 'hour_sin', 'hour_cos'],\n",
       "      dtype='object')"
      ]
     },
     "execution_count": 46,
     "metadata": {},
     "output_type": "execute_result"
    }
   ],
   "source": [
    "X_train_=pd.DataFrame(X_train_transf, columns=features_names)\n",
    "X_test_=pd.DataFrame(X_test_transf, columns=features_names)\n",
    "drop_features = ['x0_bing','x0_cantabrialabs.es','x0_facebook','x0_other sources','x0_vogue',\\\n",
    "                 'x0_yahoo','x0_youtube','x0_IGShopping','x0_facebook ads','x0_facebook feed',\\\n",
    "                 'x0_facebook trafico','x0_tablet','x0_Macintosh','x0_other OS',\\\n",
    "                'x0_instagram','x0_referral','x0_sendinblue', 'x0_email','x0_Windows',\\\n",
    "                'x0_iOS','ga:daysSinceLastSession','x0_(direct)','x0_mobile']\n",
    "X_train_.drop(drop_features, axis=1, inplace=True)\n",
    "X_test_.drop(drop_features, axis=1, inplace=True)\n",
    "print(len(drop_features))\n",
    "print(X_train_.shape)\n",
    "print(X_test_.shape)\n",
    "X_train_.columns"
   ]
  },
  {
   "cell_type": "code",
   "execution_count": 29,
   "id": "certified-village",
   "metadata": {},
   "outputs": [
    {
     "name": "stdout",
     "output_type": "stream",
     "text": [
      "TRAINING SCORE: 0.9971380473236443\n",
      "ACCURACY: 0.9880263352273354\n",
      "PRECISION: 0.4575\n",
      "RECALL: 0.19195194049775913\n",
      "F1 SCORE: 0.27043729428360314\n",
      "AUC: 0.8991034169056328\n",
      "CPU times: user 1h 40min 31s, sys: 1min 17s, total: 1h 41min 48s\n",
      "Wall time: 28min 13s\n"
     ]
    },
    {
     "data": {
      "image/png": "[encoded data removed]",
      "text/plain": [
       "<Figure size 432x288 with 1 Axes>"
      ]
     },
     "metadata": {
      "needs_background": "light"
     },
     "output_type": "display_data"
    }
   ],
   "source": [
    "%%time\n",
    "\n",
    "clf = RandomForestClassifier(n_estimators=100,n_jobs=-1, oob_score=True,bootstrap=True,random_state=42)\n",
    "evaluate(clf,X_train_, X_test_, y_train, y_test)"
   ]
  },
  {
   "cell_type": "markdown",
   "id": "metallic-trigger",
   "metadata": {},
   "source": [
    "#### Prueba 6: Threshold 0,018 (top 11 features)"
   ]
  },
  {
   "cell_type": "markdown",
   "id": "competitive-kennedy",
   "metadata": {},
   "source": [
    "Probamos ahora con el top 10. Dado que *ga:sessionCount* y *x0_google* están igualados en peso y ambos ocupan las décima posición, optamos por incluir ambos y los resultados mejoran sustancialmente en todos los casos menos en AUC que baja ligeramente:"
   ]
  },
  {
   "cell_type": "code",
   "execution_count": 47,
   "id": "outdoor-pharmacy",
   "metadata": {},
   "outputs": [
    {
     "name": "stdout",
     "output_type": "stream",
     "text": [
      "32\n",
      "(2721219, 11)\n",
      "(907074, 11)\n"
     ]
    },
    {
     "data": {
      "text/plain": [
       "Index(['x0_google', 'ga:productSKU', 'ga:city', 'ga:pagePath',\n",
       "       'ga:landingPagePath', 'Product_price', 'Web_Discount', 'Detail_View',\n",
       "       'ga:sessionCount', 'month_sin', 'month_cos'],\n",
       "      dtype='object')"
      ]
     },
     "execution_count": 47,
     "metadata": {},
     "output_type": "execute_result"
    }
   ],
   "source": [
    "X_train_=pd.DataFrame(X_train_transf, columns=features_names)\n",
    "X_test_=pd.DataFrame(X_test_transf, columns=features_names)\n",
    "drop_features = ['x0_bing','x0_cantabrialabs.es','x0_facebook','x0_other sources','x0_vogue',\\\n",
    "                 'x0_yahoo','x0_youtube','x0_IGShopping','x0_facebook ads','x0_facebook feed',\\\n",
    "                 'x0_facebook trafico','x0_tablet','x0_Macintosh','x0_other OS',\\\n",
    "                'x0_instagram','x0_referral','x0_sendinblue', 'x0_email','x0_Windows',\\\n",
    "                'x0_iOS','ga:daysSinceLastSession','x0_(direct)','x0_mobile',\\\n",
    "                'Returning_Visitor','x0_desktop','x0_cpc', 'x0_organic', 'x0_Android',\\\n",
    "                'dayofweek_sin','dayofweek_cos', 'hour_sin', 'hour_cos']\n",
    "X_train_.drop(drop_features, axis=1, inplace=True)\n",
    "X_test_.drop(drop_features, axis=1, inplace=True)\n",
    "print(len(drop_features))\n",
    "print(X_train_.shape)\n",
    "print(X_test_.shape)\n",
    "X_train_.columns"
   ]
  },
  {
   "cell_type": "code",
   "execution_count": 32,
   "id": "elder-selection",
   "metadata": {},
   "outputs": [
    {
     "name": "stdout",
     "output_type": "stream",
     "text": [
      "TRAINING SCORE: 0.9959720257722734\n",
      "ACCURACY: 0.9884221133005686\n",
      "PRECISION: 0.49859943977591037\n",
      "RECALL: 0.25460093449032134\n",
      "F1 SCORE: 0.3370786516853933\n",
      "AUC: 0.891355913365628\n",
      "CPU times: user 1h 19min 28s, sys: 53.4 s, total: 1h 20min 21s\n",
      "Wall time: 22min 11s\n"
     ]
    },
    {
     "data": {
      "image/png": "[encoded data removed]",
      "text/plain": [
       "<Figure size 432x288 with 1 Axes>"
      ]
     },
     "metadata": {
      "needs_background": "light"
     },
     "output_type": "display_data"
    }
   ],
   "source": [
    "%%time\n",
    "\n",
    "clf = RandomForestClassifier(n_estimators=100,n_jobs=-1, oob_score=True,bootstrap=True,random_state=42)\n",
    "evaluate(clf,X_train_, X_test_, y_train, y_test)"
   ]
  },
  {
   "cell_type": "code",
   "execution_count": 33,
   "id": "cloudy-swift",
   "metadata": {},
   "outputs": [
    {
     "name": "stdout",
     "output_type": "stream",
     "text": [
      "              precision    recall  f1-score   support\n",
      "\n",
      "           0       0.99      1.00      0.99    896587\n",
      "           1       0.50      0.25      0.34     10487\n",
      "\n",
      "    accuracy                           0.99    907074\n",
      "   macro avg       0.74      0.63      0.67    907074\n",
      "weighted avg       0.99      0.99      0.99    907074\n",
      "\n"
     ]
    },
    {
     "data": {
      "text/plain": [
       "array([[893902,   2685],\n",
       "       [  7817,   2670]])"
      ]
     },
     "execution_count": 33,
     "metadata": {},
     "output_type": "execute_result"
    }
   ],
   "source": [
    "print(classification_report(y_test,clf.predict(X_test_)))\n",
    "clrf_cm = confusion_matrix(y_test,clf.predict(X_test_))\n",
    "clrf_cm"
   ]
  },
  {
   "cell_type": "markdown",
   "id": "common-aquarium",
   "metadata": {},
   "source": [
    "#### Prueba 7: Threshold 0,0188 (top 9 features)"
   ]
  },
  {
   "cell_type": "markdown",
   "id": "valuable-fever",
   "metadata": {},
   "source": [
    "Probamos a eliminar *ga:sessionCount* y *x0_google* en este caso con resultados similares. Precision y Recall suben de forma significativa y AUC baja muy ligeramente:"
   ]
  },
  {
   "cell_type": "code",
   "execution_count": 48,
   "id": "unavailable-enterprise",
   "metadata": {},
   "outputs": [
    {
     "name": "stdout",
     "output_type": "stream",
     "text": [
      "34\n",
      "(2721219, 9)\n",
      "(907074, 9)\n"
     ]
    },
    {
     "data": {
      "text/plain": [
       "Index(['ga:productSKU', 'ga:city', 'ga:pagePath', 'ga:landingPagePath',\n",
       "       'Product_price', 'Web_Discount', 'Detail_View', 'month_sin',\n",
       "       'month_cos'],\n",
       "      dtype='object')"
      ]
     },
     "execution_count": 48,
     "metadata": {},
     "output_type": "execute_result"
    }
   ],
   "source": [
    "X_train_=pd.DataFrame(X_train_transf, columns=features_names)\n",
    "X_test_=pd.DataFrame(X_test_transf, columns=features_names)\n",
    "drop_features = ['x0_bing','x0_cantabrialabs.es','x0_facebook','x0_other sources','x0_vogue',\\\n",
    "                 'x0_yahoo','x0_youtube','x0_IGShopping','x0_facebook ads','x0_facebook feed',\\\n",
    "                 'x0_facebook trafico','x0_tablet','x0_Macintosh','x0_other OS',\\\n",
    "                'x0_instagram','x0_referral','x0_sendinblue', 'x0_email','x0_Windows',\\\n",
    "                'x0_iOS','ga:daysSinceLastSession','x0_(direct)','x0_mobile',\\\n",
    "                'Returning_Visitor','x0_desktop','x0_cpc', 'x0_organic', 'x0_Android',\\\n",
    "                'dayofweek_sin','dayofweek_cos', 'hour_sin', 'hour_cos',\\\n",
    "                'x0_google','ga:sessionCount']\n",
    "X_train_.drop(drop_features, axis=1, inplace=True)\n",
    "X_test_.drop(drop_features, axis=1, inplace=True)\n",
    "print(len(drop_features))\n",
    "print(X_train_.shape)\n",
    "print(X_test_.shape)\n",
    "X_train_.columns"
   ]
  },
  {
   "cell_type": "code",
   "execution_count": 36,
   "id": "considerable-wells",
   "metadata": {},
   "outputs": [
    {
     "name": "stdout",
     "output_type": "stream",
     "text": [
      "TRAINING SCORE: 0.9949467499675697\n",
      "ACCURACY: 0.988708749231044\n",
      "PRECISION: 0.5224977043158862\n",
      "RECALL: 0.27128826165729\n",
      "F1 SCORE: 0.35714285714285715\n",
      "AUC: 0.8893974530530648\n",
      "CPU times: user 1h 8min 41s, sys: 40.1 s, total: 1h 9min 21s\n",
      "Wall time: 18min 57s\n"
     ]
    },
    {
     "data": {
      "image/png": "[encoded data removed]",
      "text/plain": [
       "<Figure size 432x288 with 1 Axes>"
      ]
     },
     "metadata": {
      "needs_background": "light"
     },
     "output_type": "display_data"
    }
   ],
   "source": [
    "%%time\n",
    "\n",
    "clf = RandomForestClassifier(n_estimators=100,n_jobs=-1, oob_score=True,bootstrap=True,random_state=42)\n",
    "evaluate(clf,X_train_, X_test_, y_train, y_test)"
   ]
  },
  {
   "cell_type": "code",
   "execution_count": 37,
   "id": "appreciated-chambers",
   "metadata": {},
   "outputs": [
    {
     "name": "stdout",
     "output_type": "stream",
     "text": [
      "              precision    recall  f1-score   support\n",
      "\n",
      "           0       0.99      1.00      0.99    896587\n",
      "           1       0.52      0.27      0.36     10487\n",
      "\n",
      "    accuracy                           0.99    907074\n",
      "   macro avg       0.76      0.63      0.68    907074\n",
      "weighted avg       0.99      0.99      0.99    907074\n",
      "\n"
     ]
    },
    {
     "data": {
      "text/plain": [
       "array([[893987,   2600],\n",
       "       [  7642,   2845]])"
      ]
     },
     "execution_count": 37,
     "metadata": {},
     "output_type": "execute_result"
    }
   ],
   "source": [
    "print(classification_report(y_test,clf.predict(X_test_)))\n",
    "clrf_cm = confusion_matrix(y_test,clf.predict(X_test_))\n",
    "clrf_cm"
   ]
  },
  {
   "cell_type": "markdown",
   "id": "transparent-suspect",
   "metadata": {},
   "source": [
    "#### Prueba 8: Threshold 0,02 (top 8 features)"
   ]
  },
  {
   "cell_type": "markdown",
   "id": "changing-detroit",
   "metadata": {},
   "source": [
    "En esta última prueba, eliminamos *city*. Aumentan Precision y AUC pero bajan el resto de métricas con respecto al modelo anterior:"
   ]
  },
  {
   "cell_type": "code",
   "execution_count": 38,
   "id": "informed-wisdom",
   "metadata": {},
   "outputs": [
    {
     "data": {
      "text/plain": [
       "Index(['ga:productSKU', 'ga:city', 'ga:pagePath', 'ga:landingPagePath',\n",
       "       'Product_price', 'Web_Discount', 'Detail_View', 'month_sin',\n",
       "       'month_cos'],\n",
       "      dtype='object')"
      ]
     },
     "execution_count": 38,
     "metadata": {},
     "output_type": "execute_result"
    }
   ],
   "source": [
    "X_train_.columns"
   ]
  },
  {
   "cell_type": "code",
   "execution_count": 39,
   "id": "opposite-cocktail",
   "metadata": {},
   "outputs": [
    {
     "name": "stdout",
     "output_type": "stream",
     "text": [
      "35\n",
      "(2721219, 8)\n",
      "(907074, 8)\n"
     ]
    }
   ],
   "source": [
    "X_train_=pd.DataFrame(X_train_transf, columns=features_names)\n",
    "X_test_=pd.DataFrame(X_test_transf, columns=features_names)\n",
    "drop_features = ['x0_bing','x0_cantabrialabs.es','x0_facebook','x0_other sources','x0_vogue',\\\n",
    "                 'x0_yahoo','x0_youtube','x0_IGShopping','x0_facebook ads','x0_facebook feed',\\\n",
    "                 'x0_facebook trafico','x0_tablet','x0_Macintosh','x0_other OS',\\\n",
    "                'x0_instagram','x0_referral','x0_sendinblue', 'x0_email','x0_Windows',\\\n",
    "                'x0_iOS','ga:daysSinceLastSession','x0_(direct)','x0_mobile',\\\n",
    "                'Returning_Visitor','x0_desktop','x0_cpc', 'x0_organic', 'x0_Android',\\\n",
    "                'dayofweek_sin','dayofweek_cos', 'hour_sin', 'hour_cos',\\\n",
    "                'x0_google','ga:sessionCount', 'ga:city']\n",
    "X_train_.drop(drop_features, axis=1, inplace=True)\n",
    "X_test_.drop(drop_features, axis=1, inplace=True)\n",
    "print(len(drop_features))\n",
    "print(X_train_.shape)\n",
    "print(X_test_.shape)"
   ]
  },
  {
   "cell_type": "code",
   "execution_count": 40,
   "id": "rocky-photograph",
   "metadata": {},
   "outputs": [
    {
     "name": "stdout",
     "output_type": "stream",
     "text": [
      "TRAINING SCORE: 0.9933316649633859\n",
      "ACCURACY: 0.9893889583429797\n",
      "PRECISION: 0.6017469310670444\n",
      "RECALL: 0.24306283970630305\n",
      "F1 SCORE: 0.34626095225157916\n",
      "AUC: 0.906924853539838\n",
      "CPU times: user 50min 2s, sys: 33.1 s, total: 50min 35s\n",
      "Wall time: 14min\n"
     ]
    },
    {
     "data": {
      "image/png": "[encoded data removed]",
      "text/plain": [
       "<Figure size 432x288 with 1 Axes>"
      ]
     },
     "metadata": {
      "needs_background": "light"
     },
     "output_type": "display_data"
    }
   ],
   "source": [
    "%%time\n",
    "\n",
    "clf = RandomForestClassifier(n_estimators=100,n_jobs=-1, oob_score=True,bootstrap=True,random_state=42)\n",
    "evaluate(clf,X_train_, X_test_, y_train, y_test)"
   ]
  },
  {
   "cell_type": "code",
   "execution_count": 41,
   "id": "likely-dimension",
   "metadata": {},
   "outputs": [
    {
     "name": "stdout",
     "output_type": "stream",
     "text": [
      "              precision    recall  f1-score   support\n",
      "\n",
      "           0       0.99      1.00      0.99    896587\n",
      "           1       0.60      0.24      0.35     10487\n",
      "\n",
      "    accuracy                           0.99    907074\n",
      "   macro avg       0.80      0.62      0.67    907074\n",
      "weighted avg       0.99      0.99      0.99    907074\n",
      "\n"
     ]
    },
    {
     "data": {
      "text/plain": [
       "array([[894900,   1687],\n",
       "       [  7938,   2549]])"
      ]
     },
     "execution_count": 41,
     "metadata": {},
     "output_type": "execute_result"
    }
   ],
   "source": [
    "print(classification_report(y_test,clf.predict(X_test_)))\n",
    "clrf_cm = confusion_matrix(y_test,clf.predict(X_test_))\n",
    "clrf_cm"
   ]
  },
  {
   "cell_type": "markdown",
   "id": "sunrise-level",
   "metadata": {},
   "source": [
    "### Clasificador final con optimización de hiperparámetros"
   ]
  },
  {
   "cell_type": "markdown",
   "id": "infinite-medicaid",
   "metadata": {},
   "source": [
    "Dados los resultados, nos quedamos con el top 9 de los atributos según su importancia:"
   ]
  },
  {
   "cell_type": "code",
   "execution_count": null,
   "id": "grave-memory",
   "metadata": {},
   "outputs": [],
   "source": [
    "X_train_final=pd.DataFrame(X_train_transf, columns=features_names)\n",
    "X_test_final=pd.DataFrame(X_test_transf, columns=features_names)\n",
    "drop_features = ['x0_bing','x0_cantabrialabs.es','x0_facebook','x0_other sources','x0_vogue',\\\n",
    "                 'x0_yahoo','x0_youtube','x0_IGShopping','x0_facebook ads','x0_facebook feed',\\\n",
    "                 'x0_facebook trafico','x0_tablet','x0_Macintosh','x0_other OS',\\\n",
    "                'x0_instagram','x0_referral','x0_sendinblue', 'x0_email','x0_Windows',\\\n",
    "                'x0_iOS','ga:daysSinceLastSession','x0_(direct)','x0_mobile',\\\n",
    "                'Returning_Visitor','x0_desktop','x0_cpc', 'x0_organic', 'x0_Android',\\\n",
    "                'dayofweek_sin','dayofweek_cos', 'hour_sin', 'hour_cos',\\\n",
    "                'x0_google','ga:sessionCount']\n",
    "X_train_.drop(drop_features, axis=1, inplace=True)\n",
    "X_test_.drop(drop_features, axis=1, inplace=True)\n",
    "print(len(drop_features))\n",
    "print(X_train_.shape)\n",
    "print(X_test_.shape)\n",
    "X_train_.columns"
   ]
  },
  {
   "cell_type": "code",
   "execution_count": null,
   "id": "introductory-secretariat",
   "metadata": {},
   "outputs": [],
   "source": [
    "%%time\n",
    "\n",
    "param_grid = {'n_estimators': [50,100,200],\n",
    "              'max_depth'   : [None, 5, 10, 20],\n",
    "              'criterion'   : ['gini', 'entropy']\n",
    "             }\n",
    "\n",
    "grid=GridSearchCV(estimator=RandomForestClassifier(random_state=42),\n",
    "                 param_grid=param_grid,\n",
    "                 scoring='recall',\n",
    "                 n_jobs=multiprocessing.cpu_count()-1,\n",
    "                 refit=True,\n",
    "                 verbose=2,\n",
    "                 return_train_score=True)\n",
    "\n",
    "grid.fit(X_train_final,y_train)"
   ]
  },
  {
   "cell_type": "code",
   "execution_count": null,
   "id": "established-cleaners",
   "metadata": {},
   "outputs": [],
   "source": [
    "grid.best_params_"
   ]
  },
  {
   "cell_type": "code",
   "execution_count": null,
   "id": "needed-salad",
   "metadata": {},
   "outputs": [],
   "source": [
    "grid.best_score_"
   ]
  },
  {
   "cell_type": "code",
   "execution_count": null,
   "id": "korean-continuity",
   "metadata": {},
   "outputs": [],
   "source": [
    "grid.best_estimator_"
   ]
  },
  {
   "cell_type": "code",
   "execution_count": null,
   "id": "bigger-radical",
   "metadata": {},
   "outputs": [],
   "source": [
    "pd.concat([pd.DataFrame(grid.cv_results_[\"params\"]),pd.DataFrame(grid.cv_results_[\"mean_test_score\"], columns=[\"Recall\"])],axis=1)"
   ]
  },
  {
   "cell_type": "code",
   "execution_count": null,
   "id": "naughty-grammar",
   "metadata": {},
   "outputs": [],
   "source": [
    "pickle.dump(grid,open(\"FINALCLF_featsel_optimization.pickle\",\"wb\"))"
   ]
  },
  {
   "cell_type": "code",
   "execution_count": null,
   "id": "vertical-gateway",
   "metadata": {},
   "outputs": [],
   "source": [
    "predictions = grid.predict(X_test_final)\n",
    "probabilities = grid.predict_proba(X_test_final)\n",
    "\n",
    "print(\"TRAINING SCORE: \" + str(grid.score(X_train_final,y_train)))\n",
    "print(\"ACCURACY: \" + str(accuracy_score(y_test, predictions)))\n",
    "print(\"PRECISION: \" + str(precision_score(y_test, predictions)))\n",
    "print(\"RECALL: \" + str(recall_score(y_test, predictions)))\n",
    "print(\"F1 SCORE: \" + str(f1_score(y_test, predictions)))\n",
    "print(\"AUC: \" + str(roc_auc_score(y_test,probabilities[:, 1])))\n",
    "\n",
    "tpr, fpr, thresolds = roc_curve(y_test, probabilities[:, 1])\n",
    "plt.plot(tpr, fpr)\n",
    "plt.xlabel('fpr')\n",
    "plt.ylabel('tpr')"
   ]
  },
  {
   "cell_type": "code",
   "execution_count": null,
   "id": "twelve-powell",
   "metadata": {},
   "outputs": [],
   "source": [
    "print(classification_report(y_test,grid.predict(X_test_final)))\n",
    "clrf_cm = confusion_matrix(y_test,grid.predict(X_test_final))\n",
    "clrf_cm"
   ]
  },
  {
   "cell_type": "code",
   "execution_count": null,
   "id": "flying-idaho",
   "metadata": {},
   "outputs": [],
   "source": [
    "from sklearn.metrics import precision_recall_curve\n",
    "from sklearn.metrics import f1_score\n",
    "from sklearn.metrics import auc\n",
    "\n",
    "precision, recall, _ = precision_recall_curve(y_test, probabilities[:, 1])\n",
    "f1, auc = f1_score(y_test, predictions), auc(recall, precision)\n",
    "# summarize scores\n",
    "print('f1=%.3f auc=%.3f' % (f1, auc))\n",
    "# plot the precision-recall curves\n",
    "no_skill = len(y_test[y_test==1]) / len(y_test)\n",
    "plt.plot([0, 1], [no_skill, no_skill], linestyle='--', label='No Skill')\n",
    "plt.plot(recall, precision, marker='.', label='Classifier')\n",
    "# axis labels\n",
    "plt.xlabel('Recall')\n",
    "plt.ylabel('Precision')\n",
    "# show the legend\n",
    "plt.legend()\n",
    "# show the plot\n",
    "plt.show()"
   ]
  }
 ],
 "metadata": {
  "kernelspec": {
   "display_name": "Python 3",
   "language": "python",
   "name": "python3"
  },
  "language_info": {
   "codemirror_mode": {
    "name": "ipython",
    "version": 3
   },
   "file_extension": ".py",
   "mimetype": "text/x-python",
   "name": "python",
   "nbconvert_exporter": "python",
   "pygments_lexer": "ipython3",
   "version": "3.7.10"
  },
  "toc": {
   "base_numbering": 1,
   "nav_menu": {},
   "number_sections": true,
   "sideBar": true,
   "skip_h1_title": false,
   "title_cell": "Table of Contents",
   "title_sidebar": "Contents",
   "toc_cell": true,
   "toc_position": {
    "height": "calc(100% - 180px)",
    "left": "10px",
    "top": "150px",
    "width": "352px"
   },
   "toc_section_display": true,
   "toc_window_display": true
  }
 },
 "nbformat": 4,
 "nbformat_minor": 5
}
